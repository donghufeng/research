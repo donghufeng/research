{
 "cells": [
  {
   "source": [
    "# 论文#48:使用mindquantum复现量子奇异值变换框架下的Grover搜索算法"
   ],
   "cell_type": "markdown",
   "metadata": {}
  },
  {
   "source": [
    "原论文题目：John M. Martyn, Zane M. Rossi, Andrew K. Tan, Isaac L. Chuang, \"A Grand Unification of Quantum Algorithms\"\n",
    "\n",
    "原论文链接：https://arxiv.org/abs/2105.02859\n",
    "\n",
    "作者：张芸睿，清华大学自动化系自01班\n",
    "\n",
    "邮箱：ZhangYR_linda@163.com\n",
    "\n"
   ],
   "cell_type": "markdown",
   "metadata": {}
  },
  {
   "source": [
    "## 1. 项目介绍<a id='intro'></a>\n",
    "\n",
    "### 1.1 经典Grover算法及其局限性\n",
    "\n",
    "Grover搜索算法是最基础、最著名的量子算法之一，能够将搜索问题的复杂度从经典的$O(N)$提升到$O(\\sqrt(N))$。然而，Grover算法也有着局限性。第一，搜索列表中的每一个元素都对应一个不同的Oracle，也就对应着一个不同的线路，当比特数增加时会影响复杂度；第二，当搜索从任意点开始时，可能出现旋转时错过目标态的情况。\n",
    "\n",
    "### 1.2 量子信号处理(Quantum Signal Processing, QSP)\n",
    "\n",
    "\n",
    "$\n",
    "R_{\\phi_{d-1}}(\\theta) ... R_{\\phi_1}(\\theta) R_{\\phi_0}(\\theta) = \n",
    "\\begin{bmatrix}\n",
    "P(cos \\theta) & . \\\\\n",
    ". & . \\\\\n",
    "\\end{bmatrix}$\n",
    "\n",
    "这里，$\\phi_i$为从x轴正向开始，在x-y平面内旋转的角度，$\\theta$为绕x轴旋转的角度，$d$为P的幂次。\n",
    "\n",
    "QSP定理指出，当多项式$P(\\theta)$满足一定条件时，存在一系列$\\phi_i$满足以上等式。\n",
    "\n",
    "### 1.3 量子奇异值变换（Quantum Singular Value Transformation, QSVT)\n",
    "\n",
    "QSVT能够用矩阵的奇异值来模拟矩阵，因此能够用量子线路来实现满足一些限制条件的函数f(x)，其中f(x)对应的矩阵不一定是酉的。QSVT算法的一般流程如下：\n",
    "\n",
    "* 构造酉矩阵$U_A$，使矩阵A（不一定为酉）位于$U_A$的左上角，即：\n",
    "\n",
    "\n",
    "$U_A = \n",
    "\\begin{bmatrix}\n",
    "A & . & .  \\\\\n",
    ". & . & .  \\\\\n",
    ". & . & .  \\\\\n",
    "\\end{bmatrix}\n",
    "$\n",
    "\n",
    "$U_A=\n",
    "\\Pi_l A \\Pi_r$\n",
    "\n",
    "* 选取近似f(x)的、满足QSP限制条件的多项式函数P(x)，将其作用在$U_A$上。我们将这个Oracle称为$U_A'$，即：\n",
    "\n",
    "$U_A' =\n",
    "\\begin{bmatrix}\n",
    "P(A) & . & .  \\\\\n",
    ". & . & .  \\\\\n",
    ". & . & .  \\\\\n",
    "\\end{bmatrix}$\n",
    "\n",
    "* 事实上，以上过程本质上是对矩阵A的奇异值的操作，设$A = W\\Sigma V^\\dagger$， 则\n",
    "\n",
    "$U_A' =\n",
    "\\begin{bmatrix}\n",
    "W P(\\Sigma) V^\\dagger & . & .  \\\\\n",
    ". & . & .  \\\\\n",
    ". & . & .  \\\\\n",
    "\\end{bmatrix}$\n",
    "\n",
    "总结地说，一般的QSVT线路如下：\n",
    "\n",
    "（插图）\n",
    "\n",
    "来源：[Isaac Chuang - Grand Unification of Quantum Algorithms](https://www.youtube.com/watch?v=GFRojXdrVXI&t=2083s)\n"
   ],
   "cell_type": "markdown",
   "metadata": {}
  },
  {
   "source": [
    "## 2. QSVT下的搜索算法\n",
    "\n",
    "在搜索算法中，$ A = \\langle s|t\\rangle$ 是一个常数，，我们希望找到函数f(x)和多项式P(x)，使得\n",
    "\n",
    "$f(A) \\approx P(A) \\rightarrow 1$\n",
    "\n",
    "我们的任务可以分解为以下步骤：\n",
    "\n",
    "* 找到满足QSP条件的f(x)，使得在目标x下f(x)为1\n",
    "\n",
    "* 用切比雪夫多项式近似f(x)，得到多项式的系数\n",
    "\n",
    "* 由这些系数计算QSP公式中的相位$\\varphi_i$\n",
    "\n",
    "* 构造酉矩阵$U_A$和对应的投影矩阵$\\Pi_l$ 和 $\\Pi_r$\n",
    "\n",
    "* 建立能够在找到marked element时从$|0\\rangle$翻转到$|1\\rangle$的量子线路"
   ],
   "cell_type": "markdown",
   "metadata": {}
  },
  {
   "source": [
    "## 3. 建立线路\n",
    "\n",
    "引入包："
   ],
   "cell_type": "markdown",
   "metadata": {}
  },
  {
   "cell_type": "code",
   "execution_count": 2,
   "id": "17165db2",
   "metadata": {},
   "outputs": [],
   "source": [
    "# Importing the necessary libraries\n",
    "import os\n",
    "os.environ['OMP_NUM_THREADS']='1'\n",
    "import numpy as np\n",
    "from numpy import pi\n",
    "import matplotlib.pyplot as plt\n",
    "\n",
    "#Importing mindquantum libraries\n",
    "# pylint: disable=W0104\n",
    "from mindquantum import *\n",
    "from mindquantum.simulator import Simulator\n"
   ]
  },
  {
   "source": [
    "首先探究两个量子比特的情况。由于需要一个用于编码的辅助比特（也是用于反转的signal qubit）和一个用于旋转的辅助比特，我们共需要四个量子比特。（事实上，无论搜索对象是几个量子比特，都只需要两个辅助比特）"
   ],
   "cell_type": "markdown",
   "metadata": {}
  },
  {
   "cell_type": "code",
   "execution_count": 4,
   "id": "d05d5375",
   "metadata": {},
   "outputs": [],
   "source": [
    "#we have 2 system qubits\n",
    "system_qubits = 2 \n",
    "#following the argument above we need 2 additional qubits\n",
    "nqubits = system_qubits + 2\n",
    "sim = Simulator('projectq', nqubits)  \n",
    "circuit = Circuit()\n"
   ]
  },
  {
   "source": [
    "两个系统比特的情况下，叠加态$|s\\rangle = \\frac{1}{\\sqrt{2^2}}(|00\\rangle + |01\\rangle+ |10\\rangle + |11\\rangle)$。注意到由于$|s\\rangle$中所有态的概率幅是相等的，无论被标记的元素是哪个，都有$A = c = \\langle s|t\\rangle = \\frac{1}{2}$。在$2^n$维的问题中，$A = c = \\langle s|t\\rangle = \\frac{1}{\\sqrt{2^n}}$。\n",
    "\n",
    "因此，我们希望找到$f(x)$，使得$f(c) = f(\\frac{1}{2}) \\rightarrow \\pm 1$。对于$x = \\frac{1}{2}$的情况，第三切比雪夫多项式$T_3(x)$恰好满足这一条件：\n"
   ],
   "cell_type": "markdown",
   "metadata": {}
  },
  {
   "cell_type": "code",
   "execution_count": 6,
   "id": "23fac282",
   "metadata": {},
   "outputs": [
    {
     "output_type": "execute_result",
     "data": {
      "text/plain": "[<matplotlib.lines.Line2D at 0x7fac1723c050>]"
     },
     "metadata": {},
     "execution_count": 6
    },
    {
     "output_type": "display_data",
     "data": {
      "text/plain": "<Figure size 432x288 with 1 Axes>",
      "image/svg+xml": "<?xml version=\"1.0\" encoding=\"utf-8\" standalone=\"no\"?>\n<!DOCTYPE svg PUBLIC \"-//W3C//DTD SVG 1.1//EN\"\n  \"http://www.w3.org/Graphics/SVG/1.1/DTD/svg11.dtd\">\n<svg xmlns:xlink=\"http://www.w3.org/1999/xlink\" width=\"386.845312pt\" height=\"248.518125pt\" viewBox=\"0 0 386.845312 248.518125\" xmlns=\"http://www.w3.org/2000/svg\" version=\"1.1\">\n <metadata>\n  <rdf:RDF xmlns:dc=\"http://purl.org/dc/elements/1.1/\" xmlns:cc=\"http://creativecommons.org/ns#\" xmlns:rdf=\"http://www.w3.org/1999/02/22-rdf-syntax-ns#\">\n   <cc:Work>\n    <dc:type rdf:resource=\"http://purl.org/dc/dcmitype/StillImage\"/>\n    <dc:date>2022-02-15T06:35:16.605977</dc:date>\n    <dc:format>image/svg+xml</dc:format>\n    <dc:creator>\n     <cc:Agent>\n      <dc:title>Matplotlib v3.5.0, https://matplotlib.org/</dc:title>\n     </cc:Agent>\n    </dc:creator>\n   </cc:Work>\n  </rdf:RDF>\n </metadata>\n <defs>\n  <style type=\"text/css\">*{stroke-linejoin: round; stroke-linecap: butt}</style>\n </defs>\n <g id=\"figure_1\">\n  <g id=\"patch_1\">\n   <path d=\"M 0 248.518125 \nL 386.845312 248.518125 \nL 386.845312 0 \nL 0 0 \nL 0 248.518125 \nz\n\" style=\"fill: none\"/>\n  </g>\n  <g id=\"axes_1\">\n   <g id=\"patch_2\">\n    <path d=\"M 44.845313 224.64 \nL 379.645313 224.64 \nL 379.645313 7.2 \nL 44.845313 7.2 \nz\n\" style=\"fill: #ffffff\"/>\n   </g>\n   <g id=\"matplotlib.axis_1\">\n    <g id=\"xtick_1\">\n     <g id=\"line2d_1\">\n      <defs>\n       <path id=\"mafd39952b4\" d=\"M 0 0 \nL 0 3.5 \n\" style=\"stroke: #000000; stroke-width: 0.8\"/>\n      </defs>\n      <g>\n       <use xlink:href=\"#mafd39952b4\" x=\"60.063494\" y=\"224.64\" style=\"stroke: #000000; stroke-width: 0.8\"/>\n      </g>\n     </g>\n     <g id=\"text_1\">\n      <!-- −1.00 -->\n      <g transform=\"translate(44.740838 239.238437)scale(0.1 -0.1)\">\n       <defs>\n        <path id=\"DejaVuSans-2212\" d=\"M 678 2272 \nL 4684 2272 \nL 4684 1741 \nL 678 1741 \nL 678 2272 \nz\n\" transform=\"scale(0.015625)\"/>\n        <path id=\"DejaVuSans-31\" d=\"M 794 531 \nL 1825 531 \nL 1825 4091 \nL 703 3866 \nL 703 4441 \nL 1819 4666 \nL 2450 4666 \nL 2450 531 \nL 3481 531 \nL 3481 0 \nL 794 0 \nL 794 531 \nz\n\" transform=\"scale(0.015625)\"/>\n        <path id=\"DejaVuSans-2e\" d=\"M 684 794 \nL 1344 794 \nL 1344 0 \nL 684 0 \nL 684 794 \nz\n\" transform=\"scale(0.015625)\"/>\n        <path id=\"DejaVuSans-30\" d=\"M 2034 4250 \nQ 1547 4250 1301 3770 \nQ 1056 3291 1056 2328 \nQ 1056 1369 1301 889 \nQ 1547 409 2034 409 \nQ 2525 409 2770 889 \nQ 3016 1369 3016 2328 \nQ 3016 3291 2770 3770 \nQ 2525 4250 2034 4250 \nz\nM 2034 4750 \nQ 2819 4750 3233 4129 \nQ 3647 3509 3647 2328 \nQ 3647 1150 3233 529 \nQ 2819 -91 2034 -91 \nQ 1250 -91 836 529 \nQ 422 1150 422 2328 \nQ 422 3509 836 4129 \nQ 1250 4750 2034 4750 \nz\n\" transform=\"scale(0.015625)\"/>\n       </defs>\n       <use xlink:href=\"#DejaVuSans-2212\"/>\n       <use xlink:href=\"#DejaVuSans-31\" x=\"83.789062\"/>\n       <use xlink:href=\"#DejaVuSans-2e\" x=\"147.412109\"/>\n       <use xlink:href=\"#DejaVuSans-30\" x=\"179.199219\"/>\n       <use xlink:href=\"#DejaVuSans-30\" x=\"242.822266\"/>\n      </g>\n     </g>\n    </g>\n    <g id=\"xtick_2\">\n     <g id=\"line2d_2\">\n      <g>\n       <use xlink:href=\"#mafd39952b4\" x=\"98.108949\" y=\"224.64\" style=\"stroke: #000000; stroke-width: 0.8\"/>\n      </g>\n     </g>\n     <g id=\"text_2\">\n      <!-- −0.75 -->\n      <g transform=\"translate(82.786293 239.238437)scale(0.1 -0.1)\">\n       <defs>\n        <path id=\"DejaVuSans-37\" d=\"M 525 4666 \nL 3525 4666 \nL 3525 4397 \nL 1831 0 \nL 1172 0 \nL 2766 4134 \nL 525 4134 \nL 525 4666 \nz\n\" transform=\"scale(0.015625)\"/>\n        <path id=\"DejaVuSans-35\" d=\"M 691 4666 \nL 3169 4666 \nL 3169 4134 \nL 1269 4134 \nL 1269 2991 \nQ 1406 3038 1543 3061 \nQ 1681 3084 1819 3084 \nQ 2600 3084 3056 2656 \nQ 3513 2228 3513 1497 \nQ 3513 744 3044 326 \nQ 2575 -91 1722 -91 \nQ 1428 -91 1123 -41 \nQ 819 9 494 109 \nL 494 744 \nQ 775 591 1075 516 \nQ 1375 441 1709 441 \nQ 2250 441 2565 725 \nQ 2881 1009 2881 1497 \nQ 2881 1984 2565 2268 \nQ 2250 2553 1709 2553 \nQ 1456 2553 1204 2497 \nQ 953 2441 691 2322 \nL 691 4666 \nz\n\" transform=\"scale(0.015625)\"/>\n       </defs>\n       <use xlink:href=\"#DejaVuSans-2212\"/>\n       <use xlink:href=\"#DejaVuSans-30\" x=\"83.789062\"/>\n       <use xlink:href=\"#DejaVuSans-2e\" x=\"147.412109\"/>\n       <use xlink:href=\"#DejaVuSans-37\" x=\"179.199219\"/>\n       <use xlink:href=\"#DejaVuSans-35\" x=\"242.822266\"/>\n      </g>\n     </g>\n    </g>\n    <g id=\"xtick_3\">\n     <g id=\"line2d_3\">\n      <g>\n       <use xlink:href=\"#mafd39952b4\" x=\"136.154403\" y=\"224.64\" style=\"stroke: #000000; stroke-width: 0.8\"/>\n      </g>\n     </g>\n     <g id=\"text_3\">\n      <!-- −0.50 -->\n      <g transform=\"translate(120.831747 239.238437)scale(0.1 -0.1)\">\n       <use xlink:href=\"#DejaVuSans-2212\"/>\n       <use xlink:href=\"#DejaVuSans-30\" x=\"83.789062\"/>\n       <use xlink:href=\"#DejaVuSans-2e\" x=\"147.412109\"/>\n       <use xlink:href=\"#DejaVuSans-35\" x=\"179.199219\"/>\n       <use xlink:href=\"#DejaVuSans-30\" x=\"242.822266\"/>\n      </g>\n     </g>\n    </g>\n    <g id=\"xtick_4\">\n     <g id=\"line2d_4\">\n      <g>\n       <use xlink:href=\"#mafd39952b4\" x=\"174.199858\" y=\"224.64\" style=\"stroke: #000000; stroke-width: 0.8\"/>\n      </g>\n     </g>\n     <g id=\"text_4\">\n      <!-- −0.25 -->\n      <g transform=\"translate(158.877202 239.238437)scale(0.1 -0.1)\">\n       <defs>\n        <path id=\"DejaVuSans-32\" d=\"M 1228 531 \nL 3431 531 \nL 3431 0 \nL 469 0 \nL 469 531 \nQ 828 903 1448 1529 \nQ 2069 2156 2228 2338 \nQ 2531 2678 2651 2914 \nQ 2772 3150 2772 3378 \nQ 2772 3750 2511 3984 \nQ 2250 4219 1831 4219 \nQ 1534 4219 1204 4116 \nQ 875 4013 500 3803 \nL 500 4441 \nQ 881 4594 1212 4672 \nQ 1544 4750 1819 4750 \nQ 2544 4750 2975 4387 \nQ 3406 4025 3406 3419 \nQ 3406 3131 3298 2873 \nQ 3191 2616 2906 2266 \nQ 2828 2175 2409 1742 \nQ 1991 1309 1228 531 \nz\n\" transform=\"scale(0.015625)\"/>\n       </defs>\n       <use xlink:href=\"#DejaVuSans-2212\"/>\n       <use xlink:href=\"#DejaVuSans-30\" x=\"83.789062\"/>\n       <use xlink:href=\"#DejaVuSans-2e\" x=\"147.412109\"/>\n       <use xlink:href=\"#DejaVuSans-32\" x=\"179.199219\"/>\n       <use xlink:href=\"#DejaVuSans-35\" x=\"242.822266\"/>\n      </g>\n     </g>\n    </g>\n    <g id=\"xtick_5\">\n     <g id=\"line2d_5\">\n      <g>\n       <use xlink:href=\"#mafd39952b4\" x=\"212.245313\" y=\"224.64\" style=\"stroke: #000000; stroke-width: 0.8\"/>\n      </g>\n     </g>\n     <g id=\"text_5\">\n      <!-- 0.00 -->\n      <g transform=\"translate(201.1125 239.238437)scale(0.1 -0.1)\">\n       <use xlink:href=\"#DejaVuSans-30\"/>\n       <use xlink:href=\"#DejaVuSans-2e\" x=\"63.623047\"/>\n       <use xlink:href=\"#DejaVuSans-30\" x=\"95.410156\"/>\n       <use xlink:href=\"#DejaVuSans-30\" x=\"159.033203\"/>\n      </g>\n     </g>\n    </g>\n    <g id=\"xtick_6\">\n     <g id=\"line2d_6\">\n      <g>\n       <use xlink:href=\"#mafd39952b4\" x=\"250.290767\" y=\"224.64\" style=\"stroke: #000000; stroke-width: 0.8\"/>\n      </g>\n     </g>\n     <g id=\"text_6\">\n      <!-- 0.25 -->\n      <g transform=\"translate(239.157955 239.238437)scale(0.1 -0.1)\">\n       <use xlink:href=\"#DejaVuSans-30\"/>\n       <use xlink:href=\"#DejaVuSans-2e\" x=\"63.623047\"/>\n       <use xlink:href=\"#DejaVuSans-32\" x=\"95.410156\"/>\n       <use xlink:href=\"#DejaVuSans-35\" x=\"159.033203\"/>\n      </g>\n     </g>\n    </g>\n    <g id=\"xtick_7\">\n     <g id=\"line2d_7\">\n      <g>\n       <use xlink:href=\"#mafd39952b4\" x=\"288.336222\" y=\"224.64\" style=\"stroke: #000000; stroke-width: 0.8\"/>\n      </g>\n     </g>\n     <g id=\"text_7\">\n      <!-- 0.50 -->\n      <g transform=\"translate(277.203409 239.238437)scale(0.1 -0.1)\">\n       <use xlink:href=\"#DejaVuSans-30\"/>\n       <use xlink:href=\"#DejaVuSans-2e\" x=\"63.623047\"/>\n       <use xlink:href=\"#DejaVuSans-35\" x=\"95.410156\"/>\n       <use xlink:href=\"#DejaVuSans-30\" x=\"159.033203\"/>\n      </g>\n     </g>\n    </g>\n    <g id=\"xtick_8\">\n     <g id=\"line2d_8\">\n      <g>\n       <use xlink:href=\"#mafd39952b4\" x=\"326.381676\" y=\"224.64\" style=\"stroke: #000000; stroke-width: 0.8\"/>\n      </g>\n     </g>\n     <g id=\"text_8\">\n      <!-- 0.75 -->\n      <g transform=\"translate(315.248864 239.238437)scale(0.1 -0.1)\">\n       <use xlink:href=\"#DejaVuSans-30\"/>\n       <use xlink:href=\"#DejaVuSans-2e\" x=\"63.623047\"/>\n       <use xlink:href=\"#DejaVuSans-37\" x=\"95.410156\"/>\n       <use xlink:href=\"#DejaVuSans-35\" x=\"159.033203\"/>\n      </g>\n     </g>\n    </g>\n    <g id=\"xtick_9\">\n     <g id=\"line2d_9\">\n      <g>\n       <use xlink:href=\"#mafd39952b4\" x=\"364.427131\" y=\"224.64\" style=\"stroke: #000000; stroke-width: 0.8\"/>\n      </g>\n     </g>\n     <g id=\"text_9\">\n      <!-- 1.00 -->\n      <g transform=\"translate(353.294318 239.238437)scale(0.1 -0.1)\">\n       <use xlink:href=\"#DejaVuSans-31\"/>\n       <use xlink:href=\"#DejaVuSans-2e\" x=\"63.623047\"/>\n       <use xlink:href=\"#DejaVuSans-30\" x=\"95.410156\"/>\n       <use xlink:href=\"#DejaVuSans-30\" x=\"159.033203\"/>\n      </g>\n     </g>\n    </g>\n   </g>\n   <g id=\"matplotlib.axis_2\">\n    <g id=\"ytick_1\">\n     <g id=\"line2d_10\">\n      <defs>\n       <path id=\"md74254faa4\" d=\"M 0 0 \nL -3.5 0 \n\" style=\"stroke: #000000; stroke-width: 0.8\"/>\n      </defs>\n      <g>\n       <use xlink:href=\"#md74254faa4\" x=\"44.845313\" y=\"214.756364\" style=\"stroke: #000000; stroke-width: 0.8\"/>\n      </g>\n     </g>\n     <g id=\"text_10\">\n      <!-- −1.00 -->\n      <g transform=\"translate(7.2 218.555582)scale(0.1 -0.1)\">\n       <use xlink:href=\"#DejaVuSans-2212\"/>\n       <use xlink:href=\"#DejaVuSans-31\" x=\"83.789062\"/>\n       <use xlink:href=\"#DejaVuSans-2e\" x=\"147.412109\"/>\n       <use xlink:href=\"#DejaVuSans-30\" x=\"179.199219\"/>\n       <use xlink:href=\"#DejaVuSans-30\" x=\"242.822266\"/>\n      </g>\n     </g>\n    </g>\n    <g id=\"ytick_2\">\n     <g id=\"line2d_11\">\n      <g>\n       <use xlink:href=\"#md74254faa4\" x=\"44.845313\" y=\"190.047273\" style=\"stroke: #000000; stroke-width: 0.8\"/>\n      </g>\n     </g>\n     <g id=\"text_11\">\n      <!-- −0.75 -->\n      <g transform=\"translate(7.2 193.846491)scale(0.1 -0.1)\">\n       <use xlink:href=\"#DejaVuSans-2212\"/>\n       <use xlink:href=\"#DejaVuSans-30\" x=\"83.789062\"/>\n       <use xlink:href=\"#DejaVuSans-2e\" x=\"147.412109\"/>\n       <use xlink:href=\"#DejaVuSans-37\" x=\"179.199219\"/>\n       <use xlink:href=\"#DejaVuSans-35\" x=\"242.822266\"/>\n      </g>\n     </g>\n    </g>\n    <g id=\"ytick_3\">\n     <g id=\"line2d_12\">\n      <g>\n       <use xlink:href=\"#md74254faa4\" x=\"44.845313\" y=\"165.338182\" style=\"stroke: #000000; stroke-width: 0.8\"/>\n      </g>\n     </g>\n     <g id=\"text_12\">\n      <!-- −0.50 -->\n      <g transform=\"translate(7.2 169.137401)scale(0.1 -0.1)\">\n       <use xlink:href=\"#DejaVuSans-2212\"/>\n       <use xlink:href=\"#DejaVuSans-30\" x=\"83.789062\"/>\n       <use xlink:href=\"#DejaVuSans-2e\" x=\"147.412109\"/>\n       <use xlink:href=\"#DejaVuSans-35\" x=\"179.199219\"/>\n       <use xlink:href=\"#DejaVuSans-30\" x=\"242.822266\"/>\n      </g>\n     </g>\n    </g>\n    <g id=\"ytick_4\">\n     <g id=\"line2d_13\">\n      <g>\n       <use xlink:href=\"#md74254faa4\" x=\"44.845313\" y=\"140.629091\" style=\"stroke: #000000; stroke-width: 0.8\"/>\n      </g>\n     </g>\n     <g id=\"text_13\">\n      <!-- −0.25 -->\n      <g transform=\"translate(7.2 144.42831)scale(0.1 -0.1)\">\n       <use xlink:href=\"#DejaVuSans-2212\"/>\n       <use xlink:href=\"#DejaVuSans-30\" x=\"83.789062\"/>\n       <use xlink:href=\"#DejaVuSans-2e\" x=\"147.412109\"/>\n       <use xlink:href=\"#DejaVuSans-32\" x=\"179.199219\"/>\n       <use xlink:href=\"#DejaVuSans-35\" x=\"242.822266\"/>\n      </g>\n     </g>\n    </g>\n    <g id=\"ytick_5\">\n     <g id=\"line2d_14\">\n      <g>\n       <use xlink:href=\"#md74254faa4\" x=\"44.845313\" y=\"115.92\" style=\"stroke: #000000; stroke-width: 0.8\"/>\n      </g>\n     </g>\n     <g id=\"text_14\">\n      <!-- 0.00 -->\n      <g transform=\"translate(15.579688 119.719219)scale(0.1 -0.1)\">\n       <use xlink:href=\"#DejaVuSans-30\"/>\n       <use xlink:href=\"#DejaVuSans-2e\" x=\"63.623047\"/>\n       <use xlink:href=\"#DejaVuSans-30\" x=\"95.410156\"/>\n       <use xlink:href=\"#DejaVuSans-30\" x=\"159.033203\"/>\n      </g>\n     </g>\n    </g>\n    <g id=\"ytick_6\">\n     <g id=\"line2d_15\">\n      <g>\n       <use xlink:href=\"#md74254faa4\" x=\"44.845313\" y=\"91.210909\" style=\"stroke: #000000; stroke-width: 0.8\"/>\n      </g>\n     </g>\n     <g id=\"text_15\">\n      <!-- 0.25 -->\n      <g transform=\"translate(15.579688 95.010128)scale(0.1 -0.1)\">\n       <use xlink:href=\"#DejaVuSans-30\"/>\n       <use xlink:href=\"#DejaVuSans-2e\" x=\"63.623047\"/>\n       <use xlink:href=\"#DejaVuSans-32\" x=\"95.410156\"/>\n       <use xlink:href=\"#DejaVuSans-35\" x=\"159.033203\"/>\n      </g>\n     </g>\n    </g>\n    <g id=\"ytick_7\">\n     <g id=\"line2d_16\">\n      <g>\n       <use xlink:href=\"#md74254faa4\" x=\"44.845313\" y=\"66.501818\" style=\"stroke: #000000; stroke-width: 0.8\"/>\n      </g>\n     </g>\n     <g id=\"text_16\">\n      <!-- 0.50 -->\n      <g transform=\"translate(15.579688 70.301037)scale(0.1 -0.1)\">\n       <use xlink:href=\"#DejaVuSans-30\"/>\n       <use xlink:href=\"#DejaVuSans-2e\" x=\"63.623047\"/>\n       <use xlink:href=\"#DejaVuSans-35\" x=\"95.410156\"/>\n       <use xlink:href=\"#DejaVuSans-30\" x=\"159.033203\"/>\n      </g>\n     </g>\n    </g>\n    <g id=\"ytick_8\">\n     <g id=\"line2d_17\">\n      <g>\n       <use xlink:href=\"#md74254faa4\" x=\"44.845313\" y=\"41.792727\" style=\"stroke: #000000; stroke-width: 0.8\"/>\n      </g>\n     </g>\n     <g id=\"text_17\">\n      <!-- 0.75 -->\n      <g transform=\"translate(15.579688 45.591946)scale(0.1 -0.1)\">\n       <use xlink:href=\"#DejaVuSans-30\"/>\n       <use xlink:href=\"#DejaVuSans-2e\" x=\"63.623047\"/>\n       <use xlink:href=\"#DejaVuSans-37\" x=\"95.410156\"/>\n       <use xlink:href=\"#DejaVuSans-35\" x=\"159.033203\"/>\n      </g>\n     </g>\n    </g>\n    <g id=\"ytick_9\">\n     <g id=\"line2d_18\">\n      <g>\n       <use xlink:href=\"#md74254faa4\" x=\"44.845313\" y=\"17.083636\" style=\"stroke: #000000; stroke-width: 0.8\"/>\n      </g>\n     </g>\n     <g id=\"text_18\">\n      <!-- 1.00 -->\n      <g transform=\"translate(15.579688 20.882855)scale(0.1 -0.1)\">\n       <use xlink:href=\"#DejaVuSans-31\"/>\n       <use xlink:href=\"#DejaVuSans-2e\" x=\"63.623047\"/>\n       <use xlink:href=\"#DejaVuSans-30\" x=\"95.410156\"/>\n       <use xlink:href=\"#DejaVuSans-30\" x=\"159.033203\"/>\n      </g>\n     </g>\n    </g>\n   </g>\n   <g id=\"line2d_19\">\n    <path d=\"M 60.063494 214.756364 \nL 66.274997 180.398149 \nL 72.4865 149.830444 \nL 78.698003 122.89195 \nL 84.909505 99.42137 \nL 91.121008 79.257404 \nL 97.332511 62.238755 \nL 103.544014 48.204124 \nL 109.755517 36.992213 \nL 115.967019 28.441724 \nL 122.178522 22.391358 \nL 128.390025 18.679817 \nL 134.601528 17.145803 \nL 140.81303 17.628018 \nL 147.024533 19.965163 \nL 153.236036 23.99594 \nL 159.447539 29.559051 \nL 165.659042 36.493197 \nL 171.870544 44.63708 \nL 178.082047 53.829402 \nL 184.29355 63.908864 \nL 190.505053 74.714169 \nL 196.716556 86.084018 \nL 202.928058 97.857112 \nL 209.139561 109.872154 \nL 215.351064 121.967846 \nL 221.562567 133.982888 \nL 227.774069 145.755982 \nL 233.985572 157.125831 \nL 240.197075 167.931136 \nL 246.408578 178.010598 \nL 252.620081 187.20292 \nL 258.831583 195.346803 \nL 265.043086 202.280949 \nL 271.254589 207.84406 \nL 277.466092 211.874837 \nL 283.677595 214.211982 \nL 289.889097 214.694197 \nL 296.1006 213.160183 \nL 302.312103 209.448642 \nL 308.523606 203.398276 \nL 314.735108 194.847787 \nL 320.946611 183.635876 \nL 327.158114 169.601245 \nL 333.369617 152.582596 \nL 339.58112 132.41863 \nL 345.792622 108.94805 \nL 352.004125 82.009556 \nL 358.215628 51.441851 \nL 364.427131 17.083636 \n\" clip-path=\"url(#p501084a501)\" style=\"fill: none; stroke: #1f77b4; stroke-width: 1.5; stroke-linecap: square\"/>\n   </g>\n   <g id=\"patch_3\">\n    <path d=\"M 44.845313 224.64 \nL 44.845313 7.2 \n\" style=\"fill: none; stroke: #000000; stroke-width: 0.8; stroke-linejoin: miter; stroke-linecap: square\"/>\n   </g>\n   <g id=\"patch_4\">\n    <path d=\"M 379.645313 224.64 \nL 379.645313 7.2 \n\" style=\"fill: none; stroke: #000000; stroke-width: 0.8; stroke-linejoin: miter; stroke-linecap: square\"/>\n   </g>\n   <g id=\"patch_5\">\n    <path d=\"M 44.845312 224.64 \nL 379.645313 224.64 \n\" style=\"fill: none; stroke: #000000; stroke-width: 0.8; stroke-linejoin: miter; stroke-linecap: square\"/>\n   </g>\n   <g id=\"patch_6\">\n    <path d=\"M 44.845312 7.2 \nL 379.645313 7.2 \n\" style=\"fill: none; stroke: #000000; stroke-width: 0.8; stroke-linejoin: miter; stroke-linecap: square\"/>\n   </g>\n  </g>\n </g>\n <defs>\n  <clipPath id=\"p501084a501\">\n   <rect x=\"44.845313\" y=\"7.2\" width=\"334.8\" height=\"217.44\"/>\n  </clipPath>\n </defs>\n</svg>\n",
      "image/png": "[encoded data removed]"
     },
     "metadata": {
      "needs_background": "light"
     }
    }
   ],
   "source": [
    "x = np.linspace(-1, 1)\n",
    "test = np.polynomial.Chebyshev((0, 0, 0, 1)) # The 3rd Chebyshev polynomial!\n",
    "y = test(x)\n",
    "plt.plot(x, y)"
   ]
  },
  {
   "source": [
    "而切比雪夫多项式$T_d(x)$对应的QSP公式中的相位为：第一个相位为$(1-d)\\frac{\\pi}{2}$，其他全部为$(1-d)\\frac{\\pi}{2}$。由此，我们可以建立量子线路："
   ],
   "cell_type": "markdown",
   "metadata": {}
  },
  {
   "source": [
    "* 定义左、右投影矩阵，分别命名为p_left和p_right："
   ],
   "cell_type": "markdown",
   "metadata": {}
  },
  {
   "cell_type": "code",
   "execution_count": 8,
   "id": "1cde0565",
   "metadata": {},
   "outputs": [],
   "source": [
    "# Define projectors.\n",
    "# Note that p_left is actually p_right from above because the order\n",
    "# of operations are reversed when equations are turned into circuits\n",
    "# due to how time-flow is defined in circuit structures\n",
    "\n",
    "# In the Qiskit implementation qubit indexes start from 0\n",
    "# and the most significant qubit is the highest index\n",
    "# keeping this in mind e.g for 4 nqubits = {q0,q1,q2,q3}\n",
    "# q0 and q1 are the system qubits\n",
    "# q2 is the signal qubit\n",
    "# q3 is the ancillary rotation qubit\n",
    "# nqubits-1 = 4-1 = 3 below, then corresponds to q3\n",
    "\n",
    "def p_left(q, phi): #right projector\n",
    "    qc = Circuit()\n",
    "    n = q\n",
    "    ctrl_range = list(range(0,n-1))\n",
    "    \n",
    "    for qubit in range(n-1): # Implement a simple multi 0-controlled\n",
    "        qc += X.on(qubit)\n",
    "    qc += X.on(n-1,ctrl_range) # 0-Controlled on all but the last qubits, acts on the last qubit\n",
    "    for qubit in range(n-1):\n",
    "        qc += X.on(qubit)\n",
    "    \n",
    " \n",
    "    qc += RZ(phi).on(n-1)# RZ(phi) on the last qubit\n",
    "    \n",
    "    for qubit in range(n-1): # Reverse the effect of the first multi-control\n",
    "        qc += X.on(qubit)\n",
    "    qc += X.on(n-1,ctrl_range)\n",
    "    for qubit in range(n-1):\n",
    "        qc += X.on(qubit)\n",
    "        \n",
    "    # p_left_gate = UnivMathGate('P_left',qc.matrix())\n",
    "    # return p_left_gate\n",
    "    return qc + BarrierGate(True)\n",
    "\n",
    "\n",
    "def p_right(phi): # Left projector acts just on the signal and the ancillary qubit\n",
    "    qc = Circuit()\n",
    "    qc += X.on(1,0)\n",
    "    qc += RZ(phi).on(1)\n",
    "    qc += X.on(1,0)\n",
    "    \n",
    "    #p_right_gate = UnivMathGate('P_right',qc.matrix())\n",
    "    #return p_right_gate\n",
    "    return qc + BarrierGate(True)\n"
   ]
  },
  {
   "source": [
    "定义U和U逆,分别命名为U和U^†："
   ],
   "cell_type": "markdown",
   "metadata": {}
  },
  {
   "cell_type": "code",
   "execution_count": 10,
   "id": "1ba5bc1e",
   "metadata": {},
   "outputs": [],
   "source": [
    "#Define Oracle and the reverse-gate for \n",
    "#constructing the dagger later\n",
    "\n",
    "def U(q):\n",
    "    qc = Circuit()\n",
    "    n = q + 1\n",
    "    \n",
    "    for qubit in range(n-2):\n",
    "        qc += H.on(qubit)\n",
    "        \n",
    "    qc += X.on(n-2, list(range(0,n-2)))\n",
    "    \n",
    "    #U_gate = UnivMathGate('U',qc.matrix())\n",
    "    #return U_gate\n",
    "    return qc + BarrierGate(True)\n"
   ]
  },
  {
   "source": [
    "* 核心函数qsvt_search(target)如下："
   ],
   "cell_type": "markdown",
   "metadata": {}
  },
  {
   "cell_type": "code",
   "execution_count": 12,
   "id": "d0a5ac84",
   "metadata": {},
   "outputs": [],
   "source": [
    "def qsvt_search(target): # target = marked element, is a bit-string!\n",
    "    \n",
    "    systemqubits = len(target)\n",
    "    nqubits = systemqubits + 2\n",
    "    circuit = Circuit()  \n",
    "\n",
    "    d = (2*systemqubits) - 1\n",
    "\n",
    "    if systemqubits > 6 and systemqubits < 10:\n",
    "        for i in range(1, systemqubits - 6 + 1):\n",
    "            d += 2 * i\n",
    "    \n",
    "    u = U(nqubits-1)\n",
    "    #u_dag = reverse_gate(u)\n",
    "    u_dag = u.hermitian() + BarrierGate(True)\n",
    "    \n",
    "    p_right_range = [nqubits-2, nqubits-1]\n",
    "    u_range = list(range(0, nqubits-1))\n",
    "    p_left_range = list(range(0, nqubits))\n",
    "\n",
    "   \n",
    "    circuit += p_left(nqubits, (1 - d) * pi)\n",
    "    circuit += u\n",
    "\n",
    "    \n",
    "    for i in range((d - 1) // 2):\n",
    "        circuit += apply(p_right(pi), p_right_range)\n",
    "        circuit += u_dag\n",
    "        circuit += p_left(nqubits, pi)\n",
    "        circuit += u\n",
    "\n",
    "    for i in range(len(target)): # The operation for acquiring arbitrary marked element\n",
    "        bts = target [::-1]      # bitstring is reversed to be compatible with the reverse qubit order in Qiskit\n",
    "        if bts[i] == '0':\n",
    "            circuit += X.on(i)\n",
    "\n",
    "    circuit += BarrierGate(True) + UN(Measure(), circuit.n_qubits)\n",
    "    return circuit"
   ]
  },
  {
   "source": [
    "###  3.1 两比特线路"
   ],
   "cell_type": "markdown",
   "metadata": {}
  },
  {
   "source": [
    "标记元素为“10”的两比特线路如下："
   ],
   "cell_type": "markdown",
   "metadata": {}
  },
  {
   "cell_type": "code",
   "execution_count": 14,
   "metadata": {},
   "outputs": [
    {
     "output_type": "display_data",
     "data": {
      "text/plain": "",
      "text/html": "<pre style=\"white-space:pre;overflow-x:auto;line-height:normal;font-family:Menlo,'DejaVu Sans Mono',consolas,'Courier New',monospace\"></pre>\n"
     },
     "metadata": {}
    },
    {
     "output_type": "execute_result",
     "data": {
      "text/plain": "q0: ──X────●───────X───────X────●────X──‖──H────●──‖───────────────────‖‖──●────H──‖──X────●──────X──────X────●────X──‖──H────●──‖──X──‖──M(q0)──\n           │                    │       ‖       │  ‖                   ‖‖  │       ‖       │                  │       ‖       │  ‖     ‖\nq1: ──X────●───────X───────X────●────X──‖──H────●──‖───────────────────‖‖──●────H──‖──X────●──────X──────X────●────X──‖──H────●──‖─────‖──M(q1)──\n           │                    │       ‖       │  ‖                   ‖‖  │       ‖       │                  │       ‖       │  ‖     ‖\nq2: ──X────●───────X───────X────●────X──‖───────X──‖──●─────────────●──‖‖──X───────‖──X────●──────X──────X────●────X──‖───────X──‖─────‖──M(q2)──\n           │                    │       ‖          ‖  │             │  ‖‖          ‖       │                  │       ‖          ‖     ‖\nq3: ───────X────RZ(-2π)─────────X───────‖──────────‖──X────RZ(π)────X──‖‖──────────‖───────X────RZ(π)─────────X───────‖──────────‖─────‖──M(q3)──",
      "text/html": "<pre style=\"white-space: pre;\"><span style=\"color: #000080; text-decoration-color: #000080; font-weight: bold\">q0: ──X────●───────X───────X────●────X──‖──H────●──‖───────────────────‖‖──●────H──‖──X────●──────X──────X────●────X──‖──H────●──‖──X──‖──</span><span style=\"color: #800080; text-decoration-color: #800080; font-weight: bold\">M</span><span style=\"color: #000080; text-decoration-color: #000080; font-weight: bold\">(q0)──</span>\n<span style=\"color: #000080; text-decoration-color: #000080; font-weight: bold\">           │                    │       ‖       │  ‖                   ‖‖  │       ‖       │                  │       ‖       │  ‖     ‖</span>\n<span style=\"color: #000080; text-decoration-color: #000080; font-weight: bold\">q1: ──X────●───────X───────X────●────X──‖──H────●──‖───────────────────‖‖──●────H──‖──X────●──────X──────X────●────X──‖──H────●──‖─────‖──</span><span style=\"color: #800080; text-decoration-color: #800080; font-weight: bold\">M</span><span style=\"color: #000080; text-decoration-color: #000080; font-weight: bold\">(q1)──</span>\n<span style=\"color: #000080; text-decoration-color: #000080; font-weight: bold\">           │                    │       ‖       │  ‖                   ‖‖  │       ‖       │                  │       ‖       │  ‖     ‖</span>\n<span style=\"color: #000080; text-decoration-color: #000080; font-weight: bold\">q2: ──X────●───────X───────X────●────X──‖───────X──‖──●─────────────●──‖‖──X───────‖──X────●──────X──────X────●────X──‖───────X──‖─────‖──</span><span style=\"color: #800080; text-decoration-color: #800080; font-weight: bold\">M</span><span style=\"color: #000080; text-decoration-color: #000080; font-weight: bold\">(q2)──</span>\n<span style=\"color: #000080; text-decoration-color: #000080; font-weight: bold\">           │                    │       ‖          ‖  │             │  ‖‖          ‖       │                  │       ‖          ‖     ‖</span>\n<span style=\"color: #000080; text-decoration-color: #000080; font-weight: bold\">q3: ───────X────</span><span style=\"color: #800080; text-decoration-color: #800080; font-weight: bold\">RZ</span><span style=\"color: #000080; text-decoration-color: #000080; font-weight: bold\">(-2π)─────────X───────‖──────────‖──X────</span><span style=\"color: #800080; text-decoration-color: #800080; font-weight: bold\">RZ</span><span style=\"color: #000080; text-decoration-color: #000080; font-weight: bold\">(π)────X──‖‖──────────‖───────X────</span><span style=\"color: #800080; text-decoration-color: #800080; font-weight: bold\">RZ</span><span style=\"color: #000080; text-decoration-color: #000080; font-weight: bold\">(π)─────────X───────‖──────────‖─────‖──</span><span style=\"color: #800080; text-decoration-color: #800080; font-weight: bold\">M</span><span style=\"color: #000080; text-decoration-color: #000080; font-weight: bold\">(q3)──</span>\n</pre>\n"
     },
     "metadata": {},
     "execution_count": 14
    }
   ],
   "source": [
    "circuit_test = qsvt_search('10')\n",
    "circuit_test"
   ]
  },
  {
   "source": [
    "用projectq进行模拟，搜索结果如下："
   ],
   "cell_type": "markdown",
   "metadata": {}
  },
  {
   "cell_type": "code",
   "execution_count": 16,
   "metadata": {},
   "outputs": [
    {
     "output_type": "display_data",
     "data": {
      "text/plain": "",
      "text/html": "<pre style=\"white-space:pre;overflow-x:auto;line-height:normal;font-family:Menlo,'DejaVu Sans Mono',consolas,'Courier New',monospace\"></pre>\n"
     },
     "metadata": {}
    },
    {
     "output_type": "execute_result",
     "data": {
      "text/plain": "shots: 1000\nKeys: q3 q2 q1 q0│0.00     0.2         0.4         0.6         0.8         1.0\n─────────────────┼───────────┴───────────┴───────────┴───────────┴───────────┴\n             0110│▓▓▓▓▓▓▓▓▓▓▓▓▓▓▓▓▓▓▓▓▓▓▓▓▓▓▓▓▓▓▓▓▓▓▓▓▓▓▓▓▓▓▓▓▓▓▓▓▓▓▓▓▓▓▓▓▓▓▓▓\n                 │\n{'0110': 1000}",
      "text/html": "<pre style=\"white-space: pre;\"><span style=\"color: #808000; text-decoration-color: #808000\">shots: </span><span style=\"color: #008080; text-decoration-color: #008080; font-weight: bold\">1000</span>\n<span style=\"color: #808000; text-decoration-color: #808000\">Keys: q3 q2 q1 q0│</span><span style=\"color: #008080; text-decoration-color: #008080; font-weight: bold\">0.00</span><span style=\"color: #808000; text-decoration-color: #808000\">     </span><span style=\"color: #008080; text-decoration-color: #008080; font-weight: bold\">0.2</span><span style=\"color: #808000; text-decoration-color: #808000\">         </span><span style=\"color: #008080; text-decoration-color: #008080; font-weight: bold\">0.4</span><span style=\"color: #808000; text-decoration-color: #808000\">         </span><span style=\"color: #008080; text-decoration-color: #008080; font-weight: bold\">0.6</span><span style=\"color: #808000; text-decoration-color: #808000\">         </span><span style=\"color: #008080; text-decoration-color: #008080; font-weight: bold\">0.8</span><span style=\"color: #808000; text-decoration-color: #808000\">         </span><span style=\"color: #008080; text-decoration-color: #008080; font-weight: bold\">1.0</span>\n<span style=\"color: #808000; text-decoration-color: #808000\">─────────────────┼───────────┴───────────┴───────────┴───────────┴───────────┴</span>\n<span style=\"color: #808000; text-decoration-color: #808000\">             </span><span style=\"color: #008080; text-decoration-color: #008080; font-weight: bold\">0110</span><span style=\"color: #808000; text-decoration-color: #808000\">│▓▓▓▓▓▓▓▓▓▓▓▓▓▓▓▓▓▓▓▓▓▓▓▓▓▓▓▓▓▓▓▓▓▓▓▓▓▓▓▓▓▓▓▓▓▓▓▓▓▓▓▓▓▓▓▓▓▓▓▓</span>\n<span style=\"color: #808000; text-decoration-color: #808000\">                 │</span>\n<span style=\"color: #808000; text-decoration-color: #808000; font-weight: bold\">{</span><span style=\"color: #008000; text-decoration-color: #008000\">&#x27;0110&#x27;</span><span style=\"color: #808000; text-decoration-color: #808000\">: </span><span style=\"color: #008080; text-decoration-color: #008080; font-weight: bold\">1000</span><span style=\"color: #808000; text-decoration-color: #808000; font-weight: bold\">}</span>\n</pre>\n"
     },
     "metadata": {},
     "execution_count": 16
    }
   ],
   "source": [
    "# pylint: disable=W0104\n",
    "sim_test = Simulator('projectq', circuit_test.n_qubits)            # 使用projectq模拟器，命名为sim_test\n",
    "#sim_test.apply_circuit(circuit_test)                      # 通过模拟器sim_test运行搭建好的量子线路circuit_test\n",
    "\n",
    "sim_test.reset()                                      # 重置模拟器sim_test维护好的量子态，使得初始化的量子态为|00>\n",
    "\n",
    "result = sim_test.sampling(circuit_test, shots=1000)      # 通过模拟器sim_test对量子线路circuit_test进行1000次的采样\n",
    "result                                            # 打印采样结果"
   ]
  },
  {
   "source": [
    "搜索成功率为100%。"
   ],
   "cell_type": "markdown",
   "metadata": {}
  },
  {
   "cell_type": "markdown",
   "id": "a4fc0737",
   "metadata": {},
   "source": [
    "### 3.2 三比特线路\n",
    "标记元素为“110”的三比特线路如下："
   ]
  },
  {
   "cell_type": "code",
   "execution_count": 18,
   "id": "5bdb0f29",
   "metadata": {},
   "outputs": [
    {
     "output_type": "display_data",
     "data": {
      "text/plain": "",
      "text/html": "<pre style=\"white-space:pre;overflow-x:auto;line-height:normal;font-family:Menlo,'DejaVu Sans Mono',consolas,'Courier New',monospace\"></pre>\n"
     },
     "metadata": {}
    },
    {
     "output_type": "execute_result",
     "data": {
      "text/plain": "q0: ──X────●───────X───────X────●────X──‖──H────●──‖───────────────────‖‖──●────H──‖──X────●──────X──────X────●────X──‖──H────●──‖───────────────────‖‖──●────H──‖──X────●──────X──────X────●────X──‖──H────●──‖──X──‖──M(q0)──\n           │                    │       ‖       │  ‖                   ‖‖  │       ‖       │                  │       ‖       │  ‖                   ‖‖  │       ‖       │                  │       ‖       │  ‖     ‖\nq1: ──X────●───────X───────X────●────X──‖──H────●──‖───────────────────‖‖──●────H──‖──X────●──────X──────X────●────X──‖──H────●──‖───────────────────‖‖──●────H──‖──X────●──────X──────X────●────X──‖──H────●──‖─────‖──M(q1)──\n           │                    │       ‖       │  ‖                   ‖‖  │       ‖       │                  │       ‖       │  ‖                   ‖‖  │       ‖       │                  │       ‖       │  ‖     ‖\nq2: ──X────●───────X───────X────●────X──‖──H────●──‖───────────────────‖‖──●────H──‖──X────●──────X──────X────●────X──‖──H────●──‖───────────────────‖‖──●────H──‖──X────●──────X──────X────●────X──‖──H────●──‖─────‖──M(q2)──\n           │                    │       ‖       │  ‖                   ‖‖  │       ‖       │                  │       ‖       │  ‖                   ‖‖  │       ‖       │                  │       ‖       │  ‖     ‖\nq3: ──X────●───────X───────X────●────X──‖───────X──‖──●─────────────●──‖‖──X───────‖──X────●──────X──────X────●────X──‖───────X──‖──●─────────────●──‖‖──X───────‖──X────●──────X──────X────●────X──‖───────X──‖─────‖──M(q3)──\n           │                    │       ‖          ‖  │             │  ‖‖          ‖       │                  │       ‖          ‖  │             │  ‖‖          ‖       │                  │       ‖          ‖     ‖\nq4: ───────X────RZ(-4π)─────────X───────‖──────────‖──X────RZ(π)────X──‖‖──────────‖───────X────RZ(π)─────────X───────‖──────────‖──X────RZ(π)────X──‖‖──────────‖───────X────RZ(π)─────────X───────‖──────────‖─────‖──M(q4)──",
      "text/html": "<pre style=\"white-space: pre;\"><span style=\"color: #000080; text-decoration-color: #000080; font-weight: bold\">q0: ──X────●───────X───────X────●────X──‖──H────●──‖───────────────────‖‖──●────H──‖──X────●──────X──────X────●────X──‖──H────●──‖───────────────────‖‖──●────H──‖──X────●──────X──────X────●────X──‖──H────●──‖──X──‖──</span><span style=\"color: #800080; text-decoration-color: #800080; font-weight: bold\">M</span><span style=\"color: #000080; text-decoration-color: #000080; font-weight: bold\">(q0)──</span>\n<span style=\"color: #000080; text-decoration-color: #000080; font-weight: bold\">           │                    │       ‖       │  ‖                   ‖‖  │       ‖       │                  │       ‖       │  ‖                   ‖‖  │       ‖       │                  │       ‖       │  ‖     ‖</span>\n<span style=\"color: #000080; text-decoration-color: #000080; font-weight: bold\">q1: ──X────●───────X───────X────●────X──‖──H────●──‖───────────────────‖‖──●────H──‖──X────●──────X──────X────●────X──‖──H────●──‖───────────────────‖‖──●────H──‖──X────●──────X──────X────●────X──‖──H────●──‖─────‖──</span><span style=\"color: #800080; text-decoration-color: #800080; font-weight: bold\">M</span><span style=\"color: #000080; text-decoration-color: #000080; font-weight: bold\">(q1)──</span>\n<span style=\"color: #000080; text-decoration-color: #000080; font-weight: bold\">           │                    │       ‖       │  ‖                   ‖‖  │       ‖       │                  │       ‖       │  ‖                   ‖‖  │       ‖       │                  │       ‖       │  ‖     ‖</span>\n<span style=\"color: #000080; text-decoration-color: #000080; font-weight: bold\">q2: ──X────●───────X───────X────●────X──‖──H────●──‖───────────────────‖‖──●────H──‖──X────●──────X──────X────●────X──‖──H────●──‖───────────────────‖‖──●────H──‖──X────●──────X──────X────●────X──‖──H────●──‖─────‖──</span><span style=\"color: #800080; text-decoration-color: #800080; font-weight: bold\">M</span><span style=\"color: #000080; text-decoration-color: #000080; font-weight: bold\">(q2)──</span>\n<span style=\"color: #000080; text-decoration-color: #000080; font-weight: bold\">           │                    │       ‖       │  ‖                   ‖‖  │       ‖       │                  │       ‖       │  ‖                   ‖‖  │       ‖       │                  │       ‖       │  ‖     ‖</span>\n<span style=\"color: #000080; text-decoration-color: #000080; font-weight: bold\">q3: ──X────●───────X───────X────●────X──‖───────X──‖──●─────────────●──‖‖──X───────‖──X────●──────X──────X────●────X──‖───────X──‖──●─────────────●──‖‖──X───────‖──X────●──────X──────X────●────X──‖───────X──‖─────‖──</span><span style=\"color: #800080; text-decoration-color: #800080; font-weight: bold\">M</span><span style=\"color: #000080; text-decoration-color: #000080; font-weight: bold\">(q3)──</span>\n<span style=\"color: #000080; text-decoration-color: #000080; font-weight: bold\">           │                    │       ‖          ‖  │             │  ‖‖          ‖       │                  │       ‖          ‖  │             │  ‖‖          ‖       │                  │       ‖          ‖     ‖</span>\n<span style=\"color: #000080; text-decoration-color: #000080; font-weight: bold\">q4: ───────X────</span><span style=\"color: #800080; text-decoration-color: #800080; font-weight: bold\">RZ</span><span style=\"color: #000080; text-decoration-color: #000080; font-weight: bold\">(-4π)─────────X───────‖──────────‖──X────</span><span style=\"color: #800080; text-decoration-color: #800080; font-weight: bold\">RZ</span><span style=\"color: #000080; text-decoration-color: #000080; font-weight: bold\">(π)────X──‖‖──────────‖───────X────</span><span style=\"color: #800080; text-decoration-color: #800080; font-weight: bold\">RZ</span><span style=\"color: #000080; text-decoration-color: #000080; font-weight: bold\">(π)─────────X───────‖──────────‖──X────</span><span style=\"color: #800080; text-decoration-color: #800080; font-weight: bold\">RZ</span><span style=\"color: #000080; text-decoration-color: #000080; font-weight: bold\">(π)────X──‖‖──────────‖───────X────</span><span style=\"color: #800080; text-decoration-color: #800080; font-weight: bold\">RZ</span><span style=\"color: #000080; text-decoration-color: #000080; font-weight: bold\">(π)─────────X───────‖──────────‖─────‖──</span><span style=\"color: #800080; text-decoration-color: #800080; font-weight: bold\">M</span><span style=\"color: #000080; text-decoration-color: #000080; font-weight: bold\">(q4)──</span>\n</pre>\n"
     },
     "metadata": {},
     "execution_count": 18
    }
   ],
   "source": [
    "circuit_test = qsvt_search('110')\n",
    "circuit_test"
   ]
  },
  {
   "source": [
    "用projectq进行模拟，搜索结果如下："
   ],
   "cell_type": "markdown",
   "metadata": {}
  },
  {
   "cell_type": "code",
   "execution_count": 20,
   "id": "e3660742",
   "metadata": {},
   "outputs": [
    {
     "output_type": "display_data",
     "data": {
      "text/plain": "",
      "text/html": "<pre style=\"white-space:pre;overflow-x:auto;line-height:normal;font-family:Menlo,'DejaVu Sans Mono',consolas,'Courier New',monospace\"></pre>\n"
     },
     "metadata": {}
    },
    {
     "output_type": "execute_result",
     "data": {
      "text/plain": "shots: 1000\nKeys: q4 q3 q2 q1 q0│0.00     0.2         0.4         0.6         0.8         1.0\n────────────────────┼───────────┴───────────┴───────────┴───────────┴───────────┴\n               00000│▒\n                    │\n               00001│▒\n                    │\n               00010│▒\n                    │\n               00011│▒\n                    │\n               00100│▒\n                    │\n               00101│▒\n                    │\n               00111│▒\n                    │\n               01110│▓▓▓▓▓▓▓▓▓▓▓▓▓▓▓▓▓▓▓▓▓▓▓▓▓▓▓▓▓▓▓▓▓▓▓▓▓▓▓▓▓▓▓▓▓▓▓▓▓▓▓▓▓▓▓▓▓\n                    │\n{'00000': 7, '00001': 10, '00010': 7, '00011': 10, '00100': 6, '00101': 4, '00111': 9, '01110': 947}",
      "text/html": "<pre style=\"white-space: pre;\"><span style=\"color: #808000; text-decoration-color: #808000\">shots: </span><span style=\"color: #008080; text-decoration-color: #008080; font-weight: bold\">1000</span>\n<span style=\"color: #808000; text-decoration-color: #808000\">Keys: q4 q3 q2 q1 q0│</span><span style=\"color: #008080; text-decoration-color: #008080; font-weight: bold\">0.00</span><span style=\"color: #808000; text-decoration-color: #808000\">     </span><span style=\"color: #008080; text-decoration-color: #008080; font-weight: bold\">0.2</span><span style=\"color: #808000; text-decoration-color: #808000\">         </span><span style=\"color: #008080; text-decoration-color: #008080; font-weight: bold\">0.4</span><span style=\"color: #808000; text-decoration-color: #808000\">         </span><span style=\"color: #008080; text-decoration-color: #008080; font-weight: bold\">0.6</span><span style=\"color: #808000; text-decoration-color: #808000\">         </span><span style=\"color: #008080; text-decoration-color: #008080; font-weight: bold\">0.8</span><span style=\"color: #808000; text-decoration-color: #808000\">         </span><span style=\"color: #008080; text-decoration-color: #008080; font-weight: bold\">1.0</span>\n<span style=\"color: #808000; text-decoration-color: #808000\">────────────────────┼───────────┴───────────┴───────────┴───────────┴───────────┴</span>\n<span style=\"color: #808000; text-decoration-color: #808000\">               </span><span style=\"color: #008080; text-decoration-color: #008080; font-weight: bold\">00000</span><span style=\"color: #808000; text-decoration-color: #808000\">│▒</span>\n<span style=\"color: #808000; text-decoration-color: #808000\">                    │</span>\n<span style=\"color: #808000; text-decoration-color: #808000\">               </span><span style=\"color: #008080; text-decoration-color: #008080; font-weight: bold\">00001</span><span style=\"color: #808000; text-decoration-color: #808000\">│▒</span>\n<span style=\"color: #808000; text-decoration-color: #808000\">                    │</span>\n<span style=\"color: #808000; text-decoration-color: #808000\">               </span><span style=\"color: #008080; text-decoration-color: #008080; font-weight: bold\">00010</span><span style=\"color: #808000; text-decoration-color: #808000\">│▒</span>\n<span style=\"color: #808000; text-decoration-color: #808000\">                    │</span>\n<span style=\"color: #808000; text-decoration-color: #808000\">               </span><span style=\"color: #008080; text-decoration-color: #008080; font-weight: bold\">00011</span><span style=\"color: #808000; text-decoration-color: #808000\">│▒</span>\n<span style=\"color: #808000; text-decoration-color: #808000\">                    │</span>\n<span style=\"color: #808000; text-decoration-color: #808000\">               </span><span style=\"color: #008080; text-decoration-color: #008080; font-weight: bold\">00100</span><span style=\"color: #808000; text-decoration-color: #808000\">│▒</span>\n<span style=\"color: #808000; text-decoration-color: #808000\">                    │</span>\n<span style=\"color: #808000; text-decoration-color: #808000\">               </span><span style=\"color: #008080; text-decoration-color: #008080; font-weight: bold\">00101</span><span style=\"color: #808000; text-decoration-color: #808000\">│▒</span>\n<span style=\"color: #808000; text-decoration-color: #808000\">                    │</span>\n<span style=\"color: #808000; text-decoration-color: #808000\">               </span><span style=\"color: #008080; text-decoration-color: #008080; font-weight: bold\">00111</span><span style=\"color: #808000; text-decoration-color: #808000\">│▒</span>\n<span style=\"color: #808000; text-decoration-color: #808000\">                    │</span>\n<span style=\"color: #808000; text-decoration-color: #808000\">               </span><span style=\"color: #008080; text-decoration-color: #008080; font-weight: bold\">01110</span><span style=\"color: #808000; text-decoration-color: #808000\">│▓▓▓▓▓▓▓▓▓▓▓▓▓▓▓▓▓▓▓▓▓▓▓▓▓▓▓▓▓▓▓▓▓▓▓▓▓▓▓▓▓▓▓▓▓▓▓▓▓▓▓▓▓▓▓▓▓</span>\n<span style=\"color: #808000; text-decoration-color: #808000\">                    │</span>\n<span style=\"color: #808000; text-decoration-color: #808000; font-weight: bold\">{</span><span style=\"color: #008000; text-decoration-color: #008000\">&#x27;00000&#x27;</span><span style=\"color: #808000; text-decoration-color: #808000\">: </span><span style=\"color: #008080; text-decoration-color: #008080; font-weight: bold\">7</span><span style=\"color: #808000; text-decoration-color: #808000\">, </span><span style=\"color: #008000; text-decoration-color: #008000\">&#x27;00001&#x27;</span><span style=\"color: #808000; text-decoration-color: #808000\">: </span><span style=\"color: #008080; text-decoration-color: #008080; font-weight: bold\">10</span><span style=\"color: #808000; text-decoration-color: #808000\">, </span><span style=\"color: #008000; text-decoration-color: #008000\">&#x27;00010&#x27;</span><span style=\"color: #808000; text-decoration-color: #808000\">: </span><span style=\"color: #008080; text-decoration-color: #008080; font-weight: bold\">7</span><span style=\"color: #808000; text-decoration-color: #808000\">, </span><span style=\"color: #008000; text-decoration-color: #008000\">&#x27;00011&#x27;</span><span style=\"color: #808000; text-decoration-color: #808000\">: </span><span style=\"color: #008080; text-decoration-color: #008080; font-weight: bold\">10</span><span style=\"color: #808000; text-decoration-color: #808000\">, </span><span style=\"color: #008000; text-decoration-color: #008000\">&#x27;00100&#x27;</span><span style=\"color: #808000; text-decoration-color: #808000\">: </span><span style=\"color: #008080; text-decoration-color: #008080; font-weight: bold\">6</span><span style=\"color: #808000; text-decoration-color: #808000\">, </span><span style=\"color: #008000; text-decoration-color: #008000\">&#x27;00101&#x27;</span><span style=\"color: #808000; text-decoration-color: #808000\">: </span><span style=\"color: #008080; text-decoration-color: #008080; font-weight: bold\">4</span><span style=\"color: #808000; text-decoration-color: #808000\">, </span><span style=\"color: #008000; text-decoration-color: #008000\">&#x27;00111&#x27;</span><span style=\"color: #808000; text-decoration-color: #808000\">: </span><span style=\"color: #008080; text-decoration-color: #008080; font-weight: bold\">9</span><span style=\"color: #808000; text-decoration-color: #808000\">, </span>\n<span style=\"color: #008000; text-decoration-color: #008000\">&#x27;01110&#x27;</span><span style=\"color: #808000; text-decoration-color: #808000\">: </span><span style=\"color: #008080; text-decoration-color: #008080; font-weight: bold\">947</span><span style=\"color: #808000; text-decoration-color: #808000; font-weight: bold\">}</span>\n</pre>\n"
     },
     "metadata": {},
     "execution_count": 20
    }
   ],
   "source": [
    "# pylint: disable=W0104\n",
    "sim_test = Simulator('projectq', circuit_test.n_qubits)            # 使用projectq模拟器，命名为sim_test\n",
    "#sim_test.apply_circuit(circuit_test)                      # 通过模拟器sim_test运行搭建好的量子线路circuit_test\n",
    "\n",
    "sim_test.reset()                                      # 重置模拟器sim_test维护好的量子态，使得初始化的量子态为|000>\n",
    "\n",
    "result = sim_test.sampling(circuit_test, shots=1000)      # 通过模拟器sim_test对量子线路circuit_test进行1000次的采样\n",
    "result                                            # 打印采样结果"
   ]
  },
  {
   "source": [
    "搜索成功率为94.7%。"
   ],
   "cell_type": "markdown",
   "metadata": {}
  },
  {
   "source": [
    "### 3.3 四比特线路\n",
    "标记元素为“1011”的四比特线路如下："
   ],
   "cell_type": "markdown",
   "metadata": {}
  },
  {
   "cell_type": "code",
   "execution_count": 22,
   "metadata": {},
   "outputs": [
    {
     "output_type": "display_data",
     "data": {
      "text/plain": "",
      "text/html": "<pre style=\"white-space:pre;overflow-x:auto;line-height:normal;font-family:Menlo,'DejaVu Sans Mono',consolas,'Courier New',monospace\"></pre>\n"
     },
     "metadata": {}
    },
    {
     "output_type": "execute_result",
     "data": {
      "text/plain": "q0: ──X────●───────X───────X────●────X──‖──H────●──‖───────────────────‖‖──●────H──‖──X────●──────X──────X────●────X──‖──H────●──‖───────────────────‖‖──●────H──‖──X────●──────X──────X────●────X──‖──H────●──‖───────────────────‖‖──●────H──‖──X────●──────X──────X────●────X──‖──H────●──‖─────‖──M(q0)──\n           │                    │       ‖       │  ‖                   ‖‖  │       ‖       │                  │       ‖       │  ‖                   ‖‖  │       ‖       │                  │       ‖       │  ‖                   ‖‖  │       ‖       │                  │       ‖       │  ‖     ‖\nq1: ──X────●───────X───────X────●────X──‖──H────●──‖───────────────────‖‖──●────H──‖──X────●──────X──────X────●────X──‖──H────●──‖───────────────────‖‖──●────H──‖──X────●──────X──────X────●────X──‖──H────●──‖───────────────────‖‖──●────H──‖──X────●──────X──────X────●────X──‖──H────●──‖─────‖──M(q1)──\n           │                    │       ‖       │  ‖                   ‖‖  │       ‖       │                  │       ‖       │  ‖                   ‖‖  │       ‖       │                  │       ‖       │  ‖                   ‖‖  │       ‖       │                  │       ‖       │  ‖     ‖\nq2: ──X────●───────X───────X────●────X──‖──H────●──‖───────────────────‖‖──●────H──‖──X────●──────X──────X────●────X──‖──H────●──‖───────────────────‖‖──●────H──‖──X────●──────X──────X────●────X──‖──H────●──‖───────────────────‖‖──●────H──‖──X────●──────X──────X────●────X──‖──H────●──‖──X──‖──M(q2)──\n           │                    │       ‖       │  ‖                   ‖‖  │       ‖       │                  │       ‖       │  ‖                   ‖‖  │       ‖       │                  │       ‖       │  ‖                   ‖‖  │       ‖       │                  │       ‖       │  ‖     ‖\nq3: ──X────●───────X───────X────●────X──‖──H────●──‖───────────────────‖‖──●────H──‖──X────●──────X──────X────●────X──‖──H────●──‖───────────────────‖‖──●────H──‖──X────●──────X──────X────●────X──‖──H────●──‖───────────────────‖‖──●────H──‖──X────●──────X──────X────●────X──‖──H────●──‖─────‖──M(q3)──\n           │                    │       ‖       │  ‖                   ‖‖  │       ‖       │                  │       ‖       │  ‖                   ‖‖  │       ‖       │                  │       ‖       │  ‖                   ‖‖  │       ‖       │                  │       ‖       │  ‖     ‖\nq4: ──X────●───────X───────X────●────X──‖───────X──‖──●─────────────●──‖‖──X───────‖──X────●──────X──────X────●────X──‖───────X──‖──●─────────────●──‖‖──X───────‖──X────●──────X──────X────●────X──‖───────X──‖──●─────────────●──‖‖──X───────‖──X────●──────X──────X────●────X──‖───────X──‖─────‖──M(q4)──\n           │                    │       ‖          ‖  │             │  ‖‖          ‖       │                  │       ‖          ‖  │             │  ‖‖          ‖       │                  │       ‖          ‖  │             │  ‖‖          ‖       │                  │       ‖          ‖     ‖\nq5: ───────X────RZ(-6π)─────────X───────‖──────────‖──X────RZ(π)────X──‖‖──────────‖───────X────RZ(π)─────────X───────‖──────────‖──X────RZ(π)────X──‖‖──────────‖───────X────RZ(π)─────────X───────‖──────────‖──X────RZ(π)────X──‖‖──────────‖───────X────RZ(π)─────────X───────‖──────────‖─────‖──M(q5)──",
      "text/html": "<pre style=\"white-space: pre;\"><span style=\"color: #000080; text-decoration-color: #000080; font-weight: bold\">q0: ──X────●───────X───────X────●────X──‖──H────●──‖───────────────────‖‖──●────H──‖──X────●──────X──────X────●────X──‖──H────●──‖───────────────────‖‖──●────H──‖──X────●──────X──────X────●────X──‖──H────●──‖───────────────────‖‖──●────H──‖──X────●──────X──────X────●────X──‖──H────●──‖─────‖──</span><span style=\"color: #800080; text-decoration-color: #800080; font-weight: bold\">M</span><span style=\"color: #000080; text-decoration-color: #000080; font-weight: bold\">(q0)──</span>\n<span style=\"color: #000080; text-decoration-color: #000080; font-weight: bold\">           │                    │       ‖       │  ‖                   ‖‖  │       ‖       │                  │       ‖       │  ‖                   ‖‖  │       ‖       │                  │       ‖       │  ‖                   ‖‖  │       ‖       │                  │       ‖       │  ‖     ‖</span>\n<span style=\"color: #000080; text-decoration-color: #000080; font-weight: bold\">q1: ──X────●───────X───────X────●────X──‖──H────●──‖───────────────────‖‖──●────H──‖──X────●──────X──────X────●────X──‖──H────●──‖───────────────────‖‖──●────H──‖──X────●──────X──────X────●────X──‖──H────●──‖───────────────────‖‖──●────H──‖──X────●──────X──────X────●────X──‖──H────●──‖─────‖──</span><span style=\"color: #800080; text-decoration-color: #800080; font-weight: bold\">M</span><span style=\"color: #000080; text-decoration-color: #000080; font-weight: bold\">(q1)──</span>\n<span style=\"color: #000080; text-decoration-color: #000080; font-weight: bold\">           │                    │       ‖       │  ‖                   ‖‖  │       ‖       │                  │       ‖       │  ‖                   ‖‖  │       ‖       │                  │       ‖       │  ‖                   ‖‖  │       ‖       │                  │       ‖       │  ‖     ‖</span>\n<span style=\"color: #000080; text-decoration-color: #000080; font-weight: bold\">q2: ──X────●───────X───────X────●────X──‖──H────●──‖───────────────────‖‖──●────H──‖──X────●──────X──────X────●────X──‖──H────●──‖───────────────────‖‖──●────H──‖──X────●──────X──────X────●────X──‖──H────●──‖───────────────────‖‖──●────H──‖──X────●──────X──────X────●────X──‖──H────●──‖──X──‖──</span><span style=\"color: #800080; text-decoration-color: #800080; font-weight: bold\">M</span><span style=\"color: #000080; text-decoration-color: #000080; font-weight: bold\">(q2)──</span>\n<span style=\"color: #000080; text-decoration-color: #000080; font-weight: bold\">           │                    │       ‖       │  ‖                   ‖‖  │       ‖       │                  │       ‖       │  ‖                   ‖‖  │       ‖       │                  │       ‖       │  ‖                   ‖‖  │       ‖       │                  │       ‖       │  ‖     ‖</span>\n<span style=\"color: #000080; text-decoration-color: #000080; font-weight: bold\">q3: ──X────●───────X───────X────●────X──‖──H────●──‖───────────────────‖‖──●────H──‖──X────●──────X──────X────●────X──‖──H────●──‖───────────────────‖‖──●────H──‖──X────●──────X──────X────●────X──‖──H────●──‖───────────────────‖‖──●────H──‖──X────●──────X──────X────●────X──‖──H────●──‖─────‖──</span><span style=\"color: #800080; text-decoration-color: #800080; font-weight: bold\">M</span><span style=\"color: #000080; text-decoration-color: #000080; font-weight: bold\">(q3)──</span>\n<span style=\"color: #000080; text-decoration-color: #000080; font-weight: bold\">           │                    │       ‖       │  ‖                   ‖‖  │       ‖       │                  │       ‖       │  ‖                   ‖‖  │       ‖       │                  │       ‖       │  ‖                   ‖‖  │       ‖       │                  │       ‖       │  ‖     ‖</span>\n<span style=\"color: #000080; text-decoration-color: #000080; font-weight: bold\">q4: ──X────●───────X───────X────●────X──‖───────X──‖──●─────────────●──‖‖──X───────‖──X────●──────X──────X────●────X──‖───────X──‖──●─────────────●──‖‖──X───────‖──X────●──────X──────X────●────X──‖───────X──‖──●─────────────●──‖‖──X───────‖──X────●──────X──────X────●────X──‖───────X──‖─────‖──</span><span style=\"color: #800080; text-decoration-color: #800080; font-weight: bold\">M</span><span style=\"color: #000080; text-decoration-color: #000080; font-weight: bold\">(q4)──</span>\n<span style=\"color: #000080; text-decoration-color: #000080; font-weight: bold\">           │                    │       ‖          ‖  │             │  ‖‖          ‖       │                  │       ‖          ‖  │             │  ‖‖          ‖       │                  │       ‖          ‖  │             │  ‖‖          ‖       │                  │       ‖          ‖     ‖</span>\n<span style=\"color: #000080; text-decoration-color: #000080; font-weight: bold\">q5: ───────X────</span><span style=\"color: #800080; text-decoration-color: #800080; font-weight: bold\">RZ</span><span style=\"color: #000080; text-decoration-color: #000080; font-weight: bold\">(-6π)─────────X───────‖──────────‖──X────</span><span style=\"color: #800080; text-decoration-color: #800080; font-weight: bold\">RZ</span><span style=\"color: #000080; text-decoration-color: #000080; font-weight: bold\">(π)────X──‖‖──────────‖───────X────</span><span style=\"color: #800080; text-decoration-color: #800080; font-weight: bold\">RZ</span><span style=\"color: #000080; text-decoration-color: #000080; font-weight: bold\">(π)─────────X───────‖──────────‖──X────</span><span style=\"color: #800080; text-decoration-color: #800080; font-weight: bold\">RZ</span><span style=\"color: #000080; text-decoration-color: #000080; font-weight: bold\">(π)────X──‖‖──────────‖───────X────</span><span style=\"color: #800080; text-decoration-color: #800080; font-weight: bold\">RZ</span><span style=\"color: #000080; text-decoration-color: #000080; font-weight: bold\">(π)─────────X───────‖──────────‖──X────</span><span style=\"color: #800080; text-decoration-color: #800080; font-weight: bold\">RZ</span><span style=\"color: #000080; text-decoration-color: #000080; font-weight: bold\">(π)────X──‖‖──────────‖───────X────</span><span style=\"color: #800080; text-decoration-color: #800080; font-weight: bold\">RZ</span><span style=\"color: #000080; text-decoration-color: #000080; font-weight: bold\">(π)─────────X───────‖──────────‖─────‖──</span><span style=\"color: #800080; text-decoration-color: #800080; font-weight: bold\">M</span><span style=\"color: #000080; text-decoration-color: #000080; font-weight: bold\">(q5)──</span>\n</pre>\n"
     },
     "metadata": {},
     "execution_count": 22
    }
   ],
   "source": [
    "circuit_test = qsvt_search('1011')\n",
    "circuit_test"
   ]
  },
  {
   "cell_type": "code",
   "execution_count": 24,
   "metadata": {},
   "outputs": [
    {
     "output_type": "display_data",
     "data": {
      "text/plain": "",
      "text/html": "<pre style=\"white-space:pre;overflow-x:auto;line-height:normal;font-family:Menlo,'DejaVu Sans Mono',consolas,'Courier New',monospace\"></pre>\n"
     },
     "metadata": {}
    },
    {
     "output_type": "execute_result",
     "data": {
      "text/plain": "shots: 1000\nKeys: q5 q4 q3 q2 q1 q0│0.00     0.2         0.4         0.6         0.8         1.0\n───────────────────────┼───────────┴───────────┴───────────┴───────────┴───────────┴\n                 000000│▒\n                       │\n                 000001│▒\n                       │\n                 000010│▒\n                       │\n                 000011│▒\n                       │\n                 000100│▒\n                       │\n                 000101│▒\n                       │\n                 000110│▒\n                       │\n                 000111│▒\n                       │\n                 001000│▒\n                       │\n                 001001│▒\n                       │\n                 001010│▒\n                       │\n                 001101│▒\n                       │\n                 001110│▒\n                       │\n                 001111│▒\n                       │\n                 011011│▓▓▓▓▓▓▓▓▓▓▓▓▓▓▓▓▓▓▓▓▓▓▓▓▓▓▓▓▓▓▓▓▓▓▓▓▓▓▓▓▓▓▓▓▓▓▓▓▓▓▓▓▓▓▓▓▓▓\n                       │\n{'000000': 3, '000001': 1, '000010': 2, '000011': 7, '000100': 2, '000101': 1, '000110': 6, '000111': 1, '001000': 6, '001001': 2, '001010': 3, '001101': 3, '001110': 2, '001111': 2, '011011': 959}",
      "text/html": "<pre style=\"white-space: pre;\"><span style=\"color: #808000; text-decoration-color: #808000\">shots: </span><span style=\"color: #008080; text-decoration-color: #008080; font-weight: bold\">1000</span>\n<span style=\"color: #808000; text-decoration-color: #808000\">Keys: q5 q4 q3 q2 q1 q0│</span><span style=\"color: #008080; text-decoration-color: #008080; font-weight: bold\">0.00</span><span style=\"color: #808000; text-decoration-color: #808000\">     </span><span style=\"color: #008080; text-decoration-color: #008080; font-weight: bold\">0.2</span><span style=\"color: #808000; text-decoration-color: #808000\">         </span><span style=\"color: #008080; text-decoration-color: #008080; font-weight: bold\">0.4</span><span style=\"color: #808000; text-decoration-color: #808000\">         </span><span style=\"color: #008080; text-decoration-color: #008080; font-weight: bold\">0.6</span><span style=\"color: #808000; text-decoration-color: #808000\">         </span><span style=\"color: #008080; text-decoration-color: #008080; font-weight: bold\">0.8</span><span style=\"color: #808000; text-decoration-color: #808000\">         </span><span style=\"color: #008080; text-decoration-color: #008080; font-weight: bold\">1.0</span>\n<span style=\"color: #808000; text-decoration-color: #808000\">───────────────────────┼───────────┴───────────┴───────────┴───────────┴───────────┴</span>\n<span style=\"color: #808000; text-decoration-color: #808000\">                 </span><span style=\"color: #008080; text-decoration-color: #008080; font-weight: bold\">000000</span><span style=\"color: #808000; text-decoration-color: #808000\">│▒</span>\n<span style=\"color: #808000; text-decoration-color: #808000\">                       │</span>\n<span style=\"color: #808000; text-decoration-color: #808000\">                 </span><span style=\"color: #008080; text-decoration-color: #008080; font-weight: bold\">000001</span><span style=\"color: #808000; text-decoration-color: #808000\">│▒</span>\n<span style=\"color: #808000; text-decoration-color: #808000\">                       │</span>\n<span style=\"color: #808000; text-decoration-color: #808000\">                 </span><span style=\"color: #008080; text-decoration-color: #008080; font-weight: bold\">000010</span><span style=\"color: #808000; text-decoration-color: #808000\">│▒</span>\n<span style=\"color: #808000; text-decoration-color: #808000\">                       │</span>\n<span style=\"color: #808000; text-decoration-color: #808000\">                 </span><span style=\"color: #008080; text-decoration-color: #008080; font-weight: bold\">000011</span><span style=\"color: #808000; text-decoration-color: #808000\">│▒</span>\n<span style=\"color: #808000; text-decoration-color: #808000\">                       │</span>\n<span style=\"color: #808000; text-decoration-color: #808000\">                 </span><span style=\"color: #008080; text-decoration-color: #008080; font-weight: bold\">000100</span><span style=\"color: #808000; text-decoration-color: #808000\">│▒</span>\n<span style=\"color: #808000; text-decoration-color: #808000\">                       │</span>\n<span style=\"color: #808000; text-decoration-color: #808000\">                 </span><span style=\"color: #008080; text-decoration-color: #008080; font-weight: bold\">000101</span><span style=\"color: #808000; text-decoration-color: #808000\">│▒</span>\n<span style=\"color: #808000; text-decoration-color: #808000\">                       │</span>\n<span style=\"color: #808000; text-decoration-color: #808000\">                 </span><span style=\"color: #008080; text-decoration-color: #008080; font-weight: bold\">000110</span><span style=\"color: #808000; text-decoration-color: #808000\">│▒</span>\n<span style=\"color: #808000; text-decoration-color: #808000\">                       │</span>\n<span style=\"color: #808000; text-decoration-color: #808000\">                 </span><span style=\"color: #008080; text-decoration-color: #008080; font-weight: bold\">000111</span><span style=\"color: #808000; text-decoration-color: #808000\">│▒</span>\n<span style=\"color: #808000; text-decoration-color: #808000\">                       │</span>\n<span style=\"color: #808000; text-decoration-color: #808000\">                 </span><span style=\"color: #008080; text-decoration-color: #008080; font-weight: bold\">001000</span><span style=\"color: #808000; text-decoration-color: #808000\">│▒</span>\n<span style=\"color: #808000; text-decoration-color: #808000\">                       │</span>\n<span style=\"color: #808000; text-decoration-color: #808000\">                 </span><span style=\"color: #008080; text-decoration-color: #008080; font-weight: bold\">001001</span><span style=\"color: #808000; text-decoration-color: #808000\">│▒</span>\n<span style=\"color: #808000; text-decoration-color: #808000\">                       │</span>\n<span style=\"color: #808000; text-decoration-color: #808000\">                 </span><span style=\"color: #008080; text-decoration-color: #008080; font-weight: bold\">001010</span><span style=\"color: #808000; text-decoration-color: #808000\">│▒</span>\n<span style=\"color: #808000; text-decoration-color: #808000\">                       │</span>\n<span style=\"color: #808000; text-decoration-color: #808000\">                 </span><span style=\"color: #008080; text-decoration-color: #008080; font-weight: bold\">001101</span><span style=\"color: #808000; text-decoration-color: #808000\">│▒</span>\n<span style=\"color: #808000; text-decoration-color: #808000\">                       │</span>\n<span style=\"color: #808000; text-decoration-color: #808000\">                 </span><span style=\"color: #008080; text-decoration-color: #008080; font-weight: bold\">001110</span><span style=\"color: #808000; text-decoration-color: #808000\">│▒</span>\n<span style=\"color: #808000; text-decoration-color: #808000\">                       │</span>\n<span style=\"color: #808000; text-decoration-color: #808000\">                 </span><span style=\"color: #008080; text-decoration-color: #008080; font-weight: bold\">001111</span><span style=\"color: #808000; text-decoration-color: #808000\">│▒</span>\n<span style=\"color: #808000; text-decoration-color: #808000\">                       │</span>\n<span style=\"color: #808000; text-decoration-color: #808000\">                 </span><span style=\"color: #008080; text-decoration-color: #008080; font-weight: bold\">011011</span><span style=\"color: #808000; text-decoration-color: #808000\">│▓▓▓▓▓▓▓▓▓▓▓▓▓▓▓▓▓▓▓▓▓▓▓▓▓▓▓▓▓▓▓▓▓▓▓▓▓▓▓▓▓▓▓▓▓▓▓▓▓▓▓▓▓▓▓▓▓▓</span>\n<span style=\"color: #808000; text-decoration-color: #808000\">                       │</span>\n<span style=\"color: #808000; text-decoration-color: #808000; font-weight: bold\">{</span><span style=\"color: #008000; text-decoration-color: #008000\">&#x27;000000&#x27;</span><span style=\"color: #808000; text-decoration-color: #808000\">: </span><span style=\"color: #008080; text-decoration-color: #008080; font-weight: bold\">3</span><span style=\"color: #808000; text-decoration-color: #808000\">, </span><span style=\"color: #008000; text-decoration-color: #008000\">&#x27;000001&#x27;</span><span style=\"color: #808000; text-decoration-color: #808000\">: </span><span style=\"color: #008080; text-decoration-color: #008080; font-weight: bold\">1</span><span style=\"color: #808000; text-decoration-color: #808000\">, </span><span style=\"color: #008000; text-decoration-color: #008000\">&#x27;000010&#x27;</span><span style=\"color: #808000; text-decoration-color: #808000\">: </span><span style=\"color: #008080; text-decoration-color: #008080; font-weight: bold\">2</span><span style=\"color: #808000; text-decoration-color: #808000\">, </span><span style=\"color: #008000; text-decoration-color: #008000\">&#x27;000011&#x27;</span><span style=\"color: #808000; text-decoration-color: #808000\">: </span><span style=\"color: #008080; text-decoration-color: #008080; font-weight: bold\">7</span><span style=\"color: #808000; text-decoration-color: #808000\">, </span><span style=\"color: #008000; text-decoration-color: #008000\">&#x27;000100&#x27;</span><span style=\"color: #808000; text-decoration-color: #808000\">: </span><span style=\"color: #008080; text-decoration-color: #008080; font-weight: bold\">2</span><span style=\"color: #808000; text-decoration-color: #808000\">, </span><span style=\"color: #008000; text-decoration-color: #008000\">&#x27;000101&#x27;</span><span style=\"color: #808000; text-decoration-color: #808000\">: </span><span style=\"color: #008080; text-decoration-color: #008080; font-weight: bold\">1</span><span style=\"color: #808000; text-decoration-color: #808000\">, </span><span style=\"color: #008000; text-decoration-color: #008000\">&#x27;000110&#x27;</span><span style=\"color: #808000; text-decoration-color: #808000\">: </span><span style=\"color: #008080; text-decoration-color: #008080; font-weight: bold\">6</span><span style=\"color: #808000; text-decoration-color: #808000\">, </span>\n<span style=\"color: #008000; text-decoration-color: #008000\">&#x27;000111&#x27;</span><span style=\"color: #808000; text-decoration-color: #808000\">: </span><span style=\"color: #008080; text-decoration-color: #008080; font-weight: bold\">1</span><span style=\"color: #808000; text-decoration-color: #808000\">, </span><span style=\"color: #008000; text-decoration-color: #008000\">&#x27;001000&#x27;</span><span style=\"color: #808000; text-decoration-color: #808000\">: </span><span style=\"color: #008080; text-decoration-color: #008080; font-weight: bold\">6</span><span style=\"color: #808000; text-decoration-color: #808000\">, </span><span style=\"color: #008000; text-decoration-color: #008000\">&#x27;001001&#x27;</span><span style=\"color: #808000; text-decoration-color: #808000\">: </span><span style=\"color: #008080; text-decoration-color: #008080; font-weight: bold\">2</span><span style=\"color: #808000; text-decoration-color: #808000\">, </span><span style=\"color: #008000; text-decoration-color: #008000\">&#x27;001010&#x27;</span><span style=\"color: #808000; text-decoration-color: #808000\">: </span><span style=\"color: #008080; text-decoration-color: #008080; font-weight: bold\">3</span><span style=\"color: #808000; text-decoration-color: #808000\">, </span><span style=\"color: #008000; text-decoration-color: #008000\">&#x27;001101&#x27;</span><span style=\"color: #808000; text-decoration-color: #808000\">: </span><span style=\"color: #008080; text-decoration-color: #008080; font-weight: bold\">3</span><span style=\"color: #808000; text-decoration-color: #808000\">, </span><span style=\"color: #008000; text-decoration-color: #008000\">&#x27;001110&#x27;</span><span style=\"color: #808000; text-decoration-color: #808000\">: </span><span style=\"color: #008080; text-decoration-color: #008080; font-weight: bold\">2</span><span style=\"color: #808000; text-decoration-color: #808000\">, </span><span style=\"color: #008000; text-decoration-color: #008000\">&#x27;001111&#x27;</span><span style=\"color: #808000; text-decoration-color: #808000\">: </span><span style=\"color: #008080; text-decoration-color: #008080; font-weight: bold\">2</span><span style=\"color: #808000; text-decoration-color: #808000\">, </span>\n<span style=\"color: #008000; text-decoration-color: #008000\">&#x27;011011&#x27;</span><span style=\"color: #808000; text-decoration-color: #808000\">: </span><span style=\"color: #008080; text-decoration-color: #008080; font-weight: bold\">959</span><span style=\"color: #808000; text-decoration-color: #808000; font-weight: bold\">}</span>\n</pre>\n"
     },
     "metadata": {},
     "execution_count": 24
    }
   ],
   "source": [
    "# pylint: disable=W0104\n",
    "sim_test = Simulator('projectq', circuit_test.n_qubits)            # 使用projectq模拟器，命名为sim_test\n",
    "#sim_test.apply_circuit(circuit_test)                      # 通过模拟器sim_test运行搭建好的量子线路circuit_test\n",
    "\n",
    "sim_test.reset()                                      # 重置模拟器sim_test维护好的量子态，使得初始化的量子态为|0000>\n",
    "\n",
    "result = sim_test.sampling(circuit_test, shots=1000)      # 通过模拟器sim_test对量子线路circuit_test进行1000次的采样\n",
    "result                                            # 打印采样结果"
   ]
  },
  {
   "source": [
    "搜索成功率为95.9%。"
   ],
   "cell_type": "markdown",
   "metadata": {}
  },
  {
   "source": [
    "### 3.4 八比特线路\n",
    "\n",
    "八比特线路如下："
   ],
   "cell_type": "markdown",
   "metadata": {}
  },
  {
   "cell_type": "code",
   "execution_count": 26,
   "metadata": {},
   "outputs": [
    {
     "output_type": "display_data",
     "data": {
      "text/plain": "",
      "text/html": "<pre style=\"white-space:pre;overflow-x:auto;line-height:normal;font-family:Menlo,'DejaVu Sans Mono',consolas,'Courier New',monospace\"></pre>\n"
     },
     "metadata": {}
    },
    {
     "output_type": "execute_result",
     "data": {
      "text/plain": "q0: ──X────●───────X────────X────●────X──‖──H────●──‖───────────────────‖‖──●────H──‖──X────●──────X──────X────●────X──‖──H────●──‖───────────────────‖‖──●────H──‖──X────●──────X──────X────●────X──‖──H────●──‖───────────────────‖‖──●────H──‖──X────●──────X──────X────●────X──‖──H────●──‖───────────────────‖‖──●────H──‖──X────●──────X──────X────●────X──‖──H────●──‖───────────────────‖‖──●────H──‖──X────●──────X──────X────●────X──‖──H────●──‖───────────────────‖‖──●────H──‖──X────●──────X──────X────●────X──‖──H────●──‖───────────────────‖‖──●────H──‖──X────●──────X──────X────●────X──‖──H────●──‖───────────────────‖‖──●────H──‖──X────●──────X──────X────●────X──‖──H────●──‖───────────────────‖‖──●────H──‖──X────●──────X──────X────●────X──‖──H────●──‖───────────────────‖‖──●────H──‖──X────●──────X──────X────●────X──‖──H────●──‖─────‖──M(q0)──\n           │                     │       ‖       │  ‖                   ‖‖  │       ‖       │                  │       ‖       │  ‖                   ‖‖  │       ‖       │                  │       ‖       │  ‖                   ‖‖  │       ‖       │                  │       ‖       │  ‖                   ‖‖  │       ‖       │                  │       ‖       │  ‖                   ‖‖  │       ‖       │                  │       ‖       │  ‖                   ‖‖  │       ‖       │                  │       ‖       │  ‖                   ‖‖  │       ‖       │                  │       ‖       │  ‖                   ‖‖  │       ‖       │                  │       ‖       │  ‖                   ‖‖  │       ‖       │                  │       ‖       │  ‖                   ‖‖  │       ‖       │                  │       ‖       │  ‖     ‖\nq1: ──X────●───────X────────X────●────X──‖──H────●──‖───────────────────‖‖──●────H──‖──X────●──────X──────X────●────X──‖──H────●──‖───────────────────‖‖──●────H──‖──X────●──────X──────X────●────X──‖──H────●──‖───────────────────‖‖──●────H──‖──X────●──────X──────X────●────X──‖──H────●──‖───────────────────‖‖──●────H──‖──X────●──────X──────X────●────X──‖──H────●──‖───────────────────‖‖──●────H──‖──X────●──────X──────X────●────X──‖──H────●──‖───────────────────‖‖──●────H──‖──X────●──────X──────X────●────X──‖──H────●──‖───────────────────‖‖──●────H──‖──X────●──────X──────X────●────X──‖──H────●──‖───────────────────‖‖──●────H──‖──X────●──────X──────X────●────X──‖──H────●──‖───────────────────‖‖──●────H──‖──X────●──────X──────X────●────X──‖──H────●──‖───────────────────‖‖──●────H──‖──X────●──────X──────X────●────X──‖──H────●──‖─────‖──M(q1)──\n           │                     │       ‖       │  ‖                   ‖‖  │       ‖       │                  │       ‖       │  ‖                   ‖‖  │       ‖       │                  │       ‖       │  ‖                   ‖‖  │       ‖       │                  │       ‖       │  ‖                   ‖‖  │       ‖       │                  │       ‖       │  ‖                   ‖‖  │       ‖       │                  │       ‖       │  ‖                   ‖‖  │       ‖       │                  │       ‖       │  ‖                   ‖‖  │       ‖       │                  │       ‖       │  ‖                   ‖‖  │       ‖       │                  │       ‖       │  ‖                   ‖‖  │       ‖       │                  │       ‖       │  ‖                   ‖‖  │       ‖       │                  │       ‖       │  ‖     ‖\nq2: ──X────●───────X────────X────●────X──‖──H────●──‖───────────────────‖‖──●────H──‖──X────●──────X──────X────●────X──‖──H────●──‖───────────────────‖‖──●────H──‖──X────●──────X──────X────●────X──‖──H────●──‖───────────────────‖‖──●────H──‖──X────●──────X──────X────●────X──‖──H────●──‖───────────────────‖‖──●────H──‖──X────●──────X──────X────●────X──‖──H────●──‖───────────────────‖‖──●────H──‖──X────●──────X──────X────●────X──‖──H────●──‖───────────────────‖‖──●────H──‖──X────●──────X──────X────●────X──‖──H────●──‖───────────────────‖‖──●────H──‖──X────●──────X──────X────●────X──‖──H────●──‖───────────────────‖‖──●────H──‖──X────●──────X──────X────●────X──‖──H────●──‖───────────────────‖‖──●────H──‖──X────●──────X──────X────●────X──‖──H────●──‖───────────────────‖‖──●────H──‖──X────●──────X──────X────●────X──‖──H────●──‖──X──‖──M(q2)──\n           │                     │       ‖       │  ‖                   ‖‖  │       ‖       │                  │       ‖       │  ‖                   ‖‖  │       ‖       │                  │       ‖       │  ‖                   ‖‖  │       ‖       │                  │       ‖       │  ‖                   ‖‖  │       ‖       │                  │       ‖       │  ‖                   ‖‖  │       ‖       │                  │       ‖       │  ‖                   ‖‖  │       ‖       │                  │       ‖       │  ‖                   ‖‖  │       ‖       │                  │       ‖       │  ‖                   ‖‖  │       ‖       │                  │       ‖       │  ‖                   ‖‖  │       ‖       │                  │       ‖       │  ‖                   ‖‖  │       ‖       │                  │       ‖       │  ‖     ‖\nq3: ──X────●───────X────────X────●────X──‖──H────●──‖───────────────────‖‖──●────H──‖──X────●──────X──────X────●────X──‖──H────●──‖───────────────────‖‖──●────H──‖──X────●──────X──────X────●────X──‖──H────●──‖───────────────────‖‖──●────H──‖──X────●──────X──────X────●────X──‖──H────●──‖───────────────────‖‖──●────H──‖──X────●──────X──────X────●────X──‖──H────●──‖───────────────────‖‖──●────H──‖──X────●──────X──────X────●────X──‖──H────●──‖───────────────────‖‖──●────H──‖──X────●──────X──────X────●────X──‖──H────●──‖───────────────────‖‖──●────H──‖──X────●──────X──────X────●────X──‖──H────●──‖───────────────────‖‖──●────H──‖──X────●──────X──────X────●────X──‖──H────●──‖───────────────────‖‖──●────H──‖──X────●──────X──────X────●────X──‖──H────●──‖───────────────────‖‖──●────H──‖──X────●──────X──────X────●────X──‖──H────●──‖──X──‖──M(q3)──\n           │                     │       ‖       │  ‖                   ‖‖  │       ‖       │                  │       ‖       │  ‖                   ‖‖  │       ‖       │                  │       ‖       │  ‖                   ‖‖  │       ‖       │                  │       ‖       │  ‖                   ‖‖  │       ‖       │                  │       ‖       │  ‖                   ‖‖  │       ‖       │                  │       ‖       │  ‖                   ‖‖  │       ‖       │                  │       ‖       │  ‖                   ‖‖  │       ‖       │                  │       ‖       │  ‖                   ‖‖  │       ‖       │                  │       ‖       │  ‖                   ‖‖  │       ‖       │                  │       ‖       │  ‖                   ‖‖  │       ‖       │                  │       ‖       │  ‖     ‖\nq4: ──X────●───────X────────X────●────X──‖──H────●──‖───────────────────‖‖──●────H──‖──X────●──────X──────X────●────X──‖──H────●──‖───────────────────‖‖──●────H──‖──X────●──────X──────X────●────X──‖──H────●──‖───────────────────‖‖──●────H──‖──X────●──────X──────X────●────X──‖──H────●──‖───────────────────‖‖──●────H──‖──X────●──────X──────X────●────X──‖──H────●──‖───────────────────‖‖──●────H──‖──X────●──────X──────X────●────X──‖──H────●──‖───────────────────‖‖──●────H──‖──X────●──────X──────X────●────X──‖──H────●──‖───────────────────‖‖──●────H──‖──X────●──────X──────X────●────X──‖──H────●──‖───────────────────‖‖──●────H──‖──X────●──────X──────X────●────X──‖──H────●──‖───────────────────‖‖──●────H──‖──X────●──────X──────X────●────X──‖──H────●──‖───────────────────‖‖──●────H──‖──X────●──────X──────X────●────X──‖──H────●──‖─────‖──M(q4)──\n           │                     │       ‖       │  ‖                   ‖‖  │       ‖       │                  │       ‖       │  ‖                   ‖‖  │       ‖       │                  │       ‖       │  ‖                   ‖‖  │       ‖       │                  │       ‖       │  ‖                   ‖‖  │       ‖       │                  │       ‖       │  ‖                   ‖‖  │       ‖       │                  │       ‖       │  ‖                   ‖‖  │       ‖       │                  │       ‖       │  ‖                   ‖‖  │       ‖       │                  │       ‖       │  ‖                   ‖‖  │       ‖       │                  │       ‖       │  ‖                   ‖‖  │       ‖       │                  │       ‖       │  ‖                   ‖‖  │       ‖       │                  │       ‖       │  ‖     ‖\nq5: ──X────●───────X────────X────●────X──‖──H────●──‖───────────────────‖‖──●────H──‖──X────●──────X──────X────●────X──‖──H────●──‖───────────────────‖‖──●────H──‖──X────●──────X──────X────●────X──‖──H────●──‖───────────────────‖‖──●────H──‖──X────●──────X──────X────●────X──‖──H────●──‖───────────────────‖‖──●────H──‖──X────●──────X──────X────●────X──‖──H────●──‖───────────────────‖‖──●────H──‖──X────●──────X──────X────●────X──‖──H────●──‖───────────────────‖‖──●────H──‖──X────●──────X──────X────●────X──‖──H────●──‖───────────────────‖‖──●────H──‖──X────●──────X──────X────●────X──‖──H────●──‖───────────────────‖‖──●────H──‖──X────●──────X──────X────●────X──‖──H────●──‖───────────────────‖‖──●────H──‖──X────●──────X──────X────●────X──‖──H────●──‖───────────────────‖‖──●────H──‖──X────●──────X──────X────●────X──‖──H────●──‖─────‖──M(q5)──\n           │                     │       ‖       │  ‖                   ‖‖  │       ‖       │                  │       ‖       │  ‖                   ‖‖  │       ‖       │                  │       ‖       │  ‖                   ‖‖  │       ‖       │                  │       ‖       │  ‖                   ‖‖  │       ‖       │                  │       ‖       │  ‖                   ‖‖  │       ‖       │                  │       ‖       │  ‖                   ‖‖  │       ‖       │                  │       ‖       │  ‖                   ‖‖  │       ‖       │                  │       ‖       │  ‖                   ‖‖  │       ‖       │                  │       ‖       │  ‖                   ‖‖  │       ‖       │                  │       ‖       │  ‖                   ‖‖  │       ‖       │                  │       ‖       │  ‖     ‖\nq6: ──X────●───────X────────X────●────X──‖──H────●──‖───────────────────‖‖──●────H──‖──X────●──────X──────X────●────X──‖──H────●──‖───────────────────‖‖──●────H──‖──X────●──────X──────X────●────X──‖──H────●──‖───────────────────‖‖──●────H──‖──X────●──────X──────X────●────X──‖──H────●──‖───────────────────‖‖──●────H──‖──X────●──────X──────X────●────X──‖──H────●──‖───────────────────‖‖──●────H──‖──X────●──────X──────X────●────X──‖──H────●──‖───────────────────‖‖──●────H──‖──X────●──────X──────X────●────X──‖──H────●──‖───────────────────‖‖──●────H──‖──X────●──────X──────X────●────X──‖──H────●──‖───────────────────‖‖──●────H──‖──X────●──────X──────X────●────X──‖──H────●──‖───────────────────‖‖──●────H──‖──X────●──────X──────X────●────X──‖──H────●──‖───────────────────‖‖──●────H──‖──X────●──────X──────X────●────X──‖──H────●──‖──X──‖──M(q6)──\n           │                     │       ‖       │  ‖                   ‖‖  │       ‖       │                  │       ‖       │  ‖                   ‖‖  │       ‖       │                  │       ‖       │  ‖                   ‖‖  │       ‖       │                  │       ‖       │  ‖                   ‖‖  │       ‖       │                  │       ‖       │  ‖                   ‖‖  │       ‖       │                  │       ‖       │  ‖                   ‖‖  │       ‖       │                  │       ‖       │  ‖                   ‖‖  │       ‖       │                  │       ‖       │  ‖                   ‖‖  │       ‖       │                  │       ‖       │  ‖                   ‖‖  │       ‖       │                  │       ‖       │  ‖                   ‖‖  │       ‖       │                  │       ‖       │  ‖     ‖\nq7: ──X────●───────X────────X────●────X──‖──H────●──‖───────────────────‖‖──●────H──‖──X────●──────X──────X────●────X──‖──H────●──‖───────────────────‖‖──●────H──‖──X────●──────X──────X────●────X──‖──H────●──‖───────────────────‖‖──●────H──‖──X────●──────X──────X────●────X──‖──H────●──‖───────────────────‖‖──●────H──‖──X────●──────X──────X────●────X──‖──H────●──‖───────────────────‖‖──●────H──‖──X────●──────X──────X────●────X──‖──H────●──‖───────────────────‖‖──●────H──‖──X────●──────X──────X────●────X──‖──H────●──‖───────────────────‖‖──●────H──‖──X────●──────X──────X────●────X──‖──H────●──‖───────────────────‖‖──●────H──‖──X────●──────X──────X────●────X──‖──H────●──‖───────────────────‖‖──●────H──‖──X────●──────X──────X────●────X──‖──H────●──‖───────────────────‖‖──●────H──‖──X────●──────X──────X────●────X──‖──H────●──‖─────‖──M(q7)──\n           │                     │       ‖       │  ‖                   ‖‖  │       ‖       │                  │       ‖       │  ‖                   ‖‖  │       ‖       │                  │       ‖       │  ‖                   ‖‖  │       ‖       │                  │       ‖       │  ‖                   ‖‖  │       ‖       │                  │       ‖       │  ‖                   ‖‖  │       ‖       │                  │       ‖       │  ‖                   ‖‖  │       ‖       │                  │       ‖       │  ‖                   ‖‖  │       ‖       │                  │       ‖       │  ‖                   ‖‖  │       ‖       │                  │       ‖       │  ‖                   ‖‖  │       ‖       │                  │       ‖       │  ‖                   ‖‖  │       ‖       │                  │       ‖       │  ‖     ‖\nq8: ──X────●───────X────────X────●────X──‖───────X──‖──●─────────────●──‖‖──X───────‖──X────●──────X──────X────●────X──‖───────X──‖──●─────────────●──‖‖──X───────‖──X────●──────X──────X────●────X──‖───────X──‖──●─────────────●──‖‖──X───────‖──X────●──────X──────X────●────X──‖───────X──‖──●─────────────●──‖‖──X───────‖──X────●──────X──────X────●────X──‖───────X──‖──●─────────────●──‖‖──X───────‖──X────●──────X──────X────●────X──‖───────X──‖──●─────────────●──‖‖──X───────‖──X────●──────X──────X────●────X──‖───────X──‖──●─────────────●──‖‖──X───────‖──X────●──────X──────X────●────X──‖───────X──‖──●─────────────●──‖‖──X───────‖──X────●──────X──────X────●────X──‖───────X──‖──●─────────────●──‖‖──X───────‖──X────●──────X──────X────●────X──‖───────X──‖──●─────────────●──‖‖──X───────‖──X────●──────X──────X────●────X──‖───────X──‖─────‖──M(q8)──\n           │                     │       ‖          ‖  │             │  ‖‖          ‖       │                  │       ‖          ‖  │             │  ‖‖          ‖       │                  │       ‖          ‖  │             │  ‖‖          ‖       │                  │       ‖          ‖  │             │  ‖‖          ‖       │                  │       ‖          ‖  │             │  ‖‖          ‖       │                  │       ‖          ‖  │             │  ‖‖          ‖       │                  │       ‖          ‖  │             │  ‖‖          ‖       │                  │       ‖          ‖  │             │  ‖‖          ‖       │                  │       ‖          ‖  │             │  ‖‖          ‖       │                  │       ‖          ‖  │             │  ‖‖          ‖       │                  │       ‖          ‖     ‖\nq9: ───────X────RZ(-20π)─────────X───────‖──────────‖──X────RZ(π)────X──‖‖──────────‖───────X────RZ(π)─────────X───────‖──────────‖──X────RZ(π)────X──‖‖──────────‖───────X────RZ(π)─────────X───────‖──────────‖──X────RZ(π)────X──‖‖──────────‖───────X────RZ(π)─────────X───────‖──────────‖──X────RZ(π)────X──‖‖──────────‖───────X────RZ(π)─────────X───────‖──────────‖──X────RZ(π)────X──‖‖──────────‖───────X────RZ(π)─────────X───────‖──────────‖──X────RZ(π)────X──‖‖──────────‖───────X────RZ(π)─────────X───────‖──────────‖──X────RZ(π)────X──‖‖──────────‖───────X────RZ(π)─────────X───────‖──────────‖──X────RZ(π)────X──‖‖──────────‖───────X────RZ(π)─────────X───────‖──────────‖──X────RZ(π)────X──‖‖──────────‖───────X────RZ(π)─────────X───────‖──────────‖──X────RZ(π)────X──‖‖──────────‖───────X────RZ(π)─────────X───────‖──────────‖─────‖──M(q9)──",
      "text/html": "<pre style=\"white-space: pre;\"><span style=\"color: #000080; text-decoration-color: #000080; font-weight: bold\">q0: ──X────●───────X────────X────●────X──‖──H────●──‖───────────────────‖‖──●────H──‖──X────●──────X──────X────●────X──‖──H────●──‖───────────────────‖‖──●────H──‖──X────●──────X──────X────●────X──‖──H────●──‖───────────────────‖‖──●────H──‖──X────●──────X──────X────●────X──‖──H────●──‖───────────────────‖‖──●────H──‖──X────●──────X──────X────●────X──‖──H────●──‖───────────────────‖‖──●────H──‖──X────●──────X──────X────●────X──‖──H────●──‖───────────────────‖‖──●────H──‖──X────●──────X──────X────●────X──‖──H────●──‖───────────────────‖‖──●────H──‖──X────●──────X──────X────●────X──‖──H────●──‖───────────────────‖‖──●────H──‖──X────●──────X──────X────●────X──‖──H────●──‖───────────────────‖‖──●────H──‖──X────●──────X──────X────●────X──‖──H────●──‖───────────────────‖‖──●────H──‖──X────●──────X──────X────●────X──‖──H────●──‖─────‖──</span><span style=\"color: #800080; text-decoration-color: #800080; font-weight: bold\">M</span><span style=\"color: #000080; text-decoration-color: #000080; font-weight: bold\">(q0)──</span>\n<span style=\"color: #000080; text-decoration-color: #000080; font-weight: bold\">           │                     │       ‖       │  ‖                   ‖‖  │       ‖       │                  │       ‖       │  ‖                   ‖‖  │       ‖       │                  │       ‖       │  ‖                   ‖‖  │       ‖       │                  │       ‖       │  ‖                   ‖‖  │       ‖       │                  │       ‖       │  ‖                   ‖‖  │       ‖       │                  │       ‖       │  ‖                   ‖‖  │       ‖       │                  │       ‖       │  ‖                   ‖‖  │       ‖       │                  │       ‖       │  ‖                   ‖‖  │       ‖       │                  │       ‖       │  ‖                   ‖‖  │       ‖       │                  │       ‖       │  ‖                   ‖‖  │       ‖       │                  │       ‖       │  ‖     ‖</span>\n<span style=\"color: #000080; text-decoration-color: #000080; font-weight: bold\">q1: ──X────●───────X────────X────●────X──‖──H────●──‖───────────────────‖‖──●────H──‖──X────●──────X──────X────●────X──‖──H────●──‖───────────────────‖‖──●────H──‖──X────●──────X──────X────●────X──‖──H────●──‖───────────────────‖‖──●────H──‖──X────●──────X──────X────●────X──‖──H────●──‖───────────────────‖‖──●────H──‖──X────●──────X──────X────●────X──‖──H────●──‖───────────────────‖‖──●────H──‖──X────●──────X──────X────●────X──‖──H────●──‖───────────────────‖‖──●────H──‖──X────●──────X──────X────●────X──‖──H────●──‖───────────────────‖‖──●────H──‖──X────●──────X──────X────●────X──‖──H────●──‖───────────────────‖‖──●────H──‖──X────●──────X──────X────●────X──‖──H────●──‖───────────────────‖‖──●────H──‖──X────●──────X──────X────●────X──‖──H────●──‖───────────────────‖‖──●────H──‖──X────●──────X──────X────●────X──‖──H────●──‖─────‖──</span><span style=\"color: #800080; text-decoration-color: #800080; font-weight: bold\">M</span><span style=\"color: #000080; text-decoration-color: #000080; font-weight: bold\">(q1)──</span>\n<span style=\"color: #000080; text-decoration-color: #000080; font-weight: bold\">           │                     │       ‖       │  ‖                   ‖‖  │       ‖       │                  │       ‖       │  ‖                   ‖‖  │       ‖       │                  │       ‖       │  ‖                   ‖‖  │       ‖       │                  │       ‖       │  ‖                   ‖‖  │       ‖       │                  │       ‖       │  ‖                   ‖‖  │       ‖       │                  │       ‖       │  ‖                   ‖‖  │       ‖       │                  │       ‖       │  ‖                   ‖‖  │       ‖       │                  │       ‖       │  ‖                   ‖‖  │       ‖       │                  │       ‖       │  ‖                   ‖‖  │       ‖       │                  │       ‖       │  ‖                   ‖‖  │       ‖       │                  │       ‖       │  ‖     ‖</span>\n<span style=\"color: #000080; text-decoration-color: #000080; font-weight: bold\">q2: ──X────●───────X────────X────●────X──‖──H────●──‖───────────────────‖‖──●────H──‖──X────●──────X──────X────●────X──‖──H────●──‖───────────────────‖‖──●────H──‖──X────●──────X──────X────●────X──‖──H────●──‖───────────────────‖‖──●────H──‖──X────●──────X──────X────●────X──‖──H────●──‖───────────────────‖‖──●────H──‖──X────●──────X──────X────●────X──‖──H────●──‖───────────────────‖‖──●────H──‖──X────●──────X──────X────●────X──‖──H────●──‖───────────────────‖‖──●────H──‖──X────●──────X──────X────●────X──‖──H────●──‖───────────────────‖‖──●────H──‖──X────●──────X──────X────●────X──‖──H────●──‖───────────────────‖‖──●────H──‖──X────●──────X──────X────●────X──‖──H────●──‖───────────────────‖‖──●────H──‖──X────●──────X──────X────●────X──‖──H────●──‖───────────────────‖‖──●────H──‖──X────●──────X──────X────●────X──‖──H────●──‖──X──‖──</span><span style=\"color: #800080; text-decoration-color: #800080; font-weight: bold\">M</span><span style=\"color: #000080; text-decoration-color: #000080; font-weight: bold\">(q2)──</span>\n<span style=\"color: #000080; text-decoration-color: #000080; font-weight: bold\">           │                     │       ‖       │  ‖                   ‖‖  │       ‖       │                  │       ‖       │  ‖                   ‖‖  │       ‖       │                  │       ‖       │  ‖                   ‖‖  │       ‖       │                  │       ‖       │  ‖                   ‖‖  │       ‖       │                  │       ‖       │  ‖                   ‖‖  │       ‖       │                  │       ‖       │  ‖                   ‖‖  │       ‖       │                  │       ‖       │  ‖                   ‖‖  │       ‖       │                  │       ‖       │  ‖                   ‖‖  │       ‖       │                  │       ‖       │  ‖                   ‖‖  │       ‖       │                  │       ‖       │  ‖                   ‖‖  │       ‖       │                  │       ‖       │  ‖     ‖</span>\n<span style=\"color: #000080; text-decoration-color: #000080; font-weight: bold\">q3: ──X────●───────X────────X────●────X──‖──H────●──‖───────────────────‖‖──●────H──‖──X────●──────X──────X────●────X──‖──H────●──‖───────────────────‖‖──●────H──‖──X────●──────X──────X────●────X──‖──H────●──‖───────────────────‖‖──●────H──‖──X────●──────X──────X────●────X──‖──H────●──‖───────────────────‖‖──●────H──‖──X────●──────X──────X────●────X──‖──H────●──‖───────────────────‖‖──●────H──‖──X────●──────X──────X────●────X──‖──H────●──‖───────────────────‖‖──●────H──‖──X────●──────X──────X────●────X──‖──H────●──‖───────────────────‖‖──●────H──‖──X────●──────X──────X────●────X──‖──H────●──‖───────────────────‖‖──●────H──‖──X────●──────X──────X────●────X──‖──H────●──‖───────────────────‖‖──●────H──‖──X────●──────X──────X────●────X──‖──H────●──‖───────────────────‖‖──●────H──‖──X────●──────X──────X────●────X──‖──H────●──‖──X──‖──</span><span style=\"color: #800080; text-decoration-color: #800080; font-weight: bold\">M</span><span style=\"color: #000080; text-decoration-color: #000080; font-weight: bold\">(q3)──</span>\n<span style=\"color: #000080; text-decoration-color: #000080; font-weight: bold\">           │                     │       ‖       │  ‖                   ‖‖  │       ‖       │                  │       ‖       │  ‖                   ‖‖  │       ‖       │                  │       ‖       │  ‖                   ‖‖  │       ‖       │                  │       ‖       │  ‖                   ‖‖  │       ‖       │                  │       ‖       │  ‖                   ‖‖  │       ‖       │                  │       ‖       │  ‖                   ‖‖  │       ‖       │                  │       ‖       │  ‖                   ‖‖  │       ‖       │                  │       ‖       │  ‖                   ‖‖  │       ‖       │                  │       ‖       │  ‖                   ‖‖  │       ‖       │                  │       ‖       │  ‖                   ‖‖  │       ‖       │                  │       ‖       │  ‖     ‖</span>\n<span style=\"color: #000080; text-decoration-color: #000080; font-weight: bold\">q4: ──X────●───────X────────X────●────X──‖──H────●──‖───────────────────‖‖──●────H──‖──X────●──────X──────X────●────X──‖──H────●──‖───────────────────‖‖──●────H──‖──X────●──────X──────X────●────X──‖──H────●──‖───────────────────‖‖──●────H──‖──X────●──────X──────X────●────X──‖──H────●──‖───────────────────‖‖──●────H──‖──X────●──────X──────X────●────X──‖──H────●──‖───────────────────‖‖──●────H──‖──X────●──────X──────X────●────X──‖──H────●──‖───────────────────‖‖──●────H──‖──X────●──────X──────X────●────X──‖──H────●──‖───────────────────‖‖──●────H──‖──X────●──────X──────X────●────X──‖──H────●──‖───────────────────‖‖──●────H──‖──X────●──────X──────X────●────X──‖──H────●──‖───────────────────‖‖──●────H──‖──X────●──────X──────X────●────X──‖──H────●──‖───────────────────‖‖──●────H──‖──X────●──────X──────X────●────X──‖──H────●──‖─────‖──</span><span style=\"color: #800080; text-decoration-color: #800080; font-weight: bold\">M</span><span style=\"color: #000080; text-decoration-color: #000080; font-weight: bold\">(q4)──</span>\n<span style=\"color: #000080; text-decoration-color: #000080; font-weight: bold\">           │                     │       ‖       │  ‖                   ‖‖  │       ‖       │                  │       ‖       │  ‖                   ‖‖  │       ‖       │                  │       ‖       │  ‖                   ‖‖  │       ‖       │                  │       ‖       │  ‖                   ‖‖  │       ‖       │                  │       ‖       │  ‖                   ‖‖  │       ‖       │                  │       ‖       │  ‖                   ‖‖  │       ‖       │                  │       ‖       │  ‖                   ‖‖  │       ‖       │                  │       ‖       │  ‖                   ‖‖  │       ‖       │                  │       ‖       │  ‖                   ‖‖  │       ‖       │                  │       ‖       │  ‖                   ‖‖  │       ‖       │                  │       ‖       │  ‖     ‖</span>\n<span style=\"color: #000080; text-decoration-color: #000080; font-weight: bold\">q5: ──X────●───────X────────X────●────X──‖──H────●──‖───────────────────‖‖──●────H──‖──X────●──────X──────X────●────X──‖──H────●──‖───────────────────‖‖──●────H──‖──X────●──────X──────X────●────X──‖──H────●──‖───────────────────‖‖──●────H──‖──X────●──────X──────X────●────X──‖──H────●──‖───────────────────‖‖──●────H──‖──X────●──────X──────X────●────X──‖──H────●──‖───────────────────‖‖──●────H──‖──X────●──────X──────X────●────X──‖──H────●──‖───────────────────‖‖──●────H──‖──X────●──────X──────X────●────X──‖──H────●──‖───────────────────‖‖──●────H──‖──X────●──────X──────X────●────X──‖──H────●──‖───────────────────‖‖──●────H──‖──X────●──────X──────X────●────X──‖──H────●──‖───────────────────‖‖──●────H──‖──X────●──────X──────X────●────X──‖──H────●──‖───────────────────‖‖──●────H──‖──X────●──────X──────X────●────X──‖──H────●──‖─────‖──</span><span style=\"color: #800080; text-decoration-color: #800080; font-weight: bold\">M</span><span style=\"color: #000080; text-decoration-color: #000080; font-weight: bold\">(q5)──</span>\n<span style=\"color: #000080; text-decoration-color: #000080; font-weight: bold\">           │                     │       ‖       │  ‖                   ‖‖  │       ‖       │                  │       ‖       │  ‖                   ‖‖  │       ‖       │                  │       ‖       │  ‖                   ‖‖  │       ‖       │                  │       ‖       │  ‖                   ‖‖  │       ‖       │                  │       ‖       │  ‖                   ‖‖  │       ‖       │                  │       ‖       │  ‖                   ‖‖  │       ‖       │                  │       ‖       │  ‖                   ‖‖  │       ‖       │                  │       ‖       │  ‖                   ‖‖  │       ‖       │                  │       ‖       │  ‖                   ‖‖  │       ‖       │                  │       ‖       │  ‖                   ‖‖  │       ‖       │                  │       ‖       │  ‖     ‖</span>\n<span style=\"color: #000080; text-decoration-color: #000080; font-weight: bold\">q6: ──X────●───────X────────X────●────X──‖──H────●──‖───────────────────‖‖──●────H──‖──X────●──────X──────X────●────X──‖──H────●──‖───────────────────‖‖──●────H──‖──X────●──────X──────X────●────X──‖──H────●──‖───────────────────‖‖──●────H──‖──X────●──────X──────X────●────X──‖──H────●──‖───────────────────‖‖──●────H──‖──X────●──────X──────X────●────X──‖──H────●──‖───────────────────‖‖──●────H──‖──X────●──────X──────X────●────X──‖──H────●──‖───────────────────‖‖──●────H──‖──X────●──────X──────X────●────X──‖──H────●──‖───────────────────‖‖──●────H──‖──X────●──────X──────X────●────X──‖──H────●──‖───────────────────‖‖──●────H──‖──X────●──────X──────X────●────X──‖──H────●──‖───────────────────‖‖──●────H──‖──X────●──────X──────X────●────X──‖──H────●──‖───────────────────‖‖──●────H──‖──X────●──────X──────X────●────X──‖──H────●──‖──X──‖──</span><span style=\"color: #800080; text-decoration-color: #800080; font-weight: bold\">M</span><span style=\"color: #000080; text-decoration-color: #000080; font-weight: bold\">(q6)──</span>\n<span style=\"color: #000080; text-decoration-color: #000080; font-weight: bold\">           │                     │       ‖       │  ‖                   ‖‖  │       ‖       │                  │       ‖       │  ‖                   ‖‖  │       ‖       │                  │       ‖       │  ‖                   ‖‖  │       ‖       │                  │       ‖       │  ‖                   ‖‖  │       ‖       │                  │       ‖       │  ‖                   ‖‖  │       ‖       │                  │       ‖       │  ‖                   ‖‖  │       ‖       │                  │       ‖       │  ‖                   ‖‖  │       ‖       │                  │       ‖       │  ‖                   ‖‖  │       ‖       │                  │       ‖       │  ‖                   ‖‖  │       ‖       │                  │       ‖       │  ‖                   ‖‖  │       ‖       │                  │       ‖       │  ‖     ‖</span>\n<span style=\"color: #000080; text-decoration-color: #000080; font-weight: bold\">q7: ──X────●───────X────────X────●────X──‖──H────●──‖───────────────────‖‖──●────H──‖──X────●──────X──────X────●────X──‖──H────●──‖───────────────────‖‖──●────H──‖──X────●──────X──────X────●────X──‖──H────●──‖───────────────────‖‖──●────H──‖──X────●──────X──────X────●────X──‖──H────●──‖───────────────────‖‖──●────H──‖──X────●──────X──────X────●────X──‖──H────●──‖───────────────────‖‖──●────H──‖──X────●──────X──────X────●────X──‖──H────●──‖───────────────────‖‖──●────H──‖──X────●──────X──────X────●────X──‖──H────●──‖───────────────────‖‖──●────H──‖──X────●──────X──────X────●────X──‖──H────●──‖───────────────────‖‖──●────H──‖──X────●──────X──────X────●────X──‖──H────●──‖───────────────────‖‖──●────H──‖──X────●──────X──────X────●────X──‖──H────●──‖───────────────────‖‖──●────H──‖──X────●──────X──────X────●────X──‖──H────●──‖─────‖──</span><span style=\"color: #800080; text-decoration-color: #800080; font-weight: bold\">M</span><span style=\"color: #000080; text-decoration-color: #000080; font-weight: bold\">(q7)──</span>\n<span style=\"color: #000080; text-decoration-color: #000080; font-weight: bold\">           │                     │       ‖       │  ‖                   ‖‖  │       ‖       │                  │       ‖       │  ‖                   ‖‖  │       ‖       │                  │       ‖       │  ‖                   ‖‖  │       ‖       │                  │       ‖       │  ‖                   ‖‖  │       ‖       │                  │       ‖       │  ‖                   ‖‖  │       ‖       │                  │       ‖       │  ‖                   ‖‖  │       ‖       │                  │       ‖       │  ‖                   ‖‖  │       ‖       │                  │       ‖       │  ‖                   ‖‖  │       ‖       │                  │       ‖       │  ‖                   ‖‖  │       ‖       │                  │       ‖       │  ‖                   ‖‖  │       ‖       │                  │       ‖       │  ‖     ‖</span>\n<span style=\"color: #000080; text-decoration-color: #000080; font-weight: bold\">q8: ──X────●───────X────────X────●────X──‖───────X──‖──●─────────────●──‖‖──X───────‖──X────●──────X──────X────●────X──‖───────X──‖──●─────────────●──‖‖──X───────‖──X────●──────X──────X────●────X──‖───────X──‖──●─────────────●──‖‖──X───────‖──X────●──────X──────X────●────X──‖───────X──‖──●─────────────●──‖‖──X───────‖──X────●──────X──────X────●────X──‖───────X──‖──●─────────────●──‖‖──X───────‖──X────●──────X──────X────●────X──‖───────X──‖──●─────────────●──‖‖──X───────‖──X────●──────X──────X────●────X──‖───────X──‖──●─────────────●──‖‖──X───────‖──X────●──────X──────X────●────X──‖───────X──‖──●─────────────●──‖‖──X───────‖──X────●──────X──────X────●────X──‖───────X──‖──●─────────────●──‖‖──X───────‖──X────●──────X──────X────●────X──‖───────X──‖──●─────────────●──‖‖──X───────‖──X────●──────X──────X────●────X──‖───────X──‖─────‖──</span><span style=\"color: #800080; text-decoration-color: #800080; font-weight: bold\">M</span><span style=\"color: #000080; text-decoration-color: #000080; font-weight: bold\">(q8)──</span>\n<span style=\"color: #000080; text-decoration-color: #000080; font-weight: bold\">           │                     │       ‖          ‖  │             │  ‖‖          ‖       │                  │       ‖          ‖  │             │  ‖‖          ‖       │                  │       ‖          ‖  │             │  ‖‖          ‖       │                  │       ‖          ‖  │             │  ‖‖          ‖       │                  │       ‖          ‖  │             │  ‖‖          ‖       │                  │       ‖          ‖  │             │  ‖‖          ‖       │                  │       ‖          ‖  │             │  ‖‖          ‖       │                  │       ‖          ‖  │             │  ‖‖          ‖       │                  │       ‖          ‖  │             │  ‖‖          ‖       │                  │       ‖          ‖  │             │  ‖‖          ‖       │                  │       ‖          ‖     ‖</span>\n<span style=\"color: #000080; text-decoration-color: #000080; font-weight: bold\">q9: ───────X────</span><span style=\"color: #800080; text-decoration-color: #800080; font-weight: bold\">RZ</span><span style=\"color: #000080; text-decoration-color: #000080; font-weight: bold\">(-20π)─────────X───────‖──────────‖──X────</span><span style=\"color: #800080; text-decoration-color: #800080; font-weight: bold\">RZ</span><span style=\"color: #000080; text-decoration-color: #000080; font-weight: bold\">(π)────X──‖‖──────────‖───────X────</span><span style=\"color: #800080; text-decoration-color: #800080; font-weight: bold\">RZ</span><span style=\"color: #000080; text-decoration-color: #000080; font-weight: bold\">(π)─────────X───────‖──────────‖──X────</span><span style=\"color: #800080; text-decoration-color: #800080; font-weight: bold\">RZ</span><span style=\"color: #000080; text-decoration-color: #000080; font-weight: bold\">(π)────X──‖‖──────────‖───────X────</span><span style=\"color: #800080; text-decoration-color: #800080; font-weight: bold\">RZ</span><span style=\"color: #000080; text-decoration-color: #000080; font-weight: bold\">(π)─────────X───────‖──────────‖──X────</span><span style=\"color: #800080; text-decoration-color: #800080; font-weight: bold\">RZ</span><span style=\"color: #000080; text-decoration-color: #000080; font-weight: bold\">(π)────X──‖‖──────────‖───────X────</span><span style=\"color: #800080; text-decoration-color: #800080; font-weight: bold\">RZ</span><span style=\"color: #000080; text-decoration-color: #000080; font-weight: bold\">(π)─────────X───────‖──────────‖──X────</span><span style=\"color: #800080; text-decoration-color: #800080; font-weight: bold\">RZ</span><span style=\"color: #000080; text-decoration-color: #000080; font-weight: bold\">(π)────X──‖‖──────────‖───────X────</span><span style=\"color: #800080; text-decoration-color: #800080; font-weight: bold\">RZ</span><span style=\"color: #000080; text-decoration-color: #000080; font-weight: bold\">(π)─────────X───────‖──────────‖──X────</span><span style=\"color: #800080; text-decoration-color: #800080; font-weight: bold\">RZ</span><span style=\"color: #000080; text-decoration-color: #000080; font-weight: bold\">(π)────X──‖‖──────────‖───────X────</span><span style=\"color: #800080; text-decoration-color: #800080; font-weight: bold\">RZ</span><span style=\"color: #000080; text-decoration-color: #000080; font-weight: bold\">(π)─────────X───────‖──────────‖──X────</span><span style=\"color: #800080; text-decoration-color: #800080; font-weight: bold\">RZ</span><span style=\"color: #000080; text-decoration-color: #000080; font-weight: bold\">(π)────X──‖‖──────────‖───────X────</span><span style=\"color: #800080; text-decoration-color: #800080; font-weight: bold\">RZ</span><span style=\"color: #000080; text-decoration-color: #000080; font-weight: bold\">(π)─────────X───────‖──────────‖──X────</span><span style=\"color: #800080; text-decoration-color: #800080; font-weight: bold\">RZ</span><span style=\"color: #000080; text-decoration-color: #000080; font-weight: bold\">(π)────X──‖‖──────────‖───────X────</span><span style=\"color: #800080; text-decoration-color: #800080; font-weight: bold\">RZ</span><span style=\"color: #000080; text-decoration-color: #000080; font-weight: bold\">(π)─────────X───────‖──────────‖──X────</span><span style=\"color: #800080; text-decoration-color: #800080; font-weight: bold\">RZ</span><span style=\"color: #000080; text-decoration-color: #000080; font-weight: bold\">(π)────X──‖‖──────────‖───────X────</span><span style=\"color: #800080; text-decoration-color: #800080; font-weight: bold\">RZ</span><span style=\"color: #000080; text-decoration-color: #000080; font-weight: bold\">(π)─────────X───────‖──────────‖──X────</span><span style=\"color: #800080; text-decoration-color: #800080; font-weight: bold\">RZ</span><span style=\"color: #000080; text-decoration-color: #000080; font-weight: bold\">(π)────X──‖‖──────────‖───────X────</span><span style=\"color: #800080; text-decoration-color: #800080; font-weight: bold\">RZ</span><span style=\"color: #000080; text-decoration-color: #000080; font-weight: bold\">(π)─────────X───────‖──────────‖──X────</span><span style=\"color: #800080; text-decoration-color: #800080; font-weight: bold\">RZ</span><span style=\"color: #000080; text-decoration-color: #000080; font-weight: bold\">(π)────X──‖‖──────────‖───────X────</span><span style=\"color: #800080; text-decoration-color: #800080; font-weight: bold\">RZ</span><span style=\"color: #000080; text-decoration-color: #000080; font-weight: bold\">(π)─────────X───────‖──────────‖─────‖──</span><span style=\"color: #800080; text-decoration-color: #800080; font-weight: bold\">M</span><span style=\"color: #000080; text-decoration-color: #000080; font-weight: bold\">(q9)──</span>\n</pre>\n"
     },
     "metadata": {},
     "execution_count": 26
    }
   ],
   "source": [
    "circuit_test = qsvt_search('10110011')\n",
    "circuit_test"
   ]
  },
  {
   "cell_type": "code",
   "execution_count": 28,
   "metadata": {},
   "outputs": [
    {
     "output_type": "display_data",
     "data": {
      "text/plain": "",
      "text/html": "<pre style=\"white-space:pre;overflow-x:auto;line-height:normal;font-family:Menlo,'DejaVu Sans Mono',consolas,'Courier New',monospace\"></pre>\n"
     },
     "metadata": {}
    },
    {
     "output_type": "execute_result",
     "data": {
      "text/plain": "shots: 100\nKeys: q9 q8 q7 q6 q5 q4 q3 q2 q1 q0│0.00     0.2         0.4         0.6         0.8         1.0\n───────────────────────────────────┼───────────┴───────────┴───────────┴───────────┴───────────┴\n                         0001011010│▒\n                                   │\n                         0011000000│▒\n                                   │\n                         0011010011│▒\n                                   │\n                         0011011001│▒\n                                   │\n                         0110110011│▓▓▓▓▓▓▓▓▓▓▓▓▓▓▓▓▓▓▓▓▓▓▓▓▓▓▓▓▓▓▓▓▓▓▓▓▓▓▓▓▓▓▓▓▓▓▓▓▓▓▓▓▓▓▓▓▓▓\n                                   │\n{'0001011010': 1, '0011000000': 1, '0011010011': 1, '0011011001': 1, '0110110011': 96}",
      "text/html": "<pre style=\"white-space: pre;\"><span style=\"color: #808000; text-decoration-color: #808000\">shots: </span><span style=\"color: #008080; text-decoration-color: #008080; font-weight: bold\">100</span>\n<span style=\"color: #808000; text-decoration-color: #808000\">Keys: q9 q8 q7 q6 q5 q4 q3 q2 q1 q0│</span><span style=\"color: #008080; text-decoration-color: #008080; font-weight: bold\">0.00</span><span style=\"color: #808000; text-decoration-color: #808000\">     </span><span style=\"color: #008080; text-decoration-color: #008080; font-weight: bold\">0.2</span><span style=\"color: #808000; text-decoration-color: #808000\">         </span><span style=\"color: #008080; text-decoration-color: #008080; font-weight: bold\">0.4</span><span style=\"color: #808000; text-decoration-color: #808000\">         </span><span style=\"color: #008080; text-decoration-color: #008080; font-weight: bold\">0.6</span><span style=\"color: #808000; text-decoration-color: #808000\">         </span><span style=\"color: #008080; text-decoration-color: #008080; font-weight: bold\">0.8</span><span style=\"color: #808000; text-decoration-color: #808000\">         </span>\n<span style=\"color: #008080; text-decoration-color: #008080; font-weight: bold\">1.0</span>\n<span style=\"color: #808000; text-decoration-color: #808000\">───────────────────────────────────┼───────────┴───────────┴───────────┴───────────┴─────────</span>\n<span style=\"color: #808000; text-decoration-color: #808000\">──┴</span>\n<span style=\"color: #808000; text-decoration-color: #808000\">                         </span><span style=\"color: #008080; text-decoration-color: #008080; font-weight: bold\">0001011010</span><span style=\"color: #808000; text-decoration-color: #808000\">│▒</span>\n<span style=\"color: #808000; text-decoration-color: #808000\">                                   │</span>\n<span style=\"color: #808000; text-decoration-color: #808000\">                         </span><span style=\"color: #008080; text-decoration-color: #008080; font-weight: bold\">0011000000</span><span style=\"color: #808000; text-decoration-color: #808000\">│▒</span>\n<span style=\"color: #808000; text-decoration-color: #808000\">                                   │</span>\n<span style=\"color: #808000; text-decoration-color: #808000\">                         </span><span style=\"color: #008080; text-decoration-color: #008080; font-weight: bold\">0011010011</span><span style=\"color: #808000; text-decoration-color: #808000\">│▒</span>\n<span style=\"color: #808000; text-decoration-color: #808000\">                                   │</span>\n<span style=\"color: #808000; text-decoration-color: #808000\">                         </span><span style=\"color: #008080; text-decoration-color: #008080; font-weight: bold\">0011011001</span><span style=\"color: #808000; text-decoration-color: #808000\">│▒</span>\n<span style=\"color: #808000; text-decoration-color: #808000\">                                   │</span>\n<span style=\"color: #808000; text-decoration-color: #808000\">                         </span><span style=\"color: #008080; text-decoration-color: #008080; font-weight: bold\">0110110011</span><span style=\"color: #808000; text-decoration-color: #808000\">│▓▓▓▓▓▓▓▓▓▓▓▓▓▓▓▓▓▓▓▓▓▓▓▓▓▓▓▓▓▓▓▓▓▓▓▓▓▓▓▓▓▓▓▓▓▓▓▓▓▓▓▓▓▓▓▓▓</span>\n<span style=\"color: #808000; text-decoration-color: #808000\">▓</span>\n<span style=\"color: #808000; text-decoration-color: #808000\">                                   │</span>\n<span style=\"color: #808000; text-decoration-color: #808000; font-weight: bold\">{</span><span style=\"color: #008000; text-decoration-color: #008000\">&#x27;0001011010&#x27;</span><span style=\"color: #808000; text-decoration-color: #808000\">: </span><span style=\"color: #008080; text-decoration-color: #008080; font-weight: bold\">1</span><span style=\"color: #808000; text-decoration-color: #808000\">, </span><span style=\"color: #008000; text-decoration-color: #008000\">&#x27;0011000000&#x27;</span><span style=\"color: #808000; text-decoration-color: #808000\">: </span><span style=\"color: #008080; text-decoration-color: #008080; font-weight: bold\">1</span><span style=\"color: #808000; text-decoration-color: #808000\">, </span><span style=\"color: #008000; text-decoration-color: #008000\">&#x27;0011010011&#x27;</span><span style=\"color: #808000; text-decoration-color: #808000\">: </span><span style=\"color: #008080; text-decoration-color: #008080; font-weight: bold\">1</span><span style=\"color: #808000; text-decoration-color: #808000\">, </span><span style=\"color: #008000; text-decoration-color: #008000\">&#x27;0011011001&#x27;</span><span style=\"color: #808000; text-decoration-color: #808000\">: </span><span style=\"color: #008080; text-decoration-color: #008080; font-weight: bold\">1</span><span style=\"color: #808000; text-decoration-color: #808000\">, </span><span style=\"color: #008000; text-decoration-color: #008000\">&#x27;0110110011&#x27;</span><span style=\"color: #808000; text-decoration-color: #808000\">: </span><span style=\"color: #008080; text-decoration-color: #008080; font-weight: bold\">96</span><span style=\"color: #808000; text-decoration-color: #808000; font-weight: bold\">}</span>\n</pre>\n"
     },
     "metadata": {},
     "execution_count": 28
    }
   ],
   "source": [
    "# pylint: disable=W0104\n",
    "sim_test = Simulator('projectq', circuit_test.n_qubits)            # 使用projectq模拟器，命名为sim_test\n",
    "#sim_test.apply_circuit(circuit_test)                      # 通过模拟器sim_test运行搭建好的量子线路circuit_test\n",
    "\n",
    "sim_test.reset()                                      # 重置模拟器sim_test维护好的量子态，使得初始化的量子态为|000>\n",
    "\n",
    "result = sim_test.sampling(circuit_test, shots=100)      # 通过模拟器sim_test对量子线路circuit_test进行1000次的采样\n",
    "result                                            # 打印采样结果"
   ]
  },
  {
   "source": [
    "搜索成功率为96%。"
   ],
   "cell_type": "markdown",
   "metadata": {}
  },
  {
   "source": [
    "## 4. 反思与展望\n",
    "\n",
    "（1）目前的拟合多项式和线路只支持10比特以下，且当比特数较多时，线路深度很大，运行时间和仿真时间显著变长。接下来可以研究10比特以上的情况，优化当前线路。\n",
    "\n",
    "（2）QSVT搜索算法中，矩阵A是一个常数，因此搜索算法是QSVT中比较好实现的一个。接下来可以继续研究Shor算法、哈密顿量模拟算法等在QSVT下的实现，尝试用QSVT框架统一已知的量子算法。"
   ],
   "cell_type": "markdown",
   "metadata": {}
  },
  {
   "source": [
    "## 5. 参考资料\n",
    "\n",
    "1. John M. Martyn, Zane M. Rossi, Andrew K. Tan, Isaac L. Chuang, \"A Grand Unification of Quantum Algorithms\"，[https://arxiv.org/abs/2105.02859](https://arxiv.org/abs/2105.02859)\n",
    "\n",
    "2.  Isaac Chuang - Grand Unification of Quantum Algorithms, [https://www.youtube.com/watch?v=GFRojXdrVXI&t=2083s](https://www.youtube.com/watch?v=GFRojXdrVXI&t=2083s)\n",
    "\n",
    "3. QSVTinQiskit-2021-Europe-Hackathon-Winning-Project-:https://github.com/bartubisgin/QSVTinQiskit-2021-Europe-Hackathon-Winning-Project-"
   ],
   "cell_type": "markdown",
   "metadata": {}
  }
 ],
 "metadata": {
  "kernelspec": {
   "display_name": "Python 3.7.5 64-bit",
   "language": "python",
   "name": "python37564bit18c1456004594cfd8d99915984b1ef64"
  },
  "language_info": {
   "codemirror_mode": {
    "name": "ipython",
    "version": 3
   },
   "file_extension": ".py",
   "mimetype": "text/x-python",
   "name": "python",
   "nbconvert_exporter": "python",
   "pygments_lexer": "ipython3",
   "version": "3.7.5-final"
  }
 },
 "nbformat": 4,
 "nbformat_minor": 5
}