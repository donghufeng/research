{
 "cells": [
  {
   "cell_type": "markdown",
   "metadata": {},
   "source": [
    "# 论文名称-An aritifical neuron implemented on an actual quantum processor\n",
    "\n",
    "## 项目介绍\n",
    "\n",
    " 论文中介绍了一种量子感知器算法，可以用来模式识别。首先量子感知器包含三个部分(全部有量子线路组成), 输入线路 $U_i$, 训练线路 $U_w$ 和激活函数线路。一开始，初始量子比特都为 $|0\\rangle$, 先经过 Hadamad 门。如果是2两个量子比特，量子态变为 $\\frac{1}{2}(|00\\rangle + |01\\rangle + |10\\rangle + |11\\rangle)$ 线路经过 $U_i$ 后不会改变每个量子态的振幅，但是会改变其中某个量子态的相位，前面加个-1。所以量子态经过 $U_{in}$ 后有 $2^{4}=16$ 种。然后经过 $U_w$ , $U_w$也是改变前面的量子态的相位。如果 $U_w$ 可以识别前面的 $U_i$, 每个量子态前面的相位又都变为1, 再经过 Hadamad 门, 量子态全部变为 $|0\\rangle$ 态，在线路中加入X 门翻转量子比特，0态变1态。激活函数为Toffili 门, 最后通过测量辅助比特为态的概率来判断相应的输入模式有没有被识别。\n",
    "\n",
    "![circ](./src/circuit.png)"
   ]
  },
  {
   "cell_type": "markdown",
   "metadata": {},
   "source": [
    "## 复现过程"
   ]
  },
  {
   "cell_type": "code",
   "execution_count": 1,
   "metadata": {},
   "outputs": [
    {
     "name": "stderr",
     "output_type": "stream",
     "text": [
      "[WARNING] ME(154267:139831320220992,MainProcess):2023-10-17-16:14:37.800.925 [mindspore/run_check/_check_version.py:102] MindSpore version 2.1.0 and cuda version 11.8.89 does not match, CUDA version [['10.1', '11.1', '11.6']] are supported by MindSpore officially. Please refer to the installation guide for version matching information: https://www.mindspore.cn/install.\n"
     ]
    }
   ],
   "source": [
    "import numpy as np\n",
    "import matplotlib.pyplot as plt\n",
    "from tqdm import tqdm\n",
    "from src.quantum_perceptron import  perceptron\n",
    "plt.rcParams[\"figure.dpi\"]=200\n"
   ]
  },
  {
   "cell_type": "markdown",
   "metadata": {},
   "source": [
    "#### 文献中用 hypergraph state 来实现所有的 $U_{in}$ 和 $U_w$ 的量子线路。对于4个量子比特，用到的的门为: z门、控制z门、两比特控制z门和三比特控制z门的组合。这四种门在4条量子线路里有 $2^{15}$种组合，这些组合线路经过 Hadamad 门的量子态(有全局相位-1或没有)会产生 $2^{16}$种输入量子线路。"
   ]
  },
  {
   "cell_type": "code",
   "execution_count": 2,
   "metadata": {},
   "outputs": [],
   "source": [
    "z_combinations,  control_z_combinations, control_2_z_combinatons, control_3_z_combinations = perceptron.gate_combinations()\n",
    "\n",
    "data_circuits_input, data_circuits_weight = perceptron.data_circuits(z_combinations,  control_z_combinations, control_2_z_combinatons, control_3_z_combinations)\n",
    "circ_state_information = perceptron.circuit_state(data_circuits_input)"
   ]
  },
  {
   "cell_type": "markdown",
   "metadata": {},
   "source": [
    "### 用字典将 $U_{in}$的态信息和量子线路对应"
   ]
  },
  {
   "cell_type": "code",
   "execution_count": 3,
   "metadata": {
    "tags": []
   },
   "outputs": [
    {
     "name": "stdout",
     "output_type": "stream",
     "text": [
      "考虑线路对称性后,量子线路有2^15:  32768种\n",
      "32768\n",
      "正样本的数量有:44个 \n"
     ]
    }
   ],
   "source": [
    "input_dataset = dict(zip(circ_state_information,data_circuits_input))  ### 全部的\n",
    "weight_dataset = dict(zip(circ_state_information,data_circuits_weight)) \n",
    "\n",
    "set_lst=set(circ_state_information) # 判断有没有重复的数据\n",
    "print(\"考虑线路对称性后,量子线路有2^15:  %d种\" %(len(set_lst)))\n",
    "print(len(set_lst))\n",
    "\n",
    "positive_data, training_data, traing_label = perceptron.training_data(input_dataset)\n",
    "print(\"正样本的数量有:%d个 \" %(len(positive_data)))"
   ]
  },
  {
   "cell_type": "code",
   "execution_count": 4,
   "metadata": {
    "tags": []
   },
   "outputs": [
    {
     "name": "stdout",
     "output_type": "stream",
     "text": [
      "This is the 1th 循环\n",
      "This is the 11th 循环\n",
      "This is the 21th 循环\n",
      "This is the 31th 循环\n",
      "This is the 41th 循环\n",
      "This is the 51th 循环\n",
      "This is the 61th 循环\n",
      "This is the 71th 循环\n",
      "This is the 81th 循环\n",
      "This is the 91th 循环\n",
      "This is the 101th 循环\n",
      "This is the 111th 循环\n",
      "This is the 121th 循环\n",
      "This is the 131th 循环\n",
      "This is the 141th 循环\n",
      "This is the 151th 循环\n",
      "This is the 161th 循环\n",
      "This is the 171th 循环\n",
      "This is the 181th 循环\n",
      "This is the 191th 循环\n",
      "This is the 201th 循环\n",
      "This is the 211th 循环\n",
      "This is the 221th 循环\n",
      "This is the 231th 循环\n",
      "This is the 241th 循环\n",
      "This is the 251th 循环\n",
      "This is the 261th 循环\n",
      "This is the 271th 循环\n",
      "This is the 281th 循环\n",
      "This is the 291th 循环\n",
      "This is the 301th 循环\n",
      "This is the 311th 循环\n",
      "This is the 321th 循环\n",
      "This is the 331th 循环\n",
      "This is the 341th 循环\n",
      "This is the 351th 循环\n",
      "This is the 361th 循环\n",
      "This is the 371th 循环\n",
      "This is the 381th 循环\n",
      "This is the 391th 循环\n",
      "This is the 401th 循环\n",
      "This is the 411th 循环\n",
      "This is the 421th 循环\n",
      "This is the 431th 循环\n",
      "This is the 441th 循环\n",
      "This is the 451th 循环\n",
      "This is the 461th 循环\n",
      "This is the 471th 循环\n",
      "This is the 481th 循环\n",
      "This is the 491th 循环\n",
      "This is the 501th 循环\n",
      "This is the 511th 循环\n",
      "This is the 521th 循环\n",
      "This is the 531th 循环\n",
      "This is the 541th 循环\n",
      "通过训练后最终的w_t是: \n",
      "[[1 1 1 1]\n",
      " [1 1 0 1]\n",
      " [1 0 0 1]\n",
      " [1 1 1 1]]\n"
     ]
    }
   ],
   "source": [
    " # random weight vector\n",
    "w_vector = (1,1,1,0,\n",
    "                0,0,0,1,\n",
    "                1,0,1,0,\n",
    "                0,0,0,1)\n",
    "w_t = []\n",
    "w_t_matrix = []\n",
    "w_final = []\n",
    "for index, in_vector in enumerate(training_data):\n",
    "\n",
    "    input_circuits = input_dataset[in_vector]\n",
    "    try:\n",
    "        weight_circuits = weight_dataset[w_vector]\n",
    "    except :\n",
    "        print(\"输入的初始w0没有对应的量子线路\")\n",
    "    pred = perceptron.active_function(input_circuits, weight_circuits)\n",
    "    labels = traing_label[in_vector]\n",
    "\n",
    "    w_vector = perceptron.update(in_vector, w_vector, pred, input_dataset, weight_dataset)\n",
    "    w_t.append(w_vector)\n",
    "    if index%10 == 1:\n",
    "        print(\"This is the %dth 循环\"%(index))\n",
    "\n",
    "w_final_matrix = np.array(list(w_vector)).reshape(4,4)\n",
    "for i in w_t:\n",
    "    w_t_matrix.append(np.array(list(i)).reshape(4,4))\n",
    "print(\"通过训练后最终的w_t是: \")\n",
    "print(w_final_matrix)"
   ]
  },
  {
   "cell_type": "code",
   "execution_count": 5,
   "metadata": {
    "tags": []
   },
   "outputs": [
    {
     "name": "stderr",
     "output_type": "stream",
     "text": [
      "100%|██████████| 544/544 [00:02<00:00, 259.90it/s]\n"
     ]
    }
   ],
   "source": [
    "weight_target_circuits = weight_dataset[w_vector]\n",
    "correct = 0\n",
    "for in_vector in tqdm(training_data):\n",
    "    input_circuits = input_dataset[in_vector]\n",
    "    pred = perceptron.active_function(input_circuits, weight_target_circuits)\n",
    "    if traing_label[in_vector] == pred:\n",
    "        correct += 1\n",
    "correct_radio = correct/len(training_data)"
   ]
  },
  {
   "cell_type": "code",
   "execution_count": 6,
   "metadata": {
    "tags": []
   },
   "outputs": [
    {
     "name": "stdout",
     "output_type": "stream",
     "text": [
      "目标w对所有样本的识别率为: 0.9522064\n"
     ]
    }
   ],
   "source": [
    "print(\"目标w对所有样本的识别率为: %f4\"%(correct_radio))"
   ]
  },
  {
   "cell_type": "markdown",
   "metadata": {},
   "source": [
    "### 复现的论文中图5训练过程，对于给定的输入可以实现99.8%的识别率，论文中负样本选取了3000个，因为训练数据太多比较耗时，这里选取了500个负样本，同样可以训练出目标w。因为所产生的负样本的训练数据有一个或两个态也可以被w识别，所以没有实现100%识别率。"
   ]
  },
  {
   "cell_type": "code",
   "execution_count": 7,
   "metadata": {
    "tags": []
   },
   "outputs": [
    {
     "data": {
      "image/png": "[encoded data removed]",
      "text/plain": [
       "<Figure size 1280x960 with 1 Axes>"
      ]
     },
     "metadata": {},
     "output_type": "display_data"
    }
   ],
   "source": [
    "psi_w = 0.25*np.array([1, 1, 1, 1,\n",
    "                       1, 1, -1, 1,\n",
    "                       1, -1, -1, -1,\n",
    "                       1, 1, -1, 1])\n",
    "psi_wt = []\n",
    "fidelity = []\n",
    "for i in w_t:\n",
    "    psi = np.ones(16)\n",
    "    for index, j in enumerate(i):\n",
    "        if j == 0:\n",
    "            psi[index] = -1\n",
    "    psi_wt.append(0.25*psi)\n",
    "\n",
    "for i in range(len(w_t)):\n",
    "    fidelity.append((psi_wt[i].dot(psi_w))**2)\n",
    "\n",
    "#print(\"最后得到的训练每一步的w_t和目标w的fedility\")\n",
    "steps = np.arange(0, len(w_t), 1)\n",
    "plt.plot(steps, fidelity)\n",
    "plt.xlabel(\"Training steps\")\n",
    "plt.ylabel(r\"$f=|\\psi_{w_t}|\\psi_w|^2$\")\n",
    "plt.show()"
   ]
  },
  {
   "cell_type": "markdown",
   "metadata": {},
   "source": [
    "## 项目总结\n",
    "\n",
    "简要总结一下您复现的论文、您的复现结果、创新点和未来可继续研究的方向。\n",
    "\n"
   ]
  },
  {
   "cell_type": "markdown",
   "metadata": {},
   "source": [
    "这篇文章输入线路和所要训练的线路都不改变量子态的振幅，通过训练可以实现对量子态的识别。未来可以继续研究的方向在于能不能改变量子态的振幅，实现对更多量子态的识别。"
   ]
  },
  {
   "cell_type": "code",
   "execution_count": null,
   "metadata": {},
   "outputs": [],
   "source": []
  }
 ],
 "metadata": {
  "kernelspec": {
   "display_name": "base",
   "language": "python",
   "name": "python3"
  },
  "language_info": {
   "codemirror_mode": {
    "name": "ipython",
    "version": 3
   },
   "file_extension": ".py",
   "mimetype": "text/x-python",
   "name": "python",
   "nbconvert_exporter": "python",
   "pygments_lexer": "ipython3",
   "version": "3.9.13"
  },
  "orig_nbformat": 4
 },
 "nbformat": 4,
 "nbformat_minor": 2
}
