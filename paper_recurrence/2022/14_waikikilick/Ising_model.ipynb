{
    "cells": [
        {
            "cell_type": "markdown",
            "metadata": {},
            "source": [
                "# 横场伊辛模型\n",
                "## 主程序 0 ：基网络的搭建与训练，采用硬件高效拟设 (HEA)"
            ]
        },
        {
            "cell_type": "code",
            "execution_count": 1,
            "metadata": {
                "tags": []
            },
            "outputs": [
                {
                    "name": "stderr",
                    "output_type": "stream",
                    "text": [
                        "[WARNING] ME(12141:140570583761728,MainProcess):2023-10-17-23:06:10.420.248 [mindspore/run_check/_check_version.py:102] MindSpore version 2.1.0 and cuda version 11.2.72 does not match, CUDA version [['10.1', '11.1', '11.6']] are supported by MindSpore officially. Please refer to the installation guide for version matching information: https://www.mindspore.cn/install.\n"
                    ]
                },
                {
                    "data": {
                        "application/vnd.jupyter.widget-view+json": {
                            "model_id": "b15d4c292e7e4591b036f2fc7d1922db",
                            "version_major": 2,
                            "version_minor": 0
                        },
                        "text/plain": [
                            "Output()"
                        ]
                    },
                    "metadata": {},
                    "output_type": "display_data"
                },
                {
                    "name": "stdout",
                    "output_type": "stream",
                    "text": [
                        "\n",
                        "收敛参数为：\n",
                        " (100, 48)\n",
                        "\n",
                        "导出完成啦!\n"
                    ]
                }
            ],
            "source": [
                "import numpy as np\n",
                "import mindspore as ms\n",
                "from mindquantum import *\n",
                "import matplotlib.pyplot as plt\n",
                "from rich.progress import *\n",
                "\n",
                "ms.context.set_context(mode=ms.context.PYNATIVE_MODE, device_target=\"CPU\")\n",
                "np.random.seed(1)\n",
                "\n",
                "def ham(qubit_num): # 根据模型，生成系统哈密顿量\n",
                "    ham =QubitOperator(f'Z{0} Z{qubit_num-1}', -1)\n",
                "    for i in range(qubit_num-1):\n",
                "        ham += QubitOperator(f'Z{i} Z{i+1}', -1)\n",
                "    for i in range(qubit_num):\n",
                "        ham += QubitOperator(f'X{i}',-2)\n",
                "    return [Hamiltonian(ham)]\n",
                "\n",
                "def base_net(first_qubit=0, base_qubit_num=4, base_layer_num=1, base_net=0): # 生成基网络\n",
                "    circ = Circuit()\n",
                "    for layer in range(base_layer_num):\n",
                "        for qubit in range(base_qubit_num):\n",
                "            circ += RZ(para_names[int(3 * base_net * base_qubit_num * base_layer_num + 3 * layer  * base_qubit_num + 3 * qubit + 0)]).on(qubit + first_qubit)\n",
                "            circ += RX(para_names[int(3 * base_net * base_qubit_num * base_layer_num + 3 * layer  * base_qubit_num + 3 * qubit + 1)]).on(qubit + first_qubit)\n",
                "            circ += RZ(para_names[int(3 * base_net * base_qubit_num * base_layer_num + 3 * layer  * base_qubit_num + 3 * qubit + 2)]).on(qubit + first_qubit)\n",
                "\n",
                "        for i in range(first_qubit, first_qubit + base_qubit_num - 1):\n",
                "            circ += Z.on(i+1, i)\n",
                "        circ += Z.on(first_qubit, first_qubit + base_qubit_num - 1)\n",
                "\n",
                "    return circ\n",
                "\n",
                "base_qubit_num = 4 # 基网络的比特数\n",
                "base_layer_num = 4 # 基网络的层数\n",
                "qubit_num = 4 # 目标网络的比特数，此处设为和基网络一致，得到的结果，就是基网络的结果\n",
                "base_net_num = qubit_num - base_qubit_num + 1 # 目标网络中所含基网络的数量\n",
                "hamiltonian = ham(qubit_num) # 生成系统总的哈密顿量，此处是基网络的哈密顿量\n",
                "\n",
                "sample_num = 100 # 最后要对多次训练结果进行分析，设置采样次数\n",
                "para_names = np.array(range(base_net_num * 3 * base_qubit_num * base_layer_num)).astype(str) # 生成目标网络中所有参数的名字\n",
                "\n",
                "base = Circuit() # 基网络\n",
                "base += base_net(first_qubit=0, base_qubit_num=base_qubit_num, base_layer_num=base_layer_num, base_net=0)\n",
                "\n",
                "sim = Simulator('mqvector', base.n_qubits)\n",
                "grad_ops = sim.get_expectation_with_grad(hamiltonian, base)\n",
                "\n",
                "paras_list = [] # 参数保存\n",
                "with Progress() as progress:\n",
                "    task = progress.add_task(\"[red]Sampling\", total=sample_num)\n",
                "    for num in range(sample_num): # 采样多次\n",
                "        net = MQAnsatzOnlyLayer(grad_ops)   # 搭建网络\n",
                "        opti = ms.nn.Adam(net.trainable_params(), learning_rate=0.05)    # 优化器\n",
                "        train_net = ms.nn.TrainOneStepCell(net, opti)  # 调用一次，就训练一次\n",
                "        # print('\\n初始期望值为：',train_net()[0])\n",
                "\n",
                "        for i in range(200): # 训练 200 个回合，已足够收敛\n",
                "            train_net()\n",
                "\n",
                "        # print('最终期望值为!', train_net()[0])\n",
                "        paras_list.append(net.weight.asnumpy()) # 保存收敛后的基网络参数\n",
                "        progress.update(task, advance=1)\n",
                "base_net_paras = np.array(paras_list)\n",
                "print('\\n收敛参数为：\\n', base_net_paras.shape)\n",
                "\n",
                "np.save('./src/Ising_base_net_paras.npy', base_net_paras)  # 导出数据\n",
                "print('\\n导出完成啦!')\n",
                "\n",
                "# a = np.load('./src/Ising_base_net_paras.npy', allow_pickle=True) # 重新导入，以检验\n",
                "# print('\\n检验参数维度为：\\n', a.shape)"
            ]
        },
        {
            "cell_type": "markdown",
            "metadata": {},
            "source": [
                "## 主程序 1： 采用网络迁移方法构建的目标网络，当参数随机初始化，不同尺寸网络中，首个有效参数的梯度方差的变化情况"
            ]
        },
        {
            "cell_type": "code",
            "execution_count": 3,
            "metadata": {
                "tags": []
            },
            "outputs": [
                {
                    "data": {
                        "application/vnd.jupyter.widget-view+json": {
                            "model_id": "bb11ee2886d24172ac708e8e11ad6c81",
                            "version_major": 2,
                            "version_minor": 0
                        },
                        "text/plain": [
                            "Output()"
                        ]
                    },
                    "metadata": {},
                    "output_type": "display_data"
                },
                {
                    "data": {
                        "image/png": "[encoded data removed]",
                        "text/plain": [
                            "<Figure size 432x288 with 1 Axes>"
                        ]
                    },
                    "metadata": {
                        "needs_background": "light"
                    },
                    "output_type": "display_data"
                }
            ],
            "source": [
                "from mindquantum import *\n",
                "import numpy as np\n",
                "import matplotlib.pyplot as plt\n",
                "np.random.seed(1)\n",
                "\n",
                "def ham(qubit_num):\n",
                "    ham =QubitOperator(f'Z{0} Z{qubit_num-1}', -1)\n",
                "    for i in range(qubit_num-1):\n",
                "        ham += QubitOperator(f'Z{i} Z{i+1}', -1)\n",
                "    for i in range(qubit_num):\n",
                "        ham += QubitOperator(f'X{i}',-2)\n",
                "    return [Hamiltonian(ham)]\n",
                "\n",
                "def base_net(first_qubit=0, base_qubit_num=4, base_layer_num=1, base_net=0):\n",
                "    circ = Circuit()\n",
                "    for layer in range(base_layer_num):\n",
                "        for qubit in range(base_qubit_num):\n",
                "            circ += RZ(para_names[int(3 * base_net * base_qubit_num * base_layer_num + 3 * layer  * base_qubit_num + 3 * qubit + 0)]).on(qubit + first_qubit)\n",
                "            circ += RX(para_names[int(3 * base_net * base_qubit_num * base_layer_num + 3 * layer  * base_qubit_num + 3 * qubit + 1)]).on(qubit + first_qubit)\n",
                "            circ += RZ(para_names[int(3 * base_net * base_qubit_num * base_layer_num + 3 * layer  * base_qubit_num + 3 * qubit + 2)]).on(qubit + first_qubit)\n",
                "\n",
                "        for i in range(first_qubit, first_qubit + base_qubit_num - 1):\n",
                "            circ += Z.on(i+1, i)\n",
                "        circ += Z.on(first_qubit, first_qubit + base_qubit_num - 1)\n",
                "    return circ\n",
                "\n",
                "def get_var(circuit,  hamiltonian, sample_num = 10):\n",
                "    simulator = Simulator('mqvector', circuit.n_qubits)\n",
                "    grad_ops = simulator.get_expectation_with_grad(hamiltonian, circuit)\n",
                "\n",
                "    avg_var = 0\n",
                "    for i in range(sample_num):\n",
                "        random_paras = np.random.rand(len(circuit.params_name))*2*np.pi\n",
                "        avg_var += grad_ops(random_paras)[1][0,0,1].real**2 / sample_num\n",
                "    return avg_var\n",
                "\n",
                "base_qubit_num = 4\n",
                "base_layer_num = 4\n",
                "\n",
                "avg_var_list = []\n",
                "with Progress() as progress:\n",
                "    task = progress.add_task(\"[green]qubit_num\",\n",
                "                             total=len(range(4, 12 + 1, 2)))\n",
                "    for qubit_num in range(4, 12+1, 2): # 比特范围为 4 到 12\n",
                "        base_net_num = qubit_num-base_qubit_num+1\n",
                "        hamiltonian = ham(qubit_num)\n",
                "        para_names = np.array(range(base_net_num * 3 * base_qubit_num * base_layer_num)).astype(str)\n",
                "\n",
                "        ansatz = Circuit()\n",
                "        for i in range(0, base_net_num):\n",
                "            ansatz += base_net(first_qubit=i, base_qubit_num=base_qubit_num, base_layer_num=base_layer_num, base_net=i)\n",
                "\n",
                "        avg_var = get_var(ansatz, hamiltonian, sample_num=100)\n",
                "        avg_var_list.append(avg_var)\n",
                "        progress.update(task, advance=1)\n",
                "plt.figure()\n",
                "plt.plot(avg_var_list, label = 'Random', linestyle='--', marker='o') # 画出训练过程中，验证集分类准确度的变化情况\n",
                "plt.title('Ising model, HEA and network transfer', fontsize=12)\n",
                "plt.legend()\n",
                "plt.xlabel('number of qubits', fontsize=10)\n",
                "plt.xticks(ticks=[0, 1, 2, 3, 4], labels=[4, 6, 8, 10, 12])\n",
                "plt.ylabel(r'variance of $\\partial_0C$ ', fontsize=10)\n",
                "plt.savefig('./src/Fig3a.png')\n",
                "plt.show()"
            ]
        },
        {
            "cell_type": "markdown",
            "metadata": {},
            "source": [
                "上图即是论文中 图 3 a，可见结果和论文结论一致。\n",
                "## 主程序 2 ：采用网络迁移搭建的目标网络，采用基网络最优参数和随机参数，在不同尺寸下的正则化梯度范数变化情况。"
            ]
        },
        {
            "cell_type": "code",
            "execution_count": 4,
            "metadata": {
                "tags": []
            },
            "outputs": [
                {
                    "data": {
                        "image/png": "[encoded data removed]",
                        "text/plain": [
                            "<Figure size 432x288 with 1 Axes>"
                        ]
                    },
                    "metadata": {
                        "needs_background": "light"
                    },
                    "output_type": "display_data"
                }
            ],
            "source": [
                "from mindquantum import *\n",
                "import numpy as np\n",
                "import matplotlib.pyplot as plt\n",
                "np.random.seed(1)\n",
                "\n",
                "def ham(qubit_num):\n",
                "    ham =QubitOperator(f'Z{0} Z{qubit_num-1}', -1)\n",
                "    for i in range(qubit_num-1):\n",
                "        ham += QubitOperator(f'Z{i} Z{i+1}', -1)\n",
                "    for i in range(qubit_num):\n",
                "        ham += QubitOperator(f'X{i}',-2)\n",
                "    return [Hamiltonian(ham)]\n",
                "\n",
                "def base_net(first_qubit=0, base_qubit_num=4, base_layer_num=1, base_net=0):\n",
                "    circ = Circuit()\n",
                "    for layer in range(base_layer_num):\n",
                "        for qubit in range(base_qubit_num):\n",
                "            circ += RZ(para_names[int(3 * base_net * base_qubit_num * base_layer_num + 3 * layer  * base_qubit_num + 3 * qubit + 0)]).on(qubit + first_qubit)\n",
                "            circ += RX(para_names[int(3 * base_net * base_qubit_num * base_layer_num + 3 * layer  * base_qubit_num + 3 * qubit + 1)]).on(qubit + first_qubit)\n",
                "            circ += RZ(para_names[int(3 * base_net * base_qubit_num * base_layer_num + 3 * layer  * base_qubit_num + 3 * qubit + 2)]).on(qubit + first_qubit)\n",
                "\n",
                "        for i in range(first_qubit, first_qubit + base_qubit_num - 1):\n",
                "            circ += Z.on(i+1, i)\n",
                "        circ += Z.on(first_qubit, first_qubit + base_qubit_num - 1)\n",
                "    return circ\n",
                "\n",
                "def get_random_gra_norm(circuit,  hamiltonian, sample_num = 10):\n",
                "    simulator = Simulator('mqvector', circuit.n_qubits)\n",
                "    grad_ops = simulator.get_expectation_with_grad(hamiltonian, circuit)\n",
                "    gra_num = len(circuit.params_name)\n",
                "    avg_gra_norm = 0\n",
                "    for i in range(sample_num):\n",
                "        gra_norm = 0\n",
                "        random_paras = np.random.rand(len(circuit.params_name))*2*np.pi\n",
                "        for j in range(gra_num):\n",
                "            gra_norm += grad_ops(random_paras)[1][0,0,j].real**2\n",
                "        gra_norm = np.sqrt(gra_norm) / gra_num\n",
                "        avg_gra_norm += gra_norm / sample_num\n",
                "    return avg_gra_norm\n",
                "\n",
                "def get_trans_gra_norm(circuit,  hamiltonian, sample_num = 10):\n",
                "    simulator = Simulator('mqvector', circuit.n_qubits)\n",
                "    grad_ops = simulator.get_expectation_with_grad(hamiltonian, circuit)\n",
                "    gra_num = len(circuit.params_name)\n",
                "    avg_gra_norm = 0\n",
                "    for i in range(sample_num):\n",
                "        gra_norm = 0\n",
                "        paras = np.array([])\n",
                "        if base_net_num == 1:\n",
                "            paras = np.random.rand(len(circuit.params_name))*2*np.pi\n",
                "        else:\n",
                "            for _ in range(base_net_num):\n",
                "                paras = np.append(paras, base_net_paras[i])\n",
                "\n",
                "        for j in range(gra_num):\n",
                "            gra_norm += grad_ops(paras)[1][0,0,j].real**2\n",
                "\n",
                "        gra_norm = np.sqrt(gra_norm) / gra_num\n",
                "        avg_gra_norm += gra_norm / sample_num\n",
                "    return avg_gra_norm\n",
                "\n",
                "base_qubit_num = 4\n",
                "base_layer_num = 4\n",
                "sample_num = 100\n",
                "base_net_paras = np.load('./src/Ising_base_net_paras.npy', allow_pickle=True)\n",
                "\n",
                "# 先计算 4 比特的基网络\n",
                "hamiltonian = ham(qubit_num=base_qubit_num)\n",
                "para_names = np.array(range(1 * 3 * base_qubit_num * base_layer_num)).astype(str)\n",
                "base =  base_net(first_qubit=0, base_qubit_num=base_qubit_num, base_layer_num=base_layer_num, base_net=0)\n",
                "avg_base_gra_norm =get_random_gra_norm(base, hamiltonian, sample_num=sample_num)\n",
                "\n",
                "avg_random_gra_norm_list = [avg_base_gra_norm]\n",
                "avg_trans_gra_norm_list = [avg_base_gra_norm]\n",
                "\n",
                "for qubit_num in range(5, 12+1, 2): # 比特范围为 4 到 12\n",
                "    base_net_num = qubit_num-base_qubit_num+1\n",
                "    hamiltonian = ham(qubit_num)\n",
                "    para_names = np.array(range(base_net_num * 3 * base_qubit_num * base_layer_num)).astype(str)\n",
                "\n",
                "    ansatz = Circuit()\n",
                "    for i in range(0, base_net_num):\n",
                "        ansatz += base_net(first_qubit=i, base_qubit_num=base_qubit_num, base_layer_num=base_layer_num, base_net=i)\n",
                "\n",
                "    avg_gra_norm = get_random_gra_norm(ansatz, hamiltonian, sample_num=sample_num)\n",
                "    avg_random_gra_norm_list.append(avg_gra_norm)\n",
                "\n",
                "for qubit_num in range(5, 12+1, 2): # 比特范围为 4 到 12\n",
                "    base_net_num = qubit_num-base_qubit_num+1\n",
                "    hamiltonian = ham(qubit_num)\n",
                "    para_names = np.array(range(base_net_num * 3 * base_qubit_num * base_layer_num)).astype(str)\n",
                "\n",
                "    ansatz = Circuit()\n",
                "    for i in range(0, base_net_num):\n",
                "        ansatz += base_net(first_qubit=i, base_qubit_num=base_qubit_num, base_layer_num=base_layer_num, base_net=i)\n",
                "\n",
                "    avg_trans_gra_norm =get_trans_gra_norm(ansatz, hamiltonian, sample_num=sample_num)\n",
                "    avg_trans_gra_norm_list.append(avg_trans_gra_norm)\n",
                "\n",
                "plt.figure()\n",
                "plt.plot(avg_random_gra_norm_list, label = 'RR', linestyle='--', marker='o', color='b') # 画出基网络随机初始参数的平均正则化导数随比特数的变化\n",
                "plt.plot(avg_trans_gra_norm_list, label = 'TT', linestyle='--', marker='o', color='r') # 画出基网络迁移最优初始参数的平均正则化导数随比特数的变化\n",
                "plt.title('Ising model, HEA and network transfer', fontsize=12)\n",
                "plt.legend()\n",
                "plt.xlabel('number of qubits', fontsize=10)\n",
                "plt.xticks(ticks=[0, 1, 2, 3, 4], labels=[4, 6, 8, 10, 12])\n",
                "plt.ylabel('G ', fontsize=10)\n",
                "plt.savefig('./src/Fig3d.png')\n",
                "plt.show()"
            ]
        },
        {
            "cell_type": "markdown",
            "metadata": {},
            "source": [
                "上图就是论文 图 3 d。复现结果和论文结论一致。"
            ]
        },
        {
            "cell_type": "code",
            "execution_count": 5,
            "metadata": {},
            "outputs": [
                {
                    "data": {
                        "text/html": [
                            "\n",
                            "<table border=\"1\">\n",
                            "  <tr>\n",
                            "    <th>Software</th>\n",
                            "    <th>Version</th>\n",
                            "  </tr>\n",
                            "<tr><td>mindquantum</td><td>0.9.0</td></tr>\n",
                            "<tr>\n",
                            "    <th>System</th>\n",
                            "    <th>Info</th>\n",
                            "</tr>\n",
                            "<tr><td>Python</td><td>3.9.7</td></tr><tr><td>OS</td><td>Linux x86_64</td></tr><tr><td>Memory</td><td>16.71 GB</td></tr><tr><td>CPU Max Thread</td><td>8</td></tr><tr><td>Date</td><td>Tue Oct 17 23:21:59 2023</td></tr>\n",
                            "</table>\n"
                        ],
                        "text/plain": [
                            "<mindquantum.utils.show_info.InfoTable at 0x7fd8245130a0>"
                        ]
                    },
                    "execution_count": 5,
                    "metadata": {},
                    "output_type": "execute_result"
                }
            ],
            "source": [
                "from mindquantum.utils.show_info import InfoTable\n",
                "\n",
                "InfoTable('mindquantum')"
            ]
        }
    ],
    "metadata": {
        "kernelspec": {
            "display_name": "base",
            "language": "python",
            "name": "python3"
        },
        "language_info": {
            "codemirror_mode": {
                "name": "ipython",
                "version": 3
            },
            "file_extension": ".py",
            "mimetype": "text/x-python",
            "name": "python",
            "nbconvert_exporter": "python",
            "pygments_lexer": "ipython3",
            "version": "3.9.7"
        },
        "orig_nbformat": 2
    },
    "nbformat": 4,
    "nbformat_minor": 2
}
