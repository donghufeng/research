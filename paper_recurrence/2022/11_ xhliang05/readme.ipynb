{
 "metadata": {
  "language_info": {
   "codemirror_mode": {
    "name": "ipython",
    "version": 3
   },
   "file_extension": ".py",
   "mimetype": "text/x-python",
   "name": "python",
   "nbconvert_exporter": "python",
   "pygments_lexer": "ipython3",
   "version": "3.7.5-final"
  },
  "orig_nbformat": 2,
  "kernelspec": {
   "name": "python37564bitcd36fc73e3774064ab8e2c8fa67c301c",
   "display_name": "Python 3.7.5 64-bit"
  }
 },
 "nbformat": 4,
 "nbformat_minor": 2,
 "cells": [
  {
   "source": [
    "#  赛题十一 —— 论文复现自验报告\n",
    "\n",
    "赛题内容：利用 MindQuantum 实现多基矢编码的变分量子算法\n",
    "\n",
    "论文题目：[Variational Quantum Optimization with Multi-Basis Encodings](https://arxiv.org/pdf/2106.13304.pdf)\n",
    " \n",
    "复现要求：利用 MindQuantum 实现 Multi-Basis Encoding 的变分量子算法来解决 maxcut 问题， 复现 fig2 中的变分量子线路，实现小于 10 个节点的 maxcut 图分割。\n",
    "\n",
    "## 论文方案介绍\n",
    "\n",
    "旅行推销员和最大割等 NP-hard 优化问题，在很多领域都很重要，比如运筹学、工程以及网络设计等。在这些问题的求解上，量子变分算法比经典算法具有更大的优势，从而体现出量子优势。\n",
    "变分量子本征求解（VQE）是一种常见的量子变分算法，其通过梯度下降，最小化系统能量来制备编码着问题答案的量子态。\n",
    "\n",
    "对量子系统进行经典模拟的计算量随着系统尺寸指数增加，且常规的 VQE 量子线路的宽度和深度也受所求问题的影响。\n",
    "本论文提出了一种新的编码方式，只需采用常规 VQE 方法一半的比特资源，且在测量方面只需要单比特测量，从而降低了测量复杂度。\n",
    "\n",
    "常规的 VQE 方法求解最大割问题的具体实现细节可参见 MindQuantum 的示例教程 [量子近似优化算法](https://www.mindspore.cn/mindquantum/docs/zh-CN/r0.6/quantum_approximate_optimization_algorithm.html)，此处不再赘述。其主要思路是通过最小化目标哈密顿量的期望值，来得到编码着答案的量子态。其映射方式为：\n"
   ],
   "cell_type": "markdown",
   "metadata": {}
  },
  {
   "source": [
    "\n",
    "<img src=\"./src/VQE_for_MaxCut.png\" alt=\"Drawing\" style=\"width: 400px;\" align=\"left\"/>"
   ],
   "cell_type": "markdown",
   "metadata": {}
  },
  {
   "source": [
    "目标哈密顿量为：\n",
    "$$H=\\Sigma_{j<i}^n\\omega_{ij}^{zz}\\sigma_i^z\\sigma_j^z.$$\n",
    "其中，$\\omega_{ij}$ 表示图中顶点 $i$ 和 $j$ 之间的权重。哈密顿量只包含 $z$ 基底下的项。对于一个具有 $n$ 个顶点的图，要求其最大割，需要 $n$ 个量子比特，测量中亦需要双比特测量。\n",
    "\n",
    "本论文提出一种新的编码方式，采用多基矢编码方式。如下图："
   ],
   "cell_type": "markdown",
   "metadata": {}
  },
  {
   "source": [
    "<img src=\"./src/MBE_for_MaxCut.png\" alt=\"Drawing\" style=\"width: 500px;\" align=\"left\"/>"
   ],
   "cell_type": "markdown",
   "metadata": {}
  },
  {
   "source": [
    "对于 $n$ 个顶点的图，其将 $n/2$ 个顶点编码到 $z$ 基底，而另外 $n/2$ 个顶点编码到 $x$ 基底，从而只采用 $n/2$ 个比特就可以映射整个图。如果顶点数为奇数，则最后一个不再编码 $x$ 轴了。\n",
    "\n",
    "其初始态采用 $|0\\rangle_{n}$，而拟设线路采用多层如下所示的线路："
   ],
   "cell_type": "markdown",
   "metadata": {}
  },
  {
   "cell_type": "code",
   "execution_count": 1,
   "metadata": {},
   "outputs": [
    {
     "output_type": "display_data",
     "data": {
      "text/plain": "",
      "text/html": "<pre style=\"white-space:pre;overflow-x:auto;line-height:normal;font-family:Menlo,'DejaVu Sans Mono',consolas,'Courier New',monospace\"></pre>\n"
     },
     "metadata": {}
    },
    {
     "output_type": "execute_result",
     "data": {
      "text/plain": "q0: ──RY(0_0_0)────●────RY(0_1_0)─────────Z──\n                   │                      │\nq1: ──RY(0_0_1)────Z────RY(0_1_1)────●────┼──\n                                     │    │\nq2: ──RY(0_0_2)────●────RY(0_1_2)────Z────┼──\n                   │                      │\nq3: ──RY(0_0_3)────Z────RY(0_1_3)─────────●──",
      "text/html": "<pre style=\"white-space: pre;\"><span style=\"color: #000080; text-decoration-color: #000080; font-weight: bold\">q0: ──</span><span style=\"color: #800080; text-decoration-color: #800080; font-weight: bold\">RY</span><span style=\"color: #000080; text-decoration-color: #000080; font-weight: bold\">(0_0_0)────●────</span><span style=\"color: #800080; text-decoration-color: #800080; font-weight: bold\">RY</span><span style=\"color: #000080; text-decoration-color: #000080; font-weight: bold\">(0_1_0)─────────Z──</span>\n<span style=\"color: #000080; text-decoration-color: #000080; font-weight: bold\">                   │                      │</span>\n<span style=\"color: #000080; text-decoration-color: #000080; font-weight: bold\">q1: ──</span><span style=\"color: #800080; text-decoration-color: #800080; font-weight: bold\">RY</span><span style=\"color: #000080; text-decoration-color: #000080; font-weight: bold\">(0_0_1)────Z────</span><span style=\"color: #800080; text-decoration-color: #800080; font-weight: bold\">RY</span><span style=\"color: #000080; text-decoration-color: #000080; font-weight: bold\">(0_1_1)────●────┼──</span>\n<span style=\"color: #000080; text-decoration-color: #000080; font-weight: bold\">                                     │    │</span>\n<span style=\"color: #000080; text-decoration-color: #000080; font-weight: bold\">q2: ──</span><span style=\"color: #800080; text-decoration-color: #800080; font-weight: bold\">RY</span><span style=\"color: #000080; text-decoration-color: #000080; font-weight: bold\">(0_0_2)────●────</span><span style=\"color: #800080; text-decoration-color: #800080; font-weight: bold\">RY</span><span style=\"color: #000080; text-decoration-color: #000080; font-weight: bold\">(0_1_2)────Z────┼──</span>\n<span style=\"color: #000080; text-decoration-color: #000080; font-weight: bold\">                   │                      │</span>\n<span style=\"color: #000080; text-decoration-color: #000080; font-weight: bold\">q3: ──</span><span style=\"color: #800080; text-decoration-color: #800080; font-weight: bold\">RY</span><span style=\"color: #000080; text-decoration-color: #000080; font-weight: bold\">(0_0_3)────Z────</span><span style=\"color: #800080; text-decoration-color: #800080; font-weight: bold\">RY</span><span style=\"color: #000080; text-decoration-color: #000080; font-weight: bold\">(0_1_3)─────────●──</span>\n</pre>\n"
     },
     "metadata": {},
     "execution_count": 1
    }
   ],
   "source": [
    "from mindquantum import *\n",
    "\n",
    "def QLayer(qubit_num=4, prefix='0'):\n",
    "    circ_ = Circuit()\n",
    "    for qubit in range(qubit_num):\n",
    "        circ_ += RY(f'0_{qubit}').on(qubit)\n",
    "    for qubit in range(0, qubit_num-1, 2):\n",
    "        circ_ += Z.on(qubit+1, qubit)\n",
    "    for qubit in range(qubit_num):\n",
    "        circ_ += RY(f'1_{qubit}').on(qubit)\n",
    "    for qubit in range(1, qubit_num-1, 2):\n",
    "        circ_ += Z.on(qubit+1, qubit)\n",
    "    circ_ += Z.on(0, qubit_num-1)\n",
    "    circ_ = add_prefix(circ_, prefix)\n",
    "    return circ_\n",
    "\n",
    "qlayer = QLayer(qubit_num=4, prefix='0')\n",
    "qlayer"
   ]
  },
  {
   "source": [
    "用于更新网络参数的损失函数为：\n",
    "\n",
    "$$L_{MBE}=\\Sigma_{j<i}^{n/2}\\omega_{ij}^{zz}\\tanh(\\langle\\sigma_i^z\\rangle)\\tanh(\\langle\\sigma_j^z\\rangle) + \\Sigma_{j<i}^{n/2}\\omega_{ij}^{xx}\\tanh(\\langle\\sigma_i^x\\rangle)\\tanh(\\langle\\sigma_j^x\\rangle) + \\Sigma_{i,j}^{n/2}\\omega_{ij}^{zx}\\tanh(\\langle\\sigma_i^z\\rangle)\\tanh(\\langle\\sigma_j^x\\rangle).$$\n",
    "\n",
    "其中，$\\tanh(x)$ 为经典计算机控制梯度下降时施加的非线性激活函数。\n",
    "\n",
    "而最大割数的表达式为：\n",
    "\n",
    "$$C_{MBE}(\\theta, G)=\\Sigma_{j<i}^{n/2}\\frac{\\omega_{ij}^{zz}}{2}[1-R(\\langle\\sigma_i^z\\rangle)R(\\langle\\sigma_j^z\\rangle)] + \\Sigma_{j<i}^{n/2}\\frac{\\omega_{ij}^{xx}}{2}[1-R(\\langle\\sigma_i^x\\rangle)R(\\langle\\sigma_j^x\\rangle)] + \\Sigma_{i,j}^{n/2}\\frac{\\omega_{ij}^{zx}}{2}[1-R(\\langle\\sigma_i^z\\rangle)R(\\langle\\sigma_j^x\\rangle)].$$\n",
    "\n",
    "例如，对于一个 4 顶点的图，\n"
   ],
   "cell_type": "markdown",
   "metadata": {}
  },
  {
   "source": [
    "<img src=\"./src/4_nodes_VQE.png\" alt=\"Drawing\" style=\"width: 200px;\" align=\"left\"/>"
   ],
   "cell_type": "markdown",
   "metadata": {}
  },
  {
   "source": [
    "如果采用常规 VQE 编码方式，目标哈密顿为\n",
    "$$ H=\\omega_{12}\\sigma_1^z\\sigma_2^z + \\omega_{34}\\sigma_3^z\\sigma_4^z + \\omega_{13}\\sigma_1^z\\sigma_3^z.$$\n",
    "\n",
    "而采用 MBE 编码，如下图编码到两个比特，其中，顶点 1 3 编码到第 1 个比特，而顶点 2 4 编码到第二个比特，且顶点 1 2 采用 $z$ 基底编码，而顶点 3 4 采用 $x$ 基底编码：\n"
   ],
   "cell_type": "markdown",
   "metadata": {}
  },
  {
   "source": [
    "<img src=\"./src/4_nodes_MBE.png\" alt=\"Drawing\" style=\"width: 200px;\" align=\"left\"/>"
   ],
   "cell_type": "markdown",
   "metadata": {}
  },
  {
   "source": [
    "其 MBE 损失函数写为\n",
    "\n",
    "$$L_{MBE}=\\omega_{12}^{zz}\\tanh(\\langle\\sigma_1^z\\rangle)\\tanh(\\langle\\sigma_2^z\\rangle) + \\omega_{12}^{xx}\\tanh(\\langle\\sigma_1^x\\rangle)\\tanh(\\langle\\sigma_2^x\\rangle) + \\omega_{11}^{zx}\\tanh(\\langle\\sigma_1^z\\rangle)\\tanh(\\langle\\sigma_1^x\\rangle).$$\n",
    "\n",
    "\n",
    "而最大割数即为：\n",
    "\n",
    "$$C_{MBE}(\\theta, G)=\\frac{\\omega_{12}^{zz}}{2}[1-R(\\langle\\sigma_1^z\\rangle)R(\\langle\\sigma_2^z\\rangle)] + \\frac{\\omega_{34}^{xx}}{2}[1-R(\\langle\\sigma_3^x\\rangle)R(\\langle\\sigma_4^x\\rangle)] +\\frac{\\omega_{13}^{zx}}{2}[1-R(\\langle\\sigma_1^z\\rangle)R(\\langle\\sigma_3^x\\rangle)].$$\n",
    "\n",
    "接下来，我们就以上述例子，在 MindQuantum 下进行实现。为简便起见，我们将所有边的权重 $\\omega_{i,j}$ 都赋值为 1。\n",
    "\n",
    "首先，我用经典穷举法得出正确结果，用于验证 MBE 方法结果的正确性。"
   ],
   "cell_type": "markdown",
   "metadata": {}
  },
  {
   "cell_type": "code",
   "execution_count": 2,
   "metadata": {
    "tags": []
   },
   "outputs": [
    {
     "output_type": "stream",
     "name": "stdout",
     "text": "one size: [0] cut= 2\none size: [1] cut= 1\none size: [1, 0] cut= 1\none size: [3] cut= 1\none size: [3, 0] cut= 3\none size: [3, 1] cut= 2\none size: [3, 2] cut= 1\none size: [2] cut= 2\none size: [2, 0] cut= 2\none size: [2, 1] cut= 3\n"
    },
    {
     "output_type": "display_data",
     "data": {
      "text/plain": "<Figure size 432x288 with 1 Axes>",
      "image/svg+xml": "<?xml version=\"1.0\" encoding=\"utf-8\" standalone=\"no\"?>\n<!DOCTYPE svg PUBLIC \"-//W3C//DTD SVG 1.1//EN\"\n  \"http://www.w3.org/Graphics/SVG/1.1/DTD/svg11.dtd\">\n<svg xmlns:xlink=\"http://www.w3.org/1999/xlink\" width=\"446.4pt\" height=\"302.4pt\" viewBox=\"0 0 446.4 302.4\" xmlns=\"http://www.w3.org/2000/svg\" version=\"1.1\">\n <metadata>\n  <rdf:RDF xmlns:dc=\"http://purl.org/dc/elements/1.1/\" xmlns:cc=\"http://creativecommons.org/ns#\" xmlns:rdf=\"http://www.w3.org/1999/02/22-rdf-syntax-ns#\">\n   <cc:Work>\n    <dc:type rdf:resource=\"http://purl.org/dc/dcmitype/StillImage\"/>\n    <dc:date>2022-07-10T13:11:38.499730</dc:date>\n    <dc:format>image/svg+xml</dc:format>\n    <dc:creator>\n     <cc:Agent>\n      <dc:title>Matplotlib v3.5.1, https://matplotlib.org/</dc:title>\n     </cc:Agent>\n    </dc:creator>\n   </cc:Work>\n  </rdf:RDF>\n </metadata>\n <defs>\n  <style type=\"text/css\">*{stroke-linejoin: round; stroke-linecap: butt}</style>\n </defs>\n <g id=\"figure_1\">\n  <g id=\"patch_1\">\n   <path d=\"M 0 302.4 \nL 446.4 302.4 \nL 446.4 0 \nL 0 0 \nz\n\" style=\"fill: #ffffff\"/>\n  </g>\n  <g id=\"axes_1\">\n   <g id=\"LineCollection_1\">\n    <path d=\"M 159.803704 193.422985 \nL 44.687603 270.208264 \n\" clip-path=\"url(#p0ea30c1ef6)\" style=\"fill: none; stroke: #000000\"/>\n    <path d=\"M 159.803704 193.422985 \nL 286.509953 108.952117 \n\" clip-path=\"url(#p0ea30c1ef6)\" style=\"fill: none; stroke: #000000\"/>\n    <path d=\"M 401.712397 32.191736 \nL 286.509953 108.952117 \n\" clip-path=\"url(#p0ea30c1ef6)\" style=\"fill: none; stroke: #000000\"/>\n   </g>\n   <g id=\"PathCollection_1\">\n    <defs>\n     <path id=\"m6361281558\" d=\"M 0 8.660254 \nC 2.296726 8.660254 4.499694 7.747755 6.123724 6.123724 \nC 7.747755 4.499694 8.660254 2.296726 8.660254 0 \nC 8.660254 -2.296726 7.747755 -4.499694 6.123724 -6.123724 \nC 4.499694 -7.747755 2.296726 -8.660254 0 -8.660254 \nC -2.296726 -8.660254 -4.499694 -7.747755 -6.123724 -6.123724 \nC -7.747755 -4.499694 -8.660254 -2.296726 -8.660254 0 \nC -8.660254 2.296726 -7.747755 4.499694 -6.123724 6.123724 \nC -4.499694 7.747755 -2.296726 8.660254 0 8.660254 \nz\n\" style=\"stroke: #1f78b4\"/>\n    </defs>\n    <g clip-path=\"url(#p0ea30c1ef6)\">\n     <use xlink:href=\"#m6361281558\" x=\"159.803704\" y=\"193.422985\" style=\"fill: #1f78b4; stroke: #1f78b4\"/>\n     <use xlink:href=\"#m6361281558\" x=\"44.687603\" y=\"270.208264\" style=\"fill: #1f78b4; stroke: #1f78b4\"/>\n     <use xlink:href=\"#m6361281558\" x=\"401.712397\" y=\"32.191736\" style=\"fill: #1f78b4; stroke: #1f78b4\"/>\n     <use xlink:href=\"#m6361281558\" x=\"286.509953\" y=\"108.952117\" style=\"fill: #1f78b4; stroke: #1f78b4\"/>\n    </g>\n   </g>\n   <g id=\"text_1\">\n    <g clip-path=\"url(#p0ea30c1ef6)\">\n     <!-- 0 -->\n     <g transform=\"translate(155.629017 196.734235)scale(0.12 -0.12)\">\n      <defs>\n       <path id=\"DejaVuSans-Bold-30\" d=\"M 2944 2338 \nQ 2944 3213 2780 3570 \nQ 2616 3928 2228 3928 \nQ 1841 3928 1675 3570 \nQ 1509 3213 1509 2338 \nQ 1509 1453 1675 1090 \nQ 1841 728 2228 728 \nQ 2613 728 2778 1090 \nQ 2944 1453 2944 2338 \nz\nM 4147 2328 \nQ 4147 1169 3647 539 \nQ 3147 -91 2228 -91 \nQ 1306 -91 806 539 \nQ 306 1169 306 2328 \nQ 306 3491 806 4120 \nQ 1306 4750 2228 4750 \nQ 3147 4750 3647 4120 \nQ 4147 3491 4147 2328 \nz\n\" transform=\"scale(0.015625)\"/>\n      </defs>\n      <use xlink:href=\"#DejaVuSans-Bold-30\"/>\n     </g>\n    </g>\n   </g>\n   <g id=\"text_2\">\n    <g clip-path=\"url(#p0ea30c1ef6)\">\n     <!-- 1 -->\n     <g transform=\"translate(40.512916 273.519514)scale(0.12 -0.12)\">\n      <defs>\n       <path id=\"DejaVuSans-Bold-31\" d=\"M 750 831 \nL 1813 831 \nL 1813 3847 \nL 722 3622 \nL 722 4441 \nL 1806 4666 \nL 2950 4666 \nL 2950 831 \nL 4013 831 \nL 4013 0 \nL 750 0 \nL 750 831 \nz\n\" transform=\"scale(0.015625)\"/>\n      </defs>\n      <use xlink:href=\"#DejaVuSans-Bold-31\"/>\n     </g>\n    </g>\n   </g>\n   <g id=\"text_3\">\n    <g clip-path=\"url(#p0ea30c1ef6)\">\n     <!-- 3 -->\n     <g transform=\"translate(397.537709 35.502986)scale(0.12 -0.12)\">\n      <defs>\n       <path id=\"DejaVuSans-Bold-33\" d=\"M 2981 2516 \nQ 3453 2394 3698 2092 \nQ 3944 1791 3944 1325 \nQ 3944 631 3412 270 \nQ 2881 -91 1863 -91 \nQ 1503 -91 1142 -33 \nQ 781 25 428 141 \nL 428 1069 \nQ 766 900 1098 814 \nQ 1431 728 1753 728 \nQ 2231 728 2486 893 \nQ 2741 1059 2741 1369 \nQ 2741 1688 2480 1852 \nQ 2219 2016 1709 2016 \nL 1228 2016 \nL 1228 2791 \nL 1734 2791 \nQ 2188 2791 2409 2933 \nQ 2631 3075 2631 3366 \nQ 2631 3634 2415 3781 \nQ 2200 3928 1806 3928 \nQ 1516 3928 1219 3862 \nQ 922 3797 628 3669 \nL 628 4550 \nQ 984 4650 1334 4700 \nQ 1684 4750 2022 4750 \nQ 2931 4750 3382 4451 \nQ 3834 4153 3834 3553 \nQ 3834 3144 3618 2883 \nQ 3403 2622 2981 2516 \nz\n\" transform=\"scale(0.015625)\"/>\n      </defs>\n      <use xlink:href=\"#DejaVuSans-Bold-33\"/>\n     </g>\n    </g>\n   </g>\n   <g id=\"text_4\">\n    <g clip-path=\"url(#p0ea30c1ef6)\">\n     <!-- 2 -->\n     <g transform=\"translate(282.335266 112.263367)scale(0.12 -0.12)\">\n      <defs>\n       <path id=\"DejaVuSans-Bold-32\" d=\"M 1844 884 \nL 3897 884 \nL 3897 0 \nL 506 0 \nL 506 884 \nL 2209 2388 \nQ 2438 2594 2547 2791 \nQ 2656 2988 2656 3200 \nQ 2656 3528 2436 3728 \nQ 2216 3928 1850 3928 \nQ 1569 3928 1234 3808 \nQ 900 3688 519 3450 \nL 519 4475 \nQ 925 4609 1322 4679 \nQ 1719 4750 2100 4750 \nQ 2938 4750 3402 4381 \nQ 3866 4013 3866 3353 \nQ 3866 2972 3669 2642 \nQ 3472 2313 2841 1759 \nL 1844 884 \nz\n\" transform=\"scale(0.015625)\"/>\n      </defs>\n      <use xlink:href=\"#DejaVuSans-Bold-32\"/>\n     </g>\n    </g>\n   </g>\n  </g>\n </g>\n <defs>\n  <clipPath id=\"p0ea30c1ef6\">\n   <rect x=\"7.2\" y=\"7.2\" width=\"432\" height=\"288\"/>\n  </clipPath>\n </defs>\n</svg>\n",
      "image/png": "[encoded data removed]"
     },
     "metadata": {}
    }
   ],
   "source": [
    "import networkx as nx\n",
    "\n",
    "g = nx.Graph()\n",
    "nx.add_path(g, [0, 1])\n",
    "nx.add_path(g, [3, 2])\n",
    "nx.add_path(g, [2, 0])\n",
    "nx.draw(g, with_labels=True, font_weight='bold') # 画出图\n",
    "\n",
    "for i in g.nodes:\n",
    "    print('one size:', [i], 'cut=', nx.cut_size(g, [i]))            # 一组 1 个顶点、另一组 3 个顶点的所有情况\n",
    "    for j in range(i):\n",
    "        print('one size:', [i, j], 'cut=', nx.cut_size(g, [i, j]))  # 一组 2 个顶点、另一组 2 个顶点的所有情况\n"
   ]
  },
  {
   "source": [
    "以上结果显示，最大割数为 3。\n",
    "\n",
    "下面采用量子 MBE 方法对同样的问题进行求解。"
   ],
   "cell_type": "markdown",
   "metadata": {}
  },
  {
   "cell_type": "code",
   "execution_count": 3,
   "metadata": {
    "tags": []
   },
   "outputs": [
    {
     "output_type": "stream",
     "name": "stderr",
     "text": "[WARNING] DEBUG(190949,7f1948e49740,python):2022-07-10-13:11:45.756.708 [mindspore/ccsrc/debug/debugger/debugger.cc:95] Debugger] Not enabling debugger. Debugger does not support CPU.\n0 :  0.5685145\n20 :  -1.0518914\n40 :  -1.1034932\n60 :  -1.1107376\n80 :  -1.1119174\n3.0\n"
    }
   ],
   "source": [
    "from mindquantum import *\n",
    "import numpy as np\n",
    "import mindspore as ms\n",
    "from mindspore import nn, ops, Tensor\n",
    "from mindspore.nn import Adam, TrainOneStepCell, LossBase\n",
    "ms.context.set_context(mode=ms.context.PYNATIVE_MODE, device_target=\"CPU\")\n",
    "\n",
    "def QLayer(qubit_num=4, prefix='0'):\n",
    "    circ_ = Circuit()\n",
    "    for qubit in range(qubit_num):\n",
    "        circ_ += RY(f'0_{qubit}').on(qubit)\n",
    "    for qubit in range(0, qubit_num-1, 2):\n",
    "        circ_ += Z.on(qubit+1, qubit)\n",
    "    for qubit in range(qubit_num):\n",
    "        circ_ += RY(f'1_{qubit}').on(qubit)\n",
    "    for qubit in range(1, qubit_num-1, 2):\n",
    "        circ_ += Z.on(qubit+1, qubit)\n",
    "    circ_ += Z.on(0, qubit_num-1)\n",
    "    circ_ = add_prefix(circ_, prefix)\n",
    "    return circ_\n",
    "\n",
    "qubit_num = 2\n",
    "layer_num = 7\n",
    "\n",
    "ansatz = Circuit()\n",
    "for layer in range(layer_num):\n",
    "    ansatz += QLayer(qubit_num=qubit_num, prefix=f'{layer}')\n",
    "\n",
    "sim = Simulator('projectq', ansatz.n_qubits)\n",
    "ham =  [Hamiltonian(QubitOperator('Z0')), Hamiltonian(QubitOperator('X0')), \n",
    "             Hamiltonian(QubitOperator('Z1')), Hamiltonian(QubitOperator('X1'))]\n",
    "grad_ops = sim.get_expectation_with_grad(ham,\n",
    "                                         ansatz,\n",
    "                                         ansatz_params_name=ansatz.params_name)\n",
    "\n",
    "class MyLoss(LossBase):\n",
    "    def __init__(self, reduction='mean'):\n",
    "        super(MyLoss, self).__init__(reduction)\n",
    "        self.tanh = ops.Tanh()\n",
    "\n",
    "    def construct(self, logits):\n",
    "        out = self.tanh(logits)\n",
    "        out = out[0] * out[2] + out[1] * out[3] + out[0] * out[1] \n",
    "        return self.get_loss(out)\n",
    "\n",
    "class MyWithLossCell(nn.Cell):\n",
    "   def __init__(self, backbone, loss_fn):\n",
    "       super(MyWithLossCell, self).__init__(auto_prefix=False)\n",
    "       self._backbone = backbone\n",
    "       self._loss_fn = loss_fn\n",
    "\n",
    "   def construct(self):\n",
    "       out = self._backbone()\n",
    "       return self._loss_fn(out)\n",
    "\n",
    "   @property\n",
    "   def backbone_network(self):\n",
    "       return self._backbone\n",
    "\n",
    "QuantumNet = MQAnsatzOnlyLayer(grad_ops)\n",
    "loss = MyLoss()\n",
    "net_with_criterion = MyWithLossCell(QuantumNet, loss)\n",
    "opti = Adam(QuantumNet.trainable_params(), learning_rate=0.05)     # 需要优化的是Quantumnet中可训练的参数，学习率设为0.5\n",
    "net = TrainOneStepCell(net_with_criterion, opti)\n",
    "\n",
    "for i in range(100):\n",
    "    res = net()\n",
    "    if i % 20 == 0:\n",
    "        print(i, ': ', res)\n",
    "\n",
    "round = ops.Round()\n",
    "out = QuantumNet()\n",
    "print((1 - round(out[0]) * round(out[2])) / 2 + (1 - round(out[1]) * round(out[3])) / 2 + (1 - round(out[0]) * round(out[1])) / 2)"
   ]
  },
  {
   "source": [
    "由上面结果可知，求得的最大割数为 3， 这一结果和用经典方法得到的结果一致。\n",
    "\n",
    "# 自验结果\n",
    "\n",
    "## 1. 对不同顶点数的图结构求解最大割\n",
    "\n",
    "为展示 MBE 算法的可靠性，我们分别对 3 - 10 个顶点的图进行了求解，都得到了与经典穷举法相一致的结果。该结果可通过执行 `main.ipynb` 中的 `主程序：0` 得到。\n",
    "\n",
    "其中，对于顶点数为偶数的图，我们采用了 3-regular 图结构，而对顶点数为奇数的图，我们留一个顶点只有两条边，而其他顶点都有三条边。下面两图分别代表了顶点个数为偶数和奇数两种图结构的基本特征。"
   ],
   "cell_type": "markdown",
   "metadata": {}
  },
  {
   "source": [
    "<img src=\"./src/even_graph.png\" alt=\"Drawing\" style=\"width: 340px;\" align=\"left\"/>\n",
    "\n",
    "\n",
    "<img src=\"./src/odd_graph.png\" alt=\"Drawing\" style=\"width: 300px;\" align=\"left\"/>"
   ],
   "cell_type": "markdown",
   "metadata": {}
  },
  {
   "source": [
    "## 2. 采用同一量子网络，求解不同图结构的最大割\n",
    "此外，论文还指出，采用同一个量子神经网络，可以完成对不同图结构的最大割求解问题。我们也对这一结论进行了复现验证，该结果可通过执行 `main.ipynb` 中的 `主程序：1` 得到。以下为具体的计算结果。"
   ],
   "cell_type": "markdown",
   "metadata": {}
  },
  {
   "cell_type": "code",
   "execution_count": null,
   "metadata": {},
   "outputs": [],
   "source": [
    "======================================================\n",
    "3 顶点图， 边包括： [[0, 1], [1, 2], [2, 0], [0, 1]]\n",
    "经典穷举法的最大割数为： 2\n",
    "量子 MBE 法得到的最大割数为： 3\n",
    "======================================================\n",
    "4 顶点图， 边包括： [[0, 1], [1, 2], [2, 3], [3, 0], [0, 2], [1, 3]]\n",
    "经典穷举法的最大割数为： 4\n",
    "量子 MBE 法得到的最大割数为： 4\n",
    "======================================================\n",
    "5 顶点图， 边包括： [[0, 1], [1, 2], [2, 3], [3, 4], [4, 0], [0, 2], [1, 3]]\n",
    "经典穷举法的最大割数为： 6\n",
    "量子 MBE 法得到的最大割数为： 6\n",
    "======================================================\n",
    "6 顶点图， 边包括： [[0, 1], [1, 2], [2, 3], [3, 4], [4, 5], [5, 0], [0, 3], [1, 4], [2, 5]]\n",
    "经典穷举法的最大割数为： 9\n",
    "量子 MBE 法得到的最大割数为： 9\n",
    "======================================================\n",
    "7 顶点图， 边包括： [[0, 1], [1, 2], [2, 3], [3, 4], [4, 5], [5, 6], [6, 0], [0, 3], [1, 4], [2, 5]]\n",
    "经典穷举法的最大割数为： 9\n",
    "量子 MBE 法得到的最大割数为： 9\n",
    "======================================================\n",
    "8 顶点图， 边包括： [[0, 1], [1, 2], [2, 3], [3, 4], [4, 5], [5, 6], [6, 7], [7, 0], [0, 4], [1, 5], [2, 6], [3, 7]]\n",
    "经典穷举法的最大割数为： 10\n",
    "量子 MBE 法得到的最大割数为： 10\n",
    "======================================================\n",
    "9 顶点图， 边包括： [[0, 1], [1, 2], [2, 3], [3, 4], [4, 5], [5, 6], [6, 7], [7, 8], [8, 0], [0, 4], [1, 5], [2, 6], [3, 7]]\n",
    "经典穷举法的最大割数为： 12\n",
    "量子 MBE 法得到的最大割数为： 12\n",
    "======================================================\n",
    "10 顶点图， 边包括： [[0, 1], [1, 2], [2, 3], [3, 4], [4, 5], [5, 6], [6, 7], [7, 8], [8, 9], [9, 0], [0, 5], [1, 6], [2, 7], [3, 8], [4, 9]]\n",
    "经典穷举法的最大割数为： 15\n",
    "量子 MBE 法得到的最大割数为： 15"
   ]
  },
  {
   "source": [
    "## 3. 用户自定义图结构求解最大割\n",
    "\n",
    "此项目支持用户自定义 2 个顶点以上的图结构的最大割求解。可根据输入边，自动确定图结构、量子比特数、目标哈密顿量等，计算并返回经典和 MBE 方法的求解结果。（注意，经典法目前只支持 3--10 个顶点的图最大割求解，如果顶点数大于 10 个，会提示不能计算，而量子 MBE 法则不受此限制）\n",
    "代码已封装到 `custom_graph.py` 中，可通过执行以下代码进行调用求解："
   ],
   "cell_type": "markdown",
   "metadata": {}
  },
  {
   "cell_type": "code",
   "execution_count": 2,
   "metadata": {
    "tags": []
   },
   "outputs": [
    {
     "output_type": "stream",
     "name": "stdout",
     "text": "本程序经典穷举法支持的图顶点数范围为 [3, 10]， 您输入图的顶点数为 12，故不能计算。\n量子 MBE 法得到的最大割数为：3\n"
    }
   ],
   "source": [
    "from custom_graph import Custom_graph\n",
    "edges =  [[0, 1], [1, 2], [9, 11]] # 示例图，用户可根据需要自定义图结构。支持的顶点数为 3-10\n",
    "graph = Custom_graph(edges)\n",
    "print(graph.exhaustion())\n",
    "print(graph.MBE())"
   ]
  },
  {
   "source": [
    "## 自验环境\n",
    "\n",
    "硬件：华为云 CloudIDE 2U8G 20G 存储\n",
    "\n",
    "软件：Mindspore 1.6.0、Mindquantum 0.5.0rc1、numpy 1.21.5\n",
    "\n",
    "训练超参数：learning rate = 0.05、loss function = 自定义损失函数、optimizer = Adam\n"
   ],
   "cell_type": "markdown",
   "metadata": {}
  }
 ]
}