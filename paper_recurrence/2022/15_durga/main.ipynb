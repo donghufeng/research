{
 "cells": [
  {
   "cell_type": "markdown",
   "id": "6535537e",
   "metadata": {},
   "source": [
    "# 利用MindQuantum实现量子卷积神经网络求解量子多体问题自验报告\n",
    "\n",
    "## 1. 项目介绍\n",
    "\n",
    "赛题十五：利用MindQuantum实现量子卷积神经网络求解量子多体问题\n",
    "\n",
    "论文：\n",
    "An Application of Quantum Machine Learning on Quantum Correlated Systems: Quantum Convolutional Neural Network as a Classifier for Many-Body Wavefunctions from the Quantum Variational Eigensolver\n",
    "\n",
    "复现要求：\n",
    "基于MindQuantum实现图4中的量子卷积神经网络，并在N=4、8、12的情况下实现对顺磁性和铁磁性的分类，精度要求达到90%以上\n",
    "\n",
    "## 相关信息\n",
    "\n",
    "### 作者\n",
    "- rongge ketyxu@126.com\n",
    "- levitan levitan@msn.cn\n",
    "\n",
    "### 代码地址\n",
    "https://gitee.com/levitan3/qcnn_tfi.git\n",
    "\n",
    "## 复现过程"
   ]
  },
  {
   "cell_type": "code",
   "execution_count": 4,
   "id": "6189077b",
   "metadata": {},
   "outputs": [],
   "source": [
    "import src.qcnn as qcn\n",
    "from src.qcnn import QCNN, StepAcc, LossMonitor   #QCNN：量子卷积神经网络类，StepAcc：监控训练时的模型的准确度，LossMonitor：监控训练中的损失函数"
   ]
  },
  {
   "cell_type": "markdown",
   "id": "a3237be1",
   "metadata": {},
   "source": [
    "### QCNN的主要结构\n",
    "\n",
    "- 数据加载和预处理\n",
    "- 量子电路生成\n",
    "- 神经网络训练及结果记录\n",
    "\n",
    "QCNN的初始化会先完成 据加载和预处理 以及量子电路生成。初始化参数包括：qubits：系统比特数，learning_rate：学习率，epoch：训练次数，batch：训练数据块大小，opt：是否优化电路。"
   ]
  },
  {
   "cell_type": "code",
   "execution_count": 38,
   "id": "09d8da7a",
   "metadata": {},
   "outputs": [
    {
     "name": "stdout",
     "output_type": "stream",
     "text": [
      "Load data finished.\n",
      "Extended Data shape: (801, 4), (801,), factor: 10\n"
     ]
    }
   ],
   "source": [
    "from importlib import reload\n",
    "reload(qcn)\n",
    "qcnn = qcn.QCNN(qubits=4, learning_rate=0.001, epoch=8, batch=8, opt = False)\n"
   ]
  },
  {
   "cell_type": "markdown",
   "id": "2a3df857",
   "metadata": {},
   "source": [
    "1. 数据加载和预处理\n",
    "\n",
    "Ising chain的数据来源于tensorflow quantum，有比特数N=4,8,12几组数据，每组数据有81个数据点，对应序参数g在[0.2, 1.8]之间，以0.02的间隔采样。QCNN.load_data()可以加载原始数据，由于原始数据点数不够多，参考文献的做法，我们也进行了插值来扩充数据，QCNN.data_ext()函数可以实现。我们将数据扩充了10倍，即约800个数据，其中640个作为训练集，160个作为验证集。\n",
    "\n",
    "数据集下载\n",
    "```python\n",
    "import tensorflow_quantum as tfq\n",
    "tfq.datasets.tfi_chain(qubits, boundary_condition='closed', data_dir=None)\n",
    "```\n",
    "\n",
    "\n",
    "2. 量子电路生成\n",
    "\n",
    "量子电路主要包括两部分：encoder 和 ansatz，encoder用于将数据进行编码加载到量子电路上，不可以训练。ansatz部分是量子卷积神经网络的核心部分，包括卷积电路和池化电路。QCNN.gen_encoder()用于实现encoder电路，QCNN.gen_qcnn_ansatz()用于实现ansatz电路，其中卷积电路由QCNN.q_convolution实现，池化电路由QCNN.q_pooling实现\n",
    "\n",
    "#### encoder电路\n"
   ]
  },
  {
   "cell_type": "code",
   "execution_count": 15,
   "id": "f409695c",
   "metadata": {},
   "outputs": [
    {
     "name": "stdout",
     "output_type": "stream",
     "text": [
      "============================Circuit Summary============================\n",
      "|Total number of gates  : 20.                                         |\n",
      "|Parameter gates        : 16.                                         |\n",
      "|with 4 parameters are  : alpha_0_0, alpha_0_1, alpha_1_0, alpha_1_1. |\n",
      "|Number qubit of circuit: 4                                           |\n",
      "=======================================================================\n",
      "None\n"
     ]
    },
    {
     "data": {
      "image/svg+xml": [
       "<div class=\"nb-html-output output_area\"><svg xmlns=\"http://www.w3.org/2000/svg\" width=\"1272.8\" height=\"260\" xmlns:xlink=\"http://www.w3.org/1999/xlink\">\n",
       "<rect x=\"0\" y=\"0\" width=\"1272.8\" height=\"260\" fill=\"#ffffff\" />\n",
       "<text x=\"20.0\" y=\"40.0\" font-size=\"16px\" dominant-baseline=\"middle\" text-anchor=\"start\" font-family=\"Arial\" font-weight=\"normal\" fill=\"#252b3a\" >\n",
       "q0:\n",
       " </text>\n",
       "<text x=\"20.0\" y=\"100.0\" font-size=\"16px\" dominant-baseline=\"middle\" text-anchor=\"start\" font-family=\"Arial\" font-weight=\"normal\" fill=\"#252b3a\" >\n",
       "q1:\n",
       " </text>\n",
       "<text x=\"20.0\" y=\"160.0\" font-size=\"16px\" dominant-baseline=\"middle\" text-anchor=\"start\" font-family=\"Arial\" font-weight=\"normal\" fill=\"#252b3a\" >\n",
       "q2:\n",
       " </text>\n",
       "<text x=\"20.0\" y=\"220.0\" font-size=\"16px\" dominant-baseline=\"middle\" text-anchor=\"start\" font-family=\"Arial\" font-weight=\"normal\" fill=\"#252b3a\" >\n",
       "q3:\n",
       " </text>\n",
       "<line x1=\"48.8\" x2=\"1252.8\" y1=\"40.0\" y2=\"40.0\" stroke=\"#adb0b8\" stroke-width=\"1\" />\n",
       "<line x1=\"48.8\" x2=\"1252.8\" y1=\"100.0\" y2=\"100.0\" stroke=\"#adb0b8\" stroke-width=\"1\" />\n",
       "<line x1=\"48.8\" x2=\"1252.8\" y1=\"160.0\" y2=\"160.0\" stroke=\"#adb0b8\" stroke-width=\"1\" />\n",
       "<line x1=\"48.8\" x2=\"1252.8\" y1=\"220.0\" y2=\"220.0\" stroke=\"#adb0b8\" stroke-width=\"1\" />\n",
       "\n",
       "<rect x=\"72.8\" y=\"20.0\" width=\"40.0\" height=\"40\" rx=\"4\" ry=\"4\" stroke=\"#ffffff\" stroke-width=\"0\" fill=\"#5e7ce0\" fill-opacity=\"1\" />\n",
       "<text x=\"92.8\" y=\"40.0\" font-size=\"20px\" dominant-baseline=\"middle\" text-anchor=\"middle\" font-family=\"Arial\" font-weight=\"normal\" fill=\"#ffffff\" >\n",
       "H\n",
       " </text>\n",
       "\n",
       "\n",
       "<rect x=\"72.8\" y=\"80.0\" width=\"40.0\" height=\"40\" rx=\"4\" ry=\"4\" stroke=\"#ffffff\" stroke-width=\"0\" fill=\"#5e7ce0\" fill-opacity=\"1\" />\n",
       "<text x=\"92.8\" y=\"100.0\" font-size=\"20px\" dominant-baseline=\"middle\" text-anchor=\"middle\" font-family=\"Arial\" font-weight=\"normal\" fill=\"#ffffff\" >\n",
       "H\n",
       " </text>\n",
       "\n",
       "\n",
       "<rect x=\"72.8\" y=\"140.0\" width=\"40.0\" height=\"40\" rx=\"4\" ry=\"4\" stroke=\"#ffffff\" stroke-width=\"0\" fill=\"#5e7ce0\" fill-opacity=\"1\" />\n",
       "<text x=\"92.8\" y=\"160.0\" font-size=\"20px\" dominant-baseline=\"middle\" text-anchor=\"middle\" font-family=\"Arial\" font-weight=\"normal\" fill=\"#ffffff\" >\n",
       "H\n",
       " </text>\n",
       "\n",
       "\n",
       "<rect x=\"72.8\" y=\"200.0\" width=\"40.0\" height=\"40\" rx=\"4\" ry=\"4\" stroke=\"#ffffff\" stroke-width=\"0\" fill=\"#5e7ce0\" fill-opacity=\"1\" />\n",
       "<text x=\"92.8\" y=\"220.0\" font-size=\"20px\" dominant-baseline=\"middle\" text-anchor=\"middle\" font-family=\"Arial\" font-weight=\"normal\" fill=\"#ffffff\" >\n",
       "H\n",
       " </text>\n",
       "\n",
       "\n",
       "<rect x=\"132.8\" y=\"20.0\" width=\"80.0\" height=\"100\" rx=\"4\" ry=\"4\" stroke=\"#ffffff\" stroke-width=\"0\" fill=\"#fac209\" fill-opacity=\"1\" />\n",
       "<text x=\"172.8\" y=\"66.0\" font-size=\"20px\" dominant-baseline=\"middle\" text-anchor=\"middle\" font-family=\"Arial\" font-weight=\"normal\" fill=\"#ffffff\" >\n",
       "ZZ\n",
       " </text>\n",
       "<text x=\"172.8\" y=\"82.0\" font-size=\"14.0px\" dominant-baseline=\"middle\" text-anchor=\"middle\" font-family=\"Arial\" font-weight=\"normal\" fill=\"#ffffff\" >\n",
       "alpha_0_0\n",
       " </text>\n",
       "\n",
       "\n",
       "<rect x=\"232.8\" y=\"20.0\" width=\"80.0\" height=\"40\" rx=\"4\" ry=\"4\" stroke=\"#ffffff\" stroke-width=\"0\" fill=\"#fac209\" fill-opacity=\"1\" />\n",
       "<text x=\"272.8\" y=\"36.0\" font-size=\"20px\" dominant-baseline=\"middle\" text-anchor=\"middle\" font-family=\"Arial\" font-weight=\"normal\" fill=\"#ffffff\" >\n",
       "RX\n",
       " </text>\n",
       "<text x=\"272.8\" y=\"52.0\" font-size=\"14.0px\" dominant-baseline=\"middle\" text-anchor=\"middle\" font-family=\"Arial\" font-weight=\"normal\" fill=\"#ffffff\" >\n",
       "alpha_0_1\n",
       " </text>\n",
       "\n",
       "\n",
       "<rect x=\"232.8\" y=\"80.0\" width=\"80.0\" height=\"100\" rx=\"4\" ry=\"4\" stroke=\"#ffffff\" stroke-width=\"0\" fill=\"#fac209\" fill-opacity=\"1\" />\n",
       "<text x=\"272.8\" y=\"126.0\" font-size=\"20px\" dominant-baseline=\"middle\" text-anchor=\"middle\" font-family=\"Arial\" font-weight=\"normal\" fill=\"#ffffff\" >\n",
       "ZZ\n",
       " </text>\n",
       "<text x=\"272.8\" y=\"142.0\" font-size=\"14.0px\" dominant-baseline=\"middle\" text-anchor=\"middle\" font-family=\"Arial\" font-weight=\"normal\" fill=\"#ffffff\" >\n",
       "alpha_0_0\n",
       " </text>\n",
       "\n",
       "\n",
       "<rect x=\"332.8\" y=\"80.0\" width=\"80.0\" height=\"40\" rx=\"4\" ry=\"4\" stroke=\"#ffffff\" stroke-width=\"0\" fill=\"#fac209\" fill-opacity=\"1\" />\n",
       "<text x=\"372.8\" y=\"96.0\" font-size=\"20px\" dominant-baseline=\"middle\" text-anchor=\"middle\" font-family=\"Arial\" font-weight=\"normal\" fill=\"#ffffff\" >\n",
       "RX\n",
       " </text>\n",
       "<text x=\"372.8\" y=\"112.0\" font-size=\"14.0px\" dominant-baseline=\"middle\" text-anchor=\"middle\" font-family=\"Arial\" font-weight=\"normal\" fill=\"#ffffff\" >\n",
       "alpha_0_1\n",
       " </text>\n",
       "\n",
       "\n",
       "<rect x=\"332.8\" y=\"140.0\" width=\"80.0\" height=\"100\" rx=\"4\" ry=\"4\" stroke=\"#ffffff\" stroke-width=\"0\" fill=\"#fac209\" fill-opacity=\"1\" />\n",
       "<text x=\"372.8\" y=\"186.0\" font-size=\"20px\" dominant-baseline=\"middle\" text-anchor=\"middle\" font-family=\"Arial\" font-weight=\"normal\" fill=\"#ffffff\" >\n",
       "ZZ\n",
       " </text>\n",
       "<text x=\"372.8\" y=\"202.0\" font-size=\"14.0px\" dominant-baseline=\"middle\" text-anchor=\"middle\" font-family=\"Arial\" font-weight=\"normal\" fill=\"#ffffff\" >\n",
       "alpha_0_0\n",
       " </text>\n",
       "\n",
       "\n",
       "<rect x=\"432.8\" y=\"140.0\" width=\"80.0\" height=\"40\" rx=\"4\" ry=\"4\" stroke=\"#ffffff\" stroke-width=\"0\" fill=\"#fac209\" fill-opacity=\"1\" />\n",
       "<text x=\"472.8\" y=\"156.0\" font-size=\"20px\" dominant-baseline=\"middle\" text-anchor=\"middle\" font-family=\"Arial\" font-weight=\"normal\" fill=\"#ffffff\" >\n",
       "RX\n",
       " </text>\n",
       "<text x=\"472.8\" y=\"172.0\" font-size=\"14.0px\" dominant-baseline=\"middle\" text-anchor=\"middle\" font-family=\"Arial\" font-weight=\"normal\" fill=\"#ffffff\" >\n",
       "alpha_0_1\n",
       " </text>\n",
       "\n",
       "\n",
       "<rect x=\"532.8\" y=\"20.0\" width=\"80.0\" height=\"220\" rx=\"4\" ry=\"4\" stroke=\"#ffffff\" stroke-width=\"0\" fill=\"#fac209\" fill-opacity=\"1\" />\n",
       "<text x=\"572.8\" y=\"126.0\" font-size=\"20px\" dominant-baseline=\"middle\" text-anchor=\"middle\" font-family=\"Arial\" font-weight=\"normal\" fill=\"#ffffff\" >\n",
       "ZZ\n",
       " </text>\n",
       "<text x=\"572.8\" y=\"142.0\" font-size=\"14.0px\" dominant-baseline=\"middle\" text-anchor=\"middle\" font-family=\"Arial\" font-weight=\"normal\" fill=\"#ffffff\" >\n",
       "alpha_0_0\n",
       " </text>\n",
       "<circle cx=\"532.8\" cy=\"40.0\" r=\"4\" fill=\"#fac209\" />\n",
       "<circle cx=\"612.8\" cy=\"40.0\" r=\"4\" fill=\"#fac209\" />\n",
       "<circle cx=\"532.8\" cy=\"220.0\" r=\"4\" fill=\"#fac209\" />\n",
       "<circle cx=\"612.8\" cy=\"220.0\" r=\"4\" fill=\"#fac209\" />\n",
       "\n",
       "<rect x=\"640.8\" y=\"200.0\" width=\"80.0\" height=\"40\" rx=\"4\" ry=\"4\" stroke=\"#ffffff\" stroke-width=\"0\" fill=\"#fac209\" fill-opacity=\"1\" />\n",
       "<text x=\"680.8\" y=\"216.0\" font-size=\"20px\" dominant-baseline=\"middle\" text-anchor=\"middle\" font-family=\"Arial\" font-weight=\"normal\" fill=\"#ffffff\" >\n",
       "RX\n",
       " </text>\n",
       "<text x=\"680.8\" y=\"232.0\" font-size=\"14.0px\" dominant-baseline=\"middle\" text-anchor=\"middle\" font-family=\"Arial\" font-weight=\"normal\" fill=\"#ffffff\" >\n",
       "alpha_0_1\n",
       " </text>\n",
       "\n",
       "\n",
       "<rect x=\"640.8\" y=\"20.0\" width=\"80.0\" height=\"100\" rx=\"4\" ry=\"4\" stroke=\"#ffffff\" stroke-width=\"0\" fill=\"#fac209\" fill-opacity=\"1\" />\n",
       "<text x=\"680.8\" y=\"66.0\" font-size=\"20px\" dominant-baseline=\"middle\" text-anchor=\"middle\" font-family=\"Arial\" font-weight=\"normal\" fill=\"#ffffff\" >\n",
       "ZZ\n",
       " </text>\n",
       "<text x=\"680.8\" y=\"82.0\" font-size=\"14.0px\" dominant-baseline=\"middle\" text-anchor=\"middle\" font-family=\"Arial\" font-weight=\"normal\" fill=\"#ffffff\" >\n",
       "alpha_1_0\n",
       " </text>\n",
       "\n",
       "\n",
       "<rect x=\"740.8\" y=\"20.0\" width=\"80.0\" height=\"40\" rx=\"4\" ry=\"4\" stroke=\"#ffffff\" stroke-width=\"0\" fill=\"#fac209\" fill-opacity=\"1\" />\n",
       "<text x=\"780.8\" y=\"36.0\" font-size=\"20px\" dominant-baseline=\"middle\" text-anchor=\"middle\" font-family=\"Arial\" font-weight=\"normal\" fill=\"#ffffff\" >\n",
       "RX\n",
       " </text>\n",
       "<text x=\"780.8\" y=\"52.0\" font-size=\"14.0px\" dominant-baseline=\"middle\" text-anchor=\"middle\" font-family=\"Arial\" font-weight=\"normal\" fill=\"#ffffff\" >\n",
       "alpha_1_1\n",
       " </text>\n",
       "\n",
       "\n",
       "<rect x=\"740.8\" y=\"80.0\" width=\"80.0\" height=\"100\" rx=\"4\" ry=\"4\" stroke=\"#ffffff\" stroke-width=\"0\" fill=\"#fac209\" fill-opacity=\"1\" />\n",
       "<text x=\"780.8\" y=\"126.0\" font-size=\"20px\" dominant-baseline=\"middle\" text-anchor=\"middle\" font-family=\"Arial\" font-weight=\"normal\" fill=\"#ffffff\" >\n",
       "ZZ\n",
       " </text>\n",
       "<text x=\"780.8\" y=\"142.0\" font-size=\"14.0px\" dominant-baseline=\"middle\" text-anchor=\"middle\" font-family=\"Arial\" font-weight=\"normal\" fill=\"#ffffff\" >\n",
       "alpha_1_0\n",
       " </text>\n",
       "\n",
       "\n",
       "<rect x=\"840.8\" y=\"80.0\" width=\"80.0\" height=\"40\" rx=\"4\" ry=\"4\" stroke=\"#ffffff\" stroke-width=\"0\" fill=\"#fac209\" fill-opacity=\"1\" />\n",
       "<text x=\"880.8\" y=\"96.0\" font-size=\"20px\" dominant-baseline=\"middle\" text-anchor=\"middle\" font-family=\"Arial\" font-weight=\"normal\" fill=\"#ffffff\" >\n",
       "RX\n",
       " </text>\n",
       "<text x=\"880.8\" y=\"112.0\" font-size=\"14.0px\" dominant-baseline=\"middle\" text-anchor=\"middle\" font-family=\"Arial\" font-weight=\"normal\" fill=\"#ffffff\" >\n",
       "alpha_1_1\n",
       " </text>\n",
       "\n",
       "\n",
       "<rect x=\"840.8\" y=\"140.0\" width=\"80.0\" height=\"100\" rx=\"4\" ry=\"4\" stroke=\"#ffffff\" stroke-width=\"0\" fill=\"#fac209\" fill-opacity=\"1\" />\n",
       "<text x=\"880.8\" y=\"186.0\" font-size=\"20px\" dominant-baseline=\"middle\" text-anchor=\"middle\" font-family=\"Arial\" font-weight=\"normal\" fill=\"#ffffff\" >\n",
       "ZZ\n",
       " </text>\n",
       "<text x=\"880.8\" y=\"202.0\" font-size=\"14.0px\" dominant-baseline=\"middle\" text-anchor=\"middle\" font-family=\"Arial\" font-weight=\"normal\" fill=\"#ffffff\" >\n",
       "alpha_1_0\n",
       " </text>\n",
       "\n",
       "\n",
       "<rect x=\"940.8\" y=\"140.0\" width=\"80.0\" height=\"40\" rx=\"4\" ry=\"4\" stroke=\"#ffffff\" stroke-width=\"0\" fill=\"#fac209\" fill-opacity=\"1\" />\n",
       "<text x=\"980.8\" y=\"156.0\" font-size=\"20px\" dominant-baseline=\"middle\" text-anchor=\"middle\" font-family=\"Arial\" font-weight=\"normal\" fill=\"#ffffff\" >\n",
       "RX\n",
       " </text>\n",
       "<text x=\"980.8\" y=\"172.0\" font-size=\"14.0px\" dominant-baseline=\"middle\" text-anchor=\"middle\" font-family=\"Arial\" font-weight=\"normal\" fill=\"#ffffff\" >\n",
       "alpha_1_1\n",
       " </text>\n",
       "\n",
       "\n",
       "<rect x=\"1040.8\" y=\"20.0\" width=\"80.0\" height=\"220\" rx=\"4\" ry=\"4\" stroke=\"#ffffff\" stroke-width=\"0\" fill=\"#fac209\" fill-opacity=\"1\" />\n",
       "<text x=\"1080.8\" y=\"126.0\" font-size=\"20px\" dominant-baseline=\"middle\" text-anchor=\"middle\" font-family=\"Arial\" font-weight=\"normal\" fill=\"#ffffff\" >\n",
       "ZZ\n",
       " </text>\n",
       "<text x=\"1080.8\" y=\"142.0\" font-size=\"14.0px\" dominant-baseline=\"middle\" text-anchor=\"middle\" font-family=\"Arial\" font-weight=\"normal\" fill=\"#ffffff\" >\n",
       "alpha_1_0\n",
       " </text>\n",
       "<circle cx=\"1040.8\" cy=\"40.0\" r=\"4\" fill=\"#fac209\" />\n",
       "<circle cx=\"1120.8\" cy=\"40.0\" r=\"4\" fill=\"#fac209\" />\n",
       "<circle cx=\"1040.8\" cy=\"220.0\" r=\"4\" fill=\"#fac209\" />\n",
       "<circle cx=\"1120.8\" cy=\"220.0\" r=\"4\" fill=\"#fac209\" />\n",
       "\n",
       "<rect x=\"1148.8\" y=\"200.0\" width=\"80.0\" height=\"40\" rx=\"4\" ry=\"4\" stroke=\"#ffffff\" stroke-width=\"0\" fill=\"#fac209\" fill-opacity=\"1\" />\n",
       "<text x=\"1188.8\" y=\"216.0\" font-size=\"20px\" dominant-baseline=\"middle\" text-anchor=\"middle\" font-family=\"Arial\" font-weight=\"normal\" fill=\"#ffffff\" >\n",
       "RX\n",
       " </text>\n",
       "<text x=\"1188.8\" y=\"232.0\" font-size=\"14.0px\" dominant-baseline=\"middle\" text-anchor=\"middle\" font-family=\"Arial\" font-weight=\"normal\" fill=\"#ffffff\" >\n",
       "alpha_1_1\n",
       " </text>\n",
       "\n",
       "</svg></div>"
      ],
      "text/plain": [
       "<mindquantum.io.display.circuit_svg_drawer.SVGCircuit at 0x7f70c226a430>"
      ]
     },
     "execution_count": 15,
     "metadata": {},
     "output_type": "execute_result"
    }
   ],
   "source": [
    "encoder = qcnn.gen_encoder()\n",
    "print(encoder.summary())\n",
    "encoder.svg()"
   ]
  },
  {
   "cell_type": "markdown",
   "id": "7072fac8",
   "metadata": {},
   "source": [
    "#### 两比特卷积电路"
   ]
  },
  {
   "cell_type": "code",
   "execution_count": 16,
   "id": "865c4ea4",
   "metadata": {},
   "outputs": [
    {
     "name": "stdout",
     "output_type": "stream",
     "text": [
      "====================================================Circuit Summary====================================================\n",
      "|Total number of gates  : 15.                                                                                         |\n",
      "|Parameter gates        : 15.                                                                                         |\n",
      "|with 14 parameters are : cov_0_0, cov_0_1, cov_0_2, cov_0_3, cov_0_4, cov_0_5, cov_0_6, cov_0_7, cov_0_8, cov_0_9... |\n",
      "|Number qubit of circuit: 2                                                                                           |\n",
      "=======================================================================================================================\n",
      "None\n"
     ]
    },
    {
     "data": {
      "image/svg+xml": [
       "<div class=\"nb-html-output output_area\"><svg xmlns=\"http://www.w3.org/2000/svg\" width=\"996.8\" height=\"140\" xmlns:xlink=\"http://www.w3.org/1999/xlink\">\n",
       "<rect x=\"0\" y=\"0\" width=\"996.8\" height=\"140\" fill=\"#ffffff\" />\n",
       "<text x=\"20.0\" y=\"40.0\" font-size=\"16px\" dominant-baseline=\"middle\" text-anchor=\"start\" font-family=\"Arial\" font-weight=\"normal\" fill=\"#252b3a\" >\n",
       "q0:\n",
       " </text>\n",
       "<text x=\"20.0\" y=\"100.0\" font-size=\"16px\" dominant-baseline=\"middle\" text-anchor=\"start\" font-family=\"Arial\" font-weight=\"normal\" fill=\"#252b3a\" >\n",
       "q1:\n",
       " </text>\n",
       "<line x1=\"48.8\" x2=\"976.8\" y1=\"40.0\" y2=\"40.0\" stroke=\"#adb0b8\" stroke-width=\"1\" />\n",
       "<line x1=\"48.8\" x2=\"976.8\" y1=\"100.0\" y2=\"100.0\" stroke=\"#adb0b8\" stroke-width=\"1\" />\n",
       "\n",
       "<rect x=\"72.8\" y=\"20.0\" width=\"80.0\" height=\"40\" rx=\"4\" ry=\"4\" stroke=\"#ffffff\" stroke-width=\"0\" fill=\"#fac209\" fill-opacity=\"1\" />\n",
       "<text x=\"112.8\" y=\"36.0\" font-size=\"20px\" dominant-baseline=\"middle\" text-anchor=\"middle\" font-family=\"Arial\" font-weight=\"normal\" fill=\"#ffffff\" >\n",
       "RX\n",
       " </text>\n",
       "<text x=\"112.8\" y=\"52.0\" font-size=\"14.0px\" dominant-baseline=\"middle\" text-anchor=\"middle\" font-family=\"Arial\" font-weight=\"normal\" fill=\"#ffffff\" >\n",
       "cov_0_0\n",
       " </text>\n",
       "\n",
       "\n",
       "<rect x=\"172.8\" y=\"20.0\" width=\"80.0\" height=\"40\" rx=\"4\" ry=\"4\" stroke=\"#ffffff\" stroke-width=\"0\" fill=\"#fac209\" fill-opacity=\"1\" />\n",
       "<text x=\"212.8\" y=\"36.0\" font-size=\"20px\" dominant-baseline=\"middle\" text-anchor=\"middle\" font-family=\"Arial\" font-weight=\"normal\" fill=\"#ffffff\" >\n",
       "RY\n",
       " </text>\n",
       "<text x=\"212.8\" y=\"52.0\" font-size=\"14.0px\" dominant-baseline=\"middle\" text-anchor=\"middle\" font-family=\"Arial\" font-weight=\"normal\" fill=\"#ffffff\" >\n",
       "cov_0_1\n",
       " </text>\n",
       "\n",
       "\n",
       "<rect x=\"272.8\" y=\"20.0\" width=\"80.0\" height=\"40\" rx=\"4\" ry=\"4\" stroke=\"#ffffff\" stroke-width=\"0\" fill=\"#fac209\" fill-opacity=\"1\" />\n",
       "<text x=\"312.8\" y=\"36.0\" font-size=\"20px\" dominant-baseline=\"middle\" text-anchor=\"middle\" font-family=\"Arial\" font-weight=\"normal\" fill=\"#ffffff\" >\n",
       "RZ\n",
       " </text>\n",
       "<text x=\"312.8\" y=\"52.0\" font-size=\"14.0px\" dominant-baseline=\"middle\" text-anchor=\"middle\" font-family=\"Arial\" font-weight=\"normal\" fill=\"#ffffff\" >\n",
       "cov_0_2\n",
       " </text>\n",
       "\n",
       "\n",
       "<rect x=\"72.8\" y=\"80.0\" width=\"80.0\" height=\"40\" rx=\"4\" ry=\"4\" stroke=\"#ffffff\" stroke-width=\"0\" fill=\"#fac209\" fill-opacity=\"1\" />\n",
       "<text x=\"112.8\" y=\"96.0\" font-size=\"20px\" dominant-baseline=\"middle\" text-anchor=\"middle\" font-family=\"Arial\" font-weight=\"normal\" fill=\"#ffffff\" >\n",
       "RX\n",
       " </text>\n",
       "<text x=\"112.8\" y=\"112.0\" font-size=\"14.0px\" dominant-baseline=\"middle\" text-anchor=\"middle\" font-family=\"Arial\" font-weight=\"normal\" fill=\"#ffffff\" >\n",
       "cov_0_3\n",
       " </text>\n",
       "\n",
       "\n",
       "<rect x=\"172.8\" y=\"80.0\" width=\"80.0\" height=\"40\" rx=\"4\" ry=\"4\" stroke=\"#ffffff\" stroke-width=\"0\" fill=\"#fac209\" fill-opacity=\"1\" />\n",
       "<text x=\"212.8\" y=\"96.0\" font-size=\"20px\" dominant-baseline=\"middle\" text-anchor=\"middle\" font-family=\"Arial\" font-weight=\"normal\" fill=\"#ffffff\" >\n",
       "RY\n",
       " </text>\n",
       "<text x=\"212.8\" y=\"112.0\" font-size=\"14.0px\" dominant-baseline=\"middle\" text-anchor=\"middle\" font-family=\"Arial\" font-weight=\"normal\" fill=\"#ffffff\" >\n",
       "cov_0_4\n",
       " </text>\n",
       "\n",
       "\n",
       "<rect x=\"272.8\" y=\"80.0\" width=\"80.0\" height=\"40\" rx=\"4\" ry=\"4\" stroke=\"#ffffff\" stroke-width=\"0\" fill=\"#fac209\" fill-opacity=\"1\" />\n",
       "<text x=\"312.8\" y=\"96.0\" font-size=\"20px\" dominant-baseline=\"middle\" text-anchor=\"middle\" font-family=\"Arial\" font-weight=\"normal\" fill=\"#ffffff\" >\n",
       "RZ\n",
       " </text>\n",
       "<text x=\"312.8\" y=\"112.0\" font-size=\"14.0px\" dominant-baseline=\"middle\" text-anchor=\"middle\" font-family=\"Arial\" font-weight=\"normal\" fill=\"#ffffff\" >\n",
       "cov_0_5\n",
       " </text>\n",
       "\n",
       "\n",
       "<rect x=\"372.8\" y=\"20.0\" width=\"80.0\" height=\"100\" rx=\"4\" ry=\"4\" stroke=\"#ffffff\" stroke-width=\"0\" fill=\"#fac209\" fill-opacity=\"1\" />\n",
       "<text x=\"412.8\" y=\"66.0\" font-size=\"20px\" dominant-baseline=\"middle\" text-anchor=\"middle\" font-family=\"Arial\" font-weight=\"normal\" fill=\"#ffffff\" >\n",
       "XX\n",
       " </text>\n",
       "<text x=\"412.8\" y=\"82.0\" font-size=\"14.0px\" dominant-baseline=\"middle\" text-anchor=\"middle\" font-family=\"Arial\" font-weight=\"normal\" fill=\"#ffffff\" >\n",
       "cov_0_6\n",
       " </text>\n",
       "\n",
       "\n",
       "<rect x=\"472.8\" y=\"20.0\" width=\"80.0\" height=\"100\" rx=\"4\" ry=\"4\" stroke=\"#ffffff\" stroke-width=\"0\" fill=\"#fac209\" fill-opacity=\"1\" />\n",
       "<text x=\"512.8\" y=\"66.0\" font-size=\"20px\" dominant-baseline=\"middle\" text-anchor=\"middle\" font-family=\"Arial\" font-weight=\"normal\" fill=\"#ffffff\" >\n",
       "YY\n",
       " </text>\n",
       "<text x=\"512.8\" y=\"82.0\" font-size=\"14.0px\" dominant-baseline=\"middle\" text-anchor=\"middle\" font-family=\"Arial\" font-weight=\"normal\" fill=\"#ffffff\" >\n",
       "cov_0_7\n",
       " </text>\n",
       "\n",
       "\n",
       "<rect x=\"572.8\" y=\"20.0\" width=\"80.0\" height=\"100\" rx=\"4\" ry=\"4\" stroke=\"#ffffff\" stroke-width=\"0\" fill=\"#fac209\" fill-opacity=\"1\" />\n",
       "<text x=\"612.8\" y=\"66.0\" font-size=\"20px\" dominant-baseline=\"middle\" text-anchor=\"middle\" font-family=\"Arial\" font-weight=\"normal\" fill=\"#ffffff\" >\n",
       "ZZ\n",
       " </text>\n",
       "<text x=\"612.8\" y=\"82.0\" font-size=\"14.0px\" dominant-baseline=\"middle\" text-anchor=\"middle\" font-family=\"Arial\" font-weight=\"normal\" fill=\"#ffffff\" >\n",
       "cov_0_8\n",
       " </text>\n",
       "\n",
       "\n",
       "<rect x=\"672.8\" y=\"20.0\" width=\"80.0\" height=\"40\" rx=\"4\" ry=\"4\" stroke=\"#ffffff\" stroke-width=\"0\" fill=\"#fac209\" fill-opacity=\"1\" />\n",
       "<text x=\"712.8\" y=\"36.0\" font-size=\"20px\" dominant-baseline=\"middle\" text-anchor=\"middle\" font-family=\"Arial\" font-weight=\"normal\" fill=\"#ffffff\" >\n",
       "RX\n",
       " </text>\n",
       "<text x=\"712.8\" y=\"52.0\" font-size=\"14.0px\" dominant-baseline=\"middle\" text-anchor=\"middle\" font-family=\"Arial\" font-weight=\"normal\" fill=\"#ffffff\" >\n",
       "cov_0_9\n",
       " </text>\n",
       "\n",
       "\n",
       "<rect x=\"772.8\" y=\"20.0\" width=\"80.0\" height=\"40\" rx=\"4\" ry=\"4\" stroke=\"#ffffff\" stroke-width=\"0\" fill=\"#fac209\" fill-opacity=\"1\" />\n",
       "<text x=\"812.8\" y=\"36.0\" font-size=\"20px\" dominant-baseline=\"middle\" text-anchor=\"middle\" font-family=\"Arial\" font-weight=\"normal\" fill=\"#ffffff\" >\n",
       "RY\n",
       " </text>\n",
       "<text x=\"812.8\" y=\"52.0\" font-size=\"14.0px\" dominant-baseline=\"middle\" text-anchor=\"middle\" font-family=\"Arial\" font-weight=\"normal\" fill=\"#ffffff\" >\n",
       "cov_0_10\n",
       " </text>\n",
       "\n",
       "\n",
       "<rect x=\"872.8\" y=\"20.0\" width=\"80.0\" height=\"40\" rx=\"4\" ry=\"4\" stroke=\"#ffffff\" stroke-width=\"0\" fill=\"#fac209\" fill-opacity=\"1\" />\n",
       "<text x=\"912.8\" y=\"36.0\" font-size=\"20px\" dominant-baseline=\"middle\" text-anchor=\"middle\" font-family=\"Arial\" font-weight=\"normal\" fill=\"#ffffff\" >\n",
       "RZ\n",
       " </text>\n",
       "<text x=\"912.8\" y=\"52.0\" font-size=\"14.0px\" dominant-baseline=\"middle\" text-anchor=\"middle\" font-family=\"Arial\" font-weight=\"normal\" fill=\"#ffffff\" >\n",
       "cov_0_11\n",
       " </text>\n",
       "\n",
       "\n",
       "<rect x=\"672.8\" y=\"80.0\" width=\"80.0\" height=\"40\" rx=\"4\" ry=\"4\" stroke=\"#ffffff\" stroke-width=\"0\" fill=\"#fac209\" fill-opacity=\"1\" />\n",
       "<text x=\"712.8\" y=\"96.0\" font-size=\"20px\" dominant-baseline=\"middle\" text-anchor=\"middle\" font-family=\"Arial\" font-weight=\"normal\" fill=\"#ffffff\" >\n",
       "RX\n",
       " </text>\n",
       "<text x=\"712.8\" y=\"112.0\" font-size=\"14.0px\" dominant-baseline=\"middle\" text-anchor=\"middle\" font-family=\"Arial\" font-weight=\"normal\" fill=\"#ffffff\" >\n",
       "cov_0_11\n",
       " </text>\n",
       "\n",
       "\n",
       "<rect x=\"772.8\" y=\"80.0\" width=\"80.0\" height=\"40\" rx=\"4\" ry=\"4\" stroke=\"#ffffff\" stroke-width=\"0\" fill=\"#fac209\" fill-opacity=\"1\" />\n",
       "<text x=\"812.8\" y=\"96.0\" font-size=\"20px\" dominant-baseline=\"middle\" text-anchor=\"middle\" font-family=\"Arial\" font-weight=\"normal\" fill=\"#ffffff\" >\n",
       "RY\n",
       " </text>\n",
       "<text x=\"812.8\" y=\"112.0\" font-size=\"14.0px\" dominant-baseline=\"middle\" text-anchor=\"middle\" font-family=\"Arial\" font-weight=\"normal\" fill=\"#ffffff\" >\n",
       "cov_0_12\n",
       " </text>\n",
       "\n",
       "\n",
       "<rect x=\"872.8\" y=\"80.0\" width=\"80.0\" height=\"40\" rx=\"4\" ry=\"4\" stroke=\"#ffffff\" stroke-width=\"0\" fill=\"#fac209\" fill-opacity=\"1\" />\n",
       "<text x=\"912.8\" y=\"96.0\" font-size=\"20px\" dominant-baseline=\"middle\" text-anchor=\"middle\" font-family=\"Arial\" font-weight=\"normal\" fill=\"#ffffff\" >\n",
       "RZ\n",
       " </text>\n",
       "<text x=\"912.8\" y=\"112.0\" font-size=\"14.0px\" dominant-baseline=\"middle\" text-anchor=\"middle\" font-family=\"Arial\" font-weight=\"normal\" fill=\"#ffffff\" >\n",
       "cov_0_13\n",
       " </text>\n",
       "\n",
       "</svg></div>"
      ],
      "text/plain": [
       "<mindquantum.io.display.circuit_svg_drawer.SVGCircuit at 0x7f712d7f7250>"
      ]
     },
     "execution_count": 16,
     "metadata": {},
     "output_type": "execute_result"
    }
   ],
   "source": [
    "conv = qcnn.q_convolution('0',[0,1])\n",
    "print(conv.summary())\n",
    "conv.svg()"
   ]
  },
  {
   "cell_type": "markdown",
   "id": "3db70052",
   "metadata": {},
   "source": [
    "#### 两比特池化电路"
   ]
  },
  {
   "cell_type": "code",
   "execution_count": 17,
   "id": "67e534ec",
   "metadata": {},
   "outputs": [
    {
     "name": "stdout",
     "output_type": "stream",
     "text": [
      "===========================Circuit Summary===========================\n",
      "|Total number of gates  : 10.                                       |\n",
      "|Parameter gates        : 9.                                        |\n",
      "|with 6 parameters are  : p_0_0, p_0_1, p_0_2, p_0_3, p_0_4, p_0_5. |\n",
      "|Number qubit of circuit: 2                                         |\n",
      "=====================================================================\n",
      "None\n"
     ]
    },
    {
     "data": {
      "image/svg+xml": [
       "<div class=\"nb-html-output output_area\"><svg xmlns=\"http://www.w3.org/2000/svg\" width=\"756.8\" height=\"140\" xmlns:xlink=\"http://www.w3.org/1999/xlink\">\n",
       "<rect x=\"0\" y=\"0\" width=\"756.8\" height=\"140\" fill=\"#ffffff\" />\n",
       "<text x=\"20.0\" y=\"40.0\" font-size=\"16px\" dominant-baseline=\"middle\" text-anchor=\"start\" font-family=\"Arial\" font-weight=\"normal\" fill=\"#252b3a\" >\n",
       "q0:\n",
       " </text>\n",
       "<text x=\"20.0\" y=\"100.0\" font-size=\"16px\" dominant-baseline=\"middle\" text-anchor=\"start\" font-family=\"Arial\" font-weight=\"normal\" fill=\"#252b3a\" >\n",
       "q1:\n",
       " </text>\n",
       "<line x1=\"48.8\" x2=\"736.8\" y1=\"40.0\" y2=\"40.0\" stroke=\"#adb0b8\" stroke-width=\"1\" />\n",
       "<line x1=\"48.8\" x2=\"736.8\" y1=\"100.0\" y2=\"100.0\" stroke=\"#adb0b8\" stroke-width=\"1\" />\n",
       "\n",
       "<rect x=\"72.8\" y=\"20.0\" width=\"80.0\" height=\"40\" rx=\"4\" ry=\"4\" stroke=\"#ffffff\" stroke-width=\"0\" fill=\"#fac209\" fill-opacity=\"1\" />\n",
       "<text x=\"112.8\" y=\"36.0\" font-size=\"20px\" dominant-baseline=\"middle\" text-anchor=\"middle\" font-family=\"Arial\" font-weight=\"normal\" fill=\"#ffffff\" >\n",
       "RX\n",
       " </text>\n",
       "<text x=\"112.8\" y=\"52.0\" font-size=\"14.0px\" dominant-baseline=\"middle\" text-anchor=\"middle\" font-family=\"Arial\" font-weight=\"normal\" fill=\"#ffffff\" >\n",
       "p_0_0\n",
       " </text>\n",
       "\n",
       "\n",
       "<rect x=\"172.8\" y=\"20.0\" width=\"80.0\" height=\"40\" rx=\"4\" ry=\"4\" stroke=\"#ffffff\" stroke-width=\"0\" fill=\"#fac209\" fill-opacity=\"1\" />\n",
       "<text x=\"212.8\" y=\"36.0\" font-size=\"20px\" dominant-baseline=\"middle\" text-anchor=\"middle\" font-family=\"Arial\" font-weight=\"normal\" fill=\"#ffffff\" >\n",
       "RY\n",
       " </text>\n",
       "<text x=\"212.8\" y=\"52.0\" font-size=\"14.0px\" dominant-baseline=\"middle\" text-anchor=\"middle\" font-family=\"Arial\" font-weight=\"normal\" fill=\"#ffffff\" >\n",
       "p_0_1\n",
       " </text>\n",
       "\n",
       "\n",
       "<rect x=\"272.8\" y=\"20.0\" width=\"80.0\" height=\"40\" rx=\"4\" ry=\"4\" stroke=\"#ffffff\" stroke-width=\"0\" fill=\"#fac209\" fill-opacity=\"1\" />\n",
       "<text x=\"312.8\" y=\"36.0\" font-size=\"20px\" dominant-baseline=\"middle\" text-anchor=\"middle\" font-family=\"Arial\" font-weight=\"normal\" fill=\"#ffffff\" >\n",
       "RZ\n",
       " </text>\n",
       "<text x=\"312.8\" y=\"52.0\" font-size=\"14.0px\" dominant-baseline=\"middle\" text-anchor=\"middle\" font-family=\"Arial\" font-weight=\"normal\" fill=\"#ffffff\" >\n",
       "p_0_2\n",
       " </text>\n",
       "\n",
       "\n",
       "<rect x=\"72.8\" y=\"80.0\" width=\"80.0\" height=\"40\" rx=\"4\" ry=\"4\" stroke=\"#ffffff\" stroke-width=\"0\" fill=\"#fac209\" fill-opacity=\"1\" />\n",
       "<text x=\"112.8\" y=\"96.0\" font-size=\"20px\" dominant-baseline=\"middle\" text-anchor=\"middle\" font-family=\"Arial\" font-weight=\"normal\" fill=\"#ffffff\" >\n",
       "RX\n",
       " </text>\n",
       "<text x=\"112.8\" y=\"112.0\" font-size=\"14.0px\" dominant-baseline=\"middle\" text-anchor=\"middle\" font-family=\"Arial\" font-weight=\"normal\" fill=\"#ffffff\" >\n",
       "p_0_3\n",
       " </text>\n",
       "\n",
       "\n",
       "<rect x=\"172.8\" y=\"80.0\" width=\"80.0\" height=\"40\" rx=\"4\" ry=\"4\" stroke=\"#ffffff\" stroke-width=\"0\" fill=\"#fac209\" fill-opacity=\"1\" />\n",
       "<text x=\"212.8\" y=\"96.0\" font-size=\"20px\" dominant-baseline=\"middle\" text-anchor=\"middle\" font-family=\"Arial\" font-weight=\"normal\" fill=\"#ffffff\" >\n",
       "RY\n",
       " </text>\n",
       "<text x=\"212.8\" y=\"112.0\" font-size=\"14.0px\" dominant-baseline=\"middle\" text-anchor=\"middle\" font-family=\"Arial\" font-weight=\"normal\" fill=\"#ffffff\" >\n",
       "p_0_4\n",
       " </text>\n",
       "\n",
       "\n",
       "<rect x=\"272.8\" y=\"80.0\" width=\"80.0\" height=\"40\" rx=\"4\" ry=\"4\" stroke=\"#ffffff\" stroke-width=\"0\" fill=\"#fac209\" fill-opacity=\"1\" />\n",
       "<text x=\"312.8\" y=\"96.0\" font-size=\"20px\" dominant-baseline=\"middle\" text-anchor=\"middle\" font-family=\"Arial\" font-weight=\"normal\" fill=\"#ffffff\" >\n",
       "RZ\n",
       " </text>\n",
       "<text x=\"312.8\" y=\"112.0\" font-size=\"14.0px\" dominant-baseline=\"middle\" text-anchor=\"middle\" font-family=\"Arial\" font-weight=\"normal\" fill=\"#ffffff\" >\n",
       "p_0_5\n",
       " </text>\n",
       "\n",
       "<circle cx=\"392.8\" cy=\"40.0\" r=\"4\" fill=\"#16acff\" />\n",
       "<line x1=\"392.8\" x2=\"392.8\" y1=\"40.0\" y2=\"100.0\" stroke=\"#16acff\" stroke-width=\"3\" />\n",
       "<rect x=\"372.8\" y=\"80.0\" width=\"40\" height=\"40\" rx=\"4\" ry=\"4\" stroke=\"#ffffff\" stroke-width=\"0\" fill=\"#16acff\" fill-opacity=\"1\" />\n",
       "<line x1=\"378.8\" x2=\"406.8\" y1=\"100.0\" y2=\"100.0\" stroke=\"#ffffff\" stroke-width=\"4\" />\n",
       "<line x1=\"392.8\" x2=\"392.8\" y1=\"86.0\" y2=\"114.0\" stroke=\"#ffffff\" stroke-width=\"4\" />\n",
       "\n",
       "<rect x=\"432.8\" y=\"80.0\" width=\"80.0\" height=\"40\" rx=\"4\" ry=\"4\" stroke=\"#ffffff\" stroke-width=\"0\" fill=\"#fac209\" fill-opacity=\"1\" />\n",
       "<text x=\"472.8\" y=\"96.0\" font-size=\"20px\" dominant-baseline=\"middle\" text-anchor=\"middle\" font-family=\"Arial\" font-weight=\"normal\" fill=\"#ffffff\" >\n",
       "RZ\n",
       " </text>\n",
       "<text x=\"472.8\" y=\"112.0\" font-size=\"14.0px\" dominant-baseline=\"middle\" text-anchor=\"middle\" font-family=\"Arial\" font-weight=\"normal\" fill=\"#ffffff\" >\n",
       "-p_0_5\n",
       " </text>\n",
       "\n",
       "\n",
       "<rect x=\"532.8\" y=\"80.0\" width=\"80.0\" height=\"40\" rx=\"4\" ry=\"4\" stroke=\"#ffffff\" stroke-width=\"0\" fill=\"#fac209\" fill-opacity=\"1\" />\n",
       "<text x=\"572.8\" y=\"96.0\" font-size=\"20px\" dominant-baseline=\"middle\" text-anchor=\"middle\" font-family=\"Arial\" font-weight=\"normal\" fill=\"#ffffff\" >\n",
       "RY\n",
       " </text>\n",
       "<text x=\"572.8\" y=\"112.0\" font-size=\"14.0px\" dominant-baseline=\"middle\" text-anchor=\"middle\" font-family=\"Arial\" font-weight=\"normal\" fill=\"#ffffff\" >\n",
       "-p_0_4\n",
       " </text>\n",
       "\n",
       "\n",
       "<rect x=\"632.8\" y=\"80.0\" width=\"80.0\" height=\"40\" rx=\"4\" ry=\"4\" stroke=\"#ffffff\" stroke-width=\"0\" fill=\"#fac209\" fill-opacity=\"1\" />\n",
       "<text x=\"672.8\" y=\"96.0\" font-size=\"20px\" dominant-baseline=\"middle\" text-anchor=\"middle\" font-family=\"Arial\" font-weight=\"normal\" fill=\"#ffffff\" >\n",
       "RX\n",
       " </text>\n",
       "<text x=\"672.8\" y=\"112.0\" font-size=\"14.0px\" dominant-baseline=\"middle\" text-anchor=\"middle\" font-family=\"Arial\" font-weight=\"normal\" fill=\"#ffffff\" >\n",
       "-p_0_3\n",
       " </text>\n",
       "\n",
       "</svg></div>"
      ],
      "text/plain": [
       "<mindquantum.io.display.circuit_svg_drawer.SVGCircuit at 0x7f70c20b8dc0>"
      ]
     },
     "execution_count": 17,
     "metadata": {},
     "output_type": "execute_result"
    }
   ],
   "source": [
    "pol = qcnn.q_pooling('0',[0,1])\n",
    "print(pol.summary())\n",
    "pol.svg()"
   ]
  },
  {
   "cell_type": "markdown",
   "id": "948a5884",
   "metadata": {},
   "source": [
    "#### 4比特ansatz电路"
   ]
  },
  {
   "cell_type": "code",
   "execution_count": 18,
   "id": "b320e747",
   "metadata": {},
   "outputs": [
    {
     "name": "stdout",
     "output_type": "stream",
     "text": [
      "========================================================================Circuit Summary========================================================================\n",
      "|Total number of gates  : 75.                                                                                                                                 |\n",
      "|Parameter gates        : 72.                                                                                                                                 |\n",
      "|with 60 parameters are : cov_blo_0_0, cov_blo_0_1, cov_blo_0_2, cov_blo_0_3, cov_blo_0_4, cov_blo_0_5, cov_blo_0_6, cov_blo_0_7, cov_blo_0_8, cov_blo_0_9... |\n",
      "|Number qubit of circuit: 4                                                                                                                                   |\n",
      "===============================================================================================================================================================\n",
      "None\n"
     ]
    },
    {
     "data": {
      "image/svg+xml": [
       "<div class=\"nb-html-output output_area\"><svg xmlns=\"http://www.w3.org/2000/svg\" width=\"4200.8\" height=\"260\" xmlns:xlink=\"http://www.w3.org/1999/xlink\">\n",
       "<rect x=\"0\" y=\"0\" width=\"4200.8\" height=\"260\" fill=\"#ffffff\" />\n",
       "<text x=\"20.0\" y=\"40.0\" font-size=\"16px\" dominant-baseline=\"middle\" text-anchor=\"start\" font-family=\"Arial\" font-weight=\"normal\" fill=\"#252b3a\" >\n",
       "q0:\n",
       " </text>\n",
       "<text x=\"20.0\" y=\"100.0\" font-size=\"16px\" dominant-baseline=\"middle\" text-anchor=\"start\" font-family=\"Arial\" font-weight=\"normal\" fill=\"#252b3a\" >\n",
       "q1:\n",
       " </text>\n",
       "<text x=\"20.0\" y=\"160.0\" font-size=\"16px\" dominant-baseline=\"middle\" text-anchor=\"start\" font-family=\"Arial\" font-weight=\"normal\" fill=\"#252b3a\" >\n",
       "q2:\n",
       " </text>\n",
       "<text x=\"20.0\" y=\"220.0\" font-size=\"16px\" dominant-baseline=\"middle\" text-anchor=\"start\" font-family=\"Arial\" font-weight=\"normal\" fill=\"#252b3a\" >\n",
       "q3:\n",
       " </text>\n",
       "<line x1=\"48.8\" x2=\"4180.8\" y1=\"40.0\" y2=\"40.0\" stroke=\"#adb0b8\" stroke-width=\"1\" />\n",
       "<line x1=\"48.8\" x2=\"4180.8\" y1=\"100.0\" y2=\"100.0\" stroke=\"#adb0b8\" stroke-width=\"1\" />\n",
       "<line x1=\"48.8\" x2=\"4180.8\" y1=\"160.0\" y2=\"160.0\" stroke=\"#adb0b8\" stroke-width=\"1\" />\n",
       "<line x1=\"48.8\" x2=\"4180.8\" y1=\"220.0\" y2=\"220.0\" stroke=\"#adb0b8\" stroke-width=\"1\" />\n",
       "\n",
       "<rect x=\"72.8\" y=\"20.0\" width=\"120.0\" height=\"40\" rx=\"4\" ry=\"4\" stroke=\"#ffffff\" stroke-width=\"0\" fill=\"#fac209\" fill-opacity=\"1\" />\n",
       "<text x=\"132.8\" y=\"36.0\" font-size=\"20px\" dominant-baseline=\"middle\" text-anchor=\"middle\" font-family=\"Arial\" font-weight=\"normal\" fill=\"#ffffff\" >\n",
       "RX\n",
       " </text>\n",
       "<text x=\"132.8\" y=\"52.0\" font-size=\"14.0px\" dominant-baseline=\"middle\" text-anchor=\"middle\" font-family=\"Arial\" font-weight=\"normal\" fill=\"#ffffff\" >\n",
       "cov_blo_0_0\n",
       " </text>\n",
       "\n",
       "\n",
       "<rect x=\"212.8\" y=\"20.0\" width=\"120.0\" height=\"40\" rx=\"4\" ry=\"4\" stroke=\"#ffffff\" stroke-width=\"0\" fill=\"#fac209\" fill-opacity=\"1\" />\n",
       "<text x=\"272.8\" y=\"36.0\" font-size=\"20px\" dominant-baseline=\"middle\" text-anchor=\"middle\" font-family=\"Arial\" font-weight=\"normal\" fill=\"#ffffff\" >\n",
       "RY\n",
       " </text>\n",
       "<text x=\"272.8\" y=\"52.0\" font-size=\"14.0px\" dominant-baseline=\"middle\" text-anchor=\"middle\" font-family=\"Arial\" font-weight=\"normal\" fill=\"#ffffff\" >\n",
       "cov_blo_0_1\n",
       " </text>\n",
       "\n",
       "\n",
       "<rect x=\"352.8\" y=\"20.0\" width=\"120.0\" height=\"40\" rx=\"4\" ry=\"4\" stroke=\"#ffffff\" stroke-width=\"0\" fill=\"#fac209\" fill-opacity=\"1\" />\n",
       "<text x=\"412.8\" y=\"36.0\" font-size=\"20px\" dominant-baseline=\"middle\" text-anchor=\"middle\" font-family=\"Arial\" font-weight=\"normal\" fill=\"#ffffff\" >\n",
       "RZ\n",
       " </text>\n",
       "<text x=\"412.8\" y=\"52.0\" font-size=\"14.0px\" dominant-baseline=\"middle\" text-anchor=\"middle\" font-family=\"Arial\" font-weight=\"normal\" fill=\"#ffffff\" >\n",
       "cov_blo_0_2\n",
       " </text>\n",
       "\n",
       "\n",
       "<rect x=\"72.8\" y=\"80.0\" width=\"120.0\" height=\"40\" rx=\"4\" ry=\"4\" stroke=\"#ffffff\" stroke-width=\"0\" fill=\"#fac209\" fill-opacity=\"1\" />\n",
       "<text x=\"132.8\" y=\"96.0\" font-size=\"20px\" dominant-baseline=\"middle\" text-anchor=\"middle\" font-family=\"Arial\" font-weight=\"normal\" fill=\"#ffffff\" >\n",
       "RX\n",
       " </text>\n",
       "<text x=\"132.8\" y=\"112.0\" font-size=\"14.0px\" dominant-baseline=\"middle\" text-anchor=\"middle\" font-family=\"Arial\" font-weight=\"normal\" fill=\"#ffffff\" >\n",
       "cov_blo_0_3\n",
       " </text>\n",
       "\n",
       "\n",
       "<rect x=\"212.8\" y=\"80.0\" width=\"120.0\" height=\"40\" rx=\"4\" ry=\"4\" stroke=\"#ffffff\" stroke-width=\"0\" fill=\"#fac209\" fill-opacity=\"1\" />\n",
       "<text x=\"272.8\" y=\"96.0\" font-size=\"20px\" dominant-baseline=\"middle\" text-anchor=\"middle\" font-family=\"Arial\" font-weight=\"normal\" fill=\"#ffffff\" >\n",
       "RY\n",
       " </text>\n",
       "<text x=\"272.8\" y=\"112.0\" font-size=\"14.0px\" dominant-baseline=\"middle\" text-anchor=\"middle\" font-family=\"Arial\" font-weight=\"normal\" fill=\"#ffffff\" >\n",
       "cov_blo_0_4\n",
       " </text>\n",
       "\n",
       "\n",
       "<rect x=\"352.8\" y=\"80.0\" width=\"120.0\" height=\"40\" rx=\"4\" ry=\"4\" stroke=\"#ffffff\" stroke-width=\"0\" fill=\"#fac209\" fill-opacity=\"1\" />\n",
       "<text x=\"412.8\" y=\"96.0\" font-size=\"20px\" dominant-baseline=\"middle\" text-anchor=\"middle\" font-family=\"Arial\" font-weight=\"normal\" fill=\"#ffffff\" >\n",
       "RZ\n",
       " </text>\n",
       "<text x=\"412.8\" y=\"112.0\" font-size=\"14.0px\" dominant-baseline=\"middle\" text-anchor=\"middle\" font-family=\"Arial\" font-weight=\"normal\" fill=\"#ffffff\" >\n",
       "cov_blo_0_5\n",
       " </text>\n",
       "\n",
       "\n",
       "<rect x=\"492.8\" y=\"20.0\" width=\"120.0\" height=\"100\" rx=\"4\" ry=\"4\" stroke=\"#ffffff\" stroke-width=\"0\" fill=\"#fac209\" fill-opacity=\"1\" />\n",
       "<text x=\"552.8\" y=\"66.0\" font-size=\"20px\" dominant-baseline=\"middle\" text-anchor=\"middle\" font-family=\"Arial\" font-weight=\"normal\" fill=\"#ffffff\" >\n",
       "XX\n",
       " </text>\n",
       "<text x=\"552.8\" y=\"82.0\" font-size=\"14.0px\" dominant-baseline=\"middle\" text-anchor=\"middle\" font-family=\"Arial\" font-weight=\"normal\" fill=\"#ffffff\" >\n",
       "cov_blo_0_6\n",
       " </text>\n",
       "\n",
       "\n",
       "<rect x=\"632.8\" y=\"20.0\" width=\"120.0\" height=\"100\" rx=\"4\" ry=\"4\" stroke=\"#ffffff\" stroke-width=\"0\" fill=\"#fac209\" fill-opacity=\"1\" />\n",
       "<text x=\"692.8\" y=\"66.0\" font-size=\"20px\" dominant-baseline=\"middle\" text-anchor=\"middle\" font-family=\"Arial\" font-weight=\"normal\" fill=\"#ffffff\" >\n",
       "YY\n",
       " </text>\n",
       "<text x=\"692.8\" y=\"82.0\" font-size=\"14.0px\" dominant-baseline=\"middle\" text-anchor=\"middle\" font-family=\"Arial\" font-weight=\"normal\" fill=\"#ffffff\" >\n",
       "cov_blo_0_7\n",
       " </text>\n",
       "\n",
       "\n",
       "<rect x=\"772.8\" y=\"20.0\" width=\"120.0\" height=\"100\" rx=\"4\" ry=\"4\" stroke=\"#ffffff\" stroke-width=\"0\" fill=\"#fac209\" fill-opacity=\"1\" />\n",
       "<text x=\"832.8\" y=\"66.0\" font-size=\"20px\" dominant-baseline=\"middle\" text-anchor=\"middle\" font-family=\"Arial\" font-weight=\"normal\" fill=\"#ffffff\" >\n",
       "ZZ\n",
       " </text>\n",
       "<text x=\"832.8\" y=\"82.0\" font-size=\"14.0px\" dominant-baseline=\"middle\" text-anchor=\"middle\" font-family=\"Arial\" font-weight=\"normal\" fill=\"#ffffff\" >\n",
       "cov_blo_0_8\n",
       " </text>\n",
       "\n",
       "\n",
       "<rect x=\"912.8\" y=\"20.0\" width=\"120.0\" height=\"40\" rx=\"4\" ry=\"4\" stroke=\"#ffffff\" stroke-width=\"0\" fill=\"#fac209\" fill-opacity=\"1\" />\n",
       "<text x=\"972.8\" y=\"36.0\" font-size=\"20px\" dominant-baseline=\"middle\" text-anchor=\"middle\" font-family=\"Arial\" font-weight=\"normal\" fill=\"#ffffff\" >\n",
       "RX\n",
       " </text>\n",
       "<text x=\"972.8\" y=\"52.0\" font-size=\"14.0px\" dominant-baseline=\"middle\" text-anchor=\"middle\" font-family=\"Arial\" font-weight=\"normal\" fill=\"#ffffff\" >\n",
       "cov_blo_0_9\n",
       " </text>\n",
       "\n",
       "\n",
       "<rect x=\"1052.8\" y=\"20.0\" width=\"120.0\" height=\"40\" rx=\"4\" ry=\"4\" stroke=\"#ffffff\" stroke-width=\"0\" fill=\"#fac209\" fill-opacity=\"1\" />\n",
       "<text x=\"1112.8\" y=\"36.0\" font-size=\"20px\" dominant-baseline=\"middle\" text-anchor=\"middle\" font-family=\"Arial\" font-weight=\"normal\" fill=\"#ffffff\" >\n",
       "RY\n",
       " </text>\n",
       "<text x=\"1112.8\" y=\"52.0\" font-size=\"14.0px\" dominant-baseline=\"middle\" text-anchor=\"middle\" font-family=\"Arial\" font-weight=\"normal\" fill=\"#ffffff\" >\n",
       "cov_blo_0_10\n",
       " </text>\n",
       "\n",
       "\n",
       "<rect x=\"1192.8\" y=\"20.0\" width=\"120.0\" height=\"40\" rx=\"4\" ry=\"4\" stroke=\"#ffffff\" stroke-width=\"0\" fill=\"#fac209\" fill-opacity=\"1\" />\n",
       "<text x=\"1252.8\" y=\"36.0\" font-size=\"20px\" dominant-baseline=\"middle\" text-anchor=\"middle\" font-family=\"Arial\" font-weight=\"normal\" fill=\"#ffffff\" >\n",
       "RZ\n",
       " </text>\n",
       "<text x=\"1252.8\" y=\"52.0\" font-size=\"14.0px\" dominant-baseline=\"middle\" text-anchor=\"middle\" font-family=\"Arial\" font-weight=\"normal\" fill=\"#ffffff\" >\n",
       "cov_blo_0_11\n",
       " </text>\n",
       "\n",
       "\n",
       "<rect x=\"912.8\" y=\"80.0\" width=\"120.0\" height=\"40\" rx=\"4\" ry=\"4\" stroke=\"#ffffff\" stroke-width=\"0\" fill=\"#fac209\" fill-opacity=\"1\" />\n",
       "<text x=\"972.8\" y=\"96.0\" font-size=\"20px\" dominant-baseline=\"middle\" text-anchor=\"middle\" font-family=\"Arial\" font-weight=\"normal\" fill=\"#ffffff\" >\n",
       "RX\n",
       " </text>\n",
       "<text x=\"972.8\" y=\"112.0\" font-size=\"14.0px\" dominant-baseline=\"middle\" text-anchor=\"middle\" font-family=\"Arial\" font-weight=\"normal\" fill=\"#ffffff\" >\n",
       "cov_blo_0_11\n",
       " </text>\n",
       "\n",
       "\n",
       "<rect x=\"1052.8\" y=\"80.0\" width=\"120.0\" height=\"40\" rx=\"4\" ry=\"4\" stroke=\"#ffffff\" stroke-width=\"0\" fill=\"#fac209\" fill-opacity=\"1\" />\n",
       "<text x=\"1112.8\" y=\"96.0\" font-size=\"20px\" dominant-baseline=\"middle\" text-anchor=\"middle\" font-family=\"Arial\" font-weight=\"normal\" fill=\"#ffffff\" >\n",
       "RY\n",
       " </text>\n",
       "<text x=\"1112.8\" y=\"112.0\" font-size=\"14.0px\" dominant-baseline=\"middle\" text-anchor=\"middle\" font-family=\"Arial\" font-weight=\"normal\" fill=\"#ffffff\" >\n",
       "cov_blo_0_12\n",
       " </text>\n",
       "\n",
       "\n",
       "<rect x=\"1192.8\" y=\"80.0\" width=\"120.0\" height=\"40\" rx=\"4\" ry=\"4\" stroke=\"#ffffff\" stroke-width=\"0\" fill=\"#fac209\" fill-opacity=\"1\" />\n",
       "<text x=\"1252.8\" y=\"96.0\" font-size=\"20px\" dominant-baseline=\"middle\" text-anchor=\"middle\" font-family=\"Arial\" font-weight=\"normal\" fill=\"#ffffff\" >\n",
       "RZ\n",
       " </text>\n",
       "<text x=\"1252.8\" y=\"112.0\" font-size=\"14.0px\" dominant-baseline=\"middle\" text-anchor=\"middle\" font-family=\"Arial\" font-weight=\"normal\" fill=\"#ffffff\" >\n",
       "cov_blo_0_13\n",
       " </text>\n",
       "\n",
       "\n",
       "<rect x=\"1332.8\" y=\"20.0\" width=\"80.0\" height=\"40\" rx=\"4\" ry=\"4\" stroke=\"#ffffff\" stroke-width=\"0\" fill=\"#fac209\" fill-opacity=\"1\" />\n",
       "<text x=\"1372.8\" y=\"36.0\" font-size=\"20px\" dominant-baseline=\"middle\" text-anchor=\"middle\" font-family=\"Arial\" font-weight=\"normal\" fill=\"#ffffff\" >\n",
       "RX\n",
       " </text>\n",
       "<text x=\"1372.8\" y=\"52.0\" font-size=\"14.0px\" dominant-baseline=\"middle\" text-anchor=\"middle\" font-family=\"Arial\" font-weight=\"normal\" fill=\"#ffffff\" >\n",
       "p_blo_1_0\n",
       " </text>\n",
       "\n",
       "\n",
       "<rect x=\"1432.8\" y=\"20.0\" width=\"80.0\" height=\"40\" rx=\"4\" ry=\"4\" stroke=\"#ffffff\" stroke-width=\"0\" fill=\"#fac209\" fill-opacity=\"1\" />\n",
       "<text x=\"1472.8\" y=\"36.0\" font-size=\"20px\" dominant-baseline=\"middle\" text-anchor=\"middle\" font-family=\"Arial\" font-weight=\"normal\" fill=\"#ffffff\" >\n",
       "RY\n",
       " </text>\n",
       "<text x=\"1472.8\" y=\"52.0\" font-size=\"14.0px\" dominant-baseline=\"middle\" text-anchor=\"middle\" font-family=\"Arial\" font-weight=\"normal\" fill=\"#ffffff\" >\n",
       "p_blo_1_1\n",
       " </text>\n",
       "\n",
       "\n",
       "<rect x=\"1532.8\" y=\"20.0\" width=\"80.0\" height=\"40\" rx=\"4\" ry=\"4\" stroke=\"#ffffff\" stroke-width=\"0\" fill=\"#fac209\" fill-opacity=\"1\" />\n",
       "<text x=\"1572.8\" y=\"36.0\" font-size=\"20px\" dominant-baseline=\"middle\" text-anchor=\"middle\" font-family=\"Arial\" font-weight=\"normal\" fill=\"#ffffff\" >\n",
       "RZ\n",
       " </text>\n",
       "<text x=\"1572.8\" y=\"52.0\" font-size=\"14.0px\" dominant-baseline=\"middle\" text-anchor=\"middle\" font-family=\"Arial\" font-weight=\"normal\" fill=\"#ffffff\" >\n",
       "p_blo_1_2\n",
       " </text>\n",
       "\n",
       "\n",
       "<rect x=\"1332.8\" y=\"80.0\" width=\"80.0\" height=\"40\" rx=\"4\" ry=\"4\" stroke=\"#ffffff\" stroke-width=\"0\" fill=\"#fac209\" fill-opacity=\"1\" />\n",
       "<text x=\"1372.8\" y=\"96.0\" font-size=\"20px\" dominant-baseline=\"middle\" text-anchor=\"middle\" font-family=\"Arial\" font-weight=\"normal\" fill=\"#ffffff\" >\n",
       "RX\n",
       " </text>\n",
       "<text x=\"1372.8\" y=\"112.0\" font-size=\"14.0px\" dominant-baseline=\"middle\" text-anchor=\"middle\" font-family=\"Arial\" font-weight=\"normal\" fill=\"#ffffff\" >\n",
       "p_blo_1_3\n",
       " </text>\n",
       "\n",
       "\n",
       "<rect x=\"1432.8\" y=\"80.0\" width=\"80.0\" height=\"40\" rx=\"4\" ry=\"4\" stroke=\"#ffffff\" stroke-width=\"0\" fill=\"#fac209\" fill-opacity=\"1\" />\n",
       "<text x=\"1472.8\" y=\"96.0\" font-size=\"20px\" dominant-baseline=\"middle\" text-anchor=\"middle\" font-family=\"Arial\" font-weight=\"normal\" fill=\"#ffffff\" >\n",
       "RY\n",
       " </text>\n",
       "<text x=\"1472.8\" y=\"112.0\" font-size=\"14.0px\" dominant-baseline=\"middle\" text-anchor=\"middle\" font-family=\"Arial\" font-weight=\"normal\" fill=\"#ffffff\" >\n",
       "p_blo_1_4\n",
       " </text>\n",
       "\n",
       "\n",
       "<rect x=\"1532.8\" y=\"80.0\" width=\"80.0\" height=\"40\" rx=\"4\" ry=\"4\" stroke=\"#ffffff\" stroke-width=\"0\" fill=\"#fac209\" fill-opacity=\"1\" />\n",
       "<text x=\"1572.8\" y=\"96.0\" font-size=\"20px\" dominant-baseline=\"middle\" text-anchor=\"middle\" font-family=\"Arial\" font-weight=\"normal\" fill=\"#ffffff\" >\n",
       "RZ\n",
       " </text>\n",
       "<text x=\"1572.8\" y=\"112.0\" font-size=\"14.0px\" dominant-baseline=\"middle\" text-anchor=\"middle\" font-family=\"Arial\" font-weight=\"normal\" fill=\"#ffffff\" >\n",
       "p_blo_1_5\n",
       " </text>\n",
       "\n",
       "<circle cx=\"1652.8\" cy=\"40.0\" r=\"4\" fill=\"#16acff\" />\n",
       "<line x1=\"1652.8\" x2=\"1652.8\" y1=\"40.0\" y2=\"100.0\" stroke=\"#16acff\" stroke-width=\"3\" />\n",
       "<rect x=\"1632.8\" y=\"80.0\" width=\"40\" height=\"40\" rx=\"4\" ry=\"4\" stroke=\"#ffffff\" stroke-width=\"0\" fill=\"#16acff\" fill-opacity=\"1\" />\n",
       "<line x1=\"1638.8\" x2=\"1666.8\" y1=\"100.0\" y2=\"100.0\" stroke=\"#ffffff\" stroke-width=\"4\" />\n",
       "<line x1=\"1652.8\" x2=\"1652.8\" y1=\"86.0\" y2=\"114.0\" stroke=\"#ffffff\" stroke-width=\"4\" />\n",
       "\n",
       "<rect x=\"1692.8\" y=\"80.0\" width=\"120.0\" height=\"40\" rx=\"4\" ry=\"4\" stroke=\"#ffffff\" stroke-width=\"0\" fill=\"#fac209\" fill-opacity=\"1\" />\n",
       "<text x=\"1752.8\" y=\"96.0\" font-size=\"20px\" dominant-baseline=\"middle\" text-anchor=\"middle\" font-family=\"Arial\" font-weight=\"normal\" fill=\"#ffffff\" >\n",
       "RZ\n",
       " </text>\n",
       "<text x=\"1752.8\" y=\"112.0\" font-size=\"14.0px\" dominant-baseline=\"middle\" text-anchor=\"middle\" font-family=\"Arial\" font-weight=\"normal\" fill=\"#ffffff\" >\n",
       "-p_blo_1_5\n",
       " </text>\n",
       "\n",
       "\n",
       "<rect x=\"1832.8\" y=\"80.0\" width=\"120.0\" height=\"40\" rx=\"4\" ry=\"4\" stroke=\"#ffffff\" stroke-width=\"0\" fill=\"#fac209\" fill-opacity=\"1\" />\n",
       "<text x=\"1892.8\" y=\"96.0\" font-size=\"20px\" dominant-baseline=\"middle\" text-anchor=\"middle\" font-family=\"Arial\" font-weight=\"normal\" fill=\"#ffffff\" >\n",
       "RY\n",
       " </text>\n",
       "<text x=\"1892.8\" y=\"112.0\" font-size=\"14.0px\" dominant-baseline=\"middle\" text-anchor=\"middle\" font-family=\"Arial\" font-weight=\"normal\" fill=\"#ffffff\" >\n",
       "-p_blo_1_4\n",
       " </text>\n",
       "\n",
       "\n",
       "<rect x=\"1972.8\" y=\"80.0\" width=\"120.0\" height=\"40\" rx=\"4\" ry=\"4\" stroke=\"#ffffff\" stroke-width=\"0\" fill=\"#fac209\" fill-opacity=\"1\" />\n",
       "<text x=\"2032.8\" y=\"96.0\" font-size=\"20px\" dominant-baseline=\"middle\" text-anchor=\"middle\" font-family=\"Arial\" font-weight=\"normal\" fill=\"#ffffff\" >\n",
       "RX\n",
       " </text>\n",
       "<text x=\"2032.8\" y=\"112.0\" font-size=\"14.0px\" dominant-baseline=\"middle\" text-anchor=\"middle\" font-family=\"Arial\" font-weight=\"normal\" fill=\"#ffffff\" >\n",
       "-p_blo_1_3\n",
       " </text>\n",
       "\n",
       "\n",
       "<rect x=\"72.8\" y=\"140.0\" width=\"120.0\" height=\"40\" rx=\"4\" ry=\"4\" stroke=\"#ffffff\" stroke-width=\"0\" fill=\"#fac209\" fill-opacity=\"1\" />\n",
       "<text x=\"132.8\" y=\"156.0\" font-size=\"20px\" dominant-baseline=\"middle\" text-anchor=\"middle\" font-family=\"Arial\" font-weight=\"normal\" fill=\"#ffffff\" >\n",
       "RX\n",
       " </text>\n",
       "<text x=\"132.8\" y=\"172.0\" font-size=\"14.0px\" dominant-baseline=\"middle\" text-anchor=\"middle\" font-family=\"Arial\" font-weight=\"normal\" fill=\"#ffffff\" >\n",
       "cov_blo_2_0\n",
       " </text>\n",
       "\n",
       "\n",
       "<rect x=\"212.8\" y=\"140.0\" width=\"120.0\" height=\"40\" rx=\"4\" ry=\"4\" stroke=\"#ffffff\" stroke-width=\"0\" fill=\"#fac209\" fill-opacity=\"1\" />\n",
       "<text x=\"272.8\" y=\"156.0\" font-size=\"20px\" dominant-baseline=\"middle\" text-anchor=\"middle\" font-family=\"Arial\" font-weight=\"normal\" fill=\"#ffffff\" >\n",
       "RY\n",
       " </text>\n",
       "<text x=\"272.8\" y=\"172.0\" font-size=\"14.0px\" dominant-baseline=\"middle\" text-anchor=\"middle\" font-family=\"Arial\" font-weight=\"normal\" fill=\"#ffffff\" >\n",
       "cov_blo_2_1\n",
       " </text>\n",
       "\n",
       "\n",
       "<rect x=\"352.8\" y=\"140.0\" width=\"120.0\" height=\"40\" rx=\"4\" ry=\"4\" stroke=\"#ffffff\" stroke-width=\"0\" fill=\"#fac209\" fill-opacity=\"1\" />\n",
       "<text x=\"412.8\" y=\"156.0\" font-size=\"20px\" dominant-baseline=\"middle\" text-anchor=\"middle\" font-family=\"Arial\" font-weight=\"normal\" fill=\"#ffffff\" >\n",
       "RZ\n",
       " </text>\n",
       "<text x=\"412.8\" y=\"172.0\" font-size=\"14.0px\" dominant-baseline=\"middle\" text-anchor=\"middle\" font-family=\"Arial\" font-weight=\"normal\" fill=\"#ffffff\" >\n",
       "cov_blo_2_2\n",
       " </text>\n",
       "\n",
       "\n",
       "<rect x=\"72.8\" y=\"200.0\" width=\"120.0\" height=\"40\" rx=\"4\" ry=\"4\" stroke=\"#ffffff\" stroke-width=\"0\" fill=\"#fac209\" fill-opacity=\"1\" />\n",
       "<text x=\"132.8\" y=\"216.0\" font-size=\"20px\" dominant-baseline=\"middle\" text-anchor=\"middle\" font-family=\"Arial\" font-weight=\"normal\" fill=\"#ffffff\" >\n",
       "RX\n",
       " </text>\n",
       "<text x=\"132.8\" y=\"232.0\" font-size=\"14.0px\" dominant-baseline=\"middle\" text-anchor=\"middle\" font-family=\"Arial\" font-weight=\"normal\" fill=\"#ffffff\" >\n",
       "cov_blo_2_3\n",
       " </text>\n",
       "\n",
       "\n",
       "<rect x=\"212.8\" y=\"200.0\" width=\"120.0\" height=\"40\" rx=\"4\" ry=\"4\" stroke=\"#ffffff\" stroke-width=\"0\" fill=\"#fac209\" fill-opacity=\"1\" />\n",
       "<text x=\"272.8\" y=\"216.0\" font-size=\"20px\" dominant-baseline=\"middle\" text-anchor=\"middle\" font-family=\"Arial\" font-weight=\"normal\" fill=\"#ffffff\" >\n",
       "RY\n",
       " </text>\n",
       "<text x=\"272.8\" y=\"232.0\" font-size=\"14.0px\" dominant-baseline=\"middle\" text-anchor=\"middle\" font-family=\"Arial\" font-weight=\"normal\" fill=\"#ffffff\" >\n",
       "cov_blo_2_4\n",
       " </text>\n",
       "\n",
       "\n",
       "<rect x=\"352.8\" y=\"200.0\" width=\"120.0\" height=\"40\" rx=\"4\" ry=\"4\" stroke=\"#ffffff\" stroke-width=\"0\" fill=\"#fac209\" fill-opacity=\"1\" />\n",
       "<text x=\"412.8\" y=\"216.0\" font-size=\"20px\" dominant-baseline=\"middle\" text-anchor=\"middle\" font-family=\"Arial\" font-weight=\"normal\" fill=\"#ffffff\" >\n",
       "RZ\n",
       " </text>\n",
       "<text x=\"412.8\" y=\"232.0\" font-size=\"14.0px\" dominant-baseline=\"middle\" text-anchor=\"middle\" font-family=\"Arial\" font-weight=\"normal\" fill=\"#ffffff\" >\n",
       "cov_blo_2_5\n",
       " </text>\n",
       "\n",
       "\n",
       "<rect x=\"492.8\" y=\"140.0\" width=\"120.0\" height=\"100\" rx=\"4\" ry=\"4\" stroke=\"#ffffff\" stroke-width=\"0\" fill=\"#fac209\" fill-opacity=\"1\" />\n",
       "<text x=\"552.8\" y=\"186.0\" font-size=\"20px\" dominant-baseline=\"middle\" text-anchor=\"middle\" font-family=\"Arial\" font-weight=\"normal\" fill=\"#ffffff\" >\n",
       "XX\n",
       " </text>\n",
       "<text x=\"552.8\" y=\"202.0\" font-size=\"14.0px\" dominant-baseline=\"middle\" text-anchor=\"middle\" font-family=\"Arial\" font-weight=\"normal\" fill=\"#ffffff\" >\n",
       "cov_blo_2_6\n",
       " </text>\n",
       "\n",
       "\n",
       "<rect x=\"632.8\" y=\"140.0\" width=\"120.0\" height=\"100\" rx=\"4\" ry=\"4\" stroke=\"#ffffff\" stroke-width=\"0\" fill=\"#fac209\" fill-opacity=\"1\" />\n",
       "<text x=\"692.8\" y=\"186.0\" font-size=\"20px\" dominant-baseline=\"middle\" text-anchor=\"middle\" font-family=\"Arial\" font-weight=\"normal\" fill=\"#ffffff\" >\n",
       "YY\n",
       " </text>\n",
       "<text x=\"692.8\" y=\"202.0\" font-size=\"14.0px\" dominant-baseline=\"middle\" text-anchor=\"middle\" font-family=\"Arial\" font-weight=\"normal\" fill=\"#ffffff\" >\n",
       "cov_blo_2_7\n",
       " </text>\n",
       "\n",
       "\n",
       "<rect x=\"772.8\" y=\"140.0\" width=\"120.0\" height=\"100\" rx=\"4\" ry=\"4\" stroke=\"#ffffff\" stroke-width=\"0\" fill=\"#fac209\" fill-opacity=\"1\" />\n",
       "<text x=\"832.8\" y=\"186.0\" font-size=\"20px\" dominant-baseline=\"middle\" text-anchor=\"middle\" font-family=\"Arial\" font-weight=\"normal\" fill=\"#ffffff\" >\n",
       "ZZ\n",
       " </text>\n",
       "<text x=\"832.8\" y=\"202.0\" font-size=\"14.0px\" dominant-baseline=\"middle\" text-anchor=\"middle\" font-family=\"Arial\" font-weight=\"normal\" fill=\"#ffffff\" >\n",
       "cov_blo_2_8\n",
       " </text>\n",
       "\n",
       "\n",
       "<rect x=\"912.8\" y=\"140.0\" width=\"120.0\" height=\"40\" rx=\"4\" ry=\"4\" stroke=\"#ffffff\" stroke-width=\"0\" fill=\"#fac209\" fill-opacity=\"1\" />\n",
       "<text x=\"972.8\" y=\"156.0\" font-size=\"20px\" dominant-baseline=\"middle\" text-anchor=\"middle\" font-family=\"Arial\" font-weight=\"normal\" fill=\"#ffffff\" >\n",
       "RX\n",
       " </text>\n",
       "<text x=\"972.8\" y=\"172.0\" font-size=\"14.0px\" dominant-baseline=\"middle\" text-anchor=\"middle\" font-family=\"Arial\" font-weight=\"normal\" fill=\"#ffffff\" >\n",
       "cov_blo_2_9\n",
       " </text>\n",
       "\n",
       "\n",
       "<rect x=\"1052.8\" y=\"140.0\" width=\"120.0\" height=\"40\" rx=\"4\" ry=\"4\" stroke=\"#ffffff\" stroke-width=\"0\" fill=\"#fac209\" fill-opacity=\"1\" />\n",
       "<text x=\"1112.8\" y=\"156.0\" font-size=\"20px\" dominant-baseline=\"middle\" text-anchor=\"middle\" font-family=\"Arial\" font-weight=\"normal\" fill=\"#ffffff\" >\n",
       "RY\n",
       " </text>\n",
       "<text x=\"1112.8\" y=\"172.0\" font-size=\"14.0px\" dominant-baseline=\"middle\" text-anchor=\"middle\" font-family=\"Arial\" font-weight=\"normal\" fill=\"#ffffff\" >\n",
       "cov_blo_2_10\n",
       " </text>\n",
       "\n",
       "\n",
       "<rect x=\"1192.8\" y=\"140.0\" width=\"120.0\" height=\"40\" rx=\"4\" ry=\"4\" stroke=\"#ffffff\" stroke-width=\"0\" fill=\"#fac209\" fill-opacity=\"1\" />\n",
       "<text x=\"1252.8\" y=\"156.0\" font-size=\"20px\" dominant-baseline=\"middle\" text-anchor=\"middle\" font-family=\"Arial\" font-weight=\"normal\" fill=\"#ffffff\" >\n",
       "RZ\n",
       " </text>\n",
       "<text x=\"1252.8\" y=\"172.0\" font-size=\"14.0px\" dominant-baseline=\"middle\" text-anchor=\"middle\" font-family=\"Arial\" font-weight=\"normal\" fill=\"#ffffff\" >\n",
       "cov_blo_2_11\n",
       " </text>\n",
       "\n",
       "\n",
       "<rect x=\"912.8\" y=\"200.0\" width=\"120.0\" height=\"40\" rx=\"4\" ry=\"4\" stroke=\"#ffffff\" stroke-width=\"0\" fill=\"#fac209\" fill-opacity=\"1\" />\n",
       "<text x=\"972.8\" y=\"216.0\" font-size=\"20px\" dominant-baseline=\"middle\" text-anchor=\"middle\" font-family=\"Arial\" font-weight=\"normal\" fill=\"#ffffff\" >\n",
       "RX\n",
       " </text>\n",
       "<text x=\"972.8\" y=\"232.0\" font-size=\"14.0px\" dominant-baseline=\"middle\" text-anchor=\"middle\" font-family=\"Arial\" font-weight=\"normal\" fill=\"#ffffff\" >\n",
       "cov_blo_2_11\n",
       " </text>\n",
       "\n",
       "\n",
       "<rect x=\"1052.8\" y=\"200.0\" width=\"120.0\" height=\"40\" rx=\"4\" ry=\"4\" stroke=\"#ffffff\" stroke-width=\"0\" fill=\"#fac209\" fill-opacity=\"1\" />\n",
       "<text x=\"1112.8\" y=\"216.0\" font-size=\"20px\" dominant-baseline=\"middle\" text-anchor=\"middle\" font-family=\"Arial\" font-weight=\"normal\" fill=\"#ffffff\" >\n",
       "RY\n",
       " </text>\n",
       "<text x=\"1112.8\" y=\"232.0\" font-size=\"14.0px\" dominant-baseline=\"middle\" text-anchor=\"middle\" font-family=\"Arial\" font-weight=\"normal\" fill=\"#ffffff\" >\n",
       "cov_blo_2_12\n",
       " </text>\n",
       "\n",
       "\n",
       "<rect x=\"1192.8\" y=\"200.0\" width=\"120.0\" height=\"40\" rx=\"4\" ry=\"4\" stroke=\"#ffffff\" stroke-width=\"0\" fill=\"#fac209\" fill-opacity=\"1\" />\n",
       "<text x=\"1252.8\" y=\"216.0\" font-size=\"20px\" dominant-baseline=\"middle\" text-anchor=\"middle\" font-family=\"Arial\" font-weight=\"normal\" fill=\"#ffffff\" >\n",
       "RZ\n",
       " </text>\n",
       "<text x=\"1252.8\" y=\"232.0\" font-size=\"14.0px\" dominant-baseline=\"middle\" text-anchor=\"middle\" font-family=\"Arial\" font-weight=\"normal\" fill=\"#ffffff\" >\n",
       "cov_blo_2_13\n",
       " </text>\n",
       "\n",
       "\n",
       "<rect x=\"1332.8\" y=\"140.0\" width=\"80.0\" height=\"40\" rx=\"4\" ry=\"4\" stroke=\"#ffffff\" stroke-width=\"0\" fill=\"#fac209\" fill-opacity=\"1\" />\n",
       "<text x=\"1372.8\" y=\"156.0\" font-size=\"20px\" dominant-baseline=\"middle\" text-anchor=\"middle\" font-family=\"Arial\" font-weight=\"normal\" fill=\"#ffffff\" >\n",
       "RX\n",
       " </text>\n",
       "<text x=\"1372.8\" y=\"172.0\" font-size=\"14.0px\" dominant-baseline=\"middle\" text-anchor=\"middle\" font-family=\"Arial\" font-weight=\"normal\" fill=\"#ffffff\" >\n",
       "p_blo_3_0\n",
       " </text>\n",
       "\n",
       "\n",
       "<rect x=\"1432.8\" y=\"140.0\" width=\"80.0\" height=\"40\" rx=\"4\" ry=\"4\" stroke=\"#ffffff\" stroke-width=\"0\" fill=\"#fac209\" fill-opacity=\"1\" />\n",
       "<text x=\"1472.8\" y=\"156.0\" font-size=\"20px\" dominant-baseline=\"middle\" text-anchor=\"middle\" font-family=\"Arial\" font-weight=\"normal\" fill=\"#ffffff\" >\n",
       "RY\n",
       " </text>\n",
       "<text x=\"1472.8\" y=\"172.0\" font-size=\"14.0px\" dominant-baseline=\"middle\" text-anchor=\"middle\" font-family=\"Arial\" font-weight=\"normal\" fill=\"#ffffff\" >\n",
       "p_blo_3_1\n",
       " </text>\n",
       "\n",
       "\n",
       "<rect x=\"1532.8\" y=\"140.0\" width=\"80.0\" height=\"40\" rx=\"4\" ry=\"4\" stroke=\"#ffffff\" stroke-width=\"0\" fill=\"#fac209\" fill-opacity=\"1\" />\n",
       "<text x=\"1572.8\" y=\"156.0\" font-size=\"20px\" dominant-baseline=\"middle\" text-anchor=\"middle\" font-family=\"Arial\" font-weight=\"normal\" fill=\"#ffffff\" >\n",
       "RZ\n",
       " </text>\n",
       "<text x=\"1572.8\" y=\"172.0\" font-size=\"14.0px\" dominant-baseline=\"middle\" text-anchor=\"middle\" font-family=\"Arial\" font-weight=\"normal\" fill=\"#ffffff\" >\n",
       "p_blo_3_2\n",
       " </text>\n",
       "\n",
       "\n",
       "<rect x=\"1332.8\" y=\"200.0\" width=\"80.0\" height=\"40\" rx=\"4\" ry=\"4\" stroke=\"#ffffff\" stroke-width=\"0\" fill=\"#fac209\" fill-opacity=\"1\" />\n",
       "<text x=\"1372.8\" y=\"216.0\" font-size=\"20px\" dominant-baseline=\"middle\" text-anchor=\"middle\" font-family=\"Arial\" font-weight=\"normal\" fill=\"#ffffff\" >\n",
       "RX\n",
       " </text>\n",
       "<text x=\"1372.8\" y=\"232.0\" font-size=\"14.0px\" dominant-baseline=\"middle\" text-anchor=\"middle\" font-family=\"Arial\" font-weight=\"normal\" fill=\"#ffffff\" >\n",
       "p_blo_3_3\n",
       " </text>\n",
       "\n",
       "\n",
       "<rect x=\"1432.8\" y=\"200.0\" width=\"80.0\" height=\"40\" rx=\"4\" ry=\"4\" stroke=\"#ffffff\" stroke-width=\"0\" fill=\"#fac209\" fill-opacity=\"1\" />\n",
       "<text x=\"1472.8\" y=\"216.0\" font-size=\"20px\" dominant-baseline=\"middle\" text-anchor=\"middle\" font-family=\"Arial\" font-weight=\"normal\" fill=\"#ffffff\" >\n",
       "RY\n",
       " </text>\n",
       "<text x=\"1472.8\" y=\"232.0\" font-size=\"14.0px\" dominant-baseline=\"middle\" text-anchor=\"middle\" font-family=\"Arial\" font-weight=\"normal\" fill=\"#ffffff\" >\n",
       "p_blo_3_4\n",
       " </text>\n",
       "\n",
       "\n",
       "<rect x=\"1532.8\" y=\"200.0\" width=\"80.0\" height=\"40\" rx=\"4\" ry=\"4\" stroke=\"#ffffff\" stroke-width=\"0\" fill=\"#fac209\" fill-opacity=\"1\" />\n",
       "<text x=\"1572.8\" y=\"216.0\" font-size=\"20px\" dominant-baseline=\"middle\" text-anchor=\"middle\" font-family=\"Arial\" font-weight=\"normal\" fill=\"#ffffff\" >\n",
       "RZ\n",
       " </text>\n",
       "<text x=\"1572.8\" y=\"232.0\" font-size=\"14.0px\" dominant-baseline=\"middle\" text-anchor=\"middle\" font-family=\"Arial\" font-weight=\"normal\" fill=\"#ffffff\" >\n",
       "p_blo_3_5\n",
       " </text>\n",
       "\n",
       "<circle cx=\"1652.8\" cy=\"160.0\" r=\"4\" fill=\"#16acff\" />\n",
       "<line x1=\"1652.8\" x2=\"1652.8\" y1=\"160.0\" y2=\"220.0\" stroke=\"#16acff\" stroke-width=\"3\" />\n",
       "<rect x=\"1632.8\" y=\"200.0\" width=\"40\" height=\"40\" rx=\"4\" ry=\"4\" stroke=\"#ffffff\" stroke-width=\"0\" fill=\"#16acff\" fill-opacity=\"1\" />\n",
       "<line x1=\"1638.8\" x2=\"1666.8\" y1=\"220.0\" y2=\"220.0\" stroke=\"#ffffff\" stroke-width=\"4\" />\n",
       "<line x1=\"1652.8\" x2=\"1652.8\" y1=\"206.0\" y2=\"234.0\" stroke=\"#ffffff\" stroke-width=\"4\" />\n",
       "\n",
       "<rect x=\"1692.8\" y=\"200.0\" width=\"120.0\" height=\"40\" rx=\"4\" ry=\"4\" stroke=\"#ffffff\" stroke-width=\"0\" fill=\"#fac209\" fill-opacity=\"1\" />\n",
       "<text x=\"1752.8\" y=\"216.0\" font-size=\"20px\" dominant-baseline=\"middle\" text-anchor=\"middle\" font-family=\"Arial\" font-weight=\"normal\" fill=\"#ffffff\" >\n",
       "RZ\n",
       " </text>\n",
       "<text x=\"1752.8\" y=\"232.0\" font-size=\"14.0px\" dominant-baseline=\"middle\" text-anchor=\"middle\" font-family=\"Arial\" font-weight=\"normal\" fill=\"#ffffff\" >\n",
       "-p_blo_3_5\n",
       " </text>\n",
       "\n",
       "\n",
       "<rect x=\"1832.8\" y=\"200.0\" width=\"120.0\" height=\"40\" rx=\"4\" ry=\"4\" stroke=\"#ffffff\" stroke-width=\"0\" fill=\"#fac209\" fill-opacity=\"1\" />\n",
       "<text x=\"1892.8\" y=\"216.0\" font-size=\"20px\" dominant-baseline=\"middle\" text-anchor=\"middle\" font-family=\"Arial\" font-weight=\"normal\" fill=\"#ffffff\" >\n",
       "RY\n",
       " </text>\n",
       "<text x=\"1892.8\" y=\"232.0\" font-size=\"14.0px\" dominant-baseline=\"middle\" text-anchor=\"middle\" font-family=\"Arial\" font-weight=\"normal\" fill=\"#ffffff\" >\n",
       "-p_blo_3_4\n",
       " </text>\n",
       "\n",
       "\n",
       "<rect x=\"1972.8\" y=\"200.0\" width=\"120.0\" height=\"40\" rx=\"4\" ry=\"4\" stroke=\"#ffffff\" stroke-width=\"0\" fill=\"#fac209\" fill-opacity=\"1\" />\n",
       "<text x=\"2032.8\" y=\"216.0\" font-size=\"20px\" dominant-baseline=\"middle\" text-anchor=\"middle\" font-family=\"Arial\" font-weight=\"normal\" fill=\"#ffffff\" >\n",
       "RX\n",
       " </text>\n",
       "<text x=\"2032.8\" y=\"232.0\" font-size=\"14.0px\" dominant-baseline=\"middle\" text-anchor=\"middle\" font-family=\"Arial\" font-weight=\"normal\" fill=\"#ffffff\" >\n",
       "-p_blo_3_3\n",
       " </text>\n",
       "\n",
       "\n",
       "<rect x=\"2112.8\" y=\"80.0\" width=\"120.0\" height=\"40\" rx=\"4\" ry=\"4\" stroke=\"#ffffff\" stroke-width=\"0\" fill=\"#fac209\" fill-opacity=\"1\" />\n",
       "<text x=\"2172.8\" y=\"96.0\" font-size=\"20px\" dominant-baseline=\"middle\" text-anchor=\"middle\" font-family=\"Arial\" font-weight=\"normal\" fill=\"#ffffff\" >\n",
       "RX\n",
       " </text>\n",
       "<text x=\"2172.8\" y=\"112.0\" font-size=\"14.0px\" dominant-baseline=\"middle\" text-anchor=\"middle\" font-family=\"Arial\" font-weight=\"normal\" fill=\"#ffffff\" >\n",
       "cov_blo_4_0\n",
       " </text>\n",
       "\n",
       "\n",
       "<rect x=\"2252.8\" y=\"80.0\" width=\"120.0\" height=\"40\" rx=\"4\" ry=\"4\" stroke=\"#ffffff\" stroke-width=\"0\" fill=\"#fac209\" fill-opacity=\"1\" />\n",
       "<text x=\"2312.8\" y=\"96.0\" font-size=\"20px\" dominant-baseline=\"middle\" text-anchor=\"middle\" font-family=\"Arial\" font-weight=\"normal\" fill=\"#ffffff\" >\n",
       "RY\n",
       " </text>\n",
       "<text x=\"2312.8\" y=\"112.0\" font-size=\"14.0px\" dominant-baseline=\"middle\" text-anchor=\"middle\" font-family=\"Arial\" font-weight=\"normal\" fill=\"#ffffff\" >\n",
       "cov_blo_4_1\n",
       " </text>\n",
       "\n",
       "\n",
       "<rect x=\"2392.8\" y=\"80.0\" width=\"120.0\" height=\"40\" rx=\"4\" ry=\"4\" stroke=\"#ffffff\" stroke-width=\"0\" fill=\"#fac209\" fill-opacity=\"1\" />\n",
       "<text x=\"2452.8\" y=\"96.0\" font-size=\"20px\" dominant-baseline=\"middle\" text-anchor=\"middle\" font-family=\"Arial\" font-weight=\"normal\" fill=\"#ffffff\" >\n",
       "RZ\n",
       " </text>\n",
       "<text x=\"2452.8\" y=\"112.0\" font-size=\"14.0px\" dominant-baseline=\"middle\" text-anchor=\"middle\" font-family=\"Arial\" font-weight=\"normal\" fill=\"#ffffff\" >\n",
       "cov_blo_4_2\n",
       " </text>\n",
       "\n",
       "\n",
       "<rect x=\"2112.8\" y=\"200.0\" width=\"120.0\" height=\"40\" rx=\"4\" ry=\"4\" stroke=\"#ffffff\" stroke-width=\"0\" fill=\"#fac209\" fill-opacity=\"1\" />\n",
       "<text x=\"2172.8\" y=\"216.0\" font-size=\"20px\" dominant-baseline=\"middle\" text-anchor=\"middle\" font-family=\"Arial\" font-weight=\"normal\" fill=\"#ffffff\" >\n",
       "RX\n",
       " </text>\n",
       "<text x=\"2172.8\" y=\"232.0\" font-size=\"14.0px\" dominant-baseline=\"middle\" text-anchor=\"middle\" font-family=\"Arial\" font-weight=\"normal\" fill=\"#ffffff\" >\n",
       "cov_blo_4_3\n",
       " </text>\n",
       "\n",
       "\n",
       "<rect x=\"2252.8\" y=\"200.0\" width=\"120.0\" height=\"40\" rx=\"4\" ry=\"4\" stroke=\"#ffffff\" stroke-width=\"0\" fill=\"#fac209\" fill-opacity=\"1\" />\n",
       "<text x=\"2312.8\" y=\"216.0\" font-size=\"20px\" dominant-baseline=\"middle\" text-anchor=\"middle\" font-family=\"Arial\" font-weight=\"normal\" fill=\"#ffffff\" >\n",
       "RY\n",
       " </text>\n",
       "<text x=\"2312.8\" y=\"232.0\" font-size=\"14.0px\" dominant-baseline=\"middle\" text-anchor=\"middle\" font-family=\"Arial\" font-weight=\"normal\" fill=\"#ffffff\" >\n",
       "cov_blo_4_4\n",
       " </text>\n",
       "\n",
       "\n",
       "<rect x=\"2392.8\" y=\"200.0\" width=\"120.0\" height=\"40\" rx=\"4\" ry=\"4\" stroke=\"#ffffff\" stroke-width=\"0\" fill=\"#fac209\" fill-opacity=\"1\" />\n",
       "<text x=\"2452.8\" y=\"216.0\" font-size=\"20px\" dominant-baseline=\"middle\" text-anchor=\"middle\" font-family=\"Arial\" font-weight=\"normal\" fill=\"#ffffff\" >\n",
       "RZ\n",
       " </text>\n",
       "<text x=\"2452.8\" y=\"232.0\" font-size=\"14.0px\" dominant-baseline=\"middle\" text-anchor=\"middle\" font-family=\"Arial\" font-weight=\"normal\" fill=\"#ffffff\" >\n",
       "cov_blo_4_5\n",
       " </text>\n",
       "\n",
       "\n",
       "<rect x=\"2532.8\" y=\"80.0\" width=\"120.0\" height=\"160\" rx=\"4\" ry=\"4\" stroke=\"#ffffff\" stroke-width=\"0\" fill=\"#fac209\" fill-opacity=\"1\" />\n",
       "<text x=\"2592.8\" y=\"156.0\" font-size=\"20px\" dominant-baseline=\"middle\" text-anchor=\"middle\" font-family=\"Arial\" font-weight=\"normal\" fill=\"#ffffff\" >\n",
       "XX\n",
       " </text>\n",
       "<text x=\"2592.8\" y=\"172.0\" font-size=\"14.0px\" dominant-baseline=\"middle\" text-anchor=\"middle\" font-family=\"Arial\" font-weight=\"normal\" fill=\"#ffffff\" >\n",
       "cov_blo_4_6\n",
       " </text>\n",
       "<circle cx=\"2532.8\" cy=\"100.0\" r=\"4\" fill=\"#fac209\" />\n",
       "<circle cx=\"2652.8\" cy=\"100.0\" r=\"4\" fill=\"#fac209\" />\n",
       "<circle cx=\"2532.8\" cy=\"220.0\" r=\"4\" fill=\"#fac209\" />\n",
       "<circle cx=\"2652.8\" cy=\"220.0\" r=\"4\" fill=\"#fac209\" />\n",
       "\n",
       "<rect x=\"2680.8\" y=\"80.0\" width=\"120.0\" height=\"160\" rx=\"4\" ry=\"4\" stroke=\"#ffffff\" stroke-width=\"0\" fill=\"#fac209\" fill-opacity=\"1\" />\n",
       "<text x=\"2740.8\" y=\"156.0\" font-size=\"20px\" dominant-baseline=\"middle\" text-anchor=\"middle\" font-family=\"Arial\" font-weight=\"normal\" fill=\"#ffffff\" >\n",
       "YY\n",
       " </text>\n",
       "<text x=\"2740.8\" y=\"172.0\" font-size=\"14.0px\" dominant-baseline=\"middle\" text-anchor=\"middle\" font-family=\"Arial\" font-weight=\"normal\" fill=\"#ffffff\" >\n",
       "cov_blo_4_7\n",
       " </text>\n",
       "<circle cx=\"2680.8\" cy=\"100.0\" r=\"4\" fill=\"#fac209\" />\n",
       "<circle cx=\"2800.8\" cy=\"100.0\" r=\"4\" fill=\"#fac209\" />\n",
       "<circle cx=\"2680.8\" cy=\"220.0\" r=\"4\" fill=\"#fac209\" />\n",
       "<circle cx=\"2800.8\" cy=\"220.0\" r=\"4\" fill=\"#fac209\" />\n",
       "\n",
       "<rect x=\"2828.8\" y=\"80.0\" width=\"120.0\" height=\"160\" rx=\"4\" ry=\"4\" stroke=\"#ffffff\" stroke-width=\"0\" fill=\"#fac209\" fill-opacity=\"1\" />\n",
       "<text x=\"2888.8\" y=\"156.0\" font-size=\"20px\" dominant-baseline=\"middle\" text-anchor=\"middle\" font-family=\"Arial\" font-weight=\"normal\" fill=\"#ffffff\" >\n",
       "ZZ\n",
       " </text>\n",
       "<text x=\"2888.8\" y=\"172.0\" font-size=\"14.0px\" dominant-baseline=\"middle\" text-anchor=\"middle\" font-family=\"Arial\" font-weight=\"normal\" fill=\"#ffffff\" >\n",
       "cov_blo_4_8\n",
       " </text>\n",
       "<circle cx=\"2828.8\" cy=\"100.0\" r=\"4\" fill=\"#fac209\" />\n",
       "<circle cx=\"2948.8\" cy=\"100.0\" r=\"4\" fill=\"#fac209\" />\n",
       "<circle cx=\"2828.8\" cy=\"220.0\" r=\"4\" fill=\"#fac209\" />\n",
       "<circle cx=\"2948.8\" cy=\"220.0\" r=\"4\" fill=\"#fac209\" />\n",
       "\n",
       "<rect x=\"2976.8\" y=\"80.0\" width=\"120.0\" height=\"40\" rx=\"4\" ry=\"4\" stroke=\"#ffffff\" stroke-width=\"0\" fill=\"#fac209\" fill-opacity=\"1\" />\n",
       "<text x=\"3036.8\" y=\"96.0\" font-size=\"20px\" dominant-baseline=\"middle\" text-anchor=\"middle\" font-family=\"Arial\" font-weight=\"normal\" fill=\"#ffffff\" >\n",
       "RX\n",
       " </text>\n",
       "<text x=\"3036.8\" y=\"112.0\" font-size=\"14.0px\" dominant-baseline=\"middle\" text-anchor=\"middle\" font-family=\"Arial\" font-weight=\"normal\" fill=\"#ffffff\" >\n",
       "cov_blo_4_9\n",
       " </text>\n",
       "\n",
       "\n",
       "<rect x=\"3116.8\" y=\"80.0\" width=\"120.0\" height=\"40\" rx=\"4\" ry=\"4\" stroke=\"#ffffff\" stroke-width=\"0\" fill=\"#fac209\" fill-opacity=\"1\" />\n",
       "<text x=\"3176.8\" y=\"96.0\" font-size=\"20px\" dominant-baseline=\"middle\" text-anchor=\"middle\" font-family=\"Arial\" font-weight=\"normal\" fill=\"#ffffff\" >\n",
       "RY\n",
       " </text>\n",
       "<text x=\"3176.8\" y=\"112.0\" font-size=\"14.0px\" dominant-baseline=\"middle\" text-anchor=\"middle\" font-family=\"Arial\" font-weight=\"normal\" fill=\"#ffffff\" >\n",
       "cov_blo_4_10\n",
       " </text>\n",
       "\n",
       "\n",
       "<rect x=\"3256.8\" y=\"80.0\" width=\"120.0\" height=\"40\" rx=\"4\" ry=\"4\" stroke=\"#ffffff\" stroke-width=\"0\" fill=\"#fac209\" fill-opacity=\"1\" />\n",
       "<text x=\"3316.8\" y=\"96.0\" font-size=\"20px\" dominant-baseline=\"middle\" text-anchor=\"middle\" font-family=\"Arial\" font-weight=\"normal\" fill=\"#ffffff\" >\n",
       "RZ\n",
       " </text>\n",
       "<text x=\"3316.8\" y=\"112.0\" font-size=\"14.0px\" dominant-baseline=\"middle\" text-anchor=\"middle\" font-family=\"Arial\" font-weight=\"normal\" fill=\"#ffffff\" >\n",
       "cov_blo_4_11\n",
       " </text>\n",
       "\n",
       "\n",
       "<rect x=\"2976.8\" y=\"200.0\" width=\"120.0\" height=\"40\" rx=\"4\" ry=\"4\" stroke=\"#ffffff\" stroke-width=\"0\" fill=\"#fac209\" fill-opacity=\"1\" />\n",
       "<text x=\"3036.8\" y=\"216.0\" font-size=\"20px\" dominant-baseline=\"middle\" text-anchor=\"middle\" font-family=\"Arial\" font-weight=\"normal\" fill=\"#ffffff\" >\n",
       "RX\n",
       " </text>\n",
       "<text x=\"3036.8\" y=\"232.0\" font-size=\"14.0px\" dominant-baseline=\"middle\" text-anchor=\"middle\" font-family=\"Arial\" font-weight=\"normal\" fill=\"#ffffff\" >\n",
       "cov_blo_4_11\n",
       " </text>\n",
       "\n",
       "\n",
       "<rect x=\"3116.8\" y=\"200.0\" width=\"120.0\" height=\"40\" rx=\"4\" ry=\"4\" stroke=\"#ffffff\" stroke-width=\"0\" fill=\"#fac209\" fill-opacity=\"1\" />\n",
       "<text x=\"3176.8\" y=\"216.0\" font-size=\"20px\" dominant-baseline=\"middle\" text-anchor=\"middle\" font-family=\"Arial\" font-weight=\"normal\" fill=\"#ffffff\" >\n",
       "RY\n",
       " </text>\n",
       "<text x=\"3176.8\" y=\"232.0\" font-size=\"14.0px\" dominant-baseline=\"middle\" text-anchor=\"middle\" font-family=\"Arial\" font-weight=\"normal\" fill=\"#ffffff\" >\n",
       "cov_blo_4_12\n",
       " </text>\n",
       "\n",
       "\n",
       "<rect x=\"3256.8\" y=\"200.0\" width=\"120.0\" height=\"40\" rx=\"4\" ry=\"4\" stroke=\"#ffffff\" stroke-width=\"0\" fill=\"#fac209\" fill-opacity=\"1\" />\n",
       "<text x=\"3316.8\" y=\"216.0\" font-size=\"20px\" dominant-baseline=\"middle\" text-anchor=\"middle\" font-family=\"Arial\" font-weight=\"normal\" fill=\"#ffffff\" >\n",
       "RZ\n",
       " </text>\n",
       "<text x=\"3316.8\" y=\"232.0\" font-size=\"14.0px\" dominant-baseline=\"middle\" text-anchor=\"middle\" font-family=\"Arial\" font-weight=\"normal\" fill=\"#ffffff\" >\n",
       "cov_blo_4_13\n",
       " </text>\n",
       "\n",
       "\n",
       "<rect x=\"3396.8\" y=\"80.0\" width=\"80.0\" height=\"40\" rx=\"4\" ry=\"4\" stroke=\"#ffffff\" stroke-width=\"0\" fill=\"#fac209\" fill-opacity=\"1\" />\n",
       "<text x=\"3436.8\" y=\"96.0\" font-size=\"20px\" dominant-baseline=\"middle\" text-anchor=\"middle\" font-family=\"Arial\" font-weight=\"normal\" fill=\"#ffffff\" >\n",
       "RX\n",
       " </text>\n",
       "<text x=\"3436.8\" y=\"112.0\" font-size=\"14.0px\" dominant-baseline=\"middle\" text-anchor=\"middle\" font-family=\"Arial\" font-weight=\"normal\" fill=\"#ffffff\" >\n",
       "p_blo_5_0\n",
       " </text>\n",
       "\n",
       "\n",
       "<rect x=\"3496.8\" y=\"80.0\" width=\"80.0\" height=\"40\" rx=\"4\" ry=\"4\" stroke=\"#ffffff\" stroke-width=\"0\" fill=\"#fac209\" fill-opacity=\"1\" />\n",
       "<text x=\"3536.8\" y=\"96.0\" font-size=\"20px\" dominant-baseline=\"middle\" text-anchor=\"middle\" font-family=\"Arial\" font-weight=\"normal\" fill=\"#ffffff\" >\n",
       "RY\n",
       " </text>\n",
       "<text x=\"3536.8\" y=\"112.0\" font-size=\"14.0px\" dominant-baseline=\"middle\" text-anchor=\"middle\" font-family=\"Arial\" font-weight=\"normal\" fill=\"#ffffff\" >\n",
       "p_blo_5_1\n",
       " </text>\n",
       "\n",
       "\n",
       "<rect x=\"3596.8\" y=\"80.0\" width=\"80.0\" height=\"40\" rx=\"4\" ry=\"4\" stroke=\"#ffffff\" stroke-width=\"0\" fill=\"#fac209\" fill-opacity=\"1\" />\n",
       "<text x=\"3636.8\" y=\"96.0\" font-size=\"20px\" dominant-baseline=\"middle\" text-anchor=\"middle\" font-family=\"Arial\" font-weight=\"normal\" fill=\"#ffffff\" >\n",
       "RZ\n",
       " </text>\n",
       "<text x=\"3636.8\" y=\"112.0\" font-size=\"14.0px\" dominant-baseline=\"middle\" text-anchor=\"middle\" font-family=\"Arial\" font-weight=\"normal\" fill=\"#ffffff\" >\n",
       "p_blo_5_2\n",
       " </text>\n",
       "\n",
       "\n",
       "<rect x=\"3396.8\" y=\"200.0\" width=\"80.0\" height=\"40\" rx=\"4\" ry=\"4\" stroke=\"#ffffff\" stroke-width=\"0\" fill=\"#fac209\" fill-opacity=\"1\" />\n",
       "<text x=\"3436.8\" y=\"216.0\" font-size=\"20px\" dominant-baseline=\"middle\" text-anchor=\"middle\" font-family=\"Arial\" font-weight=\"normal\" fill=\"#ffffff\" >\n",
       "RX\n",
       " </text>\n",
       "<text x=\"3436.8\" y=\"232.0\" font-size=\"14.0px\" dominant-baseline=\"middle\" text-anchor=\"middle\" font-family=\"Arial\" font-weight=\"normal\" fill=\"#ffffff\" >\n",
       "p_blo_5_3\n",
       " </text>\n",
       "\n",
       "\n",
       "<rect x=\"3496.8\" y=\"200.0\" width=\"80.0\" height=\"40\" rx=\"4\" ry=\"4\" stroke=\"#ffffff\" stroke-width=\"0\" fill=\"#fac209\" fill-opacity=\"1\" />\n",
       "<text x=\"3536.8\" y=\"216.0\" font-size=\"20px\" dominant-baseline=\"middle\" text-anchor=\"middle\" font-family=\"Arial\" font-weight=\"normal\" fill=\"#ffffff\" >\n",
       "RY\n",
       " </text>\n",
       "<text x=\"3536.8\" y=\"232.0\" font-size=\"14.0px\" dominant-baseline=\"middle\" text-anchor=\"middle\" font-family=\"Arial\" font-weight=\"normal\" fill=\"#ffffff\" >\n",
       "p_blo_5_4\n",
       " </text>\n",
       "\n",
       "\n",
       "<rect x=\"3596.8\" y=\"200.0\" width=\"80.0\" height=\"40\" rx=\"4\" ry=\"4\" stroke=\"#ffffff\" stroke-width=\"0\" fill=\"#fac209\" fill-opacity=\"1\" />\n",
       "<text x=\"3636.8\" y=\"216.0\" font-size=\"20px\" dominant-baseline=\"middle\" text-anchor=\"middle\" font-family=\"Arial\" font-weight=\"normal\" fill=\"#ffffff\" >\n",
       "RZ\n",
       " </text>\n",
       "<text x=\"3636.8\" y=\"232.0\" font-size=\"14.0px\" dominant-baseline=\"middle\" text-anchor=\"middle\" font-family=\"Arial\" font-weight=\"normal\" fill=\"#ffffff\" >\n",
       "p_blo_5_5\n",
       " </text>\n",
       "\n",
       "<circle cx=\"3716.8\" cy=\"100.0\" r=\"4\" fill=\"#16acff\" />\n",
       "<line x1=\"3716.8\" x2=\"3716.8\" y1=\"100.0\" y2=\"220.0\" stroke=\"#16acff\" stroke-width=\"3\" />\n",
       "<rect x=\"3696.8\" y=\"200.0\" width=\"40\" height=\"40\" rx=\"4\" ry=\"4\" stroke=\"#ffffff\" stroke-width=\"0\" fill=\"#16acff\" fill-opacity=\"1\" />\n",
       "<line x1=\"3702.8\" x2=\"3730.8\" y1=\"220.0\" y2=\"220.0\" stroke=\"#ffffff\" stroke-width=\"4\" />\n",
       "<line x1=\"3716.8\" x2=\"3716.8\" y1=\"206.0\" y2=\"234.0\" stroke=\"#ffffff\" stroke-width=\"4\" />\n",
       "\n",
       "<rect x=\"3756.8\" y=\"200.0\" width=\"120.0\" height=\"40\" rx=\"4\" ry=\"4\" stroke=\"#ffffff\" stroke-width=\"0\" fill=\"#fac209\" fill-opacity=\"1\" />\n",
       "<text x=\"3816.8\" y=\"216.0\" font-size=\"20px\" dominant-baseline=\"middle\" text-anchor=\"middle\" font-family=\"Arial\" font-weight=\"normal\" fill=\"#ffffff\" >\n",
       "RZ\n",
       " </text>\n",
       "<text x=\"3816.8\" y=\"232.0\" font-size=\"14.0px\" dominant-baseline=\"middle\" text-anchor=\"middle\" font-family=\"Arial\" font-weight=\"normal\" fill=\"#ffffff\" >\n",
       "-p_blo_5_5\n",
       " </text>\n",
       "\n",
       "\n",
       "<rect x=\"3896.8\" y=\"200.0\" width=\"120.0\" height=\"40\" rx=\"4\" ry=\"4\" stroke=\"#ffffff\" stroke-width=\"0\" fill=\"#fac209\" fill-opacity=\"1\" />\n",
       "<text x=\"3956.8\" y=\"216.0\" font-size=\"20px\" dominant-baseline=\"middle\" text-anchor=\"middle\" font-family=\"Arial\" font-weight=\"normal\" fill=\"#ffffff\" >\n",
       "RY\n",
       " </text>\n",
       "<text x=\"3956.8\" y=\"232.0\" font-size=\"14.0px\" dominant-baseline=\"middle\" text-anchor=\"middle\" font-family=\"Arial\" font-weight=\"normal\" fill=\"#ffffff\" >\n",
       "-p_blo_5_4\n",
       " </text>\n",
       "\n",
       "\n",
       "<rect x=\"4036.8\" y=\"200.0\" width=\"120.0\" height=\"40\" rx=\"4\" ry=\"4\" stroke=\"#ffffff\" stroke-width=\"0\" fill=\"#fac209\" fill-opacity=\"1\" />\n",
       "<text x=\"4096.8\" y=\"216.0\" font-size=\"20px\" dominant-baseline=\"middle\" text-anchor=\"middle\" font-family=\"Arial\" font-weight=\"normal\" fill=\"#ffffff\" >\n",
       "RX\n",
       " </text>\n",
       "<text x=\"4096.8\" y=\"232.0\" font-size=\"14.0px\" dominant-baseline=\"middle\" text-anchor=\"middle\" font-family=\"Arial\" font-weight=\"normal\" fill=\"#ffffff\" >\n",
       "-p_blo_5_3\n",
       " </text>\n",
       "\n",
       "</svg></div>"
      ],
      "text/plain": [
       "<mindquantum.io.display.circuit_svg_drawer.SVGCircuit at 0x7f712d87e6d0>"
      ]
     },
     "execution_count": 18,
     "metadata": {},
     "output_type": "execute_result"
    }
   ],
   "source": [
    "ansatz_4 = qcnn.gen_qcnn_ansatz()\n",
    "print(ansatz_4.summary())\n",
    "ansatz_4.svg()"
   ]
  },
  {
   "cell_type": "markdown",
   "id": "e28bba8b",
   "metadata": {},
   "source": [
    "### 电路优化\n",
    "\n",
    "考虑到卷积电路和池化电路相连的时候，有大量的RX，RY，RZ门会重复，因此针对池化电路可以将RX，RY，RZ门去掉（最后一个池化电路输出除外）。\n",
    "\n",
    "优化后ansatz电路参数对比如下：\n",
    "\n",
    "\n",
    "| Qubits     | Total number of gates | Total number of gates (optimized)  | Parameter gates  | Parameter gates  (optimized) |\n",
    "| :---:       |    :----:   |          :---: |  :---: |                :---: | \n",
    "| 4      | 75      | 51   | 72 | 48|\n",
    "| 8   | 175     | 115   | 168 | 108|\n",
    "| 12   | 275     | 179   | 264 | 168|\n",
    "\n",
    "优化后的参数门减少了33%~36%。\n",
    "\n",
    "QCNN只需在初始化时将opt参数设置为True，即可产生优化后的电路，如下："
   ]
  },
  {
   "cell_type": "code",
   "execution_count": 24,
   "id": "9086dd30",
   "metadata": {},
   "outputs": [
    {
     "name": "stdout",
     "output_type": "stream",
     "text": [
      "Load data finished.\n",
      "Extended Data shape: (801, 4), (801,), factor: 10\n",
      "========================================================================Circuit Summary========================================================================\n",
      "|Total number of gates  : 51.                                                                                                                                 |\n",
      "|Parameter gates        : 48.                                                                                                                                 |\n",
      "|with 45 parameters are : cov_blo_0_0, cov_blo_0_1, cov_blo_0_2, cov_blo_0_3, cov_blo_0_4, cov_blo_0_5, cov_blo_0_6, cov_blo_0_7, cov_blo_0_8, cov_blo_0_9... |\n",
      "|Number qubit of circuit: 4                                                                                                                                   |\n",
      "===============================================================================================================================================================\n",
      "None\n"
     ]
    },
    {
     "data": {
      "image/svg+xml": [
       "<div class=\"nb-html-output output_area\"><svg xmlns=\"http://www.w3.org/2000/svg\" width=\"3180.8\" height=\"260\" xmlns:xlink=\"http://www.w3.org/1999/xlink\">\n",
       "<rect x=\"0\" y=\"0\" width=\"3180.8\" height=\"260\" fill=\"#ffffff\" />\n",
       "<text x=\"20.0\" y=\"40.0\" font-size=\"16px\" dominant-baseline=\"middle\" text-anchor=\"start\" font-family=\"Arial\" font-weight=\"normal\" fill=\"#252b3a\" >\n",
       "q0:\n",
       " </text>\n",
       "<text x=\"20.0\" y=\"100.0\" font-size=\"16px\" dominant-baseline=\"middle\" text-anchor=\"start\" font-family=\"Arial\" font-weight=\"normal\" fill=\"#252b3a\" >\n",
       "q1:\n",
       " </text>\n",
       "<text x=\"20.0\" y=\"160.0\" font-size=\"16px\" dominant-baseline=\"middle\" text-anchor=\"start\" font-family=\"Arial\" font-weight=\"normal\" fill=\"#252b3a\" >\n",
       "q2:\n",
       " </text>\n",
       "<text x=\"20.0\" y=\"220.0\" font-size=\"16px\" dominant-baseline=\"middle\" text-anchor=\"start\" font-family=\"Arial\" font-weight=\"normal\" fill=\"#252b3a\" >\n",
       "q3:\n",
       " </text>\n",
       "<line x1=\"48.8\" x2=\"3160.8\" y1=\"40.0\" y2=\"40.0\" stroke=\"#adb0b8\" stroke-width=\"1\" />\n",
       "<line x1=\"48.8\" x2=\"3160.8\" y1=\"100.0\" y2=\"100.0\" stroke=\"#adb0b8\" stroke-width=\"1\" />\n",
       "<line x1=\"48.8\" x2=\"3160.8\" y1=\"160.0\" y2=\"160.0\" stroke=\"#adb0b8\" stroke-width=\"1\" />\n",
       "<line x1=\"48.8\" x2=\"3160.8\" y1=\"220.0\" y2=\"220.0\" stroke=\"#adb0b8\" stroke-width=\"1\" />\n",
       "\n",
       "<rect x=\"72.8\" y=\"20.0\" width=\"120.0\" height=\"40\" rx=\"4\" ry=\"4\" stroke=\"#ffffff\" stroke-width=\"0\" fill=\"#fac209\" fill-opacity=\"1\" />\n",
       "<text x=\"132.8\" y=\"36.0\" font-size=\"20px\" dominant-baseline=\"middle\" text-anchor=\"middle\" font-family=\"Arial\" font-weight=\"normal\" fill=\"#ffffff\" >\n",
       "RX\n",
       " </text>\n",
       "<text x=\"132.8\" y=\"52.0\" font-size=\"14.0px\" dominant-baseline=\"middle\" text-anchor=\"middle\" font-family=\"Arial\" font-weight=\"normal\" fill=\"#ffffff\" >\n",
       "cov_blo_0_0\n",
       " </text>\n",
       "\n",
       "\n",
       "<rect x=\"212.8\" y=\"20.0\" width=\"120.0\" height=\"40\" rx=\"4\" ry=\"4\" stroke=\"#ffffff\" stroke-width=\"0\" fill=\"#fac209\" fill-opacity=\"1\" />\n",
       "<text x=\"272.8\" y=\"36.0\" font-size=\"20px\" dominant-baseline=\"middle\" text-anchor=\"middle\" font-family=\"Arial\" font-weight=\"normal\" fill=\"#ffffff\" >\n",
       "RY\n",
       " </text>\n",
       "<text x=\"272.8\" y=\"52.0\" font-size=\"14.0px\" dominant-baseline=\"middle\" text-anchor=\"middle\" font-family=\"Arial\" font-weight=\"normal\" fill=\"#ffffff\" >\n",
       "cov_blo_0_1\n",
       " </text>\n",
       "\n",
       "\n",
       "<rect x=\"352.8\" y=\"20.0\" width=\"120.0\" height=\"40\" rx=\"4\" ry=\"4\" stroke=\"#ffffff\" stroke-width=\"0\" fill=\"#fac209\" fill-opacity=\"1\" />\n",
       "<text x=\"412.8\" y=\"36.0\" font-size=\"20px\" dominant-baseline=\"middle\" text-anchor=\"middle\" font-family=\"Arial\" font-weight=\"normal\" fill=\"#ffffff\" >\n",
       "RZ\n",
       " </text>\n",
       "<text x=\"412.8\" y=\"52.0\" font-size=\"14.0px\" dominant-baseline=\"middle\" text-anchor=\"middle\" font-family=\"Arial\" font-weight=\"normal\" fill=\"#ffffff\" >\n",
       "cov_blo_0_2\n",
       " </text>\n",
       "\n",
       "\n",
       "<rect x=\"72.8\" y=\"80.0\" width=\"120.0\" height=\"40\" rx=\"4\" ry=\"4\" stroke=\"#ffffff\" stroke-width=\"0\" fill=\"#fac209\" fill-opacity=\"1\" />\n",
       "<text x=\"132.8\" y=\"96.0\" font-size=\"20px\" dominant-baseline=\"middle\" text-anchor=\"middle\" font-family=\"Arial\" font-weight=\"normal\" fill=\"#ffffff\" >\n",
       "RX\n",
       " </text>\n",
       "<text x=\"132.8\" y=\"112.0\" font-size=\"14.0px\" dominant-baseline=\"middle\" text-anchor=\"middle\" font-family=\"Arial\" font-weight=\"normal\" fill=\"#ffffff\" >\n",
       "cov_blo_0_3\n",
       " </text>\n",
       "\n",
       "\n",
       "<rect x=\"212.8\" y=\"80.0\" width=\"120.0\" height=\"40\" rx=\"4\" ry=\"4\" stroke=\"#ffffff\" stroke-width=\"0\" fill=\"#fac209\" fill-opacity=\"1\" />\n",
       "<text x=\"272.8\" y=\"96.0\" font-size=\"20px\" dominant-baseline=\"middle\" text-anchor=\"middle\" font-family=\"Arial\" font-weight=\"normal\" fill=\"#ffffff\" >\n",
       "RY\n",
       " </text>\n",
       "<text x=\"272.8\" y=\"112.0\" font-size=\"14.0px\" dominant-baseline=\"middle\" text-anchor=\"middle\" font-family=\"Arial\" font-weight=\"normal\" fill=\"#ffffff\" >\n",
       "cov_blo_0_4\n",
       " </text>\n",
       "\n",
       "\n",
       "<rect x=\"352.8\" y=\"80.0\" width=\"120.0\" height=\"40\" rx=\"4\" ry=\"4\" stroke=\"#ffffff\" stroke-width=\"0\" fill=\"#fac209\" fill-opacity=\"1\" />\n",
       "<text x=\"412.8\" y=\"96.0\" font-size=\"20px\" dominant-baseline=\"middle\" text-anchor=\"middle\" font-family=\"Arial\" font-weight=\"normal\" fill=\"#ffffff\" >\n",
       "RZ\n",
       " </text>\n",
       "<text x=\"412.8\" y=\"112.0\" font-size=\"14.0px\" dominant-baseline=\"middle\" text-anchor=\"middle\" font-family=\"Arial\" font-weight=\"normal\" fill=\"#ffffff\" >\n",
       "cov_blo_0_5\n",
       " </text>\n",
       "\n",
       "\n",
       "<rect x=\"492.8\" y=\"20.0\" width=\"120.0\" height=\"100\" rx=\"4\" ry=\"4\" stroke=\"#ffffff\" stroke-width=\"0\" fill=\"#fac209\" fill-opacity=\"1\" />\n",
       "<text x=\"552.8\" y=\"66.0\" font-size=\"20px\" dominant-baseline=\"middle\" text-anchor=\"middle\" font-family=\"Arial\" font-weight=\"normal\" fill=\"#ffffff\" >\n",
       "XX\n",
       " </text>\n",
       "<text x=\"552.8\" y=\"82.0\" font-size=\"14.0px\" dominant-baseline=\"middle\" text-anchor=\"middle\" font-family=\"Arial\" font-weight=\"normal\" fill=\"#ffffff\" >\n",
       "cov_blo_0_6\n",
       " </text>\n",
       "\n",
       "\n",
       "<rect x=\"632.8\" y=\"20.0\" width=\"120.0\" height=\"100\" rx=\"4\" ry=\"4\" stroke=\"#ffffff\" stroke-width=\"0\" fill=\"#fac209\" fill-opacity=\"1\" />\n",
       "<text x=\"692.8\" y=\"66.0\" font-size=\"20px\" dominant-baseline=\"middle\" text-anchor=\"middle\" font-family=\"Arial\" font-weight=\"normal\" fill=\"#ffffff\" >\n",
       "YY\n",
       " </text>\n",
       "<text x=\"692.8\" y=\"82.0\" font-size=\"14.0px\" dominant-baseline=\"middle\" text-anchor=\"middle\" font-family=\"Arial\" font-weight=\"normal\" fill=\"#ffffff\" >\n",
       "cov_blo_0_7\n",
       " </text>\n",
       "\n",
       "\n",
       "<rect x=\"772.8\" y=\"20.0\" width=\"120.0\" height=\"100\" rx=\"4\" ry=\"4\" stroke=\"#ffffff\" stroke-width=\"0\" fill=\"#fac209\" fill-opacity=\"1\" />\n",
       "<text x=\"832.8\" y=\"66.0\" font-size=\"20px\" dominant-baseline=\"middle\" text-anchor=\"middle\" font-family=\"Arial\" font-weight=\"normal\" fill=\"#ffffff\" >\n",
       "ZZ\n",
       " </text>\n",
       "<text x=\"832.8\" y=\"82.0\" font-size=\"14.0px\" dominant-baseline=\"middle\" text-anchor=\"middle\" font-family=\"Arial\" font-weight=\"normal\" fill=\"#ffffff\" >\n",
       "cov_blo_0_8\n",
       " </text>\n",
       "\n",
       "\n",
       "<rect x=\"912.8\" y=\"20.0\" width=\"120.0\" height=\"40\" rx=\"4\" ry=\"4\" stroke=\"#ffffff\" stroke-width=\"0\" fill=\"#fac209\" fill-opacity=\"1\" />\n",
       "<text x=\"972.8\" y=\"36.0\" font-size=\"20px\" dominant-baseline=\"middle\" text-anchor=\"middle\" font-family=\"Arial\" font-weight=\"normal\" fill=\"#ffffff\" >\n",
       "RX\n",
       " </text>\n",
       "<text x=\"972.8\" y=\"52.0\" font-size=\"14.0px\" dominant-baseline=\"middle\" text-anchor=\"middle\" font-family=\"Arial\" font-weight=\"normal\" fill=\"#ffffff\" >\n",
       "cov_blo_0_9\n",
       " </text>\n",
       "\n",
       "\n",
       "<rect x=\"1052.8\" y=\"20.0\" width=\"120.0\" height=\"40\" rx=\"4\" ry=\"4\" stroke=\"#ffffff\" stroke-width=\"0\" fill=\"#fac209\" fill-opacity=\"1\" />\n",
       "<text x=\"1112.8\" y=\"36.0\" font-size=\"20px\" dominant-baseline=\"middle\" text-anchor=\"middle\" font-family=\"Arial\" font-weight=\"normal\" fill=\"#ffffff\" >\n",
       "RY\n",
       " </text>\n",
       "<text x=\"1112.8\" y=\"52.0\" font-size=\"14.0px\" dominant-baseline=\"middle\" text-anchor=\"middle\" font-family=\"Arial\" font-weight=\"normal\" fill=\"#ffffff\" >\n",
       "cov_blo_0_10\n",
       " </text>\n",
       "\n",
       "\n",
       "<rect x=\"1192.8\" y=\"20.0\" width=\"120.0\" height=\"40\" rx=\"4\" ry=\"4\" stroke=\"#ffffff\" stroke-width=\"0\" fill=\"#fac209\" fill-opacity=\"1\" />\n",
       "<text x=\"1252.8\" y=\"36.0\" font-size=\"20px\" dominant-baseline=\"middle\" text-anchor=\"middle\" font-family=\"Arial\" font-weight=\"normal\" fill=\"#ffffff\" >\n",
       "RZ\n",
       " </text>\n",
       "<text x=\"1252.8\" y=\"52.0\" font-size=\"14.0px\" dominant-baseline=\"middle\" text-anchor=\"middle\" font-family=\"Arial\" font-weight=\"normal\" fill=\"#ffffff\" >\n",
       "cov_blo_0_11\n",
       " </text>\n",
       "\n",
       "\n",
       "<rect x=\"912.8\" y=\"80.0\" width=\"120.0\" height=\"40\" rx=\"4\" ry=\"4\" stroke=\"#ffffff\" stroke-width=\"0\" fill=\"#fac209\" fill-opacity=\"1\" />\n",
       "<text x=\"972.8\" y=\"96.0\" font-size=\"20px\" dominant-baseline=\"middle\" text-anchor=\"middle\" font-family=\"Arial\" font-weight=\"normal\" fill=\"#ffffff\" >\n",
       "RX\n",
       " </text>\n",
       "<text x=\"972.8\" y=\"112.0\" font-size=\"14.0px\" dominant-baseline=\"middle\" text-anchor=\"middle\" font-family=\"Arial\" font-weight=\"normal\" fill=\"#ffffff\" >\n",
       "cov_blo_0_11\n",
       " </text>\n",
       "\n",
       "\n",
       "<rect x=\"1052.8\" y=\"80.0\" width=\"120.0\" height=\"40\" rx=\"4\" ry=\"4\" stroke=\"#ffffff\" stroke-width=\"0\" fill=\"#fac209\" fill-opacity=\"1\" />\n",
       "<text x=\"1112.8\" y=\"96.0\" font-size=\"20px\" dominant-baseline=\"middle\" text-anchor=\"middle\" font-family=\"Arial\" font-weight=\"normal\" fill=\"#ffffff\" >\n",
       "RY\n",
       " </text>\n",
       "<text x=\"1112.8\" y=\"112.0\" font-size=\"14.0px\" dominant-baseline=\"middle\" text-anchor=\"middle\" font-family=\"Arial\" font-weight=\"normal\" fill=\"#ffffff\" >\n",
       "cov_blo_0_12\n",
       " </text>\n",
       "\n",
       "\n",
       "<rect x=\"1192.8\" y=\"80.0\" width=\"120.0\" height=\"40\" rx=\"4\" ry=\"4\" stroke=\"#ffffff\" stroke-width=\"0\" fill=\"#fac209\" fill-opacity=\"1\" />\n",
       "<text x=\"1252.8\" y=\"96.0\" font-size=\"20px\" dominant-baseline=\"middle\" text-anchor=\"middle\" font-family=\"Arial\" font-weight=\"normal\" fill=\"#ffffff\" >\n",
       "RZ\n",
       " </text>\n",
       "<text x=\"1252.8\" y=\"112.0\" font-size=\"14.0px\" dominant-baseline=\"middle\" text-anchor=\"middle\" font-family=\"Arial\" font-weight=\"normal\" fill=\"#ffffff\" >\n",
       "cov_blo_0_13\n",
       " </text>\n",
       "\n",
       "<circle cx=\"1352.8\" cy=\"40.0\" r=\"4\" fill=\"#16acff\" />\n",
       "<line x1=\"1352.8\" x2=\"1352.8\" y1=\"40.0\" y2=\"100.0\" stroke=\"#16acff\" stroke-width=\"3\" />\n",
       "<rect x=\"1332.8\" y=\"80.0\" width=\"40\" height=\"40\" rx=\"4\" ry=\"4\" stroke=\"#ffffff\" stroke-width=\"0\" fill=\"#16acff\" fill-opacity=\"1\" />\n",
       "<line x1=\"1338.8\" x2=\"1366.8\" y1=\"100.0\" y2=\"100.0\" stroke=\"#ffffff\" stroke-width=\"4\" />\n",
       "<line x1=\"1352.8\" x2=\"1352.8\" y1=\"86.0\" y2=\"114.0\" stroke=\"#ffffff\" stroke-width=\"4\" />\n",
       "\n",
       "<rect x=\"72.8\" y=\"140.0\" width=\"120.0\" height=\"40\" rx=\"4\" ry=\"4\" stroke=\"#ffffff\" stroke-width=\"0\" fill=\"#fac209\" fill-opacity=\"1\" />\n",
       "<text x=\"132.8\" y=\"156.0\" font-size=\"20px\" dominant-baseline=\"middle\" text-anchor=\"middle\" font-family=\"Arial\" font-weight=\"normal\" fill=\"#ffffff\" >\n",
       "RX\n",
       " </text>\n",
       "<text x=\"132.8\" y=\"172.0\" font-size=\"14.0px\" dominant-baseline=\"middle\" text-anchor=\"middle\" font-family=\"Arial\" font-weight=\"normal\" fill=\"#ffffff\" >\n",
       "cov_blo_2_0\n",
       " </text>\n",
       "\n",
       "\n",
       "<rect x=\"212.8\" y=\"140.0\" width=\"120.0\" height=\"40\" rx=\"4\" ry=\"4\" stroke=\"#ffffff\" stroke-width=\"0\" fill=\"#fac209\" fill-opacity=\"1\" />\n",
       "<text x=\"272.8\" y=\"156.0\" font-size=\"20px\" dominant-baseline=\"middle\" text-anchor=\"middle\" font-family=\"Arial\" font-weight=\"normal\" fill=\"#ffffff\" >\n",
       "RY\n",
       " </text>\n",
       "<text x=\"272.8\" y=\"172.0\" font-size=\"14.0px\" dominant-baseline=\"middle\" text-anchor=\"middle\" font-family=\"Arial\" font-weight=\"normal\" fill=\"#ffffff\" >\n",
       "cov_blo_2_1\n",
       " </text>\n",
       "\n",
       "\n",
       "<rect x=\"352.8\" y=\"140.0\" width=\"120.0\" height=\"40\" rx=\"4\" ry=\"4\" stroke=\"#ffffff\" stroke-width=\"0\" fill=\"#fac209\" fill-opacity=\"1\" />\n",
       "<text x=\"412.8\" y=\"156.0\" font-size=\"20px\" dominant-baseline=\"middle\" text-anchor=\"middle\" font-family=\"Arial\" font-weight=\"normal\" fill=\"#ffffff\" >\n",
       "RZ\n",
       " </text>\n",
       "<text x=\"412.8\" y=\"172.0\" font-size=\"14.0px\" dominant-baseline=\"middle\" text-anchor=\"middle\" font-family=\"Arial\" font-weight=\"normal\" fill=\"#ffffff\" >\n",
       "cov_blo_2_2\n",
       " </text>\n",
       "\n",
       "\n",
       "<rect x=\"72.8\" y=\"200.0\" width=\"120.0\" height=\"40\" rx=\"4\" ry=\"4\" stroke=\"#ffffff\" stroke-width=\"0\" fill=\"#fac209\" fill-opacity=\"1\" />\n",
       "<text x=\"132.8\" y=\"216.0\" font-size=\"20px\" dominant-baseline=\"middle\" text-anchor=\"middle\" font-family=\"Arial\" font-weight=\"normal\" fill=\"#ffffff\" >\n",
       "RX\n",
       " </text>\n",
       "<text x=\"132.8\" y=\"232.0\" font-size=\"14.0px\" dominant-baseline=\"middle\" text-anchor=\"middle\" font-family=\"Arial\" font-weight=\"normal\" fill=\"#ffffff\" >\n",
       "cov_blo_2_3\n",
       " </text>\n",
       "\n",
       "\n",
       "<rect x=\"212.8\" y=\"200.0\" width=\"120.0\" height=\"40\" rx=\"4\" ry=\"4\" stroke=\"#ffffff\" stroke-width=\"0\" fill=\"#fac209\" fill-opacity=\"1\" />\n",
       "<text x=\"272.8\" y=\"216.0\" font-size=\"20px\" dominant-baseline=\"middle\" text-anchor=\"middle\" font-family=\"Arial\" font-weight=\"normal\" fill=\"#ffffff\" >\n",
       "RY\n",
       " </text>\n",
       "<text x=\"272.8\" y=\"232.0\" font-size=\"14.0px\" dominant-baseline=\"middle\" text-anchor=\"middle\" font-family=\"Arial\" font-weight=\"normal\" fill=\"#ffffff\" >\n",
       "cov_blo_2_4\n",
       " </text>\n",
       "\n",
       "\n",
       "<rect x=\"352.8\" y=\"200.0\" width=\"120.0\" height=\"40\" rx=\"4\" ry=\"4\" stroke=\"#ffffff\" stroke-width=\"0\" fill=\"#fac209\" fill-opacity=\"1\" />\n",
       "<text x=\"412.8\" y=\"216.0\" font-size=\"20px\" dominant-baseline=\"middle\" text-anchor=\"middle\" font-family=\"Arial\" font-weight=\"normal\" fill=\"#ffffff\" >\n",
       "RZ\n",
       " </text>\n",
       "<text x=\"412.8\" y=\"232.0\" font-size=\"14.0px\" dominant-baseline=\"middle\" text-anchor=\"middle\" font-family=\"Arial\" font-weight=\"normal\" fill=\"#ffffff\" >\n",
       "cov_blo_2_5\n",
       " </text>\n",
       "\n",
       "\n",
       "<rect x=\"492.8\" y=\"140.0\" width=\"120.0\" height=\"100\" rx=\"4\" ry=\"4\" stroke=\"#ffffff\" stroke-width=\"0\" fill=\"#fac209\" fill-opacity=\"1\" />\n",
       "<text x=\"552.8\" y=\"186.0\" font-size=\"20px\" dominant-baseline=\"middle\" text-anchor=\"middle\" font-family=\"Arial\" font-weight=\"normal\" fill=\"#ffffff\" >\n",
       "XX\n",
       " </text>\n",
       "<text x=\"552.8\" y=\"202.0\" font-size=\"14.0px\" dominant-baseline=\"middle\" text-anchor=\"middle\" font-family=\"Arial\" font-weight=\"normal\" fill=\"#ffffff\" >\n",
       "cov_blo_2_6\n",
       " </text>\n",
       "\n",
       "\n",
       "<rect x=\"632.8\" y=\"140.0\" width=\"120.0\" height=\"100\" rx=\"4\" ry=\"4\" stroke=\"#ffffff\" stroke-width=\"0\" fill=\"#fac209\" fill-opacity=\"1\" />\n",
       "<text x=\"692.8\" y=\"186.0\" font-size=\"20px\" dominant-baseline=\"middle\" text-anchor=\"middle\" font-family=\"Arial\" font-weight=\"normal\" fill=\"#ffffff\" >\n",
       "YY\n",
       " </text>\n",
       "<text x=\"692.8\" y=\"202.0\" font-size=\"14.0px\" dominant-baseline=\"middle\" text-anchor=\"middle\" font-family=\"Arial\" font-weight=\"normal\" fill=\"#ffffff\" >\n",
       "cov_blo_2_7\n",
       " </text>\n",
       "\n",
       "\n",
       "<rect x=\"772.8\" y=\"140.0\" width=\"120.0\" height=\"100\" rx=\"4\" ry=\"4\" stroke=\"#ffffff\" stroke-width=\"0\" fill=\"#fac209\" fill-opacity=\"1\" />\n",
       "<text x=\"832.8\" y=\"186.0\" font-size=\"20px\" dominant-baseline=\"middle\" text-anchor=\"middle\" font-family=\"Arial\" font-weight=\"normal\" fill=\"#ffffff\" >\n",
       "ZZ\n",
       " </text>\n",
       "<text x=\"832.8\" y=\"202.0\" font-size=\"14.0px\" dominant-baseline=\"middle\" text-anchor=\"middle\" font-family=\"Arial\" font-weight=\"normal\" fill=\"#ffffff\" >\n",
       "cov_blo_2_8\n",
       " </text>\n",
       "\n",
       "\n",
       "<rect x=\"912.8\" y=\"140.0\" width=\"120.0\" height=\"40\" rx=\"4\" ry=\"4\" stroke=\"#ffffff\" stroke-width=\"0\" fill=\"#fac209\" fill-opacity=\"1\" />\n",
       "<text x=\"972.8\" y=\"156.0\" font-size=\"20px\" dominant-baseline=\"middle\" text-anchor=\"middle\" font-family=\"Arial\" font-weight=\"normal\" fill=\"#ffffff\" >\n",
       "RX\n",
       " </text>\n",
       "<text x=\"972.8\" y=\"172.0\" font-size=\"14.0px\" dominant-baseline=\"middle\" text-anchor=\"middle\" font-family=\"Arial\" font-weight=\"normal\" fill=\"#ffffff\" >\n",
       "cov_blo_2_9\n",
       " </text>\n",
       "\n",
       "\n",
       "<rect x=\"1052.8\" y=\"140.0\" width=\"120.0\" height=\"40\" rx=\"4\" ry=\"4\" stroke=\"#ffffff\" stroke-width=\"0\" fill=\"#fac209\" fill-opacity=\"1\" />\n",
       "<text x=\"1112.8\" y=\"156.0\" font-size=\"20px\" dominant-baseline=\"middle\" text-anchor=\"middle\" font-family=\"Arial\" font-weight=\"normal\" fill=\"#ffffff\" >\n",
       "RY\n",
       " </text>\n",
       "<text x=\"1112.8\" y=\"172.0\" font-size=\"14.0px\" dominant-baseline=\"middle\" text-anchor=\"middle\" font-family=\"Arial\" font-weight=\"normal\" fill=\"#ffffff\" >\n",
       "cov_blo_2_10\n",
       " </text>\n",
       "\n",
       "\n",
       "<rect x=\"1192.8\" y=\"140.0\" width=\"120.0\" height=\"40\" rx=\"4\" ry=\"4\" stroke=\"#ffffff\" stroke-width=\"0\" fill=\"#fac209\" fill-opacity=\"1\" />\n",
       "<text x=\"1252.8\" y=\"156.0\" font-size=\"20px\" dominant-baseline=\"middle\" text-anchor=\"middle\" font-family=\"Arial\" font-weight=\"normal\" fill=\"#ffffff\" >\n",
       "RZ\n",
       " </text>\n",
       "<text x=\"1252.8\" y=\"172.0\" font-size=\"14.0px\" dominant-baseline=\"middle\" text-anchor=\"middle\" font-family=\"Arial\" font-weight=\"normal\" fill=\"#ffffff\" >\n",
       "cov_blo_2_11\n",
       " </text>\n",
       "\n",
       "\n",
       "<rect x=\"912.8\" y=\"200.0\" width=\"120.0\" height=\"40\" rx=\"4\" ry=\"4\" stroke=\"#ffffff\" stroke-width=\"0\" fill=\"#fac209\" fill-opacity=\"1\" />\n",
       "<text x=\"972.8\" y=\"216.0\" font-size=\"20px\" dominant-baseline=\"middle\" text-anchor=\"middle\" font-family=\"Arial\" font-weight=\"normal\" fill=\"#ffffff\" >\n",
       "RX\n",
       " </text>\n",
       "<text x=\"972.8\" y=\"232.0\" font-size=\"14.0px\" dominant-baseline=\"middle\" text-anchor=\"middle\" font-family=\"Arial\" font-weight=\"normal\" fill=\"#ffffff\" >\n",
       "cov_blo_2_11\n",
       " </text>\n",
       "\n",
       "\n",
       "<rect x=\"1052.8\" y=\"200.0\" width=\"120.0\" height=\"40\" rx=\"4\" ry=\"4\" stroke=\"#ffffff\" stroke-width=\"0\" fill=\"#fac209\" fill-opacity=\"1\" />\n",
       "<text x=\"1112.8\" y=\"216.0\" font-size=\"20px\" dominant-baseline=\"middle\" text-anchor=\"middle\" font-family=\"Arial\" font-weight=\"normal\" fill=\"#ffffff\" >\n",
       "RY\n",
       " </text>\n",
       "<text x=\"1112.8\" y=\"232.0\" font-size=\"14.0px\" dominant-baseline=\"middle\" text-anchor=\"middle\" font-family=\"Arial\" font-weight=\"normal\" fill=\"#ffffff\" >\n",
       "cov_blo_2_12\n",
       " </text>\n",
       "\n",
       "\n",
       "<rect x=\"1192.8\" y=\"200.0\" width=\"120.0\" height=\"40\" rx=\"4\" ry=\"4\" stroke=\"#ffffff\" stroke-width=\"0\" fill=\"#fac209\" fill-opacity=\"1\" />\n",
       "<text x=\"1252.8\" y=\"216.0\" font-size=\"20px\" dominant-baseline=\"middle\" text-anchor=\"middle\" font-family=\"Arial\" font-weight=\"normal\" fill=\"#ffffff\" >\n",
       "RZ\n",
       " </text>\n",
       "<text x=\"1252.8\" y=\"232.0\" font-size=\"14.0px\" dominant-baseline=\"middle\" text-anchor=\"middle\" font-family=\"Arial\" font-weight=\"normal\" fill=\"#ffffff\" >\n",
       "cov_blo_2_13\n",
       " </text>\n",
       "\n",
       "<circle cx=\"1352.8\" cy=\"160.0\" r=\"4\" fill=\"#16acff\" />\n",
       "<line x1=\"1352.8\" x2=\"1352.8\" y1=\"160.0\" y2=\"220.0\" stroke=\"#16acff\" stroke-width=\"3\" />\n",
       "<rect x=\"1332.8\" y=\"200.0\" width=\"40\" height=\"40\" rx=\"4\" ry=\"4\" stroke=\"#ffffff\" stroke-width=\"0\" fill=\"#16acff\" fill-opacity=\"1\" />\n",
       "<line x1=\"1338.8\" x2=\"1366.8\" y1=\"220.0\" y2=\"220.0\" stroke=\"#ffffff\" stroke-width=\"4\" />\n",
       "<line x1=\"1352.8\" x2=\"1352.8\" y1=\"206.0\" y2=\"234.0\" stroke=\"#ffffff\" stroke-width=\"4\" />\n",
       "\n",
       "<rect x=\"1392.8\" y=\"80.0\" width=\"120.0\" height=\"40\" rx=\"4\" ry=\"4\" stroke=\"#ffffff\" stroke-width=\"0\" fill=\"#fac209\" fill-opacity=\"1\" />\n",
       "<text x=\"1452.8\" y=\"96.0\" font-size=\"20px\" dominant-baseline=\"middle\" text-anchor=\"middle\" font-family=\"Arial\" font-weight=\"normal\" fill=\"#ffffff\" >\n",
       "RX\n",
       " </text>\n",
       "<text x=\"1452.8\" y=\"112.0\" font-size=\"14.0px\" dominant-baseline=\"middle\" text-anchor=\"middle\" font-family=\"Arial\" font-weight=\"normal\" fill=\"#ffffff\" >\n",
       "cov_blo_4_0\n",
       " </text>\n",
       "\n",
       "\n",
       "<rect x=\"1532.8\" y=\"80.0\" width=\"120.0\" height=\"40\" rx=\"4\" ry=\"4\" stroke=\"#ffffff\" stroke-width=\"0\" fill=\"#fac209\" fill-opacity=\"1\" />\n",
       "<text x=\"1592.8\" y=\"96.0\" font-size=\"20px\" dominant-baseline=\"middle\" text-anchor=\"middle\" font-family=\"Arial\" font-weight=\"normal\" fill=\"#ffffff\" >\n",
       "RY\n",
       " </text>\n",
       "<text x=\"1592.8\" y=\"112.0\" font-size=\"14.0px\" dominant-baseline=\"middle\" text-anchor=\"middle\" font-family=\"Arial\" font-weight=\"normal\" fill=\"#ffffff\" >\n",
       "cov_blo_4_1\n",
       " </text>\n",
       "\n",
       "\n",
       "<rect x=\"1672.8\" y=\"80.0\" width=\"120.0\" height=\"40\" rx=\"4\" ry=\"4\" stroke=\"#ffffff\" stroke-width=\"0\" fill=\"#fac209\" fill-opacity=\"1\" />\n",
       "<text x=\"1732.8\" y=\"96.0\" font-size=\"20px\" dominant-baseline=\"middle\" text-anchor=\"middle\" font-family=\"Arial\" font-weight=\"normal\" fill=\"#ffffff\" >\n",
       "RZ\n",
       " </text>\n",
       "<text x=\"1732.8\" y=\"112.0\" font-size=\"14.0px\" dominant-baseline=\"middle\" text-anchor=\"middle\" font-family=\"Arial\" font-weight=\"normal\" fill=\"#ffffff\" >\n",
       "cov_blo_4_2\n",
       " </text>\n",
       "\n",
       "\n",
       "<rect x=\"1392.8\" y=\"200.0\" width=\"120.0\" height=\"40\" rx=\"4\" ry=\"4\" stroke=\"#ffffff\" stroke-width=\"0\" fill=\"#fac209\" fill-opacity=\"1\" />\n",
       "<text x=\"1452.8\" y=\"216.0\" font-size=\"20px\" dominant-baseline=\"middle\" text-anchor=\"middle\" font-family=\"Arial\" font-weight=\"normal\" fill=\"#ffffff\" >\n",
       "RX\n",
       " </text>\n",
       "<text x=\"1452.8\" y=\"232.0\" font-size=\"14.0px\" dominant-baseline=\"middle\" text-anchor=\"middle\" font-family=\"Arial\" font-weight=\"normal\" fill=\"#ffffff\" >\n",
       "cov_blo_4_3\n",
       " </text>\n",
       "\n",
       "\n",
       "<rect x=\"1532.8\" y=\"200.0\" width=\"120.0\" height=\"40\" rx=\"4\" ry=\"4\" stroke=\"#ffffff\" stroke-width=\"0\" fill=\"#fac209\" fill-opacity=\"1\" />\n",
       "<text x=\"1592.8\" y=\"216.0\" font-size=\"20px\" dominant-baseline=\"middle\" text-anchor=\"middle\" font-family=\"Arial\" font-weight=\"normal\" fill=\"#ffffff\" >\n",
       "RY\n",
       " </text>\n",
       "<text x=\"1592.8\" y=\"232.0\" font-size=\"14.0px\" dominant-baseline=\"middle\" text-anchor=\"middle\" font-family=\"Arial\" font-weight=\"normal\" fill=\"#ffffff\" >\n",
       "cov_blo_4_4\n",
       " </text>\n",
       "\n",
       "\n",
       "<rect x=\"1672.8\" y=\"200.0\" width=\"120.0\" height=\"40\" rx=\"4\" ry=\"4\" stroke=\"#ffffff\" stroke-width=\"0\" fill=\"#fac209\" fill-opacity=\"1\" />\n",
       "<text x=\"1732.8\" y=\"216.0\" font-size=\"20px\" dominant-baseline=\"middle\" text-anchor=\"middle\" font-family=\"Arial\" font-weight=\"normal\" fill=\"#ffffff\" >\n",
       "RZ\n",
       " </text>\n",
       "<text x=\"1732.8\" y=\"232.0\" font-size=\"14.0px\" dominant-baseline=\"middle\" text-anchor=\"middle\" font-family=\"Arial\" font-weight=\"normal\" fill=\"#ffffff\" >\n",
       "cov_blo_4_5\n",
       " </text>\n",
       "\n",
       "\n",
       "<rect x=\"1812.8\" y=\"80.0\" width=\"120.0\" height=\"160\" rx=\"4\" ry=\"4\" stroke=\"#ffffff\" stroke-width=\"0\" fill=\"#fac209\" fill-opacity=\"1\" />\n",
       "<text x=\"1872.8\" y=\"156.0\" font-size=\"20px\" dominant-baseline=\"middle\" text-anchor=\"middle\" font-family=\"Arial\" font-weight=\"normal\" fill=\"#ffffff\" >\n",
       "XX\n",
       " </text>\n",
       "<text x=\"1872.8\" y=\"172.0\" font-size=\"14.0px\" dominant-baseline=\"middle\" text-anchor=\"middle\" font-family=\"Arial\" font-weight=\"normal\" fill=\"#ffffff\" >\n",
       "cov_blo_4_6\n",
       " </text>\n",
       "<circle cx=\"1812.8\" cy=\"100.0\" r=\"4\" fill=\"#fac209\" />\n",
       "<circle cx=\"1932.8\" cy=\"100.0\" r=\"4\" fill=\"#fac209\" />\n",
       "<circle cx=\"1812.8\" cy=\"220.0\" r=\"4\" fill=\"#fac209\" />\n",
       "<circle cx=\"1932.8\" cy=\"220.0\" r=\"4\" fill=\"#fac209\" />\n",
       "\n",
       "<rect x=\"1960.8\" y=\"80.0\" width=\"120.0\" height=\"160\" rx=\"4\" ry=\"4\" stroke=\"#ffffff\" stroke-width=\"0\" fill=\"#fac209\" fill-opacity=\"1\" />\n",
       "<text x=\"2020.8\" y=\"156.0\" font-size=\"20px\" dominant-baseline=\"middle\" text-anchor=\"middle\" font-family=\"Arial\" font-weight=\"normal\" fill=\"#ffffff\" >\n",
       "YY\n",
       " </text>\n",
       "<text x=\"2020.8\" y=\"172.0\" font-size=\"14.0px\" dominant-baseline=\"middle\" text-anchor=\"middle\" font-family=\"Arial\" font-weight=\"normal\" fill=\"#ffffff\" >\n",
       "cov_blo_4_7\n",
       " </text>\n",
       "<circle cx=\"1960.8\" cy=\"100.0\" r=\"4\" fill=\"#fac209\" />\n",
       "<circle cx=\"2080.8\" cy=\"100.0\" r=\"4\" fill=\"#fac209\" />\n",
       "<circle cx=\"1960.8\" cy=\"220.0\" r=\"4\" fill=\"#fac209\" />\n",
       "<circle cx=\"2080.8\" cy=\"220.0\" r=\"4\" fill=\"#fac209\" />\n",
       "\n",
       "<rect x=\"2108.8\" y=\"80.0\" width=\"120.0\" height=\"160\" rx=\"4\" ry=\"4\" stroke=\"#ffffff\" stroke-width=\"0\" fill=\"#fac209\" fill-opacity=\"1\" />\n",
       "<text x=\"2168.8\" y=\"156.0\" font-size=\"20px\" dominant-baseline=\"middle\" text-anchor=\"middle\" font-family=\"Arial\" font-weight=\"normal\" fill=\"#ffffff\" >\n",
       "ZZ\n",
       " </text>\n",
       "<text x=\"2168.8\" y=\"172.0\" font-size=\"14.0px\" dominant-baseline=\"middle\" text-anchor=\"middle\" font-family=\"Arial\" font-weight=\"normal\" fill=\"#ffffff\" >\n",
       "cov_blo_4_8\n",
       " </text>\n",
       "<circle cx=\"2108.8\" cy=\"100.0\" r=\"4\" fill=\"#fac209\" />\n",
       "<circle cx=\"2228.8\" cy=\"100.0\" r=\"4\" fill=\"#fac209\" />\n",
       "<circle cx=\"2108.8\" cy=\"220.0\" r=\"4\" fill=\"#fac209\" />\n",
       "<circle cx=\"2228.8\" cy=\"220.0\" r=\"4\" fill=\"#fac209\" />\n",
       "\n",
       "<rect x=\"2256.8\" y=\"80.0\" width=\"120.0\" height=\"40\" rx=\"4\" ry=\"4\" stroke=\"#ffffff\" stroke-width=\"0\" fill=\"#fac209\" fill-opacity=\"1\" />\n",
       "<text x=\"2316.8\" y=\"96.0\" font-size=\"20px\" dominant-baseline=\"middle\" text-anchor=\"middle\" font-family=\"Arial\" font-weight=\"normal\" fill=\"#ffffff\" >\n",
       "RX\n",
       " </text>\n",
       "<text x=\"2316.8\" y=\"112.0\" font-size=\"14.0px\" dominant-baseline=\"middle\" text-anchor=\"middle\" font-family=\"Arial\" font-weight=\"normal\" fill=\"#ffffff\" >\n",
       "cov_blo_4_9\n",
       " </text>\n",
       "\n",
       "\n",
       "<rect x=\"2396.8\" y=\"80.0\" width=\"120.0\" height=\"40\" rx=\"4\" ry=\"4\" stroke=\"#ffffff\" stroke-width=\"0\" fill=\"#fac209\" fill-opacity=\"1\" />\n",
       "<text x=\"2456.8\" y=\"96.0\" font-size=\"20px\" dominant-baseline=\"middle\" text-anchor=\"middle\" font-family=\"Arial\" font-weight=\"normal\" fill=\"#ffffff\" >\n",
       "RY\n",
       " </text>\n",
       "<text x=\"2456.8\" y=\"112.0\" font-size=\"14.0px\" dominant-baseline=\"middle\" text-anchor=\"middle\" font-family=\"Arial\" font-weight=\"normal\" fill=\"#ffffff\" >\n",
       "cov_blo_4_10\n",
       " </text>\n",
       "\n",
       "\n",
       "<rect x=\"2536.8\" y=\"80.0\" width=\"120.0\" height=\"40\" rx=\"4\" ry=\"4\" stroke=\"#ffffff\" stroke-width=\"0\" fill=\"#fac209\" fill-opacity=\"1\" />\n",
       "<text x=\"2596.8\" y=\"96.0\" font-size=\"20px\" dominant-baseline=\"middle\" text-anchor=\"middle\" font-family=\"Arial\" font-weight=\"normal\" fill=\"#ffffff\" >\n",
       "RZ\n",
       " </text>\n",
       "<text x=\"2596.8\" y=\"112.0\" font-size=\"14.0px\" dominant-baseline=\"middle\" text-anchor=\"middle\" font-family=\"Arial\" font-weight=\"normal\" fill=\"#ffffff\" >\n",
       "cov_blo_4_11\n",
       " </text>\n",
       "\n",
       "\n",
       "<rect x=\"2256.8\" y=\"200.0\" width=\"120.0\" height=\"40\" rx=\"4\" ry=\"4\" stroke=\"#ffffff\" stroke-width=\"0\" fill=\"#fac209\" fill-opacity=\"1\" />\n",
       "<text x=\"2316.8\" y=\"216.0\" font-size=\"20px\" dominant-baseline=\"middle\" text-anchor=\"middle\" font-family=\"Arial\" font-weight=\"normal\" fill=\"#ffffff\" >\n",
       "RX\n",
       " </text>\n",
       "<text x=\"2316.8\" y=\"232.0\" font-size=\"14.0px\" dominant-baseline=\"middle\" text-anchor=\"middle\" font-family=\"Arial\" font-weight=\"normal\" fill=\"#ffffff\" >\n",
       "cov_blo_4_11\n",
       " </text>\n",
       "\n",
       "\n",
       "<rect x=\"2396.8\" y=\"200.0\" width=\"120.0\" height=\"40\" rx=\"4\" ry=\"4\" stroke=\"#ffffff\" stroke-width=\"0\" fill=\"#fac209\" fill-opacity=\"1\" />\n",
       "<text x=\"2456.8\" y=\"216.0\" font-size=\"20px\" dominant-baseline=\"middle\" text-anchor=\"middle\" font-family=\"Arial\" font-weight=\"normal\" fill=\"#ffffff\" >\n",
       "RY\n",
       " </text>\n",
       "<text x=\"2456.8\" y=\"232.0\" font-size=\"14.0px\" dominant-baseline=\"middle\" text-anchor=\"middle\" font-family=\"Arial\" font-weight=\"normal\" fill=\"#ffffff\" >\n",
       "cov_blo_4_12\n",
       " </text>\n",
       "\n",
       "\n",
       "<rect x=\"2536.8\" y=\"200.0\" width=\"120.0\" height=\"40\" rx=\"4\" ry=\"4\" stroke=\"#ffffff\" stroke-width=\"0\" fill=\"#fac209\" fill-opacity=\"1\" />\n",
       "<text x=\"2596.8\" y=\"216.0\" font-size=\"20px\" dominant-baseline=\"middle\" text-anchor=\"middle\" font-family=\"Arial\" font-weight=\"normal\" fill=\"#ffffff\" >\n",
       "RZ\n",
       " </text>\n",
       "<text x=\"2596.8\" y=\"232.0\" font-size=\"14.0px\" dominant-baseline=\"middle\" text-anchor=\"middle\" font-family=\"Arial\" font-weight=\"normal\" fill=\"#ffffff\" >\n",
       "cov_blo_4_13\n",
       " </text>\n",
       "\n",
       "<circle cx=\"2696.8\" cy=\"100.0\" r=\"4\" fill=\"#16acff\" />\n",
       "<line x1=\"2696.8\" x2=\"2696.8\" y1=\"100.0\" y2=\"220.0\" stroke=\"#16acff\" stroke-width=\"3\" />\n",
       "<rect x=\"2676.8\" y=\"200.0\" width=\"40\" height=\"40\" rx=\"4\" ry=\"4\" stroke=\"#ffffff\" stroke-width=\"0\" fill=\"#16acff\" fill-opacity=\"1\" />\n",
       "<line x1=\"2682.8\" x2=\"2710.8\" y1=\"220.0\" y2=\"220.0\" stroke=\"#ffffff\" stroke-width=\"4\" />\n",
       "<line x1=\"2696.8\" x2=\"2696.8\" y1=\"206.0\" y2=\"234.0\" stroke=\"#ffffff\" stroke-width=\"4\" />\n",
       "\n",
       "<rect x=\"2736.8\" y=\"200.0\" width=\"120.0\" height=\"40\" rx=\"4\" ry=\"4\" stroke=\"#ffffff\" stroke-width=\"0\" fill=\"#fac209\" fill-opacity=\"1\" />\n",
       "<text x=\"2796.8\" y=\"216.0\" font-size=\"20px\" dominant-baseline=\"middle\" text-anchor=\"middle\" font-family=\"Arial\" font-weight=\"normal\" fill=\"#ffffff\" >\n",
       "RZ\n",
       " </text>\n",
       "<text x=\"2796.8\" y=\"232.0\" font-size=\"14.0px\" dominant-baseline=\"middle\" text-anchor=\"middle\" font-family=\"Arial\" font-weight=\"normal\" fill=\"#ffffff\" >\n",
       "-p_blo_5_0\n",
       " </text>\n",
       "\n",
       "\n",
       "<rect x=\"2876.8\" y=\"200.0\" width=\"120.0\" height=\"40\" rx=\"4\" ry=\"4\" stroke=\"#ffffff\" stroke-width=\"0\" fill=\"#fac209\" fill-opacity=\"1\" />\n",
       "<text x=\"2936.8\" y=\"216.0\" font-size=\"20px\" dominant-baseline=\"middle\" text-anchor=\"middle\" font-family=\"Arial\" font-weight=\"normal\" fill=\"#ffffff\" >\n",
       "RY\n",
       " </text>\n",
       "<text x=\"2936.8\" y=\"232.0\" font-size=\"14.0px\" dominant-baseline=\"middle\" text-anchor=\"middle\" font-family=\"Arial\" font-weight=\"normal\" fill=\"#ffffff\" >\n",
       "-p_blo_5_-1\n",
       " </text>\n",
       "\n",
       "\n",
       "<rect x=\"3016.8\" y=\"200.0\" width=\"120.0\" height=\"40\" rx=\"4\" ry=\"4\" stroke=\"#ffffff\" stroke-width=\"0\" fill=\"#fac209\" fill-opacity=\"1\" />\n",
       "<text x=\"3076.8\" y=\"216.0\" font-size=\"20px\" dominant-baseline=\"middle\" text-anchor=\"middle\" font-family=\"Arial\" font-weight=\"normal\" fill=\"#ffffff\" >\n",
       "RX\n",
       " </text>\n",
       "<text x=\"3076.8\" y=\"232.0\" font-size=\"14.0px\" dominant-baseline=\"middle\" text-anchor=\"middle\" font-family=\"Arial\" font-weight=\"normal\" fill=\"#ffffff\" >\n",
       "-p_blo_5_-2\n",
       " </text>\n",
       "\n",
       "</svg></div>"
      ],
      "text/plain": [
       "<mindquantum.io.display.circuit_svg_drawer.SVGCircuit at 0x7f70c2d47e20>"
      ]
     },
     "execution_count": 24,
     "metadata": {},
     "output_type": "execute_result"
    }
   ],
   "source": [
    "qcnn = qcn.QCNN(qubits=4, learning_rate=0.001, epoch=8, batch=8, opt = True)\n",
    "ansatz_4_opt = qcnn.gen_qcnn_ansatz()\n",
    "print(ansatz_4_opt.summary())\n",
    "ansatz_4_opt.svg()"
   ]
  },
  {
   "cell_type": "markdown",
   "id": "f29214d3",
   "metadata": {},
   "source": [
    "### 量子卷积神经网络训练及结果\n",
    "\n",
    "| Qubits     | 4 | 8  | 12  | \n",
    "| :---:       |    :----:   |          :---: |  :---: | \n",
    "| Accuracy      | 1      | 1   | 0.99| \n",
    "| Accuracy(optimized)   | 1     | 1   | 0.99 |\n",
    "| training time（s）   | 9690     | 25370   | 35909 |\n",
    "| training time（s, optimized）   | 6830     | 15668   | 25365 |\n",
    "\n",
    "优化后的训练时间减少了30~38%左右，而分类精度保持与原始方案一样。\n",
    "\n",
    "#### 4比特训练结果\n"
   ]
  },
  {
   "cell_type": "code",
   "execution_count": 32,
   "id": "c54e3d99",
   "metadata": {},
   "outputs": [
    {
     "name": "stdout",
     "output_type": "stream",
     "text": [
      "Load data finished.\n",
      "Extended Data shape: (801, 4), (801,), factor: 10\n",
      "Load data finished.\n",
      "Extended Data shape: (801, 4), (801,), factor: 10\n",
      "epoch: 1 step: 5, loss is 0.9682894945144653\n",
      "epoch: 1 step: 10, loss is 0.9450089931488037\n",
      "epoch: 1 step: 15, loss is 0.8034152388572693\n",
      "epoch: 1 step: 20, loss is 0.817954421043396\n",
      "epoch: 1 step: 25, loss is 0.9211260080337524\n",
      "epoch: 1 step: 30, loss is 0.8586918115615845\n",
      "epoch: 1 step: 35, loss is 0.8135753273963928\n",
      "epoch: 1 step: 40, loss is 0.8486741781234741\n",
      "epoch: 1 step: 45, loss is 0.8436720967292786\n",
      "epoch: 1 step: 50, loss is 0.664427638053894\n",
      "epoch: 1 step: 55, loss is 0.8252289891242981\n",
      "epoch: 1 step: 60, loss is 0.7058184146881104\n",
      "epoch: 1 step: 65, loss is 0.5486479997634888\n",
      "epoch: 1 step: 70, loss is 0.5800719857215881\n",
      "epoch: 1 step: 75, loss is 0.7760517597198486\n",
      "epoch: 1 step: 80, loss is 0.6983233690261841\n",
      "epoch: 2 step: 5, loss is 0.7328165769577026\n",
      "epoch: 2 step: 10, loss is 0.6195482015609741\n",
      "epoch: 2 step: 15, loss is 0.5758245587348938\n",
      "epoch: 2 step: 20, loss is 0.5638844966888428\n",
      "epoch: 2 step: 25, loss is 0.6994693279266357\n",
      "epoch: 2 step: 30, loss is 0.5769085884094238\n",
      "epoch: 2 step: 35, loss is 0.5547184944152832\n",
      "epoch: 2 step: 40, loss is 0.619163453578949\n",
      "epoch: 2 step: 45, loss is 0.612841784954071\n",
      "epoch: 2 step: 50, loss is 0.4432598352432251\n",
      "epoch: 2 step: 55, loss is 0.60825514793396\n",
      "epoch: 2 step: 60, loss is 0.4557846486568451\n",
      "epoch: 2 step: 65, loss is 0.2893221080303192\n",
      "epoch: 2 step: 70, loss is 0.43462347984313965\n",
      "epoch: 2 step: 75, loss is 0.5454443693161011\n",
      "epoch: 2 step: 80, loss is 0.4928651452064514\n",
      "epoch: 3 step: 5, loss is 0.5150728225708008\n",
      "epoch: 3 step: 10, loss is 0.4345265328884125\n",
      "epoch: 3 step: 15, loss is 0.4622695744037628\n",
      "epoch: 3 step: 20, loss is 0.43584856390953064\n",
      "epoch: 3 step: 25, loss is 0.5099753141403198\n",
      "epoch: 3 step: 30, loss is 0.43635180592536926\n",
      "epoch: 3 step: 35, loss is 0.43298280239105225\n",
      "save model, 0.9503105590062112\n",
      "epoch: 3 step: 40, loss is 0.47599416971206665\n",
      "save model, 0.9565217391304348\n",
      "save model, 0.9565217391304348\n",
      "save model, 0.9565217391304348\n",
      "save model, 0.9627329192546584\n",
      "save model, 0.968944099378882\n",
      "epoch: 3 step: 45, loss is 0.47255489230155945\n",
      "save model, 0.968944099378882\n",
      "save model, 0.9751552795031055\n",
      "save model, 0.9813664596273292\n",
      "save model, 0.9937888198757764\n",
      "save model, 1.0\n",
      "epoch: 3 step: 50, loss is 0.3924804925918579\n",
      "save model, 0.9937888198757764\n",
      "save model, 0.9937888198757764\n",
      "save model, 0.9937888198757764\n",
      "save model, 0.9937888198757764\n",
      "save model, 0.9937888198757764\n",
      "epoch: 3 step: 55, loss is 0.4740127921104431\n",
      "save model, 0.9937888198757764\n",
      "save model, 0.9875776397515528\n",
      "save model, 0.9875776397515528\n",
      "save model, 0.9875776397515528\n",
      "save model, 0.9875776397515528\n",
      "epoch: 3 step: 60, loss is 0.3658861517906189\n",
      "save model, 0.9875776397515528\n",
      "save model, 0.9813664596273292\n",
      "save model, 0.9813664596273292\n",
      "save model, 0.9813664596273292\n",
      "save model, 0.9813664596273292\n",
      "epoch: 3 step: 65, loss is 0.26749011874198914\n",
      "save model, 0.9813664596273292\n",
      "save model, 0.9813664596273292\n",
      "save model, 0.9813664596273292\n",
      "save model, 0.9813664596273292\n",
      "save model, 0.9813664596273292\n",
      "epoch: 3 step: 70, loss is 0.41769933700561523\n",
      "save model, 0.9813664596273292\n",
      "save model, 0.9813664596273292\n",
      "save model, 0.9813664596273292\n",
      "save model, 0.9813664596273292\n",
      "save model, 0.9813664596273292\n",
      "epoch: 3 step: 75, loss is 0.41681957244873047\n",
      "save model, 0.9813664596273292\n",
      "save model, 0.9813664596273292\n",
      "save model, 0.9813664596273292\n",
      "save model, 0.9813664596273292\n",
      "save model, 0.9813664596273292\n",
      "epoch: 3 step: 80, loss is 0.4012201428413391\n",
      "save model, 0.9813664596273292\n",
      "save model, 0.9813664596273292\n",
      "save model, 0.9813664596273292\n",
      "save model, 0.9813664596273292\n",
      "save model, 0.9813664596273292\n",
      "epoch: 4 step: 5, loss is 0.40644752979278564\n",
      "save model, 0.9813664596273292\n",
      "save model, 0.9813664596273292\n",
      "save model, 0.9813664596273292\n",
      "save model, 0.9813664596273292\n",
      "save model, 0.9813664596273292\n",
      "epoch: 4 step: 10, loss is 0.36848849058151245\n",
      "save model, 0.9813664596273292\n",
      "save model, 0.9813664596273292\n",
      "save model, 0.9813664596273292\n",
      "save model, 0.9813664596273292\n",
      "save model, 0.9813664596273292\n",
      "epoch: 4 step: 15, loss is 0.4373208284378052\n",
      "save model, 0.9813664596273292\n",
      "save model, 0.9813664596273292\n",
      "save model, 0.9813664596273292\n",
      "save model, 0.9813664596273292\n",
      "save model, 0.9813664596273292\n",
      "epoch: 4 step: 20, loss is 0.39551278948783875\n",
      "save model, 0.9813664596273292\n",
      "save model, 0.9813664596273292\n",
      "save model, 0.9813664596273292\n",
      "save model, 0.9813664596273292\n",
      "save model, 0.9813664596273292\n",
      "epoch: 4 step: 25, loss is 0.4108123481273651\n",
      "save model, 0.9813664596273292\n",
      "save model, 0.9813664596273292\n",
      "save model, 0.9813664596273292\n",
      "save model, 0.9813664596273292\n",
      "save model, 0.9813664596273292\n",
      "epoch: 4 step: 30, loss is 0.3836909532546997\n",
      "save model, 0.9813664596273292\n",
      "save model, 0.9813664596273292\n",
      "save model, 0.9813664596273292\n",
      "save model, 0.9813664596273292\n",
      "save model, 0.9813664596273292\n",
      "epoch: 4 step: 35, loss is 0.39323151111602783\n",
      "save model, 0.9813664596273292\n",
      "save model, 0.9813664596273292\n",
      "save model, 0.9813664596273292\n",
      "save model, 0.9813664596273292\n",
      "save model, 0.9813664596273292\n",
      "epoch: 4 step: 40, loss is 0.41126686334609985\n",
      "save model, 0.9813664596273292\n",
      "save model, 0.9813664596273292\n",
      "save model, 0.9813664596273292\n",
      "save model, 0.9813664596273292\n",
      "save model, 0.9813664596273292\n",
      "epoch: 4 step: 45, loss is 0.40753763914108276\n",
      "save model, 0.9813664596273292\n",
      "save model, 0.9813664596273292\n",
      "save model, 0.9813664596273292\n",
      "save model, 0.9813664596273292\n",
      "save model, 0.9813664596273292\n",
      "epoch: 4 step: 50, loss is 0.39658623933792114\n",
      "save model, 0.9813664596273292\n",
      "save model, 0.9813664596273292\n",
      "save model, 0.9751552795031055\n",
      "save model, 0.9751552795031055\n",
      "save model, 0.9751552795031055\n",
      "epoch: 4 step: 55, loss is 0.4169189929962158\n",
      "save model, 0.9751552795031055\n",
      "save model, 0.9751552795031055\n",
      "save model, 0.9751552795031055\n",
      "save model, 0.9751552795031055\n",
      "save model, 0.9751552795031055\n",
      "epoch: 4 step: 60, loss is 0.3355444669723511\n",
      "save model, 0.9751552795031055\n",
      "save model, 0.9751552795031055\n",
      "save model, 0.9751552795031055\n",
      "save model, 0.968944099378882\n",
      "save model, 0.968944099378882\n",
      "epoch: 4 step: 65, loss is 0.28206807374954224\n",
      "save model, 0.968944099378882\n",
      "save model, 0.968944099378882\n",
      "save model, 0.968944099378882\n",
      "save model, 0.968944099378882\n",
      "save model, 0.968944099378882\n",
      "epoch: 4 step: 70, loss is 0.4323740005493164\n",
      "save model, 0.968944099378882\n",
      "save model, 0.968944099378882\n",
      "save model, 0.968944099378882\n",
      "save model, 0.968944099378882\n",
      "save model, 0.968944099378882\n",
      "epoch: 4 step: 75, loss is 0.3576996624469757\n",
      "save model, 0.968944099378882\n",
      "save model, 0.968944099378882\n",
      "save model, 0.968944099378882\n",
      "save model, 0.968944099378882\n",
      "save model, 0.968944099378882\n",
      "epoch: 4 step: 80, loss is 0.3651171624660492\n",
      "save model, 0.968944099378882\n",
      "qubits 4, used time: 9690\n"
     ]
    }
   ],
   "source": [
    "import time \n",
    "qcnn_4 = qcn.QCNN(qubits=4, learning_rate=0.001, epoch=4, batch=8, opt = False)    #未优化电路\n",
    "qcnn_4_opt = qcn.QCNN(qubits=4, learning_rate=0.001, epoch=4, batch=8, opt = True)  #优化电路\n",
    "\n",
    "t1 = time.time()\n",
    "monitor_4 = qcn.LossMonitor(5)                                                       # 监控训练中的损失，每5步打印一次损失值\n",
    "accu_4 = StepAcc(qcnn_4.model, qcnn_4.test_dataset, qcnn_4.qnet, qubits=4, opt = False)\n",
    "qcnn_4.train(4, callbacks=[monitor_4,accu_4])\n",
    "print('qubits 4, used time: %.f'%(time.time()-t1))"
   ]
  },
  {
   "cell_type": "code",
   "execution_count": 6,
   "id": "24e7141e",
   "metadata": {},
   "outputs": [
    {
     "name": "stdout",
     "output_type": "stream",
     "text": [
      "Load data finished.\n",
      "Extended Data shape: (801, 4), (801,), factor: 10\n"
     ]
    }
   ],
   "source": [
    "import time \n",
    "qcnn_4_opt = qcn.QCNN(qubits=4, learning_rate=0.001, epoch=4, batch=8, opt = True)"
   ]
  },
  {
   "cell_type": "code",
   "execution_count": 28,
   "id": "66a48d53",
   "metadata": {},
   "outputs": [
    {
     "name": "stdout",
     "output_type": "stream",
     "text": [
      "epoch: 1 step: 5, loss is 0.9770815372467041\n",
      "epoch: 1 step: 10, loss is 0.963718056678772\n",
      "epoch: 1 step: 15, loss is 0.8199219107627869\n",
      "epoch: 1 step: 20, loss is 0.8410197496414185\n",
      "epoch: 1 step: 25, loss is 0.9376102685928345\n",
      "epoch: 1 step: 30, loss is 0.8920215368270874\n",
      "epoch: 1 step: 35, loss is 0.8480380177497864\n",
      "epoch: 1 step: 40, loss is 0.8764770030975342\n",
      "epoch: 1 step: 45, loss is 0.8747830986976624\n",
      "epoch: 1 step: 50, loss is 0.7176844477653503\n",
      "epoch: 1 step: 55, loss is 0.8509771227836609\n",
      "epoch: 1 step: 60, loss is 0.7704421281814575\n",
      "epoch: 1 step: 65, loss is 0.6567880511283875\n",
      "epoch: 1 step: 70, loss is 0.6361602544784546\n",
      "epoch: 1 step: 75, loss is 0.8192369937896729\n",
      "epoch: 1 step: 80, loss is 0.7530521750450134\n",
      "epoch: 2 step: 5, loss is 0.7851942181587219\n",
      "epoch: 2 step: 10, loss is 0.6898090839385986\n",
      "epoch: 2 step: 15, loss is 0.6281898617744446\n",
      "epoch: 2 step: 20, loss is 0.6223300099372864\n",
      "epoch: 2 step: 25, loss is 0.7514317035675049\n",
      "epoch: 2 step: 30, loss is 0.6408290266990662\n",
      "epoch: 2 step: 35, loss is 0.6154958009719849\n",
      "epoch: 2 step: 40, loss is 0.6740070581436157\n",
      "epoch: 2 step: 45, loss is 0.6683282852172852\n",
      "epoch: 2 step: 50, loss is 0.4988337457180023\n",
      "epoch: 2 step: 55, loss is 0.6630388498306274\n",
      "epoch: 2 step: 60, loss is 0.519189178943634\n",
      "epoch: 2 step: 65, loss is 0.35462528467178345\n",
      "epoch: 2 step: 70, loss is 0.47573426365852356\n",
      "epoch: 2 step: 75, loss is 0.6079870462417603\n",
      "epoch: 2 step: 80, loss is 0.5502513647079468\n",
      "epoch: 3 step: 5, loss is 0.5766507983207703\n",
      "epoch: 3 step: 10, loss is 0.4878743886947632\n",
      "epoch: 3 step: 15, loss is 0.49683189392089844\n",
      "epoch: 3 step: 20, loss is 0.47583696246147156\n",
      "epoch: 3 step: 25, loss is 0.5691816806793213\n",
      "epoch: 3 step: 30, loss is 0.4809816777706146\n",
      "epoch: 3 step: 35, loss is 0.47336921095848083\n",
      "epoch: 3 step: 40, loss is 0.5240926742553711\n",
      "epoch: 3 step: 45, loss is 0.5212756991386414\n",
      "epoch: 3 step: 50, loss is 0.409865140914917\n",
      "epoch: 3 step: 55, loss is 0.5244706273078918\n",
      "epoch: 3 step: 60, loss is 0.39829328656196594\n",
      "epoch: 3 step: 65, loss is 0.27167508006095886\n",
      "epoch: 3 step: 70, loss is 0.4222660958766937\n",
      "epoch: 3 step: 75, loss is 0.4707028865814209\n",
      "epoch: 3 step: 80, loss is 0.44125089049339294\n",
      "epoch: 4 step: 5, loss is 0.45609626173973083\n",
      "save model, 0.9813664596273292\n",
      "epoch: 4 step: 10, loss is 0.39766454696655273\n",
      "save model, 0.9813664596273292\n",
      "save model, 0.9813664596273292\n",
      "save model, 0.9813664596273292\n",
      "save model, 0.9875776397515528\n",
      "save model, 0.9875776397515528\n",
      "epoch: 4 step: 15, loss is 0.4462343156337738\n",
      "save model, 0.9875776397515528\n",
      "save model, 0.9875776397515528\n",
      "save model, 0.9875776397515528\n",
      "save model, 0.9937888198757764\n",
      "save model, 0.9937888198757764\n",
      "epoch: 4 step: 20, loss is 0.41144660115242004\n",
      "save model, 1.0\n",
      "save model, 1.0\n",
      "save model, 1.0\n",
      "save model, 1.0\n",
      "save model, 0.9937888198757764\n",
      "epoch: 4 step: 25, loss is 0.459909051656723\n",
      "save model, 0.9937888198757764\n",
      "save model, 0.9937888198757764\n",
      "save model, 0.9937888198757764\n",
      "save model, 0.9937888198757764\n",
      "save model, 0.9937888198757764\n",
      "epoch: 4 step: 30, loss is 0.40891823172569275\n",
      "save model, 0.9937888198757764\n",
      "save model, 0.9937888198757764\n",
      "save model, 0.9937888198757764\n",
      "save model, 0.9937888198757764\n",
      "save model, 0.9937888198757764\n",
      "epoch: 4 step: 35, loss is 0.41374558210372925\n",
      "save model, 0.9875776397515528\n",
      "save model, 0.9875776397515528\n",
      "save model, 0.9875776397515528\n",
      "save model, 0.9875776397515528\n",
      "save model, 0.9875776397515528\n",
      "epoch: 4 step: 40, loss is 0.4451057016849518\n",
      "save model, 0.9875776397515528\n",
      "save model, 0.9813664596273292\n",
      "save model, 0.9813664596273292\n",
      "save model, 0.9813664596273292\n",
      "save model, 0.9813664596273292\n",
      "epoch: 4 step: 45, loss is 0.44262081384658813\n",
      "save model, 0.9813664596273292\n",
      "save model, 0.9813664596273292\n",
      "save model, 0.9813664596273292\n",
      "save model, 0.9813664596273292\n",
      "save model, 0.9813664596273292\n",
      "epoch: 4 step: 50, loss is 0.390746533870697\n",
      "save model, 0.9813664596273292\n",
      "save model, 0.9813664596273292\n",
      "save model, 0.9813664596273292\n",
      "save model, 0.9813664596273292\n",
      "save model, 0.9813664596273292\n",
      "epoch: 4 step: 55, loss is 0.4536252021789551\n",
      "save model, 0.9813664596273292\n",
      "save model, 0.9813664596273292\n",
      "save model, 0.9813664596273292\n",
      "save model, 0.9813664596273292\n",
      "save model, 0.9813664596273292\n",
      "epoch: 4 step: 60, loss is 0.3490392863750458\n",
      "save model, 0.9813664596273292\n",
      "save model, 0.9813664596273292\n",
      "save model, 0.9813664596273292\n",
      "save model, 0.9813664596273292\n",
      "save model, 0.9813664596273292\n",
      "epoch: 4 step: 65, loss is 0.26415908336639404\n",
      "save model, 0.9813664596273292\n",
      "save model, 0.9813664596273292\n",
      "save model, 0.9813664596273292\n",
      "save model, 0.9813664596273292\n",
      "save model, 0.9813664596273292\n",
      "epoch: 4 step: 70, loss is 0.41938263177871704\n",
      "save model, 0.9813664596273292\n",
      "save model, 0.9813664596273292\n",
      "save model, 0.9813664596273292\n",
      "save model, 0.9813664596273292\n",
      "save model, 0.9813664596273292\n",
      "epoch: 4 step: 75, loss is 0.39813128113746643\n",
      "save model, 0.9813664596273292\n",
      "save model, 0.9813664596273292\n",
      "save model, 0.9813664596273292\n",
      "save model, 0.9813664596273292\n",
      "save model, 0.9813664596273292\n",
      "epoch: 4 step: 80, loss is 0.39175722002983093\n",
      "save model, 0.9813664596273292\n",
      "qubits 4 optimized, used time: 6830\n"
     ]
    }
   ],
   "source": [
    "t1 = time.time()\n",
    "monitor_4_opt = qcn.LossMonitor(5)                                                       # 监控训练中的损失，每5步打印一次损失值\n",
    "accu_4_opt = StepAcc(qcnn_4_opt.model, qcnn_4_opt.test_dataset, qcnn_4_opt.qnet, qubits=4, opt = True)\n",
    "qcnn_4_opt.train(4, callbacks=[monitor_4_opt,accu_4_opt])\n",
    "print('qubits 4 optimized, used time: %.f'%(time.time()-t1))"
   ]
  },
  {
   "cell_type": "code",
   "execution_count": 29,
   "id": "c0a1142b",
   "metadata": {
    "scrolled": false
   },
   "outputs": [
    {
     "data": {
      "image/png": "[encoded data removed]",
      "text/plain": [
       "<Figure size 864x288 with 2 Axes>"
      ]
     },
     "metadata": {
      "needs_background": "light"
     },
     "output_type": "display_data"
    }
   ],
   "source": [
    "%matplotlib inline\n",
    "import matplotlib.pyplot as plt\n",
    "\n",
    "fig = plt.figure(figsize=(12,4))\n",
    "\n",
    "ax1 = fig.add_subplot(1,2,1)\n",
    "ax1.plot(accu_4.acc, label='4-qubits')\n",
    "ax1.plot(accu_4_opt.acc[:len(accu_4.acc)], label='4-qubits optimized')\n",
    "# ax1.title('Statistics of accuracy for 4 qubits', fontsize=18)\n",
    "ax1.set_title('Statistics of accuracy for 4 qubits', fontsize=18)\n",
    "ax1.set_xlabel('Steps', fontsize=18)\n",
    "ax1.set_ylabel('Accuracy', fontsize=18)\n",
    "ax1.grid(ls=\":\",c='b')\n",
    "ax1.legend()\n",
    "\n",
    "monitor_4._loss = np.array(monitor_4._loss)\n",
    "monitor_4_opt._loss = np.array(monitor_4_opt._loss)\n",
    "ax2 = fig.add_subplot(1,2,2)\n",
    "ax2.plot(monitor_4._loss[:,0],monitor_4._loss[:,1], label='4-qubits')\n",
    "ax2.plot(monitor_4_opt._loss[:,0], monitor_4_opt._loss[:,1], label='4-qubits optimized')\n",
    "ax2.set_title('Statistics of loss for 4 qubits', fontsize=18)\n",
    "ax2.set_xlabel('Steps', fontsize=18)\n",
    "ax2.set_ylabel('Loss', fontsize=18)\n",
    "ax2.grid(ls=\":\",c='b')\n",
    "ax2.legend()\n",
    "plt.show()"
   ]
  },
  {
   "cell_type": "markdown",
   "id": "8a787972",
   "metadata": {},
   "source": [
    "#### 8比特训练结果"
   ]
  },
  {
   "cell_type": "code",
   "execution_count": 35,
   "id": "911d46ea",
   "metadata": {
    "scrolled": true
   },
   "outputs": [
    {
     "name": "stdout",
     "output_type": "stream",
     "text": [
      "Load data finished.\n",
      "Extended Data shape: (801, 8), (801,), factor: 10\n",
      "Load data finished.\n",
      "Extended Data shape: (801, 8), (801,), factor: 10\n",
      "epoch: 1 step: 5, loss is 0.8344307541847229\n",
      "epoch: 1 step: 10, loss is 0.7263666391372681\n",
      "epoch: 1 step: 15, loss is 0.6430383920669556\n",
      "epoch: 1 step: 20, loss is 0.6363404989242554\n",
      "epoch: 1 step: 25, loss is 0.6507018804550171\n",
      "epoch: 1 step: 30, loss is 0.6082902550697327\n",
      "epoch: 1 step: 35, loss is 0.56685471534729\n",
      "epoch: 1 step: 40, loss is 0.5623493194580078\n",
      "save model, 0.9503105590062112\n",
      "save model, 0.9627329192546584\n",
      "save model, 0.968944099378882\n",
      "epoch: 1 step: 45, loss is 0.5552025437355042\n",
      "save model, 0.9813664596273292\n",
      "save model, 1.0\n",
      "save model, 0.9937888198757764\n",
      "save model, 0.9937888198757764\n",
      "save model, 0.9875776397515528\n",
      "epoch: 1 step: 50, loss is 0.5284156799316406\n",
      "save model, 0.9813664596273292\n",
      "save model, 0.9813664596273292\n",
      "save model, 0.9813664596273292\n",
      "save model, 0.9813664596273292\n",
      "save model, 0.9813664596273292\n",
      "epoch: 1 step: 55, loss is 0.41830259561538696\n",
      "save model, 0.9813664596273292\n",
      "save model, 0.9813664596273292\n",
      "save model, 0.9813664596273292\n",
      "save model, 0.9813664596273292\n",
      "save model, 0.9813664596273292\n",
      "epoch: 1 step: 60, loss is 0.5304096341133118\n",
      "save model, 0.9813664596273292\n",
      "save model, 0.9813664596273292\n",
      "save model, 0.9813664596273292\n",
      "save model, 0.9813664596273292\n",
      "save model, 0.9813664596273292\n",
      "epoch: 1 step: 65, loss is 0.5823697447776794\n",
      "save model, 0.9813664596273292\n",
      "save model, 0.9813664596273292\n",
      "save model, 0.9813664596273292\n",
      "save model, 0.9813664596273292\n",
      "save model, 0.9813664596273292\n",
      "epoch: 1 step: 70, loss is 0.4954124987125397\n",
      "save model, 0.9813664596273292\n",
      "save model, 0.9813664596273292\n",
      "save model, 0.9813664596273292\n",
      "save model, 0.9813664596273292\n",
      "save model, 0.9875776397515528\n",
      "epoch: 1 step: 75, loss is 0.3676842451095581\n",
      "save model, 0.9875776397515528\n",
      "save model, 0.9875776397515528\n",
      "save model, 0.9875776397515528\n",
      "save model, 0.9875776397515528\n",
      "save model, 0.9813664596273292\n",
      "epoch: 1 step: 80, loss is 0.379771888256073\n",
      "save model, 0.9813664596273292\n",
      "save model, 0.9813664596273292\n",
      "save model, 0.9813664596273292\n",
      "save model, 0.9813664596273292\n",
      "save model, 0.9875776397515528\n",
      "epoch: 2 step: 5, loss is 0.34051913022994995\n",
      "save model, 0.9875776397515528\n",
      "save model, 0.9875776397515528\n",
      "save model, 0.9875776397515528\n",
      "save model, 0.9937888198757764\n",
      "save model, 0.9937888198757764\n",
      "epoch: 2 step: 10, loss is 0.4109523296356201\n",
      "save model, 0.9937888198757764\n",
      "save model, 0.9937888198757764\n",
      "save model, 1.0\n",
      "save model, 0.9875776397515528\n",
      "save model, 0.9751552795031055\n",
      "epoch: 2 step: 15, loss is 0.45626309514045715\n",
      "save model, 0.9751552795031055\n",
      "save model, 0.9751552795031055\n",
      "save model, 0.968944099378882\n",
      "save model, 0.9751552795031055\n",
      "save model, 0.9875776397515528\n",
      "epoch: 2 step: 20, loss is 0.48697757720947266\n",
      "save model, 1.0\n",
      "save model, 0.9937888198757764\n",
      "save model, 0.9937888198757764\n",
      "save model, 0.9937888198757764\n",
      "save model, 0.9875776397515528\n",
      "epoch: 2 step: 25, loss is 0.37089815735816956\n",
      "save model, 0.9813664596273292\n",
      "save model, 0.9813664596273292\n",
      "save model, 0.9813664596273292\n",
      "save model, 0.9813664596273292\n",
      "save model, 0.9813664596273292\n",
      "epoch: 2 step: 30, loss is 0.42332103848457336\n",
      "save model, 0.9813664596273292\n",
      "save model, 0.9813664596273292\n",
      "save model, 0.9813664596273292\n",
      "save model, 0.9813664596273292\n",
      "save model, 0.9813664596273292\n",
      "epoch: 2 step: 35, loss is 0.41078367829322815\n",
      "save model, 0.9813664596273292\n",
      "save model, 0.9813664596273292\n",
      "save model, 0.9813664596273292\n",
      "save model, 0.9813664596273292\n",
      "save model, 0.9813664596273292\n",
      "epoch: 2 step: 40, loss is 0.39390432834625244\n",
      "save model, 0.9813664596273292\n",
      "save model, 0.9813664596273292\n",
      "save model, 0.9813664596273292\n",
      "save model, 0.9813664596273292\n",
      "save model, 0.9813664596273292\n",
      "epoch: 2 step: 45, loss is 0.40223097801208496\n",
      "save model, 0.9813664596273292\n",
      "save model, 0.9813664596273292\n",
      "save model, 0.9813664596273292\n",
      "save model, 0.9813664596273292\n",
      "save model, 0.9813664596273292\n",
      "epoch: 2 step: 50, loss is 0.46501368284225464\n",
      "save model, 0.9813664596273292\n",
      "save model, 0.9751552795031055\n",
      "save model, 0.9751552795031055\n",
      "save model, 0.9751552795031055\n",
      "save model, 0.9813664596273292\n",
      "epoch: 2 step: 55, loss is 0.3448699116706848\n",
      "save model, 0.9813664596273292\n",
      "save model, 0.9813664596273292\n",
      "save model, 0.9813664596273292\n",
      "save model, 0.9813664596273292\n",
      "save model, 0.9813664596273292\n",
      "epoch: 2 step: 60, loss is 0.41094839572906494\n",
      "save model, 0.9813664596273292\n",
      "save model, 0.9813664596273292\n",
      "save model, 0.9813664596273292\n",
      "save model, 0.9813664596273292\n",
      "save model, 0.9813664596273292\n",
      "epoch: 2 step: 65, loss is 0.47692885994911194\n",
      "save model, 0.9813664596273292\n",
      "save model, 0.9813664596273292\n",
      "save model, 0.9813664596273292\n",
      "save model, 0.9813664596273292\n",
      "save model, 0.9813664596273292\n",
      "epoch: 2 step: 70, loss is 0.4256684184074402\n",
      "save model, 0.9813664596273292\n",
      "save model, 0.9813664596273292\n",
      "save model, 0.9813664596273292\n",
      "save model, 0.9813664596273292\n",
      "save model, 0.9813664596273292\n",
      "epoch: 2 step: 75, loss is 0.2882818877696991\n",
      "save model, 0.9813664596273292\n",
      "save model, 0.9813664596273292\n",
      "save model, 0.9813664596273292\n",
      "save model, 0.9813664596273292\n",
      "save model, 0.9813664596273292\n",
      "epoch: 2 step: 80, loss is 0.33108076453208923\n",
      "save model, 0.9813664596273292\n",
      "save model, 0.9813664596273292\n",
      "save model, 0.9813664596273292\n",
      "save model, 0.9813664596273292\n",
      "save model, 0.9813664596273292\n",
      "epoch: 3 step: 5, loss is 0.3095441162586212\n",
      "save model, 0.9813664596273292\n",
      "save model, 0.9813664596273292\n",
      "save model, 0.9813664596273292\n",
      "save model, 0.9813664596273292\n",
      "save model, 0.9813664596273292\n",
      "epoch: 3 step: 10, loss is 0.3604637086391449\n",
      "save model, 0.9813664596273292\n",
      "save model, 0.9813664596273292\n",
      "save model, 0.9813664596273292\n",
      "save model, 0.9875776397515528\n",
      "save model, 0.9937888198757764\n",
      "epoch: 3 step: 15, loss is 0.3552210330963135\n",
      "save model, 0.9937888198757764\n",
      "save model, 0.9937888198757764\n",
      "save model, 0.9937888198757764\n",
      "save model, 0.9937888198757764\n",
      "save model, 0.9937888198757764\n",
      "epoch: 3 step: 20, loss is 0.3556104600429535\n",
      "save model, 0.9937888198757764\n",
      "save model, 0.9937888198757764\n",
      "save model, 0.9937888198757764\n",
      "save model, 0.9875776397515528\n",
      "save model, 0.9813664596273292\n",
      "epoch: 3 step: 25, loss is 0.2941669225692749\n",
      "save model, 0.9813664596273292\n",
      "save model, 0.9813664596273292\n",
      "save model, 0.9813664596273292\n",
      "save model, 0.9813664596273292\n",
      "save model, 0.9813664596273292\n",
      "epoch: 3 step: 30, loss is 0.36029067635536194\n",
      "save model, 0.9813664596273292\n",
      "save model, 0.9813664596273292\n",
      "save model, 0.9813664596273292\n",
      "save model, 0.9813664596273292\n",
      "save model, 0.9813664596273292\n",
      "epoch: 3 step: 35, loss is 0.36773884296417236\n",
      "save model, 0.9813664596273292\n",
      "save model, 0.9813664596273292\n",
      "save model, 0.9813664596273292\n",
      "save model, 0.9813664596273292\n",
      "save model, 0.9813664596273292\n",
      "epoch: 3 step: 40, loss is 0.31925705075263977\n",
      "save model, 0.9813664596273292\n",
      "save model, 0.9813664596273292\n",
      "save model, 0.9813664596273292\n",
      "save model, 0.9813664596273292\n",
      "save model, 0.9813664596273292\n",
      "epoch: 3 step: 45, loss is 0.32880932092666626\n",
      "save model, 0.9813664596273292\n",
      "save model, 0.9813664596273292\n",
      "save model, 0.9813664596273292\n",
      "save model, 0.9813664596273292\n",
      "save model, 0.9813664596273292\n",
      "epoch: 3 step: 50, loss is 0.3738291263580322\n",
      "save model, 0.9813664596273292\n",
      "save model, 0.9813664596273292\n",
      "save model, 0.9813664596273292\n",
      "save model, 0.9813664596273292\n",
      "save model, 0.9813664596273292\n",
      "epoch: 3 step: 55, loss is 0.32420629262924194\n",
      "save model, 0.9813664596273292\n",
      "save model, 0.9813664596273292\n",
      "save model, 0.9813664596273292\n",
      "save model, 0.9813664596273292\n",
      "save model, 0.9813664596273292\n",
      "epoch: 3 step: 60, loss is 0.3243277370929718\n",
      "save model, 0.9813664596273292\n",
      "save model, 0.9813664596273292\n",
      "save model, 0.9813664596273292\n",
      "save model, 0.9813664596273292\n",
      "save model, 0.9813664596273292\n",
      "epoch: 3 step: 65, loss is 0.3734697997570038\n",
      "save model, 0.9813664596273292\n",
      "save model, 0.9813664596273292\n",
      "save model, 0.9813664596273292\n",
      "save model, 0.9813664596273292\n",
      "save model, 0.9813664596273292\n",
      "epoch: 3 step: 70, loss is 0.354330450296402\n",
      "save model, 0.9813664596273292\n",
      "save model, 0.9813664596273292\n",
      "save model, 0.9813664596273292\n",
      "save model, 0.9813664596273292\n",
      "save model, 0.9813664596273292\n"
     ]
    },
    {
     "name": "stdout",
     "output_type": "stream",
     "text": [
      "epoch: 3 step: 75, loss is 0.26593244075775146\n",
      "save model, 0.9813664596273292\n",
      "save model, 0.9813664596273292\n",
      "save model, 0.9813664596273292\n",
      "save model, 0.9813664596273292\n",
      "save model, 0.9813664596273292\n",
      "epoch: 3 step: 80, loss is 0.3076016306877136\n",
      "save model, 0.9813664596273292\n",
      "save model, 0.9813664596273292\n",
      "save model, 0.9813664596273292\n",
      "save model, 0.9813664596273292\n",
      "save model, 0.9813664596273292\n",
      "epoch: 4 step: 5, loss is 0.2911494970321655\n",
      "save model, 0.9813664596273292\n",
      "save model, 0.9813664596273292\n",
      "save model, 0.9813664596273292\n",
      "save model, 0.9813664596273292\n",
      "save model, 0.9813664596273292\n",
      "epoch: 4 step: 10, loss is 0.32503393292427063\n",
      "save model, 0.9875776397515528\n",
      "save model, 0.9875776397515528\n",
      "save model, 0.9937888198757764\n",
      "save model, 0.9937888198757764\n",
      "save model, 0.9937888198757764\n",
      "epoch: 4 step: 15, loss is 0.32270875573158264\n",
      "save model, 0.9937888198757764\n",
      "save model, 1.0\n",
      "save model, 0.9937888198757764\n",
      "save model, 1.0\n",
      "save model, 1.0\n",
      "epoch: 4 step: 20, loss is 0.3274041414260864\n",
      "save model, 0.9937888198757764\n",
      "save model, 0.9937888198757764\n",
      "save model, 0.9937888198757764\n",
      "save model, 0.9937888198757764\n",
      "save model, 0.9937888198757764\n",
      "epoch: 4 step: 25, loss is 0.27913060784339905\n",
      "save model, 0.9875776397515528\n",
      "save model, 0.9813664596273292\n",
      "save model, 0.9813664596273292\n",
      "save model, 0.9813664596273292\n",
      "save model, 0.9813664596273292\n",
      "epoch: 4 step: 30, loss is 0.3325608968734741\n",
      "save model, 0.9813664596273292\n",
      "save model, 0.9813664596273292\n",
      "save model, 0.9813664596273292\n",
      "save model, 0.9813664596273292\n",
      "save model, 0.9813664596273292\n",
      "epoch: 4 step: 35, loss is 0.3433407247066498\n",
      "save model, 0.9813664596273292\n",
      "save model, 0.9813664596273292\n",
      "save model, 0.9813664596273292\n",
      "save model, 0.9813664596273292\n",
      "save model, 0.9813664596273292\n",
      "epoch: 4 step: 40, loss is 0.3001948297023773\n",
      "save model, 0.9813664596273292\n",
      "save model, 0.9813664596273292\n",
      "save model, 0.9813664596273292\n",
      "save model, 0.9813664596273292\n",
      "save model, 0.9813664596273292\n",
      "epoch: 4 step: 45, loss is 0.3101998567581177\n",
      "save model, 0.9813664596273292\n",
      "save model, 0.9813664596273292\n",
      "save model, 0.9813664596273292\n",
      "save model, 0.9813664596273292\n",
      "save model, 0.9813664596273292\n",
      "epoch: 4 step: 50, loss is 0.3389233350753784\n",
      "save model, 0.9813664596273292\n",
      "save model, 0.9813664596273292\n",
      "save model, 0.9813664596273292\n",
      "save model, 0.9813664596273292\n",
      "save model, 0.9813664596273292\n",
      "epoch: 4 step: 55, loss is 0.3138630986213684\n",
      "save model, 0.9813664596273292\n",
      "save model, 0.9813664596273292\n",
      "save model, 0.9813664596273292\n",
      "save model, 0.9813664596273292\n",
      "save model, 0.9813664596273292\n",
      "epoch: 4 step: 60, loss is 0.29007992148399353\n",
      "save model, 0.9813664596273292\n",
      "save model, 0.9813664596273292\n",
      "save model, 0.9813664596273292\n",
      "save model, 0.9813664596273292\n",
      "save model, 0.9813664596273292\n",
      "epoch: 4 step: 65, loss is 0.31958597898483276\n",
      "save model, 0.9813664596273292\n",
      "save model, 0.9813664596273292\n",
      "save model, 0.9813664596273292\n",
      "save model, 0.9813664596273292\n",
      "save model, 0.9813664596273292\n",
      "epoch: 4 step: 70, loss is 0.3291531801223755\n",
      "save model, 0.9813664596273292\n",
      "save model, 0.9813664596273292\n",
      "save model, 0.9813664596273292\n",
      "save model, 0.9813664596273292\n",
      "save model, 0.9813664596273292\n",
      "epoch: 4 step: 75, loss is 0.2518254518508911\n",
      "save model, 0.9813664596273292\n",
      "save model, 0.9813664596273292\n",
      "save model, 0.9813664596273292\n",
      "save model, 0.9813664596273292\n",
      "save model, 0.9813664596273292\n",
      "epoch: 4 step: 80, loss is 0.2908155620098114\n",
      "save model, 0.9813664596273292\n",
      "qubits 8, used time: 25370\n"
     ]
    }
   ],
   "source": [
    "qcnn_8 = qcn.QCNN(qubits=8, learning_rate=0.005, epoch=4, batch=8, opt = False)    #未优化电路\n",
    "qcnn_8_opt = qcn.QCNN(qubits=8, learning_rate=0.005, epoch=4, batch=8, opt = True)  #优化电路\n",
    "\n",
    "t1 = time.time()\n",
    "monitor_8 = qcn.LossMonitor(5)                                                       # 监控训练中的损失，每5步打印一次损失值\n",
    "accu_8 = StepAcc(qcnn_8.model, qcnn_8.test_dataset, qcnn_8.qnet, qubits=8, opt = False)\n",
    "qcnn_8.train(4, callbacks=[monitor_8,accu_8])\n",
    "print('qubits 8, used time: %.f'%(time.time()-t1))"
   ]
  },
  {
   "cell_type": "code",
   "execution_count": 41,
   "id": "6bb585d7",
   "metadata": {},
   "outputs": [
    {
     "name": "stdout",
     "output_type": "stream",
     "text": [
      "epoch: 1 step: 5, loss is 0.7938011884689331\n",
      "epoch: 1 step: 10, loss is 0.7072275280952454\n",
      "epoch: 1 step: 15, loss is 0.6390260457992554\n",
      "epoch: 1 step: 20, loss is 0.6446629762649536\n",
      "epoch: 1 step: 25, loss is 0.6604207158088684\n",
      "epoch: 1 step: 30, loss is 0.6284155249595642\n",
      "epoch: 1 step: 35, loss is 0.5838932991027832\n",
      "epoch: 1 step: 40, loss is 0.59130859375\n",
      "epoch: 1 step: 45, loss is 0.5909777283668518\n",
      "epoch: 1 step: 50, loss is 0.5051022171974182\n",
      "epoch: 1 step: 55, loss is 0.4714616537094116\n",
      "epoch: 1 step: 60, loss is 0.5282713770866394\n",
      "epoch: 1 step: 65, loss is 0.5352057814598083\n",
      "epoch: 1 step: 70, loss is 0.4455181658267975\n",
      "epoch: 1 step: 75, loss is 0.4005580544471741\n",
      "epoch: 1 step: 80, loss is 0.39643484354019165\n",
      "epoch: 2 step: 5, loss is 0.37007206678390503\n"
     ]
    },
    {
     "name": "stderr",
     "output_type": "stream",
     "text": [
      "[WARNING] MD(19046,7f68cf7fe700,python):2022-06-19-16:30:43.020.544 [mindspore/ccsrc/minddata/dataset/engine/datasetops/batch_op.cc:135] operator()] Memory consumption is more than 80.0163%, which may cause oom error. Please reduce num_parallel_workers size / optimize 'per_batch_map' function / other python data preprocess function to reduce memory usage.\n",
      "[WARNING] MD(19046,7f6fee724700,python):2022-06-19-16:31:32.384.110 [mindspore/ccsrc/minddata/dataset/engine/datasetops/batch_op.cc:135] operator()] Memory consumption is more than 80.0341%, which may cause oom error. Please reduce num_parallel_workers size / optimize 'per_batch_map' function / other python data preprocess function to reduce memory usage.\n"
     ]
    },
    {
     "name": "stdout",
     "output_type": "stream",
     "text": [
      "epoch: 2 step: 10, loss is 0.41782835125923157\n"
     ]
    },
    {
     "name": "stderr",
     "output_type": "stream",
     "text": [
      "[WARNING] MD(19046,7f6fee724700,python):2022-06-19-16:32:22.292.074 [mindspore/ccsrc/minddata/dataset/engine/datasetops/batch_op.cc:135] operator()] Memory consumption is more than 80.062%, which may cause oom error. Please reduce num_parallel_workers size / optimize 'per_batch_map' function / other python data preprocess function to reduce memory usage.\n",
      "[WARNING] MD(19046,7f6ffaf3d700,python):2022-06-19-16:33:09.530.692 [mindspore/ccsrc/minddata/dataset/engine/datasetops/batch_op.cc:135] operator()] Memory consumption is more than 80.1062%, which may cause oom error. Please reduce num_parallel_workers size / optimize 'per_batch_map' function / other python data preprocess function to reduce memory usage.\n",
      "[WARNING] MD(19046,7f677affd700,python):2022-06-19-16:34:01.439.453 [mindspore/ccsrc/minddata/dataset/engine/datasetops/batch_op.cc:135] operator()] Memory consumption is more than 80.1325%, which may cause oom error. Please reduce num_parallel_workers size / optimize 'per_batch_map' function / other python data preprocess function to reduce memory usage.\n",
      "[WARNING] MD(19046,7f6faffff700,python):2022-06-19-16:34:51.712.575 [mindspore/ccsrc/minddata/dataset/engine/datasetops/batch_op.cc:135] operator()] Memory consumption is more than 80.201%, which may cause oom error. Please reduce num_parallel_workers size / optimize 'per_batch_map' function / other python data preprocess function to reduce memory usage.\n"
     ]
    },
    {
     "name": "stdout",
     "output_type": "stream",
     "text": [
      "epoch: 2 step: 15, loss is 0.4119824767112732\n",
      "epoch: 2 step: 20, loss is 0.4544089734554291\n",
      "epoch: 2 step: 25, loss is 0.387177973985672\n",
      "epoch: 2 step: 30, loss is 0.43103575706481934\n",
      "epoch: 2 step: 35, loss is 0.4012446105480194\n",
      "epoch: 2 step: 40, loss is 0.4102359116077423\n"
     ]
    },
    {
     "name": "stderr",
     "output_type": "stream",
     "text": [
      "[WARNING] MD(19046,7f6fecf21700,python):2022-06-19-17:00:29.332.763 [mindspore/ccsrc/minddata/dataset/engine/datasetops/batch_op.cc:135] operator()] Memory consumption is more than 80.0297%, which may cause oom error. Please reduce num_parallel_workers size / optimize 'per_batch_map' function / other python data preprocess function to reduce memory usage.\n"
     ]
    },
    {
     "name": "stdout",
     "output_type": "stream",
     "text": [
      "epoch: 2 step: 45, loss is 0.43411725759506226\n"
     ]
    },
    {
     "name": "stderr",
     "output_type": "stream",
     "text": [
      "[WARNING] MD(19046,7f6feef25700,python):2022-06-19-17:01:18.734.699 [mindspore/ccsrc/minddata/dataset/engine/datasetops/batch_op.cc:135] operator()] Memory consumption is more than 80.0691%, which may cause oom error. Please reduce num_parallel_workers size / optimize 'per_batch_map' function / other python data preprocess function to reduce memory usage.\n",
      "[WARNING] MD(19046,7f6feef25700,python):2022-06-19-17:02:05.652.707 [mindspore/ccsrc/minddata/dataset/engine/datasetops/batch_op.cc:135] operator()] Memory consumption is more than 80.0997%, which may cause oom error. Please reduce num_parallel_workers size / optimize 'per_batch_map' function / other python data preprocess function to reduce memory usage.\n"
     ]
    },
    {
     "name": "stdout",
     "output_type": "stream",
     "text": [
      "save model, 0.9875776397515528\n"
     ]
    },
    {
     "name": "stderr",
     "output_type": "stream",
     "text": [
      "[WARNING] MD(19046,7f6fed722700,python):2022-06-19-17:02:54.945.441 [mindspore/ccsrc/minddata/dataset/engine/datasetops/batch_op.cc:135] operator()] Memory consumption is more than 80.1496%, which may cause oom error. Please reduce num_parallel_workers size / optimize 'per_batch_map' function / other python data preprocess function to reduce memory usage.\n"
     ]
    },
    {
     "name": "stdout",
     "output_type": "stream",
     "text": [
      "save model, 1.0\n"
     ]
    },
    {
     "name": "stderr",
     "output_type": "stream",
     "text": [
      "[WARNING] MD(19046,7f6ffbf3f700,python):2022-06-19-17:03:35.163.728 [mindspore/ccsrc/minddata/dataset/engine/datasetops/batch_op.cc:135] operator()] Memory consumption is more than 80.1504%, which may cause oom error. Please reduce num_parallel_workers size / optimize 'per_batch_map' function / other python data preprocess function to reduce memory usage.\n",
      "[WARNING] MD(19046,7f6b1d7fa700,python):2022-06-19-17:03:46.609.197 [mindspore/ccsrc/minddata/dataset/engine/datasetops/batch_op.cc:135] operator()] Memory consumption is more than 80.1784%, which may cause oom error. Please reduce num_parallel_workers size / optimize 'per_batch_map' function / other python data preprocess function to reduce memory usage.\n"
     ]
    },
    {
     "name": "stdout",
     "output_type": "stream",
     "text": [
      "save model, 0.9937888198757764\n"
     ]
    },
    {
     "name": "stderr",
     "output_type": "stream",
     "text": [
      "[WARNING] MD(19046,7f6feef25700,python):2022-06-19-17:04:35.817.387 [mindspore/ccsrc/minddata/dataset/engine/datasetops/batch_op.cc:135] operator()] Memory consumption is more than 80.2124%, which may cause oom error. Please reduce num_parallel_workers size / optimize 'per_batch_map' function / other python data preprocess function to reduce memory usage.\n"
     ]
    },
    {
     "name": "stdout",
     "output_type": "stream",
     "text": [
      "save model, 0.9937888198757764\n",
      "epoch: 2 step: 50, loss is 0.4051733613014221\n"
     ]
    },
    {
     "name": "stderr",
     "output_type": "stream",
     "text": [
      "[WARNING] MD(19046,7f6fed722700,python):2022-06-19-17:05:25.110.955 [mindspore/ccsrc/minddata/dataset/engine/datasetops/batch_op.cc:135] operator()] Memory consumption is more than 80.2484%, which may cause oom error. Please reduce num_parallel_workers size / optimize 'per_batch_map' function / other python data preprocess function to reduce memory usage.\n"
     ]
    },
    {
     "name": "stdout",
     "output_type": "stream",
     "text": [
      "save model, 0.9937888198757764\n"
     ]
    },
    {
     "name": "stderr",
     "output_type": "stream",
     "text": [
      "[WARNING] MD(19046,7f6fee724700,python):2022-06-19-17:06:14.674.846 [mindspore/ccsrc/minddata/dataset/engine/datasetops/batch_op.cc:135] operator()] Memory consumption is more than 80.2957%, which may cause oom error. Please reduce num_parallel_workers size / optimize 'per_batch_map' function / other python data preprocess function to reduce memory usage.\n"
     ]
    },
    {
     "name": "stdout",
     "output_type": "stream",
     "text": [
      "save model, 0.9937888198757764\n"
     ]
    },
    {
     "name": "stderr",
     "output_type": "stream",
     "text": [
      "[WARNING] MD(19046,7f6f48fe8700,python):2022-06-19-17:07:04.173.417 [mindspore/ccsrc/minddata/dataset/engine/datasetops/batch_op.cc:135] operator()] Memory consumption is more than 80.3236%, which may cause oom error. Please reduce num_parallel_workers size / optimize 'per_batch_map' function / other python data preprocess function to reduce memory usage.\n"
     ]
    },
    {
     "name": "stdout",
     "output_type": "stream",
     "text": [
      "save model, 0.9937888198757764\n"
     ]
    },
    {
     "name": "stderr",
     "output_type": "stream",
     "text": [
      "[WARNING] MD(19046,7f67e67fc700,python):2022-06-19-17:07:53.376.653 [mindspore/ccsrc/minddata/dataset/engine/datasetops/batch_op.cc:135] operator()] Memory consumption is more than 80.3654%, which may cause oom error. Please reduce num_parallel_workers size / optimize 'per_batch_map' function / other python data preprocess function to reduce memory usage.\n"
     ]
    },
    {
     "name": "stdout",
     "output_type": "stream",
     "text": [
      "save model, 0.9937888198757764\n"
     ]
    },
    {
     "name": "stderr",
     "output_type": "stream",
     "text": [
      "[WARNING] MD(19046,7f69d2ffd700,python):2022-06-19-17:08:42.506.573 [mindspore/ccsrc/minddata/dataset/engine/datasetops/batch_op.cc:135] operator()] Memory consumption is more than 80.4082%, which may cause oom error. Please reduce num_parallel_workers size / optimize 'per_batch_map' function / other python data preprocess function to reduce memory usage.\n"
     ]
    },
    {
     "name": "stdout",
     "output_type": "stream",
     "text": [
      "save model, 0.9937888198757764\n",
      "epoch: 2 step: 55, loss is 0.34989893436431885\n"
     ]
    },
    {
     "name": "stderr",
     "output_type": "stream",
     "text": [
      "[WARNING] MD(19046,7f6fee724700,python):2022-06-19-17:09:32.742.955 [mindspore/ccsrc/minddata/dataset/engine/datasetops/batch_op.cc:135] operator()] Memory consumption is more than 80.4348%, which may cause oom error. Please reduce num_parallel_workers size / optimize 'per_batch_map' function / other python data preprocess function to reduce memory usage.\n"
     ]
    },
    {
     "name": "stdout",
     "output_type": "stream",
     "text": [
      "save model, 0.9937888198757764\n"
     ]
    },
    {
     "name": "stderr",
     "output_type": "stream",
     "text": [
      "[WARNING] MD(19046,7f67c97fa700,python):2022-06-19-17:10:23.000.924 [mindspore/ccsrc/minddata/dataset/engine/datasetops/batch_op.cc:135] operator()] Memory consumption is more than 80.4634%, which may cause oom error. Please reduce num_parallel_workers size / optimize 'per_batch_map' function / other python data preprocess function to reduce memory usage.\n"
     ]
    },
    {
     "name": "stdout",
     "output_type": "stream",
     "text": [
      "save model, 0.9937888198757764\n"
     ]
    },
    {
     "name": "stderr",
     "output_type": "stream",
     "text": [
      "[WARNING] MD(19046,7f6fef726700,python):2022-06-19-17:11:12.538.125 [mindspore/ccsrc/minddata/dataset/engine/datasetops/batch_op.cc:135] operator()] Memory consumption is more than 80.5106%, which may cause oom error. Please reduce num_parallel_workers size / optimize 'per_batch_map' function / other python data preprocess function to reduce memory usage.\n"
     ]
    },
    {
     "name": "stdout",
     "output_type": "stream",
     "text": [
      "save model, 0.9937888198757764\n"
     ]
    },
    {
     "name": "stderr",
     "output_type": "stream",
     "text": [
      "[WARNING] MD(19046,7f6b9dffb700,python):2022-06-19-17:12:02.212.919 [mindspore/ccsrc/minddata/dataset/engine/datasetops/batch_op.cc:135] operator()] Memory consumption is more than 80.5457%, which may cause oom error. Please reduce num_parallel_workers size / optimize 'per_batch_map' function / other python data preprocess function to reduce memory usage.\n"
     ]
    },
    {
     "name": "stdout",
     "output_type": "stream",
     "text": [
      "save model, 0.9937888198757764\n"
     ]
    },
    {
     "name": "stderr",
     "output_type": "stream",
     "text": [
      "[WARNING] MD(19046,7f6b9d7fa700,python):2022-06-19-17:12:51.624.429 [mindspore/ccsrc/minddata/dataset/engine/datasetops/batch_op.cc:135] operator()] Memory consumption is more than 80.5866%, which may cause oom error. Please reduce num_parallel_workers size / optimize 'per_batch_map' function / other python data preprocess function to reduce memory usage.\n"
     ]
    },
    {
     "name": "stdout",
     "output_type": "stream",
     "text": [
      "save model, 0.9937888198757764\n",
      "epoch: 2 step: 60, loss is 0.42159706354141235\n"
     ]
    },
    {
     "name": "stderr",
     "output_type": "stream",
     "text": [
      "[WARNING] MD(19046,7f6f49fea700,python):2022-06-19-17:13:38.612.464 [mindspore/ccsrc/minddata/dataset/engine/datasetops/batch_op.cc:135] operator()] Memory consumption is more than 80.6088%, which may cause oom error. Please reduce num_parallel_workers size / optimize 'per_batch_map' function / other python data preprocess function to reduce memory usage.\n"
     ]
    },
    {
     "name": "stdout",
     "output_type": "stream",
     "text": [
      "save model, 0.9937888198757764\n"
     ]
    },
    {
     "name": "stderr",
     "output_type": "stream",
     "text": [
      "[WARNING] MD(19046,7f6fd77fe700,python):2022-06-19-17:14:31.013.699 [mindspore/ccsrc/minddata/dataset/engine/datasetops/batch_op.cc:135] operator()] Memory consumption is more than 80.6579%, which may cause oom error. Please reduce num_parallel_workers size / optimize 'per_batch_map' function / other python data preprocess function to reduce memory usage.\n"
     ]
    },
    {
     "name": "stdout",
     "output_type": "stream",
     "text": [
      "save model, 0.9875776397515528\n"
     ]
    },
    {
     "name": "stderr",
     "output_type": "stream",
     "text": [
      "[WARNING] MD(19046,7f6ffaf3d700,python):2022-06-19-17:15:20.667.483 [mindspore/ccsrc/minddata/dataset/engine/datasetops/batch_op.cc:135] operator()] Memory consumption is more than 80.6928%, which may cause oom error. Please reduce num_parallel_workers size / optimize 'per_batch_map' function / other python data preprocess function to reduce memory usage.\n"
     ]
    },
    {
     "name": "stdout",
     "output_type": "stream",
     "text": [
      "save model, 0.9875776397515528\n"
     ]
    },
    {
     "name": "stderr",
     "output_type": "stream",
     "text": [
      "[WARNING] MD(19046,7f6b9e7fc700,python):2022-06-19-17:16:10.301.439 [mindspore/ccsrc/minddata/dataset/engine/datasetops/batch_op.cc:135] operator()] Memory consumption is more than 80.7234%, which may cause oom error. Please reduce num_parallel_workers size / optimize 'per_batch_map' function / other python data preprocess function to reduce memory usage.\n"
     ]
    },
    {
     "name": "stdout",
     "output_type": "stream",
     "text": [
      "save model, 0.9875776397515528\n"
     ]
    },
    {
     "name": "stderr",
     "output_type": "stream",
     "text": [
      "[WARNING] MD(19046,7f6feef25700,python):2022-06-19-17:16:59.668.366 [mindspore/ccsrc/minddata/dataset/engine/datasetops/batch_op.cc:135] operator()] Memory consumption is more than 80.7651%, which may cause oom error. Please reduce num_parallel_workers size / optimize 'per_batch_map' function / other python data preprocess function to reduce memory usage.\n"
     ]
    },
    {
     "name": "stdout",
     "output_type": "stream",
     "text": [
      "save model, 0.9875776397515528\n",
      "epoch: 2 step: 65, loss is 0.4610430598258972\n"
     ]
    },
    {
     "name": "stderr",
     "output_type": "stream",
     "text": [
      "[WARNING] MD(19046,7f6fee724700,python):2022-06-19-17:17:49.438.405 [mindspore/ccsrc/minddata/dataset/engine/datasetops/batch_op.cc:135] operator()] Memory consumption is more than 80.8031%, which may cause oom error. Please reduce num_parallel_workers size / optimize 'per_batch_map' function / other python data preprocess function to reduce memory usage.\n"
     ]
    },
    {
     "name": "stdout",
     "output_type": "stream",
     "text": [
      "save model, 0.9875776397515528\n"
     ]
    },
    {
     "name": "stderr",
     "output_type": "stream",
     "text": [
      "[WARNING] MD(19046,7f6a927fc700,python):2022-06-19-17:18:38.694.977 [mindspore/ccsrc/minddata/dataset/engine/datasetops/batch_op.cc:135] operator()] Memory consumption is more than 80.8299%, which may cause oom error. Please reduce num_parallel_workers size / optimize 'per_batch_map' function / other python data preprocess function to reduce memory usage.\n"
     ]
    },
    {
     "name": "stdout",
     "output_type": "stream",
     "text": [
      "save model, 0.9875776397515528\n"
     ]
    },
    {
     "name": "stderr",
     "output_type": "stream",
     "text": [
      "[WARNING] MD(19046,7f6b0b7fe700,python):2022-06-19-17:19:28.885.298 [mindspore/ccsrc/minddata/dataset/engine/datasetops/batch_op.cc:135] operator()] Memory consumption is more than 80.8678%, which may cause oom error. Please reduce num_parallel_workers size / optimize 'per_batch_map' function / other python data preprocess function to reduce memory usage.\n"
     ]
    },
    {
     "name": "stdout",
     "output_type": "stream",
     "text": [
      "save model, 0.9875776397515528\n"
     ]
    },
    {
     "name": "stderr",
     "output_type": "stream",
     "text": [
      "[WARNING] MD(19046,7f6baa7fc700,python):2022-06-19-17:20:18.483.066 [mindspore/ccsrc/minddata/dataset/engine/datasetops/batch_op.cc:135] operator()] Memory consumption is more than 80.899%, which may cause oom error. Please reduce num_parallel_workers size / optimize 'per_batch_map' function / other python data preprocess function to reduce memory usage.\n"
     ]
    },
    {
     "name": "stdout",
     "output_type": "stream",
     "text": [
      "save model, 0.9875776397515528\n"
     ]
    },
    {
     "name": "stderr",
     "output_type": "stream",
     "text": [
      "[WARNING] MD(19046,7f67837fe700,python):2022-06-19-17:21:07.830.656 [mindspore/ccsrc/minddata/dataset/engine/datasetops/batch_op.cc:135] operator()] Memory consumption is more than 80.956%, which may cause oom error. Please reduce num_parallel_workers size / optimize 'per_batch_map' function / other python data preprocess function to reduce memory usage.\n"
     ]
    },
    {
     "name": "stdout",
     "output_type": "stream",
     "text": [
      "save model, 0.9875776397515528\n",
      "epoch: 2 step: 70, loss is 0.389724999666214\n"
     ]
    },
    {
     "name": "stderr",
     "output_type": "stream",
     "text": [
      "[WARNING] MD(19046,7f6fecf21700,python):2022-06-19-17:21:57.088.195 [mindspore/ccsrc/minddata/dataset/engine/datasetops/batch_op.cc:135] operator()] Memory consumption is more than 80.9733%, which may cause oom error. Please reduce num_parallel_workers size / optimize 'per_batch_map' function / other python data preprocess function to reduce memory usage.\n"
     ]
    },
    {
     "name": "stdout",
     "output_type": "stream",
     "text": [
      "save model, 0.9875776397515528\n"
     ]
    },
    {
     "name": "stderr",
     "output_type": "stream",
     "text": [
      "[WARNING] MD(19046,7f6bc1ffb700,python):2022-06-19-17:22:46.873.299 [mindspore/ccsrc/minddata/dataset/engine/datasetops/batch_op.cc:135] operator()] Memory consumption is more than 81.0191%, which may cause oom error. Please reduce num_parallel_workers size / optimize 'per_batch_map' function / other python data preprocess function to reduce memory usage.\n"
     ]
    },
    {
     "name": "stdout",
     "output_type": "stream",
     "text": [
      "save model, 0.9875776397515528\n"
     ]
    },
    {
     "name": "stderr",
     "output_type": "stream",
     "text": [
      "[WARNING] MD(19046,7f6feef25700,python):2022-06-19-17:23:36.267.286 [mindspore/ccsrc/minddata/dataset/engine/datasetops/batch_op.cc:135] operator()] Memory consumption is more than 81.0577%, which may cause oom error. Please reduce num_parallel_workers size / optimize 'per_batch_map' function / other python data preprocess function to reduce memory usage.\n"
     ]
    },
    {
     "name": "stdout",
     "output_type": "stream",
     "text": [
      "save model, 0.9937888198757764\n"
     ]
    },
    {
     "name": "stderr",
     "output_type": "stream",
     "text": [
      "[WARNING] MD(19046,7f6bc3fff700,python):2022-06-19-17:24:28.097.446 [mindspore/ccsrc/minddata/dataset/engine/datasetops/batch_op.cc:135] operator()] Memory consumption is more than 81.104%, which may cause oom error. Please reduce num_parallel_workers size / optimize 'per_batch_map' function / other python data preprocess function to reduce memory usage.\n"
     ]
    },
    {
     "name": "stdout",
     "output_type": "stream",
     "text": [
      "save model, 0.9937888198757764\n"
     ]
    },
    {
     "name": "stderr",
     "output_type": "stream",
     "text": [
      "[WARNING] MD(19046,7f6fd77fe700,python):2022-06-19-17:25:15.313.369 [mindspore/ccsrc/minddata/dataset/engine/datasetops/batch_op.cc:135] operator()] Memory consumption is more than 81.1239%, which may cause oom error. Please reduce num_parallel_workers size / optimize 'per_batch_map' function / other python data preprocess function to reduce memory usage.\n"
     ]
    },
    {
     "name": "stdout",
     "output_type": "stream",
     "text": [
      "save model, 0.9937888198757764\n",
      "epoch: 2 step: 75, loss is 0.32201480865478516\n"
     ]
    },
    {
     "name": "stderr",
     "output_type": "stream",
     "text": [
      "[WARNING] MD(19046,7f69f57fa700,python):2022-06-19-17:26:05.879.335 [mindspore/ccsrc/minddata/dataset/engine/datasetops/batch_op.cc:135] operator()] Memory consumption is more than 81.1633%, which may cause oom error. Please reduce num_parallel_workers size / optimize 'per_batch_map' function / other python data preprocess function to reduce memory usage.\n"
     ]
    },
    {
     "name": "stdout",
     "output_type": "stream",
     "text": [
      "save model, 0.9937888198757764\n"
     ]
    },
    {
     "name": "stderr",
     "output_type": "stream",
     "text": [
      "[WARNING] MD(19046,7f6fef726700,python):2022-06-19-17:26:55.619.635 [mindspore/ccsrc/minddata/dataset/engine/datasetops/batch_op.cc:135] operator()] Memory consumption is more than 81.2044%, which may cause oom error. Please reduce num_parallel_workers size / optimize 'per_batch_map' function / other python data preprocess function to reduce memory usage.\n"
     ]
    },
    {
     "name": "stdout",
     "output_type": "stream",
     "text": [
      "save model, 0.9937888198757764\n"
     ]
    },
    {
     "name": "stderr",
     "output_type": "stream",
     "text": [
      "[WARNING] MD(19046,7f6b0affd700,python):2022-06-19-17:27:45.003.867 [mindspore/ccsrc/minddata/dataset/engine/datasetops/batch_op.cc:135] operator()] Memory consumption is more than 81.2523%, which may cause oom error. Please reduce num_parallel_workers size / optimize 'per_batch_map' function / other python data preprocess function to reduce memory usage.\n"
     ]
    },
    {
     "name": "stdout",
     "output_type": "stream",
     "text": [
      "save model, 0.9937888198757764\n"
     ]
    },
    {
     "name": "stderr",
     "output_type": "stream",
     "text": [
      "[WARNING] MD(19046,7f6fecf21700,python):2022-06-19-17:28:34.065.360 [mindspore/ccsrc/minddata/dataset/engine/datasetops/batch_op.cc:135] operator()] Memory consumption is more than 81.2892%, which may cause oom error. Please reduce num_parallel_workers size / optimize 'per_batch_map' function / other python data preprocess function to reduce memory usage.\n"
     ]
    },
    {
     "name": "stdout",
     "output_type": "stream",
     "text": [
      "save model, 0.9937888198757764\n"
     ]
    },
    {
     "name": "stderr",
     "output_type": "stream",
     "text": [
      "[WARNING] MD(19046,7f6fd6ffd700,python):2022-06-19-17:29:23.510.820 [mindspore/ccsrc/minddata/dataset/engine/datasetops/batch_op.cc:135] operator()] Memory consumption is more than 81.3159%, which may cause oom error. Please reduce num_parallel_workers size / optimize 'per_batch_map' function / other python data preprocess function to reduce memory usage.\n"
     ]
    },
    {
     "name": "stdout",
     "output_type": "stream",
     "text": [
      "save model, 0.9875776397515528\n",
      "epoch: 2 step: 80, loss is 0.34862929582595825\n"
     ]
    },
    {
     "name": "stderr",
     "output_type": "stream",
     "text": [
      "[WARNING] MD(19046,7f6713fff700,python):2022-06-19-17:30:13.337.167 [mindspore/ccsrc/minddata/dataset/engine/datasetops/batch_op.cc:135] operator()] Memory consumption is more than 81.3638%, which may cause oom error. Please reduce num_parallel_workers size / optimize 'per_batch_map' function / other python data preprocess function to reduce memory usage.\n"
     ]
    },
    {
     "name": "stdout",
     "output_type": "stream",
     "text": [
      "save model, 0.9875776397515528\n"
     ]
    },
    {
     "name": "stderr",
     "output_type": "stream",
     "text": [
      "[WARNING] MD(19046,7f6fb97fa700,python):2022-06-19-17:31:02.592.959 [mindspore/ccsrc/minddata/dataset/engine/datasetops/batch_op.cc:135] operator()] Memory consumption is more than 81.3883%, which may cause oom error. Please reduce num_parallel_workers size / optimize 'per_batch_map' function / other python data preprocess function to reduce memory usage.\n"
     ]
    },
    {
     "name": "stdout",
     "output_type": "stream",
     "text": [
      "save model, 0.9875776397515528\n"
     ]
    },
    {
     "name": "stderr",
     "output_type": "stream",
     "text": [
      "[WARNING] MD(19046,7f6f457e1700,python):2022-06-19-17:31:52.105.225 [mindspore/ccsrc/minddata/dataset/engine/datasetops/batch_op.cc:135] operator()] Memory consumption is more than 81.4336%, which may cause oom error. Please reduce num_parallel_workers size / optimize 'per_batch_map' function / other python data preprocess function to reduce memory usage.\n"
     ]
    },
    {
     "name": "stdout",
     "output_type": "stream",
     "text": [
      "save model, 0.9875776397515528\n"
     ]
    },
    {
     "name": "stderr",
     "output_type": "stream",
     "text": [
      "[WARNING] MD(19046,7f69c7fff700,python):2022-06-19-17:32:41.132.962 [mindspore/ccsrc/minddata/dataset/engine/datasetops/batch_op.cc:135] operator()] Memory consumption is more than 81.4662%, which may cause oom error. Please reduce num_parallel_workers size / optimize 'per_batch_map' function / other python data preprocess function to reduce memory usage.\n"
     ]
    },
    {
     "name": "stdout",
     "output_type": "stream",
     "text": [
      "save model, 0.9875776397515528\n"
     ]
    },
    {
     "name": "stderr",
     "output_type": "stream",
     "text": [
      "[WARNING] MD(19046,7f6f47fe6700,python):2022-06-19-17:33:31.434.882 [mindspore/ccsrc/minddata/dataset/engine/datasetops/batch_op.cc:135] operator()] Memory consumption is more than 81.4984%, which may cause oom error. Please reduce num_parallel_workers size / optimize 'per_batch_map' function / other python data preprocess function to reduce memory usage.\n"
     ]
    },
    {
     "name": "stdout",
     "output_type": "stream",
     "text": [
      "save model, 0.9875776397515528\n",
      "epoch: 3 step: 5, loss is 0.33260440826416016\n"
     ]
    },
    {
     "name": "stderr",
     "output_type": "stream",
     "text": [
      "[WARNING] MD(19046,7f6afaffd700,python):2022-06-19-17:34:20.809.853 [mindspore/ccsrc/minddata/dataset/engine/datasetops/batch_op.cc:135] operator()] Memory consumption is more than 81.527%, which may cause oom error. Please reduce num_parallel_workers size / optimize 'per_batch_map' function / other python data preprocess function to reduce memory usage.\n"
     ]
    },
    {
     "name": "stdout",
     "output_type": "stream",
     "text": [
      "save model, 0.9875776397515528\n"
     ]
    },
    {
     "name": "stderr",
     "output_type": "stream",
     "text": [
      "[WARNING] MD(19046,7f6fecf21700,python):2022-06-19-17:35:10.072.275 [mindspore/ccsrc/minddata/dataset/engine/datasetops/batch_op.cc:135] operator()] Memory consumption is more than 81.5735%, which may cause oom error. Please reduce num_parallel_workers size / optimize 'per_batch_map' function / other python data preprocess function to reduce memory usage.\n"
     ]
    },
    {
     "name": "stdout",
     "output_type": "stream",
     "text": [
      "save model, 0.9875776397515528\n"
     ]
    },
    {
     "name": "stderr",
     "output_type": "stream",
     "text": [
      "[WARNING] MD(19046,7f6feef25700,python):2022-06-19-17:35:59.465.488 [mindspore/ccsrc/minddata/dataset/engine/datasetops/batch_op.cc:135] operator()] Memory consumption is more than 81.6017%, which may cause oom error. Please reduce num_parallel_workers size / optimize 'per_batch_map' function / other python data preprocess function to reduce memory usage.\n"
     ]
    },
    {
     "name": "stdout",
     "output_type": "stream",
     "text": [
      "save model, 0.9875776397515528\n"
     ]
    },
    {
     "name": "stderr",
     "output_type": "stream",
     "text": [
      "[WARNING] MD(19046,7f6fecf21700,python):2022-06-19-17:36:49.617.238 [mindspore/ccsrc/minddata/dataset/engine/datasetops/batch_op.cc:135] operator()] Memory consumption is more than 81.6386%, which may cause oom error. Please reduce num_parallel_workers size / optimize 'per_batch_map' function / other python data preprocess function to reduce memory usage.\n"
     ]
    },
    {
     "name": "stdout",
     "output_type": "stream",
     "text": [
      "save model, 0.9937888198757764\n"
     ]
    },
    {
     "name": "stderr",
     "output_type": "stream",
     "text": [
      "[WARNING] MD(19046,7f69627fc700,python):2022-06-19-17:37:39.534.974 [mindspore/ccsrc/minddata/dataset/engine/datasetops/batch_op.cc:135] operator()] Memory consumption is more than 81.6828%, which may cause oom error. Please reduce num_parallel_workers size / optimize 'per_batch_map' function / other python data preprocess function to reduce memory usage.\n"
     ]
    },
    {
     "name": "stdout",
     "output_type": "stream",
     "text": [
      "save model, 0.9937888198757764\n",
      "epoch: 3 step: 10, loss is 0.38021302223205566\n"
     ]
    },
    {
     "name": "stderr",
     "output_type": "stream",
     "text": [
      "[WARNING] MD(19046,7f6fecf21700,python):2022-06-19-17:38:29.109.909 [mindspore/ccsrc/minddata/dataset/engine/datasetops/batch_op.cc:135] operator()] Memory consumption is more than 81.7158%, which may cause oom error. Please reduce num_parallel_workers size / optimize 'per_batch_map' function / other python data preprocess function to reduce memory usage.\n"
     ]
    },
    {
     "name": "stdout",
     "output_type": "stream",
     "text": [
      "save model, 0.9937888198757764\n"
     ]
    },
    {
     "name": "stderr",
     "output_type": "stream",
     "text": [
      "[WARNING] MD(19046,7f6feef25700,python):2022-06-19-17:39:18.530.567 [mindspore/ccsrc/minddata/dataset/engine/datasetops/batch_op.cc:135] operator()] Memory consumption is more than 81.7465%, which may cause oom error. Please reduce num_parallel_workers size / optimize 'per_batch_map' function / other python data preprocess function to reduce memory usage.\n"
     ]
    },
    {
     "name": "stdout",
     "output_type": "stream",
     "text": [
      "save model, 0.9937888198757764\n"
     ]
    },
    {
     "name": "stderr",
     "output_type": "stream",
     "text": [
      "[WARNING] MD(19046,7f6b1dffb700,python):2022-06-19-17:40:10.080.240 [mindspore/ccsrc/minddata/dataset/engine/datasetops/batch_op.cc:135] operator()] Memory consumption is more than 81.7926%, which may cause oom error. Please reduce num_parallel_workers size / optimize 'per_batch_map' function / other python data preprocess function to reduce memory usage.\n"
     ]
    },
    {
     "name": "stdout",
     "output_type": "stream",
     "text": [
      "save model, 0.9937888198757764\n"
     ]
    },
    {
     "name": "stderr",
     "output_type": "stream",
     "text": [
      "[WARNING] MD(19046,7f6feef25700,python):2022-06-19-17:40:58.069.453 [mindspore/ccsrc/minddata/dataset/engine/datasetops/batch_op.cc:135] operator()] Memory consumption is more than 81.825%, which may cause oom error. Please reduce num_parallel_workers size / optimize 'per_batch_map' function / other python data preprocess function to reduce memory usage.\n"
     ]
    },
    {
     "name": "stdout",
     "output_type": "stream",
     "text": [
      "save model, 1.0\n"
     ]
    },
    {
     "name": "stderr",
     "output_type": "stream",
     "text": [
      "[WARNING] MD(19046,7f6b03fff700,python):2022-06-19-17:41:47.923.130 [mindspore/ccsrc/minddata/dataset/engine/datasetops/batch_op.cc:135] operator()] Memory consumption is more than 81.8624%, which may cause oom error. Please reduce num_parallel_workers size / optimize 'per_batch_map' function / other python data preprocess function to reduce memory usage.\n"
     ]
    },
    {
     "name": "stdout",
     "output_type": "stream",
     "text": [
      "save model, 0.9875776397515528\n",
      "epoch: 3 step: 15, loss is 0.36756178736686707\n"
     ]
    },
    {
     "name": "stderr",
     "output_type": "stream",
     "text": [
      "[WARNING] MD(19046,7f6b527fc700,python):2022-06-19-17:42:39.667.746 [mindspore/ccsrc/minddata/dataset/engine/datasetops/batch_op.cc:135] operator()] Memory consumption is more than 81.8976%, which may cause oom error. Please reduce num_parallel_workers size / optimize 'per_batch_map' function / other python data preprocess function to reduce memory usage.\n",
      "[WARNING] MD(19046,7f6feef25700,python):2022-06-19-17:43:26.711.844 [mindspore/ccsrc/minddata/dataset/engine/datasetops/batch_op.cc:135] operator()] Memory consumption is more than 81.9339%, which may cause oom error. Please reduce num_parallel_workers size / optimize 'per_batch_map' function / other python data preprocess function to reduce memory usage.\n",
      "[WARNING] MD(19046,7f6feef25700,python):2022-06-19-17:44:15.868.814 [mindspore/ccsrc/minddata/dataset/engine/datasetops/batch_op.cc:135] operator()] Memory consumption is more than 82.0571%, which may cause oom error. Please reduce num_parallel_workers size / optimize 'per_batch_map' function / other python data preprocess function to reduce memory usage.\n",
      "[WARNING] MD(19046,7f6bba7fc700,python):2022-06-19-17:45:05.181.552 [mindspore/ccsrc/minddata/dataset/engine/datasetops/batch_op.cc:135] operator()] Memory consumption is more than 82.0089%, which may cause oom error. Please reduce num_parallel_workers size / optimize 'per_batch_map' function / other python data preprocess function to reduce memory usage.\n",
      "[WARNING] MD(19046,7f6bd57fa700,python):2022-06-19-17:45:54.980.462 [mindspore/ccsrc/minddata/dataset/engine/datasetops/batch_op.cc:135] operator()] Memory consumption is more than 82.0448%, which may cause oom error. Please reduce num_parallel_workers size / optimize 'per_batch_map' function / other python data preprocess function to reduce memory usage.\n"
     ]
    },
    {
     "name": "stdout",
     "output_type": "stream",
     "text": [
      "epoch: 3 step: 20, loss is 0.3925831913948059\n"
     ]
    },
    {
     "name": "stderr",
     "output_type": "stream",
     "text": [
      "[WARNING] MD(19046,7f67817fa700,python):2022-06-19-17:46:44.222.185 [mindspore/ccsrc/minddata/dataset/engine/datasetops/batch_op.cc:135] operator()] Memory consumption is more than 82.0773%, which may cause oom error. Please reduce num_parallel_workers size / optimize 'per_batch_map' function / other python data preprocess function to reduce memory usage.\n"
     ]
    },
    {
     "name": "stdout",
     "output_type": "stream",
     "text": [
      "save model, 0.9875776397515528\n"
     ]
    },
    {
     "name": "stderr",
     "output_type": "stream",
     "text": [
      "[WARNING] MD(19046,7f6fecf21700,python):2022-06-19-17:47:33.655.106 [mindspore/ccsrc/minddata/dataset/engine/datasetops/batch_op.cc:135] operator()] Memory consumption is more than 82.123%, which may cause oom error. Please reduce num_parallel_workers size / optimize 'per_batch_map' function / other python data preprocess function to reduce memory usage.\n"
     ]
    },
    {
     "name": "stdout",
     "output_type": "stream",
     "text": [
      "save model, 0.9937888198757764\n"
     ]
    },
    {
     "name": "stderr",
     "output_type": "stream",
     "text": [
      "[WARNING] MD(19046,7f6ffc740700,python):2022-06-19-17:48:22.886.646 [mindspore/ccsrc/minddata/dataset/engine/datasetops/batch_op.cc:135] operator()] Memory consumption is more than 82.1513%, which may cause oom error. Please reduce num_parallel_workers size / optimize 'per_batch_map' function / other python data preprocess function to reduce memory usage.\n"
     ]
    },
    {
     "name": "stdout",
     "output_type": "stream",
     "text": [
      "save model, 1.0\n"
     ]
    },
    {
     "name": "stderr",
     "output_type": "stream",
     "text": [
      "[WARNING] MD(19046,7f6ffa73c700,python):2022-06-19-17:49:12.210.145 [mindspore/ccsrc/minddata/dataset/engine/datasetops/batch_op.cc:135] operator()] Memory consumption is more than 82.1855%, which may cause oom error. Please reduce num_parallel_workers size / optimize 'per_batch_map' function / other python data preprocess function to reduce memory usage.\n"
     ]
    },
    {
     "name": "stdout",
     "output_type": "stream",
     "text": [
      "save model, 0.9937888198757764\n"
     ]
    },
    {
     "name": "stderr",
     "output_type": "stream",
     "text": [
      "[WARNING] MD(19046,7f69c67fc700,python):2022-06-19-17:50:03.865.326 [mindspore/ccsrc/minddata/dataset/engine/datasetops/batch_op.cc:135] operator()] Memory consumption is more than 82.2332%, which may cause oom error. Please reduce num_parallel_workers size / optimize 'per_batch_map' function / other python data preprocess function to reduce memory usage.\n"
     ]
    },
    {
     "name": "stdout",
     "output_type": "stream",
     "text": [
      "save model, 0.9937888198757764\n",
      "epoch: 3 step: 25, loss is 0.32166051864624023\n"
     ]
    },
    {
     "name": "stderr",
     "output_type": "stream",
     "text": [
      "[WARNING] MD(19046,7f6789ffb700,python):2022-06-19-17:50:51.339.127 [mindspore/ccsrc/minddata/dataset/engine/datasetops/batch_op.cc:135] operator()] Memory consumption is more than 82.2769%, which may cause oom error. Please reduce num_parallel_workers size / optimize 'per_batch_map' function / other python data preprocess function to reduce memory usage.\n"
     ]
    },
    {
     "name": "stdout",
     "output_type": "stream",
     "text": [
      "save model, 0.9937888198757764\n"
     ]
    },
    {
     "name": "stderr",
     "output_type": "stream",
     "text": [
      "[WARNING] MD(19046,7f6fee724700,python):2022-06-19-17:51:41.664.994 [mindspore/ccsrc/minddata/dataset/engine/datasetops/batch_op.cc:135] operator()] Memory consumption is more than 82.311%, which may cause oom error. Please reduce num_parallel_workers size / optimize 'per_batch_map' function / other python data preprocess function to reduce memory usage.\n"
     ]
    },
    {
     "name": "stdout",
     "output_type": "stream",
     "text": [
      "save model, 0.9937888198757764\n"
     ]
    },
    {
     "name": "stderr",
     "output_type": "stream",
     "text": [
      "[WARNING] MD(19046,7f6fd7fff700,python):2022-06-19-17:52:31.253.335 [mindspore/ccsrc/minddata/dataset/engine/datasetops/batch_op.cc:135] operator()] Memory consumption is more than 82.3394%, which may cause oom error. Please reduce num_parallel_workers size / optimize 'per_batch_map' function / other python data preprocess function to reduce memory usage.\n"
     ]
    },
    {
     "name": "stdout",
     "output_type": "stream",
     "text": [
      "save model, 0.9875776397515528\n"
     ]
    },
    {
     "name": "stderr",
     "output_type": "stream",
     "text": [
      "[WARNING] MD(19046,7f6feef25700,python):2022-06-19-17:53:20.863.262 [mindspore/ccsrc/minddata/dataset/engine/datasetops/batch_op.cc:135] operator()] Memory consumption is more than 82.3697%, which may cause oom error. Please reduce num_parallel_workers size / optimize 'per_batch_map' function / other python data preprocess function to reduce memory usage.\n"
     ]
    },
    {
     "name": "stdout",
     "output_type": "stream",
     "text": [
      "save model, 0.9875776397515528\n"
     ]
    },
    {
     "name": "stderr",
     "output_type": "stream",
     "text": [
      "[WARNING] MD(19046,7f6feef25700,python):2022-06-19-17:54:10.825.518 [mindspore/ccsrc/minddata/dataset/engine/datasetops/batch_op.cc:135] operator()] Memory consumption is more than 82.402%, which may cause oom error. Please reduce num_parallel_workers size / optimize 'per_batch_map' function / other python data preprocess function to reduce memory usage.\n"
     ]
    },
    {
     "name": "stdout",
     "output_type": "stream",
     "text": [
      "save model, 0.9875776397515528\n",
      "epoch: 3 step: 30, loss is 0.3870658576488495\n"
     ]
    },
    {
     "name": "stderr",
     "output_type": "stream",
     "text": [
      "[WARNING] MD(19046,7f6831ffb700,python):2022-06-19-17:55:00.217.963 [mindspore/ccsrc/minddata/dataset/engine/datasetops/batch_op.cc:135] operator()] Memory consumption is more than 82.4498%, which may cause oom error. Please reduce num_parallel_workers size / optimize 'per_batch_map' function / other python data preprocess function to reduce memory usage.\n"
     ]
    },
    {
     "name": "stdout",
     "output_type": "stream",
     "text": [
      "save model, 0.9875776397515528\n"
     ]
    },
    {
     "name": "stderr",
     "output_type": "stream",
     "text": [
      "[WARNING] MD(19046,7f6fed722700,python):2022-06-19-17:55:50.135.405 [mindspore/ccsrc/minddata/dataset/engine/datasetops/batch_op.cc:135] operator()] Memory consumption is more than 82.4873%, which may cause oom error. Please reduce num_parallel_workers size / optimize 'per_batch_map' function / other python data preprocess function to reduce memory usage.\n"
     ]
    },
    {
     "name": "stdout",
     "output_type": "stream",
     "text": [
      "save model, 0.9813664596273292\n"
     ]
    },
    {
     "name": "stderr",
     "output_type": "stream",
     "text": [
      "[WARNING] MD(19046,7f6feef25700,python):2022-06-19-17:56:39.732.302 [mindspore/ccsrc/minddata/dataset/engine/datasetops/batch_op.cc:135] operator()] Memory consumption is more than 82.5179%, which may cause oom error. Please reduce num_parallel_workers size / optimize 'per_batch_map' function / other python data preprocess function to reduce memory usage.\n"
     ]
    },
    {
     "name": "stdout",
     "output_type": "stream",
     "text": [
      "save model, 0.9813664596273292\n"
     ]
    },
    {
     "name": "stderr",
     "output_type": "stream",
     "text": [
      "[WARNING] MD(19046,7f6fd7fff700,python):2022-06-19-17:57:29.045.438 [mindspore/ccsrc/minddata/dataset/engine/datasetops/batch_op.cc:135] operator()] Memory consumption is more than 82.5517%, which may cause oom error. Please reduce num_parallel_workers size / optimize 'per_batch_map' function / other python data preprocess function to reduce memory usage.\n"
     ]
    },
    {
     "name": "stdout",
     "output_type": "stream",
     "text": [
      "save model, 0.9813664596273292\n"
     ]
    },
    {
     "name": "stderr",
     "output_type": "stream",
     "text": [
      "[WARNING] MD(19046,7f68a97fa700,python):2022-06-19-17:58:18.285.515 [mindspore/ccsrc/minddata/dataset/engine/datasetops/batch_op.cc:135] operator()] Memory consumption is more than 82.6022%, which may cause oom error. Please reduce num_parallel_workers size / optimize 'per_batch_map' function / other python data preprocess function to reduce memory usage.\n"
     ]
    },
    {
     "name": "stdout",
     "output_type": "stream",
     "text": [
      "save model, 0.9813664596273292\n",
      "epoch: 3 step: 35, loss is 0.38573917746543884\n"
     ]
    },
    {
     "name": "stderr",
     "output_type": "stream",
     "text": [
      "[WARNING] MD(19046,7f6fedf23700,python):2022-06-19-17:59:08.345.362 [mindspore/ccsrc/minddata/dataset/engine/datasetops/batch_op.cc:135] operator()] Memory consumption is more than 82.622%, which may cause oom error. Please reduce num_parallel_workers size / optimize 'per_batch_map' function / other python data preprocess function to reduce memory usage.\n"
     ]
    },
    {
     "name": "stdout",
     "output_type": "stream",
     "text": [
      "save model, 0.9813664596273292\n"
     ]
    },
    {
     "name": "stderr",
     "output_type": "stream",
     "text": [
      "[WARNING] MD(19046,7f68827fc700,python):2022-06-19-17:59:58.150.335 [mindspore/ccsrc/minddata/dataset/engine/datasetops/batch_op.cc:135] operator()] Memory consumption is more than 82.6636%, which may cause oom error. Please reduce num_parallel_workers size / optimize 'per_batch_map' function / other python data preprocess function to reduce memory usage.\n"
     ]
    },
    {
     "name": "stdout",
     "output_type": "stream",
     "text": [
      "save model, 0.9813664596273292\n"
     ]
    },
    {
     "name": "stderr",
     "output_type": "stream",
     "text": [
      "[WARNING] MD(19046,7f69abfff700,python):2022-06-19-18:00:48.555.057 [mindspore/ccsrc/minddata/dataset/engine/datasetops/batch_op.cc:135] operator()] Memory consumption is more than 82.7138%, which may cause oom error. Please reduce num_parallel_workers size / optimize 'per_batch_map' function / other python data preprocess function to reduce memory usage.\n"
     ]
    },
    {
     "name": "stdout",
     "output_type": "stream",
     "text": [
      "save model, 0.9813664596273292\n"
     ]
    },
    {
     "name": "stderr",
     "output_type": "stream",
     "text": [
      "[WARNING] MD(19046,7f6fed722700,python):2022-06-19-18:01:38.306.708 [mindspore/ccsrc/minddata/dataset/engine/datasetops/batch_op.cc:135] operator()] Memory consumption is more than 82.7408%, which may cause oom error. Please reduce num_parallel_workers size / optimize 'per_batch_map' function / other python data preprocess function to reduce memory usage.\n"
     ]
    },
    {
     "name": "stdout",
     "output_type": "stream",
     "text": [
      "save model, 0.9813664596273292\n"
     ]
    },
    {
     "name": "stderr",
     "output_type": "stream",
     "text": [
      "[WARNING] MD(19046,7f6984ff9700,python):2022-06-19-18:02:27.712.832 [mindspore/ccsrc/minddata/dataset/engine/datasetops/batch_op.cc:135] operator()] Memory consumption is more than 82.7774%, which may cause oom error. Please reduce num_parallel_workers size / optimize 'per_batch_map' function / other python data preprocess function to reduce memory usage.\n"
     ]
    },
    {
     "name": "stdout",
     "output_type": "stream",
     "text": [
      "save model, 0.9813664596273292\n",
      "epoch: 3 step: 40, loss is 0.341999888420105\n"
     ]
    },
    {
     "name": "stderr",
     "output_type": "stream",
     "text": [
      "[WARNING] MD(19046,7f6b497fa700,python):2022-06-19-18:03:19.323.751 [mindspore/ccsrc/minddata/dataset/engine/datasetops/batch_op.cc:135] operator()] Memory consumption is more than 82.8176%, which may cause oom error. Please reduce num_parallel_workers size / optimize 'per_batch_map' function / other python data preprocess function to reduce memory usage.\n"
     ]
    },
    {
     "name": "stdout",
     "output_type": "stream",
     "text": [
      "save model, 0.9813664596273292\n"
     ]
    },
    {
     "name": "stderr",
     "output_type": "stream",
     "text": [
      "[WARNING] MD(19046,7f6b24ff9700,python):2022-06-19-18:04:06.872.468 [mindspore/ccsrc/minddata/dataset/engine/datasetops/batch_op.cc:135] operator()] Memory consumption is more than 82.8503%, which may cause oom error. Please reduce num_parallel_workers size / optimize 'per_batch_map' function / other python data preprocess function to reduce memory usage.\n"
     ]
    },
    {
     "name": "stdout",
     "output_type": "stream",
     "text": [
      "save model, 0.9813664596273292\n"
     ]
    },
    {
     "name": "stderr",
     "output_type": "stream",
     "text": [
      "[WARNING] MD(19046,7f6fef726700,python):2022-06-19-18:04:58.818.596 [mindspore/ccsrc/minddata/dataset/engine/datasetops/batch_op.cc:135] operator()] Memory consumption is more than 82.89%, which may cause oom error. Please reduce num_parallel_workers size / optimize 'per_batch_map' function / other python data preprocess function to reduce memory usage.\n"
     ]
    },
    {
     "name": "stdout",
     "output_type": "stream",
     "text": [
      "save model, 0.9813664596273292\n"
     ]
    },
    {
     "name": "stderr",
     "output_type": "stream",
     "text": [
      "[WARNING] MD(19046,7f6fed722700,python):2022-06-19-18:05:47.384.633 [mindspore/ccsrc/minddata/dataset/engine/datasetops/batch_op.cc:135] operator()] Memory consumption is more than 82.9209%, which may cause oom error. Please reduce num_parallel_workers size / optimize 'per_batch_map' function / other python data preprocess function to reduce memory usage.\n"
     ]
    },
    {
     "name": "stdout",
     "output_type": "stream",
     "text": [
      "save model, 0.9813664596273292\n"
     ]
    },
    {
     "name": "stderr",
     "output_type": "stream",
     "text": [
      "[WARNING] MD(19046,7f6fd7fff700,python):2022-06-19-18:06:33.525.460 [mindspore/ccsrc/minddata/dataset/engine/datasetops/batch_op.cc:135] operator()] Memory consumption is more than 82.9614%, which may cause oom error. Please reduce num_parallel_workers size / optimize 'per_batch_map' function / other python data preprocess function to reduce memory usage.\n"
     ]
    },
    {
     "name": "stdout",
     "output_type": "stream",
     "text": [
      "save model, 0.9813664596273292\n",
      "epoch: 3 step: 45, loss is 0.35342925786972046\n"
     ]
    },
    {
     "name": "stderr",
     "output_type": "stream",
     "text": [
      "[WARNING] MD(19046,7f6fee724700,python):2022-06-19-18:07:22.208.590 [mindspore/ccsrc/minddata/dataset/engine/datasetops/batch_op.cc:135] operator()] Memory consumption is more than 82.9937%, which may cause oom error. Please reduce num_parallel_workers size / optimize 'per_batch_map' function / other python data preprocess function to reduce memory usage.\n"
     ]
    },
    {
     "name": "stdout",
     "output_type": "stream",
     "text": [
      "save model, 0.9813664596273292\n"
     ]
    },
    {
     "name": "stderr",
     "output_type": "stream",
     "text": [
      "[WARNING] MD(19046,7f68037fe700,python):2022-06-19-18:08:11.965.780 [mindspore/ccsrc/minddata/dataset/engine/datasetops/batch_op.cc:135] operator()] Memory consumption is more than 83.0363%, which may cause oom error. Please reduce num_parallel_workers size / optimize 'per_batch_map' function / other python data preprocess function to reduce memory usage.\n"
     ]
    },
    {
     "name": "stdout",
     "output_type": "stream",
     "text": [
      "save model, 0.9813664596273292\n"
     ]
    },
    {
     "name": "stderr",
     "output_type": "stream",
     "text": [
      "[WARNING] MD(19046,7f6bb9ffb700,python):2022-06-19-18:09:01.371.052 [mindspore/ccsrc/minddata/dataset/engine/datasetops/batch_op.cc:135] operator()] Memory consumption is more than 83.0684%, which may cause oom error. Please reduce num_parallel_workers size / optimize 'per_batch_map' function / other python data preprocess function to reduce memory usage.\n"
     ]
    },
    {
     "name": "stdout",
     "output_type": "stream",
     "text": [
      "save model, 0.9813664596273292\n"
     ]
    },
    {
     "name": "stderr",
     "output_type": "stream",
     "text": [
      "[WARNING] MD(19046,7f6ffbf3f700,python):2022-06-19-18:09:38.805.608 [mindspore/ccsrc/minddata/dataset/engine/datasetops/batch_op.cc:135] operator()] Memory consumption is more than 83.0859%, which may cause oom error. Please reduce num_parallel_workers size / optimize 'per_batch_map' function / other python data preprocess function to reduce memory usage.\n",
      "[WARNING] MD(19046,7f6a93fff700,python):2022-06-19-18:09:52.537.159 [mindspore/ccsrc/minddata/dataset/engine/datasetops/batch_op.cc:135] operator()] Memory consumption is more than 83.1155%, which may cause oom error. Please reduce num_parallel_workers size / optimize 'per_batch_map' function / other python data preprocess function to reduce memory usage.\n"
     ]
    },
    {
     "name": "stdout",
     "output_type": "stream",
     "text": [
      "save model, 0.9813664596273292\n"
     ]
    },
    {
     "name": "stderr",
     "output_type": "stream",
     "text": [
      "[WARNING] MD(19046,7f6f4c7ef700,python):2022-06-19-18:10:39.127.375 [mindspore/ccsrc/minddata/dataset/engine/datasetops/batch_op.cc:135] operator()] Memory consumption is more than 83.1441%, which may cause oom error. Please reduce num_parallel_workers size / optimize 'per_batch_map' function / other python data preprocess function to reduce memory usage.\n"
     ]
    },
    {
     "name": "stdout",
     "output_type": "stream",
     "text": [
      "save model, 0.9813664596273292\n",
      "epoch: 3 step: 50, loss is 0.3933982253074646\n"
     ]
    },
    {
     "name": "stderr",
     "output_type": "stream",
     "text": [
      "[WARNING] MD(19046,7f6b51ffb700,python):2022-06-19-18:11:27.585.145 [mindspore/ccsrc/minddata/dataset/engine/datasetops/batch_op.cc:135] operator()] Memory consumption is more than 83.182%, which may cause oom error. Please reduce num_parallel_workers size / optimize 'per_batch_map' function / other python data preprocess function to reduce memory usage.\n"
     ]
    },
    {
     "name": "stdout",
     "output_type": "stream",
     "text": [
      "save model, 0.9813664596273292\n"
     ]
    },
    {
     "name": "stderr",
     "output_type": "stream",
     "text": [
      "[WARNING] MD(19046,7f69daffd700,python):2022-06-19-18:12:16.786.291 [mindspore/ccsrc/minddata/dataset/engine/datasetops/batch_op.cc:135] operator()] Memory consumption is more than 83.2133%, which may cause oom error. Please reduce num_parallel_workers size / optimize 'per_batch_map' function / other python data preprocess function to reduce memory usage.\n"
     ]
    },
    {
     "name": "stdout",
     "output_type": "stream",
     "text": [
      "save model, 0.9813664596273292\n"
     ]
    },
    {
     "name": "stderr",
     "output_type": "stream",
     "text": [
      "[WARNING] MD(19046,7f6f48fe8700,python):2022-06-19-18:13:04.986.405 [mindspore/ccsrc/minddata/dataset/engine/datasetops/batch_op.cc:135] operator()] Memory consumption is more than 83.2604%, which may cause oom error. Please reduce num_parallel_workers size / optimize 'per_batch_map' function / other python data preprocess function to reduce memory usage.\n"
     ]
    },
    {
     "name": "stdout",
     "output_type": "stream",
     "text": [
      "save model, 0.9813664596273292\n"
     ]
    },
    {
     "name": "stderr",
     "output_type": "stream",
     "text": [
      "[WARNING] MD(19046,7f6fed722700,python):2022-06-19-18:13:53.125.493 [mindspore/ccsrc/minddata/dataset/engine/datasetops/batch_op.cc:135] operator()] Memory consumption is more than 83.2826%, which may cause oom error. Please reduce num_parallel_workers size / optimize 'per_batch_map' function / other python data preprocess function to reduce memory usage.\n"
     ]
    },
    {
     "name": "stdout",
     "output_type": "stream",
     "text": [
      "save model, 0.9813664596273292\n"
     ]
    },
    {
     "name": "stderr",
     "output_type": "stream",
     "text": [
      "[WARNING] MD(19046,7f6babfff700,python):2022-06-19-18:14:41.421.614 [mindspore/ccsrc/minddata/dataset/engine/datasetops/batch_op.cc:135] operator()] Memory consumption is more than 83.3462%, which may cause oom error. Please reduce num_parallel_workers size / optimize 'per_batch_map' function / other python data preprocess function to reduce memory usage.\n"
     ]
    },
    {
     "name": "stdout",
     "output_type": "stream",
     "text": [
      "save model, 0.9813664596273292\n",
      "epoch: 3 step: 55, loss is 0.3244621157646179\n"
     ]
    },
    {
     "name": "stderr",
     "output_type": "stream",
     "text": [
      "[WARNING] MD(19046,7f6baaffd700,python):2022-06-19-18:15:29.710.684 [mindspore/ccsrc/minddata/dataset/engine/datasetops/batch_op.cc:135] operator()] Memory consumption is more than 83.3614%, which may cause oom error. Please reduce num_parallel_workers size / optimize 'per_batch_map' function / other python data preprocess function to reduce memory usage.\n"
     ]
    },
    {
     "name": "stdout",
     "output_type": "stream",
     "text": [
      "save model, 0.9813664596273292\n"
     ]
    },
    {
     "name": "stderr",
     "output_type": "stream",
     "text": [
      "[WARNING] MD(19046,7f6f4dff2700,python):2022-06-19-18:16:18.244.779 [mindspore/ccsrc/minddata/dataset/engine/datasetops/batch_op.cc:135] operator()] Memory consumption is more than 83.4049%, which may cause oom error. Please reduce num_parallel_workers size / optimize 'per_batch_map' function / other python data preprocess function to reduce memory usage.\n"
     ]
    },
    {
     "name": "stdout",
     "output_type": "stream",
     "text": [
      "save model, 0.9813664596273292\n"
     ]
    },
    {
     "name": "stderr",
     "output_type": "stream",
     "text": [
      "[WARNING] MD(19046,7f6fbbfff700,python):2022-06-19-18:17:06.503.680 [mindspore/ccsrc/minddata/dataset/engine/datasetops/batch_op.cc:135] operator()] Memory consumption is more than 83.445%, which may cause oom error. Please reduce num_parallel_workers size / optimize 'per_batch_map' function / other python data preprocess function to reduce memory usage.\n"
     ]
    },
    {
     "name": "stdout",
     "output_type": "stream",
     "text": [
      "save model, 0.9813664596273292\n"
     ]
    },
    {
     "name": "stderr",
     "output_type": "stream",
     "text": [
      "[WARNING] MD(19046,7f6feef25700,python):2022-06-19-18:17:54.706.279 [mindspore/ccsrc/minddata/dataset/engine/datasetops/batch_op.cc:135] operator()] Memory consumption is more than 83.4783%, which may cause oom error. Please reduce num_parallel_workers size / optimize 'per_batch_map' function / other python data preprocess function to reduce memory usage.\n"
     ]
    },
    {
     "name": "stdout",
     "output_type": "stream",
     "text": [
      "save model, 0.9813664596273292\n"
     ]
    },
    {
     "name": "stderr",
     "output_type": "stream",
     "text": [
      "[WARNING] MD(19046,7f6b267fc700,python):2022-06-19-18:18:42.863.730 [mindspore/ccsrc/minddata/dataset/engine/datasetops/batch_op.cc:135] operator()] Memory consumption is more than 83.5332%, which may cause oom error. Please reduce num_parallel_workers size / optimize 'per_batch_map' function / other python data preprocess function to reduce memory usage.\n"
     ]
    },
    {
     "name": "stdout",
     "output_type": "stream",
     "text": [
      "save model, 0.9813664596273292\n",
      "epoch: 3 step: 60, loss is 0.3690221607685089\n"
     ]
    },
    {
     "name": "stderr",
     "output_type": "stream",
     "text": [
      "[WARNING] MD(19046,7f6fedf23700,python):2022-06-19-18:19:30.970.437 [mindspore/ccsrc/minddata/dataset/engine/datasetops/batch_op.cc:135] operator()] Memory consumption is more than 83.5477%, which may cause oom error. Please reduce num_parallel_workers size / optimize 'per_batch_map' function / other python data preprocess function to reduce memory usage.\n"
     ]
    },
    {
     "name": "stdout",
     "output_type": "stream",
     "text": [
      "save model, 0.9813664596273292\n"
     ]
    },
    {
     "name": "stderr",
     "output_type": "stream",
     "text": [
      "[WARNING] MD(19046,7f69f7fff700,python):2022-06-19-18:20:19.715.828 [mindspore/ccsrc/minddata/dataset/engine/datasetops/batch_op.cc:135] operator()] Memory consumption is more than 83.5891%, which may cause oom error. Please reduce num_parallel_workers size / optimize 'per_batch_map' function / other python data preprocess function to reduce memory usage.\n"
     ]
    },
    {
     "name": "stdout",
     "output_type": "stream",
     "text": [
      "save model, 0.9813664596273292\n"
     ]
    },
    {
     "name": "stderr",
     "output_type": "stream",
     "text": [
      "[WARNING] MD(19046,7f6feef25700,python):2022-06-19-18:21:07.770.952 [mindspore/ccsrc/minddata/dataset/engine/datasetops/batch_op.cc:135] operator()] Memory consumption is more than 83.6167%, which may cause oom error. Please reduce num_parallel_workers size / optimize 'per_batch_map' function / other python data preprocess function to reduce memory usage.\n"
     ]
    },
    {
     "name": "stdout",
     "output_type": "stream",
     "text": [
      "save model, 0.9813664596273292\n"
     ]
    },
    {
     "name": "stderr",
     "output_type": "stream",
     "text": [
      "[WARNING] MD(19046,7f6feef25700,python):2022-06-19-18:21:55.698.563 [mindspore/ccsrc/minddata/dataset/engine/datasetops/batch_op.cc:135] operator()] Memory consumption is more than 83.6566%, which may cause oom error. Please reduce num_parallel_workers size / optimize 'per_batch_map' function / other python data preprocess function to reduce memory usage.\n"
     ]
    },
    {
     "name": "stdout",
     "output_type": "stream",
     "text": [
      "save model, 0.9813664596273292\n"
     ]
    },
    {
     "name": "stderr",
     "output_type": "stream",
     "text": [
      "[WARNING] MD(19046,7f6f44fe0700,python):2022-06-19-18:22:43.813.594 [mindspore/ccsrc/minddata/dataset/engine/datasetops/batch_op.cc:135] operator()] Memory consumption is more than 83.6913%, which may cause oom error. Please reduce num_parallel_workers size / optimize 'per_batch_map' function / other python data preprocess function to reduce memory usage.\n"
     ]
    },
    {
     "name": "stdout",
     "output_type": "stream",
     "text": [
      "save model, 0.9813664596273292\n",
      "epoch: 3 step: 65, loss is 0.44214871525764465\n"
     ]
    },
    {
     "name": "stderr",
     "output_type": "stream",
     "text": [
      "[WARNING] MD(19046,7f6feef25700,python):2022-06-19-18:23:32.005.161 [mindspore/ccsrc/minddata/dataset/engine/datasetops/batch_op.cc:135] operator()] Memory consumption is more than 83.7276%, which may cause oom error. Please reduce num_parallel_workers size / optimize 'per_batch_map' function / other python data preprocess function to reduce memory usage.\n"
     ]
    },
    {
     "name": "stdout",
     "output_type": "stream",
     "text": [
      "save model, 0.9813664596273292\n"
     ]
    },
    {
     "name": "stderr",
     "output_type": "stream",
     "text": [
      "[WARNING] MD(19046,7f6b037fe700,python):2022-06-19-18:24:20.018.877 [mindspore/ccsrc/minddata/dataset/engine/datasetops/batch_op.cc:135] operator()] Memory consumption is more than 83.7675%, which may cause oom error. Please reduce num_parallel_workers size / optimize 'per_batch_map' function / other python data preprocess function to reduce memory usage.\n"
     ]
    },
    {
     "name": "stdout",
     "output_type": "stream",
     "text": [
      "save model, 0.9813664596273292\n"
     ]
    },
    {
     "name": "stderr",
     "output_type": "stream",
     "text": [
      "[WARNING] MD(19046,7f6fef726700,python):2022-06-19-18:25:05.857.707 [mindspore/ccsrc/minddata/dataset/engine/datasetops/batch_op.cc:135] operator()] Memory consumption is more than 83.8063%, which may cause oom error. Please reduce num_parallel_workers size / optimize 'per_batch_map' function / other python data preprocess function to reduce memory usage.\n"
     ]
    },
    {
     "name": "stdout",
     "output_type": "stream",
     "text": [
      "save model, 0.9813664596273292\n"
     ]
    },
    {
     "name": "stderr",
     "output_type": "stream",
     "text": [
      "[WARNING] MD(19046,7f6a53fff700,python):2022-06-19-18:25:56.165.343 [mindspore/ccsrc/minddata/dataset/engine/datasetops/batch_op.cc:135] operator()] Memory consumption is more than 83.8413%, which may cause oom error. Please reduce num_parallel_workers size / optimize 'per_batch_map' function / other python data preprocess function to reduce memory usage.\n"
     ]
    },
    {
     "name": "stdout",
     "output_type": "stream",
     "text": [
      "save model, 0.9813664596273292\n"
     ]
    },
    {
     "name": "stderr",
     "output_type": "stream",
     "text": [
      "[WARNING] MD(19046,7f69f67fc700,python):2022-06-19-18:26:44.330.816 [mindspore/ccsrc/minddata/dataset/engine/datasetops/batch_op.cc:135] operator()] Memory consumption is more than 83.8751%, which may cause oom error. Please reduce num_parallel_workers size / optimize 'per_batch_map' function / other python data preprocess function to reduce memory usage.\n"
     ]
    },
    {
     "name": "stdout",
     "output_type": "stream",
     "text": [
      "save model, 0.9813664596273292\n",
      "epoch: 3 step: 70, loss is 0.37823840975761414\n"
     ]
    },
    {
     "name": "stderr",
     "output_type": "stream",
     "text": [
      "[WARNING] MD(19046,7f6fee724700,python):2022-06-19-18:27:32.431.165 [mindspore/ccsrc/minddata/dataset/engine/datasetops/batch_op.cc:135] operator()] Memory consumption is more than 83.9172%, which may cause oom error. Please reduce num_parallel_workers size / optimize 'per_batch_map' function / other python data preprocess function to reduce memory usage.\n"
     ]
    },
    {
     "name": "stdout",
     "output_type": "stream",
     "text": [
      "save model, 0.9813664596273292\n"
     ]
    },
    {
     "name": "stderr",
     "output_type": "stream",
     "text": [
      "[WARNING] MD(19046,7f6f9ffff700,python):2022-06-19-18:28:20.708.557 [mindspore/ccsrc/minddata/dataset/engine/datasetops/batch_op.cc:135] operator()] Memory consumption is more than 83.9528%, which may cause oom error. Please reduce num_parallel_workers size / optimize 'per_batch_map' function / other python data preprocess function to reduce memory usage.\n"
     ]
    },
    {
     "name": "stdout",
     "output_type": "stream",
     "text": [
      "save model, 0.9813664596273292\n"
     ]
    },
    {
     "name": "stderr",
     "output_type": "stream",
     "text": [
      "[WARNING] MD(19046,7f6f997f2700,python):2022-06-19-18:29:09.011.523 [mindspore/ccsrc/minddata/dataset/engine/datasetops/batch_op.cc:135] operator()] Memory consumption is more than 83.9792%, which may cause oom error. Please reduce num_parallel_workers size / optimize 'per_batch_map' function / other python data preprocess function to reduce memory usage.\n"
     ]
    },
    {
     "name": "stdout",
     "output_type": "stream",
     "text": [
      "save model, 0.9813664596273292\n"
     ]
    },
    {
     "name": "stderr",
     "output_type": "stream",
     "text": [
      "[WARNING] MD(19046,7f6bd77fe700,python):2022-06-19-18:29:57.271.469 [mindspore/ccsrc/minddata/dataset/engine/datasetops/batch_op.cc:135] operator()] Memory consumption is more than 84.0246%, which may cause oom error. Please reduce num_parallel_workers size / optimize 'per_batch_map' function / other python data preprocess function to reduce memory usage.\n"
     ]
    },
    {
     "name": "stdout",
     "output_type": "stream",
     "text": [
      "save model, 0.9813664596273292\n"
     ]
    },
    {
     "name": "stderr",
     "output_type": "stream",
     "text": [
      "[WARNING] MD(19046,7f69c7fff700,python):2022-06-19-18:30:45.750.450 [mindspore/ccsrc/minddata/dataset/engine/datasetops/batch_op.cc:135] operator()] Memory consumption is more than 84.0666%, which may cause oom error. Please reduce num_parallel_workers size / optimize 'per_batch_map' function / other python data preprocess function to reduce memory usage.\n"
     ]
    },
    {
     "name": "stdout",
     "output_type": "stream",
     "text": [
      "save model, 0.9813664596273292\n",
      "epoch: 3 step: 75, loss is 0.2725745737552643\n"
     ]
    },
    {
     "name": "stderr",
     "output_type": "stream",
     "text": [
      "[WARNING] MD(19046,7f6b0affd700,python):2022-06-19-18:31:34.189.189 [mindspore/ccsrc/minddata/dataset/engine/datasetops/batch_op.cc:135] operator()] Memory consumption is more than 84.1129%, which may cause oom error. Please reduce num_parallel_workers size / optimize 'per_batch_map' function / other python data preprocess function to reduce memory usage.\n"
     ]
    },
    {
     "name": "stdout",
     "output_type": "stream",
     "text": [
      "save model, 0.9813664596273292\n"
     ]
    },
    {
     "name": "stderr",
     "output_type": "stream",
     "text": [
      "[WARNING] MD(19046,7f6fef726700,python):2022-06-19-18:32:22.308.578 [mindspore/ccsrc/minddata/dataset/engine/datasetops/batch_op.cc:135] operator()] Memory consumption is more than 84.1464%, which may cause oom error. Please reduce num_parallel_workers size / optimize 'per_batch_map' function / other python data preprocess function to reduce memory usage.\n"
     ]
    },
    {
     "name": "stdout",
     "output_type": "stream",
     "text": [
      "save model, 0.9813664596273292\n"
     ]
    },
    {
     "name": "stderr",
     "output_type": "stream",
     "text": [
      "[WARNING] MD(19046,7f6fd77fe700,python):2022-06-19-18:33:10.405.791 [mindspore/ccsrc/minddata/dataset/engine/datasetops/batch_op.cc:135] operator()] Memory consumption is more than 84.1651%, which may cause oom error. Please reduce num_parallel_workers size / optimize 'per_batch_map' function / other python data preprocess function to reduce memory usage.\n"
     ]
    },
    {
     "name": "stdout",
     "output_type": "stream",
     "text": [
      "save model, 0.9813664596273292\n"
     ]
    },
    {
     "name": "stderr",
     "output_type": "stream",
     "text": [
      "[WARNING] MD(19046,7f6feef25700,python):2022-06-19-18:33:58.526.081 [mindspore/ccsrc/minddata/dataset/engine/datasetops/batch_op.cc:135] operator()] Memory consumption is more than 84.2054%, which may cause oom error. Please reduce num_parallel_workers size / optimize 'per_batch_map' function / other python data preprocess function to reduce memory usage.\n"
     ]
    },
    {
     "name": "stdout",
     "output_type": "stream",
     "text": [
      "save model, 0.9813664596273292\n"
     ]
    },
    {
     "name": "stderr",
     "output_type": "stream",
     "text": [
      "[WARNING] MD(19046,7f6fedf23700,python):2022-06-19-18:34:46.661.859 [mindspore/ccsrc/minddata/dataset/engine/datasetops/batch_op.cc:135] operator()] Memory consumption is more than 84.2444%, which may cause oom error. Please reduce num_parallel_workers size / optimize 'per_batch_map' function / other python data preprocess function to reduce memory usage.\n"
     ]
    },
    {
     "name": "stdout",
     "output_type": "stream",
     "text": [
      "save model, 0.9813664596273292\n",
      "epoch: 3 step: 80, loss is 0.320912629365921\n"
     ]
    },
    {
     "name": "stderr",
     "output_type": "stream",
     "text": [
      "[WARNING] MD(19046,7f6ffaf3d700,python):2022-06-19-18:35:34.859.904 [mindspore/ccsrc/minddata/dataset/engine/datasetops/batch_op.cc:135] operator()] Memory consumption is more than 84.2827%, which may cause oom error. Please reduce num_parallel_workers size / optimize 'per_batch_map' function / other python data preprocess function to reduce memory usage.\n"
     ]
    },
    {
     "name": "stdout",
     "output_type": "stream",
     "text": [
      "save model, 0.9813664596273292\n"
     ]
    },
    {
     "name": "stderr",
     "output_type": "stream",
     "text": [
      "[WARNING] MD(19046,7f6fedf23700,python):2022-06-19-18:36:23.206.314 [mindspore/ccsrc/minddata/dataset/engine/datasetops/batch_op.cc:135] operator()] Memory consumption is more than 84.3217%, which may cause oom error. Please reduce num_parallel_workers size / optimize 'per_batch_map' function / other python data preprocess function to reduce memory usage.\n"
     ]
    },
    {
     "name": "stdout",
     "output_type": "stream",
     "text": [
      "save model, 0.9813664596273292\n"
     ]
    },
    {
     "name": "stderr",
     "output_type": "stream",
     "text": [
      "[WARNING] MD(19046,7f6f46fe4700,python):2022-06-19-18:37:11.628.644 [mindspore/ccsrc/minddata/dataset/engine/datasetops/batch_op.cc:135] operator()] Memory consumption is more than 84.3663%, which may cause oom error. Please reduce num_parallel_workers size / optimize 'per_batch_map' function / other python data preprocess function to reduce memory usage.\n"
     ]
    },
    {
     "name": "stdout",
     "output_type": "stream",
     "text": [
      "save model, 0.9813664596273292\n"
     ]
    },
    {
     "name": "stderr",
     "output_type": "stream",
     "text": [
      "[WARNING] MD(19046,7f6b50ff9700,python):2022-06-19-18:37:59.729.614 [mindspore/ccsrc/minddata/dataset/engine/datasetops/batch_op.cc:135] operator()] Memory consumption is more than 84.3857%, which may cause oom error. Please reduce num_parallel_workers size / optimize 'per_batch_map' function / other python data preprocess function to reduce memory usage.\n"
     ]
    },
    {
     "name": "stdout",
     "output_type": "stream",
     "text": [
      "save model, 0.9813664596273292\n"
     ]
    },
    {
     "name": "stderr",
     "output_type": "stream",
     "text": [
      "[WARNING] MD(19046,7f6fedf23700,python):2022-06-19-18:38:47.736.774 [mindspore/ccsrc/minddata/dataset/engine/datasetops/batch_op.cc:135] operator()] Memory consumption is more than 84.4257%, which may cause oom error. Please reduce num_parallel_workers size / optimize 'per_batch_map' function / other python data preprocess function to reduce memory usage.\n"
     ]
    },
    {
     "name": "stdout",
     "output_type": "stream",
     "text": [
      "save model, 0.9813664596273292\n",
      "epoch: 4 step: 5, loss is 0.3051690459251404\n"
     ]
    },
    {
     "name": "stderr",
     "output_type": "stream",
     "text": [
      "[WARNING] MD(19046,7f6829ffb700,python):2022-06-19-18:39:35.515.698 [mindspore/ccsrc/minddata/dataset/engine/datasetops/batch_op.cc:135] operator()] Memory consumption is more than 84.4673%, which may cause oom error. Please reduce num_parallel_workers size / optimize 'per_batch_map' function / other python data preprocess function to reduce memory usage.\n"
     ]
    },
    {
     "name": "stdout",
     "output_type": "stream",
     "text": [
      "save model, 0.9813664596273292\n"
     ]
    },
    {
     "name": "stderr",
     "output_type": "stream",
     "text": [
      "[WARNING] MD(19046,7f6b26ffd700,python):2022-06-19-18:40:24.122.329 [mindspore/ccsrc/minddata/dataset/engine/datasetops/batch_op.cc:135] operator()] Memory consumption is more than 84.5024%, which may cause oom error. Please reduce num_parallel_workers size / optimize 'per_batch_map' function / other python data preprocess function to reduce memory usage.\n"
     ]
    },
    {
     "name": "stdout",
     "output_type": "stream",
     "text": [
      "save model, 0.9813664596273292\n"
     ]
    },
    {
     "name": "stderr",
     "output_type": "stream",
     "text": [
      "[WARNING] MD(19046,7f6f4c7ef700,python):2022-06-19-18:41:12.199.444 [mindspore/ccsrc/minddata/dataset/engine/datasetops/batch_op.cc:135] operator()] Memory consumption is more than 84.5385%, which may cause oom error. Please reduce num_parallel_workers size / optimize 'per_batch_map' function / other python data preprocess function to reduce memory usage.\n"
     ]
    },
    {
     "name": "stdout",
     "output_type": "stream",
     "text": [
      "save model, 0.9813664596273292\n"
     ]
    },
    {
     "name": "stderr",
     "output_type": "stream",
     "text": [
      "[WARNING] MD(19046,7f69dbfff700,python):2022-06-19-18:42:00.266.230 [mindspore/ccsrc/minddata/dataset/engine/datasetops/batch_op.cc:135] operator()] Memory consumption is more than 84.5798%, which may cause oom error. Please reduce num_parallel_workers size / optimize 'per_batch_map' function / other python data preprocess function to reduce memory usage.\n"
     ]
    },
    {
     "name": "stdout",
     "output_type": "stream",
     "text": [
      "save model, 0.9813664596273292\n"
     ]
    },
    {
     "name": "stderr",
     "output_type": "stream",
     "text": [
      "[WARNING] MD(19046,7f6fee724700,python):2022-06-19-18:42:48.238.339 [mindspore/ccsrc/minddata/dataset/engine/datasetops/batch_op.cc:135] operator()] Memory consumption is more than 84.6202%, which may cause oom error. Please reduce num_parallel_workers size / optimize 'per_batch_map' function / other python data preprocess function to reduce memory usage.\n"
     ]
    },
    {
     "name": "stdout",
     "output_type": "stream",
     "text": [
      "save model, 0.9813664596273292\n",
      "epoch: 4 step: 10, loss is 0.3549688160419464\n"
     ]
    },
    {
     "name": "stderr",
     "output_type": "stream",
     "text": [
      "[WARNING] MD(19046,7f6fee724700,python):2022-06-19-18:43:36.339.085 [mindspore/ccsrc/minddata/dataset/engine/datasetops/batch_op.cc:135] operator()] Memory consumption is more than 84.6584%, which may cause oom error. Please reduce num_parallel_workers size / optimize 'per_batch_map' function / other python data preprocess function to reduce memory usage.\n"
     ]
    },
    {
     "name": "stdout",
     "output_type": "stream",
     "text": [
      "save model, 0.9813664596273292\n"
     ]
    },
    {
     "name": "stderr",
     "output_type": "stream",
     "text": [
      "[WARNING] MD(19046,7f6ffa73c700,python):2022-06-19-18:44:24.533.693 [mindspore/ccsrc/minddata/dataset/engine/datasetops/batch_op.cc:135] operator()] Memory consumption is more than 84.674%, which may cause oom error. Please reduce num_parallel_workers size / optimize 'per_batch_map' function / other python data preprocess function to reduce memory usage.\n"
     ]
    },
    {
     "name": "stdout",
     "output_type": "stream",
     "text": [
      "save model, 0.9813664596273292\n"
     ]
    },
    {
     "name": "stderr",
     "output_type": "stream",
     "text": [
      "[WARNING] MD(19046,7f6fd7fff700,python):2022-06-19-18:45:14.789.378 [mindspore/ccsrc/minddata/dataset/engine/datasetops/batch_op.cc:135] operator()] Memory consumption is more than 84.7328%, which may cause oom error. Please reduce num_parallel_workers size / optimize 'per_batch_map' function / other python data preprocess function to reduce memory usage.\n"
     ]
    },
    {
     "name": "stdout",
     "output_type": "stream",
     "text": [
      "save model, 0.9875776397515528\n"
     ]
    },
    {
     "name": "stderr",
     "output_type": "stream",
     "text": [
      "[WARNING] MD(19046,7f6feef25700,python):2022-06-19-18:46:00.577.385 [mindspore/ccsrc/minddata/dataset/engine/datasetops/batch_op.cc:135] operator()] Memory consumption is more than 84.768%, which may cause oom error. Please reduce num_parallel_workers size / optimize 'per_batch_map' function / other python data preprocess function to reduce memory usage.\n"
     ]
    },
    {
     "name": "stdout",
     "output_type": "stream",
     "text": [
      "save model, 0.9875776397515528\n"
     ]
    },
    {
     "name": "stderr",
     "output_type": "stream",
     "text": [
      "[WARNING] MD(19046,7f69c4ff9700,python):2022-06-19-18:46:48.654.880 [mindspore/ccsrc/minddata/dataset/engine/datasetops/batch_op.cc:135] operator()] Memory consumption is more than 84.7933%, which may cause oom error. Please reduce num_parallel_workers size / optimize 'per_batch_map' function / other python data preprocess function to reduce memory usage.\n"
     ]
    },
    {
     "name": "stdout",
     "output_type": "stream",
     "text": [
      "save model, 0.9875776397515528\n",
      "epoch: 4 step: 15, loss is 0.3392663598060608\n"
     ]
    },
    {
     "name": "stderr",
     "output_type": "stream",
     "text": [
      "[WARNING] MD(19046,7f6b00ff9700,python):2022-06-19-18:47:34.660.689 [mindspore/ccsrc/minddata/dataset/engine/datasetops/batch_op.cc:135] operator()] Memory consumption is more than 84.8302%, which may cause oom error. Please reduce num_parallel_workers size / optimize 'per_batch_map' function / other python data preprocess function to reduce memory usage.\n"
     ]
    },
    {
     "name": "stdout",
     "output_type": "stream",
     "text": [
      "save model, 0.9937888198757764\n"
     ]
    },
    {
     "name": "stderr",
     "output_type": "stream",
     "text": [
      "[WARNING] MD(19046,7f69f7fff700,python):2022-06-19-18:48:24.768.320 [mindspore/ccsrc/minddata/dataset/engine/datasetops/batch_op.cc:135] operator()] Memory consumption is more than 84.8801%, which may cause oom error. Please reduce num_parallel_workers size / optimize 'per_batch_map' function / other python data preprocess function to reduce memory usage.\n"
     ]
    },
    {
     "name": "stdout",
     "output_type": "stream",
     "text": [
      "save model, 0.9937888198757764\n"
     ]
    },
    {
     "name": "stderr",
     "output_type": "stream",
     "text": [
      "[WARNING] MD(19046,7f6fed722700,python):2022-06-19-18:49:12.783.997 [mindspore/ccsrc/minddata/dataset/engine/datasetops/batch_op.cc:135] operator()] Memory consumption is more than 84.8997%, which may cause oom error. Please reduce num_parallel_workers size / optimize 'per_batch_map' function / other python data preprocess function to reduce memory usage.\n"
     ]
    },
    {
     "name": "stdout",
     "output_type": "stream",
     "text": [
      "save model, 0.9937888198757764\n"
     ]
    },
    {
     "name": "stderr",
     "output_type": "stream",
     "text": [
      "[WARNING] MD(19046,7f6fee724700,python):2022-06-19-18:50:00.933.495 [mindspore/ccsrc/minddata/dataset/engine/datasetops/batch_op.cc:135] operator()] Memory consumption is more than 84.9431%, which may cause oom error. Please reduce num_parallel_workers size / optimize 'per_batch_map' function / other python data preprocess function to reduce memory usage.\n"
     ]
    },
    {
     "name": "stdout",
     "output_type": "stream",
     "text": [
      "save model, 0.9937888198757764\n"
     ]
    },
    {
     "name": "stderr",
     "output_type": "stream",
     "text": [
      "[WARNING] MD(19046,7f6fd77fe700,python):2022-06-19-18:50:51.188.818 [mindspore/ccsrc/minddata/dataset/engine/datasetops/batch_op.cc:135] operator()] Memory consumption is more than 84.9789%, which may cause oom error. Please reduce num_parallel_workers size / optimize 'per_batch_map' function / other python data preprocess function to reduce memory usage.\n"
     ]
    },
    {
     "name": "stdout",
     "output_type": "stream",
     "text": [
      "save model, 0.9937888198757764\n",
      "epoch: 4 step: 20, loss is 0.3531344532966614\n"
     ]
    },
    {
     "name": "stderr",
     "output_type": "stream",
     "text": [
      "[WARNING] MD(19046,7f6fed722700,python):2022-06-19-18:51:36.972.378 [mindspore/ccsrc/minddata/dataset/engine/datasetops/batch_op.cc:135] operator()] Memory consumption is more than 85.0162%, which may cause oom error. Please reduce num_parallel_workers size / optimize 'per_batch_map' function / other python data preprocess function to reduce memory usage.\n"
     ]
    },
    {
     "name": "stdout",
     "output_type": "stream",
     "text": [
      "save model, 0.9937888198757764\n"
     ]
    },
    {
     "name": "stderr",
     "output_type": "stream",
     "text": [
      "[WARNING] MD(19046,7f6fecf21700,python):2022-06-19-18:52:22.932.578 [mindspore/ccsrc/minddata/dataset/engine/datasetops/batch_op.cc:135] operator()] Memory consumption is more than 85.0419%, which may cause oom error. Please reduce num_parallel_workers size / optimize 'per_batch_map' function / other python data preprocess function to reduce memory usage.\n"
     ]
    },
    {
     "name": "stdout",
     "output_type": "stream",
     "text": [
      "save model, 0.9937888198757764\n"
     ]
    },
    {
     "name": "stderr",
     "output_type": "stream",
     "text": [
      "[WARNING] MD(19046,7f6fecf21700,python):2022-06-19-18:53:13.391.907 [mindspore/ccsrc/minddata/dataset/engine/datasetops/batch_op.cc:135] operator()] Memory consumption is more than 85.088%, which may cause oom error. Please reduce num_parallel_workers size / optimize 'per_batch_map' function / other python data preprocess function to reduce memory usage.\n"
     ]
    },
    {
     "name": "stdout",
     "output_type": "stream",
     "text": [
      "save model, 0.9875776397515528\n"
     ]
    },
    {
     "name": "stderr",
     "output_type": "stream",
     "text": [
      "[WARNING] MD(19046,7f6fecf21700,python):2022-06-19-18:54:01.534.600 [mindspore/ccsrc/minddata/dataset/engine/datasetops/batch_op.cc:135] operator()] Memory consumption is more than 85.134%, which may cause oom error. Please reduce num_parallel_workers size / optimize 'per_batch_map' function / other python data preprocess function to reduce memory usage.\n"
     ]
    },
    {
     "name": "stdout",
     "output_type": "stream",
     "text": [
      "save model, 0.9875776397515528\n"
     ]
    },
    {
     "name": "stderr",
     "output_type": "stream",
     "text": [
      "[WARNING] MD(19046,7f6feef25700,python):2022-06-19-18:54:49.699.438 [mindspore/ccsrc/minddata/dataset/engine/datasetops/batch_op.cc:135] operator()] Memory consumption is more than 85.1495%, which may cause oom error. Please reduce num_parallel_workers size / optimize 'per_batch_map' function / other python data preprocess function to reduce memory usage.\n"
     ]
    },
    {
     "name": "stdout",
     "output_type": "stream",
     "text": [
      "save model, 0.9875776397515528\n",
      "epoch: 4 step: 25, loss is 0.2807525396347046\n"
     ]
    },
    {
     "name": "stderr",
     "output_type": "stream",
     "text": [
      "[WARNING] MD(19046,7f6ffa73c700,python):2022-06-19-18:55:35.466.051 [mindspore/ccsrc/minddata/dataset/engine/datasetops/batch_op.cc:135] operator()] Memory consumption is more than 85.2006%, which may cause oom error. Please reduce num_parallel_workers size / optimize 'per_batch_map' function / other python data preprocess function to reduce memory usage.\n"
     ]
    },
    {
     "name": "stdout",
     "output_type": "stream",
     "text": [
      "save model, 0.9813664596273292\n"
     ]
    },
    {
     "name": "stderr",
     "output_type": "stream",
     "text": [
      "[WARNING] MD(19046,7f6ff9f3b700,python):2022-06-19-18:56:25.803.509 [mindspore/ccsrc/minddata/dataset/engine/datasetops/batch_op.cc:135] operator()] Memory consumption is more than 85.2325%, which may cause oom error. Please reduce num_parallel_workers size / optimize 'per_batch_map' function / other python data preprocess function to reduce memory usage.\n"
     ]
    },
    {
     "name": "stdout",
     "output_type": "stream",
     "text": [
      "save model, 0.9813664596273292\n"
     ]
    },
    {
     "name": "stderr",
     "output_type": "stream",
     "text": [
      "[WARNING] MD(19046,7f6ff9f3b700,python):2022-06-19-18:57:11.730.348 [mindspore/ccsrc/minddata/dataset/engine/datasetops/batch_op.cc:135] operator()] Memory consumption is more than 85.2723%, which may cause oom error. Please reduce num_parallel_workers size / optimize 'per_batch_map' function / other python data preprocess function to reduce memory usage.\n"
     ]
    },
    {
     "name": "stdout",
     "output_type": "stream",
     "text": [
      "save model, 0.9813664596273292\n"
     ]
    },
    {
     "name": "stderr",
     "output_type": "stream",
     "text": [
      "[WARNING] MD(19046,7f6ff9f3b700,python):2022-06-19-18:58:02.127.815 [mindspore/ccsrc/minddata/dataset/engine/datasetops/batch_op.cc:135] operator()] Memory consumption is more than 85.299%, which may cause oom error. Please reduce num_parallel_workers size / optimize 'per_batch_map' function / other python data preprocess function to reduce memory usage.\n"
     ]
    },
    {
     "name": "stdout",
     "output_type": "stream",
     "text": [
      "save model, 0.9813664596273292\n"
     ]
    },
    {
     "name": "stderr",
     "output_type": "stream",
     "text": [
      "[WARNING] MD(19046,7f68a1ffb700,python):2022-06-19-18:58:49.966.971 [mindspore/ccsrc/minddata/dataset/engine/datasetops/batch_op.cc:135] operator()] Memory consumption is more than 85.3487%, which may cause oom error. Please reduce num_parallel_workers size / optimize 'per_batch_map' function / other python data preprocess function to reduce memory usage.\n"
     ]
    },
    {
     "name": "stdout",
     "output_type": "stream",
     "text": [
      "save model, 0.9813664596273292\n",
      "epoch: 4 step: 30, loss is 0.36172738671302795\n"
     ]
    },
    {
     "name": "stderr",
     "output_type": "stream",
     "text": [
      "[WARNING] MD(19046,7f69c7fff700,python):2022-06-19-18:59:38.001.604 [mindspore/ccsrc/minddata/dataset/engine/datasetops/batch_op.cc:135] operator()] Memory consumption is more than 85.3901%, which may cause oom error. Please reduce num_parallel_workers size / optimize 'per_batch_map' function / other python data preprocess function to reduce memory usage.\n"
     ]
    },
    {
     "name": "stdout",
     "output_type": "stream",
     "text": [
      "save model, 0.9813664596273292\n"
     ]
    },
    {
     "name": "stderr",
     "output_type": "stream",
     "text": [
      "[WARNING] MD(19046,7f6b1d7fa700,python):2022-06-19-19:00:25.896.095 [mindspore/ccsrc/minddata/dataset/engine/datasetops/batch_op.cc:135] operator()] Memory consumption is more than 85.4134%, which may cause oom error. Please reduce num_parallel_workers size / optimize 'per_batch_map' function / other python data preprocess function to reduce memory usage.\n"
     ]
    },
    {
     "name": "stdout",
     "output_type": "stream",
     "text": [
      "save model, 0.9813664596273292\n"
     ]
    },
    {
     "name": "stderr",
     "output_type": "stream",
     "text": [
      "[WARNING] MD(19046,7f6fecf21700,python):2022-06-19-19:01:13.805.424 [mindspore/ccsrc/minddata/dataset/engine/datasetops/batch_op.cc:135] operator()] Memory consumption is more than 85.4436%, which may cause oom error. Please reduce num_parallel_workers size / optimize 'per_batch_map' function / other python data preprocess function to reduce memory usage.\n"
     ]
    },
    {
     "name": "stdout",
     "output_type": "stream",
     "text": [
      "save model, 0.9813664596273292\n"
     ]
    },
    {
     "name": "stderr",
     "output_type": "stream",
     "text": [
      "[WARNING] MD(19046,7f6fed722700,python):2022-06-19-19:02:01.831.894 [mindspore/ccsrc/minddata/dataset/engine/datasetops/batch_op.cc:135] operator()] Memory consumption is more than 85.4811%, which may cause oom error. Please reduce num_parallel_workers size / optimize 'per_batch_map' function / other python data preprocess function to reduce memory usage.\n"
     ]
    },
    {
     "name": "stdout",
     "output_type": "stream",
     "text": [
      "save model, 0.9813664596273292\n"
     ]
    },
    {
     "name": "stderr",
     "output_type": "stream",
     "text": [
      "[WARNING] MD(19046,7f6b1cff9700,python):2022-06-19-19:02:49.745.765 [mindspore/ccsrc/minddata/dataset/engine/datasetops/batch_op.cc:135] operator()] Memory consumption is more than 85.5269%, which may cause oom error. Please reduce num_parallel_workers size / optimize 'per_batch_map' function / other python data preprocess function to reduce memory usage.\n"
     ]
    },
    {
     "name": "stdout",
     "output_type": "stream",
     "text": [
      "save model, 0.9813664596273292\n",
      "epoch: 4 step: 35, loss is 0.37554699182510376\n"
     ]
    },
    {
     "name": "stderr",
     "output_type": "stream",
     "text": [
      "[WARNING] MD(19046,7f6a50ff9700,python):2022-06-19-19:03:37.561.508 [mindspore/ccsrc/minddata/dataset/engine/datasetops/batch_op.cc:135] operator()] Memory consumption is more than 85.5614%, which may cause oom error. Please reduce num_parallel_workers size / optimize 'per_batch_map' function / other python data preprocess function to reduce memory usage.\n"
     ]
    },
    {
     "name": "stdout",
     "output_type": "stream",
     "text": [
      "save model, 0.9813664596273292\n"
     ]
    },
    {
     "name": "stderr",
     "output_type": "stream",
     "text": [
      "[WARNING] MD(19046,7f69abfff700,python):2022-06-19-19:04:25.255.560 [mindspore/ccsrc/minddata/dataset/engine/datasetops/batch_op.cc:135] operator()] Memory consumption is more than 85.6015%, which may cause oom error. Please reduce num_parallel_workers size / optimize 'per_batch_map' function / other python data preprocess function to reduce memory usage.\n"
     ]
    },
    {
     "name": "stdout",
     "output_type": "stream",
     "text": [
      "save model, 0.9813664596273292\n"
     ]
    },
    {
     "name": "stderr",
     "output_type": "stream",
     "text": [
      "[WARNING] MD(19046,7f6fc3fff700,python):2022-06-19-19:05:15.355.111 [mindspore/ccsrc/minddata/dataset/engine/datasetops/batch_op.cc:135] operator()] Memory consumption is more than 85.6446%, which may cause oom error. Please reduce num_parallel_workers size / optimize 'per_batch_map' function / other python data preprocess function to reduce memory usage.\n"
     ]
    },
    {
     "name": "stdout",
     "output_type": "stream",
     "text": [
      "save model, 0.9813664596273292\n"
     ]
    },
    {
     "name": "stderr",
     "output_type": "stream",
     "text": [
      "[WARNING] MD(19046,7f6fef726700,python):2022-06-19-19:06:03.176.070 [mindspore/ccsrc/minddata/dataset/engine/datasetops/batch_op.cc:135] operator()] Memory consumption is more than 85.6655%, which may cause oom error. Please reduce num_parallel_workers size / optimize 'per_batch_map' function / other python data preprocess function to reduce memory usage.\n"
     ]
    },
    {
     "name": "stdout",
     "output_type": "stream",
     "text": [
      "save model, 0.9813664596273292\n"
     ]
    },
    {
     "name": "stderr",
     "output_type": "stream",
     "text": [
      "[WARNING] MD(19046,7f6ffa73c700,python):2022-06-19-19:06:48.942.660 [mindspore/ccsrc/minddata/dataset/engine/datasetops/batch_op.cc:135] operator()] Memory consumption is more than 85.705%, which may cause oom error. Please reduce num_parallel_workers size / optimize 'per_batch_map' function / other python data preprocess function to reduce memory usage.\n"
     ]
    },
    {
     "name": "stdout",
     "output_type": "stream",
     "text": [
      "save model, 0.9813664596273292\n",
      "epoch: 4 step: 40, loss is 0.3133555054664612\n"
     ]
    },
    {
     "name": "stderr",
     "output_type": "stream",
     "text": [
      "[WARNING] MD(19046,7f6fecf21700,python):2022-06-19-19:07:36.847.871 [mindspore/ccsrc/minddata/dataset/engine/datasetops/batch_op.cc:135] operator()] Memory consumption is more than 85.7463%, which may cause oom error. Please reduce num_parallel_workers size / optimize 'per_batch_map' function / other python data preprocess function to reduce memory usage.\n"
     ]
    },
    {
     "name": "stdout",
     "output_type": "stream",
     "text": [
      "save model, 0.9813664596273292\n"
     ]
    },
    {
     "name": "stderr",
     "output_type": "stream",
     "text": [
      "[WARNING] MD(19046,7f6babfff700,python):2022-06-19-19:08:24.891.898 [mindspore/ccsrc/minddata/dataset/engine/datasetops/batch_op.cc:135] operator()] Memory consumption is more than 85.7838%, which may cause oom error. Please reduce num_parallel_workers size / optimize 'per_batch_map' function / other python data preprocess function to reduce memory usage.\n"
     ]
    },
    {
     "name": "stdout",
     "output_type": "stream",
     "text": [
      "save model, 0.9813664596273292\n"
     ]
    },
    {
     "name": "stderr",
     "output_type": "stream",
     "text": [
      "[WARNING] MD(19046,7f67797fa700,python):2022-06-19-19:09:14.870.951 [mindspore/ccsrc/minddata/dataset/engine/datasetops/batch_op.cc:135] operator()] Memory consumption is more than 85.8232%, which may cause oom error. Please reduce num_parallel_workers size / optimize 'per_batch_map' function / other python data preprocess function to reduce memory usage.\n"
     ]
    },
    {
     "name": "stdout",
     "output_type": "stream",
     "text": [
      "save model, 0.9813664596273292\n"
     ]
    },
    {
     "name": "stderr",
     "output_type": "stream",
     "text": [
      "[WARNING] MD(19046,7f6baa7fc700,python):2022-06-19-19:10:00.666.109 [mindspore/ccsrc/minddata/dataset/engine/datasetops/batch_op.cc:135] operator()] Memory consumption is more than 85.8542%, which may cause oom error. Please reduce num_parallel_workers size / optimize 'per_batch_map' function / other python data preprocess function to reduce memory usage.\n"
     ]
    },
    {
     "name": "stdout",
     "output_type": "stream",
     "text": [
      "save model, 0.9813664596273292\n"
     ]
    },
    {
     "name": "stderr",
     "output_type": "stream",
     "text": [
      "[WARNING] MD(19046,7f6712ffd700,python):2022-06-19-19:10:48.653.492 [mindspore/ccsrc/minddata/dataset/engine/datasetops/batch_op.cc:135] operator()] Memory consumption is more than 85.89%, which may cause oom error. Please reduce num_parallel_workers size / optimize 'per_batch_map' function / other python data preprocess function to reduce memory usage.\n"
     ]
    },
    {
     "name": "stdout",
     "output_type": "stream",
     "text": [
      "save model, 0.9813664596273292\n",
      "epoch: 4 step: 45, loss is 0.3245902359485626\n"
     ]
    },
    {
     "name": "stderr",
     "output_type": "stream",
     "text": [
      "[WARNING] MD(19046,7f6b427fc700,python):2022-06-19-19:11:36.552.222 [mindspore/ccsrc/minddata/dataset/engine/datasetops/batch_op.cc:135] operator()] Memory consumption is more than 85.9295%, which may cause oom error. Please reduce num_parallel_workers size / optimize 'per_batch_map' function / other python data preprocess function to reduce memory usage.\n"
     ]
    },
    {
     "name": "stdout",
     "output_type": "stream",
     "text": [
      "save model, 0.9813664596273292\n"
     ]
    },
    {
     "name": "stderr",
     "output_type": "stream",
     "text": [
      "[WARNING] MD(19046,7f69f4ff9700,python):2022-06-19-19:12:24.398.994 [mindspore/ccsrc/minddata/dataset/engine/datasetops/batch_op.cc:135] operator()] Memory consumption is more than 85.9694%, which may cause oom error. Please reduce num_parallel_workers size / optimize 'per_batch_map' function / other python data preprocess function to reduce memory usage.\n"
     ]
    },
    {
     "name": "stdout",
     "output_type": "stream",
     "text": [
      "save model, 0.9813664596273292\n"
     ]
    },
    {
     "name": "stderr",
     "output_type": "stream",
     "text": [
      "[WARNING] MD(19046,7f6fed722700,python):2022-06-19-19:13:12.274.439 [mindspore/ccsrc/minddata/dataset/engine/datasetops/batch_op.cc:135] operator()] Memory consumption is more than 86.0025%, which may cause oom error. Please reduce num_parallel_workers size / optimize 'per_batch_map' function / other python data preprocess function to reduce memory usage.\n"
     ]
    },
    {
     "name": "stdout",
     "output_type": "stream",
     "text": [
      "save model, 0.9813664596273292\n"
     ]
    },
    {
     "name": "stderr",
     "output_type": "stream",
     "text": [
      "[WARNING] MD(19046,7f6ffbf3f700,python):2022-06-19-19:13:48.883.190 [mindspore/ccsrc/minddata/dataset/engine/datasetops/batch_op.cc:135] operator()] Memory consumption is more than 86.0134%, which may cause oom error. Please reduce num_parallel_workers size / optimize 'per_batch_map' function / other python data preprocess function to reduce memory usage.\n",
      "[WARNING] MD(19046,7f6b277fe700,python):2022-06-19-19:13:59.915.244 [mindspore/ccsrc/minddata/dataset/engine/datasetops/batch_op.cc:135] operator()] Memory consumption is more than 86.0355%, which may cause oom error. Please reduce num_parallel_workers size / optimize 'per_batch_map' function / other python data preprocess function to reduce memory usage.\n"
     ]
    },
    {
     "name": "stdout",
     "output_type": "stream",
     "text": [
      "save model, 0.9813664596273292\n"
     ]
    },
    {
     "name": "stderr",
     "output_type": "stream",
     "text": [
      "[WARNING] MD(19046,7f6b1ffff700,python):2022-06-19-19:14:47.769.141 [mindspore/ccsrc/minddata/dataset/engine/datasetops/batch_op.cc:135] operator()] Memory consumption is more than 86.0668%, which may cause oom error. Please reduce num_parallel_workers size / optimize 'per_batch_map' function / other python data preprocess function to reduce memory usage.\n"
     ]
    },
    {
     "name": "stdout",
     "output_type": "stream",
     "text": [
      "save model, 0.9813664596273292\n",
      "epoch: 4 step: 50, loss is 0.3781734108924866\n"
     ]
    },
    {
     "name": "stderr",
     "output_type": "stream",
     "text": [
      "[WARNING] MD(19046,7f6feef25700,python):2022-06-19-19:15:35.596.935 [mindspore/ccsrc/minddata/dataset/engine/datasetops/batch_op.cc:135] operator()] Memory consumption is more than 86.1159%, which may cause oom error. Please reduce num_parallel_workers size / optimize 'per_batch_map' function / other python data preprocess function to reduce memory usage.\n"
     ]
    },
    {
     "name": "stdout",
     "output_type": "stream",
     "text": [
      "save model, 0.9813664596273292\n"
     ]
    },
    {
     "name": "stderr",
     "output_type": "stream",
     "text": [
      "[WARNING] MD(19046,7f6fd77fe700,python):2022-06-19-19:16:23.224.961 [mindspore/ccsrc/minddata/dataset/engine/datasetops/batch_op.cc:135] operator()] Memory consumption is more than 86.1433%, which may cause oom error. Please reduce num_parallel_workers size / optimize 'per_batch_map' function / other python data preprocess function to reduce memory usage.\n"
     ]
    },
    {
     "name": "stdout",
     "output_type": "stream",
     "text": [
      "save model, 0.9813664596273292\n"
     ]
    },
    {
     "name": "stderr",
     "output_type": "stream",
     "text": [
      "[WARNING] MD(19046,7f6ffaf3d700,python):2022-06-19-19:17:10.880.058 [mindspore/ccsrc/minddata/dataset/engine/datasetops/batch_op.cc:135] operator()] Memory consumption is more than 86.1803%, which may cause oom error. Please reduce num_parallel_workers size / optimize 'per_batch_map' function / other python data preprocess function to reduce memory usage.\n"
     ]
    },
    {
     "name": "stdout",
     "output_type": "stream",
     "text": [
      "save model, 0.9813664596273292\n"
     ]
    },
    {
     "name": "stderr",
     "output_type": "stream",
     "text": [
      "[WARNING] MD(19046,7f6ffa73c700,python):2022-06-19-19:17:58.326.483 [mindspore/ccsrc/minddata/dataset/engine/datasetops/batch_op.cc:135] operator()] Memory consumption is more than 86.2146%, which may cause oom error. Please reduce num_parallel_workers size / optimize 'per_batch_map' function / other python data preprocess function to reduce memory usage.\n"
     ]
    },
    {
     "name": "stdout",
     "output_type": "stream",
     "text": [
      "save model, 0.9813664596273292\n"
     ]
    },
    {
     "name": "stderr",
     "output_type": "stream",
     "text": [
      "[WARNING] MD(19046,7f6ffaf3d700,python):2022-06-19-19:18:45.991.125 [mindspore/ccsrc/minddata/dataset/engine/datasetops/batch_op.cc:135] operator()] Memory consumption is more than 86.2584%, which may cause oom error. Please reduce num_parallel_workers size / optimize 'per_batch_map' function / other python data preprocess function to reduce memory usage.\n"
     ]
    },
    {
     "name": "stdout",
     "output_type": "stream",
     "text": [
      "save model, 0.9813664596273292\n",
      "epoch: 4 step: 55, loss is 0.318853497505188\n"
     ]
    },
    {
     "name": "stderr",
     "output_type": "stream",
     "text": [
      "[WARNING] MD(19046,7f6fee724700,python):2022-06-19-19:19:33.754.994 [mindspore/ccsrc/minddata/dataset/engine/datasetops/batch_op.cc:135] operator()] Memory consumption is more than 86.2843%, which may cause oom error. Please reduce num_parallel_workers size / optimize 'per_batch_map' function / other python data preprocess function to reduce memory usage.\n"
     ]
    },
    {
     "name": "stdout",
     "output_type": "stream",
     "text": [
      "save model, 0.9813664596273292\n"
     ]
    },
    {
     "name": "stderr",
     "output_type": "stream",
     "text": [
      "[WARNING] MD(19046,7f6fed722700,python):2022-06-19-19:20:23.730.444 [mindspore/ccsrc/minddata/dataset/engine/datasetops/batch_op.cc:135] operator()] Memory consumption is more than 86.3388%, which may cause oom error. Please reduce num_parallel_workers size / optimize 'per_batch_map' function / other python data preprocess function to reduce memory usage.\n"
     ]
    },
    {
     "name": "stdout",
     "output_type": "stream",
     "text": [
      "save model, 0.9813664596273292\n"
     ]
    },
    {
     "name": "stderr",
     "output_type": "stream",
     "text": [
      "[WARNING] MD(19046,7f6fd77fe700,python):2022-06-19-19:21:09.223.039 [mindspore/ccsrc/minddata/dataset/engine/datasetops/batch_op.cc:135] operator()] Memory consumption is more than 86.3615%, which may cause oom error. Please reduce num_parallel_workers size / optimize 'per_batch_map' function / other python data preprocess function to reduce memory usage.\n"
     ]
    },
    {
     "name": "stdout",
     "output_type": "stream",
     "text": [
      "save model, 0.9813664596273292\n"
     ]
    },
    {
     "name": "stderr",
     "output_type": "stream",
     "text": [
      "[WARNING] MD(19046,7f6fa7fff700,python):2022-06-19-19:21:57.253.570 [mindspore/ccsrc/minddata/dataset/engine/datasetops/batch_op.cc:135] operator()] Memory consumption is more than 86.4032%, which may cause oom error. Please reduce num_parallel_workers size / optimize 'per_batch_map' function / other python data preprocess function to reduce memory usage.\n"
     ]
    },
    {
     "name": "stdout",
     "output_type": "stream",
     "text": [
      "save model, 0.9813664596273292\n"
     ]
    },
    {
     "name": "stderr",
     "output_type": "stream",
     "text": [
      "[WARNING] MD(19046,7f6ad4ff9700,python):2022-06-19-19:22:45.105.411 [mindspore/ccsrc/minddata/dataset/engine/datasetops/batch_op.cc:135] operator()] Memory consumption is more than 86.4622%, which may cause oom error. Please reduce num_parallel_workers size / optimize 'per_batch_map' function / other python data preprocess function to reduce memory usage.\n"
     ]
    },
    {
     "name": "stdout",
     "output_type": "stream",
     "text": [
      "save model, 0.9813664596273292\n",
      "epoch: 4 step: 60, loss is 0.3400414288043976\n"
     ]
    },
    {
     "name": "stderr",
     "output_type": "stream",
     "text": [
      "[WARNING] MD(19046,7f6b417fa700,python):2022-06-19-19:23:32.965.296 [mindspore/ccsrc/minddata/dataset/engine/datasetops/batch_op.cc:135] operator()] Memory consumption is more than 86.4818%, which may cause oom error. Please reduce num_parallel_workers size / optimize 'per_batch_map' function / other python data preprocess function to reduce memory usage.\n"
     ]
    },
    {
     "name": "stdout",
     "output_type": "stream",
     "text": [
      "save model, 0.9813664596273292\n"
     ]
    },
    {
     "name": "stderr",
     "output_type": "stream",
     "text": [
      "[WARNING] MD(19046,7f6fee724700,python):2022-06-19-19:24:21.021.470 [mindspore/ccsrc/minddata/dataset/engine/datasetops/batch_op.cc:135] operator()] Memory consumption is more than 86.5162%, which may cause oom error. Please reduce num_parallel_workers size / optimize 'per_batch_map' function / other python data preprocess function to reduce memory usage.\n"
     ]
    },
    {
     "name": "stdout",
     "output_type": "stream",
     "text": [
      "save model, 0.9813664596273292\n"
     ]
    },
    {
     "name": "stderr",
     "output_type": "stream",
     "text": [
      "[WARNING] MD(19046,7f6ffc740700,python):2022-06-19-19:25:09.014.108 [mindspore/ccsrc/minddata/dataset/engine/datasetops/batch_op.cc:135] operator()] Memory consumption is more than 86.5455%, which may cause oom error. Please reduce num_parallel_workers size / optimize 'per_batch_map' function / other python data preprocess function to reduce memory usage.\n"
     ]
    },
    {
     "name": "stdout",
     "output_type": "stream",
     "text": [
      "save model, 0.9813664596273292\n"
     ]
    },
    {
     "name": "stderr",
     "output_type": "stream",
     "text": [
      "[WARNING] MD(19046,7f6f4e7f3700,python):2022-06-19-19:25:59.356.480 [mindspore/ccsrc/minddata/dataset/engine/datasetops/batch_op.cc:135] operator()] Memory consumption is more than 86.5905%, which may cause oom error. Please reduce num_parallel_workers size / optimize 'per_batch_map' function / other python data preprocess function to reduce memory usage.\n"
     ]
    },
    {
     "name": "stdout",
     "output_type": "stream",
     "text": [
      "save model, 0.9813664596273292\n"
     ]
    },
    {
     "name": "stderr",
     "output_type": "stream",
     "text": [
      "[WARNING] MD(19046,7f6b03fff700,python):2022-06-19-19:26:44.868.756 [mindspore/ccsrc/minddata/dataset/engine/datasetops/batch_op.cc:135] operator()] Memory consumption is more than 86.6473%, which may cause oom error. Please reduce num_parallel_workers size / optimize 'per_batch_map' function / other python data preprocess function to reduce memory usage.\n"
     ]
    },
    {
     "name": "stdout",
     "output_type": "stream",
     "text": [
      "save model, 0.9813664596273292\n",
      "epoch: 4 step: 65, loss is 0.4065791964530945\n"
     ]
    },
    {
     "name": "stderr",
     "output_type": "stream",
     "text": [
      "[WARNING] MD(19046,7f6fecf21700,python):2022-06-19-19:27:32.821.874 [mindspore/ccsrc/minddata/dataset/engine/datasetops/batch_op.cc:135] operator()] Memory consumption is more than 86.668%, which may cause oom error. Please reduce num_parallel_workers size / optimize 'per_batch_map' function / other python data preprocess function to reduce memory usage.\n"
     ]
    },
    {
     "name": "stdout",
     "output_type": "stream",
     "text": [
      "save model, 0.9813664596273292\n"
     ]
    },
    {
     "name": "stderr",
     "output_type": "stream",
     "text": [
      "[WARNING] MD(19046,7f69d0ff9700,python):2022-06-19-19:28:20.871.283 [mindspore/ccsrc/minddata/dataset/engine/datasetops/batch_op.cc:135] operator()] Memory consumption is more than 86.6906%, which may cause oom error. Please reduce num_parallel_workers size / optimize 'per_batch_map' function / other python data preprocess function to reduce memory usage.\n"
     ]
    },
    {
     "name": "stdout",
     "output_type": "stream",
     "text": [
      "save model, 0.9813664596273292\n"
     ]
    },
    {
     "name": "stderr",
     "output_type": "stream",
     "text": [
      "[WARNING] MD(19046,7f6b26ffd700,python):2022-06-19-19:29:09.078.022 [mindspore/ccsrc/minddata/dataset/engine/datasetops/batch_op.cc:135] operator()] Memory consumption is more than 86.7383%, which may cause oom error. Please reduce num_parallel_workers size / optimize 'per_batch_map' function / other python data preprocess function to reduce memory usage.\n"
     ]
    },
    {
     "name": "stdout",
     "output_type": "stream",
     "text": [
      "save model, 0.9813664596273292\n"
     ]
    },
    {
     "name": "stderr",
     "output_type": "stream",
     "text": [
      "[WARNING] MD(19046,7f6fed722700,python):2022-06-19-19:29:57.127.565 [mindspore/ccsrc/minddata/dataset/engine/datasetops/batch_op.cc:135] operator()] Memory consumption is more than 86.7761%, which may cause oom error. Please reduce num_parallel_workers size / optimize 'per_batch_map' function / other python data preprocess function to reduce memory usage.\n"
     ]
    },
    {
     "name": "stdout",
     "output_type": "stream",
     "text": [
      "save model, 0.9813664596273292\n"
     ]
    },
    {
     "name": "stderr",
     "output_type": "stream",
     "text": [
      "[WARNING] MD(19046,7f6babfff700,python):2022-06-19-19:30:45.179.607 [mindspore/ccsrc/minddata/dataset/engine/datasetops/batch_op.cc:135] operator()] Memory consumption is more than 86.8035%, which may cause oom error. Please reduce num_parallel_workers size / optimize 'per_batch_map' function / other python data preprocess function to reduce memory usage.\n"
     ]
    },
    {
     "name": "stdout",
     "output_type": "stream",
     "text": [
      "save model, 0.9813664596273292\n",
      "epoch: 4 step: 70, loss is 0.3681197464466095\n"
     ]
    },
    {
     "name": "stderr",
     "output_type": "stream",
     "text": [
      "[WARNING] MD(19046,7f6b01ffb700,python):2022-06-19-19:31:33.185.683 [mindspore/ccsrc/minddata/dataset/engine/datasetops/batch_op.cc:135] operator()] Memory consumption is more than 86.8411%, which may cause oom error. Please reduce num_parallel_workers size / optimize 'per_batch_map' function / other python data preprocess function to reduce memory usage.\n"
     ]
    },
    {
     "name": "stdout",
     "output_type": "stream",
     "text": [
      "save model, 0.9813664596273292\n"
     ]
    },
    {
     "name": "stderr",
     "output_type": "stream",
     "text": [
      "[WARNING] MD(19046,7f6fef726700,python):2022-06-19-19:32:21.347.603 [mindspore/ccsrc/minddata/dataset/engine/datasetops/batch_op.cc:135] operator()] Memory consumption is more than 86.8706%, which may cause oom error. Please reduce num_parallel_workers size / optimize 'per_batch_map' function / other python data preprocess function to reduce memory usage.\n"
     ]
    },
    {
     "name": "stdout",
     "output_type": "stream",
     "text": [
      "save model, 0.9813664596273292\n"
     ]
    },
    {
     "name": "stderr",
     "output_type": "stream",
     "text": [
      "[WARNING] MD(19046,7f6fc1ffb700,python):2022-06-19-19:33:09.443.251 [mindspore/ccsrc/minddata/dataset/engine/datasetops/batch_op.cc:135] operator()] Memory consumption is more than 86.9113%, which may cause oom error. Please reduce num_parallel_workers size / optimize 'per_batch_map' function / other python data preprocess function to reduce memory usage.\n"
     ]
    },
    {
     "name": "stdout",
     "output_type": "stream",
     "text": [
      "save model, 0.9813664596273292\n"
     ]
    },
    {
     "name": "stderr",
     "output_type": "stream",
     "text": [
      "[WARNING] MD(19046,7f6b277fe700,python):2022-06-19-19:33:57.503.573 [mindspore/ccsrc/minddata/dataset/engine/datasetops/batch_op.cc:135] operator()] Memory consumption is more than 86.9554%, which may cause oom error. Please reduce num_parallel_workers size / optimize 'per_batch_map' function / other python data preprocess function to reduce memory usage.\n"
     ]
    },
    {
     "name": "stdout",
     "output_type": "stream",
     "text": [
      "save model, 0.9813664596273292\n"
     ]
    },
    {
     "name": "stderr",
     "output_type": "stream",
     "text": [
      "[WARNING] MD(19046,7f6810ff9700,python):2022-06-19-19:34:45.910.531 [mindspore/ccsrc/minddata/dataset/engine/datasetops/batch_op.cc:135] operator()] Memory consumption is more than 87.0037%, which may cause oom error. Please reduce num_parallel_workers size / optimize 'per_batch_map' function / other python data preprocess function to reduce memory usage.\n"
     ]
    },
    {
     "name": "stdout",
     "output_type": "stream",
     "text": [
      "save model, 0.9813664596273292\n",
      "epoch: 4 step: 75, loss is 0.26186704635620117\n"
     ]
    },
    {
     "name": "stderr",
     "output_type": "stream",
     "text": [
      "[WARNING] MD(19046,7f69c7fff700,python):2022-06-19-19:35:33.969.861 [mindspore/ccsrc/minddata/dataset/engine/datasetops/batch_op.cc:135] operator()] Memory consumption is more than 87.0288%, which may cause oom error. Please reduce num_parallel_workers size / optimize 'per_batch_map' function / other python data preprocess function to reduce memory usage.\n"
     ]
    },
    {
     "name": "stdout",
     "output_type": "stream",
     "text": [
      "save model, 0.9813664596273292\n"
     ]
    },
    {
     "name": "stderr",
     "output_type": "stream",
     "text": [
      "[WARNING] MD(19046,7f69c67fc700,python):2022-06-19-19:36:22.433.164 [mindspore/ccsrc/minddata/dataset/engine/datasetops/batch_op.cc:135] operator()] Memory consumption is more than 87.0621%, which may cause oom error. Please reduce num_parallel_workers size / optimize 'per_batch_map' function / other python data preprocess function to reduce memory usage.\n"
     ]
    },
    {
     "name": "stdout",
     "output_type": "stream",
     "text": [
      "save model, 0.9813664596273292\n"
     ]
    },
    {
     "name": "stderr",
     "output_type": "stream",
     "text": [
      "[WARNING] MD(19046,7f6b1e7fc700,python):2022-06-19-19:37:10.912.458 [mindspore/ccsrc/minddata/dataset/engine/datasetops/batch_op.cc:135] operator()] Memory consumption is more than 87.1058%, which may cause oom error. Please reduce num_parallel_workers size / optimize 'per_batch_map' function / other python data preprocess function to reduce memory usage.\n"
     ]
    },
    {
     "name": "stdout",
     "output_type": "stream",
     "text": [
      "save model, 0.9813664596273292\n"
     ]
    },
    {
     "name": "stderr",
     "output_type": "stream",
     "text": [
      "[WARNING] MD(19046,7f67897fa700,python):2022-06-19-19:38:01.287.369 [mindspore/ccsrc/minddata/dataset/engine/datasetops/batch_op.cc:135] operator()] Memory consumption is more than 87.1369%, which may cause oom error. Please reduce num_parallel_workers size / optimize 'per_batch_map' function / other python data preprocess function to reduce memory usage.\n"
     ]
    },
    {
     "name": "stdout",
     "output_type": "stream",
     "text": [
      "save model, 0.9813664596273292\n"
     ]
    },
    {
     "name": "stderr",
     "output_type": "stream",
     "text": [
      "[WARNING] MD(19046,7f6fecf21700,python):2022-06-19-19:38:46.999.785 [mindspore/ccsrc/minddata/dataset/engine/datasetops/batch_op.cc:135] operator()] Memory consumption is more than 87.1737%, which may cause oom error. Please reduce num_parallel_workers size / optimize 'per_batch_map' function / other python data preprocess function to reduce memory usage.\n"
     ]
    },
    {
     "name": "stdout",
     "output_type": "stream",
     "text": [
      "save model, 0.9813664596273292\n",
      "epoch: 4 step: 80, loss is 0.313529908657074\n"
     ]
    },
    {
     "name": "stderr",
     "output_type": "stream",
     "text": [
      "[WARNING] MD(19046,7f6a53fff700,python):2022-06-19-19:39:34.963.770 [mindspore/ccsrc/minddata/dataset/engine/datasetops/batch_op.cc:135] operator()] Memory consumption is more than 87.2131%, which may cause oom error. Please reduce num_parallel_workers size / optimize 'per_batch_map' function / other python data preprocess function to reduce memory usage.\n"
     ]
    },
    {
     "name": "stdout",
     "output_type": "stream",
     "text": [
      "save model, 0.9813664596273292\n",
      "qubits 8 optimized, used time: 15668\n"
     ]
    }
   ],
   "source": [
    "t1 = time.time()\n",
    "monitor_8_opt = qcn.LossMonitor(5)                                                       # 监控训练中的损失，每5步打印一次损失值\n",
    "accu_8_opt = StepAcc(qcnn_8_opt.model, qcnn_8_opt.test_dataset, qcnn_8_opt.qnet, qubits=8, opt = True)\n",
    "qcnn_8_opt.train(4, callbacks=[monitor_8_opt,accu_8_opt])\n",
    "print('qubits 8 optimized, used time: %.f'%(time.time()-t1))"
   ]
  },
  {
   "cell_type": "code",
   "execution_count": 79,
   "id": "6c1fa8b0",
   "metadata": {},
   "outputs": [
    {
     "data": {
      "image/png": "[encoded data removed]",
      "text/plain": [
       "<Figure size 864x288 with 2 Axes>"
      ]
     },
     "metadata": {
      "needs_background": "light"
     },
     "output_type": "display_data"
    }
   ],
   "source": [
    "fig = plt.figure(figsize=(12,4))\n",
    "\n",
    "ax1 = fig.add_subplot(1,2,1)\n",
    "ax1.plot(accu_8.acc, label='8-qubits')\n",
    "ax1.plot(accu_8_opt.acc[:len(accu_8.acc)], label='8-qubits optimized')\n",
    "# ax1.title('Statistics of accuracy for 4 qubits', fontsize=18)\n",
    "ax1.set_title('Statistics of accuracy for 8 qubits', fontsize=18)\n",
    "ax1.set_xlabel('Steps', fontsize=18)\n",
    "ax1.set_ylabel('Accuracy', fontsize=18)\n",
    "ax1.grid(ls=\":\",c='b')\n",
    "ax1.legend()\n",
    "\n",
    "monitor_8._loss = np.array(monitor_8._loss)\n",
    "monitor_8_opt._loss = np.array(monitor_8_opt._loss)\n",
    "ax2 = fig.add_subplot(1,2,2)\n",
    "ax2.plot(monitor_8._loss[:,0],monitor_8._loss[:,1], label='8-qubits')\n",
    "ax2.plot(monitor_8_opt._loss[:,0], monitor_8_opt._loss[:,1], label='8-qubits optimized')\n",
    "ax2.set_title('Statistics of loss for 8 qubits', fontsize=18)\n",
    "ax2.set_xlabel('Steps', fontsize=18)\n",
    "ax2.set_ylabel('Loss', fontsize=18)\n",
    "ax2.grid(ls=\":\",c='b')\n",
    "ax2.legend()\n",
    "plt.show()"
   ]
  },
  {
   "cell_type": "markdown",
   "id": "e091d453",
   "metadata": {},
   "source": [
    "#### 12比特训练结果"
   ]
  },
  {
   "cell_type": "code",
   "execution_count": 8,
   "id": "b8b5a4a0",
   "metadata": {},
   "outputs": [
    {
     "name": "stdout",
     "output_type": "stream",
     "text": [
      "Load data finished.\n",
      "Extended Data shape: (801, 12), (801,), factor: 10\n",
      "Load data finished.\n",
      "Extended Data shape: (801, 12), (801,), factor: 10\n",
      "epoch: 1 step: 5, loss is 0.823477029800415\n",
      "epoch: 1 step: 10, loss is 0.6966296434402466\n",
      "epoch: 1 step: 15, loss is 0.6564149856567383\n",
      "epoch: 1 step: 20, loss is 0.6589954495429993\n",
      "epoch: 1 step: 25, loss is 0.5579617619514465\n",
      "epoch: 1 step: 30, loss is 0.6020314693450928\n",
      "epoch: 1 step: 35, loss is 0.5717231631278992\n",
      "epoch: 1 step: 40, loss is 0.5296252965927124\n",
      "epoch: 1 step: 45, loss is 0.5218836069107056\n",
      "epoch: 1 step: 50, loss is 0.6347401738166809\n",
      "epoch: 1 step: 55, loss is 0.42691370844841003\n",
      "epoch: 1 step: 60, loss is 0.5654643774032593\n",
      "epoch: 1 step: 65, loss is 0.6942960023880005\n",
      "epoch: 1 step: 70, loss is 0.531991720199585\n",
      "save model, 0.9813664596273292\n",
      "save model, 0.9813664596273292\n",
      "save model, 0.9813664596273292\n",
      "save model, 0.9813664596273292\n",
      "save model, 0.9813664596273292\n",
      "epoch: 1 step: 75, loss is 0.3720463514328003\n",
      "save model, 0.9813664596273292\n",
      "save model, 0.9813664596273292\n",
      "save model, 0.9813664596273292\n",
      "epoch: 1 step: 80, loss is 0.3998216986656189\n",
      "epoch: 2 step: 5, loss is 0.35728922486305237\n",
      "epoch: 2 step: 10, loss is 0.47326192259788513\n",
      "epoch: 2 step: 15, loss is 0.4684460163116455\n",
      "epoch: 2 step: 20, loss is 0.4952082931995392\n",
      "epoch: 2 step: 25, loss is 0.3563278913497925\n",
      "epoch: 2 step: 30, loss is 0.4614105820655823\n",
      "epoch: 2 step: 35, loss is 0.47044122219085693\n",
      "epoch: 2 step: 40, loss is 0.3939210772514343\n",
      "epoch: 2 step: 45, loss is 0.39594388008117676\n",
      "epoch: 2 step: 50, loss is 0.5171838998794556\n",
      "save model, 0.9813664596273292\n",
      "save model, 0.9813664596273292\n",
      "epoch: 2 step: 55, loss is 0.340535044670105\n",
      "save model, 0.9813664596273292\n",
      "save model, 0.9813664596273292\n",
      "save model, 0.9813664596273292\n",
      "save model, 0.9813664596273292\n",
      "save model, 0.9813664596273292\n",
      "epoch: 2 step: 60, loss is 0.4569188058376312\n",
      "save model, 0.9813664596273292\n",
      "save model, 0.9813664596273292\n",
      "save model, 0.9813664596273292\n",
      "save model, 0.9813664596273292\n",
      "save model, 0.9813664596273292\n",
      "epoch: 2 step: 65, loss is 0.5877937078475952\n",
      "save model, 0.9813664596273292\n",
      "save model, 0.9813664596273292\n",
      "save model, 0.9813664596273292\n",
      "save model, 0.9813664596273292\n",
      "save model, 0.9813664596273292\n",
      "epoch: 2 step: 70, loss is 0.4305550158023834\n",
      "save model, 0.9813664596273292\n",
      "save model, 0.9813664596273292\n",
      "save model, 0.9875776397515528\n",
      "save model, 0.9875776397515528\n",
      "save model, 0.9937888198757764\n",
      "epoch: 2 step: 75, loss is 0.29604989290237427\n",
      "save model, 0.9937888198757764\n",
      "save model, 0.9875776397515528\n",
      "save model, 0.9875776397515528\n",
      "save model, 0.9813664596273292\n",
      "save model, 0.9813664596273292\n",
      "epoch: 2 step: 80, loss is 0.32615137100219727\n",
      "save model, 0.9813664596273292\n",
      "save model, 0.9813664596273292\n",
      "save model, 0.9813664596273292\n",
      "save model, 0.9813664596273292\n",
      "save model, 0.9813664596273292\n",
      "epoch: 3 step: 5, loss is 0.2992730736732483\n",
      "save model, 0.9813664596273292\n",
      "save model, 0.9813664596273292\n",
      "save model, 0.9813664596273292\n",
      "save model, 0.9813664596273292\n",
      "save model, 0.9813664596273292\n",
      "epoch: 3 step: 10, loss is 0.40841248631477356\n",
      "save model, 0.9813664596273292\n",
      "save model, 0.9813664596273292\n",
      "save model, 0.9813664596273292\n",
      "save model, 0.9813664596273292\n",
      "save model, 0.9813664596273292\n",
      "epoch: 3 step: 15, loss is 0.3944582939147949\n",
      "save model, 0.9813664596273292\n",
      "save model, 0.9875776397515528\n",
      "save model, 0.9813664596273292\n",
      "save model, 0.9813664596273292\n",
      "save model, 0.9813664596273292\n",
      "epoch: 3 step: 20, loss is 0.4174472987651825\n",
      "save model, 0.9813664596273292\n",
      "save model, 0.9813664596273292\n",
      "save model, 0.9813664596273292\n",
      "save model, 0.9813664596273292\n",
      "save model, 0.9813664596273292\n",
      "epoch: 3 step: 25, loss is 0.2906055152416229\n",
      "save model, 0.9813664596273292\n",
      "save model, 0.9813664596273292\n",
      "save model, 0.9813664596273292\n",
      "save model, 0.9813664596273292\n",
      "save model, 0.9813664596273292\n",
      "epoch: 3 step: 30, loss is 0.4074282646179199\n",
      "save model, 0.9813664596273292\n",
      "save model, 0.9813664596273292\n",
      "save model, 0.9813664596273292\n",
      "save model, 0.9813664596273292\n",
      "save model, 0.9813664596273292\n",
      "epoch: 3 step: 35, loss is 0.4293706715106964\n",
      "save model, 0.9813664596273292\n",
      "save model, 0.9813664596273292\n",
      "save model, 0.9813664596273292\n",
      "save model, 0.9813664596273292\n",
      "save model, 0.9813664596273292\n",
      "epoch: 3 step: 40, loss is 0.35278385877609253\n",
      "save model, 0.9813664596273292\n",
      "save model, 0.9813664596273292\n",
      "save model, 0.9813664596273292\n",
      "epoch: 3 step: 45, loss is 0.36333969235420227\n",
      "epoch: 3 step: 50, loss is 0.5084543228149414\n",
      "epoch: 3 step: 55, loss is 0.33066147565841675\n",
      "save model, 0.9813664596273292\n",
      "save model, 0.9813664596273292\n",
      "save model, 0.9813664596273292\n",
      "epoch: 3 step: 60, loss is 0.439100980758667\n",
      "save model, 0.9813664596273292\n",
      "save model, 0.9813664596273292\n",
      "save model, 0.9813664596273292\n",
      "save model, 0.9813664596273292\n",
      "save model, 0.9813664596273292\n",
      "epoch: 3 step: 65, loss is 0.567804217338562\n",
      "save model, 0.9813664596273292\n",
      "save model, 0.9813664596273292\n",
      "save model, 0.9813664596273292\n",
      "save model, 0.9813664596273292\n",
      "save model, 0.9813664596273292\n",
      "epoch: 3 step: 70, loss is 0.4371384382247925\n",
      "save model, 0.9813664596273292\n",
      "save model, 0.9813664596273292\n",
      "save model, 0.9813664596273292\n",
      "save model, 0.9813664596273292\n",
      "save model, 0.9813664596273292\n",
      "epoch: 3 step: 75, loss is 0.28142863512039185\n",
      "save model, 0.9813664596273292\n",
      "save model, 0.9813664596273292\n",
      "save model, 0.9813664596273292\n",
      "save model, 0.9813664596273292\n",
      "save model, 0.9813664596273292\n",
      "epoch: 3 step: 80, loss is 0.3215872347354889\n",
      "save model, 0.9813664596273292\n",
      "save model, 0.9813664596273292\n",
      "save model, 0.9813664596273292\n",
      "save model, 0.9813664596273292\n",
      "save model, 0.9813664596273292\n",
      "epoch: 4 step: 5, loss is 0.2940535843372345\n",
      "save model, 0.9813664596273292\n",
      "save model, 0.9813664596273292\n",
      "save model, 0.9813664596273292\n",
      "save model, 0.9813664596273292\n",
      "save model, 0.9813664596273292\n",
      "epoch: 4 step: 10, loss is 0.39559388160705566\n",
      "save model, 0.9813664596273292\n",
      "save model, 0.9813664596273292\n",
      "save model, 0.9813664596273292\n",
      "save model, 0.9813664596273292\n",
      "save model, 0.9813664596273292\n",
      "epoch: 4 step: 15, loss is 0.3907430171966553\n",
      "save model, 0.9813664596273292\n",
      "save model, 0.9813664596273292\n",
      "save model, 0.9813664596273292\n",
      "save model, 0.9813664596273292\n",
      "save model, 0.9813664596273292\n",
      "epoch: 4 step: 20, loss is 0.41096392273902893\n",
      "save model, 0.9813664596273292\n",
      "save model, 0.9813664596273292\n",
      "save model, 0.9813664596273292\n",
      "save model, 0.9813664596273292\n",
      "save model, 0.9813664596273292\n",
      "epoch: 4 step: 25, loss is 0.28429538011550903\n",
      "save model, 0.9813664596273292\n",
      "save model, 0.9813664596273292\n",
      "save model, 0.9813664596273292\n",
      "save model, 0.9813664596273292\n",
      "save model, 0.9813664596273292\n",
      "epoch: 4 step: 30, loss is 0.3994544446468353\n",
      "save model, 0.9813664596273292\n",
      "save model, 0.9813664596273292\n",
      "save model, 0.9813664596273292\n",
      "save model, 0.9813664596273292\n",
      "save model, 0.9813664596273292\n",
      "epoch: 4 step: 35, loss is 0.42078697681427\n",
      "save model, 0.9813664596273292\n",
      "save model, 0.9813664596273292\n",
      "save model, 0.9813664596273292\n",
      "save model, 0.9813664596273292\n",
      "save model, 0.9813664596273292\n",
      "epoch: 4 step: 40, loss is 0.34639641642570496\n",
      "save model, 0.9813664596273292\n",
      "save model, 0.9813664596273292\n",
      "save model, 0.9813664596273292\n",
      "save model, 0.9813664596273292\n",
      "epoch: 4 step: 45, loss is 0.35691457986831665\n",
      "epoch: 4 step: 50, loss is 0.5002579689025879\n",
      "epoch: 4 step: 55, loss is 0.32801398634910583\n",
      "save model, 0.9813664596273292\n",
      "save model, 0.9813664596273292\n",
      "save model, 0.9813664596273292\n",
      "save model, 0.9813664596273292\n",
      "save model, 0.9813664596273292\n",
      "epoch: 4 step: 60, loss is 0.43441709876060486\n",
      "save model, 0.9813664596273292\n",
      "save model, 0.9813664596273292\n",
      "save model, 0.9813664596273292\n",
      "save model, 0.9813664596273292\n",
      "save model, 0.9813664596273292\n",
      "epoch: 4 step: 65, loss is 0.5622978210449219\n",
      "save model, 0.9813664596273292\n",
      "save model, 0.9813664596273292\n",
      "save model, 0.9813664596273292\n",
      "save model, 0.9813664596273292\n",
      "save model, 0.9813664596273292\n",
      "epoch: 4 step: 70, loss is 0.4364759624004364\n",
      "save model, 0.9813664596273292\n",
      "save model, 0.9813664596273292\n",
      "save model, 0.9813664596273292\n",
      "save model, 0.9813664596273292\n",
      "save model, 0.9813664596273292\n",
      "epoch: 4 step: 75, loss is 0.2780112326145172\n",
      "save model, 0.9813664596273292\n"
     ]
    },
    {
     "name": "stdout",
     "output_type": "stream",
     "text": [
      "save model, 0.9813664596273292\n",
      "save model, 0.9813664596273292\n",
      "save model, 0.9813664596273292\n",
      "save model, 0.9813664596273292\n",
      "epoch: 4 step: 80, loss is 0.31929492950439453\n",
      "save model, 0.9813664596273292\n",
      "qubits 12, used time: 35909\n"
     ]
    }
   ],
   "source": [
    "qcnn_12 = qcn.QCNN(qubits=12, learning_rate=0.01, epoch=4, batch=8, opt = False)    #未优化电路\n",
    "qcnn_12_opt = qcn.QCNN(qubits=12, learning_rate=0.01, epoch=4, batch=8, opt = True)  #优化电路\n",
    "\n",
    "t1 = time.time()\n",
    "monitor_12 = qcn.LossMonitor(5)                                                       # 监控训练中的损失，每5步打印一次损失值\n",
    "accu_12 = StepAcc(qcnn_12.model, qcnn_12.test_dataset, qcnn_12.qnet, qubits=12, opt = False)\n",
    "qcnn_12.train(4, callbacks=[monitor_12,accu_12])\n",
    "print('qubits 12, used time: %.f'%(time.time()-t1))"
   ]
  },
  {
   "cell_type": "code",
   "execution_count": 9,
   "id": "15e3a91e",
   "metadata": {},
   "outputs": [
    {
     "name": "stdout",
     "output_type": "stream",
     "text": [
      "epoch: 1 step: 5, loss is 0.8487699627876282\n",
      "epoch: 1 step: 10, loss is 0.7212374806404114\n",
      "epoch: 1 step: 15, loss is 0.6658421158790588\n",
      "epoch: 1 step: 20, loss is 0.6713472604751587\n",
      "epoch: 1 step: 25, loss is 0.6403016448020935\n",
      "epoch: 1 step: 30, loss is 0.6377034187316895\n",
      "epoch: 1 step: 35, loss is 0.5982828736305237\n",
      "epoch: 1 step: 40, loss is 0.5655609369277954\n",
      "epoch: 1 step: 45, loss is 0.5617476105690002\n",
      "epoch: 1 step: 50, loss is 0.6870285868644714\n",
      "epoch: 1 step: 55, loss is 0.449368417263031\n",
      "epoch: 1 step: 60, loss is 0.6146565675735474\n",
      "epoch: 1 step: 65, loss is 0.7922105193138123\n",
      "epoch: 1 step: 70, loss is 0.6336759328842163\n",
      "epoch: 1 step: 75, loss is 0.3856649100780487\n",
      "epoch: 1 step: 80, loss is 0.43412917852401733\n",
      "epoch: 2 step: 5, loss is 0.3773481249809265\n",
      "epoch: 2 step: 10, loss is 0.48736754059791565\n",
      "epoch: 2 step: 15, loss is 0.5012590885162354\n",
      "save model, 0.9813664596273292\n",
      "save model, 0.9813664596273292\n",
      "save model, 0.9813664596273292\n",
      "save model, 0.9813664596273292\n",
      "save model, 0.9813664596273292\n",
      "epoch: 2 step: 20, loss is 0.5056707859039307\n",
      "save model, 0.9813664596273292\n",
      "save model, 0.9813664596273292\n",
      "save model, 0.9813664596273292\n",
      "save model, 0.9813664596273292\n",
      "save model, 0.9813664596273292\n",
      "epoch: 2 step: 25, loss is 0.3770875334739685\n",
      "save model, 0.9813664596273292\n",
      "save model, 0.9813664596273292\n",
      "save model, 0.9813664596273292\n",
      "save model, 0.9813664596273292\n",
      "epoch: 2 step: 30, loss is 0.47452905774116516\n",
      "epoch: 2 step: 35, loss is 0.47876936197280884\n",
      "epoch: 2 step: 40, loss is 0.43058523535728455\n",
      "epoch: 2 step: 45, loss is 0.442277193069458\n",
      "epoch: 2 step: 50, loss is 0.5455818772315979\n",
      "epoch: 2 step: 55, loss is 0.3752759099006653\n",
      "epoch: 2 step: 60, loss is 0.5160385966300964\n",
      "epoch: 2 step: 65, loss is 0.662844181060791\n",
      "save model, 0.9813664596273292\n",
      "save model, 0.9813664596273292\n",
      "epoch: 2 step: 70, loss is 0.5042141079902649\n",
      "save model, 0.9813664596273292\n",
      "save model, 0.9813664596273292\n",
      "save model, 0.9813664596273292\n",
      "save model, 0.9813664596273292\n",
      "save model, 0.9813664596273292\n",
      "epoch: 2 step: 75, loss is 0.32790830731391907\n",
      "save model, 0.9813664596273292\n",
      "save model, 0.9813664596273292\n",
      "save model, 0.9813664596273292\n",
      "save model, 0.9813664596273292\n",
      "save model, 0.9813664596273292\n",
      "epoch: 2 step: 80, loss is 0.3657034635543823\n",
      "save model, 0.9813664596273292\n",
      "save model, 0.9813664596273292\n",
      "save model, 0.9813664596273292\n",
      "save model, 0.9813664596273292\n",
      "save model, 0.9813664596273292\n",
      "epoch: 3 step: 5, loss is 0.3254307508468628\n",
      "save model, 0.9813664596273292\n",
      "save model, 0.9813664596273292\n",
      "save model, 0.9813664596273292\n",
      "save model, 0.9813664596273292\n",
      "save model, 0.9813664596273292\n",
      "epoch: 3 step: 10, loss is 0.4278855621814728\n",
      "save model, 0.9813664596273292\n",
      "save model, 0.9813664596273292\n",
      "save model, 0.9813664596273292\n",
      "save model, 0.9813664596273292\n",
      "save model, 0.9813664596273292\n",
      "epoch: 3 step: 15, loss is 0.4217798709869385\n",
      "save model, 0.9813664596273292\n",
      "save model, 0.9813664596273292\n",
      "save model, 0.9813664596273292\n",
      "save model, 0.9813664596273292\n",
      "save model, 0.9813664596273292\n",
      "epoch: 3 step: 20, loss is 0.4421651363372803\n",
      "save model, 0.9813664596273292\n",
      "save model, 0.9813664596273292\n",
      "save model, 0.9813664596273292\n",
      "save model, 0.9813664596273292\n",
      "save model, 0.9813664596273292\n",
      "epoch: 3 step: 25, loss is 0.32422512769699097\n",
      "save model, 0.9813664596273292\n",
      "save model, 0.9813664596273292\n",
      "save model, 0.9813664596273292\n",
      "save model, 0.9813664596273292\n",
      "save model, 0.9813664596273292\n",
      "epoch: 3 step: 30, loss is 0.4214814007282257\n",
      "save model, 0.9813664596273292\n",
      "save model, 0.9813664596273292\n",
      "save model, 0.9813664596273292\n",
      "save model, 0.9813664596273292\n",
      "save model, 0.9813664596273292\n",
      "epoch: 3 step: 35, loss is 0.42730286717414856\n",
      "save model, 0.9813664596273292\n",
      "save model, 0.9813664596273292\n",
      "save model, 0.9813664596273292\n",
      "save model, 0.9813664596273292\n",
      "save model, 0.9813664596273292\n",
      "epoch: 3 step: 40, loss is 0.37341129779815674\n",
      "save model, 0.9813664596273292\n",
      "save model, 0.9813664596273292\n",
      "save model, 0.9813664596273292\n",
      "save model, 0.9813664596273292\n",
      "save model, 0.9813664596273292\n",
      "epoch: 3 step: 45, loss is 0.3862108886241913\n",
      "save model, 0.9813664596273292\n",
      "save model, 0.9813664596273292\n",
      "save model, 0.9813664596273292\n",
      "save model, 0.9813664596273292\n",
      "save model, 0.9813664596273292\n",
      "epoch: 3 step: 50, loss is 0.48440808057785034\n",
      "save model, 0.9813664596273292\n",
      "save model, 0.9813664596273292\n",
      "save model, 0.9813664596273292\n",
      "save model, 0.9813664596273292\n",
      "save model, 0.9813664596273292\n",
      "epoch: 3 step: 55, loss is 0.332253098487854\n",
      "save model, 0.9813664596273292\n",
      "save model, 0.9813664596273292\n",
      "save model, 0.9813664596273292\n",
      "save model, 0.9813664596273292\n",
      "save model, 0.9813664596273292\n",
      "epoch: 3 step: 60, loss is 0.448050320148468\n",
      "save model, 0.9813664596273292\n",
      "save model, 0.9813664596273292\n",
      "save model, 0.9813664596273292\n",
      "save model, 0.9813664596273292\n",
      "save model, 0.9813664596273292\n",
      "epoch: 3 step: 65, loss is 0.5582943558692932\n",
      "save model, 0.9813664596273292\n",
      "save model, 0.9813664596273292\n",
      "save model, 0.9813664596273292\n",
      "save model, 0.9813664596273292\n",
      "save model, 0.9813664596273292\n",
      "epoch: 3 step: 70, loss is 0.4310902953147888\n",
      "save model, 0.9813664596273292\n",
      "save model, 0.9813664596273292\n",
      "save model, 0.9813664596273292\n",
      "save model, 0.9875776397515528\n",
      "save model, 0.9875776397515528\n",
      "epoch: 3 step: 75, loss is 0.2919939160346985\n",
      "save model, 0.9875776397515528\n",
      "save model, 0.9875776397515528\n",
      "save model, 0.9875776397515528\n",
      "save model, 0.9813664596273292\n",
      "save model, 0.9813664596273292\n",
      "epoch: 3 step: 80, loss is 0.3202373683452606\n",
      "save model, 0.9813664596273292\n",
      "save model, 0.9813664596273292\n",
      "save model, 0.9813664596273292\n",
      "save model, 0.9813664596273292\n",
      "save model, 0.9813664596273292\n",
      "epoch: 4 step: 5, loss is 0.2906389832496643\n",
      "save model, 0.9813664596273292\n",
      "save model, 0.9813664596273292\n",
      "save model, 0.9813664596273292\n",
      "save model, 0.9813664596273292\n",
      "save model, 0.9813664596273292\n",
      "epoch: 4 step: 10, loss is 0.3830345869064331\n",
      "save model, 0.9813664596273292\n",
      "save model, 0.9813664596273292\n",
      "save model, 0.9813664596273292\n",
      "save model, 0.9813664596273292\n",
      "save model, 0.9875776397515528\n",
      "epoch: 4 step: 15, loss is 0.3873729407787323\n",
      "save model, 0.9875776397515528\n",
      "save model, 0.9875776397515528\n",
      "save model, 0.9875776397515528\n",
      "save model, 0.9875776397515528\n",
      "save model, 0.9875776397515528\n",
      "epoch: 4 step: 20, loss is 0.4168154299259186\n",
      "save model, 0.9875776397515528\n",
      "save model, 0.9875776397515528\n",
      "save model, 0.9813664596273292\n",
      "save model, 0.9813664596273292\n",
      "save model, 0.9813664596273292\n",
      "epoch: 4 step: 25, loss is 0.30145156383514404\n",
      "save model, 0.9813664596273292\n",
      "save model, 0.9813664596273292\n",
      "save model, 0.9813664596273292\n",
      "save model, 0.9813664596273292\n",
      "save model, 0.9813664596273292\n",
      "epoch: 4 step: 30, loss is 0.3925098776817322\n",
      "save model, 0.9813664596273292\n",
      "save model, 0.9813664596273292\n",
      "save model, 0.9813664596273292\n",
      "save model, 0.9813664596273292\n",
      "save model, 0.9813664596273292\n",
      "epoch: 4 step: 35, loss is 0.40702834725379944\n",
      "save model, 0.9813664596273292\n",
      "save model, 0.9813664596273292\n",
      "save model, 0.9813664596273292\n",
      "save model, 0.9813664596273292\n",
      "save model, 0.9813664596273292\n",
      "epoch: 4 step: 40, loss is 0.35533756017684937\n",
      "save model, 0.9813664596273292\n",
      "save model, 0.9813664596273292\n",
      "save model, 0.9813664596273292\n",
      "save model, 0.9813664596273292\n",
      "save model, 0.9813664596273292\n",
      "epoch: 4 step: 45, loss is 0.3699382245540619\n",
      "save model, 0.9813664596273292\n",
      "save model, 0.9813664596273292\n",
      "save model, 0.9813664596273292\n",
      "save model, 0.9813664596273292\n",
      "save model, 0.9813664596273292\n",
      "epoch: 4 step: 50, loss is 0.465628981590271\n",
      "save model, 0.9813664596273292\n",
      "save model, 0.9813664596273292\n",
      "save model, 0.9813664596273292\n",
      "save model, 0.9813664596273292\n",
      "save model, 0.9813664596273292\n",
      "epoch: 4 step: 55, loss is 0.3241751194000244\n",
      "save model, 0.9813664596273292\n",
      "save model, 0.9813664596273292\n",
      "save model, 0.9813664596273292\n",
      "save model, 0.9813664596273292\n",
      "save model, 0.9813664596273292\n",
      "epoch: 4 step: 60, loss is 0.43619081377983093\n",
      "save model, 0.9813664596273292\n",
      "save model, 0.9813664596273292\n",
      "save model, 0.9813664596273292\n",
      "save model, 0.9813664596273292\n",
      "save model, 0.9813664596273292\n",
      "epoch: 4 step: 65, loss is 0.5443098545074463\n",
      "save model, 0.9813664596273292\n",
      "save model, 0.9813664596273292\n",
      "save model, 0.9813664596273292\n"
     ]
    },
    {
     "name": "stdout",
     "output_type": "stream",
     "text": [
      "save model, 0.9813664596273292\n",
      "save model, 0.9813664596273292\n",
      "epoch: 4 step: 70, loss is 0.4277302026748657\n",
      "save model, 0.9813664596273292\n",
      "save model, 0.9813664596273292\n",
      "save model, 0.9813664596273292\n",
      "save model, 0.9875776397515528\n",
      "save model, 0.9875776397515528\n",
      "epoch: 4 step: 75, loss is 0.2861991226673126\n",
      "save model, 0.9875776397515528\n",
      "save model, 0.9875776397515528\n",
      "save model, 0.9875776397515528\n",
      "save model, 0.9813664596273292\n",
      "save model, 0.9813664596273292\n",
      "epoch: 4 step: 80, loss is 0.31840935349464417\n",
      "save model, 0.9813664596273292\n",
      "qubits 12 optimized, used time: 25365\n"
     ]
    }
   ],
   "source": [
    "t1 = time.time()\n",
    "monitor_12_opt = qcn.LossMonitor(5)                                                       # 监控训练中的损失，每5步打印一次损失值\n",
    "accu_12_opt = StepAcc(qcnn_12_opt.model, qcnn_12_opt.test_dataset, qcnn_12_opt.qnet, qubits=12, opt = True)\n",
    "qcnn_12_opt.train(4, callbacks=[monitor_12_opt,accu_12_opt])\n",
    "print('qubits 12 optimized, used time: %.f'%(time.time()-t1))"
   ]
  },
  {
   "cell_type": "code",
   "execution_count": 19,
   "id": "e617f9d0",
   "metadata": {},
   "outputs": [
    {
     "data": {
      "image/png": "[encoded data removed]",
      "text/plain": [
       "<Figure size 864x288 with 2 Axes>"
      ]
     },
     "metadata": {
      "needs_background": "light"
     },
     "output_type": "display_data"
    }
   ],
   "source": [
    "import numpy as np\n",
    "fig = plt.figure(figsize=(12,4))\n",
    "\n",
    "ax1 = fig.add_subplot(1,2,1)\n",
    "ax1.plot(accu_12.acc, label='12-qubits')\n",
    "ax1.plot(accu_12_opt.acc, label='12-qubits optimized')\n",
    "# ax1.title('Statistics of accuracy for 4 qubits', fontsize=18)\n",
    "ax1.set_title('Statistics of accuracy for 12 qubits', fontsize=18)\n",
    "ax1.set_xlabel('Steps', fontsize=18)\n",
    "ax1.set_ylabel('Accuracy', fontsize=18)\n",
    "ax1.grid(ls=\":\",c='b')\n",
    "ax1.legend()\n",
    "\n",
    "monitor_12._loss = np.array(monitor_12._loss)\n",
    "monitor_12_opt._loss = np.array(monitor_12_opt._loss)\n",
    "ax2 = fig.add_subplot(1,2,2)\n",
    "ax2.plot(monitor_12._loss[:,0],monitor_12._loss[:,1], label='12-qubits')\n",
    "ax2.plot(monitor_12_opt._loss[:,0], monitor_12_opt._loss[:,1], label='12-qubits optimized')\n",
    "ax2.set_title('Statistics of loss for 12 qubits', fontsize=18)\n",
    "ax2.set_xlabel('Steps', fontsize=18)\n",
    "ax2.set_ylabel('Loss', fontsize=18)\n",
    "ax2.grid(ls=\":\",c='b')\n",
    "ax2.legend()\n",
    "plt.show()"
   ]
  }
 ],
 "metadata": {
  "kernelspec": {
   "display_name": "Python 3 (ipykernel)",
   "language": "python",
   "name": "python3"
  },
  "language_info": {
   "codemirror_mode": {
    "name": "ipython",
    "version": 3
   },
   "file_extension": ".py",
   "mimetype": "text/x-python",
   "name": "python",
   "nbconvert_exporter": "python",
   "pygments_lexer": "ipython3",
   "version": "3.9.0"
  }
 },
 "nbformat": 4,
 "nbformat_minor": 5
}
