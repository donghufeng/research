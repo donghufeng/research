{
 "cells": [
  {
   "cell_type": "markdown",
   "metadata": {},
   "source": [
    "#  赛题十五 —— 论文复现自验报告\n",
    "\n",
    "赛题内容：利用 MindQuantum 实现量子卷积神经网络求解量子多体问题\n",
    "\n",
    "论文题目：An Application of Quantum Machine Learning on Quantum Correlated Systems: Quantum Convolutional Neural Network as a Classifier for Many-Body Wavefunctions from the Quantum Variational Eigensolver\n",
    " \n",
    "复现要求：基于 MindQuantum 实现图 4 中的量子卷积神经网络，并在 N=4、8、12 的情况下实现对顺磁性和铁磁性的分类，精度要求达到 90% 以上。\n",
    "\n",
    "## 赛题介绍\n",
    "\n",
    "基于量子力学的量子卷积神经网络可以用来代替经典神经网络来完成分类问题。复现论文中，提出了采用量子卷积神经网络来预测某一维横场伊辛模型的基态处于顺磁相还是铁磁相。\n",
    "该方案可以用于确定量子临界点 —— 这对于研究量子多体系统的相变问题具有重要意义。\n",
    "\n",
    "一维横场伊辛模型的哈密顿量为：\n",
    "$$H=-J\\Sigma_{i=1}^{N}\\sigma_i^z\\sigma_{i+1}^z-\\Gamma\\Sigma_{i=1}^N\\sigma_i^z.$$\n",
    "其中，$\\sigma_i^\\alpha$ 为作用在第 $i$ 个比特上的泡利算符。$J$ 为最近邻自旋的耦合强度，此处设 $J=1$ 并将其作为系统的能量单位。系统满足周期性边界条件。当 $\\Gamma>J$ 时，系统的基态处于顺磁相，而当 $\\Gamma <J$ 时，系统的基态处于铁磁相。本项目就将训练量子卷积神经网络，预测不同 $\\Gamma$ 值下的系统基态，是处于顺磁相还是处于铁磁相。\n",
    "\n",
    "## 数据集\n",
    "\n",
    "文章多用数据集为 `Tensorflow_quantum` dataset 下的 `tfi_chain` 数据集。该数据集共包括 81 个数据点，对应于所研究问题 —— 一维横场伊辛模型中的参数 $\\Gamma\\in[0.2,1.8]$，以及对应的构造基态的编码线路参数（4 个参数）、相信息（基态处于何种相，1 个参数，顺磁相表示为 1， 而铁磁相表示为 0）等。为训练和验证模型效果，我们将数据集随机化并拆成分别包含 60 和 21 个数据点的训练集 `train_x.npy/train_y.npy` 和验证集 `eval_x.npy/eval_y.npy`。\n",
    "\n",
    "## 编码线路\n",
    "\n",
    "待分类的系统基态由编码线路制备得到。下面我们以 4 比特情况为例，展示基态编码线路：\n"
   ]
  },
  {
   "cell_type": "code",
   "execution_count": 2,
   "metadata": {},
   "outputs": [
    {
     "data": {
      "text/html": [
       "<pre style=\"white-space:pre;overflow-x:auto;line-height:normal;font-family:Menlo,'DejaVu Sans Mono',consolas,'Courier New',monospace\"></pre>\n"
      ],
      "text/plain": []
     },
     "metadata": {},
     "output_type": "display_data"
    },
    {
     "data": {
      "text/html": [
       "<pre style=\"white-space: pre;\"><span style=\"color: #000080; text-decoration-color: #000080; font-weight: bold\">q0: ──H──‖──</span><span style=\"color: #800080; text-decoration-color: #800080; font-weight: bold\">ZZ</span><span style=\"color: #000080; text-decoration-color: #000080; font-weight: bold\">(</span><span style=\"color: #008080; text-decoration-color: #008080; font-weight: bold\">0</span><span style=\"color: #000080; text-decoration-color: #000080; font-weight: bold\">)──────────────────────</span><span style=\"color: #800080; text-decoration-color: #800080; font-weight: bold\">ZZ</span><span style=\"color: #000080; text-decoration-color: #000080; font-weight: bold\">(</span><span style=\"color: #008080; text-decoration-color: #008080; font-weight: bold\">0</span><span style=\"color: #000080; text-decoration-color: #000080; font-weight: bold\">)──‖──</span><span style=\"color: #800080; text-decoration-color: #800080; font-weight: bold\">RX</span><span style=\"color: #000080; text-decoration-color: #000080; font-weight: bold\">(</span><span style=\"color: #008080; text-decoration-color: #008080; font-weight: bold\">1</span><span style=\"color: #000080; text-decoration-color: #000080; font-weight: bold\">)──‖──</span><span style=\"color: #800080; text-decoration-color: #800080; font-weight: bold\">ZZ</span><span style=\"color: #000080; text-decoration-color: #000080; font-weight: bold\">(</span><span style=\"color: #008080; text-decoration-color: #008080; font-weight: bold\">2</span><span style=\"color: #000080; text-decoration-color: #000080; font-weight: bold\">)──────────────────────</span><span style=\"color: #800080; text-decoration-color: #800080; font-weight: bold\">ZZ</span><span style=\"color: #000080; text-decoration-color: #000080; font-weight: bold\">(</span><span style=\"color: #008080; text-decoration-color: #008080; font-weight: bold\">2</span><span style=\"color: #000080; text-decoration-color: #000080; font-weight: bold\">)──‖──</span><span style=\"color: #800080; text-decoration-color: #800080; font-weight: bold\">RX</span><span style=\"color: #000080; text-decoration-color: #000080; font-weight: bold\">(</span><span style=\"color: #008080; text-decoration-color: #008080; font-weight: bold\">3</span><span style=\"color: #000080; text-decoration-color: #000080; font-weight: bold\">)──‖</span>\n",
       "<span style=\"color: #000080; text-decoration-color: #000080; font-weight: bold\">         ‖    │                          │    ‖         ‖    │                          │    ‖         ‖</span>\n",
       "<span style=\"color: #000080; text-decoration-color: #000080; font-weight: bold\">q1: ──H──‖──</span><span style=\"color: #800080; text-decoration-color: #800080; font-weight: bold\">ZZ</span><span style=\"color: #000080; text-decoration-color: #000080; font-weight: bold\">(</span><span style=\"color: #008080; text-decoration-color: #008080; font-weight: bold\">0</span><span style=\"color: #000080; text-decoration-color: #000080; font-weight: bold\">)────</span><span style=\"color: #800080; text-decoration-color: #800080; font-weight: bold\">ZZ</span><span style=\"color: #000080; text-decoration-color: #000080; font-weight: bold\">(</span><span style=\"color: #008080; text-decoration-color: #008080; font-weight: bold\">0</span><span style=\"color: #000080; text-decoration-color: #000080; font-weight: bold\">)───────────────┼────‖──</span><span style=\"color: #800080; text-decoration-color: #800080; font-weight: bold\">RX</span><span style=\"color: #000080; text-decoration-color: #000080; font-weight: bold\">(</span><span style=\"color: #008080; text-decoration-color: #008080; font-weight: bold\">1</span><span style=\"color: #000080; text-decoration-color: #000080; font-weight: bold\">)──‖──</span><span style=\"color: #800080; text-decoration-color: #800080; font-weight: bold\">ZZ</span><span style=\"color: #000080; text-decoration-color: #000080; font-weight: bold\">(</span><span style=\"color: #008080; text-decoration-color: #008080; font-weight: bold\">2</span><span style=\"color: #000080; text-decoration-color: #000080; font-weight: bold\">)────</span><span style=\"color: #800080; text-decoration-color: #800080; font-weight: bold\">ZZ</span><span style=\"color: #000080; text-decoration-color: #000080; font-weight: bold\">(</span><span style=\"color: #008080; text-decoration-color: #008080; font-weight: bold\">2</span><span style=\"color: #000080; text-decoration-color: #000080; font-weight: bold\">)───────────────┼────‖──</span><span style=\"color: #800080; text-decoration-color: #800080; font-weight: bold\">RX</span><span style=\"color: #000080; text-decoration-color: #000080; font-weight: bold\">(</span><span style=\"color: #008080; text-decoration-color: #008080; font-weight: bold\">3</span><span style=\"color: #000080; text-decoration-color: #000080; font-weight: bold\">)──‖</span>\n",
       "<span style=\"color: #000080; text-decoration-color: #000080; font-weight: bold\">         ‖             │                 │    ‖         ‖             │                 │    ‖         ‖</span>\n",
       "<span style=\"color: #000080; text-decoration-color: #000080; font-weight: bold\">q2: ──H──‖───────────</span><span style=\"color: #800080; text-decoration-color: #800080; font-weight: bold\">ZZ</span><span style=\"color: #000080; text-decoration-color: #000080; font-weight: bold\">(</span><span style=\"color: #008080; text-decoration-color: #008080; font-weight: bold\">0</span><span style=\"color: #000080; text-decoration-color: #000080; font-weight: bold\">)────</span><span style=\"color: #800080; text-decoration-color: #800080; font-weight: bold\">ZZ</span><span style=\"color: #000080; text-decoration-color: #000080; font-weight: bold\">(</span><span style=\"color: #008080; text-decoration-color: #008080; font-weight: bold\">0</span><span style=\"color: #000080; text-decoration-color: #000080; font-weight: bold\">)──────┼────‖──</span><span style=\"color: #800080; text-decoration-color: #800080; font-weight: bold\">RX</span><span style=\"color: #000080; text-decoration-color: #000080; font-weight: bold\">(</span><span style=\"color: #008080; text-decoration-color: #008080; font-weight: bold\">1</span><span style=\"color: #000080; text-decoration-color: #000080; font-weight: bold\">)──‖───────────</span><span style=\"color: #800080; text-decoration-color: #800080; font-weight: bold\">ZZ</span><span style=\"color: #000080; text-decoration-color: #000080; font-weight: bold\">(</span><span style=\"color: #008080; text-decoration-color: #008080; font-weight: bold\">2</span><span style=\"color: #000080; text-decoration-color: #000080; font-weight: bold\">)────</span><span style=\"color: #800080; text-decoration-color: #800080; font-weight: bold\">ZZ</span><span style=\"color: #000080; text-decoration-color: #000080; font-weight: bold\">(</span><span style=\"color: #008080; text-decoration-color: #008080; font-weight: bold\">2</span><span style=\"color: #000080; text-decoration-color: #000080; font-weight: bold\">)──────┼────‖──</span><span style=\"color: #800080; text-decoration-color: #800080; font-weight: bold\">RX</span><span style=\"color: #000080; text-decoration-color: #000080; font-weight: bold\">(</span><span style=\"color: #008080; text-decoration-color: #008080; font-weight: bold\">3</span><span style=\"color: #000080; text-decoration-color: #000080; font-weight: bold\">)──‖</span>\n",
       "<span style=\"color: #000080; text-decoration-color: #000080; font-weight: bold\">         ‖                      │        │    ‖         ‖                      │        │    ‖         ‖</span>\n",
       "<span style=\"color: #000080; text-decoration-color: #000080; font-weight: bold\">q3: ──H──‖────────────────────</span><span style=\"color: #800080; text-decoration-color: #800080; font-weight: bold\">ZZ</span><span style=\"color: #000080; text-decoration-color: #000080; font-weight: bold\">(</span><span style=\"color: #008080; text-decoration-color: #008080; font-weight: bold\">0</span><span style=\"color: #000080; text-decoration-color: #000080; font-weight: bold\">)────</span><span style=\"color: #800080; text-decoration-color: #800080; font-weight: bold\">ZZ</span><span style=\"color: #000080; text-decoration-color: #000080; font-weight: bold\">(</span><span style=\"color: #008080; text-decoration-color: #008080; font-weight: bold\">0</span><span style=\"color: #000080; text-decoration-color: #000080; font-weight: bold\">)──‖──</span><span style=\"color: #800080; text-decoration-color: #800080; font-weight: bold\">RX</span><span style=\"color: #000080; text-decoration-color: #000080; font-weight: bold\">(</span><span style=\"color: #008080; text-decoration-color: #008080; font-weight: bold\">1</span><span style=\"color: #000080; text-decoration-color: #000080; font-weight: bold\">)──‖────────────────────</span><span style=\"color: #800080; text-decoration-color: #800080; font-weight: bold\">ZZ</span><span style=\"color: #000080; text-decoration-color: #000080; font-weight: bold\">(</span><span style=\"color: #008080; text-decoration-color: #008080; font-weight: bold\">2</span><span style=\"color: #000080; text-decoration-color: #000080; font-weight: bold\">)────</span><span style=\"color: #800080; text-decoration-color: #800080; font-weight: bold\">ZZ</span><span style=\"color: #000080; text-decoration-color: #000080; font-weight: bold\">(</span><span style=\"color: #008080; text-decoration-color: #008080; font-weight: bold\">2</span><span style=\"color: #000080; text-decoration-color: #000080; font-weight: bold\">)──‖──</span><span style=\"color: #800080; text-decoration-color: #800080; font-weight: bold\">RX</span><span style=\"color: #000080; text-decoration-color: #000080; font-weight: bold\">(</span><span style=\"color: #008080; text-decoration-color: #008080; font-weight: bold\">3</span><span style=\"color: #000080; text-decoration-color: #000080; font-weight: bold\">)──‖</span>\n",
       "</pre>\n"
      ],
      "text/plain": [
       "q0: ──H──‖──ZZ(0)──────────────────────ZZ(0)──‖──RX(1)──‖──ZZ(2)──────────────────────ZZ(2)──‖──RX(3)──‖\n",
       "         ‖    │                          │    ‖         ‖    │                          │    ‖         ‖\n",
       "q1: ──H──‖──ZZ(0)────ZZ(0)───────────────┼────‖──RX(1)──‖──ZZ(2)────ZZ(2)───────────────┼────‖──RX(3)──‖\n",
       "         ‖             │                 │    ‖         ‖             │                 │    ‖         ‖\n",
       "q2: ──H──‖───────────ZZ(0)────ZZ(0)──────┼────‖──RX(1)──‖───────────ZZ(2)────ZZ(2)──────┼────‖──RX(3)──‖\n",
       "         ‖                      │        │    ‖         ‖                      │        │    ‖         ‖\n",
       "q3: ──H──‖────────────────────ZZ(0)────ZZ(0)──‖──RX(1)──‖────────────────────ZZ(2)────ZZ(2)──‖──RX(3)──‖"
      ]
     },
     "execution_count": 2,
     "metadata": {},
     "output_type": "execute_result"
    }
   ],
   "source": [
    "from mindquantum import *\n",
    "\n",
    "qubit_num = 4\n",
    "encoder = Circuit()\n",
    "for i in range(qubit_num):\n",
    "    encoder += H.on(i)\n",
    "encoder += BarrierGate()\n",
    "\n",
    "for i in range(qubit_num-1):\n",
    "    encoder += ZZ(f'{0}').on([i, i+1])\n",
    "encoder += ZZ(f'{0}').on([qubit_num-1, 0])\n",
    "encoder += BarrierGate()\n",
    "\n",
    "for i in range(qubit_num):\n",
    "    encoder += RX(f'{1}').on(i)\n",
    "encoder += BarrierGate()\n",
    "\n",
    "for i in range(qubit_num-1):\n",
    "    encoder += ZZ(f'{2}').on([i, i+1])\n",
    "encoder += ZZ(f'{2}').on([qubit_num-1, 0])\n",
    "encoder += BarrierGate()\n",
    "\n",
    "for i in range(qubit_num):\n",
    "    encoder += RX(f'{3}').on(i)\n",
    "encoder += BarrierGate()\n",
    "\n",
    "encoder"
   ]
  },
  {
   "cell_type": "markdown",
   "metadata": {},
   "source": [
    "该线路共包含 4 个参数（对于 8 和 12 比特情况，则包含 8 和 12 个参数）。该线路参数保存在数据集 `tarin_x` 和 `eval_x` 中。\n",
    "\n",
    "对拟设线路，我们采用量子卷积神经网络，该线路通过施加卷积操作，将卷积核所作用的比特纠缠起来，提取信息。并通过池化操作，减少自由度，以引入非线性。最终通过比较所剩两个比特 $\\sigma^z$ 算符对最终量子态的期望值大小，来作为分类依据。比如，若 $\\sigma_3^z$ 期望值大于 $\\sigma_5^z$ 的期望值，则规定该预测分类为 1，否则为 0。\n",
    "\n",
    "对于一个 4 比特任务，其量子线路结构如下图所示。其中，`Conv` 表示卷积核， 而 `Pool` 表示池化操作。\n",
    "\n",
    "![structure](./src/structure.jpg)\n",
    "\n",
    "其他尺寸线路也为类似结构。\n",
    "\n",
    "采用的卷积核定义为："
   ]
  },
  {
   "cell_type": "code",
   "execution_count": 2,
   "metadata": {},
   "outputs": [
    {
     "data": {
      "text/html": [
       "<pre style=\"white-space:pre;overflow-x:auto;line-height:normal;font-family:Menlo,'DejaVu Sans Mono',consolas,'Courier New',monospace\"></pre>\n"
      ],
      "text/plain": []
     },
     "metadata": {},
     "output_type": "display_data"
    },
    {
     "data": {
      "text/html": [
       "<pre style=\"white-space: pre;\"><span style=\"color: #000080; text-decoration-color: #000080; font-weight: bold\">q0: ──</span><span style=\"color: #800080; text-decoration-color: #800080; font-weight: bold\">RX</span><span style=\"color: #000080; text-decoration-color: #000080; font-weight: bold\">(</span><span style=\"color: #008080; text-decoration-color: #008080; font-weight: bold\">00</span><span style=\"color: #000080; text-decoration-color: #000080; font-weight: bold\">)────</span><span style=\"color: #800080; text-decoration-color: #800080; font-weight: bold\">RY</span><span style=\"color: #000080; text-decoration-color: #000080; font-weight: bold\">(</span><span style=\"color: #008080; text-decoration-color: #008080; font-weight: bold\">01</span><span style=\"color: #000080; text-decoration-color: #000080; font-weight: bold\">)────</span><span style=\"color: #800080; text-decoration-color: #800080; font-weight: bold\">RZ</span><span style=\"color: #000080; text-decoration-color: #000080; font-weight: bold\">(</span><span style=\"color: #008080; text-decoration-color: #008080; font-weight: bold\">02</span><span style=\"color: #000080; text-decoration-color: #000080; font-weight: bold\">)────</span><span style=\"color: #800080; text-decoration-color: #800080; font-weight: bold\">ZZ</span><span style=\"color: #000080; text-decoration-color: #000080; font-weight: bold\">(</span><span style=\"color: #008080; text-decoration-color: #008080; font-weight: bold\">06</span><span style=\"color: #000080; text-decoration-color: #000080; font-weight: bold\">)────</span><span style=\"color: #800080; text-decoration-color: #800080; font-weight: bold\">YY</span><span style=\"color: #000080; text-decoration-color: #000080; font-weight: bold\">(</span><span style=\"color: #008080; text-decoration-color: #008080; font-weight: bold\">07</span><span style=\"color: #000080; text-decoration-color: #000080; font-weight: bold\">)────</span><span style=\"color: #800080; text-decoration-color: #800080; font-weight: bold\">XX</span><span style=\"color: #000080; text-decoration-color: #000080; font-weight: bold\">(</span><span style=\"color: #008080; text-decoration-color: #008080; font-weight: bold\">08</span><span style=\"color: #000080; text-decoration-color: #000080; font-weight: bold\">)────</span><span style=\"color: #800080; text-decoration-color: #800080; font-weight: bold\">RX</span><span style=\"color: #000080; text-decoration-color: #000080; font-weight: bold\">(</span><span style=\"color: #008080; text-decoration-color: #008080; font-weight: bold\">09</span><span style=\"color: #000080; text-decoration-color: #000080; font-weight: bold\">)────</span><span style=\"color: #800080; text-decoration-color: #800080; font-weight: bold\">RY</span><span style=\"color: #000080; text-decoration-color: #000080; font-weight: bold\">(</span><span style=\"color: #008080; text-decoration-color: #008080; font-weight: bold\">10</span><span style=\"color: #000080; text-decoration-color: #000080; font-weight: bold\">)────</span><span style=\"color: #800080; text-decoration-color: #800080; font-weight: bold\">RZ</span><span style=\"color: #000080; text-decoration-color: #000080; font-weight: bold\">(</span><span style=\"color: #008080; text-decoration-color: #008080; font-weight: bold\">11</span><span style=\"color: #000080; text-decoration-color: #000080; font-weight: bold\">)──</span>\n",
       "<span style=\"color: #000080; text-decoration-color: #000080; font-weight: bold\">                                      │         │         │</span>\n",
       "<span style=\"color: #000080; text-decoration-color: #000080; font-weight: bold\">q1: ──</span><span style=\"color: #800080; text-decoration-color: #800080; font-weight: bold\">RX</span><span style=\"color: #000080; text-decoration-color: #000080; font-weight: bold\">(</span><span style=\"color: #008080; text-decoration-color: #008080; font-weight: bold\">03</span><span style=\"color: #000080; text-decoration-color: #000080; font-weight: bold\">)────</span><span style=\"color: #800080; text-decoration-color: #800080; font-weight: bold\">RY</span><span style=\"color: #000080; text-decoration-color: #000080; font-weight: bold\">(</span><span style=\"color: #008080; text-decoration-color: #008080; font-weight: bold\">04</span><span style=\"color: #000080; text-decoration-color: #000080; font-weight: bold\">)────</span><span style=\"color: #800080; text-decoration-color: #800080; font-weight: bold\">RZ</span><span style=\"color: #000080; text-decoration-color: #000080; font-weight: bold\">(</span><span style=\"color: #008080; text-decoration-color: #008080; font-weight: bold\">05</span><span style=\"color: #000080; text-decoration-color: #000080; font-weight: bold\">)────</span><span style=\"color: #800080; text-decoration-color: #800080; font-weight: bold\">ZZ</span><span style=\"color: #000080; text-decoration-color: #000080; font-weight: bold\">(</span><span style=\"color: #008080; text-decoration-color: #008080; font-weight: bold\">06</span><span style=\"color: #000080; text-decoration-color: #000080; font-weight: bold\">)────</span><span style=\"color: #800080; text-decoration-color: #800080; font-weight: bold\">YY</span><span style=\"color: #000080; text-decoration-color: #000080; font-weight: bold\">(</span><span style=\"color: #008080; text-decoration-color: #008080; font-weight: bold\">07</span><span style=\"color: #000080; text-decoration-color: #000080; font-weight: bold\">)────</span><span style=\"color: #800080; text-decoration-color: #800080; font-weight: bold\">XX</span><span style=\"color: #000080; text-decoration-color: #000080; font-weight: bold\">(</span><span style=\"color: #008080; text-decoration-color: #008080; font-weight: bold\">08</span><span style=\"color: #000080; text-decoration-color: #000080; font-weight: bold\">)────</span><span style=\"color: #800080; text-decoration-color: #800080; font-weight: bold\">RX</span><span style=\"color: #000080; text-decoration-color: #000080; font-weight: bold\">(</span><span style=\"color: #008080; text-decoration-color: #008080; font-weight: bold\">12</span><span style=\"color: #000080; text-decoration-color: #000080; font-weight: bold\">)────</span><span style=\"color: #800080; text-decoration-color: #800080; font-weight: bold\">RY</span><span style=\"color: #000080; text-decoration-color: #000080; font-weight: bold\">(</span><span style=\"color: #008080; text-decoration-color: #008080; font-weight: bold\">13</span><span style=\"color: #000080; text-decoration-color: #000080; font-weight: bold\">)────</span><span style=\"color: #800080; text-decoration-color: #800080; font-weight: bold\">RZ</span><span style=\"color: #000080; text-decoration-color: #000080; font-weight: bold\">(</span><span style=\"color: #008080; text-decoration-color: #008080; font-weight: bold\">14</span><span style=\"color: #000080; text-decoration-color: #000080; font-weight: bold\">)──</span>\n",
       "</pre>\n"
      ],
      "text/plain": [
       "q0: ──RX(00)────RY(01)────RZ(02)────ZZ(06)────YY(07)────XX(08)────RX(09)────RY(10)────RZ(11)──\n",
       "                                      │         │         │\n",
       "q1: ──RX(03)────RY(04)────RZ(05)────ZZ(06)────YY(07)────XX(08)────RX(12)────RY(13)────RZ(14)──"
      ]
     },
     "execution_count": 2,
     "metadata": {},
     "output_type": "execute_result"
    }
   ],
   "source": [
    "from mindquantum import *\n",
    "\n",
    "bit_up = 0\n",
    "bit_down = 1\n",
    "\n",
    "_circ = Circuit()\n",
    "_circ += RX('00').on(bit_up)\n",
    "_circ += RY('01').on(bit_up)\n",
    "_circ += RZ('02').on(bit_up)\n",
    "_circ += RX('03').on(bit_down)\n",
    "_circ += RY('04').on(bit_down)\n",
    "_circ += RZ('05').on(bit_down)\n",
    "_circ += ZZ('06').on([bit_up, bit_down])\n",
    "_circ += YY('07').on([bit_up, bit_down])\n",
    "_circ += XX('08').on([bit_up, bit_down])\n",
    "_circ += RX('09').on(bit_up)\n",
    "_circ += RY('10').on(bit_up)\n",
    "_circ += RZ('11').on(bit_up)\n",
    "_circ += RX('12').on(bit_down)\n",
    "_circ += RY('13').on(bit_down)\n",
    "_circ += RZ('14').on(bit_down)\n",
    "_circ"
   ]
  },
  {
   "cell_type": "markdown",
   "metadata": {},
   "source": [
    "我们采用的池化操作定义为："
   ]
  },
  {
   "cell_type": "code",
   "execution_count": 3,
   "metadata": {},
   "outputs": [
    {
     "data": {
      "text/html": [
       "<pre style=\"white-space:pre;overflow-x:auto;line-height:normal;font-family:Menlo,'DejaVu Sans Mono',consolas,'Courier New',monospace\"></pre>\n"
      ],
      "text/plain": []
     },
     "metadata": {},
     "output_type": "display_data"
    },
    {
     "data": {
      "text/html": [
       "<pre style=\"white-space: pre;\"><span style=\"color: #000080; text-decoration-color: #000080; font-weight: bold\">q0: ──</span><span style=\"color: #800080; text-decoration-color: #800080; font-weight: bold\">RX</span><span style=\"color: #000080; text-decoration-color: #000080; font-weight: bold\">(</span><span style=\"color: #008080; text-decoration-color: #008080; font-weight: bold\">00</span><span style=\"color: #000080; text-decoration-color: #000080; font-weight: bold\">)────</span><span style=\"color: #800080; text-decoration-color: #800080; font-weight: bold\">RY</span><span style=\"color: #000080; text-decoration-color: #000080; font-weight: bold\">(</span><span style=\"color: #008080; text-decoration-color: #008080; font-weight: bold\">01</span><span style=\"color: #000080; text-decoration-color: #000080; font-weight: bold\">)────</span><span style=\"color: #800080; text-decoration-color: #800080; font-weight: bold\">RZ</span><span style=\"color: #000080; text-decoration-color: #000080; font-weight: bold\">(</span><span style=\"color: #008080; text-decoration-color: #008080; font-weight: bold\">02</span><span style=\"color: #000080; text-decoration-color: #000080; font-weight: bold\">)────●────────────────────────────────</span>\n",
       "<span style=\"color: #000080; text-decoration-color: #000080; font-weight: bold\">                                    │</span>\n",
       "<span style=\"color: #000080; text-decoration-color: #000080; font-weight: bold\">q1: ──</span><span style=\"color: #800080; text-decoration-color: #800080; font-weight: bold\">RX</span><span style=\"color: #000080; text-decoration-color: #000080; font-weight: bold\">(</span><span style=\"color: #008080; text-decoration-color: #008080; font-weight: bold\">03</span><span style=\"color: #000080; text-decoration-color: #000080; font-weight: bold\">)────</span><span style=\"color: #800080; text-decoration-color: #800080; font-weight: bold\">RY</span><span style=\"color: #000080; text-decoration-color: #000080; font-weight: bold\">(</span><span style=\"color: #008080; text-decoration-color: #008080; font-weight: bold\">04</span><span style=\"color: #000080; text-decoration-color: #000080; font-weight: bold\">)────</span><span style=\"color: #800080; text-decoration-color: #800080; font-weight: bold\">RZ</span><span style=\"color: #000080; text-decoration-color: #000080; font-weight: bold\">(</span><span style=\"color: #008080; text-decoration-color: #008080; font-weight: bold\">05</span><span style=\"color: #000080; text-decoration-color: #000080; font-weight: bold\">)────X────</span><span style=\"color: #800080; text-decoration-color: #800080; font-weight: bold\">RX</span><span style=\"color: #000080; text-decoration-color: #000080; font-weight: bold\">(</span><span style=\"color: #008080; text-decoration-color: #008080; font-weight: bold\">06</span><span style=\"color: #000080; text-decoration-color: #000080; font-weight: bold\">)────</span><span style=\"color: #800080; text-decoration-color: #800080; font-weight: bold\">RY</span><span style=\"color: #000080; text-decoration-color: #000080; font-weight: bold\">(</span><span style=\"color: #008080; text-decoration-color: #008080; font-weight: bold\">07</span><span style=\"color: #000080; text-decoration-color: #000080; font-weight: bold\">)────</span><span style=\"color: #800080; text-decoration-color: #800080; font-weight: bold\">RZ</span><span style=\"color: #000080; text-decoration-color: #000080; font-weight: bold\">(</span><span style=\"color: #008080; text-decoration-color: #008080; font-weight: bold\">08</span><span style=\"color: #000080; text-decoration-color: #000080; font-weight: bold\">)──</span>\n",
       "</pre>\n"
      ],
      "text/plain": [
       "q0: ──RX(00)────RY(01)────RZ(02)────●────────────────────────────────\n",
       "                                    │\n",
       "q1: ──RX(03)────RY(04)────RZ(05)────X────RX(06)────RY(07)────RZ(08)──"
      ]
     },
     "execution_count": 3,
     "metadata": {},
     "output_type": "execute_result"
    }
   ],
   "source": [
    "from mindquantum import *\n",
    "\n",
    "bit_up = 0\n",
    "bit_down = 1\n",
    "\n",
    "_circ = Circuit()\n",
    "_circ += RX('00').on(bit_up)\n",
    "_circ += RY('01').on(bit_up)\n",
    "_circ += RZ('02').on(bit_up)\n",
    "_circ += RX('03').on(bit_down)\n",
    "_circ += RY('04').on(bit_down)\n",
    "_circ += RZ('05').on(bit_down)\n",
    "_circ += X.on(bit_down, bit_up)\n",
    "_circ += RX('06').on(bit_down)\n",
    "_circ += RY('07').on(bit_down)\n",
    "_circ += RZ('08').on(bit_down)\n",
    "\n",
    "_circ"
   ]
  },
  {
   "cell_type": "markdown",
   "metadata": {},
   "source": [
    "优化器方面我们采用了 Adam 优化器，学习率设定为 0.01。\n",
    "\n",
    "## 自验结果\n",
    "\n",
    "\n",
    "通过执行 `4_qubit.ipynb`、`8_qubit.ipynb` 和 `12_qubit.ipynb` 中的主程序，可分别得到 4、8 和 12 比特情况下的训练结果。\n",
    "\n",
    "对于 4 比特情况，经过大约 5.8 个回合（116 次训练）模型收敛，对验证集的分类准确度达到了 1. (参见 `4_qubit.ipynb` 中的运行结果，或 `src` 文件夹下 `result_4_qubit.png`)\n",
    "\n",
    "![4 qubit](./src/result_4_qubit.png)\n",
    "\n",
    "\n",
    "对于 8 比特情况，经过大约 5.2 个回合（105 次训练）模型收敛，对验证集的分类准确度达到了 1. （参见 `8_qubit.ipynb` 中的运行结果，或 `src` 文件夹下 `result_8_qubit.png`）\n",
    "\n",
    "![8 qubit](./src/result_8_qubit.png)\n",
    "\n",
    "对于 12 比特情况，经过大约 9.8 个回合（196 次训练）模型收敛，对验证集的分类准确度达到了 1. （参见 `12_qubit.ipynb` 中的运行结果，或 `src` 文件夹下的 `result_12_qubit.png`）\n",
    "\n",
    "![12 qubit](./src/result_12_qubit.png)\n",
    "\n",
    "## 训练\n",
    "\n",
    "模型训练：\n",
    "\n",
    "执行 `4_quit.ipynb` `8_qubit.ipynb` 和 `12_qubit.ipynb` 文件中的主程序，可自动对 4、8 和 12 比特情况的模型进行训练，并得到训练结果。\n",
    "\n",
    "\n",
    "\n"
   ]
  }
 ],
 "metadata": {
  "kernelspec": {
   "display_name": "Python 3.7.5 64-bit",
   "name": "python37564bitcd36fc73e3774064ab8e2c8fa67c301c"
  },
  "language_info": {
   "codemirror_mode": {
    "name": "ipython",
    "version": 3
   },
   "file_extension": ".py",
   "mimetype": "text/x-python",
   "name": "python",
   "nbconvert_exporter": "python",
   "pygments_lexer": "ipython3",
   "version": "3.7.5-final"
  },
  "orig_nbformat": 2
 },
 "nbformat": 4,
 "nbformat_minor": 2
}
