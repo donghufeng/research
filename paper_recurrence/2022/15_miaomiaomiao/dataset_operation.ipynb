{
 "metadata": {
  "language_info": {
   "codemirror_mode": {
    "name": "ipython",
    "version": 3
   },
   "file_extension": ".py",
   "mimetype": "text/x-python",
   "name": "python",
   "nbconvert_exporter": "python",
   "pygments_lexer": "ipython3",
   "version": "3.7.5-final"
  },
  "orig_nbformat": 2,
  "kernelspec": {
   "name": "python37564bitcd36fc73e3774064ab8e2c8fa67c301c",
   "display_name": "Python 3.7.5 64-bit"
  }
 },
 "nbformat": 4,
 "nbformat_minor": 2,
 "cells": [
  {
   "source": [
    "# 数据集下载和处理\n",
    "\n",
    "安装 `tensorflow 2.7.0` 和最新版 `tensorflow_quantum` 并从 `tensorflow_quantum` 下载 `tfi_chain` 数据集。"
   ],
   "cell_type": "markdown",
   "metadata": {}
  },
  {
   "cell_type": "code",
   "execution_count": 2,
   "metadata": {
    "tags": []
   },
   "outputs": [
    {
     "output_type": "stream",
     "name": "stdout",
     "text": "Defaulting to user installation because normal site-packages is not writeable\nLooking in indexes: https://repo.huaweicloud.com/repository/pypi/simple\nLooking in links: https://obs-workspace-20180810.obs.cn-north-1.myhuaweicloud.com/pypi/index.html\nRequirement already satisfied: tensorflow==2.7.0 in /home/user/.local/lib/python3.7/site-packages (2.7.0)\nRequirement already satisfied: tensorflow_quantum in /home/user/.local/lib/python3.7/site-packages (0.6.1)\nRequirement already satisfied: h5py>=2.9.0 in /usr/local/lib/python3.7/dist-packages (from tensorflow==2.7.0) (3.1.0)\nRequirement already satisfied: wrapt>=1.11.0 in /home/user/.local/lib/python3.7/site-packages (from tensorflow==2.7.0) (1.14.1)\nRequirement already satisfied: keras<2.8,>=2.7.0rc0 in /home/user/.local/lib/python3.7/site-packages (from tensorflow==2.7.0) (2.7.0)\nRequirement already satisfied: wheel<1.0,>=0.32.0 in /usr/local/lib/python3.7/dist-packages (from tensorflow==2.7.0) (0.37.1)\nRequirement already satisfied: typing-extensions>=3.6.6 in /usr/local/lib/python3.7/dist-packages (from tensorflow==2.7.0) (4.1.1)\nRequirement already satisfied: flatbuffers<3.0,>=1.12 in /home/user/.local/lib/python3.7/site-packages (from tensorflow==2.7.0) (2.0)\nRequirement already satisfied: libclang>=9.0.1 in /home/user/.local/lib/python3.7/site-packages (from tensorflow==2.7.0) (14.0.1)\nRequirement already satisfied: termcolor>=1.1.0 in /home/user/.local/lib/python3.7/site-packages (from tensorflow==2.7.0) (1.1.0)\nRequirement already satisfied: keras-preprocessing>=1.1.1 in /home/user/.local/lib/python3.7/site-packages (from tensorflow==2.7.0) (1.1.2)\nRequirement already satisfied: tensorboard~=2.6 in /home/user/.local/lib/python3.7/site-packages (from tensorflow==2.7.0) (2.9.1)\nRequirement already satisfied: six>=1.12.0 in /usr/local/lib/python3.7/dist-packages (from tensorflow==2.7.0) (1.16.0)\nRequirement already satisfied: grpcio<2.0,>=1.24.3 in /usr/local/lib/python3.7/dist-packages (from tensorflow==2.7.0) (1.44.0)\nRequirement already satisfied: protobuf>=3.9.2 in /home/user/.local/lib/python3.7/site-packages (from tensorflow==2.7.0) (3.17.3)\nRequirement already satisfied: opt-einsum>=2.3.2 in /home/user/.local/lib/python3.7/site-packages (from tensorflow==2.7.0) (3.3.0)\nRequirement already satisfied: numpy>=1.14.5 in /usr/local/lib/python3.7/dist-packages (from tensorflow==2.7.0) (1.21.5)\nRequirement already satisfied: gast<0.5.0,>=0.2.1 in /home/user/.local/lib/python3.7/site-packages (from tensorflow==2.7.0) (0.4.0)\nRequirement already satisfied: tensorflow-estimator<2.8,~=2.7.0rc0 in /home/user/.local/lib/python3.7/site-packages (from tensorflow==2.7.0) (2.7.0)\nRequirement already satisfied: absl-py>=0.4.0 in /home/user/.local/lib/python3.7/site-packages (from tensorflow==2.7.0) (1.1.0)\nRequirement already satisfied: astunparse>=1.6.0 in /home/user/.local/lib/python3.7/site-packages (from tensorflow==2.7.0) (1.6.3)\nRequirement already satisfied: google-pasta>=0.1.1 in /home/user/.local/lib/python3.7/site-packages (from tensorflow==2.7.0) (0.2.0)\nRequirement already satisfied: tensorflow-io-gcs-filesystem>=0.21.0 in /home/user/.local/lib/python3.7/site-packages (from tensorflow==2.7.0) (0.26.0)\nRequirement already satisfied: cirq-google>=0.13.1 in /usr/local/lib/python3.7/dist-packages (from tensorflow_quantum) (0.13.1)\nRequirement already satisfied: google-auth==1.18.0 in /home/user/.local/lib/python3.7/site-packages (from tensorflow_quantum) (1.18.0)\nRequirement already satisfied: google-api-core==1.21.0 in /home/user/.local/lib/python3.7/site-packages (from tensorflow_quantum) (1.21.0)\nRequirement already satisfied: googleapis-common-protos==1.52.0 in /home/user/.local/lib/python3.7/site-packages (from tensorflow_quantum) (1.52.0)\nRequirement already satisfied: sympy==1.8 in /home/user/.local/lib/python3.7/site-packages (from tensorflow_quantum) (1.8)\nRequirement already satisfied: cirq-core>=0.13.1 in /usr/local/lib/python3.7/dist-packages (from tensorflow_quantum) (0.13.1)\nRequirement already satisfied: setuptools>=34.0.0 in /usr/local/lib/python3.7/dist-packages (from google-api-core==1.21.0->tensorflow_quantum) (60.9.3)\nRequirement already satisfied: requests<3.0.0dev,>=2.18.0 in /usr/local/lib/python3.7/dist-packages (from google-api-core==1.21.0->tensorflow_quantum) (2.27.1)\nRequirement already satisfied: pytz in /usr/local/lib/python3.7/dist-packages (from google-api-core==1.21.0->tensorflow_quantum) (2021.3)\nRequirement already satisfied: rsa<5,>=3.1.4 in /usr/local/lib/python3.7/dist-packages (from google-auth==1.18.0->tensorflow_quantum) (4.8)\nRequirement already satisfied: cachetools<5.0,>=2.0.0 in /usr/local/lib/python3.7/dist-packages (from google-auth==1.18.0->tensorflow_quantum) (4.2.4)\nRequirement already satisfied: pyasn1-modules>=0.2.1 in /usr/local/lib/python3.7/dist-packages (from google-auth==1.18.0->tensorflow_quantum) (0.2.8)\nRequirement already satisfied: mpmath>=0.19 in /usr/local/lib/python3.7/dist-packages (from sympy==1.8->tensorflow_quantum) (1.2.1)\nRequirement already satisfied: matplotlib~=3.0 in /usr/local/lib/python3.7/dist-packages (from cirq-core>=0.13.1->tensorflow_quantum) (3.5.1)\nRequirement already satisfied: pandas in /usr/local/lib/python3.7/dist-packages (from cirq-core>=0.13.1->tensorflow_quantum) (1.3.5)\nRequirement already satisfied: scipy in /usr/local/lib/python3.7/dist-packages (from cirq-core>=0.13.1->tensorflow_quantum) (1.7.3)\nRequirement already satisfied: tqdm in /usr/local/lib/python3.7/dist-packages (from cirq-core>=0.13.1->tensorflow_quantum) (4.63.0)\nRequirement already satisfied: networkx~=2.4 in /usr/local/lib/python3.7/dist-packages (from cirq-core>=0.13.1->tensorflow_quantum) (2.6.3)\nRequirement already satisfied: duet~=0.2.0 in /usr/local/lib/python3.7/dist-packages (from cirq-core>=0.13.1->tensorflow_quantum) (0.2.3)\nRequirement already satisfied: sortedcontainers~=2.0 in /usr/local/lib/python3.7/dist-packages (from cirq-core>=0.13.1->tensorflow_quantum) (2.4.0)\nRequirement already satisfied: cached-property in /usr/local/lib/python3.7/dist-packages (from h5py>=2.9.0->tensorflow==2.7.0) (1.5.2)\nRequirement already satisfied: werkzeug>=1.0.1 in /home/user/.local/lib/python3.7/site-packages (from tensorboard~=2.6->tensorflow==2.7.0) (2.1.2)\nRequirement already satisfied: tensorboard-data-server<0.7.0,>=0.6.0 in /home/user/.local/lib/python3.7/site-packages (from tensorboard~=2.6->tensorflow==2.7.0) (0.6.1)\nRequirement already satisfied: markdown>=2.6.8 in /home/user/.local/lib/python3.7/site-packages (from tensorboard~=2.6->tensorflow==2.7.0) (3.3.7)\nRequirement already satisfied: tensorboard-plugin-wit>=1.6.0 in /home/user/.local/lib/python3.7/site-packages (from tensorboard~=2.6->tensorflow==2.7.0) (1.8.1)\nRequirement already satisfied: google-auth-oauthlib<0.5,>=0.4.1 in /home/user/.local/lib/python3.7/site-packages (from tensorboard~=2.6->tensorflow==2.7.0) (0.4.6)\nRequirement already satisfied: requests-oauthlib>=0.7.0 in /home/user/.local/lib/python3.7/site-packages (from google-auth-oauthlib<0.5,>=0.4.1->tensorboard~=2.6->tensorflow==2.7.0) (1.3.1)\nRequirement already satisfied: importlib-metadata>=4.4 in /usr/local/lib/python3.7/dist-packages (from markdown>=2.6.8->tensorboard~=2.6->tensorflow==2.7.0) (4.11.2)\nRequirement already satisfied: python-dateutil>=2.7 in /usr/local/lib/python3.7/dist-packages (from matplotlib~=3.0->cirq-core>=0.13.1->tensorflow_quantum) (2.8.2)\nRequirement already satisfied: packaging>=20.0 in /usr/local/lib/python3.7/dist-packages (from matplotlib~=3.0->cirq-core>=0.13.1->tensorflow_quantum) (21.3)\nRequirement already satisfied: fonttools>=4.22.0 in /usr/local/lib/python3.7/dist-packages (from matplotlib~=3.0->cirq-core>=0.13.1->tensorflow_quantum) (4.29.1)\nRequirement already satisfied: cycler>=0.10 in /usr/local/lib/python3.7/dist-packages (from matplotlib~=3.0->cirq-core>=0.13.1->tensorflow_quantum) (0.11.0)\nRequirement already satisfied: pillow>=6.2.0 in /usr/local/lib/python3.7/dist-packages (from matplotlib~=3.0->cirq-core>=0.13.1->tensorflow_quantum) (9.0.1)\nRequirement already satisfied: pyparsing>=2.2.1 in /usr/local/lib/python3.7/dist-packages (from matplotlib~=3.0->cirq-core>=0.13.1->tensorflow_quantum) (3.0.7)\nRequirement already satisfied: kiwisolver>=1.0.1 in /usr/local/lib/python3.7/dist-packages (from matplotlib~=3.0->cirq-core>=0.13.1->tensorflow_quantum) (1.3.2)\nRequirement already satisfied: pyasn1<0.5.0,>=0.4.6 in /usr/local/lib/python3.7/dist-packages (from pyasn1-modules>=0.2.1->google-auth==1.18.0->tensorflow_quantum) (0.4.8)\nRequirement already satisfied: urllib3<1.27,>=1.21.1 in /usr/local/lib/python3.7/dist-packages (from requests<3.0.0dev,>=2.18.0->google-api-core==1.21.0->tensorflow_quantum) (1.26.8)\nRequirement already satisfied: idna<4,>=2.5 in /usr/local/lib/python3.7/dist-packages (from requests<3.0.0dev,>=2.18.0->google-api-core==1.21.0->tensorflow_quantum) (3.3)\nRequirement already satisfied: certifi>=2017.4.17 in /usr/local/lib/python3.7/dist-packages (from requests<3.0.0dev,>=2.18.0->google-api-core==1.21.0->tensorflow_quantum) (2021.10.8)\nRequirement already satisfied: charset-normalizer~=2.0.0 in /usr/local/lib/python3.7/dist-packages (from requests<3.0.0dev,>=2.18.0->google-api-core==1.21.0->tensorflow_quantum) (2.0.12)\nRequirement already satisfied: zipp>=0.5 in /usr/local/lib/python3.7/dist-packages (from importlib-metadata>=4.4->markdown>=2.6.8->tensorboard~=2.6->tensorflow==2.7.0) (3.7.0)\nRequirement already satisfied: oauthlib>=3.0.0 in /home/user/.local/lib/python3.7/site-packages (from requests-oauthlib>=0.7.0->google-auth-oauthlib<0.5,>=0.4.1->tensorboard~=2.6->tensorflow==2.7.0) (3.2.0)\n\u001b[33mWARNING: You are using pip version 22.0.4; however, version 22.1.2 is available.\nYou should consider upgrading via the '/usr/bin/python -m pip install --upgrade pip' command.\u001b[0m\u001b[33m\n\u001b[0mNote: you may need to restart the kernel to use updated packages.\n"
    }
   ],
   "source": [
    "pip install tensorflow==2.7.0 tensorflow_quantum"
   ]
  },
  {
   "source": [
    "分别下载和处理 4、8、12 比特情况的数据集。该数据集共包括 81 个数据点，对应于所研究问题 —— 一维横场伊辛模型中的参数 $\\Gamma\\in[0.2,1.8]$，以及对应的构造基态的编码线路参数（4 个参数）、相信息（基态处于何种相，1 个参数，顺磁相表示为 1， 而铁磁相表示为 0）等。为训练和验证模型效果，我们将数据集随机化并拆成分别包含 60 和 21 个数据点的训练集 `train_x.npy/train_y.npy` 和验证集 `eval_x.npy/eval_y.npy`。保存在 src 文件夹下。\n"
   ],
   "cell_type": "markdown",
   "metadata": {}
  },
  {
   "cell_type": "code",
   "execution_count": 1,
   "metadata": {
    "tags": []
   },
   "outputs": [
    {
     "output_type": "stream",
     "name": "stderr",
     "text": "2022-06-19 08:46:54.312559: W tensorflow/stream_executor/platform/default/dso_loader.cc:64] Could not load dynamic library 'libcudart.so.11.0'; dlerror: libcudart.so.11.0: cannot open shared object file: No such file or directory\n2022-06-19 08:46:54.312592: I tensorflow/stream_executor/cuda/cudart_stub.cc:29] Ignore above cudart dlerror if you do not have a GPU set up on your machine.\n2022-06-19 08:46:55.768543: W tensorflow/stream_executor/platform/default/dso_loader.cc:64] Could not load dynamic library 'libcuda.so.1'; dlerror: libcuda.so.1: cannot open shared object file: No such file or directory\n2022-06-19 08:46:55.768585: W tensorflow/stream_executor/cuda/cuda_driver.cc:269] failed call to cuInit: UNKNOWN ERROR (303)\n2022-06-19 08:46:55.768602: I tensorflow/stream_executor/cuda/cuda_diagnostics.cc:156] kernel driver does not appear to be running on this host (e7wp3l0s35ijdeo-machine): /proc/driver/nvidia/version does not exist\n2022-06-19 08:46:55.769003: I tensorflow/core/platform/cpu_feature_guard.cc:151] This TensorFlow binary is optimized with oneAPI Deep Neural Network Library (oneDNN) to use the following CPU instructions in performance-critical operations:  AVX2 AVX512F FMA\nTo enable them in other operations, rebuild TensorFlow with the appropriate compiler flags.\nDownloading data from https://storage.googleapis.com/download.tensorflow.org/data/quantum/spin_systems/TFI_chain.zip \n265543680/265536299 [==============================] - 221s 1us/step\n265551872/265536299 [==============================] - 221s 1us/step\nparams_names:\n ['theta_0', 'theta_1', 'theta_2', 'theta_3']\n\nindex:\n [8, 32, 33, 50, 64, 42, 38, 54, 1, 79, 25, 63, 75, 51, 10, 3, 28, 47, 36, 57, 15, 26, 9, 12, 37, 67, 69, 76, 41, 72, 35, 19, 40, 23, 49, 20, 73, 14, 70, 16, 56, 44, 2, 5, 59, 65, 30, 24, 68, 58, 18, 31, 77, 78, 4, 39, 13, 53, 48, 29, 71, 27, 61, 34, 62, 66, 22, 60, 7, 46, 45, 43, 6, 52, 17, 55, 74, 21, 11, 0, 80]\n\nrandom_x_data shape:\n 81\n\nrandom_y_data shape:\n 81\n\nrandom_y_data shape:\n (81,)\n\nrandom_y_data:\n [0 0 0 1 1 1 0 1 0 1 0 1 1 1 0 0 0 1 0 1 0 0 0 0 0 1 1 1 1 1 0 0 1 0 1 0 1\n 0 1 0 1 1 0 0 1 1 0 0 1 1 0 0 1 1 0 0 0 1 1 0 1 0 1 0 1 1 0 1 0 1 1 1 0 1\n 0 1 1 0 0 0 1]\n\n数据集切分后维度为：\n (60, 4) (60,) (21, 4) (21,)\n\n导出完成啦！！！\n"
    }
   ],
   "source": [
    "import tensorflow_quantum as tfq\n",
    "import tensorflow as tf\n",
    "import cirq\n",
    "import numpy as np\n",
    "import sympy\n",
    "import random\n",
    "np.random.seed(1) \n",
    "\n",
    "qubit_num = 4\n",
    "qbs = cirq.GridQubit.rect(qubit_num, 1)\n",
    "circuits, y_data, pauli_sums, addinfo = tfq.datasets.tfi_chain(qbs, \"closed\")\n",
    "\n",
    "params_names = []\n",
    "for key in addinfo[0].params:\n",
    "    params_names.append(key)\n",
    "print('params_names:\\n', params_names)\n",
    "\n",
    "x_data = []\n",
    "for i in range(len(addinfo)):\n",
    "    params_values = []\n",
    "    for key in addinfo[i].params:\n",
    "        params_values.append(addinfo[i].params[key])\n",
    "    x_data.append(params_values)\n",
    "\n",
    "random_x_data = []\n",
    "random_y_data = []\n",
    "\n",
    "index = random.sample(range(len(x_data)), len(x_data))\n",
    "print('\\nindex:\\n', index)\n",
    "\n",
    "for i in index:\n",
    "    random_x_data.append(x_data[i])\n",
    "    random_y_data.append(y_data[i])\n",
    "\n",
    "print('\\nrandom_x_data shape:\\n', len(random_x_data))\n",
    "print('\\nrandom_y_data shape:\\n', len(random_y_data))\n",
    "\n",
    "random_x_data = np.array(random_x_data)\n",
    "random_y_data = np.array(random_y_data)\n",
    "\n",
    "random_y_data[random_y_data >= 1] = 1.0\n",
    "print('\\nrandom_y_data shape:\\n', random_y_data.shape)\n",
    "print('\\nrandom_y_data:\\n', random_y_data)\n",
    "\n",
    "train_x = random_x_data[0:60]\n",
    "train_y = random_y_data[0:60]\n",
    "eval_x = random_x_data[60:]\n",
    "eval_y = random_y_data[60:]\n",
    "\n",
    "print('\\n数据集切分后维度为：\\n', train_x.shape, train_y.shape, eval_x.shape, eval_y.shape)\n",
    "\n",
    "np.save('./src/4_train_x', train_x)\n",
    "np.save('./src/4_train_y', train_y)\n",
    "np.save('./src/4_eval_x', eval_x)\n",
    "np.save('./src/4_eval_y', eval_y)\n",
    "\n",
    "print('\\n导出完成啦！！！')"
   ]
  },
  {
   "cell_type": "code",
   "execution_count": null,
   "metadata": {
    "tags": []
   },
   "outputs": [],
   "source": [
    "import tensorflow_quantum as tfq\n",
    "import tensorflow as tf\n",
    "import cirq\n",
    "import numpy as np\n",
    "import sympy\n",
    "import random\n",
    "# np.random.seed(1) \n",
    "\n",
    "qubit_num = 8\n",
    "qbs = cirq.GridQubit.rect(qubit_num, 1)\n",
    "circuits, y_data, pauli_sums, addinfo = tfq.datasets.tfi_chain(qbs, \"closed\")\n",
    "\n",
    "params_names = []\n",
    "for key in addinfo[0].params:\n",
    "    params_names.append(key)\n",
    "print('params_names:\\n', params_names)\n",
    "\n",
    "gs = [info.g for info in addinfo]\n",
    "\n",
    "x_data = []\n",
    "for i in range(len(addinfo)):\n",
    "    params_values = []\n",
    "    for key in addinfo[i].params:\n",
    "        params_values.append(addinfo[i].params[key])\n",
    "    x_data.append(params_values)\n",
    "\n",
    "random_x_data = []\n",
    "random_y_data = []\n",
    "random_g = []\n",
    "\n",
    "index = random.sample(range(len(x_data)), len(x_data))\n",
    "\n",
    "for i in index:\n",
    "    random_x_data.append(x_data[i])\n",
    "    random_y_data.append(y_data[i])\n",
    "    random_g.append(gs[i])\n",
    "\n",
    "random_x_data = np.array(random_x_data)\n",
    "random_y_data = np.array(random_y_data)\n",
    "\n",
    "random_y_data[random_y_data >= 1] = 1.0\n",
    "print('\\nrandom_y_data shape:\\n', random_y_data.shape)\n",
    "print('\\nrandom_y_data:\\n', random_y_data)\n",
    "print('\\nrandom_g:\\n', random_g)\n",
    "\n",
    "train_x = random_x_data[0:60]\n",
    "train_y = random_y_data[0:60]\n",
    "eval_x = random_x_data[60:]\n",
    "eval_y = random_y_data[60:]\n",
    "\n",
    "print('\\n数据集切分后维度为：\\n', train_x.shape, train_y.shape, eval_x.shape, eval_y.shape)\n",
    "\n",
    "np.save('./src/8_train_x', train_x)\n",
    "np.save('./src/8_train_y', train_y)\n",
    "np.save('./src/8_eval_x', eval_x)\n",
    "np.save('./src/8_eval_y', eval_y)\n",
    "\n",
    "print('\\n导出完成啦！！！')\n"
   ]
  },
  {
   "cell_type": "code",
   "execution_count": null,
   "metadata": {
    "tags": []
   },
   "outputs": [],
   "source": [
    "import tensorflow_quantum as tfq\n",
    "import tensorflow as tf\n",
    "import cirq\n",
    "import numpy as np\n",
    "import sympy\n",
    "import random\n",
    "np.random.seed(1) \n",
    "\n",
    "qubit_num = 12\n",
    "qbs = cirq.GridQubit.rect(qubit_num, 1)\n",
    "circuits, y_data, pauli_sums, addinfo = tfq.datasets.tfi_chain(qbs, \"closed\")\n",
    "\n",
    "params_names = []\n",
    "for key in addinfo[0].params:\n",
    "    params_names.append(key)\n",
    "print('params_names:\\n', params_names)\n",
    "\n",
    "x_data = []\n",
    "for i in range(len(addinfo)):\n",
    "    params_values = []\n",
    "    for key in addinfo[i].params:\n",
    "        params_values.append(addinfo[i].params[key])\n",
    "    x_data.append(params_values)\n",
    "\n",
    "random_x_data = []\n",
    "random_y_data = []\n",
    "\n",
    "index = random.sample(range(len(x_data)), len(x_data))\n",
    "\n",
    "for i in index:\n",
    "    random_x_data.append(x_data[i])\n",
    "    random_y_data.append(y_data[i])\n",
    "\n",
    "random_x_data = np.array(random_x_data)\n",
    "random_y_data = np.array(random_y_data)\n",
    "\n",
    "random_y_data[random_y_data >= 1] = 1.0\n",
    "print('\\nrandom_y_data shape:\\n', random_y_data.shape)\n",
    "print('\\nrandom_y_data:\\n', random_y_data)\n",
    "\n",
    "train_x = random_x_data[0:60]\n",
    "train_y = random_y_data[0:60]\n",
    "eval_x = random_x_data[60:]\n",
    "eval_y = random_y_data[60:]\n",
    "\n",
    "print('\\n数据集切分后维度为：\\n', train_x.shape, train_y.shape, eval_x.shape, eval_y.shape)\n",
    "\n",
    "np.save('./src/12_train_x', train_x)\n",
    "np.save('./src/12_train_y', train_y)\n",
    "np.save('./src/12_eval_x', eval_x)\n",
    "np.save('./src/12_eval_y', eval_y)\n",
    "\n",
    "print('\\n导出完成啦！！！')\n"
   ]
  }
 ]
}