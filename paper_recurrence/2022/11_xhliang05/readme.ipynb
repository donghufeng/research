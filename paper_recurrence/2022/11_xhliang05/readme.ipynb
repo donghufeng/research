{
    "cells": [
        {
            "cell_type": "markdown",
            "metadata": {},
            "source": [
                "#  赛题十一 —— 论文复现自验报告\n",
                "\n",
                "赛题内容：利用 MindQuantum 实现多基矢编码的变分量子算法\n",
                "\n",
                "论文题目：[Variational Quantum Optimization with Multi-Basis Encodings](https://arxiv.org/pdf/2106.13304.pdf)\n",
                " \n",
                "复现要求：利用 MindQuantum 实现 Multi-Basis Encoding 的变分量子算法来解决 maxcut 问题， 复现 fig2 中的变分量子线路，实现小于 10 个节点的 maxcut 图分割。\n",
                "\n",
                "## 论文方案介绍\n",
                "\n",
                "旅行推销员和最大割等 NP-hard 优化问题，在很多领域都很重要，比如运筹学、工程以及网络设计等。在这些问题的求解上，量子变分算法比经典算法具有更大的优势，从而体现出量子优势。\n",
                "变分量子本征求解（VQE）是一种常见的量子变分算法，其通过梯度下降，最小化系统能量来制备编码着问题答案的量子态。\n",
                "\n",
                "对量子系统进行经典模拟的计算量随着系统尺寸指数增加，且常规的 VQE 量子线路的宽度和深度也受所求问题的影响。\n",
                "本论文提出了一种新的编码方式，只需采用常规 VQE 方法一半的比特资源，且在测量方面只需要单比特测量，从而降低了测量复杂度。\n",
                "\n",
                "常规的 VQE 方法求解最大割问题的具体实现细节可参见 MindQuantum 的示例教程 [量子近似优化算法](https://www.mindspore.cn/mindquantum/docs/zh-CN/r0.6/quantum_approximate_optimization_algorithm.html)，此处不再赘述。其主要思路是通过最小化目标哈密顿量的期望值，来得到编码着答案的量子态。其映射方式为：\n"
            ]
        },
        {
            "cell_type": "markdown",
            "metadata": {},
            "source": [
                "\n",
                "<img src=\"./src/VQE_for_MaxCut.png\" alt=\"Drawing\" style=\"width: 400px;\" align=\"left\"/>"
            ]
        },
        {
            "cell_type": "markdown",
            "metadata": {},
            "source": [
                "目标哈密顿量为：\n",
                "$$H=\\Sigma_{j<i}^n\\omega_{ij}^{zz}\\sigma_i^z\\sigma_j^z.$$\n",
                "其中，$\\omega_{ij}$ 表示图中顶点 $i$ 和 $j$ 之间的权重。哈密顿量只包含 $z$ 基底下的项。对于一个具有 $n$ 个顶点的图，要求其最大割，需要 $n$ 个量子比特，测量中亦需要双比特测量。\n",
                "\n",
                "本论文提出一种新的编码方式，采用多基矢编码方式。如下图："
            ]
        },
        {
            "cell_type": "markdown",
            "metadata": {},
            "source": [
                "<img src=\"./src/MBE_for_MaxCut.png\" alt=\"Drawing\" style=\"width: 500px;\" align=\"left\"/>"
            ]
        },
        {
            "cell_type": "markdown",
            "metadata": {},
            "source": [
                "对于 $n$ 个顶点的图，其将 $n/2$ 个顶点编码到 $z$ 基底，而另外 $n/2$ 个顶点编码到 $x$ 基底，从而只采用 $n/2$ 个比特就可以映射整个图。如果顶点数为奇数，则最后一个不再编码 $x$ 轴了。\n",
                "\n",
                "其初始态采用 $|0\\rangle_{n}$，而拟设线路采用多层如下所示的线路："
            ]
        },
        {
            "cell_type": "code",
            "execution_count": 1,
            "metadata": {},
            "outputs": [
                {
                    "name": "stderr",
                    "output_type": "stream",
                    "text": [
                        "[WARNING] ME(931135:140597277590848,MainProcess):2023-10-17-19:53:43.648.486 [mindspore/run_check/_check_version.py:102] MindSpore version 2.1.0 and cuda version 11.8.89 does not match, CUDA version [['10.1', '11.1', '11.6']] are supported by MindSpore officially. Please refer to the installation guide for version matching information: https://www.mindspore.cn/install.\n"
                    ]
                },
                {
                    "data": {
                        "image/svg+xml": [
                            "<svg xmlns=\"http://www.w3.org/2000/svg\" width=\"476.8\" height=\"260.0\" xmlns:xlink=\"http://www.w3.org/1999/xlink\"><rect x=\"0\" y=\"0.0\" width=\"476.8\" height=\"260.0\" fill=\"#ffffff\" /><text x=\"20.0\" y=\"40.0\" font-size=\"16px\" dominant-baseline=\"middle\" text-anchor=\"start\" font-family=\"Arial\" font-weight=\"normal\" fill=\"#252b3a\" >q0: </text><text x=\"20.0\" y=\"100.0\" font-size=\"16px\" dominant-baseline=\"middle\" text-anchor=\"start\" font-family=\"Arial\" font-weight=\"normal\" fill=\"#252b3a\" >q1: </text><text x=\"20.0\" y=\"160.0\" font-size=\"16px\" dominant-baseline=\"middle\" text-anchor=\"start\" font-family=\"Arial\" font-weight=\"normal\" fill=\"#252b3a\" >q2: </text><text x=\"20.0\" y=\"220.0\" font-size=\"16px\" dominant-baseline=\"middle\" text-anchor=\"start\" font-family=\"Arial\" font-weight=\"normal\" fill=\"#252b3a\" >q3: </text><line x1=\"48.8\" x2=\"456.8\" y1=\"40.0\" y2=\"40.0\" stroke=\"#adb0b8\" stroke-width=\"1\" /><line x1=\"48.8\" x2=\"456.8\" y1=\"100.0\" y2=\"100.0\" stroke=\"#adb0b8\" stroke-width=\"1\" /><line x1=\"48.8\" x2=\"456.8\" y1=\"160.0\" y2=\"160.0\" stroke=\"#adb0b8\" stroke-width=\"1\" /><line x1=\"48.8\" x2=\"456.8\" y1=\"220.0\" y2=\"220.0\" stroke=\"#adb0b8\" stroke-width=\"1\" /><rect x=\"72.8\" y=\"20.0\" width=\"80.0\" height=\"40\" rx=\"4\" ry=\"4\" stroke=\"#ffffff\" stroke-width=\"0\" fill=\"#fac209\" fill-opacity=\"1\" /><text x=\"112.8\" y=\"36.0\" font-size=\"20px\" dominant-baseline=\"middle\" text-anchor=\"middle\" font-family=\"Arial\" font-weight=\"normal\" fill=\"#ffffff\" >RY </text><text x=\"112.8\" y=\"52.0\" font-size=\"14.0px\" dominant-baseline=\"middle\" text-anchor=\"middle\" font-family=\"Arial\" font-weight=\"normal\" fill=\"#ffffff\" >0_0_0 </text><rect x=\"72.8\" y=\"80.0\" width=\"80.0\" height=\"40\" rx=\"4\" ry=\"4\" stroke=\"#ffffff\" stroke-width=\"0\" fill=\"#fac209\" fill-opacity=\"1\" /><text x=\"112.8\" y=\"96.0\" font-size=\"20px\" dominant-baseline=\"middle\" text-anchor=\"middle\" font-family=\"Arial\" font-weight=\"normal\" fill=\"#ffffff\" >RY </text><text x=\"112.8\" y=\"112.0\" font-size=\"14.0px\" dominant-baseline=\"middle\" text-anchor=\"middle\" font-family=\"Arial\" font-weight=\"normal\" fill=\"#ffffff\" >0_0_1 </text><rect x=\"72.8\" y=\"140.0\" width=\"80.0\" height=\"40\" rx=\"4\" ry=\"4\" stroke=\"#ffffff\" stroke-width=\"0\" fill=\"#fac209\" fill-opacity=\"1\" /><text x=\"112.8\" y=\"156.0\" font-size=\"20px\" dominant-baseline=\"middle\" text-anchor=\"middle\" font-family=\"Arial\" font-weight=\"normal\" fill=\"#ffffff\" >RY </text><text x=\"112.8\" y=\"172.0\" font-size=\"14.0px\" dominant-baseline=\"middle\" text-anchor=\"middle\" font-family=\"Arial\" font-weight=\"normal\" fill=\"#ffffff\" >0_0_2 </text><rect x=\"72.8\" y=\"200.0\" width=\"80.0\" height=\"40\" rx=\"4\" ry=\"4\" stroke=\"#ffffff\" stroke-width=\"0\" fill=\"#fac209\" fill-opacity=\"1\" /><text x=\"112.8\" y=\"216.0\" font-size=\"20px\" dominant-baseline=\"middle\" text-anchor=\"middle\" font-family=\"Arial\" font-weight=\"normal\" fill=\"#ffffff\" >RY </text><text x=\"112.8\" y=\"232.0\" font-size=\"14.0px\" dominant-baseline=\"middle\" text-anchor=\"middle\" font-family=\"Arial\" font-weight=\"normal\" fill=\"#ffffff\" >0_0_3 </text><circle cx=\"192.8\" cy=\"40.0\" r=\"4\" fill=\"#5e7ce0\" /><line x1=\"192.8\" x2=\"192.8\" y1=\"40.0\" y2=\"100.0\" stroke=\"#5e7ce0\" stroke-width=\"3\" /><rect x=\"172.8\" y=\"80.0\" width=\"40.0\" height=\"40\" rx=\"4\" ry=\"4\" stroke=\"#ffffff\" stroke-width=\"0\" fill=\"#5e7ce0\" fill-opacity=\"1\" /><text x=\"192.8\" y=\"100.0\" font-size=\"20px\" dominant-baseline=\"middle\" text-anchor=\"middle\" font-family=\"Arial\" font-weight=\"normal\" fill=\"#ffffff\" >Z </text><circle cx=\"192.8\" cy=\"160.0\" r=\"4\" fill=\"#5e7ce0\" /><line x1=\"192.8\" x2=\"192.8\" y1=\"160.0\" y2=\"220.0\" stroke=\"#5e7ce0\" stroke-width=\"3\" /><rect x=\"172.8\" y=\"200.0\" width=\"40.0\" height=\"40\" rx=\"4\" ry=\"4\" stroke=\"#ffffff\" stroke-width=\"0\" fill=\"#5e7ce0\" fill-opacity=\"1\" /><text x=\"192.8\" y=\"220.0\" font-size=\"20px\" dominant-baseline=\"middle\" text-anchor=\"middle\" font-family=\"Arial\" font-weight=\"normal\" fill=\"#ffffff\" >Z </text><rect x=\"232.8\" y=\"20.0\" width=\"80.0\" height=\"40\" rx=\"4\" ry=\"4\" stroke=\"#ffffff\" stroke-width=\"0\" fill=\"#fac209\" fill-opacity=\"1\" /><text x=\"272.8\" y=\"36.0\" font-size=\"20px\" dominant-baseline=\"middle\" text-anchor=\"middle\" font-family=\"Arial\" font-weight=\"normal\" fill=\"#ffffff\" >RY </text><text x=\"272.8\" y=\"52.0\" font-size=\"14.0px\" dominant-baseline=\"middle\" text-anchor=\"middle\" font-family=\"Arial\" font-weight=\"normal\" fill=\"#ffffff\" >0_1_0 </text><rect x=\"232.8\" y=\"80.0\" width=\"80.0\" height=\"40\" rx=\"4\" ry=\"4\" stroke=\"#ffffff\" stroke-width=\"0\" fill=\"#fac209\" fill-opacity=\"1\" /><text x=\"272.8\" y=\"96.0\" font-size=\"20px\" dominant-baseline=\"middle\" text-anchor=\"middle\" font-family=\"Arial\" font-weight=\"normal\" fill=\"#ffffff\" >RY </text><text x=\"272.8\" y=\"112.0\" font-size=\"14.0px\" dominant-baseline=\"middle\" text-anchor=\"middle\" font-family=\"Arial\" font-weight=\"normal\" fill=\"#ffffff\" >0_1_1 </text><rect x=\"232.8\" y=\"140.0\" width=\"80.0\" height=\"40\" rx=\"4\" ry=\"4\" stroke=\"#ffffff\" stroke-width=\"0\" fill=\"#fac209\" fill-opacity=\"1\" /><text x=\"272.8\" y=\"156.0\" font-size=\"20px\" dominant-baseline=\"middle\" text-anchor=\"middle\" font-family=\"Arial\" font-weight=\"normal\" fill=\"#ffffff\" >RY </text><text x=\"272.8\" y=\"172.0\" font-size=\"14.0px\" dominant-baseline=\"middle\" text-anchor=\"middle\" font-family=\"Arial\" font-weight=\"normal\" fill=\"#ffffff\" >0_1_2 </text><rect x=\"232.8\" y=\"200.0\" width=\"80.0\" height=\"40\" rx=\"4\" ry=\"4\" stroke=\"#ffffff\" stroke-width=\"0\" fill=\"#fac209\" fill-opacity=\"1\" /><text x=\"272.8\" y=\"216.0\" font-size=\"20px\" dominant-baseline=\"middle\" text-anchor=\"middle\" font-family=\"Arial\" font-weight=\"normal\" fill=\"#ffffff\" >RY </text><text x=\"272.8\" y=\"232.0\" font-size=\"14.0px\" dominant-baseline=\"middle\" text-anchor=\"middle\" font-family=\"Arial\" font-weight=\"normal\" fill=\"#ffffff\" >0_1_3 </text><circle cx=\"352.8\" cy=\"100.0\" r=\"4\" fill=\"#5e7ce0\" /><line x1=\"352.8\" x2=\"352.8\" y1=\"100.0\" y2=\"160.0\" stroke=\"#5e7ce0\" stroke-width=\"3\" /><rect x=\"332.8\" y=\"140.0\" width=\"40.0\" height=\"40\" rx=\"4\" ry=\"4\" stroke=\"#ffffff\" stroke-width=\"0\" fill=\"#5e7ce0\" fill-opacity=\"1\" /><text x=\"352.8\" y=\"160.0\" font-size=\"20px\" dominant-baseline=\"middle\" text-anchor=\"middle\" font-family=\"Arial\" font-weight=\"normal\" fill=\"#ffffff\" >Z </text><circle cx=\"412.8\" cy=\"220.0\" r=\"4\" fill=\"#5e7ce0\" /><line x1=\"412.8\" x2=\"412.8\" y1=\"40.0\" y2=\"220.0\" stroke=\"#5e7ce0\" stroke-width=\"3\" /><rect x=\"392.8\" y=\"20.0\" width=\"40.0\" height=\"40\" rx=\"4\" ry=\"4\" stroke=\"#ffffff\" stroke-width=\"0\" fill=\"#5e7ce0\" fill-opacity=\"1\" /><text x=\"412.8\" y=\"40.0\" font-size=\"20px\" dominant-baseline=\"middle\" text-anchor=\"middle\" font-family=\"Arial\" font-weight=\"normal\" fill=\"#ffffff\" >Z </text></svg>"
                        ],
                        "text/plain": [
                            "<mindquantum.io.display.circuit_svg_drawer.SVGCircuit at 0x7fdee61f2460>"
                        ]
                    },
                    "execution_count": 1,
                    "metadata": {},
                    "output_type": "execute_result"
                }
            ],
            "source": [
                "from mindquantum import *\n",
                "\n",
                "def QLayer(qubit_num=4, prefix='0'):\n",
                "    circ_ = Circuit()\n",
                "    for qubit in range(qubit_num):\n",
                "        circ_ += RY(f'0_{qubit}').on(qubit)\n",
                "    for qubit in range(0, qubit_num-1, 2):\n",
                "        circ_ += Z.on(qubit+1, qubit)\n",
                "    for qubit in range(qubit_num):\n",
                "        circ_ += RY(f'1_{qubit}').on(qubit)\n",
                "    for qubit in range(1, qubit_num-1, 2):\n",
                "        circ_ += Z.on(qubit+1, qubit)\n",
                "    circ_ += Z.on(0, qubit_num-1)\n",
                "    circ_ = add_prefix(circ_, prefix)\n",
                "    return circ_\n",
                "\n",
                "qlayer = QLayer(qubit_num=4, prefix='0')\n",
                "qlayer.svg()"
            ]
        },
        {
            "cell_type": "markdown",
            "metadata": {},
            "source": [
                "用于更新网络参数的损失函数为：\n",
                "\n",
                "$$L_{MBE}=\\Sigma_{j<i}^{n/2}\\omega_{ij}^{zz}\\tanh(\\langle\\sigma_i^z\\rangle)\\tanh(\\langle\\sigma_j^z\\rangle) + \\Sigma_{j<i}^{n/2}\\omega_{ij}^{xx}\\tanh(\\langle\\sigma_i^x\\rangle)\\tanh(\\langle\\sigma_j^x\\rangle) + \\Sigma_{i,j}^{n/2}\\omega_{ij}^{zx}\\tanh(\\langle\\sigma_i^z\\rangle)\\tanh(\\langle\\sigma_j^x\\rangle).$$\n",
                "\n",
                "其中，$\\tanh(x)$ 为经典计算机控制梯度下降时施加的非线性激活函数。\n",
                "\n",
                "而最大割数的表达式为：\n",
                "\n",
                "$$C_{MBE}(\\theta, G)=\\Sigma_{j<i}^{n/2}\\frac{\\omega_{ij}^{zz}}{2}[1-R(\\langle\\sigma_i^z\\rangle)R(\\langle\\sigma_j^z\\rangle)] + \\Sigma_{j<i}^{n/2}\\frac{\\omega_{ij}^{xx}}{2}[1-R(\\langle\\sigma_i^x\\rangle)R(\\langle\\sigma_j^x\\rangle)] + \\Sigma_{i,j}^{n/2}\\frac{\\omega_{ij}^{zx}}{2}[1-R(\\langle\\sigma_i^z\\rangle)R(\\langle\\sigma_j^x\\rangle)].$$\n",
                "\n",
                "例如，对于一个 4 顶点的图，\n"
            ]
        },
        {
            "cell_type": "markdown",
            "metadata": {},
            "source": [
                "<img src=\"./src/4_nodes_VQE.png\" alt=\"Drawing\" style=\"width: 200px;\" align=\"left\"/>"
            ]
        },
        {
            "cell_type": "markdown",
            "metadata": {},
            "source": [
                "如果采用常规 VQE 编码方式，目标哈密顿为\n",
                "$$ H=\\omega_{12}\\sigma_1^z\\sigma_2^z + \\omega_{34}\\sigma_3^z\\sigma_4^z + \\omega_{13}\\sigma_1^z\\sigma_3^z.$$\n",
                "\n",
                "而采用 MBE 编码，如下图编码到两个比特，其中，顶点 1 3 编码到第 1 个比特，而顶点 2 4 编码到第二个比特，且顶点 1 2 采用 $z$ 基底编码，而顶点 3 4 采用 $x$ 基底编码：\n"
            ]
        },
        {
            "cell_type": "markdown",
            "metadata": {},
            "source": [
                "<img src=\"./src/4_nodes_MBE.png\" alt=\"Drawing\" style=\"width: 200px;\" align=\"left\"/>"
            ]
        },
        {
            "cell_type": "markdown",
            "metadata": {},
            "source": [
                "其 MBE 损失函数写为\n",
                "\n",
                "$$L_{MBE}=\\omega_{12}^{zz}\\tanh(\\langle\\sigma_1^z\\rangle)\\tanh(\\langle\\sigma_2^z\\rangle) + \\omega_{12}^{xx}\\tanh(\\langle\\sigma_1^x\\rangle)\\tanh(\\langle\\sigma_2^x\\rangle) + \\omega_{11}^{zx}\\tanh(\\langle\\sigma_1^z\\rangle)\\tanh(\\langle\\sigma_1^x\\rangle).$$\n",
                "\n",
                "\n",
                "而最大割数即为：\n",
                "\n",
                "$$C_{MBE}(\\theta, G)=\\frac{\\omega_{12}^{zz}}{2}[1-R(\\langle\\sigma_1^z\\rangle)R(\\langle\\sigma_2^z\\rangle)] + \\frac{\\omega_{34}^{xx}}{2}[1-R(\\langle\\sigma_3^x\\rangle)R(\\langle\\sigma_4^x\\rangle)] +\\frac{\\omega_{13}^{zx}}{2}[1-R(\\langle\\sigma_1^z\\rangle)R(\\langle\\sigma_3^x\\rangle)].$$\n",
                "\n",
                "接下来，我们就以上述例子，在 MindQuantum 下进行实现。为简便起见，我们将所有边的权重 $\\omega_{i,j}$ 都赋值为 1。\n",
                "\n",
                "首先，我用经典穷举法得出正确结果，用于验证 MBE 方法结果的正确性。"
            ]
        },
        {
            "cell_type": "code",
            "execution_count": 2,
            "metadata": {
                "tags": []
            },
            "outputs": [
                {
                    "name": "stdout",
                    "output_type": "stream",
                    "text": [
                        "one size: [0] cut= 2\n",
                        "one size: [1] cut= 1\n",
                        "one size: [1, 0] cut= 1\n",
                        "one size: [3] cut= 1\n",
                        "one size: [3, 0] cut= 3\n",
                        "one size: [3, 1] cut= 2\n",
                        "one size: [3, 2] cut= 1\n",
                        "one size: [2] cut= 2\n",
                        "one size: [2, 0] cut= 2\n",
                        "one size: [2, 1] cut= 3\n"
                    ]
                },
                {
                    "data": {
                        "image/png": "[encoded data removed]",
                        "text/plain": [
                            "<Figure size 640x480 with 1 Axes>"
                        ]
                    },
                    "metadata": {},
                    "output_type": "display_data"
                }
            ],
            "source": [
                "import networkx as nx\n",
                "\n",
                "g = nx.Graph()\n",
                "nx.add_path(g, [0, 1])\n",
                "nx.add_path(g, [3, 2])\n",
                "nx.add_path(g, [2, 0])\n",
                "nx.draw(g, with_labels=True, font_weight='bold') # 画出图\n",
                "\n",
                "for i in g.nodes:\n",
                "    print('one size:', [i], 'cut=', nx.cut_size(g, [i]))            # 一组 1 个顶点、另一组 3 个顶点的所有情况\n",
                "    for j in range(i):\n",
                "        print('one size:', [i, j], 'cut=', nx.cut_size(g, [i, j]))  # 一组 2 个顶点、另一组 2 个顶点的所有情况\n"
            ]
        },
        {
            "cell_type": "markdown",
            "metadata": {},
            "source": [
                "以上结果显示，最大割数为 3。\n",
                "\n",
                "下面采用量子 MBE 方法对同样的问题进行求解。"
            ]
        },
        {
            "cell_type": "code",
            "execution_count": 3,
            "metadata": {
                "tags": []
            },
            "outputs": [
                {
                    "name": "stdout",
                    "output_type": "stream",
                    "text": [
                        "0 :  0.5877196\n",
                        "20 :  -0.9304457\n",
                        "40 :  -1.0767412\n",
                        "60 :  -1.1096478\n",
                        "80 :  -1.1118505\n",
                        "3.0\n"
                    ]
                }
            ],
            "source": [
                "from mindquantum import *\n",
                "import numpy as np\n",
                "import mindspore as ms\n",
                "from mindspore import nn, ops, Tensor\n",
                "from mindspore.nn import Adam, TrainOneStepCell, LossBase\n",
                "ms.context.set_context(mode=ms.context.PYNATIVE_MODE, device_target=\"CPU\")\n",
                "\n",
                "def QLayer(qubit_num=4, prefix='0'):\n",
                "    circ_ = Circuit()\n",
                "    for qubit in range(qubit_num):\n",
                "        circ_ += RY(f'0_{qubit}').on(qubit)\n",
                "    for qubit in range(0, qubit_num-1, 2):\n",
                "        circ_ += Z.on(qubit+1, qubit)\n",
                "    for qubit in range(qubit_num):\n",
                "        circ_ += RY(f'1_{qubit}').on(qubit)\n",
                "    for qubit in range(1, qubit_num-1, 2):\n",
                "        circ_ += Z.on(qubit+1, qubit)\n",
                "    circ_ += Z.on(0, qubit_num-1)\n",
                "    circ_ = add_prefix(circ_, prefix)\n",
                "    return circ_\n",
                "\n",
                "qubit_num = 2\n",
                "layer_num = 7\n",
                "\n",
                "ansatz = Circuit()\n",
                "for layer in range(layer_num):\n",
                "    ansatz += QLayer(qubit_num=qubit_num, prefix=f'{layer}')\n",
                "\n",
                "sim = Simulator('mqvector', ansatz.n_qubits)\n",
                "ham =  [Hamiltonian(QubitOperator('Z0')), Hamiltonian(QubitOperator('X0')),\n",
                "             Hamiltonian(QubitOperator('Z1')), Hamiltonian(QubitOperator('X1'))]\n",
                "grad_ops = sim.get_expectation_with_grad(ham,\n",
                "                                         ansatz)\n",
                "\n",
                "class MyLoss(LossBase):\n",
                "    def __init__(self, reduction='mean'):\n",
                "        super(MyLoss, self).__init__(reduction)\n",
                "        self.tanh = ops.Tanh()\n",
                "\n",
                "    def construct(self, logits):\n",
                "        out = self.tanh(logits)\n",
                "        out = out[0] * out[2] + out[1] * out[3] + out[0] * out[1] \n",
                "        return self.get_loss(out)\n",
                "\n",
                "class MyWithLossCell(nn.Cell):\n",
                "   def __init__(self, backbone, loss_fn):\n",
                "       super(MyWithLossCell, self).__init__(auto_prefix=False)\n",
                "       self._backbone = backbone\n",
                "       self._loss_fn = loss_fn\n",
                "\n",
                "   def construct(self):\n",
                "       out = self._backbone()\n",
                "       return self._loss_fn(out)\n",
                "\n",
                "   @property\n",
                "   def backbone_network(self):\n",
                "       return self._backbone\n",
                "\n",
                "QuantumNet = MQAnsatzOnlyLayer(grad_ops)\n",
                "loss = MyLoss()\n",
                "net_with_criterion = MyWithLossCell(QuantumNet, loss)\n",
                "opti = Adam(QuantumNet.trainable_params(), learning_rate=0.05)     # 需要优化的是Quantumnet中可训练的参数，学习率设为0.5\n",
                "net = TrainOneStepCell(net_with_criterion, opti)\n",
                "\n",
                "for i in range(100):\n",
                "    res = net()\n",
                "    if i % 20 == 0:\n",
                "        print(i, ': ', res)\n",
                "\n",
                "round = ops.Round()\n",
                "out = QuantumNet()\n",
                "print((1 - round(out[0]) * round(out[2])) / 2 + (1 - round(out[1]) * round(out[3])) / 2 + (1 - round(out[0]) * round(out[1])) / 2)"
            ]
        },
        {
            "cell_type": "markdown",
            "metadata": {},
            "source": [
                "由上面结果可知，求得的最大割数为 3， 这一结果和用经典方法得到的结果一致。\n",
                "\n",
                "# 自验结果\n",
                "\n",
                "## 1. 对不同顶点数的图结构求解最大割\n",
                "\n",
                "为展示 MBE 算法的可靠性，我们分别对 3 - 10 个顶点的图进行了求解，都得到了与经典穷举法相一致的结果。该结果可通过执行 `main.ipynb` 中的 `主程序：0` 得到。\n",
                "\n",
                "其中，对于顶点数为偶数的图，我们采用了 3-regular 图结构，而对顶点数为奇数的图，我们留一个顶点只有两条边，而其他顶点都有三条边。下面两图分别代表了顶点个数为偶数和奇数两种图结构的基本特征。"
            ]
        },
        {
            "cell_type": "markdown",
            "metadata": {},
            "source": [
                "<img src=\"./src/even_graph.png\" alt=\"Drawing\" style=\"width: 340px;\" align=\"left\"/>\n",
                "\n",
                "\n",
                "<img src=\"./src/odd_graph.png\" alt=\"Drawing\" style=\"width: 300px;\" align=\"left\"/>"
            ]
        },
        {
            "cell_type": "markdown",
            "metadata": {},
            "source": [
                "## 2. 采用同一量子网络，求解不同图结构的最大割\n",
                "此外，论文还指出，采用同一个量子神经网络，可以完成对不同图结构的最大割求解问题。我们也对这一结论进行了复现验证，该结果可通过执行 `main.ipynb` 中的 `主程序：1` 得到。以下为具体的计算结果。"
            ]
        },
        {
            "cell_type": "code",
            "execution_count": null,
            "metadata": {},
            "outputs": [],
            "source": [
                "======================================================\n",
                "3 顶点图， 边包括： [[0, 1], [1, 2], [2, 0], [0, 1]]\n",
                "经典穷举法的最大割数为： 2\n",
                "量子 MBE 法得到的最大割数为： 3\n",
                "======================================================\n",
                "4 顶点图， 边包括： [[0, 1], [1, 2], [2, 3], [3, 0], [0, 2], [1, 3]]\n",
                "经典穷举法的最大割数为： 4\n",
                "量子 MBE 法得到的最大割数为： 4\n",
                "======================================================\n",
                "5 顶点图， 边包括： [[0, 1], [1, 2], [2, 3], [3, 4], [4, 0], [0, 2], [1, 3]]\n",
                "经典穷举法的最大割数为： 6\n",
                "量子 MBE 法得到的最大割数为： 6\n",
                "======================================================\n",
                "6 顶点图， 边包括： [[0, 1], [1, 2], [2, 3], [3, 4], [4, 5], [5, 0], [0, 3], [1, 4], [2, 5]]\n",
                "经典穷举法的最大割数为： 9\n",
                "量子 MBE 法得到的最大割数为： 9\n",
                "======================================================\n",
                "7 顶点图， 边包括： [[0, 1], [1, 2], [2, 3], [3, 4], [4, 5], [5, 6], [6, 0], [0, 3], [1, 4], [2, 5]]\n",
                "经典穷举法的最大割数为： 9\n",
                "量子 MBE 法得到的最大割数为： 9\n",
                "======================================================\n",
                "8 顶点图， 边包括： [[0, 1], [1, 2], [2, 3], [3, 4], [4, 5], [5, 6], [6, 7], [7, 0], [0, 4], [1, 5], [2, 6], [3, 7]]\n",
                "经典穷举法的最大割数为： 10\n",
                "量子 MBE 法得到的最大割数为： 10\n",
                "======================================================\n",
                "9 顶点图， 边包括： [[0, 1], [1, 2], [2, 3], [3, 4], [4, 5], [5, 6], [6, 7], [7, 8], [8, 0], [0, 4], [1, 5], [2, 6], [3, 7]]\n",
                "经典穷举法的最大割数为： 12\n",
                "量子 MBE 法得到的最大割数为： 12\n",
                "======================================================\n",
                "10 顶点图， 边包括： [[0, 1], [1, 2], [2, 3], [3, 4], [4, 5], [5, 6], [6, 7], [7, 8], [8, 9], [9, 0], [0, 5], [1, 6], [2, 7], [3, 8], [4, 9]]\n",
                "经典穷举法的最大割数为： 15\n",
                "量子 MBE 法得到的最大割数为： 15"
            ]
        },
        {
            "cell_type": "markdown",
            "metadata": {},
            "source": [
                "## 3. 用户自定义图结构求解最大割\n",
                "\n",
                "此项目支持用户自定义 2 个顶点以上的图结构的最大割求解。可根据输入边，自动确定图结构、量子比特数、目标哈密顿量等，计算并返回经典和 MBE 方法的求解结果。（注意，经典法目前只支持 3--10 个顶点的图最大割求解，如果顶点数大于 10 个，会提示不能计算，而量子 MBE 法则不受此限制）\n",
                "代码已封装到 `custom_graph.py` 中，可通过执行以下代码进行调用求解："
            ]
        },
        {
            "cell_type": "code",
            "execution_count": 1,
            "metadata": {
                "tags": []
            },
            "outputs": [
                {
                    "name": "stderr",
                    "output_type": "stream",
                    "text": [
                        "[WARNING] ME(931307:140174632527168,MainProcess):2023-10-17-19:54:54.162.572 [mindspore/run_check/_check_version.py:102] MindSpore version 2.1.0 and cuda version 11.8.89 does not match, CUDA version [['10.1', '11.1', '11.6']] are supported by MindSpore officially. Please refer to the installation guide for version matching information: https://www.mindspore.cn/install.\n"
                    ]
                },
                {
                    "name": "stdout",
                    "output_type": "stream",
                    "text": [
                        "本程序经典穷举法支持的图顶点数范围为 [3, 10]， 您输入图的顶点数为 12，故不能计算。\n",
                        "量子 MBE 法得到的最大割数为：3\n"
                    ]
                }
            ],
            "source": [
                "from custom_graph import Custom_graph\n",
                "edges =  [[0, 1], [1, 2], [9, 11]] # 示例图，用户可根据需要自定义图结构。支持的顶点数为 3-10\n",
                "graph = Custom_graph(edges)\n",
                "print(graph.exhaustion())\n",
                "print(graph.MBE())"
            ]
        },
        {
            "cell_type": "code",
            "execution_count": 3,
            "metadata": {},
            "outputs": [
                {
                    "data": {
                        "text/html": [
                            "\n",
                            "<table border=\"1\">\n",
                            "  <tr>\n",
                            "    <th>Software</th>\n",
                            "    <th>Version</th>\n",
                            "  </tr>\n",
                            "<tr><td>mindquantum</td><td>0.9.0</td></tr>\n",
                            "<tr>\n",
                            "    <th>System</th>\n",
                            "    <th>Info</th>\n",
                            "</tr>\n",
                            "<tr><td>Python</td><td>3.9.13</td></tr><tr><td>OS</td><td>Linux x86_64</td></tr><tr><td>Memory</td><td>16.62 GB</td></tr><tr><td>CPU Max Thread</td><td>16</td></tr><tr><td>Date</td><td>Tue Oct 17 19:56:08 2023</td></tr>\n",
                            "</table>\n"
                        ],
                        "text/plain": [
                            "<mindquantum.utils.show_info.InfoTable at 0x7f7b8efbf400>"
                        ]
                    },
                    "execution_count": 3,
                    "metadata": {},
                    "output_type": "execute_result"
                }
            ],
            "source": [
                "from mindquantum.utils.show_info import InfoTable\n",
                "\n",
                "InfoTable('mindquantum')"
            ]
        }
    ],
    "metadata": {
        "kernelspec": {
            "display_name": "base",
            "language": "python",
            "name": "python3"
        },
        "language_info": {
            "codemirror_mode": {
                "name": "ipython",
                "version": 3
            },
            "file_extension": ".py",
            "mimetype": "text/x-python",
            "name": "python",
            "nbconvert_exporter": "python",
            "pygments_lexer": "ipython3",
            "version": "3.9.13"
        },
        "orig_nbformat": 2
    },
    "nbformat": 4,
    "nbformat_minor": 2
}
