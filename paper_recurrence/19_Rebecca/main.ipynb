{
 "cells": [
  {
   "cell_type": "markdown",
   "metadata": {},
   "source": [
    "# 论文名\n",
    "\n",
    "## 项目介绍\n",
    "\n",
    "请详细介绍您复现的论文"
   ]
  },
  {
   "source": [
    "论文名：Capacity and quantum geometry of parametrized quantum circuits"
   ],
   "cell_type": "markdown",
   "metadata": {}
  },
  {
   "source": [
    "这篇论文讲述了在量子线路中ansatz的层数不高于特征层数pc时，自然梯度比常规梯度高几个数量级，由此可知自然梯度有利于缓解贫瘠高原现象。另外，还比较了不同纠缠门（CNOT、CPHASE、√iSWAP）以及纠缠门不同的排列方式（CHAIN、ALL、ALT）对量子线路的梯度方差以及redundancy的差异，其中求redundancy需要先由量子线路得到quantum fisher information matrix得出"
   ],
   "cell_type": "markdown",
   "metadata": {}
  },
  {
   "cell_type": "code",
   "execution_count": null,
   "metadata": {},
   "outputs": [],
   "source": [
    "## 安装最新版Minduantum\n",
    "\n",
    "!pip install https://hiq.huaweicloud.com/download/mindquantum/newest/linux/mindquantum-master-cp37-cp37m-linux_x86_64.whl -i https://pypi.tuna.tsinghua.edu.cn/simple"
   ]
  },
  {
   "cell_type": "markdown",
   "metadata": {},
   "source": [
    "## 复现过程\n",
    "\n",
    "请调用您的代码，按照步骤对论文进行复现，并输出复现结果。"
   ]
  },
  {
   "cell_type": "code",
   "execution_count": 1,
   "metadata": {},
   "outputs": [],
   "source": [
    "import numpy as np\n",
    "from mindquantum import Circuit  \n",
    "from mindquantum.core import X, Y, Z, H, RX, RY, RZ,Hamiltonian\n",
    "from mindquantum.simulator import Simulator\n",
    "from mindquantum.core import UN  \n",
    "from mindquantum import UnivMathGate\n",
    "from mindquantum import QubitOperator\n",
    "from mindquantum.framework import MQLayer \n",
    "from functools import reduce"
   ]
  },
  {
   "cell_type": "code",
   "execution_count": 2,
   "metadata": {},
   "outputs": [],
   "source": [
    "#define √iSWAP gate\n",
    "iSWAP_sqrt_mat = np.array([[1, 0, 0, 0], [0, 1/np.sqrt(2), 1/np.sqrt(2)*(0.+1.j), 0],\n",
    " [0, 1/np.sqrt(2)*(0.+1.j), 1/np.sqrt(2), 0], [0, 0, 0, 1]])\n",
    "iSWAP_sqrt_gate = UnivMathGate('√iSWAP', iSWAP_sqrt_mat)\n"
   ]
  },
  {
   "cell_type": "code",
   "execution_count": 34,
   "metadata": {
    "tags": []
   },
   "outputs": [
    {
     "output_type": "stream",
     "name": "stdout",
     "text": "q0: ──RY(π/4)────RY(theta0)────X────RZ(theta10)───────────────────X────RX(theta20)───────────────────●───────\n                               │                                  │                                  │       \nq1: ──RY(π/4)────RZ(theta1)────●─────────●─────────RY(theta11)────●─────────●─────────RZ(theta21)────X────●──\n                                         │                                  │                             │  \nq2: ──RY(π/4)────RX(theta2)────X─────────X─────────RY(theta12)────●─────────X─────────RX(theta22)────X────X──\n                               │                                  │                                  │       \nq3: ──RY(π/4)────RZ(theta3)────●─────────●─────────RZ(theta13)────X─────────●─────────RZ(theta23)────●────●──\n                                         │                                  │                             │  \nq4: ──RY(π/4)────RX(theta4)────X─────────X─────────RY(theta14)────●─────────X─────────RZ(theta24)────●────X──\n                               │                                  │                                  │       \nq5: ──RY(π/4)────RX(theta5)────●─────────●─────────RX(theta15)────X─────────X─────────RZ(theta25)────X────●──\n                                         │                                  │                             │  \nq6: ──RY(π/4)────RX(theta6)────●─────────X─────────RZ(theta16)────●─────────●─────────RZ(theta26)────●────X──\n                               │                                  │                                  │       \nq7: ──RY(π/4)────RX(theta7)────X─────────●─────────RY(theta17)────X─────────●─────────RZ(theta27)────X────●──\n                                         │                                  │                             │  \nq8: ──RY(π/4)────RX(theta8)────X─────────X─────────RY(theta18)────X─────────X─────────RY(theta28)────●────X──\n                               │                                  │                                  │       \nq9: ──RY(π/4)────RY(theta9)────●────RY(theta19)───────────────────●────RX(theta29)───────────────────X───────\n===============================================Circuit Summary===============================================\n|Total number of gates  : 67.                                                                               |\n|Parameter gates        : 30.                                                                               |\n|with 30 parameters are : theta0, theta1, theta2, theta3, theta4, theta5, theta6, theta7, theta8, theta9... |\n|Number qubit of circuit: 10                                                                                |\n=============================================================================================================\n"
    }
   ],
   "source": [
    "from src.test import circuit\n",
    "# type of entangling gate used\n",
    "type_entangler =0\n",
    "# 0: CNOT, 1:CPHASE, 2: \\\\sqrt{iSWAP}\\n\n",
    "# how to arrange the entangling layer\\n\n",
    "entangling_arrangement =0\n",
    "# 0: one-dimensional nearest-neighbor CHAIN, 1: ALl-to-ALL connections, 2:alternating nearest-neighbor connections\n",
    "n_qubits = 10  # number qubits\n",
    "depth =3 # repeat times(layer p)\n",
    "n_parameters = depth * n_qubits  # number of parameters of circuit\n",
    "cutoff_eigvals=10**-18  #define all eigenvalues of quantum fisher information metric as 0\n",
    "#define the function of the quantum circuit\n",
    "circ = circuit(n_qubits,depth,entangling_arrangement,type_entangler)\n",
    "print(circ)\n",
    "circ.summary()"
   ]
  },
  {
   "cell_type": "code",
   "execution_count": 27,
   "metadata": {
    "tags": []
   },
   "outputs": [
    {
     "output_type": "stream",
     "name": "stdout",
     "text": "(30, 30)\n"
    }
   ],
   "source": [
    "# import the function that return the quantum fisher information matrix.\n",
    "from src.test import QFI\n",
    "#define angles for circuit\n",
    "params=np.random.rand(depth*n_qubits)*2*np.pi\n",
    "#get the quantum fisher information matrix\n",
    "QFI_matrix = QFI(circ,params,entangling_arrangement=0,type_entangler =0).real\n",
    "print(QFI_matrix.shape)"
   ]
  },
  {
   "cell_type": "code",
   "execution_count": 18,
   "metadata": {
    "tags": []
   },
   "outputs": [
    {
     "output_type": "stream",
     "name": "stdout",
     "text": "0.0\n"
    }
   ],
   "source": [
    "#import a function that calculate the number of nonzero eigenvalues of a matrix.\n",
    "from src.test import number_of_zero_eigval\n",
    "cutoff_eigvals = 10**-18#define all eigenvalues of quantum fisher information metric as 0\n",
    "#calculate the number of non-zero eigenvalues of the matrix\n",
    "n_parameters = depth*n_qubits\n",
    "n_zero_eigval = number_of_zero_eigval(QFI_matrix,n_parameters = depth*n_qubits)\n",
    "# fraction of zero eigenvalues\n",
    "redundancy = number_of_zero_eigval(QFI_matrix,n_parameters = depth*n_qubits)/n_parameters\n",
    "print(redundancy)"
   ]
  },
  {
   "cell_type": "code",
   "execution_count": 30,
   "metadata": {
    "tags": []
   },
   "outputs": [
    {
     "output_type": "stream",
     "name": "stdout",
     "text": "0.0015991167451839328\n"
    }
   ],
   "source": [
    "# import a function for finding the variance of a conventional gradient by sampling\\n\",\n",
    "from src.test import get_var_partial_exp\n",
    "#define the Hamiltonian\n",
    "ham = Hamiltonian(QubitOperator('Z0 Z1'))\n",
    "#get the variance of gradients\n",
    "var_gradient = get_var_partial_exp(circ,ham)\n",
    "print(var_gradient)"
   ]
  },
  {
   "cell_type": "code",
   "execution_count": 36,
   "metadata": {
    "tags": []
   },
   "outputs": [
    {
     "output_type": "stream",
     "name": "stdout",
     "text": "depth 3\nredundancy\n [[0.03333333 0.06666667 0.        ]\n [0.         0.03333333 0.        ]\n [0.03333333 0.06666667 0.        ]]\nvariance of gradients\n [[7.28345769e-05 3.49456466e-37 7.49468483e-06]\n [4.45086708e-07 1.38606841e-03 1.18938247e-06]\n [1.34469300e-06 2.62100912e-03 2.03565120e-04]]\n"
    }
   ],
   "source": [
    "from src.test import R_vargrad_result    #columns:type_entangler:0: CNOT, 1:CPHASE, 2: \\\\sqrt{iSWAP}\n",
    "R,var_gradient=R_vargrad_result(n_qubits,depth) #rows:entangling_arrangement :0:  CHAIN, 1:ALL , 2:ALT\n",
    "print(\"depth\",depth)\n",
    "print(\"redundancy\\n\",R)   #Rows represent entanglement gate permutations and columns represent entanglement gate types\n",
    "print(\"variance of gradients\\n\",var_gradient)\n",
    "#example:R[0][0]represents PQC with entanglement gate  CNOT and entanglement gate permutations CHAIN"
   ]
  },
  {
   "cell_type": "markdown",
   "metadata": {},
   "source": [
    "## 项目总结\n",
    "\n",
    "简要总结一下您复现的论文、您的复现结果、创新点和未来可继续研究的方向。"
   ]
  },
  {
   "source": [
    "这篇论文主要有两部分:\n",
    "\n",
    "    一、探讨通过自然梯度来缓解贫瘠高原现象，但量子线路中的ansatz层数超过特征层数pc时也会出现贫瘠高原现象，所以，量子线路中的redundancy值可以用来评估的ansatz的特征层数pc，当ansatz层数小于pc时，自然梯度比常规梯度大几个数量级，从而利用自然梯度可以更好地优化参数，从而使量子线路的表达能力更强。\n",
    "    \n",
    "    二、比较不同纠缠门（CNOT、CPHASE、√iSWAP）以及纠缠门不同的排列方式（CHAIN、ALL、ALT）对量子线路的梯度方差以及redundancy的差异;\n",
    "\n",
    "从复现结果可得：\n",
    "\n",
    "       1）纠缠门由CPHASE gate组成的PQC所得到的redundancy无论ansatz是哪种排列方式，都要比CNOT gate或sqrt(iSWAP) gate组成的PQC都要高；\n",
    "    \n",
    "       2）由CNOT或√iSWAP门构造的PQC具有更低的梯度方差，与使用CPHASE门的PQC相比，具有更高的表达能力;\n",
    "    \n",
    "       3）参数冗余度（R）的变化取决于PQC的门的类型和排列方式。"
   ],
   "cell_type": "markdown",
   "metadata": {}
  }
 ],
 "metadata": {
  "language_info": {
   "name": "python",
   "version": "3.7.5-final"
  },
  "orig_nbformat": 4,
  "kernelspec": {
   "name": "python37564bit691875d4f6a54eae863529d5a74a8d43",
   "display_name": "Python 3.7.5 64-bit"
  }
 },
 "nbformat": 4,
 "nbformat_minor": 2
}