{
 "cells": [
  {
   "cell_type": "markdown",
   "metadata": {},
   "source": [
    "# 论文名称-An aritifical neuron implemented on an actual quantum processor\n",
    "\n",
    "## 项目介绍\n",
    "\n",
    "#### 论文中介绍了一种量子感知器算法，可以用来模式识别。首先量子感知器包含三个部分(全部有量子线路组成), 输入线路 $U_i$, 训练线路 $U_w$ 和激活函数线路。一开始，初始量子比特都为 $|0\\rangle$, 先经过 Hadamad 门, 量子比特处在振幅相同的叠加态上。线路经过 $U_i$ 后不会改变每个量子态的振幅，但是会改变其中某个量子态的相位，前面加个-1。然后经过 $U_w$ , 如果 $U_w$ 可以识别前面的 $U_i$, 每个量子态前面的相位又都变为1, 再经过 Hadamad 门, 量子态全部变为 $|0\\rangle$ 态，在线路中加入X 门翻转量子比特，0态变1态。如果量子比特为2个，激活函数为Toffili 门, 最后通过测量辅助比特为态的概率来判断相应的输入模式有没有被识别。"
   ]
  },
  {
   "cell_type": "code",
   "execution_count": 2,
   "metadata": {
    "tags": []
   },
   "outputs": [],
   "source": [
    "## 安装最新版Minduantum\n",
    "\n",
    "#!pip install https://hiq.huaweicloud.com/download/mindquantum/newest/linux/mindquantum-master-cp37-cp37m-linux_x86_64.whl -i https://pypi.tuna.tsinghua.edu.cn/simple"
   ]
  },
  {
   "cell_type": "markdown",
   "metadata": {},
   "source": [
    "## 复现过程\n",
    "\n",
    "请调用您的代码，按照步骤对论文进行复现，并输出复现结果。"
   ]
  },
  {
   "cell_type": "code",
   "execution_count": null,
   "metadata": {},
   "outputs": [],
   "source": [
    "from "
   ]
  },
  {
   "cell_type": "markdown",
   "metadata": {},
   "source": [
    "## 项目总结\n",
    "\n",
    "简要总结一下您复现的论文、您的复现结果、创新点和未来可继续研究的方向。"
   ]
  },
  {
   "cell_type": "code",
   "execution_count": null,
   "metadata": {},
   "outputs": [],
   "source": []
  }
 ],
 "metadata": {
  "language_info": {
   "name": "python",
   "version": "3.7.5-final"
  },
  "orig_nbformat": 4,
  "kernelspec": {
   "name": "python37564bite7a05fad15414aa0842ed586521badf4",
   "display_name": "Python 3.7.5 64-bit"
  }
 },
 "nbformat": 4,
 "nbformat_minor": 2
}