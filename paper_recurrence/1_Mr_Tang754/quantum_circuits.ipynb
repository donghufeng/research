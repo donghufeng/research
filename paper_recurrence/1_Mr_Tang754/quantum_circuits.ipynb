{
 "cells": [
  {
   "cell_type": "code",
   "execution_count": 1,
   "metadata": {},
   "outputs": [],
   "source": [
    "import random\n",
    "import numpy as np\n",
    "import pandas as pd\n",
    "import matplotlib.pyplot as plt\n",
    "import qutip as qp\n",
    "from tqdm import tqdm\n",
    "from matplotlib.animation import FuncAnimation\n",
    "from copy import deepcopy\n",
    "import copy\n",
    "from itertools import combinations\n",
    "\n",
    "\n",
    "from mindquantum import Circuit, UN, H, Z, X, Measure\n",
    "from mindquantum.simulator import Simulator\n",
    "plt.rcParams[\"figure.dpi\"]=120"
   ]
  },
  {
   "cell_type": "code",
   "execution_count": 3,
   "metadata": {},
   "outputs": [],
   "source": [
    "n_qubit = 4\n",
    "\n",
    "# possible\n",
    "z_combinations = []\n",
    "control_z_combinations = []\n",
    "control_2_z_combinatons = []\n",
    "control_3_z_combinations = []\n",
    "\n",
    "## 排列组合\n",
    "qubits_list = np.arange(0, n_qubit, 1)\n",
    "z_all = [1]*n_qubit\n",
    "control_z_all = list(combinations(qubits_list,2))\n",
    "control_2_z_all = list(combinations(qubits_list,3))\n",
    "control_3_z_all = list(combinations(qubits_list,4))\n",
    "\n",
    "for i in range(2**len(z_all)):\n",
    "    z_combination = list('{:04b}'.format(i))\n",
    "    z_combinations.append(list(map(int, z_combination)))\n",
    "\n",
    "for i in range(2**len(control_z_all)):\n",
    "    control_z_combination = list('{:06b}'.format(i))\n",
    "    control_z_combination = list(map(int, control_z_combination))\n",
    "    for index, possible in enumerate(control_z_combination):\n",
    "        if possible != 0: control_z_combination[index] = list(control_z_all[index])\n",
    "    control_z_combinations.append(control_z_combination)  \n",
    "    \n",
    "for i in range(2**len(control_2_z_all)):\n",
    "    control_2_z_combinaton = list('{:04b}'.format(i))\n",
    "    control_2_z_combinaton = list(map(int, control_2_z_combinaton))\n",
    "    for index, possible in enumerate(control_2_z_combinaton):\n",
    "        if possible != 0: control_2_z_combinaton[index] = list(control_2_z_all[index])\n",
    "    control_2_z_combinatons.append(control_2_z_combinaton)\n",
    "    \n",
    "for i in range(2**len(control_3_z_all)):\n",
    "    control_3_z_combination = list('{:01b}'.format(i))\n",
    "    control_3_z_combination = list(map(int, control_3_z_combination))\n",
    "    for index, possible in enumerate(control_3_z_combination):\n",
    "        if possible != 0: control_3_z_combination[index] = list(control_3_z_all[index])\n",
    "    control_3_z_combinations.append(control_3_z_combination) "
   ]
  },
  {
   "source": [
    "## Generate Hypergaph state"
   ],
   "cell_type": "markdown",
   "metadata": {}
  },
  {
   "cell_type": "code",
   "execution_count": 4,
   "metadata": {},
   "outputs": [],
   "source": [
    "def Quantum_Hypergraph_cicuits(z_position, control_z_positon, control_2_z_positon, control_3_z_positon, flag):\n",
    "    \n",
    "    n_qubits = 4                                # 设定量子比特数为3\n",
    "    sim = Simulator('projectq', n_qubits)        # 使用projectq模拟器，命名为sim\n",
    "    circuit = Circuit()                          # 初始化量子线路，命名为circuit\n",
    "\n",
    "    if flag == True:\n",
    "         circuit += UN(H, n_qubits) \n",
    "        \n",
    "    for index, position in enumerate(z_position):\n",
    "        if position == 1:\n",
    "            circuit += Z.on([index])\n",
    "\n",
    "    for index, position in enumerate(control_z_positon):\n",
    "        if isinstance(position,list):\n",
    "            target = int(position[1])\n",
    "            control = int(position[0])\n",
    "            circuit += Z.on([target], [control])\n",
    "            \n",
    "    for  index, position in enumerate(control_2_z_positon):\n",
    "        if isinstance(position,list):\n",
    "            target = int(position[-1])\n",
    "            control = [int(i) for i in position]\n",
    "            del control[-1]\n",
    "            circuit += Z.on([target], control)\n",
    "\n",
    "    for index, position in enumerate(control_3_z_positon):\n",
    "        if isinstance(position,list):\n",
    "           circuit += Z.on([3], [0, 1, 2])\n",
    "    return circuit\n",
    "\n",
    "\n",
    "def Quantum_Hypergraph_cicuits_symmetry(z_position, control_z_positon, control_2_z_positon, control_3_z_positon, flag):\n",
    "\n",
    "    # To get the global phase -1\n",
    "    one_control = [(0, 1), (0, 2), (0, 3), (1, 2), (1, 3), (2, 3)]\n",
    "    two_control = [(0, 1, 2), (0, 1, 3), (0, 2, 3), (1, 2, 3)] \n",
    "\n",
    "    n_qubits = 4                                          # 设定量子比特数为3\n",
    "    sim = Simulator('projectq', n_qubits)        # 使用projectq模拟器，命名为sim\n",
    "    circuit = Circuit()                                   # 初始化量子线路，命名为circuit\n",
    "\n",
    "    if flag == True:\n",
    "        circuit += UN(H, n_qubits) \n",
    "    circuit += UN(Z, n_qubits) \n",
    "\n",
    "    for index, value in enumerate(one_control):\n",
    "            circuit += Z.on([value[1]], [value[0]])\n",
    "\n",
    "    for index, value in enumerate(two_control):\n",
    "        circuit += Z.on([value[-1]], [value[0], value[1]])\n",
    "\n",
    "    circuit += Z.on([3], [0,1,2])\n",
    "        \n",
    "    circuit += UN(X, n_qubits) \n",
    "    circuit += Z.on([3], [0,1,2])\n",
    "    \n",
    "    for index, position in enumerate(z_position):\n",
    "        if position == 1:\n",
    "            circuit += Z.on([index])\n",
    "\n",
    "    for index, position in enumerate(control_z_positon):\n",
    "        if isinstance(position,list):\n",
    "            target = int(position[1])\n",
    "            control = int(position[0])\n",
    "            circuit += Z.on([target], [control])\n",
    "            \n",
    "    for  index, position in enumerate(control_2_z_positon):\n",
    "        if isinstance(position,list):\n",
    "            target = int(position[-1])\n",
    "            control = [int(i) for i in position]\n",
    "            del control[-1]\n",
    "            circuit += Z.on([target], control)\n",
    "\n",
    "    for index, position in enumerate(control_3_z_positon):\n",
    "        if isinstance(position,list):\n",
    "           circuit += Z.on([3], [0, 1, 2])\n",
    "            \n",
    "    return circuit\n"
   ]
  },
  {
   "cell_type": "code",
   "execution_count": 5,
   "metadata": {
    "tags": []
   },
   "outputs": [
    {
     "output_type": "display_data",
     "data": {
      "text/plain": "",
      "text/html": "<pre style=\"white-space:pre;overflow-x:auto;line-height:normal;font-family:Menlo,'DejaVu Sans Mono',consolas,'Courier New',monospace\"></pre>\n"
     },
     "metadata": {}
    },
    {
     "output_type": "execute_result",
     "data": {
      "text/plain": "q0: ──H──────────────●───────\n                     │\nq1: ──H─────────●────┼────●──\n                │    │    │\nq2: ──H────Z────┼────●────●──\n                │    │    │\nq3: ──H─────────Z────Z────Z──",
      "text/html": "<pre style=\"white-space: pre;\"><span style=\"color: #000080; text-decoration-color: #000080; font-weight: bold\">q0: ──H──────────────●───────</span>\n<span style=\"color: #000080; text-decoration-color: #000080; font-weight: bold\">                     │</span>\n<span style=\"color: #000080; text-decoration-color: #000080; font-weight: bold\">q1: ──H─────────●────┼────●──</span>\n<span style=\"color: #000080; text-decoration-color: #000080; font-weight: bold\">                │    │    │</span>\n<span style=\"color: #000080; text-decoration-color: #000080; font-weight: bold\">q2: ──H────Z────┼────●────●──</span>\n<span style=\"color: #000080; text-decoration-color: #000080; font-weight: bold\">                │    │    │</span>\n<span style=\"color: #000080; text-decoration-color: #000080; font-weight: bold\">q3: ──H─────────Z────Z────Z──</span>\n</pre>\n"
     },
     "metadata": {},
     "execution_count": 5
    }
   ],
   "source": [
    " Quantum_Hypergraph_cicuits(z_combinations[2], control_z_combinations[2],control_2_z_combinatons[3],control_3_z_combinations[0], True)"
   ]
  },
  {
   "cell_type": "code",
   "execution_count": 6,
   "metadata": {},
   "outputs": [
    {
     "output_type": "display_data",
     "data": {
      "text/plain": "",
      "text/html": "<pre style=\"white-space:pre;overflow-x:auto;line-height:normal;font-family:Menlo,'DejaVu Sans Mono',consolas,'Courier New',monospace\"></pre>\n"
     },
     "metadata": {}
    },
    {
     "output_type": "execute_result",
     "data": {
      "text/plain": "q0: ──H────Z────●────●────●───────────────────●────●────●─────────●────X────●──\n                │    │    │                   │    │    │         │         │\nq1: ──H────Z────Z────┼────┼────●────●─────────●────●────┼────●────●────X────●──\n                     │    │    │    │         │    │    │    │    │         │\nq2: ──H────Z─────────Z────┼────Z────┼────●────Z────┼────●────●────●────X────●──\n                          │         │    │         │    │    │    │         │\nq3: ──H────Z──────────────Z─────────Z────Z─────────Z────Z────Z────Z────X────Z──",
      "text/html": "<pre style=\"white-space: pre;\"><span style=\"color: #000080; text-decoration-color: #000080; font-weight: bold\">q0: ──H────Z────●────●────●───────────────────●────●────●─────────●────X────●──</span>\n<span style=\"color: #000080; text-decoration-color: #000080; font-weight: bold\">                │    │    │                   │    │    │         │         │</span>\n<span style=\"color: #000080; text-decoration-color: #000080; font-weight: bold\">q1: ──H────Z────Z────┼────┼────●────●─────────●────●────┼────●────●────X────●──</span>\n<span style=\"color: #000080; text-decoration-color: #000080; font-weight: bold\">                     │    │    │    │         │    │    │    │    │         │</span>\n<span style=\"color: #000080; text-decoration-color: #000080; font-weight: bold\">q2: ──H────Z─────────Z────┼────Z────┼────●────Z────┼────●────●────●────X────●──</span>\n<span style=\"color: #000080; text-decoration-color: #000080; font-weight: bold\">                          │         │    │         │    │    │    │         │</span>\n<span style=\"color: #000080; text-decoration-color: #000080; font-weight: bold\">q3: ──H────Z──────────────Z─────────Z────Z─────────Z────Z────Z────Z────X────Z──</span>\n</pre>\n"
     },
     "metadata": {},
     "execution_count": 6
    }
   ],
   "source": [
    " Quantum_Hypergraph_cicuits_symmetry(z_combinations[0], control_z_combinations[0],control_2_z_combinatons[0],control_3_z_combinations[0], True)\n"
   ]
  },
  {
   "cell_type": "code",
   "execution_count": 7,
   "metadata": {
    "tags": []
   },
   "outputs": [],
   "source": [
    "n_qubits = 4\n",
    "sim = Simulator('projectq', n_qubits)        # 使用projectq模拟器，命名为sim\n",
    "sim.reset() \n",
    "circ =  Quantum_Hypergraph_cicuits_symmetry(z_combinations[0], control_z_combinations[0],control_2_z_combinatons[0],control_3_z_combinations[0], True)\n",
    "sim.apply_circuit(circ)                       # 通过模拟器sim运行搭建好的量子线路circuit\n",
    "result = sim.get_qs(True)                      # 打印模拟器sim中运行量子线路circuit后的末态\n"
   ]
  },
  {
   "cell_type": "code",
   "execution_count": 8,
   "metadata": {
    "tags": []
   },
   "outputs": [],
   "source": [
    "data_circuits_input = []\n",
    "data_circuits_weight = []\n",
    "for c_3_z_gate in control_3_z_combinations:\n",
    "    for c_2_z_gate in control_2_z_combinatons:\n",
    "        for c_z_gate in control_z_combinations:\n",
    "            for z_gate in z_combinations:\n",
    "                data_circuits_input.append(Quantum_Hypergraph_cicuits(z_gate, c_z_gate, c_2_z_gate, c_3_z_gate,True))\n",
    "                data_circuits_input.append(Quantum_Hypergraph_cicuits_symmetry(z_gate, c_z_gate, c_2_z_gate, c_3_z_gate,True))\n",
    "                data_circuits_weight.append(Quantum_Hypergraph_cicuits(z_gate, c_z_gate, c_2_z_gate, c_3_z_gate, False))\n",
    "                data_circuits_weight.append(Quantum_Hypergraph_cicuits_symmetry(z_gate, c_z_gate, c_2_z_gate, c_3_z_gate, False))\n",
    "\n",
    "                \n",
    "circuits_state = []\n",
    "for circ in data_circuits_input:\n",
    "\n",
    "    n_qubits = 4\n",
    "    sim = Simulator('projectq', n_qubits)        # 使用projectq模拟器，命名为sim\n",
    "    sim.reset() \n",
    "    sim.apply_circuit(circ)                       # 通过模拟器sim运行搭建好的量子线路circuit\n",
    "    result = sim.get_qs(True)  \n",
    "    state = []\n",
    "    for i , value in enumerate(result.splitlines()):\n",
    "        if value[0] == '-':  state.append(0);\n",
    "        else:  state.append(1);\n",
    "    state = tuple(state)\n",
    "    circuits_state.append(state)"
   ]
  },
  {
   "source": [
    "## Circuits_state----Quantum Circuits"
   ],
   "cell_type": "markdown",
   "metadata": {}
  },
  {
   "cell_type": "code",
   "execution_count": 9,
   "metadata": {},
   "outputs": [
    {
     "output_type": "execute_result",
     "data": {
      "text/plain": "65536"
     },
     "metadata": {},
     "execution_count": 9
    }
   ],
   "source": [
    "input_dataset = dict(zip(circuits_state, data_circuits_input))  ### 全部的\n",
    "weight_dataset = dict(zip(circuits_state, data_circuits_weight)) \n",
    "len(input_dataset)\n",
    "set_lst=set(input_dataset)\n",
    "len(set_lst)"
   ]
  },
  {
   "source": [
    "## Generate data Lable"
   ],
   "cell_type": "markdown",
   "metadata": {}
  },
  {
   "cell_type": "code",
   "execution_count": 10,
   "metadata": {},
   "outputs": [],
   "source": [
    "w_target = np.array([1, 1, 1, 1, 1, 1, 0, 1, 1, 0, 0, 0, 1, 1, 0, 1])\n",
    "w_target_symmetry = np.array([0, 0, 0, 0, 0, 0, 1, 0, 0, 1, 1, 1, 0, 0, 1, 0])\n",
    "number = np.array([6,9,10,11,14])\n",
    "possible = list(combinations(number,2))\n",
    "\n",
    "    \n",
    "positive_circuit = []\n",
    "for index,value in enumerate(w_target):\n",
    "    data_copy = copy.deepcopy(w_target)\n",
    "    data_symmergy_copy = copy.deepcopy(w_target_symmetry)\n",
    "    if index == 6 or index == 9 or index == 10 or index == 11 or index == 14: # 少一个\n",
    "        data_copy[index] = 1\n",
    "        data_symmergy_copy[index] = 0\n",
    "        positive_circuit.append(tuple(data_copy))\n",
    "        positive_circuit.append(tuple(data_symmergy_copy))\n",
    "    if index == 5 or index == 7 or index == 13 or index == 15: # 多一个\n",
    "        data_copy[index] = 0\n",
    "        positive_circuit.append(tuple(data_copy))\n",
    "        \n",
    "for i in possible:\n",
    "    data_copy = copy.deepcopy(w_target)\n",
    "    data_symmergy_copy = copy.deepcopy(w_target_symmetry)\n",
    "    data_copy[list(i)[0]] = 1\n",
    "    data_copy[list(i)[1]] = 1\n",
    "    data_symmergy_copy[list(i)[0]] = 0\n",
    "    data_symmergy_copy[list(i)[1]] = 0\n",
    "    positive_circuit.append(tuple(data_copy))\n",
    "    positive_circuit.append(tuple(data_symmergy_copy))\n",
    "\n",
    "# element = [[5,6],[5,9],[7,6],[7,11],[13,9],[13,14],[15,11],[15,14]]\n",
    "# for index,value in enumerate(w_target):  # 少一个多一个\n",
    "#     data_copy = copy.deepcopy(w_target)\n",
    "#     if index == 5 or index == 7 or index == 13 or index == 15 :\n",
    "#         data_copy[index] = 0\n",
    "#         for j in element:\n",
    "#             if j[0] == 5:\n",
    "#                 data_copy[j[1]] = 1\n",
    "#                 positive_circuit.append(tuple(data_copy))\n",
    "\n",
    "positive_circuit.append(tuple(w_target))"
   ]
  },
  {
   "cell_type": "code",
   "execution_count": 11,
   "metadata": {},
   "outputs": [],
   "source": [
    "global traing_label\n",
    "   \n",
    "input_dataset2 = copy.copy(input_dataset)\n",
    "#positive_index.sort(reverse=True)\n",
    "training_positive_circuits = {}\n",
    "traing_label = {}\n",
    "traing_negtive_circuits = {}\n",
    "traing_negtive_label = {}\n",
    "\n",
    "for i in positive_circuit:\n",
    "    training_positive_circuits[i] = input_dataset2[i]\n",
    "    traing_label[i] = 1\n",
    "    \n",
    "for i in positive_circuit:\n",
    "    del input_dataset2[i]\n",
    "    \n",
    "traing_datas_negtive_key = random.sample(input_dataset2.keys(),1000)\n",
    "for key in traing_datas_negtive_key:\n",
    "    traing_negtive_circuits[key] = input_dataset2[key]\n",
    "    traing_negtive_label[key] = 0\n",
    "\n",
    "training_positive_circuits.update(traing_negtive_circuits)\n",
    "traing_label.update(traing_negtive_label)"
   ]
  },
  {
   "cell_type": "code",
   "execution_count": 12,
   "metadata": {},
   "outputs": [],
   "source": [
    "def random_dic(dicts):\n",
    "    dict_key_ls = list(dicts.keys())\n",
    "    random.shuffle(dict_key_ls)\n",
    "    new_dic = {}\n",
    "    for key in dict_key_ls:\n",
    "        new_dic[key] = dicts.get(key)\n",
    "    return new_dic\n",
    "\n",
    "\n",
    "training_data = random_dic(training_positive_circuits)"
   ]
  },
  {
   "cell_type": "code",
   "execution_count": 13,
   "metadata": {},
   "outputs": [
    {
     "output_type": "execute_result",
     "data": {
      "text/plain": "1035"
     },
     "metadata": {},
     "execution_count": 13
    }
   ],
   "source": [
    "#len(training_data)\n",
    "len(traing_label)"
   ]
  },
  {
   "cell_type": "code",
   "execution_count": 20,
   "metadata": {},
   "outputs": [],
   "source": [
    "def active_function(input_circuits, weight_circuits):    \n",
    "\n",
    "    n_qubits = 5                                      # 设定量子比特数为3\n",
    "    sim = Simulator('projectq', n_qubits)        # 使用projectq模拟器，命名为sim\n",
    "    circuit = Circuit()                                   # 初始化量子线路，命名为circuit\n",
    "\n",
    "    circuit += input_circuits\n",
    "    circuit += weight_circuits\n",
    "    circuit += UN(H, n_qubits-1) \n",
    "    circuit += UN(X, n_qubits-1) \n",
    "    circuit += X.on([4], [0, 1, 2, 3])\n",
    "    circuit += Measure().on(4)\n",
    "\n",
    "    res = sim.sampling(circuit, shots=5000)\n",
    "    counts = res.data\n",
    "    key_number = []\n",
    "    for i in counts.keys():\n",
    "        key_number.append(i)\n",
    "    if len(key_number) == 2: \n",
    "        one_weight = counts[\"1\"]/(counts[\"0\"]+counts[\"1\"])\n",
    "    elif len(key_number) == 1: \n",
    "        for key, value in counts.items():\n",
    "            if key == '1':\n",
    "                one_weight = value/5000\n",
    "            else:\n",
    "                one_weight = 0\n",
    "                \n",
    "    if one_weight > 0.5:  ### Threshoud value\n",
    "        pred = 1 \n",
    "    else: pred = 0\n",
    "    return pred\n",
    "\n",
    "\n",
    "def update(in_vector, w_vector, pred):\n",
    "    global correct\n",
    "    global label\n",
    "    \n",
    "    w_vector = w_vector\n",
    "    \n",
    "    if pred == 1 and traing_label[in_vector]==1:\n",
    "        correct += 1\n",
    "        return w_vector, correct\n",
    "        \n",
    "    elif pred == 0 and traing_label[in_vector]==0:\n",
    "        correct += 1\n",
    "        return w_vector, correct\n",
    "\n",
    "    elif pred == 1 and traing_label[in_vector]==0:     ## move far away\n",
    "        \n",
    "        while 1:\n",
    "            wrong = 0\n",
    "            for i in range(16):\n",
    "                if in_vector[i] != w_vector[i]:\n",
    "                    wrong += 1\n",
    "            if wrong == 16:\n",
    "                if w_vector[random.randrange(0, 15,1)] == 0:\n",
    "                    w_vector = list(w_vector)\n",
    "                    w_vector[random.randrange(0, 15,1)] = 1\n",
    "                    w_vector = tuple(w_vector)\n",
    "                else:\n",
    "                    w_vector = list(w_vector)\n",
    "                    w_vector[random.randrange(0, 15,1)] = 0\n",
    "                    w_vector = tuple(w_vector)\n",
    "            w_vector = list(w_vector)\n",
    "            w_vector = list(w_vector)\n",
    "            \n",
    "            for i in range(16):\n",
    "                if w_vector[i] == in_vector[i]:  w_vector[i] = random.randrange(0, 2,1);\n",
    "\n",
    "            w_vector = tuple(w_vector)\n",
    "            input_circuits = input_dataset[in_vector]\n",
    "            weight_circuits = weight_dataset[w_vector]\n",
    "            \n",
    "            pred = active_function(input_circuits, weight_circuits)  \n",
    "            if pred == 0:\n",
    "                correct += 1\n",
    "                break\n",
    "        return w_vector, correct\n",
    "    \n",
    "    elif pred == 0 and traing_label[in_vector]==1:    ## move far away\n",
    "        while 1:\n",
    "            if in_vector == w_vector:\n",
    "                if w_vector[random.randrange(0, 15,1)] == 0:\n",
    "                    w_vector = list(w_vector)\n",
    "                    w_vector[random.randrange(0, 15,1)] = 1\n",
    "                    w_vector = tuple(w_vector)\n",
    "                else:\n",
    "                    w_vector = list(w_vector)\n",
    "                    w_vector[random.randrange(0, 15,1)] = 0\n",
    "                    w_vector = tuple(w_vector)\n",
    "            w_vector = list(w_vector)\n",
    "            for i in range(16):\n",
    "                if w_vector[i] != in_vector[i]: w_vector[i] = random.randrange(0, 2,1); \n",
    "\n",
    "            w_vector = tuple(w_vector)\n",
    "            input_circuits = input_dataset[in_vector]\n",
    "            weight_circuits = weight_dataset[w_vector]\n",
    "                \n",
    "            pred = active_function(input_circuits, weight_circuits)  \n",
    "            if pred == 1:\n",
    "                correct += 1\n",
    "                break \n",
    "        return w_vector, correct"
   ]
  },
  {
   "cell_type": "code",
   "execution_count": 21,
   "metadata": {
    "tags": []
   },
   "outputs": [
    {
     "output_type": "stream",
     "name": "stderr",
     "text": "17%|█▋        | 181/1035 [27:27<2:09:33,  9.10s/it]\n"
    },
    {
     "output_type": "error",
     "ename": "KeyboardInterrupt",
     "evalue": "",
     "traceback": [
      "\u001b[0;31m---------------------------------------------------------------------------\u001b[0m",
      "\u001b[0;31mKeyboardInterrupt\u001b[0m                         Traceback (most recent call last)",
      "\u001b[0;32m/tmp/ipykernel_5432/3759424120.py\u001b[0m in \u001b[0;36m<module>\u001b[0;34m\u001b[0m\n\u001b[1;32m      8\u001b[0m     \u001b[0mweight_circuits\u001b[0m \u001b[0;34m=\u001b[0m \u001b[0minput_dataset\u001b[0m\u001b[0;34m[\u001b[0m\u001b[0mw_vector\u001b[0m\u001b[0;34m]\u001b[0m\u001b[0;34m\u001b[0m\u001b[0;34m\u001b[0m\u001b[0m\n\u001b[1;32m      9\u001b[0m     \u001b[0mpred\u001b[0m \u001b[0;34m=\u001b[0m \u001b[0mactive_function\u001b[0m\u001b[0;34m(\u001b[0m\u001b[0minput_circuits\u001b[0m\u001b[0;34m,\u001b[0m \u001b[0mweight_circuits\u001b[0m\u001b[0;34m)\u001b[0m\u001b[0;34m\u001b[0m\u001b[0;34m\u001b[0m\u001b[0m\n\u001b[0;32m---> 10\u001b[0;31m     \u001b[0mw_vector\u001b[0m\u001b[0;34m,\u001b[0m \u001b[0mcorrect\u001b[0m \u001b[0;34m=\u001b[0m \u001b[0mupdate\u001b[0m\u001b[0;34m(\u001b[0m\u001b[0min_vector\u001b[0m\u001b[0;34m,\u001b[0m \u001b[0mw_vector\u001b[0m\u001b[0;34m,\u001b[0m \u001b[0mpred\u001b[0m\u001b[0;34m)\u001b[0m\u001b[0;34m\u001b[0m\u001b[0;34m\u001b[0m\u001b[0m\n\u001b[0m\u001b[1;32m     11\u001b[0m     \u001b[0mweight\u001b[0m\u001b[0;34m.\u001b[0m\u001b[0mappend\u001b[0m\u001b[0;34m(\u001b[0m\u001b[0mw_vector\u001b[0m\u001b[0;34m)\u001b[0m\u001b[0;34m\u001b[0m\u001b[0;34m\u001b[0m\u001b[0m\n\u001b[1;32m     12\u001b[0m \u001b[0;34m\u001b[0m\u001b[0m\n",
      "\u001b[0;32m/tmp/ipykernel_5432/4005430255.py\u001b[0m in \u001b[0;36mupdate\u001b[0;34m(in_vector, w_vector, pred)\u001b[0m\n\u001b[1;32m     97\u001b[0m             \u001b[0mweight_circuits\u001b[0m \u001b[0;34m=\u001b[0m \u001b[0mweight_dataset\u001b[0m\u001b[0;34m[\u001b[0m\u001b[0mw_vector\u001b[0m\u001b[0;34m]\u001b[0m\u001b[0;34m\u001b[0m\u001b[0;34m\u001b[0m\u001b[0m\n\u001b[1;32m     98\u001b[0m \u001b[0;34m\u001b[0m\u001b[0m\n\u001b[0;32m---> 99\u001b[0;31m             \u001b[0mpred\u001b[0m \u001b[0;34m=\u001b[0m \u001b[0mactive_function\u001b[0m\u001b[0;34m(\u001b[0m\u001b[0minput_circuits\u001b[0m\u001b[0;34m,\u001b[0m \u001b[0mweight_circuits\u001b[0m\u001b[0;34m)\u001b[0m\u001b[0;34m\u001b[0m\u001b[0;34m\u001b[0m\u001b[0m\n\u001b[0m\u001b[1;32m    100\u001b[0m             \u001b[0;32mif\u001b[0m \u001b[0mpred\u001b[0m \u001b[0;34m==\u001b[0m \u001b[0;36m1\u001b[0m\u001b[0;34m:\u001b[0m\u001b[0;34m\u001b[0m\u001b[0;34m\u001b[0m\u001b[0m\n\u001b[1;32m    101\u001b[0m                 \u001b[0mcorrect\u001b[0m \u001b[0;34m+=\u001b[0m \u001b[0;36m1\u001b[0m\u001b[0;34m\u001b[0m\u001b[0;34m\u001b[0m\u001b[0m\n",
      "\u001b[0;32m/tmp/ipykernel_5432/4005430255.py\u001b[0m in \u001b[0;36mactive_function\u001b[0;34m(input_circuits, weight_circuits)\u001b[0m\n\u001b[1;32m     12\u001b[0m     \u001b[0mcircuit\u001b[0m \u001b[0;34m+=\u001b[0m \u001b[0mMeasure\u001b[0m\u001b[0;34m(\u001b[0m\u001b[0;34m)\u001b[0m\u001b[0;34m.\u001b[0m\u001b[0mon\u001b[0m\u001b[0;34m(\u001b[0m\u001b[0;36m4\u001b[0m\u001b[0;34m)\u001b[0m\u001b[0;34m\u001b[0m\u001b[0;34m\u001b[0m\u001b[0m\n\u001b[1;32m     13\u001b[0m \u001b[0;34m\u001b[0m\u001b[0m\n\u001b[0;32m---> 14\u001b[0;31m     \u001b[0mres\u001b[0m \u001b[0;34m=\u001b[0m \u001b[0msim\u001b[0m\u001b[0;34m.\u001b[0m\u001b[0msampling\u001b[0m\u001b[0;34m(\u001b[0m\u001b[0mcircuit\u001b[0m\u001b[0;34m,\u001b[0m \u001b[0mshots\u001b[0m\u001b[0;34m=\u001b[0m\u001b[0;36m5000\u001b[0m\u001b[0;34m)\u001b[0m\u001b[0;34m\u001b[0m\u001b[0;34m\u001b[0m\u001b[0m\n\u001b[0m\u001b[1;32m     15\u001b[0m     \u001b[0mcounts\u001b[0m \u001b[0;34m=\u001b[0m \u001b[0mres\u001b[0m\u001b[0;34m.\u001b[0m\u001b[0mdata\u001b[0m\u001b[0;34m\u001b[0m\u001b[0;34m\u001b[0m\u001b[0m\n\u001b[1;32m     16\u001b[0m     \u001b[0mkey_number\u001b[0m \u001b[0;34m=\u001b[0m \u001b[0;34m[\u001b[0m\u001b[0;34m]\u001b[0m\u001b[0;34m\u001b[0m\u001b[0;34m\u001b[0m\u001b[0m\n",
      "\u001b[0;32m~/.local/lib/python3.7/site-packages/mindquantum/simulator/simulator.py\u001b[0m in \u001b[0;36msampling\u001b[0;34m(self, circuit, pr, shots, seed)\u001b[0m\n\u001b[1;32m    296\u001b[0m         \u001b[0mres\u001b[0m\u001b[0;34m.\u001b[0m\u001b[0madd_measure\u001b[0m\u001b[0;34m(\u001b[0m\u001b[0mcircuit\u001b[0m\u001b[0;34m.\u001b[0m\u001b[0mall_measures\u001b[0m\u001b[0;34m.\u001b[0m\u001b[0mkeys\u001b[0m\u001b[0;34m(\u001b[0m\u001b[0;34m)\u001b[0m\u001b[0;34m)\u001b[0m\u001b[0;34m\u001b[0m\u001b[0;34m\u001b[0m\u001b[0m\n\u001b[1;32m    297\u001b[0m         samples = np.array(self.sim.sampling(circuit.get_cpp_obj(), pr.get_cpp_obj(), shots, res.keys_map,\n\u001b[0;32m--> 298\u001b[0;31m                                              seed)).reshape((shots, -1))\n\u001b[0m\u001b[1;32m    299\u001b[0m         \u001b[0mres\u001b[0m\u001b[0;34m.\u001b[0m\u001b[0mcollect_data\u001b[0m\u001b[0;34m(\u001b[0m\u001b[0msamples\u001b[0m\u001b[0;34m)\u001b[0m\u001b[0;34m\u001b[0m\u001b[0;34m\u001b[0m\u001b[0m\n\u001b[1;32m    300\u001b[0m         \u001b[0;32mreturn\u001b[0m \u001b[0mres\u001b[0m\u001b[0;34m\u001b[0m\u001b[0;34m\u001b[0m\u001b[0m\n",
      "\u001b[0;31mKeyboardInterrupt\u001b[0m: "
     ]
    }
   ],
   "source": [
    "w_vector = (1,0,0,1,1,1,0,1,1,0,1,0,1,0,0,1)\n",
    "correct = 0\n",
    "weight = []\n",
    "\n",
    "#for i in range(100):\n",
    "for in_vector in tqdm(training_data):\n",
    "    input_circuits = input_dataset[in_vector]\n",
    "    weight_circuits = input_dataset[w_vector]\n",
    "    pred = active_function(input_circuits, weight_circuits)\n",
    "    w_vector, correct = update(in_vector, w_vector, pred)\n",
    "    weight.append(w_vector)\n",
    "    \n",
    "weights = []\n",
    "for i in weight:\n",
    "    weights.append(np.array(list(i)).reshape((4,4)))"
   ]
  },
  {
   "cell_type": "code",
   "execution_count": null,
   "metadata": {},
   "outputs": [],
   "source": []
  }
 ],
 "metadata": {
  "language_info": {
   "name": "python",
   "version": "3.7.5-final"
  },
  "orig_nbformat": 4,
  "kernelspec": {
   "name": "python37564bite7a05fad15414aa0842ed586521badf4",
   "display_name": "Python 3.7.5 64-bit"
  }
 },
 "nbformat": 4,
 "nbformat_minor": 2
}