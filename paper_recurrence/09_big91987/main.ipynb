{
 "cells": [
  {
   "cell_type": "markdown",
   "metadata": {},
   "source": [
    "# Quantum generative adversarial networks\n",
    "\n",
    "## 项目介绍\n",
    "\n",
    "本文发表于2018年，算是比较早期的使用量子线路实现GAN模型的工作，实验采用的线路较为简单，并且通过搭建线路进行求取梯度\n",
    "论文采用的线路如下：\n",
    "\n",
    "![jupyter](./src/circuit.png)\n",
    "\n",
    "其中，D表示判别器，G表示生成器，R表示真实数据；\n",
    "out 表示输出， 对于D来说，out表示是判断输入是否为real数据的量子态，对于G和R来说，输出代表G R产生的量子态数据；\n",
    "lable表示 condition GAN的标签\n",
    "bath相当于GAN的随机噪声，但是在论文的数值仿真中并未启用\n",
    "\n",
    "本文中R的分布如下，即当label为｜1〉的时候，输出也为｜1〉，当label为｜0〉的时候输出也为｜0〉，相当于一个由label控制的CNOT门，因此GAN的训练目标就是训练G使得G的输出分布接近于R的输出\n",
    "\n",
    "D和G则有不同配置的ansatz组成，本文采用的anztza形式如下图所示\n",
    "\n",
    "![jupyter](./src/ansatz.png)\n",
    "\n",
    "其中D采用3qubit（q0 output， q1 label， q2 input），4 layer的anstza，共32个参数；G采用2qubit(q2 output, q3 lable), 2 layer 共10个参数；R采用一个CNOT门进行模拟\n",
    "\n",
    "论文采用的metrics如下：\n",
    "\n",
    "![jupyter](./src/metrics.png)\n",
    "\n",
    "其中V_DG代表DG线路D output的Z测量，即 p_real - p_fake，在train D 和 train G的时候都会产生对应的分量；V_DR为DR线路 D output的Z测量，在实际计算中，会根据实际的线路的exception进行相应折算\n",
    "\n",
    "S表示G和R两个分布之间的距离，即交叉熵，在实际计算时，根据mock_R mock_G的Z测量得到不同标签下G 和 R的分布，然后使用scipy中的统计工具计算交叉熵\n",
    "\n",
    "![jupyter](./src/ce.png)\n",
    "\n",
    "原始论文采用线路构造ansatz的梯度，因此实际实验中共用了5个qubit，q0用于求取梯度，鉴于mindquantum框架本身具备求取梯度的功能，因此复现中采用一个4qubit线路，q0 为D的输出、q1为D的label、q2为D的输入以及G、R的输出；q3为G R的输入label\n",
    "\n",
    "论文在训练中采用的策略如下：\n",
    "lr 在前4000个step从10 下降到0.1然后保持不变，共训练10000步；复现过程中发现该超参下超调较大，采用如下策略lr在8000步内由0.1 下降到0.001，共训练10000步；另外，为了保持D的稳定，论文中采用每100个step训练G一次，学习率是 train D的5倍，复现过程与论文中保持一致(PS:由于使用随机权重进行初始化，有时结果可能不理想，可以多试几次)"
   ]
  },
  {
   "cell_type": "code",
   "execution_count": 10,
   "metadata": {},
   "outputs": [
    {
     "name": "stdout",
     "output_type": "stream",
     "text": [
      "Looking in indexes: https://pypi.tuna.tsinghua.edu.cn/simple\n",
      "Collecting mindquantum==master\n",
      "  Using cached https://hiq.huaweicloud.com/download/mindquantum/newest/linux/mindquantum-master-cp37-cp37m-linux_x86_64.whl (624 kB)\n",
      "Requirement already satisfied: sympy>=1.4 in /home/ma-user/anaconda3/envs/MindQuantum/lib/python3.7/site-packages (from mindquantum==master) (1.9)\n",
      "Requirement already satisfied: rich>=10.9.0 in /home/ma-user/anaconda3/envs/MindQuantum/lib/python3.7/site-packages (from mindquantum==master) (11.2.0)\n",
      "Requirement already satisfied: projectq>=0.5.1 in /home/ma-user/anaconda3/envs/MindQuantum/lib/python3.7/site-packages (from mindquantum==master) (0.6.1)\n",
      "Requirement already satisfied: openfermion>=1.0.0 in /home/ma-user/anaconda3/envs/MindQuantum/lib/python3.7/site-packages (from mindquantum==master) (1.2.0)\n",
      "Requirement already satisfied: numpy>=1.17.0 in /home/ma-user/anaconda3/envs/MindQuantum/lib/python3.7/site-packages (from mindquantum==master) (1.21.4)\n",
      "Requirement already satisfied: scipy>=1.5.3 in /home/ma-user/anaconda3/envs/MindQuantum/lib/python3.7/site-packages (from mindquantum==master) (1.7.2)\n",
      "Requirement already satisfied: matplotlib>=3.1.3 in /opt/conda/lib/python3.7/site-packages (from mindquantum==master) (3.5.0)\n",
      "Requirement already satisfied: setuptools-scm>=4 in /opt/conda/lib/python3.7/site-packages (from matplotlib>=3.1.3->mindquantum==master) (6.3.2)\n",
      "Requirement already satisfied: kiwisolver>=1.0.1 in /opt/conda/lib/python3.7/site-packages (from matplotlib>=3.1.3->mindquantum==master) (1.3.2)\n",
      "Requirement already satisfied: python-dateutil>=2.7 in /home/ma-user/anaconda3/envs/MindQuantum/lib/python3.7/site-packages (from matplotlib>=3.1.3->mindquantum==master) (2.8.2)\n",
      "Requirement already satisfied: pyparsing>=2.2.1 in /opt/conda/lib/python3.7/site-packages (from matplotlib>=3.1.3->mindquantum==master) (2.4.7)\n",
      "Requirement already satisfied: pillow>=6.2.0 in /home/ma-user/anaconda3/envs/MindQuantum/lib/python3.7/site-packages (from matplotlib>=3.1.3->mindquantum==master) (8.4.0)\n",
      "Requirement already satisfied: packaging>=20.0 in /opt/conda/lib/python3.7/site-packages (from matplotlib>=3.1.3->mindquantum==master) (21.2)\n",
      "Requirement already satisfied: cycler>=0.10 in /opt/conda/lib/python3.7/site-packages (from matplotlib>=3.1.3->mindquantum==master) (0.11.0)\n",
      "Requirement already satisfied: fonttools>=4.22.0 in /opt/conda/lib/python3.7/site-packages (from matplotlib>=3.1.3->mindquantum==master) (4.28.2)\n",
      "Requirement already satisfied: deprecation in /home/ma-user/anaconda3/envs/MindQuantum/lib/python3.7/site-packages (from openfermion>=1.0.0->mindquantum==master) (2.1.0)\n",
      "Requirement already satisfied: h5py>=2.8 in /home/ma-user/anaconda3/envs/MindQuantum/lib/python3.7/site-packages (from openfermion>=1.0.0->mindquantum==master) (3.6.0)\n",
      "Requirement already satisfied: cirq-google~=0.12.0 in /home/ma-user/anaconda3/envs/MindQuantum/lib/python3.7/site-packages (from openfermion>=1.0.0->mindquantum==master) (0.12.0)\n",
      "Requirement already satisfied: nbformat in /opt/conda/lib/python3.7/site-packages (from openfermion>=1.0.0->mindquantum==master) (5.1.3)\n",
      "Requirement already satisfied: pubchempy in /home/ma-user/anaconda3/envs/MindQuantum/lib/python3.7/site-packages (from openfermion>=1.0.0->mindquantum==master) (1.0.4)\n",
      "Requirement already satisfied: networkx in /home/ma-user/anaconda3/envs/MindQuantum/lib/python3.7/site-packages (from openfermion>=1.0.0->mindquantum==master) (2.6.3)\n",
      "Requirement already satisfied: cirq-core~=0.12.0 in /home/ma-user/anaconda3/envs/MindQuantum/lib/python3.7/site-packages (from openfermion>=1.0.0->mindquantum==master) (0.12.0)\n",
      "Requirement already satisfied: requests~=2.18 in /home/ma-user/modelarts/modelarts-sdk (from openfermion>=1.0.0->mindquantum==master) (2.26.0)\n",
      "Requirement already satisfied: pandas in /home/ma-user/modelarts/modelarts-sdk (from cirq-core~=0.12.0->openfermion>=1.0.0->mindquantum==master) (1.3.4)\n",
      "Requirement already satisfied: tqdm in /home/ma-user/modelarts/modelarts-sdk (from cirq-core~=0.12.0->openfermion>=1.0.0->mindquantum==master) (4.62.3)\n",
      "Requirement already satisfied: sortedcontainers~=2.0 in /home/ma-user/anaconda3/envs/MindQuantum/lib/python3.7/site-packages (from cirq-core~=0.12.0->openfermion>=1.0.0->mindquantum==master) (2.4.0)\n",
      "Requirement already satisfied: typing-extensions in /home/ma-user/modelarts/modelarts-sdk (from cirq-core~=0.12.0->openfermion>=1.0.0->mindquantum==master) (4.1.1)\n",
      "Requirement already satisfied: google-api-core[grpc]<2.0.0dev,>=1.14.0 in /home/ma-user/anaconda3/envs/MindQuantum/lib/python3.7/site-packages (from cirq-google~=0.12.0->openfermion>=1.0.0->mindquantum==master) (1.31.4)\n",
      "Requirement already satisfied: protobuf~=3.13.0 in /home/ma-user/anaconda3/envs/MindQuantum/lib/python3.7/site-packages (from cirq-google~=0.12.0->openfermion>=1.0.0->mindquantum==master) (3.13.0)\n",
      "Requirement already satisfied: setuptools>=40.3.0 in /home/ma-user/anaconda3/envs/MindQuantum/lib/python3.7/site-packages (from google-api-core[grpc]<2.0.0dev,>=1.14.0->cirq-google~=0.12.0->openfermion>=1.0.0->mindquantum==master) (58.0.4)\n",
      "Requirement already satisfied: google-auth<2.0dev,>=1.25.0 in /home/ma-user/anaconda3/envs/MindQuantum/lib/python3.7/site-packages (from google-api-core[grpc]<2.0.0dev,>=1.14.0->cirq-google~=0.12.0->openfermion>=1.0.0->mindquantum==master) (1.35.0)\n",
      "Requirement already satisfied: six>=1.13.0 in /home/ma-user/anaconda3/envs/MindQuantum/lib/python3.7/site-packages (from google-api-core[grpc]<2.0.0dev,>=1.14.0->cirq-google~=0.12.0->openfermion>=1.0.0->mindquantum==master) (1.16.0)\n",
      "Requirement already satisfied: googleapis-common-protos<2.0dev,>=1.6.0 in /home/ma-user/anaconda3/envs/MindQuantum/lib/python3.7/site-packages (from google-api-core[grpc]<2.0.0dev,>=1.14.0->cirq-google~=0.12.0->openfermion>=1.0.0->mindquantum==master) (1.53.0)\n",
      "Requirement already satisfied: pytz in /home/ma-user/modelarts/modelarts-sdk (from google-api-core[grpc]<2.0.0dev,>=1.14.0->cirq-google~=0.12.0->openfermion>=1.0.0->mindquantum==master) (2021.3)\n",
      "Requirement already satisfied: grpcio<2.0dev,>=1.29.0 in /home/ma-user/anaconda3/envs/MindQuantum/lib/python3.7/site-packages (from google-api-core[grpc]<2.0.0dev,>=1.14.0->cirq-google~=0.12.0->openfermion>=1.0.0->mindquantum==master) (1.42.0)\n",
      "Requirement already satisfied: rsa<5,>=3.1.4 in /home/ma-user/anaconda3/envs/MindQuantum/lib/python3.7/site-packages (from google-auth<2.0dev,>=1.25.0->google-api-core[grpc]<2.0.0dev,>=1.14.0->cirq-google~=0.12.0->openfermion>=1.0.0->mindquantum==master) (4.8)\n",
      "Requirement already satisfied: pyasn1-modules>=0.2.1 in /home/ma-user/anaconda3/envs/MindQuantum/lib/python3.7/site-packages (from google-auth<2.0dev,>=1.25.0->google-api-core[grpc]<2.0.0dev,>=1.14.0->cirq-google~=0.12.0->openfermion>=1.0.0->mindquantum==master) (0.2.8)\n",
      "Requirement already satisfied: cachetools<5.0,>=2.0.0 in /home/ma-user/anaconda3/envs/MindQuantum/lib/python3.7/site-packages (from google-auth<2.0dev,>=1.25.0->google-api-core[grpc]<2.0.0dev,>=1.14.0->cirq-google~=0.12.0->openfermion>=1.0.0->mindquantum==master) (4.2.4)\n",
      "Requirement already satisfied: cached-property in /home/ma-user/anaconda3/envs/MindQuantum/lib/python3.7/site-packages (from h5py>=2.8->openfermion>=1.0.0->mindquantum==master) (1.5.2)\n",
      "Requirement already satisfied: pyasn1<0.5.0,>=0.4.6 in /home/ma-user/anaconda3/envs/MindQuantum/lib/python3.7/site-packages (from pyasn1-modules>=0.2.1->google-auth<2.0dev,>=1.25.0->google-api-core[grpc]<2.0.0dev,>=1.14.0->cirq-google~=0.12.0->openfermion>=1.0.0->mindquantum==master) (0.4.8)\n",
      "Requirement already satisfied: idna<4,>=2.5 in /home/ma-user/modelarts/modelarts-sdk (from requests~=2.18->openfermion>=1.0.0->mindquantum==master) (3.3)\n",
      "Requirement already satisfied: certifi>=2017.4.17 in /home/ma-user/anaconda3/envs/MindQuantum/lib/python3.7/site-packages (from requests~=2.18->openfermion>=1.0.0->mindquantum==master) (2021.10.8)\n",
      "Requirement already satisfied: urllib3<1.27,>=1.21.1 in /home/ma-user/modelarts/modelarts-sdk (from requests~=2.18->openfermion>=1.0.0->mindquantum==master) (1.26.7)\n",
      "Requirement already satisfied: charset-normalizer~=2.0.0 in /home/ma-user/modelarts/modelarts-sdk (from requests~=2.18->openfermion>=1.0.0->mindquantum==master) (2.0.12)\n",
      "Requirement already satisfied: colorama<0.5.0,>=0.4.0 in /home/ma-user/modelarts/common-algo-toolkit (from rich>=10.9.0->mindquantum==master) (0.4.4)\n",
      "Requirement already satisfied: commonmark<0.10.0,>=0.9.0 in /home/ma-user/anaconda3/envs/MindQuantum/lib/python3.7/site-packages (from rich>=10.9.0->mindquantum==master) (0.9.1)\n",
      "Requirement already satisfied: pygments<3.0.0,>=2.6.0 in /home/ma-user/anaconda3/envs/MindQuantum/lib/python3.7/site-packages (from rich>=10.9.0->mindquantum==master) (2.10.0)\n",
      "Requirement already satisfied: tomli>=1.0.0 in /opt/conda/lib/python3.7/site-packages (from setuptools-scm>=4->matplotlib>=3.1.3->mindquantum==master) (1.2.2)\n",
      "Requirement already satisfied: mpmath>=0.19 in /home/ma-user/anaconda3/envs/MindQuantum/lib/python3.7/site-packages (from sympy>=1.4->mindquantum==master) (1.2.1)\n",
      "Requirement already satisfied: traitlets>=4.1 in /home/ma-user/anaconda3/envs/MindQuantum/lib/python3.7/site-packages (from nbformat->openfermion>=1.0.0->mindquantum==master) (5.1.1)\n",
      "Requirement already satisfied: jsonschema!=2.5.0,>=2.4 in /opt/conda/lib/python3.7/site-packages (from nbformat->openfermion>=1.0.0->mindquantum==master) (4.2.1)\n",
      "Requirement already satisfied: ipython-genutils in /opt/conda/lib/python3.7/site-packages (from nbformat->openfermion>=1.0.0->mindquantum==master) (0.2.0)\n",
      "Requirement already satisfied: jupyter-core in /home/ma-user/anaconda3/envs/MindQuantum/lib/python3.7/site-packages (from nbformat->openfermion>=1.0.0->mindquantum==master) (4.9.1)\n",
      "Requirement already satisfied: importlib-metadata in /home/ma-user/modelarts/modelarts-sdk (from jsonschema!=2.5.0,>=2.4->nbformat->openfermion>=1.0.0->mindquantum==master) (4.11.2)\n",
      "Requirement already satisfied: importlib-resources>=1.4.0 in /opt/conda/lib/python3.7/site-packages (from jsonschema!=2.5.0,>=2.4->nbformat->openfermion>=1.0.0->mindquantum==master) (5.4.0)\n",
      "Requirement already satisfied: pyrsistent!=0.17.0,!=0.17.1,!=0.17.2,>=0.14.0 in /opt/conda/lib/python3.7/site-packages (from jsonschema!=2.5.0,>=2.4->nbformat->openfermion>=1.0.0->mindquantum==master) (0.18.0)\n",
      "Requirement already satisfied: attrs>=17.4.0 in /opt/conda/lib/python3.7/site-packages (from jsonschema!=2.5.0,>=2.4->nbformat->openfermion>=1.0.0->mindquantum==master) (21.2.0)\n",
      "Requirement already satisfied: zipp>=3.1.0 in /home/ma-user/modelarts/modelarts-sdk (from importlib-resources>=1.4.0->jsonschema!=2.5.0,>=2.4->nbformat->openfermion>=1.0.0->mindquantum==master) (3.7.0)\n",
      "mindquantum                  0.1.dev166\n",
      "mindspore                    1.3.0\n",
      "notebook-mindinsight-backend 0.0.5\n"
     ]
    }
   ],
   "source": [
    "## 安装最新版Minduantum (0.5)\n",
    "!pip install https://hiq.huaweicloud.com/download/mindquantum/newest/linux/mindquantum-master-cp37-cp37m-linux_x86_64.whl -i https://pypi.tuna.tsinghua.edu.cn/simple\n",
    "!pip list | grep mind"
   ]
  },
  {
   "cell_type": "markdown",
   "metadata": {},
   "source": [
    "## 复现过程\n",
    "\n",
    "请调用您的代码，按照步骤对论文进行复现，并输出复现结果。"
   ]
  },
  {
   "cell_type": "markdown",
   "metadata": {},
   "source": [
    "### 定义各种线路和辅助函数"
   ]
  },
  {
   "cell_type": "code",
   "execution_count": 11,
   "metadata": {},
   "outputs": [],
   "source": [
    "from mindquantum import X, Y, Z, H, RX, RY, RZ, ZZ,BarrierGate\n",
    "from mindquantum import Circuit, Simulator\n",
    "import random\n",
    "from mindquantum import QubitOperator  # 导入QubitOperator模块，用于构造泡利算符\n",
    "from mindquantum import Hamiltonian  # 导入Hamiltonian模块，用于构建哈密顿量\n",
    "import numpy as np\n",
    "import math\n",
    "import scipy.stats\n",
    "from tqdm.notebook import tqdm\n",
    "\n",
    "# anstza\n",
    "def make_anstza(n_qubits, n_layers, start=0, param_frefix=\"theta\"):\n",
    "    c = Circuit()\n",
    "    s = start\n",
    "    for j in range(n_layers):\n",
    "        tmp_c = Circuit()\n",
    "        for i in range(n_qubits):\n",
    "            tmp_c += RX(\"{}_X_l{}_n{}\".format(param_frefix, j, i + s)).on(i + s)\n",
    "            tmp_c += RZ(\"{}_Z_l{}_n{}\".format(param_frefix, j, i + s)).on(i + s)\n",
    "        for i in range(n_qubits // 2):\n",
    "            tmp_c += ZZ(\n",
    "                \"{}_ZZ_l{}_n{}-n{}\".format(param_frefix, j, 2 * i + s, 2 * i + 1 + s)\n",
    "            ).on([2 * i + s, 2 * i + 1 + s])\n",
    "        if n_qubits / 2 > 1:\n",
    "            for i in range(n_qubits // 2):\n",
    "                if 2 * i + 2 <= n_qubits:\n",
    "                    tmp_c += ZZ(\n",
    "                        \"{}_ZZ_l{}_n{}-n{}\".format(\n",
    "                            param_frefix, j, 2 * i + 1 + s, 2 * i + 2 + s\n",
    "                        )\n",
    "                    ).on([2 * i + 1 + s, 2 * i + 2 + s])\n",
    "\n",
    "        c += tmp_c\n",
    "        c += BarrierGate()\n",
    "    return c\n",
    "\n",
    "# 论文中采用的R线路本质是一个cnot门\n",
    "def make_R():\n",
    "    return X.on(2, ctrl_qubits=3)\n",
    "\n",
    "# D是一个4层的3qubit的anstza，共32个参数\n",
    "def make_D():\n",
    "    return make_anstza(n_qubits=3, n_layers=4, param_frefix=\"DISC\")\n",
    "\n",
    "# G是一个2层2qubit的anstza共10个参数\n",
    "def make_G():\n",
    "    return make_anstza(n_qubits=2, n_layers=2, param_frefix=\"GEN\", start=2)\n",
    "\n",
    "# 串联label R D的线路\n",
    "def make_DR():\n",
    "    c = Circuit()\n",
    "\n",
    "    c += RY(\"lambda_D\").on(1)\n",
    "    c += RY(\"lambda_R\").on(3)\n",
    "    c += BarrierGate()\n",
    "    c.no_grad()\n",
    "    c += X.on(2, ctrl_qubits=3)\n",
    "    c += BarrierGate()\n",
    "    c += make_D()\n",
    "\n",
    "#     print('DR cir ====> \\n{}'.format(c))\n",
    "    return c\n",
    "\n",
    "# 串联label G D的线路，并固定G的weight的梯度，用于训练D的weight\n",
    "def make_DG_train_D():\n",
    "    c = Circuit()\n",
    "    c += RY(\"lambda_D\").on(1)\n",
    "    c += RY(\"lambda_G\").on(3)\n",
    "    c += BarrierGate()\n",
    "    c.no_grad()\n",
    "\n",
    "    g = make_G()\n",
    "    g.no_grad()\n",
    "    c += g\n",
    "    c += BarrierGate()\n",
    "\n",
    "    d = make_D()\n",
    "    c += d\n",
    "\n",
    "#     print('DG_train_D cir ====> \\n{}'.format(c))\n",
    "    return c\n",
    "\n",
    "# 串联label G D的线路，并固定D的weight的梯度，用于训练G的weight\n",
    "def make_DG_train_G():\n",
    "    c = Circuit()\n",
    "    c += RY(\"lambda_D\").on(1)\n",
    "    # cook R when lambda R == 1 (q=3), out_R == 1\n",
    "    c += RY(\"lambda_G\").on(3)\n",
    "    c.no_grad()\n",
    "    c += BarrierGate()\n",
    "    \n",
    "    g = make_G()\n",
    "    c += g\n",
    "    c += BarrierGate()\n",
    "\n",
    "    d = make_D()\n",
    "    d.no_grad()\n",
    "    c += d\n",
    "\n",
    "#     print('DG_train_G cir ====> \\n{}'.format(c))\n",
    "    return c\n",
    "\n",
    "# 构造一个线路用于抓取G的输出(q2)，输入为label lambda_G(q3)\n",
    "def make_mock_G():\n",
    "    c = Circuit()\n",
    "    c += RY(\"lambda_G\").on(3)\n",
    "    c += BarrierGate()\n",
    "    c += make_G()\n",
    "    c.no_grad()\n",
    "#     print('mock_G cir ====> \\n{}'.format(c))\n",
    "    return c\n",
    "\n",
    "# 构造一个线路用于抓取R的输出(q2)，输入为label lambda_G(q3)\n",
    "def make_mock_R():\n",
    "    c = Circuit()\n",
    "    c += RY(\"lambda_R\").on(3)\n",
    "    c += BarrierGate()\n",
    "    c += X.on(2, ctrl_qubits=3)\n",
    "    c.no_grad()\n",
    "#     print('mock_R cir ====> \\n{}'.format(c))\n",
    "    return c\n",
    "\n",
    "# 构造一个线路用于抓取R的输出(q0)，输入为label lambda_G(q1),以及D的input(q2)\n",
    "def make_mock_D():\n",
    "    c = Circuit()\n",
    "    c += RY(\"lambda_D\").on(1)\n",
    "    # cook R when lambda R == 1 (q=3), out_R == 1\n",
    "    c += RY(\"input\").on(2)\n",
    "    c.no_grad()\n",
    "    c += BarrierGate()\n",
    "    d = make_D()\n",
    "    d.no_grad()\n",
    "    c += d\n",
    "#     print('mock D cir ====> \\n{}'.format(c))\n",
    "    return c\n",
    "\n",
    "# 采样并设置标签, 线路中使用Ry(lambda) 来控制标签位的量子态，当标签为0时，lambda=0，此时Ry相当于I，即输入为|0〉\n",
    "# 当标签为1时，lambda=np.pi，此时Ry相当于X，即输入为|1〉\n",
    "def sample_lambda(flip_threshold=0.5):\n",
    "    if random.random() > flip_threshold:\n",
    "        param_dict[\"lambda_D\"] = 0\n",
    "        param_dict[\"lambda_G\"] = 0\n",
    "        param_dict[\"lambda_R\"] = 0\n",
    "        return 0\n",
    "    else:\n",
    "        param_dict[\"lambda_D\"] = np.pi\n",
    "        param_dict[\"lambda_G\"] = np.pi\n",
    "        param_dict[\"lambda_R\"] = np.pi\n",
    "        return 1\n",
    "\n",
    "# 用于直接设置标签，\n",
    "def set_lambda(l):\n",
    "  assert l in [0, 1], \"lambda must in [0, 1]\"\n",
    "  param_dict['lambda_D'] = l * np.pi\n",
    "  param_dict['lambda_R'] = l * np.pi\n",
    "  param_dict['lambda_G'] = l * np.pi\n",
    "\n",
    "# 从全局的param_dict中获取circ对应的参数，根据需要组成字典或array\n",
    "def get_params(circ, ret_dict=False):\n",
    "    if ret_dict:\n",
    "        return {p: param_dict[p] for p in circ.params_name}\n",
    "    else:\n",
    "        return np.array([param_dict.get(p, None) for p in circ.params_name]).astype(np.float32)\n",
    "\n",
    "# 为某个circ更新参数，存储到全局变量中\n",
    "def set_params(circ, new_params):\n",
    "    p_dict_before = {}\n",
    "    p_dict_after = {}\n",
    "    for p_index, p in enumerate(circ.params_name):\n",
    "        p_dict_before[p] = param_dict[p]\n",
    "        param_dict[p] = new_params[p_index]\n",
    "        p_dict_after[p] = param_dict[p]"
   ]
  },
  {
   "cell_type": "markdown",
   "metadata": {},
   "source": [
    "### 线路展示"
   ]
  },
  {
   "cell_type": "code",
   "execution_count": 12,
   "metadata": {},
   "outputs": [
    {
     "data": {
      "text/html": [
       "<pre style=\"white-space:pre;overflow-x:auto;line-height:normal;font-family:Menlo,'DejaVu Sans Mono',consolas,'Courier New',monospace\"></pre>\n"
      ],
      "text/plain": []
     },
     "metadata": {},
     "output_type": "display_data"
    },
    {
     "data": {
      "text/html": [
       "<pre style=\"white-space: pre;\"><span style=\"color: #000080; text-decoration-color: #000080; font-weight: bold\">q0: ────────────────‖─────‖──</span><span style=\"color: #800080; text-decoration-color: #800080; font-weight: bold\">RX</span><span style=\"color: #000080; text-decoration-color: #000080; font-weight: bold\">(DISC_X_l0_n0)────</span><span style=\"color: #800080; text-decoration-color: #800080; font-weight: bold\">RZ</span><span style=\"color: #000080; text-decoration-color: #000080; font-weight: bold\">(DISC_Z_l0_n0)────</span><span style=\"color: #800080; text-decoration-color: #800080; font-weight: bold\">ZZ</span><span style=\"color: #000080; text-decoration-color: #000080; font-weight: bold\">(DISC_ZZ_l0_n0-n1)──────────────────────────‖──</span><span style=\"color: #800080; text-decoration-color: #800080; font-weight: bold\">RX</span><span style=\"color: #000080; text-decoration-color: #000080; font-weight: bold\">(DISC_X_l1_n0)────</span><span style=\"color: #800080; text-decoration-color: #800080; font-weight: bold\">RZ</span><span style=\"color: #000080; text-decoration-color: #000080; font-weight: bold\">(DISC_Z_l1_n0)────</span><span style=\"color: #800080; text-decoration-color: #800080; font-weight: bold\">ZZ</span><span style=\"color: #000080; text-decoration-color: #000080; font-weight: bold\">(DISC_ZZ_l1_n0-n1)──────────────────────────‖──</span><span style=\"color: #800080; text-decoration-color: #800080; font-weight: bold\">RX</span><span style=\"color: #000080; text-decoration-color: #000080; font-weight: bold\">(DISC_X_l2_n0)────</span><span style=\"color: #800080; text-decoration-color: #800080; font-weight: bold\">RZ</span><span style=\"color: #000080; text-decoration-color: #000080; font-weight: bold\">(DISC_Z_l2_n0)────</span><span style=\"color: #800080; text-decoration-color: #800080; font-weight: bold\">ZZ</span><span style=\"color: #000080; text-decoration-color: #000080; font-weight: bold\">(DISC_ZZ_l2_n0-n1)──────────────────────────‖──</span><span style=\"color: #800080; text-decoration-color: #800080; font-weight: bold\">RX</span><span style=\"color: #000080; text-decoration-color: #000080; font-weight: bold\">(DISC_X_l3_n0)────</span><span style=\"color: #800080; text-decoration-color: #800080; font-weight: bold\">RZ</span><span style=\"color: #000080; text-decoration-color: #000080; font-weight: bold\">(DISC_Z_l3_n0)────</span><span style=\"color: #800080; text-decoration-color: #800080; font-weight: bold\">ZZ</span><span style=\"color: #000080; text-decoration-color: #000080; font-weight: bold\">(DISC_ZZ_l3_n0-n1)──────────────────────────‖</span>\n",
       "<span style=\"color: #000080; text-decoration-color: #000080; font-weight: bold\">                    ‖     ‖                                                   │                                    ‖                                                   │                                    ‖                                                   │                                    ‖                                                   │                                    ‖</span>\n",
       "<span style=\"color: #000080; text-decoration-color: #000080; font-weight: bold\">q1: ──</span><span style=\"color: #800080; text-decoration-color: #800080; font-weight: bold\">RY</span><span style=\"color: #000080; text-decoration-color: #000080; font-weight: bold\">(lambda_D)──‖─────‖──</span><span style=\"color: #800080; text-decoration-color: #800080; font-weight: bold\">RX</span><span style=\"color: #000080; text-decoration-color: #000080; font-weight: bold\">(DISC_X_l0_n1)────</span><span style=\"color: #800080; text-decoration-color: #800080; font-weight: bold\">RZ</span><span style=\"color: #000080; text-decoration-color: #000080; font-weight: bold\">(DISC_Z_l0_n1)────</span><span style=\"color: #800080; text-decoration-color: #800080; font-weight: bold\">ZZ</span><span style=\"color: #000080; text-decoration-color: #000080; font-weight: bold\">(DISC_ZZ_l0_n0-n1)────</span><span style=\"color: #800080; text-decoration-color: #800080; font-weight: bold\">ZZ</span><span style=\"color: #000080; text-decoration-color: #000080; font-weight: bold\">(DISC_ZZ_l0_n1-n2)──‖──</span><span style=\"color: #800080; text-decoration-color: #800080; font-weight: bold\">RX</span><span style=\"color: #000080; text-decoration-color: #000080; font-weight: bold\">(DISC_X_l1_n1)────</span><span style=\"color: #800080; text-decoration-color: #800080; font-weight: bold\">RZ</span><span style=\"color: #000080; text-decoration-color: #000080; font-weight: bold\">(DISC_Z_l1_n1)────</span><span style=\"color: #800080; text-decoration-color: #800080; font-weight: bold\">ZZ</span><span style=\"color: #000080; text-decoration-color: #000080; font-weight: bold\">(DISC_ZZ_l1_n0-n1)────</span><span style=\"color: #800080; text-decoration-color: #800080; font-weight: bold\">ZZ</span><span style=\"color: #000080; text-decoration-color: #000080; font-weight: bold\">(DISC_ZZ_l1_n1-n2)──‖──</span><span style=\"color: #800080; text-decoration-color: #800080; font-weight: bold\">RX</span><span style=\"color: #000080; text-decoration-color: #000080; font-weight: bold\">(DISC_X_l2_n1)────</span><span style=\"color: #800080; text-decoration-color: #800080; font-weight: bold\">RZ</span><span style=\"color: #000080; text-decoration-color: #000080; font-weight: bold\">(DISC_Z_l2_n1)────</span><span style=\"color: #800080; text-decoration-color: #800080; font-weight: bold\">ZZ</span><span style=\"color: #000080; text-decoration-color: #000080; font-weight: bold\">(DISC_ZZ_l2_n0-n1)────</span><span style=\"color: #800080; text-decoration-color: #800080; font-weight: bold\">ZZ</span><span style=\"color: #000080; text-decoration-color: #000080; font-weight: bold\">(DISC_ZZ_l2_n1-n2)──‖──</span><span style=\"color: #800080; text-decoration-color: #800080; font-weight: bold\">RX</span><span style=\"color: #000080; text-decoration-color: #000080; font-weight: bold\">(DISC_X_l3_n1)────</span><span style=\"color: #800080; text-decoration-color: #800080; font-weight: bold\">RZ</span><span style=\"color: #000080; text-decoration-color: #000080; font-weight: bold\">(DISC_Z_l3_n1)────</span><span style=\"color: #800080; text-decoration-color: #800080; font-weight: bold\">ZZ</span><span style=\"color: #000080; text-decoration-color: #000080; font-weight: bold\">(DISC_ZZ_l3_n0-n1)────</span><span style=\"color: #800080; text-decoration-color: #800080; font-weight: bold\">ZZ</span><span style=\"color: #000080; text-decoration-color: #000080; font-weight: bold\">(DISC_ZZ_l3_n1-n2)──‖</span>\n",
       "<span style=\"color: #000080; text-decoration-color: #000080; font-weight: bold\">                    ‖     ‖                                                                           │            ‖                                                                           │            ‖                                                                           │            ‖                                                                           │            ‖</span>\n",
       "<span style=\"color: #000080; text-decoration-color: #000080; font-weight: bold\">q2: ────────────────‖──X──‖──</span><span style=\"color: #800080; text-decoration-color: #800080; font-weight: bold\">RX</span><span style=\"color: #000080; text-decoration-color: #000080; font-weight: bold\">(DISC_X_l0_n2)────</span><span style=\"color: #800080; text-decoration-color: #800080; font-weight: bold\">RZ</span><span style=\"color: #000080; text-decoration-color: #000080; font-weight: bold\">(DISC_Z_l0_n2)────────────────────────────</span><span style=\"color: #800080; text-decoration-color: #800080; font-weight: bold\">ZZ</span><span style=\"color: #000080; text-decoration-color: #000080; font-weight: bold\">(DISC_ZZ_l0_n1-n2)──‖──</span><span style=\"color: #800080; text-decoration-color: #800080; font-weight: bold\">RX</span><span style=\"color: #000080; text-decoration-color: #000080; font-weight: bold\">(DISC_X_l1_n2)────</span><span style=\"color: #800080; text-decoration-color: #800080; font-weight: bold\">RZ</span><span style=\"color: #000080; text-decoration-color: #000080; font-weight: bold\">(DISC_Z_l1_n2)────────────────────────────</span><span style=\"color: #800080; text-decoration-color: #800080; font-weight: bold\">ZZ</span><span style=\"color: #000080; text-decoration-color: #000080; font-weight: bold\">(DISC_ZZ_l1_n1-n2)──‖──</span><span style=\"color: #800080; text-decoration-color: #800080; font-weight: bold\">RX</span><span style=\"color: #000080; text-decoration-color: #000080; font-weight: bold\">(DISC_X_l2_n2)────</span><span style=\"color: #800080; text-decoration-color: #800080; font-weight: bold\">RZ</span><span style=\"color: #000080; text-decoration-color: #000080; font-weight: bold\">(DISC_Z_l2_n2)────────────────────────────</span><span style=\"color: #800080; text-decoration-color: #800080; font-weight: bold\">ZZ</span><span style=\"color: #000080; text-decoration-color: #000080; font-weight: bold\">(DISC_ZZ_l2_n1-n2)──‖──</span><span style=\"color: #800080; text-decoration-color: #800080; font-weight: bold\">RX</span><span style=\"color: #000080; text-decoration-color: #000080; font-weight: bold\">(DISC_X_l3_n2)────</span><span style=\"color: #800080; text-decoration-color: #800080; font-weight: bold\">RZ</span><span style=\"color: #000080; text-decoration-color: #000080; font-weight: bold\">(DISC_Z_l3_n2)────────────────────────────</span><span style=\"color: #800080; text-decoration-color: #800080; font-weight: bold\">ZZ</span><span style=\"color: #000080; text-decoration-color: #000080; font-weight: bold\">(DISC_ZZ_l3_n1-n2)──‖</span>\n",
       "<span style=\"color: #000080; text-decoration-color: #000080; font-weight: bold\">                    ‖  │  ‖                                                                                        ‖                                                                                        ‖                                                                                        ‖                                                                                        ‖</span>\n",
       "<span style=\"color: #000080; text-decoration-color: #000080; font-weight: bold\">q3: ──</span><span style=\"color: #800080; text-decoration-color: #800080; font-weight: bold\">RY</span><span style=\"color: #000080; text-decoration-color: #000080; font-weight: bold\">(lambda_R)──‖──●──‖────────────────────────────────────────────────────────────────────────────────────────‖────────────────────────────────────────────────────────────────────────────────────────‖────────────────────────────────────────────────────────────────────────────────────────‖────────────────────────────────────────────────────────────────────────────────────────‖</span>\n",
       "</pre>\n"
      ],
      "text/plain": [
       "q0: ────────────────‖─────‖──RX(DISC_X_l0_n0)────RZ(DISC_Z_l0_n0)────ZZ(DISC_ZZ_l0_n0-n1)──────────────────────────‖──RX(DISC_X_l1_n0)────RZ(DISC_Z_l1_n0)────ZZ(DISC_ZZ_l1_n0-n1)──────────────────────────‖──RX(DISC_X_l2_n0)────RZ(DISC_Z_l2_n0)────ZZ(DISC_ZZ_l2_n0-n1)──────────────────────────‖──RX(DISC_X_l3_n0)────RZ(DISC_Z_l3_n0)────ZZ(DISC_ZZ_l3_n0-n1)──────────────────────────‖\n",
       "                    ‖     ‖                                                   │                                    ‖                                                   │                                    ‖                                                   │                                    ‖                                                   │                                    ‖\n",
       "q1: ──RY(lambda_D)──‖─────‖──RX(DISC_X_l0_n1)────RZ(DISC_Z_l0_n1)────ZZ(DISC_ZZ_l0_n0-n1)────ZZ(DISC_ZZ_l0_n1-n2)──‖──RX(DISC_X_l1_n1)────RZ(DISC_Z_l1_n1)────ZZ(DISC_ZZ_l1_n0-n1)────ZZ(DISC_ZZ_l1_n1-n2)──‖──RX(DISC_X_l2_n1)────RZ(DISC_Z_l2_n1)────ZZ(DISC_ZZ_l2_n0-n1)────ZZ(DISC_ZZ_l2_n1-n2)──‖──RX(DISC_X_l3_n1)────RZ(DISC_Z_l3_n1)────ZZ(DISC_ZZ_l3_n0-n1)────ZZ(DISC_ZZ_l3_n1-n2)──‖\n",
       "                    ‖     ‖                                                                           │            ‖                                                                           │            ‖                                                                           │            ‖                                                                           │            ‖\n",
       "q2: ────────────────‖──X──‖──RX(DISC_X_l0_n2)────RZ(DISC_Z_l0_n2)────────────────────────────ZZ(DISC_ZZ_l0_n1-n2)──‖──RX(DISC_X_l1_n2)────RZ(DISC_Z_l1_n2)────────────────────────────ZZ(DISC_ZZ_l1_n1-n2)──‖──RX(DISC_X_l2_n2)────RZ(DISC_Z_l2_n2)────────────────────────────ZZ(DISC_ZZ_l2_n1-n2)──‖──RX(DISC_X_l3_n2)────RZ(DISC_Z_l3_n2)────────────────────────────ZZ(DISC_ZZ_l3_n1-n2)──‖\n",
       "                    ‖  │  ‖                                                                                        ‖                                                                                        ‖                                                                                        ‖                                                                                        ‖\n",
       "q3: ──RY(lambda_R)──‖──●──‖────────────────────────────────────────────────────────────────────────────────────────‖────────────────────────────────────────────────────────────────────────────────────────‖────────────────────────────────────────────────────────────────────────────────────────‖────────────────────────────────────────────────────────────────────────────────────────‖"
      ]
     },
     "execution_count": 12,
     "metadata": {},
     "output_type": "execute_result"
    }
   ],
   "source": [
    "dr = make_DR()\n",
    "dr"
   ]
  },
  {
   "cell_type": "code",
   "execution_count": 4,
   "metadata": {},
   "outputs": [
    {
     "data": {
      "text/html": [
       "<pre style=\"white-space:pre;overflow-x:auto;line-height:normal;font-family:Menlo,'DejaVu Sans Mono',consolas,'Courier New',monospace\"></pre>\n"
      ],
      "text/plain": []
     },
     "metadata": {},
     "output_type": "display_data"
    },
    {
     "data": {
      "text/html": [
       "<pre style=\"white-space: pre;\"><span style=\"color: #000080; text-decoration-color: #000080; font-weight: bold\">q0: ────────────────‖─────────────────────────────────────────────────────────────‖─────────────────────────────────────────────────────────────‖‖──</span><span style=\"color: #800080; text-decoration-color: #800080; font-weight: bold\">RX</span><span style=\"color: #000080; text-decoration-color: #000080; font-weight: bold\">(DISC_X_l0_n0)────</span><span style=\"color: #800080; text-decoration-color: #800080; font-weight: bold\">RZ</span><span style=\"color: #000080; text-decoration-color: #000080; font-weight: bold\">(DISC_Z_l0_n0)────</span><span style=\"color: #800080; text-decoration-color: #800080; font-weight: bold\">ZZ</span><span style=\"color: #000080; text-decoration-color: #000080; font-weight: bold\">(DISC_ZZ_l0_n0-n1)──────────────────────────‖──</span><span style=\"color: #800080; text-decoration-color: #800080; font-weight: bold\">RX</span><span style=\"color: #000080; text-decoration-color: #000080; font-weight: bold\">(DISC_X_l1_n0)────</span><span style=\"color: #800080; text-decoration-color: #800080; font-weight: bold\">RZ</span><span style=\"color: #000080; text-decoration-color: #000080; font-weight: bold\">(DISC_Z_l1_n0)────</span><span style=\"color: #800080; text-decoration-color: #800080; font-weight: bold\">ZZ</span><span style=\"color: #000080; text-decoration-color: #000080; font-weight: bold\">(DISC_ZZ_l1_n0-n1)──────────────────────────‖──</span><span style=\"color: #800080; text-decoration-color: #800080; font-weight: bold\">RX</span><span style=\"color: #000080; text-decoration-color: #000080; font-weight: bold\">(DISC_X_l2_n0)────</span><span style=\"color: #800080; text-decoration-color: #800080; font-weight: bold\">RZ</span><span style=\"color: #000080; text-decoration-color: #000080; font-weight: bold\">(DISC_Z_l2_n0)────</span><span style=\"color: #800080; text-decoration-color: #800080; font-weight: bold\">ZZ</span><span style=\"color: #000080; text-decoration-color: #000080; font-weight: bold\">(DISC_ZZ_l2_n0-n1)──────────────────────────‖──</span><span style=\"color: #800080; text-decoration-color: #800080; font-weight: bold\">RX</span><span style=\"color: #000080; text-decoration-color: #000080; font-weight: bold\">(DISC_X_l3_n0)────</span><span style=\"color: #800080; text-decoration-color: #800080; font-weight: bold\">RZ</span><span style=\"color: #000080; text-decoration-color: #000080; font-weight: bold\">(DISC_Z_l3_n0)────</span><span style=\"color: #800080; text-decoration-color: #800080; font-weight: bold\">ZZ</span><span style=\"color: #000080; text-decoration-color: #000080; font-weight: bold\">(DISC_ZZ_l3_n0-n1)──────────────────────────‖</span>\n",
       "<span style=\"color: #000080; text-decoration-color: #000080; font-weight: bold\">                    ‖                                                             ‖                                                             ‖‖                                                   │                                    ‖                                                   │                                    ‖                                                   │                                    ‖                                                   │                                    ‖</span>\n",
       "<span style=\"color: #000080; text-decoration-color: #000080; font-weight: bold\">q1: ──</span><span style=\"color: #800080; text-decoration-color: #800080; font-weight: bold\">RY</span><span style=\"color: #000080; text-decoration-color: #000080; font-weight: bold\">(lambda_D)──‖─────────────────────────────────────────────────────────────‖─────────────────────────────────────────────────────────────‖‖──</span><span style=\"color: #800080; text-decoration-color: #800080; font-weight: bold\">RX</span><span style=\"color: #000080; text-decoration-color: #000080; font-weight: bold\">(DISC_X_l0_n1)────</span><span style=\"color: #800080; text-decoration-color: #800080; font-weight: bold\">RZ</span><span style=\"color: #000080; text-decoration-color: #000080; font-weight: bold\">(DISC_Z_l0_n1)────</span><span style=\"color: #800080; text-decoration-color: #800080; font-weight: bold\">ZZ</span><span style=\"color: #000080; text-decoration-color: #000080; font-weight: bold\">(DISC_ZZ_l0_n0-n1)────</span><span style=\"color: #800080; text-decoration-color: #800080; font-weight: bold\">ZZ</span><span style=\"color: #000080; text-decoration-color: #000080; font-weight: bold\">(DISC_ZZ_l0_n1-n2)──‖──</span><span style=\"color: #800080; text-decoration-color: #800080; font-weight: bold\">RX</span><span style=\"color: #000080; text-decoration-color: #000080; font-weight: bold\">(DISC_X_l1_n1)────</span><span style=\"color: #800080; text-decoration-color: #800080; font-weight: bold\">RZ</span><span style=\"color: #000080; text-decoration-color: #000080; font-weight: bold\">(DISC_Z_l1_n1)────</span><span style=\"color: #800080; text-decoration-color: #800080; font-weight: bold\">ZZ</span><span style=\"color: #000080; text-decoration-color: #000080; font-weight: bold\">(DISC_ZZ_l1_n0-n1)────</span><span style=\"color: #800080; text-decoration-color: #800080; font-weight: bold\">ZZ</span><span style=\"color: #000080; text-decoration-color: #000080; font-weight: bold\">(DISC_ZZ_l1_n1-n2)──‖──</span><span style=\"color: #800080; text-decoration-color: #800080; font-weight: bold\">RX</span><span style=\"color: #000080; text-decoration-color: #000080; font-weight: bold\">(DISC_X_l2_n1)────</span><span style=\"color: #800080; text-decoration-color: #800080; font-weight: bold\">RZ</span><span style=\"color: #000080; text-decoration-color: #000080; font-weight: bold\">(DISC_Z_l2_n1)────</span><span style=\"color: #800080; text-decoration-color: #800080; font-weight: bold\">ZZ</span><span style=\"color: #000080; text-decoration-color: #000080; font-weight: bold\">(DISC_ZZ_l2_n0-n1)────</span><span style=\"color: #800080; text-decoration-color: #800080; font-weight: bold\">ZZ</span><span style=\"color: #000080; text-decoration-color: #000080; font-weight: bold\">(DISC_ZZ_l2_n1-n2)──‖──</span><span style=\"color: #800080; text-decoration-color: #800080; font-weight: bold\">RX</span><span style=\"color: #000080; text-decoration-color: #000080; font-weight: bold\">(DISC_X_l3_n1)────</span><span style=\"color: #800080; text-decoration-color: #800080; font-weight: bold\">RZ</span><span style=\"color: #000080; text-decoration-color: #000080; font-weight: bold\">(DISC_Z_l3_n1)────</span><span style=\"color: #800080; text-decoration-color: #800080; font-weight: bold\">ZZ</span><span style=\"color: #000080; text-decoration-color: #000080; font-weight: bold\">(DISC_ZZ_l3_n0-n1)────</span><span style=\"color: #800080; text-decoration-color: #800080; font-weight: bold\">ZZ</span><span style=\"color: #000080; text-decoration-color: #000080; font-weight: bold\">(DISC_ZZ_l3_n1-n2)──‖</span>\n",
       "<span style=\"color: #000080; text-decoration-color: #000080; font-weight: bold\">                    ‖                                                             ‖                                                             ‖‖                                                                           │            ‖                                                                           │            ‖                                                                           │            ‖                                                                           │            ‖</span>\n",
       "<span style=\"color: #000080; text-decoration-color: #000080; font-weight: bold\">q2: ────────────────‖──</span><span style=\"color: #800080; text-decoration-color: #800080; font-weight: bold\">RX</span><span style=\"color: #000080; text-decoration-color: #000080; font-weight: bold\">(GEN_X_l0_n2)────</span><span style=\"color: #800080; text-decoration-color: #800080; font-weight: bold\">RZ</span><span style=\"color: #000080; text-decoration-color: #000080; font-weight: bold\">(GEN_Z_l0_n2)────</span><span style=\"color: #800080; text-decoration-color: #800080; font-weight: bold\">ZZ</span><span style=\"color: #000080; text-decoration-color: #000080; font-weight: bold\">(GEN_ZZ_l0_n2-n3)──‖──</span><span style=\"color: #800080; text-decoration-color: #800080; font-weight: bold\">RX</span><span style=\"color: #000080; text-decoration-color: #000080; font-weight: bold\">(GEN_X_l1_n2)────</span><span style=\"color: #800080; text-decoration-color: #800080; font-weight: bold\">RZ</span><span style=\"color: #000080; text-decoration-color: #000080; font-weight: bold\">(GEN_Z_l1_n2)────</span><span style=\"color: #800080; text-decoration-color: #800080; font-weight: bold\">ZZ</span><span style=\"color: #000080; text-decoration-color: #000080; font-weight: bold\">(GEN_ZZ_l1_n2-n3)──‖‖──</span><span style=\"color: #800080; text-decoration-color: #800080; font-weight: bold\">RX</span><span style=\"color: #000080; text-decoration-color: #000080; font-weight: bold\">(DISC_X_l0_n2)────</span><span style=\"color: #800080; text-decoration-color: #800080; font-weight: bold\">RZ</span><span style=\"color: #000080; text-decoration-color: #000080; font-weight: bold\">(DISC_Z_l0_n2)────────────────────────────</span><span style=\"color: #800080; text-decoration-color: #800080; font-weight: bold\">ZZ</span><span style=\"color: #000080; text-decoration-color: #000080; font-weight: bold\">(DISC_ZZ_l0_n1-n2)──‖──</span><span style=\"color: #800080; text-decoration-color: #800080; font-weight: bold\">RX</span><span style=\"color: #000080; text-decoration-color: #000080; font-weight: bold\">(DISC_X_l1_n2)────</span><span style=\"color: #800080; text-decoration-color: #800080; font-weight: bold\">RZ</span><span style=\"color: #000080; text-decoration-color: #000080; font-weight: bold\">(DISC_Z_l1_n2)────────────────────────────</span><span style=\"color: #800080; text-decoration-color: #800080; font-weight: bold\">ZZ</span><span style=\"color: #000080; text-decoration-color: #000080; font-weight: bold\">(DISC_ZZ_l1_n1-n2)──‖──</span><span style=\"color: #800080; text-decoration-color: #800080; font-weight: bold\">RX</span><span style=\"color: #000080; text-decoration-color: #000080; font-weight: bold\">(DISC_X_l2_n2)────</span><span style=\"color: #800080; text-decoration-color: #800080; font-weight: bold\">RZ</span><span style=\"color: #000080; text-decoration-color: #000080; font-weight: bold\">(DISC_Z_l2_n2)────────────────────────────</span><span style=\"color: #800080; text-decoration-color: #800080; font-weight: bold\">ZZ</span><span style=\"color: #000080; text-decoration-color: #000080; font-weight: bold\">(DISC_ZZ_l2_n1-n2)──‖──</span><span style=\"color: #800080; text-decoration-color: #800080; font-weight: bold\">RX</span><span style=\"color: #000080; text-decoration-color: #000080; font-weight: bold\">(DISC_X_l3_n2)────</span><span style=\"color: #800080; text-decoration-color: #800080; font-weight: bold\">RZ</span><span style=\"color: #000080; text-decoration-color: #000080; font-weight: bold\">(DISC_Z_l3_n2)────────────────────────────</span><span style=\"color: #800080; text-decoration-color: #800080; font-weight: bold\">ZZ</span><span style=\"color: #000080; text-decoration-color: #000080; font-weight: bold\">(DISC_ZZ_l3_n1-n2)──‖</span>\n",
       "<span style=\"color: #000080; text-decoration-color: #000080; font-weight: bold\">                    ‖                                                 │           ‖                                                 │           ‖‖                                                                                        ‖                                                                                        ‖                                                                                        ‖                                                                                        ‖</span>\n",
       "<span style=\"color: #000080; text-decoration-color: #000080; font-weight: bold\">q3: ──</span><span style=\"color: #800080; text-decoration-color: #800080; font-weight: bold\">RY</span><span style=\"color: #000080; text-decoration-color: #000080; font-weight: bold\">(lambda_G)──‖──</span><span style=\"color: #800080; text-decoration-color: #800080; font-weight: bold\">RX</span><span style=\"color: #000080; text-decoration-color: #000080; font-weight: bold\">(GEN_X_l0_n3)────</span><span style=\"color: #800080; text-decoration-color: #800080; font-weight: bold\">RZ</span><span style=\"color: #000080; text-decoration-color: #000080; font-weight: bold\">(GEN_Z_l0_n3)────</span><span style=\"color: #800080; text-decoration-color: #800080; font-weight: bold\">ZZ</span><span style=\"color: #000080; text-decoration-color: #000080; font-weight: bold\">(GEN_ZZ_l0_n2-n3)──‖──</span><span style=\"color: #800080; text-decoration-color: #800080; font-weight: bold\">RX</span><span style=\"color: #000080; text-decoration-color: #000080; font-weight: bold\">(GEN_X_l1_n3)────</span><span style=\"color: #800080; text-decoration-color: #800080; font-weight: bold\">RZ</span><span style=\"color: #000080; text-decoration-color: #000080; font-weight: bold\">(GEN_Z_l1_n3)────</span><span style=\"color: #800080; text-decoration-color: #800080; font-weight: bold\">ZZ</span><span style=\"color: #000080; text-decoration-color: #000080; font-weight: bold\">(GEN_ZZ_l1_n2-n3)──‖‖────────────────────────────────────────────────────────────────────────────────────────‖────────────────────────────────────────────────────────────────────────────────────────‖────────────────────────────────────────────────────────────────────────────────────────‖────────────────────────────────────────────────────────────────────────────────────────‖</span>\n",
       "</pre>\n"
      ],
      "text/plain": [
       "q0: ────────────────‖─────────────────────────────────────────────────────────────‖─────────────────────────────────────────────────────────────‖‖──RX(DISC_X_l0_n0)────RZ(DISC_Z_l0_n0)────ZZ(DISC_ZZ_l0_n0-n1)──────────────────────────‖──RX(DISC_X_l1_n0)────RZ(DISC_Z_l1_n0)────ZZ(DISC_ZZ_l1_n0-n1)──────────────────────────‖──RX(DISC_X_l2_n0)────RZ(DISC_Z_l2_n0)────ZZ(DISC_ZZ_l2_n0-n1)──────────────────────────‖──RX(DISC_X_l3_n0)────RZ(DISC_Z_l3_n0)────ZZ(DISC_ZZ_l3_n0-n1)──────────────────────────‖\n",
       "                    ‖                                                             ‖                                                             ‖‖                                                   │                                    ‖                                                   │                                    ‖                                                   │                                    ‖                                                   │                                    ‖\n",
       "q1: ──RY(lambda_D)──‖─────────────────────────────────────────────────────────────‖─────────────────────────────────────────────────────────────‖‖──RX(DISC_X_l0_n1)────RZ(DISC_Z_l0_n1)────ZZ(DISC_ZZ_l0_n0-n1)────ZZ(DISC_ZZ_l0_n1-n2)──‖──RX(DISC_X_l1_n1)────RZ(DISC_Z_l1_n1)────ZZ(DISC_ZZ_l1_n0-n1)────ZZ(DISC_ZZ_l1_n1-n2)──‖──RX(DISC_X_l2_n1)────RZ(DISC_Z_l2_n1)────ZZ(DISC_ZZ_l2_n0-n1)────ZZ(DISC_ZZ_l2_n1-n2)──‖──RX(DISC_X_l3_n1)────RZ(DISC_Z_l3_n1)────ZZ(DISC_ZZ_l3_n0-n1)────ZZ(DISC_ZZ_l3_n1-n2)──‖\n",
       "                    ‖                                                             ‖                                                             ‖‖                                                                           │            ‖                                                                           │            ‖                                                                           │            ‖                                                                           │            ‖\n",
       "q2: ────────────────‖──RX(GEN_X_l0_n2)────RZ(GEN_Z_l0_n2)────ZZ(GEN_ZZ_l0_n2-n3)──‖──RX(GEN_X_l1_n2)────RZ(GEN_Z_l1_n2)────ZZ(GEN_ZZ_l1_n2-n3)──‖‖──RX(DISC_X_l0_n2)────RZ(DISC_Z_l0_n2)────────────────────────────ZZ(DISC_ZZ_l0_n1-n2)──‖──RX(DISC_X_l1_n2)────RZ(DISC_Z_l1_n2)────────────────────────────ZZ(DISC_ZZ_l1_n1-n2)──‖──RX(DISC_X_l2_n2)────RZ(DISC_Z_l2_n2)────────────────────────────ZZ(DISC_ZZ_l2_n1-n2)──‖──RX(DISC_X_l3_n2)────RZ(DISC_Z_l3_n2)────────────────────────────ZZ(DISC_ZZ_l3_n1-n2)──‖\n",
       "                    ‖                                                 │           ‖                                                 │           ‖‖                                                                                        ‖                                                                                        ‖                                                                                        ‖                                                                                        ‖\n",
       "q3: ──RY(lambda_G)──‖──RX(GEN_X_l0_n3)────RZ(GEN_Z_l0_n3)────ZZ(GEN_ZZ_l0_n2-n3)──‖──RX(GEN_X_l1_n3)────RZ(GEN_Z_l1_n3)────ZZ(GEN_ZZ_l1_n2-n3)──‖‖────────────────────────────────────────────────────────────────────────────────────────‖────────────────────────────────────────────────────────────────────────────────────────‖────────────────────────────────────────────────────────────────────────────────────────‖────────────────────────────────────────────────────────────────────────────────────────‖"
      ]
     },
     "execution_count": 4,
     "metadata": {},
     "output_type": "execute_result"
    }
   ],
   "source": [
    "dg_train_d = make_DG_train_D()\n",
    "dg_train_d"
   ]
  },
  {
   "cell_type": "code",
   "execution_count": 5,
   "metadata": {},
   "outputs": [
    {
     "data": {
      "text/html": [
       "<pre style=\"white-space:pre;overflow-x:auto;line-height:normal;font-family:Menlo,'DejaVu Sans Mono',consolas,'Courier New',monospace\"></pre>\n"
      ],
      "text/plain": []
     },
     "metadata": {},
     "output_type": "display_data"
    },
    {
     "data": {
      "text/html": [
       "<pre style=\"white-space: pre;\"><span style=\"color: #000080; text-decoration-color: #000080; font-weight: bold\">q0: ────────────────‖─────────────────────────────────────────────────────────────‖─────────────────────────────────────────────────────────────‖‖──</span><span style=\"color: #800080; text-decoration-color: #800080; font-weight: bold\">RX</span><span style=\"color: #000080; text-decoration-color: #000080; font-weight: bold\">(DISC_X_l0_n0)────</span><span style=\"color: #800080; text-decoration-color: #800080; font-weight: bold\">RZ</span><span style=\"color: #000080; text-decoration-color: #000080; font-weight: bold\">(DISC_Z_l0_n0)────</span><span style=\"color: #800080; text-decoration-color: #800080; font-weight: bold\">ZZ</span><span style=\"color: #000080; text-decoration-color: #000080; font-weight: bold\">(DISC_ZZ_l0_n0-n1)──────────────────────────‖──</span><span style=\"color: #800080; text-decoration-color: #800080; font-weight: bold\">RX</span><span style=\"color: #000080; text-decoration-color: #000080; font-weight: bold\">(DISC_X_l1_n0)────</span><span style=\"color: #800080; text-decoration-color: #800080; font-weight: bold\">RZ</span><span style=\"color: #000080; text-decoration-color: #000080; font-weight: bold\">(DISC_Z_l1_n0)────</span><span style=\"color: #800080; text-decoration-color: #800080; font-weight: bold\">ZZ</span><span style=\"color: #000080; text-decoration-color: #000080; font-weight: bold\">(DISC_ZZ_l1_n0-n1)──────────────────────────‖──</span><span style=\"color: #800080; text-decoration-color: #800080; font-weight: bold\">RX</span><span style=\"color: #000080; text-decoration-color: #000080; font-weight: bold\">(DISC_X_l2_n0)────</span><span style=\"color: #800080; text-decoration-color: #800080; font-weight: bold\">RZ</span><span style=\"color: #000080; text-decoration-color: #000080; font-weight: bold\">(DISC_Z_l2_n0)────</span><span style=\"color: #800080; text-decoration-color: #800080; font-weight: bold\">ZZ</span><span style=\"color: #000080; text-decoration-color: #000080; font-weight: bold\">(DISC_ZZ_l2_n0-n1)──────────────────────────‖──</span><span style=\"color: #800080; text-decoration-color: #800080; font-weight: bold\">RX</span><span style=\"color: #000080; text-decoration-color: #000080; font-weight: bold\">(DISC_X_l3_n0)────</span><span style=\"color: #800080; text-decoration-color: #800080; font-weight: bold\">RZ</span><span style=\"color: #000080; text-decoration-color: #000080; font-weight: bold\">(DISC_Z_l3_n0)────</span><span style=\"color: #800080; text-decoration-color: #800080; font-weight: bold\">ZZ</span><span style=\"color: #000080; text-decoration-color: #000080; font-weight: bold\">(DISC_ZZ_l3_n0-n1)──────────────────────────‖</span>\n",
       "<span style=\"color: #000080; text-decoration-color: #000080; font-weight: bold\">                    ‖                                                             ‖                                                             ‖‖                                                   │                                    ‖                                                   │                                    ‖                                                   │                                    ‖                                                   │                                    ‖</span>\n",
       "<span style=\"color: #000080; text-decoration-color: #000080; font-weight: bold\">q1: ──</span><span style=\"color: #800080; text-decoration-color: #800080; font-weight: bold\">RY</span><span style=\"color: #000080; text-decoration-color: #000080; font-weight: bold\">(lambda_D)──‖─────────────────────────────────────────────────────────────‖─────────────────────────────────────────────────────────────‖‖──</span><span style=\"color: #800080; text-decoration-color: #800080; font-weight: bold\">RX</span><span style=\"color: #000080; text-decoration-color: #000080; font-weight: bold\">(DISC_X_l0_n1)────</span><span style=\"color: #800080; text-decoration-color: #800080; font-weight: bold\">RZ</span><span style=\"color: #000080; text-decoration-color: #000080; font-weight: bold\">(DISC_Z_l0_n1)────</span><span style=\"color: #800080; text-decoration-color: #800080; font-weight: bold\">ZZ</span><span style=\"color: #000080; text-decoration-color: #000080; font-weight: bold\">(DISC_ZZ_l0_n0-n1)────</span><span style=\"color: #800080; text-decoration-color: #800080; font-weight: bold\">ZZ</span><span style=\"color: #000080; text-decoration-color: #000080; font-weight: bold\">(DISC_ZZ_l0_n1-n2)──‖──</span><span style=\"color: #800080; text-decoration-color: #800080; font-weight: bold\">RX</span><span style=\"color: #000080; text-decoration-color: #000080; font-weight: bold\">(DISC_X_l1_n1)────</span><span style=\"color: #800080; text-decoration-color: #800080; font-weight: bold\">RZ</span><span style=\"color: #000080; text-decoration-color: #000080; font-weight: bold\">(DISC_Z_l1_n1)────</span><span style=\"color: #800080; text-decoration-color: #800080; font-weight: bold\">ZZ</span><span style=\"color: #000080; text-decoration-color: #000080; font-weight: bold\">(DISC_ZZ_l1_n0-n1)────</span><span style=\"color: #800080; text-decoration-color: #800080; font-weight: bold\">ZZ</span><span style=\"color: #000080; text-decoration-color: #000080; font-weight: bold\">(DISC_ZZ_l1_n1-n2)──‖──</span><span style=\"color: #800080; text-decoration-color: #800080; font-weight: bold\">RX</span><span style=\"color: #000080; text-decoration-color: #000080; font-weight: bold\">(DISC_X_l2_n1)────</span><span style=\"color: #800080; text-decoration-color: #800080; font-weight: bold\">RZ</span><span style=\"color: #000080; text-decoration-color: #000080; font-weight: bold\">(DISC_Z_l2_n1)────</span><span style=\"color: #800080; text-decoration-color: #800080; font-weight: bold\">ZZ</span><span style=\"color: #000080; text-decoration-color: #000080; font-weight: bold\">(DISC_ZZ_l2_n0-n1)────</span><span style=\"color: #800080; text-decoration-color: #800080; font-weight: bold\">ZZ</span><span style=\"color: #000080; text-decoration-color: #000080; font-weight: bold\">(DISC_ZZ_l2_n1-n2)──‖──</span><span style=\"color: #800080; text-decoration-color: #800080; font-weight: bold\">RX</span><span style=\"color: #000080; text-decoration-color: #000080; font-weight: bold\">(DISC_X_l3_n1)────</span><span style=\"color: #800080; text-decoration-color: #800080; font-weight: bold\">RZ</span><span style=\"color: #000080; text-decoration-color: #000080; font-weight: bold\">(DISC_Z_l3_n1)────</span><span style=\"color: #800080; text-decoration-color: #800080; font-weight: bold\">ZZ</span><span style=\"color: #000080; text-decoration-color: #000080; font-weight: bold\">(DISC_ZZ_l3_n0-n1)────</span><span style=\"color: #800080; text-decoration-color: #800080; font-weight: bold\">ZZ</span><span style=\"color: #000080; text-decoration-color: #000080; font-weight: bold\">(DISC_ZZ_l3_n1-n2)──‖</span>\n",
       "<span style=\"color: #000080; text-decoration-color: #000080; font-weight: bold\">                    ‖                                                             ‖                                                             ‖‖                                                                           │            ‖                                                                           │            ‖                                                                           │            ‖                                                                           │            ‖</span>\n",
       "<span style=\"color: #000080; text-decoration-color: #000080; font-weight: bold\">q2: ────────────────‖──</span><span style=\"color: #800080; text-decoration-color: #800080; font-weight: bold\">RX</span><span style=\"color: #000080; text-decoration-color: #000080; font-weight: bold\">(GEN_X_l0_n2)────</span><span style=\"color: #800080; text-decoration-color: #800080; font-weight: bold\">RZ</span><span style=\"color: #000080; text-decoration-color: #000080; font-weight: bold\">(GEN_Z_l0_n2)────</span><span style=\"color: #800080; text-decoration-color: #800080; font-weight: bold\">ZZ</span><span style=\"color: #000080; text-decoration-color: #000080; font-weight: bold\">(GEN_ZZ_l0_n2-n3)──‖──</span><span style=\"color: #800080; text-decoration-color: #800080; font-weight: bold\">RX</span><span style=\"color: #000080; text-decoration-color: #000080; font-weight: bold\">(GEN_X_l1_n2)────</span><span style=\"color: #800080; text-decoration-color: #800080; font-weight: bold\">RZ</span><span style=\"color: #000080; text-decoration-color: #000080; font-weight: bold\">(GEN_Z_l1_n2)────</span><span style=\"color: #800080; text-decoration-color: #800080; font-weight: bold\">ZZ</span><span style=\"color: #000080; text-decoration-color: #000080; font-weight: bold\">(GEN_ZZ_l1_n2-n3)──‖‖──</span><span style=\"color: #800080; text-decoration-color: #800080; font-weight: bold\">RX</span><span style=\"color: #000080; text-decoration-color: #000080; font-weight: bold\">(DISC_X_l0_n2)────</span><span style=\"color: #800080; text-decoration-color: #800080; font-weight: bold\">RZ</span><span style=\"color: #000080; text-decoration-color: #000080; font-weight: bold\">(DISC_Z_l0_n2)────────────────────────────</span><span style=\"color: #800080; text-decoration-color: #800080; font-weight: bold\">ZZ</span><span style=\"color: #000080; text-decoration-color: #000080; font-weight: bold\">(DISC_ZZ_l0_n1-n2)──‖──</span><span style=\"color: #800080; text-decoration-color: #800080; font-weight: bold\">RX</span><span style=\"color: #000080; text-decoration-color: #000080; font-weight: bold\">(DISC_X_l1_n2)────</span><span style=\"color: #800080; text-decoration-color: #800080; font-weight: bold\">RZ</span><span style=\"color: #000080; text-decoration-color: #000080; font-weight: bold\">(DISC_Z_l1_n2)────────────────────────────</span><span style=\"color: #800080; text-decoration-color: #800080; font-weight: bold\">ZZ</span><span style=\"color: #000080; text-decoration-color: #000080; font-weight: bold\">(DISC_ZZ_l1_n1-n2)──‖──</span><span style=\"color: #800080; text-decoration-color: #800080; font-weight: bold\">RX</span><span style=\"color: #000080; text-decoration-color: #000080; font-weight: bold\">(DISC_X_l2_n2)────</span><span style=\"color: #800080; text-decoration-color: #800080; font-weight: bold\">RZ</span><span style=\"color: #000080; text-decoration-color: #000080; font-weight: bold\">(DISC_Z_l2_n2)────────────────────────────</span><span style=\"color: #800080; text-decoration-color: #800080; font-weight: bold\">ZZ</span><span style=\"color: #000080; text-decoration-color: #000080; font-weight: bold\">(DISC_ZZ_l2_n1-n2)──‖──</span><span style=\"color: #800080; text-decoration-color: #800080; font-weight: bold\">RX</span><span style=\"color: #000080; text-decoration-color: #000080; font-weight: bold\">(DISC_X_l3_n2)────</span><span style=\"color: #800080; text-decoration-color: #800080; font-weight: bold\">RZ</span><span style=\"color: #000080; text-decoration-color: #000080; font-weight: bold\">(DISC_Z_l3_n2)────────────────────────────</span><span style=\"color: #800080; text-decoration-color: #800080; font-weight: bold\">ZZ</span><span style=\"color: #000080; text-decoration-color: #000080; font-weight: bold\">(DISC_ZZ_l3_n1-n2)──‖</span>\n",
       "<span style=\"color: #000080; text-decoration-color: #000080; font-weight: bold\">                    ‖                                                 │           ‖                                                 │           ‖‖                                                                                        ‖                                                                                        ‖                                                                                        ‖                                                                                        ‖</span>\n",
       "<span style=\"color: #000080; text-decoration-color: #000080; font-weight: bold\">q3: ──</span><span style=\"color: #800080; text-decoration-color: #800080; font-weight: bold\">RY</span><span style=\"color: #000080; text-decoration-color: #000080; font-weight: bold\">(lambda_G)──‖──</span><span style=\"color: #800080; text-decoration-color: #800080; font-weight: bold\">RX</span><span style=\"color: #000080; text-decoration-color: #000080; font-weight: bold\">(GEN_X_l0_n3)────</span><span style=\"color: #800080; text-decoration-color: #800080; font-weight: bold\">RZ</span><span style=\"color: #000080; text-decoration-color: #000080; font-weight: bold\">(GEN_Z_l0_n3)────</span><span style=\"color: #800080; text-decoration-color: #800080; font-weight: bold\">ZZ</span><span style=\"color: #000080; text-decoration-color: #000080; font-weight: bold\">(GEN_ZZ_l0_n2-n3)──‖──</span><span style=\"color: #800080; text-decoration-color: #800080; font-weight: bold\">RX</span><span style=\"color: #000080; text-decoration-color: #000080; font-weight: bold\">(GEN_X_l1_n3)────</span><span style=\"color: #800080; text-decoration-color: #800080; font-weight: bold\">RZ</span><span style=\"color: #000080; text-decoration-color: #000080; font-weight: bold\">(GEN_Z_l1_n3)────</span><span style=\"color: #800080; text-decoration-color: #800080; font-weight: bold\">ZZ</span><span style=\"color: #000080; text-decoration-color: #000080; font-weight: bold\">(GEN_ZZ_l1_n2-n3)──‖‖────────────────────────────────────────────────────────────────────────────────────────‖────────────────────────────────────────────────────────────────────────────────────────‖────────────────────────────────────────────────────────────────────────────────────────‖────────────────────────────────────────────────────────────────────────────────────────‖</span>\n",
       "</pre>\n"
      ],
      "text/plain": [
       "q0: ────────────────‖─────────────────────────────────────────────────────────────‖─────────────────────────────────────────────────────────────‖‖──RX(DISC_X_l0_n0)────RZ(DISC_Z_l0_n0)────ZZ(DISC_ZZ_l0_n0-n1)──────────────────────────‖──RX(DISC_X_l1_n0)────RZ(DISC_Z_l1_n0)────ZZ(DISC_ZZ_l1_n0-n1)──────────────────────────‖──RX(DISC_X_l2_n0)────RZ(DISC_Z_l2_n0)────ZZ(DISC_ZZ_l2_n0-n1)──────────────────────────‖──RX(DISC_X_l3_n0)────RZ(DISC_Z_l3_n0)────ZZ(DISC_ZZ_l3_n0-n1)──────────────────────────‖\n",
       "                    ‖                                                             ‖                                                             ‖‖                                                   │                                    ‖                                                   │                                    ‖                                                   │                                    ‖                                                   │                                    ‖\n",
       "q1: ──RY(lambda_D)──‖─────────────────────────────────────────────────────────────‖─────────────────────────────────────────────────────────────‖‖──RX(DISC_X_l0_n1)────RZ(DISC_Z_l0_n1)────ZZ(DISC_ZZ_l0_n0-n1)────ZZ(DISC_ZZ_l0_n1-n2)──‖──RX(DISC_X_l1_n1)────RZ(DISC_Z_l1_n1)────ZZ(DISC_ZZ_l1_n0-n1)────ZZ(DISC_ZZ_l1_n1-n2)──‖──RX(DISC_X_l2_n1)────RZ(DISC_Z_l2_n1)────ZZ(DISC_ZZ_l2_n0-n1)────ZZ(DISC_ZZ_l2_n1-n2)──‖──RX(DISC_X_l3_n1)────RZ(DISC_Z_l3_n1)────ZZ(DISC_ZZ_l3_n0-n1)────ZZ(DISC_ZZ_l3_n1-n2)──‖\n",
       "                    ‖                                                             ‖                                                             ‖‖                                                                           │            ‖                                                                           │            ‖                                                                           │            ‖                                                                           │            ‖\n",
       "q2: ────────────────‖──RX(GEN_X_l0_n2)────RZ(GEN_Z_l0_n2)────ZZ(GEN_ZZ_l0_n2-n3)──‖──RX(GEN_X_l1_n2)────RZ(GEN_Z_l1_n2)────ZZ(GEN_ZZ_l1_n2-n3)──‖‖──RX(DISC_X_l0_n2)────RZ(DISC_Z_l0_n2)────────────────────────────ZZ(DISC_ZZ_l0_n1-n2)──‖──RX(DISC_X_l1_n2)────RZ(DISC_Z_l1_n2)────────────────────────────ZZ(DISC_ZZ_l1_n1-n2)──‖──RX(DISC_X_l2_n2)────RZ(DISC_Z_l2_n2)────────────────────────────ZZ(DISC_ZZ_l2_n1-n2)──‖──RX(DISC_X_l3_n2)────RZ(DISC_Z_l3_n2)────────────────────────────ZZ(DISC_ZZ_l3_n1-n2)──‖\n",
       "                    ‖                                                 │           ‖                                                 │           ‖‖                                                                                        ‖                                                                                        ‖                                                                                        ‖                                                                                        ‖\n",
       "q3: ──RY(lambda_G)──‖──RX(GEN_X_l0_n3)────RZ(GEN_Z_l0_n3)────ZZ(GEN_ZZ_l0_n2-n3)──‖──RX(GEN_X_l1_n3)────RZ(GEN_Z_l1_n3)────ZZ(GEN_ZZ_l1_n2-n3)──‖‖────────────────────────────────────────────────────────────────────────────────────────‖────────────────────────────────────────────────────────────────────────────────────────‖────────────────────────────────────────────────────────────────────────────────────────‖────────────────────────────────────────────────────────────────────────────────────────‖"
      ]
     },
     "execution_count": 5,
     "metadata": {},
     "output_type": "execute_result"
    }
   ],
   "source": [
    "dg_train_g = make_DG_train_G()\n",
    "dg_train_g"
   ]
  },
  {
   "cell_type": "code",
   "execution_count": 6,
   "metadata": {},
   "outputs": [
    {
     "data": {
      "text/html": [
       "<pre style=\"white-space:pre;overflow-x:auto;line-height:normal;font-family:Menlo,'DejaVu Sans Mono',consolas,'Courier New',monospace\"></pre>\n"
      ],
      "text/plain": []
     },
     "metadata": {},
     "output_type": "display_data"
    },
    {
     "data": {
      "text/html": [
       "<pre style=\"white-space: pre;\"><span style=\"color: #000080; text-decoration-color: #000080; font-weight: bold\">q2: ────────────────‖──</span><span style=\"color: #800080; text-decoration-color: #800080; font-weight: bold\">RX</span><span style=\"color: #000080; text-decoration-color: #000080; font-weight: bold\">(GEN_X_l0_n2)────</span><span style=\"color: #800080; text-decoration-color: #800080; font-weight: bold\">RZ</span><span style=\"color: #000080; text-decoration-color: #000080; font-weight: bold\">(GEN_Z_l0_n2)────</span><span style=\"color: #800080; text-decoration-color: #800080; font-weight: bold\">ZZ</span><span style=\"color: #000080; text-decoration-color: #000080; font-weight: bold\">(GEN_ZZ_l0_n2-n3)──‖──</span><span style=\"color: #800080; text-decoration-color: #800080; font-weight: bold\">RX</span><span style=\"color: #000080; text-decoration-color: #000080; font-weight: bold\">(GEN_X_l1_n2)────</span><span style=\"color: #800080; text-decoration-color: #800080; font-weight: bold\">RZ</span><span style=\"color: #000080; text-decoration-color: #000080; font-weight: bold\">(GEN_Z_l1_n2)────</span><span style=\"color: #800080; text-decoration-color: #800080; font-weight: bold\">ZZ</span><span style=\"color: #000080; text-decoration-color: #000080; font-weight: bold\">(GEN_ZZ_l1_n2-n3)──‖</span>\n",
       "<span style=\"color: #000080; text-decoration-color: #000080; font-weight: bold\">                    ‖                                                 │           ‖                                                 │           ‖</span>\n",
       "<span style=\"color: #000080; text-decoration-color: #000080; font-weight: bold\">q3: ──</span><span style=\"color: #800080; text-decoration-color: #800080; font-weight: bold\">RY</span><span style=\"color: #000080; text-decoration-color: #000080; font-weight: bold\">(lambda_G)──‖──</span><span style=\"color: #800080; text-decoration-color: #800080; font-weight: bold\">RX</span><span style=\"color: #000080; text-decoration-color: #000080; font-weight: bold\">(GEN_X_l0_n3)────</span><span style=\"color: #800080; text-decoration-color: #800080; font-weight: bold\">RZ</span><span style=\"color: #000080; text-decoration-color: #000080; font-weight: bold\">(GEN_Z_l0_n3)────</span><span style=\"color: #800080; text-decoration-color: #800080; font-weight: bold\">ZZ</span><span style=\"color: #000080; text-decoration-color: #000080; font-weight: bold\">(GEN_ZZ_l0_n2-n3)──‖──</span><span style=\"color: #800080; text-decoration-color: #800080; font-weight: bold\">RX</span><span style=\"color: #000080; text-decoration-color: #000080; font-weight: bold\">(GEN_X_l1_n3)────</span><span style=\"color: #800080; text-decoration-color: #800080; font-weight: bold\">RZ</span><span style=\"color: #000080; text-decoration-color: #000080; font-weight: bold\">(GEN_Z_l1_n3)────</span><span style=\"color: #800080; text-decoration-color: #800080; font-weight: bold\">ZZ</span><span style=\"color: #000080; text-decoration-color: #000080; font-weight: bold\">(GEN_ZZ_l1_n2-n3)──‖</span>\n",
       "</pre>\n"
      ],
      "text/plain": [
       "q2: ────────────────‖──RX(GEN_X_l0_n2)────RZ(GEN_Z_l0_n2)────ZZ(GEN_ZZ_l0_n2-n3)──‖──RX(GEN_X_l1_n2)────RZ(GEN_Z_l1_n2)────ZZ(GEN_ZZ_l1_n2-n3)──‖\n",
       "                    ‖                                                 │           ‖                                                 │           ‖\n",
       "q3: ──RY(lambda_G)──‖──RX(GEN_X_l0_n3)────RZ(GEN_Z_l0_n3)────ZZ(GEN_ZZ_l0_n2-n3)──‖──RX(GEN_X_l1_n3)────RZ(GEN_Z_l1_n3)────ZZ(GEN_ZZ_l1_n2-n3)──‖"
      ]
     },
     "execution_count": 6,
     "metadata": {},
     "output_type": "execute_result"
    }
   ],
   "source": [
    "mock_g = make_mock_G()\n",
    "mock_g"
   ]
  },
  {
   "cell_type": "code",
   "execution_count": 7,
   "metadata": {},
   "outputs": [
    {
     "data": {
      "text/html": [
       "<pre style=\"white-space:pre;overflow-x:auto;line-height:normal;font-family:Menlo,'DejaVu Sans Mono',consolas,'Courier New',monospace\"></pre>\n"
      ],
      "text/plain": []
     },
     "metadata": {},
     "output_type": "display_data"
    },
    {
     "data": {
      "text/html": [
       "<pre style=\"white-space: pre;\"><span style=\"color: #000080; text-decoration-color: #000080; font-weight: bold\">q2: ────────────────‖──X──</span>\n",
       "<span style=\"color: #000080; text-decoration-color: #000080; font-weight: bold\">                    ‖  │</span>\n",
       "<span style=\"color: #000080; text-decoration-color: #000080; font-weight: bold\">q3: ──</span><span style=\"color: #800080; text-decoration-color: #800080; font-weight: bold\">RY</span><span style=\"color: #000080; text-decoration-color: #000080; font-weight: bold\">(lambda_R)──‖──●──</span>\n",
       "</pre>\n"
      ],
      "text/plain": [
       "q2: ────────────────‖──X──\n",
       "                    ‖  │\n",
       "q3: ──RY(lambda_R)──‖──●──"
      ]
     },
     "execution_count": 7,
     "metadata": {},
     "output_type": "execute_result"
    }
   ],
   "source": [
    "mock_r = make_mock_R()\n",
    "mock_r"
   ]
  },
  {
   "cell_type": "code",
   "execution_count": 8,
   "metadata": {},
   "outputs": [
    {
     "data": {
      "text/html": [
       "<pre style=\"white-space:pre;overflow-x:auto;line-height:normal;font-family:Menlo,'DejaVu Sans Mono',consolas,'Courier New',monospace\"></pre>\n"
      ],
      "text/plain": []
     },
     "metadata": {},
     "output_type": "display_data"
    },
    {
     "data": {
      "text/html": [
       "<pre style=\"white-space: pre;\"><span style=\"color: #000080; text-decoration-color: #000080; font-weight: bold\">q0: ────────────────‖──</span><span style=\"color: #800080; text-decoration-color: #800080; font-weight: bold\">RX</span><span style=\"color: #000080; text-decoration-color: #000080; font-weight: bold\">(DISC_X_l0_n0)────</span><span style=\"color: #800080; text-decoration-color: #800080; font-weight: bold\">RZ</span><span style=\"color: #000080; text-decoration-color: #000080; font-weight: bold\">(DISC_Z_l0_n0)────</span><span style=\"color: #800080; text-decoration-color: #800080; font-weight: bold\">ZZ</span><span style=\"color: #000080; text-decoration-color: #000080; font-weight: bold\">(DISC_ZZ_l0_n0-n1)──────────────────────────‖──</span><span style=\"color: #800080; text-decoration-color: #800080; font-weight: bold\">RX</span><span style=\"color: #000080; text-decoration-color: #000080; font-weight: bold\">(DISC_X_l1_n0)────</span><span style=\"color: #800080; text-decoration-color: #800080; font-weight: bold\">RZ</span><span style=\"color: #000080; text-decoration-color: #000080; font-weight: bold\">(DISC_Z_l1_n0)────</span><span style=\"color: #800080; text-decoration-color: #800080; font-weight: bold\">ZZ</span><span style=\"color: #000080; text-decoration-color: #000080; font-weight: bold\">(DISC_ZZ_l1_n0-n1)──────────────────────────‖──</span><span style=\"color: #800080; text-decoration-color: #800080; font-weight: bold\">RX</span><span style=\"color: #000080; text-decoration-color: #000080; font-weight: bold\">(DISC_X_l2_n0)────</span><span style=\"color: #800080; text-decoration-color: #800080; font-weight: bold\">RZ</span><span style=\"color: #000080; text-decoration-color: #000080; font-weight: bold\">(DISC_Z_l2_n0)────</span><span style=\"color: #800080; text-decoration-color: #800080; font-weight: bold\">ZZ</span><span style=\"color: #000080; text-decoration-color: #000080; font-weight: bold\">(DISC_ZZ_l2_n0-n1)──────────────────────────‖──</span><span style=\"color: #800080; text-decoration-color: #800080; font-weight: bold\">RX</span><span style=\"color: #000080; text-decoration-color: #000080; font-weight: bold\">(DISC_X_l3_n0)────</span><span style=\"color: #800080; text-decoration-color: #800080; font-weight: bold\">RZ</span><span style=\"color: #000080; text-decoration-color: #000080; font-weight: bold\">(DISC_Z_l3_n0)────</span><span style=\"color: #800080; text-decoration-color: #800080; font-weight: bold\">ZZ</span><span style=\"color: #000080; text-decoration-color: #000080; font-weight: bold\">(DISC_ZZ_l3_n0-n1)──────────────────────────‖</span>\n",
       "<span style=\"color: #000080; text-decoration-color: #000080; font-weight: bold\">                    ‖                                                   │                                    ‖                                                   │                                    ‖                                                   │                                    ‖                                                   │                                    ‖</span>\n",
       "<span style=\"color: #000080; text-decoration-color: #000080; font-weight: bold\">q1: ──</span><span style=\"color: #800080; text-decoration-color: #800080; font-weight: bold\">RY</span><span style=\"color: #000080; text-decoration-color: #000080; font-weight: bold\">(lambda_D)──‖──</span><span style=\"color: #800080; text-decoration-color: #800080; font-weight: bold\">RX</span><span style=\"color: #000080; text-decoration-color: #000080; font-weight: bold\">(DISC_X_l0_n1)────</span><span style=\"color: #800080; text-decoration-color: #800080; font-weight: bold\">RZ</span><span style=\"color: #000080; text-decoration-color: #000080; font-weight: bold\">(DISC_Z_l0_n1)────</span><span style=\"color: #800080; text-decoration-color: #800080; font-weight: bold\">ZZ</span><span style=\"color: #000080; text-decoration-color: #000080; font-weight: bold\">(DISC_ZZ_l0_n0-n1)────</span><span style=\"color: #800080; text-decoration-color: #800080; font-weight: bold\">ZZ</span><span style=\"color: #000080; text-decoration-color: #000080; font-weight: bold\">(DISC_ZZ_l0_n1-n2)──‖──</span><span style=\"color: #800080; text-decoration-color: #800080; font-weight: bold\">RX</span><span style=\"color: #000080; text-decoration-color: #000080; font-weight: bold\">(DISC_X_l1_n1)────</span><span style=\"color: #800080; text-decoration-color: #800080; font-weight: bold\">RZ</span><span style=\"color: #000080; text-decoration-color: #000080; font-weight: bold\">(DISC_Z_l1_n1)────</span><span style=\"color: #800080; text-decoration-color: #800080; font-weight: bold\">ZZ</span><span style=\"color: #000080; text-decoration-color: #000080; font-weight: bold\">(DISC_ZZ_l1_n0-n1)────</span><span style=\"color: #800080; text-decoration-color: #800080; font-weight: bold\">ZZ</span><span style=\"color: #000080; text-decoration-color: #000080; font-weight: bold\">(DISC_ZZ_l1_n1-n2)──‖──</span><span style=\"color: #800080; text-decoration-color: #800080; font-weight: bold\">RX</span><span style=\"color: #000080; text-decoration-color: #000080; font-weight: bold\">(DISC_X_l2_n1)────</span><span style=\"color: #800080; text-decoration-color: #800080; font-weight: bold\">RZ</span><span style=\"color: #000080; text-decoration-color: #000080; font-weight: bold\">(DISC_Z_l2_n1)────</span><span style=\"color: #800080; text-decoration-color: #800080; font-weight: bold\">ZZ</span><span style=\"color: #000080; text-decoration-color: #000080; font-weight: bold\">(DISC_ZZ_l2_n0-n1)────</span><span style=\"color: #800080; text-decoration-color: #800080; font-weight: bold\">ZZ</span><span style=\"color: #000080; text-decoration-color: #000080; font-weight: bold\">(DISC_ZZ_l2_n1-n2)──‖──</span><span style=\"color: #800080; text-decoration-color: #800080; font-weight: bold\">RX</span><span style=\"color: #000080; text-decoration-color: #000080; font-weight: bold\">(DISC_X_l3_n1)────</span><span style=\"color: #800080; text-decoration-color: #800080; font-weight: bold\">RZ</span><span style=\"color: #000080; text-decoration-color: #000080; font-weight: bold\">(DISC_Z_l3_n1)────</span><span style=\"color: #800080; text-decoration-color: #800080; font-weight: bold\">ZZ</span><span style=\"color: #000080; text-decoration-color: #000080; font-weight: bold\">(DISC_ZZ_l3_n0-n1)────</span><span style=\"color: #800080; text-decoration-color: #800080; font-weight: bold\">ZZ</span><span style=\"color: #000080; text-decoration-color: #000080; font-weight: bold\">(DISC_ZZ_l3_n1-n2)──‖</span>\n",
       "<span style=\"color: #000080; text-decoration-color: #000080; font-weight: bold\">                    ‖                                                                           │            ‖                                                                           │            ‖                                                                           │            ‖                                                                           │            ‖</span>\n",
       "<span style=\"color: #000080; text-decoration-color: #000080; font-weight: bold\">q2: ───</span><span style=\"color: #800080; text-decoration-color: #800080; font-weight: bold\">RY</span><span style=\"color: #000080; text-decoration-color: #000080; font-weight: bold\">(input)────‖──</span><span style=\"color: #800080; text-decoration-color: #800080; font-weight: bold\">RX</span><span style=\"color: #000080; text-decoration-color: #000080; font-weight: bold\">(DISC_X_l0_n2)────</span><span style=\"color: #800080; text-decoration-color: #800080; font-weight: bold\">RZ</span><span style=\"color: #000080; text-decoration-color: #000080; font-weight: bold\">(DISC_Z_l0_n2)────────────────────────────</span><span style=\"color: #800080; text-decoration-color: #800080; font-weight: bold\">ZZ</span><span style=\"color: #000080; text-decoration-color: #000080; font-weight: bold\">(DISC_ZZ_l0_n1-n2)──‖──</span><span style=\"color: #800080; text-decoration-color: #800080; font-weight: bold\">RX</span><span style=\"color: #000080; text-decoration-color: #000080; font-weight: bold\">(DISC_X_l1_n2)────</span><span style=\"color: #800080; text-decoration-color: #800080; font-weight: bold\">RZ</span><span style=\"color: #000080; text-decoration-color: #000080; font-weight: bold\">(DISC_Z_l1_n2)────────────────────────────</span><span style=\"color: #800080; text-decoration-color: #800080; font-weight: bold\">ZZ</span><span style=\"color: #000080; text-decoration-color: #000080; font-weight: bold\">(DISC_ZZ_l1_n1-n2)──‖──</span><span style=\"color: #800080; text-decoration-color: #800080; font-weight: bold\">RX</span><span style=\"color: #000080; text-decoration-color: #000080; font-weight: bold\">(DISC_X_l2_n2)────</span><span style=\"color: #800080; text-decoration-color: #800080; font-weight: bold\">RZ</span><span style=\"color: #000080; text-decoration-color: #000080; font-weight: bold\">(DISC_Z_l2_n2)────────────────────────────</span><span style=\"color: #800080; text-decoration-color: #800080; font-weight: bold\">ZZ</span><span style=\"color: #000080; text-decoration-color: #000080; font-weight: bold\">(DISC_ZZ_l2_n1-n2)──‖──</span><span style=\"color: #800080; text-decoration-color: #800080; font-weight: bold\">RX</span><span style=\"color: #000080; text-decoration-color: #000080; font-weight: bold\">(DISC_X_l3_n2)────</span><span style=\"color: #800080; text-decoration-color: #800080; font-weight: bold\">RZ</span><span style=\"color: #000080; text-decoration-color: #000080; font-weight: bold\">(DISC_Z_l3_n2)────────────────────────────</span><span style=\"color: #800080; text-decoration-color: #800080; font-weight: bold\">ZZ</span><span style=\"color: #000080; text-decoration-color: #000080; font-weight: bold\">(DISC_ZZ_l3_n1-n2)──‖</span>\n",
       "</pre>\n"
      ],
      "text/plain": [
       "q0: ────────────────‖──RX(DISC_X_l0_n0)────RZ(DISC_Z_l0_n0)────ZZ(DISC_ZZ_l0_n0-n1)──────────────────────────‖──RX(DISC_X_l1_n0)────RZ(DISC_Z_l1_n0)────ZZ(DISC_ZZ_l1_n0-n1)──────────────────────────‖──RX(DISC_X_l2_n0)────RZ(DISC_Z_l2_n0)────ZZ(DISC_ZZ_l2_n0-n1)──────────────────────────‖──RX(DISC_X_l3_n0)────RZ(DISC_Z_l3_n0)────ZZ(DISC_ZZ_l3_n0-n1)──────────────────────────‖\n",
       "                    ‖                                                   │                                    ‖                                                   │                                    ‖                                                   │                                    ‖                                                   │                                    ‖\n",
       "q1: ──RY(lambda_D)──‖──RX(DISC_X_l0_n1)────RZ(DISC_Z_l0_n1)────ZZ(DISC_ZZ_l0_n0-n1)────ZZ(DISC_ZZ_l0_n1-n2)──‖──RX(DISC_X_l1_n1)────RZ(DISC_Z_l1_n1)────ZZ(DISC_ZZ_l1_n0-n1)────ZZ(DISC_ZZ_l1_n1-n2)──‖──RX(DISC_X_l2_n1)────RZ(DISC_Z_l2_n1)────ZZ(DISC_ZZ_l2_n0-n1)────ZZ(DISC_ZZ_l2_n1-n2)──‖──RX(DISC_X_l3_n1)────RZ(DISC_Z_l3_n1)────ZZ(DISC_ZZ_l3_n0-n1)────ZZ(DISC_ZZ_l3_n1-n2)──‖\n",
       "                    ‖                                                                           │            ‖                                                                           │            ‖                                                                           │            ‖                                                                           │            ‖\n",
       "q2: ───RY(input)────‖──RX(DISC_X_l0_n2)────RZ(DISC_Z_l0_n2)────────────────────────────ZZ(DISC_ZZ_l0_n1-n2)──‖──RX(DISC_X_l1_n2)────RZ(DISC_Z_l1_n2)────────────────────────────ZZ(DISC_ZZ_l1_n1-n2)──‖──RX(DISC_X_l2_n2)────RZ(DISC_Z_l2_n2)────────────────────────────ZZ(DISC_ZZ_l2_n1-n2)──‖──RX(DISC_X_l3_n2)────RZ(DISC_Z_l3_n2)────────────────────────────ZZ(DISC_ZZ_l3_n1-n2)──‖"
      ]
     },
     "execution_count": 8,
     "metadata": {},
     "output_type": "execute_result"
    }
   ],
   "source": [
    "mock_d = make_mock_D()\n",
    "mock_d"
   ]
  },
  {
   "cell_type": "markdown",
   "metadata": {},
   "source": [
    "## 建立线路并初始化权重"
   ]
  },
  {
   "cell_type": "code",
   "execution_count": 13,
   "metadata": {},
   "outputs": [
    {
     "name": "stdout",
     "output_type": "stream",
     "text": [
      "{'GEN_X_l0_n2': 3.780328038372047, 'DISC_X_l1_n1': 1.8609894830356406, 'DISC_X_l2_n1': 4.984235205101651, 'DISC_ZZ_l1_n1-n2': 1.3768662218161227, 'DISC_Z_l3_n1': 4.711552751507918, 'DISC_X_l2_n2': 5.687602079186553, 'lambda_R': 0, 'DISC_ZZ_l3_n1-n2': 4.901579992504204, 'GEN_Z_l1_n2': 1.2044893932878187, 'DISC_X_l0_n2': 3.9400201034506304, 'GEN_Z_l0_n2': 4.967955818759237, 'GEN_ZZ_l0_n2-n3': 1.3764882313205131, 'DISC_ZZ_l3_n0-n1': 0.12649338983624317, 'DISC_X_l0_n1': 3.416077084766586, 'lambda_G': 0, 'DISC_Z_l3_n2': 2.3208669983637153, 'DISC_X_l2_n0': 0.6794248904128621, 'DISC_ZZ_l2_n1-n2': 5.180926648994995, 'DISC_Z_l1_n2': 5.523122265412385, 'DISC_Z_l1_n1': 2.504380065764558, 'DISC_Z_l1_n0': 0.8790410152375415, 'GEN_Z_l1_n3': 1.6196589594011632, 'DISC_Z_l3_n0': 0.5051485395755628, 'DISC_X_l1_n0': 5.249843918943382, 'DISC_Z_l2_n2': 1.3104492146674758, 'DISC_Z_l2_n0': 0.3162377515934218, 'DISC_X_l3_n0': 6.012819306947698, 'lambda_D': 0, 'GEN_X_l1_n2': 2.3285953573641134, 'DISC_ZZ_l0_n1-n2': 3.3966736243459894, 'GEN_Z_l0_n3': 4.1196933375463685, 'GEN_X_l0_n3': 5.646158537060715, 'GEN_ZZ_l1_n2-n3': 1.6176058632423294, 'DISC_Z_l2_n1': 3.418116204825296, 'DISC_X_l0_n0': 2.51717260768466, 'DISC_Z_l0_n2': 2.605877418621336, 'DISC_Z_l0_n1': 1.2629729608302882, 'DISC_ZZ_l1_n0-n1': 1.8641305021110959, 'DISC_ZZ_l0_n0-n1': 3.7510232387144264, 'DISC_X_l3_n1': 0.3358518864015446, 'GEN_X_l1_n3': 5.9891717375371165, 'DISC_X_l3_n2': 3.024471446044131, 'DISC_Z_l0_n0': 3.481091512140379, 'DISC_X_l1_n2': 3.1607893596838013, 'DISC_ZZ_l2_n0-n1': 1.6697959498628336}\n"
     ]
    }
   ],
   "source": [
    "## ver. 1\n",
    "\n",
    "# 建立各种线路\n",
    "dr = make_DR()\n",
    "dg_train_d = make_DG_train_D()\n",
    "dg_train_g = make_DG_train_G()\n",
    "mock_g = make_mock_G()\n",
    "mock_r = make_mock_R()\n",
    "mock_d = make_mock_D()\n",
    "\n",
    "\n",
    "# 设置初始值 随机初始化\n",
    "# 全局共享参数 ===> param_dict\n",
    "lambda_init = 0\n",
    "d_param_init = 2 * np.pi\n",
    "g_param_init = 2 * np.pi\n",
    "\n",
    "param_dict = {}\n",
    "param_list = list(\n",
    "    set(dr.params_name + dg_train_d.params_name + dg_train_g.params_name)\n",
    ")\n",
    "\n",
    "\n",
    "for p in param_list:\n",
    "    if \"lambda\" in p:\n",
    "        param_dict[p] = lambda_init \n",
    "    if \"DISC\" in p:\n",
    "        param_dict[p] = d_param_init * random.random()\n",
    "    if \"GEN\" in p:\n",
    "        param_dict[p] = g_param_init * random.random()\n",
    "\n",
    "print(param_dict)\n",
    "\n",
    "\n",
    "# 生成一个基于projectq后端的模拟器，并设置模拟器的比特数为量子线路的比特数。\n",
    "sim = Simulator(\"projectq\", 4)\n",
    "\n",
    "# dr线路输出，进行Z测量，D输入为R的输出，得到结果 相当于D判断R输出为real的概率减去 fake的概率， 梯度为d的权重梯度，训练d时候希望D判断R输入为real的概率越大越好\n",
    "grad_func_dr = sim.get_expectation_with_grad(\n",
    "    Hamiltonian(QubitOperator(f\"Z0\")), #p_real - p_fake\n",
    "    dr, ansatz_params_name=dr.params_name\n",
    ")\n",
    "\n",
    "# dg线路输出，进行-Z测量，得到结果 相当于D判断 g fake的概率减去 real的概率， 梯度为d的权重梯度，训练d时候希望D判断G输入为fake的概率越大越好\n",
    "grad_func_dg_train_d = sim.get_expectation_with_grad(\n",
    "    Hamiltonian(QubitOperator(f\"Z0\", -1)), #p_fake - p_real #p_real - p_fake\n",
    "    dg_train_d, ansatz_params_name=dg_train_d.params_name\n",
    ")\n",
    "\n",
    "# dg线路输出，进行Z测量，得到结果 相当于D判断 g real的概率减去 fake的概率， 梯度为g的权重梯度，训练g时候希望D判断G输入为real的概率越大越好\n",
    "grad_func_dg_train_g = sim.get_expectation_with_grad(\n",
    "    Hamiltonian(QubitOperator(f\"Z0\")), #p_real - p_fake\n",
    "    dg_train_g, ansatz_params_name=dg_train_g.params_name\n",
    ")\n",
    "\n",
    "# 用于测量g的输出，获取g的输出概率分布\n",
    "grad_func_mock_g = sim.get_expectation_with_grad(\n",
    "    Hamiltonian(QubitOperator(f\"Z2\")), #p0 - p1，用于获取 generator output的概率分布\n",
    "    mock_g, ansatz_params_name=mock_g.params_name\n",
    ")\n",
    "\n",
    "# 用于测量r的输出，获取g的输出概率分布\n",
    "grad_func_mock_r = sim.get_expectation_with_grad(\n",
    "    Hamiltonian(QubitOperator(f\"Z2\")), #p0 - p1，用于获取 R output的概率分布\n",
    "    mock_r, ansatz_params_name=mock_r.params_name\n",
    ")"
   ]
  },
  {
   "cell_type": "markdown",
   "metadata": {},
   "source": [
    "### 训练(基础方式)\n",
    "采用论文方案，未使用高级优化方法"
   ]
  },
  {
   "cell_type": "code",
   "execution_count": 14,
   "metadata": {},
   "outputs": [
    {
     "data": {
      "application/vnd.jupyter.widget-view+json": {
       "model_id": "1daa908494ba4ad398ba556510318fe3",
       "version_major": 2,
       "version_minor": 0
      },
      "text/plain": [
       "  0%|          | 0/6 [00:00<?, ?it/s]"
      ]
     },
     "metadata": {},
     "output_type": "display_data"
    },
    {
     "data": {
      "application/vnd.jupyter.widget-view+json": {
       "model_id": "e093cc027aa54097a9e7460782c942b4",
       "version_major": 2,
       "version_minor": 0
      },
      "text/plain": [
       "  0%|          | 0/30000 [00:00<?, ?it/s]"
      ]
     },
     "metadata": {},
     "output_type": "display_data"
    },
    {
     "name": "stderr",
     "output_type": "stream",
     "text": [
      "/home/ma-user/anaconda3/envs/MindQuantum/lib/python3.7/site-packages/ipykernel/__main__.py:46: ComplexWarning: Casting complex values to real discards the imaginary part\n",
      "/home/ma-user/anaconda3/envs/MindQuantum/lib/python3.7/site-packages/ipykernel/__main__.py:47: ComplexWarning: Casting complex values to real discards the imaginary part\n",
      "/home/ma-user/anaconda3/envs/MindQuantum/lib/python3.7/site-packages/ipykernel/__main__.py:55: ComplexWarning: Casting complex values to real discards the imaginary part\n",
      "/home/ma-user/anaconda3/envs/MindQuantum/lib/python3.7/site-packages/ipykernel/__main__.py:57: ComplexWarning: Casting complex values to real discards the imaginary part\n",
      "/home/ma-user/anaconda3/envs/MindQuantum/lib/python3.7/site-packages/ipykernel/__main__.py:64: ComplexWarning: Casting complex values to real discards the imaginary part\n",
      "/home/ma-user/anaconda3/envs/MindQuantum/lib/python3.7/site-packages/ipykernel/__main__.py:66: ComplexWarning: Casting complex values to real discards the imaginary part\n",
      "/home/ma-user/anaconda3/envs/MindQuantum/lib/python3.7/site-packages/ipykernel/__main__.py:83: ComplexWarning: Casting complex values to real discards the imaginary part\n",
      "/home/ma-user/anaconda3/envs/MindQuantum/lib/python3.7/site-packages/ipykernel/__main__.py:90: ComplexWarning: Casting complex values to real discards the imaginary part\n"
     ]
    }
   ],
   "source": [
    "# 存储各个metrics\n",
    "v_dr_list = []\n",
    "v_dg_train_d_list = []\n",
    "v_dg_train_g_list = []\n",
    "V_DR_list = []\n",
    "V_DG_list = []\n",
    "V_list = []\n",
    "ce_list = [[],[]]\n",
    "lr_list = []\n",
    "\n",
    "# 学习率 在8000步之内 从0.1 下降到0.001\n",
    "lr_init = 1e-1\n",
    "lr_end = 1e-3\n",
    "drop_step = 8000\n",
    "train_step = 30000\n",
    "\n",
    "\n",
    "# lr_init = 1e-1\n",
    "# lr_end = 5e-3\n",
    "# drop_step = 4000\n",
    "# train_step = 10000\n",
    "\n",
    "\n",
    "# lr_init = 10\n",
    "# lr_end = 0.1\n",
    "# drop_step = 10000\n",
    "# train_step = 50000\n",
    "\n",
    "pbar = tqdm([\"A\", \"B\", \"C\", \"D\", \"E\", \"F\"])\n",
    "\n",
    "for k in  tqdm(range(train_step)):\n",
    "\n",
    "    if k < drop_step:\n",
    "        lr = lr_init - k*(lr_init-lr_end)/drop_step\n",
    "    else:\n",
    "        lr = lr_end\n",
    "        \n",
    "    lr_list.append(lr)\n",
    "    \n",
    "    # 随机采样并设置label\n",
    "    lam = sample_lambda()\n",
    "\n",
    "    # 使用DR线路训练D\n",
    "    dr_params = get_params(dr)\n",
    "    v_dr, g_dr = grad_func_dr(dr_params)\n",
    "    v_dr = float(v_dr[0][0])\n",
    "    g_dr = np.array(g_dr).astype(np.float32)[0][0]\n",
    "    v_dr_list.append(v_dr)\n",
    "    dr_params += 1 * lr * g_dr * (1-v_dr)\n",
    "    set_params(dr, dr_params)\n",
    "    \n",
    "    # 使用DG线路训练D\n",
    "    dg_train_d_params = get_params(dg_train_d)\n",
    "    v_dg_train_d, g_dg_train_d = grad_func_dg_train_d(dg_train_d_params)\n",
    "    v_dg_train_d = float(v_dg_train_d[0][0])\n",
    "    v_dg_train_d_list.append(v_dg_train_d)\n",
    "    g_dg_train_d = np.array(g_dg_train_d).astype(np.float32)[0][0]\n",
    "    dg_train_d_params += 0.5 * lr * g_dg_train_d * (1-v_dg_train_d)\n",
    "    set_params(dg_train_d, dg_train_d_params)\n",
    "\n",
    "    # 使用DG线路训练G 每100步训练一次\n",
    "    dg_train_g_params = get_params(dg_train_g)\n",
    "    v_dg_train_g, g_dg_train_g = grad_func_dg_train_g(dg_train_g_params)\n",
    "    v_dg_train_g = float(v_dg_train_g[0][0])\n",
    "    v_dg_train_g_list.append(v_dg_train_g)\n",
    "    g_dg_train_g = np.array(g_dg_train_g).astype(np.float32)[0][0]\n",
    "    if (k % 100) == 0:\n",
    "        dg_train_g_params += 5*lr * g_dg_train_g * (1-v_dg_train_g)\n",
    "        set_params(dg_train_g, dg_train_g_params)\n",
    "\n",
    "    # calculate metrics\n",
    "    # 将线路的Exception转换为论文的metric\n",
    "    V_DR = (v_dr - v_dg_train_d)/2 * 1/4\n",
    "    V_DR_list.append(V_DR)\n",
    "    V_DG = -1/4 * v_dg_train_g\n",
    "    V_DG_list.append(V_DG)\n",
    "    V = 0.5 + V_DR + V_DG\n",
    "    V_list.append(V)\n",
    "    \n",
    "    # 测量G输出的分布，不同label下的分布保存在不同的list里\n",
    "    mock_g_params = get_params(mock_g)\n",
    "    v_mock_g, g_mock_g = grad_func_mock_g(mock_g_params)\n",
    "    v_mock_g = float(v_mock_g[0][0])\n",
    "    p0_g = (1 + v_mock_g)/2\n",
    "    p1_g = 1 - p0_g\n",
    "    \n",
    "    # 测量R输出的分布，不同label下的分布保存在不同的list里\n",
    "    mock_r_params = get_params(mock_r)\n",
    "    v_mock_r, g_mock_r = grad_func_mock_r(mock_r_params)\n",
    "    v_mock_r = float(v_mock_r[0][0])\n",
    "    p0_r = (1 + v_mock_r)/2\n",
    "    p1_r = 1 - p0_r\n",
    "    \n",
    "    # 计算R输出与G输出分布的距离（交叉熵）\n",
    "    ce = scipy.stats.entropy(np.array([(1 + v_mock_r)/2, (1 - v_mock_r)/2]), np.array([(1 + v_mock_g)/2, (1 - v_mock_g)/2]))\n",
    "    ce_list[lam].append(ce)\n",
    "    \n",
    "    pbar.set_description(\"lr={:.2e}, label={}, V_DG={:.2f}, V_DR={:.2f}, V={:.2f}, ce={:.2e}\".format(lr, lam, V_DG, V_DR, V, ce))\n"
   ]
  },
  {
   "cell_type": "code",
   "execution_count": 15,
   "metadata": {},
   "outputs": [
    {
     "data": {
      "text/plain": [
       "<matplotlib.legend.Legend at 0x7f21332eca10>"
      ]
     },
     "execution_count": 15,
     "metadata": {},
     "output_type": "execute_result"
    },
    {
     "data": {
      "image/png": "[encoded data removed]",
      "text/plain": [
       "<Figure size 432x288 with 1 Axes>"
      ]
     },
     "metadata": {
      "needs_background": "light"
     },
     "output_type": "display_data"
    }
   ],
   "source": [
    "%matplotlib inline\n",
    "import matplotlib.pyplot as plt\n",
    "\n",
    "# 绘制metrics曲线\n",
    "plt.plot(range(len(V_list)), V_list, label='V')\n",
    "plt.plot(range(len(V_DG_list)), V_DG_list, label='V_DG')\n",
    "plt.plot(range(len(V_DR_list)), V_DR_list, label='V_DR')\n",
    "plt.legend()"
   ]
  },
  {
   "cell_type": "code",
   "execution_count": 16,
   "metadata": {},
   "outputs": [
    {
     "data": {
      "text/plain": [
       "Text(0.5, 1.0, 'Cross entropy between R||G (lambda=0,1)')"
      ]
     },
     "execution_count": 16,
     "metadata": {},
     "output_type": "execute_result"
    },
    {
     "data": {
      "image/png": "[encoded data removed]",
      "text/plain": [
       "<Figure size 432x288 with 1 Axes>"
      ]
     },
     "metadata": {
      "needs_background": "light"
     },
     "output_type": "display_data"
    }
   ],
   "source": [
    "%matplotlib inline\n",
    "import matplotlib.pyplot as plt\n",
    "\n",
    "# 绘制交叉熵对数曲线\n",
    "fig = plt.figure()\n",
    "ax = fig.add_subplot(1, 1, 1)\n",
    "\n",
    "ax.plot(range(len(ce_list[0])), ce_list[0], label='lambda=0')\n",
    "ax.plot(range(len(ce_list[1])), ce_list[1], label='lambda=1')\n",
    "ax.legend()\n",
    "ax.set_yscale('log')\n",
    "ax.set_title('Cross entropy between R||G (lambda=0,1)')"
   ]
  },
  {
   "cell_type": "code",
   "execution_count": 17,
   "metadata": {},
   "outputs": [
    {
     "data": {
      "text/plain": [
       "Text(0.5, 1.0, 'learning rate')"
      ]
     },
     "execution_count": 17,
     "metadata": {},
     "output_type": "execute_result"
    },
    {
     "data": {
      "image/png": "[encoded data removed]",
      "text/plain": [
       "<Figure size 432x288 with 1 Axes>"
      ]
     },
     "metadata": {
      "needs_background": "light"
     },
     "output_type": "display_data"
    }
   ],
   "source": [
    "%matplotlib inline\n",
    "import matplotlib.pyplot as plt\n",
    "\n",
    "# 绘制学习率曲线\n",
    "fig = plt.figure()\n",
    "ax = fig.add_subplot(1, 1, 1)\n",
    "ax.plot(range(len(lr_list)), lr_list, label='lr')\n",
    "ax.legend()\n",
    "ax.set_title('learning rate')"
   ]
  },
  {
   "cell_type": "code",
   "execution_count": 18,
   "metadata": {},
   "outputs": [
    {
     "name": "stdout",
     "output_type": "stream",
     "text": [
      "1¦0000⟩\n",
      "[[1.+0.j]]\n",
      "v_tmp_r ===> 1.0 p ====> (1.0, 0.0)(label = 0)\n",
      "1¦1100⟩\n",
      "[[-1.+0.j]]\n",
      "v_tmp_r ===> -0.9999999999999961 p ====> (1.942890293094024e-15, 0.999999999999998)(label = 1)\n"
     ]
    },
    {
     "name": "stderr",
     "output_type": "stream",
     "text": [
      "/home/ma-user/anaconda3/envs/MindQuantum/lib/python3.7/site-packages/ipykernel/__main__.py:20: ComplexWarning: Casting complex values to real discards the imaginary part\n"
     ]
    }
   ],
   "source": [
    "# 测量R线路的输出\n",
    "def test_R(label):\n",
    "\n",
    "    assert label in [0, 1]\n",
    "    tmp_r = make_mock_R()\n",
    "\n",
    "    lam = label* np.pi\n",
    "    # lam = 0\n",
    "\n",
    "    qs = tmp_r.get_qs(pr={'lambda_R': lam}, ket=True)\n",
    "    print(qs)\n",
    "\n",
    "    h = Hamiltonian(QubitOperator(f\"Z2\"))\n",
    "\n",
    "    grad_func_tmp_r = sim.get_expectation_with_grad(\n",
    "        h, tmp_r, ansatz_params_name=tmp_r.params_name\n",
    "    )\n",
    "    v_tmp_r, g = grad_func_tmp_r(np.array([lam]).astype(np.float32))\n",
    "    print(v_tmp_r)\n",
    "    v_tmp_r = float(v_tmp_r[0][0])\n",
    "    print('v_tmp_r ===> {} p ====> ({}, {})(label = {})'.format(v_tmp_r, (1+v_tmp_r)/2, (1-v_tmp_r)/2,  label))\n",
    "\n",
    "\n",
    "test_R(0)\n",
    "test_R(1)"
   ]
  },
  {
   "cell_type": "code",
   "execution_count": 19,
   "metadata": {},
   "outputs": [
    {
     "name": "stdout",
     "output_type": "stream",
     "text": [
      "p_g ===> (0.9993993607544209,0.000600639245579071) (label = 0)\n",
      "p_g ===> (0.00020902626667806956,0.9997909737333219) (label = 1)\n"
     ]
    },
    {
     "name": "stderr",
     "output_type": "stream",
     "text": [
      "/home/ma-user/anaconda3/envs/MindQuantum/lib/python3.7/site-packages/ipykernel/__main__.py:26: ComplexWarning: Casting complex values to real discards the imaginary part\n"
     ]
    }
   ],
   "source": [
    "# 测量G线路的输出\n",
    "def test_G(label):\n",
    "\n",
    "    assert label in [0, 1]\n",
    "\n",
    "    tmp_g = make_mock_G()\n",
    "\n",
    "    tmp_g_params = []\n",
    "    tmp_g_params_dict = {}\n",
    "    \n",
    "    for i, p in enumerate(tmp_g.params_name):\n",
    "        if 'lambda' in p:\n",
    "            # print('origin p {} ===> {}'.format(p, mock_g_params))\n",
    "            tmp_g_params.append(label * np.pi)\n",
    "            tmp_g_params_dict[p] = label * np.pi\n",
    "        else:\n",
    "            tmp_g_params.append(param_dict[p])\n",
    "            tmp_g_params_dict[p] = param_dict[p]\n",
    "\n",
    "    grad_func_tmp_g = sim.get_expectation_with_grad(\n",
    "        Hamiltonian(QubitOperator(f\"Z2\")), \n",
    "        tmp_g, ansatz_params_name=tmp_g.params_name\n",
    "    )\n",
    "\n",
    "    v_mock_g, g_mock_g = grad_func_tmp_g(np.array(tmp_g_params).astype(np.float32))\n",
    "    v_mock_g = float(v_mock_g[0][0])\n",
    "    p0_g = (1 + v_mock_g)/2\n",
    "    p1_g = 1 - p0_g\n",
    "    print('p_g ===> ({},{}) (label = {})'.format(p0_g, p1_g, label))\n",
    "\n",
    "\n",
    "test_G(label = 0)\n",
    "test_G(label = 1)"
   ]
  },
  {
   "cell_type": "code",
   "execution_count": 15,
   "metadata": {},
   "outputs": [
    {
     "name": "stdout",
     "output_type": "stream",
     "text": [
      "p_d ===> (0.6659937462625751,0.3340062537374249) (label = 0, input= 0)\n"
     ]
    },
    {
     "name": "stderr",
     "output_type": "stream",
     "text": [
      "/home/ma-user/anaconda3/envs/MindQuantum/lib/python3.7/site-packages/ipykernel/__main__.py:28: ComplexWarning: Casting complex values to real discards the imaginary part\n"
     ]
    }
   ],
   "source": [
    "# 测量D的输出\n",
    "def test_D(label, input):\n",
    "\n",
    "    assert label in [0, 1]\n",
    "\n",
    "    tmp_d = make_mock_D()\n",
    "\n",
    "    tmp_d_params = []\n",
    "    tmp_d_params_dict = {}\n",
    "    \n",
    "    for i, p in enumerate(tmp_d.params_name):\n",
    "        if 'lambda' in p:\n",
    "            tmp_d_params.append(label * np.pi)\n",
    "            tmp_d_params_dict[p] = label * np.pi\n",
    "        elif 'input' in p:\n",
    "            tmp_d_params.append(input * np.pi)\n",
    "            tmp_d_params_dict[p] = input * np.pi\n",
    "        else:\n",
    "            tmp_d_params.append(param_dict[p])\n",
    "            tmp_d_params_dict[p] = param_dict[p]\n",
    "\n",
    "    grad_func_tmp_d = sim.get_expectation_with_grad(\n",
    "        Hamiltonian(QubitOperator(f\"Z0\")), \n",
    "        tmp_d, ansatz_params_name=tmp_d.params_name\n",
    "    )\n",
    "\n",
    "    v_mock_d, g_mock_d = grad_func_tmp_d(np.array(tmp_d_params).astype(np.float32))\n",
    "    v_mock_d = float(v_mock_d[0][0])\n",
    "    p0_d = (1 + v_mock_d)/2\n",
    "    p1_d = 1 - p0_d\n",
    "    print('p_d ===> ({},{}) (label = {}, input= {})'.format(p0_d, p1_d, label, input))\n",
    "\n",
    "\n",
    "test_D(label = 0, input = 0)"
   ]
  },
  {
   "cell_type": "code",
   "execution_count": 1,
   "metadata": {},
   "outputs": [],
   "source": [
    "# 收敛的初值\n",
    "\n",
    "# param_dict.update(\n",
    "#     {\n",
    "#       'DR-D_Z_l0_n2': 3.839108863476723,\n",
    "#       'DR-D_ZZ_l0_n0-n1': 4.777260028759172,\n",
    "#       'DR-D_X_l0_n0': 5.790653672801085,\n",
    "#       'DR-D_X_l1_n2': 4.890289986080045,\n",
    "#       'DR-D_ZZ_l2_n0-n1': 5.739603064515961,\n",
    "#       'DR-D_X_l2_n0': 1.0622928776914426,\n",
    "#       'DG-G_X_l0_n2': 0.23961352872866656,\n",
    "#       'DR-D_ZZ_l1_n1-n2': 0.7326745718525026,\n",
    "#       'DR-D_X_l3_n2': 0.19023035643583988,\n",
    "#       'DR-D_X_l2_n1': 4.376391199922374,\n",
    "#       'DR-D_X_l3_n1': 0.8331217111239116,\n",
    "#       'DR-D_Z_l0_n0': 2.7374576515788767,\n",
    "#       'DR-D_ZZ_l0_n1-n2': 0.18680116892150825,\n",
    "#       'DR-D_X_l0_n1': 1.107365031155365,\n",
    "#       'DR-D_Z_l0_n1': 3.8475077450988198,\n",
    "#       'DG-G_ZZ_l0_n2-n3': 4.626278973874565,\n",
    "#       'DG-G_Z_l0_n3': 5.233679738889154,\n",
    "#       'DR-D_Z_l3_n0': 5.257309098897445,\n",
    "#       'lambda_G': 0,\n",
    "#       'DG-G_Z_l0_n2': 3.6901782069736337,\n",
    "#       'DG-G_Z_l1_n2': 6.114840851308679,\n",
    "#       'DR-D_ZZ_l2_n1-n2': 3.4441601272304774,\n",
    "#       'DR-D_Z_l2_n0': 4.1220713730380565,\n",
    "#       'lambda_R': 0,\n",
    "#       'DR-D_ZZ_l3_n0-n1': 0.4136008984580062,\n",
    "#       'DG-G_ZZ_l1_n2-n3': 6.010561286165329,\n",
    "#       'DG-G_Z_l1_n3': 4.089015451178149,\n",
    "#       'DR-D_X_l2_n2': 2.3793163326699953,\n",
    "#       'DR-D_X_l1_n1': 0.98156640874781,\n",
    "#       'DR-D_Z_l1_n2': 4.773696444918468,\n",
    "#       'DR-D_X_l1_n0': 3.367023332046047,\n",
    "#       'DR-D_Z_l1_n0': 3.3623392330320554,\n",
    "#       'DR-D_ZZ_l1_n0-n1': 2.5830706556550065,\n",
    "#       'DG-G_X_l0_n3': 2.65806760184436,\n",
    "#       'DG-G_X_l1_n2': 4.947521272506985,\n",
    "#       'DG-G_X_l1_n3': 2.338147020258475,\n",
    "#       'DR-D_Z_l2_n1': 6.236779678437334,\n",
    "#       'DR-D_Z_l2_n2': 2.5656517742562426,\n",
    "#       'DR-D_Z_l3_n1': 0.4094698589426494,\n",
    "#       'DR-D_Z_l3_n2': 1.5156094633401316,\n",
    "#       'DR-D_X_l3_n0': 5.540799479601808,\n",
    "#       'DR-D_ZZ_l3_n1-n2': 5.4300962237492065,\n",
    "#       'DR-D_X_l0_n2': 3.4658732927244045,\n",
    "#       'DR-D_Z_l1_n1': 1.0172347949810838,\n",
    "#       'lambda_D': 0\n",
    "#   }\n",
    "# )\n",
    "\n",
    "# {'lambda_D': 0, 'DR-D_X_l2_n1': 5.2845332133032095, 'DR-D_Z_l3_n1': 1.9047805336708727, 'DR-D_X_l1_n1': 2.7125911282490383, 'DR-D_X_l3_n1': 5.466778597288312, 'DG-G_Z_l1_n2': 3.313785311344431, 'DR-D_Z_l2_n1': 4.008536070967694, 'DG-G_Z_l1_n3': 4.855070590498995, 'DR-D_Z_l2_n0': 5.372092010743951, 'lambda_R': 0, 'DR-D_Z_l1_n2': 5.294164525681635, 'DR-D_X_l1_n0': 2.7706844294581856, 'DR-D_ZZ_l3_n0-n1': 5.88834940041474, 'DG-G_X_l1_n2': 6.0733718486038, 'DR-D_Z_l1_n1': 0.08421528279279435, 'DG-G_X_l1_n3': 2.6181364679741947, 'DR-D_X_l1_n2': 3.1760320991579034, 'DR-D_X_l0_n1': 0.7917300767290806, 'DR-D_X_l3_n0': 0.15227041190188423, 'DR-D_Z_l0_n0': 5.923912101261675, 'DG-G_X_l0_n2': 5.105686736267702, 'DG-G_ZZ_l1_n2-n3': 1.1858811394453812, 'DR-D_ZZ_l0_n1-n2': 1.086745172416222, 'DR-D_X_l2_n2': 3.1236225751760385, 'DR-D_Z_l1_n0': 5.971895019927827, 'DR-D_Z_l2_n2': 3.5714417233226174, 'DR-D_ZZ_l2_n0-n1': 0.3844559411788957, 'DR-D_Z_l3_n2': 5.28983657440638, 'DR-D_X_l0_n0': 4.00373911426721, 'DR-D_Z_l0_n2': 3.9629689132499446, 'DR-D_ZZ_l1_n1-n2': 2.801659902437118, 'DG-G_ZZ_l0_n2-n3': 0.31376308694679494, 'lambda_G': 0, 'DR-D_ZZ_l2_n1-n2': 3.733324131213021, 'DG-G_Z_l0_n3': 2.239504291574241, 'DR-D_ZZ_l0_n0-n1': 3.2554197912901923, 'DR-D_ZZ_l1_n0-n1': 0.9781647730568624, 'DR-D_Z_l0_n1': 2.1014923776994543, 'DR-D_X_l0_n2': 2.797322699125935, 'DR-D_X_l3_n2': 4.795231927723021, 'DG-G_Z_l0_n2': 1.6163059670788018, 'DR-D_X_l2_n0': 4.715220980079688, 'DR-D_Z_l3_n0': 2.0893715183660984, 'DR-D_ZZ_l3_n1-n2': 4.776326635667237, 'DG-G_X_l0_n3': 2.298702426772755}\n"
   ]
  },
  {
   "cell_type": "code",
   "execution_count": 12,
   "metadata": {},
   "outputs": [
    {
     "data": {
      "text/plain": [
       "<matplotlib.legend.Legend at 0x7f6a24ac8210>"
      ]
     },
     "execution_count": 12,
     "metadata": {},
     "output_type": "execute_result"
    },
    {
     "data": {
      "image/png": "[encoded data removed]",
      "text/plain": [
       "<Figure size 432x288 with 1 Axes>"
      ]
     },
     "metadata": {
      "needs_background": "light"
     },
     "output_type": "display_data"
    }
   ],
   "source": [
    "%matplotlib inline\n",
    "import matplotlib.pyplot as plt\n",
    "\n",
    "\n",
    "# lines = plt.plot(range(len(v_dr_list)), v_dr_list)\n",
    "\n",
    "plt.plot(range(len(v_dr_list)), v_dr_list, label='v_dr')\n",
    "plt.plot(range(len(v_dg_train_d_list)), v_dg_train_d_list, label='v_dg_train_d')\n",
    "plt.plot(range(len(v_dg_train_g_list)), v_dg_train_g_list, label='v_dg_train_g')\n",
    "plt.legend()"
   ]
  },
  {
   "cell_type": "markdown",
   "metadata": {},
   "source": [
    "## 项目总结\n",
    "\n",
    "总结：\n",
    "\n",
    " 1. 可以使用量子线路实现简单的condition GAN \n",
    " 2. 使用论文中的anstza通过训练可以使得G逼近R的CNOT线路 \n",
    " 3. 使用mindquantum框架可以避免原论文中通过搭建线路求取grad的方法，有效简化模型实现难度\n",
    "\n",
    "未来研究方向：\n",
    "\n",
    " 1. 目前在GAN上，量子计算并没有体现出优势来，而且仅能进行简单问题的模拟，未来期望使用QuGAN处理较为复杂的GAN任务，包括漫画脸，超分等等，对比其与传统计算模式的优势；\n",
    " 2. 使用mindspore的MQLayer及成熟的优化方法进行权重学习\n",
    " 3. 尝试使用其他anstza进行训练\n"
   ]
  }
 ],
 "metadata": {
  "kernelspec": {
   "display_name": "MindQuantum",
   "language": "python",
   "name": "mindquantum"
  },
  "language_info": {
   "codemirror_mode": {
    "name": "ipython",
    "version": 3
   },
   "file_extension": ".py",
   "mimetype": "text/x-python",
   "name": "python",
   "nbconvert_exporter": "python",
   "pygments_lexer": "ipython3",
   "version": "3.7.10"
  }
 },
 "nbformat": 4,
 "nbformat_minor": 4
}
