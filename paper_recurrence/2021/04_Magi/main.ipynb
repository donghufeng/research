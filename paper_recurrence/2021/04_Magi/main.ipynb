{
 "cells": [
  {
   "cell_type": "markdown",
   "metadata": {},
   "source": [
    "# Reachability Deficits in Quantum Approximate Optimization\n",
    "\n",
    "## 项目介绍\n",
    "\n",
    "命题逻辑的可满足性问题（SAT）是计算机科学中的核心问题。最大可满足问题（Max-SAT）是 SAT 问题的一个自然的扩展。对于给定的 CNF 公式， Max-SAT 问题的目标是找到一个赋值使其满足最多的析取子句。 Max-SAT 是一个重要的NP-难优化问题。由于人工智能、电路自动设计、统计物理、生物信息学等领域的许多问题都可以转化为 Max-SAT 问题，所以近十年来， Max-SAT 问题引起了越来越多的兴趣和关注。\n",
    "\n",
    "而量子近似优化算法（QAOA）也已迅速成为当代量子计算算法发展的基石。但尽管其应用范围不断扩大，却只有少数研究结果有助于理解该算法的最终局限性。本文发现，当给定近似精度时，与高密度的实例相比，低子句密度的实例所需的 QAOA 电路深度更少。若将临界的 QAOA 深度视为计算成本，电路深度的增加就类似于经典 MAX-SAT 求解器计算资源的需求增加，此时求解器的性能（最佳可能近似值）也会更好。不过，尽管增加深度可以获得更好的近似值，但若固定 QAOA 的深度，其性能（最佳可能近似值）对问题密度 α 的依赖性并不平凡。\n",
    "\n",
    "本实验以变量数 n=6 的 Max-SAT 为例，对于子句密度 α 从 0 至 10 ，随机各产生 100 组合取范式，调用 QAOA 进行优化，并将结果与实际答案计算误差并作图，很好地说明了目标结论。"
   ]
  },
  {
   "cell_type": "markdown",
   "metadata": {},
   "source": [
    "# 复现过程\n",
    "## 安装最新版Minduantum"
   ]
  },
  {
   "cell_type": "markdown",
   "metadata": {},
   "source": [
    "\n",
    "## 导入相关依赖"
   ]
  },
  {
   "cell_type": "code",
   "execution_count": 1,
   "metadata": {},
   "outputs": [
    {
     "name": "stderr",
     "output_type": "stream",
     "text": [
      "[WARNING] ME(142496:139840314537280,MainProcess):2023-10-17-15:18:58.898.116 [mindspore/run_check/_check_version.py:102] MindSpore version 2.1.0 and cuda version 11.8.89 does not match, CUDA version [['10.1', '11.1', '11.6']] are supported by MindSpore officially. Please refer to the installation guide for version matching information: https://www.mindspore.cn/install.\n"
     ]
    }
   ],
   "source": [
    "from mindquantum.core import Circuit, Hamiltonian, QubitOperator\n",
    "from mindquantum.core import UN, H, X, RZ, RX\n",
    "from mindquantum import ParameterResolver as PR\n",
    "from mindquantum.framework import MQAnsatzOnlyLayer\n",
    "from mindquantum.simulator import Simulator\n",
    "import mindspore as ms\n",
    "import mindspore.nn as nn\n",
    "import numpy as np\n",
    "import matplotlib.pyplot as plt\n",
    "import random"
   ]
  },
  {
   "cell_type": "markdown",
   "metadata": {},
   "source": [
    "## 随机生成合取范式\n",
    "\n",
    "对于合取范式中的 m 条析取子句，首先用`random.sample`从 n 个变量中随机选取 k 个（k-SAT问题），再对它们各随机一个 0 或 1 表示对应变量为假或真时不满足条件。当一个析取子句中全部变量均不满足时，意为这个析取子句未被满足，在后文中会产生 1 单位能量作为罚分 penalty 。"
   ]
  },
  {
   "cell_type": "code",
   "execution_count": 2,
   "metadata": {},
   "outputs": [],
   "source": [
    "def random_clauses(n,m,k=3):\n",
    "    s = []\n",
    "    for i in range(m):\n",
    "        l = random.sample(range(n), k)\n",
    "        for j in range(k):\n",
    "            t = random.randint(0, 1)\n",
    "            l[j] += t * n\n",
    "        s += [tuple(l)]\n",
    "    return s"
   ]
  },
  {
   "cell_type": "markdown",
   "metadata": {},
   "source": [
    "## 经典方法计算实际最小值\n",
    "\n",
    "由于哈密尔顿量为一个对角矩阵，因此只需统计对角线上最小值，即对于 n 个变量的 $2^n$ 种取值分别计算罚分 penalty，最小值即为最小的未被满足的子句个数。"
   ]
  },
  {
   "cell_type": "code",
   "execution_count": 3,
   "metadata": {},
   "outputs": [],
   "source": [
    "def calc_minV(n,s,output=False):\n",
    "    if output:\n",
    "        print(\"Perfect answers:\")\n",
    "    ans = len(s)\n",
    "    for cas in range(1<<n):\n",
    "        penalty = 0\n",
    "        for l in s:\n",
    "            satsfied = False\n",
    "            for x in l:\n",
    "                if x < n and cas & (1<<x) != 0 :\n",
    "                    satsfied = True\n",
    "                if x >= n and cas & (1<<(x-n)) == 0 :\n",
    "                    satsfied = True\n",
    "            if not satsfied :\n",
    "                penalty += 1\n",
    "        if penalty == 0 and output:\n",
    "            print(\"  {:0>6}\".format(str(bin(cas))[2:]))\n",
    "        ans = min(ans, penalty)\n",
    "    return ans"
   ]
  },
  {
   "cell_type": "markdown",
   "metadata": {},
   "source": [
    "## 搭建量子参数线路\n",
    "\n",
    "这里我们采用量子绝热近似算法，经过演化将量子态从 $X^{\\otimes n}$ 的本征态 $|+\\rangle ^{\\otimes n} $ 演化到合取范式对应哈密尔顿量的基态。\n",
    "\n",
    "深度为 p 的线路将有 2p 个参数待优化。"
   ]
  },
  {
   "cell_type": "code",
   "execution_count": 4,
   "metadata": {},
   "outputs": [],
   "source": [
    "def build_ansatz(n,s,p):\n",
    "    c = UN(H, n)                  # 将|0>生成均匀态\n",
    "    for i in range(p):\n",
    "        c += build_Ug(n, s, i)    # 搭建对应哈密顿量的含时演化线路\n",
    "        c += build_Ub(n, i)       # 搭建 X^n 的含时演化线路\n",
    "    return c"
   ]
  },
  {
   "cell_type": "markdown",
   "metadata": {},
   "source": [
    "### 搭建对应哈密顿量的含时演化线路："
   ]
  },
  {
   "cell_type": "code",
   "execution_count": 5,
   "metadata": {},
   "outputs": [],
   "source": [
    "def build_Ug(n,s,d,k=3):\n",
    "    gd = f'g{d}'\n",
    "    c = Circuit()\n",
    "    for l in s:\n",
    "        # 0 ~ n-1  means penalty on 0 (needed flipping)\n",
    "        # n ~ 2n-1 means penalty on 1\n",
    "        for x in l:\n",
    "            if x < n:\n",
    "                c += X.on(x)\n",
    "        ll = [x%n for x in l]\n",
    "        for j in range(k):\n",
    "            c += RZ(PR({gd: 0.5**j})).on(ll[k-1-j], ll[:k-1-j])\n",
    "        for x in l:\n",
    "            if x < n:\n",
    "                c += X.on(x)\n",
    "    return c"
   ]
  },
  {
   "cell_type": "markdown",
   "metadata": {},
   "source": [
    "### 搭建 $X^{\\otimes n}$ 的含时演化线路："
   ]
  },
  {
   "cell_type": "code",
   "execution_count": 6,
   "metadata": {},
   "outputs": [],
   "source": [
    "def build_Ub(n,d):\n",
    "    bd = f'b{d}'\n",
    "    c = Circuit()\n",
    "    for i in range(n):\n",
    "        c += RX(bd).on(i)\n",
    "    return c"
   ]
  },
  {
   "cell_type": "markdown",
   "metadata": {},
   "source": [
    "## 构建对应的哈密顿量"
   ]
  },
  {
   "cell_type": "code",
   "execution_count": 7,
   "metadata": {},
   "outputs": [],
   "source": [
    "def build_ham(n,s):\n",
    "    ham = QubitOperator()\n",
    "    for l in s:\n",
    "        mono = QubitOperator('')\n",
    "        for x in l:\n",
    "            mono *= (QubitOperator('') + QubitOperator(f'Z{x%n}', (-1)**(x//n))) / 2\n",
    "        ham += mono\n",
    "    return ham"
   ]
  },
  {
   "cell_type": "markdown",
   "metadata": {},
   "source": [
    "## 搭建待训练的神经网络\n",
    "由于该问题不需要编码层量子线路，我们这里使用MindQuantumAnsatzOnlyLayer作为待训练的量子神经网络，并采用Adam优化器。\n",
    "\n",
    "以下使用深度 p=15 ，变量数 n=6 ，析取子句数 m=25 时的情况作为演示实例，随机种子依复现要求设置为 42。"
   ]
  },
  {
   "cell_type": "code",
   "execution_count": 8,
   "metadata": {},
   "outputs": [
    {
     "name": "stdout",
     "output_type": "stream",
     "text": [
      "s= [(11, 0, 4), (7, 0, 4), (0, 1, 10), (1, 3, 8), (2, 11, 1), (6, 9, 11), (6, 3, 11), (5, 4, 2), (5, 1, 2), (9, 2, 11), (2, 1, 5), (7, 3, 10), (6, 7, 11), (0, 7, 8), (11, 3, 1), (11, 10, 8), (1, 5, 3), (1, 11, 9), (4, 3, 8), (11, 8, 0), (3, 0, 8), (5, 10, 1), (10, 11, 0), (0, 2, 4), (10, 0, 5)]\n",
      "Perfect answers:\n",
      "  001100\n",
      "  001101\n",
      "  001111\n",
      "  011011\n",
      "  011111\n"
     ]
    }
   ],
   "source": [
    "random.seed(42)\n",
    "p = 15\n",
    "n = 6\n",
    "m = 25\n",
    "s = random_clauses(n, m)\n",
    "print(\"s=\",s)\n",
    "minV = calc_minV(n, s, True)\n",
    "ham = Hamiltonian(build_ham(n, s))\n",
    "circ = build_ansatz(n, s, p)\n",
    "ms.context.set_context(mode=ms.context.PYNATIVE_MODE, device_target=\"CPU\")\n",
    "sim = Simulator('mqvector', n)\n",
    "grad_ops = sim.get_expectation_with_grad(ham, circ)"
   ]
  },
  {
   "cell_type": "markdown",
   "metadata": {},
   "source": [
    "## 对神经网络进行训练\n",
    "\n",
    "### 使得训练次数与线路深度 p 成正比的训练方案："
   ]
  },
  {
   "cell_type": "code",
   "execution_count": 9,
   "metadata": {},
   "outputs": [
    {
     "name": "stdout",
     "output_type": "stream",
     "text": [
      "error = 2.6135623455047607\n",
      "error = 1.8536348342895508\n",
      "error = 1.2705696821212769\n",
      "error = 1.0467946529388428\n",
      "error = 1.0467946529388428\n",
      "error = 0.8731071949005127\n",
      "error = 0.6877385377883911\n",
      "\n",
      "The Best Parameters:\n",
      "(-0.003800812751574335-0.03292389933193925j)¦000000⟩\n",
      "(-0.013479754682746524-0.0240747175888959j)¦000001⟩\n",
      "(-0.017482729041334005-0.011594582465241332j)¦000010⟩\n",
      "(-0.16452589449888294+0.09680054680065624j)¦000011⟩\n",
      "(-0.03731001602478453-0.03404519674769549j)¦000100⟩\n",
      "(-0.06970943459226375-0.08449624286606718j)¦000101⟩\n",
      "(-0.03531310685033902-0.034123622477014615j)¦000110⟩\n",
      "(-0.14588884551412507-0.06550398574825596j)¦000111⟩\n",
      "(-0.03318545311966-0.032637874856762415j)¦001000⟩\n",
      "(-0.04711541874597405-0.09723292932001278j)¦001001⟩\n",
      "(-0.03494458335796749-0.033758183052172035j)¦001010⟩\n",
      "(-0.23172533081400534-0.09978475497573133j)¦001011⟩\n",
      "(-0.0929646259317471+0.05813668015110448j)¦001100⟩\n",
      "(-0.28057595194017276-0.013475516093823123j)¦001101⟩\n",
      "(-0.03825784794173871-0.08308373175241772j)¦001110⟩\n",
      "(-0.4367548326102698-0.20921833386632616j)¦001111⟩\n",
      "(-0.0015005749665609005+0.004097763882652334j)¦010000⟩\n",
      "(-0.0012004447946788177-0.013363064062666689j)¦010001⟩\n",
      "(-0.03691437952744015+0.04705388212037503j)¦010010⟩\n",
      "(-0.191471373061619+0.016183006363904514j)¦010011⟩\n",
      "(-0.007700365964376019-0.020039064137634205j)¦010100⟩\n",
      "(-0.002256773137749238-0.04217039876913772j)¦010101⟩\n",
      "(-0.04293137315766871+0.0016641399911110234j)¦010110⟩\n",
      "(-0.1178996441238283-0.055353313201450385j)¦010111⟩\n",
      "(-0.03467140171529385-0.0008821270756812923j)¦011000⟩\n",
      "(-0.043580725812880874-0.09408803564417406j)¦011001⟩\n",
      "(-0.07852218163588855+0.07012880702568537j)¦011010⟩\n",
      "(-0.38063563323840544-0.11871893297500524j)¦011011⟩\n",
      "(-0.06979933224557573-0.021955955371927245j)¦011100⟩\n",
      "(-0.06570883611903408-0.05205367820549083j)¦011101⟩\n",
      "(-0.027088076361166846-0.08167962955280288j)¦011110⟩\n",
      "(-0.352598671013936-0.21641277550991556j)¦011111⟩\n",
      "(0.008750522725981025+0.0006266379459496872j)¦100000⟩\n",
      "(0.06371170060730888+0.03166374999975364j)¦100001⟩\n",
      "(0.021530741163711543+0.052710692737821314j)¦100010⟩\n",
      "(0.016982488754272024+0.11096806426039582j)¦100011⟩\n",
      "(0.010059223883493553-0.005255333295757232j)¦100100⟩\n",
      "(0.018598147997752466+0.014604969002264285j)¦100101⟩\n",
      "(0.009218773022183095+0.016565765771940827j)¦100110⟩\n",
      "(-0.029559505162457228+0.0324798606309019j)¦100111⟩\n",
      "(-0.0024162653166119588-0.011899062039966924j)¦101000⟩\n",
      "(0.043668969908187256+0.01811454833158255j)¦101001⟩\n",
      "(0.008494657165415153+0.025933503946018475j)¦101010⟩\n",
      "(-0.010837239324724066+0.03698926511982464j)¦101011⟩\n",
      "(-0.03396769335671988-0.0119058052124702j)¦101100⟩\n",
      "(0.007037696851357974+0.01885528711140142j)¦101101⟩\n",
      "(-0.003813029298492712+0.005085345440980457j)¦101110⟩\n",
      "(0.010495671357573476-0.010966983585439342j)¦101111⟩\n",
      "(0.0018809045194805242+0.035579913663149804j)¦110000⟩\n",
      "(0.07097949447610274+0.003178063220641155j)¦110001⟩\n",
      "(0.04336700890217006+0.08515516889587257j)¦110010⟩\n",
      "(-0.0033599678343469784+0.060807883200422526j)¦110011⟩\n",
      "(0.0077775941142240864+0.008161099355541669j)¦110100⟩\n",
      "(0.02974343701916641+0.005284927415432344j)¦110101⟩\n",
      "(0.00385480421106962+0.026277156387756833j)¦110110⟩\n",
      "(-0.033549402783863994+0.007858845816873489j)¦110111⟩\n",
      "(-0.006300194714501714+0.02827931125176899j)¦111000⟩\n",
      "(0.04216422972163292-0.005595254887689187j)¦111001⟩\n",
      "(0.042195525104335135+0.07570006681615125j)¦111010⟩\n",
      "(-0.034563540077585615-0.01481937718034685j)¦111011⟩\n",
      "(-0.010281667430096484-0.004154781511251408j)¦111100⟩\n",
      "(0.043134069345098995+0.011753846143700643j)¦111101⟩\n",
      "(0.009540818777787194+0.012333247125591005j)¦111110⟩\n",
      "(-0.016416169966782152-0.059082185124435936j)¦111111⟩\n"
     ]
    }
   ],
   "source": [
    "net = MQAnsatzOnlyLayer(grad_ops)\n",
    "opti = nn.Adam(net.trainable_params(), learning_rate=0.05)\n",
    "train_net = nn.TrainOneStepCell(net, opti)\n",
    "err = train_net().asnumpy()[0]\n",
    "for __ in range(p//2):\n",
    "    err = min(err, train_net().asnumpy()[0])\n",
    "    print(\"error =\", err-minV)\n",
    "err -= minV\n",
    "pr = dict(zip(circ.params_name, net.weight.asnumpy()))\n",
    "state = circ.get_qs(pr=pr, ket=True)\n",
    "print(\"\\nThe Best Parameters:\", state, sep='\\n')"
   ]
  },
  {
   "cell_type": "markdown",
   "metadata": {},
   "source": [
    "### 不断训练直至收敛的训练方案："
   ]
  },
  {
   "cell_type": "code",
   "execution_count": 10,
   "metadata": {},
   "outputs": [
    {
     "name": "stdout",
     "output_type": "stream",
     "text": [
      "error = 2.8112621307373047\n",
      "error = 1.6182968616485596\n",
      "error = 1.1701784133911133\n",
      "error = 1.214866042137146\n",
      "error = 1.431679368019104\n",
      "error = 1.5053266286849976\n",
      "error = 1.4055665731430054\n",
      "error = 1.1724367141723633\n",
      "error = 0.8564793467521667\n",
      "error = 0.5668161511421204\n",
      "error = 0.4785301387310028\n",
      "error = 0.6034889817237854\n",
      "error = 0.6782981753349304\n",
      "error = 0.5848295092582703\n",
      "error = 0.4373302161693573\n",
      "error = 0.3556373417377472\n",
      "error = 0.34338614344596863\n",
      "error = 0.3527950346469879\n",
      "error = 0.3560943901538849\n",
      "error = 0.3419099748134613\n",
      "error = 0.30849823355674744\n",
      "error = 0.2696271240711212\n",
      "error = 0.24387051165103912\n",
      "error = 0.23714901506900787\n",
      "error = 0.24091731011867523\n",
      "error = 0.24052539467811584\n",
      "error = 0.22637012600898743\n",
      "error = 0.20116227865219116\n",
      "error = 0.17715586721897125\n",
      "error = 0.16549459099769592\n",
      "error = 0.16651128232479095\n",
      "error = 0.1696980595588684\n",
      "error = 0.16372154653072357\n",
      "error = 0.14674954116344452\n",
      "error = 0.12746624648571014\n",
      "error = 0.11657681316137314\n",
      "error = 0.11693286895751953\n",
      "error = 0.12178291380405426\n",
      "error = 0.12259674072265625\n",
      "error = 0.11728470027446747\n",
      "error = 0.11028464138507843\n",
      "error = 0.10626019537448883\n",
      "error = 0.10509944707155228\n",
      "error = 0.10284232348203659\n",
      "error = 0.09650034457445145\n",
      "error = 0.08736720681190491\n",
      "error = 0.07974180579185486\n",
      "error = 0.07669071853160858\n",
      "error = 0.07721704989671707\n",
      "error = 0.07765716314315796\n",
      "error = 0.07552069425582886\n",
      "error = 0.07150216400623322\n",
      "error = 0.06794556230306625\n",
      "error = 0.06606054306030273\n",
      "error = 0.06503376364707947\n",
      "error = 0.06353137642145157\n",
      "error = 0.06140301376581192\n",
      "error = 0.059652481228113174\n",
      "error = 0.059061210602521896\n",
      "\n",
      "The Best Parameters:\n",
      "(0.005061956270383216+0.003471373663724537j)¦000000⟩\n",
      "(-0.01374112819827997-0.0036539208537733976j)¦000001⟩\n",
      "(-0.005590344192747865-0.004651399081411682j)¦000010⟩\n",
      "(-0.08001233393666161+0.09844652039565699j)¦000011⟩\n",
      "(0.00732033157934285+0.012618859423910844j)¦000100⟩\n",
      "(-0.0038422742270240707+0.013912017184708516j)¦000101⟩\n",
      "(0.003094730559938024+0.015164916432448789j)¦000110⟩\n",
      "(-0.039075098594155915+0.03872131645289679j)¦000111⟩\n",
      "(0.023037963844598837+0.00839808872269382j)¦001000⟩\n",
      "(0.002528251090102878+0.0003213677894791105j)¦001001⟩\n",
      "(0.0005434276171990378+0.017160484834111003j)¦001010⟩\n",
      "(-0.02197782614424884-0.04189240049763253j)¦001011⟩\n",
      "(0.07555618647102826-0.14251688644421243j)¦001100⟩\n",
      "(0.16911437387495776-0.27226618398490304j)¦001101⟩\n",
      "(-0.005022581503818629-0.012199567093880386j)¦001110⟩\n",
      "(0.14623144898424809-0.5434624830959964j)¦001111⟩\n",
      "(-0.0017123485242199657-0.0013809431553970612j)¦010000⟩\n",
      "(0.001209008743890564+0.00047419708204653096j)¦010001⟩\n",
      "(0.004489359586713799+0.013958923999575424j)¦010010⟩\n",
      "(-0.03480584964985782-0.009941582135543074j)¦010011⟩\n",
      "(-0.0009905835653321404+0.0009327326033096136j)¦010100⟩\n",
      "(-0.003036679671114143-0.0027487538305536663j)¦010101⟩\n",
      "(0.00913436663241217+0.018836350099204195j)¦010110⟩\n",
      "(-0.009743094008328006+0.02098465388105904j)¦010111⟩\n",
      "(-0.01067724546422928-0.005421060541833697j)¦011000⟩\n",
      "(0.006834040745095126+0.003279964162937165j)¦011001⟩\n",
      "(0.04055902902723859+1.822696542592769e-05j)¦011010⟩\n",
      "(0.11437520751587103-0.5015667526542982j)¦011011⟩\n",
      "(-0.00835933576293381+0.011614752829051452j)¦011100⟩\n",
      "(0.05996245594856902-0.03067974888298848j)¦011101⟩\n",
      "(0.0033922511479799492+0.00935684414726196j)¦011110⟩\n",
      "(0.16982484406918258-0.47078591501234657j)¦011111⟩\n",
      "(-0.008391971267905385+0.0036207646738959185j)¦100000⟩\n",
      "(-0.008598846129464136+0.01150044652365613j)¦100001⟩\n",
      "(-0.00834298997842943+0.0026263214189376303j)¦100010⟩\n",
      "(-0.026622358917605535+0.015105842749823814j)¦100011⟩\n",
      "(-0.0047774713921326555+0.0020755963606866002j)¦100100⟩\n",
      "(-0.009962237392308225-0.00893916396859246j)¦100101⟩\n",
      "(-0.0022423631553558027-0.0007969713065412896j)¦100110⟩\n",
      "(0.001885720202921706-0.0018047691185299215j)¦100111⟩\n",
      "(0.00433501049666542-0.0017017253893446978j)¦101000⟩\n",
      "(-0.007211835307161123-0.010891355247845097j)¦101001⟩\n",
      "(-0.005600232790047745-0.00470457204337717j)¦101010⟩\n",
      "(0.003856852169412776+0.006712696059743737j)¦101011⟩\n",
      "(0.0022948849739735343+0.010219851905131508j)¦101100⟩\n",
      "(-0.003454797544765128-0.015404162576587652j)¦101101⟩\n",
      "(0.002255384683399188-0.002326445995311053j)¦101110⟩\n",
      "(0.037801365265779+0.015283180106542239j)¦101111⟩\n",
      "(0.003290719771543736+0.006598155096203658j)¦110000⟩\n",
      "(0.004386087472936059+0.01601970258972886j)¦110001⟩\n",
      "(-0.00012373239232034623+0.01903222299635222j)¦110010⟩\n",
      "(0.004689970630468949-0.013908922222756383j)¦110011⟩\n",
      "(-0.0017193654459191654+0.0002087843940147087j)¦110100⟩\n",
      "(-0.003109069726013518-0.006216712232199616j)¦110101⟩\n",
      "(-0.00430223296010216-0.0024073001404440646j)¦110110⟩\n",
      "(0.009195846021069584-0.0028990321328574856j)¦110111⟩\n",
      "(1.0545071843325927e-05-0.004704627451924078j)¦111000⟩\n",
      "(-0.013972143197873049-0.017835106348101266j)¦111001⟩\n",
      "(-0.0022426222661500496+0.012854870261000342j)¦111010⟩\n",
      "(0.016804967944312993+0.015162934248795171j)¦111011⟩\n",
      "(-0.00034212560659297136-0.000484030281826076j)¦111100⟩\n",
      "(0.016160964364978048-0.001646373955821726j)¦111101⟩\n",
      "(-0.013093329555593503-0.001344623830859752j)¦111110⟩\n",
      "(0.0015842809998856955+0.013901438760563795j)¦111111⟩\n"
     ]
    }
   ],
   "source": [
    "net = MQAnsatzOnlyLayer(grad_ops)\n",
    "opti = nn.Adam(net.trainable_params(), learning_rate=0.05)\n",
    "train_net = nn.TrainOneStepCell(net, opti)\n",
    "lst = train_net().asnumpy()[0]\n",
    "while True:\n",
    "    err = train_net().asnumpy()[0]\n",
    "    print(\"error =\", err-minV)\n",
    "    if lst > err and lst - err < 0.001 :\n",
    "        break\n",
    "    lst = min(lst, err)\n",
    "err -= minV\n",
    "pr = dict(zip(circ.params_name, net.weight.asnumpy()))\n",
    "state = circ.get_qs(pr=pr, ket=True)\n",
    "print(\"\\nThe Best Parameters:\", state, sep='\\n')"
   ]
  },
  {
   "cell_type": "markdown",
   "metadata": {},
   "source": [
    "## 对最终结果作图验证"
   ]
  },
  {
   "cell_type": "code",
   "execution_count": 11,
   "metadata": {},
   "outputs": [
    {
     "name": "stdout",
     "output_type": "stream",
     "text": [
      "\n",
      "The largest amplitude is on |001111>\n",
      "\n"
     ]
    },
    {
     "data": {
      "image/png": "[encoded data removed]",
      "text/plain": [
       "<Figure size 640x480 with 1 Axes>"
      ]
     },
     "metadata": {},
     "output_type": "display_data"
    }
   ],
   "source": [
    "import matplotlib.pyplot as plt\n",
    "def show_amp(amp):\n",
    "    n_qubits = int(np.log2(len(amp)))\n",
    "    labels = [bin(i)[2:].zfill(n_qubits) for i in range(len(amp))]\n",
    "    plt.bar(labels, amp)\n",
    "    plt.xticks(rotation=45)\n",
    "    plt.show()\n",
    "\n",
    "state = circ.get_qs(pr=pr)\n",
    "amp = np.abs(state)**2\n",
    "print(f\"\\nThe largest amplitude is on |{bin(np.argmax(amp))[2:]:0>6}>\\n\")\n",
    "show_amp(amp)"
   ]
  },
  {
   "cell_type": "markdown",
   "metadata": {},
   "source": [
    "# 统计结果\n",
    "\n",
    "原文章中其实并未提及其 QAOA 具体实现细节，因此在本次复现过程中，笔者尝试了四种迭代调用神经网络的方案：\n",
    "\n",
    "### 固定地调用一定次数\n",
    "\n",
    "由于更深的电路有更多的参数待优化，因此适合较浅电路的迭代次数并不适合较深电路，会导致较深电路由于未开始收敛而表现较差，没有研究意义。由于在笔者采样初期便发现了这一情况，故没有消耗算力将具体图像做出。\n",
    "\n"
   ]
  },
  {
   "cell_type": "markdown",
   "metadata": {},
   "source": [
    "### 调用次数与电路深度 p 正比例相关（`max_3_sat_p.py`）\n",
    "\n",
    "由于更深的电路有更多的参数待优化，因此应该也需要更多的迭代次数才能收敛。\n",
    "\n",
    "当调用次数为 $\\lceil \\frac{p}2 \\rceil$ 时，对每组 (p,n,m) 随机取样 100 次得到的误差棒图如下："
   ]
  },
  {
   "cell_type": "code",
   "execution_count": 12,
   "metadata": {},
   "outputs": [
    {
     "data": {
      "image/png": "[encoded data removed]",
      "text/plain": [
       "<Figure size 640x480 with 1 Axes>"
      ]
     },
     "metadata": {},
     "output_type": "display_data"
    }
   ],
   "source": [
    "from src.show import show_all_p\n",
    "show_all_p()"
   ]
  },
  {
   "cell_type": "markdown",
   "metadata": {},
   "source": [
    "本图是与论文原文最接近的一张图。\n",
    "\n",
    "可以看出，**随着子句密度的增加，三种电路深度的 QAOA 与标准答案的误差值均在增加，且与子句密度 α 的依赖关系并不平凡**。\n",
    "\n",
    "同时，在此图中也可以看出，**电路深度的增加有助于减少误差值，得到更接近实际最优值的答案**。\n",
    "\n",
    "\n",
    "### 调用次数与电路深度 p 和子句密度 α 均正相关（`max_3_sat_pa.py`）\n",
    "\n",
    "由于 α 表征了解决问题的难度，即 α 越大，在解空间中寻找最优解越难，因此笔者也尝试了将 α 考虑进迭代次数。\n",
    "\n",
    "当 α 取值从 0 到 10 变化时，希望其迭代次数在 $\\lceil \\frac p2 \\rceil$ 基础上乘以一个从 1 到 1.5 变化的因子，\n",
    "此时调用次数为 $ \\lceil \\frac p2 \\times (1+ \\frac{\\alpha}{20})\\rceil$ 。\n",
    "\n",
    "对每组 (p,n,m) 随机取样 100 次得到的误差棒图如下："
   ]
  },
  {
   "cell_type": "code",
   "execution_count": 13,
   "metadata": {},
   "outputs": [
    {
     "data": {
      "image/png": "[encoded data removed]",
      "text/plain": [
       "<Figure size 640x480 with 1 Axes>"
      ]
     },
     "metadata": {},
     "output_type": "display_data"
    }
   ],
   "source": [
    "from src.show import show_all_pa\n",
    "show_all_pa()"
   ]
  },
  {
   "cell_type": "markdown",
   "metadata": {},
   "source": [
    "在本图中，对于固定深度的 QAOA 电路，其误差值随子句密度的变化较前一种方案更为波动。\n",
    "\n",
    "但依然可以看出，**电路深度的增加有助于减少误差值，得到更接近实际最优值的答案**。"
   ]
  },
  {
   "cell_type": "markdown",
   "metadata": {},
   "source": [
    "### 不断训练直至收敛（`max_3_sat_conv.py`）\n",
    "\n",
    "如前文实例代码所示，此种方案通常需要较多的迭代次数，实在过于消耗算力（估计全部采样完成需要上百小时），因此没有具体对所有 (p,n,m) 均做 100 次采样。但就笔者对部分 m 的取值采样结果来看，电路深度对最佳可能近似值的影响非常小，猜测或许是由于该哈密顿算子作为对角矩阵所具有的线性性质导致。\n",
    "\n",
    "在此种方案下，**结果误差远小于原论文中误差**，并且能够全部小于 1。"
   ]
  },
  {
   "cell_type": "code",
   "execution_count": 14,
   "metadata": {},
   "outputs": [
    {
     "data": {
      "image/png": "[encoded data removed]",
      "text/plain": [
       "<Figure size 640x480 with 1 Axes>"
      ]
     },
     "metadata": {},
     "output_type": "display_data"
    }
   ],
   "source": [
    "from src.show import show_all_conv\n",
    "show_all_conv()"
   ]
  },
  {
   "cell_type": "markdown",
   "metadata": {},
   "source": [
    "# 总结\n",
    "\n",
    "本次复现中，不仅达到了与论文原图较为贴近的效果，还同时设计了多种迭代方案也得到了相近的结论。另外，笔者认为，由于我们的 Max-SAT 问题背景已经决定了**最优结果必为整数**，所以在此先验知识下，调用者完全可以采用 QAOA 优化得到的最优值向下取整作为实际答案。若采用`max_3_sat_conv.py`迭代直至收敛的方案，则在取样中 QAOA 优化得到的最优值与实际最优值之差**完全小于 1** ，即向下取整完全可以得到正确答案，相比原论文中误差可能大于 1 的情形，其优化效果是从量变到质变的。"
   ]
  }
 ],
 "metadata": {
  "kernelspec": {
   "display_name": "base",
   "language": "python",
   "name": "python3"
  },
  "language_info": {
   "codemirror_mode": {
    "name": "ipython",
    "version": 3
   },
   "file_extension": ".py",
   "mimetype": "text/x-python",
   "name": "python",
   "nbconvert_exporter": "python",
   "pygments_lexer": "ipython3",
   "version": "3.9.13"
  }
 },
 "nbformat": 4,
 "nbformat_minor": 4
}
