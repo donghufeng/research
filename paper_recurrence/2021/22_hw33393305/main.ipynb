{
 "cells": [
  {
   "cell_type": "markdown",
   "metadata": {},
   "source": [
    "# Blind quantum machine learning based on quantum circuit model\n",
    "\n",
    "复现作者：周旭\n",
    "\n",
    "华为云账号：hw33393305\n",
    "\n",
    "邮箱地址：zhouxu39@huawei.com\n",
    "\n",
    "## 项目介绍\n",
    "\n",
    "### 文章基本信息\n",
    "\n",
    "我要复现的是2021年11月1日在《Quantum Information Processing》上发表的论文，文章题目为“Blind quantum machine learning based on quantum circuit model”，文章作者为Xu Zhou和Daowen Qiu。\n",
    "\n",
    "### 文章摘要\n",
    "\n",
    "Blind quantum machine learning (BQML) is a novel secure quantum computation protocol that enables a client (Alice), who has limited quantum technology at her disposal, to delegate her quantum machine learning to a remote quantum server (Bob) who owns a fully-fledged quantum computer and promises to execute the learning task honestly, in such a way that Bob cannot obtain Alice's private information. In this paper, we first propose the concept of BQML that combines blind quantum computation and quantum machine learning and we devise two BQML protocols based on quantum circuit model in which Alice can classify vectors of any dimension to different clusters. The first protocol is half-blind, while the second is blind. It means Alice's privacy can be protected. On the other hand, Alice is only required to possess a quantum random access memory (QRAM), apply the Pauli operators ($X$ and $Z$), store, send, receive qubits and perform measurements in our protocols. Finally, we analyze the security, blindness and correctness of our protocols, and give a brief conclusion.\n",
    "\n",
    "### 文章的主要思路\n",
    "\n",
    "（1）考虑机器学习中一个实际任务————将向量分类到不同的簇；\n",
    "\n",
    "（2）根据“similarity measure”将一个新向量分类$\\vec{u}$分到簇$A$或者簇$B$，而“similarity measure”的其中一个度量就是计算两个向量的欧几里得距离；\n",
    "\n",
    "（3）计算两个向量的欧几里得距离可以转化成求这两个向量的内积；\n",
    "\n",
    "（4）当向量的维度很高的时候，经典计算机计算两个向量的内积将是一个很棘手的问题，然而通过量子计算中的Swap Test却能很高效地计算该任务；\n",
    "\n",
    "（5）未来量子计算机的应用将会以“云”的模式被用户使用，因此客户需要分发自己的量子机器学习任务给量子计算服务器，同时保护自己数据的隐私；\n",
    "\n",
    "（6）根据分别计算得到的$D_A = \\| \\vec{u} - \\vec{v_A} \\|$和$D_B = \\| \\vec{u} - \\vec{v_B} \\|$，将$u$分到距离更小的一簇，其中$\\vec{v_A}$和$\\vec{v_B}$分别是簇$A$和簇$B$的参考向量。\n",
    "\n",
    "### 文章的三个假设\n",
    "\n",
    "（1）文章中的提到的向量都是实且非负的；\n",
    "\n",
    "（2）文章中的量子信道都是理想信道，即没有误差；\n",
    "\n",
    "（3）客户Alice拥有基本的量子能力：拥有QRAM（制备向量对应的量子态），可以执行$X$和$Z$操作，储存、发送、接收和测量量子比特。\n",
    "\n",
    "### 复现目标\n",
    "\n",
    "我将通过MindQuantum验证：\n",
    "\n",
    "（1）论文中的Fig1可以计算2个2维向量$\\vec{u}$和$\\vec{v}$的欧几里得距离；\n",
    "\n",
    "（2）论文中的Fig2-Fig6和Fig9（`H` gate, `Fredkin` gate, `CNOT` gate, `CZ` gate, `SWAP` gate，`Toffoli` gate）的线路正确性；\n",
    "\n",
    "（3）论文中的Fig7可以计算2个16维向量$\\vec{u}$和$\\vec{v}$的欧几里得距离（即$n=4$的情况）；\n",
    "\n",
    "（4）论文中的Fig8和Fig10的线路等价性；\n",
    "\n",
    "（5）论文中的Fig11的线路正确性；\n",
    "\n",
    "（6）论文中的Fig12（$n=4$的情况），即在Fig7的基础上保密计算2个16维向量$\\vec{u}$和$\\vec{v}$的欧几里得距离。"
   ]
  },
  {
   "cell_type": "markdown",
   "metadata": {},
   "source": [
    "## 复现过程\n",
    "\n",
    "下面，我将根据复现目标，通过MindQuantum复现该文章的主要结果。"
   ]
  },
  {
   "cell_type": "markdown",
   "metadata": {},
   "source": [
    "### 环境准备，导入模拟器所需要的包。"
   ]
  },
  {
   "cell_type": "code",
   "execution_count": 1,
   "metadata": {},
   "outputs": [
    {
     "name": "stderr",
     "output_type": "stream",
     "text": [
      "[WARNING] ME(828455:140613216904512,MainProcess):2023-10-17-18:54:53.543.43 [mindspore/run_check/_check_version.py:102] MindSpore version 2.1.0 and cuda version 11.8.89 does not match, CUDA version [['10.1', '11.1', '11.6']] are supported by MindSpore officially. Please refer to the installation guide for version matching information: https://www.mindspore.cn/install.\n"
     ]
    }
   ],
   "source": [
    "from mindquantum import *\n",
    "import numpy as np\n",
    "from numpy import random"
   ]
  },
  {
   "cell_type": "markdown",
   "metadata": {},
   "source": [
    "### 通过MindQuantum验证（1）论文中的Fig1可以计算2个2维向量$\\vec{u}$和$\\vec{v}$的欧几里得距离；"
   ]
  },
  {
   "cell_type": "markdown",
   "metadata": {},
   "source": [
    "首先，文中提到，任意向量可以表示成$\\vec{x} = \\|\\vec{x}\\||x\\rangle$，那么2维向量$\\vec{u}$和$\\vec{v}$的欧几里得距离的计算如下：\n",
    "\n",
    "\n",
    "\\begin{eqnarray}\n",
    "  D &=& \\|\\vec{u}-\\vec{v}\\| = \\|\\|\\vec{u}\\||u\\rangle-\\|\\vec{v}\\||v\\rangle\\| \\nonumber \\\\\n",
    "    &=& \\sqrt{(\\|\\vec{u}\\|\\langle u|-\\|\\vec{v}\\|\\langle v|)\\cdot(\\|\\vec{u}\\||u\\rangle-\\|\\vec{v}\\||v\\rangle)} \\nonumber \\\\\n",
    "    &=&  \\sqrt{\\|\\vec{u}\\|^2 + \\|\\vec{v}\\|^2 - 2\\|\\vec{u}\\|\\|\\vec{v}\\|\\langle u|v\\rangle}.\n",
    "\\end{eqnarray}\n",
    "\n",
    "因此，计算两个向量的欧几里得距离可以转化成求这两个向量的内积（因为模长和对应的量子态可以通过QRAM得到）。\n",
    "\n",
    "我将通过具体的例子来验证。\n",
    "\n",
    "首先，随机生成2个实且非负的2维向量$\\vec{u}$和$\\vec{v}$，然后，计算向量$\\vec{u}$和$\\vec{v}$对应的量子态$|u\\rangle$和$|v\\rangle$的$\\langle u|v\\rangle$，最后得到期望得到的欧几里得距离。"
   ]
  },
  {
   "cell_type": "code",
   "execution_count": 2,
   "metadata": {},
   "outputs": [
    {
     "name": "stdout",
     "output_type": "stream",
     "text": [
      "向量u为 [5 6] ，向量v为 [8 6]\n"
     ]
    }
   ],
   "source": [
    "# 为了便于复现，设定生成随机数的种子\n",
    "random.seed(9)\n",
    "\n",
    "# 随机生成两个实且非负的2维向量u和v\n",
    "# random.randint(0, 11, 2)可以返回2个[0,10]之间的任意整数\n",
    "u = random.randint(0, 11, 2)\n",
    "v = random.randint(0, 11, 2)\n",
    "\n",
    "print(\"向量u为\", u, \"，向量v为\", v)"
   ]
  },
  {
   "cell_type": "code",
   "execution_count": 3,
   "metadata": {},
   "outputs": [
    {
     "name": "stdout",
     "output_type": "stream",
     "text": [
      "向量u的模长为 7.810249675906654 ，向量v的模长为 10.0\n"
     ]
    }
   ],
   "source": [
    "# 分别求出向量u和向量v的模长\n",
    "length_u = np.sqrt(u[0]**2 + u[1]**2)\n",
    "length_v = np.sqrt(v[0]**2 + v[1]**2)\n",
    "\n",
    "print(\"向量u的模长为\", length_u, \"，向量v的模长为\", length_v)"
   ]
  },
  {
   "cell_type": "code",
   "execution_count": 4,
   "metadata": {},
   "outputs": [
    {
     "name": "stdout",
     "output_type": "stream",
     "text": [
      "归一化后的向量u为 [0.6401844  0.76822128] ，归一化后的向量v为 [0.8 0.6]\n"
     ]
    }
   ],
   "source": [
    "# 根据向量u和向量v的模长，将它们进行归一化处理\n",
    "u_nor = u / length_u\n",
    "v_nor = v / length_v\n",
    "\n",
    "print(\"归一化后的向量u为\", u_nor, \"，归一化后的向量v为\", v_nor)"
   ]
  },
  {
   "cell_type": "code",
   "execution_count": 5,
   "metadata": {},
   "outputs": [
    {
     "name": "stdout",
     "output_type": "stream",
     "text": [
      "归一化后的向量u和向量v的内积等于 0.9730802874900095\n"
     ]
    }
   ],
   "source": [
    "# 两个归一化向量的内积\n",
    "inner_product = np.dot(v_nor, u_nor)\n",
    "\n",
    "print(\"归一化后的向量u和向量v的内积等于\", inner_product)"
   ]
  },
  {
   "cell_type": "code",
   "execution_count": 6,
   "metadata": {},
   "outputs": [
    {
     "name": "stdout",
     "output_type": "stream",
     "text": [
      "向量u和向量v的欧几里得距离等于 3.0\n"
     ]
    }
   ],
   "source": [
    "# 向量u和向量v的欧几里得距离\n",
    "D_Euc = np.sqrt(length_u**2 + length_v**2 - 2 * length_u * length_v * inner_product)\n",
    "\n",
    "print(\"向量u和向量v的欧几里得距离等于\", D_Euc)"
   ]
  },
  {
   "cell_type": "markdown",
   "metadata": {},
   "source": [
    "通过经典计算的方法，我们可以得到向量$\\vec{u}$和$\\vec{v}$的欧几里得距离$D_{Euc}=3$。\n",
    "\n",
    "下面我们尝试用量子计算的方法来计算，即复现论文中的Fig1。"
   ]
  },
  {
   "cell_type": "markdown",
   "metadata": {},
   "source": [
    "![Fig_1.png](./Fig_1.png)"
   ]
  },
  {
   "cell_type": "markdown",
   "metadata": {},
   "source": [
    "- 第一步：初态制备"
   ]
  },
  {
   "cell_type": "code",
   "execution_count": 7,
   "metadata": {},
   "outputs": [
    {
     "name": "stdout",
     "output_type": "stream",
     "text": [
      "归一化后的向量u和向量v的张量积为 [0.51214752 0.61457702 0.38411064 0.46093277]\n"
     ]
    }
   ],
   "source": [
    "# 归一化的向量u和向量v的张量积\n",
    "# 注意，越靠上的量子比特，做张量积的时候越靠右，因为MindQuantum的读取顺序是从右往左\n",
    "pre = np.kron(v_nor, u_nor)\n",
    "\n",
    "print(\"归一化后的向量u和向量v的张量积为\", pre)"
   ]
  },
  {
   "cell_type": "code",
   "execution_count": 8,
   "metadata": {},
   "outputs": [
    {
     "name": "stdout",
     "output_type": "stream",
     "text": [
      "|0>态对应的向量为 [1 0]\n"
     ]
    }
   ],
   "source": [
    "# |0>态对应的向量\n",
    "state_0 = np.array([1, 0])\n",
    "\n",
    "print(\"|0>态对应的向量为\", state_0)"
   ]
  },
  {
   "cell_type": "code",
   "execution_count": 9,
   "metadata": {},
   "outputs": [
    {
     "name": "stdout",
     "output_type": "stream",
     "text": [
      "初态对应的向量为 [0.51214752 0.         0.61457702 0.         0.38411064 0.\n",
      " 0.46093277 0.        ]\n"
     ]
    }
   ],
   "source": [
    "# 制备初态\n",
    "initial_state = np.kron(pre, state_0)\n",
    "\n",
    "print(\"初态对应的向量为\", initial_state)"
   ]
  },
  {
   "cell_type": "code",
   "execution_count": 10,
   "metadata": {},
   "outputs": [
    {
     "name": "stdout",
     "output_type": "stream",
     "text": [
      "0.512147519731584¦000⟩\n",
      "0.6145770236779007¦010⟩\n",
      "0.3841106397986879¦100⟩\n",
      "0.4609327677584255¦110⟩\n"
     ]
    }
   ],
   "source": [
    "sim = Simulator('mqvector', 3)  # 调用一个3量子比特的模拟器\n",
    "sim.set_qs(initial_state)       # 将模拟器的初态设为与initial_state对应的量子态\n",
    "\n",
    "print(sim.get_qs(True))         # 打印我们制备好的初态"
   ]
  },
  {
   "cell_type": "markdown",
   "metadata": {},
   "source": [
    "- 第二步：SWAP Test"
   ]
  },
  {
   "cell_type": "code",
   "execution_count": 11,
   "metadata": {},
   "outputs": [
    {
     "data": {
      "image/svg+xml": [
       "<svg xmlns=\"http://www.w3.org/2000/svg\" width=\"336.8\" height=\"200.0\" xmlns:xlink=\"http://www.w3.org/1999/xlink\"><rect x=\"0\" y=\"0.0\" width=\"336.8\" height=\"200.0\" fill=\"#ffffff\" /><text x=\"20.0\" y=\"40.0\" font-size=\"16px\" dominant-baseline=\"middle\" text-anchor=\"start\" font-family=\"Arial\" font-weight=\"normal\" fill=\"#252b3a\" >q0: </text><text x=\"20.0\" y=\"100.0\" font-size=\"16px\" dominant-baseline=\"middle\" text-anchor=\"start\" font-family=\"Arial\" font-weight=\"normal\" fill=\"#252b3a\" >q1: </text><text x=\"20.0\" y=\"160.0\" font-size=\"16px\" dominant-baseline=\"middle\" text-anchor=\"start\" font-family=\"Arial\" font-weight=\"normal\" fill=\"#252b3a\" >q2: </text><line x1=\"48.8\" x2=\"316.8\" y1=\"40.0\" y2=\"40.0\" stroke=\"#adb0b8\" stroke-width=\"1\" /><line x1=\"48.8\" x2=\"316.8\" y1=\"100.0\" y2=\"100.0\" stroke=\"#adb0b8\" stroke-width=\"1\" /><line x1=\"48.8\" x2=\"316.8\" y1=\"160.0\" y2=\"160.0\" stroke=\"#adb0b8\" stroke-width=\"1\" /><rect x=\"72.8\" y=\"20.0\" width=\"40.0\" height=\"40\" rx=\"4\" ry=\"4\" stroke=\"#ffffff\" stroke-width=\"0\" fill=\"#5e7ce0\" fill-opacity=\"1\" /><text x=\"92.8\" y=\"40.0\" font-size=\"20px\" dominant-baseline=\"middle\" text-anchor=\"middle\" font-family=\"Arial\" font-weight=\"normal\" fill=\"#ffffff\" >H </text><line x1=\"152.8\" x2=\"152.8\" y1=\"80.0\" y2=\"180.0\" stroke-width=\"3\" stroke=\"#16acff\" /><circle cx=\"152.8\" cy=\"40.0\" r=\"4\" fill=\"#16acff\" /><line x1=\"152.8\" x2=\"152.8\" y1=\"40.0\" y2=\"100.0\" stroke=\"#16acff\" stroke-width=\"3\" /><rect x=\"132.8\" y=\"80.0\" width=\"40\" height=\"40\" rx=\"4\" ry=\"4\" fill=\"#16acff\" fill-opacity=\"1\" stroke=\"#ffffff\" stroke-width=\"0\" /><path d=\"M 143.2 96.31384387633061 L 148.0 88.0 L 152.8 96.31384387633061 L 149.44 96.31384387633061 L 149.44 112.0 L 146.56 112.0 L 146.56 96.31384387633061 Z\" fill=\"#ffffff\" /><path d=\"M 162.39999999999998 103.68615612366939 L 157.60000000000002 112.0 L 152.8 103.68615612366939 L 156.16 103.68615612366939 L 156.16 88.0 L 159.04000000000002 88.0 L 159.04000000000002 103.68615612366939 Z\" fill=\"#ffffff\" /><rect x=\"132.8\" y=\"140.0\" width=\"40\" height=\"40\" rx=\"4\" ry=\"4\" fill=\"#16acff\" fill-opacity=\"1\" stroke=\"#ffffff\" stroke-width=\"0\" /><path d=\"M 143.2 156.31384387633062 L 148.0 148.0 L 152.8 156.31384387633062 L 149.44 156.31384387633062 L 149.44 172.0 L 146.56 172.0 L 146.56 156.31384387633062 Z\" fill=\"#ffffff\" /><path d=\"M 162.39999999999998 163.68615612366938 L 157.60000000000002 172.0 L 152.8 163.68615612366938 L 156.16 163.68615612366938 L 156.16 148.0 L 159.04000000000002 148.0 L 159.04000000000002 163.68615612366938 Z\" fill=\"#ffffff\" /><rect x=\"192.8\" y=\"20.0\" width=\"40.0\" height=\"40\" rx=\"4\" ry=\"4\" stroke=\"#ffffff\" stroke-width=\"0\" fill=\"#5e7ce0\" fill-opacity=\"1\" /><text x=\"212.8\" y=\"40.0\" font-size=\"20px\" dominant-baseline=\"middle\" text-anchor=\"middle\" font-family=\"Arial\" font-weight=\"normal\" fill=\"#ffffff\" >H </text><rect x=\"252.8\" y=\"20.0\" width=\"40\" height=\"40\" rx=\"4\" ry=\"4\" stroke=\"#ffffff\" stroke-width=\"0\" fill=\"#ff7272\" fill-opacity=\"1\" /><circle cx=\"272.8\" cy=\"50.4\" r=\"1.6\" fill=\"#ffffff\" /><path d=\"M 260.0 50.4 A 12.8 12.8 0 0 1 285.6 50.4\" stroke=\"#ffffff\" stroke-width=\"2.4000000000000004\" fill-opacity=\"0\" /><path d=\"M 276.9018483174859 33.93539030917347 L 285.21569219381655 29.135390309173467 L 285.21569219381655 38.73539030917347 L 281.8901546432843 36.815390309173466 L 274.0470765814496 50.4 L 272.3843078061835 49.44 L 280.2273858680182 35.85539030917347 Z\" fill=\"#ffffff\" /></svg>"
      ],
      "text/plain": [
       "<mindquantum.io.display.circuit_svg_drawer.SVGCircuit at 0x7fe308602d30>"
      ]
     },
     "execution_count": 11,
     "metadata": {},
     "output_type": "execute_result"
    }
   ],
   "source": [
    "# 搭建SWAP Test线路模型\n",
    "cir_SWAP_Test = Circuit()\n",
    "cir_SWAP_Test += H.on(0)\n",
    "cir_SWAP_Test += SWAP.on([1, 2], 0)\n",
    "cir_SWAP_Test += H.on(0)\n",
    "cir_SWAP_Test += Measure().on(0)\n",
    "cir_SWAP_Test.svg()"
   ]
  },
  {
   "cell_type": "markdown",
   "metadata": {},
   "source": [
    "- 第三步：测量"
   ]
  },
  {
   "cell_type": "code",
   "execution_count": 12,
   "metadata": {},
   "outputs": [
    {
     "data": {
      "image/svg+xml": [
       "<svg xmlns=\"http://www.w3.org/2000/svg\" width=\"401.2\" height=\"147.0\" xmlns:xlink=\"http://www.w3.org/1999/xlink\"><rect x=\"0\" y=\"0\" width=\"401.2\" height=\"147.0\" fill=\"#ffffff\" /><text x=\"10\" y=\"17.0\" font-size=\"14px\" dominant-baseline=\"middle\" text-anchor=\"start\" >Shots:\n",
       " 5000 </text><text x=\"10\" y=\"31.0\" font-size=\"14px\" dominant-baseline=\"middle\" text-anchor=\"start\" >Keys: q0 </text><line x1=\"31.2\" x2=\"391.2\" y1=\"62.0\" y2=\"62.0\" stroke=\"#adb0b8\" stroke-width=\"1\" /><line x1=\"31.2\" x2=\"31.2\" y1=\"55.0\" y2=\"62.0\" stroke=\"#adb0b8\" stroke-width=\"1\" /><text x=\"33.2\" y=\"60.0\" font-size=\"12px\" dominant-baseline=\"bottom\" text-anchor=\"start\" fill=\"#575d6c\" >0.0 </text><line x1=\"31.2\" x2=\"31.2\" y1=\"62.0\" y2=\"137.0\" stroke=\"#adb0b8\" stroke-width=\"1\" /><line x1=\"91.2\" x2=\"91.2\" y1=\"55.0\" y2=\"62.0\" stroke=\"#adb0b8\" stroke-width=\"1\" /><text x=\"93.2\" y=\"60.0\" font-size=\"12px\" dominant-baseline=\"bottom\" text-anchor=\"start\" fill=\"#575d6c\" >0.195 </text><line x1=\"91.2\" x2=\"91.2\" y1=\"62.0\" y2=\"137.0\" stroke=\"#dfe1e6\" stroke-width=\"1\" /><line x1=\"151.2\" x2=\"151.2\" y1=\"55.0\" y2=\"62.0\" stroke=\"#adb0b8\" stroke-width=\"1\" /><text x=\"153.2\" y=\"60.0\" font-size=\"12px\" dominant-baseline=\"bottom\" text-anchor=\"start\" fill=\"#575d6c\" >0.389 </text><line x1=\"151.2\" x2=\"151.2\" y1=\"62.0\" y2=\"137.0\" stroke=\"#dfe1e6\" stroke-width=\"1\" /><line x1=\"211.2\" x2=\"211.2\" y1=\"55.0\" y2=\"62.0\" stroke=\"#adb0b8\" stroke-width=\"1\" /><text x=\"213.2\" y=\"60.0\" font-size=\"12px\" dominant-baseline=\"bottom\" text-anchor=\"start\" fill=\"#575d6c\" >0.584 </text><line x1=\"211.2\" x2=\"211.2\" y1=\"62.0\" y2=\"137.0\" stroke=\"#dfe1e6\" stroke-width=\"1\" /><line x1=\"271.2\" x2=\"271.2\" y1=\"55.0\" y2=\"62.0\" stroke=\"#adb0b8\" stroke-width=\"1\" /><text x=\"273.2\" y=\"60.0\" font-size=\"12px\" dominant-baseline=\"bottom\" text-anchor=\"start\" fill=\"#575d6c\" >0.778 </text><line x1=\"271.2\" x2=\"271.2\" y1=\"62.0\" y2=\"137.0\" stroke=\"#dfe1e6\" stroke-width=\"1\" /><line x1=\"331.2\" x2=\"331.2\" y1=\"55.0\" y2=\"62.0\" stroke=\"#adb0b8\" stroke-width=\"1\" /><text x=\"333.2\" y=\"60.0\" font-size=\"12px\" dominant-baseline=\"bottom\" text-anchor=\"start\" fill=\"#575d6c\" >0.973 </text><line x1=\"331.2\" x2=\"331.2\" y1=\"62.0\" y2=\"137.0\" stroke=\"#dfe1e6\" stroke-width=\"1\" /><text x=\"22.2\" y=\"85.0\" font-size=\"12px\" dominant-baseline=\"middle\" text-anchor=\"end\" fill=\"#575d6c\" >0 </text><line x1=\"24.2\" x2=\"31.2\" y1=\"85.0\" y2=\"85.0\" stroke=\"#adb0b8\" stroke-width=\"1\" /><rect x=\"31.2\" y=\"73.0\" width=\"300.0\" height=\"24\" id=\"bar_0_1697540115573135987\" fill=\"#5e7ce0\" /><text x=\"341.2\" y=\"85.0\" font-size=\"14px\" dominant-baseline=\"middle\" text-anchor=\"start\" fill=\"#575d6c\" id=\"bar_text_0_1697540115573352601\" fill-opacity=\"0\" >4865 </text><text x=\"22.2\" y=\"115.0\" font-size=\"12px\" dominant-baseline=\"middle\" text-anchor=\"end\" fill=\"#575d6c\" >1 </text><line x1=\"24.2\" x2=\"31.2\" y1=\"115.0\" y2=\"115.0\" stroke=\"#adb0b8\" stroke-width=\"1\" /><rect x=\"31.2\" y=\"103.0\" width=\"8.324768756423433\" height=\"24\" id=\"bar_1_1697540115573367518\" fill=\"#16acff\" /><text x=\"49.52476875642343\" y=\"115.0\" font-size=\"14px\" dominant-baseline=\"middle\" text-anchor=\"start\" fill=\"#575d6c\" id=\"bar_text_1_1697540115573376457\" fill-opacity=\"0\" >135 </text><animate xlink:href=\"#bar_0_1697540115573135987\" attributeName=\"width\" from=\"0\" to=\"300.0\" dur=\"0.3s\" calcMode=\"spline\" values=\"0; 300.0\" keyTimes=\"0; 1\" keySplines=\"0.42 0 1 0.8;\" fill=\"freeze\" /><animate xlink:href=\"#bar_1_1697540115573367518\" attributeName=\"width\" from=\"0\" to=\"8.324768756423433\" dur=\"0.3s\" calcMode=\"spline\" values=\"0; 8.324768756423433\" keyTimes=\"0; 1\" keySplines=\"0.42 0 1 0.8;\" fill=\"freeze\" /><animate xlink:href=\"#bar_0_1697540115573135987\" attributeName=\"fill\" from=\"#5e7ce0\" to=\"#fac209\" dur=\"0.15s\" calcMode=\"spline\" values=\"#5e7ce0; #fac209\" keyTimes=\"0; 1\" keySplines=\"0.42 0 1 0.8;\" fill=\"freeze\" begin=\"0.3s\" /><animate xlink:href=\"#bar_text_0_1697540115573352601\" attributeName=\"fill-opacity\" from=\"0\" to=\"1\" dur=\"0.15s\" calcMode=\"spline\" values=\"0; 1\" keyTimes=\"0; 1\" keySplines=\"0.42 0 1 0.8;\" fill=\"freeze\" begin=\"0.3s\" /><animate xlink:href=\"#bar_text_1_1697540115573376457\" attributeName=\"fill-opacity\" from=\"0\" to=\"1\" dur=\"0.15s\" calcMode=\"spline\" values=\"0; 1\" keyTimes=\"0; 1\" keySplines=\"0.42 0 1 0.8;\" fill=\"freeze\" begin=\"0.3s\" /><text x=\"203.1\" y=\"41.0\" font-size=\"14px\" dominant-baseline=\"middle\" text-anchor=\"middle\" >probability </text></svg>"
      ],
      "text/plain": [
       "<mindquantum.io.display.measure_res_svg_drawer.SVGMeasure at 0x7fe29c4b0fa0>"
      ]
     },
     "execution_count": 12,
     "metadata": {},
     "output_type": "execute_result"
    }
   ],
   "source": [
    "res = sim.sampling(cir_SWAP_Test, shots=5000)\n",
    "res.svg()"
   ]
  },
  {
   "cell_type": "markdown",
   "metadata": {},
   "source": [
    "- 第四步：统计结果，得到欧几里得距离"
   ]
  },
  {
   "cell_type": "code",
   "execution_count": 13,
   "metadata": {},
   "outputs": [
    {
     "name": "stdout",
     "output_type": "stream",
     "text": [
      "Fig1中测量第一个量子比特，得到测量为0的频率为： 0.974\n",
      "通过Fig1得到的内积<u|v>为： 0.9736529155710468\n"
     ]
    }
   ],
   "source": [
    "p_0_fig1 = 4870 / 5000\n",
    "inner_product_ST = np.sqrt(2 * p_0_fig1 - 1)\n",
    "\n",
    "print(\"Fig1中测量第一个量子比特，得到测量为0的频率为：\", p_0_fig1)\n",
    "print(\"通过Fig1得到的内积<u|v>为：\", inner_product_ST)"
   ]
  },
  {
   "cell_type": "code",
   "execution_count": 14,
   "metadata": {},
   "outputs": [
    {
     "name": "stdout",
     "output_type": "stream",
     "text": [
      "通过量子计算的方法计算得到的内积的误差为： 0.058846951109693145 %\n"
     ]
    }
   ],
   "source": [
    "error_inner = (inner_product_ST - inner_product) / inner_product * 100\n",
    "\n",
    "print(\"通过量子计算的方法计算得到的内积的误差为：\", error_inner, \"%\")"
   ]
  },
  {
   "cell_type": "code",
   "execution_count": 15,
   "metadata": {},
   "outputs": [
    {
     "name": "stdout",
     "output_type": "stream",
     "text": [
      "向量u和向量v的欧几里得距离等于 2.98505487961499\n"
     ]
    }
   ],
   "source": [
    "D_Euc_ST = np.sqrt(length_u**2 + length_v**2 - 2 * length_u * length_v * inner_product_ST)\n",
    "\n",
    "print(\"向量u和向量v的欧几里得距离等于\", D_Euc_ST)"
   ]
  },
  {
   "cell_type": "code",
   "execution_count": 16,
   "metadata": {},
   "outputs": [
    {
     "name": "stdout",
     "output_type": "stream",
     "text": [
      "通过量子计算的方法计算得到的欧几里得的误差为： -0.49817067950033156 %\n"
     ]
    }
   ],
   "source": [
    "error_D_Euc = (D_Euc_ST - D_Euc) / D_Euc * 100\n",
    "\n",
    "print(\"通过量子计算的方法计算得到的欧几里得的误差为：\", error_D_Euc, \"%\")"
   ]
  },
  {
   "cell_type": "markdown",
   "metadata": {},
   "source": [
    "至此，我们通过MindQuantum成功验证（1）论文中的Fig1可以计算2个2维向量$\\vec{u}$和$\\vec{v}$的欧几里得距离。"
   ]
  },
  {
   "cell_type": "markdown",
   "metadata": {},
   "source": [
    "### 通过MindQuantum验证（2）论文中的Fig2-Fig6和Fig9（`H` gate, `Fredkin` gate, `CNOT` gate, `CZ` gate, `SWAP` gate，`Toffoli` gate）的线路正确性；\n",
    "\n",
    "根据文章的介绍，我们分别定义了`H` gate, `Fredkin` gate, `CNOT` gate, `CZ` gate, `SWAP` gate，`Toffoli` gate的随机量子线路，现将我们定义好的相关函数导入："
   ]
  },
  {
   "cell_type": "code",
   "execution_count": 17,
   "metadata": {},
   "outputs": [],
   "source": [
    "from src.main import H_encoder, Fredkin_encoder, CNOT_encoder, CZ_encoder, SWAP_encoder, Toffoli_encoder, Toffoli_encoder_fig11"
   ]
  },
  {
   "cell_type": "markdown",
   "metadata": {},
   "source": [
    "接下来，我们依次复现Fig2-Fig6和Fig9，并验证线路正确性。"
   ]
  },
  {
   "cell_type": "markdown",
   "metadata": {},
   "source": [
    "![Fig_2.png](./Fig_2.png)"
   ]
  },
  {
   "cell_type": "code",
   "execution_count": 18,
   "metadata": {},
   "outputs": [
    {
     "data": {
      "image/svg+xml": [
       "<svg xmlns=\"http://www.w3.org/2000/svg\" width=\"476.8\" height=\"80.0\" xmlns:xlink=\"http://www.w3.org/1999/xlink\"><rect x=\"0\" y=\"0.0\" width=\"476.8\" height=\"80.0\" fill=\"#ffffff\" /><text x=\"20.0\" y=\"40.0\" font-size=\"16px\" dominant-baseline=\"middle\" text-anchor=\"start\" font-family=\"Arial\" font-weight=\"normal\" fill=\"#252b3a\" >q0: </text><line x1=\"48.8\" x2=\"456.8\" y1=\"40.0\" y2=\"40.0\" stroke=\"#adb0b8\" stroke-width=\"1\" /><rect x=\"72.8\" y=\"20.0\" width=\"40.0\" height=\"40\" rx=\"4\" ry=\"4\" stroke=\"#ffffff\" stroke-width=\"0\" fill=\"#5e7ce0\" fill-opacity=\"1\" /><text x=\"92.8\" y=\"40.0\" font-size=\"20px\" dominant-baseline=\"middle\" text-anchor=\"middle\" font-family=\"Arial\" font-weight=\"normal\" fill=\"#ffffff\" >X </text><rect x=\"132.8\" y=\"20.0\" width=\"40.0\" height=\"40\" rx=\"4\" ry=\"4\" stroke=\"#ffffff\" stroke-width=\"0\" fill=\"#5e7ce0\" fill-opacity=\"1\" /><text x=\"152.8\" y=\"40.0\" font-size=\"20px\" dominant-baseline=\"middle\" text-anchor=\"middle\" font-family=\"Arial\" font-weight=\"normal\" fill=\"#ffffff\" >Z </text><rect x=\"192.8\" y=\"20.0\" width=\"20\" height=\"40\" fill=\"gray\" fill-opacity=\"0.8\" /><rect x=\"232.8\" y=\"20.0\" width=\"40.0\" height=\"40\" rx=\"4\" ry=\"4\" stroke=\"#ffffff\" stroke-width=\"0\" fill=\"#5e7ce0\" fill-opacity=\"1\" /><text x=\"252.8\" y=\"40.0\" font-size=\"20px\" dominant-baseline=\"middle\" text-anchor=\"middle\" font-family=\"Arial\" font-weight=\"normal\" fill=\"#ffffff\" >H </text><rect x=\"292.8\" y=\"20.0\" width=\"20\" height=\"40\" fill=\"gray\" fill-opacity=\"0.8\" /><rect x=\"332.8\" y=\"20.0\" width=\"40.0\" height=\"40\" rx=\"4\" ry=\"4\" stroke=\"#ffffff\" stroke-width=\"0\" fill=\"#5e7ce0\" fill-opacity=\"1\" /><text x=\"352.8\" y=\"40.0\" font-size=\"20px\" dominant-baseline=\"middle\" text-anchor=\"middle\" font-family=\"Arial\" font-weight=\"normal\" fill=\"#ffffff\" >X </text><rect x=\"392.8\" y=\"20.0\" width=\"40.0\" height=\"40\" rx=\"4\" ry=\"4\" stroke=\"#ffffff\" stroke-width=\"0\" fill=\"#5e7ce0\" fill-opacity=\"1\" /><text x=\"412.8\" y=\"40.0\" font-size=\"20px\" dominant-baseline=\"middle\" text-anchor=\"middle\" font-family=\"Arial\" font-weight=\"normal\" fill=\"#ffffff\" >Z </text></svg>"
      ],
      "text/plain": [
       "<mindquantum.io.display.circuit_svg_drawer.SVGCircuit at 0x7fe29c409190>"
      ]
     },
     "execution_count": 18,
     "metadata": {},
     "output_type": "execute_result"
    }
   ],
   "source": [
    "# 为了便于复现，设定生成随机数的种子10，展示随机数全为1的情况，实际过程可以去掉该种子设定\n",
    "random.seed(10)\n",
    "\n",
    "H_encoder(0).svg()"
   ]
  },
  {
   "cell_type": "code",
   "execution_count": 19,
   "metadata": {},
   "outputs": [
    {
     "data": {
      "image/svg+xml": [
       "<svg xmlns=\"http://www.w3.org/2000/svg\" width=\"156.8\" height=\"80.0\" xmlns:xlink=\"http://www.w3.org/1999/xlink\"><rect x=\"0\" y=\"0.0\" width=\"156.8\" height=\"80.0\" fill=\"#ffffff\" /><text x=\"20.0\" y=\"40.0\" font-size=\"16px\" dominant-baseline=\"middle\" text-anchor=\"start\" font-family=\"Arial\" font-weight=\"normal\" fill=\"#252b3a\" >q0: </text><line x1=\"48.8\" x2=\"136.8\" y1=\"40.0\" y2=\"40.0\" stroke=\"#adb0b8\" stroke-width=\"1\" /><rect x=\"72.8\" y=\"20.0\" width=\"40.0\" height=\"40\" rx=\"4\" ry=\"4\" stroke=\"#ffffff\" stroke-width=\"0\" fill=\"#5e7ce0\" fill-opacity=\"1\" /><text x=\"92.8\" y=\"40.0\" font-size=\"20px\" dominant-baseline=\"middle\" text-anchor=\"middle\" font-family=\"Arial\" font-weight=\"normal\" fill=\"#ffffff\" >H </text></svg>"
      ],
      "text/plain": [
       "<mindquantum.io.display.circuit_svg_drawer.SVGCircuit at 0x7fe29c4094c0>"
      ]
     },
     "execution_count": 19,
     "metadata": {},
     "output_type": "execute_result"
    }
   ],
   "source": [
    "# 搭建一个包含H门的量子线路\n",
    "circuit_H = Circuit()\n",
    "circuit_H += H.on(0)\n",
    "circuit_H.svg()"
   ]
  },
  {
   "cell_type": "code",
   "execution_count": 20,
   "metadata": {},
   "outputs": [
    {
     "name": "stdout",
     "output_type": "stream",
     "text": [
      "上述两个量子线路等价\n"
     ]
    }
   ],
   "source": [
    "# 验证上述两个量子线路等价\n",
    "random.seed(10)\n",
    "\n",
    "if np.allclose(H_encoder(0).matrix(), circuit_H.matrix()) == True:\n",
    "    print(\"上述两个量子线路等价\")\n",
    "else:\n",
    "    print(\"上述两个量子线路不等\")"
   ]
  },
  {
   "cell_type": "markdown",
   "metadata": {},
   "source": [
    "更一般地，验证`H_encoder(0)`的量子线路与包含`H`门的量子线路的等价性。"
   ]
  },
  {
   "cell_type": "code",
   "execution_count": 21,
   "metadata": {},
   "outputs": [
    {
     "name": "stdout",
     "output_type": "stream",
     "text": [
      "H_encoder(0)的量子线路与包含H门的量子线路等价\n"
     ]
    }
   ],
   "source": [
    "# 初始化变量\n",
    "verify_H = 0\n",
    "\n",
    "# 重复验证100次\n",
    "for i in range(100):\n",
    "    # H_encoder(0)没有设定seed，因此每次产生的随机数都不一样\n",
    "    if np.allclose(H_encoder(0).matrix(), circuit_H.matrix()) == True:\n",
    "        verify_H += 1\n",
    "    else:\n",
    "        verify_H += 0\n",
    "\n",
    "if verify_H == 100:\n",
    "    print(\"H_encoder(0)的量子线路与包含H门的量子线路等价\")\n",
    "else:\n",
    "    print(\"H_encoder(0)的量子线路与包含H门的量子线路不等\")"
   ]
  },
  {
   "cell_type": "markdown",
   "metadata": {},
   "source": [
    "也就是说，我们通过MindQuantum成功复现Fig2，并验证该线路的正确性。"
   ]
  },
  {
   "cell_type": "markdown",
   "metadata": {},
   "source": [
    "![Fig_3.png](./Fig_3.png)"
   ]
  },
  {
   "cell_type": "code",
   "execution_count": 22,
   "metadata": {},
   "outputs": [
    {
     "data": {
      "image/svg+xml": [
       "<svg xmlns=\"http://www.w3.org/2000/svg\" width=\"1516.8\" height=\"200.0\" xmlns:xlink=\"http://www.w3.org/1999/xlink\"><rect x=\"0\" y=\"0.0\" width=\"1516.8\" height=\"200.0\" fill=\"#ffffff\" /><text x=\"20.0\" y=\"40.0\" font-size=\"16px\" dominant-baseline=\"middle\" text-anchor=\"start\" font-family=\"Arial\" font-weight=\"normal\" fill=\"#252b3a\" >q0: </text><text x=\"20.0\" y=\"100.0\" font-size=\"16px\" dominant-baseline=\"middle\" text-anchor=\"start\" font-family=\"Arial\" font-weight=\"normal\" fill=\"#252b3a\" >q1: </text><text x=\"20.0\" y=\"160.0\" font-size=\"16px\" dominant-baseline=\"middle\" text-anchor=\"start\" font-family=\"Arial\" font-weight=\"normal\" fill=\"#252b3a\" >q2: </text><line x1=\"48.8\" x2=\"1496.8\" y1=\"40.0\" y2=\"40.0\" stroke=\"#adb0b8\" stroke-width=\"1\" /><line x1=\"48.8\" x2=\"1496.8\" y1=\"100.0\" y2=\"100.0\" stroke=\"#adb0b8\" stroke-width=\"1\" /><line x1=\"48.8\" x2=\"1496.8\" y1=\"160.0\" y2=\"160.0\" stroke=\"#adb0b8\" stroke-width=\"1\" /><rect x=\"72.8\" y=\"20.0\" width=\"40.0\" height=\"40\" rx=\"4\" ry=\"4\" stroke=\"#ffffff\" stroke-width=\"0\" fill=\"#5e7ce0\" fill-opacity=\"1\" /><text x=\"92.8\" y=\"40.0\" font-size=\"20px\" dominant-baseline=\"middle\" text-anchor=\"middle\" font-family=\"Arial\" font-weight=\"normal\" fill=\"#ffffff\" >X </text><rect x=\"132.8\" y=\"20.0\" width=\"40.0\" height=\"40\" rx=\"4\" ry=\"4\" stroke=\"#ffffff\" stroke-width=\"0\" fill=\"#5e7ce0\" fill-opacity=\"1\" /><text x=\"152.8\" y=\"40.0\" font-size=\"20px\" dominant-baseline=\"middle\" text-anchor=\"middle\" font-family=\"Arial\" font-weight=\"normal\" fill=\"#ffffff\" >Z </text><rect x=\"192.8\" y=\"20.0\" width=\"0\" height=\"160\" fill=\"gray\" fill-opacity=\"0.8\" /><rect x=\"192.8\" y=\"80.0\" width=\"40.0\" height=\"40\" rx=\"4\" ry=\"4\" stroke=\"#ffffff\" stroke-width=\"0\" fill=\"#5e7ce0\" fill-opacity=\"1\" /><text x=\"212.8\" y=\"100.0\" font-size=\"20px\" dominant-baseline=\"middle\" text-anchor=\"middle\" font-family=\"Arial\" font-weight=\"normal\" fill=\"#ffffff\" >X </text><rect x=\"252.8\" y=\"80.0\" width=\"40.0\" height=\"40\" rx=\"4\" ry=\"4\" stroke=\"#ffffff\" stroke-width=\"0\" fill=\"#5e7ce0\" fill-opacity=\"1\" /><text x=\"272.8\" y=\"100.0\" font-size=\"20px\" dominant-baseline=\"middle\" text-anchor=\"middle\" font-family=\"Arial\" font-weight=\"normal\" fill=\"#ffffff\" >Z </text><rect x=\"312.8\" y=\"20.0\" width=\"0\" height=\"160\" fill=\"gray\" fill-opacity=\"0.8\" /><rect x=\"312.8\" y=\"140.0\" width=\"40.0\" height=\"40\" rx=\"4\" ry=\"4\" stroke=\"#ffffff\" stroke-width=\"0\" fill=\"#5e7ce0\" fill-opacity=\"1\" /><text x=\"332.8\" y=\"160.0\" font-size=\"20px\" dominant-baseline=\"middle\" text-anchor=\"middle\" font-family=\"Arial\" font-weight=\"normal\" fill=\"#ffffff\" >X </text><rect x=\"372.8\" y=\"140.0\" width=\"40.0\" height=\"40\" rx=\"4\" ry=\"4\" stroke=\"#ffffff\" stroke-width=\"0\" fill=\"#5e7ce0\" fill-opacity=\"1\" /><text x=\"392.8\" y=\"160.0\" font-size=\"20px\" dominant-baseline=\"middle\" text-anchor=\"middle\" font-family=\"Arial\" font-weight=\"normal\" fill=\"#ffffff\" >Z </text><rect x=\"432.8\" y=\"20.0\" width=\"0\" height=\"160\" fill=\"gray\" fill-opacity=\"0.8\" /><rect x=\"432.8\" y=\"20.0\" width=\"20\" height=\"160\" fill=\"gray\" fill-opacity=\"0.8\" /><line x1=\"492.8\" x2=\"492.8\" y1=\"80.0\" y2=\"180.0\" stroke-width=\"3\" stroke=\"#16acff\" /><circle cx=\"492.8\" cy=\"40.0\" r=\"4\" fill=\"#16acff\" /><line x1=\"492.8\" x2=\"492.8\" y1=\"40.0\" y2=\"100.0\" stroke=\"#16acff\" stroke-width=\"3\" /><rect x=\"472.8\" y=\"80.0\" width=\"40\" height=\"40\" rx=\"4\" ry=\"4\" fill=\"#16acff\" fill-opacity=\"1\" stroke=\"#ffffff\" stroke-width=\"0\" /><path d=\"M 483.2 96.31384387633061 L 488.0 88.0 L 492.8 96.31384387633061 L 489.44 96.31384387633061 L 489.44 112.0 L 486.56 112.0 L 486.56 96.31384387633061 Z\" fill=\"#ffffff\" /><path d=\"M 502.40000000000003 103.68615612366939 L 497.6 112.0 L 492.8 103.68615612366939 L 496.16 103.68615612366939 L 496.16 88.0 L 499.04 88.0 L 499.04 103.68615612366939 Z\" fill=\"#ffffff\" /><rect x=\"472.8\" y=\"140.0\" width=\"40\" height=\"40\" rx=\"4\" ry=\"4\" fill=\"#16acff\" fill-opacity=\"1\" stroke=\"#ffffff\" stroke-width=\"0\" /><path d=\"M 483.2 156.31384387633062 L 488.0 148.0 L 492.8 156.31384387633062 L 489.44 156.31384387633062 L 489.44 172.0 L 486.56 172.0 L 486.56 156.31384387633062 Z\" fill=\"#ffffff\" /><path d=\"M 502.40000000000003 163.68615612366938 L 497.6 172.0 L 492.8 163.68615612366938 L 496.16 163.68615612366938 L 496.16 148.0 L 499.04 148.0 L 499.04 163.68615612366938 Z\" fill=\"#ffffff\" /><rect x=\"532.8\" y=\"20.0\" width=\"20\" height=\"160\" fill=\"gray\" fill-opacity=\"0.8\" /><rect x=\"572.8\" y=\"140.0\" width=\"40.0\" height=\"40\" rx=\"4\" ry=\"4\" stroke=\"#ffffff\" stroke-width=\"0\" fill=\"#5e7ce0\" fill-opacity=\"1\" /><text x=\"592.8\" y=\"160.0\" font-size=\"20px\" dominant-baseline=\"middle\" text-anchor=\"middle\" font-family=\"Arial\" font-weight=\"normal\" fill=\"#ffffff\" >Z </text><rect x=\"632.8\" y=\"20.0\" width=\"0\" height=\"160\" fill=\"gray\" fill-opacity=\"0.8\" /><circle cx=\"652.8\" cy=\"40.0\" r=\"4\" fill=\"#5e7ce0\" /><line x1=\"652.8\" x2=\"652.8\" y1=\"40.0\" y2=\"100.0\" stroke=\"#5e7ce0\" stroke-width=\"3\" /><rect x=\"632.8\" y=\"80.0\" width=\"40.0\" height=\"40\" rx=\"4\" ry=\"4\" stroke=\"#ffffff\" stroke-width=\"0\" fill=\"#5e7ce0\" fill-opacity=\"1\" /><text x=\"652.8\" y=\"100.0\" font-size=\"20px\" dominant-baseline=\"middle\" text-anchor=\"middle\" font-family=\"Arial\" font-weight=\"normal\" fill=\"#ffffff\" >Z </text><rect x=\"692.8\" y=\"20.0\" width=\"0\" height=\"160\" fill=\"gray\" fill-opacity=\"0.8\" /><circle cx=\"712.8\" cy=\"40.0\" r=\"4\" fill=\"#5e7ce0\" /><line x1=\"712.8\" x2=\"712.8\" y1=\"40.0\" y2=\"160.0\" stroke=\"#5e7ce0\" stroke-width=\"3\" /><rect x=\"692.8\" y=\"140.0\" width=\"40.0\" height=\"40\" rx=\"4\" ry=\"4\" stroke=\"#ffffff\" stroke-width=\"0\" fill=\"#5e7ce0\" fill-opacity=\"1\" /><text x=\"712.8\" y=\"160.0\" font-size=\"20px\" dominant-baseline=\"middle\" text-anchor=\"middle\" font-family=\"Arial\" font-weight=\"normal\" fill=\"#ffffff\" >Z </text><rect x=\"752.8\" y=\"20.0\" width=\"0\" height=\"160\" fill=\"gray\" fill-opacity=\"0.8\" /><rect x=\"752.8\" y=\"140.0\" width=\"40.0\" height=\"40\" rx=\"4\" ry=\"4\" stroke=\"#ffffff\" stroke-width=\"0\" fill=\"#5e7ce0\" fill-opacity=\"1\" /><text x=\"772.8\" y=\"160.0\" font-size=\"20px\" dominant-baseline=\"middle\" text-anchor=\"middle\" font-family=\"Arial\" font-weight=\"normal\" fill=\"#ffffff\" >X </text><rect x=\"812.8\" y=\"20.0\" width=\"0\" height=\"160\" fill=\"gray\" fill-opacity=\"0.8\" /><circle cx=\"832.8\" cy=\"40.0\" r=\"4\" fill=\"#16acff\" /><line x1=\"832.8\" x2=\"832.8\" y1=\"40.0\" y2=\"100.0\" stroke=\"#16acff\" stroke-width=\"3\" /><rect x=\"812.8\" y=\"80.0\" width=\"40\" height=\"40\" rx=\"4\" ry=\"4\" stroke=\"#ffffff\" stroke-width=\"0\" fill=\"#16acff\" fill-opacity=\"1\" /><line x1=\"818.8\" x2=\"846.8\" y1=\"100.0\" y2=\"100.0\" stroke=\"#ffffff\" stroke-width=\"4\" /><line x1=\"832.8\" x2=\"832.8\" y1=\"86.0\" y2=\"114.0\" stroke=\"#ffffff\" stroke-width=\"4\" /><rect x=\"872.8\" y=\"20.0\" width=\"0\" height=\"160\" fill=\"gray\" fill-opacity=\"0.8\" /><circle cx=\"892.8\" cy=\"40.0\" r=\"4\" fill=\"#16acff\" /><line x1=\"892.8\" x2=\"892.8\" y1=\"40.0\" y2=\"160.0\" stroke=\"#16acff\" stroke-width=\"3\" /><rect x=\"872.8\" y=\"140.0\" width=\"40\" height=\"40\" rx=\"4\" ry=\"4\" stroke=\"#ffffff\" stroke-width=\"0\" fill=\"#16acff\" fill-opacity=\"1\" /><line x1=\"878.8\" x2=\"906.8\" y1=\"160.0\" y2=\"160.0\" stroke=\"#ffffff\" stroke-width=\"4\" /><line x1=\"892.8\" x2=\"892.8\" y1=\"146.0\" y2=\"174.0\" stroke=\"#ffffff\" stroke-width=\"4\" /><rect x=\"932.8\" y=\"20.0\" width=\"0\" height=\"160\" fill=\"gray\" fill-opacity=\"0.8\" /><rect x=\"932.8\" y=\"80.0\" width=\"40.0\" height=\"40\" rx=\"4\" ry=\"4\" stroke=\"#ffffff\" stroke-width=\"0\" fill=\"#5e7ce0\" fill-opacity=\"1\" /><text x=\"952.8\" y=\"100.0\" font-size=\"20px\" dominant-baseline=\"middle\" text-anchor=\"middle\" font-family=\"Arial\" font-weight=\"normal\" fill=\"#ffffff\" >Z </text><rect x=\"992.8\" y=\"20.0\" width=\"0\" height=\"160\" fill=\"gray\" fill-opacity=\"0.8\" /><circle cx=\"1012.8\" cy=\"40.0\" r=\"4\" fill=\"#5e7ce0\" /><line x1=\"1012.8\" x2=\"1012.8\" y1=\"40.0\" y2=\"100.0\" stroke=\"#5e7ce0\" stroke-width=\"3\" /><rect x=\"992.8\" y=\"80.0\" width=\"40.0\" height=\"40\" rx=\"4\" ry=\"4\" stroke=\"#ffffff\" stroke-width=\"0\" fill=\"#5e7ce0\" fill-opacity=\"1\" /><text x=\"1012.8\" y=\"100.0\" font-size=\"20px\" dominant-baseline=\"middle\" text-anchor=\"middle\" font-family=\"Arial\" font-weight=\"normal\" fill=\"#ffffff\" >Z </text><rect x=\"1052.8\" y=\"20.0\" width=\"0\" height=\"160\" fill=\"gray\" fill-opacity=\"0.8\" /><circle cx=\"1072.8\" cy=\"40.0\" r=\"4\" fill=\"#5e7ce0\" /><line x1=\"1072.8\" x2=\"1072.8\" y1=\"40.0\" y2=\"160.0\" stroke=\"#5e7ce0\" stroke-width=\"3\" /><rect x=\"1052.8\" y=\"140.0\" width=\"40.0\" height=\"40\" rx=\"4\" ry=\"4\" stroke=\"#ffffff\" stroke-width=\"0\" fill=\"#5e7ce0\" fill-opacity=\"1\" /><text x=\"1072.8\" y=\"160.0\" font-size=\"20px\" dominant-baseline=\"middle\" text-anchor=\"middle\" font-family=\"Arial\" font-weight=\"normal\" fill=\"#ffffff\" >Z </text><rect x=\"1112.8\" y=\"20.0\" width=\"0\" height=\"160\" fill=\"gray\" fill-opacity=\"0.8\" /><rect x=\"1112.8\" y=\"80.0\" width=\"40.0\" height=\"40\" rx=\"4\" ry=\"4\" stroke=\"#ffffff\" stroke-width=\"0\" fill=\"#5e7ce0\" fill-opacity=\"1\" /><text x=\"1132.8\" y=\"100.0\" font-size=\"20px\" dominant-baseline=\"middle\" text-anchor=\"middle\" font-family=\"Arial\" font-weight=\"normal\" fill=\"#ffffff\" >X </text><rect x=\"1172.8\" y=\"20.0\" width=\"0\" height=\"160\" fill=\"gray\" fill-opacity=\"0.8\" /><circle cx=\"1192.8\" cy=\"40.0\" r=\"4\" fill=\"#16acff\" /><line x1=\"1192.8\" x2=\"1192.8\" y1=\"40.0\" y2=\"100.0\" stroke=\"#16acff\" stroke-width=\"3\" /><rect x=\"1172.8\" y=\"80.0\" width=\"40\" height=\"40\" rx=\"4\" ry=\"4\" stroke=\"#ffffff\" stroke-width=\"0\" fill=\"#16acff\" fill-opacity=\"1\" /><line x1=\"1178.8\" x2=\"1206.8\" y1=\"100.0\" y2=\"100.0\" stroke=\"#ffffff\" stroke-width=\"4\" /><line x1=\"1192.8\" x2=\"1192.8\" y1=\"86.0\" y2=\"114.0\" stroke=\"#ffffff\" stroke-width=\"4\" /><rect x=\"1232.8\" y=\"20.0\" width=\"0\" height=\"160\" fill=\"gray\" fill-opacity=\"0.8\" /><circle cx=\"1252.8\" cy=\"40.0\" r=\"4\" fill=\"#16acff\" /><line x1=\"1252.8\" x2=\"1252.8\" y1=\"40.0\" y2=\"160.0\" stroke=\"#16acff\" stroke-width=\"3\" /><rect x=\"1232.8\" y=\"140.0\" width=\"40\" height=\"40\" rx=\"4\" ry=\"4\" stroke=\"#ffffff\" stroke-width=\"0\" fill=\"#16acff\" fill-opacity=\"1\" /><line x1=\"1238.8\" x2=\"1266.8\" y1=\"160.0\" y2=\"160.0\" stroke=\"#ffffff\" stroke-width=\"4\" /><line x1=\"1252.8\" x2=\"1252.8\" y1=\"146.0\" y2=\"174.0\" stroke=\"#ffffff\" stroke-width=\"4\" /><rect x=\"1292.8\" y=\"20.0\" width=\"0\" height=\"160\" fill=\"gray\" fill-opacity=\"0.8\" /><rect x=\"1292.8\" y=\"20.0\" width=\"40.0\" height=\"40\" rx=\"4\" ry=\"4\" stroke=\"#ffffff\" stroke-width=\"0\" fill=\"#5e7ce0\" fill-opacity=\"1\" /><text x=\"1312.8\" y=\"40.0\" font-size=\"20px\" dominant-baseline=\"middle\" text-anchor=\"middle\" font-family=\"Arial\" font-weight=\"normal\" fill=\"#ffffff\" >Z </text><rect x=\"1352.8\" y=\"20.0\" width=\"0\" height=\"160\" fill=\"gray\" fill-opacity=\"0.8\" /><rect x=\"1352.8\" y=\"20.0\" width=\"40.0\" height=\"40\" rx=\"4\" ry=\"4\" stroke=\"#ffffff\" stroke-width=\"0\" fill=\"#5e7ce0\" fill-opacity=\"1\" /><text x=\"1372.8\" y=\"40.0\" font-size=\"20px\" dominant-baseline=\"middle\" text-anchor=\"middle\" font-family=\"Arial\" font-weight=\"normal\" fill=\"#ffffff\" >X </text><rect x=\"1412.8\" y=\"20.0\" width=\"0\" height=\"160\" fill=\"gray\" fill-opacity=\"0.8\" /><line x1=\"1432.8\" x2=\"1432.8\" y1=\"80.0\" y2=\"180.0\" stroke-width=\"3\" stroke=\"#16acff\" /><rect x=\"1412.8\" y=\"80.0\" width=\"40\" height=\"40\" rx=\"4\" ry=\"4\" fill=\"#16acff\" fill-opacity=\"1\" stroke=\"#ffffff\" stroke-width=\"0\" /><path d=\"M 1423.2 96.31384387633061 L 1428.0 88.0 L 1432.8 96.31384387633061 L 1429.44 96.31384387633061 L 1429.44 112.0 L 1426.56 112.0 L 1426.56 96.31384387633061 Z\" fill=\"#ffffff\" /><path d=\"M 1442.3999999999999 103.68615612366939 L 1437.6 112.0 L 1432.8 103.68615612366939 L 1436.1599999999999 103.68615612366939 L 1436.1599999999999 88.0 L 1439.04 88.0 L 1439.04 103.68615612366939 Z\" fill=\"#ffffff\" /><rect x=\"1412.8\" y=\"140.0\" width=\"40\" height=\"40\" rx=\"4\" ry=\"4\" fill=\"#16acff\" fill-opacity=\"1\" stroke=\"#ffffff\" stroke-width=\"0\" /><path d=\"M 1423.2 156.31384387633062 L 1428.0 148.0 L 1432.8 156.31384387633062 L 1429.44 156.31384387633062 L 1429.44 172.0 L 1426.56 172.0 L 1426.56 156.31384387633062 Z\" fill=\"#ffffff\" /><path d=\"M 1442.3999999999999 163.68615612366938 L 1437.6 172.0 L 1432.8 163.68615612366938 L 1436.1599999999999 163.68615612366938 L 1436.1599999999999 148.0 L 1439.04 148.0 L 1439.04 163.68615612366938 Z\" fill=\"#ffffff\" /><rect x=\"1472.8\" y=\"20.0\" width=\"0\" height=\"160\" fill=\"gray\" fill-opacity=\"0.8\" /></svg>"
      ],
      "text/plain": [
       "<mindquantum.io.display.circuit_svg_drawer.SVGCircuit at 0x7fe29c409040>"
      ]
     },
     "execution_count": 22,
     "metadata": {},
     "output_type": "execute_result"
    }
   ],
   "source": [
    "# 为了便于复现，设定生成随机数的种子53，展示随机数全为1的情况，实际过程可以去掉该种子设定\n",
    "random.seed(53)\n",
    "\n",
    "Fredkin_encoder([1, 2], 0).svg()"
   ]
  },
  {
   "cell_type": "code",
   "execution_count": 23,
   "metadata": {},
   "outputs": [
    {
     "data": {
      "image/svg+xml": [
       "<svg xmlns=\"http://www.w3.org/2000/svg\" width=\"156.8\" height=\"188.0\" xmlns:xlink=\"http://www.w3.org/1999/xlink\"><rect x=\"0\" y=\"12.0\" width=\"156.8\" height=\"188.0\" fill=\"#ffffff\" /><text x=\"20.0\" y=\"40.0\" font-size=\"16px\" dominant-baseline=\"middle\" text-anchor=\"start\" font-family=\"Arial\" font-weight=\"normal\" fill=\"#252b3a\" >q0: </text><text x=\"20.0\" y=\"100.0\" font-size=\"16px\" dominant-baseline=\"middle\" text-anchor=\"start\" font-family=\"Arial\" font-weight=\"normal\" fill=\"#252b3a\" >q1: </text><text x=\"20.0\" y=\"160.0\" font-size=\"16px\" dominant-baseline=\"middle\" text-anchor=\"start\" font-family=\"Arial\" font-weight=\"normal\" fill=\"#252b3a\" >q2: </text><line x1=\"48.8\" x2=\"136.8\" y1=\"40.0\" y2=\"40.0\" stroke=\"#adb0b8\" stroke-width=\"1\" /><line x1=\"48.8\" x2=\"136.8\" y1=\"100.0\" y2=\"100.0\" stroke=\"#adb0b8\" stroke-width=\"1\" /><line x1=\"48.8\" x2=\"136.8\" y1=\"160.0\" y2=\"160.0\" stroke=\"#adb0b8\" stroke-width=\"1\" /><line x1=\"92.8\" x2=\"92.8\" y1=\"80.0\" y2=\"180.0\" stroke-width=\"3\" stroke=\"#16acff\" /><circle cx=\"92.8\" cy=\"40.0\" r=\"4\" fill=\"#16acff\" /><line x1=\"92.8\" x2=\"92.8\" y1=\"40.0\" y2=\"100.0\" stroke=\"#16acff\" stroke-width=\"3\" /><rect x=\"72.8\" y=\"80.0\" width=\"40\" height=\"40\" rx=\"4\" ry=\"4\" fill=\"#16acff\" fill-opacity=\"1\" stroke=\"#ffffff\" stroke-width=\"0\" /><path d=\"M 83.19999999999999 96.31384387633061 L 88.0 88.0 L 92.8 96.31384387633061 L 89.44 96.31384387633061 L 89.44 112.0 L 86.56 112.0 L 86.56 96.31384387633061 Z\" fill=\"#ffffff\" /><path d=\"M 102.4 103.68615612366939 L 97.6 112.0 L 92.8 103.68615612366939 L 96.16 103.68615612366939 L 96.16 88.0 L 99.03999999999999 88.0 L 99.03999999999999 103.68615612366939 Z\" fill=\"#ffffff\" /><rect x=\"72.8\" y=\"140.0\" width=\"40\" height=\"40\" rx=\"4\" ry=\"4\" fill=\"#16acff\" fill-opacity=\"1\" stroke=\"#ffffff\" stroke-width=\"0\" /><path d=\"M 83.19999999999999 156.31384387633062 L 88.0 148.0 L 92.8 156.31384387633062 L 89.44 156.31384387633062 L 89.44 172.0 L 86.56 172.0 L 86.56 156.31384387633062 Z\" fill=\"#ffffff\" /><path d=\"M 102.4 163.68615612366938 L 97.6 172.0 L 92.8 163.68615612366938 L 96.16 163.68615612366938 L 96.16 148.0 L 99.03999999999999 148.0 L 99.03999999999999 163.68615612366938 Z\" fill=\"#ffffff\" /></svg>"
      ],
      "text/plain": [
       "<mindquantum.io.display.circuit_svg_drawer.SVGCircuit at 0x7fe29c4a53a0>"
      ]
     },
     "execution_count": 23,
     "metadata": {},
     "output_type": "execute_result"
    }
   ],
   "source": [
    "# 搭建一个包含Fredkin门的量子线路\n",
    "circuit_Fredkin = Circuit()\n",
    "circuit_Fredkin += SWAP.on([1, 2], 0)\n",
    "circuit_Fredkin.svg()"
   ]
  },
  {
   "cell_type": "code",
   "execution_count": 24,
   "metadata": {},
   "outputs": [
    {
     "name": "stdout",
     "output_type": "stream",
     "text": [
      "上述两个量子线路等价\n"
     ]
    }
   ],
   "source": [
    "# 验证上述两个量子线路等价\n",
    "random.seed(53)\n",
    "\n",
    "if np.allclose(Fredkin_encoder([1, 2], 0).matrix(), circuit_Fredkin.matrix()) == True:\n",
    "    print(\"上述两个量子线路等价\")\n",
    "else:\n",
    "    print(\"上述两个量子线路不等\")"
   ]
  },
  {
   "cell_type": "markdown",
   "metadata": {},
   "source": [
    "更一般地，验证`Fredkin_encoder([1, 2], 0)`的量子线路与包含`Fredkin`门的量子线路的等价性。"
   ]
  },
  {
   "cell_type": "code",
   "execution_count": 25,
   "metadata": {},
   "outputs": [
    {
     "name": "stdout",
     "output_type": "stream",
     "text": [
      "Fredkin_encoder([1, 2], 0)的量子线路与包含Fredkin门的量子线路等价\n"
     ]
    }
   ],
   "source": [
    "# 初始化变量\n",
    "verify_Fredkin = 0\n",
    "\n",
    "# 重复验证100次\n",
    "for i in range(100):\n",
    "    # Fredkin_encoder([1, 2], 0)没有设定seed，因此每次产生的随机数都不一样\n",
    "    if np.allclose(Fredkin_encoder([1, 2], 0).matrix(), circuit_Fredkin.matrix()) == True:\n",
    "        verify_Fredkin += 1\n",
    "    else:\n",
    "        verify_Fredkin += 0\n",
    "\n",
    "if verify_Fredkin == 100:\n",
    "    print(\"Fredkin_encoder([1, 2], 0)的量子线路与包含Fredkin门的量子线路等价\")\n",
    "else:\n",
    "    print(\"Fredkin_encoder([1, 2], 0)的量子线路与包含Fredkin门的量子线路不等\")"
   ]
  },
  {
   "cell_type": "markdown",
   "metadata": {},
   "source": [
    "也就是说，我们通过MindQuantum成功复现Fig3，并验证该线路的正确性。"
   ]
  },
  {
   "cell_type": "markdown",
   "metadata": {},
   "source": [
    "![Fig_4.png](./Fig_4.png)"
   ]
  },
  {
   "cell_type": "code",
   "execution_count": 26,
   "metadata": {},
   "outputs": [
    {
     "data": {
      "image/svg+xml": [
       "<svg xmlns=\"http://www.w3.org/2000/svg\" width=\"856.8\" height=\"140.0\" xmlns:xlink=\"http://www.w3.org/1999/xlink\"><rect x=\"0\" y=\"0.0\" width=\"856.8\" height=\"140.0\" fill=\"#ffffff\" /><text x=\"20.0\" y=\"40.0\" font-size=\"16px\" dominant-baseline=\"middle\" text-anchor=\"start\" font-family=\"Arial\" font-weight=\"normal\" fill=\"#252b3a\" >q0: </text><text x=\"20.0\" y=\"100.0\" font-size=\"16px\" dominant-baseline=\"middle\" text-anchor=\"start\" font-family=\"Arial\" font-weight=\"normal\" fill=\"#252b3a\" >q1: </text><line x1=\"48.8\" x2=\"836.8\" y1=\"40.0\" y2=\"40.0\" stroke=\"#adb0b8\" stroke-width=\"1\" /><line x1=\"48.8\" x2=\"836.8\" y1=\"100.0\" y2=\"100.0\" stroke=\"#adb0b8\" stroke-width=\"1\" /><rect x=\"72.8\" y=\"20.0\" width=\"40.0\" height=\"40\" rx=\"4\" ry=\"4\" stroke=\"#ffffff\" stroke-width=\"0\" fill=\"#5e7ce0\" fill-opacity=\"1\" /><text x=\"92.8\" y=\"40.0\" font-size=\"20px\" dominant-baseline=\"middle\" text-anchor=\"middle\" font-family=\"Arial\" font-weight=\"normal\" fill=\"#ffffff\" >X </text><rect x=\"132.8\" y=\"20.0\" width=\"40.0\" height=\"40\" rx=\"4\" ry=\"4\" stroke=\"#ffffff\" stroke-width=\"0\" fill=\"#5e7ce0\" fill-opacity=\"1\" /><text x=\"152.8\" y=\"40.0\" font-size=\"20px\" dominant-baseline=\"middle\" text-anchor=\"middle\" font-family=\"Arial\" font-weight=\"normal\" fill=\"#ffffff\" >Z </text><rect x=\"192.8\" y=\"20.0\" width=\"0\" height=\"100\" fill=\"gray\" fill-opacity=\"0.8\" /><rect x=\"192.8\" y=\"80.0\" width=\"40.0\" height=\"40\" rx=\"4\" ry=\"4\" stroke=\"#ffffff\" stroke-width=\"0\" fill=\"#5e7ce0\" fill-opacity=\"1\" /><text x=\"212.8\" y=\"100.0\" font-size=\"20px\" dominant-baseline=\"middle\" text-anchor=\"middle\" font-family=\"Arial\" font-weight=\"normal\" fill=\"#ffffff\" >X </text><rect x=\"252.8\" y=\"80.0\" width=\"40.0\" height=\"40\" rx=\"4\" ry=\"4\" stroke=\"#ffffff\" stroke-width=\"0\" fill=\"#5e7ce0\" fill-opacity=\"1\" /><text x=\"272.8\" y=\"100.0\" font-size=\"20px\" dominant-baseline=\"middle\" text-anchor=\"middle\" font-family=\"Arial\" font-weight=\"normal\" fill=\"#ffffff\" >Z </text><rect x=\"312.8\" y=\"20.0\" width=\"0\" height=\"100\" fill=\"gray\" fill-opacity=\"0.8\" /><rect x=\"312.8\" y=\"20.0\" width=\"20\" height=\"100\" fill=\"gray\" fill-opacity=\"0.8\" /><circle cx=\"372.8\" cy=\"40.0\" r=\"4\" fill=\"#16acff\" /><line x1=\"372.8\" x2=\"372.8\" y1=\"40.0\" y2=\"100.0\" stroke=\"#16acff\" stroke-width=\"3\" /><rect x=\"352.8\" y=\"80.0\" width=\"40\" height=\"40\" rx=\"4\" ry=\"4\" stroke=\"#ffffff\" stroke-width=\"0\" fill=\"#16acff\" fill-opacity=\"1\" /><line x1=\"358.8\" x2=\"386.8\" y1=\"100.0\" y2=\"100.0\" stroke=\"#ffffff\" stroke-width=\"4\" /><line x1=\"372.8\" x2=\"372.8\" y1=\"86.0\" y2=\"114.0\" stroke=\"#ffffff\" stroke-width=\"4\" /><rect x=\"412.8\" y=\"20.0\" width=\"20\" height=\"100\" fill=\"gray\" fill-opacity=\"0.8\" /><rect x=\"452.8\" y=\"80.0\" width=\"40.0\" height=\"40\" rx=\"4\" ry=\"4\" stroke=\"#ffffff\" stroke-width=\"0\" fill=\"#5e7ce0\" fill-opacity=\"1\" /><text x=\"472.8\" y=\"100.0\" font-size=\"20px\" dominant-baseline=\"middle\" text-anchor=\"middle\" font-family=\"Arial\" font-weight=\"normal\" fill=\"#ffffff\" >Z </text><rect x=\"512.8\" y=\"20.0\" width=\"0\" height=\"100\" fill=\"gray\" fill-opacity=\"0.8\" /><rect x=\"512.8\" y=\"20.0\" width=\"40.0\" height=\"40\" rx=\"4\" ry=\"4\" stroke=\"#ffffff\" stroke-width=\"0\" fill=\"#5e7ce0\" fill-opacity=\"1\" /><text x=\"532.8\" y=\"40.0\" font-size=\"20px\" dominant-baseline=\"middle\" text-anchor=\"middle\" font-family=\"Arial\" font-weight=\"normal\" fill=\"#ffffff\" >Z </text><rect x=\"572.8\" y=\"20.0\" width=\"0\" height=\"100\" fill=\"gray\" fill-opacity=\"0.8\" /><rect x=\"572.8\" y=\"80.0\" width=\"40.0\" height=\"40\" rx=\"4\" ry=\"4\" stroke=\"#ffffff\" stroke-width=\"0\" fill=\"#5e7ce0\" fill-opacity=\"1\" /><text x=\"592.8\" y=\"100.0\" font-size=\"20px\" dominant-baseline=\"middle\" text-anchor=\"middle\" font-family=\"Arial\" font-weight=\"normal\" fill=\"#ffffff\" >X </text><rect x=\"632.8\" y=\"20.0\" width=\"0\" height=\"100\" fill=\"gray\" fill-opacity=\"0.8\" /><rect x=\"632.8\" y=\"20.0\" width=\"40.0\" height=\"40\" rx=\"4\" ry=\"4\" stroke=\"#ffffff\" stroke-width=\"0\" fill=\"#5e7ce0\" fill-opacity=\"1\" /><text x=\"652.8\" y=\"40.0\" font-size=\"20px\" dominant-baseline=\"middle\" text-anchor=\"middle\" font-family=\"Arial\" font-weight=\"normal\" fill=\"#ffffff\" >Z </text><rect x=\"692.8\" y=\"20.0\" width=\"0\" height=\"100\" fill=\"gray\" fill-opacity=\"0.8\" /><rect x=\"692.8\" y=\"20.0\" width=\"40.0\" height=\"40\" rx=\"4\" ry=\"4\" stroke=\"#ffffff\" stroke-width=\"0\" fill=\"#5e7ce0\" fill-opacity=\"1\" /><text x=\"712.8\" y=\"40.0\" font-size=\"20px\" dominant-baseline=\"middle\" text-anchor=\"middle\" font-family=\"Arial\" font-weight=\"normal\" fill=\"#ffffff\" >X </text><rect x=\"752.8\" y=\"20.0\" width=\"0\" height=\"100\" fill=\"gray\" fill-opacity=\"0.8\" /><rect x=\"752.8\" y=\"80.0\" width=\"40.0\" height=\"40\" rx=\"4\" ry=\"4\" stroke=\"#ffffff\" stroke-width=\"0\" fill=\"#5e7ce0\" fill-opacity=\"1\" /><text x=\"772.8\" y=\"100.0\" font-size=\"20px\" dominant-baseline=\"middle\" text-anchor=\"middle\" font-family=\"Arial\" font-weight=\"normal\" fill=\"#ffffff\" >X </text><rect x=\"812.8\" y=\"20.0\" width=\"0\" height=\"100\" fill=\"gray\" fill-opacity=\"0.8\" /></svg>"
      ],
      "text/plain": [
       "<mindquantum.io.display.circuit_svg_drawer.SVGCircuit at 0x7fe29c42bac0>"
      ]
     },
     "execution_count": 26,
     "metadata": {},
     "output_type": "execute_result"
    }
   ],
   "source": [
    "# 为了便于复现，设定生成随机数的种子30，展示随机数全为1的情况，实际过程可以去掉该种子设定\n",
    "random.seed(30)\n",
    "\n",
    "CNOT_encoder(1, 0).svg()"
   ]
  },
  {
   "cell_type": "code",
   "execution_count": 27,
   "metadata": {},
   "outputs": [
    {
     "data": {
      "image/svg+xml": [
       "<svg xmlns=\"http://www.w3.org/2000/svg\" width=\"156.8\" height=\"128.0\" xmlns:xlink=\"http://www.w3.org/1999/xlink\"><rect x=\"0\" y=\"12.0\" width=\"156.8\" height=\"128.0\" fill=\"#ffffff\" /><text x=\"20.0\" y=\"40.0\" font-size=\"16px\" dominant-baseline=\"middle\" text-anchor=\"start\" font-family=\"Arial\" font-weight=\"normal\" fill=\"#252b3a\" >q0: </text><text x=\"20.0\" y=\"100.0\" font-size=\"16px\" dominant-baseline=\"middle\" text-anchor=\"start\" font-family=\"Arial\" font-weight=\"normal\" fill=\"#252b3a\" >q1: </text><line x1=\"48.8\" x2=\"136.8\" y1=\"40.0\" y2=\"40.0\" stroke=\"#adb0b8\" stroke-width=\"1\" /><line x1=\"48.8\" x2=\"136.8\" y1=\"100.0\" y2=\"100.0\" stroke=\"#adb0b8\" stroke-width=\"1\" /><circle cx=\"92.8\" cy=\"40.0\" r=\"4\" fill=\"#16acff\" /><line x1=\"92.8\" x2=\"92.8\" y1=\"40.0\" y2=\"100.0\" stroke=\"#16acff\" stroke-width=\"3\" /><rect x=\"72.8\" y=\"80.0\" width=\"40\" height=\"40\" rx=\"4\" ry=\"4\" stroke=\"#ffffff\" stroke-width=\"0\" fill=\"#16acff\" fill-opacity=\"1\" /><line x1=\"78.8\" x2=\"106.8\" y1=\"100.0\" y2=\"100.0\" stroke=\"#ffffff\" stroke-width=\"4\" /><line x1=\"92.8\" x2=\"92.8\" y1=\"86.0\" y2=\"114.0\" stroke=\"#ffffff\" stroke-width=\"4\" /></svg>"
      ],
      "text/plain": [
       "<mindquantum.io.display.circuit_svg_drawer.SVGCircuit at 0x7fe29c3c94f0>"
      ]
     },
     "execution_count": 27,
     "metadata": {},
     "output_type": "execute_result"
    }
   ],
   "source": [
    "# 搭建一个包含CNOT门的量子线路\n",
    "circuit_CNOT = Circuit()\n",
    "circuit_CNOT += X.on(1, 0)\n",
    "circuit_CNOT.svg()"
   ]
  },
  {
   "cell_type": "code",
   "execution_count": 28,
   "metadata": {},
   "outputs": [
    {
     "name": "stdout",
     "output_type": "stream",
     "text": [
      "上述两个量子线路等价\n"
     ]
    }
   ],
   "source": [
    "# 验证上述两个量子线路等价\n",
    "random.seed(30)\n",
    "\n",
    "if np.allclose(CNOT_encoder(1, 0).matrix(), circuit_CNOT.matrix()) == True:\n",
    "    print(\"上述两个量子线路等价\")\n",
    "else:\n",
    "    print(\"上述两个量子线路不等\")"
   ]
  },
  {
   "cell_type": "markdown",
   "metadata": {},
   "source": [
    "更一般地，验证`CNOT_encoder(1, 0)`的量子线路与包含`CNOT`门的量子线路的等价性。"
   ]
  },
  {
   "cell_type": "code",
   "execution_count": 29,
   "metadata": {},
   "outputs": [
    {
     "name": "stdout",
     "output_type": "stream",
     "text": [
      "CNOT_encoder(1, 0)的量子线路与包含CNOT门的量子线路等价\n"
     ]
    }
   ],
   "source": [
    "# 初始化变量\n",
    "verify_CNOT = 0\n",
    "\n",
    "# 重复验证100次\n",
    "for i in range(100):\n",
    "    # CNOT_encoder(1, 0)没有设定seed，因此每次产生的随机数都不一样\n",
    "    if np.allclose(CNOT_encoder(1, 0).matrix(), circuit_CNOT.matrix()) == True:\n",
    "        verify_CNOT += 1\n",
    "    else:\n",
    "        verify_CNOT += 0\n",
    "\n",
    "if verify_CNOT == 100:\n",
    "    print(\"CNOT_encoder(1, 0)的量子线路与包含CNOT门的量子线路等价\")\n",
    "else:\n",
    "    print(\"CNOT_encoder(1, 0)的量子线路与包含CNOT门的量子线路不等\")"
   ]
  },
  {
   "cell_type": "markdown",
   "metadata": {},
   "source": [
    "也就是说，我们通过MindQuantum成功复现Fig4，并验证该线路的正确性。"
   ]
  },
  {
   "cell_type": "markdown",
   "metadata": {},
   "source": [
    "![Fig_5.png](./Fig_5.png)"
   ]
  },
  {
   "cell_type": "code",
   "execution_count": 30,
   "metadata": {},
   "outputs": [
    {
     "data": {
      "image/svg+xml": [
       "<svg xmlns=\"http://www.w3.org/2000/svg\" width=\"856.8\" height=\"140.0\" xmlns:xlink=\"http://www.w3.org/1999/xlink\"><rect x=\"0\" y=\"0.0\" width=\"856.8\" height=\"140.0\" fill=\"#ffffff\" /><text x=\"20.0\" y=\"40.0\" font-size=\"16px\" dominant-baseline=\"middle\" text-anchor=\"start\" font-family=\"Arial\" font-weight=\"normal\" fill=\"#252b3a\" >q0: </text><text x=\"20.0\" y=\"100.0\" font-size=\"16px\" dominant-baseline=\"middle\" text-anchor=\"start\" font-family=\"Arial\" font-weight=\"normal\" fill=\"#252b3a\" >q1: </text><line x1=\"48.8\" x2=\"836.8\" y1=\"40.0\" y2=\"40.0\" stroke=\"#adb0b8\" stroke-width=\"1\" /><line x1=\"48.8\" x2=\"836.8\" y1=\"100.0\" y2=\"100.0\" stroke=\"#adb0b8\" stroke-width=\"1\" /><rect x=\"72.8\" y=\"20.0\" width=\"40.0\" height=\"40\" rx=\"4\" ry=\"4\" stroke=\"#ffffff\" stroke-width=\"0\" fill=\"#5e7ce0\" fill-opacity=\"1\" /><text x=\"92.8\" y=\"40.0\" font-size=\"20px\" dominant-baseline=\"middle\" text-anchor=\"middle\" font-family=\"Arial\" font-weight=\"normal\" fill=\"#ffffff\" >X </text><rect x=\"132.8\" y=\"20.0\" width=\"40.0\" height=\"40\" rx=\"4\" ry=\"4\" stroke=\"#ffffff\" stroke-width=\"0\" fill=\"#5e7ce0\" fill-opacity=\"1\" /><text x=\"152.8\" y=\"40.0\" font-size=\"20px\" dominant-baseline=\"middle\" text-anchor=\"middle\" font-family=\"Arial\" font-weight=\"normal\" fill=\"#ffffff\" >Z </text><rect x=\"192.8\" y=\"20.0\" width=\"0\" height=\"100\" fill=\"gray\" fill-opacity=\"0.8\" /><rect x=\"192.8\" y=\"80.0\" width=\"40.0\" height=\"40\" rx=\"4\" ry=\"4\" stroke=\"#ffffff\" stroke-width=\"0\" fill=\"#5e7ce0\" fill-opacity=\"1\" /><text x=\"212.8\" y=\"100.0\" font-size=\"20px\" dominant-baseline=\"middle\" text-anchor=\"middle\" font-family=\"Arial\" font-weight=\"normal\" fill=\"#ffffff\" >X </text><rect x=\"252.8\" y=\"80.0\" width=\"40.0\" height=\"40\" rx=\"4\" ry=\"4\" stroke=\"#ffffff\" stroke-width=\"0\" fill=\"#5e7ce0\" fill-opacity=\"1\" /><text x=\"272.8\" y=\"100.0\" font-size=\"20px\" dominant-baseline=\"middle\" text-anchor=\"middle\" font-family=\"Arial\" font-weight=\"normal\" fill=\"#ffffff\" >Z </text><rect x=\"312.8\" y=\"20.0\" width=\"0\" height=\"100\" fill=\"gray\" fill-opacity=\"0.8\" /><rect x=\"312.8\" y=\"20.0\" width=\"20\" height=\"100\" fill=\"gray\" fill-opacity=\"0.8\" /><circle cx=\"372.8\" cy=\"40.0\" r=\"4\" fill=\"#5e7ce0\" /><line x1=\"372.8\" x2=\"372.8\" y1=\"40.0\" y2=\"100.0\" stroke=\"#5e7ce0\" stroke-width=\"3\" /><rect x=\"352.8\" y=\"80.0\" width=\"40.0\" height=\"40\" rx=\"4\" ry=\"4\" stroke=\"#ffffff\" stroke-width=\"0\" fill=\"#5e7ce0\" fill-opacity=\"1\" /><text x=\"372.8\" y=\"100.0\" font-size=\"20px\" dominant-baseline=\"middle\" text-anchor=\"middle\" font-family=\"Arial\" font-weight=\"normal\" fill=\"#ffffff\" >Z </text><rect x=\"412.8\" y=\"20.0\" width=\"20\" height=\"100\" fill=\"gray\" fill-opacity=\"0.8\" /><rect x=\"452.8\" y=\"80.0\" width=\"40.0\" height=\"40\" rx=\"4\" ry=\"4\" stroke=\"#ffffff\" stroke-width=\"0\" fill=\"#5e7ce0\" fill-opacity=\"1\" /><text x=\"472.8\" y=\"100.0\" font-size=\"20px\" dominant-baseline=\"middle\" text-anchor=\"middle\" font-family=\"Arial\" font-weight=\"normal\" fill=\"#ffffff\" >Z </text><rect x=\"512.8\" y=\"20.0\" width=\"0\" height=\"100\" fill=\"gray\" fill-opacity=\"0.8\" /><rect x=\"512.8\" y=\"80.0\" width=\"40.0\" height=\"40\" rx=\"4\" ry=\"4\" stroke=\"#ffffff\" stroke-width=\"0\" fill=\"#5e7ce0\" fill-opacity=\"1\" /><text x=\"532.8\" y=\"100.0\" font-size=\"20px\" dominant-baseline=\"middle\" text-anchor=\"middle\" font-family=\"Arial\" font-weight=\"normal\" fill=\"#ffffff\" >X </text><rect x=\"572.8\" y=\"20.0\" width=\"0\" height=\"100\" fill=\"gray\" fill-opacity=\"0.8\" /><rect x=\"572.8\" y=\"20.0\" width=\"40.0\" height=\"40\" rx=\"4\" ry=\"4\" stroke=\"#ffffff\" stroke-width=\"0\" fill=\"#5e7ce0\" fill-opacity=\"1\" /><text x=\"592.8\" y=\"40.0\" font-size=\"20px\" dominant-baseline=\"middle\" text-anchor=\"middle\" font-family=\"Arial\" font-weight=\"normal\" fill=\"#ffffff\" >Z </text><rect x=\"632.8\" y=\"20.0\" width=\"0\" height=\"100\" fill=\"gray\" fill-opacity=\"0.8\" /><rect x=\"632.8\" y=\"20.0\" width=\"40.0\" height=\"40\" rx=\"4\" ry=\"4\" stroke=\"#ffffff\" stroke-width=\"0\" fill=\"#5e7ce0\" fill-opacity=\"1\" /><text x=\"652.8\" y=\"40.0\" font-size=\"20px\" dominant-baseline=\"middle\" text-anchor=\"middle\" font-family=\"Arial\" font-weight=\"normal\" fill=\"#ffffff\" >Z </text><rect x=\"692.8\" y=\"20.0\" width=\"0\" height=\"100\" fill=\"gray\" fill-opacity=\"0.8\" /><rect x=\"692.8\" y=\"20.0\" width=\"40.0\" height=\"40\" rx=\"4\" ry=\"4\" stroke=\"#ffffff\" stroke-width=\"0\" fill=\"#5e7ce0\" fill-opacity=\"1\" /><text x=\"712.8\" y=\"40.0\" font-size=\"20px\" dominant-baseline=\"middle\" text-anchor=\"middle\" font-family=\"Arial\" font-weight=\"normal\" fill=\"#ffffff\" >X </text><rect x=\"752.8\" y=\"20.0\" width=\"0\" height=\"100\" fill=\"gray\" fill-opacity=\"0.8\" /><rect x=\"752.8\" y=\"80.0\" width=\"40.0\" height=\"40\" rx=\"4\" ry=\"4\" stroke=\"#ffffff\" stroke-width=\"0\" fill=\"#5e7ce0\" fill-opacity=\"1\" /><text x=\"772.8\" y=\"100.0\" font-size=\"20px\" dominant-baseline=\"middle\" text-anchor=\"middle\" font-family=\"Arial\" font-weight=\"normal\" fill=\"#ffffff\" >Z </text><rect x=\"812.8\" y=\"20.0\" width=\"0\" height=\"100\" fill=\"gray\" fill-opacity=\"0.8\" /></svg>"
      ],
      "text/plain": [
       "<mindquantum.io.display.circuit_svg_drawer.SVGCircuit at 0x7fe29c3c9b50>"
      ]
     },
     "execution_count": 30,
     "metadata": {},
     "output_type": "execute_result"
    }
   ],
   "source": [
    "# 为了便于复现，设定生成随机数的种子30，展示随机数全为1的情况，实际过程可以去掉该种子设定\n",
    "random.seed(30)\n",
    "\n",
    "CZ_encoder(1, 0).svg()"
   ]
  },
  {
   "cell_type": "code",
   "execution_count": 31,
   "metadata": {},
   "outputs": [
    {
     "data": {
      "image/svg+xml": [
       "<svg xmlns=\"http://www.w3.org/2000/svg\" width=\"156.8\" height=\"128.0\" xmlns:xlink=\"http://www.w3.org/1999/xlink\"><rect x=\"0\" y=\"12.0\" width=\"156.8\" height=\"128.0\" fill=\"#ffffff\" /><text x=\"20.0\" y=\"40.0\" font-size=\"16px\" dominant-baseline=\"middle\" text-anchor=\"start\" font-family=\"Arial\" font-weight=\"normal\" fill=\"#252b3a\" >q0: </text><text x=\"20.0\" y=\"100.0\" font-size=\"16px\" dominant-baseline=\"middle\" text-anchor=\"start\" font-family=\"Arial\" font-weight=\"normal\" fill=\"#252b3a\" >q1: </text><line x1=\"48.8\" x2=\"136.8\" y1=\"40.0\" y2=\"40.0\" stroke=\"#adb0b8\" stroke-width=\"1\" /><line x1=\"48.8\" x2=\"136.8\" y1=\"100.0\" y2=\"100.0\" stroke=\"#adb0b8\" stroke-width=\"1\" /><circle cx=\"92.8\" cy=\"40.0\" r=\"4\" fill=\"#5e7ce0\" /><line x1=\"92.8\" x2=\"92.8\" y1=\"40.0\" y2=\"100.0\" stroke=\"#5e7ce0\" stroke-width=\"3\" /><rect x=\"72.8\" y=\"80.0\" width=\"40.0\" height=\"40\" rx=\"4\" ry=\"4\" stroke=\"#ffffff\" stroke-width=\"0\" fill=\"#5e7ce0\" fill-opacity=\"1\" /><text x=\"92.8\" y=\"100.0\" font-size=\"20px\" dominant-baseline=\"middle\" text-anchor=\"middle\" font-family=\"Arial\" font-weight=\"normal\" fill=\"#ffffff\" >Z </text></svg>"
      ],
      "text/plain": [
       "<mindquantum.io.display.circuit_svg_drawer.SVGCircuit at 0x7fe29c378f40>"
      ]
     },
     "execution_count": 31,
     "metadata": {},
     "output_type": "execute_result"
    }
   ],
   "source": [
    "# 搭建一个包含CZ门的量子线路\n",
    "circuit_CZ = Circuit()\n",
    "circuit_CZ += Z.on(1, 0)\n",
    "circuit_CZ.svg()"
   ]
  },
  {
   "cell_type": "code",
   "execution_count": 32,
   "metadata": {},
   "outputs": [
    {
     "name": "stdout",
     "output_type": "stream",
     "text": [
      "上述两个量子线路等价\n"
     ]
    }
   ],
   "source": [
    "# 验证上述两个量子线路等价\n",
    "random.seed(30)\n",
    "\n",
    "if np.allclose(CZ_encoder(1, 0).matrix(), circuit_CZ.matrix()) == True:\n",
    "    print(\"上述两个量子线路等价\")\n",
    "else:\n",
    "    print(\"上述两个量子线路不等\")"
   ]
  },
  {
   "cell_type": "markdown",
   "metadata": {},
   "source": [
    "更一般地，验证`CZ_encoder(1, 0)`的量子线路与包含`CZ`门的量子线路的等价性。"
   ]
  },
  {
   "cell_type": "code",
   "execution_count": 33,
   "metadata": {},
   "outputs": [
    {
     "name": "stdout",
     "output_type": "stream",
     "text": [
      "CZ_encoder(1, 0)的量子线路与包含CZ门的量子线路等价\n"
     ]
    }
   ],
   "source": [
    "# 初始化变量\n",
    "verify_CZ = 0\n",
    "\n",
    "# 重复验证100次\n",
    "for i in range(100):\n",
    "    # CZ_encoder(1, 0)没有设定seed，因此每次产生的随机数都不一样\n",
    "    if np.allclose(CZ_encoder(1, 0).matrix(), circuit_CZ.matrix()) == True:\n",
    "        verify_CZ += 1\n",
    "    else:\n",
    "        verify_CZ += 0\n",
    "\n",
    "if verify_CZ == 100:\n",
    "    print(\"CZ_encoder(1, 0)的量子线路与包含CZ门的量子线路等价\")\n",
    "else:\n",
    "    print(\"CZ_encoder(1, 0)的量子线路与包含CZ门的量子线路不等\")"
   ]
  },
  {
   "cell_type": "markdown",
   "metadata": {},
   "source": [
    "也就是说，我们通过MindQuantum成功复现Fig5，并验证该线路的正确性。"
   ]
  },
  {
   "cell_type": "markdown",
   "metadata": {},
   "source": [
    "![Fig_6.png](./Fig_6.png)"
   ]
  },
  {
   "cell_type": "code",
   "execution_count": 34,
   "metadata": {},
   "outputs": [
    {
     "data": {
      "image/svg+xml": [
       "<svg xmlns=\"http://www.w3.org/2000/svg\" width=\"736.8\" height=\"140.0\" xmlns:xlink=\"http://www.w3.org/1999/xlink\"><rect x=\"0\" y=\"0.0\" width=\"736.8\" height=\"140.0\" fill=\"#ffffff\" /><text x=\"20.0\" y=\"40.0\" font-size=\"16px\" dominant-baseline=\"middle\" text-anchor=\"start\" font-family=\"Arial\" font-weight=\"normal\" fill=\"#252b3a\" >q0: </text><text x=\"20.0\" y=\"100.0\" font-size=\"16px\" dominant-baseline=\"middle\" text-anchor=\"start\" font-family=\"Arial\" font-weight=\"normal\" fill=\"#252b3a\" >q1: </text><line x1=\"48.8\" x2=\"716.8\" y1=\"40.0\" y2=\"40.0\" stroke=\"#adb0b8\" stroke-width=\"1\" /><line x1=\"48.8\" x2=\"716.8\" y1=\"100.0\" y2=\"100.0\" stroke=\"#adb0b8\" stroke-width=\"1\" /><rect x=\"72.8\" y=\"20.0\" width=\"40.0\" height=\"40\" rx=\"4\" ry=\"4\" stroke=\"#ffffff\" stroke-width=\"0\" fill=\"#5e7ce0\" fill-opacity=\"1\" /><text x=\"92.8\" y=\"40.0\" font-size=\"20px\" dominant-baseline=\"middle\" text-anchor=\"middle\" font-family=\"Arial\" font-weight=\"normal\" fill=\"#ffffff\" >X </text><rect x=\"132.8\" y=\"20.0\" width=\"40.0\" height=\"40\" rx=\"4\" ry=\"4\" stroke=\"#ffffff\" stroke-width=\"0\" fill=\"#5e7ce0\" fill-opacity=\"1\" /><text x=\"152.8\" y=\"40.0\" font-size=\"20px\" dominant-baseline=\"middle\" text-anchor=\"middle\" font-family=\"Arial\" font-weight=\"normal\" fill=\"#ffffff\" >Z </text><rect x=\"192.8\" y=\"20.0\" width=\"0\" height=\"100\" fill=\"gray\" fill-opacity=\"0.8\" /><rect x=\"192.8\" y=\"80.0\" width=\"40.0\" height=\"40\" rx=\"4\" ry=\"4\" stroke=\"#ffffff\" stroke-width=\"0\" fill=\"#5e7ce0\" fill-opacity=\"1\" /><text x=\"212.8\" y=\"100.0\" font-size=\"20px\" dominant-baseline=\"middle\" text-anchor=\"middle\" font-family=\"Arial\" font-weight=\"normal\" fill=\"#ffffff\" >X </text><rect x=\"252.8\" y=\"80.0\" width=\"40.0\" height=\"40\" rx=\"4\" ry=\"4\" stroke=\"#ffffff\" stroke-width=\"0\" fill=\"#5e7ce0\" fill-opacity=\"1\" /><text x=\"272.8\" y=\"100.0\" font-size=\"20px\" dominant-baseline=\"middle\" text-anchor=\"middle\" font-family=\"Arial\" font-weight=\"normal\" fill=\"#ffffff\" >Z </text><rect x=\"312.8\" y=\"20.0\" width=\"0\" height=\"100\" fill=\"gray\" fill-opacity=\"0.8\" /><rect x=\"312.8\" y=\"20.0\" width=\"20\" height=\"100\" fill=\"gray\" fill-opacity=\"0.8\" /><line x1=\"372.8\" x2=\"372.8\" y1=\"20.0\" y2=\"120.0\" stroke-width=\"3\" stroke=\"#16acff\" /><rect x=\"352.8\" y=\"20.0\" width=\"40\" height=\"40\" rx=\"4\" ry=\"4\" fill=\"#16acff\" fill-opacity=\"1\" stroke=\"#ffffff\" stroke-width=\"0\" /><path d=\"M 363.2 36.31384387633061 L 368.0 28.0 L 372.8 36.31384387633061 L 369.44 36.31384387633061 L 369.44 52.0 L 366.56 52.0 L 366.56 36.31384387633061 Z\" fill=\"#ffffff\" /><path d=\"M 382.40000000000003 43.68615612366939 L 377.6 52.0 L 372.8 43.68615612366939 L 376.16 43.68615612366939 L 376.16 28.0 L 379.04 28.0 L 379.04 43.68615612366939 Z\" fill=\"#ffffff\" /><rect x=\"352.8\" y=\"80.0\" width=\"40\" height=\"40\" rx=\"4\" ry=\"4\" fill=\"#16acff\" fill-opacity=\"1\" stroke=\"#ffffff\" stroke-width=\"0\" /><path d=\"M 363.2 96.31384387633061 L 368.0 88.0 L 372.8 96.31384387633061 L 369.44 96.31384387633061 L 369.44 112.0 L 366.56 112.0 L 366.56 96.31384387633061 Z\" fill=\"#ffffff\" /><path d=\"M 382.40000000000003 103.68615612366939 L 377.6 112.0 L 372.8 103.68615612366939 L 376.16 103.68615612366939 L 376.16 88.0 L 379.04 88.0 L 379.04 103.68615612366939 Z\" fill=\"#ffffff\" /><rect x=\"412.8\" y=\"20.0\" width=\"20\" height=\"100\" fill=\"gray\" fill-opacity=\"0.8\" /><rect x=\"452.8\" y=\"20.0\" width=\"40.0\" height=\"40\" rx=\"4\" ry=\"4\" stroke=\"#ffffff\" stroke-width=\"0\" fill=\"#5e7ce0\" fill-opacity=\"1\" /><text x=\"472.8\" y=\"40.0\" font-size=\"20px\" dominant-baseline=\"middle\" text-anchor=\"middle\" font-family=\"Arial\" font-weight=\"normal\" fill=\"#ffffff\" >Z </text><rect x=\"512.8\" y=\"20.0\" width=\"0\" height=\"100\" fill=\"gray\" fill-opacity=\"0.8\" /><rect x=\"512.8\" y=\"20.0\" width=\"40.0\" height=\"40\" rx=\"4\" ry=\"4\" stroke=\"#ffffff\" stroke-width=\"0\" fill=\"#5e7ce0\" fill-opacity=\"1\" /><text x=\"532.8\" y=\"40.0\" font-size=\"20px\" dominant-baseline=\"middle\" text-anchor=\"middle\" font-family=\"Arial\" font-weight=\"normal\" fill=\"#ffffff\" >X </text><rect x=\"572.8\" y=\"20.0\" width=\"0\" height=\"100\" fill=\"gray\" fill-opacity=\"0.8\" /><rect x=\"572.8\" y=\"80.0\" width=\"40.0\" height=\"40\" rx=\"4\" ry=\"4\" stroke=\"#ffffff\" stroke-width=\"0\" fill=\"#5e7ce0\" fill-opacity=\"1\" /><text x=\"592.8\" y=\"100.0\" font-size=\"20px\" dominant-baseline=\"middle\" text-anchor=\"middle\" font-family=\"Arial\" font-weight=\"normal\" fill=\"#ffffff\" >Z </text><rect x=\"632.8\" y=\"20.0\" width=\"0\" height=\"100\" fill=\"gray\" fill-opacity=\"0.8\" /><rect x=\"632.8\" y=\"80.0\" width=\"40.0\" height=\"40\" rx=\"4\" ry=\"4\" stroke=\"#ffffff\" stroke-width=\"0\" fill=\"#5e7ce0\" fill-opacity=\"1\" /><text x=\"652.8\" y=\"100.0\" font-size=\"20px\" dominant-baseline=\"middle\" text-anchor=\"middle\" font-family=\"Arial\" font-weight=\"normal\" fill=\"#ffffff\" >X </text><rect x=\"692.8\" y=\"20.0\" width=\"0\" height=\"100\" fill=\"gray\" fill-opacity=\"0.8\" /></svg>"
      ],
      "text/plain": [
       "<mindquantum.io.display.circuit_svg_drawer.SVGCircuit at 0x7fe29c377430>"
      ]
     },
     "execution_count": 34,
     "metadata": {},
     "output_type": "execute_result"
    }
   ],
   "source": [
    "# 为了便于复现，设定生成随机数的种子30，展示随机数全为1的情况，实际过程可以去掉该种子设定\n",
    "random.seed(30)\n",
    "\n",
    "SWAP_encoder(1, 0).svg()"
   ]
  },
  {
   "cell_type": "code",
   "execution_count": 35,
   "metadata": {},
   "outputs": [
    {
     "data": {
      "image/svg+xml": [
       "<svg xmlns=\"http://www.w3.org/2000/svg\" width=\"156.8\" height=\"140.0\" xmlns:xlink=\"http://www.w3.org/1999/xlink\"><rect x=\"0\" y=\"0.0\" width=\"156.8\" height=\"140.0\" fill=\"#ffffff\" /><text x=\"20.0\" y=\"40.0\" font-size=\"16px\" dominant-baseline=\"middle\" text-anchor=\"start\" font-family=\"Arial\" font-weight=\"normal\" fill=\"#252b3a\" >q0: </text><text x=\"20.0\" y=\"100.0\" font-size=\"16px\" dominant-baseline=\"middle\" text-anchor=\"start\" font-family=\"Arial\" font-weight=\"normal\" fill=\"#252b3a\" >q1: </text><line x1=\"48.8\" x2=\"136.8\" y1=\"40.0\" y2=\"40.0\" stroke=\"#adb0b8\" stroke-width=\"1\" /><line x1=\"48.8\" x2=\"136.8\" y1=\"100.0\" y2=\"100.0\" stroke=\"#adb0b8\" stroke-width=\"1\" /><line x1=\"92.8\" x2=\"92.8\" y1=\"20.0\" y2=\"120.0\" stroke-width=\"3\" stroke=\"#16acff\" /><rect x=\"72.8\" y=\"20.0\" width=\"40\" height=\"40\" rx=\"4\" ry=\"4\" fill=\"#16acff\" fill-opacity=\"1\" stroke=\"#ffffff\" stroke-width=\"0\" /><path d=\"M 83.19999999999999 36.31384387633061 L 88.0 28.0 L 92.8 36.31384387633061 L 89.44 36.31384387633061 L 89.44 52.0 L 86.56 52.0 L 86.56 36.31384387633061 Z\" fill=\"#ffffff\" /><path d=\"M 102.4 43.68615612366939 L 97.6 52.0 L 92.8 43.68615612366939 L 96.16 43.68615612366939 L 96.16 28.0 L 99.03999999999999 28.0 L 99.03999999999999 43.68615612366939 Z\" fill=\"#ffffff\" /><rect x=\"72.8\" y=\"80.0\" width=\"40\" height=\"40\" rx=\"4\" ry=\"4\" fill=\"#16acff\" fill-opacity=\"1\" stroke=\"#ffffff\" stroke-width=\"0\" /><path d=\"M 83.19999999999999 96.31384387633061 L 88.0 88.0 L 92.8 96.31384387633061 L 89.44 96.31384387633061 L 89.44 112.0 L 86.56 112.0 L 86.56 96.31384387633061 Z\" fill=\"#ffffff\" /><path d=\"M 102.4 103.68615612366939 L 97.6 112.0 L 92.8 103.68615612366939 L 96.16 103.68615612366939 L 96.16 88.0 L 99.03999999999999 88.0 L 99.03999999999999 103.68615612366939 Z\" fill=\"#ffffff\" /></svg>"
      ],
      "text/plain": [
       "<mindquantum.io.display.circuit_svg_drawer.SVGCircuit at 0x7fe29c379070>"
      ]
     },
     "execution_count": 35,
     "metadata": {},
     "output_type": "execute_result"
    }
   ],
   "source": [
    "# 搭建一个包含SWAP门的量子线路\n",
    "circuit_SWAP = Circuit()\n",
    "circuit_SWAP += SWAP.on([0, 1])\n",
    "circuit_SWAP.svg()"
   ]
  },
  {
   "cell_type": "code",
   "execution_count": 36,
   "metadata": {},
   "outputs": [
    {
     "name": "stdout",
     "output_type": "stream",
     "text": [
      "上述两个量子线路等价\n"
     ]
    }
   ],
   "source": [
    "# 验证上述两个量子线路等价\n",
    "random.seed(30)\n",
    "\n",
    "if np.allclose(SWAP_encoder(1, 0).matrix(), circuit_SWAP.matrix()) == True:\n",
    "    print(\"上述两个量子线路等价\")\n",
    "else:\n",
    "    print(\"上述两个量子线路不等\")"
   ]
  },
  {
   "cell_type": "markdown",
   "metadata": {},
   "source": [
    "更一般地，验证`SWAP_encoder(1, 0)`的量子线路与包含`SWAP`门的量子线路的等价性。"
   ]
  },
  {
   "cell_type": "code",
   "execution_count": 37,
   "metadata": {},
   "outputs": [
    {
     "name": "stdout",
     "output_type": "stream",
     "text": [
      "SWAP_encoder(1, 0)的量子线路与包含SWAP门的量子线路等价\n"
     ]
    }
   ],
   "source": [
    "# 初始化变量\n",
    "verify_SWAP = 0\n",
    "\n",
    "# 重复验证100次\n",
    "for i in range(100):\n",
    "    # SWAP_encoder(1, 0)没有设定seed，因此每次产生的随机数都不一样\n",
    "    if np.allclose(SWAP_encoder(1, 0).matrix(), circuit_SWAP.matrix()) == True:\n",
    "        verify_SWAP += 1\n",
    "    else:\n",
    "        verify_SWAP += 0\n",
    "\n",
    "if verify_SWAP == 100:\n",
    "    print(\"SWAP_encoder(1, 0)的量子线路与包含SWAP门的量子线路等价\")\n",
    "else:\n",
    "    print(\"SWAP_encoder(1, 0)的量子线路与包含SWAP门的量子线路不等\")"
   ]
  },
  {
   "cell_type": "markdown",
   "metadata": {},
   "source": [
    "也就是说，我们通过MindQuantum成功复现Fig6，并验证该线路的正确性。"
   ]
  },
  {
   "cell_type": "markdown",
   "metadata": {},
   "source": [
    "![Fig_9.png](./Fig_9.png)"
   ]
  },
  {
   "cell_type": "code",
   "execution_count": 38,
   "metadata": {},
   "outputs": [
    {
     "data": {
      "image/svg+xml": [
       "<svg xmlns=\"http://www.w3.org/2000/svg\" width=\"1156.8\" height=\"200.0\" xmlns:xlink=\"http://www.w3.org/1999/xlink\"><rect x=\"0\" y=\"0.0\" width=\"1156.8\" height=\"200.0\" fill=\"#ffffff\" /><text x=\"20.0\" y=\"40.0\" font-size=\"16px\" dominant-baseline=\"middle\" text-anchor=\"start\" font-family=\"Arial\" font-weight=\"normal\" fill=\"#252b3a\" >q0: </text><text x=\"20.0\" y=\"100.0\" font-size=\"16px\" dominant-baseline=\"middle\" text-anchor=\"start\" font-family=\"Arial\" font-weight=\"normal\" fill=\"#252b3a\" >q1: </text><text x=\"20.0\" y=\"160.0\" font-size=\"16px\" dominant-baseline=\"middle\" text-anchor=\"start\" font-family=\"Arial\" font-weight=\"normal\" fill=\"#252b3a\" >q2: </text><line x1=\"48.8\" x2=\"1136.8\" y1=\"40.0\" y2=\"40.0\" stroke=\"#adb0b8\" stroke-width=\"1\" /><line x1=\"48.8\" x2=\"1136.8\" y1=\"100.0\" y2=\"100.0\" stroke=\"#adb0b8\" stroke-width=\"1\" /><line x1=\"48.8\" x2=\"1136.8\" y1=\"160.0\" y2=\"160.0\" stroke=\"#adb0b8\" stroke-width=\"1\" /><rect x=\"72.8\" y=\"20.0\" width=\"40.0\" height=\"40\" rx=\"4\" ry=\"4\" stroke=\"#ffffff\" stroke-width=\"0\" fill=\"#5e7ce0\" fill-opacity=\"1\" /><text x=\"92.8\" y=\"40.0\" font-size=\"20px\" dominant-baseline=\"middle\" text-anchor=\"middle\" font-family=\"Arial\" font-weight=\"normal\" fill=\"#ffffff\" >X </text><rect x=\"132.8\" y=\"20.0\" width=\"40.0\" height=\"40\" rx=\"4\" ry=\"4\" stroke=\"#ffffff\" stroke-width=\"0\" fill=\"#5e7ce0\" fill-opacity=\"1\" /><text x=\"152.8\" y=\"40.0\" font-size=\"20px\" dominant-baseline=\"middle\" text-anchor=\"middle\" font-family=\"Arial\" font-weight=\"normal\" fill=\"#ffffff\" >Z </text><rect x=\"192.8\" y=\"20.0\" width=\"0\" height=\"160\" fill=\"gray\" fill-opacity=\"0.8\" /><rect x=\"192.8\" y=\"80.0\" width=\"40.0\" height=\"40\" rx=\"4\" ry=\"4\" stroke=\"#ffffff\" stroke-width=\"0\" fill=\"#5e7ce0\" fill-opacity=\"1\" /><text x=\"212.8\" y=\"100.0\" font-size=\"20px\" dominant-baseline=\"middle\" text-anchor=\"middle\" font-family=\"Arial\" font-weight=\"normal\" fill=\"#ffffff\" >X </text><rect x=\"252.8\" y=\"80.0\" width=\"40.0\" height=\"40\" rx=\"4\" ry=\"4\" stroke=\"#ffffff\" stroke-width=\"0\" fill=\"#5e7ce0\" fill-opacity=\"1\" /><text x=\"272.8\" y=\"100.0\" font-size=\"20px\" dominant-baseline=\"middle\" text-anchor=\"middle\" font-family=\"Arial\" font-weight=\"normal\" fill=\"#ffffff\" >Z </text><rect x=\"312.8\" y=\"20.0\" width=\"0\" height=\"160\" fill=\"gray\" fill-opacity=\"0.8\" /><rect x=\"312.8\" y=\"140.0\" width=\"40.0\" height=\"40\" rx=\"4\" ry=\"4\" stroke=\"#ffffff\" stroke-width=\"0\" fill=\"#5e7ce0\" fill-opacity=\"1\" /><text x=\"332.8\" y=\"160.0\" font-size=\"20px\" dominant-baseline=\"middle\" text-anchor=\"middle\" font-family=\"Arial\" font-weight=\"normal\" fill=\"#ffffff\" >X </text><rect x=\"372.8\" y=\"140.0\" width=\"40.0\" height=\"40\" rx=\"4\" ry=\"4\" stroke=\"#ffffff\" stroke-width=\"0\" fill=\"#5e7ce0\" fill-opacity=\"1\" /><text x=\"392.8\" y=\"160.0\" font-size=\"20px\" dominant-baseline=\"middle\" text-anchor=\"middle\" font-family=\"Arial\" font-weight=\"normal\" fill=\"#ffffff\" >Z </text><rect x=\"432.8\" y=\"20.0\" width=\"0\" height=\"160\" fill=\"gray\" fill-opacity=\"0.8\" /><rect x=\"432.8\" y=\"20.0\" width=\"20\" height=\"160\" fill=\"gray\" fill-opacity=\"0.8\" /><circle cx=\"492.8\" cy=\"40.0\" r=\"4\" fill=\"#5e7ce0\" /><circle cx=\"492.8\" cy=\"100.0\" r=\"4\" fill=\"#5e7ce0\" /><line x1=\"492.8\" x2=\"492.8\" y1=\"40.0\" y2=\"160.0\" stroke=\"#5e7ce0\" stroke-width=\"3\" /><rect x=\"472.8\" y=\"140.0\" width=\"40.0\" height=\"40\" rx=\"4\" ry=\"4\" stroke=\"#ffffff\" stroke-width=\"0\" fill=\"#5e7ce0\" fill-opacity=\"1\" /><text x=\"492.8\" y=\"160.0\" font-size=\"20px\" dominant-baseline=\"middle\" text-anchor=\"middle\" font-family=\"Arial\" font-weight=\"normal\" fill=\"#ffffff\" >X </text><rect x=\"532.8\" y=\"20.0\" width=\"20\" height=\"160\" fill=\"gray\" fill-opacity=\"0.8\" /><rect x=\"572.8\" y=\"140.0\" width=\"40.0\" height=\"40\" rx=\"4\" ry=\"4\" stroke=\"#ffffff\" stroke-width=\"0\" fill=\"#5e7ce0\" fill-opacity=\"1\" /><text x=\"592.8\" y=\"160.0\" font-size=\"20px\" dominant-baseline=\"middle\" text-anchor=\"middle\" font-family=\"Arial\" font-weight=\"normal\" fill=\"#ffffff\" >Z </text><rect x=\"632.8\" y=\"20.0\" width=\"0\" height=\"160\" fill=\"gray\" fill-opacity=\"0.8\" /><circle cx=\"652.8\" cy=\"40.0\" r=\"4\" fill=\"#5e7ce0\" /><line x1=\"652.8\" x2=\"652.8\" y1=\"40.0\" y2=\"100.0\" stroke=\"#5e7ce0\" stroke-width=\"3\" /><rect x=\"632.8\" y=\"80.0\" width=\"40.0\" height=\"40\" rx=\"4\" ry=\"4\" stroke=\"#ffffff\" stroke-width=\"0\" fill=\"#5e7ce0\" fill-opacity=\"1\" /><text x=\"652.8\" y=\"100.0\" font-size=\"20px\" dominant-baseline=\"middle\" text-anchor=\"middle\" font-family=\"Arial\" font-weight=\"normal\" fill=\"#ffffff\" >Z </text><rect x=\"692.8\" y=\"20.0\" width=\"0\" height=\"160\" fill=\"gray\" fill-opacity=\"0.8\" /><rect x=\"692.8\" y=\"140.0\" width=\"40.0\" height=\"40\" rx=\"4\" ry=\"4\" stroke=\"#ffffff\" stroke-width=\"0\" fill=\"#5e7ce0\" fill-opacity=\"1\" /><text x=\"712.8\" y=\"160.0\" font-size=\"20px\" dominant-baseline=\"middle\" text-anchor=\"middle\" font-family=\"Arial\" font-weight=\"normal\" fill=\"#ffffff\" >X </text><rect x=\"752.8\" y=\"20.0\" width=\"0\" height=\"160\" fill=\"gray\" fill-opacity=\"0.8\" /><rect x=\"752.8\" y=\"80.0\" width=\"40.0\" height=\"40\" rx=\"4\" ry=\"4\" stroke=\"#ffffff\" stroke-width=\"0\" fill=\"#5e7ce0\" fill-opacity=\"1\" /><text x=\"772.8\" y=\"100.0\" font-size=\"20px\" dominant-baseline=\"middle\" text-anchor=\"middle\" font-family=\"Arial\" font-weight=\"normal\" fill=\"#ffffff\" >Z </text><rect x=\"812.8\" y=\"20.0\" width=\"0\" height=\"160\" fill=\"gray\" fill-opacity=\"0.8\" /><rect x=\"812.8\" y=\"80.0\" width=\"40.0\" height=\"40\" rx=\"4\" ry=\"4\" stroke=\"#ffffff\" stroke-width=\"0\" fill=\"#5e7ce0\" fill-opacity=\"1\" /><text x=\"832.8\" y=\"100.0\" font-size=\"20px\" dominant-baseline=\"middle\" text-anchor=\"middle\" font-family=\"Arial\" font-weight=\"normal\" fill=\"#ffffff\" >X </text><rect x=\"872.8\" y=\"20.0\" width=\"0\" height=\"160\" fill=\"gray\" fill-opacity=\"0.8\" /><circle cx=\"892.8\" cy=\"40.0\" r=\"4\" fill=\"#16acff\" /><line x1=\"892.8\" x2=\"892.8\" y1=\"40.0\" y2=\"160.0\" stroke=\"#16acff\" stroke-width=\"3\" /><rect x=\"872.8\" y=\"140.0\" width=\"40\" height=\"40\" rx=\"4\" ry=\"4\" stroke=\"#ffffff\" stroke-width=\"0\" fill=\"#16acff\" fill-opacity=\"1\" /><line x1=\"878.8\" x2=\"906.8\" y1=\"160.0\" y2=\"160.0\" stroke=\"#ffffff\" stroke-width=\"4\" /><line x1=\"892.8\" x2=\"892.8\" y1=\"146.0\" y2=\"174.0\" stroke=\"#ffffff\" stroke-width=\"4\" /><rect x=\"932.8\" y=\"20.0\" width=\"0\" height=\"160\" fill=\"gray\" fill-opacity=\"0.8\" /><rect x=\"932.8\" y=\"20.0\" width=\"40.0\" height=\"40\" rx=\"4\" ry=\"4\" stroke=\"#ffffff\" stroke-width=\"0\" fill=\"#5e7ce0\" fill-opacity=\"1\" /><text x=\"952.8\" y=\"40.0\" font-size=\"20px\" dominant-baseline=\"middle\" text-anchor=\"middle\" font-family=\"Arial\" font-weight=\"normal\" fill=\"#ffffff\" >Z </text><rect x=\"992.8\" y=\"20.0\" width=\"0\" height=\"160\" fill=\"gray\" fill-opacity=\"0.8\" /><rect x=\"992.8\" y=\"20.0\" width=\"40.0\" height=\"40\" rx=\"4\" ry=\"4\" stroke=\"#ffffff\" stroke-width=\"0\" fill=\"#5e7ce0\" fill-opacity=\"1\" /><text x=\"1012.8\" y=\"40.0\" font-size=\"20px\" dominant-baseline=\"middle\" text-anchor=\"middle\" font-family=\"Arial\" font-weight=\"normal\" fill=\"#ffffff\" >X </text><rect x=\"1052.8\" y=\"20.0\" width=\"0\" height=\"160\" fill=\"gray\" fill-opacity=\"0.8\" /><circle cx=\"1072.8\" cy=\"100.0\" r=\"4\" fill=\"#16acff\" /><line x1=\"1072.8\" x2=\"1072.8\" y1=\"100.0\" y2=\"160.0\" stroke=\"#16acff\" stroke-width=\"3\" /><rect x=\"1052.8\" y=\"140.0\" width=\"40\" height=\"40\" rx=\"4\" ry=\"4\" stroke=\"#ffffff\" stroke-width=\"0\" fill=\"#16acff\" fill-opacity=\"1\" /><line x1=\"1058.8\" x2=\"1086.8\" y1=\"160.0\" y2=\"160.0\" stroke=\"#ffffff\" stroke-width=\"4\" /><line x1=\"1072.8\" x2=\"1072.8\" y1=\"146.0\" y2=\"174.0\" stroke=\"#ffffff\" stroke-width=\"4\" /><rect x=\"1112.8\" y=\"20.0\" width=\"0\" height=\"160\" fill=\"gray\" fill-opacity=\"0.8\" /></svg>"
      ],
      "text/plain": [
       "<mindquantum.io.display.circuit_svg_drawer.SVGCircuit at 0x7fe29c37a820>"
      ]
     },
     "execution_count": 38,
     "metadata": {},
     "output_type": "execute_result"
    }
   ],
   "source": [
    "# 为了便于复现，设定生成随机数的种子30，展示随机数全为1的情况，实际过程可以去掉该种子设定\n",
    "random.seed(53)\n",
    "\n",
    "Toffoli_encoder(2, [0, 1]).svg()"
   ]
  },
  {
   "cell_type": "code",
   "execution_count": 39,
   "metadata": {},
   "outputs": [
    {
     "data": {
      "image/svg+xml": [
       "<svg xmlns=\"http://www.w3.org/2000/svg\" width=\"156.8\" height=\"188.0\" xmlns:xlink=\"http://www.w3.org/1999/xlink\"><rect x=\"0\" y=\"12.0\" width=\"156.8\" height=\"188.0\" fill=\"#ffffff\" /><text x=\"20.0\" y=\"40.0\" font-size=\"16px\" dominant-baseline=\"middle\" text-anchor=\"start\" font-family=\"Arial\" font-weight=\"normal\" fill=\"#252b3a\" >q0: </text><text x=\"20.0\" y=\"100.0\" font-size=\"16px\" dominant-baseline=\"middle\" text-anchor=\"start\" font-family=\"Arial\" font-weight=\"normal\" fill=\"#252b3a\" >q1: </text><text x=\"20.0\" y=\"160.0\" font-size=\"16px\" dominant-baseline=\"middle\" text-anchor=\"start\" font-family=\"Arial\" font-weight=\"normal\" fill=\"#252b3a\" >q2: </text><line x1=\"48.8\" x2=\"136.8\" y1=\"40.0\" y2=\"40.0\" stroke=\"#adb0b8\" stroke-width=\"1\" /><line x1=\"48.8\" x2=\"136.8\" y1=\"100.0\" y2=\"100.0\" stroke=\"#adb0b8\" stroke-width=\"1\" /><line x1=\"48.8\" x2=\"136.8\" y1=\"160.0\" y2=\"160.0\" stroke=\"#adb0b8\" stroke-width=\"1\" /><circle cx=\"92.8\" cy=\"40.0\" r=\"4\" fill=\"#5e7ce0\" /><circle cx=\"92.8\" cy=\"100.0\" r=\"4\" fill=\"#5e7ce0\" /><line x1=\"92.8\" x2=\"92.8\" y1=\"40.0\" y2=\"160.0\" stroke=\"#5e7ce0\" stroke-width=\"3\" /><rect x=\"72.8\" y=\"140.0\" width=\"40.0\" height=\"40\" rx=\"4\" ry=\"4\" stroke=\"#ffffff\" stroke-width=\"0\" fill=\"#5e7ce0\" fill-opacity=\"1\" /><text x=\"92.8\" y=\"160.0\" font-size=\"20px\" dominant-baseline=\"middle\" text-anchor=\"middle\" font-family=\"Arial\" font-weight=\"normal\" fill=\"#ffffff\" >X </text></svg>"
      ],
      "text/plain": [
       "<mindquantum.io.display.circuit_svg_drawer.SVGCircuit at 0x7fe29c37afa0>"
      ]
     },
     "execution_count": 39,
     "metadata": {},
     "output_type": "execute_result"
    }
   ],
   "source": [
    "# 搭建一个包含Toffoli门的量子线路\n",
    "circuit_Toffoli = Circuit()\n",
    "circuit_Toffoli += X.on(2, [0, 1])\n",
    "circuit_Toffoli.svg()"
   ]
  },
  {
   "cell_type": "code",
   "execution_count": 40,
   "metadata": {},
   "outputs": [
    {
     "name": "stdout",
     "output_type": "stream",
     "text": [
      "上述两个量子线路等价\n"
     ]
    }
   ],
   "source": [
    "# 验证上述两个量子线路等价\n",
    "random.seed(53)\n",
    "\n",
    "if np.allclose(Toffoli_encoder(2, [0, 1]).matrix(), circuit_Toffoli.matrix()) == True:\n",
    "    print(\"上述两个量子线路等价\")\n",
    "else:\n",
    "    print(\"上述两个量子线路不等\")"
   ]
  },
  {
   "cell_type": "markdown",
   "metadata": {},
   "source": [
    "更一般地，验证`Toffoli_encoder(2, [0, 1])`的量子线路与包含`Toffoli`门的量子线路的等价性。"
   ]
  },
  {
   "cell_type": "code",
   "execution_count": 41,
   "metadata": {},
   "outputs": [
    {
     "name": "stdout",
     "output_type": "stream",
     "text": [
      "Toffoli_encoder(2, [0, 1])的量子线路与包含Toffoli门的量子线路等价\n"
     ]
    }
   ],
   "source": [
    "# 初始化变量\n",
    "verify_Toffoli = 0\n",
    "\n",
    "# 重复验证100次\n",
    "for i in range(100):\n",
    "    # Toffoli_encoder(2, [0, 1])没有设定seed，因此每次产生的随机数都不一样\n",
    "    if np.allclose(Toffoli_encoder(2, [0, 1]).matrix(), circuit_Toffoli.matrix()) == True:\n",
    "        verify_Toffoli += 1\n",
    "    else:\n",
    "        verify_Toffoli += 0\n",
    "\n",
    "if verify_Toffoli == 100:\n",
    "    print(\"Toffoli_encoder(2, [0, 1])的量子线路与包含Toffoli门的量子线路等价\")\n",
    "else:\n",
    "    print(\"Toffoli_encoder(2, [0, 1])的量子线路与包含Toffoli门的量子线路不等\")"
   ]
  },
  {
   "cell_type": "markdown",
   "metadata": {},
   "source": [
    "也就是说，我们通过MindQuantum成功复现Fig9，并验证该线路的正确性。"
   ]
  },
  {
   "cell_type": "markdown",
   "metadata": {},
   "source": [
    "至此，我们通过MindQuantum验证（2）论文中的Fig2-Fig6和Fig9（`H` gate, `Fredkin` gate, `CNOT` gate, `CZ` gate, `SWAP` gate，`Toffoli` gate）的线路正确性。"
   ]
  },
  {
   "cell_type": "markdown",
   "metadata": {},
   "source": [
    "### 通过MindQuantum验证（3）论文中的Fig7可以计算2个16维向量$\\vec{u}$和$\\vec{v}$的欧几里得距离（即$n=4$的情况）；"
   ]
  },
  {
   "cell_type": "code",
   "execution_count": 42,
   "metadata": {},
   "outputs": [
    {
     "name": "stdout",
     "output_type": "stream",
     "text": [
      "向量u为 [ 5  6  8  6  1  6  4  8 10  1  8  5  1  0  8 10] ，向量v为 [ 8 10  8  2  6  8  1  8  3  5  3  6  7  9  0  8]\n"
     ]
    }
   ],
   "source": [
    "# 为了便于复现，设定生成随机数的种子\n",
    "random.seed(9)\n",
    "\n",
    "# 随机生成两个实且非负的16维向量u和v\n",
    "# random.randint(0, 11, 16)可以返回16个[0,10]之间的任意整数\n",
    "u_16 = random.randint(0, 11, 16)\n",
    "v_16 = random.randint(0, 11, 16)\n",
    "\n",
    "print(\"向量u为\", u_16, \"，向量v为\", v_16)"
   ]
  },
  {
   "cell_type": "code",
   "execution_count": 43,
   "metadata": {},
   "outputs": [
    {
     "name": "stdout",
     "output_type": "stream",
     "text": [
      "向量u的模长为 25.15949125081825 ，向量v的模长为 25.88435821108957\n"
     ]
    }
   ],
   "source": [
    "# 分别求出向量u和向量v的模长\n",
    "length_u_16 = np.sqrt(sum(u_16 * u_16))\n",
    "length_v_16 = np.sqrt(sum(v_16 * v_16))\n",
    "\n",
    "print(\"向量u的模长为\", length_u_16, \"，向量v的模长为\", length_v_16)"
   ]
  },
  {
   "cell_type": "code",
   "execution_count": 44,
   "metadata": {},
   "outputs": [
    {
     "name": "stdout",
     "output_type": "stream",
     "text": [
      "归一化后的向量u为 [0.19873216 0.23847859 0.31797145 0.23847859 0.03974643 0.23847859\n",
      " 0.15898573 0.31797145 0.39746432 0.03974643 0.31797145 0.19873216\n",
      " 0.03974643 0.         0.31797145 0.39746432] ，\n",
      "归一化后的向量v为 [0.30906696 0.3863337  0.30906696 0.07726674 0.23180022 0.30906696\n",
      " 0.03863337 0.30906696 0.11590011 0.19316685 0.11590011 0.23180022\n",
      " 0.27043359 0.34770033 0.         0.30906696]\n"
     ]
    }
   ],
   "source": [
    "# 根据向量u和向量v的模长，将它们进行归一化处理\n",
    "u_nor_16 = u_16 / length_u_16\n",
    "v_nor_16 = v_16 / length_v_16\n",
    "\n",
    "print(\"归一化后的向量u为\", u_nor_16, \"，\\n归一化后的向量v为\", v_nor_16)"
   ]
  },
  {
   "cell_type": "code",
   "execution_count": 45,
   "metadata": {},
   "outputs": [
    {
     "name": "stdout",
     "output_type": "stream",
     "text": [
      "归一化的向量u和向量v的内积等于 0.7278453056751975\n"
     ]
    }
   ],
   "source": [
    "# 两个归一化向量的内积\n",
    "inner_product_16 = np.dot(v_nor_16, u_nor_16)\n",
    "\n",
    "print(\"归一化的向量u和向量v的内积等于\", inner_product_16)"
   ]
  },
  {
   "cell_type": "code",
   "execution_count": 46,
   "metadata": {},
   "outputs": [
    {
     "name": "stdout",
     "output_type": "stream",
     "text": [
      "向量u和向量v的欧几里得距离等于 18.84144368141677\n"
     ]
    }
   ],
   "source": [
    "# 向量u和向量v的欧几里得距离\n",
    "D_Euc_16 = np.sqrt(length_u_16**2 + length_v_16**2 - 2 * length_u_16 * length_v_16 * inner_product_16)\n",
    "\n",
    "print(\"向量u和向量v的欧几里得距离等于\", D_Euc_16)"
   ]
  },
  {
   "cell_type": "markdown",
   "metadata": {},
   "source": [
    "通过经典计算的方法，我们可以得到向量$\\vec{u}$和$\\vec{v}$的欧几里得距离$D_{Euc16}=18.84144368141677$。\n",
    "\n",
    "下面我们尝试用量子计算的方法来计算，即复现论文中的Fig7。"
   ]
  },
  {
   "cell_type": "markdown",
   "metadata": {},
   "source": [
    "![Fig_7.png](./Fig_7.png)"
   ]
  },
  {
   "cell_type": "markdown",
   "metadata": {},
   "source": [
    "- 第一步：初态制备"
   ]
  },
  {
   "cell_type": "code",
   "execution_count": 47,
   "metadata": {},
   "outputs": [
    {
     "name": "stdout",
     "output_type": "stream",
     "text": [
      "归一化的向量u和向量v的张量积为 [0.06142154 0.07370585 0.09827447 0.07370585 0.01228431 0.07370585\n",
      " 0.04913724 0.09827447 0.12284309 0.01228431 0.09827447 0.06142154\n",
      " 0.01228431 0.         0.09827447 0.12284309 0.07677693 0.09213232\n",
      " 0.12284309 0.09213232 0.01535539 0.09213232 0.06142154 0.12284309\n",
      " 0.15355386 0.01535539 0.12284309 0.07677693 0.01535539 0.\n",
      " 0.12284309 0.15355386 0.06142154 0.07370585 0.09827447 0.07370585\n",
      " 0.01228431 0.07370585 0.04913724 0.09827447 0.12284309 0.01228431\n",
      " 0.09827447 0.06142154 0.01228431 0.         0.09827447 0.12284309\n",
      " 0.01535539 0.01842646 0.02456862 0.01842646 0.00307108 0.01842646\n",
      " 0.01228431 0.02456862 0.03071077 0.00307108 0.02456862 0.01535539\n",
      " 0.00307108 0.         0.02456862 0.03071077 0.04606616 0.05527939\n",
      " 0.07370585 0.05527939 0.00921323 0.05527939 0.03685293 0.07370585\n",
      " 0.09213232 0.00921323 0.07370585 0.04606616 0.00921323 0.\n",
      " 0.07370585 0.09213232 0.06142154 0.07370585 0.09827447 0.07370585\n",
      " 0.01228431 0.07370585 0.04913724 0.09827447 0.12284309 0.01228431\n",
      " 0.09827447 0.06142154 0.01228431 0.         0.09827447 0.12284309\n",
      " 0.00767769 0.00921323 0.01228431 0.00921323 0.00153554 0.00921323\n",
      " 0.00614215 0.01228431 0.01535539 0.00153554 0.01228431 0.00767769\n",
      " 0.00153554 0.         0.01228431 0.01535539 0.06142154 0.07370585\n",
      " 0.09827447 0.07370585 0.01228431 0.07370585 0.04913724 0.09827447\n",
      " 0.12284309 0.01228431 0.09827447 0.06142154 0.01228431 0.\n",
      " 0.09827447 0.12284309 0.02303308 0.0276397  0.03685293 0.0276397\n",
      " 0.00460662 0.0276397  0.01842646 0.03685293 0.04606616 0.00460662\n",
      " 0.03685293 0.02303308 0.00460662 0.         0.03685293 0.04606616\n",
      " 0.03838847 0.04606616 0.06142154 0.04606616 0.00767769 0.04606616\n",
      " 0.03071077 0.06142154 0.07677693 0.00767769 0.06142154 0.03838847\n",
      " 0.00767769 0.         0.06142154 0.07677693 0.02303308 0.0276397\n",
      " 0.03685293 0.0276397  0.00460662 0.0276397  0.01842646 0.03685293\n",
      " 0.04606616 0.00460662 0.03685293 0.02303308 0.00460662 0.\n",
      " 0.03685293 0.04606616 0.04606616 0.05527939 0.07370585 0.05527939\n",
      " 0.00921323 0.05527939 0.03685293 0.07370585 0.09213232 0.00921323\n",
      " 0.07370585 0.04606616 0.00921323 0.         0.07370585 0.09213232\n",
      " 0.05374385 0.06449262 0.08599016 0.06449262 0.01074877 0.06449262\n",
      " 0.04299508 0.08599016 0.1074877  0.01074877 0.08599016 0.05374385\n",
      " 0.01074877 0.         0.08599016 0.1074877  0.06909924 0.08291909\n",
      " 0.11055878 0.08291909 0.01381985 0.08291909 0.05527939 0.11055878\n",
      " 0.13819848 0.01381985 0.11055878 0.06909924 0.01381985 0.\n",
      " 0.11055878 0.13819848 0.         0.         0.         0.\n",
      " 0.         0.         0.         0.         0.         0.\n",
      " 0.         0.         0.         0.         0.         0.\n",
      " 0.06142154 0.07370585 0.09827447 0.07370585 0.01228431 0.07370585\n",
      " 0.04913724 0.09827447 0.12284309 0.01228431 0.09827447 0.06142154\n",
      " 0.01228431 0.         0.09827447 0.12284309]\n"
     ]
    }
   ],
   "source": [
    "# 归一化的向量u和向量v的张量积\n",
    "# 注意，越靠上的量子比特，做张量积的时候越靠右，因为MindQuantum的读取顺序是从右往左\n",
    "pre_16 = np.kron(v_nor_16, u_nor_16)\n",
    "\n",
    "print(\"归一化的向量u和向量v的张量积为\", pre_16)"
   ]
  },
  {
   "cell_type": "code",
   "execution_count": 48,
   "metadata": {},
   "outputs": [
    {
     "name": "stdout",
     "output_type": "stream",
     "text": [
      "|+>态对应的向量为 [0.70710678 0.70710678]\n"
     ]
    }
   ],
   "source": [
    "# |+>态对应的向量\n",
    "state_plus = 1 / np.sqrt(2) * np.array([1, 1])\n",
    "\n",
    "print(\"|+>态对应的向量为\", state_plus)"
   ]
  },
  {
   "cell_type": "code",
   "execution_count": 49,
   "metadata": {},
   "outputs": [
    {
     "name": "stdout",
     "output_type": "stream",
     "text": [
      "初态对应的向量为 [0.04343159 0.04343159 0.05211791 0.05211791 0.06949055 0.06949055\n",
      " 0.05211791 0.05211791 0.00868632 0.00868632 0.05211791 0.05211791\n",
      " 0.03474527 0.03474527 0.06949055 0.06949055 0.08686318 0.08686318\n",
      " 0.00868632 0.00868632 0.06949055 0.06949055 0.04343159 0.04343159\n",
      " 0.00868632 0.00868632 0.         0.         0.06949055 0.06949055\n",
      " 0.08686318 0.08686318 0.05428949 0.05428949 0.06514739 0.06514739\n",
      " 0.08686318 0.08686318 0.06514739 0.06514739 0.0108579  0.0108579\n",
      " 0.06514739 0.06514739 0.04343159 0.04343159 0.08686318 0.08686318\n",
      " 0.10857898 0.10857898 0.0108579  0.0108579  0.08686318 0.08686318\n",
      " 0.05428949 0.05428949 0.0108579  0.0108579  0.         0.\n",
      " 0.08686318 0.08686318 0.10857898 0.10857898 0.04343159 0.04343159\n",
      " 0.05211791 0.05211791 0.06949055 0.06949055 0.05211791 0.05211791\n",
      " 0.00868632 0.00868632 0.05211791 0.05211791 0.03474527 0.03474527\n",
      " 0.06949055 0.06949055 0.08686318 0.08686318 0.00868632 0.00868632\n",
      " 0.06949055 0.06949055 0.04343159 0.04343159 0.00868632 0.00868632\n",
      " 0.         0.         0.06949055 0.06949055 0.08686318 0.08686318\n",
      " 0.0108579  0.0108579  0.01302948 0.01302948 0.01737264 0.01737264\n",
      " 0.01302948 0.01302948 0.00217158 0.00217158 0.01302948 0.01302948\n",
      " 0.00868632 0.00868632 0.01737264 0.01737264 0.0217158  0.0217158\n",
      " 0.00217158 0.00217158 0.01737264 0.01737264 0.0108579  0.0108579\n",
      " 0.00217158 0.00217158 0.         0.         0.01737264 0.01737264\n",
      " 0.0217158  0.0217158  0.03257369 0.03257369 0.03908843 0.03908843\n",
      " 0.05211791 0.05211791 0.03908843 0.03908843 0.00651474 0.00651474\n",
      " 0.03908843 0.03908843 0.02605895 0.02605895 0.05211791 0.05211791\n",
      " 0.06514739 0.06514739 0.00651474 0.00651474 0.05211791 0.05211791\n",
      " 0.03257369 0.03257369 0.00651474 0.00651474 0.         0.\n",
      " 0.05211791 0.05211791 0.06514739 0.06514739 0.04343159 0.04343159\n",
      " 0.05211791 0.05211791 0.06949055 0.06949055 0.05211791 0.05211791\n",
      " 0.00868632 0.00868632 0.05211791 0.05211791 0.03474527 0.03474527\n",
      " 0.06949055 0.06949055 0.08686318 0.08686318 0.00868632 0.00868632\n",
      " 0.06949055 0.06949055 0.04343159 0.04343159 0.00868632 0.00868632\n",
      " 0.         0.         0.06949055 0.06949055 0.08686318 0.08686318\n",
      " 0.00542895 0.00542895 0.00651474 0.00651474 0.00868632 0.00868632\n",
      " 0.00651474 0.00651474 0.00108579 0.00108579 0.00651474 0.00651474\n",
      " 0.00434316 0.00434316 0.00868632 0.00868632 0.0108579  0.0108579\n",
      " 0.00108579 0.00108579 0.00868632 0.00868632 0.00542895 0.00542895\n",
      " 0.00108579 0.00108579 0.         0.         0.00868632 0.00868632\n",
      " 0.0108579  0.0108579  0.04343159 0.04343159 0.05211791 0.05211791\n",
      " 0.06949055 0.06949055 0.05211791 0.05211791 0.00868632 0.00868632\n",
      " 0.05211791 0.05211791 0.03474527 0.03474527 0.06949055 0.06949055\n",
      " 0.08686318 0.08686318 0.00868632 0.00868632 0.06949055 0.06949055\n",
      " 0.04343159 0.04343159 0.00868632 0.00868632 0.         0.\n",
      " 0.06949055 0.06949055 0.08686318 0.08686318 0.01628685 0.01628685\n",
      " 0.01954422 0.01954422 0.02605895 0.02605895 0.01954422 0.01954422\n",
      " 0.00325737 0.00325737 0.01954422 0.01954422 0.01302948 0.01302948\n",
      " 0.02605895 0.02605895 0.03257369 0.03257369 0.00325737 0.00325737\n",
      " 0.02605895 0.02605895 0.01628685 0.01628685 0.00325737 0.00325737\n",
      " 0.         0.         0.02605895 0.02605895 0.03257369 0.03257369\n",
      " 0.02714474 0.02714474 0.03257369 0.03257369 0.04343159 0.04343159\n",
      " 0.03257369 0.03257369 0.00542895 0.00542895 0.03257369 0.03257369\n",
      " 0.0217158  0.0217158  0.04343159 0.04343159 0.05428949 0.05428949\n",
      " 0.00542895 0.00542895 0.04343159 0.04343159 0.02714474 0.02714474\n",
      " 0.00542895 0.00542895 0.         0.         0.04343159 0.04343159\n",
      " 0.05428949 0.05428949 0.01628685 0.01628685 0.01954422 0.01954422\n",
      " 0.02605895 0.02605895 0.01954422 0.01954422 0.00325737 0.00325737\n",
      " 0.01954422 0.01954422 0.01302948 0.01302948 0.02605895 0.02605895\n",
      " 0.03257369 0.03257369 0.00325737 0.00325737 0.02605895 0.02605895\n",
      " 0.01628685 0.01628685 0.00325737 0.00325737 0.         0.\n",
      " 0.02605895 0.02605895 0.03257369 0.03257369 0.03257369 0.03257369\n",
      " 0.03908843 0.03908843 0.05211791 0.05211791 0.03908843 0.03908843\n",
      " 0.00651474 0.00651474 0.03908843 0.03908843 0.02605895 0.02605895\n",
      " 0.05211791 0.05211791 0.06514739 0.06514739 0.00651474 0.00651474\n",
      " 0.05211791 0.05211791 0.03257369 0.03257369 0.00651474 0.00651474\n",
      " 0.         0.         0.05211791 0.05211791 0.06514739 0.06514739\n",
      " 0.03800264 0.03800264 0.04560317 0.04560317 0.06080423 0.06080423\n",
      " 0.04560317 0.04560317 0.00760053 0.00760053 0.04560317 0.04560317\n",
      " 0.03040211 0.03040211 0.06080423 0.06080423 0.07600528 0.07600528\n",
      " 0.00760053 0.00760053 0.06080423 0.06080423 0.03800264 0.03800264\n",
      " 0.00760053 0.00760053 0.         0.         0.06080423 0.06080423\n",
      " 0.07600528 0.07600528 0.04886054 0.04886054 0.05863265 0.05863265\n",
      " 0.07817686 0.07817686 0.05863265 0.05863265 0.00977211 0.00977211\n",
      " 0.05863265 0.05863265 0.03908843 0.03908843 0.07817686 0.07817686\n",
      " 0.09772108 0.09772108 0.00977211 0.00977211 0.07817686 0.07817686\n",
      " 0.04886054 0.04886054 0.00977211 0.00977211 0.         0.\n",
      " 0.07817686 0.07817686 0.09772108 0.09772108 0.         0.\n",
      " 0.         0.         0.         0.         0.         0.\n",
      " 0.         0.         0.         0.         0.         0.\n",
      " 0.         0.         0.         0.         0.         0.\n",
      " 0.         0.         0.         0.         0.         0.\n",
      " 0.         0.         0.         0.         0.         0.\n",
      " 0.04343159 0.04343159 0.05211791 0.05211791 0.06949055 0.06949055\n",
      " 0.05211791 0.05211791 0.00868632 0.00868632 0.05211791 0.05211791\n",
      " 0.03474527 0.03474527 0.06949055 0.06949055 0.08686318 0.08686318\n",
      " 0.00868632 0.00868632 0.06949055 0.06949055 0.04343159 0.04343159\n",
      " 0.00868632 0.00868632 0.         0.         0.06949055 0.06949055\n",
      " 0.08686318 0.08686318]\n"
     ]
    }
   ],
   "source": [
    "# 制备初态\n",
    "initial_state_16 = np.kron(pre_16, state_plus)\n",
    "\n",
    "print(\"初态对应的向量为\", initial_state_16)"
   ]
  },
  {
   "cell_type": "code",
   "execution_count": 50,
   "metadata": {},
   "outputs": [
    {
     "name": "stdout",
     "output_type": "stream",
     "text": [
      "0.04343159082681246¦000000000⟩\n",
      "0.04343159082681246¦000000001⟩\n",
      "0.052117908992174944¦000000010⟩\n",
      "0.052117908992174944¦000000011⟩\n",
      "0.06949054532289994¦000000100⟩\n",
      "0.06949054532289994¦000000101⟩\n",
      "0.052117908992174944¦000000110⟩\n",
      "0.052117908992174944¦000000111⟩\n",
      "0.008686318165362493¦000001000⟩\n",
      "0.008686318165362493¦000001001⟩\n",
      "0.052117908992174944¦000001010⟩\n",
      "0.052117908992174944¦000001011⟩\n",
      "0.03474527266144997¦000001100⟩\n",
      "0.03474527266144997¦000001101⟩\n",
      "0.06949054532289994¦000001110⟩\n",
      "0.06949054532289994¦000001111⟩\n",
      "0.08686318165362492¦000010000⟩\n",
      "0.08686318165362492¦000010001⟩\n",
      "0.008686318165362493¦000010010⟩\n",
      "0.008686318165362493¦000010011⟩\n",
      "0.06949054532289994¦000010100⟩\n",
      "0.06949054532289994¦000010101⟩\n",
      "0.04343159082681246¦000010110⟩\n",
      "0.04343159082681246¦000010111⟩\n",
      "0.008686318165362493¦000011000⟩\n",
      "0.008686318165362493¦000011001⟩\n",
      "0.06949054532289994¦000011100⟩\n",
      "0.06949054532289994¦000011101⟩\n",
      "0.08686318165362492¦000011110⟩\n",
      "0.08686318165362492¦000011111⟩\n",
      "0.05428948853351557¦000100000⟩\n",
      "0.05428948853351557¦000100001⟩\n",
      "0.06514738624021868¦000100010⟩\n",
      "0.06514738624021868¦000100011⟩\n",
      "0.08686318165362492¦000100100⟩\n",
      "0.08686318165362492¦000100101⟩\n",
      "0.06514738624021868¦000100110⟩\n",
      "0.06514738624021868¦000100111⟩\n",
      "0.010857897706703114¦000101000⟩\n",
      "0.010857897706703114¦000101001⟩\n",
      "0.06514738624021868¦000101010⟩\n",
      "0.06514738624021868¦000101011⟩\n",
      "0.04343159082681246¦000101100⟩\n",
      "0.04343159082681246¦000101101⟩\n",
      "0.08686318165362492¦000101110⟩\n",
      "0.08686318165362492¦000101111⟩\n",
      "0.10857897706703114¦000110000⟩\n",
      "0.10857897706703114¦000110001⟩\n",
      "0.010857897706703114¦000110010⟩\n",
      "0.010857897706703114¦000110011⟩\n",
      "0.08686318165362492¦000110100⟩\n",
      "0.08686318165362492¦000110101⟩\n",
      "0.05428948853351557¦000110110⟩\n",
      "0.05428948853351557¦000110111⟩\n",
      "0.010857897706703114¦000111000⟩\n",
      "0.010857897706703114¦000111001⟩\n",
      "0.08686318165362492¦000111100⟩\n",
      "0.08686318165362492¦000111101⟩\n",
      "0.10857897706703114¦000111110⟩\n",
      "0.10857897706703114¦000111111⟩\n",
      "0.04343159082681246¦001000000⟩\n",
      "0.04343159082681246¦001000001⟩\n",
      "0.052117908992174944¦001000010⟩\n",
      "0.052117908992174944¦001000011⟩\n",
      "0.06949054532289994¦001000100⟩\n",
      "0.06949054532289994¦001000101⟩\n",
      "0.052117908992174944¦001000110⟩\n",
      "0.052117908992174944¦001000111⟩\n",
      "0.008686318165362493¦001001000⟩\n",
      "0.008686318165362493¦001001001⟩\n",
      "0.052117908992174944¦001001010⟩\n",
      "0.052117908992174944¦001001011⟩\n",
      "0.03474527266144997¦001001100⟩\n",
      "0.03474527266144997¦001001101⟩\n",
      "0.06949054532289994¦001001110⟩\n",
      "0.06949054532289994¦001001111⟩\n",
      "0.08686318165362492¦001010000⟩\n",
      "0.08686318165362492¦001010001⟩\n",
      "0.008686318165362493¦001010010⟩\n",
      "0.008686318165362493¦001010011⟩\n",
      "0.06949054532289994¦001010100⟩\n",
      "0.06949054532289994¦001010101⟩\n",
      "0.04343159082681246¦001010110⟩\n",
      "0.04343159082681246¦001010111⟩\n",
      "0.008686318165362493¦001011000⟩\n",
      "0.008686318165362493¦001011001⟩\n",
      "0.06949054532289994¦001011100⟩\n",
      "0.06949054532289994¦001011101⟩\n",
      "0.08686318165362492¦001011110⟩\n",
      "0.08686318165362492¦001011111⟩\n",
      "0.010857897706703114¦001100000⟩\n",
      "0.010857897706703114¦001100001⟩\n",
      "0.013029477248043736¦001100010⟩\n",
      "0.013029477248043736¦001100011⟩\n",
      "0.017372636330724986¦001100100⟩\n",
      "0.017372636330724986¦001100101⟩\n",
      "0.013029477248043736¦001100110⟩\n",
      "0.013029477248043736¦001100111⟩\n",
      "0.0021715795413406232¦001101000⟩\n",
      "0.0021715795413406232¦001101001⟩\n",
      "0.013029477248043736¦001101010⟩\n",
      "0.013029477248043736¦001101011⟩\n",
      "0.008686318165362493¦001101100⟩\n",
      "0.008686318165362493¦001101101⟩\n",
      "0.017372636330724986¦001101110⟩\n",
      "0.017372636330724986¦001101111⟩\n",
      "0.02171579541340623¦001110000⟩\n",
      "0.02171579541340623¦001110001⟩\n",
      "0.0021715795413406232¦001110010⟩\n",
      "0.0021715795413406232¦001110011⟩\n",
      "0.017372636330724986¦001110100⟩\n",
      "0.017372636330724986¦001110101⟩\n",
      "0.010857897706703114¦001110110⟩\n",
      "0.010857897706703114¦001110111⟩\n",
      "0.0021715795413406232¦001111000⟩\n",
      "0.0021715795413406232¦001111001⟩\n",
      "0.017372636330724986¦001111100⟩\n",
      "0.017372636330724986¦001111101⟩\n",
      "0.02171579541340623¦001111110⟩\n",
      "0.02171579541340623¦001111111⟩\n",
      "0.03257369312010934¦010000000⟩\n",
      "0.03257369312010934¦010000001⟩\n",
      "0.03908843174413121¦010000010⟩\n",
      "0.03908843174413121¦010000011⟩\n",
      "0.05211790899217495¦010000100⟩\n",
      "0.05211790899217495¦010000101⟩\n",
      "0.03908843174413121¦010000110⟩\n",
      "0.03908843174413121¦010000111⟩\n",
      "0.006514738624021869¦010001000⟩\n",
      "0.006514738624021869¦010001001⟩\n",
      "0.03908843174413121¦010001010⟩\n",
      "0.03908843174413121¦010001011⟩\n",
      "0.026058954496087475¦010001100⟩\n",
      "0.026058954496087475¦010001101⟩\n",
      "0.05211790899217495¦010001110⟩\n",
      "0.05211790899217495¦010001111⟩\n",
      "0.06514738624021868¦010010000⟩\n",
      "0.06514738624021868¦010010001⟩\n",
      "0.006514738624021869¦010010010⟩\n",
      "0.006514738624021869¦010010011⟩\n",
      "0.05211790899217495¦010010100⟩\n",
      "0.05211790899217495¦010010101⟩\n",
      "0.03257369312010934¦010010110⟩\n",
      "0.03257369312010934¦010010111⟩\n",
      "0.006514738624021869¦010011000⟩\n",
      "0.006514738624021869¦010011001⟩\n",
      "0.05211790899217495¦010011100⟩\n",
      "0.05211790899217495¦010011101⟩\n",
      "0.06514738624021868¦010011110⟩\n",
      "0.06514738624021868¦010011111⟩\n",
      "0.04343159082681246¦010100000⟩\n",
      "0.04343159082681246¦010100001⟩\n",
      "0.052117908992174944¦010100010⟩\n",
      "0.052117908992174944¦010100011⟩\n",
      "0.06949054532289994¦010100100⟩\n",
      "0.06949054532289994¦010100101⟩\n",
      "0.052117908992174944¦010100110⟩\n",
      "0.052117908992174944¦010100111⟩\n",
      "0.008686318165362493¦010101000⟩\n",
      "0.008686318165362493¦010101001⟩\n",
      "0.052117908992174944¦010101010⟩\n",
      "0.052117908992174944¦010101011⟩\n",
      "0.03474527266144997¦010101100⟩\n",
      "0.03474527266144997¦010101101⟩\n",
      "0.06949054532289994¦010101110⟩\n",
      "0.06949054532289994¦010101111⟩\n",
      "0.08686318165362492¦010110000⟩\n",
      "0.08686318165362492¦010110001⟩\n",
      "0.008686318165362493¦010110010⟩\n",
      "0.008686318165362493¦010110011⟩\n",
      "0.06949054532289994¦010110100⟩\n",
      "0.06949054532289994¦010110101⟩\n",
      "0.04343159082681246¦010110110⟩\n",
      "0.04343159082681246¦010110111⟩\n",
      "0.008686318165362493¦010111000⟩\n",
      "0.008686318165362493¦010111001⟩\n",
      "0.06949054532289994¦010111100⟩\n",
      "0.06949054532289994¦010111101⟩\n",
      "0.08686318165362492¦010111110⟩\n",
      "0.08686318165362492¦010111111⟩\n",
      "0.005428948853351557¦011000000⟩\n",
      "0.005428948853351557¦011000001⟩\n",
      "0.006514738624021868¦011000010⟩\n",
      "0.006514738624021868¦011000011⟩\n",
      "0.008686318165362493¦011000100⟩\n",
      "0.008686318165362493¦011000101⟩\n",
      "0.006514738624021868¦011000110⟩\n",
      "0.006514738624021868¦011000111⟩\n",
      "0.0010857897706703116¦011001000⟩\n",
      "0.0010857897706703116¦011001001⟩\n",
      "0.006514738624021868¦011001010⟩\n",
      "0.006514738624021868¦011001011⟩\n",
      "0.0043431590826812465¦011001100⟩\n",
      "0.0043431590826812465¦011001101⟩\n",
      "0.008686318165362493¦011001110⟩\n",
      "0.008686318165362493¦011001111⟩\n",
      "0.010857897706703114¦011010000⟩\n",
      "0.010857897706703114¦011010001⟩\n",
      "0.0010857897706703116¦011010010⟩\n",
      "0.0010857897706703116¦011010011⟩\n",
      "0.008686318165362493¦011010100⟩\n",
      "0.008686318165362493¦011010101⟩\n",
      "0.005428948853351557¦011010110⟩\n",
      "0.005428948853351557¦011010111⟩\n",
      "0.0010857897706703116¦011011000⟩\n",
      "0.0010857897706703116¦011011001⟩\n",
      "0.008686318165362493¦011011100⟩\n",
      "0.008686318165362493¦011011101⟩\n",
      "0.010857897706703114¦011011110⟩\n",
      "0.010857897706703114¦011011111⟩\n",
      "0.04343159082681246¦011100000⟩\n",
      "0.04343159082681246¦011100001⟩\n",
      "0.052117908992174944¦011100010⟩\n",
      "0.052117908992174944¦011100011⟩\n",
      "0.06949054532289994¦011100100⟩\n",
      "0.06949054532289994¦011100101⟩\n",
      "0.052117908992174944¦011100110⟩\n",
      "0.052117908992174944¦011100111⟩\n",
      "0.008686318165362493¦011101000⟩\n",
      "0.008686318165362493¦011101001⟩\n",
      "0.052117908992174944¦011101010⟩\n",
      "0.052117908992174944¦011101011⟩\n",
      "0.03474527266144997¦011101100⟩\n",
      "0.03474527266144997¦011101101⟩\n",
      "0.06949054532289994¦011101110⟩\n",
      "0.06949054532289994¦011101111⟩\n",
      "0.08686318165362492¦011110000⟩\n",
      "0.08686318165362492¦011110001⟩\n",
      "0.008686318165362493¦011110010⟩\n",
      "0.008686318165362493¦011110011⟩\n",
      "0.06949054532289994¦011110100⟩\n",
      "0.06949054532289994¦011110101⟩\n",
      "0.04343159082681246¦011110110⟩\n",
      "0.04343159082681246¦011110111⟩\n",
      "0.008686318165362493¦011111000⟩\n",
      "0.008686318165362493¦011111001⟩\n",
      "0.06949054532289994¦011111100⟩\n",
      "0.06949054532289994¦011111101⟩\n",
      "0.08686318165362492¦011111110⟩\n",
      "0.08686318165362492¦011111111⟩\n",
      "0.01628684656005467¦100000000⟩\n",
      "0.01628684656005467¦100000001⟩\n",
      "0.019544215872065604¦100000010⟩\n",
      "0.019544215872065604¦100000011⟩\n",
      "0.026058954496087475¦100000100⟩\n",
      "0.026058954496087475¦100000101⟩\n",
      "0.019544215872065604¦100000110⟩\n",
      "0.019544215872065604¦100000111⟩\n",
      "0.0032573693120109344¦100001000⟩\n",
      "0.0032573693120109344¦100001001⟩\n",
      "0.019544215872065604¦100001010⟩\n",
      "0.019544215872065604¦100001011⟩\n",
      "0.013029477248043738¦100001100⟩\n",
      "0.013029477248043738¦100001101⟩\n",
      "0.026058954496087475¦100001110⟩\n",
      "0.026058954496087475¦100001111⟩\n",
      "0.03257369312010934¦100010000⟩\n",
      "0.03257369312010934¦100010001⟩\n",
      "0.0032573693120109344¦100010010⟩\n",
      "0.0032573693120109344¦100010011⟩\n",
      "0.026058954496087475¦100010100⟩\n",
      "0.026058954496087475¦100010101⟩\n",
      "0.01628684656005467¦100010110⟩\n",
      "0.01628684656005467¦100010111⟩\n",
      "0.0032573693120109344¦100011000⟩\n",
      "0.0032573693120109344¦100011001⟩\n",
      "0.026058954496087475¦100011100⟩\n",
      "0.026058954496087475¦100011101⟩\n",
      "0.03257369312010934¦100011110⟩\n",
      "0.03257369312010934¦100011111⟩\n",
      "0.027144744266757784¦100100000⟩\n",
      "0.027144744266757784¦100100001⟩\n",
      "0.03257369312010934¦100100010⟩\n",
      "0.03257369312010934¦100100011⟩\n",
      "0.04343159082681246¦100100100⟩\n",
      "0.04343159082681246¦100100101⟩\n",
      "0.03257369312010934¦100100110⟩\n",
      "0.03257369312010934¦100100111⟩\n",
      "0.005428948853351557¦100101000⟩\n",
      "0.005428948853351557¦100101001⟩\n",
      "0.03257369312010934¦100101010⟩\n",
      "0.03257369312010934¦100101011⟩\n",
      "0.02171579541340623¦100101100⟩\n",
      "0.02171579541340623¦100101101⟩\n",
      "0.04343159082681246¦100101110⟩\n",
      "0.04343159082681246¦100101111⟩\n",
      "0.05428948853351557¦100110000⟩\n",
      "0.05428948853351557¦100110001⟩\n",
      "0.005428948853351557¦100110010⟩\n",
      "0.005428948853351557¦100110011⟩\n",
      "0.04343159082681246¦100110100⟩\n",
      "0.04343159082681246¦100110101⟩\n",
      "0.027144744266757784¦100110110⟩\n",
      "0.027144744266757784¦100110111⟩\n",
      "0.005428948853351557¦100111000⟩\n",
      "0.005428948853351557¦100111001⟩\n",
      "0.04343159082681246¦100111100⟩\n",
      "0.04343159082681246¦100111101⟩\n",
      "0.05428948853351557¦100111110⟩\n",
      "0.05428948853351557¦100111111⟩\n",
      "0.01628684656005467¦101000000⟩\n",
      "0.01628684656005467¦101000001⟩\n",
      "0.019544215872065604¦101000010⟩\n",
      "0.019544215872065604¦101000011⟩\n",
      "0.026058954496087475¦101000100⟩\n",
      "0.026058954496087475¦101000101⟩\n",
      "0.019544215872065604¦101000110⟩\n",
      "0.019544215872065604¦101000111⟩\n",
      "0.0032573693120109344¦101001000⟩\n",
      "0.0032573693120109344¦101001001⟩\n",
      "0.019544215872065604¦101001010⟩\n",
      "0.019544215872065604¦101001011⟩\n",
      "0.013029477248043738¦101001100⟩\n",
      "0.013029477248043738¦101001101⟩\n",
      "0.026058954496087475¦101001110⟩\n",
      "0.026058954496087475¦101001111⟩\n",
      "0.03257369312010934¦101010000⟩\n",
      "0.03257369312010934¦101010001⟩\n",
      "0.0032573693120109344¦101010010⟩\n",
      "0.0032573693120109344¦101010011⟩\n",
      "0.026058954496087475¦101010100⟩\n",
      "0.026058954496087475¦101010101⟩\n",
      "0.01628684656005467¦101010110⟩\n",
      "0.01628684656005467¦101010111⟩\n",
      "0.0032573693120109344¦101011000⟩\n",
      "0.0032573693120109344¦101011001⟩\n",
      "0.026058954496087475¦101011100⟩\n",
      "0.026058954496087475¦101011101⟩\n",
      "0.03257369312010934¦101011110⟩\n",
      "0.03257369312010934¦101011111⟩\n",
      "0.03257369312010934¦101100000⟩\n",
      "0.03257369312010934¦101100001⟩\n",
      "0.03908843174413121¦101100010⟩\n",
      "0.03908843174413121¦101100011⟩\n",
      "0.05211790899217495¦101100100⟩\n",
      "0.05211790899217495¦101100101⟩\n",
      "0.03908843174413121¦101100110⟩\n",
      "0.03908843174413121¦101100111⟩\n",
      "0.006514738624021869¦101101000⟩\n",
      "0.006514738624021869¦101101001⟩\n",
      "0.03908843174413121¦101101010⟩\n",
      "0.03908843174413121¦101101011⟩\n",
      "0.026058954496087475¦101101100⟩\n",
      "0.026058954496087475¦101101101⟩\n",
      "0.05211790899217495¦101101110⟩\n",
      "0.05211790899217495¦101101111⟩\n",
      "0.06514738624021868¦101110000⟩\n",
      "0.06514738624021868¦101110001⟩\n",
      "0.006514738624021869¦101110010⟩\n",
      "0.006514738624021869¦101110011⟩\n",
      "0.05211790899217495¦101110100⟩\n",
      "0.05211790899217495¦101110101⟩\n",
      "0.03257369312010934¦101110110⟩\n",
      "0.03257369312010934¦101110111⟩\n",
      "0.006514738624021869¦101111000⟩\n",
      "0.006514738624021869¦101111001⟩\n",
      "0.05211790899217495¦101111100⟩\n",
      "0.05211790899217495¦101111101⟩\n",
      "0.06514738624021868¦101111110⟩\n",
      "0.06514738624021868¦101111111⟩\n",
      "0.0380026419734609¦110000000⟩\n",
      "0.0380026419734609¦110000001⟩\n",
      "0.045603170368153076¦110000010⟩\n",
      "0.045603170368153076¦110000011⟩\n",
      "0.06080422715753744¦110000100⟩\n",
      "0.06080422715753744¦110000101⟩\n",
      "0.045603170368153076¦110000110⟩\n",
      "0.045603170368153076¦110000111⟩\n",
      "0.00760052839469218¦110001000⟩\n",
      "0.00760052839469218¦110001001⟩\n",
      "0.045603170368153076¦110001010⟩\n",
      "0.045603170368153076¦110001011⟩\n",
      "0.03040211357876872¦110001100⟩\n",
      "0.03040211357876872¦110001101⟩\n",
      "0.06080422715753744¦110001110⟩\n",
      "0.06080422715753744¦110001111⟩\n",
      "0.0760052839469218¦110010000⟩\n",
      "0.0760052839469218¦110010001⟩\n",
      "0.00760052839469218¦110010010⟩\n",
      "0.00760052839469218¦110010011⟩\n",
      "0.06080422715753744¦110010100⟩\n",
      "0.06080422715753744¦110010101⟩\n",
      "0.0380026419734609¦110010110⟩\n",
      "0.0380026419734609¦110010111⟩\n",
      "0.00760052839469218¦110011000⟩\n",
      "0.00760052839469218¦110011001⟩\n",
      "0.06080422715753744¦110011100⟩\n",
      "0.06080422715753744¦110011101⟩\n",
      "0.0760052839469218¦110011110⟩\n",
      "0.0760052839469218¦110011111⟩\n",
      "0.04886053968016402¦110100000⟩\n",
      "0.04886053968016402¦110100001⟩\n",
      "0.05863264761619681¦110100010⟩\n",
      "0.05863264761619681¦110100011⟩\n",
      "0.07817686348826243¦110100100⟩\n",
      "0.07817686348826243¦110100101⟩\n",
      "0.05863264761619681¦110100110⟩\n",
      "0.05863264761619681¦110100111⟩\n",
      "0.009772107936032804¦110101000⟩\n",
      "0.009772107936032804¦110101001⟩\n",
      "0.05863264761619681¦110101010⟩\n",
      "0.05863264761619681¦110101011⟩\n",
      "0.039088431744131215¦110101100⟩\n",
      "0.039088431744131215¦110101101⟩\n",
      "0.07817686348826243¦110101110⟩\n",
      "0.07817686348826243¦110101111⟩\n",
      "0.09772107936032803¦110110000⟩\n",
      "0.09772107936032803¦110110001⟩\n",
      "0.009772107936032804¦110110010⟩\n",
      "0.009772107936032804¦110110011⟩\n",
      "0.07817686348826243¦110110100⟩\n",
      "0.07817686348826243¦110110101⟩\n",
      "0.04886053968016402¦110110110⟩\n",
      "0.04886053968016402¦110110111⟩\n",
      "0.009772107936032804¦110111000⟩\n",
      "0.009772107936032804¦110111001⟩\n",
      "0.07817686348826243¦110111100⟩\n",
      "0.07817686348826243¦110111101⟩\n",
      "0.09772107936032803¦110111110⟩\n",
      "0.09772107936032803¦110111111⟩\n",
      "0.04343159082681246¦111100000⟩\n",
      "0.04343159082681246¦111100001⟩\n",
      "0.052117908992174944¦111100010⟩\n",
      "0.052117908992174944¦111100011⟩\n",
      "0.06949054532289994¦111100100⟩\n",
      "0.06949054532289994¦111100101⟩\n",
      "0.052117908992174944¦111100110⟩\n",
      "0.052117908992174944¦111100111⟩\n",
      "0.008686318165362493¦111101000⟩\n",
      "0.008686318165362493¦111101001⟩\n",
      "0.052117908992174944¦111101010⟩\n",
      "0.052117908992174944¦111101011⟩\n",
      "0.03474527266144997¦111101100⟩\n",
      "0.03474527266144997¦111101101⟩\n",
      "0.06949054532289994¦111101110⟩\n",
      "0.06949054532289994¦111101111⟩\n",
      "0.08686318165362492¦111110000⟩\n",
      "0.08686318165362492¦111110001⟩\n",
      "0.008686318165362493¦111110010⟩\n",
      "0.008686318165362493¦111110011⟩\n",
      "0.06949054532289994¦111110100⟩\n",
      "0.06949054532289994¦111110101⟩\n",
      "0.04343159082681246¦111110110⟩\n",
      "0.04343159082681246¦111110111⟩\n",
      "0.008686318165362493¦111111000⟩\n",
      "0.008686318165362493¦111111001⟩\n",
      "0.06949054532289994¦111111100⟩\n",
      "0.06949054532289994¦111111101⟩\n",
      "0.08686318165362492¦111111110⟩\n",
      "0.08686318165362492¦111111111⟩\n"
     ]
    }
   ],
   "source": [
    "sim_16 = Simulator('mqvector', 9)  # 调用一个9量子比特的模拟器\n",
    "sim_16.set_qs(initial_state_16)    # 将模拟器的初态设为与initial_state_16对应的量子态\n",
    "\n",
    "print(sim_16.get_qs(True))         # 打印我们制备好的初态"
   ]
  },
  {
   "cell_type": "markdown",
   "metadata": {},
   "source": [
    "- 第二步：广义SWAP Test"
   ]
  },
  {
   "cell_type": "code",
   "execution_count": 51,
   "metadata": {},
   "outputs": [
    {
     "data": {
      "image/svg+xml": [
       "<svg xmlns=\"http://www.w3.org/2000/svg\" width=\"456.8\" height=\"560.0\" xmlns:xlink=\"http://www.w3.org/1999/xlink\"><rect x=\"0\" y=\"0.0\" width=\"456.8\" height=\"560.0\" fill=\"#ffffff\" /><text x=\"20.0\" y=\"40.0\" font-size=\"16px\" dominant-baseline=\"middle\" text-anchor=\"start\" font-family=\"Arial\" font-weight=\"normal\" fill=\"#252b3a\" >q0: </text><text x=\"20.0\" y=\"100.0\" font-size=\"16px\" dominant-baseline=\"middle\" text-anchor=\"start\" font-family=\"Arial\" font-weight=\"normal\" fill=\"#252b3a\" >q1: </text><text x=\"20.0\" y=\"160.0\" font-size=\"16px\" dominant-baseline=\"middle\" text-anchor=\"start\" font-family=\"Arial\" font-weight=\"normal\" fill=\"#252b3a\" >q2: </text><text x=\"20.0\" y=\"220.0\" font-size=\"16px\" dominant-baseline=\"middle\" text-anchor=\"start\" font-family=\"Arial\" font-weight=\"normal\" fill=\"#252b3a\" >q3: </text><text x=\"20.0\" y=\"280.0\" font-size=\"16px\" dominant-baseline=\"middle\" text-anchor=\"start\" font-family=\"Arial\" font-weight=\"normal\" fill=\"#252b3a\" >q4: </text><text x=\"20.0\" y=\"340.0\" font-size=\"16px\" dominant-baseline=\"middle\" text-anchor=\"start\" font-family=\"Arial\" font-weight=\"normal\" fill=\"#252b3a\" >q5: </text><text x=\"20.0\" y=\"400.0\" font-size=\"16px\" dominant-baseline=\"middle\" text-anchor=\"start\" font-family=\"Arial\" font-weight=\"normal\" fill=\"#252b3a\" >q6: </text><text x=\"20.0\" y=\"460.0\" font-size=\"16px\" dominant-baseline=\"middle\" text-anchor=\"start\" font-family=\"Arial\" font-weight=\"normal\" fill=\"#252b3a\" >q7: </text><text x=\"20.0\" y=\"520.0\" font-size=\"16px\" dominant-baseline=\"middle\" text-anchor=\"start\" font-family=\"Arial\" font-weight=\"normal\" fill=\"#252b3a\" >q8: </text><line x1=\"48.8\" x2=\"436.8\" y1=\"40.0\" y2=\"40.0\" stroke=\"#adb0b8\" stroke-width=\"1\" /><line x1=\"48.8\" x2=\"436.8\" y1=\"100.0\" y2=\"100.0\" stroke=\"#adb0b8\" stroke-width=\"1\" /><line x1=\"48.8\" x2=\"436.8\" y1=\"160.0\" y2=\"160.0\" stroke=\"#adb0b8\" stroke-width=\"1\" /><line x1=\"48.8\" x2=\"436.8\" y1=\"220.0\" y2=\"220.0\" stroke=\"#adb0b8\" stroke-width=\"1\" /><line x1=\"48.8\" x2=\"436.8\" y1=\"280.0\" y2=\"280.0\" stroke=\"#adb0b8\" stroke-width=\"1\" /><line x1=\"48.8\" x2=\"436.8\" y1=\"340.0\" y2=\"340.0\" stroke=\"#adb0b8\" stroke-width=\"1\" /><line x1=\"48.8\" x2=\"436.8\" y1=\"400.0\" y2=\"400.0\" stroke=\"#adb0b8\" stroke-width=\"1\" /><line x1=\"48.8\" x2=\"436.8\" y1=\"460.0\" y2=\"460.0\" stroke=\"#adb0b8\" stroke-width=\"1\" /><line x1=\"48.8\" x2=\"436.8\" y1=\"520.0\" y2=\"520.0\" stroke=\"#adb0b8\" stroke-width=\"1\" /><line x1=\"92.8\" x2=\"92.8\" y1=\"80.0\" y2=\"360.0\" stroke-width=\"3\" stroke=\"#16acff\" /><circle cx=\"92.8\" cy=\"40.0\" r=\"4\" fill=\"#16acff\" /><line x1=\"92.8\" x2=\"92.8\" y1=\"40.0\" y2=\"100.0\" stroke=\"#16acff\" stroke-width=\"3\" /><rect x=\"72.8\" y=\"80.0\" width=\"40\" height=\"40\" rx=\"4\" ry=\"4\" fill=\"#16acff\" fill-opacity=\"1\" stroke=\"#ffffff\" stroke-width=\"0\" /><path d=\"M 83.19999999999999 96.31384387633061 L 88.0 88.0 L 92.8 96.31384387633061 L 89.44 96.31384387633061 L 89.44 112.0 L 86.56 112.0 L 86.56 96.31384387633061 Z\" fill=\"#ffffff\" /><path d=\"M 102.4 103.68615612366939 L 97.6 112.0 L 92.8 103.68615612366939 L 96.16 103.68615612366939 L 96.16 88.0 L 99.03999999999999 88.0 L 99.03999999999999 103.68615612366939 Z\" fill=\"#ffffff\" /><rect x=\"72.8\" y=\"320.0\" width=\"40\" height=\"40\" rx=\"4\" ry=\"4\" fill=\"#16acff\" fill-opacity=\"1\" stroke=\"#ffffff\" stroke-width=\"0\" /><path d=\"M 83.19999999999999 336.3138438763306 L 88.0 328.0 L 92.8 336.3138438763306 L 89.44 336.3138438763306 L 89.44 352.0 L 86.56 352.0 L 86.56 336.3138438763306 Z\" fill=\"#ffffff\" /><path d=\"M 102.4 343.6861561236694 L 97.6 352.0 L 92.8 343.6861561236694 L 96.16 343.6861561236694 L 96.16 328.0 L 99.03999999999999 328.0 L 99.03999999999999 343.6861561236694 Z\" fill=\"#ffffff\" /><line x1=\"152.8\" x2=\"152.8\" y1=\"140.0\" y2=\"420.0\" stroke-width=\"3\" stroke=\"#16acff\" /><circle cx=\"152.8\" cy=\"40.0\" r=\"4\" fill=\"#16acff\" /><line x1=\"152.8\" x2=\"152.8\" y1=\"40.0\" y2=\"160.0\" stroke=\"#16acff\" stroke-width=\"3\" /><rect x=\"132.8\" y=\"140.0\" width=\"40\" height=\"40\" rx=\"4\" ry=\"4\" fill=\"#16acff\" fill-opacity=\"1\" stroke=\"#ffffff\" stroke-width=\"0\" /><path d=\"M 143.2 156.31384387633062 L 148.0 148.0 L 152.8 156.31384387633062 L 149.44 156.31384387633062 L 149.44 172.0 L 146.56 172.0 L 146.56 156.31384387633062 Z\" fill=\"#ffffff\" /><path d=\"M 162.39999999999998 163.68615612366938 L 157.60000000000002 172.0 L 152.8 163.68615612366938 L 156.16 163.68615612366938 L 156.16 148.0 L 159.04000000000002 148.0 L 159.04000000000002 163.68615612366938 Z\" fill=\"#ffffff\" /><rect x=\"132.8\" y=\"380.0\" width=\"40\" height=\"40\" rx=\"4\" ry=\"4\" fill=\"#16acff\" fill-opacity=\"1\" stroke=\"#ffffff\" stroke-width=\"0\" /><path d=\"M 143.2 396.3138438763306 L 148.0 388.0 L 152.8 396.3138438763306 L 149.44 396.3138438763306 L 149.44 412.0 L 146.56 412.0 L 146.56 396.3138438763306 Z\" fill=\"#ffffff\" /><path d=\"M 162.39999999999998 403.6861561236694 L 157.60000000000002 412.0 L 152.8 403.6861561236694 L 156.16 403.6861561236694 L 156.16 388.0 L 159.04000000000002 388.0 L 159.04000000000002 403.6861561236694 Z\" fill=\"#ffffff\" /><line x1=\"212.8\" x2=\"212.8\" y1=\"200.0\" y2=\"480.0\" stroke-width=\"3\" stroke=\"#16acff\" /><circle cx=\"212.8\" cy=\"40.0\" r=\"4\" fill=\"#16acff\" /><line x1=\"212.8\" x2=\"212.8\" y1=\"40.0\" y2=\"220.0\" stroke=\"#16acff\" stroke-width=\"3\" /><rect x=\"192.8\" y=\"200.0\" width=\"40\" height=\"40\" rx=\"4\" ry=\"4\" fill=\"#16acff\" fill-opacity=\"1\" stroke=\"#ffffff\" stroke-width=\"0\" /><path d=\"M 203.2 216.31384387633062 L 208.0 208.0 L 212.8 216.31384387633062 L 209.44 216.31384387633062 L 209.44 232.0 L 206.56 232.0 L 206.56 216.31384387633062 Z\" fill=\"#ffffff\" /><path d=\"M 222.39999999999998 223.68615612366938 L 217.60000000000002 232.0 L 212.8 223.68615612366938 L 216.16000000000003 223.68615612366938 L 216.16000000000003 208.0 L 219.04000000000002 208.0 L 219.04000000000002 223.68615612366938 Z\" fill=\"#ffffff\" /><rect x=\"192.8\" y=\"440.0\" width=\"40\" height=\"40\" rx=\"4\" ry=\"4\" fill=\"#16acff\" fill-opacity=\"1\" stroke=\"#ffffff\" stroke-width=\"0\" /><path d=\"M 203.2 456.3138438763306 L 208.0 448.0 L 212.8 456.3138438763306 L 209.44 456.3138438763306 L 209.44 472.0 L 206.56 472.0 L 206.56 456.3138438763306 Z\" fill=\"#ffffff\" /><path d=\"M 222.39999999999998 463.6861561236694 L 217.60000000000002 472.0 L 212.8 463.6861561236694 L 216.16000000000003 463.6861561236694 L 216.16000000000003 448.0 L 219.04000000000002 448.0 L 219.04000000000002 463.6861561236694 Z\" fill=\"#ffffff\" /><line x1=\"272.8\" x2=\"272.8\" y1=\"260.0\" y2=\"540.0\" stroke-width=\"3\" stroke=\"#16acff\" /><circle cx=\"272.8\" cy=\"40.0\" r=\"4\" fill=\"#16acff\" /><line x1=\"272.8\" x2=\"272.8\" y1=\"40.0\" y2=\"280.0\" stroke=\"#16acff\" stroke-width=\"3\" /><rect x=\"252.8\" y=\"260.0\" width=\"40\" height=\"40\" rx=\"4\" ry=\"4\" fill=\"#16acff\" fill-opacity=\"1\" stroke=\"#ffffff\" stroke-width=\"0\" /><path d=\"M 263.2 276.3138438763306 L 268.0 268.0 L 272.8 276.3138438763306 L 269.44 276.3138438763306 L 269.44 292.0 L 266.56 292.0 L 266.56 276.3138438763306 Z\" fill=\"#ffffff\" /><path d=\"M 282.4 283.6861561236694 L 277.6 292.0 L 272.8 283.6861561236694 L 276.16 283.6861561236694 L 276.16 268.0 L 279.04 268.0 L 279.04 283.6861561236694 Z\" fill=\"#ffffff\" /><rect x=\"252.8\" y=\"500.0\" width=\"40\" height=\"40\" rx=\"4\" ry=\"4\" fill=\"#16acff\" fill-opacity=\"1\" stroke=\"#ffffff\" stroke-width=\"0\" /><path d=\"M 263.2 516.3138438763306 L 268.0 508.0 L 272.8 516.3138438763306 L 269.44 516.3138438763306 L 269.44 532.0 L 266.56 532.0 L 266.56 516.3138438763306 Z\" fill=\"#ffffff\" /><path d=\"M 282.4 523.6861561236694 L 277.6 532.0 L 272.8 523.6861561236694 L 276.16 523.6861561236694 L 276.16 508.0 L 279.04 508.0 L 279.04 523.6861561236694 Z\" fill=\"#ffffff\" /><rect x=\"312.8\" y=\"20.0\" width=\"40.0\" height=\"40\" rx=\"4\" ry=\"4\" stroke=\"#ffffff\" stroke-width=\"0\" fill=\"#5e7ce0\" fill-opacity=\"1\" /><text x=\"332.8\" y=\"40.0\" font-size=\"20px\" dominant-baseline=\"middle\" text-anchor=\"middle\" font-family=\"Arial\" font-weight=\"normal\" fill=\"#ffffff\" >H </text><rect x=\"372.8\" y=\"20.0\" width=\"40\" height=\"40\" rx=\"4\" ry=\"4\" stroke=\"#ffffff\" stroke-width=\"0\" fill=\"#ff7272\" fill-opacity=\"1\" /><circle cx=\"392.8\" cy=\"50.4\" r=\"1.6\" fill=\"#ffffff\" /><path d=\"M 380.0 50.4 A 12.8 12.8 0 0 1 405.6 50.4\" stroke=\"#ffffff\" stroke-width=\"2.4000000000000004\" fill-opacity=\"0\" /><path d=\"M 396.9018483174859 33.93539030917347 L 405.21569219381655 29.135390309173467 L 405.21569219381655 38.73539030917347 L 401.8901546432843 36.815390309173466 L 394.04707658144963 50.4 L 392.3843078061835 49.44 L 400.2273858680182 35.85539030917347 Z\" fill=\"#ffffff\" /></svg>"
      ],
      "text/plain": [
       "<mindquantum.io.display.circuit_svg_drawer.SVGCircuit at 0x7fe29c39e7f0>"
      ]
     },
     "execution_count": 51,
     "metadata": {},
     "output_type": "execute_result"
    }
   ],
   "source": [
    "# 搭建广义SWAP Test线路模型\n",
    "cir_SWAP_Test_gen = Circuit()\n",
    "cir_SWAP_Test_gen += SWAP.on([1, 5], 0)\n",
    "cir_SWAP_Test_gen += SWAP.on([2, 6], 0)\n",
    "cir_SWAP_Test_gen += SWAP.on([3, 7], 0)\n",
    "cir_SWAP_Test_gen += SWAP.on([4, 8], 0)\n",
    "cir_SWAP_Test_gen += H.on(0)\n",
    "cir_SWAP_Test_gen += Measure().on(0)\n",
    "cir_SWAP_Test_gen.svg()"
   ]
  },
  {
   "cell_type": "markdown",
   "metadata": {},
   "source": [
    "- 第三步：测量"
   ]
  },
  {
   "cell_type": "code",
   "execution_count": 53,
   "metadata": {},
   "outputs": [
    {
     "data": {
      "image/svg+xml": [
       "<svg xmlns=\"http://www.w3.org/2000/svg\" width=\"401.2\" height=\"147.0\" xmlns:xlink=\"http://www.w3.org/1999/xlink\"><rect x=\"0\" y=\"0\" width=\"401.2\" height=\"147.0\" fill=\"#ffffff\" /><text x=\"10\" y=\"17.0\" font-size=\"14px\" dominant-baseline=\"middle\" text-anchor=\"start\" >Shots:\n",
       " 5000 </text><text x=\"10\" y=\"31.0\" font-size=\"14px\" dominant-baseline=\"middle\" text-anchor=\"start\" >Keys: q0 </text><line x1=\"31.2\" x2=\"391.2\" y1=\"62.0\" y2=\"62.0\" stroke=\"#adb0b8\" stroke-width=\"1\" /><line x1=\"31.2\" x2=\"31.2\" y1=\"55.0\" y2=\"62.0\" stroke=\"#adb0b8\" stroke-width=\"1\" /><text x=\"33.2\" y=\"60.0\" font-size=\"12px\" dominant-baseline=\"bottom\" text-anchor=\"start\" fill=\"#575d6c\" >0.0 </text><line x1=\"31.2\" x2=\"31.2\" y1=\"62.0\" y2=\"137.0\" stroke=\"#adb0b8\" stroke-width=\"1\" /><line x1=\"91.2\" x2=\"91.2\" y1=\"55.0\" y2=\"62.0\" stroke=\"#adb0b8\" stroke-width=\"1\" /><text x=\"93.2\" y=\"60.0\" font-size=\"12px\" dominant-baseline=\"bottom\" text-anchor=\"start\" fill=\"#575d6c\" >0.154 </text><line x1=\"91.2\" x2=\"91.2\" y1=\"62.0\" y2=\"137.0\" stroke=\"#dfe1e6\" stroke-width=\"1\" /><line x1=\"151.2\" x2=\"151.2\" y1=\"55.0\" y2=\"62.0\" stroke=\"#adb0b8\" stroke-width=\"1\" /><text x=\"153.2\" y=\"60.0\" font-size=\"12px\" dominant-baseline=\"bottom\" text-anchor=\"start\" fill=\"#575d6c\" >0.308 </text><line x1=\"151.2\" x2=\"151.2\" y1=\"62.0\" y2=\"137.0\" stroke=\"#dfe1e6\" stroke-width=\"1\" /><line x1=\"211.2\" x2=\"211.2\" y1=\"55.0\" y2=\"62.0\" stroke=\"#adb0b8\" stroke-width=\"1\" /><text x=\"213.2\" y=\"60.0\" font-size=\"12px\" dominant-baseline=\"bottom\" text-anchor=\"start\" fill=\"#575d6c\" >0.463 </text><line x1=\"211.2\" x2=\"211.2\" y1=\"62.0\" y2=\"137.0\" stroke=\"#dfe1e6\" stroke-width=\"1\" /><line x1=\"271.2\" x2=\"271.2\" y1=\"55.0\" y2=\"62.0\" stroke=\"#adb0b8\" stroke-width=\"1\" /><text x=\"273.2\" y=\"60.0\" font-size=\"12px\" dominant-baseline=\"bottom\" text-anchor=\"start\" fill=\"#575d6c\" >0.617 </text><line x1=\"271.2\" x2=\"271.2\" y1=\"62.0\" y2=\"137.0\" stroke=\"#dfe1e6\" stroke-width=\"1\" /><line x1=\"331.2\" x2=\"331.2\" y1=\"55.0\" y2=\"62.0\" stroke=\"#adb0b8\" stroke-width=\"1\" /><text x=\"333.2\" y=\"60.0\" font-size=\"12px\" dominant-baseline=\"bottom\" text-anchor=\"start\" fill=\"#575d6c\" >0.771 </text><line x1=\"331.2\" x2=\"331.2\" y1=\"62.0\" y2=\"137.0\" stroke=\"#dfe1e6\" stroke-width=\"1\" /><text x=\"22.2\" y=\"85.0\" font-size=\"12px\" dominant-baseline=\"middle\" text-anchor=\"end\" fill=\"#575d6c\" >0 </text><line x1=\"24.2\" x2=\"31.2\" y1=\"85.0\" y2=\"85.0\" stroke=\"#adb0b8\" stroke-width=\"1\" /><rect x=\"31.2\" y=\"73.0\" width=\"300.0\" height=\"24\" id=\"bar_0_1697540283970183956\" fill=\"#5e7ce0\" /><text x=\"341.2\" y=\"85.0\" font-size=\"14px\" dominant-baseline=\"middle\" text-anchor=\"start\" fill=\"#575d6c\" id=\"bar_text_0_1697540283970206334\" fill-opacity=\"0\" >3855 </text><text x=\"22.2\" y=\"115.0\" font-size=\"12px\" dominant-baseline=\"middle\" text-anchor=\"end\" fill=\"#575d6c\" >1 </text><line x1=\"24.2\" x2=\"31.2\" y1=\"115.0\" y2=\"115.0\" stroke=\"#adb0b8\" stroke-width=\"1\" /><rect x=\"31.2\" y=\"103.0\" width=\"89.10505836575875\" height=\"24\" id=\"bar_1_1697540283970221603\" fill=\"#16acff\" /><text x=\"130.30505836575875\" y=\"115.0\" font-size=\"14px\" dominant-baseline=\"middle\" text-anchor=\"start\" fill=\"#575d6c\" id=\"bar_text_1_1697540283970231656\" fill-opacity=\"0\" >1145 </text><animate xlink:href=\"#bar_0_1697540283970183956\" attributeName=\"width\" from=\"0\" to=\"300.0\" dur=\"0.3s\" calcMode=\"spline\" values=\"0; 300.0\" keyTimes=\"0; 1\" keySplines=\"0.42 0 1 0.8;\" fill=\"freeze\" /><animate xlink:href=\"#bar_1_1697540283970221603\" attributeName=\"width\" from=\"0\" to=\"89.10505836575875\" dur=\"0.3s\" calcMode=\"spline\" values=\"0; 89.10505836575875\" keyTimes=\"0; 1\" keySplines=\"0.42 0 1 0.8;\" fill=\"freeze\" /><animate xlink:href=\"#bar_0_1697540283970183956\" attributeName=\"fill\" from=\"#5e7ce0\" to=\"#fac209\" dur=\"0.15s\" calcMode=\"spline\" values=\"#5e7ce0; #fac209\" keyTimes=\"0; 1\" keySplines=\"0.42 0 1 0.8;\" fill=\"freeze\" begin=\"0.3s\" /><animate xlink:href=\"#bar_text_0_1697540283970206334\" attributeName=\"fill-opacity\" from=\"0\" to=\"1\" dur=\"0.15s\" calcMode=\"spline\" values=\"0; 1\" keyTimes=\"0; 1\" keySplines=\"0.42 0 1 0.8;\" fill=\"freeze\" begin=\"0.3s\" /><animate xlink:href=\"#bar_text_1_1697540283970231656\" attributeName=\"fill-opacity\" from=\"0\" to=\"1\" dur=\"0.15s\" calcMode=\"spline\" values=\"0; 1\" keyTimes=\"0; 1\" keySplines=\"0.42 0 1 0.8;\" fill=\"freeze\" begin=\"0.3s\" /><text x=\"203.1\" y=\"41.0\" font-size=\"14px\" dominant-baseline=\"middle\" text-anchor=\"middle\" >probability </text></svg>"
      ],
      "text/plain": [
       "<mindquantum.io.display.measure_res_svg_drawer.SVGMeasure at 0x7fe29c3c97f0>"
      ]
     },
     "execution_count": 53,
     "metadata": {},
     "output_type": "execute_result"
    }
   ],
   "source": [
    "res_16 = sim_16.sampling(cir_SWAP_Test_gen, shots=5000)\n",
    "res_16.svg()"
   ]
  },
  {
   "cell_type": "markdown",
   "metadata": {},
   "source": [
    "- 第四步：统计结果，得到欧几里得距离"
   ]
  },
  {
   "cell_type": "code",
   "execution_count": 54,
   "metadata": {},
   "outputs": [
    {
     "name": "stdout",
     "output_type": "stream",
     "text": [
      "Fig7中测量第一个量子比特，得到测量为0的频率为： 0.7706\n",
      "通过Fig7得到的内积<u|v>为： 0.7356629663099807\n"
     ]
    }
   ],
   "source": [
    "p_0_fig7 = 3853 / 5000\n",
    "inner_product_ST_16 = np.sqrt(2 * p_0_fig7 - 1)\n",
    "\n",
    "print(\"Fig7中测量第一个量子比特，得到测量为0的频率为：\", p_0_fig7)\n",
    "print(\"通过Fig7得到的内积<u|v>为：\", inner_product_ST_16)"
   ]
  },
  {
   "cell_type": "code",
   "execution_count": 55,
   "metadata": {},
   "outputs": [
    {
     "name": "stdout",
     "output_type": "stream",
     "text": [
      "通过量子计算的方法计算得到的内积的误差为： 1.0740827170041451 %\n"
     ]
    }
   ],
   "source": [
    "error_inner_16 = (inner_product_ST_16 - inner_product_16) / inner_product_16 * 100\n",
    "\n",
    "print(\"通过量子计算的方法计算得到的内积的误差为：\", error_inner_16, \"%\")"
   ]
  },
  {
   "cell_type": "code",
   "execution_count": 56,
   "metadata": {},
   "outputs": [
    {
     "name": "stdout",
     "output_type": "stream",
     "text": [
      "向量u和向量v的欧几里得距离等于 18.569267509592308\n"
     ]
    }
   ],
   "source": [
    "D_Euc_ST_16 = np.sqrt(length_u_16**2 + length_v_16**2 - 2 * length_u_16 * length_v_16 * inner_product_ST_16)\n",
    "\n",
    "print(\"向量u和向量v的欧几里得距离等于\", D_Euc_ST_16)"
   ]
  },
  {
   "cell_type": "code",
   "execution_count": 57,
   "metadata": {},
   "outputs": [
    {
     "name": "stdout",
     "output_type": "stream",
     "text": [
      "通过量子计算的方法计算得到的欧几里得的误差为： -1.44456113038147 %\n"
     ]
    }
   ],
   "source": [
    "error_D_Euc_16 = (D_Euc_ST_16 - D_Euc_16) / D_Euc_16 * 100\n",
    "\n",
    "print(\"通过量子计算的方法计算得到的欧几里得的误差为：\", error_D_Euc_16, \"%\")"
   ]
  },
  {
   "cell_type": "markdown",
   "metadata": {},
   "source": [
    "至此，我们通过MindQuantum成功验证（3）论文中的Fig7可以计算2个16维向量$\\vec{u}$和$\\vec{v}$的欧几里得距离（即$n=4$的情况）。"
   ]
  },
  {
   "cell_type": "markdown",
   "metadata": {},
   "source": [
    "### 通过MindQuantum验证（4）论文中的Fig8和Fig10的线路等价性；"
   ]
  },
  {
   "cell_type": "markdown",
   "metadata": {},
   "source": [
    "要验证线路等价，通常来说有两个方法：要么证明线路对应的酉矩阵相等，要么证明线路对应的真值表相等。\n",
    "\n",
    "在之前的介绍中，我已经用过第一种方法了，下面来介绍第二种方法——输出量子线路的真值表。\n",
    "\n",
    "先验证Fig8的线路等价性。"
   ]
  },
  {
   "cell_type": "markdown",
   "metadata": {},
   "source": [
    "![Fig_8.png](./Fig_8.png)"
   ]
  },
  {
   "cell_type": "markdown",
   "metadata": {},
   "source": [
    "首先，输出`Fredkin`门的真值表，输入如下代码："
   ]
  },
  {
   "cell_type": "code",
   "execution_count": 58,
   "metadata": {},
   "outputs": [
    {
     "name": "stdout",
     "output_type": "stream",
     "text": [
      "Input: ['000', '001', '010', '011', '100', '101', '110', '111']\n",
      "Initial state ==> Final state\n",
      "1¦000⟩ ==> 1¦000⟩  (no change)\n",
      "1¦001⟩ ==> 1¦001⟩  (no change)\n",
      "1¦010⟩ ==> 1¦010⟩  (no change)\n",
      "1¦011⟩ ==> 1¦101⟩  (Fradkin gate is activated)\n",
      "1¦100⟩ ==> 1¦100⟩  (no change)\n",
      "1¦101⟩ ==> 1¦011⟩  (Fradkin gate is activated)\n",
      "1¦110⟩ ==> 1¦110⟩  (no change)\n",
      "1¦111⟩ ==> 1¦111⟩  (no change)\n"
     ]
    }
   ],
   "source": [
    "all_inputs = []\n",
    "for q2 in ['0', '1']:\n",
    "    for q1 in ['0', '1']:\n",
    "        for q0 in ['0', '1']:\n",
    "            all_inputs.append(q2 + q1 + q0)\n",
    "\n",
    "print('Input:', all_inputs)\n",
    "\n",
    "print(\"Initial state ==> Final state\")\n",
    "\n",
    "for _input in all_inputs:\n",
    "    circuit = Circuit()\n",
    "\n",
    "    if _input[0] == '1':\n",
    "         circuit += X.on(2)\n",
    "    if _input[1] == '1':\n",
    "        circuit += X.on(1)\n",
    "    if _input[2] == '1':\n",
    "        circuit += X.on(0)\n",
    "\n",
    "    sim = Simulator('mqvector', 3)\n",
    "\n",
    "    sim.apply_circuit(circuit)\n",
    "    initial = sim.get_qs(ket=True)\n",
    "\n",
    "    sim.reset()\n",
    "\n",
    "    # Fig8中的Fredkin门\n",
    "    circuit += SWAP.on([1, 2], 0)\n",
    "\n",
    "    sim.apply_circuit(circuit)\n",
    "    final = sim.get_qs(ket=True)\n",
    "\n",
    "    if initial == final:\n",
    "        print(initial, \"==>\", final, \" (no change)\")\n",
    "    else:\n",
    "        print(initial, \"==>\", final, \" (Fradkin gate is activated)\")"
   ]
  },
  {
   "cell_type": "markdown",
   "metadata": {},
   "source": [
    "然后，输出Fig8中等式右端的线路的真值表，输入如下代码："
   ]
  },
  {
   "cell_type": "code",
   "execution_count": 59,
   "metadata": {},
   "outputs": [
    {
     "name": "stdout",
     "output_type": "stream",
     "text": [
      "Input: ['000', '001', '010', '011', '100', '101', '110', '111']\n",
      "Initial state ==> Final state\n",
      "1¦000⟩ ==> 1¦000⟩  (no change)\n",
      "1¦001⟩ ==> 1¦001⟩  (no change)\n",
      "1¦010⟩ ==> 1¦010⟩  (no change)\n",
      "1¦011⟩ ==> 1¦101⟩  (construction of Fredkin is activated)\n",
      "1¦100⟩ ==> 1¦100⟩  (no change)\n",
      "1¦101⟩ ==> 1¦011⟩  (construction of Fredkin is activated)\n",
      "1¦110⟩ ==> 1¦110⟩  (no change)\n",
      "1¦111⟩ ==> 1¦111⟩  (no change)\n"
     ]
    }
   ],
   "source": [
    "all_inputs = []\n",
    "for q2 in ['0', '1']:\n",
    "    for q1 in ['0', '1']:\n",
    "        for q0 in ['0', '1']:\n",
    "            all_inputs.append(q2 + q1 + q0)\n",
    "\n",
    "print('Input:', all_inputs)\n",
    "\n",
    "print(\"Initial state ==> Final state\")\n",
    "\n",
    "for _input in all_inputs:\n",
    "    circuit = Circuit()\n",
    "\n",
    "    if _input[0] == '1':\n",
    "         circuit += X.on(2)\n",
    "    if _input[1] == '1':\n",
    "        circuit += X.on(1)\n",
    "    if _input[2] == '1':\n",
    "        circuit += X.on(0)\n",
    "\n",
    "    sim = Simulator('mqvector', 3)\n",
    "\n",
    "    sim.apply_circuit(circuit)\n",
    "    initial = sim.get_qs(ket=True)\n",
    "\n",
    "    sim.reset()\n",
    "\n",
    "    # Fig8中等式右端的量子线路\n",
    "    circuit += X.on(2, 1)\n",
    "    circuit += X.on(1, [0, 2])\n",
    "    circuit += X.on(2, 1)\n",
    "\n",
    "    sim.apply_circuit(circuit)\n",
    "    final = sim.get_qs(ket=True)\n",
    "\n",
    "    if initial == final:\n",
    "        print(initial, \"==>\", final, \" (no change)\")\n",
    "    else:\n",
    "        print(initial, \"==>\", final, \" (construction of Fredkin is activated)\")"
   ]
  },
  {
   "cell_type": "markdown",
   "metadata": {},
   "source": [
    "可以看到，2个线路对应的真值表，它们的作用效果，都是使得1¦011⟩ ==> 1¦101⟩以及1¦101⟩ ==> 1¦011⟩，而其它保持不变，因此可以得证Fig8的线路等价性。"
   ]
  },
  {
   "cell_type": "markdown",
   "metadata": {},
   "source": [
    "![Fig_10.png](./Fig_10.png)"
   ]
  },
  {
   "cell_type": "markdown",
   "metadata": {},
   "source": [
    "我用同样的方法输出Fig10中等式两端的线路的真值表。"
   ]
  },
  {
   "cell_type": "code",
   "execution_count": 60,
   "metadata": {},
   "outputs": [
    {
     "name": "stdout",
     "output_type": "stream",
     "text": [
      "Input: ['00', '01', '10', '11']\n",
      "Initial state ==> Final state\n",
      "1¦00⟩ ==> 1¦00⟩  (no change)\n",
      "1¦01⟩ ==> 1¦01⟩  (no change)\n",
      "1¦10⟩ ==> 1¦10⟩  (no change)\n",
      "1¦11⟩ ==> -1¦11⟩  (CZ is activated)\n"
     ]
    }
   ],
   "source": [
    "all_inputs = []\n",
    "for q1 in ['0', '1']:\n",
    "    for q0 in ['0', '1']:\n",
    "        all_inputs.append(q1 + q0)\n",
    "\n",
    "print('Input:', all_inputs)\n",
    "\n",
    "print(\"Initial state ==> Final state\")\n",
    "\n",
    "for _input in all_inputs:\n",
    "    circuit = Circuit()\n",
    "\n",
    "    if _input[0] == '1':\n",
    "        circuit += X.on(1)\n",
    "    if _input[1] == '1':\n",
    "        circuit += X.on(0)\n",
    "\n",
    "    sim2 = Simulator('mqvector', 2)\n",
    "\n",
    "    sim2.apply_circuit(circuit)\n",
    "    initial = sim2.get_qs(ket=True)\n",
    "\n",
    "    sim2.reset()\n",
    "\n",
    "    # Fig10中的CZ门\n",
    "    circuit += Z.on(1, 0)\n",
    "\n",
    "    sim2.apply_circuit(circuit)\n",
    "    final = sim2.get_qs(ket=True)\n",
    "\n",
    "    if initial == final:\n",
    "        print(initial, \"==>\", final, \" (no change)\")\n",
    "    else:\n",
    "        print(initial, \"==>\", final, \" (CZ is activated)\")"
   ]
  },
  {
   "cell_type": "code",
   "execution_count": 62,
   "metadata": {},
   "outputs": [
    {
     "name": "stdout",
     "output_type": "stream",
     "text": [
      "Input: ['00', '01', '10', '11']\n",
      "Initial state ==> Final state\n",
      "1¦00⟩ ==> 1¦00⟩  (no change)\n",
      "1¦01⟩ ==> 1¦01⟩  (no change)\n",
      "1¦10⟩ ==> 1¦10⟩  (no change)\n",
      "1¦11⟩ ==> -1¦11⟩  (construction of CZ is activated)\n"
     ]
    }
   ],
   "source": [
    "all_inputs = []\n",
    "for q1 in ['0', '1']:\n",
    "    for q0 in ['0', '1']:\n",
    "        all_inputs.append(q1 + q0)\n",
    "\n",
    "print('Input:', all_inputs)\n",
    "\n",
    "print(\"Initial state ==> Final state\")\n",
    "\n",
    "for _input in all_inputs:\n",
    "    circuit = Circuit()\n",
    "\n",
    "    if _input[0] == '1':\n",
    "        circuit += X.on(1)\n",
    "    if _input[1] == '1': \n",
    "        circuit += X.on(0)\n",
    "\n",
    "    sim2 = Simulator('mqvector', 2)\n",
    "\n",
    "    sim2.apply_circuit(circuit)\n",
    "    initial = sim2.get_qs(ket=True)\n",
    "\n",
    "    sim2.reset()\n",
    "\n",
    "    # Fig10中等式右端的量子线路\n",
    "    circuit += H.on(1)\n",
    "    circuit += X.on(1, 0)\n",
    "    circuit += H.on(1)\n",
    "    \n",
    "    sim2.apply_circuit(circuit)\n",
    "    final = sim2.get_qs(ket=True)\n",
    "\n",
    "    if initial == final: \n",
    "        print(initial, \"==>\", final, \" (no change)\")\n",
    "    else: \n",
    "        print(initial, \"==>\", final, \" (construction of CZ is activated)\")"
   ]
  },
  {
   "cell_type": "markdown",
   "metadata": {},
   "source": [
    "可以看到，2个线路对应的真值表，它们的作用效果，都是使得1¦11⟩ ==> -1¦11⟩，而其它保持不变，因此可以得证Fig10的线路等价性。"
   ]
  },
  {
   "cell_type": "markdown",
   "metadata": {},
   "source": [
    "至此，我们通过MindQuantum成功验证（4）论文中的Fig8和Fig10的线路等价性。"
   ]
  },
  {
   "cell_type": "markdown",
   "metadata": {},
   "source": [
    "### 通过MindQuantum验证（5）论文中的Fig11的线路正确性；"
   ]
  },
  {
   "cell_type": "markdown",
   "metadata": {},
   "source": [
    "![Fig_11.png](./Fig_11.png)"
   ]
  },
  {
   "cell_type": "code",
   "execution_count": 61,
   "metadata": {},
   "outputs": [
    {
     "data": {
      "image/svg+xml": [
       "<svg xmlns=\"http://www.w3.org/2000/svg\" width=\"1276.8\" height=\"200.0\" xmlns:xlink=\"http://www.w3.org/1999/xlink\"><rect x=\"0\" y=\"0.0\" width=\"1276.8\" height=\"200.0\" fill=\"#ffffff\" /><text x=\"20.0\" y=\"40.0\" font-size=\"16px\" dominant-baseline=\"middle\" text-anchor=\"start\" font-family=\"Arial\" font-weight=\"normal\" fill=\"#252b3a\" >q0: </text><text x=\"20.0\" y=\"100.0\" font-size=\"16px\" dominant-baseline=\"middle\" text-anchor=\"start\" font-family=\"Arial\" font-weight=\"normal\" fill=\"#252b3a\" >q1: </text><text x=\"20.0\" y=\"160.0\" font-size=\"16px\" dominant-baseline=\"middle\" text-anchor=\"start\" font-family=\"Arial\" font-weight=\"normal\" fill=\"#252b3a\" >q2: </text><line x1=\"48.8\" x2=\"1256.8\" y1=\"40.0\" y2=\"40.0\" stroke=\"#adb0b8\" stroke-width=\"1\" /><line x1=\"48.8\" x2=\"1256.8\" y1=\"100.0\" y2=\"100.0\" stroke=\"#adb0b8\" stroke-width=\"1\" /><line x1=\"48.8\" x2=\"1256.8\" y1=\"160.0\" y2=\"160.0\" stroke=\"#adb0b8\" stroke-width=\"1\" /><rect x=\"72.8\" y=\"20.0\" width=\"40.0\" height=\"40\" rx=\"4\" ry=\"4\" stroke=\"#ffffff\" stroke-width=\"0\" fill=\"#5e7ce0\" fill-opacity=\"1\" /><text x=\"92.8\" y=\"40.0\" font-size=\"20px\" dominant-baseline=\"middle\" text-anchor=\"middle\" font-family=\"Arial\" font-weight=\"normal\" fill=\"#ffffff\" >X </text><rect x=\"132.8\" y=\"20.0\" width=\"40.0\" height=\"40\" rx=\"4\" ry=\"4\" stroke=\"#ffffff\" stroke-width=\"0\" fill=\"#5e7ce0\" fill-opacity=\"1\" /><text x=\"152.8\" y=\"40.0\" font-size=\"20px\" dominant-baseline=\"middle\" text-anchor=\"middle\" font-family=\"Arial\" font-weight=\"normal\" fill=\"#ffffff\" >Z </text><rect x=\"192.8\" y=\"20.0\" width=\"0\" height=\"160\" fill=\"gray\" fill-opacity=\"0.8\" /><rect x=\"192.8\" y=\"80.0\" width=\"40.0\" height=\"40\" rx=\"4\" ry=\"4\" stroke=\"#ffffff\" stroke-width=\"0\" fill=\"#5e7ce0\" fill-opacity=\"1\" /><text x=\"212.8\" y=\"100.0\" font-size=\"20px\" dominant-baseline=\"middle\" text-anchor=\"middle\" font-family=\"Arial\" font-weight=\"normal\" fill=\"#ffffff\" >X </text><rect x=\"252.8\" y=\"80.0\" width=\"40.0\" height=\"40\" rx=\"4\" ry=\"4\" stroke=\"#ffffff\" stroke-width=\"0\" fill=\"#5e7ce0\" fill-opacity=\"1\" /><text x=\"272.8\" y=\"100.0\" font-size=\"20px\" dominant-baseline=\"middle\" text-anchor=\"middle\" font-family=\"Arial\" font-weight=\"normal\" fill=\"#ffffff\" >Z </text><rect x=\"312.8\" y=\"20.0\" width=\"0\" height=\"160\" fill=\"gray\" fill-opacity=\"0.8\" /><rect x=\"312.8\" y=\"140.0\" width=\"40.0\" height=\"40\" rx=\"4\" ry=\"4\" stroke=\"#ffffff\" stroke-width=\"0\" fill=\"#5e7ce0\" fill-opacity=\"1\" /><text x=\"332.8\" y=\"160.0\" font-size=\"20px\" dominant-baseline=\"middle\" text-anchor=\"middle\" font-family=\"Arial\" font-weight=\"normal\" fill=\"#ffffff\" >X </text><rect x=\"372.8\" y=\"140.0\" width=\"40.0\" height=\"40\" rx=\"4\" ry=\"4\" stroke=\"#ffffff\" stroke-width=\"0\" fill=\"#5e7ce0\" fill-opacity=\"1\" /><text x=\"392.8\" y=\"160.0\" font-size=\"20px\" dominant-baseline=\"middle\" text-anchor=\"middle\" font-family=\"Arial\" font-weight=\"normal\" fill=\"#ffffff\" >Z </text><rect x=\"432.8\" y=\"20.0\" width=\"0\" height=\"160\" fill=\"gray\" fill-opacity=\"0.8\" /><rect x=\"432.8\" y=\"20.0\" width=\"20\" height=\"160\" fill=\"gray\" fill-opacity=\"0.8\" /><circle cx=\"492.8\" cy=\"40.0\" r=\"4\" fill=\"#5e7ce0\" /><circle cx=\"492.8\" cy=\"100.0\" r=\"4\" fill=\"#5e7ce0\" /><line x1=\"492.8\" x2=\"492.8\" y1=\"40.0\" y2=\"160.0\" stroke=\"#5e7ce0\" stroke-width=\"3\" /><rect x=\"472.8\" y=\"140.0\" width=\"40.0\" height=\"40\" rx=\"4\" ry=\"4\" stroke=\"#ffffff\" stroke-width=\"0\" fill=\"#5e7ce0\" fill-opacity=\"1\" /><text x=\"492.8\" y=\"160.0\" font-size=\"20px\" dominant-baseline=\"middle\" text-anchor=\"middle\" font-family=\"Arial\" font-weight=\"normal\" fill=\"#ffffff\" >X </text><rect x=\"532.8\" y=\"20.0\" width=\"20\" height=\"160\" fill=\"gray\" fill-opacity=\"0.8\" /><rect x=\"572.8\" y=\"140.0\" width=\"40.0\" height=\"40\" rx=\"4\" ry=\"4\" stroke=\"#ffffff\" stroke-width=\"0\" fill=\"#5e7ce0\" fill-opacity=\"1\" /><text x=\"592.8\" y=\"160.0\" font-size=\"20px\" dominant-baseline=\"middle\" text-anchor=\"middle\" font-family=\"Arial\" font-weight=\"normal\" fill=\"#ffffff\" >Z </text><rect x=\"632.8\" y=\"20.0\" width=\"0\" height=\"160\" fill=\"gray\" fill-opacity=\"0.8\" /><rect x=\"632.8\" y=\"80.0\" width=\"40.0\" height=\"40\" rx=\"4\" ry=\"4\" stroke=\"#ffffff\" stroke-width=\"0\" fill=\"#5e7ce0\" fill-opacity=\"1\" /><text x=\"652.8\" y=\"100.0\" font-size=\"20px\" dominant-baseline=\"middle\" text-anchor=\"middle\" font-family=\"Arial\" font-weight=\"normal\" fill=\"#ffffff\" >H </text><rect x=\"692.8\" y=\"20.0\" width=\"0\" height=\"160\" fill=\"gray\" fill-opacity=\"0.8\" /><circle cx=\"712.8\" cy=\"40.0\" r=\"4\" fill=\"#16acff\" /><line x1=\"712.8\" x2=\"712.8\" y1=\"40.0\" y2=\"100.0\" stroke=\"#16acff\" stroke-width=\"3\" /><rect x=\"692.8\" y=\"80.0\" width=\"40\" height=\"40\" rx=\"4\" ry=\"4\" stroke=\"#ffffff\" stroke-width=\"0\" fill=\"#16acff\" fill-opacity=\"1\" /><line x1=\"698.8\" x2=\"726.8\" y1=\"100.0\" y2=\"100.0\" stroke=\"#ffffff\" stroke-width=\"4\" /><line x1=\"712.8\" x2=\"712.8\" y1=\"86.0\" y2=\"114.0\" stroke=\"#ffffff\" stroke-width=\"4\" /><rect x=\"752.8\" y=\"20.0\" width=\"0\" height=\"160\" fill=\"gray\" fill-opacity=\"0.8\" /><rect x=\"752.8\" y=\"80.0\" width=\"40.0\" height=\"40\" rx=\"4\" ry=\"4\" stroke=\"#ffffff\" stroke-width=\"0\" fill=\"#5e7ce0\" fill-opacity=\"1\" /><text x=\"772.8\" y=\"100.0\" font-size=\"20px\" dominant-baseline=\"middle\" text-anchor=\"middle\" font-family=\"Arial\" font-weight=\"normal\" fill=\"#ffffff\" >H </text><rect x=\"812.8\" y=\"20.0\" width=\"0\" height=\"160\" fill=\"gray\" fill-opacity=\"0.8\" /><rect x=\"812.8\" y=\"140.0\" width=\"40.0\" height=\"40\" rx=\"4\" ry=\"4\" stroke=\"#ffffff\" stroke-width=\"0\" fill=\"#5e7ce0\" fill-opacity=\"1\" /><text x=\"832.8\" y=\"160.0\" font-size=\"20px\" dominant-baseline=\"middle\" text-anchor=\"middle\" font-family=\"Arial\" font-weight=\"normal\" fill=\"#ffffff\" >X </text><rect x=\"872.8\" y=\"20.0\" width=\"0\" height=\"160\" fill=\"gray\" fill-opacity=\"0.8\" /><rect x=\"872.8\" y=\"80.0\" width=\"40.0\" height=\"40\" rx=\"4\" ry=\"4\" stroke=\"#ffffff\" stroke-width=\"0\" fill=\"#5e7ce0\" fill-opacity=\"1\" /><text x=\"892.8\" y=\"100.0\" font-size=\"20px\" dominant-baseline=\"middle\" text-anchor=\"middle\" font-family=\"Arial\" font-weight=\"normal\" fill=\"#ffffff\" >Z </text><rect x=\"932.8\" y=\"20.0\" width=\"0\" height=\"160\" fill=\"gray\" fill-opacity=\"0.8\" /><rect x=\"932.8\" y=\"80.0\" width=\"40.0\" height=\"40\" rx=\"4\" ry=\"4\" stroke=\"#ffffff\" stroke-width=\"0\" fill=\"#5e7ce0\" fill-opacity=\"1\" /><text x=\"952.8\" y=\"100.0\" font-size=\"20px\" dominant-baseline=\"middle\" text-anchor=\"middle\" font-family=\"Arial\" font-weight=\"normal\" fill=\"#ffffff\" >X </text><rect x=\"992.8\" y=\"20.0\" width=\"0\" height=\"160\" fill=\"gray\" fill-opacity=\"0.8\" /><circle cx=\"1012.8\" cy=\"40.0\" r=\"4\" fill=\"#16acff\" /><line x1=\"1012.8\" x2=\"1012.8\" y1=\"40.0\" y2=\"160.0\" stroke=\"#16acff\" stroke-width=\"3\" /><rect x=\"992.8\" y=\"140.0\" width=\"40\" height=\"40\" rx=\"4\" ry=\"4\" stroke=\"#ffffff\" stroke-width=\"0\" fill=\"#16acff\" fill-opacity=\"1\" /><line x1=\"998.8\" x2=\"1026.8\" y1=\"160.0\" y2=\"160.0\" stroke=\"#ffffff\" stroke-width=\"4\" /><line x1=\"1012.8\" x2=\"1012.8\" y1=\"146.0\" y2=\"174.0\" stroke=\"#ffffff\" stroke-width=\"4\" /><rect x=\"1052.8\" y=\"20.0\" width=\"0\" height=\"160\" fill=\"gray\" fill-opacity=\"0.8\" /><rect x=\"1052.8\" y=\"20.0\" width=\"40.0\" height=\"40\" rx=\"4\" ry=\"4\" stroke=\"#ffffff\" stroke-width=\"0\" fill=\"#5e7ce0\" fill-opacity=\"1\" /><text x=\"1072.8\" y=\"40.0\" font-size=\"20px\" dominant-baseline=\"middle\" text-anchor=\"middle\" font-family=\"Arial\" font-weight=\"normal\" fill=\"#ffffff\" >Z </text><rect x=\"1112.8\" y=\"20.0\" width=\"0\" height=\"160\" fill=\"gray\" fill-opacity=\"0.8\" /><rect x=\"1112.8\" y=\"20.0\" width=\"40.0\" height=\"40\" rx=\"4\" ry=\"4\" stroke=\"#ffffff\" stroke-width=\"0\" fill=\"#5e7ce0\" fill-opacity=\"1\" /><text x=\"1132.8\" y=\"40.0\" font-size=\"20px\" dominant-baseline=\"middle\" text-anchor=\"middle\" font-family=\"Arial\" font-weight=\"normal\" fill=\"#ffffff\" >X </text><rect x=\"1172.8\" y=\"20.0\" width=\"0\" height=\"160\" fill=\"gray\" fill-opacity=\"0.8\" /><circle cx=\"1192.8\" cy=\"100.0\" r=\"4\" fill=\"#16acff\" /><line x1=\"1192.8\" x2=\"1192.8\" y1=\"100.0\" y2=\"160.0\" stroke=\"#16acff\" stroke-width=\"3\" /><rect x=\"1172.8\" y=\"140.0\" width=\"40\" height=\"40\" rx=\"4\" ry=\"4\" stroke=\"#ffffff\" stroke-width=\"0\" fill=\"#16acff\" fill-opacity=\"1\" /><line x1=\"1178.8\" x2=\"1206.8\" y1=\"160.0\" y2=\"160.0\" stroke=\"#ffffff\" stroke-width=\"4\" /><line x1=\"1192.8\" x2=\"1192.8\" y1=\"146.0\" y2=\"174.0\" stroke=\"#ffffff\" stroke-width=\"4\" /><rect x=\"1232.8\" y=\"20.0\" width=\"0\" height=\"160\" fill=\"gray\" fill-opacity=\"0.8\" /></svg>"
      ],
      "text/plain": [
       "<mindquantum.io.display.circuit_svg_drawer.SVGCircuit at 0x7fe29c3ab580>"
      ]
     },
     "execution_count": 61,
     "metadata": {},
     "output_type": "execute_result"
    }
   ],
   "source": [
    "# 为了便于复现，设定生成随机数的种子53，展示随机数全为1的情况，实际过程可以去掉该种子设定\n",
    "random.seed(53)\n",
    "\n",
    "Toffoli_encoder_fig11(2, [0, 1]).svg()"
   ]
  },
  {
   "cell_type": "code",
   "execution_count": 62,
   "metadata": {},
   "outputs": [
    {
     "data": {
      "image/svg+xml": [
       "<svg xmlns=\"http://www.w3.org/2000/svg\" width=\"156.8\" height=\"188.0\" xmlns:xlink=\"http://www.w3.org/1999/xlink\"><rect x=\"0\" y=\"12.0\" width=\"156.8\" height=\"188.0\" fill=\"#ffffff\" /><text x=\"20.0\" y=\"40.0\" font-size=\"16px\" dominant-baseline=\"middle\" text-anchor=\"start\" font-family=\"Arial\" font-weight=\"normal\" fill=\"#252b3a\" >q0: </text><text x=\"20.0\" y=\"100.0\" font-size=\"16px\" dominant-baseline=\"middle\" text-anchor=\"start\" font-family=\"Arial\" font-weight=\"normal\" fill=\"#252b3a\" >q1: </text><text x=\"20.0\" y=\"160.0\" font-size=\"16px\" dominant-baseline=\"middle\" text-anchor=\"start\" font-family=\"Arial\" font-weight=\"normal\" fill=\"#252b3a\" >q2: </text><line x1=\"48.8\" x2=\"136.8\" y1=\"40.0\" y2=\"40.0\" stroke=\"#adb0b8\" stroke-width=\"1\" /><line x1=\"48.8\" x2=\"136.8\" y1=\"100.0\" y2=\"100.0\" stroke=\"#adb0b8\" stroke-width=\"1\" /><line x1=\"48.8\" x2=\"136.8\" y1=\"160.0\" y2=\"160.0\" stroke=\"#adb0b8\" stroke-width=\"1\" /><circle cx=\"92.8\" cy=\"40.0\" r=\"4\" fill=\"#5e7ce0\" /><circle cx=\"92.8\" cy=\"100.0\" r=\"4\" fill=\"#5e7ce0\" /><line x1=\"92.8\" x2=\"92.8\" y1=\"40.0\" y2=\"160.0\" stroke=\"#5e7ce0\" stroke-width=\"3\" /><rect x=\"72.8\" y=\"140.0\" width=\"40.0\" height=\"40\" rx=\"4\" ry=\"4\" stroke=\"#ffffff\" stroke-width=\"0\" fill=\"#5e7ce0\" fill-opacity=\"1\" /><text x=\"92.8\" y=\"160.0\" font-size=\"20px\" dominant-baseline=\"middle\" text-anchor=\"middle\" font-family=\"Arial\" font-weight=\"normal\" fill=\"#ffffff\" >X </text></svg>"
      ],
      "text/plain": [
       "<mindquantum.io.display.circuit_svg_drawer.SVGCircuit at 0x7fe29c356dc0>"
      ]
     },
     "execution_count": 62,
     "metadata": {},
     "output_type": "execute_result"
    }
   ],
   "source": [
    "# 搭建一个包含Toffoli门的量子线路\n",
    "circuit_Toffoli_fig11 = Circuit()\n",
    "circuit_Toffoli_fig11 += X.on(2, [0, 1])\n",
    "circuit_Toffoli_fig11.svg()"
   ]
  },
  {
   "cell_type": "code",
   "execution_count": 63,
   "metadata": {},
   "outputs": [
    {
     "name": "stdout",
     "output_type": "stream",
     "text": [
      "上述两个量子线路等价\n"
     ]
    }
   ],
   "source": [
    "# 验证上述两个量子线路等价\n",
    "random.seed(53)\n",
    "\n",
    "if np.allclose(Toffoli_encoder_fig11(2, [0, 1]).matrix(), circuit_Toffoli_fig11.matrix()) == True:\n",
    "    print(\"上述两个量子线路等价\")\n",
    "else:\n",
    "    print(\"上述两个量子线路不等\")"
   ]
  },
  {
   "cell_type": "markdown",
   "metadata": {},
   "source": [
    "更一般地，验证`Toffoli_encoder_fig11(2, [0, 1])`的量子线路与包含`Toffoli`门的量子线路的等价性。"
   ]
  },
  {
   "cell_type": "code",
   "execution_count": 64,
   "metadata": {},
   "outputs": [
    {
     "name": "stdout",
     "output_type": "stream",
     "text": [
      "Toffoli_encoder_fig11(2, [0, 1])的量子线路与包含Toffoli门的量子线路等价\n"
     ]
    }
   ],
   "source": [
    "# 初始化变量\n",
    "verify_Toffoli_fig11 = 0\n",
    "\n",
    "# 重复验证100次\n",
    "for i in range(100):\n",
    "    # Toffoli_encoder_fig11(2, [0, 1])没有设定seed，因此每次产生的随机数都不一样\n",
    "    if np.allclose(Toffoli_encoder_fig11(2, [0, 1]).matrix(), circuit_Toffoli_fig11.matrix()) == True:\n",
    "        verify_Toffoli_fig11 += 1\n",
    "    else:\n",
    "        verify_Toffoli_fig11 += 0\n",
    "\n",
    "if verify_Toffoli_fig11 == 100:\n",
    "    print(\"Toffoli_encoder_fig11(2, [0, 1])的量子线路与包含Toffoli门的量子线路等价\")\n",
    "else:\n",
    "    print(\"Toffoli_encoder_fig11(2, [0, 1])的量子线路与包含Toffoli门的量子线路不等\")"
   ]
  },
  {
   "cell_type": "markdown",
   "metadata": {},
   "source": [
    "也就是说，我们通过MindQuantum成功复现Fig11，并验证该线路的正确性。"
   ]
  },
  {
   "cell_type": "markdown",
   "metadata": {},
   "source": [
    "至此，我们通过MindQuantum验证（5）论文中的Fig11的线路正确性。"
   ]
  },
  {
   "cell_type": "markdown",
   "metadata": {},
   "source": [
    "### 通过MindQuantum验证（6）论文中的Fig12（$n=4$的情况），即在Fig7的基础上保密计算2个16维向量$\\vec{u}$和$\\vec{v}$的欧几里得距离。"
   ]
  },
  {
   "cell_type": "markdown",
   "metadata": {},
   "source": [
    "首先，我们先简单回顾一下Fig7中2个16维向量的$\\vec{u}$和$\\vec{v}$的相关已知条件。"
   ]
  },
  {
   "cell_type": "code",
   "execution_count": 65,
   "metadata": {},
   "outputs": [
    {
     "name": "stdout",
     "output_type": "stream",
     "text": [
      "向量u为 [ 5  6  8  6  1  6  4  8 10  1  8  5  1  0  8 10] ，向量v为 [ 8 10  8  2  6  8  1  8  3  5  3  6  7  9  0  8]\n"
     ]
    }
   ],
   "source": [
    "print(\"向量u为\", u_16, \"，向量v为\", v_16)"
   ]
  },
  {
   "cell_type": "code",
   "execution_count": 66,
   "metadata": {},
   "outputs": [
    {
     "name": "stdout",
     "output_type": "stream",
     "text": [
      "向量u的模长为 25.15949125081825 ，向量v的模长为 25.88435821108957\n"
     ]
    }
   ],
   "source": [
    "print(\"向量u的模长为\", length_u_16, \"，向量v的模长为\", length_v_16)"
   ]
  },
  {
   "cell_type": "code",
   "execution_count": 67,
   "metadata": {},
   "outputs": [
    {
     "name": "stdout",
     "output_type": "stream",
     "text": [
      "归一化后的向量u为 [0.19873216 0.23847859 0.31797145 0.23847859 0.03974643 0.23847859\n",
      " 0.15898573 0.31797145 0.39746432 0.03974643 0.31797145 0.19873216\n",
      " 0.03974643 0.         0.31797145 0.39746432] ，\n",
      "归一化后的向量v为 [0.30906696 0.3863337  0.30906696 0.07726674 0.23180022 0.30906696\n",
      " 0.03863337 0.30906696 0.11590011 0.19316685 0.11590011 0.23180022\n",
      " 0.27043359 0.34770033 0.         0.30906696]\n"
     ]
    }
   ],
   "source": [
    "print(\"归一化后的向量u为\", u_nor_16, \"，\\n归一化后的向量v为\", v_nor_16)"
   ]
  },
  {
   "cell_type": "code",
   "execution_count": 68,
   "metadata": {},
   "outputs": [
    {
     "name": "stdout",
     "output_type": "stream",
     "text": [
      "归一化的向量u和向量v的内积等于 0.7278453056751975\n"
     ]
    }
   ],
   "source": [
    "print(\"归一化的向量u和向量v的内积等于\", inner_product_16)"
   ]
  },
  {
   "cell_type": "code",
   "execution_count": 69,
   "metadata": {},
   "outputs": [
    {
     "name": "stdout",
     "output_type": "stream",
     "text": [
      "向量u和向量v的欧几里得距离等于 18.84144368141677\n"
     ]
    }
   ],
   "source": [
    "print(\"向量u和向量v的欧几里得距离等于\", D_Euc_16)"
   ]
  },
  {
   "cell_type": "markdown",
   "metadata": {},
   "source": [
    "![Fig_12.png](./Fig_12.png)"
   ]
  },
  {
   "cell_type": "markdown",
   "metadata": {},
   "source": [
    "- 第一步：初态制备"
   ]
  },
  {
   "cell_type": "code",
   "execution_count": 70,
   "metadata": {},
   "outputs": [
    {
     "name": "stdout",
     "output_type": "stream",
     "text": [
      "归一化的向量u和向量v的张量积为 [0.06142154 0.07370585 0.09827447 0.07370585 0.01228431 0.07370585\n",
      " 0.04913724 0.09827447 0.12284309 0.01228431 0.09827447 0.06142154\n",
      " 0.01228431 0.         0.09827447 0.12284309 0.07677693 0.09213232\n",
      " 0.12284309 0.09213232 0.01535539 0.09213232 0.06142154 0.12284309\n",
      " 0.15355386 0.01535539 0.12284309 0.07677693 0.01535539 0.\n",
      " 0.12284309 0.15355386 0.06142154 0.07370585 0.09827447 0.07370585\n",
      " 0.01228431 0.07370585 0.04913724 0.09827447 0.12284309 0.01228431\n",
      " 0.09827447 0.06142154 0.01228431 0.         0.09827447 0.12284309\n",
      " 0.01535539 0.01842646 0.02456862 0.01842646 0.00307108 0.01842646\n",
      " 0.01228431 0.02456862 0.03071077 0.00307108 0.02456862 0.01535539\n",
      " 0.00307108 0.         0.02456862 0.03071077 0.04606616 0.05527939\n",
      " 0.07370585 0.05527939 0.00921323 0.05527939 0.03685293 0.07370585\n",
      " 0.09213232 0.00921323 0.07370585 0.04606616 0.00921323 0.\n",
      " 0.07370585 0.09213232 0.06142154 0.07370585 0.09827447 0.07370585\n",
      " 0.01228431 0.07370585 0.04913724 0.09827447 0.12284309 0.01228431\n",
      " 0.09827447 0.06142154 0.01228431 0.         0.09827447 0.12284309\n",
      " 0.00767769 0.00921323 0.01228431 0.00921323 0.00153554 0.00921323\n",
      " 0.00614215 0.01228431 0.01535539 0.00153554 0.01228431 0.00767769\n",
      " 0.00153554 0.         0.01228431 0.01535539 0.06142154 0.07370585\n",
      " 0.09827447 0.07370585 0.01228431 0.07370585 0.04913724 0.09827447\n",
      " 0.12284309 0.01228431 0.09827447 0.06142154 0.01228431 0.\n",
      " 0.09827447 0.12284309 0.02303308 0.0276397  0.03685293 0.0276397\n",
      " 0.00460662 0.0276397  0.01842646 0.03685293 0.04606616 0.00460662\n",
      " 0.03685293 0.02303308 0.00460662 0.         0.03685293 0.04606616\n",
      " 0.03838847 0.04606616 0.06142154 0.04606616 0.00767769 0.04606616\n",
      " 0.03071077 0.06142154 0.07677693 0.00767769 0.06142154 0.03838847\n",
      " 0.00767769 0.         0.06142154 0.07677693 0.02303308 0.0276397\n",
      " 0.03685293 0.0276397  0.00460662 0.0276397  0.01842646 0.03685293\n",
      " 0.04606616 0.00460662 0.03685293 0.02303308 0.00460662 0.\n",
      " 0.03685293 0.04606616 0.04606616 0.05527939 0.07370585 0.05527939\n",
      " 0.00921323 0.05527939 0.03685293 0.07370585 0.09213232 0.00921323\n",
      " 0.07370585 0.04606616 0.00921323 0.         0.07370585 0.09213232\n",
      " 0.05374385 0.06449262 0.08599016 0.06449262 0.01074877 0.06449262\n",
      " 0.04299508 0.08599016 0.1074877  0.01074877 0.08599016 0.05374385\n",
      " 0.01074877 0.         0.08599016 0.1074877  0.06909924 0.08291909\n",
      " 0.11055878 0.08291909 0.01381985 0.08291909 0.05527939 0.11055878\n",
      " 0.13819848 0.01381985 0.11055878 0.06909924 0.01381985 0.\n",
      " 0.11055878 0.13819848 0.         0.         0.         0.\n",
      " 0.         0.         0.         0.         0.         0.\n",
      " 0.         0.         0.         0.         0.         0.\n",
      " 0.06142154 0.07370585 0.09827447 0.07370585 0.01228431 0.07370585\n",
      " 0.04913724 0.09827447 0.12284309 0.01228431 0.09827447 0.06142154\n",
      " 0.01228431 0.         0.09827447 0.12284309]\n"
     ]
    }
   ],
   "source": [
    "# 归一化的向量u和向量v的张量积\n",
    "# 注意，越靠上的量子比特，做张量积的时候越靠右，因为MindQuantum的读取顺序是从右往左\n",
    "pre_fig12 = np.kron(v_nor_16, u_nor_16)\n",
    "\n",
    "print(\"归一化的向量u和向量v的张量积为\", pre_fig12)"
   ]
  },
  {
   "cell_type": "code",
   "execution_count": 71,
   "metadata": {},
   "outputs": [
    {
     "name": "stdout",
     "output_type": "stream",
     "text": [
      "|+>态对应的向量为 [0.70710678 0.70710678]\n"
     ]
    }
   ],
   "source": [
    "# |+>态对应的向量\n",
    "state_plus = 1 / np.sqrt(2) * np.array([1, 1])\n",
    "\n",
    "print(\"|+>态对应的向量为\", state_plus)"
   ]
  },
  {
   "cell_type": "code",
   "execution_count": 72,
   "metadata": {},
   "outputs": [
    {
     "name": "stdout",
     "output_type": "stream",
     "text": [
      "前半部分的初态对应的向量为 [0.04343159 0.04343159 0.05211791 0.05211791 0.06949055 0.06949055\n",
      " 0.05211791 0.05211791 0.00868632 0.00868632 0.05211791 0.05211791\n",
      " 0.03474527 0.03474527 0.06949055 0.06949055 0.08686318 0.08686318\n",
      " 0.00868632 0.00868632 0.06949055 0.06949055 0.04343159 0.04343159\n",
      " 0.00868632 0.00868632 0.         0.         0.06949055 0.06949055\n",
      " 0.08686318 0.08686318 0.05428949 0.05428949 0.06514739 0.06514739\n",
      " 0.08686318 0.08686318 0.06514739 0.06514739 0.0108579  0.0108579\n",
      " 0.06514739 0.06514739 0.04343159 0.04343159 0.08686318 0.08686318\n",
      " 0.10857898 0.10857898 0.0108579  0.0108579  0.08686318 0.08686318\n",
      " 0.05428949 0.05428949 0.0108579  0.0108579  0.         0.\n",
      " 0.08686318 0.08686318 0.10857898 0.10857898 0.04343159 0.04343159\n",
      " 0.05211791 0.05211791 0.06949055 0.06949055 0.05211791 0.05211791\n",
      " 0.00868632 0.00868632 0.05211791 0.05211791 0.03474527 0.03474527\n",
      " 0.06949055 0.06949055 0.08686318 0.08686318 0.00868632 0.00868632\n",
      " 0.06949055 0.06949055 0.04343159 0.04343159 0.00868632 0.00868632\n",
      " 0.         0.         0.06949055 0.06949055 0.08686318 0.08686318\n",
      " 0.0108579  0.0108579  0.01302948 0.01302948 0.01737264 0.01737264\n",
      " 0.01302948 0.01302948 0.00217158 0.00217158 0.01302948 0.01302948\n",
      " 0.00868632 0.00868632 0.01737264 0.01737264 0.0217158  0.0217158\n",
      " 0.00217158 0.00217158 0.01737264 0.01737264 0.0108579  0.0108579\n",
      " 0.00217158 0.00217158 0.         0.         0.01737264 0.01737264\n",
      " 0.0217158  0.0217158  0.03257369 0.03257369 0.03908843 0.03908843\n",
      " 0.05211791 0.05211791 0.03908843 0.03908843 0.00651474 0.00651474\n",
      " 0.03908843 0.03908843 0.02605895 0.02605895 0.05211791 0.05211791\n",
      " 0.06514739 0.06514739 0.00651474 0.00651474 0.05211791 0.05211791\n",
      " 0.03257369 0.03257369 0.00651474 0.00651474 0.         0.\n",
      " 0.05211791 0.05211791 0.06514739 0.06514739 0.04343159 0.04343159\n",
      " 0.05211791 0.05211791 0.06949055 0.06949055 0.05211791 0.05211791\n",
      " 0.00868632 0.00868632 0.05211791 0.05211791 0.03474527 0.03474527\n",
      " 0.06949055 0.06949055 0.08686318 0.08686318 0.00868632 0.00868632\n",
      " 0.06949055 0.06949055 0.04343159 0.04343159 0.00868632 0.00868632\n",
      " 0.         0.         0.06949055 0.06949055 0.08686318 0.08686318\n",
      " 0.00542895 0.00542895 0.00651474 0.00651474 0.00868632 0.00868632\n",
      " 0.00651474 0.00651474 0.00108579 0.00108579 0.00651474 0.00651474\n",
      " 0.00434316 0.00434316 0.00868632 0.00868632 0.0108579  0.0108579\n",
      " 0.00108579 0.00108579 0.00868632 0.00868632 0.00542895 0.00542895\n",
      " 0.00108579 0.00108579 0.         0.         0.00868632 0.00868632\n",
      " 0.0108579  0.0108579  0.04343159 0.04343159 0.05211791 0.05211791\n",
      " 0.06949055 0.06949055 0.05211791 0.05211791 0.00868632 0.00868632\n",
      " 0.05211791 0.05211791 0.03474527 0.03474527 0.06949055 0.06949055\n",
      " 0.08686318 0.08686318 0.00868632 0.00868632 0.06949055 0.06949055\n",
      " 0.04343159 0.04343159 0.00868632 0.00868632 0.         0.\n",
      " 0.06949055 0.06949055 0.08686318 0.08686318 0.01628685 0.01628685\n",
      " 0.01954422 0.01954422 0.02605895 0.02605895 0.01954422 0.01954422\n",
      " 0.00325737 0.00325737 0.01954422 0.01954422 0.01302948 0.01302948\n",
      " 0.02605895 0.02605895 0.03257369 0.03257369 0.00325737 0.00325737\n",
      " 0.02605895 0.02605895 0.01628685 0.01628685 0.00325737 0.00325737\n",
      " 0.         0.         0.02605895 0.02605895 0.03257369 0.03257369\n",
      " 0.02714474 0.02714474 0.03257369 0.03257369 0.04343159 0.04343159\n",
      " 0.03257369 0.03257369 0.00542895 0.00542895 0.03257369 0.03257369\n",
      " 0.0217158  0.0217158  0.04343159 0.04343159 0.05428949 0.05428949\n",
      " 0.00542895 0.00542895 0.04343159 0.04343159 0.02714474 0.02714474\n",
      " 0.00542895 0.00542895 0.         0.         0.04343159 0.04343159\n",
      " 0.05428949 0.05428949 0.01628685 0.01628685 0.01954422 0.01954422\n",
      " 0.02605895 0.02605895 0.01954422 0.01954422 0.00325737 0.00325737\n",
      " 0.01954422 0.01954422 0.01302948 0.01302948 0.02605895 0.02605895\n",
      " 0.03257369 0.03257369 0.00325737 0.00325737 0.02605895 0.02605895\n",
      " 0.01628685 0.01628685 0.00325737 0.00325737 0.         0.\n",
      " 0.02605895 0.02605895 0.03257369 0.03257369 0.03257369 0.03257369\n",
      " 0.03908843 0.03908843 0.05211791 0.05211791 0.03908843 0.03908843\n",
      " 0.00651474 0.00651474 0.03908843 0.03908843 0.02605895 0.02605895\n",
      " 0.05211791 0.05211791 0.06514739 0.06514739 0.00651474 0.00651474\n",
      " 0.05211791 0.05211791 0.03257369 0.03257369 0.00651474 0.00651474\n",
      " 0.         0.         0.05211791 0.05211791 0.06514739 0.06514739\n",
      " 0.03800264 0.03800264 0.04560317 0.04560317 0.06080423 0.06080423\n",
      " 0.04560317 0.04560317 0.00760053 0.00760053 0.04560317 0.04560317\n",
      " 0.03040211 0.03040211 0.06080423 0.06080423 0.07600528 0.07600528\n",
      " 0.00760053 0.00760053 0.06080423 0.06080423 0.03800264 0.03800264\n",
      " 0.00760053 0.00760053 0.         0.         0.06080423 0.06080423\n",
      " 0.07600528 0.07600528 0.04886054 0.04886054 0.05863265 0.05863265\n",
      " 0.07817686 0.07817686 0.05863265 0.05863265 0.00977211 0.00977211\n",
      " 0.05863265 0.05863265 0.03908843 0.03908843 0.07817686 0.07817686\n",
      " 0.09772108 0.09772108 0.00977211 0.00977211 0.07817686 0.07817686\n",
      " 0.04886054 0.04886054 0.00977211 0.00977211 0.         0.\n",
      " 0.07817686 0.07817686 0.09772108 0.09772108 0.         0.\n",
      " 0.         0.         0.         0.         0.         0.\n",
      " 0.         0.         0.         0.         0.         0.\n",
      " 0.         0.         0.         0.         0.         0.\n",
      " 0.         0.         0.         0.         0.         0.\n",
      " 0.         0.         0.         0.         0.         0.\n",
      " 0.04343159 0.04343159 0.05211791 0.05211791 0.06949055 0.06949055\n",
      " 0.05211791 0.05211791 0.00868632 0.00868632 0.05211791 0.05211791\n",
      " 0.03474527 0.03474527 0.06949055 0.06949055 0.08686318 0.08686318\n",
      " 0.00868632 0.00868632 0.06949055 0.06949055 0.04343159 0.04343159\n",
      " 0.00868632 0.00868632 0.         0.         0.06949055 0.06949055\n",
      " 0.08686318 0.08686318]\n"
     ]
    }
   ],
   "source": [
    "# 制备初态，分两部分，前半部分\n",
    "initial_state_first = np.kron(pre_fig12, state_plus)\n",
    "\n",
    "print(\"前半部分的初态对应的向量为\", initial_state_first)"
   ]
  },
  {
   "cell_type": "code",
   "execution_count": 73,
   "metadata": {},
   "outputs": [
    {
     "name": "stdout",
     "output_type": "stream",
     "text": [
      "|0>态对应的向量为 [1 0]\n"
     ]
    }
   ],
   "source": [
    "# |0>态对应的向量\n",
    "state_0 = np.array([1, 0])\n",
    "\n",
    "print(\"|0>态对应的向量为\", state_0)"
   ]
  },
  {
   "cell_type": "code",
   "execution_count": 74,
   "metadata": {},
   "outputs": [
    {
     "name": "stdout",
     "output_type": "stream",
     "text": [
      "后半部分的初态对应的向量为 [1 0 0 0 0 0 0 0]\n"
     ]
    }
   ],
   "source": [
    "# 制备初态，分两部分，后半部分，辅助比特\n",
    "initial_state_second = np.kron(np.kron(state_0, state_0), state_0)\n",
    "\n",
    "print(\"后半部分的初态对应的向量为\", initial_state_second)"
   ]
  },
  {
   "cell_type": "code",
   "execution_count": 75,
   "metadata": {},
   "outputs": [
    {
     "name": "stdout",
     "output_type": "stream",
     "text": [
      "完整的初态对应的向量为 [0.04343159 0.04343159 0.05211791 ... 0.         0.         0.        ]\n"
     ]
    }
   ],
   "source": [
    "initial_state_fig12 = np.kron(initial_state_second, initial_state_first)\n",
    "\n",
    "print(\"完整的初态对应的向量为\", initial_state_fig12)"
   ]
  },
  {
   "cell_type": "code",
   "execution_count": 76,
   "metadata": {},
   "outputs": [
    {
     "name": "stdout",
     "output_type": "stream",
     "text": [
      "0.04343159082681246¦000000000000⟩\n",
      "0.04343159082681246¦000000000001⟩\n",
      "0.052117908992174944¦000000000010⟩\n",
      "0.052117908992174944¦000000000011⟩\n",
      "0.06949054532289994¦000000000100⟩\n",
      "0.06949054532289994¦000000000101⟩\n",
      "0.052117908992174944¦000000000110⟩\n",
      "0.052117908992174944¦000000000111⟩\n",
      "0.008686318165362493¦000000001000⟩\n",
      "0.008686318165362493¦000000001001⟩\n",
      "0.052117908992174944¦000000001010⟩\n",
      "0.052117908992174944¦000000001011⟩\n",
      "0.03474527266144997¦000000001100⟩\n",
      "0.03474527266144997¦000000001101⟩\n",
      "0.06949054532289994¦000000001110⟩\n",
      "0.06949054532289994¦000000001111⟩\n",
      "0.08686318165362492¦000000010000⟩\n",
      "0.08686318165362492¦000000010001⟩\n",
      "0.008686318165362493¦000000010010⟩\n",
      "0.008686318165362493¦000000010011⟩\n",
      "0.06949054532289994¦000000010100⟩\n",
      "0.06949054532289994¦000000010101⟩\n",
      "0.04343159082681246¦000000010110⟩\n",
      "0.04343159082681246¦000000010111⟩\n",
      "0.008686318165362493¦000000011000⟩\n",
      "0.008686318165362493¦000000011001⟩\n",
      "0.06949054532289994¦000000011100⟩\n",
      "0.06949054532289994¦000000011101⟩\n",
      "0.08686318165362492¦000000011110⟩\n",
      "0.08686318165362492¦000000011111⟩\n",
      "0.05428948853351557¦000000100000⟩\n",
      "0.05428948853351557¦000000100001⟩\n",
      "0.06514738624021868¦000000100010⟩\n",
      "0.06514738624021868¦000000100011⟩\n",
      "0.08686318165362492¦000000100100⟩\n",
      "0.08686318165362492¦000000100101⟩\n",
      "0.06514738624021868¦000000100110⟩\n",
      "0.06514738624021868¦000000100111⟩\n",
      "0.010857897706703114¦000000101000⟩\n",
      "0.010857897706703114¦000000101001⟩\n",
      "0.06514738624021868¦000000101010⟩\n",
      "0.06514738624021868¦000000101011⟩\n",
      "0.04343159082681246¦000000101100⟩\n",
      "0.04343159082681246¦000000101101⟩\n",
      "0.08686318165362492¦000000101110⟩\n",
      "0.08686318165362492¦000000101111⟩\n",
      "0.10857897706703114¦000000110000⟩\n",
      "0.10857897706703114¦000000110001⟩\n",
      "0.010857897706703114¦000000110010⟩\n",
      "0.010857897706703114¦000000110011⟩\n",
      "0.08686318165362492¦000000110100⟩\n",
      "0.08686318165362492¦000000110101⟩\n",
      "0.05428948853351557¦000000110110⟩\n",
      "0.05428948853351557¦000000110111⟩\n",
      "0.010857897706703114¦000000111000⟩\n",
      "0.010857897706703114¦000000111001⟩\n",
      "0.08686318165362492¦000000111100⟩\n",
      "0.08686318165362492¦000000111101⟩\n",
      "0.10857897706703114¦000000111110⟩\n",
      "0.10857897706703114¦000000111111⟩\n",
      "0.04343159082681246¦000001000000⟩\n",
      "0.04343159082681246¦000001000001⟩\n",
      "0.052117908992174944¦000001000010⟩\n",
      "0.052117908992174944¦000001000011⟩\n",
      "0.06949054532289994¦000001000100⟩\n",
      "0.06949054532289994¦000001000101⟩\n",
      "0.052117908992174944¦000001000110⟩\n",
      "0.052117908992174944¦000001000111⟩\n",
      "0.008686318165362493¦000001001000⟩\n",
      "0.008686318165362493¦000001001001⟩\n",
      "0.052117908992174944¦000001001010⟩\n",
      "0.052117908992174944¦000001001011⟩\n",
      "0.03474527266144997¦000001001100⟩\n",
      "0.03474527266144997¦000001001101⟩\n",
      "0.06949054532289994¦000001001110⟩\n",
      "0.06949054532289994¦000001001111⟩\n",
      "0.08686318165362492¦000001010000⟩\n",
      "0.08686318165362492¦000001010001⟩\n",
      "0.008686318165362493¦000001010010⟩\n",
      "0.008686318165362493¦000001010011⟩\n",
      "0.06949054532289994¦000001010100⟩\n",
      "0.06949054532289994¦000001010101⟩\n",
      "0.04343159082681246¦000001010110⟩\n",
      "0.04343159082681246¦000001010111⟩\n",
      "0.008686318165362493¦000001011000⟩\n",
      "0.008686318165362493¦000001011001⟩\n",
      "0.06949054532289994¦000001011100⟩\n",
      "0.06949054532289994¦000001011101⟩\n",
      "0.08686318165362492¦000001011110⟩\n",
      "0.08686318165362492¦000001011111⟩\n",
      "0.010857897706703114¦000001100000⟩\n",
      "0.010857897706703114¦000001100001⟩\n",
      "0.013029477248043736¦000001100010⟩\n",
      "0.013029477248043736¦000001100011⟩\n",
      "0.017372636330724986¦000001100100⟩\n",
      "0.017372636330724986¦000001100101⟩\n",
      "0.013029477248043736¦000001100110⟩\n",
      "0.013029477248043736¦000001100111⟩\n",
      "0.0021715795413406232¦000001101000⟩\n",
      "0.0021715795413406232¦000001101001⟩\n",
      "0.013029477248043736¦000001101010⟩\n",
      "0.013029477248043736¦000001101011⟩\n",
      "0.008686318165362493¦000001101100⟩\n",
      "0.008686318165362493¦000001101101⟩\n",
      "0.017372636330724986¦000001101110⟩\n",
      "0.017372636330724986¦000001101111⟩\n",
      "0.02171579541340623¦000001110000⟩\n",
      "0.02171579541340623¦000001110001⟩\n",
      "0.0021715795413406232¦000001110010⟩\n",
      "0.0021715795413406232¦000001110011⟩\n",
      "0.017372636330724986¦000001110100⟩\n",
      "0.017372636330724986¦000001110101⟩\n",
      "0.010857897706703114¦000001110110⟩\n",
      "0.010857897706703114¦000001110111⟩\n",
      "0.0021715795413406232¦000001111000⟩\n",
      "0.0021715795413406232¦000001111001⟩\n",
      "0.017372636330724986¦000001111100⟩\n",
      "0.017372636330724986¦000001111101⟩\n",
      "0.02171579541340623¦000001111110⟩\n",
      "0.02171579541340623¦000001111111⟩\n",
      "0.03257369312010934¦000010000000⟩\n",
      "0.03257369312010934¦000010000001⟩\n",
      "0.03908843174413121¦000010000010⟩\n",
      "0.03908843174413121¦000010000011⟩\n",
      "0.05211790899217495¦000010000100⟩\n",
      "0.05211790899217495¦000010000101⟩\n",
      "0.03908843174413121¦000010000110⟩\n",
      "0.03908843174413121¦000010000111⟩\n",
      "0.006514738624021869¦000010001000⟩\n",
      "0.006514738624021869¦000010001001⟩\n",
      "0.03908843174413121¦000010001010⟩\n",
      "0.03908843174413121¦000010001011⟩\n",
      "0.026058954496087475¦000010001100⟩\n",
      "0.026058954496087475¦000010001101⟩\n",
      "0.05211790899217495¦000010001110⟩\n",
      "0.05211790899217495¦000010001111⟩\n",
      "0.06514738624021868¦000010010000⟩\n",
      "0.06514738624021868¦000010010001⟩\n",
      "0.006514738624021869¦000010010010⟩\n",
      "0.006514738624021869¦000010010011⟩\n",
      "0.05211790899217495¦000010010100⟩\n",
      "0.05211790899217495¦000010010101⟩\n",
      "0.03257369312010934¦000010010110⟩\n",
      "0.03257369312010934¦000010010111⟩\n",
      "0.006514738624021869¦000010011000⟩\n",
      "0.006514738624021869¦000010011001⟩\n",
      "0.05211790899217495¦000010011100⟩\n",
      "0.05211790899217495¦000010011101⟩\n",
      "0.06514738624021868¦000010011110⟩\n",
      "0.06514738624021868¦000010011111⟩\n",
      "0.04343159082681246¦000010100000⟩\n",
      "0.04343159082681246¦000010100001⟩\n",
      "0.052117908992174944¦000010100010⟩\n",
      "0.052117908992174944¦000010100011⟩\n",
      "0.06949054532289994¦000010100100⟩\n",
      "0.06949054532289994¦000010100101⟩\n",
      "0.052117908992174944¦000010100110⟩\n",
      "0.052117908992174944¦000010100111⟩\n",
      "0.008686318165362493¦000010101000⟩\n",
      "0.008686318165362493¦000010101001⟩\n",
      "0.052117908992174944¦000010101010⟩\n",
      "0.052117908992174944¦000010101011⟩\n",
      "0.03474527266144997¦000010101100⟩\n",
      "0.03474527266144997¦000010101101⟩\n",
      "0.06949054532289994¦000010101110⟩\n",
      "0.06949054532289994¦000010101111⟩\n",
      "0.08686318165362492¦000010110000⟩\n",
      "0.08686318165362492¦000010110001⟩\n",
      "0.008686318165362493¦000010110010⟩\n",
      "0.008686318165362493¦000010110011⟩\n",
      "0.06949054532289994¦000010110100⟩\n",
      "0.06949054532289994¦000010110101⟩\n",
      "0.04343159082681246¦000010110110⟩\n",
      "0.04343159082681246¦000010110111⟩\n",
      "0.008686318165362493¦000010111000⟩\n",
      "0.008686318165362493¦000010111001⟩\n",
      "0.06949054532289994¦000010111100⟩\n",
      "0.06949054532289994¦000010111101⟩\n",
      "0.08686318165362492¦000010111110⟩\n",
      "0.08686318165362492¦000010111111⟩\n",
      "0.005428948853351557¦000011000000⟩\n",
      "0.005428948853351557¦000011000001⟩\n",
      "0.006514738624021868¦000011000010⟩\n",
      "0.006514738624021868¦000011000011⟩\n",
      "0.008686318165362493¦000011000100⟩\n",
      "0.008686318165362493¦000011000101⟩\n",
      "0.006514738624021868¦000011000110⟩\n",
      "0.006514738624021868¦000011000111⟩\n",
      "0.0010857897706703116¦000011001000⟩\n",
      "0.0010857897706703116¦000011001001⟩\n",
      "0.006514738624021868¦000011001010⟩\n",
      "0.006514738624021868¦000011001011⟩\n",
      "0.0043431590826812465¦000011001100⟩\n",
      "0.0043431590826812465¦000011001101⟩\n",
      "0.008686318165362493¦000011001110⟩\n",
      "0.008686318165362493¦000011001111⟩\n",
      "0.010857897706703114¦000011010000⟩\n",
      "0.010857897706703114¦000011010001⟩\n",
      "0.0010857897706703116¦000011010010⟩\n",
      "0.0010857897706703116¦000011010011⟩\n",
      "0.008686318165362493¦000011010100⟩\n",
      "0.008686318165362493¦000011010101⟩\n",
      "0.005428948853351557¦000011010110⟩\n",
      "0.005428948853351557¦000011010111⟩\n",
      "0.0010857897706703116¦000011011000⟩\n",
      "0.0010857897706703116¦000011011001⟩\n",
      "0.008686318165362493¦000011011100⟩\n",
      "0.008686318165362493¦000011011101⟩\n",
      "0.010857897706703114¦000011011110⟩\n",
      "0.010857897706703114¦000011011111⟩\n",
      "0.04343159082681246¦000011100000⟩\n",
      "0.04343159082681246¦000011100001⟩\n",
      "0.052117908992174944¦000011100010⟩\n",
      "0.052117908992174944¦000011100011⟩\n",
      "0.06949054532289994¦000011100100⟩\n",
      "0.06949054532289994¦000011100101⟩\n",
      "0.052117908992174944¦000011100110⟩\n",
      "0.052117908992174944¦000011100111⟩\n",
      "0.008686318165362493¦000011101000⟩\n",
      "0.008686318165362493¦000011101001⟩\n",
      "0.052117908992174944¦000011101010⟩\n",
      "0.052117908992174944¦000011101011⟩\n",
      "0.03474527266144997¦000011101100⟩\n",
      "0.03474527266144997¦000011101101⟩\n",
      "0.06949054532289994¦000011101110⟩\n",
      "0.06949054532289994¦000011101111⟩\n",
      "0.08686318165362492¦000011110000⟩\n",
      "0.08686318165362492¦000011110001⟩\n",
      "0.008686318165362493¦000011110010⟩\n",
      "0.008686318165362493¦000011110011⟩\n",
      "0.06949054532289994¦000011110100⟩\n",
      "0.06949054532289994¦000011110101⟩\n",
      "0.04343159082681246¦000011110110⟩\n",
      "0.04343159082681246¦000011110111⟩\n",
      "0.008686318165362493¦000011111000⟩\n",
      "0.008686318165362493¦000011111001⟩\n",
      "0.06949054532289994¦000011111100⟩\n",
      "0.06949054532289994¦000011111101⟩\n",
      "0.08686318165362492¦000011111110⟩\n",
      "0.08686318165362492¦000011111111⟩\n",
      "0.01628684656005467¦000100000000⟩\n",
      "0.01628684656005467¦000100000001⟩\n",
      "0.019544215872065604¦000100000010⟩\n",
      "0.019544215872065604¦000100000011⟩\n",
      "0.026058954496087475¦000100000100⟩\n",
      "0.026058954496087475¦000100000101⟩\n",
      "0.019544215872065604¦000100000110⟩\n",
      "0.019544215872065604¦000100000111⟩\n",
      "0.0032573693120109344¦000100001000⟩\n",
      "0.0032573693120109344¦000100001001⟩\n",
      "0.019544215872065604¦000100001010⟩\n",
      "0.019544215872065604¦000100001011⟩\n",
      "0.013029477248043738¦000100001100⟩\n",
      "0.013029477248043738¦000100001101⟩\n",
      "0.026058954496087475¦000100001110⟩\n",
      "0.026058954496087475¦000100001111⟩\n",
      "0.03257369312010934¦000100010000⟩\n",
      "0.03257369312010934¦000100010001⟩\n",
      "0.0032573693120109344¦000100010010⟩\n",
      "0.0032573693120109344¦000100010011⟩\n",
      "0.026058954496087475¦000100010100⟩\n",
      "0.026058954496087475¦000100010101⟩\n",
      "0.01628684656005467¦000100010110⟩\n",
      "0.01628684656005467¦000100010111⟩\n",
      "0.0032573693120109344¦000100011000⟩\n",
      "0.0032573693120109344¦000100011001⟩\n",
      "0.026058954496087475¦000100011100⟩\n",
      "0.026058954496087475¦000100011101⟩\n",
      "0.03257369312010934¦000100011110⟩\n",
      "0.03257369312010934¦000100011111⟩\n",
      "0.027144744266757784¦000100100000⟩\n",
      "0.027144744266757784¦000100100001⟩\n",
      "0.03257369312010934¦000100100010⟩\n",
      "0.03257369312010934¦000100100011⟩\n",
      "0.04343159082681246¦000100100100⟩\n",
      "0.04343159082681246¦000100100101⟩\n",
      "0.03257369312010934¦000100100110⟩\n",
      "0.03257369312010934¦000100100111⟩\n",
      "0.005428948853351557¦000100101000⟩\n",
      "0.005428948853351557¦000100101001⟩\n",
      "0.03257369312010934¦000100101010⟩\n",
      "0.03257369312010934¦000100101011⟩\n",
      "0.02171579541340623¦000100101100⟩\n",
      "0.02171579541340623¦000100101101⟩\n",
      "0.04343159082681246¦000100101110⟩\n",
      "0.04343159082681246¦000100101111⟩\n",
      "0.05428948853351557¦000100110000⟩\n",
      "0.05428948853351557¦000100110001⟩\n",
      "0.005428948853351557¦000100110010⟩\n",
      "0.005428948853351557¦000100110011⟩\n",
      "0.04343159082681246¦000100110100⟩\n",
      "0.04343159082681246¦000100110101⟩\n",
      "0.027144744266757784¦000100110110⟩\n",
      "0.027144744266757784¦000100110111⟩\n",
      "0.005428948853351557¦000100111000⟩\n",
      "0.005428948853351557¦000100111001⟩\n",
      "0.04343159082681246¦000100111100⟩\n",
      "0.04343159082681246¦000100111101⟩\n",
      "0.05428948853351557¦000100111110⟩\n",
      "0.05428948853351557¦000100111111⟩\n",
      "0.01628684656005467¦000101000000⟩\n",
      "0.01628684656005467¦000101000001⟩\n",
      "0.019544215872065604¦000101000010⟩\n",
      "0.019544215872065604¦000101000011⟩\n",
      "0.026058954496087475¦000101000100⟩\n",
      "0.026058954496087475¦000101000101⟩\n",
      "0.019544215872065604¦000101000110⟩\n",
      "0.019544215872065604¦000101000111⟩\n",
      "0.0032573693120109344¦000101001000⟩\n",
      "0.0032573693120109344¦000101001001⟩\n",
      "0.019544215872065604¦000101001010⟩\n",
      "0.019544215872065604¦000101001011⟩\n",
      "0.013029477248043738¦000101001100⟩\n",
      "0.013029477248043738¦000101001101⟩\n",
      "0.026058954496087475¦000101001110⟩\n",
      "0.026058954496087475¦000101001111⟩\n",
      "0.03257369312010934¦000101010000⟩\n",
      "0.03257369312010934¦000101010001⟩\n",
      "0.0032573693120109344¦000101010010⟩\n",
      "0.0032573693120109344¦000101010011⟩\n",
      "0.026058954496087475¦000101010100⟩\n",
      "0.026058954496087475¦000101010101⟩\n",
      "0.01628684656005467¦000101010110⟩\n",
      "0.01628684656005467¦000101010111⟩\n",
      "0.0032573693120109344¦000101011000⟩\n",
      "0.0032573693120109344¦000101011001⟩\n",
      "0.026058954496087475¦000101011100⟩\n",
      "0.026058954496087475¦000101011101⟩\n",
      "0.03257369312010934¦000101011110⟩\n",
      "0.03257369312010934¦000101011111⟩\n",
      "0.03257369312010934¦000101100000⟩\n",
      "0.03257369312010934¦000101100001⟩\n",
      "0.03908843174413121¦000101100010⟩\n",
      "0.03908843174413121¦000101100011⟩\n",
      "0.05211790899217495¦000101100100⟩\n",
      "0.05211790899217495¦000101100101⟩\n",
      "0.03908843174413121¦000101100110⟩\n",
      "0.03908843174413121¦000101100111⟩\n",
      "0.006514738624021869¦000101101000⟩\n",
      "0.006514738624021869¦000101101001⟩\n",
      "0.03908843174413121¦000101101010⟩\n",
      "0.03908843174413121¦000101101011⟩\n",
      "0.026058954496087475¦000101101100⟩\n",
      "0.026058954496087475¦000101101101⟩\n",
      "0.05211790899217495¦000101101110⟩\n",
      "0.05211790899217495¦000101101111⟩\n",
      "0.06514738624021868¦000101110000⟩\n",
      "0.06514738624021868¦000101110001⟩\n",
      "0.006514738624021869¦000101110010⟩\n",
      "0.006514738624021869¦000101110011⟩\n",
      "0.05211790899217495¦000101110100⟩\n",
      "0.05211790899217495¦000101110101⟩\n",
      "0.03257369312010934¦000101110110⟩\n",
      "0.03257369312010934¦000101110111⟩\n",
      "0.006514738624021869¦000101111000⟩\n",
      "0.006514738624021869¦000101111001⟩\n",
      "0.05211790899217495¦000101111100⟩\n",
      "0.05211790899217495¦000101111101⟩\n",
      "0.06514738624021868¦000101111110⟩\n",
      "0.06514738624021868¦000101111111⟩\n",
      "0.0380026419734609¦000110000000⟩\n",
      "0.0380026419734609¦000110000001⟩\n",
      "0.045603170368153076¦000110000010⟩\n",
      "0.045603170368153076¦000110000011⟩\n",
      "0.06080422715753744¦000110000100⟩\n",
      "0.06080422715753744¦000110000101⟩\n",
      "0.045603170368153076¦000110000110⟩\n",
      "0.045603170368153076¦000110000111⟩\n",
      "0.00760052839469218¦000110001000⟩\n",
      "0.00760052839469218¦000110001001⟩\n",
      "0.045603170368153076¦000110001010⟩\n",
      "0.045603170368153076¦000110001011⟩\n",
      "0.03040211357876872¦000110001100⟩\n",
      "0.03040211357876872¦000110001101⟩\n",
      "0.06080422715753744¦000110001110⟩\n",
      "0.06080422715753744¦000110001111⟩\n",
      "0.0760052839469218¦000110010000⟩\n",
      "0.0760052839469218¦000110010001⟩\n",
      "0.00760052839469218¦000110010010⟩\n",
      "0.00760052839469218¦000110010011⟩\n",
      "0.06080422715753744¦000110010100⟩\n",
      "0.06080422715753744¦000110010101⟩\n",
      "0.0380026419734609¦000110010110⟩\n",
      "0.0380026419734609¦000110010111⟩\n",
      "0.00760052839469218¦000110011000⟩\n",
      "0.00760052839469218¦000110011001⟩\n",
      "0.06080422715753744¦000110011100⟩\n",
      "0.06080422715753744¦000110011101⟩\n",
      "0.0760052839469218¦000110011110⟩\n",
      "0.0760052839469218¦000110011111⟩\n",
      "0.04886053968016402¦000110100000⟩\n",
      "0.04886053968016402¦000110100001⟩\n",
      "0.05863264761619681¦000110100010⟩\n",
      "0.05863264761619681¦000110100011⟩\n",
      "0.07817686348826243¦000110100100⟩\n",
      "0.07817686348826243¦000110100101⟩\n",
      "0.05863264761619681¦000110100110⟩\n",
      "0.05863264761619681¦000110100111⟩\n",
      "0.009772107936032804¦000110101000⟩\n",
      "0.009772107936032804¦000110101001⟩\n",
      "0.05863264761619681¦000110101010⟩\n",
      "0.05863264761619681¦000110101011⟩\n",
      "0.039088431744131215¦000110101100⟩\n",
      "0.039088431744131215¦000110101101⟩\n",
      "0.07817686348826243¦000110101110⟩\n",
      "0.07817686348826243¦000110101111⟩\n",
      "0.09772107936032803¦000110110000⟩\n",
      "0.09772107936032803¦000110110001⟩\n",
      "0.009772107936032804¦000110110010⟩\n",
      "0.009772107936032804¦000110110011⟩\n",
      "0.07817686348826243¦000110110100⟩\n",
      "0.07817686348826243¦000110110101⟩\n",
      "0.04886053968016402¦000110110110⟩\n",
      "0.04886053968016402¦000110110111⟩\n",
      "0.009772107936032804¦000110111000⟩\n",
      "0.009772107936032804¦000110111001⟩\n",
      "0.07817686348826243¦000110111100⟩\n",
      "0.07817686348826243¦000110111101⟩\n",
      "0.09772107936032803¦000110111110⟩\n",
      "0.09772107936032803¦000110111111⟩\n",
      "0.04343159082681246¦000111100000⟩\n",
      "0.04343159082681246¦000111100001⟩\n",
      "0.052117908992174944¦000111100010⟩\n",
      "0.052117908992174944¦000111100011⟩\n",
      "0.06949054532289994¦000111100100⟩\n",
      "0.06949054532289994¦000111100101⟩\n",
      "0.052117908992174944¦000111100110⟩\n",
      "0.052117908992174944¦000111100111⟩\n",
      "0.008686318165362493¦000111101000⟩\n",
      "0.008686318165362493¦000111101001⟩\n",
      "0.052117908992174944¦000111101010⟩\n",
      "0.052117908992174944¦000111101011⟩\n",
      "0.03474527266144997¦000111101100⟩\n",
      "0.03474527266144997¦000111101101⟩\n",
      "0.06949054532289994¦000111101110⟩\n",
      "0.06949054532289994¦000111101111⟩\n",
      "0.08686318165362492¦000111110000⟩\n",
      "0.08686318165362492¦000111110001⟩\n",
      "0.008686318165362493¦000111110010⟩\n",
      "0.008686318165362493¦000111110011⟩\n",
      "0.06949054532289994¦000111110100⟩\n",
      "0.06949054532289994¦000111110101⟩\n",
      "0.04343159082681246¦000111110110⟩\n",
      "0.04343159082681246¦000111110111⟩\n",
      "0.008686318165362493¦000111111000⟩\n",
      "0.008686318165362493¦000111111001⟩\n",
      "0.06949054532289994¦000111111100⟩\n",
      "0.06949054532289994¦000111111101⟩\n",
      "0.08686318165362492¦000111111110⟩\n",
      "0.08686318165362492¦000111111111⟩\n"
     ]
    }
   ],
   "source": [
    "sim_fig12 = Simulator('mqvector', 12)     # 调用一个12量子比特的模拟器\n",
    "sim_fig12.set_qs(initial_state_fig12)     # 将模拟器的初态设为与initial_state_fig12对应的量子态\n",
    "\n",
    "print(sim_fig12.get_qs(True))             # 打印我们制备好的初态"
   ]
  },
  {
   "cell_type": "markdown",
   "metadata": {},
   "source": [
    "- 第二步：广义SWAP Test"
   ]
  },
  {
   "cell_type": "code",
   "execution_count": 77,
   "metadata": {},
   "outputs": [
    {
     "data": {
      "image/svg+xml": [
       "<svg xmlns=\"http://www.w3.org/2000/svg\" width=\"3026.4\" height=\"740.0\" xmlns:xlink=\"http://www.w3.org/1999/xlink\"><rect x=\"0\" y=\"0.0\" width=\"3026.4\" height=\"740.0\" fill=\"#ffffff\" /><text x=\"20.0\" y=\"40.0\" font-size=\"16px\" dominant-baseline=\"middle\" text-anchor=\"start\" font-family=\"Arial\" font-weight=\"normal\" fill=\"#252b3a\" >q0: </text><text x=\"20.0\" y=\"100.0\" font-size=\"16px\" dominant-baseline=\"middle\" text-anchor=\"start\" font-family=\"Arial\" font-weight=\"normal\" fill=\"#252b3a\" >q1: </text><text x=\"20.0\" y=\"160.0\" font-size=\"16px\" dominant-baseline=\"middle\" text-anchor=\"start\" font-family=\"Arial\" font-weight=\"normal\" fill=\"#252b3a\" >q2: </text><text x=\"20.0\" y=\"220.0\" font-size=\"16px\" dominant-baseline=\"middle\" text-anchor=\"start\" font-family=\"Arial\" font-weight=\"normal\" fill=\"#252b3a\" >q3: </text><text x=\"20.0\" y=\"280.0\" font-size=\"16px\" dominant-baseline=\"middle\" text-anchor=\"start\" font-family=\"Arial\" font-weight=\"normal\" fill=\"#252b3a\" >q4: </text><text x=\"20.0\" y=\"340.0\" font-size=\"16px\" dominant-baseline=\"middle\" text-anchor=\"start\" font-family=\"Arial\" font-weight=\"normal\" fill=\"#252b3a\" >q5: </text><text x=\"20.0\" y=\"400.0\" font-size=\"16px\" dominant-baseline=\"middle\" text-anchor=\"start\" font-family=\"Arial\" font-weight=\"normal\" fill=\"#252b3a\" >q6: </text><text x=\"20.0\" y=\"460.0\" font-size=\"16px\" dominant-baseline=\"middle\" text-anchor=\"start\" font-family=\"Arial\" font-weight=\"normal\" fill=\"#252b3a\" >q7: </text><text x=\"20.0\" y=\"520.0\" font-size=\"16px\" dominant-baseline=\"middle\" text-anchor=\"start\" font-family=\"Arial\" font-weight=\"normal\" fill=\"#252b3a\" >q8: </text><text x=\"20.0\" y=\"580.0\" font-size=\"16px\" dominant-baseline=\"middle\" text-anchor=\"start\" font-family=\"Arial\" font-weight=\"normal\" fill=\"#252b3a\" >q9: </text><text x=\"20.0\" y=\"640.0\" font-size=\"16px\" dominant-baseline=\"middle\" text-anchor=\"start\" font-family=\"Arial\" font-weight=\"normal\" fill=\"#252b3a\" >q10: </text><text x=\"20.0\" y=\"700.0\" font-size=\"16px\" dominant-baseline=\"middle\" text-anchor=\"start\" font-family=\"Arial\" font-weight=\"normal\" fill=\"#252b3a\" >q11: </text><line x1=\"58.4\" x2=\"3006.4\" y1=\"40.0\" y2=\"40.0\" stroke=\"#adb0b8\" stroke-width=\"1\" /><line x1=\"58.4\" x2=\"3006.4\" y1=\"100.0\" y2=\"100.0\" stroke=\"#adb0b8\" stroke-width=\"1\" /><line x1=\"58.4\" x2=\"3006.4\" y1=\"160.0\" y2=\"160.0\" stroke=\"#adb0b8\" stroke-width=\"1\" /><line x1=\"58.4\" x2=\"3006.4\" y1=\"220.0\" y2=\"220.0\" stroke=\"#adb0b8\" stroke-width=\"1\" /><line x1=\"58.4\" x2=\"3006.4\" y1=\"280.0\" y2=\"280.0\" stroke=\"#adb0b8\" stroke-width=\"1\" /><line x1=\"58.4\" x2=\"3006.4\" y1=\"340.0\" y2=\"340.0\" stroke=\"#adb0b8\" stroke-width=\"1\" /><line x1=\"58.4\" x2=\"3006.4\" y1=\"400.0\" y2=\"400.0\" stroke=\"#adb0b8\" stroke-width=\"1\" /><line x1=\"58.4\" x2=\"3006.4\" y1=\"460.0\" y2=\"460.0\" stroke=\"#adb0b8\" stroke-width=\"1\" /><line x1=\"58.4\" x2=\"3006.4\" y1=\"520.0\" y2=\"520.0\" stroke=\"#adb0b8\" stroke-width=\"1\" /><line x1=\"58.4\" x2=\"3006.4\" y1=\"580.0\" y2=\"580.0\" stroke=\"#adb0b8\" stroke-width=\"1\" /><line x1=\"58.4\" x2=\"3006.4\" y1=\"640.0\" y2=\"640.0\" stroke=\"#adb0b8\" stroke-width=\"1\" /><line x1=\"58.4\" x2=\"3006.4\" y1=\"700.0\" y2=\"700.0\" stroke=\"#adb0b8\" stroke-width=\"1\" /><rect x=\"82.4\" y=\"560.0\" width=\"40.0\" height=\"40\" rx=\"4\" ry=\"4\" stroke=\"#ffffff\" stroke-width=\"0\" fill=\"#5e7ce0\" fill-opacity=\"1\" /><text x=\"102.4\" y=\"580.0\" font-size=\"20px\" dominant-baseline=\"middle\" text-anchor=\"middle\" font-family=\"Arial\" font-weight=\"normal\" fill=\"#ffffff\" >H </text><rect x=\"142.4\" y=\"20.0\" width=\"0\" height=\"700\" fill=\"gray\" fill-opacity=\"0.8\" /><circle cx=\"162.4\" cy=\"100.0\" r=\"4\" fill=\"#16acff\" /><line x1=\"162.4\" x2=\"162.4\" y1=\"100.0\" y2=\"340.0\" stroke=\"#16acff\" stroke-width=\"3\" /><rect x=\"142.4\" y=\"320.0\" width=\"40\" height=\"40\" rx=\"4\" ry=\"4\" stroke=\"#ffffff\" stroke-width=\"0\" fill=\"#16acff\" fill-opacity=\"1\" /><line x1=\"148.4\" x2=\"176.4\" y1=\"340.0\" y2=\"340.0\" stroke=\"#ffffff\" stroke-width=\"4\" /><line x1=\"162.4\" x2=\"162.4\" y1=\"326.0\" y2=\"354.0\" stroke=\"#ffffff\" stroke-width=\"4\" /><rect x=\"202.4\" y=\"20.0\" width=\"0\" height=\"700\" fill=\"gray\" fill-opacity=\"0.8\" /><circle cx=\"222.4\" cy=\"580.0\" r=\"4\" fill=\"#5e7ce0\" /><circle cx=\"222.4\" cy=\"640.0\" r=\"4\" fill=\"#5e7ce0\" /><line x1=\"222.4\" x2=\"222.4\" y1=\"580.0\" y2=\"700.0\" stroke=\"#5e7ce0\" stroke-width=\"3\" /><rect x=\"202.4\" y=\"680.0\" width=\"40.0\" height=\"40\" rx=\"4\" ry=\"4\" stroke=\"#ffffff\" stroke-width=\"0\" fill=\"#5e7ce0\" fill-opacity=\"1\" /><text x=\"222.4\" y=\"700.0\" font-size=\"20px\" dominant-baseline=\"middle\" text-anchor=\"middle\" font-family=\"Arial\" font-weight=\"normal\" fill=\"#ffffff\" >X </text><rect x=\"262.4\" y=\"20.0\" width=\"20\" height=\"700\" fill=\"gray\" fill-opacity=\"0.8\" /><rect x=\"302.4\" y=\"560.0\" width=\"40.0\" height=\"40\" rx=\"4\" ry=\"4\" stroke=\"#ffffff\" stroke-width=\"0\" fill=\"#5e7ce0\" fill-opacity=\"1\" /><text x=\"322.4\" y=\"580.0\" font-size=\"20px\" dominant-baseline=\"middle\" text-anchor=\"middle\" font-family=\"Arial\" font-weight=\"normal\" fill=\"#ffffff\" >H </text><rect x=\"362.4\" y=\"20.0\" width=\"0\" height=\"700\" fill=\"gray\" fill-opacity=\"0.8\" /><circle cx=\"382.4\" cy=\"580.0\" r=\"4\" fill=\"#16acff\" /><line x1=\"382.4\" x2=\"382.4\" y1=\"580.0\" y2=\"640.0\" stroke=\"#16acff\" stroke-width=\"3\" /><rect x=\"362.4\" y=\"620.0\" width=\"40\" height=\"40\" rx=\"4\" ry=\"4\" stroke=\"#ffffff\" stroke-width=\"0\" fill=\"#16acff\" fill-opacity=\"1\" /><line x1=\"368.4\" x2=\"396.4\" y1=\"640.0\" y2=\"640.0\" stroke=\"#ffffff\" stroke-width=\"4\" /><line x1=\"382.4\" x2=\"382.4\" y1=\"626.0\" y2=\"654.0\" stroke=\"#ffffff\" stroke-width=\"4\" /><rect x=\"422.4\" y=\"20.0\" width=\"0\" height=\"700\" fill=\"gray\" fill-opacity=\"0.8\" /><circle cx=\"442.4\" cy=\"40.0\" r=\"4\" fill=\"#5e7ce0\" /><circle cx=\"442.4\" cy=\"340.0\" r=\"4\" fill=\"#5e7ce0\" /><line x1=\"442.4\" x2=\"442.4\" y1=\"40.0\" y2=\"340.0\" stroke=\"#5e7ce0\" stroke-width=\"3\" /><rect x=\"422.4\" y=\"80.0\" width=\"40.0\" height=\"40\" rx=\"4\" ry=\"4\" stroke=\"#ffffff\" stroke-width=\"0\" fill=\"#5e7ce0\" fill-opacity=\"1\" /><text x=\"442.4\" y=\"100.0\" font-size=\"20px\" dominant-baseline=\"middle\" text-anchor=\"middle\" font-family=\"Arial\" font-weight=\"normal\" fill=\"#ffffff\" >X </text><rect x=\"482.4\" y=\"20.0\" width=\"20\" height=\"700\" fill=\"gray\" fill-opacity=\"0.8\" /><rect x=\"522.4\" y=\"560.0\" width=\"40.0\" height=\"40\" rx=\"4\" ry=\"4\" stroke=\"#ffffff\" stroke-width=\"0\" fill=\"#5e7ce0\" fill-opacity=\"1\" /><text x=\"542.4\" y=\"580.0\" font-size=\"20px\" dominant-baseline=\"middle\" text-anchor=\"middle\" font-family=\"Arial\" font-weight=\"normal\" fill=\"#ffffff\" >H </text><rect x=\"582.4\" y=\"20.0\" width=\"0\" height=\"700\" fill=\"gray\" fill-opacity=\"0.8\" /><circle cx=\"602.4\" cy=\"100.0\" r=\"4\" fill=\"#16acff\" /><line x1=\"602.4\" x2=\"602.4\" y1=\"100.0\" y2=\"340.0\" stroke=\"#16acff\" stroke-width=\"3\" /><rect x=\"582.4\" y=\"320.0\" width=\"40\" height=\"40\" rx=\"4\" ry=\"4\" stroke=\"#ffffff\" stroke-width=\"0\" fill=\"#16acff\" fill-opacity=\"1\" /><line x1=\"588.4\" x2=\"616.4\" y1=\"340.0\" y2=\"340.0\" stroke=\"#ffffff\" stroke-width=\"4\" /><line x1=\"602.4\" x2=\"602.4\" y1=\"326.0\" y2=\"354.0\" stroke=\"#ffffff\" stroke-width=\"4\" /><rect x=\"642.4\" y=\"20.0\" width=\"0\" height=\"700\" fill=\"gray\" fill-opacity=\"0.8\" /><circle cx=\"662.4\" cy=\"580.0\" r=\"4\" fill=\"#5e7ce0\" /><circle cx=\"662.4\" cy=\"640.0\" r=\"4\" fill=\"#5e7ce0\" /><line x1=\"662.4\" x2=\"662.4\" y1=\"580.0\" y2=\"700.0\" stroke=\"#5e7ce0\" stroke-width=\"3\" /><rect x=\"642.4\" y=\"680.0\" width=\"40.0\" height=\"40\" rx=\"4\" ry=\"4\" stroke=\"#ffffff\" stroke-width=\"0\" fill=\"#5e7ce0\" fill-opacity=\"1\" /><text x=\"662.4\" y=\"700.0\" font-size=\"20px\" dominant-baseline=\"middle\" text-anchor=\"middle\" font-family=\"Arial\" font-weight=\"normal\" fill=\"#ffffff\" >X </text><rect x=\"702.4\" y=\"20.0\" width=\"20\" height=\"700\" fill=\"gray\" fill-opacity=\"0.8\" /><rect x=\"742.4\" y=\"560.0\" width=\"40.0\" height=\"40\" rx=\"4\" ry=\"4\" stroke=\"#ffffff\" stroke-width=\"0\" fill=\"#5e7ce0\" fill-opacity=\"1\" /><text x=\"762.4\" y=\"580.0\" font-size=\"20px\" dominant-baseline=\"middle\" text-anchor=\"middle\" font-family=\"Arial\" font-weight=\"normal\" fill=\"#ffffff\" >H </text><rect x=\"802.4\" y=\"20.0\" width=\"0\" height=\"700\" fill=\"gray\" fill-opacity=\"0.8\" /><circle cx=\"822.4\" cy=\"160.0\" r=\"4\" fill=\"#16acff\" /><line x1=\"822.4\" x2=\"822.4\" y1=\"160.0\" y2=\"400.0\" stroke=\"#16acff\" stroke-width=\"3\" /><rect x=\"802.4\" y=\"380.0\" width=\"40\" height=\"40\" rx=\"4\" ry=\"4\" stroke=\"#ffffff\" stroke-width=\"0\" fill=\"#16acff\" fill-opacity=\"1\" /><line x1=\"808.4\" x2=\"836.4\" y1=\"400.0\" y2=\"400.0\" stroke=\"#ffffff\" stroke-width=\"4\" /><line x1=\"822.4\" x2=\"822.4\" y1=\"386.0\" y2=\"414.0\" stroke=\"#ffffff\" stroke-width=\"4\" /><rect x=\"862.4\" y=\"20.0\" width=\"0\" height=\"700\" fill=\"gray\" fill-opacity=\"0.8\" /><circle cx=\"882.4\" cy=\"580.0\" r=\"4\" fill=\"#5e7ce0\" /><circle cx=\"882.4\" cy=\"640.0\" r=\"4\" fill=\"#5e7ce0\" /><line x1=\"882.4\" x2=\"882.4\" y1=\"580.0\" y2=\"700.0\" stroke=\"#5e7ce0\" stroke-width=\"3\" /><rect x=\"862.4\" y=\"680.0\" width=\"40.0\" height=\"40\" rx=\"4\" ry=\"4\" stroke=\"#ffffff\" stroke-width=\"0\" fill=\"#5e7ce0\" fill-opacity=\"1\" /><text x=\"882.4\" y=\"700.0\" font-size=\"20px\" dominant-baseline=\"middle\" text-anchor=\"middle\" font-family=\"Arial\" font-weight=\"normal\" fill=\"#ffffff\" >X </text><rect x=\"922.4\" y=\"20.0\" width=\"20\" height=\"700\" fill=\"gray\" fill-opacity=\"0.8\" /><rect x=\"962.4\" y=\"560.0\" width=\"40.0\" height=\"40\" rx=\"4\" ry=\"4\" stroke=\"#ffffff\" stroke-width=\"0\" fill=\"#5e7ce0\" fill-opacity=\"1\" /><text x=\"982.4\" y=\"580.0\" font-size=\"20px\" dominant-baseline=\"middle\" text-anchor=\"middle\" font-family=\"Arial\" font-weight=\"normal\" fill=\"#ffffff\" >H </text><rect x=\"1022.4\" y=\"20.0\" width=\"0\" height=\"700\" fill=\"gray\" fill-opacity=\"0.8\" /><circle cx=\"1042.4\" cy=\"580.0\" r=\"4\" fill=\"#16acff\" /><line x1=\"1042.4\" x2=\"1042.4\" y1=\"580.0\" y2=\"640.0\" stroke=\"#16acff\" stroke-width=\"3\" /><rect x=\"1022.4\" y=\"620.0\" width=\"40\" height=\"40\" rx=\"4\" ry=\"4\" stroke=\"#ffffff\" stroke-width=\"0\" fill=\"#16acff\" fill-opacity=\"1\" /><line x1=\"1028.4\" x2=\"1056.4\" y1=\"640.0\" y2=\"640.0\" stroke=\"#ffffff\" stroke-width=\"4\" /><line x1=\"1042.4\" x2=\"1042.4\" y1=\"626.0\" y2=\"654.0\" stroke=\"#ffffff\" stroke-width=\"4\" /><rect x=\"1082.4\" y=\"20.0\" width=\"0\" height=\"700\" fill=\"gray\" fill-opacity=\"0.8\" /><circle cx=\"1102.4\" cy=\"40.0\" r=\"4\" fill=\"#5e7ce0\" /><circle cx=\"1102.4\" cy=\"400.0\" r=\"4\" fill=\"#5e7ce0\" /><line x1=\"1102.4\" x2=\"1102.4\" y1=\"40.0\" y2=\"400.0\" stroke=\"#5e7ce0\" stroke-width=\"3\" /><rect x=\"1082.4\" y=\"140.0\" width=\"40.0\" height=\"40\" rx=\"4\" ry=\"4\" stroke=\"#ffffff\" stroke-width=\"0\" fill=\"#5e7ce0\" fill-opacity=\"1\" /><text x=\"1102.4\" y=\"160.0\" font-size=\"20px\" dominant-baseline=\"middle\" text-anchor=\"middle\" font-family=\"Arial\" font-weight=\"normal\" fill=\"#ffffff\" >X </text><rect x=\"1142.4\" y=\"20.0\" width=\"20\" height=\"700\" fill=\"gray\" fill-opacity=\"0.8\" /><rect x=\"1182.4\" y=\"560.0\" width=\"40.0\" height=\"40\" rx=\"4\" ry=\"4\" stroke=\"#ffffff\" stroke-width=\"0\" fill=\"#5e7ce0\" fill-opacity=\"1\" /><text x=\"1202.4\" y=\"580.0\" font-size=\"20px\" dominant-baseline=\"middle\" text-anchor=\"middle\" font-family=\"Arial\" font-weight=\"normal\" fill=\"#ffffff\" >H </text><rect x=\"1242.4\" y=\"20.0\" width=\"0\" height=\"700\" fill=\"gray\" fill-opacity=\"0.8\" /><circle cx=\"1262.4\" cy=\"160.0\" r=\"4\" fill=\"#16acff\" /><line x1=\"1262.4\" x2=\"1262.4\" y1=\"160.0\" y2=\"400.0\" stroke=\"#16acff\" stroke-width=\"3\" /><rect x=\"1242.4\" y=\"380.0\" width=\"40\" height=\"40\" rx=\"4\" ry=\"4\" stroke=\"#ffffff\" stroke-width=\"0\" fill=\"#16acff\" fill-opacity=\"1\" /><line x1=\"1248.4\" x2=\"1276.4\" y1=\"400.0\" y2=\"400.0\" stroke=\"#ffffff\" stroke-width=\"4\" /><line x1=\"1262.4\" x2=\"1262.4\" y1=\"386.0\" y2=\"414.0\" stroke=\"#ffffff\" stroke-width=\"4\" /><rect x=\"1302.4\" y=\"20.0\" width=\"0\" height=\"700\" fill=\"gray\" fill-opacity=\"0.8\" /><circle cx=\"1322.4\" cy=\"580.0\" r=\"4\" fill=\"#5e7ce0\" /><circle cx=\"1322.4\" cy=\"640.0\" r=\"4\" fill=\"#5e7ce0\" /><line x1=\"1322.4\" x2=\"1322.4\" y1=\"580.0\" y2=\"700.0\" stroke=\"#5e7ce0\" stroke-width=\"3\" /><rect x=\"1302.4\" y=\"680.0\" width=\"40.0\" height=\"40\" rx=\"4\" ry=\"4\" stroke=\"#ffffff\" stroke-width=\"0\" fill=\"#5e7ce0\" fill-opacity=\"1\" /><text x=\"1322.4\" y=\"700.0\" font-size=\"20px\" dominant-baseline=\"middle\" text-anchor=\"middle\" font-family=\"Arial\" font-weight=\"normal\" fill=\"#ffffff\" >X </text><rect x=\"1362.4\" y=\"20.0\" width=\"20\" height=\"700\" fill=\"gray\" fill-opacity=\"0.8\" /><rect x=\"1402.4\" y=\"560.0\" width=\"40.0\" height=\"40\" rx=\"4\" ry=\"4\" stroke=\"#ffffff\" stroke-width=\"0\" fill=\"#5e7ce0\" fill-opacity=\"1\" /><text x=\"1422.4\" y=\"580.0\" font-size=\"20px\" dominant-baseline=\"middle\" text-anchor=\"middle\" font-family=\"Arial\" font-weight=\"normal\" fill=\"#ffffff\" >H </text><rect x=\"1462.4\" y=\"20.0\" width=\"0\" height=\"700\" fill=\"gray\" fill-opacity=\"0.8\" /><circle cx=\"1482.4\" cy=\"220.0\" r=\"4\" fill=\"#16acff\" /><line x1=\"1482.4\" x2=\"1482.4\" y1=\"220.0\" y2=\"460.0\" stroke=\"#16acff\" stroke-width=\"3\" /><rect x=\"1462.4\" y=\"440.0\" width=\"40\" height=\"40\" rx=\"4\" ry=\"4\" stroke=\"#ffffff\" stroke-width=\"0\" fill=\"#16acff\" fill-opacity=\"1\" /><line x1=\"1468.4\" x2=\"1496.4\" y1=\"460.0\" y2=\"460.0\" stroke=\"#ffffff\" stroke-width=\"4\" /><line x1=\"1482.4\" x2=\"1482.4\" y1=\"446.0\" y2=\"474.0\" stroke=\"#ffffff\" stroke-width=\"4\" /><rect x=\"1522.4\" y=\"20.0\" width=\"0\" height=\"700\" fill=\"gray\" fill-opacity=\"0.8\" /><circle cx=\"1542.4\" cy=\"580.0\" r=\"4\" fill=\"#5e7ce0\" /><circle cx=\"1542.4\" cy=\"640.0\" r=\"4\" fill=\"#5e7ce0\" /><line x1=\"1542.4\" x2=\"1542.4\" y1=\"580.0\" y2=\"700.0\" stroke=\"#5e7ce0\" stroke-width=\"3\" /><rect x=\"1522.4\" y=\"680.0\" width=\"40.0\" height=\"40\" rx=\"4\" ry=\"4\" stroke=\"#ffffff\" stroke-width=\"0\" fill=\"#5e7ce0\" fill-opacity=\"1\" /><text x=\"1542.4\" y=\"700.0\" font-size=\"20px\" dominant-baseline=\"middle\" text-anchor=\"middle\" font-family=\"Arial\" font-weight=\"normal\" fill=\"#ffffff\" >X </text><rect x=\"1582.4\" y=\"20.0\" width=\"20\" height=\"700\" fill=\"gray\" fill-opacity=\"0.8\" /><rect x=\"1622.4\" y=\"560.0\" width=\"40.0\" height=\"40\" rx=\"4\" ry=\"4\" stroke=\"#ffffff\" stroke-width=\"0\" fill=\"#5e7ce0\" fill-opacity=\"1\" /><text x=\"1642.4\" y=\"580.0\" font-size=\"20px\" dominant-baseline=\"middle\" text-anchor=\"middle\" font-family=\"Arial\" font-weight=\"normal\" fill=\"#ffffff\" >H </text><rect x=\"1682.4\" y=\"20.0\" width=\"0\" height=\"700\" fill=\"gray\" fill-opacity=\"0.8\" /><circle cx=\"1702.4\" cy=\"580.0\" r=\"4\" fill=\"#16acff\" /><line x1=\"1702.4\" x2=\"1702.4\" y1=\"580.0\" y2=\"640.0\" stroke=\"#16acff\" stroke-width=\"3\" /><rect x=\"1682.4\" y=\"620.0\" width=\"40\" height=\"40\" rx=\"4\" ry=\"4\" stroke=\"#ffffff\" stroke-width=\"0\" fill=\"#16acff\" fill-opacity=\"1\" /><line x1=\"1688.4\" x2=\"1716.4\" y1=\"640.0\" y2=\"640.0\" stroke=\"#ffffff\" stroke-width=\"4\" /><line x1=\"1702.4\" x2=\"1702.4\" y1=\"626.0\" y2=\"654.0\" stroke=\"#ffffff\" stroke-width=\"4\" /><rect x=\"1742.4\" y=\"20.0\" width=\"0\" height=\"700\" fill=\"gray\" fill-opacity=\"0.8\" /><circle cx=\"1762.4\" cy=\"40.0\" r=\"4\" fill=\"#5e7ce0\" /><circle cx=\"1762.4\" cy=\"460.0\" r=\"4\" fill=\"#5e7ce0\" /><line x1=\"1762.4\" x2=\"1762.4\" y1=\"40.0\" y2=\"460.0\" stroke=\"#5e7ce0\" stroke-width=\"3\" /><rect x=\"1742.4\" y=\"200.0\" width=\"40.0\" height=\"40\" rx=\"4\" ry=\"4\" stroke=\"#ffffff\" stroke-width=\"0\" fill=\"#5e7ce0\" fill-opacity=\"1\" /><text x=\"1762.4\" y=\"220.0\" font-size=\"20px\" dominant-baseline=\"middle\" text-anchor=\"middle\" font-family=\"Arial\" font-weight=\"normal\" fill=\"#ffffff\" >X </text><rect x=\"1802.4\" y=\"20.0\" width=\"20\" height=\"700\" fill=\"gray\" fill-opacity=\"0.8\" /><rect x=\"1842.4\" y=\"560.0\" width=\"40.0\" height=\"40\" rx=\"4\" ry=\"4\" stroke=\"#ffffff\" stroke-width=\"0\" fill=\"#5e7ce0\" fill-opacity=\"1\" /><text x=\"1862.4\" y=\"580.0\" font-size=\"20px\" dominant-baseline=\"middle\" text-anchor=\"middle\" font-family=\"Arial\" font-weight=\"normal\" fill=\"#ffffff\" >H </text><rect x=\"1902.4\" y=\"20.0\" width=\"0\" height=\"700\" fill=\"gray\" fill-opacity=\"0.8\" /><circle cx=\"1922.4\" cy=\"220.0\" r=\"4\" fill=\"#16acff\" /><line x1=\"1922.4\" x2=\"1922.4\" y1=\"220.0\" y2=\"460.0\" stroke=\"#16acff\" stroke-width=\"3\" /><rect x=\"1902.4\" y=\"440.0\" width=\"40\" height=\"40\" rx=\"4\" ry=\"4\" stroke=\"#ffffff\" stroke-width=\"0\" fill=\"#16acff\" fill-opacity=\"1\" /><line x1=\"1908.4\" x2=\"1936.4\" y1=\"460.0\" y2=\"460.0\" stroke=\"#ffffff\" stroke-width=\"4\" /><line x1=\"1922.4\" x2=\"1922.4\" y1=\"446.0\" y2=\"474.0\" stroke=\"#ffffff\" stroke-width=\"4\" /><rect x=\"1962.4\" y=\"20.0\" width=\"0\" height=\"700\" fill=\"gray\" fill-opacity=\"0.8\" /><circle cx=\"1982.4\" cy=\"580.0\" r=\"4\" fill=\"#5e7ce0\" /><circle cx=\"1982.4\" cy=\"640.0\" r=\"4\" fill=\"#5e7ce0\" /><line x1=\"1982.4\" x2=\"1982.4\" y1=\"580.0\" y2=\"700.0\" stroke=\"#5e7ce0\" stroke-width=\"3\" /><rect x=\"1962.4\" y=\"680.0\" width=\"40.0\" height=\"40\" rx=\"4\" ry=\"4\" stroke=\"#ffffff\" stroke-width=\"0\" fill=\"#5e7ce0\" fill-opacity=\"1\" /><text x=\"1982.4\" y=\"700.0\" font-size=\"20px\" dominant-baseline=\"middle\" text-anchor=\"middle\" font-family=\"Arial\" font-weight=\"normal\" fill=\"#ffffff\" >X </text><rect x=\"2022.4\" y=\"20.0\" width=\"20\" height=\"700\" fill=\"gray\" fill-opacity=\"0.8\" /><rect x=\"2062.4\" y=\"560.0\" width=\"40.0\" height=\"40\" rx=\"4\" ry=\"4\" stroke=\"#ffffff\" stroke-width=\"0\" fill=\"#5e7ce0\" fill-opacity=\"1\" /><text x=\"2082.4\" y=\"580.0\" font-size=\"20px\" dominant-baseline=\"middle\" text-anchor=\"middle\" font-family=\"Arial\" font-weight=\"normal\" fill=\"#ffffff\" >H </text><rect x=\"2122.4\" y=\"20.0\" width=\"0\" height=\"700\" fill=\"gray\" fill-opacity=\"0.8\" /><circle cx=\"2142.4\" cy=\"280.0\" r=\"4\" fill=\"#16acff\" /><line x1=\"2142.4\" x2=\"2142.4\" y1=\"280.0\" y2=\"520.0\" stroke=\"#16acff\" stroke-width=\"3\" /><rect x=\"2122.4\" y=\"500.0\" width=\"40\" height=\"40\" rx=\"4\" ry=\"4\" stroke=\"#ffffff\" stroke-width=\"0\" fill=\"#16acff\" fill-opacity=\"1\" /><line x1=\"2128.4\" x2=\"2156.4\" y1=\"520.0\" y2=\"520.0\" stroke=\"#ffffff\" stroke-width=\"4\" /><line x1=\"2142.4\" x2=\"2142.4\" y1=\"506.0\" y2=\"534.0\" stroke=\"#ffffff\" stroke-width=\"4\" /><rect x=\"2182.4\" y=\"20.0\" width=\"0\" height=\"700\" fill=\"gray\" fill-opacity=\"0.8\" /><circle cx=\"2202.4\" cy=\"580.0\" r=\"4\" fill=\"#5e7ce0\" /><circle cx=\"2202.4\" cy=\"640.0\" r=\"4\" fill=\"#5e7ce0\" /><line x1=\"2202.4\" x2=\"2202.4\" y1=\"580.0\" y2=\"700.0\" stroke=\"#5e7ce0\" stroke-width=\"3\" /><rect x=\"2182.4\" y=\"680.0\" width=\"40.0\" height=\"40\" rx=\"4\" ry=\"4\" stroke=\"#ffffff\" stroke-width=\"0\" fill=\"#5e7ce0\" fill-opacity=\"1\" /><text x=\"2202.4\" y=\"700.0\" font-size=\"20px\" dominant-baseline=\"middle\" text-anchor=\"middle\" font-family=\"Arial\" font-weight=\"normal\" fill=\"#ffffff\" >X </text><rect x=\"2242.4\" y=\"20.0\" width=\"20\" height=\"700\" fill=\"gray\" fill-opacity=\"0.8\" /><rect x=\"2282.4\" y=\"560.0\" width=\"40.0\" height=\"40\" rx=\"4\" ry=\"4\" stroke=\"#ffffff\" stroke-width=\"0\" fill=\"#5e7ce0\" fill-opacity=\"1\" /><text x=\"2302.4\" y=\"580.0\" font-size=\"20px\" dominant-baseline=\"middle\" text-anchor=\"middle\" font-family=\"Arial\" font-weight=\"normal\" fill=\"#ffffff\" >H </text><rect x=\"2342.4\" y=\"20.0\" width=\"0\" height=\"700\" fill=\"gray\" fill-opacity=\"0.8\" /><circle cx=\"2362.4\" cy=\"580.0\" r=\"4\" fill=\"#16acff\" /><line x1=\"2362.4\" x2=\"2362.4\" y1=\"580.0\" y2=\"640.0\" stroke=\"#16acff\" stroke-width=\"3\" /><rect x=\"2342.4\" y=\"620.0\" width=\"40\" height=\"40\" rx=\"4\" ry=\"4\" stroke=\"#ffffff\" stroke-width=\"0\" fill=\"#16acff\" fill-opacity=\"1\" /><line x1=\"2348.4\" x2=\"2376.4\" y1=\"640.0\" y2=\"640.0\" stroke=\"#ffffff\" stroke-width=\"4\" /><line x1=\"2362.4\" x2=\"2362.4\" y1=\"626.0\" y2=\"654.0\" stroke=\"#ffffff\" stroke-width=\"4\" /><rect x=\"2402.4\" y=\"20.0\" width=\"0\" height=\"700\" fill=\"gray\" fill-opacity=\"0.8\" /><circle cx=\"2422.4\" cy=\"40.0\" r=\"4\" fill=\"#5e7ce0\" /><circle cx=\"2422.4\" cy=\"520.0\" r=\"4\" fill=\"#5e7ce0\" /><line x1=\"2422.4\" x2=\"2422.4\" y1=\"40.0\" y2=\"520.0\" stroke=\"#5e7ce0\" stroke-width=\"3\" /><rect x=\"2402.4\" y=\"260.0\" width=\"40.0\" height=\"40\" rx=\"4\" ry=\"4\" stroke=\"#ffffff\" stroke-width=\"0\" fill=\"#5e7ce0\" fill-opacity=\"1\" /><text x=\"2422.4\" y=\"280.0\" font-size=\"20px\" dominant-baseline=\"middle\" text-anchor=\"middle\" font-family=\"Arial\" font-weight=\"normal\" fill=\"#ffffff\" >X </text><rect x=\"2462.4\" y=\"20.0\" width=\"20\" height=\"700\" fill=\"gray\" fill-opacity=\"0.8\" /><rect x=\"2502.4\" y=\"560.0\" width=\"40.0\" height=\"40\" rx=\"4\" ry=\"4\" stroke=\"#ffffff\" stroke-width=\"0\" fill=\"#5e7ce0\" fill-opacity=\"1\" /><text x=\"2522.4\" y=\"580.0\" font-size=\"20px\" dominant-baseline=\"middle\" text-anchor=\"middle\" font-family=\"Arial\" font-weight=\"normal\" fill=\"#ffffff\" >H </text><rect x=\"2562.4\" y=\"20.0\" width=\"0\" height=\"700\" fill=\"gray\" fill-opacity=\"0.8\" /><circle cx=\"2582.4\" cy=\"280.0\" r=\"4\" fill=\"#16acff\" /><line x1=\"2582.4\" x2=\"2582.4\" y1=\"280.0\" y2=\"520.0\" stroke=\"#16acff\" stroke-width=\"3\" /><rect x=\"2562.4\" y=\"500.0\" width=\"40\" height=\"40\" rx=\"4\" ry=\"4\" stroke=\"#ffffff\" stroke-width=\"0\" fill=\"#16acff\" fill-opacity=\"1\" /><line x1=\"2568.4\" x2=\"2596.4\" y1=\"520.0\" y2=\"520.0\" stroke=\"#ffffff\" stroke-width=\"4\" /><line x1=\"2582.4\" x2=\"2582.4\" y1=\"506.0\" y2=\"534.0\" stroke=\"#ffffff\" stroke-width=\"4\" /><rect x=\"2622.4\" y=\"20.0\" width=\"0\" height=\"700\" fill=\"gray\" fill-opacity=\"0.8\" /><circle cx=\"2642.4\" cy=\"580.0\" r=\"4\" fill=\"#5e7ce0\" /><circle cx=\"2642.4\" cy=\"640.0\" r=\"4\" fill=\"#5e7ce0\" /><line x1=\"2642.4\" x2=\"2642.4\" y1=\"580.0\" y2=\"700.0\" stroke=\"#5e7ce0\" stroke-width=\"3\" /><rect x=\"2622.4\" y=\"680.0\" width=\"40.0\" height=\"40\" rx=\"4\" ry=\"4\" stroke=\"#ffffff\" stroke-width=\"0\" fill=\"#5e7ce0\" fill-opacity=\"1\" /><text x=\"2642.4\" y=\"700.0\" font-size=\"20px\" dominant-baseline=\"middle\" text-anchor=\"middle\" font-family=\"Arial\" font-weight=\"normal\" fill=\"#ffffff\" >X </text><rect x=\"2682.4\" y=\"20.0\" width=\"20\" height=\"700\" fill=\"gray\" fill-opacity=\"0.8\" /><rect x=\"2722.4\" y=\"20.0\" width=\"40.0\" height=\"40\" rx=\"4\" ry=\"4\" stroke=\"#ffffff\" stroke-width=\"0\" fill=\"#5e7ce0\" fill-opacity=\"1\" /><text x=\"2742.4\" y=\"40.0\" font-size=\"20px\" dominant-baseline=\"middle\" text-anchor=\"middle\" font-family=\"Arial\" font-weight=\"normal\" fill=\"#ffffff\" >H </text><rect x=\"2782.4\" y=\"20.0\" width=\"0\" height=\"700\" fill=\"gray\" fill-opacity=\"0.8\" /><circle cx=\"2802.4\" cy=\"580.0\" r=\"4\" fill=\"#16acff\" /><line x1=\"2802.4\" x2=\"2802.4\" y1=\"580.0\" y2=\"640.0\" stroke=\"#16acff\" stroke-width=\"3\" /><rect x=\"2782.4\" y=\"620.0\" width=\"40\" height=\"40\" rx=\"4\" ry=\"4\" stroke=\"#ffffff\" stroke-width=\"0\" fill=\"#16acff\" fill-opacity=\"1\" /><line x1=\"2788.4\" x2=\"2816.4\" y1=\"640.0\" y2=\"640.0\" stroke=\"#ffffff\" stroke-width=\"4\" /><line x1=\"2802.4\" x2=\"2802.4\" y1=\"626.0\" y2=\"654.0\" stroke=\"#ffffff\" stroke-width=\"4\" /><rect x=\"2842.4\" y=\"20.0\" width=\"0\" height=\"700\" fill=\"gray\" fill-opacity=\"0.8\" /><circle cx=\"2862.4\" cy=\"580.0\" r=\"4\" fill=\"#5e7ce0\" /><circle cx=\"2862.4\" cy=\"640.0\" r=\"4\" fill=\"#5e7ce0\" /><line x1=\"2862.4\" x2=\"2862.4\" y1=\"580.0\" y2=\"700.0\" stroke=\"#5e7ce0\" stroke-width=\"3\" /><rect x=\"2842.4\" y=\"680.0\" width=\"40.0\" height=\"40\" rx=\"4\" ry=\"4\" stroke=\"#ffffff\" stroke-width=\"0\" fill=\"#5e7ce0\" fill-opacity=\"1\" /><text x=\"2862.4\" y=\"700.0\" font-size=\"20px\" dominant-baseline=\"middle\" text-anchor=\"middle\" font-family=\"Arial\" font-weight=\"normal\" fill=\"#ffffff\" >X </text><rect x=\"2902.4\" y=\"20.0\" width=\"20\" height=\"700\" fill=\"gray\" fill-opacity=\"0.8\" /><rect x=\"2942.4\" y=\"20.0\" width=\"40\" height=\"40\" rx=\"4\" ry=\"4\" stroke=\"#ffffff\" stroke-width=\"0\" fill=\"#ff7272\" fill-opacity=\"1\" /><circle cx=\"2962.4\" cy=\"50.4\" r=\"1.6\" fill=\"#ffffff\" /><path d=\"M 2949.6 50.4 A 12.8 12.8 0 0 1 2975.2000000000003 50.4\" stroke=\"#ffffff\" stroke-width=\"2.4000000000000004\" fill-opacity=\"0\" /><path d=\"M 2966.501848317486 33.93539030917347 L 2974.8156921938166 29.135390309173467 L 2974.8156921938166 38.73539030917347 L 2971.4901546432843 36.815390309173466 L 2963.6470765814497 50.4 L 2961.9843078061836 49.44 L 2969.827385868018 35.85539030917347 Z\" fill=\"#ffffff\" /></svg>"
      ],
      "text/plain": [
       "<mindquantum.io.display.circuit_svg_drawer.SVGCircuit at 0x7fe29c3271f0>"
      ]
     },
     "execution_count": 77,
     "metadata": {},
     "output_type": "execute_result"
    }
   ],
   "source": [
    "# 搭建广义SWAP Test线路模型\n",
    "cir_SWAP_Test_gen_fig12 = Circuit()\n",
    "\n",
    "# 第一次执行Fredkin门\n",
    "cir_SWAP_Test_gen_fig12 += H.on(9)\n",
    "cir_SWAP_Test_gen_fig12 += BARRIER\n",
    "cir_SWAP_Test_gen_fig12 += X.on(5, 1)\n",
    "cir_SWAP_Test_gen_fig12 += BARRIER\n",
    "cir_SWAP_Test_gen_fig12 += X.on(11, [9, 10])\n",
    "cir_SWAP_Test_gen_fig12 += BarrierGate(True)\n",
    "\n",
    "cir_SWAP_Test_gen_fig12 += H.on(9)\n",
    "cir_SWAP_Test_gen_fig12 += BARRIER\n",
    "cir_SWAP_Test_gen_fig12 += X.on(10, 9)\n",
    "cir_SWAP_Test_gen_fig12 += BARRIER\n",
    "cir_SWAP_Test_gen_fig12 += X.on(1, [0, 5])\n",
    "cir_SWAP_Test_gen_fig12 += BarrierGate(True)\n",
    "\n",
    "cir_SWAP_Test_gen_fig12 += H.on(9)\n",
    "cir_SWAP_Test_gen_fig12 += BARRIER\n",
    "cir_SWAP_Test_gen_fig12 += X.on(5, 1)\n",
    "cir_SWAP_Test_gen_fig12 += BARRIER\n",
    "cir_SWAP_Test_gen_fig12 += X.on(11, [9, 10])\n",
    "cir_SWAP_Test_gen_fig12 += BarrierGate(True)\n",
    "\n",
    "# 第二次执行Fredkin门\n",
    "cir_SWAP_Test_gen_fig12 += H.on(9)\n",
    "cir_SWAP_Test_gen_fig12 += BARRIER\n",
    "cir_SWAP_Test_gen_fig12 += X.on(6, 2)\n",
    "cir_SWAP_Test_gen_fig12 += BARRIER\n",
    "cir_SWAP_Test_gen_fig12 += X.on(11, [9, 10])\n",
    "cir_SWAP_Test_gen_fig12 += BarrierGate(True)\n",
    "\n",
    "cir_SWAP_Test_gen_fig12 += H.on(9)\n",
    "cir_SWAP_Test_gen_fig12 += BARRIER\n",
    "cir_SWAP_Test_gen_fig12 += X.on(10, 9)\n",
    "cir_SWAP_Test_gen_fig12 += BARRIER\n",
    "cir_SWAP_Test_gen_fig12 += X.on(2, [0, 6])\n",
    "cir_SWAP_Test_gen_fig12 += BarrierGate(True)\n",
    "\n",
    "cir_SWAP_Test_gen_fig12 += H.on(9)\n",
    "cir_SWAP_Test_gen_fig12 += BARRIER\n",
    "cir_SWAP_Test_gen_fig12 += X.on(6, 2)\n",
    "cir_SWAP_Test_gen_fig12 += BARRIER\n",
    "cir_SWAP_Test_gen_fig12 += X.on(11, [9, 10])\n",
    "cir_SWAP_Test_gen_fig12 += BarrierGate(True)\n",
    "\n",
    "# 第三次执行Fredkin门\n",
    "cir_SWAP_Test_gen_fig12 += H.on(9)\n",
    "cir_SWAP_Test_gen_fig12 += BARRIER\n",
    "cir_SWAP_Test_gen_fig12 += X.on(7, 3)\n",
    "cir_SWAP_Test_gen_fig12 += BARRIER\n",
    "cir_SWAP_Test_gen_fig12 += X.on(11, [9, 10])\n",
    "cir_SWAP_Test_gen_fig12 += BarrierGate(True)\n",
    "\n",
    "cir_SWAP_Test_gen_fig12 += H.on(9)\n",
    "cir_SWAP_Test_gen_fig12 += BARRIER\n",
    "cir_SWAP_Test_gen_fig12 += X.on(10, 9)\n",
    "cir_SWAP_Test_gen_fig12 += BARRIER\n",
    "cir_SWAP_Test_gen_fig12 += X.on(3, [0, 7])\n",
    "cir_SWAP_Test_gen_fig12 += BarrierGate(True)\n",
    "\n",
    "cir_SWAP_Test_gen_fig12 += H.on(9)\n",
    "cir_SWAP_Test_gen_fig12 += BARRIER\n",
    "cir_SWAP_Test_gen_fig12 += X.on(7, 3)\n",
    "cir_SWAP_Test_gen_fig12 += BARRIER\n",
    "cir_SWAP_Test_gen_fig12 += X.on(11, [9, 10])\n",
    "cir_SWAP_Test_gen_fig12 += BarrierGate(True)\n",
    "\n",
    "# 第四次执行Fredkin门\n",
    "cir_SWAP_Test_gen_fig12 += H.on(9)\n",
    "cir_SWAP_Test_gen_fig12 += BARRIER\n",
    "cir_SWAP_Test_gen_fig12 += X.on(8, 4)\n",
    "cir_SWAP_Test_gen_fig12 += BARRIER\n",
    "cir_SWAP_Test_gen_fig12 += X.on(11, [9, 10])\n",
    "cir_SWAP_Test_gen_fig12 += BarrierGate(True)\n",
    "\n",
    "cir_SWAP_Test_gen_fig12 += H.on(9)\n",
    "cir_SWAP_Test_gen_fig12 += BARRIER\n",
    "cir_SWAP_Test_gen_fig12 += X.on(10, 9)\n",
    "cir_SWAP_Test_gen_fig12 += BARRIER\n",
    "cir_SWAP_Test_gen_fig12 += X.on(4, [0, 8])\n",
    "cir_SWAP_Test_gen_fig12 += BarrierGate(True)\n",
    "\n",
    "cir_SWAP_Test_gen_fig12 += H.on(9)\n",
    "cir_SWAP_Test_gen_fig12 += BARRIER\n",
    "cir_SWAP_Test_gen_fig12 += X.on(8, 4)\n",
    "cir_SWAP_Test_gen_fig12 += BARRIER\n",
    "cir_SWAP_Test_gen_fig12 += X.on(11, [9, 10])\n",
    "cir_SWAP_Test_gen_fig12 += BarrierGate(True)\n",
    "\n",
    "# 执行H门\n",
    "cir_SWAP_Test_gen_fig12 += H.on(0)\n",
    "cir_SWAP_Test_gen_fig12 += BARRIER\n",
    "cir_SWAP_Test_gen_fig12 += X.on(10, 9)\n",
    "cir_SWAP_Test_gen_fig12 += BARRIER\n",
    "cir_SWAP_Test_gen_fig12 += X.on(11, [9, 10])\n",
    "cir_SWAP_Test_gen_fig12 += BarrierGate(True)\n",
    "\n",
    "# 测量第一个量子比特\n",
    "cir_SWAP_Test_gen_fig12 += Measure().on(0)\n",
    "\n",
    "cir_SWAP_Test_gen_fig12.svg()"
   ]
  },
  {
   "cell_type": "markdown",
   "metadata": {},
   "source": [
    "- 第三步：测量"
   ]
  },
  {
   "cell_type": "code",
   "execution_count": 78,
   "metadata": {},
   "outputs": [
    {
     "data": {
      "image/svg+xml": [
       "<svg xmlns=\"http://www.w3.org/2000/svg\" width=\"401.2\" height=\"147.0\" xmlns:xlink=\"http://www.w3.org/1999/xlink\"><rect x=\"0\" y=\"0\" width=\"401.2\" height=\"147.0\" fill=\"#ffffff\" /><text x=\"10\" y=\"17.0\" font-size=\"14px\" dominant-baseline=\"middle\" text-anchor=\"start\" >Shots:\n",
       " 5000 </text><text x=\"10\" y=\"31.0\" font-size=\"14px\" dominant-baseline=\"middle\" text-anchor=\"start\" >Keys: q0 </text><line x1=\"31.2\" x2=\"391.2\" y1=\"62.0\" y2=\"62.0\" stroke=\"#adb0b8\" stroke-width=\"1\" /><line x1=\"31.2\" x2=\"31.2\" y1=\"55.0\" y2=\"62.0\" stroke=\"#adb0b8\" stroke-width=\"1\" /><text x=\"33.2\" y=\"60.0\" font-size=\"12px\" dominant-baseline=\"bottom\" text-anchor=\"start\" fill=\"#575d6c\" >0.0 </text><line x1=\"31.2\" x2=\"31.2\" y1=\"62.0\" y2=\"137.0\" stroke=\"#adb0b8\" stroke-width=\"1\" /><line x1=\"91.2\" x2=\"91.2\" y1=\"55.0\" y2=\"62.0\" stroke=\"#adb0b8\" stroke-width=\"1\" /><text x=\"93.2\" y=\"60.0\" font-size=\"12px\" dominant-baseline=\"bottom\" text-anchor=\"start\" fill=\"#575d6c\" >0.152 </text><line x1=\"91.2\" x2=\"91.2\" y1=\"62.0\" y2=\"137.0\" stroke=\"#dfe1e6\" stroke-width=\"1\" /><line x1=\"151.2\" x2=\"151.2\" y1=\"55.0\" y2=\"62.0\" stroke=\"#adb0b8\" stroke-width=\"1\" /><text x=\"153.2\" y=\"60.0\" font-size=\"12px\" dominant-baseline=\"bottom\" text-anchor=\"start\" fill=\"#575d6c\" >0.303 </text><line x1=\"151.2\" x2=\"151.2\" y1=\"62.0\" y2=\"137.0\" stroke=\"#dfe1e6\" stroke-width=\"1\" /><line x1=\"211.2\" x2=\"211.2\" y1=\"55.0\" y2=\"62.0\" stroke=\"#adb0b8\" stroke-width=\"1\" /><text x=\"213.2\" y=\"60.0\" font-size=\"12px\" dominant-baseline=\"bottom\" text-anchor=\"start\" fill=\"#575d6c\" >0.455 </text><line x1=\"211.2\" x2=\"211.2\" y1=\"62.0\" y2=\"137.0\" stroke=\"#dfe1e6\" stroke-width=\"1\" /><line x1=\"271.2\" x2=\"271.2\" y1=\"55.0\" y2=\"62.0\" stroke=\"#adb0b8\" stroke-width=\"1\" /><text x=\"273.2\" y=\"60.0\" font-size=\"12px\" dominant-baseline=\"bottom\" text-anchor=\"start\" fill=\"#575d6c\" >0.606 </text><line x1=\"271.2\" x2=\"271.2\" y1=\"62.0\" y2=\"137.0\" stroke=\"#dfe1e6\" stroke-width=\"1\" /><line x1=\"331.2\" x2=\"331.2\" y1=\"55.0\" y2=\"62.0\" stroke=\"#adb0b8\" stroke-width=\"1\" /><text x=\"333.2\" y=\"60.0\" font-size=\"12px\" dominant-baseline=\"bottom\" text-anchor=\"start\" fill=\"#575d6c\" >0.758 </text><line x1=\"331.2\" x2=\"331.2\" y1=\"62.0\" y2=\"137.0\" stroke=\"#dfe1e6\" stroke-width=\"1\" /><text x=\"22.2\" y=\"85.0\" font-size=\"12px\" dominant-baseline=\"middle\" text-anchor=\"end\" fill=\"#575d6c\" >0 </text><line x1=\"24.2\" x2=\"31.2\" y1=\"85.0\" y2=\"85.0\" stroke=\"#adb0b8\" stroke-width=\"1\" /><rect x=\"31.2\" y=\"73.0\" width=\"300.00000000000006\" height=\"24\" id=\"bar_0_1697540350149142060\" fill=\"#5e7ce0\" /><text x=\"341.20000000000005\" y=\"85.0\" font-size=\"14px\" dominant-baseline=\"middle\" text-anchor=\"start\" fill=\"#575d6c\" id=\"bar_text_0_1697540350149163768\" fill-opacity=\"0\" >3790 </text><text x=\"22.2\" y=\"115.0\" font-size=\"12px\" dominant-baseline=\"middle\" text-anchor=\"end\" fill=\"#575d6c\" >1 </text><line x1=\"24.2\" x2=\"31.2\" y1=\"115.0\" y2=\"115.0\" stroke=\"#adb0b8\" stroke-width=\"1\" /><rect x=\"31.2\" y=\"103.0\" width=\"95.77836411609499\" height=\"24\" id=\"bar_1_1697540350149178240\" fill=\"#16acff\" /><text x=\"136.978364116095\" y=\"115.0\" font-size=\"14px\" dominant-baseline=\"middle\" text-anchor=\"start\" fill=\"#575d6c\" id=\"bar_text_1_1697540350149187465\" fill-opacity=\"0\" >1210 </text><animate xlink:href=\"#bar_0_1697540350149142060\" attributeName=\"width\" from=\"0\" to=\"300.00000000000006\" dur=\"0.3s\" calcMode=\"spline\" values=\"0; 300.00000000000006\" keyTimes=\"0; 1\" keySplines=\"0.42 0 1 0.8;\" fill=\"freeze\" /><animate xlink:href=\"#bar_1_1697540350149178240\" attributeName=\"width\" from=\"0\" to=\"95.77836411609499\" dur=\"0.3s\" calcMode=\"spline\" values=\"0; 95.77836411609499\" keyTimes=\"0; 1\" keySplines=\"0.42 0 1 0.8;\" fill=\"freeze\" /><animate xlink:href=\"#bar_0_1697540350149142060\" attributeName=\"fill\" from=\"#5e7ce0\" to=\"#fac209\" dur=\"0.15s\" calcMode=\"spline\" values=\"#5e7ce0; #fac209\" keyTimes=\"0; 1\" keySplines=\"0.42 0 1 0.8;\" fill=\"freeze\" begin=\"0.3s\" /><animate xlink:href=\"#bar_text_0_1697540350149163768\" attributeName=\"fill-opacity\" from=\"0\" to=\"1\" dur=\"0.15s\" calcMode=\"spline\" values=\"0; 1\" keyTimes=\"0; 1\" keySplines=\"0.42 0 1 0.8;\" fill=\"freeze\" begin=\"0.3s\" /><animate xlink:href=\"#bar_text_1_1697540350149187465\" attributeName=\"fill-opacity\" from=\"0\" to=\"1\" dur=\"0.15s\" calcMode=\"spline\" values=\"0; 1\" keyTimes=\"0; 1\" keySplines=\"0.42 0 1 0.8;\" fill=\"freeze\" begin=\"0.3s\" /><text x=\"203.1\" y=\"41.0\" font-size=\"14px\" dominant-baseline=\"middle\" text-anchor=\"middle\" >probability </text></svg>"
      ],
      "text/plain": [
       "<mindquantum.io.display.measure_res_svg_drawer.SVGMeasure at 0x7fe29c33e6a0>"
      ]
     },
     "execution_count": 78,
     "metadata": {},
     "output_type": "execute_result"
    }
   ],
   "source": [
    "res_fig12 = sim_fig12.sampling(cir_SWAP_Test_gen_fig12, shots=5000)\n",
    "res_fig12.svg()"
   ]
  },
  {
   "cell_type": "markdown",
   "metadata": {},
   "source": [
    "- 第四步：统计结果，得到欧几里得距离"
   ]
  },
  {
   "cell_type": "markdown",
   "metadata": {},
   "source": [
    "从上述sampling的结果可以看到，得到0的次数为3853次，与Fig7得到的结果完全一致，因此后续的计算可以得到与Fig7完全相等的结果。"
   ]
  },
  {
   "cell_type": "code",
   "execution_count": 79,
   "metadata": {},
   "outputs": [
    {
     "name": "stdout",
     "output_type": "stream",
     "text": [
      "Fig12中测量第一个量子比特，得到测量为0的频率为： 0.7706\n",
      "通过Fig12得到的内积<u|v>为： 0.7356629663099807\n"
     ]
    }
   ],
   "source": [
    "p_0_fig12 = 3853 / 5000\n",
    "inner_product_ST_fig12 = np.sqrt(2 * p_0_fig12 - 1)\n",
    "\n",
    "print(\"Fig12中测量第一个量子比特，得到测量为0的频率为：\", p_0_fig12)\n",
    "print(\"通过Fig12得到的内积<u|v>为：\", inner_product_ST_fig12)"
   ]
  },
  {
   "cell_type": "code",
   "execution_count": 80,
   "metadata": {},
   "outputs": [
    {
     "name": "stdout",
     "output_type": "stream",
     "text": [
      "通过量子计算的方法计算得到的内积的误差为： 1.0740827170041451 %\n"
     ]
    }
   ],
   "source": [
    "error_inner_fig12 = (inner_product_ST_fig12 - inner_product_16) / inner_product_16 * 100\n",
    "\n",
    "print(\"通过量子计算的方法计算得到的内积的误差为：\", error_inner_fig12, \"%\")"
   ]
  },
  {
   "cell_type": "code",
   "execution_count": 81,
   "metadata": {},
   "outputs": [
    {
     "name": "stdout",
     "output_type": "stream",
     "text": [
      "向量u和向量v的欧几里得距离等于 18.569267509592308\n"
     ]
    }
   ],
   "source": [
    "D_Euc_ST_fig12 = np.sqrt(length_u_16**2 + length_v_16**2 - 2 * length_u_16 * length_v_16 * inner_product_ST_fig12)\n",
    "\n",
    "print(\"向量u和向量v的欧几里得距离等于\", D_Euc_ST_fig12)"
   ]
  },
  {
   "cell_type": "code",
   "execution_count": 82,
   "metadata": {},
   "outputs": [
    {
     "name": "stdout",
     "output_type": "stream",
     "text": [
      "通过量子计算的方法计算得到的欧几里得的误差为： -1.44456113038147 %\n"
     ]
    }
   ],
   "source": [
    "error_D_Euc_fig12 = (D_Euc_ST_fig12 - D_Euc_16) / D_Euc_16 * 100\n",
    "\n",
    "print(\"通过量子计算的方法计算得到的欧几里得的误差为：\", error_D_Euc_fig12, \"%\")"
   ]
  },
  {
   "cell_type": "markdown",
   "metadata": {},
   "source": [
    "再次验证，我们得到与Fig7完全相等的结果。\n",
    "\n",
    "至此，我们通过MindQuantum成功验证（6）论文中的Fig12（$n=4$的情况），即在Fig7的基础上保密计算2个16维向量$\\vec{u}$和$\\vec{v}$的欧几里得距离。"
   ]
  },
  {
   "cell_type": "markdown",
   "metadata": {},
   "source": [
    "## 项目总结\n",
    "\n",
    "### 复现的论文&复现结果\n",
    "\n",
    "我复现的是2021年11月1日在《Quantum Information Processing》上发表的论文，文章题目为“Blind quantum machine learning based on quantum circuit model”，文章作者为Xu Zhou和Daowen Qiu。\n",
    "\n",
    "我通过MindQuantum复现了文章中的Fig1-Fig12，并验证了每个线路设计的正确性，详细见文中提到的复现目标。\n",
    "\n",
    "### 创新点\n",
    "\n",
    "在复现过程中，我的创新点如下：\n",
    "\n",
    "（1）利用MindQuantum首次复现盲量子计算相关的论文；\n",
    "\n",
    "（2）利用到了MindQuantum最新的功能，输出量子线路矩阵的matrix()功能，并把发现的问题在主仓中提了issue；\n",
    "\n",
    "（3）利用到了np.kron()计算向量外积，再在模拟器上set_qs()的功能来制备线路的初态，而一般我们量子线路的初态为全|0>态；\n",
    "\n",
    "（4）利用MindQuantum实现输出量子线路真值表的功能；\n",
    "\n",
    "（5）华为bbs论坛的复现要求：验证论文中的Fig2，Fig3，Fig4，Fig5，Fig6，Fig9，Fig11中线路的正确性，复现论文中最终的Fig12中n=4的情况。在完成复现要求的基础上，我把剩下的Fig1，Fig7，Fig8，Fig10也复现了，并给出了证明，使得整个复现工作比较完整。\n",
    "\n",
    "### 未来可继续研究的方向\n",
    "\n",
    "（1）目前该论文限定了向量为实且非负的，后续可以考虑复向量的欧几里得距离的计算；\n",
    "\n",
    "（2）目前该论文还只是计算两个向量间的欧几里得距离，后续可以通过叠加态的形式，同时计算多个量子态间的距离；\n",
    "\n",
    "（3）目前该论文考虑的是理想信道下的量子计算，后续可以考虑在含噪声的量子信道上完成该任务；\n",
    "\n",
    "（4）目前该论文只完成量子机器学习中的某一步，计算欧几里得距离，后续可以加入到具体的量子机器学习任务中，从而展示量子计算的强大计算优势。"
   ]
  }
 ],
 "metadata": {
  "kernelspec": {
   "display_name": "base",
   "language": "python",
   "name": "python3"
  },
  "language_info": {
   "codemirror_mode": {
    "name": "ipython",
    "version": 3
   },
   "file_extension": ".py",
   "mimetype": "text/x-python",
   "name": "python",
   "nbconvert_exporter": "python",
   "pygments_lexer": "ipython3",
   "version": "3.9.13"
  }
 },
 "nbformat": 4,
 "nbformat_minor": 4
}
