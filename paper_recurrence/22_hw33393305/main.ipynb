{
 "cells": [
  {
   "cell_type": "markdown",
   "metadata": {},
   "source": [
    "# Blind quantum machine learning based on quantum circuit model\n",
    "\n",
    "复现作者：周旭\n",
    "\n",
    "华为云账号：hw33393305\n",
    "\n",
    "邮箱地址：zhouxu39@huawei.com\n",
    "\n",
    "## 项目介绍\n",
    "\n",
    "### 文章基本信息\n",
    "\n",
    "我要复现的是2021年11月1日在《Quantum Information Processing》上发表的论文，文章题目为“Blind quantum machine learning based on quantum circuit model”，文章作者为Xu Zhou和Daowen Qiu。\n",
    "\n",
    "### 文章摘要\n",
    "\n",
    "Blind quantum machine learning (BQML) is a novel secure quantum computation protocol that enables a client (Alice), who has limited quantum technology at her disposal, to delegate her quantum machine learning to a remote quantum server (Bob) who owns a fully-fledged quantum computer and promises to execute the learning task honestly, in such a way that Bob cannot obtain Alice's private information. In this paper, we first propose the concept of BQML that combines blind quantum computation and quantum machine learning and we devise two BQML protocols based on quantum circuit model in which Alice can classify vectors of any dimension to different clusters. The first protocol is half-blind, while the second is blind. It means Alice's privacy can be protected. On the other hand, Alice is only required to possess a quantum random access memory (QRAM), apply the Pauli operators ($X$ and $Z$), store, send, receive qubits and perform measurements in our protocols. Finally, we analyze the security, blindness and correctness of our protocols, and give a brief conclusion.\n",
    "\n",
    "### 文章的主要思路\n",
    "\n",
    "（1）考虑机器学习中一个实际任务————将向量分类到不同的簇；\n",
    "\n",
    "（2）根据“similarity measure”将一个新向量分类$\\vec{u}$分到簇$A$或者簇$B$，而“similarity measure”的其中一个度量就是计算两个向量的欧几里得距离；\n",
    "\n",
    "（3）计算两个向量的欧几里得距离可以转化成求这两个向量的内积；\n",
    "\n",
    "（4）当向量的维度很高的时候，经典计算机计算两个向量的内积将是一个很棘手的问题，然而通过量子计算中的Swap Test却能很高效地计算该任务；\n",
    "\n",
    "（5）未来量子计算机的应用将会以“云”的模式被用户使用，因此客户需要分发自己的量子机器学习任务给量子计算服务器，同时保护自己数据的隐私；\n",
    "\n",
    "（6）根据分别计算得到的$D_A = \\| \\vec{u} - \\vec{v_A} \\|$和$D_B = \\| \\vec{u} - \\vec{v_B} \\|$，将$u$分到距离更小的一簇，其中$\\vec{v_A}$和$\\vec{v_B}$分别是簇$A$和簇$B$的参考向量。\n",
    "\n",
    "### 文章的三个假设\n",
    "\n",
    "（1）文章中的提到的向量都是实且非负的；\n",
    "\n",
    "（2）文章中的量子信道都是理想信道，即没有误差；\n",
    "\n",
    "（3）客户Alice拥有基本的量子能力：拥有QRAM（制备向量对应的量子态），可以执行$X$和$Z$操作，储存、发送、接收和测量量子比特。\n",
    "\n",
    "### 复现目标\n",
    "\n",
    "我将通过MindQuantum验证：\n",
    "\n",
    "（1）论文中的Fig1可以计算2个2维向量$\\vec{u}$和$\\vec{v}$的欧几里得距离；\n",
    "\n",
    "（2）论文中的Fig2-Fig6和Fig9（`H` gate, `Fredkin` gate, `CNOT` gate, `CZ` gate, `SWAP` gate，`Toffoli` gate）的线路正确性；\n",
    "\n",
    "（3）论文中的Fig7可以计算2个16维向量$\\vec{u}$和$\\vec{v}$的欧几里得距离（即$n=4$的情况）；\n",
    "\n",
    "（4）论文中的Fig8和Fig10的线路等价性；\n",
    "\n",
    "（5）论文中的Fig11的线路正确性；\n",
    "\n",
    "（6）论文中的Fig12（$n=4$的情况），即在Fig7的基础上保密计算2个16维向量$\\vec{u}$和$\\vec{v}$的欧几里得距离。"
   ]
  },
  {
   "cell_type": "markdown",
   "metadata": {},
   "source": [
    "## 复现过程\n",
    "\n",
    "下面，我将根据复现目标，通过MindQuantum复现该文章的主要结果。"
   ]
  },
  {
   "cell_type": "markdown",
   "metadata": {},
   "source": [
    "### 环境准备，导入模拟器所需要的包。"
   ]
  },
  {
   "cell_type": "code",
   "execution_count": 1,
   "metadata": {},
   "outputs": [
    {
     "name": "stdout",
     "output_type": "stream",
     "text": [
      "Looking in indexes: https://pypi.tuna.tsinghua.edu.cn/simple\n",
      "Collecting mindquantum==master\n",
      "  Using cached https://hiq.huaweicloud.com/download/mindquantum/newest/linux/mindquantum-master-cp37-cp37m-linux_x86_64.whl (599 kB)\n",
      "Requirement already satisfied: openfermion>=1.0.0 in /home/ma-user/anaconda3/envs/MindQuantum/lib/python3.7/site-packages (from mindquantum==master) (1.2.0)\n",
      "Requirement already satisfied: numpy>=1.17.0 in /home/ma-user/anaconda3/envs/MindQuantum/lib/python3.7/site-packages (from mindquantum==master) (1.21.4)\n",
      "Requirement already satisfied: matplotlib>=3.1.3 in /opt/conda/lib/python3.7/site-packages (from mindquantum==master) (3.5.0)\n",
      "Requirement already satisfied: sympy>=1.4 in /home/ma-user/anaconda3/envs/MindQuantum/lib/python3.7/site-packages (from mindquantum==master) (1.9)\n",
      "Requirement already satisfied: rich>=10.9.0 in /home/ma-user/anaconda3/envs/MindQuantum/lib/python3.7/site-packages (from mindquantum==master) (11.0.0)\n",
      "Requirement already satisfied: scipy>=1.5.3 in /home/ma-user/anaconda3/envs/MindQuantum/lib/python3.7/site-packages (from mindquantum==master) (1.7.2)\n",
      "Requirement already satisfied: projectq>=0.5.1 in /home/ma-user/anaconda3/envs/MindQuantum/lib/python3.7/site-packages (from mindquantum==master) (0.6.1)\n",
      "Requirement already satisfied: pillow>=6.2.0 in /home/ma-user/anaconda3/envs/MindQuantum/lib/python3.7/site-packages (from matplotlib>=3.1.3->mindquantum==master) (8.4.0)\n",
      "Requirement already satisfied: fonttools>=4.22.0 in /opt/conda/lib/python3.7/site-packages (from matplotlib>=3.1.3->mindquantum==master) (4.28.2)\n",
      "Requirement already satisfied: pyparsing>=2.2.1 in /opt/conda/lib/python3.7/site-packages (from matplotlib>=3.1.3->mindquantum==master) (2.4.7)\n",
      "Requirement already satisfied: kiwisolver>=1.0.1 in /opt/conda/lib/python3.7/site-packages (from matplotlib>=3.1.3->mindquantum==master) (1.3.2)\n",
      "Requirement already satisfied: packaging>=20.0 in /opt/conda/lib/python3.7/site-packages (from matplotlib>=3.1.3->mindquantum==master) (21.2)\n",
      "Requirement already satisfied: cycler>=0.10 in /opt/conda/lib/python3.7/site-packages (from matplotlib>=3.1.3->mindquantum==master) (0.11.0)\n",
      "Requirement already satisfied: python-dateutil>=2.7 in /home/ma-user/anaconda3/envs/MindQuantum/lib/python3.7/site-packages (from matplotlib>=3.1.3->mindquantum==master) (2.8.2)\n",
      "Requirement already satisfied: setuptools-scm>=4 in /opt/conda/lib/python3.7/site-packages (from matplotlib>=3.1.3->mindquantum==master) (6.3.2)\n",
      "Requirement already satisfied: h5py>=2.8 in /home/ma-user/anaconda3/envs/MindQuantum/lib/python3.7/site-packages (from openfermion>=1.0.0->mindquantum==master) (3.6.0)\n",
      "Requirement already satisfied: requests~=2.18 in /home/ma-user/modelarts/modelarts-sdk (from openfermion>=1.0.0->mindquantum==master) (2.27.1)\n",
      "Requirement already satisfied: pubchempy in /home/ma-user/anaconda3/envs/MindQuantum/lib/python3.7/site-packages (from openfermion>=1.0.0->mindquantum==master) (1.0.4)\n",
      "Requirement already satisfied: networkx in /home/ma-user/anaconda3/envs/MindQuantum/lib/python3.7/site-packages (from openfermion>=1.0.0->mindquantum==master) (2.6.3)\n",
      "Requirement already satisfied: cirq-core~=0.12.0 in /home/ma-user/anaconda3/envs/MindQuantum/lib/python3.7/site-packages (from openfermion>=1.0.0->mindquantum==master) (0.12.0)\n",
      "Requirement already satisfied: nbformat in /opt/conda/lib/python3.7/site-packages (from openfermion>=1.0.0->mindquantum==master) (5.1.3)\n",
      "Requirement already satisfied: deprecation in /home/ma-user/anaconda3/envs/MindQuantum/lib/python3.7/site-packages (from openfermion>=1.0.0->mindquantum==master) (2.1.0)\n",
      "Requirement already satisfied: cirq-google~=0.12.0 in /home/ma-user/anaconda3/envs/MindQuantum/lib/python3.7/site-packages (from openfermion>=1.0.0->mindquantum==master) (0.12.0)\n",
      "Requirement already satisfied: sortedcontainers~=2.0 in /home/ma-user/anaconda3/envs/MindQuantum/lib/python3.7/site-packages (from cirq-core~=0.12.0->openfermion>=1.0.0->mindquantum==master) (2.4.0)\n",
      "Requirement already satisfied: tqdm in /home/ma-user/modelarts/modelarts-sdk (from cirq-core~=0.12.0->openfermion>=1.0.0->mindquantum==master) (4.62.3)\n",
      "Requirement already satisfied: typing-extensions in /home/ma-user/modelarts/modelarts-sdk (from cirq-core~=0.12.0->openfermion>=1.0.0->mindquantum==master) (4.0.1)\n",
      "Requirement already satisfied: pandas in /home/ma-user/modelarts/modelarts-sdk (from cirq-core~=0.12.0->openfermion>=1.0.0->mindquantum==master) (1.3.5)\n",
      "Requirement already satisfied: google-api-core[grpc]<2.0.0dev,>=1.14.0 in /home/ma-user/anaconda3/envs/MindQuantum/lib/python3.7/site-packages (from cirq-google~=0.12.0->openfermion>=1.0.0->mindquantum==master) (1.31.4)\n",
      "Requirement already satisfied: protobuf~=3.13.0 in /home/ma-user/anaconda3/envs/MindQuantum/lib/python3.7/site-packages (from cirq-google~=0.12.0->openfermion>=1.0.0->mindquantum==master) (3.13.0)\n",
      "Requirement already satisfied: googleapis-common-protos<2.0dev,>=1.6.0 in /home/ma-user/anaconda3/envs/MindQuantum/lib/python3.7/site-packages (from google-api-core[grpc]<2.0.0dev,>=1.14.0->cirq-google~=0.12.0->openfermion>=1.0.0->mindquantum==master) (1.53.0)\n",
      "Requirement already satisfied: six>=1.13.0 in /home/ma-user/anaconda3/envs/MindQuantum/lib/python3.7/site-packages (from google-api-core[grpc]<2.0.0dev,>=1.14.0->cirq-google~=0.12.0->openfermion>=1.0.0->mindquantum==master) (1.16.0)\n",
      "Requirement already satisfied: google-auth<2.0dev,>=1.25.0 in /home/ma-user/anaconda3/envs/MindQuantum/lib/python3.7/site-packages (from google-api-core[grpc]<2.0.0dev,>=1.14.0->cirq-google~=0.12.0->openfermion>=1.0.0->mindquantum==master) (1.35.0)\n",
      "Requirement already satisfied: pytz in /home/ma-user/modelarts/modelarts-sdk (from google-api-core[grpc]<2.0.0dev,>=1.14.0->cirq-google~=0.12.0->openfermion>=1.0.0->mindquantum==master) (2021.3)\n",
      "Requirement already satisfied: setuptools>=40.3.0 in /home/ma-user/anaconda3/envs/MindQuantum/lib/python3.7/site-packages (from google-api-core[grpc]<2.0.0dev,>=1.14.0->cirq-google~=0.12.0->openfermion>=1.0.0->mindquantum==master) (58.0.4)\n",
      "Requirement already satisfied: grpcio<2.0dev,>=1.29.0 in /home/ma-user/anaconda3/envs/MindQuantum/lib/python3.7/site-packages (from google-api-core[grpc]<2.0.0dev,>=1.14.0->cirq-google~=0.12.0->openfermion>=1.0.0->mindquantum==master) (1.42.0)\n",
      "Requirement already satisfied: rsa<5,>=3.1.4 in /home/ma-user/anaconda3/envs/MindQuantum/lib/python3.7/site-packages (from google-auth<2.0dev,>=1.25.0->google-api-core[grpc]<2.0.0dev,>=1.14.0->cirq-google~=0.12.0->openfermion>=1.0.0->mindquantum==master) (4.8)\n",
      "Requirement already satisfied: pyasn1-modules>=0.2.1 in /home/ma-user/anaconda3/envs/MindQuantum/lib/python3.7/site-packages (from google-auth<2.0dev,>=1.25.0->google-api-core[grpc]<2.0.0dev,>=1.14.0->cirq-google~=0.12.0->openfermion>=1.0.0->mindquantum==master) (0.2.8)\n",
      "Requirement already satisfied: cachetools<5.0,>=2.0.0 in /home/ma-user/anaconda3/envs/MindQuantum/lib/python3.7/site-packages (from google-auth<2.0dev,>=1.25.0->google-api-core[grpc]<2.0.0dev,>=1.14.0->cirq-google~=0.12.0->openfermion>=1.0.0->mindquantum==master) (4.2.4)\n",
      "Requirement already satisfied: cached-property in /home/ma-user/anaconda3/envs/MindQuantum/lib/python3.7/site-packages (from h5py>=2.8->openfermion>=1.0.0->mindquantum==master) (1.5.2)\n",
      "Requirement already satisfied: pyasn1<0.5.0,>=0.4.6 in /home/ma-user/anaconda3/envs/MindQuantum/lib/python3.7/site-packages (from pyasn1-modules>=0.2.1->google-auth<2.0dev,>=1.25.0->google-api-core[grpc]<2.0.0dev,>=1.14.0->cirq-google~=0.12.0->openfermion>=1.0.0->mindquantum==master) (0.4.8)\n",
      "Requirement already satisfied: idna<4,>=2.5 in /home/ma-user/modelarts/modelarts-sdk (from requests~=2.18->openfermion>=1.0.0->mindquantum==master) (3.3)\n",
      "Requirement already satisfied: certifi>=2017.4.17 in /home/ma-user/anaconda3/envs/MindQuantum/lib/python3.7/site-packages (from requests~=2.18->openfermion>=1.0.0->mindquantum==master) (2021.10.8)\n",
      "Requirement already satisfied: urllib3<1.27,>=1.21.1 in /home/ma-user/modelarts/modelarts-sdk (from requests~=2.18->openfermion>=1.0.0->mindquantum==master) (1.26.7)\n",
      "Requirement already satisfied: charset-normalizer~=2.0.0 in /home/ma-user/modelarts/modelarts-sdk (from requests~=2.18->openfermion>=1.0.0->mindquantum==master) (2.0.10)\n",
      "Requirement already satisfied: colorama<0.5.0,>=0.4.0 in /home/ma-user/modelarts/common-algo-toolkit (from rich>=10.9.0->mindquantum==master) (0.4.4)\n",
      "Requirement already satisfied: pygments<3.0.0,>=2.6.0 in /home/ma-user/anaconda3/envs/MindQuantum/lib/python3.7/site-packages (from rich>=10.9.0->mindquantum==master) (2.10.0)\n",
      "Requirement already satisfied: commonmark<0.10.0,>=0.9.0 in /home/ma-user/anaconda3/envs/MindQuantum/lib/python3.7/site-packages (from rich>=10.9.0->mindquantum==master) (0.9.1)\n",
      "Requirement already satisfied: tomli>=1.0.0 in /opt/conda/lib/python3.7/site-packages (from setuptools-scm>=4->matplotlib>=3.1.3->mindquantum==master) (1.2.2)\n",
      "Requirement already satisfied: mpmath>=0.19 in /home/ma-user/anaconda3/envs/MindQuantum/lib/python3.7/site-packages (from sympy>=1.4->mindquantum==master) (1.2.1)\n",
      "Requirement already satisfied: traitlets>=4.1 in /home/ma-user/anaconda3/envs/MindQuantum/lib/python3.7/site-packages (from nbformat->openfermion>=1.0.0->mindquantum==master) (5.1.1)\n",
      "Requirement already satisfied: jupyter-core in /home/ma-user/anaconda3/envs/MindQuantum/lib/python3.7/site-packages (from nbformat->openfermion>=1.0.0->mindquantum==master) (4.9.1)\n",
      "Requirement already satisfied: jsonschema!=2.5.0,>=2.4 in /opt/conda/lib/python3.7/site-packages (from nbformat->openfermion>=1.0.0->mindquantum==master) (4.2.1)\n",
      "Requirement already satisfied: ipython-genutils in /opt/conda/lib/python3.7/site-packages (from nbformat->openfermion>=1.0.0->mindquantum==master) (0.2.0)\n",
      "Requirement already satisfied: importlib-metadata in /home/ma-user/modelarts/modelarts-sdk (from jsonschema!=2.5.0,>=2.4->nbformat->openfermion>=1.0.0->mindquantum==master) (4.10.0)\n",
      "Requirement already satisfied: importlib-resources>=1.4.0 in /opt/conda/lib/python3.7/site-packages (from jsonschema!=2.5.0,>=2.4->nbformat->openfermion>=1.0.0->mindquantum==master) (5.4.0)\n",
      "Requirement already satisfied: attrs>=17.4.0 in /opt/conda/lib/python3.7/site-packages (from jsonschema!=2.5.0,>=2.4->nbformat->openfermion>=1.0.0->mindquantum==master) (21.2.0)\n",
      "Requirement already satisfied: pyrsistent!=0.17.0,!=0.17.1,!=0.17.2,>=0.14.0 in /opt/conda/lib/python3.7/site-packages (from jsonschema!=2.5.0,>=2.4->nbformat->openfermion>=1.0.0->mindquantum==master) (0.18.0)\n",
      "Requirement already satisfied: zipp>=3.1.0 in /home/ma-user/modelarts/modelarts-sdk (from importlib-resources>=1.4.0->jsonschema!=2.5.0,>=2.4->nbformat->openfermion>=1.0.0->mindquantum==master) (3.7.0)\n"
     ]
    }
   ],
   "source": [
    "## 安装最新版Minduantum\n",
    "\n",
    "!pip install https://hiq.huaweicloud.com/download/mindquantum/newest/linux/mindquantum-master-cp37-cp37m-linux_x86_64.whl -i https://pypi.tuna.tsinghua.edu.cn/simple"
   ]
  },
  {
   "cell_type": "code",
   "execution_count": 2,
   "metadata": {},
   "outputs": [],
   "source": [
    "import os                                                 #导入os库\n",
    "os.environ['OMP_NUM_THREADS'] = '2'                       #通过os.environ将量子线路模拟器的线程数设置为2"
   ]
  },
  {
   "cell_type": "code",
   "execution_count": 3,
   "metadata": {},
   "outputs": [],
   "source": [
    "from mindquantum import *\n",
    "import numpy as np\n",
    "from numpy import random"
   ]
  },
  {
   "cell_type": "markdown",
   "metadata": {},
   "source": [
    "### 通过MindQuantum验证（1）论文中的Fig1可以计算2个2维向量$\\vec{u}$和$\\vec{v}$的欧几里得距离；"
   ]
  },
  {
   "cell_type": "markdown",
   "metadata": {},
   "source": [
    "首先，文中提到，任意向量可以表示成$\\vec{x} = \\|\\vec{x}\\||x\\rangle$，那么2维向量$\\vec{u}$和$\\vec{v}$的欧几里得距离的计算如下：\n",
    "\n",
    "\n",
    "\\begin{eqnarray}\n",
    "  D &=& \\|\\vec{u}-\\vec{v}\\| = \\|\\|\\vec{u}\\||u\\rangle-\\|\\vec{v}\\||v\\rangle\\| \\nonumber \\\\\n",
    "    &=& \\sqrt{(\\|\\vec{u}\\|\\langle u|-\\|\\vec{v}\\|\\langle v|)\\cdot(\\|\\vec{u}\\||u\\rangle-\\|\\vec{v}\\||v\\rangle)} \\nonumber \\\\\n",
    "    &=&  \\sqrt{\\|\\vec{u}\\|^2 + \\|\\vec{v}\\|^2 - 2\\|\\vec{u}\\|\\|\\vec{v}\\|\\langle u|v\\rangle}.\n",
    "\\end{eqnarray}\n",
    "\n",
    "因此，计算两个向量的欧几里得距离可以转化成求这两个向量的内积（因为模长和对应的量子态可以通过QRAM得到）。\n",
    "\n",
    "我将通过具体的例子来验证。\n",
    "\n",
    "首先，随机生成2个实且非负的2维向量$\\vec{u}$和$\\vec{v}$，然后，计算向量$\\vec{u}$和$\\vec{v}$对应的量子态$|u\\rangle$和$|v\\rangle$的$\\langle u|v\\rangle$，最后得到期望得到的欧几里得距离。"
   ]
  },
  {
   "cell_type": "code",
   "execution_count": 4,
   "metadata": {},
   "outputs": [
    {
     "name": "stdout",
     "output_type": "stream",
     "text": [
      "向量u为 [5 6] ，向量v为 [8 6]\n"
     ]
    }
   ],
   "source": [
    "# 为了便于复现，设定生成随机数的种子\n",
    "random.seed(9)\n",
    "\n",
    "# 随机生成两个实且非负的2维向量u和v\n",
    "# random.randint(0, 11, 2)可以返回2个[0,10]之间的任意整数\n",
    "u = random.randint(0, 11, 2)\n",
    "v = random.randint(0, 11, 2)\n",
    "\n",
    "print(\"向量u为\", u, \"，向量v为\", v)"
   ]
  },
  {
   "cell_type": "code",
   "execution_count": 5,
   "metadata": {},
   "outputs": [
    {
     "name": "stdout",
     "output_type": "stream",
     "text": [
      "向量u的模长为 7.810249675906654 ，向量v的模长为 10.0\n"
     ]
    }
   ],
   "source": [
    "# 分别求出向量u和向量v的模长\n",
    "length_u = np.sqrt(u[0]**2 + u[1]**2)\n",
    "length_v = np.sqrt(v[0]**2 + v[1]**2)\n",
    "\n",
    "print(\"向量u的模长为\", length_u, \"，向量v的模长为\", length_v)"
   ]
  },
  {
   "cell_type": "code",
   "execution_count": 6,
   "metadata": {},
   "outputs": [
    {
     "name": "stdout",
     "output_type": "stream",
     "text": [
      "归一化后的向量u为 [0.6401844  0.76822128] ，归一化后的向量v为 [0.8 0.6]\n"
     ]
    }
   ],
   "source": [
    "# 根据向量u和向量v的模长，将它们进行归一化处理\n",
    "u_nor = u / length_u\n",
    "v_nor = v / length_v\n",
    "\n",
    "print(\"归一化后的向量u为\", u_nor, \"，归一化后的向量v为\", v_nor)"
   ]
  },
  {
   "cell_type": "code",
   "execution_count": 7,
   "metadata": {},
   "outputs": [
    {
     "name": "stdout",
     "output_type": "stream",
     "text": [
      "归一化后的向量u和向量v的内积等于 0.9730802874900095\n"
     ]
    }
   ],
   "source": [
    "# 两个归一化向量的内积\n",
    "inner_product = np.dot(v_nor, u_nor)\n",
    "\n",
    "print(\"归一化后的向量u和向量v的内积等于\", inner_product)"
   ]
  },
  {
   "cell_type": "code",
   "execution_count": 8,
   "metadata": {},
   "outputs": [
    {
     "name": "stdout",
     "output_type": "stream",
     "text": [
      "向量u和向量v的欧几里得距离等于 3.0\n"
     ]
    }
   ],
   "source": [
    "# 向量u和向量v的欧几里得距离\n",
    "D_Euc = np.sqrt(length_u**2 + length_v**2 - 2 * length_u * length_v * inner_product)\n",
    "\n",
    "print(\"向量u和向量v的欧几里得距离等于\", D_Euc)"
   ]
  },
  {
   "cell_type": "markdown",
   "metadata": {},
   "source": [
    "通过经典计算的方法，我们可以得到向量$\\vec{u}$和$\\vec{v}$的欧几里得距离$D_{Euc}=3$。\n",
    "\n",
    "下面我们尝试用量子计算的方法来计算，即复现论文中的Fig1。"
   ]
  },
  {
   "cell_type": "markdown",
   "metadata": {},
   "source": [
    "![Fig_1.png](./Fig_1.png)"
   ]
  },
  {
   "cell_type": "markdown",
   "metadata": {},
   "source": [
    "- 第一步：初态制备"
   ]
  },
  {
   "cell_type": "code",
   "execution_count": 9,
   "metadata": {},
   "outputs": [
    {
     "name": "stdout",
     "output_type": "stream",
     "text": [
      "归一化后的向量u和向量v的张量积为 [0.51214752 0.61457702 0.38411064 0.46093277]\n"
     ]
    }
   ],
   "source": [
    "# 归一化的向量u和向量v的张量积\n",
    "# 注意，越靠上的量子比特，做张量积的时候越靠右，因为MindQuantum的读取顺序是从右往左\n",
    "pre = np.kron(v_nor, u_nor)\n",
    "\n",
    "print(\"归一化后的向量u和向量v的张量积为\", pre)"
   ]
  },
  {
   "cell_type": "code",
   "execution_count": 10,
   "metadata": {},
   "outputs": [
    {
     "name": "stdout",
     "output_type": "stream",
     "text": [
      "|0>态对应的向量为 [1 0]\n"
     ]
    }
   ],
   "source": [
    "# |0>态对应的向量\n",
    "state_0 = np.array([1, 0])\n",
    "\n",
    "print(\"|0>态对应的向量为\", state_0)"
   ]
  },
  {
   "cell_type": "code",
   "execution_count": 11,
   "metadata": {},
   "outputs": [
    {
     "name": "stdout",
     "output_type": "stream",
     "text": [
      "初态对应的向量为 [0.51214752 0.         0.61457702 0.         0.38411064 0.\n",
      " 0.46093277 0.        ]\n"
     ]
    }
   ],
   "source": [
    "# 制备初态\n",
    "initial_state = np.kron(pre, state_0)\n",
    "\n",
    "print(\"初态对应的向量为\", initial_state)"
   ]
  },
  {
   "cell_type": "code",
   "execution_count": 12,
   "metadata": {},
   "outputs": [
    {
     "name": "stdout",
     "output_type": "stream",
     "text": [
      "0.512147519731584¦000⟩\n",
      "0.6145770236779007¦010⟩\n",
      "0.3841106397986879¦100⟩\n",
      "0.4609327677584255¦110⟩\n"
     ]
    }
   ],
   "source": [
    "sim = Simulator('projectq', 3)  # 调用一个3量子比特的模拟器\n",
    "sim.set_qs(initial_state)       # 将模拟器的初态设为与initial_state对应的量子态\n",
    "\n",
    "print(sim.get_qs(True))         # 打印我们制备好的初态"
   ]
  },
  {
   "cell_type": "markdown",
   "metadata": {},
   "source": [
    "- 第二步：SWAP Test"
   ]
  },
  {
   "cell_type": "code",
   "execution_count": 13,
   "metadata": {},
   "outputs": [
    {
     "data": {
      "text/html": [
       "<pre style=\"white-space:pre;overflow-x:auto;line-height:normal;font-family:Menlo,'DejaVu Sans Mono',consolas,'Courier New',monospace\"></pre>\n"
      ],
      "text/plain": []
     },
     "metadata": {},
     "output_type": "display_data"
    },
    {
     "data": {
      "text/html": [
       "<pre style=\"white-space: pre;\"><span style=\"color: #000080; text-decoration-color: #000080; font-weight: bold\">q0: ──H────●────H────</span><span style=\"color: #800080; text-decoration-color: #800080; font-weight: bold\">M</span><span style=\"color: #000080; text-decoration-color: #000080; font-weight: bold\">(q0)──</span>\n",
       "<span style=\"color: #000080; text-decoration-color: #000080; font-weight: bold\">           │</span>\n",
       "<span style=\"color: #000080; text-decoration-color: #000080; font-weight: bold\">q1: ───────@────────────────</span>\n",
       "<span style=\"color: #000080; text-decoration-color: #000080; font-weight: bold\">           │</span>\n",
       "<span style=\"color: #000080; text-decoration-color: #000080; font-weight: bold\">q2: ───────@────────────────</span>\n",
       "</pre>\n"
      ],
      "text/plain": [
       "q0: ──H────●────H────M(q0)──\n",
       "           │\n",
       "q1: ───────@────────────────\n",
       "           │\n",
       "q2: ───────@────────────────"
      ]
     },
     "execution_count": 13,
     "metadata": {},
     "output_type": "execute_result"
    }
   ],
   "source": [
    "# 搭建SWAP Test线路模型\n",
    "cir_SWAP_Test = Circuit()\n",
    "cir_SWAP_Test += H.on(0)\n",
    "cir_SWAP_Test += SWAP.on([1, 2], 0)\n",
    "cir_SWAP_Test += H.on(0)\n",
    "cir_SWAP_Test += Measure().on(0)\n",
    "cir_SWAP_Test"
   ]
  },
  {
   "cell_type": "markdown",
   "metadata": {},
   "source": [
    "- 第三步：测量"
   ]
  },
  {
   "cell_type": "code",
   "execution_count": 14,
   "metadata": {},
   "outputs": [
    {
     "data": {
      "text/html": [
       "<pre style=\"white-space:pre;overflow-x:auto;line-height:normal;font-family:Menlo,'DejaVu Sans Mono',consolas,'Courier New',monospace\"></pre>\n"
      ],
      "text/plain": []
     },
     "metadata": {},
     "output_type": "display_data"
    },
    {
     "data": {
      "text/html": [
       "<pre style=\"white-space: pre;\"><span style=\"color: #808000; text-decoration-color: #808000\">shots: </span><span style=\"color: #008080; text-decoration-color: #008080; font-weight: bold\">5000</span>\n",
       "<span style=\"color: #808000; text-decoration-color: #808000\">Keys: q0│</span><span style=\"color: #008080; text-decoration-color: #008080; font-weight: bold\">0.00</span><span style=\"color: #808000; text-decoration-color: #808000\">     </span><span style=\"color: #008080; text-decoration-color: #008080; font-weight: bold\">0.2</span><span style=\"color: #808000; text-decoration-color: #808000\">         </span><span style=\"color: #008080; text-decoration-color: #008080; font-weight: bold\">0.4</span><span style=\"color: #808000; text-decoration-color: #808000\">         </span><span style=\"color: #008080; text-decoration-color: #008080; font-weight: bold\">0.6</span><span style=\"color: #808000; text-decoration-color: #808000\">         </span><span style=\"color: #008080; text-decoration-color: #008080; font-weight: bold\">0.8</span><span style=\"color: #808000; text-decoration-color: #808000\">         </span><span style=\"color: #008080; text-decoration-color: #008080; font-weight: bold\">1.0</span>\n",
       "<span style=\"color: #808000; text-decoration-color: #808000\">────────┼───────────┴───────────┴───────────┴───────────┴───────────┴</span>\n",
       "<span style=\"color: #808000; text-decoration-color: #808000\">       </span><span style=\"color: #008080; text-decoration-color: #008080; font-weight: bold\">0</span><span style=\"color: #808000; text-decoration-color: #808000\">│▓▓▓▓▓▓▓▓▓▓▓▓▓▓▓▓▓▓▓▓▓▓▓▓▓▓▓▓▓▓▓▓▓▓▓▓▓▓▓▓▓▓▓▓▓▓▓▓▓▓▓▓▓▓▓▓▓▓▓</span>\n",
       "<span style=\"color: #808000; text-decoration-color: #808000\">        │</span>\n",
       "<span style=\"color: #808000; text-decoration-color: #808000\">       </span><span style=\"color: #008080; text-decoration-color: #008080; font-weight: bold\">1</span><span style=\"color: #808000; text-decoration-color: #808000\">│▒▒</span>\n",
       "<span style=\"color: #808000; text-decoration-color: #808000\">        │</span>\n",
       "<span style=\"color: #808000; text-decoration-color: #808000; font-weight: bold\">{</span><span style=\"color: #008000; text-decoration-color: #008000\">&#x27;0&#x27;</span><span style=\"color: #808000; text-decoration-color: #808000\">: </span><span style=\"color: #008080; text-decoration-color: #008080; font-weight: bold\">4870</span><span style=\"color: #808000; text-decoration-color: #808000\">, </span><span style=\"color: #008000; text-decoration-color: #008000\">&#x27;1&#x27;</span><span style=\"color: #808000; text-decoration-color: #808000\">: </span><span style=\"color: #008080; text-decoration-color: #008080; font-weight: bold\">130</span><span style=\"color: #808000; text-decoration-color: #808000; font-weight: bold\">}</span>\n",
       "</pre>\n"
      ],
      "text/plain": [
       "shots: 5000\n",
       "Keys: q0│0.00     0.2         0.4         0.6         0.8         1.0\n",
       "────────┼───────────┴───────────┴───────────┴───────────┴───────────┴\n",
       "       0│▓▓▓▓▓▓▓▓▓▓▓▓▓▓▓▓▓▓▓▓▓▓▓▓▓▓▓▓▓▓▓▓▓▓▓▓▓▓▓▓▓▓▓▓▓▓▓▓▓▓▓▓▓▓▓▓▓▓▓\n",
       "        │\n",
       "       1│▒▒\n",
       "        │\n",
       "{'0': 4870, '1': 130}"
      ]
     },
     "execution_count": 14,
     "metadata": {},
     "output_type": "execute_result"
    }
   ],
   "source": [
    "res = sim.sampling(cir_SWAP_Test, shots=5000)\n",
    "res"
   ]
  },
  {
   "cell_type": "markdown",
   "metadata": {},
   "source": [
    "- 第四步：统计结果，得到欧几里得距离"
   ]
  },
  {
   "cell_type": "code",
   "execution_count": 15,
   "metadata": {},
   "outputs": [
    {
     "name": "stdout",
     "output_type": "stream",
     "text": [
      "Fig1中测量第一个量子比特，得到测量为0的频率为： 0.974\n",
      "通过Fig1得到的内积<u|v>为： 0.9736529155710468\n"
     ]
    }
   ],
   "source": [
    "p_0_fig1 = 4870 / 5000\n",
    "inner_product_ST = np.sqrt(2 * p_0_fig1 - 1)\n",
    "\n",
    "print(\"Fig1中测量第一个量子比特，得到测量为0的频率为：\", p_0_fig1)\n",
    "print(\"通过Fig1得到的内积<u|v>为：\", inner_product_ST)"
   ]
  },
  {
   "cell_type": "code",
   "execution_count": 16,
   "metadata": {},
   "outputs": [
    {
     "name": "stdout",
     "output_type": "stream",
     "text": [
      "通过量子计算的方法计算得到的内积的误差为： 0.058846951109693145 %\n"
     ]
    }
   ],
   "source": [
    "error_inner = (inner_product_ST - inner_product) / inner_product * 100\n",
    "\n",
    "print(\"通过量子计算的方法计算得到的内积的误差为：\", error_inner, \"%\")"
   ]
  },
  {
   "cell_type": "code",
   "execution_count": 17,
   "metadata": {},
   "outputs": [
    {
     "name": "stdout",
     "output_type": "stream",
     "text": [
      "向量u和向量v的欧几里得距离等于 2.98505487961499\n"
     ]
    }
   ],
   "source": [
    "D_Euc_ST = np.sqrt(length_u**2 + length_v**2 - 2 * length_u * length_v * inner_product_ST)\n",
    "\n",
    "print(\"向量u和向量v的欧几里得距离等于\", D_Euc_ST)"
   ]
  },
  {
   "cell_type": "code",
   "execution_count": 18,
   "metadata": {},
   "outputs": [
    {
     "name": "stdout",
     "output_type": "stream",
     "text": [
      "通过量子计算的方法计算得到的欧几里得的误差为： -0.49817067950033156 %\n"
     ]
    }
   ],
   "source": [
    "error_D_Euc = (D_Euc_ST - D_Euc) / D_Euc * 100\n",
    "\n",
    "print(\"通过量子计算的方法计算得到的欧几里得的误差为：\", error_D_Euc, \"%\")"
   ]
  },
  {
   "cell_type": "markdown",
   "metadata": {},
   "source": [
    "至此，我们通过MindQuantum成功验证（1）论文中的Fig1可以计算2个2维向量$\\vec{u}$和$\\vec{v}$的欧几里得距离。"
   ]
  },
  {
   "cell_type": "markdown",
   "metadata": {},
   "source": [
    "### 通过MindQuantum验证（2）论文中的Fig2-Fig6和Fig9（`H` gate, `Fredkin` gate, `CNOT` gate, `CZ` gate, `SWAP` gate，`Toffoli` gate）的线路正确性；\n",
    "\n",
    "根据文章的介绍，我们分别定义了`H` gate, `Fredkin` gate, `CNOT` gate, `CZ` gate, `SWAP` gate，`Toffoli` gate的随机量子线路，现将我们定义好的相关函数导入："
   ]
  },
  {
   "cell_type": "code",
   "execution_count": 19,
   "metadata": {},
   "outputs": [],
   "source": [
    "from src.main import H_encoder, Fredkin_encoder, CNOT_encoder, CZ_encoder, SWAP_encoder, Toffoli_encoder, Toffoli_encoder_fig11"
   ]
  },
  {
   "cell_type": "markdown",
   "metadata": {},
   "source": [
    "接下来，我们依次复现Fig2-Fig6和Fig9，并验证线路正确性。"
   ]
  },
  {
   "cell_type": "markdown",
   "metadata": {},
   "source": [
    "![Fig_2.png](./Fig_2.png)"
   ]
  },
  {
   "cell_type": "code",
   "execution_count": 20,
   "metadata": {},
   "outputs": [
    {
     "data": {
      "text/html": [
       "<pre style=\"white-space:pre;overflow-x:auto;line-height:normal;font-family:Menlo,'DejaVu Sans Mono',consolas,'Courier New',monospace\"></pre>\n"
      ],
      "text/plain": []
     },
     "metadata": {},
     "output_type": "display_data"
    },
    {
     "data": {
      "text/html": [
       "<pre style=\"white-space: pre;\"><span style=\"color: #000080; text-decoration-color: #000080; font-weight: bold\">q0: ──X────Z──‖──H──‖──X────Z──</span>\n",
       "</pre>\n"
      ],
      "text/plain": [
       "q0: ──X────Z──‖──H──‖──X────Z──"
      ]
     },
     "execution_count": 20,
     "metadata": {},
     "output_type": "execute_result"
    }
   ],
   "source": [
    "# 为了便于复现，设定生成随机数的种子10，展示随机数全为1的情况，实际过程可以去掉该种子设定\n",
    "random.seed(10)\n",
    "\n",
    "H_encoder(0)"
   ]
  },
  {
   "cell_type": "code",
   "execution_count": 21,
   "metadata": {},
   "outputs": [
    {
     "data": {
      "text/html": [
       "<pre style=\"white-space:pre;overflow-x:auto;line-height:normal;font-family:Menlo,'DejaVu Sans Mono',consolas,'Courier New',monospace\"></pre>\n"
      ],
      "text/plain": []
     },
     "metadata": {},
     "output_type": "display_data"
    },
    {
     "data": {
      "text/html": [
       "<pre style=\"white-space: pre;\"><span style=\"color: #000080; text-decoration-color: #000080; font-weight: bold\">q0: ──H──</span>\n",
       "</pre>\n"
      ],
      "text/plain": [
       "q0: ──H──"
      ]
     },
     "execution_count": 21,
     "metadata": {},
     "output_type": "execute_result"
    }
   ],
   "source": [
    "# 搭建一个包含H门的量子线路\n",
    "circuit_H = Circuit()\n",
    "circuit_H += H.on(0)\n",
    "circuit_H"
   ]
  },
  {
   "cell_type": "code",
   "execution_count": 22,
   "metadata": {},
   "outputs": [
    {
     "name": "stdout",
     "output_type": "stream",
     "text": [
      "上述两个量子线路等价\n"
     ]
    }
   ],
   "source": [
    "# 验证上述两个量子线路等价\n",
    "random.seed(10)\n",
    "\n",
    "if np.allclose(H_encoder(0).matrix(), circuit_H.matrix()) == True:\n",
    "    print(\"上述两个量子线路等价\")\n",
    "else:\n",
    "    print(\"上述两个量子线路不等\")"
   ]
  },
  {
   "cell_type": "markdown",
   "metadata": {},
   "source": [
    "更一般地，验证`H_encoder(0)`的量子线路与包含`H`门的量子线路的等价性。"
   ]
  },
  {
   "cell_type": "code",
   "execution_count": 23,
   "metadata": {},
   "outputs": [
    {
     "name": "stdout",
     "output_type": "stream",
     "text": [
      "H_encoder(0)的量子线路与包含H门的量子线路等价\n"
     ]
    }
   ],
   "source": [
    "# 初始化变量\n",
    "verify_H = 0\n",
    "\n",
    "# 重复验证100次\n",
    "for i in range(100):\n",
    "    # H_encoder(0)没有设定seed，因此每次产生的随机数都不一样\n",
    "    if np.allclose(H_encoder(0).matrix(), circuit_H.matrix()) == True:\n",
    "        verify_H += 1\n",
    "    else:\n",
    "        verify_H += 0\n",
    "\n",
    "if verify_H == 100:\n",
    "    print(\"H_encoder(0)的量子线路与包含H门的量子线路等价\")\n",
    "else:\n",
    "    print(\"H_encoder(0)的量子线路与包含H门的量子线路不等\")"
   ]
  },
  {
   "cell_type": "markdown",
   "metadata": {},
   "source": [
    "也就是说，我们通过MindQuantum成功复现Fig2，并验证该线路的正确性。"
   ]
  },
  {
   "cell_type": "markdown",
   "metadata": {},
   "source": [
    "![Fig_3.png](./Fig_3.png)"
   ]
  },
  {
   "cell_type": "code",
   "execution_count": 24,
   "metadata": {},
   "outputs": [
    {
     "data": {
      "text/html": [
       "<pre style=\"white-space:pre;overflow-x:auto;line-height:normal;font-family:Menlo,'DejaVu Sans Mono',consolas,'Courier New',monospace\"></pre>\n"
      ],
      "text/plain": []
     },
     "metadata": {},
     "output_type": "display_data"
    },
    {
     "data": {
      "text/html": [
       "<pre style=\"white-space: pre;\"><span style=\"color: #000080; text-decoration-color: #000080; font-weight: bold\">q0: ──X────Z──────────────────────‖──●──‖───────●────●─────────●────●─────────●────●─────────●────●────Z────X───────</span>\n",
       "<span style=\"color: #000080; text-decoration-color: #000080; font-weight: bold\">                                  ‖  │  ‖       │    │         │    │         │    │         │    │</span>\n",
       "<span style=\"color: #000080; text-decoration-color: #000080; font-weight: bold\">q1: ────────────X────Z────────────‖──@──‖───────Z────┼─────────X────┼────Z────Z────┼────X────X────┼──────────────@──</span>\n",
       "<span style=\"color: #000080; text-decoration-color: #000080; font-weight: bold\">                                  ‖  │  ‖            │              │              │              │              │</span>\n",
       "<span style=\"color: #000080; text-decoration-color: #000080; font-weight: bold\">q2: ──────────────────────X────Z──‖──@──‖──Z─────────Z────X─────────X──────────────Z──────────────X──────────────@──</span>\n",
       "</pre>\n"
      ],
      "text/plain": [
       "q0: ──X────Z──────────────────────‖──●──‖───────●────●─────────●────●─────────●────●─────────●────●────Z────X───────\n",
       "                                  ‖  │  ‖       │    │         │    │         │    │         │    │\n",
       "q1: ────────────X────Z────────────‖──@──‖───────Z────┼─────────X────┼────Z────Z────┼────X────X────┼──────────────@──\n",
       "                                  ‖  │  ‖            │              │              │              │              │\n",
       "q2: ──────────────────────X────Z──‖──@──‖──Z─────────Z────X─────────X──────────────Z──────────────X──────────────@──"
      ]
     },
     "execution_count": 24,
     "metadata": {},
     "output_type": "execute_result"
    }
   ],
   "source": [
    "# 为了便于复现，设定生成随机数的种子53，展示随机数全为1的情况，实际过程可以去掉该种子设定\n",
    "random.seed(53)\n",
    "\n",
    "Fredkin_encoder([1, 2], 0)"
   ]
  },
  {
   "cell_type": "code",
   "execution_count": 25,
   "metadata": {},
   "outputs": [
    {
     "data": {
      "text/html": [
       "<pre style=\"white-space:pre;overflow-x:auto;line-height:normal;font-family:Menlo,'DejaVu Sans Mono',consolas,'Courier New',monospace\"></pre>\n"
      ],
      "text/plain": []
     },
     "metadata": {},
     "output_type": "display_data"
    },
    {
     "data": {
      "text/html": [
       "<pre style=\"white-space: pre;\"><span style=\"color: #000080; text-decoration-color: #000080; font-weight: bold\">q0: ──●──</span>\n",
       "<span style=\"color: #000080; text-decoration-color: #000080; font-weight: bold\">      │</span>\n",
       "<span style=\"color: #000080; text-decoration-color: #000080; font-weight: bold\">q1: ──@──</span>\n",
       "<span style=\"color: #000080; text-decoration-color: #000080; font-weight: bold\">      │</span>\n",
       "<span style=\"color: #000080; text-decoration-color: #000080; font-weight: bold\">q2: ──@──</span>\n",
       "</pre>\n"
      ],
      "text/plain": [
       "q0: ──●──\n",
       "      │\n",
       "q1: ──@──\n",
       "      │\n",
       "q2: ──@──"
      ]
     },
     "execution_count": 25,
     "metadata": {},
     "output_type": "execute_result"
    }
   ],
   "source": [
    "# 搭建一个包含Fredkin门的量子线路\n",
    "circuit_Fredkin = Circuit()\n",
    "circuit_Fredkin += SWAP.on([1, 2], 0)\n",
    "circuit_Fredkin"
   ]
  },
  {
   "cell_type": "code",
   "execution_count": 26,
   "metadata": {},
   "outputs": [
    {
     "name": "stdout",
     "output_type": "stream",
     "text": [
      "上述两个量子线路等价\n"
     ]
    }
   ],
   "source": [
    "# 验证上述两个量子线路等价\n",
    "random.seed(53)\n",
    "\n",
    "if np.allclose(Fredkin_encoder([1, 2], 0).matrix(), circuit_Fredkin.matrix()) == True:\n",
    "    print(\"上述两个量子线路等价\")\n",
    "else:\n",
    "    print(\"上述两个量子线路不等\")"
   ]
  },
  {
   "cell_type": "markdown",
   "metadata": {},
   "source": [
    "更一般地，验证`Fredkin_encoder([1, 2], 0)`的量子线路与包含`Fredkin`门的量子线路的等价性。"
   ]
  },
  {
   "cell_type": "code",
   "execution_count": 27,
   "metadata": {},
   "outputs": [
    {
     "name": "stdout",
     "output_type": "stream",
     "text": [
      "Fredkin_encoder([1, 2], 0)的量子线路与包含Fredkin门的量子线路等价\n"
     ]
    }
   ],
   "source": [
    "# 初始化变量\n",
    "verify_Fredkin = 0\n",
    "\n",
    "# 重复验证100次\n",
    "for i in range(100):\n",
    "    # Fredkin_encoder([1, 2], 0)没有设定seed，因此每次产生的随机数都不一样\n",
    "    if np.allclose(Fredkin_encoder([1, 2], 0).matrix(), circuit_Fredkin.matrix()) == True:\n",
    "        verify_Fredkin += 1\n",
    "    else:\n",
    "        verify_Fredkin += 0\n",
    "\n",
    "if verify_Fredkin == 100:\n",
    "    print(\"Fredkin_encoder([1, 2], 0)的量子线路与包含Fredkin门的量子线路等价\")\n",
    "else:\n",
    "    print(\"Fredkin_encoder([1, 2], 0)的量子线路与包含Fredkin门的量子线路不等\")"
   ]
  },
  {
   "cell_type": "markdown",
   "metadata": {},
   "source": [
    "也就是说，我们通过MindQuantum成功复现Fig3，并验证该线路的正确性。"
   ]
  },
  {
   "cell_type": "markdown",
   "metadata": {},
   "source": [
    "![Fig_4.png](./Fig_4.png)"
   ]
  },
  {
   "cell_type": "code",
   "execution_count": 28,
   "metadata": {},
   "outputs": [
    {
     "data": {
      "text/html": [
       "<pre style=\"white-space:pre;overflow-x:auto;line-height:normal;font-family:Menlo,'DejaVu Sans Mono',consolas,'Courier New',monospace\"></pre>\n"
      ],
      "text/plain": []
     },
     "metadata": {},
     "output_type": "display_data"
    },
    {
     "data": {
      "text/html": [
       "<pre style=\"white-space: pre;\"><span style=\"color: #000080; text-decoration-color: #000080; font-weight: bold\">q0: ──X────Z────────────‖──●──‖───────Z─────────Z────X───────</span>\n",
       "<span style=\"color: #000080; text-decoration-color: #000080; font-weight: bold\">                        ‖  │  ‖</span>\n",
       "<span style=\"color: #000080; text-decoration-color: #000080; font-weight: bold\">q1: ────────────X────Z──‖──X──‖──Z─────────X──────────────X──</span>\n",
       "</pre>\n"
      ],
      "text/plain": [
       "q0: ──X────Z────────────‖──●──‖───────Z─────────Z────X───────\n",
       "                        ‖  │  ‖\n",
       "q1: ────────────X────Z──‖──X──‖──Z─────────X──────────────X──"
      ]
     },
     "execution_count": 28,
     "metadata": {},
     "output_type": "execute_result"
    }
   ],
   "source": [
    "# 为了便于复现，设定生成随机数的种子30，展示随机数全为1的情况，实际过程可以去掉该种子设定\n",
    "random.seed(30)\n",
    "\n",
    "CNOT_encoder(1, 0)"
   ]
  },
  {
   "cell_type": "code",
   "execution_count": 29,
   "metadata": {},
   "outputs": [
    {
     "data": {
      "text/html": [
       "<pre style=\"white-space:pre;overflow-x:auto;line-height:normal;font-family:Menlo,'DejaVu Sans Mono',consolas,'Courier New',monospace\"></pre>\n"
      ],
      "text/plain": []
     },
     "metadata": {},
     "output_type": "display_data"
    },
    {
     "data": {
      "text/html": [
       "<pre style=\"white-space: pre;\"><span style=\"color: #000080; text-decoration-color: #000080; font-weight: bold\">q0: ──●──</span>\n",
       "<span style=\"color: #000080; text-decoration-color: #000080; font-weight: bold\">      │</span>\n",
       "<span style=\"color: #000080; text-decoration-color: #000080; font-weight: bold\">q1: ──X──</span>\n",
       "</pre>\n"
      ],
      "text/plain": [
       "q0: ──●──\n",
       "      │\n",
       "q1: ──X──"
      ]
     },
     "execution_count": 29,
     "metadata": {},
     "output_type": "execute_result"
    }
   ],
   "source": [
    "# 搭建一个包含CNOT门的量子线路\n",
    "circuit_CNOT = Circuit()\n",
    "circuit_CNOT += X.on(1, 0)\n",
    "circuit_CNOT"
   ]
  },
  {
   "cell_type": "code",
   "execution_count": 30,
   "metadata": {},
   "outputs": [
    {
     "name": "stdout",
     "output_type": "stream",
     "text": [
      "上述两个量子线路等价\n"
     ]
    }
   ],
   "source": [
    "# 验证上述两个量子线路等价\n",
    "random.seed(30)\n",
    "\n",
    "if np.allclose(CNOT_encoder(1, 0).matrix(), circuit_CNOT.matrix()) == True:\n",
    "    print(\"上述两个量子线路等价\")\n",
    "else:\n",
    "    print(\"上述两个量子线路不等\")"
   ]
  },
  {
   "cell_type": "markdown",
   "metadata": {},
   "source": [
    "更一般地，验证`CNOT_encoder(1, 0)`的量子线路与包含`CNOT`门的量子线路的等价性。"
   ]
  },
  {
   "cell_type": "code",
   "execution_count": 31,
   "metadata": {},
   "outputs": [
    {
     "name": "stdout",
     "output_type": "stream",
     "text": [
      "CNOT_encoder(1, 0)的量子线路与包含CNOT门的量子线路等价\n"
     ]
    }
   ],
   "source": [
    "# 初始化变量\n",
    "verify_CNOT = 0\n",
    "\n",
    "# 重复验证100次\n",
    "for i in range(100):\n",
    "    # CNOT_encoder(1, 0)没有设定seed，因此每次产生的随机数都不一样\n",
    "    if np.allclose(CNOT_encoder(1, 0).matrix(), circuit_CNOT.matrix()) == True:\n",
    "        verify_CNOT += 1\n",
    "    else:\n",
    "        verify_CNOT += 0\n",
    "\n",
    "if verify_CNOT == 100:\n",
    "    print(\"CNOT_encoder(1, 0)的量子线路与包含CNOT门的量子线路等价\")\n",
    "else:\n",
    "    print(\"CNOT_encoder(1, 0)的量子线路与包含CNOT门的量子线路不等\")"
   ]
  },
  {
   "cell_type": "markdown",
   "metadata": {},
   "source": [
    "也就是说，我们通过MindQuantum成功复现Fig4，并验证该线路的正确性。"
   ]
  },
  {
   "cell_type": "markdown",
   "metadata": {},
   "source": [
    "![Fig_5.png](./Fig_5.png)"
   ]
  },
  {
   "cell_type": "code",
   "execution_count": 32,
   "metadata": {},
   "outputs": [
    {
     "data": {
      "text/html": [
       "<pre style=\"white-space:pre;overflow-x:auto;line-height:normal;font-family:Menlo,'DejaVu Sans Mono',consolas,'Courier New',monospace\"></pre>\n"
      ],
      "text/plain": []
     },
     "metadata": {},
     "output_type": "display_data"
    },
    {
     "data": {
      "text/html": [
       "<pre style=\"white-space: pre;\"><span style=\"color: #000080; text-decoration-color: #000080; font-weight: bold\">q0: ──X────Z────────────‖──●──‖────────────Z────Z────X───────</span>\n",
       "<span style=\"color: #000080; text-decoration-color: #000080; font-weight: bold\">                        ‖  │  ‖</span>\n",
       "<span style=\"color: #000080; text-decoration-color: #000080; font-weight: bold\">q1: ────────────X────Z──‖──Z──‖──Z────X───────────────────Z──</span>\n",
       "</pre>\n"
      ],
      "text/plain": [
       "q0: ──X────Z────────────‖──●──‖────────────Z────Z────X───────\n",
       "                        ‖  │  ‖\n",
       "q1: ────────────X────Z──‖──Z──‖──Z────X───────────────────Z──"
      ]
     },
     "execution_count": 32,
     "metadata": {},
     "output_type": "execute_result"
    }
   ],
   "source": [
    "# 为了便于复现，设定生成随机数的种子30，展示随机数全为1的情况，实际过程可以去掉该种子设定\n",
    "random.seed(30)\n",
    "\n",
    "CZ_encoder(1, 0)"
   ]
  },
  {
   "cell_type": "code",
   "execution_count": 33,
   "metadata": {},
   "outputs": [
    {
     "data": {
      "text/html": [
       "<pre style=\"white-space:pre;overflow-x:auto;line-height:normal;font-family:Menlo,'DejaVu Sans Mono',consolas,'Courier New',monospace\"></pre>\n"
      ],
      "text/plain": []
     },
     "metadata": {},
     "output_type": "display_data"
    },
    {
     "data": {
      "text/html": [
       "<pre style=\"white-space: pre;\"><span style=\"color: #000080; text-decoration-color: #000080; font-weight: bold\">q0: ──●──</span>\n",
       "<span style=\"color: #000080; text-decoration-color: #000080; font-weight: bold\">      │</span>\n",
       "<span style=\"color: #000080; text-decoration-color: #000080; font-weight: bold\">q1: ──Z──</span>\n",
       "</pre>\n"
      ],
      "text/plain": [
       "q0: ──●──\n",
       "      │\n",
       "q1: ──Z──"
      ]
     },
     "execution_count": 33,
     "metadata": {},
     "output_type": "execute_result"
    }
   ],
   "source": [
    "# 搭建一个包含CZ门的量子线路\n",
    "circuit_CZ = Circuit()\n",
    "circuit_CZ += Z.on(1, 0)\n",
    "circuit_CZ"
   ]
  },
  {
   "cell_type": "code",
   "execution_count": 34,
   "metadata": {},
   "outputs": [
    {
     "name": "stdout",
     "output_type": "stream",
     "text": [
      "上述两个量子线路等价\n"
     ]
    }
   ],
   "source": [
    "# 验证上述两个量子线路等价\n",
    "random.seed(30)\n",
    "\n",
    "if np.allclose(CZ_encoder(1, 0).matrix(), circuit_CZ.matrix()) == True:\n",
    "    print(\"上述两个量子线路等价\")\n",
    "else:\n",
    "    print(\"上述两个量子线路不等\")"
   ]
  },
  {
   "cell_type": "markdown",
   "metadata": {},
   "source": [
    "更一般地，验证`CZ_encoder(1, 0)`的量子线路与包含`CZ`门的量子线路的等价性。"
   ]
  },
  {
   "cell_type": "code",
   "execution_count": 35,
   "metadata": {},
   "outputs": [
    {
     "name": "stdout",
     "output_type": "stream",
     "text": [
      "CZ_encoder(1, 0)的量子线路与包含CZ门的量子线路等价\n"
     ]
    }
   ],
   "source": [
    "# 初始化变量\n",
    "verify_CZ = 0\n",
    "\n",
    "# 重复验证100次\n",
    "for i in range(100):\n",
    "    # CZ_encoder(1, 0)没有设定seed，因此每次产生的随机数都不一样\n",
    "    if np.allclose(CZ_encoder(1, 0).matrix(), circuit_CZ.matrix()) == True:\n",
    "        verify_CZ += 1\n",
    "    else:\n",
    "        verify_CZ += 0\n",
    "\n",
    "if verify_CZ == 100:\n",
    "    print(\"CZ_encoder(1, 0)的量子线路与包含CZ门的量子线路等价\")\n",
    "else:\n",
    "    print(\"CZ_encoder(1, 0)的量子线路与包含CZ门的量子线路不等\")"
   ]
  },
  {
   "cell_type": "markdown",
   "metadata": {},
   "source": [
    "也就是说，我们通过MindQuantum成功复现Fig5，并验证该线路的正确性。"
   ]
  },
  {
   "cell_type": "markdown",
   "metadata": {},
   "source": [
    "![Fig_6.png](./Fig_6.png)"
   ]
  },
  {
   "cell_type": "code",
   "execution_count": 36,
   "metadata": {},
   "outputs": [
    {
     "data": {
      "text/html": [
       "<pre style=\"white-space:pre;overflow-x:auto;line-height:normal;font-family:Menlo,'DejaVu Sans Mono',consolas,'Courier New',monospace\"></pre>\n"
      ],
      "text/plain": []
     },
     "metadata": {},
     "output_type": "display_data"
    },
    {
     "data": {
      "text/html": [
       "<pre style=\"white-space: pre;\"><span style=\"color: #000080; text-decoration-color: #000080; font-weight: bold\">q0: ──X────Z────────────‖──@──‖──Z────X────────────</span>\n",
       "<span style=\"color: #000080; text-decoration-color: #000080; font-weight: bold\">                        ‖  │  ‖</span>\n",
       "<span style=\"color: #000080; text-decoration-color: #000080; font-weight: bold\">q1: ────────────X────Z──‖──@──‖────────────Z────X──</span>\n",
       "</pre>\n"
      ],
      "text/plain": [
       "q0: ──X────Z────────────‖──@──‖──Z────X────────────\n",
       "                        ‖  │  ‖\n",
       "q1: ────────────X────Z──‖──@──‖────────────Z────X──"
      ]
     },
     "execution_count": 36,
     "metadata": {},
     "output_type": "execute_result"
    }
   ],
   "source": [
    "# 为了便于复现，设定生成随机数的种子30，展示随机数全为1的情况，实际过程可以去掉该种子设定\n",
    "random.seed(30)\n",
    "\n",
    "SWAP_encoder(1, 0)"
   ]
  },
  {
   "cell_type": "code",
   "execution_count": 37,
   "metadata": {},
   "outputs": [
    {
     "data": {
      "text/html": [
       "<pre style=\"white-space:pre;overflow-x:auto;line-height:normal;font-family:Menlo,'DejaVu Sans Mono',consolas,'Courier New',monospace\"></pre>\n"
      ],
      "text/plain": []
     },
     "metadata": {},
     "output_type": "display_data"
    },
    {
     "data": {
      "text/html": [
       "<pre style=\"white-space: pre;\"><span style=\"color: #000080; text-decoration-color: #000080; font-weight: bold\">q0: ──@──</span>\n",
       "<span style=\"color: #000080; text-decoration-color: #000080; font-weight: bold\">      │</span>\n",
       "<span style=\"color: #000080; text-decoration-color: #000080; font-weight: bold\">q1: ──@──</span>\n",
       "</pre>\n"
      ],
      "text/plain": [
       "q0: ──@──\n",
       "      │\n",
       "q1: ──@──"
      ]
     },
     "execution_count": 37,
     "metadata": {},
     "output_type": "execute_result"
    }
   ],
   "source": [
    "# 搭建一个包含SWAP门的量子线路\n",
    "circuit_SWAP = Circuit()\n",
    "circuit_SWAP += SWAP.on([0, 1])\n",
    "circuit_SWAP"
   ]
  },
  {
   "cell_type": "code",
   "execution_count": 38,
   "metadata": {},
   "outputs": [
    {
     "name": "stdout",
     "output_type": "stream",
     "text": [
      "上述两个量子线路等价\n"
     ]
    }
   ],
   "source": [
    "# 验证上述两个量子线路等价\n",
    "random.seed(30)\n",
    "\n",
    "if np.allclose(SWAP_encoder(1, 0).matrix(), circuit_SWAP.matrix()) == True:\n",
    "    print(\"上述两个量子线路等价\")\n",
    "else:\n",
    "    print(\"上述两个量子线路不等\")"
   ]
  },
  {
   "cell_type": "markdown",
   "metadata": {},
   "source": [
    "更一般地，验证`SWAP_encoder(1, 0)`的量子线路与包含`SWAP`门的量子线路的等价性。"
   ]
  },
  {
   "cell_type": "code",
   "execution_count": 39,
   "metadata": {},
   "outputs": [
    {
     "name": "stdout",
     "output_type": "stream",
     "text": [
      "SWAP_encoder(1, 0)的量子线路与包含SWAP门的量子线路等价\n"
     ]
    }
   ],
   "source": [
    "# 初始化变量\n",
    "verify_SWAP = 0\n",
    "\n",
    "# 重复验证100次\n",
    "for i in range(100):\n",
    "    # SWAP_encoder(1, 0)没有设定seed，因此每次产生的随机数都不一样\n",
    "    if np.allclose(SWAP_encoder(1, 0).matrix(), circuit_SWAP.matrix()) == True:\n",
    "        verify_SWAP += 1\n",
    "    else:\n",
    "        verify_SWAP += 0\n",
    "\n",
    "if verify_SWAP == 100:\n",
    "    print(\"SWAP_encoder(1, 0)的量子线路与包含SWAP门的量子线路等价\")\n",
    "else:\n",
    "    print(\"SWAP_encoder(1, 0)的量子线路与包含SWAP门的量子线路不等\")"
   ]
  },
  {
   "cell_type": "markdown",
   "metadata": {},
   "source": [
    "也就是说，我们通过MindQuantum成功复现Fig6，并验证该线路的正确性。"
   ]
  },
  {
   "cell_type": "markdown",
   "metadata": {},
   "source": [
    "![Fig_9.png](./Fig_9.png)"
   ]
  },
  {
   "cell_type": "code",
   "execution_count": 40,
   "metadata": {},
   "outputs": [
    {
     "data": {
      "text/html": [
       "<pre style=\"white-space:pre;overflow-x:auto;line-height:normal;font-family:Menlo,'DejaVu Sans Mono',consolas,'Courier New',monospace\"></pre>\n"
      ],
      "text/plain": []
     },
     "metadata": {},
     "output_type": "display_data"
    },
    {
     "data": {
      "text/html": [
       "<pre style=\"white-space: pre;\"><span style=\"color: #000080; text-decoration-color: #000080; font-weight: bold\">q0: ──X────Z──────────────────────‖──●──‖───────●───────────────────●────Z────X───────</span>\n",
       "<span style=\"color: #000080; text-decoration-color: #000080; font-weight: bold\">                                  ‖  │  ‖       │                   │</span>\n",
       "<span style=\"color: #000080; text-decoration-color: #000080; font-weight: bold\">q1: ────────────X────Z────────────‖──●──‖───────Z─────────Z────X────┼──────────────●──</span>\n",
       "<span style=\"color: #000080; text-decoration-color: #000080; font-weight: bold\">                                  ‖  │  ‖                           │              │</span>\n",
       "<span style=\"color: #000080; text-decoration-color: #000080; font-weight: bold\">q2: ──────────────────────X────Z──‖──X──‖──Z─────────X──────────────X──────────────X──</span>\n",
       "</pre>\n"
      ],
      "text/plain": [
       "q0: ──X────Z──────────────────────‖──●──‖───────●───────────────────●────Z────X───────\n",
       "                                  ‖  │  ‖       │                   │\n",
       "q1: ────────────X────Z────────────‖──●──‖───────Z─────────Z────X────┼──────────────●──\n",
       "                                  ‖  │  ‖                           │              │\n",
       "q2: ──────────────────────X────Z──‖──X──‖──Z─────────X──────────────X──────────────X──"
      ]
     },
     "execution_count": 40,
     "metadata": {},
     "output_type": "execute_result"
    }
   ],
   "source": [
    "# 为了便于复现，设定生成随机数的种子30，展示随机数全为1的情况，实际过程可以去掉该种子设定\n",
    "random.seed(53)\n",
    "\n",
    "Toffoli_encoder(2, [0, 1])"
   ]
  },
  {
   "cell_type": "code",
   "execution_count": 41,
   "metadata": {},
   "outputs": [
    {
     "data": {
      "text/html": [
       "<pre style=\"white-space:pre;overflow-x:auto;line-height:normal;font-family:Menlo,'DejaVu Sans Mono',consolas,'Courier New',monospace\"></pre>\n"
      ],
      "text/plain": []
     },
     "metadata": {},
     "output_type": "display_data"
    },
    {
     "data": {
      "text/html": [
       "<pre style=\"white-space: pre;\"><span style=\"color: #000080; text-decoration-color: #000080; font-weight: bold\">q0: ──●──</span>\n",
       "<span style=\"color: #000080; text-decoration-color: #000080; font-weight: bold\">      │</span>\n",
       "<span style=\"color: #000080; text-decoration-color: #000080; font-weight: bold\">q1: ──●──</span>\n",
       "<span style=\"color: #000080; text-decoration-color: #000080; font-weight: bold\">      │</span>\n",
       "<span style=\"color: #000080; text-decoration-color: #000080; font-weight: bold\">q2: ──X──</span>\n",
       "</pre>\n"
      ],
      "text/plain": [
       "q0: ──●──\n",
       "      │\n",
       "q1: ──●──\n",
       "      │\n",
       "q2: ──X──"
      ]
     },
     "execution_count": 41,
     "metadata": {},
     "output_type": "execute_result"
    }
   ],
   "source": [
    "# 搭建一个包含Toffoli门的量子线路\n",
    "circuit_Toffoli = Circuit()\n",
    "circuit_Toffoli += X.on(2, [0, 1])\n",
    "circuit_Toffoli"
   ]
  },
  {
   "cell_type": "code",
   "execution_count": 42,
   "metadata": {},
   "outputs": [
    {
     "name": "stdout",
     "output_type": "stream",
     "text": [
      "上述两个量子线路等价\n"
     ]
    }
   ],
   "source": [
    "# 验证上述两个量子线路等价\n",
    "random.seed(53)\n",
    "\n",
    "if np.allclose(Toffoli_encoder(2, [0, 1]).matrix(), circuit_Toffoli.matrix()) == True:\n",
    "    print(\"上述两个量子线路等价\")\n",
    "else:\n",
    "    print(\"上述两个量子线路不等\")"
   ]
  },
  {
   "cell_type": "markdown",
   "metadata": {},
   "source": [
    "更一般地，验证`Toffoli_encoder(2, [0, 1])`的量子线路与包含`Toffoli`门的量子线路的等价性。"
   ]
  },
  {
   "cell_type": "code",
   "execution_count": 43,
   "metadata": {},
   "outputs": [
    {
     "name": "stdout",
     "output_type": "stream",
     "text": [
      "Toffoli_encoder(2, [0, 1])的量子线路与包含Toffoli门的量子线路等价\n"
     ]
    }
   ],
   "source": [
    "# 初始化变量\n",
    "verify_Toffoli = 0\n",
    "\n",
    "# 重复验证100次\n",
    "for i in range(100):\n",
    "    # Toffoli_encoder(2, [0, 1])没有设定seed，因此每次产生的随机数都不一样\n",
    "    if np.allclose(Toffoli_encoder(2, [0, 1]).matrix(), circuit_Toffoli.matrix()) == True:\n",
    "        verify_Toffoli += 1\n",
    "    else:\n",
    "        verify_Toffoli += 0\n",
    "\n",
    "if verify_Toffoli == 100:\n",
    "    print(\"Toffoli_encoder(2, [0, 1])的量子线路与包含Toffoli门的量子线路等价\")\n",
    "else:\n",
    "    print(\"Toffoli_encoder(2, [0, 1])的量子线路与包含Toffoli门的量子线路不等\")"
   ]
  },
  {
   "cell_type": "markdown",
   "metadata": {},
   "source": [
    "也就是说，我们通过MindQuantum成功复现Fig9，并验证该线路的正确性。"
   ]
  },
  {
   "cell_type": "markdown",
   "metadata": {},
   "source": [
    "至此，我们通过MindQuantum验证（2）论文中的Fig2-Fig6和Fig9（`H` gate, `Fredkin` gate, `CNOT` gate, `CZ` gate, `SWAP` gate，`Toffoli` gate）的线路正确性。"
   ]
  },
  {
   "cell_type": "markdown",
   "metadata": {},
   "source": [
    "### 通过MindQuantum验证（3）论文中的Fig7可以计算2个16维向量$\\vec{u}$和$\\vec{v}$的欧几里得距离（即$n=4$的情况）；"
   ]
  },
  {
   "cell_type": "code",
   "execution_count": 44,
   "metadata": {},
   "outputs": [
    {
     "name": "stdout",
     "output_type": "stream",
     "text": [
      "向量u为 [ 5  6  8  6  1  6  4  8 10  1  8  5  1  0  8 10] ，向量v为 [ 8 10  8  2  6  8  1  8  3  5  3  6  7  9  0  8]\n"
     ]
    }
   ],
   "source": [
    "# 为了便于复现，设定生成随机数的种子\n",
    "random.seed(9)\n",
    "\n",
    "# 随机生成两个实且非负的16维向量u和v\n",
    "# random.randint(0, 11, 16)可以返回16个[0,10]之间的任意整数\n",
    "u_16 = random.randint(0, 11, 16)\n",
    "v_16 = random.randint(0, 11, 16)\n",
    "\n",
    "print(\"向量u为\", u_16, \"，向量v为\", v_16)"
   ]
  },
  {
   "cell_type": "code",
   "execution_count": 45,
   "metadata": {},
   "outputs": [
    {
     "name": "stdout",
     "output_type": "stream",
     "text": [
      "向量u的模长为 25.15949125081825 ，向量v的模长为 25.88435821108957\n"
     ]
    }
   ],
   "source": [
    "# 分别求出向量u和向量v的模长\n",
    "length_u_16 = np.sqrt(sum(u_16 * u_16))\n",
    "length_v_16 = np.sqrt(sum(v_16 * v_16))\n",
    "\n",
    "print(\"向量u的模长为\", length_u_16, \"，向量v的模长为\", length_v_16)"
   ]
  },
  {
   "cell_type": "code",
   "execution_count": 46,
   "metadata": {},
   "outputs": [
    {
     "name": "stdout",
     "output_type": "stream",
     "text": [
      "归一化后的向量u为 [0.19873216 0.23847859 0.31797145 0.23847859 0.03974643 0.23847859\n",
      " 0.15898573 0.31797145 0.39746432 0.03974643 0.31797145 0.19873216\n",
      " 0.03974643 0.         0.31797145 0.39746432] ，\n",
      "归一化后的向量v为 [0.30906696 0.3863337  0.30906696 0.07726674 0.23180022 0.30906696\n",
      " 0.03863337 0.30906696 0.11590011 0.19316685 0.11590011 0.23180022\n",
      " 0.27043359 0.34770033 0.         0.30906696]\n"
     ]
    }
   ],
   "source": [
    "# 根据向量u和向量v的模长，将它们进行归一化处理\n",
    "u_nor_16 = u_16 / length_u_16\n",
    "v_nor_16 = v_16 / length_v_16\n",
    "\n",
    "print(\"归一化后的向量u为\", u_nor_16, \"，\\n归一化后的向量v为\", v_nor_16)"
   ]
  },
  {
   "cell_type": "code",
   "execution_count": 47,
   "metadata": {},
   "outputs": [
    {
     "name": "stdout",
     "output_type": "stream",
     "text": [
      "归一化的向量u和向量v的内积等于 0.7278453056751973\n"
     ]
    }
   ],
   "source": [
    "# 两个归一化向量的内积\n",
    "inner_product_16 = np.dot(v_nor_16, u_nor_16)\n",
    "\n",
    "print(\"归一化的向量u和向量v的内积等于\", inner_product_16)"
   ]
  },
  {
   "cell_type": "code",
   "execution_count": 48,
   "metadata": {},
   "outputs": [
    {
     "name": "stdout",
     "output_type": "stream",
     "text": [
      "向量u和向量v的欧几里得距离等于 18.841443681416774\n"
     ]
    }
   ],
   "source": [
    "# 向量u和向量v的欧几里得距离\n",
    "D_Euc_16 = np.sqrt(length_u_16**2 + length_v_16**2 - 2 * length_u_16 * length_v_16 * inner_product_16)\n",
    "\n",
    "print(\"向量u和向量v的欧几里得距离等于\", D_Euc_16)"
   ]
  },
  {
   "cell_type": "markdown",
   "metadata": {},
   "source": [
    "通过经典计算的方法，我们可以得到向量$\\vec{u}$和$\\vec{v}$的欧几里得距离$D_{Euc16}=18.84144368141677$。\n",
    "\n",
    "下面我们尝试用量子计算的方法来计算，即复现论文中的Fig7。"
   ]
  },
  {
   "cell_type": "markdown",
   "metadata": {},
   "source": [
    "![Fig_7.png](./Fig_7.png)"
   ]
  },
  {
   "cell_type": "markdown",
   "metadata": {},
   "source": [
    "- 第一步：初态制备"
   ]
  },
  {
   "cell_type": "code",
   "execution_count": 49,
   "metadata": {},
   "outputs": [
    {
     "name": "stdout",
     "output_type": "stream",
     "text": [
      "归一化的向量u和向量v的张量积为 [0.06142154 0.07370585 0.09827447 0.07370585 0.01228431 0.07370585\n",
      " 0.04913724 0.09827447 0.12284309 0.01228431 0.09827447 0.06142154\n",
      " 0.01228431 0.         0.09827447 0.12284309 0.07677693 0.09213232\n",
      " 0.12284309 0.09213232 0.01535539 0.09213232 0.06142154 0.12284309\n",
      " 0.15355386 0.01535539 0.12284309 0.07677693 0.01535539 0.\n",
      " 0.12284309 0.15355386 0.06142154 0.07370585 0.09827447 0.07370585\n",
      " 0.01228431 0.07370585 0.04913724 0.09827447 0.12284309 0.01228431\n",
      " 0.09827447 0.06142154 0.01228431 0.         0.09827447 0.12284309\n",
      " 0.01535539 0.01842646 0.02456862 0.01842646 0.00307108 0.01842646\n",
      " 0.01228431 0.02456862 0.03071077 0.00307108 0.02456862 0.01535539\n",
      " 0.00307108 0.         0.02456862 0.03071077 0.04606616 0.05527939\n",
      " 0.07370585 0.05527939 0.00921323 0.05527939 0.03685293 0.07370585\n",
      " 0.09213232 0.00921323 0.07370585 0.04606616 0.00921323 0.\n",
      " 0.07370585 0.09213232 0.06142154 0.07370585 0.09827447 0.07370585\n",
      " 0.01228431 0.07370585 0.04913724 0.09827447 0.12284309 0.01228431\n",
      " 0.09827447 0.06142154 0.01228431 0.         0.09827447 0.12284309\n",
      " 0.00767769 0.00921323 0.01228431 0.00921323 0.00153554 0.00921323\n",
      " 0.00614215 0.01228431 0.01535539 0.00153554 0.01228431 0.00767769\n",
      " 0.00153554 0.         0.01228431 0.01535539 0.06142154 0.07370585\n",
      " 0.09827447 0.07370585 0.01228431 0.07370585 0.04913724 0.09827447\n",
      " 0.12284309 0.01228431 0.09827447 0.06142154 0.01228431 0.\n",
      " 0.09827447 0.12284309 0.02303308 0.0276397  0.03685293 0.0276397\n",
      " 0.00460662 0.0276397  0.01842646 0.03685293 0.04606616 0.00460662\n",
      " 0.03685293 0.02303308 0.00460662 0.         0.03685293 0.04606616\n",
      " 0.03838847 0.04606616 0.06142154 0.04606616 0.00767769 0.04606616\n",
      " 0.03071077 0.06142154 0.07677693 0.00767769 0.06142154 0.03838847\n",
      " 0.00767769 0.         0.06142154 0.07677693 0.02303308 0.0276397\n",
      " 0.03685293 0.0276397  0.00460662 0.0276397  0.01842646 0.03685293\n",
      " 0.04606616 0.00460662 0.03685293 0.02303308 0.00460662 0.\n",
      " 0.03685293 0.04606616 0.04606616 0.05527939 0.07370585 0.05527939\n",
      " 0.00921323 0.05527939 0.03685293 0.07370585 0.09213232 0.00921323\n",
      " 0.07370585 0.04606616 0.00921323 0.         0.07370585 0.09213232\n",
      " 0.05374385 0.06449262 0.08599016 0.06449262 0.01074877 0.06449262\n",
      " 0.04299508 0.08599016 0.1074877  0.01074877 0.08599016 0.05374385\n",
      " 0.01074877 0.         0.08599016 0.1074877  0.06909924 0.08291909\n",
      " 0.11055878 0.08291909 0.01381985 0.08291909 0.05527939 0.11055878\n",
      " 0.13819848 0.01381985 0.11055878 0.06909924 0.01381985 0.\n",
      " 0.11055878 0.13819848 0.         0.         0.         0.\n",
      " 0.         0.         0.         0.         0.         0.\n",
      " 0.         0.         0.         0.         0.         0.\n",
      " 0.06142154 0.07370585 0.09827447 0.07370585 0.01228431 0.07370585\n",
      " 0.04913724 0.09827447 0.12284309 0.01228431 0.09827447 0.06142154\n",
      " 0.01228431 0.         0.09827447 0.12284309]\n"
     ]
    }
   ],
   "source": [
    "# 归一化的向量u和向量v的张量积\n",
    "# 注意，越靠上的量子比特，做张量积的时候越靠右，因为MindQuantum的读取顺序是从右往左\n",
    "pre_16 = np.kron(v_nor_16, u_nor_16)\n",
    "\n",
    "print(\"归一化的向量u和向量v的张量积为\", pre_16)"
   ]
  },
  {
   "cell_type": "code",
   "execution_count": 50,
   "metadata": {},
   "outputs": [
    {
     "name": "stdout",
     "output_type": "stream",
     "text": [
      "|+>态对应的向量为 [0.70710678 0.70710678]\n"
     ]
    }
   ],
   "source": [
    "# |+>态对应的向量\n",
    "state_plus = 1 / np.sqrt(2) * np.array([1, 1])\n",
    "\n",
    "print(\"|+>态对应的向量为\", state_plus)"
   ]
  },
  {
   "cell_type": "code",
   "execution_count": 51,
   "metadata": {},
   "outputs": [
    {
     "name": "stdout",
     "output_type": "stream",
     "text": [
      "初态对应的向量为 [0.04343159 0.04343159 0.05211791 0.05211791 0.06949055 0.06949055\n",
      " 0.05211791 0.05211791 0.00868632 0.00868632 0.05211791 0.05211791\n",
      " 0.03474527 0.03474527 0.06949055 0.06949055 0.08686318 0.08686318\n",
      " 0.00868632 0.00868632 0.06949055 0.06949055 0.04343159 0.04343159\n",
      " 0.00868632 0.00868632 0.         0.         0.06949055 0.06949055\n",
      " 0.08686318 0.08686318 0.05428949 0.05428949 0.06514739 0.06514739\n",
      " 0.08686318 0.08686318 0.06514739 0.06514739 0.0108579  0.0108579\n",
      " 0.06514739 0.06514739 0.04343159 0.04343159 0.08686318 0.08686318\n",
      " 0.10857898 0.10857898 0.0108579  0.0108579  0.08686318 0.08686318\n",
      " 0.05428949 0.05428949 0.0108579  0.0108579  0.         0.\n",
      " 0.08686318 0.08686318 0.10857898 0.10857898 0.04343159 0.04343159\n",
      " 0.05211791 0.05211791 0.06949055 0.06949055 0.05211791 0.05211791\n",
      " 0.00868632 0.00868632 0.05211791 0.05211791 0.03474527 0.03474527\n",
      " 0.06949055 0.06949055 0.08686318 0.08686318 0.00868632 0.00868632\n",
      " 0.06949055 0.06949055 0.04343159 0.04343159 0.00868632 0.00868632\n",
      " 0.         0.         0.06949055 0.06949055 0.08686318 0.08686318\n",
      " 0.0108579  0.0108579  0.01302948 0.01302948 0.01737264 0.01737264\n",
      " 0.01302948 0.01302948 0.00217158 0.00217158 0.01302948 0.01302948\n",
      " 0.00868632 0.00868632 0.01737264 0.01737264 0.0217158  0.0217158\n",
      " 0.00217158 0.00217158 0.01737264 0.01737264 0.0108579  0.0108579\n",
      " 0.00217158 0.00217158 0.         0.         0.01737264 0.01737264\n",
      " 0.0217158  0.0217158  0.03257369 0.03257369 0.03908843 0.03908843\n",
      " 0.05211791 0.05211791 0.03908843 0.03908843 0.00651474 0.00651474\n",
      " 0.03908843 0.03908843 0.02605895 0.02605895 0.05211791 0.05211791\n",
      " 0.06514739 0.06514739 0.00651474 0.00651474 0.05211791 0.05211791\n",
      " 0.03257369 0.03257369 0.00651474 0.00651474 0.         0.\n",
      " 0.05211791 0.05211791 0.06514739 0.06514739 0.04343159 0.04343159\n",
      " 0.05211791 0.05211791 0.06949055 0.06949055 0.05211791 0.05211791\n",
      " 0.00868632 0.00868632 0.05211791 0.05211791 0.03474527 0.03474527\n",
      " 0.06949055 0.06949055 0.08686318 0.08686318 0.00868632 0.00868632\n",
      " 0.06949055 0.06949055 0.04343159 0.04343159 0.00868632 0.00868632\n",
      " 0.         0.         0.06949055 0.06949055 0.08686318 0.08686318\n",
      " 0.00542895 0.00542895 0.00651474 0.00651474 0.00868632 0.00868632\n",
      " 0.00651474 0.00651474 0.00108579 0.00108579 0.00651474 0.00651474\n",
      " 0.00434316 0.00434316 0.00868632 0.00868632 0.0108579  0.0108579\n",
      " 0.00108579 0.00108579 0.00868632 0.00868632 0.00542895 0.00542895\n",
      " 0.00108579 0.00108579 0.         0.         0.00868632 0.00868632\n",
      " 0.0108579  0.0108579  0.04343159 0.04343159 0.05211791 0.05211791\n",
      " 0.06949055 0.06949055 0.05211791 0.05211791 0.00868632 0.00868632\n",
      " 0.05211791 0.05211791 0.03474527 0.03474527 0.06949055 0.06949055\n",
      " 0.08686318 0.08686318 0.00868632 0.00868632 0.06949055 0.06949055\n",
      " 0.04343159 0.04343159 0.00868632 0.00868632 0.         0.\n",
      " 0.06949055 0.06949055 0.08686318 0.08686318 0.01628685 0.01628685\n",
      " 0.01954422 0.01954422 0.02605895 0.02605895 0.01954422 0.01954422\n",
      " 0.00325737 0.00325737 0.01954422 0.01954422 0.01302948 0.01302948\n",
      " 0.02605895 0.02605895 0.03257369 0.03257369 0.00325737 0.00325737\n",
      " 0.02605895 0.02605895 0.01628685 0.01628685 0.00325737 0.00325737\n",
      " 0.         0.         0.02605895 0.02605895 0.03257369 0.03257369\n",
      " 0.02714474 0.02714474 0.03257369 0.03257369 0.04343159 0.04343159\n",
      " 0.03257369 0.03257369 0.00542895 0.00542895 0.03257369 0.03257369\n",
      " 0.0217158  0.0217158  0.04343159 0.04343159 0.05428949 0.05428949\n",
      " 0.00542895 0.00542895 0.04343159 0.04343159 0.02714474 0.02714474\n",
      " 0.00542895 0.00542895 0.         0.         0.04343159 0.04343159\n",
      " 0.05428949 0.05428949 0.01628685 0.01628685 0.01954422 0.01954422\n",
      " 0.02605895 0.02605895 0.01954422 0.01954422 0.00325737 0.00325737\n",
      " 0.01954422 0.01954422 0.01302948 0.01302948 0.02605895 0.02605895\n",
      " 0.03257369 0.03257369 0.00325737 0.00325737 0.02605895 0.02605895\n",
      " 0.01628685 0.01628685 0.00325737 0.00325737 0.         0.\n",
      " 0.02605895 0.02605895 0.03257369 0.03257369 0.03257369 0.03257369\n",
      " 0.03908843 0.03908843 0.05211791 0.05211791 0.03908843 0.03908843\n",
      " 0.00651474 0.00651474 0.03908843 0.03908843 0.02605895 0.02605895\n",
      " 0.05211791 0.05211791 0.06514739 0.06514739 0.00651474 0.00651474\n",
      " 0.05211791 0.05211791 0.03257369 0.03257369 0.00651474 0.00651474\n",
      " 0.         0.         0.05211791 0.05211791 0.06514739 0.06514739\n",
      " 0.03800264 0.03800264 0.04560317 0.04560317 0.06080423 0.06080423\n",
      " 0.04560317 0.04560317 0.00760053 0.00760053 0.04560317 0.04560317\n",
      " 0.03040211 0.03040211 0.06080423 0.06080423 0.07600528 0.07600528\n",
      " 0.00760053 0.00760053 0.06080423 0.06080423 0.03800264 0.03800264\n",
      " 0.00760053 0.00760053 0.         0.         0.06080423 0.06080423\n",
      " 0.07600528 0.07600528 0.04886054 0.04886054 0.05863265 0.05863265\n",
      " 0.07817686 0.07817686 0.05863265 0.05863265 0.00977211 0.00977211\n",
      " 0.05863265 0.05863265 0.03908843 0.03908843 0.07817686 0.07817686\n",
      " 0.09772108 0.09772108 0.00977211 0.00977211 0.07817686 0.07817686\n",
      " 0.04886054 0.04886054 0.00977211 0.00977211 0.         0.\n",
      " 0.07817686 0.07817686 0.09772108 0.09772108 0.         0.\n",
      " 0.         0.         0.         0.         0.         0.\n",
      " 0.         0.         0.         0.         0.         0.\n",
      " 0.         0.         0.         0.         0.         0.\n",
      " 0.         0.         0.         0.         0.         0.\n",
      " 0.         0.         0.         0.         0.         0.\n",
      " 0.04343159 0.04343159 0.05211791 0.05211791 0.06949055 0.06949055\n",
      " 0.05211791 0.05211791 0.00868632 0.00868632 0.05211791 0.05211791\n",
      " 0.03474527 0.03474527 0.06949055 0.06949055 0.08686318 0.08686318\n",
      " 0.00868632 0.00868632 0.06949055 0.06949055 0.04343159 0.04343159\n",
      " 0.00868632 0.00868632 0.         0.         0.06949055 0.06949055\n",
      " 0.08686318 0.08686318]\n"
     ]
    }
   ],
   "source": [
    "# 制备初态\n",
    "initial_state_16 = np.kron(pre_16, state_plus)\n",
    "\n",
    "print(\"初态对应的向量为\", initial_state_16)"
   ]
  },
  {
   "cell_type": "code",
   "execution_count": 52,
   "metadata": {},
   "outputs": [
    {
     "name": "stdout",
     "output_type": "stream",
     "text": [
      "0.04343159082681246¦000000000⟩\n",
      "0.04343159082681246¦000000001⟩\n",
      "0.052117908992174944¦000000010⟩\n",
      "0.052117908992174944¦000000011⟩\n",
      "0.06949054532289994¦000000100⟩\n",
      "0.06949054532289994¦000000101⟩\n",
      "0.052117908992174944¦000000110⟩\n",
      "0.052117908992174944¦000000111⟩\n",
      "0.008686318165362493¦000001000⟩\n",
      "0.008686318165362493¦000001001⟩\n",
      "0.052117908992174944¦000001010⟩\n",
      "0.052117908992174944¦000001011⟩\n",
      "0.03474527266144997¦000001100⟩\n",
      "0.03474527266144997¦000001101⟩\n",
      "0.06949054532289994¦000001110⟩\n",
      "0.06949054532289994¦000001111⟩\n",
      "0.08686318165362492¦000010000⟩\n",
      "0.08686318165362492¦000010001⟩\n",
      "0.008686318165362493¦000010010⟩\n",
      "0.008686318165362493¦000010011⟩\n",
      "0.06949054532289994¦000010100⟩\n",
      "0.06949054532289994¦000010101⟩\n",
      "0.04343159082681246¦000010110⟩\n",
      "0.04343159082681246¦000010111⟩\n",
      "0.008686318165362493¦000011000⟩\n",
      "0.008686318165362493¦000011001⟩\n",
      "0.06949054532289994¦000011100⟩\n",
      "0.06949054532289994¦000011101⟩\n",
      "0.08686318165362492¦000011110⟩\n",
      "0.08686318165362492¦000011111⟩\n",
      "0.05428948853351557¦000100000⟩\n",
      "0.05428948853351557¦000100001⟩\n",
      "0.06514738624021868¦000100010⟩\n",
      "0.06514738624021868¦000100011⟩\n",
      "0.08686318165362492¦000100100⟩\n",
      "0.08686318165362492¦000100101⟩\n",
      "0.06514738624021868¦000100110⟩\n",
      "0.06514738624021868¦000100111⟩\n",
      "0.010857897706703114¦000101000⟩\n",
      "0.010857897706703114¦000101001⟩\n",
      "0.06514738624021868¦000101010⟩\n",
      "0.06514738624021868¦000101011⟩\n",
      "0.04343159082681246¦000101100⟩\n",
      "0.04343159082681246¦000101101⟩\n",
      "0.08686318165362492¦000101110⟩\n",
      "0.08686318165362492¦000101111⟩\n",
      "0.10857897706703114¦000110000⟩\n",
      "0.10857897706703114¦000110001⟩\n",
      "0.010857897706703114¦000110010⟩\n",
      "0.010857897706703114¦000110011⟩\n",
      "0.08686318165362492¦000110100⟩\n",
      "0.08686318165362492¦000110101⟩\n",
      "0.05428948853351557¦000110110⟩\n",
      "0.05428948853351557¦000110111⟩\n",
      "0.010857897706703114¦000111000⟩\n",
      "0.010857897706703114¦000111001⟩\n",
      "0.08686318165362492¦000111100⟩\n",
      "0.08686318165362492¦000111101⟩\n",
      "0.10857897706703114¦000111110⟩\n",
      "0.10857897706703114¦000111111⟩\n",
      "0.04343159082681246¦001000000⟩\n",
      "0.04343159082681246¦001000001⟩\n",
      "0.052117908992174944¦001000010⟩\n",
      "0.052117908992174944¦001000011⟩\n",
      "0.06949054532289994¦001000100⟩\n",
      "0.06949054532289994¦001000101⟩\n",
      "0.052117908992174944¦001000110⟩\n",
      "0.052117908992174944¦001000111⟩\n",
      "0.008686318165362493¦001001000⟩\n",
      "0.008686318165362493¦001001001⟩\n",
      "0.052117908992174944¦001001010⟩\n",
      "0.052117908992174944¦001001011⟩\n",
      "0.03474527266144997¦001001100⟩\n",
      "0.03474527266144997¦001001101⟩\n",
      "0.06949054532289994¦001001110⟩\n",
      "0.06949054532289994¦001001111⟩\n",
      "0.08686318165362492¦001010000⟩\n",
      "0.08686318165362492¦001010001⟩\n",
      "0.008686318165362493¦001010010⟩\n",
      "0.008686318165362493¦001010011⟩\n",
      "0.06949054532289994¦001010100⟩\n",
      "0.06949054532289994¦001010101⟩\n",
      "0.04343159082681246¦001010110⟩\n",
      "0.04343159082681246¦001010111⟩\n",
      "0.008686318165362493¦001011000⟩\n",
      "0.008686318165362493¦001011001⟩\n",
      "0.06949054532289994¦001011100⟩\n",
      "0.06949054532289994¦001011101⟩\n",
      "0.08686318165362492¦001011110⟩\n",
      "0.08686318165362492¦001011111⟩\n",
      "0.010857897706703114¦001100000⟩\n",
      "0.010857897706703114¦001100001⟩\n",
      "0.013029477248043736¦001100010⟩\n",
      "0.013029477248043736¦001100011⟩\n",
      "0.017372636330724986¦001100100⟩\n",
      "0.017372636330724986¦001100101⟩\n",
      "0.013029477248043736¦001100110⟩\n",
      "0.013029477248043736¦001100111⟩\n",
      "0.0021715795413406232¦001101000⟩\n",
      "0.0021715795413406232¦001101001⟩\n",
      "0.013029477248043736¦001101010⟩\n",
      "0.013029477248043736¦001101011⟩\n",
      "0.008686318165362493¦001101100⟩\n",
      "0.008686318165362493¦001101101⟩\n",
      "0.017372636330724986¦001101110⟩\n",
      "0.017372636330724986¦001101111⟩\n",
      "0.02171579541340623¦001110000⟩\n",
      "0.02171579541340623¦001110001⟩\n",
      "0.0021715795413406232¦001110010⟩\n",
      "0.0021715795413406232¦001110011⟩\n",
      "0.017372636330724986¦001110100⟩\n",
      "0.017372636330724986¦001110101⟩\n",
      "0.010857897706703114¦001110110⟩\n",
      "0.010857897706703114¦001110111⟩\n",
      "0.0021715795413406232¦001111000⟩\n",
      "0.0021715795413406232¦001111001⟩\n",
      "0.017372636330724986¦001111100⟩\n",
      "0.017372636330724986¦001111101⟩\n",
      "0.02171579541340623¦001111110⟩\n",
      "0.02171579541340623¦001111111⟩\n",
      "0.03257369312010934¦010000000⟩\n",
      "0.03257369312010934¦010000001⟩\n",
      "0.03908843174413121¦010000010⟩\n",
      "0.03908843174413121¦010000011⟩\n",
      "0.05211790899217495¦010000100⟩\n",
      "0.05211790899217495¦010000101⟩\n",
      "0.03908843174413121¦010000110⟩\n",
      "0.03908843174413121¦010000111⟩\n",
      "0.006514738624021869¦010001000⟩\n",
      "0.006514738624021869¦010001001⟩\n",
      "0.03908843174413121¦010001010⟩\n",
      "0.03908843174413121¦010001011⟩\n",
      "0.026058954496087475¦010001100⟩\n",
      "0.026058954496087475¦010001101⟩\n",
      "0.05211790899217495¦010001110⟩\n",
      "0.05211790899217495¦010001111⟩\n",
      "0.06514738624021868¦010010000⟩\n",
      "0.06514738624021868¦010010001⟩\n",
      "0.006514738624021869¦010010010⟩\n",
      "0.006514738624021869¦010010011⟩\n",
      "0.05211790899217495¦010010100⟩\n",
      "0.05211790899217495¦010010101⟩\n",
      "0.03257369312010934¦010010110⟩\n",
      "0.03257369312010934¦010010111⟩\n",
      "0.006514738624021869¦010011000⟩\n",
      "0.006514738624021869¦010011001⟩\n",
      "0.05211790899217495¦010011100⟩\n",
      "0.05211790899217495¦010011101⟩\n",
      "0.06514738624021868¦010011110⟩\n",
      "0.06514738624021868¦010011111⟩\n",
      "0.04343159082681246¦010100000⟩\n",
      "0.04343159082681246¦010100001⟩\n",
      "0.052117908992174944¦010100010⟩\n",
      "0.052117908992174944¦010100011⟩\n",
      "0.06949054532289994¦010100100⟩\n",
      "0.06949054532289994¦010100101⟩\n",
      "0.052117908992174944¦010100110⟩\n",
      "0.052117908992174944¦010100111⟩\n",
      "0.008686318165362493¦010101000⟩\n",
      "0.008686318165362493¦010101001⟩\n",
      "0.052117908992174944¦010101010⟩\n",
      "0.052117908992174944¦010101011⟩\n",
      "0.03474527266144997¦010101100⟩\n",
      "0.03474527266144997¦010101101⟩\n",
      "0.06949054532289994¦010101110⟩\n",
      "0.06949054532289994¦010101111⟩\n",
      "0.08686318165362492¦010110000⟩\n",
      "0.08686318165362492¦010110001⟩\n",
      "0.008686318165362493¦010110010⟩\n",
      "0.008686318165362493¦010110011⟩\n",
      "0.06949054532289994¦010110100⟩\n",
      "0.06949054532289994¦010110101⟩\n",
      "0.04343159082681246¦010110110⟩\n",
      "0.04343159082681246¦010110111⟩\n",
      "0.008686318165362493¦010111000⟩\n",
      "0.008686318165362493¦010111001⟩\n",
      "0.06949054532289994¦010111100⟩\n",
      "0.06949054532289994¦010111101⟩\n",
      "0.08686318165362492¦010111110⟩\n",
      "0.08686318165362492¦010111111⟩\n",
      "0.005428948853351557¦011000000⟩\n",
      "0.005428948853351557¦011000001⟩\n",
      "0.006514738624021868¦011000010⟩\n",
      "0.006514738624021868¦011000011⟩\n",
      "0.008686318165362493¦011000100⟩\n",
      "0.008686318165362493¦011000101⟩\n",
      "0.006514738624021868¦011000110⟩\n",
      "0.006514738624021868¦011000111⟩\n",
      "0.0010857897706703116¦011001000⟩\n",
      "0.0010857897706703116¦011001001⟩\n",
      "0.006514738624021868¦011001010⟩\n",
      "0.006514738624021868¦011001011⟩\n",
      "0.0043431590826812465¦011001100⟩\n",
      "0.0043431590826812465¦011001101⟩\n",
      "0.008686318165362493¦011001110⟩\n",
      "0.008686318165362493¦011001111⟩\n",
      "0.010857897706703114¦011010000⟩\n",
      "0.010857897706703114¦011010001⟩\n",
      "0.0010857897706703116¦011010010⟩\n",
      "0.0010857897706703116¦011010011⟩\n",
      "0.008686318165362493¦011010100⟩\n",
      "0.008686318165362493¦011010101⟩\n",
      "0.005428948853351557¦011010110⟩\n",
      "0.005428948853351557¦011010111⟩\n",
      "0.0010857897706703116¦011011000⟩\n",
      "0.0010857897706703116¦011011001⟩\n",
      "0.008686318165362493¦011011100⟩\n",
      "0.008686318165362493¦011011101⟩\n",
      "0.010857897706703114¦011011110⟩\n",
      "0.010857897706703114¦011011111⟩\n",
      "0.04343159082681246¦011100000⟩\n",
      "0.04343159082681246¦011100001⟩\n",
      "0.052117908992174944¦011100010⟩\n",
      "0.052117908992174944¦011100011⟩\n",
      "0.06949054532289994¦011100100⟩\n",
      "0.06949054532289994¦011100101⟩\n",
      "0.052117908992174944¦011100110⟩\n",
      "0.052117908992174944¦011100111⟩\n",
      "0.008686318165362493¦011101000⟩\n",
      "0.008686318165362493¦011101001⟩\n",
      "0.052117908992174944¦011101010⟩\n",
      "0.052117908992174944¦011101011⟩\n",
      "0.03474527266144997¦011101100⟩\n",
      "0.03474527266144997¦011101101⟩\n",
      "0.06949054532289994¦011101110⟩\n",
      "0.06949054532289994¦011101111⟩\n",
      "0.08686318165362492¦011110000⟩\n",
      "0.08686318165362492¦011110001⟩\n",
      "0.008686318165362493¦011110010⟩\n",
      "0.008686318165362493¦011110011⟩\n",
      "0.06949054532289994¦011110100⟩\n",
      "0.06949054532289994¦011110101⟩\n",
      "0.04343159082681246¦011110110⟩\n",
      "0.04343159082681246¦011110111⟩\n",
      "0.008686318165362493¦011111000⟩\n",
      "0.008686318165362493¦011111001⟩\n",
      "0.06949054532289994¦011111100⟩\n",
      "0.06949054532289994¦011111101⟩\n",
      "0.08686318165362492¦011111110⟩\n",
      "0.08686318165362492¦011111111⟩\n",
      "0.01628684656005467¦100000000⟩\n",
      "0.01628684656005467¦100000001⟩\n",
      "0.019544215872065604¦100000010⟩\n",
      "0.019544215872065604¦100000011⟩\n",
      "0.026058954496087475¦100000100⟩\n",
      "0.026058954496087475¦100000101⟩\n",
      "0.019544215872065604¦100000110⟩\n",
      "0.019544215872065604¦100000111⟩\n",
      "0.0032573693120109344¦100001000⟩\n",
      "0.0032573693120109344¦100001001⟩\n",
      "0.019544215872065604¦100001010⟩\n",
      "0.019544215872065604¦100001011⟩\n",
      "0.013029477248043738¦100001100⟩\n",
      "0.013029477248043738¦100001101⟩\n",
      "0.026058954496087475¦100001110⟩\n",
      "0.026058954496087475¦100001111⟩\n",
      "0.03257369312010934¦100010000⟩\n",
      "0.03257369312010934¦100010001⟩\n",
      "0.0032573693120109344¦100010010⟩\n",
      "0.0032573693120109344¦100010011⟩\n",
      "0.026058954496087475¦100010100⟩\n",
      "0.026058954496087475¦100010101⟩\n",
      "0.01628684656005467¦100010110⟩\n",
      "0.01628684656005467¦100010111⟩\n",
      "0.0032573693120109344¦100011000⟩\n",
      "0.0032573693120109344¦100011001⟩\n",
      "0.026058954496087475¦100011100⟩\n",
      "0.026058954496087475¦100011101⟩\n",
      "0.03257369312010934¦100011110⟩\n",
      "0.03257369312010934¦100011111⟩\n",
      "0.027144744266757784¦100100000⟩\n",
      "0.027144744266757784¦100100001⟩\n",
      "0.03257369312010934¦100100010⟩\n",
      "0.03257369312010934¦100100011⟩\n",
      "0.04343159082681246¦100100100⟩\n",
      "0.04343159082681246¦100100101⟩\n",
      "0.03257369312010934¦100100110⟩\n",
      "0.03257369312010934¦100100111⟩\n",
      "0.005428948853351557¦100101000⟩\n",
      "0.005428948853351557¦100101001⟩\n",
      "0.03257369312010934¦100101010⟩\n",
      "0.03257369312010934¦100101011⟩\n",
      "0.02171579541340623¦100101100⟩\n",
      "0.02171579541340623¦100101101⟩\n",
      "0.04343159082681246¦100101110⟩\n",
      "0.04343159082681246¦100101111⟩\n",
      "0.05428948853351557¦100110000⟩\n",
      "0.05428948853351557¦100110001⟩\n",
      "0.005428948853351557¦100110010⟩\n",
      "0.005428948853351557¦100110011⟩\n",
      "0.04343159082681246¦100110100⟩\n",
      "0.04343159082681246¦100110101⟩\n",
      "0.027144744266757784¦100110110⟩\n",
      "0.027144744266757784¦100110111⟩\n",
      "0.005428948853351557¦100111000⟩\n",
      "0.005428948853351557¦100111001⟩\n",
      "0.04343159082681246¦100111100⟩\n",
      "0.04343159082681246¦100111101⟩\n",
      "0.05428948853351557¦100111110⟩\n",
      "0.05428948853351557¦100111111⟩\n",
      "0.01628684656005467¦101000000⟩\n",
      "0.01628684656005467¦101000001⟩\n",
      "0.019544215872065604¦101000010⟩\n",
      "0.019544215872065604¦101000011⟩\n",
      "0.026058954496087475¦101000100⟩\n",
      "0.026058954496087475¦101000101⟩\n",
      "0.019544215872065604¦101000110⟩\n",
      "0.019544215872065604¦101000111⟩\n",
      "0.0032573693120109344¦101001000⟩\n",
      "0.0032573693120109344¦101001001⟩\n",
      "0.019544215872065604¦101001010⟩\n",
      "0.019544215872065604¦101001011⟩\n",
      "0.013029477248043738¦101001100⟩\n",
      "0.013029477248043738¦101001101⟩\n",
      "0.026058954496087475¦101001110⟩\n",
      "0.026058954496087475¦101001111⟩\n",
      "0.03257369312010934¦101010000⟩\n",
      "0.03257369312010934¦101010001⟩\n",
      "0.0032573693120109344¦101010010⟩\n",
      "0.0032573693120109344¦101010011⟩\n",
      "0.026058954496087475¦101010100⟩\n",
      "0.026058954496087475¦101010101⟩\n",
      "0.01628684656005467¦101010110⟩\n",
      "0.01628684656005467¦101010111⟩\n",
      "0.0032573693120109344¦101011000⟩\n",
      "0.0032573693120109344¦101011001⟩\n",
      "0.026058954496087475¦101011100⟩\n",
      "0.026058954496087475¦101011101⟩\n",
      "0.03257369312010934¦101011110⟩\n",
      "0.03257369312010934¦101011111⟩\n",
      "0.03257369312010934¦101100000⟩\n",
      "0.03257369312010934¦101100001⟩\n",
      "0.03908843174413121¦101100010⟩\n",
      "0.03908843174413121¦101100011⟩\n",
      "0.05211790899217495¦101100100⟩\n",
      "0.05211790899217495¦101100101⟩\n",
      "0.03908843174413121¦101100110⟩\n",
      "0.03908843174413121¦101100111⟩\n",
      "0.006514738624021869¦101101000⟩\n",
      "0.006514738624021869¦101101001⟩\n",
      "0.03908843174413121¦101101010⟩\n",
      "0.03908843174413121¦101101011⟩\n",
      "0.026058954496087475¦101101100⟩\n",
      "0.026058954496087475¦101101101⟩\n",
      "0.05211790899217495¦101101110⟩\n",
      "0.05211790899217495¦101101111⟩\n",
      "0.06514738624021868¦101110000⟩\n",
      "0.06514738624021868¦101110001⟩\n",
      "0.006514738624021869¦101110010⟩\n",
      "0.006514738624021869¦101110011⟩\n",
      "0.05211790899217495¦101110100⟩\n",
      "0.05211790899217495¦101110101⟩\n",
      "0.03257369312010934¦101110110⟩\n",
      "0.03257369312010934¦101110111⟩\n",
      "0.006514738624021869¦101111000⟩\n",
      "0.006514738624021869¦101111001⟩\n",
      "0.05211790899217495¦101111100⟩\n",
      "0.05211790899217495¦101111101⟩\n",
      "0.06514738624021868¦101111110⟩\n",
      "0.06514738624021868¦101111111⟩\n",
      "0.0380026419734609¦110000000⟩\n",
      "0.0380026419734609¦110000001⟩\n",
      "0.045603170368153076¦110000010⟩\n",
      "0.045603170368153076¦110000011⟩\n",
      "0.06080422715753744¦110000100⟩\n",
      "0.06080422715753744¦110000101⟩\n",
      "0.045603170368153076¦110000110⟩\n",
      "0.045603170368153076¦110000111⟩\n",
      "0.00760052839469218¦110001000⟩\n",
      "0.00760052839469218¦110001001⟩\n",
      "0.045603170368153076¦110001010⟩\n",
      "0.045603170368153076¦110001011⟩\n",
      "0.03040211357876872¦110001100⟩\n",
      "0.03040211357876872¦110001101⟩\n",
      "0.06080422715753744¦110001110⟩\n",
      "0.06080422715753744¦110001111⟩\n",
      "0.0760052839469218¦110010000⟩\n",
      "0.0760052839469218¦110010001⟩\n",
      "0.00760052839469218¦110010010⟩\n",
      "0.00760052839469218¦110010011⟩\n",
      "0.06080422715753744¦110010100⟩\n",
      "0.06080422715753744¦110010101⟩\n",
      "0.0380026419734609¦110010110⟩\n",
      "0.0380026419734609¦110010111⟩\n",
      "0.00760052839469218¦110011000⟩\n",
      "0.00760052839469218¦110011001⟩\n",
      "0.06080422715753744¦110011100⟩\n",
      "0.06080422715753744¦110011101⟩\n",
      "0.0760052839469218¦110011110⟩\n",
      "0.0760052839469218¦110011111⟩\n",
      "0.04886053968016402¦110100000⟩\n",
      "0.04886053968016402¦110100001⟩\n",
      "0.05863264761619681¦110100010⟩\n",
      "0.05863264761619681¦110100011⟩\n",
      "0.07817686348826243¦110100100⟩\n",
      "0.07817686348826243¦110100101⟩\n",
      "0.05863264761619681¦110100110⟩\n",
      "0.05863264761619681¦110100111⟩\n",
      "0.009772107936032804¦110101000⟩\n",
      "0.009772107936032804¦110101001⟩\n",
      "0.05863264761619681¦110101010⟩\n",
      "0.05863264761619681¦110101011⟩\n",
      "0.039088431744131215¦110101100⟩\n",
      "0.039088431744131215¦110101101⟩\n",
      "0.07817686348826243¦110101110⟩\n",
      "0.07817686348826243¦110101111⟩\n",
      "0.09772107936032803¦110110000⟩\n",
      "0.09772107936032803¦110110001⟩\n",
      "0.009772107936032804¦110110010⟩\n",
      "0.009772107936032804¦110110011⟩\n",
      "0.07817686348826243¦110110100⟩\n",
      "0.07817686348826243¦110110101⟩\n",
      "0.04886053968016402¦110110110⟩\n",
      "0.04886053968016402¦110110111⟩\n",
      "0.009772107936032804¦110111000⟩\n",
      "0.009772107936032804¦110111001⟩\n",
      "0.07817686348826243¦110111100⟩\n",
      "0.07817686348826243¦110111101⟩\n",
      "0.09772107936032803¦110111110⟩\n",
      "0.09772107936032803¦110111111⟩\n",
      "0.04343159082681246¦111100000⟩\n",
      "0.04343159082681246¦111100001⟩\n",
      "0.052117908992174944¦111100010⟩\n",
      "0.052117908992174944¦111100011⟩\n",
      "0.06949054532289994¦111100100⟩\n",
      "0.06949054532289994¦111100101⟩\n",
      "0.052117908992174944¦111100110⟩\n",
      "0.052117908992174944¦111100111⟩\n",
      "0.008686318165362493¦111101000⟩\n",
      "0.008686318165362493¦111101001⟩\n",
      "0.052117908992174944¦111101010⟩\n",
      "0.052117908992174944¦111101011⟩\n",
      "0.03474527266144997¦111101100⟩\n",
      "0.03474527266144997¦111101101⟩\n",
      "0.06949054532289994¦111101110⟩\n",
      "0.06949054532289994¦111101111⟩\n",
      "0.08686318165362492¦111110000⟩\n",
      "0.08686318165362492¦111110001⟩\n",
      "0.008686318165362493¦111110010⟩\n",
      "0.008686318165362493¦111110011⟩\n",
      "0.06949054532289994¦111110100⟩\n",
      "0.06949054532289994¦111110101⟩\n",
      "0.04343159082681246¦111110110⟩\n",
      "0.04343159082681246¦111110111⟩\n",
      "0.008686318165362493¦111111000⟩\n",
      "0.008686318165362493¦111111001⟩\n",
      "0.06949054532289994¦111111100⟩\n",
      "0.06949054532289994¦111111101⟩\n",
      "0.08686318165362492¦111111110⟩\n",
      "0.08686318165362492¦111111111⟩\n"
     ]
    }
   ],
   "source": [
    "sim_16 = Simulator('projectq', 9)  # 调用一个9量子比特的模拟器\n",
    "sim_16.set_qs(initial_state_16)    # 将模拟器的初态设为与initial_state_16对应的量子态\n",
    "\n",
    "print(sim_16.get_qs(True))         # 打印我们制备好的初态"
   ]
  },
  {
   "cell_type": "markdown",
   "metadata": {},
   "source": [
    "- 第二步：广义SWAP Test"
   ]
  },
  {
   "cell_type": "code",
   "execution_count": 53,
   "metadata": {},
   "outputs": [
    {
     "data": {
      "text/html": [
       "<pre style=\"white-space:pre;overflow-x:auto;line-height:normal;font-family:Menlo,'DejaVu Sans Mono',consolas,'Courier New',monospace\"></pre>\n"
      ],
      "text/plain": []
     },
     "metadata": {},
     "output_type": "display_data"
    },
    {
     "data": {
      "text/html": [
       "<pre style=\"white-space: pre;\"><span style=\"color: #000080; text-decoration-color: #000080; font-weight: bold\">q0: ──●────●────●────●────H────</span><span style=\"color: #800080; text-decoration-color: #800080; font-weight: bold\">M</span><span style=\"color: #000080; text-decoration-color: #000080; font-weight: bold\">(q0)──</span>\n",
       "<span style=\"color: #000080; text-decoration-color: #000080; font-weight: bold\">      │    │    │    │</span>\n",
       "<span style=\"color: #000080; text-decoration-color: #000080; font-weight: bold\">q1: ──@────┼────┼────┼────────────────</span>\n",
       "<span style=\"color: #000080; text-decoration-color: #000080; font-weight: bold\">      │    │    │    │</span>\n",
       "<span style=\"color: #000080; text-decoration-color: #000080; font-weight: bold\">q2: ──┼────@────┼────┼────────────────</span>\n",
       "<span style=\"color: #000080; text-decoration-color: #000080; font-weight: bold\">      │    │    │    │</span>\n",
       "<span style=\"color: #000080; text-decoration-color: #000080; font-weight: bold\">q3: ──┼────┼────@────┼────────────────</span>\n",
       "<span style=\"color: #000080; text-decoration-color: #000080; font-weight: bold\">      │    │    │    │</span>\n",
       "<span style=\"color: #000080; text-decoration-color: #000080; font-weight: bold\">q4: ──┼────┼────┼────@────────────────</span>\n",
       "<span style=\"color: #000080; text-decoration-color: #000080; font-weight: bold\">      │    │    │    │</span>\n",
       "<span style=\"color: #000080; text-decoration-color: #000080; font-weight: bold\">q5: ──@────┼────┼────┼────────────────</span>\n",
       "<span style=\"color: #000080; text-decoration-color: #000080; font-weight: bold\">           │    │    │</span>\n",
       "<span style=\"color: #000080; text-decoration-color: #000080; font-weight: bold\">q6: ───────@────┼────┼────────────────</span>\n",
       "<span style=\"color: #000080; text-decoration-color: #000080; font-weight: bold\">                │    │</span>\n",
       "<span style=\"color: #000080; text-decoration-color: #000080; font-weight: bold\">q7: ────────────@────┼────────────────</span>\n",
       "<span style=\"color: #000080; text-decoration-color: #000080; font-weight: bold\">                     │</span>\n",
       "<span style=\"color: #000080; text-decoration-color: #000080; font-weight: bold\">q8: ─────────────────@────────────────</span>\n",
       "</pre>\n"
      ],
      "text/plain": [
       "q0: ──●────●────●────●────H────M(q0)──\n",
       "      │    │    │    │\n",
       "q1: ──@────┼────┼────┼────────────────\n",
       "      │    │    │    │\n",
       "q2: ──┼────@────┼────┼────────────────\n",
       "      │    │    │    │\n",
       "q3: ──┼────┼────@────┼────────────────\n",
       "      │    │    │    │\n",
       "q4: ──┼────┼────┼────@────────────────\n",
       "      │    │    │    │\n",
       "q5: ──@────┼────┼────┼────────────────\n",
       "           │    │    │\n",
       "q6: ───────@────┼────┼────────────────\n",
       "                │    │\n",
       "q7: ────────────@────┼────────────────\n",
       "                     │\n",
       "q8: ─────────────────@────────────────"
      ]
     },
     "execution_count": 53,
     "metadata": {},
     "output_type": "execute_result"
    }
   ],
   "source": [
    "# 搭建广义SWAP Test线路模型\n",
    "cir_SWAP_Test_gen = Circuit()\n",
    "cir_SWAP_Test_gen += SWAP.on([1, 5], 0)\n",
    "cir_SWAP_Test_gen += SWAP.on([2, 6], 0)\n",
    "cir_SWAP_Test_gen += SWAP.on([3, 7], 0)\n",
    "cir_SWAP_Test_gen += SWAP.on([4, 8], 0)\n",
    "cir_SWAP_Test_gen += H.on(0)\n",
    "cir_SWAP_Test_gen += Measure().on(0)\n",
    "cir_SWAP_Test_gen"
   ]
  },
  {
   "cell_type": "markdown",
   "metadata": {},
   "source": [
    "- 第三步：测量"
   ]
  },
  {
   "cell_type": "code",
   "execution_count": 54,
   "metadata": {},
   "outputs": [
    {
     "data": {
      "text/html": [
       "<pre style=\"white-space:pre;overflow-x:auto;line-height:normal;font-family:Menlo,'DejaVu Sans Mono',consolas,'Courier New',monospace\"></pre>\n"
      ],
      "text/plain": []
     },
     "metadata": {},
     "output_type": "display_data"
    },
    {
     "data": {
      "text/html": [
       "<pre style=\"white-space: pre;\"><span style=\"color: #808000; text-decoration-color: #808000\">shots: </span><span style=\"color: #008080; text-decoration-color: #008080; font-weight: bold\">5000</span>\n",
       "<span style=\"color: #808000; text-decoration-color: #808000\">Keys: q0│</span><span style=\"color: #008080; text-decoration-color: #008080; font-weight: bold\">0.00</span><span style=\"color: #808000; text-decoration-color: #808000\">   </span><span style=\"color: #008080; text-decoration-color: #008080; font-weight: bold\">0.193</span><span style=\"color: #808000; text-decoration-color: #808000\">       </span><span style=\"color: #008080; text-decoration-color: #008080; font-weight: bold\">0.385</span><span style=\"color: #808000; text-decoration-color: #808000\">       </span><span style=\"color: #008080; text-decoration-color: #008080; font-weight: bold\">0.578</span><span style=\"color: #808000; text-decoration-color: #808000\">       </span><span style=\"color: #008080; text-decoration-color: #008080; font-weight: bold\">0.771</span><span style=\"color: #808000; text-decoration-color: #808000\">       </span><span style=\"color: #008080; text-decoration-color: #008080; font-weight: bold\">0.963</span>\n",
       "<span style=\"color: #808000; text-decoration-color: #808000\">────────┼───────────┴───────────┴───────────┴───────────┴───────────┴</span>\n",
       "<span style=\"color: #808000; text-decoration-color: #808000\">       </span><span style=\"color: #008080; text-decoration-color: #008080; font-weight: bold\">0</span><span style=\"color: #808000; text-decoration-color: #808000\">│▓▓▓▓▓▓▓▓▓▓▓▓▓▓▓▓▓▓▓▓▓▓▓▓▓▓▓▓▓▓▓▓▓▓▓▓▓▓▓▓▓▓▓▓▓▓▓▓</span>\n",
       "<span style=\"color: #808000; text-decoration-color: #808000\">        │</span>\n",
       "<span style=\"color: #808000; text-decoration-color: #808000\">       </span><span style=\"color: #008080; text-decoration-color: #008080; font-weight: bold\">1</span><span style=\"color: #808000; text-decoration-color: #808000\">│▒▒▒▒▒▒▒▒▒▒▒▒▒▒▒</span>\n",
       "<span style=\"color: #808000; text-decoration-color: #808000\">        │</span>\n",
       "<span style=\"color: #808000; text-decoration-color: #808000; font-weight: bold\">{</span><span style=\"color: #008000; text-decoration-color: #008000\">&#x27;0&#x27;</span><span style=\"color: #808000; text-decoration-color: #808000\">: </span><span style=\"color: #008080; text-decoration-color: #008080; font-weight: bold\">3853</span><span style=\"color: #808000; text-decoration-color: #808000\">, </span><span style=\"color: #008000; text-decoration-color: #008000\">&#x27;1&#x27;</span><span style=\"color: #808000; text-decoration-color: #808000\">: </span><span style=\"color: #008080; text-decoration-color: #008080; font-weight: bold\">1147</span><span style=\"color: #808000; text-decoration-color: #808000; font-weight: bold\">}</span>\n",
       "</pre>\n"
      ],
      "text/plain": [
       "shots: 5000\n",
       "Keys: q0│0.00   0.193       0.385       0.578       0.771       0.963\n",
       "────────┼───────────┴───────────┴───────────┴───────────┴───────────┴\n",
       "       0│▓▓▓▓▓▓▓▓▓▓▓▓▓▓▓▓▓▓▓▓▓▓▓▓▓▓▓▓▓▓▓▓▓▓▓▓▓▓▓▓▓▓▓▓▓▓▓▓\n",
       "        │\n",
       "       1│▒▒▒▒▒▒▒▒▒▒▒▒▒▒▒\n",
       "        │\n",
       "{'0': 3853, '1': 1147}"
      ]
     },
     "execution_count": 54,
     "metadata": {},
     "output_type": "execute_result"
    }
   ],
   "source": [
    "res_16 = sim_16.sampling(cir_SWAP_Test_gen, shots=5000)\n",
    "res_16"
   ]
  },
  {
   "cell_type": "markdown",
   "metadata": {},
   "source": [
    "- 第四步：统计结果，得到欧几里得距离"
   ]
  },
  {
   "cell_type": "code",
   "execution_count": 55,
   "metadata": {},
   "outputs": [
    {
     "name": "stdout",
     "output_type": "stream",
     "text": [
      "Fig7中测量第一个量子比特，得到测量为0的频率为： 0.7706\n",
      "通过Fig7得到的内积<u|v>为： 0.7356629663099807\n"
     ]
    }
   ],
   "source": [
    "p_0_fig7 = 3853 / 5000\n",
    "inner_product_ST_16 = np.sqrt(2 * p_0_fig7 - 1)\n",
    "\n",
    "print(\"Fig7中测量第一个量子比特，得到测量为0的频率为：\", p_0_fig7)\n",
    "print(\"通过Fig7得到的内积<u|v>为：\", inner_product_ST_16)"
   ]
  },
  {
   "cell_type": "code",
   "execution_count": 56,
   "metadata": {},
   "outputs": [
    {
     "name": "stdout",
     "output_type": "stream",
     "text": [
      "通过量子计算的方法计算得到的内积的误差为： 1.0740827170041605 %\n"
     ]
    }
   ],
   "source": [
    "error_inner_16 = (inner_product_ST_16 - inner_product_16) / inner_product_16 * 100\n",
    "\n",
    "print(\"通过量子计算的方法计算得到的内积的误差为：\", error_inner_16, \"%\")"
   ]
  },
  {
   "cell_type": "code",
   "execution_count": 57,
   "metadata": {},
   "outputs": [
    {
     "name": "stdout",
     "output_type": "stream",
     "text": [
      "向量u和向量v的欧几里得距离等于 18.569267509592308\n"
     ]
    }
   ],
   "source": [
    "D_Euc_ST_16 = np.sqrt(length_u_16**2 + length_v_16**2 - 2 * length_u_16 * length_v_16 * inner_product_ST_16)\n",
    "\n",
    "print(\"向量u和向量v的欧几里得距离等于\", D_Euc_ST_16)"
   ]
  },
  {
   "cell_type": "code",
   "execution_count": 58,
   "metadata": {},
   "outputs": [
    {
     "name": "stdout",
     "output_type": "stream",
     "text": [
      "通过量子计算的方法计算得到的欧几里得的误差为： -1.444561130381489 %\n"
     ]
    }
   ],
   "source": [
    "error_D_Euc_16 = (D_Euc_ST_16 - D_Euc_16) / D_Euc_16 * 100\n",
    "\n",
    "print(\"通过量子计算的方法计算得到的欧几里得的误差为：\", error_D_Euc_16, \"%\")"
   ]
  },
  {
   "cell_type": "markdown",
   "metadata": {},
   "source": [
    "至此，我们通过MindQuantum成功验证（3）论文中的Fig7可以计算2个16维向量$\\vec{u}$和$\\vec{v}$的欧几里得距离（即$n=4$的情况）。"
   ]
  },
  {
   "cell_type": "markdown",
   "metadata": {},
   "source": [
    "### 通过MindQuantum验证（4）论文中的Fig8和Fig10的线路等价性；"
   ]
  },
  {
   "cell_type": "markdown",
   "metadata": {},
   "source": [
    "要验证线路等价，通常来说有两个方法：要么证明线路对应的酉矩阵相等，要么证明线路对应的真值表相等。\n",
    "\n",
    "在之前的介绍中，我已经用过第一种方法了，下面来介绍第二种方法——输出量子线路的真值表。\n",
    "\n",
    "先验证Fig8的线路等价性。"
   ]
  },
  {
   "cell_type": "markdown",
   "metadata": {},
   "source": [
    "![Fig_8.png](./Fig_8.png)"
   ]
  },
  {
   "cell_type": "markdown",
   "metadata": {},
   "source": [
    "首先，输出`Fredkin`门的真值表，输入如下代码："
   ]
  },
  {
   "cell_type": "code",
   "execution_count": 59,
   "metadata": {},
   "outputs": [
    {
     "name": "stdout",
     "output_type": "stream",
     "text": [
      "Input: ['000', '001', '010', '011', '100', '101', '110', '111']\n",
      "Initial state ==> Final state\n",
      "1¦000⟩ ==> 1¦000⟩  (no change)\n",
      "1¦001⟩ ==> 1¦001⟩  (no change)\n",
      "1¦010⟩ ==> 1¦010⟩  (no change)\n",
      "1¦011⟩ ==> 1¦101⟩  (Fradkin gate is activated)\n",
      "1¦100⟩ ==> 1¦100⟩  (no change)\n",
      "1¦101⟩ ==> 1¦011⟩  (Fradkin gate is activated)\n",
      "1¦110⟩ ==> 1¦110⟩  (no change)\n",
      "1¦111⟩ ==> 1¦111⟩  (no change)\n"
     ]
    }
   ],
   "source": [
    "all_inputs = []\n",
    "for q2 in ['0', '1']:\n",
    "    for q1 in ['0', '1']:\n",
    "        for q0 in ['0', '1']:\n",
    "            all_inputs.append(q2 + q1 + q0)\n",
    "\n",
    "print('Input:', all_inputs)\n",
    "\n",
    "print(\"Initial state ==> Final state\")\n",
    "\n",
    "for _input in all_inputs:\n",
    "    circuit = Circuit()\n",
    "\n",
    "    if _input[0] == '1':\n",
    "         circuit += X.on(2)\n",
    "    if _input[1] == '1': \n",
    "        circuit += X.on(1)\n",
    "    if _input[2] == '1': \n",
    "        circuit += X.on(0)\n",
    "\n",
    "    sim = Simulator('projectq', 3)\n",
    "\n",
    "    sim.apply_circuit(circuit)\n",
    "    initial = sim.get_qs(ket=True)\n",
    "\n",
    "    sim.reset()\n",
    "\n",
    "    # Fig8中的Fredkin门\n",
    "    circuit += SWAP.on([1, 2], 0)\n",
    "\n",
    "    sim.apply_circuit(circuit)\n",
    "    final = sim.get_qs(ket=True)\n",
    "\n",
    "    if initial == final: \n",
    "        print(initial, \"==>\", final, \" (no change)\")\n",
    "    else: \n",
    "        print(initial, \"==>\", final, \" (Fradkin gate is activated)\") "
   ]
  },
  {
   "cell_type": "markdown",
   "metadata": {},
   "source": [
    "然后，输出Fig8中等式右端的线路的真值表，输入如下代码："
   ]
  },
  {
   "cell_type": "code",
   "execution_count": 60,
   "metadata": {},
   "outputs": [
    {
     "name": "stdout",
     "output_type": "stream",
     "text": [
      "Input: ['000', '001', '010', '011', '100', '101', '110', '111']\n",
      "Initial state ==> Final state\n",
      "1¦000⟩ ==> 1¦000⟩  (no change)\n",
      "1¦001⟩ ==> 1¦001⟩  (no change)\n",
      "1¦010⟩ ==> 1¦010⟩  (no change)\n",
      "1¦011⟩ ==> 1¦101⟩  (construction of Fredkin is activated)\n",
      "1¦100⟩ ==> 1¦100⟩  (no change)\n",
      "1¦101⟩ ==> 1¦011⟩  (construction of Fredkin is activated)\n",
      "1¦110⟩ ==> 1¦110⟩  (no change)\n",
      "1¦111⟩ ==> 1¦111⟩  (no change)\n"
     ]
    }
   ],
   "source": [
    "all_inputs = []\n",
    "for q2 in ['0', '1']:\n",
    "    for q1 in ['0', '1']:\n",
    "        for q0 in ['0', '1']:\n",
    "            all_inputs.append(q2 + q1 + q0)\n",
    "\n",
    "print('Input:', all_inputs)\n",
    "\n",
    "print(\"Initial state ==> Final state\")\n",
    "\n",
    "for _input in all_inputs:\n",
    "    circuit = Circuit()\n",
    "\n",
    "    if _input[0] == '1':\n",
    "         circuit += X.on(2)\n",
    "    if _input[1] == '1': \n",
    "        circuit += X.on(1)\n",
    "    if _input[2] == '1': \n",
    "        circuit += X.on(0)\n",
    "\n",
    "    sim = Simulator('projectq', 3)\n",
    "\n",
    "    sim.apply_circuit(circuit)\n",
    "    initial = sim.get_qs(ket=True)\n",
    "\n",
    "    sim.reset()\n",
    "    \n",
    "    # Fig8中等式右端的量子线路\n",
    "    circuit += X.on(2, 1)\n",
    "    circuit += X.on(1, [0, 2])\n",
    "    circuit += X.on(2, 1)\n",
    "\n",
    "    sim.apply_circuit(circuit)\n",
    "    final = sim.get_qs(ket=True)\n",
    "\n",
    "    if initial == final: \n",
    "        print(initial, \"==>\", final, \" (no change)\")\n",
    "    else: \n",
    "        print(initial, \"==>\", final, \" (construction of Fredkin is activated)\") "
   ]
  },
  {
   "cell_type": "markdown",
   "metadata": {},
   "source": [
    "可以看到，2个线路对应的真值表，它们的作用效果，都是使得1¦011⟩ ==> 1¦101⟩以及1¦101⟩ ==> 1¦011⟩，而其它保持不变，因此可以得证Fig8的线路等价性。"
   ]
  },
  {
   "cell_type": "markdown",
   "metadata": {},
   "source": [
    "![Fig_10.png](./Fig_10.png)"
   ]
  },
  {
   "cell_type": "markdown",
   "metadata": {},
   "source": [
    "我用同样的方法输出Fig10中等式两端的线路的真值表。"
   ]
  },
  {
   "cell_type": "code",
   "execution_count": 61,
   "metadata": {},
   "outputs": [
    {
     "name": "stdout",
     "output_type": "stream",
     "text": [
      "Input: ['00', '01', '10', '11']\n",
      "Initial state ==> Final state\n",
      "1¦00⟩ ==> 1¦00⟩  (no change)\n",
      "1¦01⟩ ==> 1¦01⟩  (no change)\n",
      "1¦10⟩ ==> 1¦10⟩  (no change)\n",
      "1¦11⟩ ==> -1¦11⟩  (CZ is activated)\n"
     ]
    }
   ],
   "source": [
    "all_inputs = []\n",
    "for q1 in ['0', '1']:\n",
    "    for q0 in ['0', '1']:\n",
    "        all_inputs.append(q1 + q0)\n",
    "\n",
    "print('Input:', all_inputs)\n",
    "\n",
    "print(\"Initial state ==> Final state\")\n",
    "\n",
    "for _input in all_inputs:\n",
    "    circuit = Circuit()\n",
    "\n",
    "    if _input[0] == '1':\n",
    "        circuit += X.on(1)\n",
    "    if _input[1] == '1': \n",
    "        circuit += X.on(0)\n",
    "\n",
    "    sim2 = Simulator('projectq', 2)\n",
    "\n",
    "    sim2.apply_circuit(circuit)\n",
    "    initial = sim2.get_qs(ket=True)\n",
    "\n",
    "    sim2.reset()\n",
    "\n",
    "    # Fig10中的CZ门\n",
    "    circuit += Z.on(1, 0)\n",
    "\n",
    "    sim2.apply_circuit(circuit)\n",
    "    final = sim2.get_qs(ket=True)\n",
    "\n",
    "    if initial == final: \n",
    "        print(initial, \"==>\", final, \" (no change)\")\n",
    "    else: \n",
    "        print(initial, \"==>\", final, \" (CZ is activated)\")"
   ]
  },
  {
   "cell_type": "code",
   "execution_count": 62,
   "metadata": {},
   "outputs": [
    {
     "name": "stdout",
     "output_type": "stream",
     "text": [
      "Input: ['00', '01', '10', '11']\n",
      "Initial state ==> Final state\n",
      "1¦00⟩ ==> 1¦00⟩  (no change)\n",
      "1¦01⟩ ==> 1¦01⟩  (no change)\n",
      "1¦10⟩ ==> 1¦10⟩  (no change)\n",
      "1¦11⟩ ==> -1¦11⟩  (construction of CZ is activated)\n"
     ]
    }
   ],
   "source": [
    "all_inputs = []\n",
    "for q1 in ['0', '1']:\n",
    "    for q0 in ['0', '1']:\n",
    "        all_inputs.append(q1 + q0)\n",
    "\n",
    "print('Input:', all_inputs)\n",
    "\n",
    "print(\"Initial state ==> Final state\")\n",
    "\n",
    "for _input in all_inputs:\n",
    "    circuit = Circuit()\n",
    "\n",
    "    if _input[0] == '1':\n",
    "        circuit += X.on(1)\n",
    "    if _input[1] == '1': \n",
    "        circuit += X.on(0)\n",
    "\n",
    "    sim2 = Simulator('projectq', 2)\n",
    "\n",
    "    sim2.apply_circuit(circuit)\n",
    "    initial = sim2.get_qs(ket=True)\n",
    "\n",
    "    sim2.reset()\n",
    "\n",
    "    # Fig10中等式右端的量子线路\n",
    "    circuit += H.on(1)\n",
    "    circuit += X.on(1, 0)\n",
    "    circuit += H.on(1)\n",
    "    \n",
    "    sim2.apply_circuit(circuit)\n",
    "    final = sim2.get_qs(ket=True)\n",
    "\n",
    "    if initial == final: \n",
    "        print(initial, \"==>\", final, \" (no change)\")\n",
    "    else: \n",
    "        print(initial, \"==>\", final, \" (construction of CZ is activated)\")"
   ]
  },
  {
   "cell_type": "markdown",
   "metadata": {},
   "source": [
    "可以看到，2个线路对应的真值表，它们的作用效果，都是使得1¦11⟩ ==> -1¦11⟩，而其它保持不变，因此可以得证Fig10的线路等价性。"
   ]
  },
  {
   "cell_type": "markdown",
   "metadata": {},
   "source": [
    "至此，我们通过MindQuantum成功验证（4）论文中的Fig8和Fig10的线路等价性。"
   ]
  },
  {
   "cell_type": "markdown",
   "metadata": {},
   "source": [
    "### 通过MindQuantum验证（5）论文中的Fig11的线路正确性；"
   ]
  },
  {
   "cell_type": "markdown",
   "metadata": {},
   "source": [
    "![Fig_11.png](./Fig_11.png)"
   ]
  },
  {
   "cell_type": "code",
   "execution_count": 63,
   "metadata": {},
   "outputs": [
    {
     "data": {
      "text/html": [
       "<pre style=\"white-space:pre;overflow-x:auto;line-height:normal;font-family:Menlo,'DejaVu Sans Mono',consolas,'Courier New',monospace\"></pre>\n"
      ],
      "text/plain": []
     },
     "metadata": {},
     "output_type": "display_data"
    },
    {
     "data": {
      "text/html": [
       "<pre style=\"white-space: pre;\"><span style=\"color: #000080; text-decoration-color: #000080; font-weight: bold\">q0: ──X────Z──────────────────────‖──●──‖────────────●────────────────────────●────Z────X───────</span>\n",
       "<span style=\"color: #000080; text-decoration-color: #000080; font-weight: bold\">                                  ‖  │  ‖            │                        │</span>\n",
       "<span style=\"color: #000080; text-decoration-color: #000080; font-weight: bold\">q1: ────────────X────Z────────────‖──●──‖───────H────X────H─────────Z────X────┼──────────────●──</span>\n",
       "<span style=\"color: #000080; text-decoration-color: #000080; font-weight: bold\">                                  ‖  │  ‖                                     │              │</span>\n",
       "<span style=\"color: #000080; text-decoration-color: #000080; font-weight: bold\">q2: ──────────────────────X────Z──‖──X──‖──Z───────────────────X──────────────X──────────────X──</span>\n",
       "</pre>\n"
      ],
      "text/plain": [
       "q0: ──X────Z──────────────────────‖──●──‖────────────●────────────────────────●────Z────X───────\n",
       "                                  ‖  │  ‖            │                        │\n",
       "q1: ────────────X────Z────────────‖──●──‖───────H────X────H─────────Z────X────┼──────────────●──\n",
       "                                  ‖  │  ‖                                     │              │\n",
       "q2: ──────────────────────X────Z──‖──X──‖──Z───────────────────X──────────────X──────────────X──"
      ]
     },
     "execution_count": 63,
     "metadata": {},
     "output_type": "execute_result"
    }
   ],
   "source": [
    "# 为了便于复现，设定生成随机数的种子53，展示随机数全为1的情况，实际过程可以去掉该种子设定\n",
    "random.seed(53)\n",
    "\n",
    "Toffoli_encoder_fig11(2, [0, 1])"
   ]
  },
  {
   "cell_type": "code",
   "execution_count": 64,
   "metadata": {},
   "outputs": [
    {
     "data": {
      "text/html": [
       "<pre style=\"white-space:pre;overflow-x:auto;line-height:normal;font-family:Menlo,'DejaVu Sans Mono',consolas,'Courier New',monospace\"></pre>\n"
      ],
      "text/plain": []
     },
     "metadata": {},
     "output_type": "display_data"
    },
    {
     "data": {
      "text/html": [
       "<pre style=\"white-space: pre;\"><span style=\"color: #000080; text-decoration-color: #000080; font-weight: bold\">q0: ──●──</span>\n",
       "<span style=\"color: #000080; text-decoration-color: #000080; font-weight: bold\">      │</span>\n",
       "<span style=\"color: #000080; text-decoration-color: #000080; font-weight: bold\">q1: ──●──</span>\n",
       "<span style=\"color: #000080; text-decoration-color: #000080; font-weight: bold\">      │</span>\n",
       "<span style=\"color: #000080; text-decoration-color: #000080; font-weight: bold\">q2: ──X──</span>\n",
       "</pre>\n"
      ],
      "text/plain": [
       "q0: ──●──\n",
       "      │\n",
       "q1: ──●──\n",
       "      │\n",
       "q2: ──X──"
      ]
     },
     "execution_count": 64,
     "metadata": {},
     "output_type": "execute_result"
    }
   ],
   "source": [
    "# 搭建一个包含Toffoli门的量子线路\n",
    "circuit_Toffoli_fig11 = Circuit()\n",
    "circuit_Toffoli_fig11 += X.on(2, [0, 1])\n",
    "circuit_Toffoli_fig11"
   ]
  },
  {
   "cell_type": "code",
   "execution_count": 65,
   "metadata": {},
   "outputs": [
    {
     "name": "stdout",
     "output_type": "stream",
     "text": [
      "上述两个量子线路等价\n"
     ]
    }
   ],
   "source": [
    "# 验证上述两个量子线路等价\n",
    "random.seed(53)\n",
    "\n",
    "if np.allclose(Toffoli_encoder_fig11(2, [0, 1]).matrix(), circuit_Toffoli_fig11.matrix()) == True:\n",
    "    print(\"上述两个量子线路等价\")\n",
    "else:\n",
    "    print(\"上述两个量子线路不等\")"
   ]
  },
  {
   "cell_type": "markdown",
   "metadata": {},
   "source": [
    "更一般地，验证`Toffoli_encoder_fig11(2, [0, 1])`的量子线路与包含`Toffoli`门的量子线路的等价性。"
   ]
  },
  {
   "cell_type": "code",
   "execution_count": 66,
   "metadata": {},
   "outputs": [
    {
     "name": "stdout",
     "output_type": "stream",
     "text": [
      "Toffoli_encoder_fig11(2, [0, 1])的量子线路与包含Toffoli门的量子线路等价\n"
     ]
    }
   ],
   "source": [
    "# 初始化变量\n",
    "verify_Toffoli_fig11 = 0\n",
    "\n",
    "# 重复验证100次\n",
    "for i in range(100):\n",
    "    # Toffoli_encoder_fig11(2, [0, 1])没有设定seed，因此每次产生的随机数都不一样\n",
    "    if np.allclose(Toffoli_encoder_fig11(2, [0, 1]).matrix(), circuit_Toffoli_fig11.matrix()) == True:\n",
    "        verify_Toffoli_fig11 += 1\n",
    "    else:\n",
    "        verify_Toffoli_fig11 += 0\n",
    "\n",
    "if verify_Toffoli_fig11 == 100:\n",
    "    print(\"Toffoli_encoder_fig11(2, [0, 1])的量子线路与包含Toffoli门的量子线路等价\")\n",
    "else:\n",
    "    print(\"Toffoli_encoder_fig11(2, [0, 1])的量子线路与包含Toffoli门的量子线路不等\")"
   ]
  },
  {
   "cell_type": "markdown",
   "metadata": {},
   "source": [
    "也就是说，我们通过MindQuantum成功复现Fig11，并验证该线路的正确性。"
   ]
  },
  {
   "cell_type": "markdown",
   "metadata": {},
   "source": [
    "至此，我们通过MindQuantum验证（5）论文中的Fig11的线路正确性。"
   ]
  },
  {
   "cell_type": "markdown",
   "metadata": {},
   "source": [
    "### 通过MindQuantum验证（6）论文中的Fig12（$n=4$的情况），即在Fig7的基础上保密计算2个16维向量$\\vec{u}$和$\\vec{v}$的欧几里得距离。"
   ]
  },
  {
   "cell_type": "markdown",
   "metadata": {},
   "source": [
    "首先，我们先简单回顾一下Fig7中2个16维向量的$\\vec{u}$和$\\vec{v}$的相关已知条件。"
   ]
  },
  {
   "cell_type": "code",
   "execution_count": 67,
   "metadata": {},
   "outputs": [
    {
     "name": "stdout",
     "output_type": "stream",
     "text": [
      "向量u为 [ 5  6  8  6  1  6  4  8 10  1  8  5  1  0  8 10] ，向量v为 [ 8 10  8  2  6  8  1  8  3  5  3  6  7  9  0  8]\n"
     ]
    }
   ],
   "source": [
    "print(\"向量u为\", u_16, \"，向量v为\", v_16)"
   ]
  },
  {
   "cell_type": "code",
   "execution_count": 68,
   "metadata": {},
   "outputs": [
    {
     "name": "stdout",
     "output_type": "stream",
     "text": [
      "向量u的模长为 25.15949125081825 ，向量v的模长为 25.88435821108957\n"
     ]
    }
   ],
   "source": [
    "print(\"向量u的模长为\", length_u_16, \"，向量v的模长为\", length_v_16)"
   ]
  },
  {
   "cell_type": "code",
   "execution_count": 69,
   "metadata": {},
   "outputs": [
    {
     "name": "stdout",
     "output_type": "stream",
     "text": [
      "归一化后的向量u为 [0.19873216 0.23847859 0.31797145 0.23847859 0.03974643 0.23847859\n",
      " 0.15898573 0.31797145 0.39746432 0.03974643 0.31797145 0.19873216\n",
      " 0.03974643 0.         0.31797145 0.39746432] ，\n",
      "归一化后的向量v为 [0.30906696 0.3863337  0.30906696 0.07726674 0.23180022 0.30906696\n",
      " 0.03863337 0.30906696 0.11590011 0.19316685 0.11590011 0.23180022\n",
      " 0.27043359 0.34770033 0.         0.30906696]\n"
     ]
    }
   ],
   "source": [
    "print(\"归一化后的向量u为\", u_nor_16, \"，\\n归一化后的向量v为\", v_nor_16)"
   ]
  },
  {
   "cell_type": "code",
   "execution_count": 70,
   "metadata": {},
   "outputs": [
    {
     "name": "stdout",
     "output_type": "stream",
     "text": [
      "归一化的向量u和向量v的内积等于 0.7278453056751973\n"
     ]
    }
   ],
   "source": [
    "print(\"归一化的向量u和向量v的内积等于\", inner_product_16)"
   ]
  },
  {
   "cell_type": "code",
   "execution_count": 71,
   "metadata": {},
   "outputs": [
    {
     "name": "stdout",
     "output_type": "stream",
     "text": [
      "向量u和向量v的欧几里得距离等于 18.841443681416774\n"
     ]
    }
   ],
   "source": [
    "print(\"向量u和向量v的欧几里得距离等于\", D_Euc_16)"
   ]
  },
  {
   "cell_type": "markdown",
   "metadata": {},
   "source": [
    "![Fig_12.png](./Fig_12.png)"
   ]
  },
  {
   "cell_type": "markdown",
   "metadata": {},
   "source": [
    "- 第一步：初态制备"
   ]
  },
  {
   "cell_type": "code",
   "execution_count": 72,
   "metadata": {},
   "outputs": [
    {
     "name": "stdout",
     "output_type": "stream",
     "text": [
      "归一化的向量u和向量v的张量积为 [0.06142154 0.07370585 0.09827447 0.07370585 0.01228431 0.07370585\n",
      " 0.04913724 0.09827447 0.12284309 0.01228431 0.09827447 0.06142154\n",
      " 0.01228431 0.         0.09827447 0.12284309 0.07677693 0.09213232\n",
      " 0.12284309 0.09213232 0.01535539 0.09213232 0.06142154 0.12284309\n",
      " 0.15355386 0.01535539 0.12284309 0.07677693 0.01535539 0.\n",
      " 0.12284309 0.15355386 0.06142154 0.07370585 0.09827447 0.07370585\n",
      " 0.01228431 0.07370585 0.04913724 0.09827447 0.12284309 0.01228431\n",
      " 0.09827447 0.06142154 0.01228431 0.         0.09827447 0.12284309\n",
      " 0.01535539 0.01842646 0.02456862 0.01842646 0.00307108 0.01842646\n",
      " 0.01228431 0.02456862 0.03071077 0.00307108 0.02456862 0.01535539\n",
      " 0.00307108 0.         0.02456862 0.03071077 0.04606616 0.05527939\n",
      " 0.07370585 0.05527939 0.00921323 0.05527939 0.03685293 0.07370585\n",
      " 0.09213232 0.00921323 0.07370585 0.04606616 0.00921323 0.\n",
      " 0.07370585 0.09213232 0.06142154 0.07370585 0.09827447 0.07370585\n",
      " 0.01228431 0.07370585 0.04913724 0.09827447 0.12284309 0.01228431\n",
      " 0.09827447 0.06142154 0.01228431 0.         0.09827447 0.12284309\n",
      " 0.00767769 0.00921323 0.01228431 0.00921323 0.00153554 0.00921323\n",
      " 0.00614215 0.01228431 0.01535539 0.00153554 0.01228431 0.00767769\n",
      " 0.00153554 0.         0.01228431 0.01535539 0.06142154 0.07370585\n",
      " 0.09827447 0.07370585 0.01228431 0.07370585 0.04913724 0.09827447\n",
      " 0.12284309 0.01228431 0.09827447 0.06142154 0.01228431 0.\n",
      " 0.09827447 0.12284309 0.02303308 0.0276397  0.03685293 0.0276397\n",
      " 0.00460662 0.0276397  0.01842646 0.03685293 0.04606616 0.00460662\n",
      " 0.03685293 0.02303308 0.00460662 0.         0.03685293 0.04606616\n",
      " 0.03838847 0.04606616 0.06142154 0.04606616 0.00767769 0.04606616\n",
      " 0.03071077 0.06142154 0.07677693 0.00767769 0.06142154 0.03838847\n",
      " 0.00767769 0.         0.06142154 0.07677693 0.02303308 0.0276397\n",
      " 0.03685293 0.0276397  0.00460662 0.0276397  0.01842646 0.03685293\n",
      " 0.04606616 0.00460662 0.03685293 0.02303308 0.00460662 0.\n",
      " 0.03685293 0.04606616 0.04606616 0.05527939 0.07370585 0.05527939\n",
      " 0.00921323 0.05527939 0.03685293 0.07370585 0.09213232 0.00921323\n",
      " 0.07370585 0.04606616 0.00921323 0.         0.07370585 0.09213232\n",
      " 0.05374385 0.06449262 0.08599016 0.06449262 0.01074877 0.06449262\n",
      " 0.04299508 0.08599016 0.1074877  0.01074877 0.08599016 0.05374385\n",
      " 0.01074877 0.         0.08599016 0.1074877  0.06909924 0.08291909\n",
      " 0.11055878 0.08291909 0.01381985 0.08291909 0.05527939 0.11055878\n",
      " 0.13819848 0.01381985 0.11055878 0.06909924 0.01381985 0.\n",
      " 0.11055878 0.13819848 0.         0.         0.         0.\n",
      " 0.         0.         0.         0.         0.         0.\n",
      " 0.         0.         0.         0.         0.         0.\n",
      " 0.06142154 0.07370585 0.09827447 0.07370585 0.01228431 0.07370585\n",
      " 0.04913724 0.09827447 0.12284309 0.01228431 0.09827447 0.06142154\n",
      " 0.01228431 0.         0.09827447 0.12284309]\n"
     ]
    }
   ],
   "source": [
    "# 归一化的向量u和向量v的张量积\n",
    "# 注意，越靠上的量子比特，做张量积的时候越靠右，因为MindQuantum的读取顺序是从右往左\n",
    "pre_fig12 = np.kron(v_nor_16, u_nor_16)\n",
    "\n",
    "print(\"归一化的向量u和向量v的张量积为\", pre_fig12)"
   ]
  },
  {
   "cell_type": "code",
   "execution_count": 73,
   "metadata": {},
   "outputs": [
    {
     "name": "stdout",
     "output_type": "stream",
     "text": [
      "|+>态对应的向量为 [0.70710678 0.70710678]\n"
     ]
    }
   ],
   "source": [
    "# |+>态对应的向量\n",
    "state_plus = 1 / np.sqrt(2) * np.array([1, 1])\n",
    "\n",
    "print(\"|+>态对应的向量为\", state_plus)"
   ]
  },
  {
   "cell_type": "code",
   "execution_count": 74,
   "metadata": {},
   "outputs": [
    {
     "name": "stdout",
     "output_type": "stream",
     "text": [
      "前半部分的初态对应的向量为 [0.04343159 0.04343159 0.05211791 0.05211791 0.06949055 0.06949055\n",
      " 0.05211791 0.05211791 0.00868632 0.00868632 0.05211791 0.05211791\n",
      " 0.03474527 0.03474527 0.06949055 0.06949055 0.08686318 0.08686318\n",
      " 0.00868632 0.00868632 0.06949055 0.06949055 0.04343159 0.04343159\n",
      " 0.00868632 0.00868632 0.         0.         0.06949055 0.06949055\n",
      " 0.08686318 0.08686318 0.05428949 0.05428949 0.06514739 0.06514739\n",
      " 0.08686318 0.08686318 0.06514739 0.06514739 0.0108579  0.0108579\n",
      " 0.06514739 0.06514739 0.04343159 0.04343159 0.08686318 0.08686318\n",
      " 0.10857898 0.10857898 0.0108579  0.0108579  0.08686318 0.08686318\n",
      " 0.05428949 0.05428949 0.0108579  0.0108579  0.         0.\n",
      " 0.08686318 0.08686318 0.10857898 0.10857898 0.04343159 0.04343159\n",
      " 0.05211791 0.05211791 0.06949055 0.06949055 0.05211791 0.05211791\n",
      " 0.00868632 0.00868632 0.05211791 0.05211791 0.03474527 0.03474527\n",
      " 0.06949055 0.06949055 0.08686318 0.08686318 0.00868632 0.00868632\n",
      " 0.06949055 0.06949055 0.04343159 0.04343159 0.00868632 0.00868632\n",
      " 0.         0.         0.06949055 0.06949055 0.08686318 0.08686318\n",
      " 0.0108579  0.0108579  0.01302948 0.01302948 0.01737264 0.01737264\n",
      " 0.01302948 0.01302948 0.00217158 0.00217158 0.01302948 0.01302948\n",
      " 0.00868632 0.00868632 0.01737264 0.01737264 0.0217158  0.0217158\n",
      " 0.00217158 0.00217158 0.01737264 0.01737264 0.0108579  0.0108579\n",
      " 0.00217158 0.00217158 0.         0.         0.01737264 0.01737264\n",
      " 0.0217158  0.0217158  0.03257369 0.03257369 0.03908843 0.03908843\n",
      " 0.05211791 0.05211791 0.03908843 0.03908843 0.00651474 0.00651474\n",
      " 0.03908843 0.03908843 0.02605895 0.02605895 0.05211791 0.05211791\n",
      " 0.06514739 0.06514739 0.00651474 0.00651474 0.05211791 0.05211791\n",
      " 0.03257369 0.03257369 0.00651474 0.00651474 0.         0.\n",
      " 0.05211791 0.05211791 0.06514739 0.06514739 0.04343159 0.04343159\n",
      " 0.05211791 0.05211791 0.06949055 0.06949055 0.05211791 0.05211791\n",
      " 0.00868632 0.00868632 0.05211791 0.05211791 0.03474527 0.03474527\n",
      " 0.06949055 0.06949055 0.08686318 0.08686318 0.00868632 0.00868632\n",
      " 0.06949055 0.06949055 0.04343159 0.04343159 0.00868632 0.00868632\n",
      " 0.         0.         0.06949055 0.06949055 0.08686318 0.08686318\n",
      " 0.00542895 0.00542895 0.00651474 0.00651474 0.00868632 0.00868632\n",
      " 0.00651474 0.00651474 0.00108579 0.00108579 0.00651474 0.00651474\n",
      " 0.00434316 0.00434316 0.00868632 0.00868632 0.0108579  0.0108579\n",
      " 0.00108579 0.00108579 0.00868632 0.00868632 0.00542895 0.00542895\n",
      " 0.00108579 0.00108579 0.         0.         0.00868632 0.00868632\n",
      " 0.0108579  0.0108579  0.04343159 0.04343159 0.05211791 0.05211791\n",
      " 0.06949055 0.06949055 0.05211791 0.05211791 0.00868632 0.00868632\n",
      " 0.05211791 0.05211791 0.03474527 0.03474527 0.06949055 0.06949055\n",
      " 0.08686318 0.08686318 0.00868632 0.00868632 0.06949055 0.06949055\n",
      " 0.04343159 0.04343159 0.00868632 0.00868632 0.         0.\n",
      " 0.06949055 0.06949055 0.08686318 0.08686318 0.01628685 0.01628685\n",
      " 0.01954422 0.01954422 0.02605895 0.02605895 0.01954422 0.01954422\n",
      " 0.00325737 0.00325737 0.01954422 0.01954422 0.01302948 0.01302948\n",
      " 0.02605895 0.02605895 0.03257369 0.03257369 0.00325737 0.00325737\n",
      " 0.02605895 0.02605895 0.01628685 0.01628685 0.00325737 0.00325737\n",
      " 0.         0.         0.02605895 0.02605895 0.03257369 0.03257369\n",
      " 0.02714474 0.02714474 0.03257369 0.03257369 0.04343159 0.04343159\n",
      " 0.03257369 0.03257369 0.00542895 0.00542895 0.03257369 0.03257369\n",
      " 0.0217158  0.0217158  0.04343159 0.04343159 0.05428949 0.05428949\n",
      " 0.00542895 0.00542895 0.04343159 0.04343159 0.02714474 0.02714474\n",
      " 0.00542895 0.00542895 0.         0.         0.04343159 0.04343159\n",
      " 0.05428949 0.05428949 0.01628685 0.01628685 0.01954422 0.01954422\n",
      " 0.02605895 0.02605895 0.01954422 0.01954422 0.00325737 0.00325737\n",
      " 0.01954422 0.01954422 0.01302948 0.01302948 0.02605895 0.02605895\n",
      " 0.03257369 0.03257369 0.00325737 0.00325737 0.02605895 0.02605895\n",
      " 0.01628685 0.01628685 0.00325737 0.00325737 0.         0.\n",
      " 0.02605895 0.02605895 0.03257369 0.03257369 0.03257369 0.03257369\n",
      " 0.03908843 0.03908843 0.05211791 0.05211791 0.03908843 0.03908843\n",
      " 0.00651474 0.00651474 0.03908843 0.03908843 0.02605895 0.02605895\n",
      " 0.05211791 0.05211791 0.06514739 0.06514739 0.00651474 0.00651474\n",
      " 0.05211791 0.05211791 0.03257369 0.03257369 0.00651474 0.00651474\n",
      " 0.         0.         0.05211791 0.05211791 0.06514739 0.06514739\n",
      " 0.03800264 0.03800264 0.04560317 0.04560317 0.06080423 0.06080423\n",
      " 0.04560317 0.04560317 0.00760053 0.00760053 0.04560317 0.04560317\n",
      " 0.03040211 0.03040211 0.06080423 0.06080423 0.07600528 0.07600528\n",
      " 0.00760053 0.00760053 0.06080423 0.06080423 0.03800264 0.03800264\n",
      " 0.00760053 0.00760053 0.         0.         0.06080423 0.06080423\n",
      " 0.07600528 0.07600528 0.04886054 0.04886054 0.05863265 0.05863265\n",
      " 0.07817686 0.07817686 0.05863265 0.05863265 0.00977211 0.00977211\n",
      " 0.05863265 0.05863265 0.03908843 0.03908843 0.07817686 0.07817686\n",
      " 0.09772108 0.09772108 0.00977211 0.00977211 0.07817686 0.07817686\n",
      " 0.04886054 0.04886054 0.00977211 0.00977211 0.         0.\n",
      " 0.07817686 0.07817686 0.09772108 0.09772108 0.         0.\n",
      " 0.         0.         0.         0.         0.         0.\n",
      " 0.         0.         0.         0.         0.         0.\n",
      " 0.         0.         0.         0.         0.         0.\n",
      " 0.         0.         0.         0.         0.         0.\n",
      " 0.         0.         0.         0.         0.         0.\n",
      " 0.04343159 0.04343159 0.05211791 0.05211791 0.06949055 0.06949055\n",
      " 0.05211791 0.05211791 0.00868632 0.00868632 0.05211791 0.05211791\n",
      " 0.03474527 0.03474527 0.06949055 0.06949055 0.08686318 0.08686318\n",
      " 0.00868632 0.00868632 0.06949055 0.06949055 0.04343159 0.04343159\n",
      " 0.00868632 0.00868632 0.         0.         0.06949055 0.06949055\n",
      " 0.08686318 0.08686318]\n"
     ]
    }
   ],
   "source": [
    "# 制备初态，分两部分，前半部分\n",
    "initial_state_first = np.kron(pre_fig12, state_plus)\n",
    "\n",
    "print(\"前半部分的初态对应的向量为\", initial_state_first)"
   ]
  },
  {
   "cell_type": "code",
   "execution_count": 75,
   "metadata": {},
   "outputs": [
    {
     "name": "stdout",
     "output_type": "stream",
     "text": [
      "|0>态对应的向量为 [1 0]\n"
     ]
    }
   ],
   "source": [
    "# |0>态对应的向量\n",
    "state_0 = np.array([1, 0])\n",
    "\n",
    "print(\"|0>态对应的向量为\", state_0)"
   ]
  },
  {
   "cell_type": "code",
   "execution_count": 76,
   "metadata": {},
   "outputs": [
    {
     "name": "stdout",
     "output_type": "stream",
     "text": [
      "后半部分的初态对应的向量为 [1 0 0 0 0 0 0 0]\n"
     ]
    }
   ],
   "source": [
    "# 制备初态，分两部分，后半部分，辅助比特\n",
    "initial_state_second = np.kron(np.kron(state_0, state_0), state_0)\n",
    "\n",
    "print(\"后半部分的初态对应的向量为\", initial_state_second)"
   ]
  },
  {
   "cell_type": "code",
   "execution_count": 77,
   "metadata": {},
   "outputs": [
    {
     "name": "stdout",
     "output_type": "stream",
     "text": [
      "完整的初态对应的向量为 [0.04343159 0.04343159 0.05211791 ... 0.         0.         0.        ]\n"
     ]
    }
   ],
   "source": [
    "initial_state_fig12 = np.kron(initial_state_second, initial_state_first)\n",
    "\n",
    "print(\"完整的初态对应的向量为\", initial_state_fig12)"
   ]
  },
  {
   "cell_type": "code",
   "execution_count": 78,
   "metadata": {},
   "outputs": [
    {
     "name": "stdout",
     "output_type": "stream",
     "text": [
      "0.04343159082681246¦000000000000⟩\n",
      "0.04343159082681246¦000000000001⟩\n",
      "0.052117908992174944¦000000000010⟩\n",
      "0.052117908992174944¦000000000011⟩\n",
      "0.06949054532289994¦000000000100⟩\n",
      "0.06949054532289994¦000000000101⟩\n",
      "0.052117908992174944¦000000000110⟩\n",
      "0.052117908992174944¦000000000111⟩\n",
      "0.008686318165362493¦000000001000⟩\n",
      "0.008686318165362493¦000000001001⟩\n",
      "0.052117908992174944¦000000001010⟩\n",
      "0.052117908992174944¦000000001011⟩\n",
      "0.03474527266144997¦000000001100⟩\n",
      "0.03474527266144997¦000000001101⟩\n",
      "0.06949054532289994¦000000001110⟩\n",
      "0.06949054532289994¦000000001111⟩\n",
      "0.08686318165362492¦000000010000⟩\n",
      "0.08686318165362492¦000000010001⟩\n",
      "0.008686318165362493¦000000010010⟩\n",
      "0.008686318165362493¦000000010011⟩\n",
      "0.06949054532289994¦000000010100⟩\n",
      "0.06949054532289994¦000000010101⟩\n",
      "0.04343159082681246¦000000010110⟩\n",
      "0.04343159082681246¦000000010111⟩\n",
      "0.008686318165362493¦000000011000⟩\n",
      "0.008686318165362493¦000000011001⟩\n",
      "0.06949054532289994¦000000011100⟩\n",
      "0.06949054532289994¦000000011101⟩\n",
      "0.08686318165362492¦000000011110⟩\n",
      "0.08686318165362492¦000000011111⟩\n",
      "0.05428948853351557¦000000100000⟩\n",
      "0.05428948853351557¦000000100001⟩\n",
      "0.06514738624021868¦000000100010⟩\n",
      "0.06514738624021868¦000000100011⟩\n",
      "0.08686318165362492¦000000100100⟩\n",
      "0.08686318165362492¦000000100101⟩\n",
      "0.06514738624021868¦000000100110⟩\n",
      "0.06514738624021868¦000000100111⟩\n",
      "0.010857897706703114¦000000101000⟩\n",
      "0.010857897706703114¦000000101001⟩\n",
      "0.06514738624021868¦000000101010⟩\n",
      "0.06514738624021868¦000000101011⟩\n",
      "0.04343159082681246¦000000101100⟩\n",
      "0.04343159082681246¦000000101101⟩\n",
      "0.08686318165362492¦000000101110⟩\n",
      "0.08686318165362492¦000000101111⟩\n",
      "0.10857897706703114¦000000110000⟩\n",
      "0.10857897706703114¦000000110001⟩\n",
      "0.010857897706703114¦000000110010⟩\n",
      "0.010857897706703114¦000000110011⟩\n",
      "0.08686318165362492¦000000110100⟩\n",
      "0.08686318165362492¦000000110101⟩\n",
      "0.05428948853351557¦000000110110⟩\n",
      "0.05428948853351557¦000000110111⟩\n",
      "0.010857897706703114¦000000111000⟩\n",
      "0.010857897706703114¦000000111001⟩\n",
      "0.08686318165362492¦000000111100⟩\n",
      "0.08686318165362492¦000000111101⟩\n",
      "0.10857897706703114¦000000111110⟩\n",
      "0.10857897706703114¦000000111111⟩\n",
      "0.04343159082681246¦000001000000⟩\n",
      "0.04343159082681246¦000001000001⟩\n",
      "0.052117908992174944¦000001000010⟩\n",
      "0.052117908992174944¦000001000011⟩\n",
      "0.06949054532289994¦000001000100⟩\n",
      "0.06949054532289994¦000001000101⟩\n",
      "0.052117908992174944¦000001000110⟩\n",
      "0.052117908992174944¦000001000111⟩\n",
      "0.008686318165362493¦000001001000⟩\n",
      "0.008686318165362493¦000001001001⟩\n",
      "0.052117908992174944¦000001001010⟩\n",
      "0.052117908992174944¦000001001011⟩\n",
      "0.03474527266144997¦000001001100⟩\n",
      "0.03474527266144997¦000001001101⟩\n",
      "0.06949054532289994¦000001001110⟩\n",
      "0.06949054532289994¦000001001111⟩\n",
      "0.08686318165362492¦000001010000⟩\n",
      "0.08686318165362492¦000001010001⟩\n",
      "0.008686318165362493¦000001010010⟩\n",
      "0.008686318165362493¦000001010011⟩\n",
      "0.06949054532289994¦000001010100⟩\n",
      "0.06949054532289994¦000001010101⟩\n",
      "0.04343159082681246¦000001010110⟩\n",
      "0.04343159082681246¦000001010111⟩\n",
      "0.008686318165362493¦000001011000⟩\n",
      "0.008686318165362493¦000001011001⟩\n",
      "0.06949054532289994¦000001011100⟩\n",
      "0.06949054532289994¦000001011101⟩\n",
      "0.08686318165362492¦000001011110⟩\n",
      "0.08686318165362492¦000001011111⟩\n",
      "0.010857897706703114¦000001100000⟩\n",
      "0.010857897706703114¦000001100001⟩\n",
      "0.013029477248043736¦000001100010⟩\n",
      "0.013029477248043736¦000001100011⟩\n",
      "0.017372636330724986¦000001100100⟩\n",
      "0.017372636330724986¦000001100101⟩\n",
      "0.013029477248043736¦000001100110⟩\n",
      "0.013029477248043736¦000001100111⟩\n",
      "0.0021715795413406232¦000001101000⟩\n",
      "0.0021715795413406232¦000001101001⟩\n",
      "0.013029477248043736¦000001101010⟩\n",
      "0.013029477248043736¦000001101011⟩\n",
      "0.008686318165362493¦000001101100⟩\n",
      "0.008686318165362493¦000001101101⟩\n",
      "0.017372636330724986¦000001101110⟩\n",
      "0.017372636330724986¦000001101111⟩\n",
      "0.02171579541340623¦000001110000⟩\n",
      "0.02171579541340623¦000001110001⟩\n",
      "0.0021715795413406232¦000001110010⟩\n",
      "0.0021715795413406232¦000001110011⟩\n",
      "0.017372636330724986¦000001110100⟩\n",
      "0.017372636330724986¦000001110101⟩\n",
      "0.010857897706703114¦000001110110⟩\n",
      "0.010857897706703114¦000001110111⟩\n",
      "0.0021715795413406232¦000001111000⟩\n",
      "0.0021715795413406232¦000001111001⟩\n",
      "0.017372636330724986¦000001111100⟩\n",
      "0.017372636330724986¦000001111101⟩\n",
      "0.02171579541340623¦000001111110⟩\n",
      "0.02171579541340623¦000001111111⟩\n",
      "0.03257369312010934¦000010000000⟩\n",
      "0.03257369312010934¦000010000001⟩\n",
      "0.03908843174413121¦000010000010⟩\n",
      "0.03908843174413121¦000010000011⟩\n",
      "0.05211790899217495¦000010000100⟩\n",
      "0.05211790899217495¦000010000101⟩\n",
      "0.03908843174413121¦000010000110⟩\n",
      "0.03908843174413121¦000010000111⟩\n",
      "0.006514738624021869¦000010001000⟩\n",
      "0.006514738624021869¦000010001001⟩\n",
      "0.03908843174413121¦000010001010⟩\n",
      "0.03908843174413121¦000010001011⟩\n",
      "0.026058954496087475¦000010001100⟩\n",
      "0.026058954496087475¦000010001101⟩\n",
      "0.05211790899217495¦000010001110⟩\n",
      "0.05211790899217495¦000010001111⟩\n",
      "0.06514738624021868¦000010010000⟩\n",
      "0.06514738624021868¦000010010001⟩\n",
      "0.006514738624021869¦000010010010⟩\n",
      "0.006514738624021869¦000010010011⟩\n",
      "0.05211790899217495¦000010010100⟩\n",
      "0.05211790899217495¦000010010101⟩\n",
      "0.03257369312010934¦000010010110⟩\n",
      "0.03257369312010934¦000010010111⟩\n",
      "0.006514738624021869¦000010011000⟩\n",
      "0.006514738624021869¦000010011001⟩\n",
      "0.05211790899217495¦000010011100⟩\n",
      "0.05211790899217495¦000010011101⟩\n",
      "0.06514738624021868¦000010011110⟩\n",
      "0.06514738624021868¦000010011111⟩\n",
      "0.04343159082681246¦000010100000⟩\n",
      "0.04343159082681246¦000010100001⟩\n",
      "0.052117908992174944¦000010100010⟩\n",
      "0.052117908992174944¦000010100011⟩\n",
      "0.06949054532289994¦000010100100⟩\n",
      "0.06949054532289994¦000010100101⟩\n",
      "0.052117908992174944¦000010100110⟩\n",
      "0.052117908992174944¦000010100111⟩\n",
      "0.008686318165362493¦000010101000⟩\n",
      "0.008686318165362493¦000010101001⟩\n",
      "0.052117908992174944¦000010101010⟩\n",
      "0.052117908992174944¦000010101011⟩\n",
      "0.03474527266144997¦000010101100⟩\n",
      "0.03474527266144997¦000010101101⟩\n",
      "0.06949054532289994¦000010101110⟩\n",
      "0.06949054532289994¦000010101111⟩\n",
      "0.08686318165362492¦000010110000⟩\n",
      "0.08686318165362492¦000010110001⟩\n",
      "0.008686318165362493¦000010110010⟩\n",
      "0.008686318165362493¦000010110011⟩\n",
      "0.06949054532289994¦000010110100⟩\n",
      "0.06949054532289994¦000010110101⟩\n",
      "0.04343159082681246¦000010110110⟩\n",
      "0.04343159082681246¦000010110111⟩\n",
      "0.008686318165362493¦000010111000⟩\n",
      "0.008686318165362493¦000010111001⟩\n",
      "0.06949054532289994¦000010111100⟩\n",
      "0.06949054532289994¦000010111101⟩\n",
      "0.08686318165362492¦000010111110⟩\n",
      "0.08686318165362492¦000010111111⟩\n",
      "0.005428948853351557¦000011000000⟩\n",
      "0.005428948853351557¦000011000001⟩\n",
      "0.006514738624021868¦000011000010⟩\n",
      "0.006514738624021868¦000011000011⟩\n",
      "0.008686318165362493¦000011000100⟩\n",
      "0.008686318165362493¦000011000101⟩\n",
      "0.006514738624021868¦000011000110⟩\n",
      "0.006514738624021868¦000011000111⟩\n",
      "0.0010857897706703116¦000011001000⟩\n",
      "0.0010857897706703116¦000011001001⟩\n",
      "0.006514738624021868¦000011001010⟩\n",
      "0.006514738624021868¦000011001011⟩\n",
      "0.0043431590826812465¦000011001100⟩\n",
      "0.0043431590826812465¦000011001101⟩\n",
      "0.008686318165362493¦000011001110⟩\n",
      "0.008686318165362493¦000011001111⟩\n",
      "0.010857897706703114¦000011010000⟩\n",
      "0.010857897706703114¦000011010001⟩\n",
      "0.0010857897706703116¦000011010010⟩\n",
      "0.0010857897706703116¦000011010011⟩\n",
      "0.008686318165362493¦000011010100⟩\n",
      "0.008686318165362493¦000011010101⟩\n",
      "0.005428948853351557¦000011010110⟩\n",
      "0.005428948853351557¦000011010111⟩\n",
      "0.0010857897706703116¦000011011000⟩\n",
      "0.0010857897706703116¦000011011001⟩\n",
      "0.008686318165362493¦000011011100⟩\n",
      "0.008686318165362493¦000011011101⟩\n",
      "0.010857897706703114¦000011011110⟩\n",
      "0.010857897706703114¦000011011111⟩\n",
      "0.04343159082681246¦000011100000⟩\n",
      "0.04343159082681246¦000011100001⟩\n",
      "0.052117908992174944¦000011100010⟩\n",
      "0.052117908992174944¦000011100011⟩\n",
      "0.06949054532289994¦000011100100⟩\n",
      "0.06949054532289994¦000011100101⟩\n",
      "0.052117908992174944¦000011100110⟩\n",
      "0.052117908992174944¦000011100111⟩\n",
      "0.008686318165362493¦000011101000⟩\n",
      "0.008686318165362493¦000011101001⟩\n",
      "0.052117908992174944¦000011101010⟩\n",
      "0.052117908992174944¦000011101011⟩\n",
      "0.03474527266144997¦000011101100⟩\n",
      "0.03474527266144997¦000011101101⟩\n",
      "0.06949054532289994¦000011101110⟩\n",
      "0.06949054532289994¦000011101111⟩\n",
      "0.08686318165362492¦000011110000⟩\n",
      "0.08686318165362492¦000011110001⟩\n",
      "0.008686318165362493¦000011110010⟩\n",
      "0.008686318165362493¦000011110011⟩\n",
      "0.06949054532289994¦000011110100⟩\n",
      "0.06949054532289994¦000011110101⟩\n",
      "0.04343159082681246¦000011110110⟩\n",
      "0.04343159082681246¦000011110111⟩\n",
      "0.008686318165362493¦000011111000⟩\n",
      "0.008686318165362493¦000011111001⟩\n",
      "0.06949054532289994¦000011111100⟩\n",
      "0.06949054532289994¦000011111101⟩\n",
      "0.08686318165362492¦000011111110⟩\n",
      "0.08686318165362492¦000011111111⟩\n",
      "0.01628684656005467¦000100000000⟩\n",
      "0.01628684656005467¦000100000001⟩\n",
      "0.019544215872065604¦000100000010⟩\n",
      "0.019544215872065604¦000100000011⟩\n",
      "0.026058954496087475¦000100000100⟩\n",
      "0.026058954496087475¦000100000101⟩\n",
      "0.019544215872065604¦000100000110⟩\n",
      "0.019544215872065604¦000100000111⟩\n",
      "0.0032573693120109344¦000100001000⟩\n",
      "0.0032573693120109344¦000100001001⟩\n",
      "0.019544215872065604¦000100001010⟩\n",
      "0.019544215872065604¦000100001011⟩\n",
      "0.013029477248043738¦000100001100⟩\n",
      "0.013029477248043738¦000100001101⟩\n",
      "0.026058954496087475¦000100001110⟩\n",
      "0.026058954496087475¦000100001111⟩\n",
      "0.03257369312010934¦000100010000⟩\n",
      "0.03257369312010934¦000100010001⟩\n",
      "0.0032573693120109344¦000100010010⟩\n",
      "0.0032573693120109344¦000100010011⟩\n",
      "0.026058954496087475¦000100010100⟩\n",
      "0.026058954496087475¦000100010101⟩\n",
      "0.01628684656005467¦000100010110⟩\n",
      "0.01628684656005467¦000100010111⟩\n",
      "0.0032573693120109344¦000100011000⟩\n",
      "0.0032573693120109344¦000100011001⟩\n",
      "0.026058954496087475¦000100011100⟩\n",
      "0.026058954496087475¦000100011101⟩\n",
      "0.03257369312010934¦000100011110⟩\n",
      "0.03257369312010934¦000100011111⟩\n",
      "0.027144744266757784¦000100100000⟩\n",
      "0.027144744266757784¦000100100001⟩\n",
      "0.03257369312010934¦000100100010⟩\n",
      "0.03257369312010934¦000100100011⟩\n",
      "0.04343159082681246¦000100100100⟩\n",
      "0.04343159082681246¦000100100101⟩\n",
      "0.03257369312010934¦000100100110⟩\n",
      "0.03257369312010934¦000100100111⟩\n",
      "0.005428948853351557¦000100101000⟩\n",
      "0.005428948853351557¦000100101001⟩\n",
      "0.03257369312010934¦000100101010⟩\n",
      "0.03257369312010934¦000100101011⟩\n",
      "0.02171579541340623¦000100101100⟩\n",
      "0.02171579541340623¦000100101101⟩\n",
      "0.04343159082681246¦000100101110⟩\n",
      "0.04343159082681246¦000100101111⟩\n",
      "0.05428948853351557¦000100110000⟩\n",
      "0.05428948853351557¦000100110001⟩\n",
      "0.005428948853351557¦000100110010⟩\n",
      "0.005428948853351557¦000100110011⟩\n",
      "0.04343159082681246¦000100110100⟩\n",
      "0.04343159082681246¦000100110101⟩\n",
      "0.027144744266757784¦000100110110⟩\n",
      "0.027144744266757784¦000100110111⟩\n",
      "0.005428948853351557¦000100111000⟩\n",
      "0.005428948853351557¦000100111001⟩\n",
      "0.04343159082681246¦000100111100⟩\n",
      "0.04343159082681246¦000100111101⟩\n",
      "0.05428948853351557¦000100111110⟩\n",
      "0.05428948853351557¦000100111111⟩\n",
      "0.01628684656005467¦000101000000⟩\n",
      "0.01628684656005467¦000101000001⟩\n",
      "0.019544215872065604¦000101000010⟩\n",
      "0.019544215872065604¦000101000011⟩\n",
      "0.026058954496087475¦000101000100⟩\n",
      "0.026058954496087475¦000101000101⟩\n",
      "0.019544215872065604¦000101000110⟩\n",
      "0.019544215872065604¦000101000111⟩\n",
      "0.0032573693120109344¦000101001000⟩\n",
      "0.0032573693120109344¦000101001001⟩\n",
      "0.019544215872065604¦000101001010⟩\n",
      "0.019544215872065604¦000101001011⟩\n",
      "0.013029477248043738¦000101001100⟩\n",
      "0.013029477248043738¦000101001101⟩\n",
      "0.026058954496087475¦000101001110⟩\n",
      "0.026058954496087475¦000101001111⟩\n",
      "0.03257369312010934¦000101010000⟩\n",
      "0.03257369312010934¦000101010001⟩\n",
      "0.0032573693120109344¦000101010010⟩\n",
      "0.0032573693120109344¦000101010011⟩\n",
      "0.026058954496087475¦000101010100⟩\n",
      "0.026058954496087475¦000101010101⟩\n",
      "0.01628684656005467¦000101010110⟩\n",
      "0.01628684656005467¦000101010111⟩\n",
      "0.0032573693120109344¦000101011000⟩\n",
      "0.0032573693120109344¦000101011001⟩\n",
      "0.026058954496087475¦000101011100⟩\n",
      "0.026058954496087475¦000101011101⟩\n",
      "0.03257369312010934¦000101011110⟩\n",
      "0.03257369312010934¦000101011111⟩\n",
      "0.03257369312010934¦000101100000⟩\n",
      "0.03257369312010934¦000101100001⟩\n",
      "0.03908843174413121¦000101100010⟩\n",
      "0.03908843174413121¦000101100011⟩\n",
      "0.05211790899217495¦000101100100⟩\n",
      "0.05211790899217495¦000101100101⟩\n",
      "0.03908843174413121¦000101100110⟩\n",
      "0.03908843174413121¦000101100111⟩\n",
      "0.006514738624021869¦000101101000⟩\n",
      "0.006514738624021869¦000101101001⟩\n",
      "0.03908843174413121¦000101101010⟩\n",
      "0.03908843174413121¦000101101011⟩\n",
      "0.026058954496087475¦000101101100⟩\n",
      "0.026058954496087475¦000101101101⟩\n",
      "0.05211790899217495¦000101101110⟩\n",
      "0.05211790899217495¦000101101111⟩\n",
      "0.06514738624021868¦000101110000⟩\n",
      "0.06514738624021868¦000101110001⟩\n",
      "0.006514738624021869¦000101110010⟩\n",
      "0.006514738624021869¦000101110011⟩\n",
      "0.05211790899217495¦000101110100⟩\n",
      "0.05211790899217495¦000101110101⟩\n",
      "0.03257369312010934¦000101110110⟩\n",
      "0.03257369312010934¦000101110111⟩\n",
      "0.006514738624021869¦000101111000⟩\n",
      "0.006514738624021869¦000101111001⟩\n",
      "0.05211790899217495¦000101111100⟩\n",
      "0.05211790899217495¦000101111101⟩\n",
      "0.06514738624021868¦000101111110⟩\n",
      "0.06514738624021868¦000101111111⟩\n",
      "0.0380026419734609¦000110000000⟩\n",
      "0.0380026419734609¦000110000001⟩\n",
      "0.045603170368153076¦000110000010⟩\n",
      "0.045603170368153076¦000110000011⟩\n",
      "0.06080422715753744¦000110000100⟩\n",
      "0.06080422715753744¦000110000101⟩\n",
      "0.045603170368153076¦000110000110⟩\n",
      "0.045603170368153076¦000110000111⟩\n",
      "0.00760052839469218¦000110001000⟩\n",
      "0.00760052839469218¦000110001001⟩\n",
      "0.045603170368153076¦000110001010⟩\n",
      "0.045603170368153076¦000110001011⟩\n",
      "0.03040211357876872¦000110001100⟩\n",
      "0.03040211357876872¦000110001101⟩\n",
      "0.06080422715753744¦000110001110⟩\n",
      "0.06080422715753744¦000110001111⟩\n",
      "0.0760052839469218¦000110010000⟩\n",
      "0.0760052839469218¦000110010001⟩\n",
      "0.00760052839469218¦000110010010⟩\n",
      "0.00760052839469218¦000110010011⟩\n",
      "0.06080422715753744¦000110010100⟩\n",
      "0.06080422715753744¦000110010101⟩\n",
      "0.0380026419734609¦000110010110⟩\n",
      "0.0380026419734609¦000110010111⟩\n",
      "0.00760052839469218¦000110011000⟩\n",
      "0.00760052839469218¦000110011001⟩\n",
      "0.06080422715753744¦000110011100⟩\n",
      "0.06080422715753744¦000110011101⟩\n",
      "0.0760052839469218¦000110011110⟩\n",
      "0.0760052839469218¦000110011111⟩\n",
      "0.04886053968016402¦000110100000⟩\n",
      "0.04886053968016402¦000110100001⟩\n",
      "0.05863264761619681¦000110100010⟩\n",
      "0.05863264761619681¦000110100011⟩\n",
      "0.07817686348826243¦000110100100⟩\n",
      "0.07817686348826243¦000110100101⟩\n",
      "0.05863264761619681¦000110100110⟩\n",
      "0.05863264761619681¦000110100111⟩\n",
      "0.009772107936032804¦000110101000⟩\n",
      "0.009772107936032804¦000110101001⟩\n",
      "0.05863264761619681¦000110101010⟩\n",
      "0.05863264761619681¦000110101011⟩\n",
      "0.039088431744131215¦000110101100⟩\n",
      "0.039088431744131215¦000110101101⟩\n",
      "0.07817686348826243¦000110101110⟩\n",
      "0.07817686348826243¦000110101111⟩\n",
      "0.09772107936032803¦000110110000⟩\n",
      "0.09772107936032803¦000110110001⟩\n",
      "0.009772107936032804¦000110110010⟩\n",
      "0.009772107936032804¦000110110011⟩\n",
      "0.07817686348826243¦000110110100⟩\n",
      "0.07817686348826243¦000110110101⟩\n",
      "0.04886053968016402¦000110110110⟩\n",
      "0.04886053968016402¦000110110111⟩\n",
      "0.009772107936032804¦000110111000⟩\n",
      "0.009772107936032804¦000110111001⟩\n",
      "0.07817686348826243¦000110111100⟩\n",
      "0.07817686348826243¦000110111101⟩\n",
      "0.09772107936032803¦000110111110⟩\n",
      "0.09772107936032803¦000110111111⟩\n",
      "0.04343159082681246¦000111100000⟩\n",
      "0.04343159082681246¦000111100001⟩\n",
      "0.052117908992174944¦000111100010⟩\n",
      "0.052117908992174944¦000111100011⟩\n",
      "0.06949054532289994¦000111100100⟩\n",
      "0.06949054532289994¦000111100101⟩\n",
      "0.052117908992174944¦000111100110⟩\n",
      "0.052117908992174944¦000111100111⟩\n",
      "0.008686318165362493¦000111101000⟩\n",
      "0.008686318165362493¦000111101001⟩\n",
      "0.052117908992174944¦000111101010⟩\n",
      "0.052117908992174944¦000111101011⟩\n",
      "0.03474527266144997¦000111101100⟩\n",
      "0.03474527266144997¦000111101101⟩\n",
      "0.06949054532289994¦000111101110⟩\n",
      "0.06949054532289994¦000111101111⟩\n",
      "0.08686318165362492¦000111110000⟩\n",
      "0.08686318165362492¦000111110001⟩\n",
      "0.008686318165362493¦000111110010⟩\n",
      "0.008686318165362493¦000111110011⟩\n",
      "0.06949054532289994¦000111110100⟩\n",
      "0.06949054532289994¦000111110101⟩\n",
      "0.04343159082681246¦000111110110⟩\n",
      "0.04343159082681246¦000111110111⟩\n",
      "0.008686318165362493¦000111111000⟩\n",
      "0.008686318165362493¦000111111001⟩\n",
      "0.06949054532289994¦000111111100⟩\n",
      "0.06949054532289994¦000111111101⟩\n",
      "0.08686318165362492¦000111111110⟩\n",
      "0.08686318165362492¦000111111111⟩\n"
     ]
    }
   ],
   "source": [
    "sim_fig12 = Simulator('projectq', 12)     # 调用一个12量子比特的模拟器\n",
    "sim_fig12.set_qs(initial_state_fig12)     # 将模拟器的初态设为与initial_state_fig12对应的量子态\n",
    "\n",
    "print(sim_fig12.get_qs(True))             # 打印我们制备好的初态"
   ]
  },
  {
   "cell_type": "markdown",
   "metadata": {},
   "source": [
    "- 第二步：广义SWAP Test"
   ]
  },
  {
   "cell_type": "code",
   "execution_count": 79,
   "metadata": {},
   "outputs": [
    {
     "data": {
      "text/html": [
       "<pre style=\"white-space:pre;overflow-x:auto;line-height:normal;font-family:Menlo,'DejaVu Sans Mono',consolas,'Courier New',monospace\"></pre>\n"
      ],
      "text/plain": []
     },
     "metadata": {},
     "output_type": "display_data"
    },
    {
     "data": {
      "text/html": [
       "<pre style=\"white-space: pre;\"><span style=\"color: #000080; text-decoration-color: #000080; font-weight: bold\">q0:  ───────────────‖────────────●──‖───────────────‖───────────────‖────────────●──‖───────────────‖───────────────‖────────────●──‖───────────────‖───────────────‖────────────●──‖───────────────‖──H────────────‖──</span><span style=\"color: #800080; text-decoration-color: #800080; font-weight: bold\">M</span><span style=\"color: #000080; text-decoration-color: #000080; font-weight: bold\">(q0)──</span>\n",
       "<span style=\"color: #000080; text-decoration-color: #000080; font-weight: bold\">                    ‖            │  ‖               ‖               ‖            │  ‖               ‖               ‖            │  ‖               ‖               ‖            │  ‖               ‖               ‖</span>\n",
       "<span style=\"color: #000080; text-decoration-color: #000080; font-weight: bold\">q1:  ───────●───────‖────────────X──‖───────●───────‖───────────────‖────────────┼──‖───────────────‖───────────────‖────────────┼──‖───────────────‖───────────────‖────────────┼──‖───────────────‖───────────────‖─────────</span>\n",
       "<span style=\"color: #000080; text-decoration-color: #000080; font-weight: bold\">            │       ‖            │  ‖       │       ‖               ‖            │  ‖               ‖               ‖            │  ‖               ‖               ‖            │  ‖               ‖               ‖</span>\n",
       "<span style=\"color: #000080; text-decoration-color: #000080; font-weight: bold\">q2:  ───────┼───────‖────────────┼──‖───────┼───────‖───────●───────‖────────────X──‖───────●───────‖───────────────‖────────────┼──‖───────────────‖───────────────‖────────────┼──‖───────────────‖───────────────‖─────────</span>\n",
       "<span style=\"color: #000080; text-decoration-color: #000080; font-weight: bold\">            │       ‖            │  ‖       │       ‖       │       ‖            │  ‖       │       ‖               ‖            │  ‖               ‖               ‖            │  ‖               ‖               ‖</span>\n",
       "<span style=\"color: #000080; text-decoration-color: #000080; font-weight: bold\">q3:  ───────┼───────‖────────────┼──‖───────┼───────‖───────┼───────‖────────────┼──‖───────┼───────‖───────●───────‖────────────X──‖───────●───────‖───────────────‖────────────┼──‖───────────────‖───────────────‖─────────</span>\n",
       "<span style=\"color: #000080; text-decoration-color: #000080; font-weight: bold\">            │       ‖            │  ‖       │       ‖       │       ‖            │  ‖       │       ‖       │       ‖            │  ‖       │       ‖               ‖            │  ‖               ‖               ‖</span>\n",
       "<span style=\"color: #000080; text-decoration-color: #000080; font-weight: bold\">q4:  ───────┼───────‖────────────┼──‖───────┼───────‖───────┼───────‖────────────┼──‖───────┼───────‖───────┼───────‖────────────┼──‖───────┼───────‖───────●───────‖────────────X──‖───────●───────‖───────────────‖─────────</span>\n",
       "<span style=\"color: #000080; text-decoration-color: #000080; font-weight: bold\">            │       ‖            │  ‖       │       ‖       │       ‖            │  ‖       │       ‖       │       ‖            │  ‖       │       ‖       │       ‖            │  ‖       │       ‖               ‖</span>\n",
       "<span style=\"color: #000080; text-decoration-color: #000080; font-weight: bold\">q5:  ───────X───────‖────────────●──‖───────X───────‖───────┼───────‖────────────┼──‖───────┼───────‖───────┼───────‖────────────┼──‖───────┼───────‖───────┼───────‖────────────┼──‖───────┼───────‖───────────────‖─────────</span>\n",
       "<span style=\"color: #000080; text-decoration-color: #000080; font-weight: bold\">                    ‖               ‖               ‖       │       ‖            │  ‖       │       ‖       │       ‖            │  ‖       │       ‖       │       ‖            │  ‖       │       ‖               ‖</span>\n",
       "<span style=\"color: #000080; text-decoration-color: #000080; font-weight: bold\">q6:  ───────────────‖───────────────‖───────────────‖───────X───────‖────────────●──‖───────X───────‖───────┼───────‖────────────┼──‖───────┼───────‖───────┼───────‖────────────┼──‖───────┼───────‖───────────────‖─────────</span>\n",
       "<span style=\"color: #000080; text-decoration-color: #000080; font-weight: bold\">                    ‖               ‖               ‖               ‖               ‖               ‖       │       ‖            │  ‖       │       ‖       │       ‖            │  ‖       │       ‖               ‖</span>\n",
       "<span style=\"color: #000080; text-decoration-color: #000080; font-weight: bold\">q7:  ───────────────‖───────────────‖───────────────‖───────────────‖───────────────‖───────────────‖───────X───────‖────────────●──‖───────X───────‖───────┼───────‖────────────┼──‖───────┼───────‖───────────────‖─────────</span>\n",
       "<span style=\"color: #000080; text-decoration-color: #000080; font-weight: bold\">                    ‖               ‖               ‖               ‖               ‖               ‖               ‖               ‖               ‖       │       ‖            │  ‖       │       ‖               ‖</span>\n",
       "<span style=\"color: #000080; text-decoration-color: #000080; font-weight: bold\">q8:  ───────────────‖───────────────‖───────────────‖───────────────‖───────────────‖───────────────‖───────────────‖───────────────‖───────────────‖───────X───────‖────────────●──‖───────X───────‖───────────────‖─────────</span>\n",
       "<span style=\"color: #000080; text-decoration-color: #000080; font-weight: bold\">                    ‖               ‖               ‖               ‖               ‖               ‖               ‖               ‖               ‖               ‖               ‖               ‖               ‖</span>\n",
       "<span style=\"color: #000080; text-decoration-color: #000080; font-weight: bold\">q9:  ──H─────────●──‖──H────●───────‖──H─────────●──‖──H─────────●──‖──H────●───────‖──H─────────●──‖──H─────────●──‖──H────●───────‖──H─────────●──‖──H─────────●──‖──H────●───────‖──H─────────●──‖───────●────●──‖─────────</span>\n",
       "<span style=\"color: #000080; text-decoration-color: #000080; font-weight: bold\">                 │  ‖       │       ‖            │  ‖            │  ‖       │       ‖            │  ‖            │  ‖       │       ‖            │  ‖            │  ‖       │       ‖            │  ‖       │    │  ‖</span>\n",
       "<span style=\"color: #000080; text-decoration-color: #000080; font-weight: bold\">q10: ────────────●──‖───────X───────‖────────────●──‖────────────●──‖───────X───────‖────────────●──‖────────────●──‖───────X───────‖────────────●──‖────────────●──‖───────X───────‖────────────●──‖───────X────●──‖─────────</span>\n",
       "<span style=\"color: #000080; text-decoration-color: #000080; font-weight: bold\">                 │  ‖               ‖            │  ‖            │  ‖               ‖            │  ‖            │  ‖               ‖            │  ‖            │  ‖               ‖            │  ‖            │  ‖</span>\n",
       "<span style=\"color: #000080; text-decoration-color: #000080; font-weight: bold\">q11: ────────────X──‖───────────────‖────────────X──‖────────────X──‖───────────────‖────────────X──‖────────────X──‖───────────────‖────────────X──‖────────────X──‖───────────────‖────────────X──‖────────────X──‖─────────</span>\n",
       "</pre>\n"
      ],
      "text/plain": [
       "q0:  ───────────────‖────────────●──‖───────────────‖───────────────‖────────────●──‖───────────────‖───────────────‖────────────●──‖───────────────‖───────────────‖────────────●──‖───────────────‖──H────────────‖──M(q0)──\n",
       "                    ‖            │  ‖               ‖               ‖            │  ‖               ‖               ‖            │  ‖               ‖               ‖            │  ‖               ‖               ‖\n",
       "q1:  ───────●───────‖────────────X──‖───────●───────‖───────────────‖────────────┼──‖───────────────‖───────────────‖────────────┼──‖───────────────‖───────────────‖────────────┼──‖───────────────‖───────────────‖─────────\n",
       "            │       ‖            │  ‖       │       ‖               ‖            │  ‖               ‖               ‖            │  ‖               ‖               ‖            │  ‖               ‖               ‖\n",
       "q2:  ───────┼───────‖────────────┼──‖───────┼───────‖───────●───────‖────────────X──‖───────●───────‖───────────────‖────────────┼──‖───────────────‖───────────────‖────────────┼──‖───────────────‖───────────────‖─────────\n",
       "            │       ‖            │  ‖       │       ‖       │       ‖            │  ‖       │       ‖               ‖            │  ‖               ‖               ‖            │  ‖               ‖               ‖\n",
       "q3:  ───────┼───────‖────────────┼──‖───────┼───────‖───────┼───────‖────────────┼──‖───────┼───────‖───────●───────‖────────────X──‖───────●───────‖───────────────‖────────────┼──‖───────────────‖───────────────‖─────────\n",
       "            │       ‖            │  ‖       │       ‖       │       ‖            │  ‖       │       ‖       │       ‖            │  ‖       │       ‖               ‖            │  ‖               ‖               ‖\n",
       "q4:  ───────┼───────‖────────────┼──‖───────┼───────‖───────┼───────‖────────────┼──‖───────┼───────‖───────┼───────‖────────────┼──‖───────┼───────‖───────●───────‖────────────X──‖───────●───────‖───────────────‖─────────\n",
       "            │       ‖            │  ‖       │       ‖       │       ‖            │  ‖       │       ‖       │       ‖            │  ‖       │       ‖       │       ‖            │  ‖       │       ‖               ‖\n",
       "q5:  ───────X───────‖────────────●──‖───────X───────‖───────┼───────‖────────────┼──‖───────┼───────‖───────┼───────‖────────────┼──‖───────┼───────‖───────┼───────‖────────────┼──‖───────┼───────‖───────────────‖─────────\n",
       "                    ‖               ‖               ‖       │       ‖            │  ‖       │       ‖       │       ‖            │  ‖       │       ‖       │       ‖            │  ‖       │       ‖               ‖\n",
       "q6:  ───────────────‖───────────────‖───────────────‖───────X───────‖────────────●──‖───────X───────‖───────┼───────‖────────────┼──‖───────┼───────‖───────┼───────‖────────────┼──‖───────┼───────‖───────────────‖─────────\n",
       "                    ‖               ‖               ‖               ‖               ‖               ‖       │       ‖            │  ‖       │       ‖       │       ‖            │  ‖       │       ‖               ‖\n",
       "q7:  ───────────────‖───────────────‖───────────────‖───────────────‖───────────────‖───────────────‖───────X───────‖────────────●──‖───────X───────‖───────┼───────‖────────────┼──‖───────┼───────‖───────────────‖─────────\n",
       "                    ‖               ‖               ‖               ‖               ‖               ‖               ‖               ‖               ‖       │       ‖            │  ‖       │       ‖               ‖\n",
       "q8:  ───────────────‖───────────────‖───────────────‖───────────────‖───────────────‖───────────────‖───────────────‖───────────────‖───────────────‖───────X───────‖────────────●──‖───────X───────‖───────────────‖─────────\n",
       "                    ‖               ‖               ‖               ‖               ‖               ‖               ‖               ‖               ‖               ‖               ‖               ‖               ‖\n",
       "q9:  ──H─────────●──‖──H────●───────‖──H─────────●──‖──H─────────●──‖──H────●───────‖──H─────────●──‖──H─────────●──‖──H────●───────‖──H─────────●──‖──H─────────●──‖──H────●───────‖──H─────────●──‖───────●────●──‖─────────\n",
       "                 │  ‖       │       ‖            │  ‖            │  ‖       │       ‖            │  ‖            │  ‖       │       ‖            │  ‖            │  ‖       │       ‖            │  ‖       │    │  ‖\n",
       "q10: ────────────●──‖───────X───────‖────────────●──‖────────────●──‖───────X───────‖────────────●──‖────────────●──‖───────X───────‖────────────●──‖────────────●──‖───────X───────‖────────────●──‖───────X────●──‖─────────\n",
       "                 │  ‖               ‖            │  ‖            │  ‖               ‖            │  ‖            │  ‖               ‖            │  ‖            │  ‖               ‖            │  ‖            │  ‖\n",
       "q11: ────────────X──‖───────────────‖────────────X──‖────────────X──‖───────────────‖────────────X──‖────────────X──‖───────────────‖────────────X──‖────────────X──‖───────────────‖────────────X──‖────────────X──‖─────────"
      ]
     },
     "execution_count": 79,
     "metadata": {},
     "output_type": "execute_result"
    }
   ],
   "source": [
    "# 搭建广义SWAP Test线路模型\n",
    "cir_SWAP_Test_gen_fig12 = Circuit()\n",
    "\n",
    "# 第一次执行Fredkin门\n",
    "cir_SWAP_Test_gen_fig12 += H.on(9)\n",
    "cir_SWAP_Test_gen_fig12 += BARRIER\n",
    "cir_SWAP_Test_gen_fig12 += X.on(5, 1)\n",
    "cir_SWAP_Test_gen_fig12 += BARRIER\n",
    "cir_SWAP_Test_gen_fig12 += X.on(11, [9, 10])\n",
    "cir_SWAP_Test_gen_fig12 += BarrierGate(True)\n",
    "\n",
    "cir_SWAP_Test_gen_fig12 += H.on(9)\n",
    "cir_SWAP_Test_gen_fig12 += BARRIER\n",
    "cir_SWAP_Test_gen_fig12 += X.on(10, 9)\n",
    "cir_SWAP_Test_gen_fig12 += BARRIER\n",
    "cir_SWAP_Test_gen_fig12 += X.on(1, [0, 5])\n",
    "cir_SWAP_Test_gen_fig12 += BarrierGate(True)\n",
    "\n",
    "cir_SWAP_Test_gen_fig12 += H.on(9)\n",
    "cir_SWAP_Test_gen_fig12 += BARRIER\n",
    "cir_SWAP_Test_gen_fig12 += X.on(5, 1)\n",
    "cir_SWAP_Test_gen_fig12 += BARRIER\n",
    "cir_SWAP_Test_gen_fig12 += X.on(11, [9, 10])\n",
    "cir_SWAP_Test_gen_fig12 += BarrierGate(True)\n",
    "\n",
    "# 第二次执行Fredkin门\n",
    "cir_SWAP_Test_gen_fig12 += H.on(9)\n",
    "cir_SWAP_Test_gen_fig12 += BARRIER\n",
    "cir_SWAP_Test_gen_fig12 += X.on(6, 2)\n",
    "cir_SWAP_Test_gen_fig12 += BARRIER\n",
    "cir_SWAP_Test_gen_fig12 += X.on(11, [9, 10])\n",
    "cir_SWAP_Test_gen_fig12 += BarrierGate(True)\n",
    "\n",
    "cir_SWAP_Test_gen_fig12 += H.on(9)\n",
    "cir_SWAP_Test_gen_fig12 += BARRIER\n",
    "cir_SWAP_Test_gen_fig12 += X.on(10, 9)\n",
    "cir_SWAP_Test_gen_fig12 += BARRIER\n",
    "cir_SWAP_Test_gen_fig12 += X.on(2, [0, 6])\n",
    "cir_SWAP_Test_gen_fig12 += BarrierGate(True)\n",
    "\n",
    "cir_SWAP_Test_gen_fig12 += H.on(9)\n",
    "cir_SWAP_Test_gen_fig12 += BARRIER\n",
    "cir_SWAP_Test_gen_fig12 += X.on(6, 2)\n",
    "cir_SWAP_Test_gen_fig12 += BARRIER\n",
    "cir_SWAP_Test_gen_fig12 += X.on(11, [9, 10])\n",
    "cir_SWAP_Test_gen_fig12 += BarrierGate(True)\n",
    "\n",
    "# 第三次执行Fredkin门\n",
    "cir_SWAP_Test_gen_fig12 += H.on(9)\n",
    "cir_SWAP_Test_gen_fig12 += BARRIER\n",
    "cir_SWAP_Test_gen_fig12 += X.on(7, 3)\n",
    "cir_SWAP_Test_gen_fig12 += BARRIER\n",
    "cir_SWAP_Test_gen_fig12 += X.on(11, [9, 10])\n",
    "cir_SWAP_Test_gen_fig12 += BarrierGate(True)\n",
    "\n",
    "cir_SWAP_Test_gen_fig12 += H.on(9)\n",
    "cir_SWAP_Test_gen_fig12 += BARRIER\n",
    "cir_SWAP_Test_gen_fig12 += X.on(10, 9)\n",
    "cir_SWAP_Test_gen_fig12 += BARRIER\n",
    "cir_SWAP_Test_gen_fig12 += X.on(3, [0, 7])\n",
    "cir_SWAP_Test_gen_fig12 += BarrierGate(True)\n",
    "\n",
    "cir_SWAP_Test_gen_fig12 += H.on(9)\n",
    "cir_SWAP_Test_gen_fig12 += BARRIER\n",
    "cir_SWAP_Test_gen_fig12 += X.on(7, 3)\n",
    "cir_SWAP_Test_gen_fig12 += BARRIER\n",
    "cir_SWAP_Test_gen_fig12 += X.on(11, [9, 10])\n",
    "cir_SWAP_Test_gen_fig12 += BarrierGate(True)\n",
    "\n",
    "# 第四次执行Fredkin门\n",
    "cir_SWAP_Test_gen_fig12 += H.on(9)\n",
    "cir_SWAP_Test_gen_fig12 += BARRIER\n",
    "cir_SWAP_Test_gen_fig12 += X.on(8, 4)\n",
    "cir_SWAP_Test_gen_fig12 += BARRIER\n",
    "cir_SWAP_Test_gen_fig12 += X.on(11, [9, 10])\n",
    "cir_SWAP_Test_gen_fig12 += BarrierGate(True)\n",
    "\n",
    "cir_SWAP_Test_gen_fig12 += H.on(9)\n",
    "cir_SWAP_Test_gen_fig12 += BARRIER\n",
    "cir_SWAP_Test_gen_fig12 += X.on(10, 9)\n",
    "cir_SWAP_Test_gen_fig12 += BARRIER\n",
    "cir_SWAP_Test_gen_fig12 += X.on(4, [0, 8])\n",
    "cir_SWAP_Test_gen_fig12 += BarrierGate(True)\n",
    "\n",
    "cir_SWAP_Test_gen_fig12 += H.on(9)\n",
    "cir_SWAP_Test_gen_fig12 += BARRIER\n",
    "cir_SWAP_Test_gen_fig12 += X.on(8, 4)\n",
    "cir_SWAP_Test_gen_fig12 += BARRIER\n",
    "cir_SWAP_Test_gen_fig12 += X.on(11, [9, 10])\n",
    "cir_SWAP_Test_gen_fig12 += BarrierGate(True)\n",
    "\n",
    "# 执行H门\n",
    "cir_SWAP_Test_gen_fig12 += H.on(0)\n",
    "cir_SWAP_Test_gen_fig12 += BARRIER\n",
    "cir_SWAP_Test_gen_fig12 += X.on(10, 9)\n",
    "cir_SWAP_Test_gen_fig12 += BARRIER\n",
    "cir_SWAP_Test_gen_fig12 += X.on(11, [9, 10])\n",
    "cir_SWAP_Test_gen_fig12 += BarrierGate(True)\n",
    "\n",
    "# 测量第一个量子比特\n",
    "cir_SWAP_Test_gen_fig12 += Measure().on(0)\n",
    "\n",
    "cir_SWAP_Test_gen_fig12"
   ]
  },
  {
   "cell_type": "markdown",
   "metadata": {},
   "source": [
    "- 第三步：测量"
   ]
  },
  {
   "cell_type": "code",
   "execution_count": 80,
   "metadata": {},
   "outputs": [
    {
     "data": {
      "text/html": [
       "<pre style=\"white-space:pre;overflow-x:auto;line-height:normal;font-family:Menlo,'DejaVu Sans Mono',consolas,'Courier New',monospace\"></pre>\n"
      ],
      "text/plain": []
     },
     "metadata": {},
     "output_type": "display_data"
    },
    {
     "data": {
      "text/html": [
       "<pre style=\"white-space: pre;\"><span style=\"color: #808000; text-decoration-color: #808000\">shots: </span><span style=\"color: #008080; text-decoration-color: #008080; font-weight: bold\">5000</span>\n",
       "<span style=\"color: #808000; text-decoration-color: #808000\">Keys: q0│</span><span style=\"color: #008080; text-decoration-color: #008080; font-weight: bold\">0.00</span><span style=\"color: #808000; text-decoration-color: #808000\">   </span><span style=\"color: #008080; text-decoration-color: #008080; font-weight: bold\">0.193</span><span style=\"color: #808000; text-decoration-color: #808000\">       </span><span style=\"color: #008080; text-decoration-color: #008080; font-weight: bold\">0.385</span><span style=\"color: #808000; text-decoration-color: #808000\">       </span><span style=\"color: #008080; text-decoration-color: #008080; font-weight: bold\">0.578</span><span style=\"color: #808000; text-decoration-color: #808000\">       </span><span style=\"color: #008080; text-decoration-color: #008080; font-weight: bold\">0.771</span><span style=\"color: #808000; text-decoration-color: #808000\">       </span><span style=\"color: #008080; text-decoration-color: #008080; font-weight: bold\">0.963</span>\n",
       "<span style=\"color: #808000; text-decoration-color: #808000\">────────┼───────────┴───────────┴───────────┴───────────┴───────────┴</span>\n",
       "<span style=\"color: #808000; text-decoration-color: #808000\">       </span><span style=\"color: #008080; text-decoration-color: #008080; font-weight: bold\">0</span><span style=\"color: #808000; text-decoration-color: #808000\">│▓▓▓▓▓▓▓▓▓▓▓▓▓▓▓▓▓▓▓▓▓▓▓▓▓▓▓▓▓▓▓▓▓▓▓▓▓▓▓▓▓▓▓▓▓▓▓▓</span>\n",
       "<span style=\"color: #808000; text-decoration-color: #808000\">        │</span>\n",
       "<span style=\"color: #808000; text-decoration-color: #808000\">       </span><span style=\"color: #008080; text-decoration-color: #008080; font-weight: bold\">1</span><span style=\"color: #808000; text-decoration-color: #808000\">│▒▒▒▒▒▒▒▒▒▒▒▒▒▒▒</span>\n",
       "<span style=\"color: #808000; text-decoration-color: #808000\">        │</span>\n",
       "<span style=\"color: #808000; text-decoration-color: #808000; font-weight: bold\">{</span><span style=\"color: #008000; text-decoration-color: #008000\">&#x27;0&#x27;</span><span style=\"color: #808000; text-decoration-color: #808000\">: </span><span style=\"color: #008080; text-decoration-color: #008080; font-weight: bold\">3853</span><span style=\"color: #808000; text-decoration-color: #808000\">, </span><span style=\"color: #008000; text-decoration-color: #008000\">&#x27;1&#x27;</span><span style=\"color: #808000; text-decoration-color: #808000\">: </span><span style=\"color: #008080; text-decoration-color: #008080; font-weight: bold\">1147</span><span style=\"color: #808000; text-decoration-color: #808000; font-weight: bold\">}</span>\n",
       "</pre>\n"
      ],
      "text/plain": [
       "shots: 5000\n",
       "Keys: q0│0.00   0.193       0.385       0.578       0.771       0.963\n",
       "────────┼───────────┴───────────┴───────────┴───────────┴───────────┴\n",
       "       0│▓▓▓▓▓▓▓▓▓▓▓▓▓▓▓▓▓▓▓▓▓▓▓▓▓▓▓▓▓▓▓▓▓▓▓▓▓▓▓▓▓▓▓▓▓▓▓▓\n",
       "        │\n",
       "       1│▒▒▒▒▒▒▒▒▒▒▒▒▒▒▒\n",
       "        │\n",
       "{'0': 3853, '1': 1147}"
      ]
     },
     "execution_count": 80,
     "metadata": {},
     "output_type": "execute_result"
    }
   ],
   "source": [
    "res_fig12 = sim_fig12.sampling(cir_SWAP_Test_gen_fig12, shots=5000)\n",
    "res_fig12"
   ]
  },
  {
   "cell_type": "markdown",
   "metadata": {},
   "source": [
    "- 第四步：统计结果，得到欧几里得距离"
   ]
  },
  {
   "cell_type": "markdown",
   "metadata": {},
   "source": [
    "从上述sampling的结果可以看到，得到0的次数为3853次，与Fig7得到的结果完全一致，因此后续的计算可以得到与Fig7完全相等的结果。"
   ]
  },
  {
   "cell_type": "code",
   "execution_count": 81,
   "metadata": {},
   "outputs": [
    {
     "name": "stdout",
     "output_type": "stream",
     "text": [
      "Fig12中测量第一个量子比特，得到测量为0的频率为： 0.7706\n",
      "通过Fig12得到的内积<u|v>为： 0.7356629663099807\n"
     ]
    }
   ],
   "source": [
    "p_0_fig12 = 3853 / 5000\n",
    "inner_product_ST_fig12 = np.sqrt(2 * p_0_fig12 - 1)\n",
    "\n",
    "print(\"Fig12中测量第一个量子比特，得到测量为0的频率为：\", p_0_fig12)\n",
    "print(\"通过Fig12得到的内积<u|v>为：\", inner_product_ST_fig12)"
   ]
  },
  {
   "cell_type": "code",
   "execution_count": 82,
   "metadata": {},
   "outputs": [
    {
     "name": "stdout",
     "output_type": "stream",
     "text": [
      "通过量子计算的方法计算得到的内积的误差为： 1.0740827170041605 %\n"
     ]
    }
   ],
   "source": [
    "error_inner_fig12 = (inner_product_ST_fig12 - inner_product_16) / inner_product_16 * 100\n",
    "\n",
    "print(\"通过量子计算的方法计算得到的内积的误差为：\", error_inner_fig12, \"%\")"
   ]
  },
  {
   "cell_type": "code",
   "execution_count": 83,
   "metadata": {},
   "outputs": [
    {
     "name": "stdout",
     "output_type": "stream",
     "text": [
      "向量u和向量v的欧几里得距离等于 18.569267509592308\n"
     ]
    }
   ],
   "source": [
    "D_Euc_ST_fig12 = np.sqrt(length_u_16**2 + length_v_16**2 - 2 * length_u_16 * length_v_16 * inner_product_ST_fig12)\n",
    "\n",
    "print(\"向量u和向量v的欧几里得距离等于\", D_Euc_ST_fig12)"
   ]
  },
  {
   "cell_type": "code",
   "execution_count": 84,
   "metadata": {},
   "outputs": [
    {
     "name": "stdout",
     "output_type": "stream",
     "text": [
      "通过量子计算的方法计算得到的欧几里得的误差为： -1.444561130381489 %\n"
     ]
    }
   ],
   "source": [
    "error_D_Euc_fig12 = (D_Euc_ST_fig12 - D_Euc_16) / D_Euc_16 * 100\n",
    "\n",
    "print(\"通过量子计算的方法计算得到的欧几里得的误差为：\", error_D_Euc_fig12, \"%\")"
   ]
  },
  {
   "cell_type": "markdown",
   "metadata": {},
   "source": [
    "再次验证，我们得到与Fig7完全相等的结果。\n",
    "\n",
    "至此，我们通过MindQuantum成功验证（6）论文中的Fig12（$n=4$的情况），即在Fig7的基础上保密计算2个16维向量$\\vec{u}$和$\\vec{v}$的欧几里得距离。"
   ]
  },
  {
   "cell_type": "markdown",
   "metadata": {},
   "source": [
    "## 项目总结\n",
    "\n",
    "### 复现的论文&复现结果\n",
    "\n",
    "我复现的是2021年11月1日在《Quantum Information Processing》上发表的论文，文章题目为“Blind quantum machine learning based on quantum circuit model”，文章作者为Xu Zhou和Daowen Qiu。\n",
    "\n",
    "我通过MindQuantum复现了文章中的Fig1-Fig12，并验证了每个线路设计的正确性，详细见文中提到的复现目标。\n",
    "\n",
    "### 创新点\n",
    "\n",
    "在复现过程中，我的创新点如下：\n",
    "\n",
    "（1）利用MindQuantum首次复现盲量子计算相关的论文；\n",
    "\n",
    "（2）利用到了MindQuantum最新的功能，输出量子线路矩阵的matrix()功能，并把发现的问题在主仓中提了issue；\n",
    "\n",
    "（3）利用到了np.kron()计算向量外积，再在模拟器上set_qs()的功能来制备线路的初态，而一般我们量子线路的初态为全|0>态；\n",
    "\n",
    "（4）利用MindQuantum实现输出量子线路真值表的功能；\n",
    "\n",
    "（5）华为bbs论坛的复现要求：验证论文中的Fig2，Fig3，Fig4，Fig5，Fig6，Fig9，Fig11中线路的正确性，复现论文中最终的Fig12中n=4的情况。在完成复现要求的基础上，我把剩下的Fig1，Fig7，Fig8，Fig10也复现了，并给出了证明，使得整个复现工作比较完整。\n",
    "\n",
    "### 未来可继续研究的方向\n",
    "\n",
    "（1）目前该论文限定了向量为实且非负的，后续可以考虑复向量的欧几里得距离的计算；\n",
    "\n",
    "（2）目前该论文还只是计算两个向量间的欧几里得距离，后续可以通过叠加态的形式，同时计算多个量子态间的距离；\n",
    "\n",
    "（3）目前该论文考虑的是理想信道下的量子计算，后续可以考虑在含噪声的量子信道上完成该任务；\n",
    "\n",
    "（4）目前该论文只完成量子机器学习中的某一步，计算欧几里得距离，后续可以加入到具体的量子机器学习任务中，从而展示量子计算的强大计算优势。"
   ]
  }
 ],
 "metadata": {
  "kernelspec": {
   "display_name": "MindQuantum",
   "language": "python",
   "name": "mindquantum"
  },
  "language_info": {
   "codemirror_mode": {
    "name": "ipython",
    "version": 3
   },
   "file_extension": ".py",
   "mimetype": "text/x-python",
   "name": "python",
   "nbconvert_exporter": "python",
   "pygments_lexer": "ipython3",
   "version": "3.7.10"
  }
 },
 "nbformat": 4,
 "nbformat_minor": 4
}
