{
 "cells": [
  {
   "cell_type": "code",
   "execution_count": 13,
   "metadata": {},
   "outputs": [],
   "source": [
    "from mindquantum import Circuit, UN, H, Z, X, Measure\n",
    "from mindquantum.simulator import Simulator"
   ]
  },
  {
   "cell_type": "code",
   "execution_count": 16,
   "metadata": {},
   "outputs": [],
   "source": [
    "\n",
    "n_qubits = 5                               # 设定量子比特数为3\n",
    "sim = Simulator('projectq', n_qubits)        # 使用projectq模拟器，命名为sim\n",
    "circuit = Circuit()                          # 初始化量子线路，命名为circuit\n",
    "\n",
    "circuit += UN(H, n_qubits-1) \n",
    "circuit += UN(Z, n_qubits-2) \n",
    "\n",
    "circuit += Z.on([2],[1])\n",
    "circuit += Z.on([2],[0])\n",
    "circuit += Z.on([1],[0])\n",
    "circuit += Z.on([2],[0,1])\n",
    "circuit += Z.on(1)\n",
    "circuit += Z.on(2)\n",
    "circuit += Z.on([3],[1])\n",
    "circuit += Z.on([2],[0])\n",
    "circuit += Z.on([1],[0])\n",
    "circuit += Z.on([3],[1,2])\n",
    "circuit += Z.on([3],[0,1])\n",
    "circuit += Z.on([3],[0,1,2])\n",
    "\n",
    "circuit += UN(H, n_qubits-1) \n",
    "circuit += UN(X, n_qubits-1) \n",
    "circuit += X.on([4],[0,1,2,3])\n",
    "\n",
    "circuit += Measure().on(4)\n",
    "\n"
   ]
  },
  {
   "cell_type": "code",
   "execution_count": 17,
   "metadata": {},
   "outputs": [
    {
     "output_type": "display_data",
     "data": {
      "text/plain": "",
      "text/html": "<pre style=\"white-space:pre;overflow-x:auto;line-height:normal;font-family:Menlo,'DejaVu Sans Mono',consolas,'Courier New',monospace\"></pre>\n"
     },
     "metadata": {}
    },
    {
     "output_type": "execute_result",
     "data": {
      "text/plain": "q0: ──H────Z─────────●────●────●──────────────●────●─────────●────●────H────X────●───────────\n                     │    │    │              │    │         │    │              │\nq1: ──H────Z────●────┼────Z────●────Z────●────┼────Z────●────●────●────H────X────●───────────\n                │    │         │         │    │         │    │    │              │\nq2: ──H────Z────Z────Z─────────Z────Z────┼────Z─────────●────┼────●────H────X────●───────────\n                                         │              │    │    │              │\nq3: ──H──────────────────────────────────Z──────────────Z────Z────Z────H────X────●───────────\n                                                                                 │\nq4: ─────────────────────────────────────────────────────────────────────────────X────M(q4)──",
      "text/html": "<pre style=\"white-space: pre;\"><span style=\"color: #000080; text-decoration-color: #000080; font-weight: bold\">q0: ──H────Z─────────●────●────●──────────────●────●─────────●────●────H────X────●───────────</span>\n<span style=\"color: #000080; text-decoration-color: #000080; font-weight: bold\">                     │    │    │              │    │         │    │              │</span>\n<span style=\"color: #000080; text-decoration-color: #000080; font-weight: bold\">q1: ──H────Z────●────┼────Z────●────Z────●────┼────Z────●────●────●────H────X────●───────────</span>\n<span style=\"color: #000080; text-decoration-color: #000080; font-weight: bold\">                │    │         │         │    │         │    │    │              │</span>\n<span style=\"color: #000080; text-decoration-color: #000080; font-weight: bold\">q2: ──H────Z────Z────Z─────────Z────Z────┼────Z─────────●────┼────●────H────X────●───────────</span>\n<span style=\"color: #000080; text-decoration-color: #000080; font-weight: bold\">                                         │              │    │    │              │</span>\n<span style=\"color: #000080; text-decoration-color: #000080; font-weight: bold\">q3: ──H──────────────────────────────────Z──────────────Z────Z────Z────H────X────●───────────</span>\n<span style=\"color: #000080; text-decoration-color: #000080; font-weight: bold\">                                                                                 │</span>\n<span style=\"color: #000080; text-decoration-color: #000080; font-weight: bold\">q4: ─────────────────────────────────────────────────────────────────────────────X────</span><span style=\"color: #800080; text-decoration-color: #800080; font-weight: bold\">M</span><span style=\"color: #000080; text-decoration-color: #000080; font-weight: bold\">(q4)──</span>\n</pre>\n"
     },
     "metadata": {},
     "execution_count": 17
    }
   ],
   "source": [
    "circuit"
   ]
  },
  {
   "cell_type": "code",
   "execution_count": 21,
   "metadata": {},
   "outputs": [],
   "source": [
    "res = sim.sampling(circuit, shots=2000)"
   ]
  },
  {
   "cell_type": "code",
   "execution_count": 22,
   "metadata": {},
   "outputs": [
    {
     "output_type": "display_data",
     "data": {
      "text/plain": "",
      "text/html": "<pre style=\"white-space:pre;overflow-x:auto;line-height:normal;font-family:Menlo,'DejaVu Sans Mono',consolas,'Courier New',monospace\"></pre>\n"
     },
     "metadata": {}
    },
    {
     "output_type": "execute_result",
     "data": {
      "text/plain": "shots: 2000\nKeys: q4│0.00     0.2         0.4         0.6         0.8         1.0\n────────┼───────────┴───────────┴───────────┴───────────┴───────────┴\n       0│▓▓▓▓▓▓▓▓▓▓▓▓▓▓▓▓▓▓▓▓▓▓▓▓▓▓▓▓▓▓▓▓▓▓▓▓▓▓▓▓▓▓▓▓▓▓▓▓▓▓▓▓▓▓▓▓▓▓▓▓\n        │\n       1│▒\n        │\n{'0': 1993, '1': 7}",
      "text/html": "<pre style=\"white-space: pre;\"><span style=\"color: #808000; text-decoration-color: #808000\">shots: </span><span style=\"color: #008080; text-decoration-color: #008080; font-weight: bold\">2000</span>\n<span style=\"color: #808000; text-decoration-color: #808000\">Keys: q4│</span><span style=\"color: #008080; text-decoration-color: #008080; font-weight: bold\">0.00</span><span style=\"color: #808000; text-decoration-color: #808000\">     </span><span style=\"color: #008080; text-decoration-color: #008080; font-weight: bold\">0.2</span><span style=\"color: #808000; text-decoration-color: #808000\">         </span><span style=\"color: #008080; text-decoration-color: #008080; font-weight: bold\">0.4</span><span style=\"color: #808000; text-decoration-color: #808000\">         </span><span style=\"color: #008080; text-decoration-color: #008080; font-weight: bold\">0.6</span><span style=\"color: #808000; text-decoration-color: #808000\">         </span><span style=\"color: #008080; text-decoration-color: #008080; font-weight: bold\">0.8</span><span style=\"color: #808000; text-decoration-color: #808000\">         </span><span style=\"color: #008080; text-decoration-color: #008080; font-weight: bold\">1.0</span>\n<span style=\"color: #808000; text-decoration-color: #808000\">────────┼───────────┴───────────┴───────────┴───────────┴───────────┴</span>\n<span style=\"color: #808000; text-decoration-color: #808000\">       </span><span style=\"color: #008080; text-decoration-color: #008080; font-weight: bold\">0</span><span style=\"color: #808000; text-decoration-color: #808000\">│▓▓▓▓▓▓▓▓▓▓▓▓▓▓▓▓▓▓▓▓▓▓▓▓▓▓▓▓▓▓▓▓▓▓▓▓▓▓▓▓▓▓▓▓▓▓▓▓▓▓▓▓▓▓▓▓▓▓▓▓</span>\n<span style=\"color: #808000; text-decoration-color: #808000\">        │</span>\n<span style=\"color: #808000; text-decoration-color: #808000\">       </span><span style=\"color: #008080; text-decoration-color: #008080; font-weight: bold\">1</span><span style=\"color: #808000; text-decoration-color: #808000\">│▒</span>\n<span style=\"color: #808000; text-decoration-color: #808000\">        │</span>\n<span style=\"color: #808000; text-decoration-color: #808000; font-weight: bold\">{</span><span style=\"color: #008000; text-decoration-color: #008000\">&#x27;0&#x27;</span><span style=\"color: #808000; text-decoration-color: #808000\">: </span><span style=\"color: #008080; text-decoration-color: #008080; font-weight: bold\">1993</span><span style=\"color: #808000; text-decoration-color: #808000\">, </span><span style=\"color: #008000; text-decoration-color: #008000\">&#x27;1&#x27;</span><span style=\"color: #808000; text-decoration-color: #808000\">: </span><span style=\"color: #008080; text-decoration-color: #008080; font-weight: bold\">7</span><span style=\"color: #808000; text-decoration-color: #808000; font-weight: bold\">}</span>\n</pre>\n"
     },
     "metadata": {},
     "execution_count": 22
    }
   ],
   "source": [
    "res"
   ]
  },
  {
   "cell_type": "code",
   "execution_count": 18,
   "metadata": {
    "tags": []
   },
   "outputs": [
    {
     "output_type": "stream",
     "name": "stdout",
     "text": "-0.13483997249264842¦00000⟩\n-0.13483997249264842¦00001⟩\n0.13483997249264842¦00010⟩\n0.13483997249264842¦00011⟩\n-0.13483997249264842¦00100⟩\n-0.13483997249264842¦00101⟩\n0.13483997249264842¦00110⟩\n0.13483997249264842¦00111⟩\n-0.13483997249264842¦01000⟩\n-0.13483997249264842¦01001⟩\n0.13483997249264842¦01010⟩\n0.13483997249264842¦01011⟩\n0.4045199174779453¦01100⟩\n0.4045199174779453¦01101⟩\n0.674199862463242¦01110⟩\n"
    }
   ],
   "source": [
    "sim = Simulator('projectq', n_qubits)        # 使用projectq模拟器，命名为sim\n",
    "sim.apply_circuit(circuit)                   # 通过模拟器sim运行搭建好的量子线路circuit\n",
    "print(sim.get_qs(True))                      # 打印模拟器sim中运行量子线路circuit后的末态\n"
   ]
  },
  {
   "cell_type": "code",
   "execution_count": 19,
   "metadata": {},
   "outputs": [
    {
     "output_type": "error",
     "ename": "NameError",
     "evalue": "name 'np' is not defined",
     "traceback": [
      "\u001b[0;31m---------------------------------------------------------------------------\u001b[0m",
      "\u001b[0;31mNameError\u001b[0m                                 Traceback (most recent call last)",
      "\u001b[0;32m/tmp/ipykernel_5917/2184708860.py\u001b[0m in \u001b[0;36m<module>\u001b[0;34m\u001b[0m\n\u001b[0;32m----> 1\u001b[0;31m \u001b[0mnp\u001b[0m\u001b[0;34m.\u001b[0m\u001b[0mabs\u001b[0m\u001b[0;34m(\u001b[0m\u001b[0msim\u001b[0m\u001b[0;34m.\u001b[0m\u001b[0mget_qs\u001b[0m\u001b[0;34m(\u001b[0m\u001b[0;34m)\u001b[0m\u001b[0;34m)\u001b[0m\u001b[0;34m**\u001b[0m\u001b[0;36m2\u001b[0m\u001b[0;34m\u001b[0m\u001b[0;34m\u001b[0m\u001b[0m\n\u001b[0m",
      "\u001b[0;31mNameError\u001b[0m: name 'np' is not defined"
     ]
    }
   ],
   "source": [
    "np.abs(sim.get_qs())**2"
   ]
  },
  {
   "cell_type": "code",
   "execution_count": 18,
   "metadata": {
    "tags": []
   },
   "outputs": [
    {
     "output_type": "display_data",
     "data": {
      "text/plain": "",
      "text/html": "<pre style=\"white-space:pre;overflow-x:auto;line-height:normal;font-family:Menlo,'DejaVu Sans Mono',consolas,'Courier New',monospace\"></pre>\n"
     },
     "metadata": {}
    },
    {
     "output_type": "execute_result",
     "data": {
      "text/plain": "q1: ──Z──\n      │\nq2: ──●──",
      "text/html": "<pre style=\"white-space: pre;\"><span style=\"color: #000080; text-decoration-color: #000080; font-weight: bold\">q1: ──Z──</span>\n<span style=\"color: #000080; text-decoration-color: #000080; font-weight: bold\">      │</span>\n<span style=\"color: #000080; text-decoration-color: #000080; font-weight: bold\">q2: ──●──</span>\n</pre>\n"
     },
     "metadata": {},
     "execution_count": 18
    }
   ],
   "source": [
    "from mindquantum.core import UN, X\n",
    "circuit1 = Circuit()\n",
    "circuit1 = UN(Z, maps_obj = [1], maps_ctrl = [2,3])\n",
    "circuit1"
   ]
  },
  {
   "cell_type": "code",
   "execution_count": 8,
   "metadata": {},
   "outputs": [
    {
     "output_type": "display_data",
     "data": {
      "text/plain": "",
      "text/html": "<pre style=\"white-space:pre;overflow-x:auto;line-height:normal;font-family:Menlo,'DejaVu Sans Mono',consolas,'Courier New',monospace\"></pre>\n"
     },
     "metadata": {}
    },
    {
     "output_type": "execute_result",
     "data": {
      "text/plain": "q0: ──H────PS(π/2)─────────@──\n      │       │            │\nq1: ──┼───────●───────H────@──\n      │       │       │    │\nq2: ──●───────●───────●────●──",
      "text/html": "<pre style=\"white-space: pre;\"><span style=\"color: #000080; text-decoration-color: #000080; font-weight: bold\">q0: ──H────</span><span style=\"color: #800080; text-decoration-color: #800080; font-weight: bold\">PS</span><span style=\"color: #000080; text-decoration-color: #000080; font-weight: bold\">(π/</span><span style=\"color: #008080; text-decoration-color: #008080; font-weight: bold\">2</span><span style=\"color: #000080; text-decoration-color: #000080; font-weight: bold\">)─────────@──</span>\n<span style=\"color: #000080; text-decoration-color: #000080; font-weight: bold\">      │       │            │</span>\n<span style=\"color: #000080; text-decoration-color: #000080; font-weight: bold\">q1: ──┼───────●───────H────@──</span>\n<span style=\"color: #000080; text-decoration-color: #000080; font-weight: bold\">      │       │       │    │</span>\n<span style=\"color: #000080; text-decoration-color: #000080; font-weight: bold\">q2: ──●───────●───────●────●──</span>\n</pre>\n"
     },
     "metadata": {},
     "execution_count": 8
    }
   ],
   "source": [
    "u2(2)"
   ]
  },
  {
   "cell_type": "code",
   "execution_count": 20,
   "metadata": {},
   "outputs": [
    {
     "output_type": "execute_result",
     "data": {
      "text/plain": "0.3 [Z0 Y1] "
     },
     "metadata": {},
     "execution_count": 20
    }
   ],
   "source": [
    "from mindquantum.core.operators import QubitOperator\n",
    "from mindquantum import Hamiltonian\n",
    "ham = Hamiltonian(QubitOperator('Z0 Y1', 0.3))\n",
    "ham"
   ]
  },
  {
   "cell_type": "code",
   "execution_count": 21,
   "metadata": {},
   "outputs": [],
   "source": [
    "def bitphaseflip_operator(phase_inversion_qubit, n_qubits):   # 定义可以翻转某一位量子比特相位的函数\n",
    "    s = [1 for i in range(1 << n_qubits)]\n",
    "    for i in phase_inversion_qubit:\n",
    "        s[i] = -1\n",
    "    if s[0] == -1:\n",
    "        for i in range(len(s)):\n",
    "            s[i] = -1 * s[i]\n",
    "    circuit = Circuit()\n",
    "    length = len(s)\n",
    "    cz = []\n",
    "    for i in range(length):\n",
    "        if s[i] == -1:\n",
    "            cz.append([])\n",
    "            current = i\n",
    "            t = 0\n",
    "            while current != 0:\n",
    "                if (current & 1) == 1:\n",
    "                    cz[-1].append(t)\n",
    "                t += 1\n",
    "                current = current >> 1\n",
    "            for j in range(i + 1, length):\n",
    "                if i & j == i:\n",
    "                    s[j] = -1 * s[j]\n",
    "    for i in cz:\n",
    "        if i:\n",
    "            if len(i) > 1:\n",
    "                circuit += Z.on(i[-1], i[:-1])\n",
    "            else:\n",
    "                circuit += Z.on(i[0])\n",
    "\n",
    "    return circuit"
   ]
  },
  {
   "cell_type": "code",
   "execution_count": 52,
   "metadata": {},
   "outputs": [
    {
     "output_type": "display_data",
     "data": {
      "text/plain": "",
      "text/html": "<pre style=\"white-space:pre;overflow-x:auto;line-height:normal;font-family:Menlo,'DejaVu Sans Mono',consolas,'Courier New',monospace\"></pre>\n"
     },
     "metadata": {}
    },
    {
     "output_type": "execute_result",
     "data": {
      "text/plain": "q0: ──H────●──\n           │\nq1: ──H────Z──\n           │\nq2: ──H────●──\n\nq3: ──H───────",
      "text/html": "<pre style=\"white-space: pre;\"><span style=\"color: #000080; text-decoration-color: #000080; font-weight: bold\">q0: ──H────●──</span>\n<span style=\"color: #000080; text-decoration-color: #000080; font-weight: bold\">           │</span>\n<span style=\"color: #000080; text-decoration-color: #000080; font-weight: bold\">q1: ──H────Z──</span>\n<span style=\"color: #000080; text-decoration-color: #000080; font-weight: bold\">           │</span>\n<span style=\"color: #000080; text-decoration-color: #000080; font-weight: bold\">q2: ──H────●──</span>\n\n<span style=\"color: #000080; text-decoration-color: #000080; font-weight: bold\">q3: ──H───────</span>\n</pre>\n"
     },
     "metadata": {},
     "execution_count": 52
    }
   ],
   "source": [
    "from mindquantum import Circuit, UN, H, Z\n",
    "\n",
    "n_qubits = 4                                # 设定量子比特数为3\n",
    "sim = Simulator('projectq', n_qubits)        # 使用projectq模拟器，命名为sim\n",
    "\n",
    "circuit = Circuit()                          # 初始化量子线路，命名为circuit\n",
    "circuit += UN(H, n_qubits)                   # 每位量子比特上执行H门操作\n",
    "circuit += Z.on([1], [0,2])\n",
    "\n",
    "sim.apply_circuit(circuit)                   # 通过模拟器sim运行搭建好的量子线路circuit\n",
    "\n",
    "circuit "
   ]
  },
  {
   "cell_type": "code",
   "execution_count": 47,
   "metadata": {
    "tags": []
   },
   "outputs": [
    {
     "output_type": "stream",
     "name": "stdout",
     "text": "√2/4¦000⟩\n√2/4¦001⟩\n√2/4¦010⟩\n√2/4¦011⟩\n√2/4¦100⟩\n√2/4¦101⟩\n√2/4¦110⟩\n√2/4¦111⟩\n"
    }
   ],
   "source": [
    "print(sim.get_qs(True))                      # 打印模拟器sim中运行量子线路circuit后的末态\n"
   ]
  },
  {
   "cell_type": "code",
   "execution_count": 48,
   "metadata": {},
   "outputs": [
    {
     "output_type": "display_data",
     "data": {
      "text/plain": "",
      "text/html": "<pre style=\"white-space:pre;overflow-x:auto;line-height:normal;font-family:Menlo,'DejaVu Sans Mono',consolas,'Courier New',monospace\"></pre>\n"
     },
     "metadata": {}
    },
    {
     "output_type": "execute_result",
     "data": {
      "text/plain": "q0: ──H────●────●──\n           │    │\nq1: ──H────Z────●──\n                │\nq2: ──H─────────Z──",
      "text/html": "<pre style=\"white-space: pre;\"><span style=\"color: #000080; text-decoration-color: #000080; font-weight: bold\">q0: ──H────●────●──</span>\n<span style=\"color: #000080; text-decoration-color: #000080; font-weight: bold\">           │    │</span>\n<span style=\"color: #000080; text-decoration-color: #000080; font-weight: bold\">q1: ──H────Z────●──</span>\n<span style=\"color: #000080; text-decoration-color: #000080; font-weight: bold\">                │</span>\n<span style=\"color: #000080; text-decoration-color: #000080; font-weight: bold\">q2: ──H─────────Z──</span>\n</pre>\n"
     },
     "metadata": {},
     "execution_count": 48
    }
   ],
   "source": [
    "sim.reset()                                                      # 重置模拟器sim维护好的量子态，使得初始化的量子态为|000>\n",
    "\n",
    "phase_inversion_qubit = [3]                                      # 翻转|4>态的相位\n",
    "operator = bitphaseflip_operator(phase_inversion_qubit, n_qubits)# 调用我们定义好的bitphaseflip_operator()函数\n",
    "\n",
    "circuit += operator                                              # 在量子线路circuit中添加翻转|4>态的相位所需的量子门\n",
    "\n",
    "sim.apply_circuit(circuit)                                       # 通过模拟器sim再次运行搭建好的量子线路circuit\n",
    "\n",
    "circuit  "
   ]
  },
  {
   "cell_type": "code",
   "execution_count": 49,
   "metadata": {
    "tags": []
   },
   "outputs": [
    {
     "output_type": "stream",
     "name": "stdout",
     "text": "√2/4¦000⟩\n√2/4¦001⟩\n√2/4¦010⟩\n-√2/4¦011⟩\n√2/4¦100⟩\n√2/4¦101⟩\n√2/4¦110⟩\n√2/4¦111⟩\n"
    }
   ],
   "source": [
    "print(sim.get_qs(True))                      # 打印模拟器sim中运行量子线路circuit后的末态\n"
   ]
  },
  {
   "cell_type": "code",
   "execution_count": null,
   "metadata": {},
   "outputs": [],
   "source": []
  }
 ],
 "metadata": {
  "language_info": {
   "name": "python",
   "version": "3.7.5-final"
  },
  "orig_nbformat": 4,
  "kernelspec": {
   "name": "python37564bite7a05fad15414aa0842ed586521badf4",
   "display_name": "Python 3.7.5 64-bit"
  }
 },
 "nbformat": 4,
 "nbformat_minor": 2
}