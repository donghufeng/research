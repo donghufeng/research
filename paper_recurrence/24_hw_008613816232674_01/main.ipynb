{
 "cells": [
  {
   "cell_type": "markdown",
   "metadata": {},
   "source": [
    "<script\n",
    "  src=\"https://cdn.mathjax.org/mathjax/latest/MathJax.js?config=TeX-AMS-MML_HTMLorMML\"\n",
    "  type=\"text/javascript\">\n",
    "</script>\n",
    "\n",
    "# Title: Quantum simulation with hybrid tensor networks\n",
    "\n",
    "## Introduction: \n",
    "This paper proposes a general framework denoting hybrid tensor networks, which is the combination of classical tensor networks and quantum tensor networks. More precisely, the paper summarizes the general strategy to contract indices between different types of tensors:\n",
    "\n",
    "    1. classical tensor + quantum tensor, with classical indices\n",
    "    2. classical tensor + quantum tensor, with classical indices + quantum indices \n",
    "    3. classical tensor + quantum tensor, with quantum indices\n",
    "    4. quantum tensor + quantum tensor, with quantum indices + classical indices\n",
    "    5. quantum tensor + quantum tensor, with quantum indices\n",
    "\n",
    "These operations can be performed with a combination of classical tensor contraction and quantum circuit measurement. The combination of these operations provides great flexibility and expressiveness to the hybrid tensor networks. More precisely, one can use a tree-structured tensor network where each layer is represented by a quantum tensor (prepared by a quantum circuit). Thus, each building block is a large full-rank tensor and the tensor network is much more powerful after contraction than conventional low-rank proposals such as the MPS approach (where all building blocks are just small pieces due to the limitation of computational resources).\n",
    "\n",
    "In this repetition, we show how to define a hybrid tensor network with two layers of quantum tensors (quantum circuit), which serves as the $|\\Phi(\\theta)>$ ansatz for VQE problem, and the optimization of the circuit parameters using the ansatz-based imaginary time evolution method."
   ]
  },
  {
   "cell_type": "code",
   "execution_count": null,
   "metadata": {},
   "outputs": [],
   "source": [
    "## 安装最新版Minduantum\n",
    "\n",
    "!pip install https://hiq.huaweicloud.com/download/mindquantum/newest/linux/mindquantum-master-cp37-cp37m-linux_x86_64.whl -i https://pypi.tuna.tsinghua.edu.cn/simple\n",
    "\n",
    "!pip show mindquantum"
   ]
  },
  {
   "cell_type": "markdown",
   "metadata": {},
   "source": [
    "We first define our hybrid quantum tensor. In our experiment, we focus on the special case of a hybrid tensor tree consisting of two layers of quantum tensors connected by quantum indices. This hybrid tensor tree serves as an ansatz for our VQE target, which is prepared with a set of quantum circuits. In the following, we implement this idea using the QuantumTensor class."
   ]
  },
  {
   "cell_type": "markdown",
   "metadata": {},
   "source": [
    "![image](./circuit.png)"
   ]
  },
  {
   "cell_type": "code",
   "execution_count": 2,
   "metadata": {},
   "outputs": [
    {
     "data": {
      "text/html": [
       "<pre style=\"white-space:pre;overflow-x:auto;line-height:normal;font-family:Menlo,'DejaVu Sans Mono',consolas,'Courier New',monospace\"></pre>\n"
      ],
      "text/plain": []
     },
     "metadata": {},
     "output_type": "display_data"
    },
    {
     "data": {
      "text/html": [
       "<pre style=\"white-space: pre;\"><span style=\"color: #000080; text-decoration-color: #000080; font-weight: bold\">q0: ──</span><span style=\"color: #800080; text-decoration-color: #800080; font-weight: bold\">RY</span><span style=\"color: #000080; text-decoration-color: #000080; font-weight: bold\">(default_theta_0)────X────</span><span style=\"color: #800080; text-decoration-color: #800080; font-weight: bold\">RX</span><span style=\"color: #000080; text-decoration-color: #000080; font-weight: bold\">(default_theta_8)────</span><span style=\"color: #800080; text-decoration-color: #800080; font-weight: bold\">RY</span><span style=\"color: #000080; text-decoration-color: #000080; font-weight: bold\">(default_theta_16)─────────────────────────────────────X──────────────</span><span style=\"color: #800080; text-decoration-color: #800080; font-weight: bold\">RY</span><span style=\"color: #000080; text-decoration-color: #000080; font-weight: bold\">(default_theta_24)─────────────────────────────────────X──────────────</span><span style=\"color: #800080; text-decoration-color: #800080; font-weight: bold\">RY</span><span style=\"color: #000080; text-decoration-color: #000080; font-weight: bold\">(default_theta_32)─────────────────────────────────────X──────────────</span><span style=\"color: #800080; text-decoration-color: #800080; font-weight: bold\">RX</span><span style=\"color: #000080; text-decoration-color: #000080; font-weight: bold\">(default_theta_40)────</span><span style=\"color: #800080; text-decoration-color: #800080; font-weight: bold\">RY</span><span style=\"color: #000080; text-decoration-color: #000080; font-weight: bold\">(default_theta_48)─────────────────────────────────────X──────────────</span><span style=\"color: #800080; text-decoration-color: #800080; font-weight: bold\">RY</span><span style=\"color: #000080; text-decoration-color: #000080; font-weight: bold\">(default_theta_56)─────────────────────────────────────X──────────────────────────────────────────────────────────────────────────────────────────────────────────────────────</span>\n",
       "<span style=\"color: #000080; text-decoration-color: #000080; font-weight: bold\">                             │                                                                                    │                                                                       │                                                                       │                                                                                               │                                                                       │</span>\n",
       "<span style=\"color: #000080; text-decoration-color: #000080; font-weight: bold\">q1: ──</span><span style=\"color: #800080; text-decoration-color: #800080; font-weight: bold\">RY</span><span style=\"color: #000080; text-decoration-color: #000080; font-weight: bold\">(default_theta_1)────●─────────────X─────────────</span><span style=\"color: #800080; text-decoration-color: #800080; font-weight: bold\">RX</span><span style=\"color: #000080; text-decoration-color: #000080; font-weight: bold\">(default_theta_9)─────</span><span style=\"color: #800080; text-decoration-color: #800080; font-weight: bold\">RY</span><span style=\"color: #000080; text-decoration-color: #000080; font-weight: bold\">(default_theta_17)─────────────●───────────────────────X──────────────</span><span style=\"color: #800080; text-decoration-color: #800080; font-weight: bold\">RY</span><span style=\"color: #000080; text-decoration-color: #000080; font-weight: bold\">(default_theta_25)─────────────●───────────────────────X──────────────</span><span style=\"color: #800080; text-decoration-color: #800080; font-weight: bold\">RY</span><span style=\"color: #000080; text-decoration-color: #000080; font-weight: bold\">(default_theta_33)─────────────●───────────────────────X──────────────</span><span style=\"color: #800080; text-decoration-color: #800080; font-weight: bold\">RX</span><span style=\"color: #000080; text-decoration-color: #000080; font-weight: bold\">(default_theta_41)────</span><span style=\"color: #800080; text-decoration-color: #800080; font-weight: bold\">RY</span><span style=\"color: #000080; text-decoration-color: #000080; font-weight: bold\">(default_theta_49)─────────────●───────────────────────X──────────────</span><span style=\"color: #800080; text-decoration-color: #800080; font-weight: bold\">RY</span><span style=\"color: #000080; text-decoration-color: #000080; font-weight: bold\">(default_theta_57)─────────────●───────────────────────X──────────────────────────────────────────────────────────────────────────────────────────────</span>\n",
       "<span style=\"color: #000080; text-decoration-color: #000080; font-weight: bold\">                                           │                                                                                              │                                                                       │                                                                       │                                                                                               │                                                                       │</span>\n",
       "<span style=\"color: #000080; text-decoration-color: #000080; font-weight: bold\">q2: ──</span><span style=\"color: #800080; text-decoration-color: #800080; font-weight: bold\">RY</span><span style=\"color: #000080; text-decoration-color: #000080; font-weight: bold\">(default_theta_2)──────────────────●──────────────────────X──────────────</span><span style=\"color: #800080; text-decoration-color: #800080; font-weight: bold\">RX</span><span style=\"color: #000080; text-decoration-color: #000080; font-weight: bold\">(default_theta_10)────</span><span style=\"color: #800080; text-decoration-color: #800080; font-weight: bold\">RY</span><span style=\"color: #000080; text-decoration-color: #000080; font-weight: bold\">(default_theta_18)─────────────●───────────────────────X──────────────</span><span style=\"color: #800080; text-decoration-color: #800080; font-weight: bold\">RY</span><span style=\"color: #000080; text-decoration-color: #000080; font-weight: bold\">(default_theta_26)─────────────●───────────────────────X──────────────</span><span style=\"color: #800080; text-decoration-color: #800080; font-weight: bold\">RY</span><span style=\"color: #000080; text-decoration-color: #000080; font-weight: bold\">(default_theta_34)─────────────●───────────────────────X──────────────</span><span style=\"color: #800080; text-decoration-color: #800080; font-weight: bold\">RX</span><span style=\"color: #000080; text-decoration-color: #000080; font-weight: bold\">(default_theta_42)────</span><span style=\"color: #800080; text-decoration-color: #800080; font-weight: bold\">RY</span><span style=\"color: #000080; text-decoration-color: #000080; font-weight: bold\">(default_theta_50)─────────────●───────────────────────X──────────────</span><span style=\"color: #800080; text-decoration-color: #800080; font-weight: bold\">RY</span><span style=\"color: #000080; text-decoration-color: #000080; font-weight: bold\">(default_theta_58)─────────────●───────────────────────X──────────────────────────────────────────────────────────────────────</span>\n",
       "<span style=\"color: #000080; text-decoration-color: #000080; font-weight: bold\">                                                                  │                                                                                               │                                                                       │                                                                       │                                                                                               │                                                                       │</span>\n",
       "<span style=\"color: #000080; text-decoration-color: #000080; font-weight: bold\">q3: ──</span><span style=\"color: #800080; text-decoration-color: #800080; font-weight: bold\">RY</span><span style=\"color: #000080; text-decoration-color: #000080; font-weight: bold\">(default_theta_3)─────────────────────────────────────────●───────────────────────X──────────────</span><span style=\"color: #800080; text-decoration-color: #800080; font-weight: bold\">RX</span><span style=\"color: #000080; text-decoration-color: #000080; font-weight: bold\">(default_theta_11)────</span><span style=\"color: #800080; text-decoration-color: #800080; font-weight: bold\">RY</span><span style=\"color: #000080; text-decoration-color: #000080; font-weight: bold\">(default_theta_19)─────────────●───────────────────────X──────────────</span><span style=\"color: #800080; text-decoration-color: #800080; font-weight: bold\">RY</span><span style=\"color: #000080; text-decoration-color: #000080; font-weight: bold\">(default_theta_27)─────────────●───────────────────────X──────────────</span><span style=\"color: #800080; text-decoration-color: #800080; font-weight: bold\">RY</span><span style=\"color: #000080; text-decoration-color: #000080; font-weight: bold\">(default_theta_35)─────────────●───────────────────────X──────────────</span><span style=\"color: #800080; text-decoration-color: #800080; font-weight: bold\">RX</span><span style=\"color: #000080; text-decoration-color: #000080; font-weight: bold\">(default_theta_43)────</span><span style=\"color: #800080; text-decoration-color: #800080; font-weight: bold\">RY</span><span style=\"color: #000080; text-decoration-color: #000080; font-weight: bold\">(default_theta_51)─────────────●───────────────────────X──────────────</span><span style=\"color: #800080; text-decoration-color: #800080; font-weight: bold\">RY</span><span style=\"color: #000080; text-decoration-color: #000080; font-weight: bold\">(default_theta_59)─────────────●───────────────────────X──────────────────────────────────────────────</span>\n",
       "<span style=\"color: #000080; text-decoration-color: #000080; font-weight: bold\">                                                                                          │                                                                                               │                                                                       │                                                                       │                                                                                               │                                                                       │</span>\n",
       "<span style=\"color: #000080; text-decoration-color: #000080; font-weight: bold\">q4: ──</span><span style=\"color: #800080; text-decoration-color: #800080; font-weight: bold\">RY</span><span style=\"color: #000080; text-decoration-color: #000080; font-weight: bold\">(default_theta_4)─────────────────────────────────────────────────────────────────●───────────────────────X──────────────</span><span style=\"color: #800080; text-decoration-color: #800080; font-weight: bold\">RX</span><span style=\"color: #000080; text-decoration-color: #000080; font-weight: bold\">(default_theta_12)────</span><span style=\"color: #800080; text-decoration-color: #800080; font-weight: bold\">RY</span><span style=\"color: #000080; text-decoration-color: #000080; font-weight: bold\">(default_theta_20)─────────────●───────────────────────X──────────────</span><span style=\"color: #800080; text-decoration-color: #800080; font-weight: bold\">RY</span><span style=\"color: #000080; text-decoration-color: #000080; font-weight: bold\">(default_theta_28)─────────────●───────────────────────X──────────────</span><span style=\"color: #800080; text-decoration-color: #800080; font-weight: bold\">RY</span><span style=\"color: #000080; text-decoration-color: #000080; font-weight: bold\">(default_theta_36)─────────────●───────────────────────X──────────────</span><span style=\"color: #800080; text-decoration-color: #800080; font-weight: bold\">RX</span><span style=\"color: #000080; text-decoration-color: #000080; font-weight: bold\">(default_theta_44)────</span><span style=\"color: #800080; text-decoration-color: #800080; font-weight: bold\">RY</span><span style=\"color: #000080; text-decoration-color: #000080; font-weight: bold\">(default_theta_52)─────────────●───────────────────────X──────────────</span><span style=\"color: #800080; text-decoration-color: #800080; font-weight: bold\">RY</span><span style=\"color: #000080; text-decoration-color: #000080; font-weight: bold\">(default_theta_60)─────────────●───────────────────────X──────────────────────</span>\n",
       "<span style=\"color: #000080; text-decoration-color: #000080; font-weight: bold\">                                                                                                                  │                                                                                               │                                                                       │                                                                       │                                                                                               │                                                                       │</span>\n",
       "<span style=\"color: #000080; text-decoration-color: #000080; font-weight: bold\">q5: ──</span><span style=\"color: #800080; text-decoration-color: #800080; font-weight: bold\">RY</span><span style=\"color: #000080; text-decoration-color: #000080; font-weight: bold\">(default_theta_5)─────────────────────────────────────────────────────────────────────────────────────────●───────────────────────X──────────────</span><span style=\"color: #800080; text-decoration-color: #800080; font-weight: bold\">RX</span><span style=\"color: #000080; text-decoration-color: #000080; font-weight: bold\">(default_theta_13)────</span><span style=\"color: #800080; text-decoration-color: #800080; font-weight: bold\">RY</span><span style=\"color: #000080; text-decoration-color: #000080; font-weight: bold\">(default_theta_21)─────────────●───────────────────────X──────────────</span><span style=\"color: #800080; text-decoration-color: #800080; font-weight: bold\">RY</span><span style=\"color: #000080; text-decoration-color: #000080; font-weight: bold\">(default_theta_29)─────────────●───────────────────────X──────────────</span><span style=\"color: #800080; text-decoration-color: #800080; font-weight: bold\">RY</span><span style=\"color: #000080; text-decoration-color: #000080; font-weight: bold\">(default_theta_37)─────────────●───────────────────────X──────────────</span><span style=\"color: #800080; text-decoration-color: #800080; font-weight: bold\">RX</span><span style=\"color: #000080; text-decoration-color: #000080; font-weight: bold\">(default_theta_45)────</span><span style=\"color: #800080; text-decoration-color: #800080; font-weight: bold\">RY</span><span style=\"color: #000080; text-decoration-color: #000080; font-weight: bold\">(default_theta_53)─────────────●───────────────────────X──────────────</span><span style=\"color: #800080; text-decoration-color: #800080; font-weight: bold\">RY</span><span style=\"color: #000080; text-decoration-color: #000080; font-weight: bold\">(default_theta_61)─────────────●──────────────X───────</span>\n",
       "<span style=\"color: #000080; text-decoration-color: #000080; font-weight: bold\">                                                                                                                                          │                                                                                               │                                                                       │                                                                       │                                                                                               │                                                              │</span>\n",
       "<span style=\"color: #000080; text-decoration-color: #000080; font-weight: bold\">q6: ──</span><span style=\"color: #800080; text-decoration-color: #800080; font-weight: bold\">RY</span><span style=\"color: #000080; text-decoration-color: #000080; font-weight: bold\">(default_theta_6)─────────────────────────────────────────────────────────────────────────────────────────────────────────────────●───────────────────────X──────────────</span><span style=\"color: #800080; text-decoration-color: #800080; font-weight: bold\">RX</span><span style=\"color: #000080; text-decoration-color: #000080; font-weight: bold\">(default_theta_14)────</span><span style=\"color: #800080; text-decoration-color: #800080; font-weight: bold\">RY</span><span style=\"color: #000080; text-decoration-color: #000080; font-weight: bold\">(default_theta_22)─────────────●───────────────────────X──────────────</span><span style=\"color: #800080; text-decoration-color: #800080; font-weight: bold\">RY</span><span style=\"color: #000080; text-decoration-color: #000080; font-weight: bold\">(default_theta_30)─────────────●───────────────────────X──────────────</span><span style=\"color: #800080; text-decoration-color: #800080; font-weight: bold\">RY</span><span style=\"color: #000080; text-decoration-color: #000080; font-weight: bold\">(default_theta_38)─────────────●───────────────────────X──────────────</span><span style=\"color: #800080; text-decoration-color: #800080; font-weight: bold\">RX</span><span style=\"color: #000080; text-decoration-color: #000080; font-weight: bold\">(default_theta_46)────</span><span style=\"color: #800080; text-decoration-color: #800080; font-weight: bold\">RY</span><span style=\"color: #000080; text-decoration-color: #000080; font-weight: bold\">(default_theta_54)─────────────●───────────────────────X──────────────</span><span style=\"color: #800080; text-decoration-color: #800080; font-weight: bold\">RY</span><span style=\"color: #000080; text-decoration-color: #000080; font-weight: bold\">(default_theta_62)────●────X──</span>\n",
       "<span style=\"color: #000080; text-decoration-color: #000080; font-weight: bold\">                                                                                                                                                                  │                                                                                               │                                                                       │                                                                       │                                                                                               │                                           │</span>\n",
       "<span style=\"color: #000080; text-decoration-color: #000080; font-weight: bold\">q7: ──</span><span style=\"color: #800080; text-decoration-color: #800080; font-weight: bold\">RY</span><span style=\"color: #000080; text-decoration-color: #000080; font-weight: bold\">(default_theta_7)─────────────────────────────────────────────────────────────────────────────────────────────────────────────────────────────────────────●──────────────</span><span style=\"color: #800080; text-decoration-color: #800080; font-weight: bold\">RX</span><span style=\"color: #000080; text-decoration-color: #000080; font-weight: bold\">(default_theta_15)────</span><span style=\"color: #800080; text-decoration-color: #800080; font-weight: bold\">RY</span><span style=\"color: #000080; text-decoration-color: #000080; font-weight: bold\">(default_theta_23)─────────────────────────────────────●──────────────</span><span style=\"color: #800080; text-decoration-color: #800080; font-weight: bold\">RY</span><span style=\"color: #000080; text-decoration-color: #000080; font-weight: bold\">(default_theta_31)─────────────────────────────────────●──────────────</span><span style=\"color: #800080; text-decoration-color: #800080; font-weight: bold\">RY</span><span style=\"color: #000080; text-decoration-color: #000080; font-weight: bold\">(default_theta_39)─────────────────────────────────────●──────────────</span><span style=\"color: #800080; text-decoration-color: #800080; font-weight: bold\">RX</span><span style=\"color: #000080; text-decoration-color: #000080; font-weight: bold\">(default_theta_47)────</span><span style=\"color: #800080; text-decoration-color: #800080; font-weight: bold\">RY</span><span style=\"color: #000080; text-decoration-color: #000080; font-weight: bold\">(default_theta_55)─────────────────────────────────────●──────────────</span><span style=\"color: #800080; text-decoration-color: #800080; font-weight: bold\">RY</span><span style=\"color: #000080; text-decoration-color: #000080; font-weight: bold\">(default_theta_63)─────────●──</span>\n",
       "</pre>\n"
      ],
      "text/plain": [
       "q0: ──RY(default_theta_0)────X────RX(default_theta_8)────RY(default_theta_16)─────────────────────────────────────X──────────────RY(default_theta_24)─────────────────────────────────────X──────────────RY(default_theta_32)─────────────────────────────────────X──────────────RX(default_theta_40)────RY(default_theta_48)─────────────────────────────────────X──────────────RY(default_theta_56)─────────────────────────────────────X──────────────────────────────────────────────────────────────────────────────────────────────────────────────────────\n",
       "                             │                                                                                    │                                                                       │                                                                       │                                                                                               │                                                                       │\n",
       "q1: ──RY(default_theta_1)────●─────────────X─────────────RX(default_theta_9)─────RY(default_theta_17)─────────────●───────────────────────X──────────────RY(default_theta_25)─────────────●───────────────────────X──────────────RY(default_theta_33)─────────────●───────────────────────X──────────────RX(default_theta_41)────RY(default_theta_49)─────────────●───────────────────────X──────────────RY(default_theta_57)─────────────●───────────────────────X──────────────────────────────────────────────────────────────────────────────────────────────\n",
       "                                           │                                                                                              │                                                                       │                                                                       │                                                                                               │                                                                       │\n",
       "q2: ──RY(default_theta_2)──────────────────●──────────────────────X──────────────RX(default_theta_10)────RY(default_theta_18)─────────────●───────────────────────X──────────────RY(default_theta_26)─────────────●───────────────────────X──────────────RY(default_theta_34)─────────────●───────────────────────X──────────────RX(default_theta_42)────RY(default_theta_50)─────────────●───────────────────────X──────────────RY(default_theta_58)─────────────●───────────────────────X──────────────────────────────────────────────────────────────────────\n",
       "                                                                  │                                                                                               │                                                                       │                                                                       │                                                                                               │                                                                       │\n",
       "q3: ──RY(default_theta_3)─────────────────────────────────────────●───────────────────────X──────────────RX(default_theta_11)────RY(default_theta_19)─────────────●───────────────────────X──────────────RY(default_theta_27)─────────────●───────────────────────X──────────────RY(default_theta_35)─────────────●───────────────────────X──────────────RX(default_theta_43)────RY(default_theta_51)─────────────●───────────────────────X──────────────RY(default_theta_59)─────────────●───────────────────────X──────────────────────────────────────────────\n",
       "                                                                                          │                                                                                               │                                                                       │                                                                       │                                                                                               │                                                                       │\n",
       "q4: ──RY(default_theta_4)─────────────────────────────────────────────────────────────────●───────────────────────X──────────────RX(default_theta_12)────RY(default_theta_20)─────────────●───────────────────────X──────────────RY(default_theta_28)─────────────●───────────────────────X──────────────RY(default_theta_36)─────────────●───────────────────────X──────────────RX(default_theta_44)────RY(default_theta_52)─────────────●───────────────────────X──────────────RY(default_theta_60)─────────────●───────────────────────X──────────────────────\n",
       "                                                                                                                  │                                                                                               │                                                                       │                                                                       │                                                                                               │                                                                       │\n",
       "q5: ──RY(default_theta_5)─────────────────────────────────────────────────────────────────────────────────────────●───────────────────────X──────────────RX(default_theta_13)────RY(default_theta_21)─────────────●───────────────────────X──────────────RY(default_theta_29)─────────────●───────────────────────X──────────────RY(default_theta_37)─────────────●───────────────────────X──────────────RX(default_theta_45)────RY(default_theta_53)─────────────●───────────────────────X──────────────RY(default_theta_61)─────────────●──────────────X───────\n",
       "                                                                                                                                          │                                                                                               │                                                                       │                                                                       │                                                                                               │                                                              │\n",
       "q6: ──RY(default_theta_6)─────────────────────────────────────────────────────────────────────────────────────────────────────────────────●───────────────────────X──────────────RX(default_theta_14)────RY(default_theta_22)─────────────●───────────────────────X──────────────RY(default_theta_30)─────────────●───────────────────────X──────────────RY(default_theta_38)─────────────●───────────────────────X──────────────RX(default_theta_46)────RY(default_theta_54)─────────────●───────────────────────X──────────────RY(default_theta_62)────●────X──\n",
       "                                                                                                                                                                  │                                                                                               │                                                                       │                                                                       │                                                                                               │                                           │\n",
       "q7: ──RY(default_theta_7)─────────────────────────────────────────────────────────────────────────────────────────────────────────────────────────────────────────●──────────────RX(default_theta_15)────RY(default_theta_23)─────────────────────────────────────●──────────────RY(default_theta_31)─────────────────────────────────────●──────────────RY(default_theta_39)─────────────────────────────────────●──────────────RX(default_theta_47)────RY(default_theta_55)─────────────────────────────────────●──────────────RY(default_theta_63)─────────●──"
      ]
     },
     "execution_count": 2,
     "metadata": {},
     "output_type": "execute_result"
    }
   ],
   "source": [
    "import numpy as np\n",
    "import itertools\n",
    "from mindquantum import Hamiltonian\n",
    "from mindquantum.core.operators import QubitOperator\n",
    "\n",
    "import mindquantum\n",
    "from mindquantum import Circuit, RY, RX, RZ\n",
    "from mindquantum import X, Z, Y\n",
    "# from mindquantum.core.gates import X, Z#, ZZ\n",
    "import numpy as np\n",
    "from mindquantum.core import ParameterResolver\n",
    "import math\n",
    "from mindquantum import Simulator, Measure\n",
    "\n",
    "class Parameter_manager:\n",
    "    def __init__(self, key='default'):\n",
    "        self.parameters = []\n",
    "        self.count = 0\n",
    "        self.key = key\n",
    "        self.grad_key = None\n",
    "    \n",
    "    def random_parameter_resolver(self):\n",
    "        pr = {k:np.random.randn()*2*math.pi for k in self.parameters}\n",
    "        pr = ParameterResolver(pr)\n",
    "        return pr\n",
    "\n",
    "    def _replay(self):\n",
    "        self.count = 0\n",
    "\n",
    "    def set_grad_key(self, key):\n",
    "        self.grad_key = key\n",
    "        self._replay()    \n",
    "\n",
    "    def create(self):\n",
    "        param = '{}_theta_{}'.format(self.key, self.count)\n",
    "        self.count += 1\n",
    "        self.parameters.append(param)\n",
    "        if self.grad_key is None or param!=self.grad_key:\n",
    "            is_grad = False\n",
    "        else:\n",
    "            is_grad = True\n",
    "        return param, is_grad\n",
    "\n",
    "\n",
    "\n",
    "def RY_gate(circ, i, P):\n",
    "    ry, is_grad = P.create()\n",
    "    if not is_grad:\n",
    "        circ += RY(ry).on(i)\n",
    "    else:\n",
    "        circ += Y.on(i)\n",
    "        circ += RY(ry).on(i)\n",
    "\n",
    "def RX_gate(circ, i, P):\n",
    "    rx, is_grad = P.create()\n",
    "    if not is_grad:\n",
    "        circ += RX(rx).on(i)\n",
    "    else:\n",
    "        circ += X.on(i)\n",
    "        circ += RX(rx).on(i)\n",
    "\n",
    "def RZ_gate(circ, i, P):\n",
    "    rz, is_grad = P.create()\n",
    "    if not is_grad:\n",
    "        circ += RZ(rz).on(i)\n",
    "    else:\n",
    "        circ += Z.on(i)\n",
    "        circ += RZ(rz).on(i)\n",
    "\n",
    "def RZZ_gate(circ, i, j, P):\n",
    "    circ += X.on(j, i)\n",
    "    RZ_gate(circ, j, P)\n",
    "    circ += X.on(j, i)\n",
    "\n",
    "\n",
    "def regular_block(C, n_qubits, P):\n",
    "    for i in range(n_qubits):\n",
    "        # C += RY(P.create()).on(i)\n",
    "        RY_gate(C, i, P)\n",
    "    for i in range(n_qubits-1):\n",
    "        C += X.on(i, i+1)\n",
    "        \n",
    "def special_block_1(C, n_qubits, P):\n",
    "    for i in range(n_qubits):\n",
    "        # C += RX(P.create()).on(i)\n",
    "        RX_gate(C, i, P)\n",
    "    \n",
    "def special_block_2(C, n_qubits, P):\n",
    "    for i in range(n_qubits):\n",
    "        RZ_gate(C, i, P)\n",
    "\n",
    "    for i in range(n_qubits-1):\n",
    "        RZZ_gate(C, i, i+1, P)\n",
    "    \n",
    "\n",
    "\n",
    "class QuantumTensor:\n",
    "    def __init__(self):\n",
    "        self.special_block = {\n",
    "            'first': special_block_1,\n",
    "            'second': special_block_2\n",
    "        }\n",
    "        self.depth = {\n",
    "            'first': 6,\n",
    "            'second': 8\n",
    "        }\n",
    "    \n",
    "        \n",
    "    def layer(self, P, n_qubits=8, layer_type='first'):\n",
    "        special_block = self.special_block[layer_type]\n",
    "        d = self.depth[layer_type]\n",
    "        \n",
    "        C = Circuit()\n",
    "        for i in range(d):\n",
    "            regular_block(C, n_qubits, P)\n",
    "            if i==0 or i==d//2: #first and d/2+1'th layer\n",
    "                special_block(C, n_qubits, P)\n",
    "\n",
    "        return C\n",
    "    \n",
    "qt = QuantumTensor()\n",
    "P = Parameter_manager()\n",
    "qt.layer(P)\n"
   ]
  },
  {
   "cell_type": "markdown",
   "metadata": {},
   "source": [
    "Next, we define the Hamiltonian for each subsystem of n_qubits, i.e., the second layer of the tree structure presented in the paper. Following the paper, we add an additional qubit (the last one), which is the index that connects to the first layer, and this qubit is measured with the 4 Pauli operators 'I', 'X', 'Y', 'Z'. There is one additional remark I need to make: Since the quantum tensor contraction method proposed in this paper only supports the tensor product of local observables, we need to show that the expectation calculation can be done in the same way with respect to more general Hamiltonians. It turns out that this is the case since the expectation value $<\\Phi|H|\\Phi>$ is a linear functional with respect to $H$ and we can always decompose $H$ into a linear combination of Pauli strings, each of which is the tensor product of local observables (i.e., Pauli operators). Therefore, no special treatment is needed for the interaction between subsystems. It is sufficient to split the Hamiltonian into local Hamiltonians for each subsystem (set of qubits).\n",
    "\n",
    "Note: The numerical experiment described in the paper uses case 4 (quantum tensor + quantum tensor, with quantum indices + classical indices) for the contraction. However, in this implementation we have used case 5 (quantum tensor + quantum tensor, with quantum indices) for the contraction. The side effect of this choice is that the resulting tensor network is no longer guaranteed to be normalized. We will show this in the experiments section using the optimization method of ansatz-based imaginary time evolution."
   ]
  },
  {
   "cell_type": "code",
   "execution_count": 3,
   "metadata": {},
   "outputs": [],
   "source": [
    "\n",
    "class Hamiltonian_1D:\n",
    "    def __init__(self, n_qubits=8):\n",
    "        self.n_qubits = n_qubits\n",
    "    \n",
    "    def local_Hamiltonian_with_pauli(self, f_first, f_last, pauli_type='X'):\n",
    "        if pauli_type=='I':\n",
    "            ham = self._local_Hamiltonian(f_first, f_last)\n",
    "        else:\n",
    "            ham = self._local_Hamiltonian_with_pauli(f_first, f_last, pauli_type)\n",
    "        ham = Hamiltonian(ham)\n",
    "        return ham\n",
    "    \n",
    "    def vac_Hamiltonian_with_pauli(self, pauli_type='X'):\n",
    "        if pauli_type=='I':\n",
    "            ham = QubitOperator('')\n",
    "        else:\n",
    "            ham = QubitOperator('{}{}'.format(pauli_type, self.n_qubits))\n",
    "        ham = Hamiltonian(ham)\n",
    "        return ham\n",
    "\n",
    "    def _local_Hamiltonian(self, f_first, f_last):\n",
    "        ham = None\n",
    "        g, h = 0.5, 0.32\n",
    "        for i in range(self.n_qubits):\n",
    "            if ham is None:\n",
    "                ham = QubitOperator('X{}'.format(i), g)\n",
    "            else:\n",
    "                ham += QubitOperator('X{}'.format(i), g)\n",
    "                \n",
    "            ham += QubitOperator('Z{}'.format(i), h)\n",
    "            if i<self.n_qubits-1:\n",
    "                ham += QubitOperator('Z{} Z{}'.format(i, i+1), 1)\n",
    "\n",
    "        i, j = 0, self.n_qubits-1\n",
    "        ham += QubitOperator('Z{}'.format(i), f_first)\n",
    "        ham += QubitOperator('Z{}'.format(j), f_last)\n",
    "        \n",
    "        return ham\n",
    "\n",
    "    \n",
    "    def _local_Hamiltonian_with_pauli(self, f_first, f_last, pauli_type='X'):\n",
    "        ham = None\n",
    "        g, h = 0.5, 0.32\n",
    "        for i in range(self.n_qubits):\n",
    "            if ham is None:\n",
    "                ham = QubitOperator('X{} {}{}'.format(i, pauli_type, self.n_qubits), g)\n",
    "            else:\n",
    "                ham += QubitOperator('X{} {}{}'.format(i, pauli_type, self.n_qubits), g)\n",
    "                \n",
    "            ham += QubitOperator('Z{} {}{}'.format(i, pauli_type, self.n_qubits), h)\n",
    "            if i<self.n_qubits-1:\n",
    "                ham += QubitOperator('Z{} Z{} {}{}'.format(i, i+1, pauli_type, self.n_qubits), 1)\n",
    "                \n",
    "        i, j = 0, self.n_qubits-1\n",
    "        ham += QubitOperator('Z{} {}{}'.format(i, pauli_type, self.n_qubits), f_first)\n",
    "        ham += QubitOperator('Z{} {}{}'.format(j, pauli_type, self.n_qubits), f_last)\n",
    "    \n",
    "        return ham\n",
    "    \n",
    "    \n",
    "H = Hamiltonian_1D(n_qubits=8)\n",
    "L = H.local_Hamiltonian_with_pauli(0.12, 0.89)"
   ]
  },
  {
   "cell_type": "markdown",
   "metadata": {},
   "source": [
    "Next, we define our operator component $M_{ij}$ for the first layer of the tensor tree using the expectation value obtained from measuring the quantum circuit of the second layer of the tensor tree."
   ]
  },
  {
   "cell_type": "code",
   "execution_count": 4,
   "metadata": {},
   "outputs": [
    {
     "data": {
      "text/plain": [
       "{'I': -0.016337062164902494,\n",
       " 'X': -0.0291263097549221,\n",
       " 'Y': 0.050951501161404344,\n",
       " 'Z': 0.026190910733539255}"
      ]
     },
     "execution_count": 4,
     "metadata": {},
     "output_type": "execute_result"
    }
   ],
   "source": [
    "from mindquantum import Simulator, Measure\n",
    "\n",
    "f_i, f_j = np.random.rand(), np.random.rand()\n",
    "\n",
    "def layer_operator_component(boundary_condition, n_qubits=8):\n",
    "    qt = QuantumTensor()\n",
    "    P = Parameter_manager()\n",
    "    circ = qt.layer(P, n_qubits=n_qubits+1, layer_type='second')\n",
    "    pr = P.random_parameter_resolver()\n",
    "    H = Hamiltonian_1D(n_qubits=n_qubits)\n",
    "\n",
    "    expectation = {}\n",
    "    for pauli_key in ['I', 'X', 'Y', 'Z']:\n",
    "        sim = Simulator('projectq', n_qubits+1)        \n",
    "        sim.apply_circuit(circ, pr=pr)\n",
    "\n",
    "        f_first, f_last = boundary_condition\n",
    "        ham = H.local_Hamiltonian_with_pauli(f_first, f_last, pauli_key)\n",
    "\n",
    "        E = sim.get_expectation(ham).real\n",
    "        expectation[pauli_key] = E\n",
    "            \n",
    "    return expectation\n",
    "        \n",
    "layer_operator_component((f_i, f_j), n_qubits=8)"
   ]
  },
  {
   "cell_type": "markdown",
   "metadata": {},
   "source": [
    "<script\n",
    "  src=\"https://cdn.mathjax.org/mathjax/latest/MathJax.js?config=TeX-AMS-MML_HTMLorMML\"\n",
    "  type=\"text/javascript\">\n",
    "</script>\n",
    "\n",
    "The Hamiltonian for the first layer is the tensor product of operator component $\\{M^0, M^1, ...\\}$ defined above, where each $M^j$ represents one subsystems. \n",
    "\n",
    "$$\\begin{aligned}\n",
    "H &= {\\bigotimes_{j=1}^N} M^j \\\\\n",
    "&= {\\bigotimes_{j=1}^N} \\left(\\sum_{i \\in \\{I, X, Y, Z\\}} \\alpha^j_i \\sigma^j_i \\right)\n",
    "\\end{aligned}\n",
    "$$\n",
    "$N$ is the number of qubits, $\\sigma_i^j$ is the Pauli operator $i \\in \\{I, X, Y, Z\\}$ on the $j$th qubit\n",
    "\n",
    "To do this, we firstly need to implement a tensor product of multiple QubitOperators. Below, we define a helper class that does this. Note that by default QubitOperator supports the tensor product by overloading the operator `*`. The author of this notebook did not know this when he wrote this piece of code. This method will be improved with the `*` operator in a future version. "
   ]
  },
  {
   "cell_type": "code",
   "execution_count": 5,
   "metadata": {},
   "outputs": [],
   "source": [
    "\n",
    "class QubitOperator_helper:\n",
    "    def __init__(self):\n",
    "        self.coeff = {'I': 0.5, 'X': 0.5, 'Y': -0.5, 'Z': 0.5}\n",
    "        self.verbose_dict = {0:{'I':1,'X':1,'Y':1,'Z':1}}\n",
    "\n",
    "    def get_coeff(self):\n",
    "        return self.coeff\n",
    "    \n",
    "    def initialize_single(self, ei, ex, ey, ez):\n",
    "        self._dict = {'I': self.coeff['I']*ei, 'X': self.coeff['X']*ex, 'Y': self.coeff['Y']*ey, 'Z': self.coeff['Z']*ez }\n",
    "        self.verbose_dict = {0:{'I':ei, 'X':ex, 'Y':ey, 'Z':ez}}\n",
    "        \n",
    "    def tensor_product(self, vqo):\n",
    "        _dict = {}\n",
    "        for ki, kj in itertools.product(self._dict.keys(), vqo._dict.keys()):\n",
    "            k = ki+kj\n",
    "            v = self._dict[ki]*vqo._dict[kj]\n",
    "            _dict[k] = v\n",
    "        self._dict = _dict\n",
    "\n",
    "        assert len(vqo.verbose_dict)==1\n",
    "        append_index = len(self.verbose_dict)\n",
    "        self.verbose_dict[append_index] = vqo.verbose_dict[0]\n",
    "\n",
    "        return self\n",
    "    \n",
    "    def to_QubitOperator(self):\n",
    "        return self._to_QubitOperator(self._dict)\n",
    "    \n",
    "    def _to_QubitOperator(self, _dict):\n",
    "        qo = None\n",
    "        for k, v in _dict.items():\n",
    "            S = ''\n",
    "            for i, s in enumerate(k):\n",
    "                if s!='I':\n",
    "                    S += '{}{} '.format(s, i)\n",
    "            \n",
    "            if qo is None:\n",
    "                qo = v * QubitOperator(S)\n",
    "            else:\n",
    "                qo += v * QubitOperator(S)\n",
    "        return qo\n"
   ]
  },
  {
   "cell_type": "markdown",
   "metadata": {},
   "source": [
    "To use this class, for example:"
   ]
  },
  {
   "cell_type": "code",
   "execution_count": 6,
   "metadata": {},
   "outputs": [
    {
     "data": {
      "text/plain": [
       "0.00825 [] +\n",
       "0.028874999999999998 [X0] +\n",
       "0.010499999999999999 [X0 X1] +\n",
       "-0.039375 [X0 Y1] +\n",
       "0.057749999999999996 [X0 Z1] +\n",
       "-0.0198 [Y0] +\n",
       "-0.0072 [Y0 X1] +\n",
       "0.027 [Y0 Y1] +\n",
       "-0.0396 [Y0 Z1] +\n",
       "0.045375000000000006 [Z0] +\n",
       "0.0165 [Z0 X1] +\n",
       "-0.061875000000000006 [Z0 Y1] +\n",
       "0.09075000000000001 [Z0 Z1] +\n",
       "0.003 [X1] +\n",
       "-0.011250000000000001 [Y1] +\n",
       "0.0165 [Z1] "
      ]
     },
     "execution_count": 6,
     "metadata": {},
     "output_type": "execute_result"
    }
   ],
   "source": [
    "V1, V2 = QubitOperator_helper(), QubitOperator_helper()\n",
    "V1.initialize_single(0.1, 0.35, 0.24, 0.55)\n",
    "V2.initialize_single(0.33, 0.12, 0.45, 0.66)\n",
    "V = V1.tensor_product(V2)\n",
    "V.to_QubitOperator()"
   ]
  },
  {
   "cell_type": "markdown",
   "metadata": {},
   "source": [
    "After we have defined the ansatz circuit and the Hamiltonian, we can contract the hybrid tensor network, i.e., determine the expectation energy. To do this, we first contract the second layer with the function `layer_operator_component` and then create the operator for the first layer with `QubitOperator_helper`:"
   ]
  },
  {
   "cell_type": "code",
   "execution_count": 7,
   "metadata": {},
   "outputs": [
    {
     "data": {
      "text/plain": [
       "-0.0002126847252403117 [] +\n",
       "-7.58560150444625e-05 [X0] +\n",
       "8.557613068092514e-05 [X0 X1] +\n",
       "6.24770733541745e-05 [X0 X1 X2] +\n",
       "0.00015773027366311788 [X0 X1 Y2] +\n",
       "-3.186767341277732e-05 [X0 X1 Z2] +\n",
       "4.027990518017392e-05 [X0 Y1] +\n",
       "2.9407389310742245e-05 [X0 Y1 X2] +\n",
       "7.424220301432056e-05 [X0 Y1 Y2] +\n",
       "-1.4999823585918912e-05 [X0 Y1 Z2] +\n",
       "-1.3172808094897985e-06 [X0 Z1] +\n",
       "-9.617150145453478e-07 [X0 Z1 X2] +\n",
       "-2.4279557970048797e-06 [X0 Z1 Y2] +\n",
       "4.905418636682631e-07 [X0 Z1 Z2] +\n",
       "-5.538065087283301e-05 [X0 X2] +\n",
       "-0.00013981457115148116 [X0 Y2] +\n",
       "2.8248002037447588e-05 [X0 Z2] +\n",
       "-0.00017419392842191975 [Y0] +\n",
       "0.0001965149681764904 [Y0 X1] +\n",
       "0.00014347084852122844 [Y0 X1 X2] +\n",
       "0.0003622080066338615 [Y0 X1 Y2] +\n",
       "-7.318015872814669e-05 [Y0 X1 Z2] +\n",
       "9.249780542366016e-05 [Y0 Y1] +\n",
       "6.753042149219665e-05 [Y0 Y1 X2] +\n",
       "0.0001704880092921025 [Y0 Y1 Y2] +\n",
       "-3.4445234099569577e-05 [Y0 Y1 Z2] +\n",
       "-3.0249719670264333e-06 [Y0 Z1] +\n",
       "-2.208459227759384e-06 [Y0 Z1 X2] +\n",
       "-5.5754992938549765e-06 [Y0 Z1 Y2] +\n",
       "1.1264685369736194e-06 [Y0 Z1 Z2] +\n",
       "-0.00012717479462171974 [Y0 X2] +\n",
       "-0.00032106681830342763 [Y0 Y2] +\n",
       "6.486803244395574e-05 [Y0 Z2] +\n",
       "0.00035335579404330514 [Z0] +\n",
       "-0.00039863446017020097 [Z0 X1] +\n",
       "-0.0002910334249910977 [Z0 X1 X2] +\n",
       "-0.000734746032496305 [Z0 X1 Y2] +\n",
       "0.00014844738464687756 [Z0 X1 Z2] +\n",
       "-0.00018763360915527574 [Z0 Y1] +\n",
       "-0.00013698678205739063 [Z0 Y1 X2] +\n",
       "-0.00034583826453673676 [Z0 Y1 Y2] +\n",
       "6.987283171420425e-05 [Z0 Y1 Z2] +\n",
       "6.136214855769104e-06 [Z0 Z1] +\n",
       "4.479902779085514e-06 [Z0 Z1 X2] +\n",
       "1.1310009470571764e-05 [Z0 Z1 Y2] +\n",
       "-2.285063480415919e-06 [Z0 Z1 Z2] +\n",
       "0.0002579765606238963 [Z0 X2] +\n",
       "0.0006512903265363704 [Z0 Y2] +\n",
       "-0.00013158607375075726 [Z0 Z2] +\n",
       "0.0002399379380835301 [X1] +\n",
       "0.0001751729137414189 [X1 X2] +\n",
       "0.00044224337247950805 [X1 Y2] +\n",
       "-8.935042738366613e-05 [X1 Z2] +\n",
       "0.00011293660180975304 [Y1] +\n",
       "8.245229481042549e-05 [Y1 X2] +\n",
       "0.00020815992693632666 [Y1 Y2] +\n",
       "-4.205643225727553e-05 [Y1 Z2] +\n",
       "-3.6933855128885423e-06 [Z1] +\n",
       "-2.6964518701406693e-06 [Z1 X2] +\n",
       "-6.807490629173267e-06 [Z1 Y2] +\n",
       "1.3753788863282914e-06 [Z1 Z2] +\n",
       "-0.0001552759989779869 [X2] +\n",
       "-0.0003920114131030343 [Y2] +\n",
       "7.920161042470796e-05 [Z2] "
      ]
     },
     "execution_count": 7,
     "metadata": {},
     "output_type": "execute_result"
    }
   ],
   "source": [
    "n_subsystems = 3\n",
    "n_qubits_per_subsystems = 8\n",
    "\n",
    "#we pad 0 around random array to indicate both end of the systems are free of interaction\n",
    "interaction_coeff = [0, ] + np.random.rand(n_subsystems-1).tolist() + [0, ]\n",
    "boundary_pairs = []\n",
    "for i in range(len(interaction_coeff)-1):\n",
    "    boundary_pairs.append([interaction_coeff[i], interaction_coeff[i+1]])\n",
    "\n",
    "    \n",
    "def layer1_operator(boundary_pairs, n_subsystems=3, n_qubits_per_subsystems=8):\n",
    "    V = None\n",
    "    for i in range(n_subsystems):\n",
    "        pair = boundary_pairs[i]\n",
    "        expectation = layer_operator_component(pair, n_qubits=n_qubits_per_subsystems)\n",
    "\n",
    "        nv = QubitOperator_helper()\n",
    "        nv.initialize_single(*[expectation[x] for x in ['I', 'X', 'Y', 'Z']])\n",
    "        if V is None:\n",
    "            V = nv\n",
    "        else:\n",
    "            V = V.tensor_product(nv)\n",
    "    return V.to_QubitOperator()\n",
    "    \n",
    "layer1_operator(boundary_pairs, n_subsystems=n_subsystems, n_qubits_per_subsystems=n_qubits_per_subsystems)"
   ]
  },
  {
   "cell_type": "markdown",
   "metadata": {},
   "source": [
    "Here comes the final step to calculate an expectation: expectation over the first layer using `get_expectation` function."
   ]
  },
  {
   "cell_type": "code",
   "execution_count": 8,
   "metadata": {},
   "outputs": [
    {
     "data": {
      "text/plain": [
       "(0.0011301819337112152-8.131516293641283e-20j)"
      ]
     },
     "execution_count": 8,
     "metadata": {},
     "output_type": "execute_result"
    }
   ],
   "source": [
    "def layer1_expectation(boundary_pairs, n_subsystems=3, n_qubits_per_subsystems=8):\n",
    "    qt = QuantumTensor()\n",
    "    P = Parameter_manager()\n",
    "    circ = qt.layer(P, n_qubits=n_subsystems, layer_type='first')\n",
    "    qo = layer1_operator(boundary_pairs, n_subsystems=n_subsystems, n_qubits_per_subsystems=n_qubits_per_subsystems)\n",
    "    qo = qo.real #convert QubitOperator to its real part, since it is constructed using previous measure, there exist small imaginary part, due to numerical issue.\n",
    "    ham = Hamiltonian(qo)\n",
    "    sim = Simulator('projectq', n_subsystems)\n",
    "    pr = P.random_parameter_resolver()\n",
    "    \n",
    "    sim.apply_circuit(circ, pr=pr)\n",
    "    E = sim.get_expectation(ham)\n",
    "    return E\n",
    "\n",
    "layer1_expectation(boundary_pairs)\n"
   ]
  },
  {
   "cell_type": "markdown",
   "metadata": {},
   "source": [
    "So far, we have implemented the hybrid tensor network circuit, the 1D Hamiltonian of the ising-like model, and the expectation calculation (decomposed into hierarchical quantum circuit measurement). Recall that our quantum circuit is initialized with random parameters and our goal for VQE is to compute the parameter that optimizes the expectation value. To better manage all the parameters, we combine all the above parts into one class."
   ]
  },
  {
   "cell_type": "code",
   "execution_count": 14,
   "metadata": {},
   "outputs": [
    {
     "name": "stdout",
     "output_type": "stream",
     "text": [
      "(-0.0008306637088841629+1.0842021724855044e-19j) (0.13607070265698645+1.4094628242311558e-17j)\n",
      "(-0.0008306637088841629+1.0842021724855044e-19j) (0.13607070265698645+1.4094628242311558e-17j)\n",
      "(-0.0008306637088841629+1.0842021724855044e-19j) (0.13607070265698645+1.4094628242311558e-17j)\n"
     ]
    }
   ],
   "source": [
    "class VQE_1D:\n",
    "    def __init__(self, n_subsystems=3, n_qubits_per_subsystems=8):\n",
    "        self.interaction_coeff = np.random.rand(n_subsystems-1).tolist()\n",
    "        #we pad 0 around random array to indicate both end of the systems are free of interaction\n",
    "        interaction_coeff = [0, ] + self.interaction_coeff + [0, ]\n",
    "        self.boundary_pairs = []\n",
    "        for i in range(len(interaction_coeff)-1):\n",
    "            self.boundary_pairs.append([interaction_coeff[i], interaction_coeff[i+1]])\n",
    "            \n",
    "        self.n_subsystems = n_subsystems\n",
    "        self.n_qubits_per_subsystems = n_qubits_per_subsystems\n",
    "\n",
    "        self.qt = QuantumTensor()\n",
    "        ''' layer1 construction'''\n",
    "        P = Parameter_manager(key='layer1')\n",
    "        self.layer1_circ = self.qt.layer(P, n_qubits=n_subsystems, layer_type='first')\n",
    "        self.layer1_pr = P.random_parameter_resolver()\n",
    "        \n",
    "        \n",
    "        ''' layer2 construction'''\n",
    "        self.subsystem_dict = {}\n",
    "        self.subsystem_P = {}\n",
    "        for i in range(n_subsystems):\n",
    "            P = Parameter_manager(key='layer2_{}'.format(i))\n",
    "            circ = self.qt.layer(P, n_qubits=n_qubits_per_subsystems+1, layer_type='second')\n",
    "            pr = P.random_parameter_resolver()\n",
    "\n",
    "            self.subsystem_dict[i] = (circ, pr, n_qubits_per_subsystems+1)\n",
    "\n",
    "    def norm(self):\n",
    "        # layer1_operator is resulted from measurement of layer2\n",
    "        qo = self.vac_layer1_operator().to_QubitOperator()\n",
    "        qo = qo.real #convert QubitOperator to its real part, since it is constructed using previous measure, there exist small imaginary part, due to numerical issue.\n",
    "        ham = Hamiltonian(qo)\n",
    "        sim = Simulator('projectq', self.n_subsystems)\n",
    "        sim.apply_circuit(self.layer1_circ, pr=self.layer1_pr)\n",
    "\n",
    "        E = sim.get_expectation(ham)\n",
    "        return E        \n",
    "\n",
    "\n",
    "    def layer1_expectation(self):\n",
    "        # layer1_operator is resulted from measurement of layer2\n",
    "        qo = self.layer1_operator().to_QubitOperator()\n",
    "        qo = qo.real #convert QubitOperator to its real part, since it is constructed using previous measure, there exist small imaginary part, due to numerical issue.\n",
    "        ham = Hamiltonian(qo)\n",
    "        sim = Simulator('projectq', self.n_subsystems)\n",
    "        sim.apply_circuit(self.layer1_circ, pr=self.layer1_pr)\n",
    "\n",
    "        # qs = sim.get_qs()\n",
    "        # norm = qs.dot(np.conj(qs))\n",
    "        # print('norm', norm)\n",
    "\n",
    "        E = sim.get_expectation(ham)\n",
    "        return E\n",
    "            \n",
    "    def layer1_operator(self):\n",
    "        n_subsystems = self.n_subsystems\n",
    "        V = None\n",
    "        for i in range(n_subsystems):\n",
    "\n",
    "            expectation = self.layer_operator_component(i)\n",
    "            # print(expectation)\n",
    "\n",
    "            nv = QubitOperator_helper()\n",
    "            nv.initialize_single(*[expectation[x] for x in ['I', 'X', 'Y', 'Z']])\n",
    "            if V is None:\n",
    "                V = nv\n",
    "            else:\n",
    "                V = V.tensor_product(nv)\n",
    "        return V\n",
    "            \n",
    "    \n",
    "    def layer_operator_component(self, subsystem_index):\n",
    "        circ, pr, n_qubits = self.subsystem_dict[subsystem_index]\n",
    "        boundary_condition = self.boundary_pairs[subsystem_index]\n",
    "\n",
    "        H = Hamiltonian_1D(n_qubits=n_qubits-1)\n",
    "\n",
    "        expectation = {}\n",
    "        for pauli_key in ['I', 'X', 'Y', 'Z']:\n",
    "            sim = Simulator('projectq', n_qubits)        \n",
    "            sim.apply_circuit(circ, pr=pr)\n",
    "\n",
    "            f_first, f_last = boundary_condition\n",
    "            ham = H.local_Hamiltonian_with_pauli(f_first, f_last, pauli_key)\n",
    "\n",
    "            E = sim.get_expectation(ham).real\n",
    "            expectation[pauli_key] = E\n",
    "            \n",
    "        return expectation\n",
    "\n",
    "\n",
    "    def vac_layer1_operator(self):\n",
    "        n_subsystems = self.n_subsystems\n",
    "        V = None\n",
    "        for i in range(n_subsystems):\n",
    "\n",
    "            expectation = self.vac_layer_operator_component(i)\n",
    "\n",
    "            nv = QubitOperator_helper()\n",
    "            nv.initialize_single(*[expectation[x] for x in ['I', 'X', 'Y', 'Z']])\n",
    "            if V is None:\n",
    "                V = nv\n",
    "            else:\n",
    "                V = V.tensor_product(nv)\n",
    "        return V\n",
    "\n",
    "\n",
    "    def vac_layer_operator_component(self, subsystem_index):\n",
    "        circ, pr, n_qubits = self.subsystem_dict[subsystem_index]\n",
    "        # n_qubits = self.n_qubits_per_subsystems\n",
    "        H = Hamiltonian_1D(n_qubits=n_qubits-1)\n",
    "\n",
    "        expectation = {}\n",
    "        for pauli_key in ['I', 'X', 'Y', 'Z']:\n",
    "            sim = Simulator('projectq', n_qubits)        \n",
    "            sim.apply_circuit(circ, pr=pr)\n",
    "\n",
    "            ham = H.vac_Hamiltonian_with_pauli(pauli_type=pauli_key)\n",
    "\n",
    "            E = sim.get_expectation(ham).real\n",
    "            expectation[pauli_key] = E\n",
    "            \n",
    "        return expectation\n",
    "\n",
    "    \n",
    "V = VQE_1D()\n",
    "for _ in range(3):\n",
    "    E = V.layer1_expectation()\n",
    "    norm = V.norm()\n",
    "    print(E, norm)"
   ]
  },
  {
   "cell_type": "markdown",
   "metadata": {},
   "source": [
    "<script\n",
    "  src=\"https://cdn.mathjax.org/mathjax/latest/MathJax.js?config=TeX-AMS-MML_HTMLorMML\"\n",
    "  type=\"text/javascript\">\n",
    "</script>\n",
    "\n",
    "So far, we have successfully calculated the energy expectation of $<\\Phi(\\theta)|H|\\Phi(\\theta)>$ given randomly initialized circuit parameters. Next we need to optimize it. Note that although each layer of the hybrid tensor network is unitary, the overall network does not guarantee to be. The optimization problem with regard to the normalized term $\\frac{<\\Phi(\\theta)|H|\\Phi(\\theta)>}{<\\Phi(\\theta)|\\Phi(\\theta)>}$ calls the technique of lagrange multiplier. However, in this paper, a better optimization technique which also solve such normalization problem is used: the ansatz-based imaginary time evolution method. For more details of this method, please check the paper recurrence #50. In this recurrence, I will only demonstrate how to calculate the gradients in a hybrid tensor network.\n",
    "\n",
    "In mindquantum framework, all the gradients of expectation value $<\\Phi(\\theta)|H|\\Phi(\\theta)>$ with respect to circuit parameters $\\theta$ can be easily obtained using `get_expectation_with_grad` function. However, there is one type of gradients we need to calculate by hand in oder to build the full chain of backpropogation. That is, the gradient with repect to parameters in Hamiltonian:\n",
    "$$\n",
    "\\frac{\\partial <\\Phi(\\theta)|H_{\\alpha}|\\Phi(\\theta)>}{\\partial \\alpha_i^j}\n",
    "$$\n",
    "Where\n",
    "$$\\begin{aligned}\n",
    "H_{\\alpha} &= \\left(\\sum_{i \\in \\{I, X, Y, Z\\}} \\alpha^0_i \\sigma^0_i \\right) \\otimes \\left(\\sum_{i \\in \\{I, X, Y, Z\\}} \\alpha^1_i \\sigma^1_i \\right)\\otimes ... \\\\\n",
    "&= {\\bigotimes_{j=1}^M} \\left(\\sum_{i \\in \\{I, X, Y, Z\\}} \\alpha^j_i \\sigma^j_i \\right)\n",
    "\\end{aligned}\n",
    "$$\n",
    "$M$ is the number of qubits, $\\sigma_i^j$ is the Pauli operator $i \\in \\{I, X, Y, Z\\}$ on the $j$th qubit.\n",
    "\n",
    "$\\theta$ is the parameters on the ansatz circuit, for the gradient above, we just view it as constant coefficients.\n",
    "\n",
    "Fortunately, this could be easily handled. Since the expectation $<\\Phi(\\theta)|H|\\Phi(\\theta)>$ is a linear functional with respect to $H$, we can aways decompose the expectation with linear combination of expectations over Pauli strings, and the gradient with respect to the coefficient of each Pauli string is just the expectation value of that Pauli string itself.\n",
    "\n",
    "For example, considering the gradient with respect to $\\alpha^0_X$, we can write:\n",
    "$$\\begin{aligned}\n",
    "\\frac{\\partial <\\Phi(\\theta)|H_{\\alpha}|\\Phi(\\theta)>}{\\partial \\alpha_0^X} &= \\frac{  \\partial  \\alpha_0^X \\left<\\Phi(\\theta)\\left|\\sigma^0_X \\otimes {\\bigotimes_{j=2}^M}\\left(\\sum_{i \\in \\{I, X, Y, Z\\}} \\alpha^j_i \\sigma^j_i \\right)\\right|\\Phi(\\theta)\\right>}{\\partial \\alpha_0^X} \\\\\n",
    "&= \\left<\\Phi(\\theta)\\left|\\sigma^0_X \\otimes {\\bigotimes_{j=2}^M}\\left(\\sum_{i \\in \\{I, X, Y, Z\\}} \\alpha^j_i \\sigma^j_i \\right)\\right|\\Phi(\\theta)\\right>\n",
    "\\end{aligned}\n",
    "$$"
   ]
  },
  {
   "cell_type": "markdown",
   "metadata": {},
   "source": [
    "To implement the above idea, we rewrite our QubitOperator_helper class:"
   ]
  },
  {
   "cell_type": "code",
   "execution_count": 15,
   "metadata": {},
   "outputs": [],
   "source": [
    "class QubitOperator_helper:\n",
    "    def __init__(self):\n",
    "        self.coeff = {'I': 0.5, 'X': 0.5, 'Y': -0.5, 'Z': 0.5}\n",
    "        self.verbose_dict = {0:{'I':1,'X':1,'Y':1,'Z':1}}\n",
    "\n",
    "    def get_coeff(self):\n",
    "        return self.coeff\n",
    "    \n",
    "    def initialize_single(self, ei, ex, ey, ez):\n",
    "        self._dict = {'I': self.coeff['I']*ei, 'X': self.coeff['X']*ex, 'Y': self.coeff['Y']*ey, 'Z': self.coeff['Z']*ez }\n",
    "        self.verbose_dict = {0:{'I':ei, 'X':ex, 'Y':ey, 'Z':ez}}\n",
    "        \n",
    "    def tensor_product(self, vqo):\n",
    "        _dict = {}\n",
    "        for ki, kj in itertools.product(self._dict.keys(), vqo._dict.keys()):\n",
    "            k = ki+kj\n",
    "            v = self._dict[ki]*vqo._dict[kj]\n",
    "            _dict[k] = v\n",
    "        self._dict = _dict\n",
    "\n",
    "        assert len(vqo.verbose_dict)==1\n",
    "        append_index = len(self.verbose_dict)\n",
    "        self.verbose_dict[append_index] = vqo.verbose_dict[0]\n",
    "\n",
    "        return self\n",
    "    \n",
    "    \n",
    "    def gradient(self, qubit_index, key='I'):\n",
    "        _dict = {}\n",
    "        for k in self._dict.keys():\n",
    "            if k[qubit_index]==key:\n",
    "                # we need to / self.verbose_dict[qubit_index][key] because we do not want \\alpha to appear\n",
    "                _dict[k] = self._dict[k] / self.verbose_dict[qubit_index][key]\n",
    "\n",
    "        return self._to_QubitOperator(_dict)\n",
    "    \n",
    "    \n",
    "    def to_QubitOperator(self):\n",
    "        return self._to_QubitOperator(self._dict)\n",
    "    \n",
    "    def _to_QubitOperator(self, _dict):\n",
    "        qo = None\n",
    "        for k, v in _dict.items():\n",
    "            S = ''\n",
    "            for i, s in enumerate(k):\n",
    "                if s!='I':\n",
    "                    S += '{}{} '.format(s, i)\n",
    "            \n",
    "            if qo is None:\n",
    "                qo = v * QubitOperator(S)\n",
    "            else:\n",
    "                qo += v * QubitOperator(S)\n",
    "        return qo"
   ]
  },
  {
   "cell_type": "markdown",
   "metadata": {},
   "source": [
    "We are ready to implement our optimizer. We directly use the ansatz- based imaginary evolution method built in paper recursion #50. Note that in #50 we left an interface for passing root_gradient through the backpropogation chain, which works perfectly in this case. For convinience, we copy the package aITE of #50 in the src directory, and we can directly import it here.  "
   ]
  },
  {
   "cell_type": "code",
   "execution_count": 24,
   "metadata": {},
   "outputs": [
    {
     "name": "stdout",
     "output_type": "stream",
     "text": [
      "0.055987497839873814 0.20147283032561894 0.2778910573171937\n",
      "0.022449032867529993 0.19967834950334404 0.11242597368902048\n",
      "-0.003550320820126492 0.19853786854803773 -0.017882335728145814\n",
      "-0.027090751823691497 0.19795845747230095 -0.136850691653233\n",
      "-0.051428617625992275 0.19770974852032713 -0.26012180993040285\n"
     ]
    }
   ],
   "source": [
    "from src.aITE.optimizer import Optimizer\n",
    "class OPT_VQE1D(VQE_1D):\n",
    "    def __init__(self, n_subsystems=3, n_qubits_per_subsystems=8, lr=0.1, opt_type='aite'):\n",
    "        super().__init__(n_subsystems=n_subsystems, n_qubits_per_subsystems=n_qubits_per_subsystems)\n",
    "        self.layer1_optimizer = Optimizer(self.layer1_circ, self.layer1_pr, n_subsystems, opt_type=opt_type, lr=lr)\n",
    "        \n",
    "        self.layer2_optimizer = {}\n",
    "        for i in range(self.n_subsystems):\n",
    "            circ, pr, n_qubits = self.subsystem_dict[i]\n",
    "            self.layer2_optimizer[i] = Optimizer(circ, pr, n_qubits, opt_type=opt_type, lr=lr)\n",
    "    \n",
    "        self.layer1_gradient = {}\n",
    "\n",
    "\n",
    "    def clear_layer1_gradient(self):\n",
    "        self.layer1_gradient = {}\n",
    "\n",
    "    def update_layer1_gradient(self, qubit_index, pauli_key):\n",
    "        n_subsystems = self.n_subsystems\n",
    "\n",
    "        qo = self.layer1_gradient_operator(qubit_index, key=pauli_key)\n",
    "        qo = qo.real #convert QubitOperator to its real part, since it is constructed using previous measure, there exist small imaginary part, due to numerical issue.\n",
    "        ham = Hamiltonian(qo)\n",
    "        \n",
    "        # get expectation with respect to gradient operator will give us gradient we need\n",
    "        sim = Simulator('projectq', n_subsystems)\n",
    "        sim.apply_circuit(self.layer1_circ, pr=self.layer1_pr)\n",
    "        E = sim.get_expectation(ham)\n",
    "        \n",
    "        self.layer1_gradient[(qubit_index, pauli_key)] = E #* QubitOperator_helper().get_coeff()[pauli_key]\n",
    "\n",
    "\n",
    "    def layer1_gradient_operator(self, qubit_index, key='I'):\n",
    "        # layer1_operator is resulted from measurement of layer2\n",
    "        V = self.layer1_operator()\n",
    "        qo = V.gradient(qubit_index, key=key)\n",
    "        return qo\n",
    "\n",
    "\n",
    "    def layer_operator_component_optimization(self, subsystem_index):\n",
    "        r'''\n",
    "        gradient down to the second layer\n",
    "        '''\n",
    "        circ, pr, n_qubits = self.subsystem_dict[subsystem_index]\n",
    "        optimizer = self.layer2_optimizer[subsystem_index]\n",
    "\n",
    "        boundary_condition = self.boundary_pairs[subsystem_index]\n",
    "        H = Hamiltonian_1D(n_qubits=self.n_qubits_per_subsystems)\n",
    "\n",
    "        f_first, f_last = boundary_condition\n",
    "\n",
    "        for pauli_key in ['I', 'X', 'Y', 'Z']:\n",
    "            # root_gradient for the backpropogation\n",
    "            root_gradient = self.layer1_gradient[(subsystem_index, pauli_key)]\n",
    "\n",
    "            ham = H.local_Hamiltonian_with_pauli(f_first, f_last, pauli_key)\n",
    "            optimizer.step(ham, root_gradient=root_gradient)\n",
    "\n",
    "\n",
    "        pr = optimizer.pr\n",
    "\n",
    "        self.subsystem_dict[subsystem_index] = (circ, pr, n_qubits)\n",
    "        self.layer2_optimizer[subsystem_index] = optimizer\n",
    "    \n",
    "    \n",
    "    def step4layer2circuit(self):\n",
    "        self.clear_layer1_gradient()\n",
    "        \n",
    "        for qubit_index in range(self.n_subsystems):\n",
    "            for pauli_key in ['I', 'X', 'Y', 'Z']:\n",
    "                self.update_layer1_gradient(qubit_index, pauli_key)\n",
    "        for subsystem_index in range(self.n_subsystems):\n",
    "            self.layer_operator_component_optimization(subsystem_index)\n",
    "    \n",
    "\n",
    "    def get_pr(self):\n",
    "        _dict = {}\n",
    "        for key in self.subsystem_dict.keys():\n",
    "            _, pr = self.subsystem_dict[key]\n",
    "            _dict[key] = pr\n",
    "        return self.layer1_pr, _dict\n",
    "\n",
    "    def step4layer1circuit(self):\n",
    "\n",
    "        qo = self.layer1_operator().to_QubitOperator()\n",
    "        qo = qo.real #convert QubitOperator to its real part, since it is constructed using previous measure, there exist small imaginary part, due to numerical issue.\n",
    "        ham = Hamiltonian(qo)\n",
    "        self.layer1_optimizer.step(ham)\n",
    "        self.layer1_pr = self.layer1_optimizer.pr\n",
    "\n",
    "n_subsystems=2\n",
    "n_qubits_per_subsystems=3\n",
    "m = OPT_VQE1D(n_subsystems=n_subsystems, n_qubits_per_subsystems=n_qubits_per_subsystems, lr=0.05)\n",
    "\n",
    "for i in range(5):\n",
    "    m.step4layer1circuit()\n",
    "    m.step4layer2circuit()\n",
    "        \n",
    "    E = m.layer1_expectation()\n",
    "    norm = m.norm()\n",
    "    print(E.real, norm.real, (E/norm).real)"
   ]
  },
  {
   "cell_type": "markdown",
   "metadata": {},
   "source": [
    "We can see that our method really improves the energy expectation! \n",
    "\n",
    "Now comes the experiment!\n",
    "\n",
    "Following the paper, for 1D case, we use MPS with DMRG optimization method as benchmark. We use third-party package quimb to impement this classical method. Note that since our code only works under the develop version of quimb, we need to install the package from source file. To aviod polluting the mindquantum package, we build quimb outside of mindquantum folder."
   ]
  },
  {
   "cell_type": "code",
   "execution_count": 17,
   "metadata": {},
   "outputs": [
    {
     "name": "stdout",
     "output_type": "stream",
     "text": [
      "/home/ma-user/work/mindquantum/paper_recurrence/24_hw_008613816232674_01\n"
     ]
    }
   ],
   "source": [
    "!pwd"
   ]
  },
  {
   "cell_type": "code",
   "execution_count": null,
   "metadata": {},
   "outputs": [],
   "source": [
    "!cd ../../../ && git clone https://github.com/jcmgray/quimb.git\n",
    "\n",
    "# check if it is develop branch(by default it should be)\n",
    "!cd ../../../quimb && git branch"
   ]
  },
  {
   "cell_type": "code",
   "execution_count": null,
   "metadata": {},
   "outputs": [],
   "source": [
    "!cd ../../../quimb && pip install .\n",
    "\n",
    "import quimb\n",
    "print(quimb.__version__)\n",
    "\n",
    "!pip install opt_einsum\n",
    "\n",
    "!pip install autoray"
   ]
  },
  {
   "cell_type": "code",
   "execution_count": 25,
   "metadata": {},
   "outputs": [
    {
     "name": "stdout",
     "output_type": "stream",
     "text": [
      "SWEEP-1, direction=R, max_bond=(32/32), cutoff:1e-10\n"
     ]
    },
    {
     "name": "stderr",
     "output_type": "stream",
     "text": [
      "100%|############################################| 5/5 [00:00<00:00, 304.66it/s]"
     ]
    },
    {
     "name": "stdout",
     "output_type": "stream",
     "text": [
      "Energy: -1.892432917286383 ... not converged.\n",
      "SWEEP-2, direction=R, max_bond=(6/32), cutoff:1e-10\n"
     ]
    },
    {
     "name": "stderr",
     "output_type": "stream",
     "text": [
      "\n",
      "100%|############################################| 5/5 [00:00<00:00, 316.94it/s]"
     ]
    },
    {
     "name": "stdout",
     "output_type": "stream",
     "text": [
      "Energy: -1.8924329173466905 ... converged!\n"
     ]
    },
    {
     "name": "stderr",
     "output_type": "stream",
     "text": [
      "\n"
     ]
    }
   ],
   "source": [
    "from src.benchmark.mps import MPS\n",
    "\n",
    "M = MPS(n_subsystems=2, n_qubits_per_subsystems=3, bond_dim=32, interaction_coeff=m.interaction_coeff)\n",
    "M.run()"
   ]
  },
  {
   "cell_type": "code",
   "execution_count": 26,
   "metadata": {},
   "outputs": [
    {
     "name": "stdout",
     "output_type": "stream",
     "text": [
      "-0.07941875818398607 0.19791427913550869 -0.40127856631107117\n",
      "-0.16440970070611996 0.20034591229353732 -0.8206291749303808\n",
      "-0.3672846754991099 0.21324702481792246 -1.722343727011948\n",
      "-1.19625402928451 0.27954140366315827 -4.279344718201286\n",
      "-6.633849958694438 0.6699429107664393 -9.902112332385263\n",
      "-9.920525248084047 0.8277537866645489 -11.984874497595486\n",
      "-12.800464348805798 0.9628882795988506 -13.293820913614825\n",
      "-13.753107380981422 0.9969612160384428 -13.795027489265042\n",
      "-13.779199062544397 0.9973012612446269 -13.816486149178258\n",
      "-13.755964240000504 0.9959222764315271 -13.812286927941079\n"
     ]
    }
   ],
   "source": [
    "value_list, norm_list, normalized_value_list = [], [], [] \n",
    "for i in range(20):\n",
    "    m.step4layer1circuit()\n",
    "    m.step4layer2circuit()\n",
    "        \n",
    "    E = m.layer1_expectation()\n",
    "    norm = m.norm()\n",
    "    if i%2==0:\n",
    "        print(E.real, norm.real, (E/norm).real)\n",
    "    value_list.append(E.real)\n",
    "    norm_list.append(norm.real)\n",
    "    normalized_value_list.append((E/norm).real)"
   ]
  },
  {
   "cell_type": "code",
   "execution_count": 27,
   "metadata": {},
   "outputs": [
    {
     "data": {
      "image/png": "[encoded data removed]",
      "text/plain": [
       "<Figure size 640x480 with 1 Axes>"
      ]
     },
     "metadata": {},
     "output_type": "display_data"
    }
   ],
   "source": [
    "import matplotlib.pyplot as plt\n",
    "\n",
    "fig = plt.figure()\n",
    "plt.plot(np.arange(len(norm_list)), norm_list)\n",
    "plt.show()\n",
    "plt.close(fig)"
   ]
  },
  {
   "cell_type": "markdown",
   "metadata": {},
   "source": [
    "One of the advantage of imaginary time evolution is that, along the evolution steps, the resulting state will become more and more normalized. We can see this fact from the plot above."
   ]
  },
  {
   "cell_type": "code",
   "execution_count": 28,
   "metadata": {},
   "outputs": [
    {
     "data": {
      "image/png": "[encoded data removed]",
      "text/plain": [
       "<Figure size 640x480 with 1 Axes>"
      ]
     },
     "metadata": {},
     "output_type": "display_data"
    }
   ],
   "source": [
    "import matplotlib.pyplot as plt\n",
    "\n",
    "fig = plt.figure()\n",
    "plt.plot(np.arange(len(normalized_value_list)), normalized_value_list)\n",
    "plt.show()\n",
    "plt.close(fig)"
   ]
  },
  {
   "cell_type": "markdown",
   "metadata": {},
   "source": [
    "Issue: DMRG optimization on MPS ansatz converge to a much higher energy than our proposed hybrid quantum tensor method. What happened!??\n"
   ]
  },
  {
   "cell_type": "markdown",
   "metadata": {},
   "source": [
    "## Summary\n",
    "\n",
    "We implemented the hybrid quantum tree tensor network (HQTTN) ansatz proposed in the paper and tried ansatz-based imaginary time evolution for the VQE problem with an ising-like Hamiltonian. Instead of using case 4 (quantum tensor + quantum tensor, with quantum indices + classical indices) for the contraction, as described in the numerical experiments section of the paper, we used case 5 (quantum tensor + quantum tensor, with quantum indices) for the contraction. The side effect of this choice is that the resulting tensor network is no longer guaranteed to be normalized. This was confirmed in our experiment.\n",
    "\n",
    "There are still problems in matching our optimization result with the tensor network based MPS approach with the DMRG optimization method. We will solve these problems in the future versions."
   ]
  }
 ],
 "metadata": {
  "kernelspec": {
   "display_name": "MindQuantum",
   "language": "python",
   "name": "mindquantum"
  },
  "language_info": {
   "codemirror_mode": {
    "name": "ipython",
    "version": 3
   },
   "file_extension": ".py",
   "mimetype": "text/x-python",
   "name": "python",
   "nbconvert_exporter": "python",
   "pygments_lexer": "ipython3",
   "version": "3.7.10"
  }
 },
 "nbformat": 4,
 "nbformat_minor": 4
}
