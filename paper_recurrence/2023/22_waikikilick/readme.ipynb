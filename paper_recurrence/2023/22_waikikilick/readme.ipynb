{
 "cells": [
  {
   "cell_type": "markdown",
   "id": "7e2ebf22",
   "metadata": {},
   "source": [
    "# 赛题序号：22\n",
    "**赛题名称：** Variational Quantum Eigensolver Ansatz for the $J_1$-$J_2$-model\n",
    "\n",
    "**文章链接：** https://arxiv.org/abs/2205.11198\n",
    "\n",
    "**复现要求：** 利用 MindQuantum 实现  $J_1$-$J_2$ Heisenberg 线路，复现文章中 Fig.4 的 12，16，20 qubits 周期性边界条件 Heisenberg lattice 的 VQE 复现工作。\n",
    "\n",
    "完成人：waikikilick \n",
    "\n",
    "## 项目介绍：\n",
    "\n",
    "二维 $J_1J_2$ 模型是一种很重要的物理模型，例如，它可以用来描述高温超导体中的一些特性。\n",
    "由于维度问题，二维 $J_1J_2$ 模型用经典方法很难模拟，这也使其成为一个可以体现量子计算优势的潜在应用。所谓二维 $J_1J_2$ 模型指的是具有海森堡相互作用的二维自旋阵列，其中自旋不仅有最近邻相互作用 $J_1$，还有次近邻相互作用 $J_2$。这个模型的基态能级可以用量子变分算法来求解。文章发现，在搭建拟设线路中，表示次近邻相互作用的量子门可以省略掉，而不明显影响最终的计算结果：这可以大大降低量子线路的深度，从而更好地在 NISQ 器件上运行。\n",
    "\n",
    "对于一个具有开放边界条件的 4 比特的海森堡晶格的几何图为\n",
    "\n",
    "<img src='./src/4_qubits_geo.png' width='20%'>\n",
    "\n",
    "其中，带标号的红圈为自旋，横或纵的红色连线表示最近邻相互作用 $J_1$，而对角的蓝色连线则为次近邻相互作用 $J_2$。\n",
    "\n",
    "二维 $J_1J_2$ 模型的哈密顿量为：\n",
    "$$H=-J_1\\Sigma_{\\langle i,j\\rangle}\\vec{S_i}\\times\\vec{S_j}-J_2\\Sigma_{\\langle\\langle i,j\\rangle\\rangle}\\vec{S_i}\\times\\vec{S_j}.$$\n",
    "\n",
    "其中 $\\langle i,j\\rangle$ 表示对所有最近邻对求和，$\\langle\\langle i,j \\rangle\\rangle$ 表示对所有次近邻对求和，$\\vec{S_i}=(X_i, Y_i, Z_i)^T$。其中，$X_i, Y_i, Z_i$ 表示作用在第 $i$ 个自旋上的泡利算符。\n",
    "\n",
    "由于表征次近邻相互作用的量子门需要使用交换门来实现，所以如果可以省略掉这些门，就可以极大降低量子线路的深度。作为案例，我们设 $J_1=-1, J_2=-0.5$ 以表示反铁磁相互作用。\n",
    "\n",
    "关于量子变分算法的原理和具体实现可以参考 MindQuantum 中的案例教程 [量子近似优化算法](https://www.mindspore.cn/mindquantum/docs/zh-CN/master/quantum_approximate_optimization_algorithm.html)，此处不再赘述。\n",
    "\n",
    "以上述 4 比特模型为例，本文所设计的量子线路为：\n",
    "\n",
    "![circ](./src/circ.jpg)\n",
    "\n",
    "其中，$XXYYZZ(\\theta)$ 门用以表征两个自旋之间的相互作用，由 $XX(\\theta)$、 $YY(\\theta)$ 和 $ZZ(\\theta)$ 门缀连而成，即\n",
    "\n",
    "<img src='./src/gate.jpg' width='50%'>\n",
    "\n",
    "在量子线路起始处对每个比特作用的 $X(\\theta)$ 和 $Y(\\theta)$ 为旋转门 `RX` 和 `RY`，用以模拟无序自旋流体行为。虚线框中的量子门共同组成了一个基本层。每个基本层中，黑色线框的量子门表征了自旋间最近邻相互作用，而蓝色线框的量子门则表征了次近邻相互作用。本文的核心结论就是，如果在计算中，将表征次近邻相互作用的线路部分省略，并不会明显改变收敛时所能到的基态能量。\n",
    "\n",
    "\n",
    "\n",
    "## 结果展示\n",
    "\n",
    "\n",
    "下面图中分别展示我们主要的复现结果：12、16、20 个自旋模型下，在由 7 个基本层构成的拟设线路中，是否包含对应于次近邻相互作用的量子门的情况。该结果通过执行 `main.ipynb` 中对应的程序得到。得到的结果和论文结论一致。\n",
    "\n",
    "<img src='./src/result_12_qubits.png' width='50%'>\n",
    "<img src='./src/result_16_qubits.png' width='50%'>\n",
    "<img src='./src/result_20_qubits.png' width='50%'>"
   ]
  }
 ],
 "metadata": {
  "kernelspec": {
   "display_name": "Python 3 (ipykernel)",
   "language": "python",
   "name": "python3"
  },
  "language_info": {
   "codemirror_mode": {
    "name": "ipython",
    "version": 3
   },
   "file_extension": ".py",
   "mimetype": "text/x-python",
   "name": "python",
   "nbconvert_exporter": "python",
   "pygments_lexer": "ipython3",
   "version": "3.7.16"
  }
 },
 "nbformat": 4,
 "nbformat_minor": 5
}
