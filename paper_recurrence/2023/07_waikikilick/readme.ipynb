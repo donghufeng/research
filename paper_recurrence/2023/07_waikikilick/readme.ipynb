{
    "cells": [
        {
            "cell_type": "markdown",
            "id": "ec83433e",
            "metadata": {},
            "source": [
                "# 第二届·2022量子精选论文复现挑战赛 第 07 题\n",
                "## 论文题目：\n",
                "## QAOA-in-QAOA: solving large-scale MaxCut problems on small quantum machines\n",
                "## 论文链接：https://arxiv.53yu.com/abs/2205.11762\n",
                "### 复现人：Waikikilick\n",
                "\n",
                "### 论文简介：\n",
                "为组合优化问题设计快速算法对物流、金融和化学等领域都有很大的价值。 量子近似组合优化算法（Quantum Approximate Optimization Algorithm，QAOA）在这类问题的求解上相比经典算法有很好的加速效果。但是，受限于当前时期量子系统的大小，QAOA 在计算大型问题时还是很困难。本文提出一种“分而治之”的方法，可以用小型量子系统求解大型问题。以图最大割为研究对象，该方法将大图分割成一个个可以被量子系统处理的小图。在对小图用 QAOA 求解后，再以各小图作为顶点，组成一个新的小图，就又形成一个新的可用 QAOA 求解的最大割问题。所以，该方法被称为 QAOA in QAOA，或者 QAOA$^2$。如果采用多层嵌套，可以用小型量子计算机，求解任意大图的最大割问题。\n",
                "\n",
                "\n",
                "\n",
                "关于 QAOA 的基础知识和在 MindQuantum 中的实现，可参考 MindQuantum 的系列教程之 [量子近似优化算法\n",
                "](https://www.mindspore.cn/mindquantum/docs/zh-CN/master/quantum_approximate_optimization_algorithm.html)。\n",
                "\n",
                "<img src='./src/sample.jpg' width='90%'>\n",
                "\n",
                "这是一个由 13 个顶点构成的无向图。假设只可以使用 4 量子比特的量子计算机，则采用 QAOA in QAOA 算法求解该图最大割的流程可分为五步：\n",
                "\n",
                "### 第一步：分割\n",
                "将大图 $G$ 分割为多个小图或称子图。每个子图的顶点数不超过量子计算机的规模，即 4。 如图可分割为 4 个子图 $G_1$，$G_2$，$G_3$ 和 $G_4$。\n",
                "### 第二步：子图求解\n",
                "对每个子图分别进行 QAOA 求解最大割。\n",
                "### 第三步：以子图为顶点，组成新图\n",
                "以每个子图为顶点，构成一个新图。该新图的边由各子图之间的边组成。\n",
                "### 第四步：对新图求解\n",
                "用 QAOA 算法对新图进行求解。\n",
                "### 第五步：求最终解\n",
                "最终解即为各个子图的最大割数加上新图的最大割数。\n",
                "\n",
                "如果图很大，可能需要重复上面步骤，如图 (c)。\n",
                "\n",
                "## 案例讲解：\n",
                "\n",
                "接下来，我们通过一个案例来展示算法流程。作为范例，我们考虑和示意图相同的图结构进行分析，该图的边为:"
            ]
        },
        {
            "cell_type": "code",
            "execution_count": 52,
            "id": "e41db71a",
            "metadata": {},
            "outputs": [],
            "source": [
                "edges = [(0,1), (0,12), (1,2), (2,3), (1,3), (0,3), (3,5), (2,4), (4,5), (4,6), (4,7), (5,11), (5,7), (5,6), (6,7), (7,8), (8,9), (9,10), (10,12), (10,11), (11,12)]"
            ]
        },
        {
            "cell_type": "markdown",
            "id": "dd7a1ce1",
            "metadata": {},
            "source": [
                "我们可以将图中的点随机分组，每组最大数不超过量子比特数 4。"
            ]
        },
        {
            "cell_type": "code",
            "execution_count": 5,
            "id": "eeb88bb6",
            "metadata": {},
            "outputs": [
                {
                    "name": "stdout",
                    "output_type": "stream",
                    "text": [
                        "[[8, 2, 0, 5], [3, 4, 1, 12], [9, 6, 11, 10], [7]]\n"
                    ]
                }
            ],
            "source": [
                "import random\n",
                "nodes = list(range(13)) \n",
                "qubits_num = 4\n",
                "graphs_nodes = []\n",
                "while True:\n",
                "    sub_graph_nodes = random.sample(nodes, qubits_num)\n",
                "    graphs_nodes.append(sub_graph_nodes)\n",
                "    for i in sub_graph_nodes:\n",
                "        nodes.remove(i)\n",
                "    if len(nodes) <= qubits_num:\n",
                "        graphs_nodes.append(nodes)\n",
                "        break\n",
                "        \n",
                "print(graphs_nodes)"
            ]
        },
        {
            "cell_type": "markdown",
            "id": "2e1d9997",
            "metadata": {},
            "source": [
                "但作为示范案例，我们还是采用示意图中的切分方案。根据该方案，图共拆分成四个子图："
            ]
        },
        {
            "cell_type": "code",
            "execution_count": 53,
            "id": "dc5931e8",
            "metadata": {},
            "outputs": [],
            "source": [
                "graphs_nodes = [[0,1,2,3], [4,5,6,7], [8,9], [10,11,12]]"
            ]
        },
        {
            "cell_type": "markdown",
            "id": "f793fb40",
            "metadata": {},
            "source": [
                "根据子图顶点，挑出各个子图内所包含的边:"
            ]
        },
        {
            "cell_type": "code",
            "execution_count": 54,
            "id": "b12be8b4",
            "metadata": {},
            "outputs": [
                {
                    "name": "stdout",
                    "output_type": "stream",
                    "text": [
                        "[[(0, 1), (1, 2), (2, 3), (1, 3), (0, 3)], [(4, 5), (4, 6), (4, 7), (5, 7), (5, 6), (6, 7)], [(8, 9)], [(10, 12), (10, 11), (11, 12)]]\n"
                    ]
                }
            ],
            "source": [
                "graphs_edges = []\n",
                "\n",
                "for nodes in graphs_nodes:\n",
                "    sub_graph_edges = []\n",
                "    for edge in edges:\n",
                "        if edge[0] in nodes and edge[1] in nodes:\n",
                "            sub_graph_edges.append(edge)\n",
                "    graphs_edges.append(sub_graph_edges)\n",
                "    \n",
                "print(graphs_edges)"
            ]
        },
        {
            "cell_type": "markdown",
            "id": "721de27e",
            "metadata": {},
            "source": [
                "将每个子图的顶点都重新映射为一个新图的顶点，这样就可以在量子计算中只使用很少的量子比特："
            ]
        },
        {
            "cell_type": "code",
            "execution_count": 102,
            "id": "28c48e86",
            "metadata": {},
            "outputs": [
                {
                    "name": "stdout",
                    "output_type": "stream",
                    "text": [
                        "[[0, 1, 2, 3], [4, 5, 6, 7], [8, 9], [10, 11, 12]]\n",
                        "[[0, 1, 2, 3], [0, 1, 2, 3], [0, 1], [0, 1, 2]]\n",
                        "[{0: 0, 1: 1, 2: 2, 3: 3}, {0: 4, 1: 5, 2: 6, 3: 7}, {0: 8, 1: 9}, {0: 10, 1: 11, 2: 12}]\n",
                        "[{0: 0, 1: 1, 2: 2, 3: 3}, {4: 0, 5: 1, 6: 2, 7: 3}, {8: 0, 9: 1}, {10: 0, 11: 1, 12: 2}]\n"
                    ]
                }
            ],
            "source": [
                "rename_graphs_nodes = [] # 所有子图中的新索引\n",
                "rename_nodes_list_0 = [] # 新索引：顶点序号\n",
                "rename_nodes_list_1 = [] # 顶点序号：新索引\n",
                "\n",
                "for sub_graph_nodes in graphs_nodes:\n",
                "    rename_graphs_nodes_0 = {} \n",
                "    rename_graphs_nodes_1 = {} \n",
                "    rename_node = []\n",
                "    for index, node in enumerate(sub_graph_nodes):\n",
                "        rename_node.append(index)\n",
                "        rename_graphs_nodes_0[index] = node\n",
                "        rename_graphs_nodes_1[node] = index\n",
                "    rename_nodes_list_0.append(rename_graphs_nodes_0)\n",
                "    rename_nodes_list_1.append(rename_graphs_nodes_1)\n",
                "    rename_graphs_nodes.append(rename_node)\n",
                "\n",
                "print(graphs_nodes)\n",
                "print(rename_graphs_nodes) \n",
                "print(rename_nodes_list_0) # 正向映射  # 正反定义随意，但强调了两者之间关系\n",
                "print(rename_nodes_list_1) # 反向映射"
            ]
        },
        {
            "cell_type": "markdown",
            "id": "ae54b17d",
            "metadata": {},
            "source": [
                "根据重新映射的点，重新映射边"
            ]
        },
        {
            "cell_type": "code",
            "execution_count": 56,
            "id": "7643ac77",
            "metadata": {},
            "outputs": [
                {
                    "name": "stdout",
                    "output_type": "stream",
                    "text": [
                        "[[(0, 1), (1, 2), (2, 3), (1, 3), (0, 3)], [(0, 1), (0, 2), (0, 3), (1, 3), (1, 2), (2, 3)], [(0, 1)], [(0, 2), (0, 1), (1, 2)]]\n"
                    ]
                }
            ],
            "source": [
                "rename_graphs_edges = []\n",
                "for index, sub_graph_edges in enumerate(graphs_edges):\n",
                "    rename_sub_graph_edges = []\n",
                "    for edge in sub_graph_edges:\n",
                "        rename_sub_graph_edges.append((rename_nodes_list_1[index][edge[0]], rename_nodes_list_1[index][edge[1]]))\n",
                "#         print(f'当前为第{index}个子图', '原边为：', edge, '重命名边为：', (rename_nodes_list_1[index][edge[0]], rename_nodes_list_1[index][edge[1]]))\n",
                "    rename_graphs_edges.append(rename_sub_graph_edges)\n",
                "\n",
                "print(rename_graphs_edges)"
            ]
        },
        {
            "cell_type": "markdown",
            "id": "3fe0c4bc",
            "metadata": {},
            "source": [
                "定义量子线路和哈密顿量"
            ]
        },
        {
            "cell_type": "code",
            "execution_count": 57,
            "id": "d5c39875",
            "metadata": {},
            "outputs": [],
            "source": [
                "from mindquantum import *\n",
                "import mindspore as ms\n",
                "import mindspore.nn as nn\n",
                "ms.set_context(mode=ms.PYNATIVE_MODE, device_target=\"CPU\")\n",
                "\n",
                "def build_hc(edges, para): \n",
                "    circ_ = Circuit()\n",
                "    for i in edges:\n",
                "        circ_ += ZZ(para).on(i[:2])\n",
                "    circ_.barrier() \n",
                "    return circ_\n",
                "\n",
                "def build_hb(nodes, para):\n",
                "    circ_ = Circuit()\n",
                "    for i in nodes:\n",
                "        circ_ += RX(para).on(i)\n",
                "    circ_.barrier() \n",
                "    return circ_\n",
                "\n",
                "def build_ansatz(nodes, edges, p):    \n",
                "    circ = Circuit()  \n",
                "    for i in range(p):\n",
                "        circ += build_hc(edges, f'g{i}')     \n",
                "        circ += build_hb(nodes, f'b{i}')\n",
                "    return circ\n",
                "\n",
                "def build_ham(edges):\n",
                "    ham = QubitOperator()\n",
                "    for i in edges:\n",
                "        ham += QubitOperator(f'Z{i[0]} Z{i[1]}') \n",
                "    return ham\n",
                "\n",
                "# 当计算总图最大割时，需要使用带有权重的边\n",
                "def build_ham_for_weighted_edges(weighted_edges):\n",
                "    ham = QubitOperator()\n",
                "    for i in weighted_edges:\n",
                "        ham += QubitOperator(f'Z{i[0]} Z{i[1]}', i[2]) \n",
                "    return ham"
            ]
        },
        {
            "cell_type": "markdown",
            "id": "0672b2e1",
            "metadata": {},
            "source": [
                "采用 QAOA 计算各子图的最大割："
            ]
        },
        {
            "cell_type": "code",
            "execution_count": 72,
            "id": "c9bfaf10",
            "metadata": {
                "scrolled": false
            },
            "outputs": [
                {
                    "name": "stdout",
                    "output_type": "stream",
                    "text": [
                        "当前子图边为： [(0, 1), (1, 2), (2, 3), (1, 3), (0, 3)]\n",
                        "当前子图归类到左边的顶点为： [0, 2]\n",
                        "该子图的最大割为： 4\n",
                        "\n",
                        "当前子图边为： [(0, 1), (0, 2), (0, 3), (1, 3), (1, 2), (2, 3)]\n",
                        "当前子图归类到左边的顶点为： [1, 2]\n",
                        "该子图的最大割为： 4\n",
                        "\n",
                        "当前子图边为： [(0, 1)]\n",
                        "当前子图归类到左边的顶点为： [1]\n",
                        "该子图的最大割为： 1\n",
                        "\n",
                        "当前子图边为： [(0, 2), (0, 1), (1, 2)]\n",
                        "当前子图归类到左边的顶点为： [2]\n",
                        "该子图的最大割为： 2\n",
                        "\n",
                        "各子图分类到左边的顶点为： [[0, 2], [1, 2], [1], [2]]\n",
                        "各子图所累积的最大割数为： 11\n"
                    ]
                }
            ],
            "source": [
                "import numpy as np\n",
                "import networkx as nx\n",
                "import math\n",
                "\n",
                "p = 4 # 量子线路层数\n",
                "graphs_num = len(graphs_nodes)\n",
                "left_nodes = [] # 记录分割方案，也就是每个子图中，哪些顶点被分类到左边，剩下的自然就在右边。\n",
                "\n",
                "graphs_max_cut = 0 # 记录该方案下，整图的最大割数\n",
                "for graph in range(graphs_num):\n",
                "    print('当前子图边为：', rename_graphs_edges[graph])\n",
                "    ham = Hamiltonian(build_ham(rename_graphs_edges[graph]))         \n",
                "    init_state_circ = UN(H, rename_graphs_nodes[graph])  \n",
                "    ansatz = build_ansatz(rename_graphs_nodes[graph], rename_graphs_edges[graph], p)  \n",
                "    circ = init_state_circ + ansatz   \n",
                "\n",
                "    sim = Simulator('mqvector', circ.n_qubits)\n",
                "    grad_ops = sim.get_expectation_with_grad(ham, circ)\n",
                "    net = MQAnsatzOnlyLayer(grad_ops)\n",
                "    opti = nn.Adam(net.trainable_params(), learning_rate=0.05)\n",
                "    train_net = nn.TrainOneStepCell(net, opti)\n",
                "    for i in range(200):\n",
                "        train_net()\n",
                "        \n",
                "    sim.reset()\n",
                "    sim.apply_circuit(circ, pr=dict(zip(ansatz.params_name, net.weight.asnumpy())))\n",
                "    state = sim.get_qs()\n",
                "    distribution = [] # 坍缩到各基矢的概率分布\n",
                "    for i in range(len(state)):\n",
                "        distribution.append((state[i].conj()*state[i]).real)\n",
                "        \n",
                "    res =  \"{0:b}\".format(np.argmax(distribution)) # 找出概率最大的那个基矢序号，并将其转化为转化为二进制\n",
                "    res = res.zfill(len(rename_graphs_nodes[graph])) # 前面补位，这样才能保证比特数正常\n",
                "    res = res[::-1] # 翻转，然后就得到了类似 0101 这样标志着测量结果的二进制表示\n",
                "    sub_graph_left_nodes = []\n",
                "    for index, i in enumerate(res):\n",
                "        if i == '0': # 如果是 0 则归类到左边，若为 1 则归类到右边\n",
                "            sub_graph_left_nodes.append(index)\n",
                "    print('当前子图归类到左边的顶点为：', sub_graph_left_nodes)\n",
                "    \n",
                "    g = nx.Graph()\n",
                "    for edge in rename_graphs_edges[graph]:\n",
                "        nx.add_path(g, [edge[0], edge[1]], weight=1)\n",
                "    cut = nx.cut_size(g, sub_graph_left_nodes, weight='weight')\n",
                "    graphs_max_cut += cut\n",
                "    print('该子图的最大割为：', cut)\n",
                "    print('')\n",
                "    left_nodes.append(sub_graph_left_nodes)\n",
                "print('各子图分类到左边的顶点为：', left_nodes)\n",
                "print('各子图所累积的最大割数为：', graphs_max_cut)"
            ]
        },
        {
            "cell_type": "markdown",
            "id": "2208c75b",
            "metadata": {},
            "source": [
                "将各子图作为顶点，构建一个新的总图。\n",
                "先找到子图的边，也就是子图之间的边，并进行重新映射。"
            ]
        },
        {
            "cell_type": "code",
            "execution_count": 67,
            "id": "65de8fc5",
            "metadata": {},
            "outputs": [
                {
                    "name": "stdout",
                    "output_type": "stream",
                    "text": [
                        "边总数为： 21\n",
                        "各子图内部边数为： 15\n",
                        "各子图间的边数为： 6\n",
                        "总图的边为： [(1, 3), (0, 3), (2, 3), (1, 2), (0, 1), (0, 1)]\n"
                    ]
                }
            ],
            "source": [
                "inner_graph_edges = [i for ii in graphs_edges for i in ii]\n",
                "inter_graph_edges = list(set(edges)-set(inner_graph_edges))\n",
                "print('边总数为：', len(edges))\n",
                "print('各子图内部边数为：', len(inner_graph_edges))\n",
                "print('各子图间的边数为：', len(inter_graph_edges))\n",
                "\n",
                "rename_inter_edges = []\n",
                "for edge in inter_graph_edges:\n",
                "    for index, nodes in enumerate(graphs_nodes):\n",
                "        if edge[0] in nodes:\n",
                "            node0 = index\n",
                "    for index, nodes in enumerate(graphs_nodes):\n",
                "        if edge[1] in nodes:\n",
                "            node1 = index\n",
                "    rename_inter_edges.append((node0, node1))\n",
                "    \n",
                "print('总图的边为：', rename_inter_edges)"
            ]
        },
        {
            "cell_type": "markdown",
            "id": "e8adddbe",
            "metadata": {},
            "source": [
                "给新图边加上权重：当一个边的两个顶点在各自子图中被分类到同一边时，权重为 +1，否则为 -1；两个子图间都多个边时，合并为一个边，而权重累加。"
            ]
        },
        {
            "cell_type": "code",
            "execution_count": 100,
            "id": "f9e90674",
            "metadata": {},
            "outputs": [
                {
                    "name": "stdout",
                    "output_type": "stream",
                    "text": [
                        "[[1, 3, -1], [0, 3, 1], [2, 3, -1], [1, 2, 1], [0, 1, -1], [0, 1, -1]]\n"
                    ]
                }
            ],
            "source": [
                "import copy\n",
                "\n",
                "sub_left_nodes = [] # 所有子图中，被分类到左边中的点\n",
                "for index, nodes in enumerate(left_nodes):\n",
                "    for j in nodes:\n",
                "        pre_node = rename_nodes_list_0[index][j]\n",
                "        sub_left_nodes.append(pre_node) \n",
                "        \n",
                "# print(sub_left_nodes) \n",
                "# [0, 2, 5, 6, 9, 10, 12]\n",
                "\n",
                "# print(inter_graph_edges)\n",
                "# [(5, 11), (0, 12), (9, 10), (7, 8), (2, 4), (3, 5)]\n",
                "\n",
                "weighted_inter_graph_edges = [] \n",
                "for edge in inter_graph_edges:\n",
                "    value_0 = 1 if edge[0] in sub_left_nodes else -1\n",
                "    value_1 = 1 if edge[1] in sub_left_nodes else -1\n",
                "    value = value_0 * value_1\n",
                "    weighted_inter_graph_edges.append([edge[0], edge[1], value])\n",
                "    \n",
                "# print(weighted_inter_graph_edges)\n",
                "# [[5, 11, -1], [0, 12, 1], [9, 10, 1], [7, 8, 1], [2, 4, -1], [3, 5, -1]]\n",
                "\n",
                "rename_inter_nodes = list(range(len(graphs_nodes)))\n",
                "rename_inter_edges = []\n",
                "for edge in weighted_inter_graph_edges:\n",
                "    for index, nodes in enumerate(graphs_nodes):\n",
                "        if edge[0] in nodes:\n",
                "            node0 = index\n",
                "    for index, nodes in enumerate(graphs_nodes):\n",
                "        if edge[1] in nodes:\n",
                "            node1 = index\n",
                "    rename_inter_edges.append([node0, node1, edge[2]])\n",
                "    \n",
                "print(rename_inter_edges)"
            ]
        },
        {
            "cell_type": "code",
            "execution_count": 101,
            "id": "ed8d0f39",
            "metadata": {
                "scrolled": true
            },
            "outputs": [
                {
                    "name": "stdout",
                    "output_type": "stream",
                    "text": [
                        "[[1, 3, -1], [0, 3, 1], [2, 3, -1], [1, 2, 1], [0, 1, -1], [0, 1, -1]]\n",
                        "3\n",
                        "总图分类到左边的顶点为： [2, 3]\n",
                        "最终的最大割数为： 12\n"
                    ]
                }
            ],
            "source": [
                "import numpy as np\n",
                "import networkx as nx\n",
                "import math\n",
                "p = 4\n",
                "\n",
                "rename_inter_edges = [[1, 3, -1], [0, 3, 1], [2, 3, -1], [1, 2, 1], [0, 1, -1], [0, 1, -1]]\n",
                "\n",
                "qubits_num = len(graphs_nodes)\n",
                "ham = Hamiltonian(build_ham_for_weighted_edges(rename_inter_edges))         \n",
                "init_state_circ = UN(H, list(range(qubits_num)))  \n",
                "ansatz = build_ansatz(rename_inter_nodes, rename_inter_edges, p)  \n",
                "circ = init_state_circ + ansatz   \n",
                "\n",
                "sim = Simulator('mqvector', circ.n_qubits)\n",
                "grad_ops = sim.get_expectation_with_grad(ham, circ)\n",
                "net = MQAnsatzOnlyLayer(grad_ops)\n",
                "opti = nn.Adam(net.trainable_params(), learning_rate=0.05)\n",
                "train_net = nn.TrainOneStepCell(net, opti)\n",
                "for i in range(500):\n",
                "    train_net()\n",
                "print(rename_inter_edges)\n",
                "sim.reset()\n",
                "sim.apply_circuit(circ, pr=dict(zip(ansatz.params_name, net.weight.asnumpy())))\n",
                "state = sim.get_qs()\n",
                "distribution = []\n",
                "for i in range(len(state)):\n",
                "    distribution.append((state[i].conj()*state[i]).real)\n",
                "print(np.argmax(distribution))\n",
                "res =  \"{0:b}\".format(np.argmax(distribution))\n",
                "res = res.zfill(4)\n",
                "res = res[::-1]\n",
                "overall_graph_left_nodes = []\n",
                "for index, i in enumerate(res):\n",
                "    if i == '0':\n",
                "        overall_graph_left_nodes.append(index)\n",
                "print('总图分类到左边的顶点为：', overall_graph_left_nodes)\n",
                "g = nx.Graph()\n",
                "for edge in rename_inter_edges:\n",
                "    nx.add_path(g, [edge[0], edge[1]], weight=edge[2])\n",
                "cut = nx.cut_size(g, overall_graph_left_nodes, weight='weight')\n",
                "max_cut = cut + graphs_max_cut\n",
                "print('最终的最大割数为：', max_cut)"
            ]
        },
        {
            "cell_type": "markdown",
            "id": "599dde76",
            "metadata": {},
            "source": [
                "## 自验结果\n",
                "\n",
                "下图展示了采用 QAOA in QAOA 算法，使用 4, 7, 11, 13 个量子比特的系统，在量子线路层数分别为 1，2，3，4，5 的情况下，求解顶点数为 15，每个节点有 4 个邻居随机正则图的结果。 **注：** 图中每一项数据都是对 10 个随机图分别求解并取平均的结果。\n",
                "\n",
                "![result](./src/result.png)\n",
                "\n",
                "该图通过运行 `main.ipynb` 中的所有语句得到，结论和论文图 FIG.5 (b) 一致。\n",
                "\n",
                "**结论：** 通过以上复现结果，可见采用 QAOA in QAOA 算法，确实可以用小型量子计算机求解大型图的最大割问题。且量子计算机的规模越大，求解结果越接近真实值。复现结果与原文结论相一致。\n",
                "\n",
                "\n",
                "## 自验环境\n",
                "\n",
                "硬件：Windows 10 系统、 4U8G 256G 存储 \n",
                "\n",
                "软件：Mindspore 1.6.0、Mindquantum 0.7.0\n",
                "\n",
                "训练超参数：learning rate = 0.05、optimizer = Adam\n",
                "\n"
            ]
        }
    ],
    "metadata": {
        "kernelspec": {
            "display_name": "Python 3 (ipykernel)",
            "language": "python",
            "name": "python3"
        },
        "language_info": {
            "codemirror_mode": {
                "name": "ipython",
                "version": 3
            },
            "file_extension": ".py",
            "mimetype": "text/x-python",
            "name": "python",
            "nbconvert_exporter": "python",
            "pygments_lexer": "ipython3",
            "version": "3.7.16"
        }
    },
    "nbformat": 4,
    "nbformat_minor": 5
}