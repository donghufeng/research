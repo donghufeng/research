{
 "cells": [
  {
   "cell_type": "markdown",
   "id": "ec83433e",
   "metadata": {},
   "source": [
    "我们考虑论文中的案例\n",
    "\n",
    "<img src='./src/sample.jpg' width='90%'>"
   ]
  },
  {
   "cell_type": "code",
   "execution_count": 1,
   "id": "e41db71a",
   "metadata": {},
   "outputs": [],
   "source": [
    "edges = [(0,1), (0,12), (1,2), (2,3), (1,3), (0,3), (3,5), (2,4), (4,5), (4,6), (4,7), (5,11), (5,7), (5,6), (6,7), (7,8), (8,9), (9,10), (10,12), (10,11), (11,12)]"
   ]
  },
  {
   "cell_type": "code",
   "execution_count": 2,
   "id": "eeb88bb6",
   "metadata": {},
   "outputs": [
    {
     "name": "stdout",
     "output_type": "stream",
     "text": [
      "[[9, 0, 2, 4], [11, 12, 6, 3], [1, 7, 8, 5], [10]]\n"
     ]
    }
   ],
   "source": [
    "# 将图中的点随机分组，每组最大数不超过量子比特数\n",
    "import random\n",
    "nodes = list(range(13))\n",
    "qubits_num = 4\n",
    "sub_nodes = []\n",
    "while True:\n",
    "    sub_graph_nodes = random.sample(nodes, qubits_num)\n",
    "    sub_nodes.append(sub_graph_nodes)\n",
    "    for i in sub_graph_nodes:\n",
    "        nodes.remove(i)\n",
    "    if len(nodes) <= qubits_num:\n",
    "        sub_nodes.append(nodes)\n",
    "        break\n",
    "        \n",
    "print(sub_nodes)"
   ]
  },
  {
   "cell_type": "code",
   "execution_count": 3,
   "id": "dc5931e8",
   "metadata": {},
   "outputs": [],
   "source": [
    "sub_nodes = [[0,1,2,3], [4,5,6,7], [8,9], [10,11,12]]"
   ]
  },
  {
   "cell_type": "code",
   "execution_count": 3,
   "id": "b12be8b4",
   "metadata": {},
   "outputs": [
    {
     "name": "stdout",
     "output_type": "stream",
     "text": [
      "[[(0, 1), (1, 2), (2, 3), (1, 3), (0, 3)], [(4, 5), (4, 6), (4, 7), (5, 7), (5, 6), (6, 7)], [(8, 9)], [(10, 12), (10, 11), (11, 12)]]\n"
     ]
    }
   ],
   "source": [
    "# 根据子图顶点，挑出各个子图所包含的边\n",
    "edges = [(0,1), (0,12), (1,2), (2,3), (1,3), (0,3), (3,5), (2,4), (4,5), (4,6), (4,7), (5,11), (5,7), (5,6), (6,7), (7,8), (8,9), (9,10), (10,12), (10,11), (11,12)]\n",
    "sub_nodes = [[0,1,2,3], [4,5,6,7], [8,9], [10,11,12]]\n",
    "sub_graph_edges = []\n",
    "\n",
    "for nodes in sub_nodes:\n",
    "    sub_edge = []\n",
    "    for edge in edges:\n",
    "        if edge[0] in nodes and edge[1] in nodes:\n",
    "            sub_edge.append(edge)\n",
    "    sub_graph_edges.append(sub_edge)\n",
    "print(sub_graph_edges)"
   ]
  },
  {
   "cell_type": "code",
   "execution_count": 11,
   "id": "28c48e86",
   "metadata": {},
   "outputs": [
    {
     "name": "stdout",
     "output_type": "stream",
     "text": [
      "[[0, 1, 2, 3], [4, 5, 6, 7], [8, 9], [10, 11, 12]]\n",
      "[[0, 1, 2, 3], [0, 1, 2, 3], [0, 1], [0, 1, 2]]\n",
      "[{0: 0, 1: 1, 2: 2, 3: 3}, {0: 4, 1: 5, 2: 6, 3: 7}, {0: 8, 1: 9}, {0: 10, 1: 11, 2: 12}]\n",
      "[{0: 0, 1: 1, 2: 2, 3: 3}, {4: 0, 5: 1, 6: 2, 7: 3}, {8: 0, 9: 1}, {10: 0, 11: 1, 12: 2}]\n"
     ]
    }
   ],
   "source": [
    "# 将每个子图的顶点重新映射\n",
    "\n",
    "graphs_nodes = [[0,1,2,3], [4,5,6,7], [8,9], [10,11,12]]\n",
    "rename_graphs_nodes = []\n",
    "rename_nodes_list_0 = [] # 新索引：顶点序号\n",
    "rename_nodes_list_1 = [] # 顶点序号：新索引\n",
    "\n",
    "for sub_graph_nodes in graphs_nodes:\n",
    "    rename_graphs_nodes_0 = {} \n",
    "    rename_graphs_nodes_1 = {} \n",
    "    rename_node = []\n",
    "    for index, node in enumerate(sub_graph_nodes):\n",
    "        rename_node.append(index)\n",
    "        rename_graphs_nodes_0[index] = node\n",
    "        rename_graphs_nodes_1[node] = index\n",
    "    rename_nodes_list_0.append(rename_graphs_nodes_0)\n",
    "    rename_nodes_list_1.append(rename_graphs_nodes_1)\n",
    "    rename_graphs_nodes.append(rename_node)\n",
    "\n",
    "print(graphs_nodes)\n",
    "print(rename_graphs_nodes)\n",
    "print(rename_nodes_list_0)\n",
    "print(rename_nodes_list_1)"
   ]
  },
  {
   "cell_type": "code",
   "execution_count": 12,
   "id": "7643ac77",
   "metadata": {},
   "outputs": [
    {
     "name": "stdout",
     "output_type": "stream",
     "text": [
      "[[(0, 1), (0, 3), (1, 2), (1, 3), (2, 3)], [(0, 1), (0, 2), (0, 3), (1, 2), (1, 3), (2, 3)], [(0, 1)], [(0, 1), (1, 2), (0, 2)]]\n"
     ]
    }
   ],
   "source": [
    "# 根据重新映射的点，重新映射边\n",
    "graphs_edges = [[(0,1), (0,3), (1,2), (1,3), (2,3)], \n",
    "                [(4,5), (4,6), (4,7), (5,6), (5,7), (6,7)],\n",
    "                [(8,9)],\n",
    "                [(10,11), (11,12), (10,12)]]\n",
    "\n",
    "rename_graphs_edges = []\n",
    "for index, sub_graph_edges in enumerate(graphs_edges):\n",
    "    rename_sub_graph_edges = []\n",
    "    for edge in sub_graph_edges:\n",
    "        rename_sub_graph_edges.append((rename_nodes_list_1[index][edge[0]], rename_nodes_list_1[index][edge[1]]))\n",
    "#         print(f'当前为第{index}个子图', '原边为：', edge, '重命名边为：', (rename_nodes_list_1[index][edge[0]], rename_nodes_list_1[index][edge[1]]))\n",
    "    rename_graphs_edges.append(rename_sub_graph_edges)\n",
    "    \n",
    "print(rename_graphs_edges)"
   ]
  },
  {
   "cell_type": "code",
   "execution_count": 130,
   "id": "d5c39875",
   "metadata": {},
   "outputs": [],
   "source": [
    "from mindquantum import *\n",
    "import mindspore as ms\n",
    "import mindspore.nn as nn\n",
    "ms.set_context(mode=ms.PYNATIVE_MODE, device_target=\"CPU\")\n",
    "\n",
    "def build_hc(edges, para): \n",
    "    circ_ = Circuit()\n",
    "    for i in edges:\n",
    "        circ_ += ZZ(para).on(i[:2])\n",
    "    circ_.barrier() \n",
    "    return circ_\n",
    "\n",
    "def build_hb(nodes, para):\n",
    "    circ_ = Circuit()\n",
    "    for i in nodes:\n",
    "        circ_ += RX(para).on(i)\n",
    "    circ_.barrier() \n",
    "    return circ_\n",
    "\n",
    "def build_ansatz(nodes, edges, p):    \n",
    "    circ = Circuit()  \n",
    "    for i in range(p):\n",
    "        circ += build_hc(edges, f'g{i}')     \n",
    "        circ += build_hb(nodes, f'b{i}')\n",
    "    return circ\n",
    "\n",
    "def build_ham(edges):\n",
    "    ham = QubitOperator()\n",
    "    for i in edges:\n",
    "        ham += QubitOperator(f'Z{i[0]} Z{i[1]}') \n",
    "    return ham\n",
    "\n",
    "def build_ham_for_weighted_edges(weighted_edges):\n",
    "    ham = QubitOperator()\n",
    "    for i in weighted_edges:\n",
    "        ham += QubitOperator(f'Z{i[0]} Z{i[1]}', i[2]) \n",
    "    return ham"
   ]
  },
  {
   "cell_type": "code",
   "execution_count": 78,
   "id": "c9bfaf10",
   "metadata": {
    "scrolled": false
   },
   "outputs": [
    {
     "name": "stdout",
     "output_type": "stream",
     "text": [
      "当前子图边为： [(0, 1), (0, 3), (1, 2), (1, 3), (2, 3)]\n",
      "量子 cut： 4\n",
      "当前子图归类到左边的顶点为： [0, 2]\n",
      "cut ： 4\n",
      "\n",
      "当前子图边为： [(0, 1), (0, 2), (0, 3), (1, 2), (1, 3), (2, 3)]\n",
      "量子 cut： 4\n",
      "当前子图归类到左边的顶点为： [1, 2]\n",
      "cut ： 4\n",
      "\n",
      "当前子图边为： [(0, 1)]\n",
      "量子 cut： 1\n",
      "当前子图归类到左边的顶点为： [1]\n",
      "cut ： 1\n",
      "\n",
      "当前子图边为： [(0, 1), (1, 2), (0, 2)]\n",
      "量子 cut： 2\n",
      "当前子图归类到左边的顶点为： [0, 2]\n",
      "cut ： 2\n",
      "\n",
      "各子图分类到左边的顶点为： [[0, 2], [1, 2], [1], [0, 2]]\n"
     ]
    }
   ],
   "source": [
    "p = 4\n",
    "import numpy as np\n",
    "import networkx as nx\n",
    "import math\n",
    "\n",
    "graph_num = len(graphs_nodes)\n",
    "left_nodes = []\n",
    "for sub_graph in range(graph_num):\n",
    "    print('当前子图边为：', rename_graphs_edges[sub_graph])\n",
    "    ham = Hamiltonian(build_ham(rename_graphs_edges[sub_graph]))         \n",
    "    init_state_circ = UN(H, rename_graphs_nodes[sub_graph])  \n",
    "    ansatz = build_ansatz(rename_graphs_nodes[sub_graph], rename_graphs_edges[sub_graph], p)  \n",
    "    circ = init_state_circ + ansatz   \n",
    "\n",
    "    sim = Simulator('projectq', circ.n_qubits)                     # 创建模拟器，backend使用‘mqvector’，能模拟5个比特（'circ'线路中包含的比特数）\n",
    "    grad_ops = sim.get_expectation_with_grad(ham, circ)            # 获取计算变分量子线路的期望值和梯度的算子\n",
    "    net = MQAnsatzOnlyLayer(grad_ops)                              # 生成待训练的神经网络\n",
    "    opti = nn.Adam(net.trainable_params(), learning_rate=0.05)     # 设置针对网络中所有可训练参数、学习率为0.05的Adam优化器\n",
    "    train_net = nn.TrainOneStepCell(net, opti)                     # 对神经网络进行一步训练\n",
    "    for i in range(200):\n",
    "        cut = math.ceil((len(rename_graphs_edges[sub_graph]) - train_net()) / 2)      # 将神经网络训练一步并计算得到的结果（切割边数）。注意：每当'train_net()'运行一次，神经网络就训练了一步\n",
    "    print('量子 cut：', cut)\n",
    "    sim.reset()\n",
    "    sim.apply_circuit(circ, pr=dict(zip(ansatz.params_name, net.weight.asnumpy())))\n",
    "    state = sim.get_qs()\n",
    "    distribution = []\n",
    "    for i in range(len(state)):\n",
    "        distribution.append((state[i].conj()*state[i]).real)\n",
    "    res =  \"{0:b}\".format(np.argmax(distribution))\n",
    "    res = res.zfill(len(rename_graphs_nodes[sub_graph]))\n",
    "    res = res[::-1]\n",
    "    sub_graph_left_nodes = []\n",
    "    for index, i in enumerate(res):\n",
    "        if i == '0':\n",
    "            sub_graph_left_nodes.append(index)\n",
    "    print('当前子图归类到左边的顶点为：', sub_graph_left_nodes)\n",
    "    g = nx.Graph()\n",
    "    for edge in rename_graphs_edges[sub_graph]:\n",
    "        nx.add_path(g, [edge[0], edge[1]], weight=1)\n",
    "    print('cut ：', nx.cut_size(g, sub_graph_left_nodes, weight='weight'))\n",
    "    \n",
    "    print('')\n",
    "    left_nodes.append(sub_graph_left_nodes)\n",
    "print('各子图分类到左边的顶点为：', left_nodes)\n"
   ]
  },
  {
   "cell_type": "code",
   "execution_count": 122,
   "id": "65de8fc5",
   "metadata": {},
   "outputs": [
    {
     "name": "stdout",
     "output_type": "stream",
     "text": [
      "边总数为： 21\n",
      "各子图内部边数为： 15\n",
      "各子图间的边数为： 6\n",
      "[(1, 3), (0, 3), (2, 3), (1, 2), (0, 1), (0, 1)]\n",
      "[[0, 1, 2, 3], [4, 5, 6, 7], [8, 9], [10, 11, 12]]\n"
     ]
    }
   ],
   "source": [
    "# 将子图间的边，映射为新图\n",
    "edges = [(0,1), (0,12), (1,2), (2,3), (1,3), (0,3), (3,5), (2,4), (4,5), (4,6), (4,7), (5,11), (5,7), (5,6), (6,7), (7,8), (8,9), (9,10), (10,12), (10,11), (11,12)]\n",
    "inner_graph_edges = [i for ii in graphs_edges for i in ii]\n",
    "inter_graph_edges = list(set(edges)-set(inner_graph_edges))\n",
    "print('边总数为：', len(edges))\n",
    "print('各子图内部边数为：', len(inner_graph_edges))\n",
    "print('各子图间的边数为：', len(inter_graph_edges))\n",
    "\n",
    "rename_inter_edges = []\n",
    "for edge in inter_graph_edges:\n",
    "    for index, nodes in enumerate(graphs_nodes):\n",
    "        if edge[0] in nodes:\n",
    "            node0 = index\n",
    "    for index, nodes in enumerate(graphs_nodes):\n",
    "        if edge[1] in nodes:\n",
    "            node1 = index\n",
    "    rename_inter_edges.append((node0, node1))\n",
    "print(rename_inter_edges)\n"
   ]
  },
  {
   "cell_type": "code",
   "execution_count": 135,
   "id": "f9e90674",
   "metadata": {},
   "outputs": [],
   "source": [
    "# 给新图边加上权重\n",
    "\n",
    "left_nodes = [[0, 2], [1, 2], [1], [0, 2]]\n",
    "rename_nodes_list_0 = [{0: 0, 1: 1, 2: 2, 3: 3},\n",
    "                       {0: 4, 1: 5, 2: 6, 3: 7},\n",
    "                       {0: 8, 1: 9},\n",
    "                       {0: 10, 1: 11, 2: 12}]\n",
    "\n",
    "sub_left_nodes = [] # 所有子图中，被分类到左边中的点\n",
    "for index, nodes in enumerate(left_nodes):\n",
    "    for j in nodes:\n",
    "        pre_node = rename_nodes_list_0[index][j]\n",
    "        sub_left_nodes.append(pre_node) \n",
    "# print(sub_left_nodes) \n",
    "# [0, 2, 5, 6, 9, 10, 12]\n",
    "\n",
    "# print(inter_graph_edges)\n",
    "# [(5, 11), (0, 12), (9, 10), (7, 8), (2, 4), (3, 5)]\n",
    "\n",
    "weighted_inter_graph_edges = [] # 当一个边的两个顶点在各自的子图中，都被分类到同一边时，权重设为 1，否则为 0\n",
    "for edge in inter_graph_edges:\n",
    "    value_0 = 1 if edge[0] in sub_left_nodes else -1\n",
    "    value_1 = 1 if edge[1] in sub_left_nodes else -1\n",
    "    value = value_0 * value_1\n",
    "    weighted_inter_graph_edges.append([edge[0], edge[1], value])\n",
    "    \n",
    "# print(weighted_inter_graph_edges)\n",
    "# [[5, 11, -1], [0, 12, 1], [9, 10, 1], [7, 8, 1], [2, 4, -1], [3, 5, -1]]\n",
    "\n",
    "rename_inter_nodes = list(range(len(graphs_nodes)))\n",
    "rename_inter_edges = []\n",
    "for edge in weighted_inter_graph_edges:\n",
    "    for index, nodes in enumerate(graphs_nodes):\n",
    "        if edge[0] in nodes:\n",
    "            node0 = index\n",
    "    for index, nodes in enumerate(graphs_nodes):\n",
    "        if edge[1] in nodes:\n",
    "            node1 = index\n",
    "    rename_inter_edges.append([node0, node1, edge[2]])\n",
    "    \n",
    "# print(rename_inter_edges)\n",
    "# [[1, 3, -1], [0, 3, 1], [2, 3, 1], [1, 2, 1], [0, 1, -1], [0, 1, -1]]\n",
    "\n",
    "# 去掉相同边，并将权重累积\n",
    "for index in range(len(rename_inter_edges)-1, -1, -1):\n",
    "    if rename_inter_edges.count(rename_inter_edges[index]) > 1:\n",
    "        rename_inter_edges[rename_inter_edges.index(rename_inter_edges[index])][2] *= rename_inter_edges.count(rename_inter_edges[index])\n",
    "        rename_inter_edges.pop(index) # 删除掉相同元素\n",
    "        \n",
    "# print(rename_inter_edges)\n",
    "# [[1, 3, -1], [0, 3, 1], [2, 3, 1], [1, 2, 1], [0, 1, -2]]"
   ]
  },
  {
   "cell_type": "code",
   "execution_count": 136,
   "id": "ed8d0f39",
   "metadata": {
    "scrolled": true
   },
   "outputs": [
    {
     "name": "stdout",
     "output_type": "stream",
     "text": [
      "量子 cut： 3\n",
      "当前子图归类到左边的顶点为： [0, 2]\n",
      "cut ： 1\n",
      "\n",
      "总图分类到左边的顶点为： [0, 2]\n"
     ]
    }
   ],
   "source": [
    "p = 4\n",
    "import numpy as np\n",
    "import networkx as nx\n",
    "import math\n",
    "\n",
    "qubits_num = len(graphs_nodes)\n",
    "ham = Hamiltonian(build_ham_for_weighted_edges(rename_inter_edges))         \n",
    "init_state_circ = UN(H, list(range(qubits_num)))  \n",
    "ansatz = build_ansatz(rename_inter_nodes, rename_inter_edges, p)  \n",
    "circ = init_state_circ + ansatz   \n",
    "\n",
    "sim = Simulator('projectq', circ.n_qubits)                     # 创建模拟器，backend使用‘mqvector’，能模拟5个比特（'circ'线路中包含的比特数）\n",
    "grad_ops = sim.get_expectation_with_grad(ham, circ)            # 获取计算变分量子线路的期望值和梯度的算子\n",
    "net = MQAnsatzOnlyLayer(grad_ops)                              # 生成待训练的神经网络\n",
    "opti = nn.Adam(net.trainable_params(), learning_rate=0.05)     # 设置针对网络中所有可训练参数、学习率为0.05的Adam优化器\n",
    "train_net = nn.TrainOneStepCell(net, opti)                     # 对神经网络进行一步训练\n",
    "for i in range(200):\n",
    "    cut = math.ceil((len(rename_graphs_edges[sub_graph]) - train_net()) / 2)      # 将神经网络训练一步并计算得到的结果（切割边数）。注意：每当'train_net()'运行一次，神经网络就训练了一步\n",
    "print('量子 cut：', cut)\n",
    "sim.reset()\n",
    "sim.apply_circuit(circ, pr=dict(zip(ansatz.params_name, net.weight.asnumpy())))\n",
    "state = sim.get_qs()\n",
    "distribution = []\n",
    "for i in range(len(state)):\n",
    "    distribution.append((state[i].conj()*state[i]).real)\n",
    "res =  \"{0:b}\".format(np.argmax(distribution))\n",
    "res = res.zfill(len(rename_graphs_nodes[sub_graph]))\n",
    "res = res[::-1]\n",
    "overall_graph_left_nodes = []\n",
    "for index, i in enumerate(res):\n",
    "    if i == '0':\n",
    "        overall_graph_left_nodes.append(index)\n",
    "print('当前子图归类到左边的顶点为：', overall_graph_left_nodes)\n",
    "g = nx.Graph()\n",
    "for edge in rename_inter_edges:\n",
    "    nx.add_path(g, [edge[0], edge[1]], weight=edge[2])\n",
    "print('cut ：', nx.cut_size(g, overall_graph_left_nodes, weight='weight'))\n",
    "\n",
    "print('')\n",
    "print('总图分类到左边的顶点为：', overall_graph_left_nodes)\n"
   ]
  },
  {
   "cell_type": "code",
   "execution_count": 61,
   "id": "bf50dbeb",
   "metadata": {
    "scrolled": true
   },
   "outputs": [
    {
     "data": {
      "text/plain": [
       "4"
      ]
     },
     "execution_count": 61,
     "metadata": {},
     "output_type": "execute_result"
    }
   ],
   "source": []
  },
  {
   "cell_type": "code",
   "execution_count": 38,
   "id": "6fde44cf",
   "metadata": {},
   "outputs": [
    {
     "name": "stdout",
     "output_type": "stream",
     "text": [
      "[1, 2, 3] [(2, 3)] 3 1\n"
     ]
    }
   ],
   "source": [
    "G = nx.Graph()\n",
    "\n",
    "G.add_node(1) # 添加节点１\n",
    "\n",
    "G.add_edge(2,3) #　添加节点２，３并链接２３节点\n",
    "\n",
    "print(G.nodes, G.edges, G.number_of_nodes(), G.number_of_edges())"
   ]
  },
  {
   "cell_type": "code",
   "execution_count": 132,
   "id": "25e2c475",
   "metadata": {
    "scrolled": true
   },
   "outputs": [
    {
     "ename": "TypeError",
     "evalue": "add_edge() missing 1 required positional argument: 'v_of_edge'",
     "output_type": "error",
     "traceback": [
      "\u001b[1;31m---------------------------------------------------------------------------\u001b[0m",
      "\u001b[1;31mTypeError\u001b[0m                                 Traceback (most recent call last)",
      "\u001b[1;32m~\\AppData\\Local\\Temp\\ipykernel_18064\\3880476371.py\u001b[0m in \u001b[0;36m<module>\u001b[1;34m\u001b[0m\n\u001b[0;32m      2\u001b[0m \u001b[0mg\u001b[0m \u001b[1;33m=\u001b[0m \u001b[0mnx\u001b[0m\u001b[1;33m.\u001b[0m\u001b[0mGraph\u001b[0m\u001b[1;33m(\u001b[0m\u001b[1;33m)\u001b[0m\u001b[1;33m\u001b[0m\u001b[1;33m\u001b[0m\u001b[0m\n\u001b[0;32m      3\u001b[0m \u001b[1;32mfor\u001b[0m \u001b[0medge\u001b[0m \u001b[1;32min\u001b[0m \u001b[0mrename_graphs_edges\u001b[0m\u001b[1;33m[\u001b[0m\u001b[0msub_graph\u001b[0m\u001b[1;33m]\u001b[0m\u001b[1;33m:\u001b[0m\u001b[1;33m\u001b[0m\u001b[1;33m\u001b[0m\u001b[0m\n\u001b[1;32m----> 4\u001b[1;33m     \u001b[0mg\u001b[0m\u001b[1;33m.\u001b[0m\u001b[0madd_edge\u001b[0m\u001b[1;33m(\u001b[0m\u001b[1;33m(\u001b[0m\u001b[0medge\u001b[0m\u001b[1;33m[\u001b[0m\u001b[1;36m0\u001b[0m\u001b[1;33m]\u001b[0m\u001b[1;33m,\u001b[0m \u001b[0medge\u001b[0m\u001b[1;33m[\u001b[0m\u001b[1;36m1\u001b[0m\u001b[1;33m]\u001b[0m\u001b[1;33m,\u001b[0m \u001b[1;33m{\u001b[0m\u001b[1;34m'weight'\u001b[0m\u001b[1;33m:\u001b[0m \u001b[1;36m3.1415\u001b[0m\u001b[1;33m}\u001b[0m\u001b[1;33m)\u001b[0m\u001b[1;33m)\u001b[0m\u001b[1;33m\u001b[0m\u001b[1;33m\u001b[0m\u001b[0m\n\u001b[0m\u001b[0;32m      5\u001b[0m \u001b[0mnx\u001b[0m\u001b[1;33m.\u001b[0m\u001b[0mdraw\u001b[0m\u001b[1;33m(\u001b[0m\u001b[0mg\u001b[0m\u001b[1;33m,\u001b[0m \u001b[0mwith_labels\u001b[0m\u001b[1;33m=\u001b[0m\u001b[1;32mTrue\u001b[0m\u001b[1;33m,\u001b[0m \u001b[0mfont_weight\u001b[0m\u001b[1;33m=\u001b[0m\u001b[1;34m'bold'\u001b[0m\u001b[1;33m)\u001b[0m\u001b[1;33m\u001b[0m\u001b[1;33m\u001b[0m\u001b[0m\n",
      "\u001b[1;31mTypeError\u001b[0m: add_edge() missing 1 required positional argument: 'v_of_edge'"
     ]
    }
   ],
   "source": [
    "import networkx as nx\n",
    "g = nx.Graph()\n",
    "for edge in rename_graphs_edges[sub_graph]:\n",
    "    g.add_edge((edge[0], edge[1], {'weight': 3.1415}))\n",
    "nx.draw(g, with_labels=True, font_weight='bold')"
   ]
  },
  {
   "cell_type": "code",
   "execution_count": 152,
   "id": "c8eb9a43",
   "metadata": {},
   "outputs": [
    {
     "data": {
      "image/svg+xml": [
       "<div class=\"nb-html-output output_area\"><svg xmlns=\"http://www.w3.org/2000/svg\" width=\"156.8\" height=\"80\" xmlns:xlink=\"http://www.w3.org/1999/xlink\">\n",
       "<rect x=\"0\" y=\"0\" width=\"156.8\" height=\"80\" fill=\"#ffffff\" />\n",
       "<text x=\"20.0\" y=\"40.0\" font-size=\"16px\" dominant-baseline=\"middle\" text-anchor=\"start\" font-family=\"Arial\" font-weight=\"normal\" fill=\"#252b3a\" >\n",
       "q0:\n",
       " </text>\n",
       "<line x1=\"48.8\" x2=\"136.8\" y1=\"40.0\" y2=\"40.0\" stroke=\"#adb0b8\" stroke-width=\"1\" />\n",
       "\n",
       "<rect x=\"72.8\" y=\"20.0\" width=\"40.0\" height=\"40\" rx=\"4\" ry=\"4\" stroke=\"#ffffff\" stroke-width=\"0\" fill=\"#5e7ce0\" fill-opacity=\"1\" />\n",
       "<text x=\"92.8\" y=\"40.0\" font-size=\"20px\" dominant-baseline=\"middle\" text-anchor=\"middle\" font-family=\"Arial\" font-weight=\"normal\" fill=\"#ffffff\" >\n",
       "T\n",
       " </text>\n",
       "\n",
       "</svg></div>"
      ],
      "text/plain": [
       "<mindquantum.io.display.circuit_svg_drawer.SVGCircuit at 0x14026247448>"
      ]
     },
     "execution_count": 152,
     "metadata": {},
     "output_type": "execute_result"
    }
   ],
   "source": [
    "from mindquantum import *\n",
    "circ = Circuit()\n",
    "circ += T.on(0)\n",
    "circ.svg()"
   ]
  }
 ],
 "metadata": {
  "kernelspec": {
   "display_name": "Python 3 (ipykernel)",
   "language": "python",
   "name": "python3"
  },
  "language_info": {
   "codemirror_mode": {
    "name": "ipython",
    "version": 3
   },
   "file_extension": ".py",
   "mimetype": "text/x-python",
   "name": "python",
   "nbconvert_exporter": "python",
   "pygments_lexer": "ipython3",
   "version": "3.7.13"
  }
 },
 "nbformat": 4,
 "nbformat_minor": 5
}
