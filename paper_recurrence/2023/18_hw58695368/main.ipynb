{
 "cells": [
  {
   "cell_type": "markdown",
   "metadata": {},
   "source": [
    "# Obstacles to State Preparation and Variational Optimization from Symmetry Protection"
   ]
  },
  {
   "cell_type": "markdown",
   "metadata": {},
   "source": [
    "\n",
    "## 项目介绍\n"
   ]
  },
  {
   "cell_type": "markdown",
   "metadata": {},
   "source": [
    "[Obstacles to State Preparation and Variational Optimization from Symmetry Protection](https://arxiv.org/pdf/1910.08980.pdf)"
   ]
  },
  {
   "cell_type": "markdown",
   "metadata": {},
   "source": [
    "文章提出的Recursive-QAOA方案能极大提高求解成果率，利用MindQuantum复现论文图Fig1类似结果，节点数为20，nc取值不大于8。（文章对一层的QAOA线路直接得到解析结果，这里使用模拟器搭建线路实现）"
   ]
  },
  {
   "cell_type": "markdown",
   "metadata": {},
   "source": [
    "Local Hamiltonians with topological quantum order exhibit highly entangled ground states that cannot be prepared by shallow quantum circuits. Here, we show that this property may extend to all low-energy states in the presence of an on-site Z2 symmetry. This proves a version of the No Low-Energy Trivial States (NLTS) conjecture for a family of local Hamiltonians with symmetry protected topological order. A surprising consequence of this result is that the Goemans-Williamson algorithm outperforms the Quantum Approximate Optimization Algorithm (QAOA) for certain instances of MaxCut, at any constant level. We argue that the locality and symmetry of QAOA severely limits its performance. To overcome these limitations, we propose a non-local version of QAOA, and give numerical evidence that it significantly outperforms standard QAOA for frustrated Ising models on random 3-regular graphs."
   ]
  },
  {
   "cell_type": "markdown",
   "metadata": {},
   "source": [
    "![article fragments](./img/article1.png)"
   ]
  },
  {
   "cell_type": "markdown",
   "metadata": {},
   "source": [
    "## 算法原理"
   ]
  },
  {
   "cell_type": "markdown",
   "metadata": {},
   "source": [
    "#### Recursive Quantum Approximate Optimization Algorithm\n",
    "循环量子近似优化算法(RQAOA, recursive quantum approximate optimization algorithm)\n",
    "\n",
    "考虑一个根据n顶点图$G_n=(V,E)$定义的类Ising哈密顿量\n",
    "$$H_n=\\sum_{(p,q)\\in E}{J_{p,q}Z_pZ_q}$$\n",
    "其中$J_{p,q}$是$G_n$各边的权重，可以为任意实系数。\n",
    "\n",
    "RQAOA的目标是近似能量最小值$min_z\\langle z\\lvert H_n\\rvert z \\rangle$，其中$z \\in \\{1,-1\\}^n$"
   ]
  },
  {
   "cell_type": "markdown",
   "metadata": {},
   "source": [
    "#### eliminateVariable\n",
    "RQAOA比QAOA多了个Recursive——循环——在循环中不断根据QAOA的运行结果来消除变量，相当于消除$G_n$的顶点。因此消元(eliminate variable)这步至关重要。\n",
    "\n",
    "eliminateVariable一般流程：\n",
    "\n",
    "1.运行深度p的标准QAOA来找到一个期望最小化$min\\langle \\Psi^*\\lvert H_n\\rvert\\Psi \\rangle$的量子态$\\Psi$；\n",
    "\n",
    "2.对优化后的量子态$\\Psi$按照每条边$e=(i,j)\\in E$测量得到$M_e=\\langle \\Psi^*\\lvert Z_iZ_j\\rvert\\Psi \\rangle$；\n",
    "\n",
    "3.找到边$f=argmax_{f\\in E}\\lvert M_f\\rvert$，并随机选取顶点$v\\in f$,再取出其符号$\\sigma=sign(M_f)$；\n",
    "\n",
    "4.利用$f,v,\\sigma$对$H_n$施加约束$Z_v=\\sigma Z_{f\\setminus\\{v\\}}$,即可得到新Ising哈密顿量$H_{n-1}$，也就是消除了图$G_n$的一个顶点生成新图$G_{n-1}$，同时记录下$\\xi=(v,f\\setminus\\{v\\},\\sigma)$（具体公式参考论文中C.1.）。"
   ]
  },
  {
   "cell_type": "markdown",
   "metadata": {},
   "source": [
    "#### RQAOA\n",
    "\n",
    "循环地调用eliminateVariable即可将n顶点图$G_n$消元至$n_c$顶点图$G_{n_c}$，其中$n_c\\ll n$为指定的阈值。\n",
    "\n",
    "对于$G_{n_c}$即可用暴力法等方法求解，再根据迭代过程中保存的$\\xi$们逆推出$G_n$的解。"
   ]
  },
  {
   "cell_type": "markdown",
   "metadata": {},
   "source": [
    "## 复现过程"
   ]
  },
  {
   "cell_type": "code",
   "execution_count": null,
   "metadata": {
    "collapsed": true
   },
   "outputs": [],
   "source": [
    "## 安装最新版Minduantum\n",
    "\n",
    "!pip install https://hiq.huaweicloud.com/download/mindquantum/newest/linux/mindquantum-master-cp37-cp37m-linux_x86_64.whl -i https://pypi.tuna.tsinghua.edu.cn/simple"
   ]
  },
  {
   "cell_type": "code",
   "execution_count": 1,
   "metadata": {
    "collapsed": true
   },
   "outputs": [],
   "source": [
    "from src.rqaoa import rqaoa                                   # RQAOA\n",
    "from src.rqaoa import rqaoa_recursion, rqaoa_translate        # RQAOA 分解\n",
    "from src.utils import generate_graph                          # 测试图结构\n",
    "from src.utils import maxcut_enum                             # 枚举法求解MaxCut\n",
    "from src.qaoa import qaoa, get_partition, get_expectation     # QAOA\n",
    "\n",
    "import pickle\n",
    "import numpy as np\n",
    "import networkx as nx\n",
    "import matplotlib.pyplot as plt"
   ]
  },
  {
   "cell_type": "markdown",
   "metadata": {},
   "source": [
    "### 1.先在10节点的小小图上测试一下"
   ]
  },
  {
   "cell_type": "markdown",
   "metadata": {},
   "source": [
    "#### 1.1.生成图结构"
   ]
  },
  {
   "cell_type": "markdown",
   "metadata": {},
   "source": [
    "random 3-regular graphs and random couplings $J_{p,q} = ±1$"
   ]
  },
  {
   "cell_type": "code",
   "execution_count": 2,
   "metadata": {},
   "outputs": [
    {
     "data": {
      "image/png": "[encoded data removed]",
      "text/plain": [
       "<Figure size 432x288 with 1 Axes>"
      ]
     },
     "metadata": {},
     "output_type": "display_data"
    }
   ],
   "source": [
    "g = generate_graph(10)  # 生成图结构\n",
    "nx.draw(g, with_labels=True, font_weight='bold')"
   ]
  },
  {
   "cell_type": "code",
   "execution_count": 3,
   "metadata": {},
   "outputs": [
    {
     "data": {
      "text/plain": [
       "(5, ({1, 2, 5}, {0, 3, 4, 6, 7, 8, 9}))"
      ]
     },
     "execution_count": 3,
     "metadata": {},
     "output_type": "execute_result"
    }
   ],
   "source": [
    "# Use a greedy one exchange strategy to find a locally maximal cut and its value\n",
    "nx.algorithms.approximation.maxcut.one_exchange(g, weight='J')"
   ]
  },
  {
   "cell_type": "code",
   "execution_count": 4,
   "metadata": {},
   "outputs": [
    {
     "data": {
      "text/plain": [
       "(5, [5, 2, 1])"
      ]
     },
     "execution_count": 4,
     "metadata": {},
     "output_type": "execute_result"
    }
   ],
   "source": [
    "maxcut_enum(g, 'J')  # 枚举法得到最大切割数"
   ]
  },
  {
   "cell_type": "markdown",
   "metadata": {},
   "source": [
    "对于$H_n=\\sum_{p,q\\in E}J_{p,q}Z_pZ_q,z\\in \\{-1, 1\\}^n$"
   ]
  },
  {
   "cell_type": "markdown",
   "metadata": {},
   "source": [
    "最小值可认为为$E_{min}=min_z\\langle z|H_n|z \\rangle =Const.-2C_{max}$"
   ]
  },
  {
   "cell_type": "code",
   "execution_count": 8,
   "metadata": {
    "collapsed": true
   },
   "outputs": [],
   "source": [
    "C_max = 5"
   ]
  },
  {
   "cell_type": "markdown",
   "metadata": {},
   "source": [
    "#### 1.2.RQAOA"
   ]
  },
  {
   "cell_type": "markdown",
   "metadata": {},
   "source": [
    "$level=1, n_c=6$"
   ]
  },
  {
   "cell_type": "code",
   "execution_count": 5,
   "metadata": {},
   "outputs": [
    {
     "name": "stdout",
     "output_type": "stream",
     "text": [
      "RQAOA started!\n",
      "--------------------------\n",
      "nodes_num: 10\n",
      "edges_num: 15\n",
      ">>> eliminated variable: 4\n",
      ">>> correlated variable: 5\n",
      ">>> σ: -1\n",
      "--------------------------\n",
      "nodes_num: 9\n",
      "edges_num: 14\n",
      ">>> eliminated variable: 7\n",
      ">>> correlated variable: 2\n",
      ">>> σ: -1\n",
      "--------------------------\n",
      "nodes_num: 8\n",
      "edges_num: 13\n",
      ">>> eliminated variable: 8\n",
      ">>> correlated variable: 3\n",
      ">>> σ: 1\n",
      "--------------------------\n",
      "nodes_num: 7\n",
      "edges_num: 11\n",
      ">>> eliminated variable: 3\n",
      ">>> correlated variable: 2\n",
      ">>> σ: -1\n",
      "--------------------------\n",
      "nodes_num: 6\n",
      "edges_num: 10\n",
      "Result of MaxCut: {0: 1, 1: -1, 9: 1, 5: -1, 2: -1, 6: 1}\n",
      "--------------------------\n",
      "Result of RQAOA: {0: 1, 1: -1, 9: 1, 5: -1, 2: -1, 6: 1, 3: 1, 8: 1, 7: 1, 4: 1}\n",
      "--------------------------\n",
      "RQAOA ended!\n"
     ]
    }
   ],
   "source": [
    "res_rqaoa = rqaoa(g, 6, 1, True)  # rqaoa(graph, nc, level, iter_show)"
   ]
  },
  {
   "cell_type": "markdown",
   "metadata": {},
   "source": [
    "#### 1.3.处理RQAOA结果"
   ]
  },
  {
   "cell_type": "code",
   "execution_count": 6,
   "metadata": {},
   "outputs": [
    {
     "name": "stdout",
     "output_type": "stream",
     "text": [
      "[1, 5, 2]\n"
     ]
    },
    {
     "data": {
      "text/plain": [
       "5"
      ]
     },
     "execution_count": 6,
     "metadata": {},
     "output_type": "execute_result"
    }
   ],
   "source": [
    "l_rqaoa = []\n",
    "for k in res_rqaoa:\n",
    "    if res_rqaoa[k] == -1:\n",
    "        l_rqaoa.append(k)\n",
    "print(l_rqaoa)\n",
    "nx.cut_size(g, l_rqaoa, weight='J')  # 最大切割值（带权重）"
   ]
  },
  {
   "cell_type": "code",
   "execution_count": 9,
   "metadata": {
    "collapsed": true
   },
   "outputs": [],
   "source": [
    "C_rqaoa = 5"
   ]
  },
  {
   "cell_type": "markdown",
   "metadata": {},
   "source": [
    "#### 1.4.QAOA"
   ]
  },
  {
   "cell_type": "markdown",
   "metadata": {},
   "source": [
    "$depth=1$"
   ]
  },
  {
   "cell_type": "code",
   "execution_count": 7,
   "metadata": {},
   "outputs": [
    {
     "name": "stdout",
     "output_type": "stream",
     "text": [
      "[0, 3, 4, 6, 7, 8, 9]\n"
     ]
    },
    {
     "data": {
      "text/plain": [
       "5"
      ]
     },
     "execution_count": 7,
     "metadata": {},
     "output_type": "execute_result"
    }
   ],
   "source": [
    "circ, pr = qaoa(g, 'J', 1, 100)  # qaoa(graph, weight_key, depth, step, learning_rate, monitor)\n",
    "res_qaoa = get_partition(g, circ, pr)[0]  # get_partition(graph, circ, pr, max_n)\n",
    "l_qaoa = []\n",
    "for k in res_qaoa:\n",
    "    if res_qaoa[k] == -1:\n",
    "        l_qaoa.append(k)\n",
    "print(l_qaoa)\n",
    "nx.cut_size(g, l_qaoa, weight='J')"
   ]
  },
  {
   "cell_type": "code",
   "execution_count": 10,
   "metadata": {
    "collapsed": true
   },
   "outputs": [],
   "source": [
    "C_qaoa = 5"
   ]
  },
  {
   "cell_type": "markdown",
   "metadata": {
    "collapsed": true
   },
   "source": [
    "#### 1.5.论文图Fig1类似结果"
   ]
  },
  {
   "cell_type": "code",
   "execution_count": 11,
   "metadata": {},
   "outputs": [
    {
     "data": {
      "image/png": "[encoded data removed]",
      "text/plain": [
       "<Figure size 432x288 with 1 Axes>"
      ]
     },
     "metadata": {
      "needs_background": "light"
     },
     "output_type": "display_data"
    }
   ],
   "source": [
    "width = 0.5\n",
    "fig, ax = plt.subplots()\n",
    "ax.bar([0], [C_qaoa/C_max], width=width, label='QAOA', color='blue')\n",
    "ax.bar([0+width], [C_rqaoa/C_max], width=width, label='RQAOA', color='red')\n",
    "ax.set_xlabel('problem instance')\n",
    "ax.set_ylabel('approximation ratio')\n",
    "ax.set_xticks([0.25])\n",
    "ax.set_xticklabels([1])\n",
    "ax.legend()\n",
    "plt.show()"
   ]
  },
  {
   "cell_type": "markdown",
   "metadata": {},
   "source": [
    "FIG. 1: Approximation ratios achieved by the level-1 QAOA (blue) and RQAOA (red) for the Ising-type\n",
    "Hamiltonian $H_n$ with n = 10. We consider 1 problem instances with random 3-regular graphs and random couplings $J_{p,q} = ±1$. The cutoff value for variable elimination was chosen as $n_c = 6$. The approximation ratio achieved by a given algorithm is defined as $\\langle z|C_n|z \\rangle /C_{max}$, where $z\\in \\{-1, 1\\}^n$ is the algorithm’s output and $C_{max} = max_z\\langle z|C_n|z \\rangle$ where $C_n = \\frac{1}{2}(\\sum J_e-H_n)$."
   ]
  },
  {
   "cell_type": "markdown",
   "metadata": {},
   "source": [
    "额感觉不大对啊"
   ]
  },
  {
   "cell_type": "markdown",
   "metadata": {},
   "source": [
    "QAOA对应的approximation ratio中的$|z \\rangle$换成QAOA解出的叠加态试试"
   ]
  },
  {
   "cell_type": "code",
   "execution_count": 16,
   "metadata": {},
   "outputs": [
    {
     "name": "stdout",
     "output_type": "stream",
     "text": [
      "1.3866540262227534\n"
     ]
    }
   ],
   "source": [
    "expect = get_expectation(g, circ, pr, 'J')\n",
    "J = 0\n",
    "for i in g.edges:\n",
    "    J += g.edges[i]['J']\n",
    "C_qaoa_expect = (J - expect.real) / 2\n",
    "print(C_qaoa_expect)"
   ]
  },
  {
   "cell_type": "code",
   "execution_count": 18,
   "metadata": {},
   "outputs": [
    {
     "data": {
      "image/png": "[encoded data removed]",
      "text/plain": [
       "<Figure size 432x288 with 1 Axes>"
      ]
     },
     "metadata": {
      "needs_background": "light"
     },
     "output_type": "display_data"
    }
   ],
   "source": [
    "width = 0.5\n",
    "fig, ax = plt.subplots()\n",
    "ax.bar([0], [C_qaoa_expect/C_max], width=width, label='QAOA', color='blue')\n",
    "ax.bar([0+width], [C_rqaoa/C_max], width=width, label='RQAOA', color='red')\n",
    "ax.set_xlabel('problem instance')\n",
    "ax.set_ylabel('approximation ratio')\n",
    "ax.set_xticks([0.25])\n",
    "ax.set_xticklabels([1])\n",
    "ax.legend()\n",
    "plt.show()"
   ]
  },
  {
   "cell_type": "markdown",
   "metadata": {},
   "source": [
    "FIG. 2: Approximation ratios achieved by the level-1 QAOA (blue) and RQAOA (red) for the Ising-type\n",
    "Hamiltonian $H_n$ with n = 10. We consider 1 problem instances with random 3-regular graphs and random couplings $J_{p,q} = ±1$. The cutoff value for variable elimination was chosen as $n_c = 6$. The approximation ratio achieved by a given algorithm is defined as $\\langle z|C_n|z \\rangle /C_{max}$, where $z\\in \\{-1, 1\\}^n$ is the algorithm’s output and $C_{max} = max_z\\langle z|C_n|z \\rangle$ where $C_n = \\frac{1}{2}(\\sum J_e-H_n)$."
   ]
  },
  {
   "cell_type": "markdown",
   "metadata": {},
   "source": [
    "![very good](./img/verygood.png)"
   ]
  },
  {
   "cell_type": "markdown",
   "metadata": {},
   "source": [
    "### 2.复活点存档"
   ]
  },
  {
   "cell_type": "markdown",
   "metadata": {},
   "source": [
    "由于20节点对QAOA一层的模拟感觉还是有那么一点点的慢，因此提供分步版的RQAOA，允许保存每次消元后产生的新图g和restricted set Xi。"
   ]
  },
  {
   "cell_type": "markdown",
   "metadata": {},
   "source": [
    "演示一下"
   ]
  },
  {
   "cell_type": "markdown",
   "metadata": {},
   "source": [
    "#### 2.1.一个8节点图"
   ]
  },
  {
   "cell_type": "code",
   "execution_count": 2,
   "metadata": {},
   "outputs": [
    {
     "data": {
      "image/png": "[encoded data removed]",
      "text/plain": [
       "<Figure size 432x288 with 1 Axes>"
      ]
     },
     "metadata": {},
     "output_type": "display_data"
    }
   ],
   "source": [
    "g = generate_graph(8)  # 生成图结构\n",
    "nx.draw(g, with_labels=True, font_weight='bold')"
   ]
  },
  {
   "cell_type": "markdown",
   "metadata": {},
   "source": [
    "#### 2.2.消元消到6节点，同时每消去一个节点保存一个checkpoint"
   ]
  },
  {
   "cell_type": "code",
   "execution_count": 3,
   "metadata": {},
   "outputs": [
    {
     "name": "stdout",
     "output_type": "stream",
     "text": [
      "--------------------------\n",
      "nodes_num: 8\n",
      "edges_num: 12\n",
      ">>> eliminated variable: 4\n",
      ">>> correlated variable: 5\n",
      ">>> σ: -1\n",
      "--------------------------\n",
      "nodes_num: 7\n",
      "edges_num: 11\n",
      ">>> eliminated variable: 1\n",
      ">>> correlated variable: 2\n",
      ">>> σ: -1\n"
     ]
    }
   ],
   "source": [
    "path_name = './test1_n8'\n",
    "Xi = []\n",
    "g, Xi = rqaoa_recursion(g, nc=6, Xi=Xi, checkpoint=path_name)"
   ]
  },
  {
   "cell_type": "markdown",
   "metadata": {},
   "source": [
    "#### 2.3.从6节点开始再消去1个节点"
   ]
  },
  {
   "cell_type": "code",
   "execution_count": 4,
   "metadata": {},
   "outputs": [
    {
     "name": "stdout",
     "output_type": "stream",
     "text": [
      "start:  6\n",
      "--------------------------\n",
      "nodes_num: 6\n",
      "edges_num: 10\n",
      ">>> eliminated variable: 7\n",
      ">>> correlated variable: 6\n",
      ">>> σ: -1\n",
      "end:  5\n"
     ]
    },
    {
     "data": {
      "image/png": "[encoded data removed]",
      "text/plain": [
       "<Figure size 432x288 with 1 Axes>"
      ]
     },
     "metadata": {},
     "output_type": "display_data"
    }
   ],
   "source": [
    "print('start: ', len(g.nodes))\n",
    "g, Xi = rqaoa_recursion(g, nc=5, Xi=Xi, checkpoint=None)\n",
    "print('end: ',len(g.nodes))\n",
    "nx.draw(g, with_labels=True, font_weight='bold')"
   ]
  },
  {
   "cell_type": "markdown",
   "metadata": {},
   "source": [
    "#### 2.4.枚举法求解5节点图并通过restricted set求解原8节点图"
   ]
  },
  {
   "cell_type": "code",
   "execution_count": 5,
   "metadata": {},
   "outputs": [
    {
     "name": "stdout",
     "output_type": "stream",
     "text": [
      "--------------------------\n",
      "nodes_num: 5\n",
      "edges_num: 9\n",
      "Result of MaxCut: {0: 1, 2: -1, 6: 1, 5: -1, 3: 1}\n"
     ]
    },
    {
     "data": {
      "text/plain": [
       "{0: 1, 2: -1, 6: 1, 5: -1, 3: 1, 7: -1, 1: 1, 4: 1}"
      ]
     },
     "execution_count": 5,
     "metadata": {},
     "output_type": "execute_result"
    }
   ],
   "source": [
    "rqaoa_translate(g, Xi)"
   ]
  },
  {
   "cell_type": "markdown",
   "metadata": {},
   "source": [
    "这里的分区结果是[0, 6, 3 ,1, 4]哈"
   ]
  },
  {
   "cell_type": "markdown",
   "metadata": {},
   "source": [
    "#### 2.5.存档点复活"
   ]
  },
  {
   "cell_type": "markdown",
   "metadata": {},
   "source": [
    "之前在2.2中顺手保存了消元后节点数为7和6的图及对应restricted set"
   ]
  },
  {
   "cell_type": "markdown",
   "metadata": {},
   "source": [
    "我们取出从8节点消到7节点时的图和restricted set"
   ]
  },
  {
   "cell_type": "code",
   "execution_count": 7,
   "metadata": {},
   "outputs": [
    {
     "data": {
      "image/png": "[encoded data removed]",
      "text/plain": [
       "<Figure size 432x288 with 1 Axes>"
      ]
     },
     "metadata": {},
     "output_type": "display_data"
    }
   ],
   "source": [
    "to_n = 7\n",
    "with open (f'{path_name}_to_n{to_n}.pkl', 'rb') as f:\n",
    "    cp_n7 = pickle.load(f)\n",
    "nx.draw(cp_n7['g'], with_labels=True, font_weight='bold')"
   ]
  },
  {
   "cell_type": "markdown",
   "metadata": {},
   "source": [
    "可以从节点7出发重新消到5一遍"
   ]
  },
  {
   "cell_type": "code",
   "execution_count": 8,
   "metadata": {},
   "outputs": [
    {
     "name": "stdout",
     "output_type": "stream",
     "text": [
      "--------------------------\n",
      "nodes_num: 7\n",
      "edges_num: 11\n",
      ">>> eliminated variable: 6\n",
      ">>> correlated variable: 7\n",
      ">>> σ: -1\n",
      "--------------------------\n",
      "nodes_num: 6\n",
      "edges_num: 10\n",
      ">>> eliminated variable: 1\n",
      ">>> correlated variable: 2\n",
      ">>> σ: -1\n",
      "--------------------------\n",
      "nodes_num: 5\n",
      "edges_num: 9\n",
      "Result of MaxCut: {0: 1, 2: -1, 7: 1, 5: -1, 3: 1}\n"
     ]
    },
    {
     "data": {
      "text/plain": [
       "{0: 1, 2: -1, 7: 1, 5: -1, 3: 1, 1: 1, 6: -1, 4: 1}"
      ]
     },
     "execution_count": 8,
     "metadata": {},
     "output_type": "execute_result"
    }
   ],
   "source": [
    "rqaoa_translate(*rqaoa_recursion(cp_n7['g'], 5, cp_n7['Xi']))"
   ]
  },
  {
   "cell_type": "markdown",
   "metadata": {},
   "source": [
    "可以看到消元过程可能会出现点不同的"
   ]
  },
  {
   "cell_type": "markdown",
   "metadata": {},
   "source": [
    "最终结果[0, 7, 3, 1, 4]同2.4中的[0, 6, 3 ,1, 4]也那么点不同欸"
   ]
  },
  {
   "cell_type": "markdown",
   "metadata": {},
   "source": [
    "### 3.开工！"
   ]
  },
  {
   "cell_type": "markdown",
   "metadata": {},
   "source": [
    "需要的组件都齐了，下面正式开工~"
   ]
  },
  {
   "cell_type": "markdown",
   "metadata": {},
   "source": [
    "#### 3.1.主流程演示"
   ]
  },
  {
   "cell_type": "markdown",
   "metadata": {},
   "source": [
    "节点数为20，nc取值6"
   ]
  },
  {
   "cell_type": "markdown",
   "metadata": {},
   "source": [
    "#### 3.1.1.生成20节点图"
   ]
  },
  {
   "cell_type": "code",
   "execution_count": 9,
   "metadata": {},
   "outputs": [
    {
     "data": {
      "image/png": "[encoded data removed]",
      "text/plain": [
       "<Figure size 432x288 with 1 Axes>"
      ]
     },
     "metadata": {},
     "output_type": "display_data"
    }
   ],
   "source": [
    "g = generate_graph(20)\n",
    "nx.draw(g, with_labels=True, font_weight='bold')"
   ]
  },
  {
   "cell_type": "markdown",
   "metadata": {},
   "source": [
    "枚举法解得最大切割数11"
   ]
  },
  {
   "cell_type": "code",
   "execution_count": 10,
   "metadata": {},
   "outputs": [
    {
     "data": {
      "text/plain": [
       "(11, [17, 15, 14, 9, 1])"
      ]
     },
     "execution_count": 10,
     "metadata": {},
     "output_type": "execute_result"
    }
   ],
   "source": [
    "maxcut_enum(g, 'J')"
   ]
  },
  {
   "cell_type": "markdown",
   "metadata": {},
   "source": [
    "保存一下图"
   ]
  },
  {
   "cell_type": "code",
   "execution_count": 2,
   "metadata": {
    "collapsed": true
   },
   "outputs": [],
   "source": [
    "path_name = './demo/demo/demo_n20'"
   ]
  },
  {
   "cell_type": "code",
   "execution_count": 13,
   "metadata": {
    "collapsed": true
   },
   "outputs": [],
   "source": [
    "with open(f'{path_name}.pkl', 'wb') as f:\n",
    "    pickle.dump({'g': g, 'Xi': []}, f)"
   ]
  },
  {
   "cell_type": "markdown",
   "metadata": {},
   "source": [
    "#### 3.1.2.将20节点图消减至10节点先"
   ]
  },
  {
   "cell_type": "markdown",
   "metadata": {},
   "source": [
    "运行下面代码块注释中的程序，迭代过程保存在了`./demo/`文件夹中"
   ]
  },
  {
   "cell_type": "markdown",
   "metadata": {},
   "source": [
    "我们读取并打印一下迭代过程"
   ]
  },
  {
   "cell_type": "code",
   "execution_count": 3,
   "metadata": {},
   "outputs": [
    {
     "name": "stdout",
     "output_type": "stream",
     "text": [
      "--------------------------\n",
      "nodes_num: 20\n",
      ">>> eliminated variable: 6\n",
      ">>> correlated variable: 16\n",
      ">>> σ: 1\n",
      "--------------------------\n",
      "nodes_num: 19\n",
      ">>> eliminated variable: 15\n",
      ">>> correlated variable: 5\n",
      ">>> σ: -1\n",
      "--------------------------\n",
      "nodes_num: 18\n",
      ">>> eliminated variable: 5\n",
      ">>> correlated variable: 16\n",
      ">>> σ: 1\n",
      "--------------------------\n",
      "nodes_num: 17\n",
      ">>> eliminated variable: 14\n",
      ">>> correlated variable: 4\n",
      ">>> σ: -1\n",
      "--------------------------\n",
      "nodes_num: 16\n",
      ">>> eliminated variable: 16\n",
      ">>> correlated variable: 4\n",
      ">>> σ: 1\n",
      "--------------------------\n",
      "nodes_num: 15\n",
      ">>> eliminated variable: 9\n",
      ">>> correlated variable: 8\n",
      ">>> σ: -1\n",
      "--------------------------\n",
      "nodes_num: 14\n",
      ">>> eliminated variable: 19\n",
      ">>> correlated variable: 0\n",
      ">>> σ: 1\n",
      "--------------------------\n",
      "nodes_num: 13\n",
      ">>> eliminated variable: 17\n",
      ">>> correlated variable: 18\n",
      ">>> σ: -1\n",
      "--------------------------\n",
      "nodes_num: 12\n",
      ">>> eliminated variable: 8\n",
      ">>> correlated variable: 7\n",
      ">>> σ: 1\n",
      "--------------------------\n",
      "nodes_num: 11\n",
      ">>> eliminated variable: 18\n",
      ">>> correlated variable: 7\n",
      ">>> σ: 1\n"
     ]
    }
   ],
   "source": [
    "\"\"\"\n",
    "import pickle\n",
    "import time\n",
    "from src.rqaoa import rqaoa_recursion\n",
    "nc = 10\n",
    "path_name = './demo/demo/demo_n20'\n",
    "with open (f'{path_name}.pkl', 'rb') as f:\n",
    "    cp_n20 = pickle.load(f)\n",
    "g, Xi = cp_n20['g'], cp_n20['Xi']\n",
    "while len(g.nodes) > nc:\n",
    "    t = time.time()\n",
    "    g, Xi = rqaoa_recursion(g, len(g.nodes)-1, Xi, checkpoint=path_name)\n",
    "    print('time:', time.time()-t)\n",
    "\"\"\"\n",
    "to_n = 10\n",
    "with open (f'{path_name}_to_n{to_n}.pkl', 'rb') as f:\n",
    "    cp_n10 = pickle.load(f)\n",
    "g, Xi = cp_n10['g'], cp_n10['Xi']\n",
    "n = 20\n",
    "for xi in Xi:\n",
    "    print('--------------------------')\n",
    "    print(f'nodes_num: {n}')\n",
    "    print(f'>>> eliminated variable: {xi[0]}')\n",
    "    print(f'>>> correlated variable: {xi[1]}')\n",
    "    print(f'>>> σ: {xi[2]}')\n",
    "    n -= 1"
   ]
  },
  {
   "cell_type": "markdown",
   "metadata": {},
   "source": [
    "#### 3.1.3.将10节点图消减至nc并求解出原图的MaxCut分区情况"
   ]
  },
  {
   "cell_type": "code",
   "execution_count": 4,
   "metadata": {},
   "outputs": [
    {
     "name": "stdout",
     "output_type": "stream",
     "text": [
      "--------------------------\n",
      "nodes_num: 10\n",
      "edges_num: 13\n",
      ">>> eliminated variable: 7\n",
      ">>> correlated variable: 10\n",
      ">>> σ: 1\n",
      "--------------------------\n",
      "nodes_num: 9\n",
      "edges_num: 12\n",
      ">>> eliminated variable: 10\n",
      ">>> correlated variable: 0\n",
      ">>> σ: 1\n",
      "--------------------------\n",
      "nodes_num: 8\n",
      "edges_num: 11\n",
      ">>> eliminated variable: 1\n",
      ">>> correlated variable: 0\n",
      ">>> σ: -1\n",
      "--------------------------\n",
      "nodes_num: 7\n",
      "edges_num: 9\n",
      ">>> eliminated variable: 11\n",
      ">>> correlated variable: 0\n",
      ">>> σ: 1\n",
      "--------------------------\n",
      "nodes_num: 6\n",
      "edges_num: 8\n",
      "Result of MaxCut: {0: 1, 2: 1, 12: 1, 3: 1, 4: 1, 13: 1}\n",
      "--------------------------\n",
      "Result of RQAOA: {0: 1, 2: 1, 12: 1, 3: 1, 4: 1, 13: 1, 11: 1, 1: -1, 10: 1, 7: 1, 18: 1, 8: 1, 17: -1, 19: 1, 9: -1, 16: 1, 14: -1, 5: 1, 15: -1, 6: 1}\n"
     ]
    }
   ],
   "source": [
    "nc = 6\n",
    "res_rqaoa = rqaoa_translate(*rqaoa_recursion(g, nc, Xi))\n",
    "print('--------------------------')\n",
    "print(f'Result of RQAOA: {res_rqaoa}')"
   ]
  },
  {
   "cell_type": "code",
   "execution_count": 5,
   "metadata": {},
   "outputs": [
    {
     "name": "stdout",
     "output_type": "stream",
     "text": [
      "Result of RQAOA: [1, 17, 9, 14, 15]\n"
     ]
    }
   ],
   "source": [
    "l_rqaoa = []\n",
    "for k in res_rqaoa:\n",
    "    if res_rqaoa[k] == -1:\n",
    "        l_rqaoa.append(k)\n",
    "print(f'Result of RQAOA: {l_rqaoa}')"
   ]
  },
  {
   "cell_type": "code",
   "execution_count": 3,
   "metadata": {
    "collapsed": true
   },
   "outputs": [],
   "source": [
    "with open (f'{path_name}.pkl', 'rb') as f:\n",
    "    cp_n20 = pickle.load(f)"
   ]
  },
  {
   "cell_type": "code",
   "execution_count": 6,
   "metadata": {},
   "outputs": [
    {
     "data": {
      "text/plain": [
       "11"
      ]
     },
     "execution_count": 6,
     "metadata": {},
     "output_type": "execute_result"
    }
   ],
   "source": [
    "nx.cut_size(cp_n20['g'], l_rqaoa, weight='J')"
   ]
  },
  {
   "cell_type": "markdown",
   "metadata": {},
   "source": [
    "可以看到是个满分的答案"
   ]
  },
  {
   "cell_type": "markdown",
   "metadata": {},
   "source": [
    "#### 3.1.4.还有QAOA期望结果"
   ]
  },
  {
   "cell_type": "code",
   "execution_count": 5,
   "metadata": {},
   "outputs": [
    {
     "name": "stdout",
     "output_type": "stream",
     "text": [
      "5.7733021892525285\n"
     ]
    }
   ],
   "source": [
    "g = cp_n20['g']\n",
    "circ, pr = qaoa(g, 'J', 1, 100)\n",
    "expect = get_expectation(g, circ, pr, 'J')\n",
    "J = 0\n",
    "for i in g.edges:\n",
    "    J += g.edges[i]['J']\n",
    "C_qaoa_expect = (J - expect.real) / 2\n",
    "print(C_qaoa_expect)"
   ]
  },
  {
   "cell_type": "markdown",
   "metadata": {},
   "source": [
    "是个与论文相符的结果"
   ]
  },
  {
   "cell_type": "markdown",
   "metadata": {},
   "source": [
    "#### 3.2.随机摇10个20节点的问题实例(nc=6和nc=8)来复现论文Fig.1"
   ]
  },
  {
   "cell_type": "markdown",
   "metadata": {},
   "source": [
    "作如下约定:"
   ]
  },
  {
   "cell_type": "markdown",
   "metadata": {},
   "source": [
    "* 大体上按照3.1所示流程计算每个问题示例"
   ]
  },
  {
   "cell_type": "markdown",
   "metadata": {},
   "source": [
    "* 为方便，对于同一个问题实例在计算完nc=8后继续计算至nc=6"
   ]
  },
  {
   "cell_type": "markdown",
   "metadata": {},
   "source": [
    "* 为防止C出现负数，随机摇到的问题实例需保证最大切割值≥5"
   ]
  },
  {
   "cell_type": "markdown",
   "metadata": {},
   "source": [
    "#### 3.2.1.跑代码"
   ]
  },
  {
   "cell_type": "markdown",
   "metadata": {},
   "source": [
    "于是，执行以下代码将生成运行中间文件和结果文件，保存在`./demo/`目录下"
   ]
  },
  {
   "cell_type": "code",
   "execution_count": null,
   "metadata": {
    "collapsed": true
   },
   "outputs": [],
   "source": [
    "from main import main\n",
    "main()"
   ]
  },
  {
   "cell_type": "markdown",
   "metadata": {},
   "source": [
    "#### 3.2.2.结果可视化"
   ]
  },
  {
   "cell_type": "markdown",
   "metadata": {},
   "source": [
    "导入`main()`运行结果"
   ]
  },
  {
   "cell_type": "code",
   "execution_count": 30,
   "metadata": {
    "collapsed": true
   },
   "outputs": [],
   "source": [
    "ar_qaoa = []\n",
    "ar_rqaoa_nc8 = []\n",
    "ar_rqaoa_nc6 = []\n",
    "for i in range(10):\n",
    "    path_name = f'./demo/demo{i}/demo{i}_n20'\n",
    "    with open (f'{path_name}_result.pkl', 'rb') as f:\n",
    "        res = pickle.load(f)\n",
    "    C_max = res['C_max']\n",
    "    ar_qaoa.append(res['C_qaoa']/C_max)\n",
    "    ar_rqaoa_nc8.append(res['C_rqaoa'][8]/C_max)\n",
    "    ar_rqaoa_nc6.append(res['C_rqaoa'][6]/C_max)"
   ]
  },
  {
   "cell_type": "markdown",
   "metadata": {},
   "source": [
    "画画"
   ]
  },
  {
   "cell_type": "code",
   "execution_count": 41,
   "metadata": {},
   "outputs": [
    {
     "data": {
      "image/png": "[encoded data removed]",
      "text/plain": [
       "<Figure size 1152x432 with 2 Axes>"
      ]
     },
     "metadata": {
      "needs_background": "light"
     },
     "output_type": "display_data"
    }
   ],
   "source": [
    "def draw(ax, d_l, d_r):\n",
    "    x = np.arange(0, len(ar_qaoa)*2, 2)\n",
    "    width=0.5\n",
    "    x1 = x - width / 2\n",
    "    x2 = x + width / 2\n",
    "    ax.bar(x1, d_l, width=0.5, label='QAOA', color='blue', edgecolor='k', zorder=2)\n",
    "    ax.bar(x2, d_r, width=0.5, label='RQAOA', color='red', edgecolor='k', zorder=2)\n",
    "    ax.set_xlabel('problem instance')\n",
    "    ax.set_ylabel('approximation ratio')\n",
    "    ax.set_xticks(x)\n",
    "    ax.set_xticklabels(x//2)\n",
    "    ax.legend()\n",
    "\n",
    "fig = plt.figure(figsize=(16,6))\n",
    "draw(fig.add_subplot(1, 2, 1), ar_qaoa, ar_rqaoa_nc8)\n",
    "draw(fig.add_subplot(1, 2, 2), ar_qaoa, ar_rqaoa_nc6)\n",
    "plt.show()"
   ]
  },
  {
   "cell_type": "markdown",
   "metadata": {},
   "source": [
    "FIG. 3: Approximation ratios achieved by the level-1 QAOA (blue) and RQAOA (red) for the Ising-type\n",
    "Hamiltonian $H_n$  with n = 20 (left) and n = 20 (right). We consider 1 problem instances with random 3-regular graphs and random couplings $J_{p,q} = ±1$. The cutoff value for variable elimination was chosen as $n_c = 8$(left) and $n_c = 6$(right). The approximation ratio achieved by a given algorithm is defined as $\\langle z|C_n|z \\rangle /C_{max}$, where $z\\in \\{-1, 1\\}^n$ is the algorithm’s output and $C_{max} = max_z\\langle z|C_n|z \\rangle$ where $C_n = \\frac{1}{2}(\\sum J_e-H_n)$."
   ]
  },
  {
   "cell_type": "markdown",
   "metadata": {},
   "source": [
    "因为n(20->8)和n(20->6)共用了一条n(20->8)的消元链路，所以两张图没啥区别..."
   ]
  },
  {
   "cell_type": "markdown",
   "metadata": {},
   "source": [
    "## 项目总结"
   ]
  },
  {
   "cell_type": "markdown",
   "metadata": {
    "collapsed": true
   },
   "source": [
    "#### 简要总结一下您复现的论文"
   ]
  },
  {
   "cell_type": "markdown",
   "metadata": {},
   "source": [
    "挺有意思的一种方法"
   ]
  },
  {
   "cell_type": "markdown",
   "metadata": {},
   "source": [
    "RQAOA(recursive quan\u0002tum approximate optimization algorithm):"
   ]
  },
  {
   "cell_type": "markdown",
   "metadata": {},
   "source": [
    "对于Ising-like Hamiltonian$$H_n=\\sum_{p,q\\in E}J_{p,q}Z_pZ_q$$\n",
    "通过QAOA优化到最小期望值后\n",
    "$$min\\langle \\Psi^*|H_n|\\Psi \\rangle$$\n",
    "$$=min\\sum_{p,q\\in E}J_{p,q}\\langle \\Psi^*|Z_pZ_q|\\Psi \\rangle$$\n",
    "$$=min\\sum_{p,q\\in E}J_{p,q}M_{p,q}$$\n",
    "就可以通过$M_{p,q}$的正负号推定节点p和q的相对关系（±1）"
   ]
  },
  {
   "cell_type": "markdown",
   "metadata": {},
   "source": [
    "对于一个n节点的问题，用level-p的QAOA线路找节点间的相互关系，并根据该关系来代换掉其中某个相关节点来消减总节点数量，重复此过程直至子问题的节点数满足设定好的阈值$n_c\\ll n$。"
   ]
  },
  {
   "cell_type": "markdown",
   "metadata": {
    "collapsed": true
   },
   "source": [
    "#### 您的复现结果"
   ]
  },
  {
   "cell_type": "markdown",
   "metadata": {},
   "source": [
    "瞧瞧，简直一模一样"
   ]
  },
  {
   "cell_type": "markdown",
   "metadata": {
    "collapsed": true
   },
   "source": [
    "#### 创新点"
   ]
  },
  {
   "cell_type": "markdown",
   "metadata": {},
   "source": [
    "创新！"
   ]
  },
  {
   "cell_type": "markdown",
   "metadata": {
    "collapsed": true
   },
   "source": [
    "#### 未来可继续研究的方向"
   ]
  },
  {
   "cell_type": "markdown",
   "metadata": {},
   "source": [
    "① $n_c$对结果影响"
   ]
  },
  {
   "cell_type": "code",
   "execution_count": null,
   "metadata": {
    "collapsed": true
   },
   "outputs": [],
   "source": [
    "n = 128       # 节点数\n",
    "nc_ul = 64    # nc上限\n",
    "nc_ll = 4     # nc下限\n",
    "\n",
    "graph = generate_graph(n)\n",
    "g, Xi = rqaoa_recursion(graph, nc_ul)\n",
    "res = []\n",
    "while len(g.nodes) > nc_ll:\n",
    "    g, Xi = rqaoa_recursion(g, len(g.nodes)-1, Xi)\n",
    "    r = rqaoa_translate(g, Xi)\n",
    "    l = []\n",
    "    for k in r:\n",
    "        if r[k] == -1:\n",
    "            l.append(k)\n",
    "    res.append((len(g.nodes), nx.cut_size(graph, l, weight='J'), l))\n",
    "\n",
    "res  # list[(nc, maxcut, partition)]"
   ]
  },
  {
   "cell_type": "markdown",
   "metadata": {},
   "source": [
    "② n对结果的影响/level-p的选取"
   ]
  },
  {
   "cell_type": "markdown",
   "metadata": {},
   "source": [
    "③ 迭代过程中产生的无边节点剔除并随机赋值±1"
   ]
  },
  {
   "cell_type": "markdown",
   "metadata": {},
   "source": [
    "④ 允许在单轮迭代中消去多个节点\n",
    "- M：对$M_{i,j}$归一处理$\\frac{|M_{i,j}|}{max(|M_e|)},e\\in E$后，允许大于阈值的所有边的相关节点对被消去一个\n",
    "- P：减少迭代次数\n",
    "- I：阈值选取及是否会出现矛盾节点链"
   ]
  },
  {
   "cell_type": "markdown",
   "metadata": {
    "collapsed": true
   },
   "source": [
    "⑤ 换元过程中尽量减少新边产生"
   ]
  },
  {
   "cell_type": "code",
   "execution_count": null,
   "metadata": {
    "collapsed": true
   },
   "outputs": [],
   "source": []
  }
 ],
 "metadata": {
  "kernelspec": {
   "display_name": "Qm37",
   "language": "python",
   "name": "qm37"
  },
  "language_info": {
   "codemirror_mode": {
    "name": "ipython",
    "version": 3
   },
   "file_extension": ".py",
   "mimetype": "text/x-python",
   "name": "python",
   "nbconvert_exporter": "python",
   "pygments_lexer": "ipython3",
   "version": "3.7.12"
  }
 },
 "nbformat": 4,
 "nbformat_minor": 2
}
