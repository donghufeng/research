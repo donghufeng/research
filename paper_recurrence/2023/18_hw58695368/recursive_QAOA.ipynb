{
 "cells": [
  {
   "cell_type": "markdown",
   "metadata": {},
   "source": [
    "# 循环量子近似优化算法"
   ]
  },
  {
   "cell_type": "markdown",
   "metadata": {},
   "source": [
    "## 项目介绍"
   ]
  },
  {
   "cell_type": "markdown",
   "metadata": {},
   "source": [
    "[Obstacles to State Preparation and Variational Optimization from Symmetry Protection](https://arxiv.org/pdf/1910.08980.pdf)"
   ]
  },
  {
   "cell_type": "markdown",
   "metadata": {},
   "source": [
    "文章提出的Recursive-QAOA方案能极大提高求解成果率，利用MindQuantum复现论文图Fig1类似结果，节点数为20，nc取值不大于8。（文章对一层的QAOA线路直接得到解析结果，这里使用模拟器搭建线路实现）"
   ]
  },
  {
   "cell_type": "markdown",
   "metadata": {},
   "source": [
    "## 算法原理"
   ]
  },
  {
   "cell_type": "markdown",
   "metadata": {},
   "source": [
    "### Recursive Quantum Approximate Optimization Algorithm\n",
    "\n",
    "循环量子近似优化算法(RQAOA, recursive quantum approximate optimization algorithm)\n",
    "\n",
    "考虑一个根据n顶点图$G_n=(V,E)$定义的类Ising哈密顿量\n",
    "\n",
    "$$H_n=\\sum_{(p,q)\\in E}{J_{p,q}Z_pZ_q}$$\n",
    "\n",
    "其中$J_{p,q}$是$G_n$各边的权重，可以为任意实系数。\n",
    "\n",
    "RQAOA的目标是近似能量最小值$min_z\\langle z\\lvert H_n\\rvert z \\rangle$，其中$z \\in \\{1,-1\\}^n$"
   ]
  },
  {
   "cell_type": "markdown",
   "metadata": {},
   "source": [
    "### eliminateVariable\n",
    "\n",
    "RQAOA比QAOA多了个Recursive，在循环中不断根据QAOA的运行结果来消除变量，相当于消除$G_n$的顶点。因此消元(eliminate variable)这步至关重要。\n",
    "\n",
    "eliminateVariable一般流程：\n",
    "\n",
    "1. 运行深度p的标准QAOA来找到一个期望最小化$min\\langle \\Psi^*\\lvert H_n\\rvert\\Psi \\rangle$的量子态$\\Psi$；\n",
    "\n",
    "2. 对优化后的量子态$\\Psi$按照每条边$e=(i,j)\\in E$测量得到$M_e=\\langle \\Psi^*\\lvert Z_iZ_j\\rvert\\Psi \\rangle$；\n",
    "\n",
    "3. 找到边$f=argmax_{f\\in E}\\lvert M_f\\rvert$，并随机选取顶点$v\\in f$,再取出其符号$\\sigma=sign(M_f)$；\n",
    "\n",
    "4. 利用$f,v,\\sigma$对$H_n$施加约束$Z_v=\\sigma Z_{f\\setminus\\{v\\}}$,即可得到新Ising哈密顿量$H_{n-1}$，也就是消除了图$G_n$的一个顶点生成新图$G_{n-1}$，同时记录下$\\xi=(v,f\\setminus\\{v\\},\\sigma)$（具体公式参考论文中C.1.）。"
   ]
  },
  {
   "cell_type": "markdown",
   "metadata": {},
   "source": [
    "### RQAOA\n",
    "\n",
    "循环地调用eliminateVariable即可将n顶点图$G_n$消元至$n_c$顶点图$G_{n_c}$，其中$n_c\\ll n$为指定的阈值。\n",
    "\n",
    "对于$G_{n_c}$即可用暴力法等方法求解，再根据迭代过程中保存的$\\xi$们逆推出$G_n$的解。"
   ]
  },
  {
   "cell_type": "markdown",
   "metadata": {},
   "source": [
    "## 复现过程"
   ]
  },
  {
   "cell_type": "code",
   "execution_count": 1,
   "metadata": {
    "collapsed": true
   },
   "outputs": [],
   "source": [
    "import random\n",
    "import numpy as np\n",
    "import networkx as nx\n",
    "import matplotlib.pyplot as plt\n",
    "\n",
    "from mindquantum.framework import MQAnsatzOnlyLayer\n",
    "from mindquantum.simulator import Simulator\n",
    "from mindquantum import MaxCutRQAOAAnsatz\n",
    "import mindspore.nn as nn\n",
    "import mindspore as ms\n",
    "\n",
    "ms.set_context(mode=ms.PYNATIVE_MODE, device_target=\"CPU\")"
   ]
  },
  {
   "cell_type": "markdown",
   "metadata": {},
   "source": [
    "### 1.一般流程"
   ]
  },
  {
   "cell_type": "markdown",
   "metadata": {},
   "source": [
    "#### 1.1.生成图结构"
   ]
  },
  {
   "cell_type": "markdown",
   "metadata": {},
   "source": [
    "`generate_graph`生成具有随机连接关系$J_{p,q} = ±1$的随机n节点3正则图"
   ]
  },
  {
   "cell_type": "code",
   "execution_count": 2,
   "metadata": {
    "collapsed": true
   },
   "outputs": [],
   "source": [
    "def generate_graph(node_num):\n",
    "    \"\"\"\n",
    "    Generate the graph structure.\n",
    "    Random weights w∈{+1, -1}.\n",
    "\n",
    "    Modified from [1].\n",
    "    [1] https://gitee.com/mindspore/mindquantum/blob/research/paper_recurrence/2022/11_xhliang05/main.ipynb\n",
    "\n",
    "    Args:\n",
    "        node_num (int): Number of nodes.\n",
    "    \"\"\"\n",
    "    edges = []\n",
    "    # 添加环边\n",
    "    for node in range(node_num-1):\n",
    "        edges.append(((node, node+1), 2*random.randint(0, 1)-1))\n",
    "    edges.append(((node_num-1, 0), 2*random.randint(0, 1)-1))\n",
    "     # 添加内边\n",
    "    if node_num % 2 == 0: # 如果顶点数为偶数，就采用 3-regular 结构\n",
    "        for node in range(int(node_num/2)):\n",
    "            edges.append(((node, int(node+node_num/2)), 2*random.randint(0, 1)-1))\n",
    "    else:                 # 如果顶点为奇数，只留一个顶点有两条边，其他为三条边\n",
    "        for node in range(int((node_num-1)/2)):\n",
    "            edges.append(((node, int(node+(node_num-1)/2)), 2*random.randint(0, 1)-1))\n",
    "    return edges"
   ]
  },
  {
   "cell_type": "markdown",
   "metadata": {},
   "source": [
    "生成5节点3正则图"
   ]
  },
  {
   "cell_type": "code",
   "execution_count": 3,
   "metadata": {},
   "outputs": [
    {
     "data": {
      "image/png": "[encoded data removed]",
      "text/plain": [
       "<Figure size 432x288 with 1 Axes>"
      ]
     },
     "metadata": {},
     "output_type": "display_data"
    }
   ],
   "source": [
    "n = 5\n",
    "g = generate_graph(n)  # 生成图结构\n",
    "\n",
    "graph = nx.Graph()\n",
    "for e in g:\n",
    "    graph.add_edge(e[0][0], e[0][1], J=e[1])\n",
    "nx.draw(graph, with_labels=True, font_weight='bold')"
   ]
  },
  {
   "cell_type": "markdown",
   "metadata": {},
   "source": [
    "$n_c$限制为4，即只需消除掉一个节点"
   ]
  },
  {
   "cell_type": "code",
   "execution_count": 4,
   "metadata": {},
   "outputs": [
    {
     "data": {
      "text/plain": [
       "1 [Z0 Z1] +\n",
       "1 [Z0 Z2] +\n",
       "-1 [Z0 Z4] +\n",
       "-1 [Z1 Z2] +\n",
       "-1 [Z1 Z3] +\n",
       "1 [Z2 Z3] +\n",
       "-1 [Z3 Z4] "
      ]
     },
     "execution_count": 4,
     "metadata": {},
     "output_type": "execute_result"
    }
   ],
   "source": [
    "nc = 4\n",
    "mcra = MaxCutRQAOAAnsatz(g, nc=nc)\n",
    "mcra.ham  # 系统当前哈密顿量"
   ]
  },
  {
   "cell_type": "markdown",
   "metadata": {},
   "source": [
    "#### 1.2.直接调用暴力枚举对图进行求解"
   ]
  },
  {
   "cell_type": "code",
   "execution_count": 5,
   "metadata": {},
   "outputs": [
    {
     "data": {
      "text/plain": [
       "(2, [2, 1])"
      ]
     },
     "execution_count": 5,
     "metadata": {},
     "output_type": "execute_result"
    }
   ],
   "source": [
    "ans = mcra.enum(g)\n",
    "ans"
   ]
  },
  {
   "cell_type": "markdown",
   "metadata": {},
   "source": [
    "暴力枚举结果最大切割值为2，切割情况为[2, 1]为一组"
   ]
  },
  {
   "cell_type": "markdown",
   "metadata": {},
   "source": [
    "通过切割情况计算最大切割值"
   ]
  },
  {
   "cell_type": "code",
   "execution_count": 6,
   "metadata": {},
   "outputs": [
    {
     "data": {
      "text/plain": [
       "2"
      ]
     },
     "execution_count": 6,
     "metadata": {},
     "output_type": "execute_result"
    }
   ],
   "source": [
    "mcra.get_cut_value(g, ans[1])"
   ]
  },
  {
   "cell_type": "markdown",
   "metadata": {},
   "source": [
    "当前未进行消元，调用`get_result`也可获取暴力枚举结果"
   ]
  },
  {
   "cell_type": "code",
   "execution_count": 7,
   "metadata": {},
   "outputs": [
    {
     "data": {
      "text/plain": [
       "(2, [[1, 2], [0, 3, 4]])"
      ]
     },
     "execution_count": 7,
     "metadata": {},
     "output_type": "execute_result"
    }
   ],
   "source": [
    "mcra.get_result()"
   ]
  },
  {
   "cell_type": "markdown",
   "metadata": {},
   "source": [
    "#### 1.3.使用RQAOA对图进行消元"
   ]
  },
  {
   "cell_type": "code",
   "execution_count": 8,
   "metadata": {},
   "outputs": [
    {
     "name": "stdout",
     "output_type": "stream",
     "text": [
      "-- eliminated variable: Z1\n",
      "-- correlated variable: Z0\n",
      "-- σ: -1\n"
     ]
    },
    {
     "data": {
      "text/plain": [
       "True"
      ]
     },
     "execution_count": 8,
     "metadata": {},
     "output_type": "execute_result"
    }
   ],
   "source": [
    "circ = mcra.circuit                                        # 当前哈密顿量对应QAOA线路\n",
    "ham = mcra.hamiltonian                                     # 当前哈密顿量\n",
    "sim = Simulator('mqvector', circ.n_qubits)                 # 创建模拟器，backend使用‘mqvector’\n",
    "grad_ops = sim.get_expectation_with_grad(ham, circ)        # 获取计算变分量子线路的期望值和梯度的算子\n",
    "net = MQAnsatzOnlyLayer(grad_ops)                          # 生成待训练的神经网络\n",
    "opti = nn.Adam(net.trainable_params(), learning_rate=0.05) # 设置针对网络中所有可训练参数、学习率为0.05的Adam优化器\n",
    "train_net = nn.TrainOneStepCell(net, opti)                 # 对神经网络进行一步训练\n",
    "e = [train_net() for i in range(30)]                       # 训练30次\n",
    "pr = dict(zip(circ.params_name, net.weight.asnumpy()))     # 获取线路参数\n",
    "mcra.one_step_rqaoa(pr, 1)                                 # 根据QAOA优化结果消除变量"
   ]
  },
  {
   "cell_type": "markdown",
   "metadata": {},
   "source": [
    "消元正常进行，可以选择显示消元过程，这里利用Z1=-Z0消去Z1"
   ]
  },
  {
   "cell_type": "code",
   "execution_count": 9,
   "metadata": {},
   "outputs": [
    {
     "data": {
      "text/plain": [
       "[(0, 'Z'), (2, 'Z'), (3, 'Z'), (4, 'Z')]"
      ]
     },
     "execution_count": 9,
     "metadata": {},
     "output_type": "execute_result"
    }
   ],
   "source": [
    "mcra.all_variables     # 查看当前哈密顿量中所有变量"
   ]
  },
  {
   "cell_type": "markdown",
   "metadata": {},
   "source": [
    "可以看到Z1被消除了"
   ]
  },
  {
   "cell_type": "code",
   "execution_count": 10,
   "metadata": {},
   "outputs": [
    {
     "data": {
      "text/plain": [
       "[((1, 'Z'), ((0, 'Z'),), -1)]"
      ]
     },
     "execution_count": 10,
     "metadata": {},
     "output_type": "execute_result"
    }
   ],
   "source": [
    "mcra.restricted_set    # 查看约束集"
   ]
  },
  {
   "cell_type": "markdown",
   "metadata": {},
   "source": [
    "约束集中保存了Z1换成Z0的相关信息"
   ]
  },
  {
   "cell_type": "markdown",
   "metadata": {},
   "source": [
    "此时图还剩下4个节点，由于$n<n_c$，无法继续消元"
   ]
  },
  {
   "cell_type": "code",
   "execution_count": 11,
   "metadata": {},
   "outputs": [
    {
     "data": {
      "text/plain": [
       "False"
      ]
     },
     "execution_count": 11,
     "metadata": {},
     "output_type": "execute_result"
    }
   ],
   "source": [
    "mcra.one_step_rqaoa(pr, 1)"
   ]
  },
  {
   "cell_type": "markdown",
   "metadata": {},
   "source": [
    "#### 1.4.获取结果"
   ]
  },
  {
   "cell_type": "markdown",
   "metadata": {},
   "source": [
    "通过`get_result`对剩下的4节点图进行暴力枚举法求解，并根据约束集推演出完整解"
   ]
  },
  {
   "cell_type": "code",
   "execution_count": 12,
   "metadata": {},
   "outputs": [
    {
     "data": {
      "text/plain": [
       "(2, [[2, 1], [0, 3, 4]])"
      ]
     },
     "execution_count": 12,
     "metadata": {},
     "output_type": "execute_result"
    }
   ],
   "source": [
    "mcra.get_result()"
   ]
  },
  {
   "cell_type": "markdown",
   "metadata": {},
   "source": [
    "### 2.论文结果复现"
   ]
  },
  {
   "cell_type": "markdown",
   "metadata": {},
   "source": [
    "#### 2.1.随机摇10个20节点的问题实例(nc=6和nc=8)来复现论文Fig.1"
   ]
  },
  {
   "cell_type": "markdown",
   "metadata": {},
   "source": [
    "作如下约定:"
   ]
  },
  {
   "cell_type": "markdown",
   "metadata": {},
   "source": [
    "* 大体上按照3.1所示流程计算每个问题示例"
   ]
  },
  {
   "cell_type": "markdown",
   "metadata": {},
   "source": [
    "* 为方便，对于同一个问题实例在计算完nc=8后继续计算至nc=6"
   ]
  },
  {
   "cell_type": "markdown",
   "metadata": {},
   "source": [
    "* 为防止C出现负数，随机摇到的问题实例需保证最大切割值≥5"
   ]
  },
  {
   "cell_type": "markdown",
   "metadata": {},
   "source": [
    "#### 2.1.1.运行RQAOA"
   ]
  },
  {
   "cell_type": "markdown",
   "metadata": {},
   "source": [
    "[运行过程参考](https://gitee.com/mindspore/mindquantum/tree/144aa6e505273d5b23c5026ef1b463da1dc7da2a/paper_recurrence/2023/18_hw58695368)"
   ]
  },
  {
   "cell_type": "markdown",
   "metadata": {},
   "source": [
    "执行代码生成运行中间文件和结果文件，保存在`./demo/`目录下"
   ]
  },
  {
   "cell_type": "markdown",
   "metadata": {},
   "source": [
    "#### 2.1.2.结果可视化"
   ]
  },
  {
   "cell_type": "markdown",
   "metadata": {},
   "source": [
    "[结果数据文件参考](https://gitee.com/mindspore/mindquantum/tree/144aa6e505273d5b23c5026ef1b463da1dc7da2a/paper_recurrence/2023/18_hw58695368)"
   ]
  },
  {
   "cell_type": "code",
   "execution_count": 30,
   "metadata": {
    "collapsed": true
   },
   "outputs": [],
   "source": [
    "ar_qaoa = []\n",
    "ar_rqaoa_nc8 = []\n",
    "ar_rqaoa_nc6 = []\n",
    "for i in range(10):\n",
    "    path_name = f'./demo/demo{i}/demo{i}_n20'\n",
    "    with open(f'{path_name}_result.pkl', 'rb') as f:\n",
    "        res = pickle.load(f)\n",
    "    C_max = res['C_max']\n",
    "    ar_qaoa.append(res['C_qaoa']/C_max)\n",
    "    ar_rqaoa_nc8.append(res['C_rqaoa'][8]/C_max)\n",
    "    ar_rqaoa_nc6.append(res['C_rqaoa'][6]/C_max)"
   ]
  },
  {
   "cell_type": "code",
   "execution_count": 41,
   "metadata": {},
   "outputs": [
    {
     "data": {
      "image/png": "[encoded data removed]",
      "text/plain": [
       "<Figure size 1152x432 with 2 Axes>"
      ]
     },
     "metadata": {
      "needs_background": "light"
     },
     "output_type": "display_data"
    }
   ],
   "source": [
    "def draw(ax, d_l, d_r):\n",
    "    x = np.arange(0, len(ar_qaoa)*2, 2)\n",
    "    width = 0.5\n",
    "    x1 = x - width / 2\n",
    "    x2 = x + width / 2\n",
    "    ax.bar(x1, d_l, width=0.5, label='QAOA', color='blue', edgecolor='k', zorder=2)\n",
    "    ax.bar(x2, d_r, width=0.5, label='RQAOA', color='red', edgecolor='k', zorder=2)\n",
    "    ax.set_xlabel('problem instance')\n",
    "    ax.set_ylabel('approximation ratio')\n",
    "    ax.set_xticks(x)\n",
    "    ax.set_xticklabels(x//2)\n",
    "    ax.legend()\n",
    "\n",
    "fig = plt.figure(figsize=(16, 6))\n",
    "draw(fig.add_subplot(1, 2, 1), ar_qaoa, ar_rqaoa_nc8)\n",
    "draw(fig.add_subplot(1, 2, 2), ar_qaoa, ar_rqaoa_nc6)\n",
    "plt.show()"
   ]
  },
  {
   "cell_type": "markdown",
   "metadata": {},
   "source": [
    "FIG. 3: 通过 level-1 QAOA (蓝) 和 RQAOA (红) 分别对 n = 20 (左) 和 n = 20 (右) 的伊森类型哈密顿量 $H_n$ 求解得到的近似率。我们考虑具有随机3-正则图和随机耦合 $J_{p,q} = ±1$ 的1个问题实例。变量消除的截止值选择为 $n_c = 8$(左) 和 $n_c = 6$(右)。近似率算法定义为$\\langle z|C_n|z \\rangle /C_{max}$，其中$z\\in \\{-1, 1\\}^n$是算法的输出，并且$C_{max} = max_z\\langle z|C_n|z \\rangle$，其中 $C_n = \\frac{1}{2}(\\sum J_e-H_n)$。"
   ]
  },
  {
   "cell_type": "markdown",
   "metadata": {},
   "source": [
    "## 项目总结"
   ]
  },
  {
   "cell_type": "markdown",
   "metadata": {
    "collapsed": true
   },
   "source": [
    "### 简要总结"
   ]
  },
  {
   "cell_type": "markdown",
   "metadata": {},
   "source": [
    "RQAOA(recursive quan\u0002tum approximate optimization algorithm):"
   ]
  },
  {
   "cell_type": "markdown",
   "metadata": {},
   "source": [
    "对于Ising-like Hamiltonian\n",
    "\n",
    "$$H_n=\\sum_{p,q\\in E}J_{p,q}Z_pZ_q$$\n",
    "\n",
    "通过QAOA优化到最小期望值后\n",
    "\n",
    "$$min\\langle \\Psi^*|H_n|\\Psi \\rangle$$\n",
    "\n",
    "$$=min\\sum_{p,q\\in E}J_{p,q}\\langle \\Psi^*|Z_pZ_q|\\Psi \\rangle$$\n",
    "\n",
    "$$=min\\sum_{p,q\\in E}J_{p,q}M_{p,q}$$\n",
    "\n",
    "就可以通过$M_{p,q}$的正负号推定节点p和q的相对关系（±1）"
   ]
  },
  {
   "cell_type": "markdown",
   "metadata": {},
   "source": [
    "对于一个n节点的问题，用level-p的QAOA线路找节点间的相互关系，并根据该关系来代换掉其中某个相关节点来消减总节点数量，重复此过程直至子问题的节点数满足设定好的阈值$n_c\\ll n$。"
   ]
  },
  {
   "cell_type": "markdown",
   "metadata": {
    "collapsed": true
   },
   "source": [
    "#### 未来可继续研究的方向"
   ]
  },
  {
   "cell_type": "markdown",
   "metadata": {},
   "source": [
    "① $n_c$对结果影响"
   ]
  },
  {
   "cell_type": "markdown",
   "metadata": {},
   "source": [
    "② n对结果的影响/level-p的选取"
   ]
  },
  {
   "cell_type": "markdown",
   "metadata": {},
   "source": [
    "③ 迭代过程中产生的无边节点剔除并随机赋值±1"
   ]
  },
  {
   "cell_type": "markdown",
   "metadata": {},
   "source": [
    "④ 允许在单轮迭代中消去多个节点\n",
    "\n",
    "* M：允许消去大于阈值的所有边的相关节点对中的一个\n",
    "\n",
    "* P：减少迭代次数\n",
    "\n",
    "* I：阈值选取及是否会出现矛盾节点链"
   ]
  },
  {
   "cell_type": "markdown",
   "metadata": {
    "collapsed": true
   },
   "source": [
    "⑤ 换元过程中尽量减少新边产生"
   ]
  }
 ],
 "metadata": {
  "kernelspec": {
   "display_name": "Qm37",
   "language": "python",
   "name": "qm37"
  },
  "language_info": {
   "codemirror_mode": {
    "name": "ipython",
    "version": 3
   },
   "file_extension": ".py",
   "mimetype": "text/x-python",
   "name": "python",
   "nbconvert_exporter": "python",
   "pygments_lexer": "ipython3",
   "version": "3.7.12"
  }
 },
 "nbformat": 4,
 "nbformat_minor": 2
}
