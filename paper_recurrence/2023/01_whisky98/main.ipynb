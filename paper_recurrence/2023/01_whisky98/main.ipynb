{
  "nbformat": 4,
  "nbformat_minor": 0,
  "metadata": {
    "colab": {
      "provenance": []
    },
    "kernelspec": {
      "name": "python3",
      "display_name": "Python 3"
    },
    "language_info": {
      "name": "python"
    }
  },
  "cells": [
    {
      "cell_type": "code",
      "source": [
        "import sys\n",
        "sys.path.append('.src/')"
      ],
      "metadata": {
        "id": "PHiu3iWYVMiJ"
      },
      "execution_count": 1,
      "outputs": []
    },
    {
      "cell_type": "markdown",
      "source": [
        "##import some packages"
      ],
      "metadata": {
        "id": "8eTi4_w3WzQw"
      }
    },
    {
      "cell_type": "markdown",
      "source": [
        "local packages"
      ],
      "metadata": {
        "id": "u_M_MOUsXFhs"
      }
    },
    {
      "cell_type": "code",
      "source": [
        "from src.experiment_class import Koopman_iteration_accelerator\n",
        "from src.vqe_utilities import build_ham,build_ansatz,ising_value_fn\n",
        "from src.iteration_generators import Generate_iterations,ising_vqe_its_generator\n",
        "from src.koopman_iteration_generators import Generate_koopman_iterations,dmd_iteration_generator_predict_from_future_steps,hankeldmd_iteration_generator_predict_from_future_steps"
      ],
      "metadata": {
        "id": "BLcZYUm6cigb"
      },
      "execution_count": 2,
      "outputs": []
    },
    {
      "cell_type": "markdown",
      "source": [
        "other packages"
      ],
      "metadata": {
        "id": "iJE5ufi7XCX_"
      }
    },
    {
      "cell_type": "code",
      "source": [
        "import mindspore as ms\n",
        "from mindquantum.simulator import Simulator\n",
        "from mindspore.nn import Adam\n",
        "from functools import partial\n",
        "import numpy as np"
      ],
      "metadata": {
        "id": "H5uoiwSYajsu"
      },
      "execution_count": 3,
      "outputs": []
    },
    {
      "cell_type": "markdown",
      "source": [
        "## global variables"
      ],
      "metadata": {
        "id": "U7iMSYKmXLQQ"
      }
    },
    {
      "cell_type": "markdown",
      "source": [
        "random seed"
      ],
      "metadata": {
        "id": "GIQxDQzbXPZi"
      }
    },
    {
      "cell_type": "code",
      "source": [
        "seed = 42\n",
        "np.random.seed(seed)\n",
        "ms.set_context(mode=ms.PYNATIVE_MODE, device_target=\"CPU\")\n",
        "ms.set_seed(seed)"
      ],
      "metadata": {
        "id": "I71hUCmGd3he"
      },
      "execution_count": 4,
      "outputs": []
    },
    {
      "cell_type": "markdown",
      "source": [
        "set arguments"
      ],
      "metadata": {
        "id": "f-cmGCIzXRTG"
      }
    },
    {
      "cell_type": "code",
      "source": [
        "num_qubits = 12\n",
        "h = 0.5\n",
        "x_init = np.random.random(2*num_qubits)\n",
        "num_iters = 9\n",
        "num_iters_koopman = 40\n",
        "num_pieces = 6\n",
        "order = 6\n",
        "optimizer_fn = Adam\n",
        "lr = 0.01\n",
        "sim = Simulator('mqvector',num_qubits)\n",
        "ham = build_ham(num_qubits,h)\n",
        "ansatz = build_ansatz(num_qubits,'theta')\n",
        "value_fn = partial(ising_value_fn,ham=ham,simulator=sim,ansatz=ansatz)\n",
        "args_1 = (optimizer_fn,lr,sim,ham,ansatz)\n",
        "args_2_dmd = (num_iters_koopman,)\n",
        "args_2_hankeldmd = (num_iters_koopman,order)\n",
        "ansatz.summary()\n",
        "ansatz.svg()"
      ],
      "metadata": {
        "colab": {
          "base_uri": "https://localhost:8080/",
          "height": 940
        },
        "id": "WKpsDS8_d62e",
        "outputId": "8b3ac91f-bb0c-4e93-94bd-feca9fe964b1"
      },
      "execution_count": 5,
      "outputs": [
        {
          "output_type": "stream",
          "name": "stdout",
          "text": [
            "==============================================Circuit Summary==============================================\n",
            "|Total number of gates  : 38.                                                                             |\n",
            "|Parameter gates        : 24.                                                                             |\n",
            "|with 24 parameters are :                                                                                 |\n",
            "|theta0, theta1, theta2, theta3, theta4, theta5, theta6, theta7, theta8, theta9..                        .|\n",
            "|Number qubit of circuit: 12                                                                              |\n",
            "===========================================================================================================\n"
          ]
        },
        {
          "output_type": "stream",
          "name": "stderr",
          "text": [
            "<ipython-input-5-4c56002e28b3>:10: DeprecationWarning: mqvector will be deprecated in next version, please use mqvector.\n",
            "  sim = Simulator('mqvector',num_qubits)\n"
          ]
        },
        {
          "output_type": "execute_result",
          "data": {
            "text/plain": [
              "<mindquantum.io.display.circuit_svg_drawer.SVGCircuit at 0x7fa223b61820>"
            ],
            "image/svg+xml": "<div class=\"nb-html-output output_area\"><svg xmlns=\"http://www.w3.org/2000/svg\" width=\"1106.4\" height=\"740.0\" xmlns:xlink=\"http://www.w3.org/1999/xlink\">\n<rect x=\"0\" y=\"0.0\" width=\"1106.4\" height=\"740.0\" fill=\"#ffffff\" />\n<text x=\"20.0\" y=\"40.0\" font-size=\"16px\" dominant-baseline=\"middle\" text-anchor=\"start\" font-family=\"Arial\" font-weight=\"normal\" fill=\"#252b3a\" >\nq0:\n </text>\n<text x=\"20.0\" y=\"100.0\" font-size=\"16px\" dominant-baseline=\"middle\" text-anchor=\"start\" font-family=\"Arial\" font-weight=\"normal\" fill=\"#252b3a\" >\nq1:\n </text>\n<text x=\"20.0\" y=\"160.0\" font-size=\"16px\" dominant-baseline=\"middle\" text-anchor=\"start\" font-family=\"Arial\" font-weight=\"normal\" fill=\"#252b3a\" >\nq2:\n </text>\n<text x=\"20.0\" y=\"220.0\" font-size=\"16px\" dominant-baseline=\"middle\" text-anchor=\"start\" font-family=\"Arial\" font-weight=\"normal\" fill=\"#252b3a\" >\nq3:\n </text>\n<text x=\"20.0\" y=\"280.0\" font-size=\"16px\" dominant-baseline=\"middle\" text-anchor=\"start\" font-family=\"Arial\" font-weight=\"normal\" fill=\"#252b3a\" >\nq4:\n </text>\n<text x=\"20.0\" y=\"340.0\" font-size=\"16px\" dominant-baseline=\"middle\" text-anchor=\"start\" font-family=\"Arial\" font-weight=\"normal\" fill=\"#252b3a\" >\nq5:\n </text>\n<text x=\"20.0\" y=\"400.0\" font-size=\"16px\" dominant-baseline=\"middle\" text-anchor=\"start\" font-family=\"Arial\" font-weight=\"normal\" fill=\"#252b3a\" >\nq6:\n </text>\n<text x=\"20.0\" y=\"460.0\" font-size=\"16px\" dominant-baseline=\"middle\" text-anchor=\"start\" font-family=\"Arial\" font-weight=\"normal\" fill=\"#252b3a\" >\nq7:\n </text>\n<text x=\"20.0\" y=\"520.0\" font-size=\"16px\" dominant-baseline=\"middle\" text-anchor=\"start\" font-family=\"Arial\" font-weight=\"normal\" fill=\"#252b3a\" >\nq8:\n </text>\n<text x=\"20.0\" y=\"580.0\" font-size=\"16px\" dominant-baseline=\"middle\" text-anchor=\"start\" font-family=\"Arial\" font-weight=\"normal\" fill=\"#252b3a\" >\nq9:\n </text>\n<text x=\"20.0\" y=\"640.0\" font-size=\"16px\" dominant-baseline=\"middle\" text-anchor=\"start\" font-family=\"Arial\" font-weight=\"normal\" fill=\"#252b3a\" >\nq10:\n </text>\n<text x=\"20.0\" y=\"700.0\" font-size=\"16px\" dominant-baseline=\"middle\" text-anchor=\"start\" font-family=\"Arial\" font-weight=\"normal\" fill=\"#252b3a\" >\nq11:\n </text>\n<line x1=\"58.4\" x2=\"1086.4\" y1=\"40.0\" y2=\"40.0\" stroke=\"#adb0b8\" stroke-width=\"1\" />\n<line x1=\"58.4\" x2=\"1086.4\" y1=\"100.0\" y2=\"100.0\" stroke=\"#adb0b8\" stroke-width=\"1\" />\n<line x1=\"58.4\" x2=\"1086.4\" y1=\"160.0\" y2=\"160.0\" stroke=\"#adb0b8\" stroke-width=\"1\" />\n<line x1=\"58.4\" x2=\"1086.4\" y1=\"220.0\" y2=\"220.0\" stroke=\"#adb0b8\" stroke-width=\"1\" />\n<line x1=\"58.4\" x2=\"1086.4\" y1=\"280.0\" y2=\"280.0\" stroke=\"#adb0b8\" stroke-width=\"1\" />\n<line x1=\"58.4\" x2=\"1086.4\" y1=\"340.0\" y2=\"340.0\" stroke=\"#adb0b8\" stroke-width=\"1\" />\n<line x1=\"58.4\" x2=\"1086.4\" y1=\"400.0\" y2=\"400.0\" stroke=\"#adb0b8\" stroke-width=\"1\" />\n<line x1=\"58.4\" x2=\"1086.4\" y1=\"460.0\" y2=\"460.0\" stroke=\"#adb0b8\" stroke-width=\"1\" />\n<line x1=\"58.4\" x2=\"1086.4\" y1=\"520.0\" y2=\"520.0\" stroke=\"#adb0b8\" stroke-width=\"1\" />\n<line x1=\"58.4\" x2=\"1086.4\" y1=\"580.0\" y2=\"580.0\" stroke=\"#adb0b8\" stroke-width=\"1\" />\n<line x1=\"58.4\" x2=\"1086.4\" y1=\"640.0\" y2=\"640.0\" stroke=\"#adb0b8\" stroke-width=\"1\" />\n<line x1=\"58.4\" x2=\"1086.4\" y1=\"700.0\" y2=\"700.0\" stroke=\"#adb0b8\" stroke-width=\"1\" />\n\n<rect x=\"82.4\" y=\"20.0\" width=\"80.0\" height=\"40\" rx=\"4\" ry=\"4\" stroke=\"#ffffff\" stroke-width=\"0\" fill=\"#fac209\" fill-opacity=\"1\" />\n<text x=\"122.4\" y=\"36.0\" font-size=\"20px\" dominant-baseline=\"middle\" text-anchor=\"middle\" font-family=\"Arial\" font-weight=\"normal\" fill=\"#ffffff\" >\nRY\n </text>\n<text x=\"122.4\" y=\"52.0\" font-size=\"14.0px\" dominant-baseline=\"middle\" text-anchor=\"middle\" font-family=\"Arial\" font-weight=\"normal\" fill=\"#ffffff\" >\ntheta0\n </text>\n\n\n<rect x=\"82.4\" y=\"80.0\" width=\"80.0\" height=\"40\" rx=\"4\" ry=\"4\" stroke=\"#ffffff\" stroke-width=\"0\" fill=\"#fac209\" fill-opacity=\"1\" />\n<text x=\"122.4\" y=\"96.0\" font-size=\"20px\" dominant-baseline=\"middle\" text-anchor=\"middle\" font-family=\"Arial\" font-weight=\"normal\" fill=\"#ffffff\" >\nRY\n </text>\n<text x=\"122.4\" y=\"112.0\" font-size=\"14.0px\" dominant-baseline=\"middle\" text-anchor=\"middle\" font-family=\"Arial\" font-weight=\"normal\" fill=\"#ffffff\" >\ntheta1\n </text>\n\n\n<rect x=\"82.4\" y=\"140.0\" width=\"80.0\" height=\"40\" rx=\"4\" ry=\"4\" stroke=\"#ffffff\" stroke-width=\"0\" fill=\"#fac209\" fill-opacity=\"1\" />\n<text x=\"122.4\" y=\"156.0\" font-size=\"20px\" dominant-baseline=\"middle\" text-anchor=\"middle\" font-family=\"Arial\" font-weight=\"normal\" fill=\"#ffffff\" >\nRY\n </text>\n<text x=\"122.4\" y=\"172.0\" font-size=\"14.0px\" dominant-baseline=\"middle\" text-anchor=\"middle\" font-family=\"Arial\" font-weight=\"normal\" fill=\"#ffffff\" >\ntheta2\n </text>\n\n\n<rect x=\"82.4\" y=\"200.0\" width=\"80.0\" height=\"40\" rx=\"4\" ry=\"4\" stroke=\"#ffffff\" stroke-width=\"0\" fill=\"#fac209\" fill-opacity=\"1\" />\n<text x=\"122.4\" y=\"216.0\" font-size=\"20px\" dominant-baseline=\"middle\" text-anchor=\"middle\" font-family=\"Arial\" font-weight=\"normal\" fill=\"#ffffff\" >\nRY\n </text>\n<text x=\"122.4\" y=\"232.0\" font-size=\"14.0px\" dominant-baseline=\"middle\" text-anchor=\"middle\" font-family=\"Arial\" font-weight=\"normal\" fill=\"#ffffff\" >\ntheta3\n </text>\n\n\n<rect x=\"82.4\" y=\"260.0\" width=\"80.0\" height=\"40\" rx=\"4\" ry=\"4\" stroke=\"#ffffff\" stroke-width=\"0\" fill=\"#fac209\" fill-opacity=\"1\" />\n<text x=\"122.4\" y=\"276.0\" font-size=\"20px\" dominant-baseline=\"middle\" text-anchor=\"middle\" font-family=\"Arial\" font-weight=\"normal\" fill=\"#ffffff\" >\nRY\n </text>\n<text x=\"122.4\" y=\"292.0\" font-size=\"14.0px\" dominant-baseline=\"middle\" text-anchor=\"middle\" font-family=\"Arial\" font-weight=\"normal\" fill=\"#ffffff\" >\ntheta4\n </text>\n\n\n<rect x=\"82.4\" y=\"320.0\" width=\"80.0\" height=\"40\" rx=\"4\" ry=\"4\" stroke=\"#ffffff\" stroke-width=\"0\" fill=\"#fac209\" fill-opacity=\"1\" />\n<text x=\"122.4\" y=\"336.0\" font-size=\"20px\" dominant-baseline=\"middle\" text-anchor=\"middle\" font-family=\"Arial\" font-weight=\"normal\" fill=\"#ffffff\" >\nRY\n </text>\n<text x=\"122.4\" y=\"352.0\" font-size=\"14.0px\" dominant-baseline=\"middle\" text-anchor=\"middle\" font-family=\"Arial\" font-weight=\"normal\" fill=\"#ffffff\" >\ntheta5\n </text>\n\n\n<rect x=\"82.4\" y=\"380.0\" width=\"80.0\" height=\"40\" rx=\"4\" ry=\"4\" stroke=\"#ffffff\" stroke-width=\"0\" fill=\"#fac209\" fill-opacity=\"1\" />\n<text x=\"122.4\" y=\"396.0\" font-size=\"20px\" dominant-baseline=\"middle\" text-anchor=\"middle\" font-family=\"Arial\" font-weight=\"normal\" fill=\"#ffffff\" >\nRY\n </text>\n<text x=\"122.4\" y=\"412.0\" font-size=\"14.0px\" dominant-baseline=\"middle\" text-anchor=\"middle\" font-family=\"Arial\" font-weight=\"normal\" fill=\"#ffffff\" >\ntheta6\n </text>\n\n\n<rect x=\"82.4\" y=\"440.0\" width=\"80.0\" height=\"40\" rx=\"4\" ry=\"4\" stroke=\"#ffffff\" stroke-width=\"0\" fill=\"#fac209\" fill-opacity=\"1\" />\n<text x=\"122.4\" y=\"456.0\" font-size=\"20px\" dominant-baseline=\"middle\" text-anchor=\"middle\" font-family=\"Arial\" font-weight=\"normal\" fill=\"#ffffff\" >\nRY\n </text>\n<text x=\"122.4\" y=\"472.0\" font-size=\"14.0px\" dominant-baseline=\"middle\" text-anchor=\"middle\" font-family=\"Arial\" font-weight=\"normal\" fill=\"#ffffff\" >\ntheta7\n </text>\n\n\n<rect x=\"82.4\" y=\"500.0\" width=\"80.0\" height=\"40\" rx=\"4\" ry=\"4\" stroke=\"#ffffff\" stroke-width=\"0\" fill=\"#fac209\" fill-opacity=\"1\" />\n<text x=\"122.4\" y=\"516.0\" font-size=\"20px\" dominant-baseline=\"middle\" text-anchor=\"middle\" font-family=\"Arial\" font-weight=\"normal\" fill=\"#ffffff\" >\nRY\n </text>\n<text x=\"122.4\" y=\"532.0\" font-size=\"14.0px\" dominant-baseline=\"middle\" text-anchor=\"middle\" font-family=\"Arial\" font-weight=\"normal\" fill=\"#ffffff\" >\ntheta8\n </text>\n\n\n<rect x=\"82.4\" y=\"560.0\" width=\"80.0\" height=\"40\" rx=\"4\" ry=\"4\" stroke=\"#ffffff\" stroke-width=\"0\" fill=\"#fac209\" fill-opacity=\"1\" />\n<text x=\"122.4\" y=\"576.0\" font-size=\"20px\" dominant-baseline=\"middle\" text-anchor=\"middle\" font-family=\"Arial\" font-weight=\"normal\" fill=\"#ffffff\" >\nRY\n </text>\n<text x=\"122.4\" y=\"592.0\" font-size=\"14.0px\" dominant-baseline=\"middle\" text-anchor=\"middle\" font-family=\"Arial\" font-weight=\"normal\" fill=\"#ffffff\" >\ntheta9\n </text>\n\n\n<rect x=\"82.4\" y=\"620.0\" width=\"80.0\" height=\"40\" rx=\"4\" ry=\"4\" stroke=\"#ffffff\" stroke-width=\"0\" fill=\"#fac209\" fill-opacity=\"1\" />\n<text x=\"122.4\" y=\"636.0\" font-size=\"20px\" dominant-baseline=\"middle\" text-anchor=\"middle\" font-family=\"Arial\" font-weight=\"normal\" fill=\"#ffffff\" >\nRY\n </text>\n<text x=\"122.4\" y=\"652.0\" font-size=\"14.0px\" dominant-baseline=\"middle\" text-anchor=\"middle\" font-family=\"Arial\" font-weight=\"normal\" fill=\"#ffffff\" >\ntheta10\n </text>\n\n\n<rect x=\"82.4\" y=\"680.0\" width=\"80.0\" height=\"40\" rx=\"4\" ry=\"4\" stroke=\"#ffffff\" stroke-width=\"0\" fill=\"#fac209\" fill-opacity=\"1\" />\n<text x=\"122.4\" y=\"696.0\" font-size=\"20px\" dominant-baseline=\"middle\" text-anchor=\"middle\" font-family=\"Arial\" font-weight=\"normal\" fill=\"#ffffff\" >\nRY\n </text>\n<text x=\"122.4\" y=\"712.0\" font-size=\"14.0px\" dominant-baseline=\"middle\" text-anchor=\"middle\" font-family=\"Arial\" font-weight=\"normal\" fill=\"#ffffff\" >\ntheta11\n </text>\n\n<rect x=\"182.4\" y=\"20.0\" width=\"20\" height=\"700\" fill=\"gray\" fill-opacity=\"0.8\" />\n<circle cx=\"242.4\" cy=\"700.0\" r=\"4\" fill=\"#16acff\" />\n<line x1=\"242.4\" x2=\"242.4\" y1=\"40.0\" y2=\"700.0\" stroke=\"#16acff\" stroke-width=\"3\" />\n<rect x=\"222.4\" y=\"20.0\" width=\"40\" height=\"40\" rx=\"4\" ry=\"4\" stroke=\"#ffffff\" stroke-width=\"0\" fill=\"#16acff\" fill-opacity=\"1\" />\n<line x1=\"228.4\" x2=\"256.4\" y1=\"40.0\" y2=\"40.0\" stroke=\"#ffffff\" stroke-width=\"4\" />\n<line x1=\"242.4\" x2=\"242.4\" y1=\"26.0\" y2=\"54.0\" stroke=\"#ffffff\" stroke-width=\"4\" />\n<circle cx=\"302.4\" cy=\"40.0\" r=\"4\" fill=\"#16acff\" />\n<line x1=\"302.4\" x2=\"302.4\" y1=\"40.0\" y2=\"100.0\" stroke=\"#16acff\" stroke-width=\"3\" />\n<rect x=\"282.4\" y=\"80.0\" width=\"40\" height=\"40\" rx=\"4\" ry=\"4\" stroke=\"#ffffff\" stroke-width=\"0\" fill=\"#16acff\" fill-opacity=\"1\" />\n<line x1=\"288.4\" x2=\"316.4\" y1=\"100.0\" y2=\"100.0\" stroke=\"#ffffff\" stroke-width=\"4\" />\n<line x1=\"302.4\" x2=\"302.4\" y1=\"86.0\" y2=\"114.0\" stroke=\"#ffffff\" stroke-width=\"4\" />\n<circle cx=\"362.4\" cy=\"100.0\" r=\"4\" fill=\"#16acff\" />\n<line x1=\"362.4\" x2=\"362.4\" y1=\"100.0\" y2=\"160.0\" stroke=\"#16acff\" stroke-width=\"3\" />\n<rect x=\"342.4\" y=\"140.0\" width=\"40\" height=\"40\" rx=\"4\" ry=\"4\" stroke=\"#ffffff\" stroke-width=\"0\" fill=\"#16acff\" fill-opacity=\"1\" />\n<line x1=\"348.4\" x2=\"376.4\" y1=\"160.0\" y2=\"160.0\" stroke=\"#ffffff\" stroke-width=\"4\" />\n<line x1=\"362.4\" x2=\"362.4\" y1=\"146.0\" y2=\"174.0\" stroke=\"#ffffff\" stroke-width=\"4\" />\n<circle cx=\"422.4\" cy=\"160.0\" r=\"4\" fill=\"#16acff\" />\n<line x1=\"422.4\" x2=\"422.4\" y1=\"160.0\" y2=\"220.0\" stroke=\"#16acff\" stroke-width=\"3\" />\n<rect x=\"402.4\" y=\"200.0\" width=\"40\" height=\"40\" rx=\"4\" ry=\"4\" stroke=\"#ffffff\" stroke-width=\"0\" fill=\"#16acff\" fill-opacity=\"1\" />\n<line x1=\"408.4\" x2=\"436.4\" y1=\"220.0\" y2=\"220.0\" stroke=\"#ffffff\" stroke-width=\"4\" />\n<line x1=\"422.4\" x2=\"422.4\" y1=\"206.0\" y2=\"234.0\" stroke=\"#ffffff\" stroke-width=\"4\" />\n<circle cx=\"482.4\" cy=\"220.0\" r=\"4\" fill=\"#16acff\" />\n<line x1=\"482.4\" x2=\"482.4\" y1=\"220.0\" y2=\"280.0\" stroke=\"#16acff\" stroke-width=\"3\" />\n<rect x=\"462.4\" y=\"260.0\" width=\"40\" height=\"40\" rx=\"4\" ry=\"4\" stroke=\"#ffffff\" stroke-width=\"0\" fill=\"#16acff\" fill-opacity=\"1\" />\n<line x1=\"468.4\" x2=\"496.4\" y1=\"280.0\" y2=\"280.0\" stroke=\"#ffffff\" stroke-width=\"4\" />\n<line x1=\"482.4\" x2=\"482.4\" y1=\"266.0\" y2=\"294.0\" stroke=\"#ffffff\" stroke-width=\"4\" />\n<circle cx=\"542.4\" cy=\"280.0\" r=\"4\" fill=\"#16acff\" />\n<line x1=\"542.4\" x2=\"542.4\" y1=\"280.0\" y2=\"340.0\" stroke=\"#16acff\" stroke-width=\"3\" />\n<rect x=\"522.4\" y=\"320.0\" width=\"40\" height=\"40\" rx=\"4\" ry=\"4\" stroke=\"#ffffff\" stroke-width=\"0\" fill=\"#16acff\" fill-opacity=\"1\" />\n<line x1=\"528.4\" x2=\"556.4\" y1=\"340.0\" y2=\"340.0\" stroke=\"#ffffff\" stroke-width=\"4\" />\n<line x1=\"542.4\" x2=\"542.4\" y1=\"326.0\" y2=\"354.0\" stroke=\"#ffffff\" stroke-width=\"4\" />\n<circle cx=\"602.4\" cy=\"340.0\" r=\"4\" fill=\"#16acff\" />\n<line x1=\"602.4\" x2=\"602.4\" y1=\"340.0\" y2=\"400.0\" stroke=\"#16acff\" stroke-width=\"3\" />\n<rect x=\"582.4\" y=\"380.0\" width=\"40\" height=\"40\" rx=\"4\" ry=\"4\" stroke=\"#ffffff\" stroke-width=\"0\" fill=\"#16acff\" fill-opacity=\"1\" />\n<line x1=\"588.4\" x2=\"616.4\" y1=\"400.0\" y2=\"400.0\" stroke=\"#ffffff\" stroke-width=\"4\" />\n<line x1=\"602.4\" x2=\"602.4\" y1=\"386.0\" y2=\"414.0\" stroke=\"#ffffff\" stroke-width=\"4\" />\n<circle cx=\"662.4\" cy=\"400.0\" r=\"4\" fill=\"#16acff\" />\n<line x1=\"662.4\" x2=\"662.4\" y1=\"400.0\" y2=\"460.0\" stroke=\"#16acff\" stroke-width=\"3\" />\n<rect x=\"642.4\" y=\"440.0\" width=\"40\" height=\"40\" rx=\"4\" ry=\"4\" stroke=\"#ffffff\" stroke-width=\"0\" fill=\"#16acff\" fill-opacity=\"1\" />\n<line x1=\"648.4\" x2=\"676.4\" y1=\"460.0\" y2=\"460.0\" stroke=\"#ffffff\" stroke-width=\"4\" />\n<line x1=\"662.4\" x2=\"662.4\" y1=\"446.0\" y2=\"474.0\" stroke=\"#ffffff\" stroke-width=\"4\" />\n<circle cx=\"722.4\" cy=\"460.0\" r=\"4\" fill=\"#16acff\" />\n<line x1=\"722.4\" x2=\"722.4\" y1=\"460.0\" y2=\"520.0\" stroke=\"#16acff\" stroke-width=\"3\" />\n<rect x=\"702.4\" y=\"500.0\" width=\"40\" height=\"40\" rx=\"4\" ry=\"4\" stroke=\"#ffffff\" stroke-width=\"0\" fill=\"#16acff\" fill-opacity=\"1\" />\n<line x1=\"708.4\" x2=\"736.4\" y1=\"520.0\" y2=\"520.0\" stroke=\"#ffffff\" stroke-width=\"4\" />\n<line x1=\"722.4\" x2=\"722.4\" y1=\"506.0\" y2=\"534.0\" stroke=\"#ffffff\" stroke-width=\"4\" />\n<circle cx=\"782.4\" cy=\"520.0\" r=\"4\" fill=\"#16acff\" />\n<line x1=\"782.4\" x2=\"782.4\" y1=\"520.0\" y2=\"580.0\" stroke=\"#16acff\" stroke-width=\"3\" />\n<rect x=\"762.4\" y=\"560.0\" width=\"40\" height=\"40\" rx=\"4\" ry=\"4\" stroke=\"#ffffff\" stroke-width=\"0\" fill=\"#16acff\" fill-opacity=\"1\" />\n<line x1=\"768.4\" x2=\"796.4\" y1=\"580.0\" y2=\"580.0\" stroke=\"#ffffff\" stroke-width=\"4\" />\n<line x1=\"782.4\" x2=\"782.4\" y1=\"566.0\" y2=\"594.0\" stroke=\"#ffffff\" stroke-width=\"4\" />\n<circle cx=\"842.4\" cy=\"580.0\" r=\"4\" fill=\"#16acff\" />\n<line x1=\"842.4\" x2=\"842.4\" y1=\"580.0\" y2=\"640.0\" stroke=\"#16acff\" stroke-width=\"3\" />\n<rect x=\"822.4\" y=\"620.0\" width=\"40\" height=\"40\" rx=\"4\" ry=\"4\" stroke=\"#ffffff\" stroke-width=\"0\" fill=\"#16acff\" fill-opacity=\"1\" />\n<line x1=\"828.4\" x2=\"856.4\" y1=\"640.0\" y2=\"640.0\" stroke=\"#ffffff\" stroke-width=\"4\" />\n<line x1=\"842.4\" x2=\"842.4\" y1=\"626.0\" y2=\"654.0\" stroke=\"#ffffff\" stroke-width=\"4\" />\n<circle cx=\"902.4\" cy=\"640.0\" r=\"4\" fill=\"#16acff\" />\n<line x1=\"902.4\" x2=\"902.4\" y1=\"640.0\" y2=\"700.0\" stroke=\"#16acff\" stroke-width=\"3\" />\n<rect x=\"882.4\" y=\"680.0\" width=\"40\" height=\"40\" rx=\"4\" ry=\"4\" stroke=\"#ffffff\" stroke-width=\"0\" fill=\"#16acff\" fill-opacity=\"1\" />\n<line x1=\"888.4\" x2=\"916.4\" y1=\"700.0\" y2=\"700.0\" stroke=\"#ffffff\" stroke-width=\"4\" />\n<line x1=\"902.4\" x2=\"902.4\" y1=\"686.0\" y2=\"714.0\" stroke=\"#ffffff\" stroke-width=\"4\" />\n<rect x=\"942.4\" y=\"20.0\" width=\"20\" height=\"700\" fill=\"gray\" fill-opacity=\"0.8\" />\n\n<rect x=\"982.4\" y=\"20.0\" width=\"80.0\" height=\"40\" rx=\"4\" ry=\"4\" stroke=\"#ffffff\" stroke-width=\"0\" fill=\"#fac209\" fill-opacity=\"1\" />\n<text x=\"1022.4\" y=\"36.0\" font-size=\"20px\" dominant-baseline=\"middle\" text-anchor=\"middle\" font-family=\"Arial\" font-weight=\"normal\" fill=\"#ffffff\" >\nRY\n </text>\n<text x=\"1022.4\" y=\"52.0\" font-size=\"14.0px\" dominant-baseline=\"middle\" text-anchor=\"middle\" font-family=\"Arial\" font-weight=\"normal\" fill=\"#ffffff\" >\ntheta12\n </text>\n\n\n<rect x=\"982.4\" y=\"80.0\" width=\"80.0\" height=\"40\" rx=\"4\" ry=\"4\" stroke=\"#ffffff\" stroke-width=\"0\" fill=\"#fac209\" fill-opacity=\"1\" />\n<text x=\"1022.4\" y=\"96.0\" font-size=\"20px\" dominant-baseline=\"middle\" text-anchor=\"middle\" font-family=\"Arial\" font-weight=\"normal\" fill=\"#ffffff\" >\nRY\n </text>\n<text x=\"1022.4\" y=\"112.0\" font-size=\"14.0px\" dominant-baseline=\"middle\" text-anchor=\"middle\" font-family=\"Arial\" font-weight=\"normal\" fill=\"#ffffff\" >\ntheta13\n </text>\n\n\n<rect x=\"982.4\" y=\"140.0\" width=\"80.0\" height=\"40\" rx=\"4\" ry=\"4\" stroke=\"#ffffff\" stroke-width=\"0\" fill=\"#fac209\" fill-opacity=\"1\" />\n<text x=\"1022.4\" y=\"156.0\" font-size=\"20px\" dominant-baseline=\"middle\" text-anchor=\"middle\" font-family=\"Arial\" font-weight=\"normal\" fill=\"#ffffff\" >\nRY\n </text>\n<text x=\"1022.4\" y=\"172.0\" font-size=\"14.0px\" dominant-baseline=\"middle\" text-anchor=\"middle\" font-family=\"Arial\" font-weight=\"normal\" fill=\"#ffffff\" >\ntheta14\n </text>\n\n\n<rect x=\"982.4\" y=\"200.0\" width=\"80.0\" height=\"40\" rx=\"4\" ry=\"4\" stroke=\"#ffffff\" stroke-width=\"0\" fill=\"#fac209\" fill-opacity=\"1\" />\n<text x=\"1022.4\" y=\"216.0\" font-size=\"20px\" dominant-baseline=\"middle\" text-anchor=\"middle\" font-family=\"Arial\" font-weight=\"normal\" fill=\"#ffffff\" >\nRY\n </text>\n<text x=\"1022.4\" y=\"232.0\" font-size=\"14.0px\" dominant-baseline=\"middle\" text-anchor=\"middle\" font-family=\"Arial\" font-weight=\"normal\" fill=\"#ffffff\" >\ntheta15\n </text>\n\n\n<rect x=\"982.4\" y=\"260.0\" width=\"80.0\" height=\"40\" rx=\"4\" ry=\"4\" stroke=\"#ffffff\" stroke-width=\"0\" fill=\"#fac209\" fill-opacity=\"1\" />\n<text x=\"1022.4\" y=\"276.0\" font-size=\"20px\" dominant-baseline=\"middle\" text-anchor=\"middle\" font-family=\"Arial\" font-weight=\"normal\" fill=\"#ffffff\" >\nRY\n </text>\n<text x=\"1022.4\" y=\"292.0\" font-size=\"14.0px\" dominant-baseline=\"middle\" text-anchor=\"middle\" font-family=\"Arial\" font-weight=\"normal\" fill=\"#ffffff\" >\ntheta16\n </text>\n\n\n<rect x=\"982.4\" y=\"320.0\" width=\"80.0\" height=\"40\" rx=\"4\" ry=\"4\" stroke=\"#ffffff\" stroke-width=\"0\" fill=\"#fac209\" fill-opacity=\"1\" />\n<text x=\"1022.4\" y=\"336.0\" font-size=\"20px\" dominant-baseline=\"middle\" text-anchor=\"middle\" font-family=\"Arial\" font-weight=\"normal\" fill=\"#ffffff\" >\nRY\n </text>\n<text x=\"1022.4\" y=\"352.0\" font-size=\"14.0px\" dominant-baseline=\"middle\" text-anchor=\"middle\" font-family=\"Arial\" font-weight=\"normal\" fill=\"#ffffff\" >\ntheta17\n </text>\n\n\n<rect x=\"982.4\" y=\"380.0\" width=\"80.0\" height=\"40\" rx=\"4\" ry=\"4\" stroke=\"#ffffff\" stroke-width=\"0\" fill=\"#fac209\" fill-opacity=\"1\" />\n<text x=\"1022.4\" y=\"396.0\" font-size=\"20px\" dominant-baseline=\"middle\" text-anchor=\"middle\" font-family=\"Arial\" font-weight=\"normal\" fill=\"#ffffff\" >\nRY\n </text>\n<text x=\"1022.4\" y=\"412.0\" font-size=\"14.0px\" dominant-baseline=\"middle\" text-anchor=\"middle\" font-family=\"Arial\" font-weight=\"normal\" fill=\"#ffffff\" >\ntheta18\n </text>\n\n\n<rect x=\"982.4\" y=\"440.0\" width=\"80.0\" height=\"40\" rx=\"4\" ry=\"4\" stroke=\"#ffffff\" stroke-width=\"0\" fill=\"#fac209\" fill-opacity=\"1\" />\n<text x=\"1022.4\" y=\"456.0\" font-size=\"20px\" dominant-baseline=\"middle\" text-anchor=\"middle\" font-family=\"Arial\" font-weight=\"normal\" fill=\"#ffffff\" >\nRY\n </text>\n<text x=\"1022.4\" y=\"472.0\" font-size=\"14.0px\" dominant-baseline=\"middle\" text-anchor=\"middle\" font-family=\"Arial\" font-weight=\"normal\" fill=\"#ffffff\" >\ntheta19\n </text>\n\n\n<rect x=\"982.4\" y=\"500.0\" width=\"80.0\" height=\"40\" rx=\"4\" ry=\"4\" stroke=\"#ffffff\" stroke-width=\"0\" fill=\"#fac209\" fill-opacity=\"1\" />\n<text x=\"1022.4\" y=\"516.0\" font-size=\"20px\" dominant-baseline=\"middle\" text-anchor=\"middle\" font-family=\"Arial\" font-weight=\"normal\" fill=\"#ffffff\" >\nRY\n </text>\n<text x=\"1022.4\" y=\"532.0\" font-size=\"14.0px\" dominant-baseline=\"middle\" text-anchor=\"middle\" font-family=\"Arial\" font-weight=\"normal\" fill=\"#ffffff\" >\ntheta20\n </text>\n\n\n<rect x=\"982.4\" y=\"560.0\" width=\"80.0\" height=\"40\" rx=\"4\" ry=\"4\" stroke=\"#ffffff\" stroke-width=\"0\" fill=\"#fac209\" fill-opacity=\"1\" />\n<text x=\"1022.4\" y=\"576.0\" font-size=\"20px\" dominant-baseline=\"middle\" text-anchor=\"middle\" font-family=\"Arial\" font-weight=\"normal\" fill=\"#ffffff\" >\nRY\n </text>\n<text x=\"1022.4\" y=\"592.0\" font-size=\"14.0px\" dominant-baseline=\"middle\" text-anchor=\"middle\" font-family=\"Arial\" font-weight=\"normal\" fill=\"#ffffff\" >\ntheta21\n </text>\n\n\n<rect x=\"982.4\" y=\"620.0\" width=\"80.0\" height=\"40\" rx=\"4\" ry=\"4\" stroke=\"#ffffff\" stroke-width=\"0\" fill=\"#fac209\" fill-opacity=\"1\" />\n<text x=\"1022.4\" y=\"636.0\" font-size=\"20px\" dominant-baseline=\"middle\" text-anchor=\"middle\" font-family=\"Arial\" font-weight=\"normal\" fill=\"#ffffff\" >\nRY\n </text>\n<text x=\"1022.4\" y=\"652.0\" font-size=\"14.0px\" dominant-baseline=\"middle\" text-anchor=\"middle\" font-family=\"Arial\" font-weight=\"normal\" fill=\"#ffffff\" >\ntheta22\n </text>\n\n\n<rect x=\"982.4\" y=\"680.0\" width=\"80.0\" height=\"40\" rx=\"4\" ry=\"4\" stroke=\"#ffffff\" stroke-width=\"0\" fill=\"#fac209\" fill-opacity=\"1\" />\n<text x=\"1022.4\" y=\"696.0\" font-size=\"20px\" dominant-baseline=\"middle\" text-anchor=\"middle\" font-family=\"Arial\" font-weight=\"normal\" fill=\"#ffffff\" >\nRY\n </text>\n<text x=\"1022.4\" y=\"712.0\" font-size=\"14.0px\" dominant-baseline=\"middle\" text-anchor=\"middle\" font-family=\"Arial\" font-weight=\"normal\" fill=\"#ffffff\" >\ntheta23\n </text>\n\n</svg></div>"
          },
          "metadata": {},
          "execution_count": 5
        }
      ]
    },
    {
      "cell_type": "markdown",
      "source": [
        "## experiment"
      ],
      "metadata": {
        "id": "iQKyGRSYXWjW"
      }
    },
    {
      "cell_type": "code",
      "source": [
        "ising_accelerator = Koopman_iteration_accelerator('ising_VQE')\n",
        "ising_accelerator.set_it_generator(None,ising_vqe_its_generator)\n",
        "ising_accelerator.set_koopman_generator('dmd',dmd_iteration_generator_predict_from_future_steps)\n",
        "ising_accelerator.set_koopman_generator('sw_dmd',hankeldmd_iteration_generator_predict_from_future_steps)\n",
        "ising_accelerator.set_shared_args(x_init,num_iters,num_pieces,value_fn,args_1)\n",
        "ising_accelerator.start_accelerated_iteration('dmd',args_2_dmd)\n",
        "ising_accelerator.start_accelerated_iteration('sw_dmd',args_2_hankeldmd)\n",
        "ising_accelerator.start_raw_iteration()\n",
        "ising_accelerator.plot_value_results()"
      ],
      "metadata": {
        "colab": {
          "base_uri": "https://localhost:8080/",
          "height": 1000
        },
        "id": "fVWBnzGhrFug",
        "outputId": "0e607d88-48a9-4346-fc21-a0c897bd90f5"
      },
      "execution_count": 6,
      "outputs": [
        {
          "output_type": "stream",
          "name": "stdout",
          "text": [
            "set_it_generator is executed.\n",
            "set_koopman_generator is executed.\n",
            "set_koopman_generator is executed.\n",
            "set_shared_args is executed.\n"
          ]
        },
        {
          "output_type": "stream",
          "name": "stderr",
          "text": [
            "/usr/local/lib/python3.8/dist-packages/pydmd/dmdbase.py:715: UserWarning: Input data matrix X has condition number 306473184.0. Consider preprocessing data, passing in augmented data\n",
            "matrix, or regularization methods.\n",
            "  warnings.warn(\n"
          ]
        },
        {
          "output_type": "stream",
          "name": "stdout",
          "text": [
            "start_accelerated_iteration-----1/6\n"
          ]
        },
        {
          "output_type": "stream",
          "name": "stderr",
          "text": [
            "/usr/local/lib/python3.8/dist-packages/pydmd/dmdbase.py:715: UserWarning: Input data matrix X has condition number 3928827.25. Consider preprocessing data, passing in augmented data\n",
            "matrix, or regularization methods.\n",
            "  warnings.warn(\n"
          ]
        },
        {
          "output_type": "stream",
          "name": "stdout",
          "text": [
            "start_accelerated_iteration-----2/6\n"
          ]
        },
        {
          "output_type": "stream",
          "name": "stderr",
          "text": [
            "/usr/local/lib/python3.8/dist-packages/pydmd/dmdbase.py:715: UserWarning: Input data matrix X has condition number 6042503.5. Consider preprocessing data, passing in augmented data\n",
            "matrix, or regularization methods.\n",
            "  warnings.warn(\n"
          ]
        },
        {
          "output_type": "stream",
          "name": "stdout",
          "text": [
            "start_accelerated_iteration-----3/6\n"
          ]
        },
        {
          "output_type": "stream",
          "name": "stderr",
          "text": [
            "/usr/local/lib/python3.8/dist-packages/pydmd/dmdbase.py:715: UserWarning: Input data matrix X has condition number 315755.375. Consider preprocessing data, passing in augmented data\n",
            "matrix, or regularization methods.\n",
            "  warnings.warn(\n"
          ]
        },
        {
          "output_type": "stream",
          "name": "stdout",
          "text": [
            "start_accelerated_iteration-----4/6\n"
          ]
        },
        {
          "output_type": "stream",
          "name": "stderr",
          "text": [
            "/usr/local/lib/python3.8/dist-packages/pydmd/dmdbase.py:715: UserWarning: Input data matrix X has condition number 110396.15625. Consider preprocessing data, passing in augmented data\n",
            "matrix, or regularization methods.\n",
            "  warnings.warn(\n"
          ]
        },
        {
          "output_type": "stream",
          "name": "stdout",
          "text": [
            "start_accelerated_iteration-----5/6\n",
            "start_accelerated_iteration-----6/6\n",
            "start_accelerated_iteration is executed.\n"
          ]
        },
        {
          "output_type": "stream",
          "name": "stderr",
          "text": [
            "/usr/local/lib/python3.8/dist-packages/pydmd/dmdbase.py:715: UserWarning: Input data matrix X has condition number 366108.59375. Consider preprocessing data, passing in augmented data\n",
            "matrix, or regularization methods.\n",
            "  warnings.warn(\n"
          ]
        },
        {
          "output_type": "stream",
          "name": "stdout",
          "text": [
            "start_accelerated_iteration-----1/6\n"
          ]
        },
        {
          "output_type": "stream",
          "name": "stderr",
          "text": [
            "/usr/local/lib/python3.8/dist-packages/pydmd/dmdbase.py:715: UserWarning: Input data matrix X has condition number 1692771.875. Consider preprocessing data, passing in augmented data\n",
            "matrix, or regularization methods.\n",
            "  warnings.warn(\n"
          ]
        },
        {
          "output_type": "stream",
          "name": "stdout",
          "text": [
            "start_accelerated_iteration-----2/6\n"
          ]
        },
        {
          "output_type": "stream",
          "name": "stderr",
          "text": [
            "/usr/local/lib/python3.8/dist-packages/pydmd/dmdbase.py:715: UserWarning: Input data matrix X has condition number 11636723.0. Consider preprocessing data, passing in augmented data\n",
            "matrix, or regularization methods.\n",
            "  warnings.warn(\n"
          ]
        },
        {
          "output_type": "stream",
          "name": "stdout",
          "text": [
            "start_accelerated_iteration-----3/6\n"
          ]
        },
        {
          "output_type": "stream",
          "name": "stderr",
          "text": [
            "/usr/local/lib/python3.8/dist-packages/pydmd/dmdbase.py:715: UserWarning: Input data matrix X has condition number 556345.25. Consider preprocessing data, passing in augmented data\n",
            "matrix, or regularization methods.\n",
            "  warnings.warn(\n"
          ]
        },
        {
          "output_type": "stream",
          "name": "stdout",
          "text": [
            "start_accelerated_iteration-----4/6\n"
          ]
        },
        {
          "output_type": "stream",
          "name": "stderr",
          "text": [
            "/usr/local/lib/python3.8/dist-packages/pydmd/dmdbase.py:715: UserWarning: Input data matrix X has condition number 115125.1875. Consider preprocessing data, passing in augmented data\n",
            "matrix, or regularization methods.\n",
            "  warnings.warn(\n"
          ]
        },
        {
          "output_type": "stream",
          "name": "stdout",
          "text": [
            "start_accelerated_iteration-----5/6\n",
            "start_accelerated_iteration-----6/6\n",
            "start_accelerated_iteration is executed.\n",
            "start_raw_iteration is executed.\n"
          ]
        },
        {
          "output_type": "display_data",
          "data": {
            "text/plain": [
              "<Figure size 432x288 with 1 Axes>"
            ],
            "image/png": "[encoded data removed]"
          },
          "metadata": {
            "needs_background": "light"
          }
        },
        {
          "output_type": "stream",
          "name": "stdout",
          "text": [
            "plot_value_results is executed.\n"
          ]
        }
      ]
    },
    {
      "cell_type": "markdown",
      "source": [
        "’raw‘曲线代表full_vqe，可以发现dmd类方法对训练过程有明显的加速效果。在实验中我们设定每走十步便对参数序列做一次Koopman学习，选取新的迭代初始点。图中可以明显发现与dmd方法相关的两条曲线每走十步都会有一次跌落式下降，且sw_dmd比dmd下降得更快。"
      ],
      "metadata": {
        "id": "xKKmh_wHXfM5"
      }
    }
  ]
}