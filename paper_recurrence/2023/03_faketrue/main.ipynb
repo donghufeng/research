{
 "cells": [
  {
   "cell_type": "markdown",
   "metadata": {},
   "source": [
    "# Equivalence Checking of Parameterized Quantum Circuits\n",
    "\n",
    "论文提出了一种基于ZX演算的含参量子线路等价性验证方法，本文尝试在MindSpore Quantum架构中复现论文所提到的量子线路等价方法。"
   ]
  },
  {
   "cell_type": "code",
   "execution_count": 1,
   "metadata": {},
   "outputs": [],
   "source": [
    "# 引入相关库\n",
    "from mindquantum.core.circuit import Circuit\n",
    "import numpy as np\n",
    "from mindquantum.core.gates import H,CNOT,RX,RZ\n",
    "from mindquantum.core.circuit import dagger"
   ]
  },
  {
   "source": [
    "# 第一步，准备量子线路\n",
    "## TwoLocal-Circular\n",
    "127 qubits and 508 parameters\n",
    "\n",
    "三层，每一层包括：每个qubit上一个RX门，最后一个qubit和第一个qubit上一个CNOT门，相邻两个qubits上一个CNOT门\n",
    "\n",
    "最后每个qubit上一个RX门（详见下侧ansatz线路示例）"
   ],
   "cell_type": "markdown",
   "metadata": {}
  },
  {
   "cell_type": "code",
   "execution_count": 2,
   "metadata": {
    "tags": []
   },
   "outputs": [],
   "source": [
    "def build_ansatz(n_qubits,depth):\n",
    "    circ = Circuit()\n",
    "    for i in range(depth):\n",
    "        for j in range(n_qubits):\n",
    "            circ += RX(f'theta{i*n_qubits+j}').on(j)\n",
    "        circ += CNOT.on(0,n_qubits-1)\n",
    "        for j in range(n_qubits-1):\n",
    "            circ += CNOT.on(j+1,j)\n",
    "    for j in range(n_qubits):\n",
    "        circ += RX(f'theta{depth*n_qubits+j}').on(j)\n",
    "    return circ"
   ]
  },
  {
   "cell_type": "code",
   "execution_count": 3,
   "metadata": {},
   "outputs": [
    {
     "output_type": "execute_result",
     "data": {
      "text/plain": "<mindquantum.io.display.circuit_svg_drawer.SVGCircuit at 0x7fdc460c4490>",
      "image/svg+xml": "<div class=\"nb-html-output output_area\"><svg xmlns=\"http://www.w3.org/2000/svg\" width=\"476.8\" height=\"200\" xmlns:xlink=\"http://www.w3.org/1999/xlink\">\n<rect x=\"0\" y=\"0\" width=\"476.8\" height=\"200\" fill=\"#ffffff\" />\n<text x=\"20.0\" y=\"40.0\" font-size=\"16px\" dominant-baseline=\"middle\" text-anchor=\"start\" font-family=\"Arial\" font-weight=\"normal\" fill=\"#252b3a\" >\nq0:\n </text>\n<text x=\"20.0\" y=\"100.0\" font-size=\"16px\" dominant-baseline=\"middle\" text-anchor=\"start\" font-family=\"Arial\" font-weight=\"normal\" fill=\"#252b3a\" >\nq1:\n </text>\n<text x=\"20.0\" y=\"160.0\" font-size=\"16px\" dominant-baseline=\"middle\" text-anchor=\"start\" font-family=\"Arial\" font-weight=\"normal\" fill=\"#252b3a\" >\nq2:\n </text>\n<line x1=\"48.8\" x2=\"456.8\" y1=\"40.0\" y2=\"40.0\" stroke=\"#adb0b8\" stroke-width=\"1\" />\n<line x1=\"48.8\" x2=\"456.8\" y1=\"100.0\" y2=\"100.0\" stroke=\"#adb0b8\" stroke-width=\"1\" />\n<line x1=\"48.8\" x2=\"456.8\" y1=\"160.0\" y2=\"160.0\" stroke=\"#adb0b8\" stroke-width=\"1\" />\n\n<rect x=\"72.8\" y=\"20.0\" width=\"80.0\" height=\"40\" rx=\"4\" ry=\"4\" stroke=\"#ffffff\" stroke-width=\"0\" fill=\"#fac209\" fill-opacity=\"1\" />\n<text x=\"112.8\" y=\"36.0\" font-size=\"20px\" dominant-baseline=\"middle\" text-anchor=\"middle\" font-family=\"Arial\" font-weight=\"normal\" fill=\"#ffffff\" >\nRX\n </text>\n<text x=\"112.8\" y=\"52.0\" font-size=\"14.0px\" dominant-baseline=\"middle\" text-anchor=\"middle\" font-family=\"Arial\" font-weight=\"normal\" fill=\"#ffffff\" >\ntheta0\n </text>\n\n\n<rect x=\"72.8\" y=\"80.0\" width=\"80.0\" height=\"40\" rx=\"4\" ry=\"4\" stroke=\"#ffffff\" stroke-width=\"0\" fill=\"#fac209\" fill-opacity=\"1\" />\n<text x=\"112.8\" y=\"96.0\" font-size=\"20px\" dominant-baseline=\"middle\" text-anchor=\"middle\" font-family=\"Arial\" font-weight=\"normal\" fill=\"#ffffff\" >\nRX\n </text>\n<text x=\"112.8\" y=\"112.0\" font-size=\"14.0px\" dominant-baseline=\"middle\" text-anchor=\"middle\" font-family=\"Arial\" font-weight=\"normal\" fill=\"#ffffff\" >\ntheta1\n </text>\n\n\n<rect x=\"72.8\" y=\"140.0\" width=\"80.0\" height=\"40\" rx=\"4\" ry=\"4\" stroke=\"#ffffff\" stroke-width=\"0\" fill=\"#fac209\" fill-opacity=\"1\" />\n<text x=\"112.8\" y=\"156.0\" font-size=\"20px\" dominant-baseline=\"middle\" text-anchor=\"middle\" font-family=\"Arial\" font-weight=\"normal\" fill=\"#ffffff\" >\nRX\n </text>\n<text x=\"112.8\" y=\"172.0\" font-size=\"14.0px\" dominant-baseline=\"middle\" text-anchor=\"middle\" font-family=\"Arial\" font-weight=\"normal\" fill=\"#ffffff\" >\ntheta2\n </text>\n\n<circle cx=\"192.8\" cy=\"160.0\" r=\"4\" fill=\"#16acff\" />\n<line x1=\"192.8\" x2=\"192.8\" y1=\"40.0\" y2=\"160.0\" stroke=\"#16acff\" stroke-width=\"3\" />\n<rect x=\"172.8\" y=\"20.0\" width=\"40\" height=\"40\" rx=\"4\" ry=\"4\" stroke=\"#ffffff\" stroke-width=\"0\" fill=\"#16acff\" fill-opacity=\"1\" />\n<line x1=\"178.8\" x2=\"206.8\" y1=\"40.0\" y2=\"40.0\" stroke=\"#ffffff\" stroke-width=\"4\" />\n<line x1=\"192.8\" x2=\"192.8\" y1=\"26.0\" y2=\"54.0\" stroke=\"#ffffff\" stroke-width=\"4\" />\n<circle cx=\"252.8\" cy=\"40.0\" r=\"4\" fill=\"#16acff\" />\n<line x1=\"252.8\" x2=\"252.8\" y1=\"40.0\" y2=\"100.0\" stroke=\"#16acff\" stroke-width=\"3\" />\n<rect x=\"232.8\" y=\"80.0\" width=\"40\" height=\"40\" rx=\"4\" ry=\"4\" stroke=\"#ffffff\" stroke-width=\"0\" fill=\"#16acff\" fill-opacity=\"1\" />\n<line x1=\"238.8\" x2=\"266.8\" y1=\"100.0\" y2=\"100.0\" stroke=\"#ffffff\" stroke-width=\"4\" />\n<line x1=\"252.8\" x2=\"252.8\" y1=\"86.0\" y2=\"114.0\" stroke=\"#ffffff\" stroke-width=\"4\" />\n<circle cx=\"312.8\" cy=\"100.0\" r=\"4\" fill=\"#16acff\" />\n<line x1=\"312.8\" x2=\"312.8\" y1=\"100.0\" y2=\"160.0\" stroke=\"#16acff\" stroke-width=\"3\" />\n<rect x=\"292.8\" y=\"140.0\" width=\"40\" height=\"40\" rx=\"4\" ry=\"4\" stroke=\"#ffffff\" stroke-width=\"0\" fill=\"#16acff\" fill-opacity=\"1\" />\n<line x1=\"298.8\" x2=\"326.8\" y1=\"160.0\" y2=\"160.0\" stroke=\"#ffffff\" stroke-width=\"4\" />\n<line x1=\"312.8\" x2=\"312.8\" y1=\"146.0\" y2=\"174.0\" stroke=\"#ffffff\" stroke-width=\"4\" />\n\n<rect x=\"292.8\" y=\"20.0\" width=\"80.0\" height=\"40\" rx=\"4\" ry=\"4\" stroke=\"#ffffff\" stroke-width=\"0\" fill=\"#fac209\" fill-opacity=\"1\" />\n<text x=\"332.8\" y=\"36.0\" font-size=\"20px\" dominant-baseline=\"middle\" text-anchor=\"middle\" font-family=\"Arial\" font-weight=\"normal\" fill=\"#ffffff\" >\nRX\n </text>\n<text x=\"332.8\" y=\"52.0\" font-size=\"14.0px\" dominant-baseline=\"middle\" text-anchor=\"middle\" font-family=\"Arial\" font-weight=\"normal\" fill=\"#ffffff\" >\ntheta3\n </text>\n\n\n<rect x=\"352.8\" y=\"80.0\" width=\"80.0\" height=\"40\" rx=\"4\" ry=\"4\" stroke=\"#ffffff\" stroke-width=\"0\" fill=\"#fac209\" fill-opacity=\"1\" />\n<text x=\"392.8\" y=\"96.0\" font-size=\"20px\" dominant-baseline=\"middle\" text-anchor=\"middle\" font-family=\"Arial\" font-weight=\"normal\" fill=\"#ffffff\" >\nRX\n </text>\n<text x=\"392.8\" y=\"112.0\" font-size=\"14.0px\" dominant-baseline=\"middle\" text-anchor=\"middle\" font-family=\"Arial\" font-weight=\"normal\" fill=\"#ffffff\" >\ntheta4\n </text>\n\n\n<rect x=\"352.8\" y=\"140.0\" width=\"80.0\" height=\"40\" rx=\"4\" ry=\"4\" stroke=\"#ffffff\" stroke-width=\"0\" fill=\"#fac209\" fill-opacity=\"1\" />\n<text x=\"392.8\" y=\"156.0\" font-size=\"20px\" dominant-baseline=\"middle\" text-anchor=\"middle\" font-family=\"Arial\" font-weight=\"normal\" fill=\"#ffffff\" >\nRX\n </text>\n<text x=\"392.8\" y=\"172.0\" font-size=\"14.0px\" dominant-baseline=\"middle\" text-anchor=\"middle\" font-family=\"Arial\" font-weight=\"normal\" fill=\"#ffffff\" >\ntheta5\n </text>\n\n</svg></div>"
     },
     "metadata": {},
     "execution_count": 3
    }
   ],
   "source": [
    "# 一层ansatz线路示例\n",
    "build_ansatz(3,1).svg()"
   ]
  },
  {
   "cell_type": "markdown",
   "metadata": {},
   "source": [
    "## 编译线路\n",
    "假设编译所用量子门集只包含H，CNOT，RZ门\n",
    "\n",
    "RX门编译后变成$H*RZ*H$"
   ]
  },
  {
   "cell_type": "code",
   "execution_count": 4,
   "metadata": {},
   "outputs": [],
   "source": [
    "# 编译后的电路只含有H，CNOT，RZ门\n",
    "def compile_circuit(circ):\n",
    "    circ_compiled = Circuit()\n",
    "    for gate in circ:\n",
    "        if gate.name == 'H' or gate.name == 'CNOT' or gate.name == 'RZ':\n",
    "            circ_compiled += gate\n",
    "        elif gate.name == 'RX':\n",
    "            circ_compiled += H.on(gate.obj_qubits)\n",
    "            circ_compiled += RZ(gate.coeff).on(gate.obj_qubits)\n",
    "            circ_compiled += H.on(gate.obj_qubits)\n",
    "\n",
    "    return circ_compiled"
   ]
  },
  {
   "cell_type": "code",
   "execution_count": 5,
   "metadata": {},
   "outputs": [
    {
     "output_type": "execute_result",
     "data": {
      "text/plain": "<mindquantum.io.display.circuit_svg_drawer.SVGCircuit at 0x7fdc4607ecd0>",
      "image/svg+xml": "<div class=\"nb-html-output output_area\"><svg xmlns=\"http://www.w3.org/2000/svg\" width=\"716.8\" height=\"200\" xmlns:xlink=\"http://www.w3.org/1999/xlink\">\n<rect x=\"0\" y=\"0\" width=\"716.8\" height=\"200\" fill=\"#ffffff\" />\n<text x=\"20.0\" y=\"40.0\" font-size=\"16px\" dominant-baseline=\"middle\" text-anchor=\"start\" font-family=\"Arial\" font-weight=\"normal\" fill=\"#252b3a\" >\nq0:\n </text>\n<text x=\"20.0\" y=\"100.0\" font-size=\"16px\" dominant-baseline=\"middle\" text-anchor=\"start\" font-family=\"Arial\" font-weight=\"normal\" fill=\"#252b3a\" >\nq1:\n </text>\n<text x=\"20.0\" y=\"160.0\" font-size=\"16px\" dominant-baseline=\"middle\" text-anchor=\"start\" font-family=\"Arial\" font-weight=\"normal\" fill=\"#252b3a\" >\nq2:\n </text>\n<line x1=\"48.8\" x2=\"696.8\" y1=\"40.0\" y2=\"40.0\" stroke=\"#adb0b8\" stroke-width=\"1\" />\n<line x1=\"48.8\" x2=\"696.8\" y1=\"100.0\" y2=\"100.0\" stroke=\"#adb0b8\" stroke-width=\"1\" />\n<line x1=\"48.8\" x2=\"696.8\" y1=\"160.0\" y2=\"160.0\" stroke=\"#adb0b8\" stroke-width=\"1\" />\n\n<rect x=\"72.8\" y=\"20.0\" width=\"40.0\" height=\"40\" rx=\"4\" ry=\"4\" stroke=\"#ffffff\" stroke-width=\"0\" fill=\"#5e7ce0\" fill-opacity=\"1\" />\n<text x=\"92.8\" y=\"40.0\" font-size=\"20px\" dominant-baseline=\"middle\" text-anchor=\"middle\" font-family=\"Arial\" font-weight=\"normal\" fill=\"#ffffff\" >\nH\n </text>\n\n\n<rect x=\"132.8\" y=\"20.0\" width=\"80.0\" height=\"40\" rx=\"4\" ry=\"4\" stroke=\"#ffffff\" stroke-width=\"0\" fill=\"#fac209\" fill-opacity=\"1\" />\n<text x=\"172.8\" y=\"36.0\" font-size=\"20px\" dominant-baseline=\"middle\" text-anchor=\"middle\" font-family=\"Arial\" font-weight=\"normal\" fill=\"#ffffff\" >\nRZ\n </text>\n<text x=\"172.8\" y=\"52.0\" font-size=\"14.0px\" dominant-baseline=\"middle\" text-anchor=\"middle\" font-family=\"Arial\" font-weight=\"normal\" fill=\"#ffffff\" >\ntheta0\n </text>\n\n\n<rect x=\"232.8\" y=\"20.0\" width=\"40.0\" height=\"40\" rx=\"4\" ry=\"4\" stroke=\"#ffffff\" stroke-width=\"0\" fill=\"#5e7ce0\" fill-opacity=\"1\" />\n<text x=\"252.8\" y=\"40.0\" font-size=\"20px\" dominant-baseline=\"middle\" text-anchor=\"middle\" font-family=\"Arial\" font-weight=\"normal\" fill=\"#ffffff\" >\nH\n </text>\n\n\n<rect x=\"72.8\" y=\"80.0\" width=\"40.0\" height=\"40\" rx=\"4\" ry=\"4\" stroke=\"#ffffff\" stroke-width=\"0\" fill=\"#5e7ce0\" fill-opacity=\"1\" />\n<text x=\"92.8\" y=\"100.0\" font-size=\"20px\" dominant-baseline=\"middle\" text-anchor=\"middle\" font-family=\"Arial\" font-weight=\"normal\" fill=\"#ffffff\" >\nH\n </text>\n\n\n<rect x=\"132.8\" y=\"80.0\" width=\"80.0\" height=\"40\" rx=\"4\" ry=\"4\" stroke=\"#ffffff\" stroke-width=\"0\" fill=\"#fac209\" fill-opacity=\"1\" />\n<text x=\"172.8\" y=\"96.0\" font-size=\"20px\" dominant-baseline=\"middle\" text-anchor=\"middle\" font-family=\"Arial\" font-weight=\"normal\" fill=\"#ffffff\" >\nRZ\n </text>\n<text x=\"172.8\" y=\"112.0\" font-size=\"14.0px\" dominant-baseline=\"middle\" text-anchor=\"middle\" font-family=\"Arial\" font-weight=\"normal\" fill=\"#ffffff\" >\ntheta1\n </text>\n\n\n<rect x=\"232.8\" y=\"80.0\" width=\"40.0\" height=\"40\" rx=\"4\" ry=\"4\" stroke=\"#ffffff\" stroke-width=\"0\" fill=\"#5e7ce0\" fill-opacity=\"1\" />\n<text x=\"252.8\" y=\"100.0\" font-size=\"20px\" dominant-baseline=\"middle\" text-anchor=\"middle\" font-family=\"Arial\" font-weight=\"normal\" fill=\"#ffffff\" >\nH\n </text>\n\n\n<rect x=\"72.8\" y=\"140.0\" width=\"40.0\" height=\"40\" rx=\"4\" ry=\"4\" stroke=\"#ffffff\" stroke-width=\"0\" fill=\"#5e7ce0\" fill-opacity=\"1\" />\n<text x=\"92.8\" y=\"160.0\" font-size=\"20px\" dominant-baseline=\"middle\" text-anchor=\"middle\" font-family=\"Arial\" font-weight=\"normal\" fill=\"#ffffff\" >\nH\n </text>\n\n\n<rect x=\"132.8\" y=\"140.0\" width=\"80.0\" height=\"40\" rx=\"4\" ry=\"4\" stroke=\"#ffffff\" stroke-width=\"0\" fill=\"#fac209\" fill-opacity=\"1\" />\n<text x=\"172.8\" y=\"156.0\" font-size=\"20px\" dominant-baseline=\"middle\" text-anchor=\"middle\" font-family=\"Arial\" font-weight=\"normal\" fill=\"#ffffff\" >\nRZ\n </text>\n<text x=\"172.8\" y=\"172.0\" font-size=\"14.0px\" dominant-baseline=\"middle\" text-anchor=\"middle\" font-family=\"Arial\" font-weight=\"normal\" fill=\"#ffffff\" >\ntheta2\n </text>\n\n\n<rect x=\"232.8\" y=\"140.0\" width=\"40.0\" height=\"40\" rx=\"4\" ry=\"4\" stroke=\"#ffffff\" stroke-width=\"0\" fill=\"#5e7ce0\" fill-opacity=\"1\" />\n<text x=\"252.8\" y=\"160.0\" font-size=\"20px\" dominant-baseline=\"middle\" text-anchor=\"middle\" font-family=\"Arial\" font-weight=\"normal\" fill=\"#ffffff\" >\nH\n </text>\n\n<circle cx=\"312.8\" cy=\"160.0\" r=\"4\" fill=\"#16acff\" />\n<line x1=\"312.8\" x2=\"312.8\" y1=\"40.0\" y2=\"160.0\" stroke=\"#16acff\" stroke-width=\"3\" />\n<rect x=\"292.8\" y=\"20.0\" width=\"40\" height=\"40\" rx=\"4\" ry=\"4\" stroke=\"#ffffff\" stroke-width=\"0\" fill=\"#16acff\" fill-opacity=\"1\" />\n<line x1=\"298.8\" x2=\"326.8\" y1=\"40.0\" y2=\"40.0\" stroke=\"#ffffff\" stroke-width=\"4\" />\n<line x1=\"312.8\" x2=\"312.8\" y1=\"26.0\" y2=\"54.0\" stroke=\"#ffffff\" stroke-width=\"4\" />\n<circle cx=\"372.8\" cy=\"40.0\" r=\"4\" fill=\"#16acff\" />\n<line x1=\"372.8\" x2=\"372.8\" y1=\"40.0\" y2=\"100.0\" stroke=\"#16acff\" stroke-width=\"3\" />\n<rect x=\"352.8\" y=\"80.0\" width=\"40\" height=\"40\" rx=\"4\" ry=\"4\" stroke=\"#ffffff\" stroke-width=\"0\" fill=\"#16acff\" fill-opacity=\"1\" />\n<line x1=\"358.8\" x2=\"386.8\" y1=\"100.0\" y2=\"100.0\" stroke=\"#ffffff\" stroke-width=\"4\" />\n<line x1=\"372.8\" x2=\"372.8\" y1=\"86.0\" y2=\"114.0\" stroke=\"#ffffff\" stroke-width=\"4\" />\n<circle cx=\"432.8\" cy=\"100.0\" r=\"4\" fill=\"#16acff\" />\n<line x1=\"432.8\" x2=\"432.8\" y1=\"100.0\" y2=\"160.0\" stroke=\"#16acff\" stroke-width=\"3\" />\n<rect x=\"412.8\" y=\"140.0\" width=\"40\" height=\"40\" rx=\"4\" ry=\"4\" stroke=\"#ffffff\" stroke-width=\"0\" fill=\"#16acff\" fill-opacity=\"1\" />\n<line x1=\"418.8\" x2=\"446.8\" y1=\"160.0\" y2=\"160.0\" stroke=\"#ffffff\" stroke-width=\"4\" />\n<line x1=\"432.8\" x2=\"432.8\" y1=\"146.0\" y2=\"174.0\" stroke=\"#ffffff\" stroke-width=\"4\" />\n\n<rect x=\"412.8\" y=\"20.0\" width=\"40.0\" height=\"40\" rx=\"4\" ry=\"4\" stroke=\"#ffffff\" stroke-width=\"0\" fill=\"#5e7ce0\" fill-opacity=\"1\" />\n<text x=\"432.8\" y=\"40.0\" font-size=\"20px\" dominant-baseline=\"middle\" text-anchor=\"middle\" font-family=\"Arial\" font-weight=\"normal\" fill=\"#ffffff\" >\nH\n </text>\n\n\n<rect x=\"472.8\" y=\"20.0\" width=\"80.0\" height=\"40\" rx=\"4\" ry=\"4\" stroke=\"#ffffff\" stroke-width=\"0\" fill=\"#fac209\" fill-opacity=\"1\" />\n<text x=\"512.8\" y=\"36.0\" font-size=\"20px\" dominant-baseline=\"middle\" text-anchor=\"middle\" font-family=\"Arial\" font-weight=\"normal\" fill=\"#ffffff\" >\nRZ\n </text>\n<text x=\"512.8\" y=\"52.0\" font-size=\"14.0px\" dominant-baseline=\"middle\" text-anchor=\"middle\" font-family=\"Arial\" font-weight=\"normal\" fill=\"#ffffff\" >\ntheta3\n </text>\n\n\n<rect x=\"572.8\" y=\"20.0\" width=\"40.0\" height=\"40\" rx=\"4\" ry=\"4\" stroke=\"#ffffff\" stroke-width=\"0\" fill=\"#5e7ce0\" fill-opacity=\"1\" />\n<text x=\"592.8\" y=\"40.0\" font-size=\"20px\" dominant-baseline=\"middle\" text-anchor=\"middle\" font-family=\"Arial\" font-weight=\"normal\" fill=\"#ffffff\" >\nH\n </text>\n\n\n<rect x=\"472.8\" y=\"80.0\" width=\"40.0\" height=\"40\" rx=\"4\" ry=\"4\" stroke=\"#ffffff\" stroke-width=\"0\" fill=\"#5e7ce0\" fill-opacity=\"1\" />\n<text x=\"492.8\" y=\"100.0\" font-size=\"20px\" dominant-baseline=\"middle\" text-anchor=\"middle\" font-family=\"Arial\" font-weight=\"normal\" fill=\"#ffffff\" >\nH\n </text>\n\n\n<rect x=\"532.8\" y=\"80.0\" width=\"80.0\" height=\"40\" rx=\"4\" ry=\"4\" stroke=\"#ffffff\" stroke-width=\"0\" fill=\"#fac209\" fill-opacity=\"1\" />\n<text x=\"572.8\" y=\"96.0\" font-size=\"20px\" dominant-baseline=\"middle\" text-anchor=\"middle\" font-family=\"Arial\" font-weight=\"normal\" fill=\"#ffffff\" >\nRZ\n </text>\n<text x=\"572.8\" y=\"112.0\" font-size=\"14.0px\" dominant-baseline=\"middle\" text-anchor=\"middle\" font-family=\"Arial\" font-weight=\"normal\" fill=\"#ffffff\" >\ntheta4\n </text>\n\n\n<rect x=\"632.8\" y=\"80.0\" width=\"40.0\" height=\"40\" rx=\"4\" ry=\"4\" stroke=\"#ffffff\" stroke-width=\"0\" fill=\"#5e7ce0\" fill-opacity=\"1\" />\n<text x=\"652.8\" y=\"100.0\" font-size=\"20px\" dominant-baseline=\"middle\" text-anchor=\"middle\" font-family=\"Arial\" font-weight=\"normal\" fill=\"#ffffff\" >\nH\n </text>\n\n\n<rect x=\"472.8\" y=\"140.0\" width=\"40.0\" height=\"40\" rx=\"4\" ry=\"4\" stroke=\"#ffffff\" stroke-width=\"0\" fill=\"#5e7ce0\" fill-opacity=\"1\" />\n<text x=\"492.8\" y=\"160.0\" font-size=\"20px\" dominant-baseline=\"middle\" text-anchor=\"middle\" font-family=\"Arial\" font-weight=\"normal\" fill=\"#ffffff\" >\nH\n </text>\n\n\n<rect x=\"532.8\" y=\"140.0\" width=\"80.0\" height=\"40\" rx=\"4\" ry=\"4\" stroke=\"#ffffff\" stroke-width=\"0\" fill=\"#fac209\" fill-opacity=\"1\" />\n<text x=\"572.8\" y=\"156.0\" font-size=\"20px\" dominant-baseline=\"middle\" text-anchor=\"middle\" font-family=\"Arial\" font-weight=\"normal\" fill=\"#ffffff\" >\nRZ\n </text>\n<text x=\"572.8\" y=\"172.0\" font-size=\"14.0px\" dominant-baseline=\"middle\" text-anchor=\"middle\" font-family=\"Arial\" font-weight=\"normal\" fill=\"#ffffff\" >\ntheta5\n </text>\n\n\n<rect x=\"632.8\" y=\"140.0\" width=\"40.0\" height=\"40\" rx=\"4\" ry=\"4\" stroke=\"#ffffff\" stroke-width=\"0\" fill=\"#5e7ce0\" fill-opacity=\"1\" />\n<text x=\"652.8\" y=\"160.0\" font-size=\"20px\" dominant-baseline=\"middle\" text-anchor=\"middle\" font-family=\"Arial\" font-weight=\"normal\" fill=\"#ffffff\" >\nH\n </text>\n\n</svg></div>"
     },
     "metadata": {},
     "execution_count": 5
    }
   ],
   "source": [
    "# 一层ansatz线路编译后生成的线路\n",
    "compile_circuit(build_ansatz(3,1)).svg()"
   ]
  },
  {
   "cell_type": "code",
   "execution_count": 6,
   "metadata": {
    "tags": []
   },
   "outputs": [
    {
     "output_type": "stream",
     "name": "stdout",
     "text": "==============================================Circuit Summary==============================================\n|Total number of gates  : 889.                                                                            |\n|Parameter gates        : 508.                                                                            |\n|with 508 parameters are:                                                                                 |\n|theta0, theta1, theta2, theta3, theta4, theta5, theta6, theta7, theta8, theta9..                        .|\n|Number qubit of circuit: 127                                                                             |\n===========================================================================================================\n"
    }
   ],
   "source": [
    "# 完整线路共3层127个量子比特\n",
    "n_qubits = 127\n",
    "depth = 3\n",
    "circ1 = build_ansatz(n_qubits,depth)\n",
    "circ1.summary()"
   ]
  },
  {
   "cell_type": "code",
   "execution_count": 7,
   "metadata": {
    "tags": []
   },
   "outputs": [
    {
     "output_type": "stream",
     "name": "stdout",
     "text": "==============================================Circuit Summary==============================================\n|Total number of gates  : 1905.                                                                           |\n|Parameter gates        : 508.                                                                            |\n|with 508 parameters are:                                                                                 |\n|theta0, theta1, theta2, theta3, theta4, theta5, theta6, theta7, theta8, theta9..                        .|\n|Number qubit of circuit: 127                                                                             |\n===========================================================================================================\n"
    }
   ],
   "source": [
    "circ1_inv = dagger(circ1)    # dagger将量子线路左右逆转\n",
    "circ2 = compile_circuit(circ1)\n",
    "circ2.summary()\n",
    "circ_all = circ1_inv + circ2\n",
    "# circ_all.svg()"
   ]
  },
  {
   "source": [
    "# 第二步，将量子线路转换成ZX图\n",
    "## ZX图\n",
    "用ZX图表示量子线路，量子门是ZX图中的顶点，将顶点涂成3种颜色：\n",
    "\n",
    "yellow：H门\n",
    "\n",
    "red：X-spider，RX门，CNOT门的受控位\n",
    "\n",
    "green：Z-spider，RZ门，CNOT门的控制位\n"
   ],
   "cell_type": "markdown",
   "metadata": {}
  },
  {
   "cell_type": "code",
   "execution_count": 8,
   "metadata": {},
   "outputs": [],
   "source": [
    "# 顶点\n",
    "class Vertex:\n",
    "    def __init__(self, name, color,qubit, neighbor, phase=0.0):\n",
    "        self.name = name    # 量子门序号\n",
    "        self.color = color\n",
    "        self.phase = phase   # 量子门相位\n",
    "        self.qubit = qubit     # 作用在哪个量子比特上\n",
    "        self.neighbor = neighbor    # 前一个量子门、后一个量子门、存在控制关系的量子门的序号"
   ]
  },
  {
   "cell_type": "code",
   "execution_count": 9,
   "metadata": {},
   "outputs": [],
   "source": [
    "# ZX图默认无环，省略了ZX演算的无环规则（本文中，所有“无环”均指不存在单条边构成的环）\n",
    "class Graph:\n",
    "    def __init__(self):\n",
    "        self.vertices = {}    # 初始图，空\n",
    "        self.count = 0       # 顶点总数，只增不减，也用于给新顶点命名\n",
    "\n",
    "    # 新增边\n",
    "    def add_edge(self, from_vertex, to_vertex):\n",
    "        self.vertices[from_vertex].neighbor.append(to_vertex)\n",
    "\n",
    "    # 新增顶点\n",
    "    def add_vertex(self, color, qubit, neighbor, phase=0.0):\n",
    "        name = self.count\n",
    "        self.count += 1\n",
    "        self.vertices[name] = Vertex(name, color, qubit, neighbor, phase)    # 新增顶点时已在图中绘制了与相邻顶点的单向边\n",
    "        for v in neighbor:    # 再绘制反方向的边\n",
    "            self.add_edge(v, name)\n",
    "\n",
    "    # 打印图信息\n",
    "    def print(self):\n",
    "        print(\"==================graph message==================\")\n",
    "        for v in self.vertices.values():\n",
    "            print(v.name, '\\t', v.neighbor, '\\t', v.color, '\\t', v.phase)\n",
    "        print('\\n')\n",
    "\n",
    "    # 删除自身的环\n",
    "    def clear(self):\n",
    "        for v in self.vertices.values():\n",
    "            while v.name in v.neighbor:\n",
    "                self.vertices[v.name].neighbor.remove(v.name)\n",
    "\n",
    "    # 删除顶点\n",
    "    def delete_vertex(self, name):\n",
    "        for v in self.vertices.values():\n",
    "            while name in v.neighbor:    # 删除与该顶点有关的所有边（此处删除终点是该顶点的边）\n",
    "                self.vertices[v.name].neighbor.remove(name)\n",
    "        self.vertices.pop(name)    # 删除该顶点（此处删除起点是该顶点的边）\n",
    "\n",
    "    # 两个电路是否等价\n",
    "    def equiv(self):\n",
    "        if len(self.vertices) == 0:    # 等价的两个电路，经过ZX化简后，图中无顶点\n",
    "            print(\"Equivalent!\")\n",
    "        else:\n",
    "            print(\"Not sure!\")"
   ]
  },
  {
   "cell_type": "code",
   "execution_count": 10,
   "metadata": {},
   "outputs": [],
   "source": [
    "# 将量子线路绘制成ZX图\n",
    "def draw_graph(circ):\n",
    "    g = Graph()\n",
    "    # last_name保存每个qubit上当前的最后一个顶点的name\n",
    "    last_name = [-1] * circ.n_qubits\n",
    "    for gate in circ:\n",
    "        if gate.name == 'H':\n",
    "            # 当前qubit上已有顶点\n",
    "            if last_name[gate.obj_qubits[0]] != -1:\n",
    "                g.add_vertex('yellow', gate.obj_qubits[0], [last_name[gate.obj_qubits[0]]])\n",
    "            # 当前qubit上暂无顶点\n",
    "            else:\n",
    "                g.add_vertex('yellow', gate.obj_qubits[0], [])\n",
    "            # 更新当前qubit上最后一个顶点的name为新增顶点\n",
    "            last_name[gate.obj_qubits[0]] = g.count-1\n",
    "        if gate.name == 'RX':\n",
    "            if last_name[gate.obj_qubits[0]] != -1:\n",
    "                # 顶点phase = RX门参数\n",
    "                g.add_vertex('red', gate.obj_qubits[0], [last_name[gate.obj_qubits[0]]], gate.coeff)\n",
    "            else:\n",
    "                g.add_vertex('red', gate.obj_qubits[0], [], gate.coeff)\n",
    "            last_name[gate.obj_qubits[0]] = g.count-1\n",
    "        if gate.name == 'RZ':\n",
    "            if last_name[gate.obj_qubits[0]] != -1:\n",
    "                g.add_vertex('green', gate.obj_qubits[0], [last_name[gate.obj_qubits[0]]], gate.coeff)\n",
    "            else:\n",
    "                g.add_vertex('green', gate.obj_qubits[0], [], gate.coeff)\n",
    "            last_name[gate.obj_qubits[0]] = g.count-1\n",
    "        if gate.name == 'CNOT':\n",
    "            # 控制位顶点\n",
    "            if last_name[gate.obj_qubits[1]] != -1:\n",
    "                g.add_vertex('green', gate.obj_qubits[1], [last_name[gate.obj_qubits[1]]])\n",
    "            else:\n",
    "                g.add_vertex('green', gate.obj_qubits[1], [])\n",
    "            last_name[gate.obj_qubits[1]] = g.count-1\n",
    "            # 受控位顶点\n",
    "            if last_name[gate.obj_qubits[0]] != -1:\n",
    "                # 受控顶点neighbor中默认包含控制位顶点\n",
    "                g.add_vertex('red', gate.obj_qubits[0], [last_name[gate.obj_qubits[0]],  g.count-1])\n",
    "            else:\n",
    "                g.add_vertex('red', gate.obj_qubits[0], [g.count-1])\n",
    "            last_name[gate.obj_qubits[0]] = g.count-1\n",
    "    return g"
   ]
  },
  {
   "cell_type": "code",
   "execution_count": 11,
   "metadata": {
    "tags": []
   },
   "outputs": [],
   "source": [
    "g = draw_graph(circ_all)\n",
    "# g.print()"
   ]
  },
  {
   "source": [
    "# 第三步，化简ZX图\n",
    "利用ZX演算规则进行化简，如果化简直接得到了线路等价的结果，则终止；否则，继续下一步。\n",
    "\n",
    "## ZX演算规则\n",
    "## rule_f\n",
    "\n",
    "<img src=\"picture/equivalence_checking_of_PQC_rule_f.jpg\" width=\"25%\"> "
   ],
   "cell_type": "markdown",
   "metadata": {}
  },
  {
   "cell_type": "code",
   "execution_count": 12,
   "metadata": {},
   "outputs": [],
   "source": [
    "def rule_f(g:Graph):\n",
    "    # ZX演算过程中，图中的顶点会发生增减\n",
    "    # 获取最初的所有顶点\n",
    "    for v1 in list(g.vertices.keys()):\n",
    "        # 判断当前顶点在化简过程中有没有被删除\n",
    "        if v1 not in g.vertices.keys():\n",
    "            continue\n",
    "        v1 = g.vertices[v1]\n",
    "        if v1.color == 'red' or v1.color == 'green':    # 不化简黄色顶点\n",
    "            for v2 in v1.neighbor:\n",
    "                v2 = g.vertices[v2]\n",
    "                if v2.color == v1.color:    # 相同颜色\n",
    "                    v2.phase += v1.phase\n",
    "                    v2.neighbor.extend(v1.neighbor)    # 合并两个顶点\n",
    "                    for v3 in v1.neighbor:\n",
    "                        v3 = g.vertices[v3]\n",
    "                        v3.neighbor.append(v2.name)\n",
    "                    g.delete_vertex(v1.name)    # 删除已被合并的顶点\n",
    "                    g.clear()    # 清除过程中可能产生的环"
   ]
  },
  {
   "source": [
    "## rule_id\n",
    "\n",
    "<img src=\"picture/equivalence_checking_of_PQC_rule_id.jpg\" width=\"30%\"> "
   ],
   "cell_type": "markdown",
   "metadata": {}
  },
  {
   "cell_type": "code",
   "execution_count": 13,
   "metadata": {},
   "outputs": [],
   "source": [
    "def rule_id(g:Graph):\n",
    "    for v1 in list(g.vertices.keys()):\n",
    "        if v1 not in g.vertices.keys():\n",
    "            continue\n",
    "        v1 = g.vertices[v1]\n",
    "        if v1.phase == 0 or list(v1.phase.values()) == [0.0]*len(list(v1.phase.values())):    # phase =0（phase可能是列表）\n",
    "            flag = True\n",
    "            for v2 in v1.neighbor:\n",
    "                v2 = g.vertices[v2]\n",
    "                if v2.qubit != v1.qubit:    # 与其他量子位上的顶点相关\n",
    "                    flag = False\n",
    "            if flag:\n",
    "                for v2 in v1.neighbor:\n",
    "                    v2 = g.vertices[v2]\n",
    "                    v2.neighbor.extend(v1.neighbor)    # 将前一个顶点与后一个顶点相连，略过当前顶点\n",
    "                g.delete_vertex(v1.name)\n",
    "                g.clear()"
   ]
  },
  {
   "source": [
    "## rule_hh\n",
    "\n",
    "<img src=\"picture/equivalence_checking_of_PQC_rule_hh.jpg\" width=\"30%\"> "
   ],
   "cell_type": "markdown",
   "metadata": {}
  },
  {
   "cell_type": "code",
   "execution_count": 14,
   "metadata": {},
   "outputs": [],
   "source": [
    "def rule_hh(g:Graph):\n",
    "    for v1 in list(g.vertices.keys()):\n",
    "        if v1 not in g.vertices.keys():\n",
    "            continue\n",
    "        v1 = g.vertices[v1]\n",
    "        if v1.color == 'yellow':\n",
    "            for v2 in v1.neighbor:\n",
    "                v2 = g.vertices[v2]\n",
    "                if v2.qubit != v1.qubit:    # 当前顶点与其他qubit上的顶点相关\n",
    "                    return\n",
    "            for v2 in v1.neighbor:\n",
    "                v2 = g.vertices[v2]\n",
    "                if v2.color == 'yellow':    # 都是yellow顶点\n",
    "                    v1.neighbor.remove(v2.name)    # 最左边和最右边相连，略过两个yellow顶点\n",
    "                    v2.neighbor.remove(v1.name)\n",
    "                    for v3 in v1.neighbor:\n",
    "                        v3 = g.vertices[v3]\n",
    "                        v3.neighbor.extend(v2.neighbor)\n",
    "                    for v4 in v2.neighbor:\n",
    "                        v4 = g.vertices[v4]\n",
    "                        v4.neighbor.extend(v1.neighbor)\n",
    "                    g.delete_vertex(v1.name)\n",
    "                    g.delete_vertex(v2.name)\n",
    "                    g.clear()"
   ]
  },
  {
   "source": [
    "## rule_h\n",
    "\n",
    "<img src=\"picture/equivalence_checking_of_PQC_rule_h.jpg\" width=\"40%\"> "
   ],
   "cell_type": "markdown",
   "metadata": {}
  },
  {
   "cell_type": "code",
   "execution_count": 15,
   "metadata": {},
   "outputs": [],
   "source": [
    "def rule_h(g:Graph):\n",
    "    for v1 in list(g.vertices.keys()):\n",
    "        if v1 not in g.vertices.keys():\n",
    "            continue\n",
    "        v1 = g.vertices[v1]\n",
    "        if v1.color == 'green':\n",
    "            flag = True\n",
    "            for v2 in v1.neighbor:\n",
    "                v2 = g.vertices[v2]\n",
    "                if v2.color != 'yellow':    # 不满足所有邻居都是yellow\n",
    "                    flag = False\n",
    "                    break\n",
    "            if flag:\n",
    "                v1.color = 'red'    # 当前顶点从green变成red\n",
    "                for v2 in list(v1.neighbor):    # 顶点的所有邻居都是yellow，略过并删除这些yellow顶点\n",
    "                    v2 = g.vertices[v2]\n",
    "                    v2.neighbor.remove(v1.name)\n",
    "                    v1.neighbor.extend(v2.neighbor)\n",
    "                    for v3 in v2.neighbor:\n",
    "                        v3 = g.vertices[v3]\n",
    "                        v3.neighbor.append(v1.name)\n",
    "                    g.delete_vertex(v2.name)\n",
    "                    g.clear()"
   ]
  },
  {
   "source": [
    "## rule_b\n",
    "\n",
    "<img src=\"picture/equivalence_checking_of_PQC_rule_b.jpg\" width=\"30%\"> "
   ],
   "cell_type": "markdown",
   "metadata": {}
  },
  {
   "cell_type": "code",
   "execution_count": 16,
   "metadata": {},
   "outputs": [],
   "source": [
    "def rule_b(g:Graph):\n",
    "    for v1 in list(g.vertices.keys()):\n",
    "        if v1 not in g.vertices.keys():\n",
    "            continue\n",
    "        v1 = g.vertices[v1]\n",
    "        if v1.color == 'green':    # 沙漏左上角\n",
    "            for v2 in v1.neighbor:\n",
    "                v2 = g.vertices[v2]\n",
    "                if v2.color == 'red' and v2.qubit == v1.qubit:    # 沙漏右上角\n",
    "                    for v3 in v2.neighbor:\n",
    "                        v3 = g.vertices[v3]\n",
    "                        if v3.color == 'green' and v3.qubit != v2.qubit:    # 沙漏左下角\n",
    "                            for v4 in v3.neighbor:\n",
    "                                v4 = g.vertices[v4]\n",
    "                                if v4.color == 'red' and v4.qubit == v3.qubit and v1.name in v4.neighbor:    # 沙漏右下角\n",
    "                                    v1.color = 'red'    # 反转颜色，并将沙漏左侧合二为一\n",
    "                                    v3.neighbor.remove(v2.name)\n",
    "                                    v3.neighbor.remove(v4.name)\n",
    "                                    v1.neighbor.extend(v3.neighbor)\n",
    "                                    v2.color = 'green'    # 反转颜色，并将沙漏右侧合二为一\n",
    "                                    v4.neighbor.remove(v1.name)\n",
    "                                    v4.neighbor.remove(v3.name)\n",
    "                                    v2.neighbor.extend(v4.neighbor)\n",
    "                                    for v in v3.neighbor:\n",
    "                                        v = g.vertices[v]\n",
    "                                        v.neighbor.append(v1.name)\n",
    "                                    for v in v4.neighbor:\n",
    "                                        v = g.vertices[v]\n",
    "                                        v.neighbor.append(v2.name)\n",
    "                                    g.delete_vertex(v3.name)\n",
    "                                    g.delete_vertex(v4.name)\n",
    "                                    g.clear()"
   ]
  },
  {
   "source": [
    "## rule_1\n",
    "\n",
    "<img src=\"picture/equivalence_checking_of_PQC_rule_1.jpg\" width=\"40%\"> "
   ],
   "cell_type": "markdown",
   "metadata": {}
  },
  {
   "cell_type": "code",
   "execution_count": 17,
   "metadata": {},
   "outputs": [],
   "source": [
    "def rule_1(g:Graph):\n",
    "    for v1 in list(g.vertices.keys()):\n",
    "        if v1 not in g.vertices.keys():\n",
    "            continue\n",
    "        v1 = g.vertices[v1]\n",
    "        if v1.color == 'green':\n",
    "            for v2 in v1.neighbor:\n",
    "                v2 = g.vertices[v2]\n",
    "                if v2.color == 'red' and v2.neighbor.count(v1.name) == 2:    # 红绿顶点，且两顶点间有两条边\n",
    "                    while v2.name in g.vertices[v1.name].neighbor:    # 删除相连的边\n",
    "                        v1.neighbor.remove(v2.name)\n",
    "                    while v1.name in g.vertices[v2.name].neighbor:\n",
    "                        v2.neighbor.remove(v1.name)"
   ]
  },
  {
   "source": [
    "## rule_2\n",
    "\n",
    "<img src=\"picture/equivalence_checking_of_PQC_rule_2.jpg\" width=\"45%\"> "
   ],
   "cell_type": "markdown",
   "metadata": {}
  },
  {
   "cell_type": "code",
   "execution_count": 18,
   "metadata": {},
   "outputs": [],
   "source": [
    "def rule_2(g:Graph):\n",
    "    for v1 in list(g.vertices.keys()):\n",
    "        if v1 not in g.vertices.keys():\n",
    "            continue\n",
    "        v1 = g.vertices[v1]\n",
    "        if v1.color== 'red':    # 上一\n",
    "            for v2 in v1.neighbor:\n",
    "                v2 = g.vertices[v2]\n",
    "                if v2.color == 'green' and v2.qubit == v1.qubit:    # 上二\n",
    "                    for v3 in v2.neighbor:\n",
    "                        v3 = g.vertices[v3]\n",
    "                        if v3.color == 'red' and v3.qubit == v2.qubit and v3.name != v1.name:    # 上三\n",
    "                            for v6 in v3.neighbor:\n",
    "                                v6 = g.vertices[v6]\n",
    "                                if v6.color == 'green' and v6.qubit != v3.qubit:    # 下三\n",
    "                                    for v5 in v6.neighbor:\n",
    "                                        v5 = g.vertices[v5]\n",
    "                                        if v5.color == 'red' and v5.qubit == v6.qubit and v2.name in v5.neighbor:    # 下二\n",
    "                                            for v4 in v5.neighbor:\n",
    "                                                v4 = g.vertices[v4]\n",
    "                                                if v4.color == 'green' and v4.qubit == v5.qubit and v1.name in v4.neighbor:    # 下一\n",
    "                                                    g.delete_vertex(v2.name)    # 全部删除\n",
    "                                                    g.delete_vertex(v5.name)\n",
    "                                                    v1.neighbor.remove(v4.name)\n",
    "                                                    v4.neighbor.remove(v1.name)\n",
    "                                                    v3.neighbor.remove(v6.name)\n",
    "                                                    v6.neighbor.remove(v3.name)\n",
    "                                                    for v in v1.neighbor:\n",
    "                                                        v = g.vertices[v]\n",
    "                                                        v.neighbor.extend(v6.neighbor)\n",
    "                                                    for v in v6.neighbor:\n",
    "                                                        v = g.vertices[v]\n",
    "                                                        v.neighbor.extend(v1.neighbor)\n",
    "                                                    for v in v4.neighbor:\n",
    "                                                        v = g.vertices[v]\n",
    "                                                        v.neighbor.extend(v3.neighbor)\n",
    "                                                    for v in v3.neighbor:\n",
    "                                                        v = g.vertices[v]\n",
    "                                                        v.neighbor.extend(v4.neighbor)\n",
    "                                                    g.delete_vertex(v1.name)\n",
    "                                                    g.delete_vertex(v3.name)\n",
    "                                                    g.delete_vertex(v4.name)\n",
    "                                                    g.delete_vertex(v6.name)\n",
    "                                                    g.clear()\n",
    "                                                    for v in g.vertices.values():    # 化简后只剩交叉\n",
    "                                                        if v.qubit == v3.qubit and v.name > v3.name:\n",
    "                                                            v.qubit = v6.qubit\n",
    "                                                        elif v.qubit == v6.qubit and v.name > v6.name:\n",
    "                                                            v.qubit = v3.qubit"
   ]
  },
  {
   "source": [
    "## rule_neg\n",
    "\n",
    "<img src=\"picture/equivalence_checking_of_PQC_rule_neg.jpg\" width=\"35%\"> "
   ],
   "cell_type": "markdown",
   "metadata": {}
  },
  {
   "cell_type": "code",
   "execution_count": 19,
   "metadata": {},
   "outputs": [],
   "source": [
    "def rule_neg(g:Graph):\n",
    "    for v1 in list(g.vertices.keys()):\n",
    "        if v1 not in g.vertices.keys():\n",
    "            continue\n",
    "        v1 = g.vertices[v1]\n",
    "        if v1.phase != 0:\n",
    "            for v2 in v1.neighbor:\n",
    "                v2 = g.vertices[v2]\n",
    "                if v2.color == v1.color and v2.phase == -v1.phase:    # 相同颜色、相反相位\n",
    "                    v2.phase = 0\n",
    "                    v2.neighbor.extend(v1.neighbor)\n",
    "                    for v3 in v1.neighbor:\n",
    "                        v3 = g.vertices[v3]\n",
    "                        v3.neighbor.append(v2.name)\n",
    "                    g.delete_vertex(v1.name)\n",
    "                    g.clear()\n",
    "                    rule_id(g)"
   ]
  },
  {
   "cell_type": "code",
   "execution_count": 20,
   "metadata": {},
   "outputs": [],
   "source": [
    "# 利用以上规则进行化简\n",
    "def simplify(g : Graph):\n",
    "    temp = []\n",
    "    while(temp != list(g.vertices.keys())):\n",
    "        temp = list(g.vertices.keys())    # temp用于对比本轮循环是否有效化简\n",
    "        rule_hh(g)\n",
    "        rule_h(g)\n",
    "        rule_neg(g)\n",
    "        rule_b(g)\n",
    "        rule_2(g)\n",
    "        rule_f(g)\n",
    "        rule_1(g)\n",
    "        rule_id(g)"
   ]
  },
  {
   "cell_type": "code",
   "execution_count": 21,
   "metadata": {
    "tags": []
   },
   "outputs": [
    {
     "output_type": "stream",
     "name": "stdout",
     "text": "化简之前：\nNot sure!\n化简之后：\nEquivalent!\n"
    }
   ],
   "source": [
    "# 化简TwoLocal-Circular\n",
    "print(\"化简之前：\")\n",
    "g.equiv()\n",
    "\n",
    "simplify(g)\n",
    "\n",
    "print(\"化简之后：\")\n",
    "g.equiv()"
   ]
  },
  {
   "source": [
    "# 第四步，若ZX演算无法确定等价性，则实例化参数\n",
    "判断实例化之后的“无参数”线路是否等价，如果得到线路不等价的结果，则终止；否则，重复本步骤若干次，最后一次尝试随机实例化参数，这次的结果就是最终结果。\n",
    "\n",
    "## 反例：ZX演算化简后无法确定、实际上不等价的线路"
   ],
   "cell_type": "markdown",
   "metadata": {}
  },
  {
   "cell_type": "code",
   "execution_count": 22,
   "metadata": {},
   "outputs": [
    {
     "output_type": "execute_result",
     "data": {
      "text/plain": "<mindquantum.io.display.circuit_svg_drawer.SVGCircuit at 0x7fdc45d0c1d0>",
      "image/svg+xml": "<div class=\"nb-html-output output_area\"><svg xmlns=\"http://www.w3.org/2000/svg\" width=\"376.8\" height=\"200\" xmlns:xlink=\"http://www.w3.org/1999/xlink\">\n<rect x=\"0\" y=\"0\" width=\"376.8\" height=\"200\" fill=\"#ffffff\" />\n<text x=\"20.0\" y=\"40.0\" font-size=\"16px\" dominant-baseline=\"middle\" text-anchor=\"start\" font-family=\"Arial\" font-weight=\"normal\" fill=\"#252b3a\" >\nq0:\n </text>\n<text x=\"20.0\" y=\"100.0\" font-size=\"16px\" dominant-baseline=\"middle\" text-anchor=\"start\" font-family=\"Arial\" font-weight=\"normal\" fill=\"#252b3a\" >\nq1:\n </text>\n<text x=\"20.0\" y=\"160.0\" font-size=\"16px\" dominant-baseline=\"middle\" text-anchor=\"start\" font-family=\"Arial\" font-weight=\"normal\" fill=\"#252b3a\" >\nq2:\n </text>\n<line x1=\"48.8\" x2=\"356.8\" y1=\"40.0\" y2=\"40.0\" stroke=\"#adb0b8\" stroke-width=\"1\" />\n<line x1=\"48.8\" x2=\"356.8\" y1=\"100.0\" y2=\"100.0\" stroke=\"#adb0b8\" stroke-width=\"1\" />\n<line x1=\"48.8\" x2=\"356.8\" y1=\"160.0\" y2=\"160.0\" stroke=\"#adb0b8\" stroke-width=\"1\" />\n\n<rect x=\"72.8\" y=\"80.0\" width=\"40.0\" height=\"40\" rx=\"4\" ry=\"4\" stroke=\"#ffffff\" stroke-width=\"0\" fill=\"#5e7ce0\" fill-opacity=\"1\" />\n<text x=\"92.8\" y=\"100.0\" font-size=\"20px\" dominant-baseline=\"middle\" text-anchor=\"middle\" font-family=\"Arial\" font-weight=\"normal\" fill=\"#ffffff\" >\nH\n </text>\n\n\n<rect x=\"72.8\" y=\"140.0\" width=\"80.0\" height=\"40\" rx=\"4\" ry=\"4\" stroke=\"#ffffff\" stroke-width=\"0\" fill=\"#fac209\" fill-opacity=\"1\" />\n<text x=\"112.8\" y=\"156.0\" font-size=\"20px\" dominant-baseline=\"middle\" text-anchor=\"middle\" font-family=\"Arial\" font-weight=\"normal\" fill=\"#ffffff\" >\nRX\n </text>\n<text x=\"112.8\" y=\"172.0\" font-size=\"14.0px\" dominant-baseline=\"middle\" text-anchor=\"middle\" font-family=\"Arial\" font-weight=\"normal\" fill=\"#ffffff\" >\ntheta0\n </text>\n\n<circle cx=\"152.8\" cy=\"100.0\" r=\"4\" fill=\"#16acff\" />\n<line x1=\"152.8\" x2=\"152.8\" y1=\"40.0\" y2=\"100.0\" stroke=\"#16acff\" stroke-width=\"3\" />\n<rect x=\"132.8\" y=\"20.0\" width=\"40\" height=\"40\" rx=\"4\" ry=\"4\" stroke=\"#ffffff\" stroke-width=\"0\" fill=\"#16acff\" fill-opacity=\"1\" />\n<line x1=\"138.8\" x2=\"166.8\" y1=\"40.0\" y2=\"40.0\" stroke=\"#ffffff\" stroke-width=\"4\" />\n<line x1=\"152.8\" x2=\"152.8\" y1=\"26.0\" y2=\"54.0\" stroke=\"#ffffff\" stroke-width=\"4\" />\n\n<rect x=\"192.8\" y=\"20.0\" width=\"80.0\" height=\"40\" rx=\"4\" ry=\"4\" stroke=\"#ffffff\" stroke-width=\"0\" fill=\"#fac209\" fill-opacity=\"1\" />\n<text x=\"232.8\" y=\"36.0\" font-size=\"20px\" dominant-baseline=\"middle\" text-anchor=\"middle\" font-family=\"Arial\" font-weight=\"normal\" fill=\"#ffffff\" >\nRZ\n </text>\n<text x=\"232.8\" y=\"52.0\" font-size=\"14.0px\" dominant-baseline=\"middle\" text-anchor=\"middle\" font-family=\"Arial\" font-weight=\"normal\" fill=\"#ffffff\" >\ntheta1\n </text>\n\n<circle cx=\"212.8\" cy=\"100.0\" r=\"4\" fill=\"#16acff\" />\n<line x1=\"212.8\" x2=\"212.8\" y1=\"100.0\" y2=\"160.0\" stroke=\"#16acff\" stroke-width=\"3\" />\n<rect x=\"192.8\" y=\"140.0\" width=\"40\" height=\"40\" rx=\"4\" ry=\"4\" stroke=\"#ffffff\" stroke-width=\"0\" fill=\"#16acff\" fill-opacity=\"1\" />\n<line x1=\"198.8\" x2=\"226.8\" y1=\"160.0\" y2=\"160.0\" stroke=\"#ffffff\" stroke-width=\"4\" />\n<line x1=\"212.8\" x2=\"212.8\" y1=\"146.0\" y2=\"174.0\" stroke=\"#ffffff\" stroke-width=\"4\" />\n<circle cx=\"312.8\" cy=\"100.0\" r=\"4\" fill=\"#16acff\" />\n<line x1=\"312.8\" x2=\"312.8\" y1=\"40.0\" y2=\"100.0\" stroke=\"#16acff\" stroke-width=\"3\" />\n<rect x=\"292.8\" y=\"20.0\" width=\"40\" height=\"40\" rx=\"4\" ry=\"4\" stroke=\"#ffffff\" stroke-width=\"0\" fill=\"#16acff\" fill-opacity=\"1\" />\n<line x1=\"298.8\" x2=\"326.8\" y1=\"40.0\" y2=\"40.0\" stroke=\"#ffffff\" stroke-width=\"4\" />\n<line x1=\"312.8\" x2=\"312.8\" y1=\"26.0\" y2=\"54.0\" stroke=\"#ffffff\" stroke-width=\"4\" />\n\n<rect x=\"252.8\" y=\"140.0\" width=\"80.0\" height=\"40\" rx=\"4\" ry=\"4\" stroke=\"#ffffff\" stroke-width=\"0\" fill=\"#fac209\" fill-opacity=\"1\" />\n<text x=\"292.8\" y=\"156.0\" font-size=\"20px\" dominant-baseline=\"middle\" text-anchor=\"middle\" font-family=\"Arial\" font-weight=\"normal\" fill=\"#ffffff\" >\nRX\n </text>\n<text x=\"292.8\" y=\"172.0\" font-size=\"14.0px\" dominant-baseline=\"middle\" text-anchor=\"middle\" font-family=\"Arial\" font-weight=\"normal\" fill=\"#ffffff\" >\ntheta2\n </text>\n\n</svg></div>"
     },
     "metadata": {},
     "execution_count": 22
    }
   ],
   "source": [
    "neq_circ1 = Circuit()\n",
    "neq_circ1 += H.on(1)\n",
    "neq_circ1 += RX(f'theta{0}').on(2)\n",
    "neq_circ1 += CNOT.on(0,1)\n",
    "neq_circ1 += RZ(f'theta{1}').on(0)\n",
    "neq_circ1 += CNOT.on(2,1)\n",
    "neq_circ1 += CNOT.on(0,1)\n",
    "neq_circ1 += RX(f'theta{2}').on(2)\n",
    "\n",
    "neq_circ1.svg()"
   ]
  },
  {
   "cell_type": "code",
   "execution_count": 23,
   "metadata": {},
   "outputs": [
    {
     "output_type": "execute_result",
     "data": {
      "text/plain": "<mindquantum.io.display.circuit_svg_drawer.SVGCircuit at 0x7fdc45d255d0>",
      "image/svg+xml": "<div class=\"nb-html-output output_area\"><svg xmlns=\"http://www.w3.org/2000/svg\" width=\"536.8\" height=\"200\" xmlns:xlink=\"http://www.w3.org/1999/xlink\">\n<rect x=\"0\" y=\"0\" width=\"536.8\" height=\"200\" fill=\"#ffffff\" />\n<text x=\"20.0\" y=\"40.0\" font-size=\"16px\" dominant-baseline=\"middle\" text-anchor=\"start\" font-family=\"Arial\" font-weight=\"normal\" fill=\"#252b3a\" >\nq0:\n </text>\n<text x=\"20.0\" y=\"100.0\" font-size=\"16px\" dominant-baseline=\"middle\" text-anchor=\"start\" font-family=\"Arial\" font-weight=\"normal\" fill=\"#252b3a\" >\nq1:\n </text>\n<text x=\"20.0\" y=\"160.0\" font-size=\"16px\" dominant-baseline=\"middle\" text-anchor=\"start\" font-family=\"Arial\" font-weight=\"normal\" fill=\"#252b3a\" >\nq2:\n </text>\n<line x1=\"48.8\" x2=\"516.8\" y1=\"40.0\" y2=\"40.0\" stroke=\"#adb0b8\" stroke-width=\"1\" />\n<line x1=\"48.8\" x2=\"516.8\" y1=\"100.0\" y2=\"100.0\" stroke=\"#adb0b8\" stroke-width=\"1\" />\n<line x1=\"48.8\" x2=\"516.8\" y1=\"160.0\" y2=\"160.0\" stroke=\"#adb0b8\" stroke-width=\"1\" />\n\n<rect x=\"72.8\" y=\"80.0\" width=\"40.0\" height=\"40\" rx=\"4\" ry=\"4\" stroke=\"#ffffff\" stroke-width=\"0\" fill=\"#5e7ce0\" fill-opacity=\"1\" />\n<text x=\"92.8\" y=\"100.0\" font-size=\"20px\" dominant-baseline=\"middle\" text-anchor=\"middle\" font-family=\"Arial\" font-weight=\"normal\" fill=\"#ffffff\" >\nH\n </text>\n\n\n<rect x=\"72.8\" y=\"140.0\" width=\"80.0\" height=\"40\" rx=\"4\" ry=\"4\" stroke=\"#ffffff\" stroke-width=\"0\" fill=\"#fac209\" fill-opacity=\"1\" />\n<text x=\"112.8\" y=\"156.0\" font-size=\"20px\" dominant-baseline=\"middle\" text-anchor=\"middle\" font-family=\"Arial\" font-weight=\"normal\" fill=\"#ffffff\" >\nRX\n </text>\n<text x=\"112.8\" y=\"172.0\" font-size=\"14.0px\" dominant-baseline=\"middle\" text-anchor=\"middle\" font-family=\"Arial\" font-weight=\"normal\" fill=\"#ffffff\" >\ntheta0\n </text>\n\n<circle cx=\"152.8\" cy=\"100.0\" r=\"4\" fill=\"#16acff\" />\n<line x1=\"152.8\" x2=\"152.8\" y1=\"40.0\" y2=\"100.0\" stroke=\"#16acff\" stroke-width=\"3\" />\n<rect x=\"132.8\" y=\"20.0\" width=\"40\" height=\"40\" rx=\"4\" ry=\"4\" stroke=\"#ffffff\" stroke-width=\"0\" fill=\"#16acff\" fill-opacity=\"1\" />\n<line x1=\"138.8\" x2=\"166.8\" y1=\"40.0\" y2=\"40.0\" stroke=\"#ffffff\" stroke-width=\"4\" />\n<line x1=\"152.8\" x2=\"152.8\" y1=\"26.0\" y2=\"54.0\" stroke=\"#ffffff\" stroke-width=\"4\" />\n\n<rect x=\"192.8\" y=\"20.0\" width=\"80.0\" height=\"40\" rx=\"4\" ry=\"4\" stroke=\"#ffffff\" stroke-width=\"0\" fill=\"#fac209\" fill-opacity=\"1\" />\n<text x=\"232.8\" y=\"36.0\" font-size=\"20px\" dominant-baseline=\"middle\" text-anchor=\"middle\" font-family=\"Arial\" font-weight=\"normal\" fill=\"#ffffff\" >\nRZ\n </text>\n<text x=\"232.8\" y=\"52.0\" font-size=\"14.0px\" dominant-baseline=\"middle\" text-anchor=\"middle\" font-family=\"Arial\" font-weight=\"normal\" fill=\"#ffffff\" >\ntheta1\n </text>\n\n<circle cx=\"212.8\" cy=\"100.0\" r=\"4\" fill=\"#16acff\" />\n<line x1=\"212.8\" x2=\"212.8\" y1=\"100.0\" y2=\"160.0\" stroke=\"#16acff\" stroke-width=\"3\" />\n<rect x=\"192.8\" y=\"140.0\" width=\"40\" height=\"40\" rx=\"4\" ry=\"4\" stroke=\"#ffffff\" stroke-width=\"0\" fill=\"#16acff\" fill-opacity=\"1\" />\n<line x1=\"198.8\" x2=\"226.8\" y1=\"160.0\" y2=\"160.0\" stroke=\"#ffffff\" stroke-width=\"4\" />\n<line x1=\"212.8\" x2=\"212.8\" y1=\"146.0\" y2=\"174.0\" stroke=\"#ffffff\" stroke-width=\"4\" />\n<circle cx=\"312.8\" cy=\"100.0\" r=\"4\" fill=\"#16acff\" />\n<line x1=\"312.8\" x2=\"312.8\" y1=\"40.0\" y2=\"100.0\" stroke=\"#16acff\" stroke-width=\"3\" />\n<rect x=\"292.8\" y=\"20.0\" width=\"40\" height=\"40\" rx=\"4\" ry=\"4\" stroke=\"#ffffff\" stroke-width=\"0\" fill=\"#16acff\" fill-opacity=\"1\" />\n<line x1=\"298.8\" x2=\"326.8\" y1=\"40.0\" y2=\"40.0\" stroke=\"#ffffff\" stroke-width=\"4\" />\n<line x1=\"312.8\" x2=\"312.8\" y1=\"26.0\" y2=\"54.0\" stroke=\"#ffffff\" stroke-width=\"4\" />\n\n<rect x=\"252.8\" y=\"140.0\" width=\"240.0\" height=\"40\" rx=\"4\" ry=\"4\" stroke=\"#ffffff\" stroke-width=\"0\" fill=\"#fac209\" fill-opacity=\"1\" />\n<text x=\"372.8\" y=\"156.0\" font-size=\"20px\" dominant-baseline=\"middle\" text-anchor=\"middle\" font-family=\"Arial\" font-weight=\"normal\" fill=\"#ffffff\" >\nRX\n </text>\n<text x=\"372.8\" y=\"172.0\" font-size=\"14.0px\" dominant-baseline=\"middle\" text-anchor=\"middle\" font-family=\"Arial\" font-weight=\"normal\" fill=\"#ffffff\" >\ntheta0 + theta1 + theta2\n </text>\n\n</svg></div>"
     },
     "metadata": {},
     "execution_count": 23
    }
   ],
   "source": [
    "neq_circ2 = Circuit()\n",
    "neq_circ2 += H.on(1)\n",
    "neq_circ2 += RX(f'theta{0}').on(2)\n",
    "neq_circ2 += CNOT.on(0,1)\n",
    "neq_circ2 += RZ(f'theta{1}').on(0)\n",
    "neq_circ2 += CNOT.on(2,1)\n",
    "neq_circ2 += CNOT.on(0,1)\n",
    "# 不同之处\n",
    "neq_circ2 += RX({f'theta{0}': 1, f'theta{1}': 1, f'theta{2}': 1}).on(2)\n",
    "\n",
    "neq_circ2.svg()"
   ]
  },
  {
   "cell_type": "code",
   "execution_count": 24,
   "metadata": {
    "tags": []
   },
   "outputs": [
    {
     "output_type": "execute_result",
     "data": {
      "text/plain": "<mindquantum.io.display.circuit_svg_drawer.SVGCircuit at 0x7fdc45d7e210>",
      "image/svg+xml": "<div class=\"nb-html-output output_area\"><svg xmlns=\"http://www.w3.org/2000/svg\" width=\"816.8\" height=\"200\" xmlns:xlink=\"http://www.w3.org/1999/xlink\">\n<rect x=\"0\" y=\"0\" width=\"816.8\" height=\"200\" fill=\"#ffffff\" />\n<text x=\"20.0\" y=\"40.0\" font-size=\"16px\" dominant-baseline=\"middle\" text-anchor=\"start\" font-family=\"Arial\" font-weight=\"normal\" fill=\"#252b3a\" >\nq0:\n </text>\n<text x=\"20.0\" y=\"100.0\" font-size=\"16px\" dominant-baseline=\"middle\" text-anchor=\"start\" font-family=\"Arial\" font-weight=\"normal\" fill=\"#252b3a\" >\nq1:\n </text>\n<text x=\"20.0\" y=\"160.0\" font-size=\"16px\" dominant-baseline=\"middle\" text-anchor=\"start\" font-family=\"Arial\" font-weight=\"normal\" fill=\"#252b3a\" >\nq2:\n </text>\n<line x1=\"48.8\" x2=\"796.8\" y1=\"40.0\" y2=\"40.0\" stroke=\"#adb0b8\" stroke-width=\"1\" />\n<line x1=\"48.8\" x2=\"796.8\" y1=\"100.0\" y2=\"100.0\" stroke=\"#adb0b8\" stroke-width=\"1\" />\n<line x1=\"48.8\" x2=\"796.8\" y1=\"160.0\" y2=\"160.0\" stroke=\"#adb0b8\" stroke-width=\"1\" />\n\n<rect x=\"72.8\" y=\"140.0\" width=\"80.0\" height=\"40\" rx=\"4\" ry=\"4\" stroke=\"#ffffff\" stroke-width=\"0\" fill=\"#fac209\" fill-opacity=\"1\" />\n<text x=\"112.8\" y=\"156.0\" font-size=\"20px\" dominant-baseline=\"middle\" text-anchor=\"middle\" font-family=\"Arial\" font-weight=\"normal\" fill=\"#ffffff\" >\nRX\n </text>\n<text x=\"112.8\" y=\"172.0\" font-size=\"14.0px\" dominant-baseline=\"middle\" text-anchor=\"middle\" font-family=\"Arial\" font-weight=\"normal\" fill=\"#ffffff\" >\n-theta2\n </text>\n\n<circle cx=\"92.8\" cy=\"100.0\" r=\"4\" fill=\"#16acff\" />\n<line x1=\"92.8\" x2=\"92.8\" y1=\"40.0\" y2=\"100.0\" stroke=\"#16acff\" stroke-width=\"3\" />\n<rect x=\"72.8\" y=\"20.0\" width=\"40\" height=\"40\" rx=\"4\" ry=\"4\" stroke=\"#ffffff\" stroke-width=\"0\" fill=\"#16acff\" fill-opacity=\"1\" />\n<line x1=\"78.8\" x2=\"106.8\" y1=\"40.0\" y2=\"40.0\" stroke=\"#ffffff\" stroke-width=\"4\" />\n<line x1=\"92.8\" x2=\"92.8\" y1=\"26.0\" y2=\"54.0\" stroke=\"#ffffff\" stroke-width=\"4\" />\n<circle cx=\"192.8\" cy=\"100.0\" r=\"4\" fill=\"#16acff\" />\n<line x1=\"192.8\" x2=\"192.8\" y1=\"100.0\" y2=\"160.0\" stroke=\"#16acff\" stroke-width=\"3\" />\n<rect x=\"172.8\" y=\"140.0\" width=\"40\" height=\"40\" rx=\"4\" ry=\"4\" stroke=\"#ffffff\" stroke-width=\"0\" fill=\"#16acff\" fill-opacity=\"1\" />\n<line x1=\"178.8\" x2=\"206.8\" y1=\"160.0\" y2=\"160.0\" stroke=\"#ffffff\" stroke-width=\"4\" />\n<line x1=\"192.8\" x2=\"192.8\" y1=\"146.0\" y2=\"174.0\" stroke=\"#ffffff\" stroke-width=\"4\" />\n\n<rect x=\"132.8\" y=\"20.0\" width=\"80.0\" height=\"40\" rx=\"4\" ry=\"4\" stroke=\"#ffffff\" stroke-width=\"0\" fill=\"#fac209\" fill-opacity=\"1\" />\n<text x=\"172.8\" y=\"36.0\" font-size=\"20px\" dominant-baseline=\"middle\" text-anchor=\"middle\" font-family=\"Arial\" font-weight=\"normal\" fill=\"#ffffff\" >\nRZ\n </text>\n<text x=\"172.8\" y=\"52.0\" font-size=\"14.0px\" dominant-baseline=\"middle\" text-anchor=\"middle\" font-family=\"Arial\" font-weight=\"normal\" fill=\"#ffffff\" >\n-theta1\n </text>\n\n<circle cx=\"252.8\" cy=\"100.0\" r=\"4\" fill=\"#16acff\" />\n<line x1=\"252.8\" x2=\"252.8\" y1=\"40.0\" y2=\"100.0\" stroke=\"#16acff\" stroke-width=\"3\" />\n<rect x=\"232.8\" y=\"20.0\" width=\"40\" height=\"40\" rx=\"4\" ry=\"4\" stroke=\"#ffffff\" stroke-width=\"0\" fill=\"#16acff\" fill-opacity=\"1\" />\n<line x1=\"238.8\" x2=\"266.8\" y1=\"40.0\" y2=\"40.0\" stroke=\"#ffffff\" stroke-width=\"4\" />\n<line x1=\"252.8\" x2=\"252.8\" y1=\"26.0\" y2=\"54.0\" stroke=\"#ffffff\" stroke-width=\"4\" />\n\n<rect x=\"232.8\" y=\"140.0\" width=\"80.0\" height=\"40\" rx=\"4\" ry=\"4\" stroke=\"#ffffff\" stroke-width=\"0\" fill=\"#fac209\" fill-opacity=\"1\" />\n<text x=\"272.8\" y=\"156.0\" font-size=\"20px\" dominant-baseline=\"middle\" text-anchor=\"middle\" font-family=\"Arial\" font-weight=\"normal\" fill=\"#ffffff\" >\nRX\n </text>\n<text x=\"272.8\" y=\"172.0\" font-size=\"14.0px\" dominant-baseline=\"middle\" text-anchor=\"middle\" font-family=\"Arial\" font-weight=\"normal\" fill=\"#ffffff\" >\n-theta0\n </text>\n\n\n<rect x=\"292.8\" y=\"80.0\" width=\"40.0\" height=\"40\" rx=\"4\" ry=\"4\" stroke=\"#ffffff\" stroke-width=\"0\" fill=\"#5e7ce0\" fill-opacity=\"1\" />\n<text x=\"312.8\" y=\"100.0\" font-size=\"20px\" dominant-baseline=\"middle\" text-anchor=\"middle\" font-family=\"Arial\" font-weight=\"normal\" fill=\"#ffffff\" >\nH\n </text>\n\n\n<rect x=\"352.8\" y=\"80.0\" width=\"40.0\" height=\"40\" rx=\"4\" ry=\"4\" stroke=\"#ffffff\" stroke-width=\"0\" fill=\"#5e7ce0\" fill-opacity=\"1\" />\n<text x=\"372.8\" y=\"100.0\" font-size=\"20px\" dominant-baseline=\"middle\" text-anchor=\"middle\" font-family=\"Arial\" font-weight=\"normal\" fill=\"#ffffff\" >\nH\n </text>\n\n\n<rect x=\"332.8\" y=\"140.0\" width=\"80.0\" height=\"40\" rx=\"4\" ry=\"4\" stroke=\"#ffffff\" stroke-width=\"0\" fill=\"#fac209\" fill-opacity=\"1\" />\n<text x=\"372.8\" y=\"156.0\" font-size=\"20px\" dominant-baseline=\"middle\" text-anchor=\"middle\" font-family=\"Arial\" font-weight=\"normal\" fill=\"#ffffff\" >\nRX\n </text>\n<text x=\"372.8\" y=\"172.0\" font-size=\"14.0px\" dominant-baseline=\"middle\" text-anchor=\"middle\" font-family=\"Arial\" font-weight=\"normal\" fill=\"#ffffff\" >\ntheta0\n </text>\n\n<circle cx=\"432.8\" cy=\"100.0\" r=\"4\" fill=\"#16acff\" />\n<line x1=\"432.8\" x2=\"432.8\" y1=\"40.0\" y2=\"100.0\" stroke=\"#16acff\" stroke-width=\"3\" />\n<rect x=\"412.8\" y=\"20.0\" width=\"40\" height=\"40\" rx=\"4\" ry=\"4\" stroke=\"#ffffff\" stroke-width=\"0\" fill=\"#16acff\" fill-opacity=\"1\" />\n<line x1=\"418.8\" x2=\"446.8\" y1=\"40.0\" y2=\"40.0\" stroke=\"#ffffff\" stroke-width=\"4\" />\n<line x1=\"432.8\" x2=\"432.8\" y1=\"26.0\" y2=\"54.0\" stroke=\"#ffffff\" stroke-width=\"4\" />\n\n<rect x=\"472.8\" y=\"20.0\" width=\"80.0\" height=\"40\" rx=\"4\" ry=\"4\" stroke=\"#ffffff\" stroke-width=\"0\" fill=\"#fac209\" fill-opacity=\"1\" />\n<text x=\"512.8\" y=\"36.0\" font-size=\"20px\" dominant-baseline=\"middle\" text-anchor=\"middle\" font-family=\"Arial\" font-weight=\"normal\" fill=\"#ffffff\" >\nRZ\n </text>\n<text x=\"512.8\" y=\"52.0\" font-size=\"14.0px\" dominant-baseline=\"middle\" text-anchor=\"middle\" font-family=\"Arial\" font-weight=\"normal\" fill=\"#ffffff\" >\ntheta1\n </text>\n\n<circle cx=\"492.8\" cy=\"100.0\" r=\"4\" fill=\"#16acff\" />\n<line x1=\"492.8\" x2=\"492.8\" y1=\"100.0\" y2=\"160.0\" stroke=\"#16acff\" stroke-width=\"3\" />\n<rect x=\"472.8\" y=\"140.0\" width=\"40\" height=\"40\" rx=\"4\" ry=\"4\" stroke=\"#ffffff\" stroke-width=\"0\" fill=\"#16acff\" fill-opacity=\"1\" />\n<line x1=\"478.8\" x2=\"506.8\" y1=\"160.0\" y2=\"160.0\" stroke=\"#ffffff\" stroke-width=\"4\" />\n<line x1=\"492.8\" x2=\"492.8\" y1=\"146.0\" y2=\"174.0\" stroke=\"#ffffff\" stroke-width=\"4\" />\n<circle cx=\"592.8\" cy=\"100.0\" r=\"4\" fill=\"#16acff\" />\n<line x1=\"592.8\" x2=\"592.8\" y1=\"40.0\" y2=\"100.0\" stroke=\"#16acff\" stroke-width=\"3\" />\n<rect x=\"572.8\" y=\"20.0\" width=\"40\" height=\"40\" rx=\"4\" ry=\"4\" stroke=\"#ffffff\" stroke-width=\"0\" fill=\"#16acff\" fill-opacity=\"1\" />\n<line x1=\"578.8\" x2=\"606.8\" y1=\"40.0\" y2=\"40.0\" stroke=\"#ffffff\" stroke-width=\"4\" />\n<line x1=\"592.8\" x2=\"592.8\" y1=\"26.0\" y2=\"54.0\" stroke=\"#ffffff\" stroke-width=\"4\" />\n\n<rect x=\"532.8\" y=\"140.0\" width=\"240.0\" height=\"40\" rx=\"4\" ry=\"4\" stroke=\"#ffffff\" stroke-width=\"0\" fill=\"#fac209\" fill-opacity=\"1\" />\n<text x=\"652.8\" y=\"156.0\" font-size=\"20px\" dominant-baseline=\"middle\" text-anchor=\"middle\" font-family=\"Arial\" font-weight=\"normal\" fill=\"#ffffff\" >\nRX\n </text>\n<text x=\"652.8\" y=\"172.0\" font-size=\"14.0px\" dominant-baseline=\"middle\" text-anchor=\"middle\" font-family=\"Arial\" font-weight=\"normal\" fill=\"#ffffff\" >\ntheta0 + theta1 + theta2\n </text>\n\n</svg></div>"
     },
     "metadata": {},
     "execution_count": 24
    }
   ],
   "source": [
    "neq_circ1_inv = dagger(neq_circ1)\n",
    "neq_circ_all = neq_circ1_inv + neq_circ2\n",
    "neq_circ_all.svg()"
   ]
  },
  {
   "cell_type": "code",
   "execution_count": 25,
   "metadata": {
    "tags": []
   },
   "outputs": [
    {
     "output_type": "stream",
     "name": "stdout",
     "text": "化简之前：\nNot sure!\n化简之后：\nNot sure!\n"
    }
   ],
   "source": [
    "neq_g = draw_graph(neq_circ_all)\n",
    "print(\"化简之前：\")\n",
    "neq_g.equiv()\n",
    "\n",
    "simplify(neq_g)\n",
    "\n",
    "print(\"化简之后：\")\n",
    "neq_g.equiv()"
   ]
  },
  {
   "cell_type": "markdown",
   "metadata": {},
   "source": [
    "## ZX演算无法确定，于是需要实例化参数进行验证"
   ]
  },
  {
   "cell_type": "code",
   "execution_count": 26,
   "metadata": {},
   "outputs": [],
   "source": [
    "# 映射函数实例化参数\n",
    "def map_para(n,r):\n",
    "    para = {}\n",
    "    for i in range(n):\n",
    "        para[f'theta{i}'] = (2*np.pi/((i+1)*r)-np.pi)\n",
    "    return para"
   ]
  },
  {
   "cell_type": "code",
   "execution_count": 27,
   "metadata": {},
   "outputs": [],
   "source": [
    "# 随机实例化参数\n",
    "def random_para(n):\n",
    "    para = {}\n",
    "    for i in range(n):\n",
    "        para[f'theta{i}'] = (np.random.uniform(np.pi,-np.pi))\n",
    "    return para"
   ]
  },
  {
   "cell_type": "code",
   "execution_count": 28,
   "metadata": {
    "tags": []
   },
   "outputs": [],
   "source": [
    "# 实例化参数验证circ1和circ2，验证r轮\n",
    "def verify_by_para(circ1,circ2,r):\n",
    "    # 线路中一共n个参数\n",
    "    n = len(list(set(circ1.params_name+circ2.params_name)))\n",
    "    # 记录前r-1轮验证是否有结果\n",
    "    flag = True\n",
    "    # 前r-1轮指定参数\n",
    "    for i in range(r-1):\n",
    "        para = map_para(n,i+1)\n",
    "\n",
    "        if np.array_equal(circ1.matrix(para), circ2.matrix(para)):\n",
    "            continue\n",
    "        else:\n",
    "            print('Not equivalent!')\n",
    "            flag = False\n",
    "            break\n",
    "\n",
    "    # 最后一轮随机参数\n",
    "    if flag:\n",
    "        para = random_para(n)\n",
    "        if np.array_equal(circ1.matrix(para), circ2.matrix(para)):\n",
    "            print('Equivalent!')\n",
    "        else:\n",
    "            print('Not equivalent!')"
   ]
  },
  {
   "cell_type": "code",
   "execution_count": 29,
   "metadata": {
    "tags": []
   },
   "outputs": [
    {
     "output_type": "stream",
     "name": "stdout",
     "text": "Not equivalent!\n"
    }
   ],
   "source": [
    "# 实例化参数之后，验证发现线路不等价\n",
    "verify_by_para(neq_circ1,neq_circ2,5)"
   ]
  },
  {
   "source": [
    "# 最后，将以上过程合并成一个完整的功能"
   ],
   "cell_type": "markdown",
   "metadata": {}
  },
  {
   "cell_type": "code",
   "execution_count": 30,
   "metadata": {
    "tags": []
   },
   "outputs": [],
   "source": [
    "def ZXcalculus (circ1, circ2):\n",
    "    circ1_inv = dagger(circ1)\n",
    "    circ = circ1_inv + circ2\n",
    "    g = draw_graph(circ)\n",
    "    print(\"化简之前：\")\n",
    "    g.equiv()\n",
    "    simplify(g)\n",
    "    print(\"化简之后：\")\n",
    "    if len(g.vertices) == 0:\n",
    "        g.equiv()\n",
    "    else:\n",
    "        g.equiv()\n",
    "        print(\"实例化参数验证：\")\n",
    "        verify_by_para(circ1,circ2,5)"
   ]
  },
  {
   "cell_type": "code",
   "execution_count": 31,
   "metadata": {
    "tags": []
   },
   "outputs": [
    {
     "output_type": "stream",
     "name": "stdout",
     "text": "化简之前：\nNot sure!\n化简之后：\nEquivalent!\n"
    }
   ],
   "source": [
    "# 验证ZX-calculus功能\n",
    "# 由于线路中的参数已经进行过变换，所以要重新构造\n",
    "circ1 = build_ansatz(n_qubits,depth)\n",
    "circ2 = compile_circuit(circ1)\n",
    "\n",
    "ZXcalculus(circ1,circ2)"
   ]
  },
  {
   "cell_type": "code",
   "execution_count": 32,
   "metadata": {
    "tags": []
   },
   "outputs": [
    {
     "output_type": "stream",
     "name": "stdout",
     "text": "化简之前：\nNot sure!\n化简之后：\nNot sure!\n实例化参数验证：\nNot equivalent!\n"
    }
   ],
   "source": [
    "neq_circ1 = Circuit()\n",
    "neq_circ1 += H.on(1)\n",
    "neq_circ1 += RX(f'theta{0}').on(2)\n",
    "neq_circ1 += CNOT.on(0,1)\n",
    "neq_circ1 += RZ(f'theta{1}').on(0)\n",
    "neq_circ1 += CNOT.on(2,1)\n",
    "neq_circ1 += CNOT.on(0,1)\n",
    "neq_circ1 += RX(f'theta{2}').on(2)\n",
    "\n",
    "neq_circ2 = Circuit()\n",
    "neq_circ2 += H.on(1)\n",
    "neq_circ2 += RX(f'theta{0}').on(2)\n",
    "neq_circ2 += CNOT.on(0,1)\n",
    "neq_circ2 += RZ(f'theta{1}').on(0)\n",
    "neq_circ2 += CNOT.on(2,1)\n",
    "neq_circ2 += CNOT.on(0,1)\n",
    "# 不同之处\n",
    "neq_circ2 += RX({f'theta{0}': 1, f'theta{1}': 1, f'theta{2}': 1}).on(2)\n",
    "\n",
    "ZXcalculus(neq_circ1,neq_circ2)"
   ]
  },
  {
   "cell_type": "code",
   "execution_count": null,
   "metadata": {},
   "outputs": [],
   "source": []
  }
 ],
 "metadata": {
  "kernelspec": {
   "display_name": "Python 3.7.5 64-bit",
   "language": "python",
   "name": "python37564bitcb39d02449b64f99b528af7a358905b6"
  },
  "language_info": {
   "codemirror_mode": {
    "name": "ipython",
    "version": 3
   },
   "file_extension": ".py",
   "mimetype": "text/x-python",
   "name": "python",
   "nbconvert_exporter": "python",
   "pygments_lexer": "ipython3",
   "version": "3.7.5-final"
  }
 },
 "nbformat": 4,
 "nbformat_minor": 4
}