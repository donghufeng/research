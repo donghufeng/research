{
    "cells": [
        {
            "attachments": {},
            "cell_type": "markdown",
            "metadata": {},
            "source": [
                "# 论文复现 - avoiding BPs using classical shadow"
            ]
        },
        {
            "attachments": {},
            "cell_type": "markdown",
            "metadata": {},
            "source": [
                "## 1. 导入包"
            ]
        },
        {
            "cell_type": "code",
            "execution_count": 1,
            "metadata": {},
            "outputs": [],
            "source": [
                "from src.circ import bpansatz, init_state\n",
                "from src.entropy import get_rs_from_sim, s2, s_page\n",
                "from src.HeisenbergModel import HeisenbergModel\n",
                "from src.GDOpt import GDOpt\n",
                "from mindquantum import Simulator, Circuit\n",
                "import numpy as np\n",
                "import networkx as nx\n",
                "import matplotlib.pyplot as plt\n",
                "from tqdm import trange"
            ]
        },
        {
            "attachments": {},
            "cell_type": "markdown",
            "metadata": {},
            "source": [
                "**简要说明：*\n",
                "1. ```src.circ``` - 通过```bpansatz()```生成随机线路；\n",
                "2. ```src.entropy``` - 计算约化密度算子 (```get_rs_from_sim()```)、二阶瑞丽熵 (```s2()```)、Page熵 (```s_page()```) 等等；\n",
                "3. ```src.HeisenbergModel``` - 生成海森堡模型；\n",
                "4. ```src.GDOpt``` - 梯度下降优化器。"
            ]
        },
        {
            "attachments": {},
            "cell_type": "markdown",
            "metadata": {},
            "source": [
                "## 2. 实现思路"
            ]
        },
        {
            "attachments": {},
            "cell_type": "markdown",
            "metadata": {},
            "source": [
                "这篇文章借助海森堡模型的基态求解问题，来分析梯度、两体纠缠熵、学习率三者之间的关系。我将这篇文章主要数值结果的实现逻辑分为如下三个部分，\n",
                "\n",
                "1. 根据图搭建海森堡模型\n",
                "2. 计算两体纠缠熵\n",
                "3. 梯度下降优化器\n",
                "\n",
                "**注：我原本写了个Adam优化器，后来发现没用到。这篇文章使用的是普通的固定学习率的梯度下降。*\n",
                "\n",
                "### 1. 根据图搭建海森堡模型\n",
                "由原文得到海森堡模型的哈密顿量为：\n",
                "$$\n",
                "H_{X X X}=\\sum_{i, j \\in V_{\\mathcal{G}}} J\\left(\\sigma_i^z \\sigma_j^z+\\sigma_i^y \\sigma_j^y+\\sigma_i^x \\sigma_j^x\\right)+h_z \\sum_{i=1}^N \\sigma_i^z\n",
                "$$\n",
                "其中在数值模拟中$J=h_z=1$，$V_{\\mathcal{G}}$是一个图 $\\mathcal{G}$ 的节点 (vertex) 的集合。这个$N$指的是总节点数，也就是模拟线路的比特数，子系统的比特数在这篇文章里用字母 $k$ 表示。根据这个我们可以通过```networkx```来生成一个图，再去遍历它的节点和边，生成海森堡模型的哈密顿量。主要实现逻辑如下：\n",
                "```python\n",
                ">>> from mindquantum import QubitOperator\n",
                ">>> import networkx as nx\n",
                ">>> J = 1\n",
                ">>> h_z = 1\n",
                ">>> graph = nx.random_graphs.random_regular_graph(2, 3) # 生成一个随机正则图\n",
                ">>> ham = QubitOperator()\n",
                ">>> for i in graph.edges: # 遍历边，添加磁矩间的相互作用\n",
                "...     ham += J * QubitOperator(f'X{i[0]} X{i[1]}')\n",
                "...     ham += J * QubitOperator(f'Y{i[0]} Y{i[1]}')\n",
                "...     ham += J * QubitOperator(f'Z{i[0]} Z{i[1]}')\n",
                "... \n",
                ">>> for i in graph.nodes: # 遍历节点，添加外磁场\n",
                "...     ham += h_z * QubitOperator(f'Z{i}')\n",
                "... \n",
                ">>> print(ham) # 展示\n",
                "1.0 [X0 X1] +\n",
                "1.0 [X0 X2] +\n",
                "1.0 [Y0 Y1] +\n",
                "1.0 [Y0 Y2] +\n",
                "1.0 [Z0] +\n",
                "1.0 [Z0 Z1] +\n",
                "1.0 [Z0 Z2] +\n",
                "1.0 [X1 X2] +\n",
                "1.0 [Y1 Y2] +\n",
                "1.0 [Z1] +\n",
                "1.0 [Z1 Z2] +\n",
                "1.0 [Z2]\n",
                "```\n",
                "\n",
                "核心逻辑就是这么多，我把这一堆东西封装成了一个叫 ```HeisenbergModel``` 的类，在这里大概展示一下，有注释的版本详见 ```src/HeisenbergModel.py```。\n",
                "\n",
                "```python\n",
                "from mindquantum import QubitOperator, Hamiltonian\n",
                "import networkx as nx\n",
                "\n",
                "class HeisenbergModel:\n",
                "\n",
                "    def __init__(self, J, h_z, graph: nx.Graph):\n",
                "        self.J = J\n",
                "        self.h_z = h_z\n",
                "        self.graph = graph\n",
                "        self.n_qubits = graph.number_of_nodes()\n",
                "\n",
                "    def ham(self) -> Hamiltonian:\n",
                "        ham = QubitOperator()\n",
                "        for i in self.graph.edges:\n",
                "            ham += self.J * QubitOperator(f'X{i[0]} X{i[1]}')\n",
                "            ham += self.J * QubitOperator(f'Y{i[0]} Y{i[1]}')\n",
                "            ham += self.J * QubitOperator(f'Z{i[0]} Z{i[1]}')\n",
                "        for i in self.graph.nodes:\n",
                "            ham += self.h_z * QubitOperator(f'Z{i}')\n",
                "        return Hamiltonian(ham)\n",
                "\n",
                "    def draw_graph(self) -> None:\n",
                "        nx.draw(self.graph)\n",
                "```\n",
                "\n",
                "### 2. 计算两体纠缠熵\n",
                "\n",
                "```mindquantum``` 主要由一个基于矢量的模拟器来实现量子态在量子线路中的演化，因此只能模拟纯态。如果想求两体纠缠熵不可避免的需要去求子系统的密度矩阵，这其中涉及一个偏迹 (partial trace) 这么一个指标缩并的操作。\n",
                "\n",
                "综上，分两步走，先计算全体系的密度矩阵 $\\rho=|\\psi\\rangle\\langle\\psi|$ ，其中$|\\psi\\rangle$可以通过 ```Simulator.get_qs()```方法得到，再通过 ```numpy.outer(psi,psi.conjugate())```就能得到 $\\rho$，注意到这是个纯态 $\\mathrm{rank}(\\rho)=1$。\n",
                "\n",
                "接着，我先办法写了个适配于```mindquantum```模拟器的求子系统密度矩阵的方法：\n",
                "\n",
                "```python\n",
                "import numpy as np\n",
                "\n",
                "def get_rs(rho: np.array, list_qubits2keep: list) -> np.array:\n",
                "    list_qubits2traceout = list(set(range(int(np.log2(len(rho))))) - set(list_qubits2keep))\n",
                "    counter_qubits = int(np.log2(len(rho)))\n",
                "    rho_tensor = rho.reshape((2, 2) * counter_qubits)\n",
                "    for i in list_qubits2traceout:\n",
                "        index2trace = i - list_qubits2traceout.index(i)\n",
                "        rho_tensor = np.trace(rho_tensor, axis1=counter_qubits - 1 - index2trace,\n",
                "                              axis2=2 * counter_qubits - 1 - index2trace)\n",
                "        counter_qubits += -1\n",
                "    rho_rs = rho_tensor.reshape(2 ** counter_qubits, 2 ** counter_qubits)\n",
                "    return rho_rs\n",
                "```\n",
                "\n",
                "这个方法主要基于```numpy.reshape()```和对不同轴的```numpy.trace()```，就是一堆繁琐的角标缩并的操作。我在这里简单测试一下这个方法，例如我们搭建一个这样的线路：\n",
                "```python\n",
                ">>> from mindquantum import Circuit, H, CNOT, Simulator\n",
                ">>> circ = Circuit([H.on(0), CNOT.on(1, 0)])\n",
                ">>> print(circ)\n",
                "q0: ──H────●──\n",
                "           │  \n",
                "q1: ───────X──\n",
                "```\n",
                "然后我们引入模拟器求出态矢量并做外积得到整个系统的密度矩阵\n",
                "```python\n",
                ">>> sim = Simulator('mqvector', 2)\n",
                ">>> sim.apply_circuit(circ)\n",
                ">>> psi = sim.get_qs()\n",
                ">>> import numpy as np\n",
                ">>> rho = np.outer(psi, psi.conjugate())\n",
                "```\n",
                "接着，比方说我们想得到比特位 ```q0``` 的约化密度矩阵，我们可以这样调用：\n",
                "```python\n",
                ">>> from src.entropy import get_rs\n",
                ">>> get_rs(rho, [0])\n",
                "array([[0.5+0.j, 0. +0.j],\n",
                "       [0. +0.j, 0.5+0.j]])\n",
                "```\n",
                "```get_qs()``` 传入的第一个参数是密度矩阵，第二个参数是待求子系统的indice组成的list。不难发现，这个贝尔态得到的第一个子系统的约化密度算子是个最大混态，即 $I/2$ 。\n",
                "\n",
                "求出约化密度算子以后，就非常容易去计算两体纠缠熵了，我简单把这几个方法列在这里，\n",
                "\n",
                "```python\n",
                "def purity(density_matrix):\n",
                "    \"\"\"\n",
                "    :param density_matrix: reduced density matrix to compute purity;\n",
                "    :return: purity = Tr(rho^2).\n",
                "    \"\"\"\n",
                "    rho2 = np.matmul(density_matrix, density_matrix)\n",
                "    return np.trace(rho2).real\n",
                "\n",
                "\n",
                "def s2(density_matrix):\n",
                "    \"\"\"\n",
                "    :param density_matrix: reduced density matrix to compute entropy;\n",
                "    :return: second Renyi entropy.\n",
                "    \"\"\"\n",
                "    rho2 = np.matmul(density_matrix, density_matrix)\n",
                "    return -np.log(np.trace(rho2)).real\n",
                "```\n",
                "还有一些其他方法，例如$S_{\\rm page}$，由于比较简单，也没有列在这里，详情见```src/entropy.py```\n",
                "### 3. 优化器\n",
                "\n",
                "优化器是最普通的梯度下降，核心是\n",
                "$$\n",
                "\\boldsymbol{\\theta}^{t+1}=\\boldsymbol{\\theta}^t-\\eta \\nabla_{\\boldsymbol{\\theta}} E(\\boldsymbol{\\theta})\n",
                "$$\n",
                "代码实现非常容易，核心代码就是：\n",
                "```python\n",
                "# Train 1 step.\n",
                "args += - eta * grad(args)\n",
                "```\n",
                "详情请见```src/GDOpt.py```。另外那个```AdamOpt.py```是个基于```Adam```的优化器，并且对学习率做了个线搜索，不需要手动设置学习率。\n",
                "\n",
                "### 4. 其他\n",
                "\n",
                "本文用的ansatz是随机线路，这是一种经典的用来展示 barren plateau 的 Hardware Efficient Ansatz，举个例子，```n=5```以及```p=1```时：\n",
                "```python\n",
                "q0: ──RY(π/4)────RZ(c(0,0))────Z───────────────────Z──\n",
                "                               │                   │\n",
                "q1: ──RY(π/4)────RY(c(0,1))────●────Z──────────────┼──\n",
                "                                    │              │\n",
                "q2: ──RY(π/4)────RY(c(0,2))─────────●────Z─────────┼──\n",
                "                                         │         │\n",
                "q3: ──RY(π/4)────RZ(c(0,3))──────────────●────Z────┼──\n",
                "                                              │    │\n",
                "q4: ──RY(π/4)────RY(c(0,4))───────────────────●────●──\n",
                "```\n",
                "\n",
                "这里所有的参数门是通过均匀地随机从 RX, RY, 和RZ中选择一个作用上去，其中```c(.,.)```就是参数名称。$R_Y(\\pi/4)^{\\otimes n}$部分是制备初态。这部分代码也比较简单所以不做赘述，详情请参考 ```src/circ.py```。\n",
                "\n",
                "至此，所有的准备工作都已经做完了，剩下的就是调用上面写好的方法和类来复现原文中的数值结果。"
            ]
        },
        {
            "attachments": {},
            "cell_type": "markdown",
            "metadata": {},
            "source": [
                "## 3. 测试"
            ]
        },
        {
            "attachments": {},
            "cell_type": "markdown",
            "metadata": {},
            "source": [
                "我们的主要目标是跟踪优化过程中这三个量的变化：1. 成本函数的值；2. 成本函数的梯度模长；3. 二阶瑞丽熵。因此我们可以简单地写一个返回分别由这三个值构成的list的方法："
            ]
        },
        {
            "cell_type": "code",
            "execution_count": 2,
            "metadata": {},
            "outputs": [],
            "source": [
                "def train(heisenberg_model: HeisenbergModel,\n",
                "          pqc: Circuit, \n",
                "          steps: int, \n",
                "          eta: float,\n",
                "          list_qubits2keep: list,\n",
                "          eps_theta: float = 0.05) -> tuple((list, list, list)):\n",
                "    ham = heisenberg_model.ham()\n",
                "    sim = Simulator('mqvector', heisenberg_model.n_qubits)\n",
                "    exp_with_grad = sim.get_expectation_with_grad(ham, pqc)\n",
                "\n",
                "    def func(args):\n",
                "        f, g = exp_with_grad(args)\n",
                "        return f[0, 0].real\n",
                "\n",
                "    def grad(args):\n",
                "        f, g = exp_with_grad(args)\n",
                "        return g[0, 0].real\n",
                "\n",
                "    args_init = (np.random.rand(len(pqc.params_name)) * 2 * np.pi - np.pi) * eps_theta\n",
                "    opt = GDOpt(func, grad, args_init, eta)\n",
                "    s2_list = []\n",
                "    grad_norm_list = []\n",
                "    for _ in trange(steps):\n",
                "        opt.one_step_opt()\n",
                "        grad_norm_list.append(np.linalg.norm(opt.grad(opt.args)))\n",
                "        sim_temp = Simulator('mqvector', heisenberg_model.n_qubits)\n",
                "        sim_temp.apply_circuit(pqc, opt.args)\n",
                "        rs = get_rs_from_sim(sim_temp, list_qubits2keep)\n",
                "        s2_list.append(s2(rs))\n",
                "    cost_list = opt.curve[1:]\n",
                "    return s2_list, cost_list, grad_norm_list"
            ]
        },
        {
            "attachments": {},
            "cell_type": "markdown",
            "metadata": {},
            "source": [
                "方便起见，我们测试一个简单的例子，看看和文章中的结果是否相符。"
            ]
        },
        {
            "cell_type": "code",
            "execution_count": 3,
            "metadata": {},
            "outputs": [
                {
                    "data": {
                        "image/svg+xml": [
                            "<svg xmlns=\"http://www.w3.org/2000/svg\" width=\"521.64\" height=\"293.0\">\n",
                            "<rect x=\"20\" y=\"10\" width=\"496.8\" height=\"260\" fill=\"#ffffff\" />\n",
                            "<text x=\"40.0\" y=\"50.0\" font-size=\"16px\" dominant-baseline=\"middle\" text-anchor=\"start\" font-family=\"Arial\" font-weight=\"normal\" fill=\"#252b3a\" >\n",
                            "q0:\n",
                            " </text>\n",
                            "<text x=\"40.0\" y=\"110.0\" font-size=\"16px\" dominant-baseline=\"middle\" text-anchor=\"start\" font-family=\"Arial\" font-weight=\"normal\" fill=\"#252b3a\" >\n",
                            "q1:\n",
                            " </text>\n",
                            "<text x=\"40.0\" y=\"170.0\" font-size=\"16px\" dominant-baseline=\"middle\" text-anchor=\"start\" font-family=\"Arial\" font-weight=\"normal\" fill=\"#252b3a\" >\n",
                            "q2:\n",
                            " </text>\n",
                            "<text x=\"40.0\" y=\"230.0\" font-size=\"16px\" dominant-baseline=\"middle\" text-anchor=\"start\" font-family=\"Arial\" font-weight=\"normal\" fill=\"#252b3a\" >\n",
                            "q3:\n",
                            " </text>\n",
                            "<line x1=\"68.8\" x2=\"496.8\" y1=\"50.0\" y2=\"50.0\" stroke=\"#adb0b8\" stroke-width=\"1\" />\n",
                            "<line x1=\"68.8\" x2=\"496.8\" y1=\"110.0\" y2=\"110.0\" stroke=\"#adb0b8\" stroke-width=\"1\" />\n",
                            "<line x1=\"68.8\" x2=\"496.8\" y1=\"170.0\" y2=\"170.0\" stroke=\"#adb0b8\" stroke-width=\"1\" />\n",
                            "<line x1=\"68.8\" x2=\"496.8\" y1=\"230.0\" y2=\"230.0\" stroke=\"#adb0b8\" stroke-width=\"1\" />\n",
                            "\n",
                            "<rect x=\"92.8\" y=\"30.0\" width=\"40.0\" height=\"40\" rx=\"4\" ry=\"4\" stroke=\"#ffffff\" stroke-width=\"0\" fill=\"#fac209\" fill-opacity=\"1\" />\n",
                            "<text x=\"112.8\" y=\"46.0\" font-size=\"20px\" dominant-baseline=\"middle\" text-anchor=\"middle\" font-family=\"Arial\" font-weight=\"normal\" fill=\"#ffffff\" >\n",
                            "RY\n",
                            " </text>\n",
                            "<text x=\"112.8\" y=\"62.0\" font-size=\"14.0px\" dominant-baseline=\"middle\" text-anchor=\"middle\" font-family=\"Arial\" font-weight=\"normal\" fill=\"#ffffff\" >\n",
                            "π/4\n",
                            " </text>\n",
                            "\n",
                            "\n",
                            "<rect x=\"92.8\" y=\"90.0\" width=\"40.0\" height=\"40\" rx=\"4\" ry=\"4\" stroke=\"#ffffff\" stroke-width=\"0\" fill=\"#fac209\" fill-opacity=\"1\" />\n",
                            "<text x=\"112.8\" y=\"106.0\" font-size=\"20px\" dominant-baseline=\"middle\" text-anchor=\"middle\" font-family=\"Arial\" font-weight=\"normal\" fill=\"#ffffff\" >\n",
                            "RY\n",
                            " </text>\n",
                            "<text x=\"112.8\" y=\"122.0\" font-size=\"14.0px\" dominant-baseline=\"middle\" text-anchor=\"middle\" font-family=\"Arial\" font-weight=\"normal\" fill=\"#ffffff\" >\n",
                            "π/4\n",
                            " </text>\n",
                            "\n",
                            "\n",
                            "<rect x=\"92.8\" y=\"150.0\" width=\"40.0\" height=\"40\" rx=\"4\" ry=\"4\" stroke=\"#ffffff\" stroke-width=\"0\" fill=\"#fac209\" fill-opacity=\"1\" />\n",
                            "<text x=\"112.8\" y=\"166.0\" font-size=\"20px\" dominant-baseline=\"middle\" text-anchor=\"middle\" font-family=\"Arial\" font-weight=\"normal\" fill=\"#ffffff\" >\n",
                            "RY\n",
                            " </text>\n",
                            "<text x=\"112.8\" y=\"182.0\" font-size=\"14.0px\" dominant-baseline=\"middle\" text-anchor=\"middle\" font-family=\"Arial\" font-weight=\"normal\" fill=\"#ffffff\" >\n",
                            "π/4\n",
                            " </text>\n",
                            "\n",
                            "\n",
                            "<rect x=\"92.8\" y=\"210.0\" width=\"40.0\" height=\"40\" rx=\"4\" ry=\"4\" stroke=\"#ffffff\" stroke-width=\"0\" fill=\"#fac209\" fill-opacity=\"1\" />\n",
                            "<text x=\"112.8\" y=\"226.0\" font-size=\"20px\" dominant-baseline=\"middle\" text-anchor=\"middle\" font-family=\"Arial\" font-weight=\"normal\" fill=\"#ffffff\" >\n",
                            "RY\n",
                            " </text>\n",
                            "<text x=\"112.8\" y=\"242.0\" font-size=\"14.0px\" dominant-baseline=\"middle\" text-anchor=\"middle\" font-family=\"Arial\" font-weight=\"normal\" fill=\"#ffffff\" >\n",
                            "π/4\n",
                            " </text>\n",
                            "\n",
                            "\n",
                            "<rect x=\"152.8\" y=\"30.0\" width=\"80.0\" height=\"40\" rx=\"4\" ry=\"4\" stroke=\"#ffffff\" stroke-width=\"0\" fill=\"#fac209\" fill-opacity=\"1\" />\n",
                            "<text x=\"192.8\" y=\"46.0\" font-size=\"20px\" dominant-baseline=\"middle\" text-anchor=\"middle\" font-family=\"Arial\" font-weight=\"normal\" fill=\"#ffffff\" >\n",
                            "RY\n",
                            " </text>\n",
                            "<text x=\"192.8\" y=\"62.0\" font-size=\"14.0px\" dominant-baseline=\"middle\" text-anchor=\"middle\" font-family=\"Arial\" font-weight=\"normal\" fill=\"#ffffff\" >\n",
                            "c(0,0)\n",
                            " </text>\n",
                            "\n",
                            "\n",
                            "<rect x=\"152.8\" y=\"90.0\" width=\"80.0\" height=\"40\" rx=\"4\" ry=\"4\" stroke=\"#ffffff\" stroke-width=\"0\" fill=\"#fac209\" fill-opacity=\"1\" />\n",
                            "<text x=\"192.8\" y=\"106.0\" font-size=\"20px\" dominant-baseline=\"middle\" text-anchor=\"middle\" font-family=\"Arial\" font-weight=\"normal\" fill=\"#ffffff\" >\n",
                            "RX\n",
                            " </text>\n",
                            "<text x=\"192.8\" y=\"122.0\" font-size=\"14.0px\" dominant-baseline=\"middle\" text-anchor=\"middle\" font-family=\"Arial\" font-weight=\"normal\" fill=\"#ffffff\" >\n",
                            "c(0,1)\n",
                            " </text>\n",
                            "\n",
                            "\n",
                            "<rect x=\"152.8\" y=\"150.0\" width=\"80.0\" height=\"40\" rx=\"4\" ry=\"4\" stroke=\"#ffffff\" stroke-width=\"0\" fill=\"#fac209\" fill-opacity=\"1\" />\n",
                            "<text x=\"192.8\" y=\"166.0\" font-size=\"20px\" dominant-baseline=\"middle\" text-anchor=\"middle\" font-family=\"Arial\" font-weight=\"normal\" fill=\"#ffffff\" >\n",
                            "RX\n",
                            " </text>\n",
                            "<text x=\"192.8\" y=\"182.0\" font-size=\"14.0px\" dominant-baseline=\"middle\" text-anchor=\"middle\" font-family=\"Arial\" font-weight=\"normal\" fill=\"#ffffff\" >\n",
                            "c(0,2)\n",
                            " </text>\n",
                            "\n",
                            "\n",
                            "<rect x=\"152.8\" y=\"210.0\" width=\"80.0\" height=\"40\" rx=\"4\" ry=\"4\" stroke=\"#ffffff\" stroke-width=\"0\" fill=\"#fac209\" fill-opacity=\"1\" />\n",
                            "<text x=\"192.8\" y=\"226.0\" font-size=\"20px\" dominant-baseline=\"middle\" text-anchor=\"middle\" font-family=\"Arial\" font-weight=\"normal\" fill=\"#ffffff\" >\n",
                            "RZ\n",
                            " </text>\n",
                            "<text x=\"192.8\" y=\"242.0\" font-size=\"14.0px\" dominant-baseline=\"middle\" text-anchor=\"middle\" font-family=\"Arial\" font-weight=\"normal\" fill=\"#ffffff\" >\n",
                            "c(0,3)\n",
                            " </text>\n",
                            "\n",
                            "<circle cx=\"272.8\" cy=\"110.0\" r=\"4\" fill=\"#5e7ce0\" />\n",
                            "<line x1=\"272.8\" x2=\"272.8\" y1=\"50.0\" y2=\"110.0\" stroke=\"#5e7ce0\" stroke-width=\"3\" />\n",
                            "<rect x=\"252.8\" y=\"30.0\" width=\"40.0\" height=\"40\" rx=\"4\" ry=\"4\" stroke=\"#ffffff\" stroke-width=\"0\" fill=\"#5e7ce0\" fill-opacity=\"1\" />\n",
                            "<text x=\"272.8\" y=\"50.0\" font-size=\"20px\" dominant-baseline=\"middle\" text-anchor=\"middle\" font-family=\"Arial\" font-weight=\"normal\" fill=\"#ffffff\" >\n",
                            "Z\n",
                            " </text>\n",
                            "\n",
                            "<circle cx=\"332.8\" cy=\"170.0\" r=\"4\" fill=\"#5e7ce0\" />\n",
                            "<line x1=\"332.8\" x2=\"332.8\" y1=\"110.0\" y2=\"170.0\" stroke=\"#5e7ce0\" stroke-width=\"3\" />\n",
                            "<rect x=\"312.8\" y=\"90.0\" width=\"40.0\" height=\"40\" rx=\"4\" ry=\"4\" stroke=\"#ffffff\" stroke-width=\"0\" fill=\"#5e7ce0\" fill-opacity=\"1\" />\n",
                            "<text x=\"332.8\" y=\"110.0\" font-size=\"20px\" dominant-baseline=\"middle\" text-anchor=\"middle\" font-family=\"Arial\" font-weight=\"normal\" fill=\"#ffffff\" >\n",
                            "Z\n",
                            " </text>\n",
                            "\n",
                            "<circle cx=\"392.8\" cy=\"230.0\" r=\"4\" fill=\"#5e7ce0\" />\n",
                            "<line x1=\"392.8\" x2=\"392.8\" y1=\"170.0\" y2=\"230.0\" stroke=\"#5e7ce0\" stroke-width=\"3\" />\n",
                            "<rect x=\"372.8\" y=\"150.0\" width=\"40.0\" height=\"40\" rx=\"4\" ry=\"4\" stroke=\"#ffffff\" stroke-width=\"0\" fill=\"#5e7ce0\" fill-opacity=\"1\" />\n",
                            "<text x=\"392.8\" y=\"170.0\" font-size=\"20px\" dominant-baseline=\"middle\" text-anchor=\"middle\" font-family=\"Arial\" font-weight=\"normal\" fill=\"#ffffff\" >\n",
                            "Z\n",
                            " </text>\n",
                            "\n",
                            "<circle cx=\"452.8\" cy=\"230.0\" r=\"4\" fill=\"#5e7ce0\" />\n",
                            "<line x1=\"452.8\" x2=\"452.8\" y1=\"50.0\" y2=\"230.0\" stroke=\"#5e7ce0\" stroke-width=\"3\" />\n",
                            "<rect x=\"432.8\" y=\"30.0\" width=\"40.0\" height=\"40\" rx=\"4\" ry=\"4\" stroke=\"#ffffff\" stroke-width=\"0\" fill=\"#5e7ce0\" fill-opacity=\"1\" />\n",
                            "<text x=\"452.8\" y=\"50.0\" font-size=\"20px\" dominant-baseline=\"middle\" text-anchor=\"middle\" font-family=\"Arial\" font-weight=\"normal\" fill=\"#ffffff\" >\n",
                            "Z\n",
                            " </text>\n",
                            "\n",
                            "</svg>"
                        ],
                        "text/plain": [
                            "<mindquantum.io.display.circuit_svg_drawer.SVGCircuit at 0x195166c6a88>"
                        ]
                    },
                    "execution_count": 3,
                    "metadata": {},
                    "output_type": "execute_result"
                }
            ],
            "source": [
                "'''\n",
                "先搭建一个比特数为4、层数为6的线路，并打印出这个线路的前12个量子门。\n",
                "'''\n",
                "n = 4\n",
                "p = 6\n",
                "circ = init_state(n) + bpansatz(n, p)\n",
                "circ[:12].svg()"
            ]
        },
        {
            "attachments": {},
            "cell_type": "markdown",
            "metadata": {},
            "source": [
                "接着我们创建一个度为2、4个节点的随机正则图"
            ]
        },
        {
            "cell_type": "code",
            "execution_count": 4,
            "metadata": {},
            "outputs": [
                {
                    "data": {
                        "image/png": "[encoded data removed]",
                        "text/plain": [
                            "<Figure size 432x288 with 1 Axes>"
                        ]
                    },
                    "metadata": {},
                    "output_type": "display_data"
                }
            ],
            "source": [
                "graph = nx.random_graphs.random_regular_graph(2, n)\n",
                "nx.draw(graph)"
            ]
        },
        {
            "attachments": {},
            "cell_type": "markdown",
            "metadata": {},
            "source": [
                "接着，我们调用刚才写好的```train()```方法"
            ]
        },
        {
            "cell_type": "code",
            "execution_count": 5,
            "metadata": {},
            "outputs": [
                {
                    "name": "stderr",
                    "output_type": "stream",
                    "text": [
                        "100%|██████████| 100/100 [00:05<00:00, 16.95it/s]\n"
                    ]
                }
            ],
            "source": [
                "s2list, costlist, gradlist = train(\n",
                "            HeisenbergModel(1, 1, graph=graph),\n",
                "            circ,\n",
                "            steps=100,\n",
                "            eta=1e-1,\n",
                "            list_qubits2keep=[0, 1],\n",
                "        )"
            ]
        },
        {
            "attachments": {},
            "cell_type": "markdown",
            "metadata": {},
            "source": [
                "接着使用```matplotlib.pyplot```绘图"
            ]
        },
        {
            "cell_type": "code",
            "execution_count": 6,
            "metadata": {},
            "outputs": [
                {
                    "data": {
                        "text/plain": [
                            "<matplotlib.legend.Legend at 0x19516d42c08>"
                        ]
                    },
                    "execution_count": 6,
                    "metadata": {},
                    "output_type": "execute_result"
                },
                {
                    "data": {
                        "image/png": "[encoded data removed]",
                        "text/plain": [
                            "<Figure size 432x864 with 3 Axes>"
                        ]
                    },
                    "metadata": {
                        "needs_background": "light"
                    },
                    "output_type": "display_data"
                }
            ],
            "source": [
                "fig, axs = plt.subplots(3, figsize=(6, 12))\n",
                "axs[0].plot(np.array(s2list) / (s_page(2, 6)), label=(r'$\\eta=$' + f'{1e-1}'))\n",
                "axs[1].plot(costlist)\n",
                "axs[2].plot(gradlist)\n",
                "axs[0].set(ylabel=r'$S_2 / S_{page}$',\n",
                "               ylim=(0, 1))\n",
                "axs[1].set(ylabel=r'Energy $E$')\n",
                "axs[2].set(ylabel=r'$\\Vert \\nabla_\\theta E \\Vert$',\n",
                "            xlabel='Iterations')\n",
                "axs[0].legend(loc='upper right')"
            ]
        },
        {
            "attachments": {},
            "cell_type": "markdown",
            "metadata": {},
            "source": [
                "受限于```notebook```的运行时长，文章的主要复现结果存放在```images```目录中，结果展示在```README.md```的结尾。"
            ]
        }
    ],
    "metadata": {
        "kernelspec": {
            "display_name": "mindspore_py37",
            "language": "python",
            "name": "python3"
        },
        "language_info": {
            "codemirror_mode": {
                "name": "ipython",
                "version": 3
            },
            "file_extension": ".py",
            "mimetype": "text/x-python",
            "name": "python",
            "nbconvert_exporter": "python",
            "pygments_lexer": "ipython3",
            "version": "3.7.5"
        },
        "orig_nbformat": 4,
        "vscode": {
            "interpreter": {
                "hash": "ff2e2ed10da1e205140056546ce1c6d02060cde239ab3cf5b9576bbce55b3afb"
            }
        }
    },
    "nbformat": 4,
    "nbformat_minor": 2
}
