{
 "cells": [
  {
   "attachments": {},
   "cell_type": "markdown",
   "metadata": {},
   "source": [
    "# 海森堡模型的求解和纠缠熵的计算\n",
    "\n",
    "[![下载Notebook](https://mindspore-website.obs.cn-north-4.myhuaweicloud.com/website-images/master/resource/_static/logo_notebook.png)](https://mindspore-website.obs.cn-north-4.myhuaweicloud.com/notebook/master/mindquantum/zh_cn/mindspore_heisenberg_model_and_entanglement.ipynb)&emsp;\n",
    "[![下载样例代码](https://mindspore-website.obs.cn-north-4.myhuaweicloud.com/website-images/master/resource/_static/logo_download_code.png)](https://mindspore-website.obs.cn-north-4.myhuaweicloud.com/notebook/master/mindquantum/zh_cn/mindspore_heisenberg_model_and_entanglement.py)&emsp;\n",
    "[![查看源文件](https://mindspore-website.obs.cn-north-4.myhuaweicloud.com/website-images/master/resource/_static/logo_source.png)](https://gitee.com/mindspore/docs/blob/master/docs/mindquantum/docs/source_zh_cn/mindspore_heisenberg_model_and_entanglement.ipynb)"
   ]
  },
  {
   "attachments": {},
   "cell_type": "markdown",
   "metadata": {},
   "source": [
    "## 概述\n",
    "海森堡模型（英语：Heisenberg model）是一个自旋系统的统计力学的模型，常被用来研究磁性系统和强关联电子系统中的相变与临界点的现象。在变分量子线路的研究中，海森堡模型因为其清晰、简洁的物理图景，一直是比较热门的话题。\n",
    "\n",
    "本文将从海森堡模型出发，按照如下三个部分展开，探讨海森堡模型的优化过程各个参量的变化，包括纠缠熵、梯度模长等。\n",
    "\n",
    "- 搭建海森堡模型；\n",
    "- 纠缠熵的计算；\n",
    "- 优化算法与验证。"
   ]
  },
  {
   "attachments": {},
   "cell_type": "markdown",
   "metadata": {},
   "source": [
    "## 根据图搭建海森堡模型"
   ]
  },
  {
   "attachments": {},
   "cell_type": "markdown",
   "metadata": {},
   "source": [
    "我们知道，海森堡模型的哈密顿量为：\n",
    "$$\n",
    "H=\\sum_{i, j \\in V_{\\mathcal{G}}} J\\left(\\sigma_i^z \\sigma_j^z+\\sigma_i^y \\sigma_j^y+\\sigma_i^x \\sigma_j^x\\right)+h_z \\sum_{i=1}^N \\sigma_i^z\n",
    "$$\n",
    "其中$V_{\\mathcal{G}}$是表示一个图 $\\mathcal{G}$ 的节点 (vertex) 的集合。第二个求和号上的$N$指的是总节点数，也就是模拟线路的比特数。根据这个我们可以通过```networkx```来生成一个图，再去遍历它的节点和边，生成海森堡模型的哈密顿量。"
   ]
  },
  {
   "attachments": {},
   "cell_type": "markdown",
   "metadata": {},
   "source": [
    "首先导入需要的包"
   ]
  },
  {
   "cell_type": "code",
   "execution_count": 1,
   "metadata": {},
   "outputs": [],
   "source": [
    "import networkx as nx\n",
    "from mindquantum import QubitOperator, Hamiltonian"
   ]
  },
  {
   "attachments": {},
   "cell_type": "markdown",
   "metadata": {},
   "source": [
    "接着，为了方便演示，使用`networkx`生成一个随机的正则图："
   ]
  },
  {
   "cell_type": "code",
   "execution_count": 2,
   "metadata": {},
   "outputs": [
    {
     "data": {
      "image/png": "[encoded data removed]",
      "text/plain": [
       "<Figure size 640x480 with 1 Axes>"
      ]
     },
     "metadata": {},
     "output_type": "display_data"
    }
   ],
   "source": [
    "graph = nx.random_graphs.random_regular_graph(2, 3) # 生成一个随机正则图\n",
    "nx.draw(graph) #绘制图形"
   ]
  },
  {
   "attachments": {},
   "cell_type": "markdown",
   "metadata": {},
   "source": [
    "接下来，我们把海森堡模型的公式套用进去，具体操作就是（假设$J=h_z=1$）"
   ]
  },
  {
   "cell_type": "code",
   "execution_count": 3,
   "metadata": {},
   "outputs": [
    {
     "name": "stdout",
     "output_type": "stream",
     "text": [
      "1 [X0 X1] +\n",
      "1 [Y0 Y1] +\n",
      "1 [Z0 Z1] +\n",
      "1 [X0 X2] +\n",
      "1 [Y0 Y2] +\n",
      "1 [Z0 Z2] +\n",
      "1 [X1 X2] +\n",
      "1 [Y1 Y2] +\n",
      "1 [Z1 Z2] +\n",
      "1 [Z0] +\n",
      "1 [Z1] +\n",
      "1 [Z2] \n"
     ]
    }
   ],
   "source": [
    "J = 1\n",
    "h_z = 1\n",
    "ham = QubitOperator()\n",
    "for i in graph.edges: # 遍历图形的边，添加磁矩间的相互作用\n",
    "    ham += J * QubitOperator(f'X{i[0]} X{i[1]}')\n",
    "    ham += J * QubitOperator(f'Y{i[0]} Y{i[1]}')\n",
    "    ham += J * QubitOperator(f'Z{i[0]} Z{i[1]}')\n",
    "\n",
    "for i in graph.nodes: # 遍历图形的节点，添加外磁场\n",
    "    ham += h_z * QubitOperator(f'Z{i}')\n",
    "\n",
    "print(ham) #打印哈密顿量"
   ]
  },
  {
   "attachments": {},
   "cell_type": "markdown",
   "metadata": {},
   "source": [
    "海森堡模型的哈密顿量搭建的核心逻辑我们已经搞清楚了，接下来，方便起见，我们可以把这些操作封装成一个类："
   ]
  },
  {
   "cell_type": "code",
   "execution_count": 4,
   "metadata": {},
   "outputs": [],
   "source": [
    "class HeisenbergModel:\n",
    "    \n",
    "    def __init__(self, J, h_z, graph: nx.Graph):\n",
    "        self.J = J\n",
    "        self.h_z = h_z\n",
    "        self.graph = graph\n",
    "        self.n_qubits = graph.number_of_nodes()\n",
    "\n",
    "    def ham(self) -> Hamiltonian:\n",
    "        ham = QubitOperator()\n",
    "        for i in self.graph.edges:\n",
    "            ham += self.J * QubitOperator(f'X{i[0]} X{i[1]}')\n",
    "            ham += self.J * QubitOperator(f'Y{i[0]} Y{i[1]}')\n",
    "            ham += self.J * QubitOperator(f'Z{i[0]} Z{i[1]}')\n",
    "        for i in self.graph.nodes:\n",
    "            ham += self.h_z * QubitOperator(f'Z{i}')\n",
    "        return Hamiltonian(ham)\n",
    "\n",
    "    def draw_graph(self) -> None:\n",
    "        nx.draw(self.graph)"
   ]
  },
  {
   "attachments": {},
   "cell_type": "markdown",
   "metadata": {},
   "source": [
    "## 计算两体纠缠熵"
   ]
  },
  {
   "attachments": {},
   "cell_type": "markdown",
   "metadata": {},
   "source": [
    "```mindquantum``` 主要由一个基于矢量的模拟器来实现量子态在量子线路中的演化，因此只能模拟纯态。如果想求两体纠缠熵不可避免的需要去求子系统的密度矩阵，这其中涉及一个偏迹 (partial trace) 这么一个指标缩并的操作。\n",
    "\n",
    "综上，分两步走，先计算全体系的密度矩阵 $\\rho=|\\psi\\rangle\\langle\\psi|$ ，其中$|\\psi\\rangle$可以通过 ```Simulator.get_qs()```方法得到，再通过 ```numpy.outer(psi,psi.conjugate())```就能得到 $\\rho$，注意到这是个纯态 $\\mathrm{rank}(\\rho)=1$。\n",
    "\n",
    "接着，下面是一个适配于```mindquantum```模拟器的求子系统密度矩阵的方法："
   ]
  },
  {
   "cell_type": "code",
   "execution_count": 5,
   "metadata": {},
   "outputs": [],
   "source": [
    "import numpy as np\n",
    "\n",
    "def get_rs(rho: np.array, list_qubits2keep: list) -> np.array:\n",
    "    list_qubits2traceout = list(set(range(int(np.log2(len(rho))))) - set(list_qubits2keep))\n",
    "    counter_qubits = int(np.log2(len(rho)))\n",
    "    rho_tensor = rho.reshape((2, 2) * counter_qubits)\n",
    "    for i in list_qubits2traceout:\n",
    "        index2trace = i - list_qubits2traceout.index(i)\n",
    "        rho_tensor = np.trace(rho_tensor, axis1=counter_qubits - 1 - index2trace,\n",
    "                              axis2=2 * counter_qubits - 1 - index2trace)\n",
    "        counter_qubits += -1\n",
    "    rho_rs = rho_tensor.reshape(2 ** counter_qubits, 2 ** counter_qubits)\n",
    "    return rho_rs"
   ]
  },
  {
   "attachments": {},
   "cell_type": "markdown",
   "metadata": {},
   "source": [
    "这个方法主要基于```numpy.reshape()```和对不同轴的```numpy.trace()```，就是一堆繁琐的角标缩并的操作，看起来代码很多但是信息量不小，容易看晕，读者大可复制粘贴把这段代码当黑箱子用。我在这里简单测试一下这个方法，例如我们搭建一个这样的线路："
   ]
  },
  {
   "cell_type": "code",
   "execution_count": 6,
   "metadata": {},
   "outputs": [
    {
     "data": {
      "image/svg+xml": "<div class=\"nb-html-output output_area\"><svg xmlns=\"http://www.w3.org/2000/svg\" width=\"216.8\" height=\"140.0\" xmlns:xlink=\"http://www.w3.org/1999/xlink\">\n<rect x=\"0\" y=\"0.0\" width=\"216.8\" height=\"140.0\" fill=\"#ffffff\" />\n<text x=\"20.0\" y=\"40.0\" font-size=\"16px\" dominant-baseline=\"middle\" text-anchor=\"start\" font-family=\"Arial\" font-weight=\"normal\" fill=\"#252b3a\" >\nq0:\n </text>\n<text x=\"20.0\" y=\"100.0\" font-size=\"16px\" dominant-baseline=\"middle\" text-anchor=\"start\" font-family=\"Arial\" font-weight=\"normal\" fill=\"#252b3a\" >\nq1:\n </text>\n<line x1=\"48.8\" x2=\"196.8\" y1=\"40.0\" y2=\"40.0\" stroke=\"#adb0b8\" stroke-width=\"1\" />\n<line x1=\"48.8\" x2=\"196.8\" y1=\"100.0\" y2=\"100.0\" stroke=\"#adb0b8\" stroke-width=\"1\" />\n\n<rect x=\"72.8\" y=\"20.0\" width=\"40.0\" height=\"40\" rx=\"4\" ry=\"4\" stroke=\"#ffffff\" stroke-width=\"0\" fill=\"#5e7ce0\" fill-opacity=\"1\" />\n<text x=\"92.8\" y=\"40.0\" font-size=\"20px\" dominant-baseline=\"middle\" text-anchor=\"middle\" font-family=\"Arial\" font-weight=\"normal\" fill=\"#ffffff\" >\nH\n </text>\n\n<circle cx=\"152.8\" cy=\"40.0\" r=\"4\" fill=\"#16acff\" />\n<line x1=\"152.8\" x2=\"152.8\" y1=\"40.0\" y2=\"100.0\" stroke=\"#16acff\" stroke-width=\"3\" />\n<rect x=\"132.8\" y=\"80.0\" width=\"40\" height=\"40\" rx=\"4\" ry=\"4\" stroke=\"#ffffff\" stroke-width=\"0\" fill=\"#16acff\" fill-opacity=\"1\" />\n<line x1=\"138.8\" x2=\"166.8\" y1=\"100.0\" y2=\"100.0\" stroke=\"#ffffff\" stroke-width=\"4\" />\n<line x1=\"152.8\" x2=\"152.8\" y1=\"86.0\" y2=\"114.0\" stroke=\"#ffffff\" stroke-width=\"4\" />\n</svg></div>",
      "text/plain": [
       "<mindquantum.io.display.circuit_svg_drawer.SVGCircuit at 0x1f7f1a6df70>"
      ]
     },
     "execution_count": 6,
     "metadata": {},
     "output_type": "execute_result"
    }
   ],
   "source": [
    "from mindquantum import Circuit, H, CNOT, Simulator\n",
    "\n",
    "circ = Circuit([H.on(0), CNOT.on(1, 0)])\n",
    "circ.svg()"
   ]
  },
  {
   "attachments": {},
   "cell_type": "markdown",
   "metadata": {},
   "source": [
    "这是一个典型的制备贝尔态的线路，我们引入模拟器求出态矢量并做外积就能得到整个系统的密度矩阵，如下："
   ]
  },
  {
   "cell_type": "code",
   "execution_count": 7,
   "metadata": {},
   "outputs": [],
   "source": [
    "sim = Simulator('mqvector', 2)\n",
    "sim.apply_circuit(circ)\n",
    "psi = sim.get_qs()\n",
    "rho = np.outer(psi, psi.conjugate())"
   ]
  },
  {
   "attachments": {},
   "cell_type": "markdown",
   "metadata": {},
   "source": [
    "`rho`就是整个系统的密度矩阵。接着，加入我们想得到`q0`位置的约化密度矩阵，我们可以这样调用`get_qs`"
   ]
  },
  {
   "cell_type": "code",
   "execution_count": 8,
   "metadata": {},
   "outputs": [
    {
     "data": {
      "text/plain": [
       "array([[0.5+0.j, 0. +0.j],\n",
       "       [0. +0.j, 0.5+0.j]])"
      ]
     },
     "execution_count": 8,
     "metadata": {},
     "output_type": "execute_result"
    }
   ],
   "source": [
    "get_rs(rho, [0])"
   ]
  },
  {
   "attachments": {},
   "cell_type": "markdown",
   "metadata": {},
   "source": [
    "`get_qs()` 传入的第一个参数是密度矩阵，第二个参数是待求子系统的角标组成的列表。不难发现，这个贝尔态得到的第一个子系统的约化密度算子是个最大混态，即 $I/2$ 。"
   ]
  },
  {
   "attachments": {},
   "cell_type": "markdown",
   "metadata": {},
   "source": [
    "求出约化密度算子以后，就非常容易去计算两体纠缠熵了，我简单把这几个方法列在这里，"
   ]
  },
  {
   "cell_type": "code",
   "execution_count": 9,
   "metadata": {},
   "outputs": [],
   "source": [
    "def purity(density_matrix):\n",
    "    \"\"\"\n",
    "    :param density_matrix: reduced density matrix to compute purity;\n",
    "    :return: purity = Tr(rho^2).\n",
    "    \"\"\"\n",
    "    rho2 = np.matmul(density_matrix, density_matrix)\n",
    "    return np.trace(rho2).real\n",
    "\n",
    "\n",
    "def s2(density_matrix):\n",
    "    \"\"\"\n",
    "    :param density_matrix: reduced density matrix to compute entropy;\n",
    "    :return: second Renyi entropy.\n",
    "    \"\"\"\n",
    "    rho2 = np.matmul(density_matrix, density_matrix)\n",
    "    return -np.log(np.trace(rho2)).real\n",
    "\n",
    "def get_rs_from_sim(sim_, list_qubits2keep):\n",
    "    qs = sim_.get_qs()\n",
    "    rho = np.outer(qs, qs.conjugate())\n",
    "    reduced_state = get_rs(rho, list_qubits2keep)\n",
    "    return reduced_state\n",
    "\n",
    "\n",
    "def s_page(n_subsys, n_sys) -> float:\n",
    "    \"\"\"\n",
    "    Get the approximate page entropy in the limit dim_sys >> dim_subsys.\n",
    "    :param n_subsys: the number of qubits of subsystem;\n",
    "    :param n_sys: the number of qubits of system;\n",
    "    :return: the page entropy.\n",
    "    \"\"\"\n",
    "    k = n_subsys\n",
    "    N = n_sys\n",
    "    return k * np.log(2) - 1 / 2 ** (N - 2 * k + 1)"
   ]
  },
  {
   "attachments": {},
   "cell_type": "markdown",
   "metadata": {},
   "source": [
    "`purity`是用来算纯度的，我们知道纯度等于$\\mathrm{Tr}(\\rho^2)$，所以我们只需要计算约化密度矩阵的平方，再求迹即可。`s2`为二阶瑞丽熵(2nd order Renyi entropy)，等于对纯度取负log。以上列出的方法互相之间没有依赖关系，可以随意挑选复制到任何地方使用。"
   ]
  },
  {
   "attachments": {},
   "cell_type": "markdown",
   "metadata": {},
   "source": [
    "## 使用优化算法求解海森堡模型"
   ]
  },
  {
   "attachments": {},
   "cell_type": "markdown",
   "metadata": {},
   "source": [
    "我们可以写一个最简单的梯度下降算法来优化我们的模型，梯度下降的核心是\n",
    "$$\n",
    "\\boldsymbol{\\theta}^{t+1}=\\boldsymbol{\\theta}^t-\\eta \\nabla_{\\boldsymbol{\\theta}} E(\\boldsymbol{\\theta})\n",
    "$$\n",
    "代码实现非常容易，核心就是每一步迭代的时候根据梯度更新参数值：\n",
    "```python\n",
    "# Train 1 step.\n",
    "args += - eta * grad(args)\n",
    "```\n",
    "根据这个原理，我们可以写一个类来执行梯度下降算法，并且封装一个绘制优化过程的方法："
   ]
  },
  {
   "cell_type": "code",
   "execution_count": 10,
   "metadata": {},
   "outputs": [],
   "source": [
    "import matplotlib.pyplot as plt\n",
    "\n",
    "\n",
    "class GDOpt:\n",
    "\n",
    "    def __init__(self, func, grad, args_init: np.array, eta: float):\n",
    "        self.func = func\n",
    "        self.grad = grad\n",
    "        self.args_init = args_init\n",
    "        self.args = args_init\n",
    "        self.curve = [self.func(self.args_init)]\n",
    "        self.eta = eta\n",
    "\n",
    "    def one_step_opt(self) -> None:\n",
    "        \"\"\"\n",
    "        Train 1 step.\n",
    "        \"\"\"\n",
    "        self.args += - self.eta * self.grad(self.args)\n",
    "        self.curve.append(self.func(self.args))\n",
    "\n",
    "    def multi_step_opt(self, steps: int) -> None:\n",
    "        \"\"\"\n",
    "        Train multiple times.\n",
    "        :param steps: training steps.\n",
    "        \"\"\"\n",
    "        for _ in range(steps):\n",
    "            self.one_step_opt()\n",
    "\n",
    "    def plotCurve(self, y: str = None, saveas: str = None) -> None:\n",
    "        \"\"\"\n",
    "        :param y: name of y axis;\n",
    "        :param saveas: file name to save as *.pdf;\n",
    "        \"\"\"\n",
    "        fig, axe = plt.subplots(1)\n",
    "        axe.plot(self.curve)\n",
    "        axe.set(xlabel='Steps', ylabel=y)\n",
    "        if saveas is not None:\n",
    "            plt.savefig(saveas + '.pdf')\n",
    "        else:\n",
    "            pass\n",
    "        plt.show()"
   ]
  },
  {
   "attachments": {},
   "cell_type": "markdown",
   "metadata": {},
   "source": [
    "接下来，我们可以使用上面所列出的方法复现一下这篇文章里的内容 [PRXQuantum.3.020365](https://journals.aps.org/prxquantum/abstract/10.1103/PRXQuantum.3.020365)。根据这篇文章，我们的主要目标是跟踪优化过程中这三个量的变化：1. 成本函数的值；2. 成本函数的梯度模长；3. 二阶瑞丽熵。因此我们可以简单地写一个返回分别由这三个值构成的list的方法："
   ]
  },
  {
   "cell_type": "code",
   "execution_count": 11,
   "metadata": {},
   "outputs": [],
   "source": [
    "from tqdm import trange # 引一个可以打印进度条的包\n",
    "\n",
    "def train(heisenberg_model: HeisenbergModel,\n",
    "          pqc: Circuit, \n",
    "          steps: int, \n",
    "          eta: float,\n",
    "          list_qubits2keep: list,\n",
    "          eps_theta: float = 0.05) -> tuple((list, list, list)):\n",
    "    ham = heisenberg_model.ham()\n",
    "    sim = Simulator('mqvector', heisenberg_model.n_qubits)\n",
    "    exp_with_grad = sim.get_expectation_with_grad(ham, pqc)\n",
    "\n",
    "    def func(args):\n",
    "        f, g = exp_with_grad(args)\n",
    "        return f[0, 0].real\n",
    "\n",
    "    def grad(args):\n",
    "        f, g = exp_with_grad(args)\n",
    "        return g[0, 0].real\n",
    "    \n",
    "    args_init = (np.random.rand(len(pqc.params_name)) * 2 * np.pi - np.pi) * eps_theta\n",
    "    opt = GDOpt(func, grad, args_init, eta)\n",
    "    s2_list = []\n",
    "    grad_norm_list = []\n",
    "    for _ in trange(steps):\n",
    "        opt.one_step_opt()\n",
    "        grad_norm_list.append(np.linalg.norm(opt.grad(opt.args)))\n",
    "        sim_temp = Simulator('mqvector', heisenberg_model.n_qubits)\n",
    "        sim_temp.apply_circuit(pqc, opt.args)\n",
    "        rs = get_rs_from_sim(sim_temp, list_qubits2keep)\n",
    "        s2_list.append(s2(rs))\n",
    "    cost_list = opt.curve[1:]\n",
    "    return s2_list, cost_list, grad_norm_list"
   ]
  },
  {
   "attachments": {},
   "cell_type": "markdown",
   "metadata": {},
   "source": [
    "方便起见，我们测试一个简单的例子，看看和文章中的结果是否相符。"
   ]
  },
  {
   "attachments": {},
   "cell_type": "markdown",
   "metadata": {},
   "source": [
    "首先我们先解决搭建线路的问题，这里只是举个例子，采用了随机线路，通过下面的`bpansatz`来产生："
   ]
  },
  {
   "cell_type": "code",
   "execution_count": 12,
   "metadata": {},
   "outputs": [],
   "source": [
    "from mindquantum import RX, RY, RZ, Z, UN\n",
    "\n",
    "\n",
    "def RP(rotation_angle):\n",
    "    \"\"\"\n",
    "    :param rotation_angle: parameter of the gate;\n",
    "    :return: randomly return one of RX, RY, and RZ with equal probability.\n",
    "    \"\"\"\n",
    "    a = np.random.randint(0, 3)\n",
    "    if a == 0:\n",
    "        return RX(rotation_angle)\n",
    "    elif a == 1:\n",
    "        return RY(rotation_angle)\n",
    "    elif a == 2:\n",
    "        return RZ(rotation_angle)\n",
    "    else:\n",
    "        print(\"error in random Pauli gates\")\n",
    "\n",
    "\n",
    "def bpansatz(n, p):\n",
    "    \"\"\"\n",
    "    :param n: number of qubits;\n",
    "    :param p: number of layers;\n",
    "    :return: an 1 dimensional random circuit with n qubits and p layers.\n",
    "    \"\"\"\n",
    "    qc = Circuit()\n",
    "    for j in range(p):\n",
    "        for i in range(n):\n",
    "            qc += RP(f'c({j},{i})').on(i)\n",
    "        for ii in range(n - 1):\n",
    "            qc += Z(ii, ii + 1)\n",
    "        qc += Z(0, n-1)\n",
    "    return qc\n",
    "\n",
    "\n",
    "def init_state(n):\n",
    "    \"\"\"\n",
    "    :param n: number of qubits;\n",
    "    :return: a circuit for state preparation.\n",
    "    \"\"\"\n",
    "    qc = Circuit()\n",
    "    qc += UN(RY(np.pi / 4), range(n))\n",
    "    return qc"
   ]
  },
  {
   "attachments": {},
   "cell_type": "markdown",
   "metadata": {},
   "source": [
    "先搭建一个比特数为4、层数为6的线路，并打印出这个线路的前12个量子门。"
   ]
  },
  {
   "cell_type": "code",
   "execution_count": 13,
   "metadata": {},
   "outputs": [
    {
     "data": {
      "image/svg+xml": "<div class=\"nb-html-output output_area\"><svg xmlns=\"http://www.w3.org/2000/svg\" width=\"496.8\" height=\"260.0\" xmlns:xlink=\"http://www.w3.org/1999/xlink\">\n<rect x=\"0\" y=\"0.0\" width=\"496.8\" height=\"260.0\" fill=\"#ffffff\" />\n<text x=\"20.0\" y=\"40.0\" font-size=\"16px\" dominant-baseline=\"middle\" text-anchor=\"start\" font-family=\"Arial\" font-weight=\"normal\" fill=\"#252b3a\" >\nq0:\n </text>\n<text x=\"20.0\" y=\"100.0\" font-size=\"16px\" dominant-baseline=\"middle\" text-anchor=\"start\" font-family=\"Arial\" font-weight=\"normal\" fill=\"#252b3a\" >\nq1:\n </text>\n<text x=\"20.0\" y=\"160.0\" font-size=\"16px\" dominant-baseline=\"middle\" text-anchor=\"start\" font-family=\"Arial\" font-weight=\"normal\" fill=\"#252b3a\" >\nq2:\n </text>\n<text x=\"20.0\" y=\"220.0\" font-size=\"16px\" dominant-baseline=\"middle\" text-anchor=\"start\" font-family=\"Arial\" font-weight=\"normal\" fill=\"#252b3a\" >\nq3:\n </text>\n<line x1=\"48.8\" x2=\"476.8\" y1=\"40.0\" y2=\"40.0\" stroke=\"#adb0b8\" stroke-width=\"1\" />\n<line x1=\"48.8\" x2=\"476.8\" y1=\"100.0\" y2=\"100.0\" stroke=\"#adb0b8\" stroke-width=\"1\" />\n<line x1=\"48.8\" x2=\"476.8\" y1=\"160.0\" y2=\"160.0\" stroke=\"#adb0b8\" stroke-width=\"1\" />\n<line x1=\"48.8\" x2=\"476.8\" y1=\"220.0\" y2=\"220.0\" stroke=\"#adb0b8\" stroke-width=\"1\" />\n\n<rect x=\"72.8\" y=\"20.0\" width=\"40.0\" height=\"40\" rx=\"4\" ry=\"4\" stroke=\"#ffffff\" stroke-width=\"0\" fill=\"#fac209\" fill-opacity=\"1\" />\n<text x=\"92.8\" y=\"36.0\" font-size=\"20px\" dominant-baseline=\"middle\" text-anchor=\"middle\" font-family=\"Arial\" font-weight=\"normal\" fill=\"#ffffff\" >\nRY\n </text>\n<text x=\"92.8\" y=\"52.0\" font-size=\"14.0px\" dominant-baseline=\"middle\" text-anchor=\"middle\" font-family=\"Arial\" font-weight=\"normal\" fill=\"#ffffff\" >\nπ/4\n </text>\n\n\n<rect x=\"72.8\" y=\"80.0\" width=\"40.0\" height=\"40\" rx=\"4\" ry=\"4\" stroke=\"#ffffff\" stroke-width=\"0\" fill=\"#fac209\" fill-opacity=\"1\" />\n<text x=\"92.8\" y=\"96.0\" font-size=\"20px\" dominant-baseline=\"middle\" text-anchor=\"middle\" font-family=\"Arial\" font-weight=\"normal\" fill=\"#ffffff\" >\nRY\n </text>\n<text x=\"92.8\" y=\"112.0\" font-size=\"14.0px\" dominant-baseline=\"middle\" text-anchor=\"middle\" font-family=\"Arial\" font-weight=\"normal\" fill=\"#ffffff\" >\nπ/4\n </text>\n\n\n<rect x=\"72.8\" y=\"140.0\" width=\"40.0\" height=\"40\" rx=\"4\" ry=\"4\" stroke=\"#ffffff\" stroke-width=\"0\" fill=\"#fac209\" fill-opacity=\"1\" />\n<text x=\"92.8\" y=\"156.0\" font-size=\"20px\" dominant-baseline=\"middle\" text-anchor=\"middle\" font-family=\"Arial\" font-weight=\"normal\" fill=\"#ffffff\" >\nRY\n </text>\n<text x=\"92.8\" y=\"172.0\" font-size=\"14.0px\" dominant-baseline=\"middle\" text-anchor=\"middle\" font-family=\"Arial\" font-weight=\"normal\" fill=\"#ffffff\" >\nπ/4\n </text>\n\n\n<rect x=\"72.8\" y=\"200.0\" width=\"40.0\" height=\"40\" rx=\"4\" ry=\"4\" stroke=\"#ffffff\" stroke-width=\"0\" fill=\"#fac209\" fill-opacity=\"1\" />\n<text x=\"92.8\" y=\"216.0\" font-size=\"20px\" dominant-baseline=\"middle\" text-anchor=\"middle\" font-family=\"Arial\" font-weight=\"normal\" fill=\"#ffffff\" >\nRY\n </text>\n<text x=\"92.8\" y=\"232.0\" font-size=\"14.0px\" dominant-baseline=\"middle\" text-anchor=\"middle\" font-family=\"Arial\" font-weight=\"normal\" fill=\"#ffffff\" >\nπ/4\n </text>\n\n\n<rect x=\"132.8\" y=\"20.0\" width=\"80.0\" height=\"40\" rx=\"4\" ry=\"4\" stroke=\"#ffffff\" stroke-width=\"0\" fill=\"#fac209\" fill-opacity=\"1\" />\n<text x=\"172.8\" y=\"36.0\" font-size=\"20px\" dominant-baseline=\"middle\" text-anchor=\"middle\" font-family=\"Arial\" font-weight=\"normal\" fill=\"#ffffff\" >\nRY\n </text>\n<text x=\"172.8\" y=\"52.0\" font-size=\"14.0px\" dominant-baseline=\"middle\" text-anchor=\"middle\" font-family=\"Arial\" font-weight=\"normal\" fill=\"#ffffff\" >\nc(0,0)\n </text>\n\n\n<rect x=\"132.8\" y=\"80.0\" width=\"80.0\" height=\"40\" rx=\"4\" ry=\"4\" stroke=\"#ffffff\" stroke-width=\"0\" fill=\"#fac209\" fill-opacity=\"1\" />\n<text x=\"172.8\" y=\"96.0\" font-size=\"20px\" dominant-baseline=\"middle\" text-anchor=\"middle\" font-family=\"Arial\" font-weight=\"normal\" fill=\"#ffffff\" >\nRZ\n </text>\n<text x=\"172.8\" y=\"112.0\" font-size=\"14.0px\" dominant-baseline=\"middle\" text-anchor=\"middle\" font-family=\"Arial\" font-weight=\"normal\" fill=\"#ffffff\" >\nc(0,1)\n </text>\n\n\n<rect x=\"132.8\" y=\"140.0\" width=\"80.0\" height=\"40\" rx=\"4\" ry=\"4\" stroke=\"#ffffff\" stroke-width=\"0\" fill=\"#fac209\" fill-opacity=\"1\" />\n<text x=\"172.8\" y=\"156.0\" font-size=\"20px\" dominant-baseline=\"middle\" text-anchor=\"middle\" font-family=\"Arial\" font-weight=\"normal\" fill=\"#ffffff\" >\nRX\n </text>\n<text x=\"172.8\" y=\"172.0\" font-size=\"14.0px\" dominant-baseline=\"middle\" text-anchor=\"middle\" font-family=\"Arial\" font-weight=\"normal\" fill=\"#ffffff\" >\nc(0,2)\n </text>\n\n\n<rect x=\"132.8\" y=\"200.0\" width=\"80.0\" height=\"40\" rx=\"4\" ry=\"4\" stroke=\"#ffffff\" stroke-width=\"0\" fill=\"#fac209\" fill-opacity=\"1\" />\n<text x=\"172.8\" y=\"216.0\" font-size=\"20px\" dominant-baseline=\"middle\" text-anchor=\"middle\" font-family=\"Arial\" font-weight=\"normal\" fill=\"#ffffff\" >\nRY\n </text>\n<text x=\"172.8\" y=\"232.0\" font-size=\"14.0px\" dominant-baseline=\"middle\" text-anchor=\"middle\" font-family=\"Arial\" font-weight=\"normal\" fill=\"#ffffff\" >\nc(0,3)\n </text>\n\n<circle cx=\"252.8\" cy=\"100.0\" r=\"4\" fill=\"#5e7ce0\" />\n<line x1=\"252.8\" x2=\"252.8\" y1=\"40.0\" y2=\"100.0\" stroke=\"#5e7ce0\" stroke-width=\"3\" />\n<rect x=\"232.8\" y=\"20.0\" width=\"40.0\" height=\"40\" rx=\"4\" ry=\"4\" stroke=\"#ffffff\" stroke-width=\"0\" fill=\"#5e7ce0\" fill-opacity=\"1\" />\n<text x=\"252.8\" y=\"40.0\" font-size=\"20px\" dominant-baseline=\"middle\" text-anchor=\"middle\" font-family=\"Arial\" font-weight=\"normal\" fill=\"#ffffff\" >\nZ\n </text>\n\n<circle cx=\"312.8\" cy=\"160.0\" r=\"4\" fill=\"#5e7ce0\" />\n<line x1=\"312.8\" x2=\"312.8\" y1=\"100.0\" y2=\"160.0\" stroke=\"#5e7ce0\" stroke-width=\"3\" />\n<rect x=\"292.8\" y=\"80.0\" width=\"40.0\" height=\"40\" rx=\"4\" ry=\"4\" stroke=\"#ffffff\" stroke-width=\"0\" fill=\"#5e7ce0\" fill-opacity=\"1\" />\n<text x=\"312.8\" y=\"100.0\" font-size=\"20px\" dominant-baseline=\"middle\" text-anchor=\"middle\" font-family=\"Arial\" font-weight=\"normal\" fill=\"#ffffff\" >\nZ\n </text>\n\n<circle cx=\"372.8\" cy=\"220.0\" r=\"4\" fill=\"#5e7ce0\" />\n<line x1=\"372.8\" x2=\"372.8\" y1=\"160.0\" y2=\"220.0\" stroke=\"#5e7ce0\" stroke-width=\"3\" />\n<rect x=\"352.8\" y=\"140.0\" width=\"40.0\" height=\"40\" rx=\"4\" ry=\"4\" stroke=\"#ffffff\" stroke-width=\"0\" fill=\"#5e7ce0\" fill-opacity=\"1\" />\n<text x=\"372.8\" y=\"160.0\" font-size=\"20px\" dominant-baseline=\"middle\" text-anchor=\"middle\" font-family=\"Arial\" font-weight=\"normal\" fill=\"#ffffff\" >\nZ\n </text>\n\n<circle cx=\"432.8\" cy=\"220.0\" r=\"4\" fill=\"#5e7ce0\" />\n<line x1=\"432.8\" x2=\"432.8\" y1=\"40.0\" y2=\"220.0\" stroke=\"#5e7ce0\" stroke-width=\"3\" />\n<rect x=\"412.8\" y=\"20.0\" width=\"40.0\" height=\"40\" rx=\"4\" ry=\"4\" stroke=\"#ffffff\" stroke-width=\"0\" fill=\"#5e7ce0\" fill-opacity=\"1\" />\n<text x=\"432.8\" y=\"40.0\" font-size=\"20px\" dominant-baseline=\"middle\" text-anchor=\"middle\" font-family=\"Arial\" font-weight=\"normal\" fill=\"#ffffff\" >\nZ\n </text>\n\n</svg></div>",
      "text/plain": [
       "<mindquantum.io.display.circuit_svg_drawer.SVGCircuit at 0x1f7f1bd3eb0>"
      ]
     },
     "execution_count": 13,
     "metadata": {},
     "output_type": "execute_result"
    }
   ],
   "source": [
    "n = 4\n",
    "p = 6\n",
    "circ = init_state(n) + bpansatz(n, p)\n",
    "circ[:12].svg()"
   ]
  },
  {
   "attachments": {},
   "cell_type": "markdown",
   "metadata": {},
   "source": [
    "接着我们创建一个度为2、4个节点的随机正则图："
   ]
  },
  {
   "cell_type": "code",
   "execution_count": 14,
   "metadata": {},
   "outputs": [
    {
     "data": {
      "image/png": "[encoded data removed]",
      "text/plain": [
       "<Figure size 640x480 with 1 Axes>"
      ]
     },
     "metadata": {},
     "output_type": "display_data"
    }
   ],
   "source": [
    "graph = nx.random_graphs.random_regular_graph(2, n)\n",
    "nx.draw(graph)"
   ]
  },
  {
   "attachments": {},
   "cell_type": "markdown",
   "metadata": {},
   "source": [
    "接着，我们调用刚才写好的```train()```方法，设置 `steps=100` 训练这个模型100次。"
   ]
  },
  {
   "cell_type": "code",
   "execution_count": 15,
   "metadata": {},
   "outputs": [
    {
     "name": "stdout",
     "output_type": "stream",
     "text": [
      "100%|██████████| 100/100 [00:00<00:00, 1999.60it/s]\n"
     ]
    }
   ],
   "source": [
    "s2list, costlist, gradlist = train(\n",
    "            HeisenbergModel(1, 1, graph=graph),\n",
    "            circ,\n",
    "            steps=100,\n",
    "            eta=1e-1,\n",
    "            list_qubits2keep=[0, 1],\n",
    "        )"
   ]
  },
  {
   "attachments": {},
   "cell_type": "markdown",
   "metadata": {},
   "source": [
    "这里 `list_qubits2keep=[0, 1]`指的是我们计算纠缠熵的时候，只保留`q0`和`q1`这两个量子比特，其他比特都trace掉。"
   ]
  },
  {
   "attachments": {},
   "cell_type": "markdown",
   "metadata": {},
   "source": [
    "最后使用```matplotlib.pyplot```绘图"
   ]
  },
  {
   "cell_type": "code",
   "execution_count": 16,
   "metadata": {},
   "outputs": [
    {
     "data": {
      "text/plain": [
       "<matplotlib.legend.Legend at 0x1f7f1794be0>"
      ]
     },
     "execution_count": 16,
     "metadata": {},
     "output_type": "execute_result"
    },
    {
     "data": {
      "image/png": "[encoded data removed]",
      "text/plain": [
       "<Figure size 600x1200 with 3 Axes>"
      ]
     },
     "metadata": {},
     "output_type": "display_data"
    }
   ],
   "source": [
    "fig, axs = plt.subplots(3, figsize=(6, 12))\n",
    "axs[0].plot(np.array(s2list) / (s_page(2, 6)), label=(r'$\\eta=$' + f'{1e-1}'))\n",
    "axs[1].plot(costlist)\n",
    "axs[2].plot(gradlist)\n",
    "axs[0].set(ylabel=r'$S_2 / S_{page}$',\n",
    "               ylim=(0, 1))\n",
    "axs[1].set(ylabel=r'Energy $E$')\n",
    "axs[2].set(ylabel=r'$\\Vert \\nabla_\\theta E \\Vert$',\n",
    "            xlabel='Iterations')\n",
    "axs[0].legend(loc='upper right')"
   ]
  },
  {
   "attachments": {},
   "cell_type": "markdown",
   "metadata": {},
   "source": [
    "不难发现，这个运行结果和这篇文章中的结果还是比较相符的。"
   ]
  },
  {
   "attachments": {},
   "cell_type": "markdown",
   "metadata": {},
   "source": [
    "若想查询更多关于MindQuantum的API，请点击：[https://mindspore.cn/mindquantum/](https://mindspore.cn/mindquantum/)。"
   ]
  }
 ],
 "metadata": {
  "kernelspec": {
   "display_name": "mindspore_py39",
   "language": "python",
   "name": "python3"
  },
  "language_info": {
   "codemirror_mode": {
    "name": "ipython",
    "version": 3
   },
   "file_extension": ".py",
   "mimetype": "text/x-python",
   "name": "python",
   "nbconvert_exporter": "python",
   "pygments_lexer": "ipython3",
   "version": "3.9.0"
  },
  "orig_nbformat": 4
 },
 "nbformat": 4,
 "nbformat_minor": 2
}
