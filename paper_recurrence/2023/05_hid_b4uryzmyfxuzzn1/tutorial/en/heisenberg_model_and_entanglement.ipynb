{
 "cells": [
  {
   "attachments": {},
   "cell_type": "markdown",
   "metadata": {},
   "source": [
    "# Solving Heisenberg model and calculating the entanglement entropy\n",
    "\n",
    "[![Download Notebook](https://mindspore-website.obs.cn-north-4.myhuaweicloud.com/website-images/master/resource/_static/logo_notebook_en.png)](https://mindspore-website.obs.cn-north-4.myhuaweicloud.com/notebook/master/mindquantum/en/mindspore_heisenberg_model_and_entanglement.ipynb)&emsp;\n",
    "[![Download Code](https://mindspore-website.obs.cn-north-4.myhuaweicloud.com/website-images/master/resource/_static/logo_download_code_en.png)](https://mindspore-website.obs.cn-north-4.myhuaweicloud.com/notebook/master/mindquantum/en/mindspore_heisenberg_model_and_entanglement.py)&emsp;\n",
    "[![View source on Gitee](https://mindspore-website.obs.cn-north-4.myhuaweicloud.com/website-images/master/resource/_static/logo_source_en.png)](https://gitee.com/mindspore/docs/blob/master/docs/mindquantum/docs/source_en/mindspore_heisenberg_model_and_entanglement.ipynb)"
   ]
  },
  {
   "attachments": {},
   "cell_type": "markdown",
   "metadata": {},
   "source": [
    "## Overview\n",
    "Heisenberg model is a spin-based system of statistic mechanics, which is frequently used to study the phase transition and the phenomennon of critical point. In the research of variational quantum algorithm, Heisenberg model always is a hot topic due to its clear and simple physics picture.\n",
    "\n",
    "This tutorial starts from Heisenberg model and expands into following threes aspects. At the end of this tutorial, the parameters, including entanglement entropy, norm of the gradient, etc, will be discussed in the process of optimizing the Heisenberg model.\n",
    "\n",
    "- Building Heisenberg model;\n",
    "- Calculating entanglement entropy;\n",
    "- Optimizing the model and verifying the results."
   ]
  },
  {
   "attachments": {},
   "cell_type": "markdown",
   "metadata": {},
   "source": [
    "## Building Heisenberg model from a graph"
   ]
  },
  {
   "attachments": {},
   "cell_type": "markdown",
   "metadata": {},
   "source": [
    "As we know, the Hamiltonian of Heisenberg model can be writen as：\n",
    "$$\n",
    "H=\\sum_{i, j \\in V_{\\mathcal{G}}} J\\left(\\sigma_i^z \\sigma_j^z+\\sigma_i^y \\sigma_j^y+\\sigma_i^x \\sigma_j^x\\right)+h_z \\sum_{i=1}^N \\sigma_i^z\n",
    "$$\n",
    ", where $V_{\\mathcal{G}}$ represents the set of the vertex of the graph $\\mathcal{G}$。$N$ is the number of the nodes, which equals to the number of qubtis for simulation in this tutorial. According to this formula, we can use `networkx` to generate a graph, and obtain the Heisenberg model by searching the nodes and edges of the graph."
   ]
  },
  {
   "attachments": {},
   "cell_type": "markdown",
   "metadata": {},
   "source": [
    "First we import some package:"
   ]
  },
  {
   "cell_type": "code",
   "execution_count": 17,
   "metadata": {},
   "outputs": [],
   "source": [
    "import networkx as nx\n",
    "from mindquantum import QubitOperator, Hamiltonian"
   ]
  },
  {
   "attachments": {},
   "cell_type": "markdown",
   "metadata": {},
   "source": [
    "Then, for simplicity, we use `nx.random_graphs.random_regular_graph()` to generate the graph, which should be like a triangular:"
   ]
  },
  {
   "cell_type": "code",
   "execution_count": 18,
   "metadata": {},
   "outputs": [
    {
     "data": {
      "image/png": "[encoded data removed]",
      "text/plain": [
       "<Figure size 640x480 with 1 Axes>"
      ]
     },
     "metadata": {},
     "output_type": "display_data"
    }
   ],
   "source": [
    "graph = nx.random_graphs.random_regular_graph(2, 3)\n",
    "nx.draw(graph)"
   ]
  },
  {
   "attachments": {},
   "cell_type": "markdown",
   "metadata": {},
   "source": [
    "Then, we apply the formula of Heisenberg model. Assuming $J=h_z=1$, we have:"
   ]
  },
  {
   "cell_type": "code",
   "execution_count": 19,
   "metadata": {},
   "outputs": [
    {
     "name": "stdout",
     "output_type": "stream",
     "text": [
      "1 [X0 X1] +\n",
      "1 [Y0 Y1] +\n",
      "1 [Z0 Z1] +\n",
      "1 [X0 X2] +\n",
      "1 [Y0 Y2] +\n",
      "1 [Z0 Z2] +\n",
      "1 [X1 X2] +\n",
      "1 [Y1 Y2] +\n",
      "1 [Z1 Z2] +\n",
      "1 [Z0] +\n",
      "1 [Z1] +\n",
      "1 [Z2] \n"
     ]
    }
   ],
   "source": [
    "J = 1\n",
    "h_z = 1\n",
    "ham = QubitOperator()\n",
    "for i in graph.edges:\n",
    "    ham += J * QubitOperator(f'X{i[0]} X{i[1]}')\n",
    "    ham += J * QubitOperator(f'Y{i[0]} Y{i[1]}')\n",
    "    ham += J * QubitOperator(f'Z{i[0]} Z{i[1]}')\n",
    "\n",
    "for i in graph.nodes:\n",
    "    ham += h_z * QubitOperator(f'Z{i}')\n",
    "\n",
    "print(ham)"
   ]
  },
  {
   "attachments": {},
   "cell_type": "markdown",
   "metadata": {},
   "source": [
    "Finally, we figure out how to build a Heisenberg model. For convinience, we can write a class for it:"
   ]
  },
  {
   "cell_type": "code",
   "execution_count": 4,
   "metadata": {},
   "outputs": [],
   "source": [
    "class HeisenbergModel:\n",
    "    \n",
    "    def __init__(self, J, h_z, graph: nx.Graph):\n",
    "        self.J = J\n",
    "        self.h_z = h_z\n",
    "        self.graph = graph\n",
    "        self.n_qubits = graph.number_of_nodes()\n",
    "\n",
    "    def ham(self) -> Hamiltonian:\n",
    "        ham = QubitOperator()\n",
    "        for i in self.graph.edges:\n",
    "            ham += self.J * QubitOperator(f'X{i[0]} X{i[1]}')\n",
    "            ham += self.J * QubitOperator(f'Y{i[0]} Y{i[1]}')\n",
    "            ham += self.J * QubitOperator(f'Z{i[0]} Z{i[1]}')\n",
    "        for i in self.graph.nodes:\n",
    "            ham += self.h_z * QubitOperator(f'Z{i}')\n",
    "        return Hamiltonian(ham)\n",
    "\n",
    "    def draw_graph(self) -> None:\n",
    "        nx.draw(self.graph)"
   ]
  },
  {
   "attachments": {},
   "cell_type": "markdown",
   "metadata": {},
   "source": [
    "## Calculating bipartite entropy"
   ]
  },
  {
   "attachments": {},
   "cell_type": "markdown",
   "metadata": {},
   "source": [
    "```mindquantum``` is a vector-based simulator, which means the quantum state can only be simulated as pure state. If we want to calculating the entropy, the reduced density matrix must be obtained. We have to do something called 'partial trace'.\n",
    "\n",
    "To address this issue, we can first compute the density matrix of the whole system by $\\rho=|\\psi\\rangle\\langle\\psi|$ ，where$|\\psi\\rangle$ can be obtained by ```Simulator.get_qs()```，then by doing ```numpy.outer(psi,psi.conjugate())```we can obtain $\\rho$. Note that this is a pure state such that $\\mathrm{rank}(\\rho)=1$。\\.\n",
    "\n",
    "Then, let me show you a function that can be used in ```mindquantum``` simulator to calculate the reduced density matrix："
   ]
  },
  {
   "cell_type": "code",
   "execution_count": 5,
   "metadata": {},
   "outputs": [],
   "source": [
    "import numpy as np\n",
    "\n",
    "def get_rs(rho: np.array, list_qubits2keep: list) -> np.array:\n",
    "    list_qubits2traceout = list(set(range(int(np.log2(len(rho))))) - set(list_qubits2keep))\n",
    "    counter_qubits = int(np.log2(len(rho)))\n",
    "    rho_tensor = rho.reshape((2, 2) * counter_qubits)\n",
    "    for i in list_qubits2traceout:\n",
    "        index2trace = i - list_qubits2traceout.index(i)\n",
    "        rho_tensor = np.trace(rho_tensor, axis1=counter_qubits - 1 - index2trace,\n",
    "                              axis2=2 * counter_qubits - 1 - index2trace)\n",
    "        counter_qubits += -1\n",
    "    rho_rs = rho_tensor.reshape(2 ** counter_qubits, 2 ** counter_qubits)\n",
    "    return rho_rs"
   ]
  },
  {
   "attachments": {},
   "cell_type": "markdown",
   "metadata": {},
   "source": [
    "The method is based on```numpy.reshape()``` and ```numpy.trace()``` to different axis, which is just some complicated contraction of indice. This short piece of code is not easy to understand so just use it. Here we can test this method by constructing such a simple ciruict:"
   ]
  },
  {
   "cell_type": "code",
   "execution_count": 20,
   "metadata": {},
   "outputs": [
    {
     "data": {
      "image/svg+xml": [
       "<div class=\"nb-html-output output_area\"><svg xmlns=\"http://www.w3.org/2000/svg\" width=\"216.8\" height=\"140.0\" xmlns:xlink=\"http://www.w3.org/1999/xlink\">\n",
       "<rect x=\"0\" y=\"0.0\" width=\"216.8\" height=\"140.0\" fill=\"#ffffff\" />\n",
       "<text x=\"20.0\" y=\"40.0\" font-size=\"16px\" dominant-baseline=\"middle\" text-anchor=\"start\" font-family=\"Arial\" font-weight=\"normal\" fill=\"#252b3a\" >\n",
       "q0:\n",
       " </text>\n",
       "<text x=\"20.0\" y=\"100.0\" font-size=\"16px\" dominant-baseline=\"middle\" text-anchor=\"start\" font-family=\"Arial\" font-weight=\"normal\" fill=\"#252b3a\" >\n",
       "q1:\n",
       " </text>\n",
       "<line x1=\"48.8\" x2=\"196.8\" y1=\"40.0\" y2=\"40.0\" stroke=\"#adb0b8\" stroke-width=\"1\" />\n",
       "<line x1=\"48.8\" x2=\"196.8\" y1=\"100.0\" y2=\"100.0\" stroke=\"#adb0b8\" stroke-width=\"1\" />\n",
       "\n",
       "<rect x=\"72.8\" y=\"20.0\" width=\"40.0\" height=\"40\" rx=\"4\" ry=\"4\" stroke=\"#ffffff\" stroke-width=\"0\" fill=\"#5e7ce0\" fill-opacity=\"1\" />\n",
       "<text x=\"92.8\" y=\"40.0\" font-size=\"20px\" dominant-baseline=\"middle\" text-anchor=\"middle\" font-family=\"Arial\" font-weight=\"normal\" fill=\"#ffffff\" >\n",
       "H\n",
       " </text>\n",
       "\n",
       "<circle cx=\"152.8\" cy=\"40.0\" r=\"4\" fill=\"#16acff\" />\n",
       "<line x1=\"152.8\" x2=\"152.8\" y1=\"40.0\" y2=\"100.0\" stroke=\"#16acff\" stroke-width=\"3\" />\n",
       "<rect x=\"132.8\" y=\"80.0\" width=\"40\" height=\"40\" rx=\"4\" ry=\"4\" stroke=\"#ffffff\" stroke-width=\"0\" fill=\"#16acff\" fill-opacity=\"1\" />\n",
       "<line x1=\"138.8\" x2=\"166.8\" y1=\"100.0\" y2=\"100.0\" stroke=\"#ffffff\" stroke-width=\"4\" />\n",
       "<line x1=\"152.8\" x2=\"152.8\" y1=\"86.0\" y2=\"114.0\" stroke=\"#ffffff\" stroke-width=\"4\" />\n",
       "</svg></div>"
      ],
      "text/plain": [
       "<mindquantum.io.display.circuit_svg_drawer.SVGCircuit at 0x1f7f1984be0>"
      ]
     },
     "execution_count": 20,
     "metadata": {},
     "output_type": "execute_result"
    }
   ],
   "source": [
    "from mindquantum import Circuit, H, CNOT, Simulator\n",
    "\n",
    "circ = Circuit([H.on(0), CNOT.on(1, 0)])\n",
    "circ.svg()"
   ]
  },
  {
   "attachments": {},
   "cell_type": "markdown",
   "metadata": {},
   "source": [
    "This is a typical Bell state circuit, we can simulate this circuit on the simulator and calculate the density matrix by outer product:"
   ]
  },
  {
   "cell_type": "code",
   "execution_count": 21,
   "metadata": {},
   "outputs": [],
   "source": [
    "sim = Simulator('mqvector', 2)\n",
    "sim.apply_circuit(circ)\n",
    "psi = sim.get_qs()\n",
    "rho = np.outer(psi, psi.conjugate())"
   ]
  },
  {
   "attachments": {},
   "cell_type": "markdown",
   "metadata": {},
   "source": [
    "`rho` is the density matrix of the whole system. Then，if we just want to keep the space of `q0` and trace out the others, we can call `get_qs` like this:"
   ]
  },
  {
   "cell_type": "code",
   "execution_count": 22,
   "metadata": {},
   "outputs": [
    {
     "data": {
      "text/plain": [
       "array([[0.5+0.j, 0. +0.j],\n",
       "       [0. +0.j, 0.5+0.j]])"
      ]
     },
     "execution_count": 22,
     "metadata": {},
     "output_type": "execute_result"
    }
   ],
   "source": [
    "get_rs(rho, [0])"
   ]
  },
  {
   "attachments": {},
   "cell_type": "markdown",
   "metadata": {},
   "source": [
    "The first argument is the density matrix and the second arguments is the list of indice of the subsystems we want to keep. It is obvious that this reduced density matrix is the maximally mixed state, $I/2$."
   ]
  },
  {
   "attachments": {},
   "cell_type": "markdown",
   "metadata": {},
   "source": [
    "After obtaining the reduced density matrix, it becomes pretty easy to calculate bipartite entropy. I just lists these methods here. They are simple:"
   ]
  },
  {
   "cell_type": "code",
   "execution_count": 23,
   "metadata": {},
   "outputs": [],
   "source": [
    "def purity(density_matrix):\n",
    "    \"\"\"\n",
    "    :param density_matrix: reduced density matrix to compute purity;\n",
    "    :return: purity = Tr(rho^2).\n",
    "    \"\"\"\n",
    "    rho2 = np.matmul(density_matrix, density_matrix)\n",
    "    return np.trace(rho2).real\n",
    "\n",
    "\n",
    "def s2(density_matrix):\n",
    "    \"\"\"\n",
    "    :param density_matrix: reduced density matrix to compute entropy;\n",
    "    :return: second Renyi entropy.\n",
    "    \"\"\"\n",
    "    rho2 = np.matmul(density_matrix, density_matrix)\n",
    "    return -np.log(np.trace(rho2)).real\n",
    "\n",
    "def get_rs_from_sim(sim_, list_qubits2keep):\n",
    "    qs = sim_.get_qs()\n",
    "    rho = np.outer(qs, qs.conjugate())\n",
    "    reduced_state = get_rs(rho, list_qubits2keep)\n",
    "    return reduced_state\n",
    "\n",
    "\n",
    "def s_page(n_subsys, n_sys) -> float:\n",
    "    \"\"\"\n",
    "    Get the approximate page entropy in the limit dim_sys >> dim_subsys.\n",
    "    :param n_subsys: the number of qubits of subsystem;\n",
    "    :param n_sys: the number of qubits of system;\n",
    "    :return: the page entropy.\n",
    "    \"\"\"\n",
    "    k = n_subsys\n",
    "    N = n_sys\n",
    "    return k * np.log(2) - 1 / 2 ** (N - 2 * k + 1)"
   ]
  },
  {
   "attachments": {},
   "cell_type": "markdown",
   "metadata": {},
   "source": [
    "`purity` is for calculating the purity of some subspaces. We know that the purity equals to $\\mathrm{Tr}(\\rho^2)$ so we only need to calculat the square of $\\rho$ and apply the trace operation to it。`s2` is 2nd order Renyi entropy, which is defined as the minus logorithm of the purity. The above methods are independent to each other and they can be copied and pasted any where you want (except `get_rs_from_sim`, this is only designed for mindquantum)."
   ]
  },
  {
   "attachments": {},
   "cell_type": "markdown",
   "metadata": {},
   "source": [
    "## Optimizing Heisenberg model with parameterized quantum circuit"
   ]
  },
  {
   "attachments": {},
   "cell_type": "markdown",
   "metadata": {},
   "source": [
    "We can use the simplest optimization method to optimize our model, which is gradient descent method. The key point is:\n",
    "$$\n",
    "\\boldsymbol{\\theta}^{t+1}=\\boldsymbol{\\theta}^t-\\eta \\nabla_{\\boldsymbol{\\theta}} E(\\boldsymbol{\\theta})\n",
    "$$\n",
    "The code is pretty easy. We only need to update the parameters according to gradient in each iteration:\n",
    "```python\n",
    "# Train 1 step.\n",
    "args += - eta * grad(args)\n",
    "```\n",
    "According to this method, we can write a class to implement gradient descent algorithm:"
   ]
  },
  {
   "cell_type": "code",
   "execution_count": 10,
   "metadata": {},
   "outputs": [],
   "source": [
    "import matplotlib.pyplot as plt\n",
    "\n",
    "\n",
    "class GDOpt:\n",
    "\n",
    "    def __init__(self, func, grad, args_init: np.array, eta: float):\n",
    "        self.func = func\n",
    "        self.grad = grad\n",
    "        self.args_init = args_init\n",
    "        self.args = args_init\n",
    "        self.curve = [self.func(self.args_init)]\n",
    "        self.eta = eta\n",
    "\n",
    "    def one_step_opt(self) -> None:\n",
    "        \"\"\"\n",
    "        Train 1 step.\n",
    "        \"\"\"\n",
    "        self.args += - self.eta * self.grad(self.args)\n",
    "        self.curve.append(self.func(self.args))\n",
    "\n",
    "    def multi_step_opt(self, steps: int) -> None:\n",
    "        \"\"\"\n",
    "        Train multiple times.\n",
    "        :param steps: training steps.\n",
    "        \"\"\"\n",
    "        for _ in range(steps):\n",
    "            self.one_step_opt()\n",
    "\n",
    "    def plotCurve(self, y: str = None, saveas: str = None) -> None:\n",
    "        \"\"\"\n",
    "        :param y: name of y axis;\n",
    "        :param saveas: file name to save as *.pdf;\n",
    "        \"\"\"\n",
    "        fig, axe = plt.subplots(1)\n",
    "        axe.plot(self.curve)\n",
    "        axe.set(xlabel='Steps', ylabel=y)\n",
    "        if saveas is not None:\n",
    "            plt.savefig(saveas + '.pdf')\n",
    "        else:\n",
    "            pass\n",
    "        plt.show()"
   ]
  },
  {
   "attachments": {},
   "cell_type": "markdown",
   "metadata": {},
   "source": [
    "Then we can use the above codes to verifies the content in this paper [PRXQuantum.3.020365](https://journals.aps.org/prxquantum/abstract/10.1103/PRXQuantum.3.020365). According to this paper, our main target is to trace the evolution of these variables: 1. the value of cost function; 2. the norm of gradient; 3. second Renyi entropy. So we can write a method to return the list consist of these three variables:"
   ]
  },
  {
   "cell_type": "code",
   "execution_count": 26,
   "metadata": {},
   "outputs": [],
   "source": [
    "from tqdm import trange # just for timing\n",
    "\n",
    "def train(heisenberg_model: HeisenbergModel,\n",
    "          pqc: Circuit,\n",
    "          steps: int,\n",
    "          eta: float,\n",
    "          list_qubits2keep: list,\n",
    "          eps_theta: float = 0.05) -> tuple((list, list, list)):\n",
    "    ham = heisenberg_model.ham()\n",
    "    sim = Simulator('mqvector', heisenberg_model.n_qubits)\n",
    "    exp_with_grad = sim.get_expectation_with_grad(ham, pqc)\n",
    "\n",
    "    def func(args):\n",
    "        f, g = exp_with_grad(args)\n",
    "        return f[0, 0].real\n",
    "\n",
    "    def grad(args):\n",
    "        f, g = exp_with_grad(args)\n",
    "        return g[0, 0].real\n",
    "\n",
    "    args_init = (np.random.rand(len(pqc.params_name)) * 2 * np.pi - np.pi) * eps_theta\n",
    "    opt = GDOpt(func, grad, args_init, eta)\n",
    "    s2_list = []\n",
    "    grad_norm_list = []\n",
    "    for _ in trange(steps):\n",
    "        opt.one_step_opt()\n",
    "        grad_norm_list.append(np.linalg.norm(opt.grad(opt.args)))\n",
    "        sim_temp = Simulator('mqvector', heisenberg_model.n_qubits)\n",
    "        sim_temp.apply_circuit(pqc, opt.args)\n",
    "        rs = get_rs_from_sim(sim_temp, list_qubits2keep)\n",
    "        s2_list.append(s2(rs))\n",
    "    cost_list = opt.curve[1:]\n",
    "    return s2_list, cost_list, grad_norm_list"
   ]
  },
  {
   "attachments": {},
   "cell_type": "markdown",
   "metadata": {},
   "source": [
    "For simlicity, we can test a simple case and see whether it is consistent with the paper."
   ]
  },
  {
   "attachments": {},
   "cell_type": "markdown",
   "metadata": {},
   "source": [
    "First we build a circuit. For example, we can use the random circuit, which can be generated by `bpansatz` shown below:"
   ]
  },
  {
   "cell_type": "code",
   "execution_count": 27,
   "metadata": {},
   "outputs": [],
   "source": [
    "from mindquantum import RX, RY, RZ, Z, UN\n",
    "\n",
    "\n",
    "def RP(rotation_angle):\n",
    "    \"\"\"\n",
    "    :param rotation_angle: parameter of the gate;\n",
    "    :return: randomly return one of RX, RY, and RZ with equal probability.\n",
    "    \"\"\"\n",
    "    a = np.random.randint(0, 3)\n",
    "    if a == 0:\n",
    "        return RX(rotation_angle)\n",
    "    elif a == 1:\n",
    "        return RY(rotation_angle)\n",
    "    elif a == 2:\n",
    "        return RZ(rotation_angle)\n",
    "    else:\n",
    "        print(\"error in random Pauli gates\")\n",
    "\n",
    "\n",
    "def bpansatz(n, p):\n",
    "    \"\"\"\n",
    "    :param n: number of qubits;\n",
    "    :param p: number of layers;\n",
    "    :return: an 1 dimensional random circuit with n qubits and p layers.\n",
    "    \"\"\"\n",
    "    qc = Circuit()\n",
    "    for j in range(p):\n",
    "        for i in range(n):\n",
    "            qc += RP(f'c({j},{i})').on(i)\n",
    "        for ii in range(n - 1):\n",
    "            qc += Z(ii, ii + 1)\n",
    "        qc += Z(0, n-1)\n",
    "    return qc\n",
    "\n",
    "\n",
    "def init_state(n):\n",
    "    \"\"\"\n",
    "    :param n: number of qubits;\n",
    "    :return: a circuit for state preparation.\n",
    "    \"\"\"\n",
    "    qc = Circuit()\n",
    "    qc += UN(RY(np.pi / 4), range(n))\n",
    "    return qc"
   ]
  },
  {
   "attachments": {},
   "cell_type": "markdown",
   "metadata": {},
   "source": [
    "We build a 4-qubit, 6-layer circuit and show its first 12 quantum gates in the format of svg:。"
   ]
  },
  {
   "cell_type": "code",
   "execution_count": 28,
   "metadata": {},
   "outputs": [
    {
     "data": {
      "image/svg+xml": [
       "<div class=\"nb-html-output output_area\"><svg xmlns=\"http://www.w3.org/2000/svg\" width=\"496.8\" height=\"260.0\" xmlns:xlink=\"http://www.w3.org/1999/xlink\">\n",
       "<rect x=\"0\" y=\"0.0\" width=\"496.8\" height=\"260.0\" fill=\"#ffffff\" />\n",
       "<text x=\"20.0\" y=\"40.0\" font-size=\"16px\" dominant-baseline=\"middle\" text-anchor=\"start\" font-family=\"Arial\" font-weight=\"normal\" fill=\"#252b3a\" >\n",
       "q0:\n",
       " </text>\n",
       "<text x=\"20.0\" y=\"100.0\" font-size=\"16px\" dominant-baseline=\"middle\" text-anchor=\"start\" font-family=\"Arial\" font-weight=\"normal\" fill=\"#252b3a\" >\n",
       "q1:\n",
       " </text>\n",
       "<text x=\"20.0\" y=\"160.0\" font-size=\"16px\" dominant-baseline=\"middle\" text-anchor=\"start\" font-family=\"Arial\" font-weight=\"normal\" fill=\"#252b3a\" >\n",
       "q2:\n",
       " </text>\n",
       "<text x=\"20.0\" y=\"220.0\" font-size=\"16px\" dominant-baseline=\"middle\" text-anchor=\"start\" font-family=\"Arial\" font-weight=\"normal\" fill=\"#252b3a\" >\n",
       "q3:\n",
       " </text>\n",
       "<line x1=\"48.8\" x2=\"476.8\" y1=\"40.0\" y2=\"40.0\" stroke=\"#adb0b8\" stroke-width=\"1\" />\n",
       "<line x1=\"48.8\" x2=\"476.8\" y1=\"100.0\" y2=\"100.0\" stroke=\"#adb0b8\" stroke-width=\"1\" />\n",
       "<line x1=\"48.8\" x2=\"476.8\" y1=\"160.0\" y2=\"160.0\" stroke=\"#adb0b8\" stroke-width=\"1\" />\n",
       "<line x1=\"48.8\" x2=\"476.8\" y1=\"220.0\" y2=\"220.0\" stroke=\"#adb0b8\" stroke-width=\"1\" />\n",
       "\n",
       "<rect x=\"72.8\" y=\"20.0\" width=\"40.0\" height=\"40\" rx=\"4\" ry=\"4\" stroke=\"#ffffff\" stroke-width=\"0\" fill=\"#fac209\" fill-opacity=\"1\" />\n",
       "<text x=\"92.8\" y=\"36.0\" font-size=\"20px\" dominant-baseline=\"middle\" text-anchor=\"middle\" font-family=\"Arial\" font-weight=\"normal\" fill=\"#ffffff\" >\n",
       "RY\n",
       " </text>\n",
       "<text x=\"92.8\" y=\"52.0\" font-size=\"14.0px\" dominant-baseline=\"middle\" text-anchor=\"middle\" font-family=\"Arial\" font-weight=\"normal\" fill=\"#ffffff\" >\n",
       "π/4\n",
       " </text>\n",
       "\n",
       "\n",
       "<rect x=\"72.8\" y=\"80.0\" width=\"40.0\" height=\"40\" rx=\"4\" ry=\"4\" stroke=\"#ffffff\" stroke-width=\"0\" fill=\"#fac209\" fill-opacity=\"1\" />\n",
       "<text x=\"92.8\" y=\"96.0\" font-size=\"20px\" dominant-baseline=\"middle\" text-anchor=\"middle\" font-family=\"Arial\" font-weight=\"normal\" fill=\"#ffffff\" >\n",
       "RY\n",
       " </text>\n",
       "<text x=\"92.8\" y=\"112.0\" font-size=\"14.0px\" dominant-baseline=\"middle\" text-anchor=\"middle\" font-family=\"Arial\" font-weight=\"normal\" fill=\"#ffffff\" >\n",
       "π/4\n",
       " </text>\n",
       "\n",
       "\n",
       "<rect x=\"72.8\" y=\"140.0\" width=\"40.0\" height=\"40\" rx=\"4\" ry=\"4\" stroke=\"#ffffff\" stroke-width=\"0\" fill=\"#fac209\" fill-opacity=\"1\" />\n",
       "<text x=\"92.8\" y=\"156.0\" font-size=\"20px\" dominant-baseline=\"middle\" text-anchor=\"middle\" font-family=\"Arial\" font-weight=\"normal\" fill=\"#ffffff\" >\n",
       "RY\n",
       " </text>\n",
       "<text x=\"92.8\" y=\"172.0\" font-size=\"14.0px\" dominant-baseline=\"middle\" text-anchor=\"middle\" font-family=\"Arial\" font-weight=\"normal\" fill=\"#ffffff\" >\n",
       "π/4\n",
       " </text>\n",
       "\n",
       "\n",
       "<rect x=\"72.8\" y=\"200.0\" width=\"40.0\" height=\"40\" rx=\"4\" ry=\"4\" stroke=\"#ffffff\" stroke-width=\"0\" fill=\"#fac209\" fill-opacity=\"1\" />\n",
       "<text x=\"92.8\" y=\"216.0\" font-size=\"20px\" dominant-baseline=\"middle\" text-anchor=\"middle\" font-family=\"Arial\" font-weight=\"normal\" fill=\"#ffffff\" >\n",
       "RY\n",
       " </text>\n",
       "<text x=\"92.8\" y=\"232.0\" font-size=\"14.0px\" dominant-baseline=\"middle\" text-anchor=\"middle\" font-family=\"Arial\" font-weight=\"normal\" fill=\"#ffffff\" >\n",
       "π/4\n",
       " </text>\n",
       "\n",
       "\n",
       "<rect x=\"132.8\" y=\"20.0\" width=\"80.0\" height=\"40\" rx=\"4\" ry=\"4\" stroke=\"#ffffff\" stroke-width=\"0\" fill=\"#fac209\" fill-opacity=\"1\" />\n",
       "<text x=\"172.8\" y=\"36.0\" font-size=\"20px\" dominant-baseline=\"middle\" text-anchor=\"middle\" font-family=\"Arial\" font-weight=\"normal\" fill=\"#ffffff\" >\n",
       "RZ\n",
       " </text>\n",
       "<text x=\"172.8\" y=\"52.0\" font-size=\"14.0px\" dominant-baseline=\"middle\" text-anchor=\"middle\" font-family=\"Arial\" font-weight=\"normal\" fill=\"#ffffff\" >\n",
       "c(0,0)\n",
       " </text>\n",
       "\n",
       "\n",
       "<rect x=\"132.8\" y=\"80.0\" width=\"80.0\" height=\"40\" rx=\"4\" ry=\"4\" stroke=\"#ffffff\" stroke-width=\"0\" fill=\"#fac209\" fill-opacity=\"1\" />\n",
       "<text x=\"172.8\" y=\"96.0\" font-size=\"20px\" dominant-baseline=\"middle\" text-anchor=\"middle\" font-family=\"Arial\" font-weight=\"normal\" fill=\"#ffffff\" >\n",
       "RZ\n",
       " </text>\n",
       "<text x=\"172.8\" y=\"112.0\" font-size=\"14.0px\" dominant-baseline=\"middle\" text-anchor=\"middle\" font-family=\"Arial\" font-weight=\"normal\" fill=\"#ffffff\" >\n",
       "c(0,1)\n",
       " </text>\n",
       "\n",
       "\n",
       "<rect x=\"132.8\" y=\"140.0\" width=\"80.0\" height=\"40\" rx=\"4\" ry=\"4\" stroke=\"#ffffff\" stroke-width=\"0\" fill=\"#fac209\" fill-opacity=\"1\" />\n",
       "<text x=\"172.8\" y=\"156.0\" font-size=\"20px\" dominant-baseline=\"middle\" text-anchor=\"middle\" font-family=\"Arial\" font-weight=\"normal\" fill=\"#ffffff\" >\n",
       "RY\n",
       " </text>\n",
       "<text x=\"172.8\" y=\"172.0\" font-size=\"14.0px\" dominant-baseline=\"middle\" text-anchor=\"middle\" font-family=\"Arial\" font-weight=\"normal\" fill=\"#ffffff\" >\n",
       "c(0,2)\n",
       " </text>\n",
       "\n",
       "\n",
       "<rect x=\"132.8\" y=\"200.0\" width=\"80.0\" height=\"40\" rx=\"4\" ry=\"4\" stroke=\"#ffffff\" stroke-width=\"0\" fill=\"#fac209\" fill-opacity=\"1\" />\n",
       "<text x=\"172.8\" y=\"216.0\" font-size=\"20px\" dominant-baseline=\"middle\" text-anchor=\"middle\" font-family=\"Arial\" font-weight=\"normal\" fill=\"#ffffff\" >\n",
       "RZ\n",
       " </text>\n",
       "<text x=\"172.8\" y=\"232.0\" font-size=\"14.0px\" dominant-baseline=\"middle\" text-anchor=\"middle\" font-family=\"Arial\" font-weight=\"normal\" fill=\"#ffffff\" >\n",
       "c(0,3)\n",
       " </text>\n",
       "\n",
       "<circle cx=\"252.8\" cy=\"100.0\" r=\"4\" fill=\"#5e7ce0\" />\n",
       "<line x1=\"252.8\" x2=\"252.8\" y1=\"40.0\" y2=\"100.0\" stroke=\"#5e7ce0\" stroke-width=\"3\" />\n",
       "<rect x=\"232.8\" y=\"20.0\" width=\"40.0\" height=\"40\" rx=\"4\" ry=\"4\" stroke=\"#ffffff\" stroke-width=\"0\" fill=\"#5e7ce0\" fill-opacity=\"1\" />\n",
       "<text x=\"252.8\" y=\"40.0\" font-size=\"20px\" dominant-baseline=\"middle\" text-anchor=\"middle\" font-family=\"Arial\" font-weight=\"normal\" fill=\"#ffffff\" >\n",
       "Z\n",
       " </text>\n",
       "\n",
       "<circle cx=\"312.8\" cy=\"160.0\" r=\"4\" fill=\"#5e7ce0\" />\n",
       "<line x1=\"312.8\" x2=\"312.8\" y1=\"100.0\" y2=\"160.0\" stroke=\"#5e7ce0\" stroke-width=\"3\" />\n",
       "<rect x=\"292.8\" y=\"80.0\" width=\"40.0\" height=\"40\" rx=\"4\" ry=\"4\" stroke=\"#ffffff\" stroke-width=\"0\" fill=\"#5e7ce0\" fill-opacity=\"1\" />\n",
       "<text x=\"312.8\" y=\"100.0\" font-size=\"20px\" dominant-baseline=\"middle\" text-anchor=\"middle\" font-family=\"Arial\" font-weight=\"normal\" fill=\"#ffffff\" >\n",
       "Z\n",
       " </text>\n",
       "\n",
       "<circle cx=\"372.8\" cy=\"220.0\" r=\"4\" fill=\"#5e7ce0\" />\n",
       "<line x1=\"372.8\" x2=\"372.8\" y1=\"160.0\" y2=\"220.0\" stroke=\"#5e7ce0\" stroke-width=\"3\" />\n",
       "<rect x=\"352.8\" y=\"140.0\" width=\"40.0\" height=\"40\" rx=\"4\" ry=\"4\" stroke=\"#ffffff\" stroke-width=\"0\" fill=\"#5e7ce0\" fill-opacity=\"1\" />\n",
       "<text x=\"372.8\" y=\"160.0\" font-size=\"20px\" dominant-baseline=\"middle\" text-anchor=\"middle\" font-family=\"Arial\" font-weight=\"normal\" fill=\"#ffffff\" >\n",
       "Z\n",
       " </text>\n",
       "\n",
       "<circle cx=\"432.8\" cy=\"220.0\" r=\"4\" fill=\"#5e7ce0\" />\n",
       "<line x1=\"432.8\" x2=\"432.8\" y1=\"40.0\" y2=\"220.0\" stroke=\"#5e7ce0\" stroke-width=\"3\" />\n",
       "<rect x=\"412.8\" y=\"20.0\" width=\"40.0\" height=\"40\" rx=\"4\" ry=\"4\" stroke=\"#ffffff\" stroke-width=\"0\" fill=\"#5e7ce0\" fill-opacity=\"1\" />\n",
       "<text x=\"432.8\" y=\"40.0\" font-size=\"20px\" dominant-baseline=\"middle\" text-anchor=\"middle\" font-family=\"Arial\" font-weight=\"normal\" fill=\"#ffffff\" >\n",
       "Z\n",
       " </text>\n",
       "\n",
       "</svg></div>"
      ],
      "text/plain": [
       "<mindquantum.io.display.circuit_svg_drawer.SVGCircuit at 0x1f7f180b910>"
      ]
     },
     "execution_count": 28,
     "metadata": {},
     "output_type": "execute_result"
    }
   ],
   "source": [
    "n = 4\n",
    "p = 6\n",
    "circ = init_state(n) + bpansatz(n, p)\n",
    "circ[:12].svg()"
   ]
  },
  {
   "attachments": {},
   "cell_type": "markdown",
   "metadata": {},
   "source": [
    "Then we construct a 2-degree regular graph with 4 vertex."
   ]
  },
  {
   "cell_type": "code",
   "execution_count": 29,
   "metadata": {},
   "outputs": [
    {
     "data": {
      "image/png": "[encoded data removed]",
      "text/plain": [
       "<Figure size 640x480 with 1 Axes>"
      ]
     },
     "metadata": {},
     "output_type": "display_data"
    }
   ],
   "source": [
    "graph = nx.random_graphs.random_regular_graph(2, n)\n",
    "nx.draw(graph)"
   ]
  },
  {
   "attachments": {},
   "cell_type": "markdown",
   "metadata": {},
   "source": [
    "Here we call the ``train()`` method. Set `steps=100` to train the model 100 times:"
   ]
  },
  {
   "cell_type": "code",
   "execution_count": 30,
   "metadata": {},
   "outputs": [
    {
     "name": "stdout",
     "output_type": "stream",
     "text": [
      "100%|██████████| 100/100 [00:00<00:00, 1955.50it/s]\n"
     ]
    }
   ],
   "source": [
    "s2list, costlist, gradlist = train(\n",
    "            HeisenbergModel(1, 1, graph=graph),\n",
    "            circ,\n",
    "            steps=100,\n",
    "            eta=1e-1,\n",
    "            list_qubits2keep=[0, 1],\n",
    "        )"
   ]
  },
  {
   "attachments": {},
   "cell_type": "markdown",
   "metadata": {},
   "source": [
    "where `list_qubits2keep=[0, 1]` means we only keep the space of `q0` and `q1` and trace out the others when we calculate entanglement entropy."
   ]
  },
  {
   "attachments": {},
   "cell_type": "markdown",
   "metadata": {},
   "source": [
    "Finally, we use `matplotlib.pyplot` to visualize the results:"
   ]
  },
  {
   "cell_type": "code",
   "execution_count": 31,
   "metadata": {},
   "outputs": [
    {
     "data": {
      "text/plain": [
       "<matplotlib.legend.Legend at 0x1f7f1a1d2b0>"
      ]
     },
     "execution_count": 31,
     "metadata": {},
     "output_type": "execute_result"
    },
    {
     "data": {
      "image/png": "[encoded data removed]",
      "text/plain": [
       "<Figure size 600x1200 with 3 Axes>"
      ]
     },
     "metadata": {},
     "output_type": "display_data"
    }
   ],
   "source": [
    "fig, axs = plt.subplots(3, figsize=(6, 12))\n",
    "axs[0].plot(np.array(s2list) / (s_page(2, 6)), label=(r'$\\eta=$' + f'{1e-1}'))\n",
    "axs[1].plot(costlist)\n",
    "axs[2].plot(gradlist)\n",
    "axs[0].set(ylabel=r'$S_2 / S_{page}$',\n",
    "               ylim=(0, 1))\n",
    "axs[1].set(ylabel=r'Energy $E$')\n",
    "axs[2].set(ylabel=r'$\\Vert \\nabla_\\theta E \\Vert$',\n",
    "            xlabel='Iterations')\n",
    "axs[0].legend(loc='upper right')"
   ]
  },
  {
   "attachments": {},
   "cell_type": "markdown",
   "metadata": {},
   "source": [
    "This result is consistent with the paper."
   ]
  },
  {
   "attachments": {},
   "cell_type": "markdown",
   "metadata": {},
   "source": [
    "To find out more about MindQuantum's API, please click on [https://mindspore.cn/mindquantum/](https://mindspore.cn/mindquantum/)."
   ]
  }
 ],
 "metadata": {
  "kernelspec": {
   "display_name": "mindspore_py39",
   "language": "python",
   "name": "python3"
  },
  "language_info": {
   "codemirror_mode": {
    "name": "ipython",
    "version": 3
   },
   "file_extension": ".py",
   "mimetype": "text/x-python",
   "name": "python",
   "nbconvert_exporter": "python",
   "pygments_lexer": "ipython3",
   "version": "3.9.0"
  },
  "orig_nbformat": 4
 },
 "nbformat": 4,
 "nbformat_minor": 2
}
