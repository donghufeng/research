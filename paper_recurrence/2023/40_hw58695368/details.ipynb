{
 "cells": [
  {
   "cell_type": "markdown",
   "metadata": {},
   "source": [
    "# 一些功能及用法演示"
   ]
  },
  {
   "cell_type": "markdown",
   "metadata": {},
   "source": [
    "### 1.变量"
   ]
  },
  {
   "cell_type": "code",
   "execution_count": 1,
   "metadata": {
    "collapsed": true
   },
   "outputs": [
    {
     "name": "stderr",
     "output_type": "stream",
     "text": [
      "[WARNING] ME(147207:140353854792512,MainProcess):2023-10-18-00:25:02.556.931 [mindspore/run_check/_check_version.py:102] MindSpore version 2.1.0 and cuda version 11.2.72 does not match, CUDA version [['10.1', '11.1', '11.6']] are supported by MindSpore officially. Please refer to the installation guide for version matching information: https://www.mindspore.cn/install.\n"
     ]
    }
   ],
   "source": [
    "from src.vqf_var_pool import VQFVarPool, VQFVar"
   ]
  },
  {
   "cell_type": "markdown",
   "metadata": {},
   "source": [
    "#### 1.1.使用VQFVarPool生成p、q变量池"
   ]
  },
  {
   "cell_type": "code",
   "execution_count": 2,
   "metadata": {},
   "outputs": [
    {
     "data": {
      "text/plain": [
       "['p0',\n",
       " 'p1',\n",
       " 'p2',\n",
       " 'p3',\n",
       " 'p4',\n",
       " 'p5',\n",
       " 'p6',\n",
       " 'p7',\n",
       " 'q0',\n",
       " 'q1',\n",
       " 'q2',\n",
       " 'q3',\n",
       " 'q4',\n",
       " 'q5',\n",
       " 'q6',\n",
       " 'q7']"
      ]
     },
     "execution_count": 2,
     "metadata": {},
     "output_type": "execute_result"
    }
   ],
   "source": [
    "m, p, q = 56153, 241, 233\n",
    "vp = VQFVarPool(m, [p, q])\n",
    "vp.all_elements"
   ]
  },
  {
   "cell_type": "markdown",
   "metadata": {},
   "source": [
    "#### 1.2.如果p、q未给出真值则根据m二进制长度生成p、q变量池"
   ]
  },
  {
   "cell_type": "markdown",
   "metadata": {},
   "source": [
    "默认p＞q"
   ]
  },
  {
   "cell_type": "code",
   "execution_count": 3,
   "metadata": {},
   "outputs": [
    {
     "data": {
      "text/plain": [
       "['p0',\n",
       " 'p1',\n",
       " 'p2',\n",
       " 'p3',\n",
       " 'p4',\n",
       " 'p5',\n",
       " 'p6',\n",
       " 'p7',\n",
       " 'p8',\n",
       " 'p9',\n",
       " 'p10',\n",
       " 'p11',\n",
       " 'p12',\n",
       " 'p13',\n",
       " 'p14',\n",
       " 'p15',\n",
       " 'q0',\n",
       " 'q1',\n",
       " 'q2',\n",
       " 'q3',\n",
       " 'q4',\n",
       " 'q5',\n",
       " 'q6',\n",
       " 'q7']"
      ]
     },
     "execution_count": 3,
     "metadata": {},
     "output_type": "execute_result"
    }
   ],
   "source": [
    "vp = VQFVarPool(m, None)\n",
    "vp.all_elements"
   ]
  },
  {
   "cell_type": "markdown",
   "metadata": {},
   "source": [
    "#### 1.3.修改或新增变量"
   ]
  },
  {
   "cell_type": "code",
   "execution_count": 4,
   "metadata": {
    "collapsed": true
   },
   "outputs": [],
   "source": [
    "vp.update_var('z_1_2', 1, 'z_1_2')"
   ]
  },
  {
   "cell_type": "markdown",
   "metadata": {},
   "source": [
    "输入参数意义见VQFVar"
   ]
  },
  {
   "cell_type": "code",
   "execution_count": 5,
   "metadata": {},
   "outputs": [
    {
     "name": "stdout",
     "output_type": "stream",
     "text": [
      "Help on class VQFVar in module src.vqf_var_pool:\n",
      "\n",
      "class VQFVar(builtins.object)\n",
      " |  VQFVar(name, expr_form, value)\n",
      " |  \n",
      " |  Args:\n",
      " |      name (str): Name of variable.\n",
      " |      expr_form (int): Expression form. Supported:\n",
      " |          {0: binary int, 1: x, 2: 1-x, 3: xy, 4: 1-xy}\n",
      " |      value (str): Variable name or a number.\n",
      " |  \n",
      " |  Methods defined here:\n",
      " |  \n",
      " |  __call__(self, obj)\n",
      " |      Get term.\n",
      " |  \n",
      " |  __init__(self, name, expr_form, value)\n",
      " |      Initialize a VQFVar object.\n",
      " |  \n",
      " |  clear(self, obj)\n",
      " |      Convert a non-variable item to a constant value.\n",
      " |  \n",
      " |  get_expr(self, obj)\n",
      " |      Get variable relation expression.\n",
      " |  \n",
      " |  get_var(self, obj)\n",
      " |      Get all independent variables.\n",
      " |  \n",
      " |  ----------------------------------------------------------------------\n",
      " |  Readonly properties defined here:\n",
      " |  \n",
      " |  is_const\n",
      " |      Check whether the variable is constant.\n",
      " |  \n",
      " |  is_ind_var\n",
      " |      Check whether the variable is independent variable.\n",
      " |  \n",
      " |  ----------------------------------------------------------------------\n",
      " |  Data descriptors defined here:\n",
      " |  \n",
      " |  __dict__\n",
      " |      dictionary for instance variables (if defined)\n",
      " |  \n",
      " |  __weakref__\n",
      " |      list of weak references to the object (if defined)\n",
      "\n"
     ]
    }
   ],
   "source": [
    "help(VQFVar)"
   ]
  },
  {
   "cell_type": "markdown",
   "metadata": {},
   "source": [
    "#### 1.4.查看所有自变量"
   ]
  },
  {
   "cell_type": "code",
   "execution_count": 6,
   "metadata": {},
   "outputs": [
    {
     "data": {
      "text/plain": [
       "['p1',\n",
       " 'p2',\n",
       " 'p3',\n",
       " 'p4',\n",
       " 'p5',\n",
       " 'p6',\n",
       " 'p7',\n",
       " 'p8',\n",
       " 'p9',\n",
       " 'p10',\n",
       " 'p11',\n",
       " 'p12',\n",
       " 'p13',\n",
       " 'p14',\n",
       " 'p15',\n",
       " 'q1',\n",
       " 'q2',\n",
       " 'q3',\n",
       " 'q4',\n",
       " 'q5',\n",
       " 'q6',\n",
       " 'q7',\n",
       " 'z_1_2']"
      ]
     },
     "execution_count": 6,
     "metadata": {},
     "output_type": "execute_result"
    }
   ],
   "source": [
    "vp.all_variables"
   ]
  },
  {
   "cell_type": "markdown",
   "metadata": {},
   "source": [
    "#### 1.5.建立给定变量与泡利算符关系"
   ]
  },
  {
   "cell_type": "code",
   "execution_count": 7,
   "metadata": {},
   "outputs": [
    {
     "data": {
      "text/plain": [
       "['p0', 'p1', 'p2', 'p3']"
      ]
     },
     "execution_count": 7,
     "metadata": {},
     "output_type": "execute_result"
    }
   ],
   "source": [
    "vp.build_var_oper_list(vp.all_elements[:4])\n",
    "vp.all_elements[:4]"
   ]
  },
  {
   "cell_type": "code",
   "execution_count": 8,
   "metadata": {},
   "outputs": [
    {
     "name": "stdout",
     "output_type": "stream",
     "text": [
      "p1\n",
      "1/2 [Z0] +\n",
      "1/2 []\n",
      "p2\n",
      "1/2 [Z1] +\n",
      "1/2 []\n",
      "p3\n",
      "1/2 [Z2] +\n",
      "1/2 []\n"
     ]
    }
   ],
   "source": [
    "for v in vp.var_list:\n",
    "    print(v)\n",
    "    print(vp(v))"
   ]
  },
  {
   "cell_type": "markdown",
   "metadata": {},
   "source": [
    "#### 1.6.理论上可以通过中间变量构造绝大部分关系式"
   ]
  },
  {
   "cell_type": "markdown",
   "metadata": {},
   "source": [
    "需注意避免关系式闭合情况(无检错-死循环)"
   ]
  },
  {
   "cell_type": "code",
   "execution_count": 9,
   "metadata": {},
   "outputs": [
    {
     "data": {
      "text/plain": [
       "('p2*p3*p4', ['p2', 'p3', 'p4'])"
      ]
     },
     "execution_count": 9,
     "metadata": {},
     "output_type": "execute_result"
    }
   ],
   "source": [
    "# p1 = p2*p3*p4\n",
    "vp.update_var('m0', 3, ('p2', 'p3'))     # m0=p2*p3\n",
    "vp.update_var('p1', 3, ('m0', 'p4'))     # p1=m0*p4\n",
    "vp.get_expr('p1')   # 获取(表达式、包含变量)"
   ]
  },
  {
   "cell_type": "markdown",
   "metadata": {},
   "source": [
    "#### 1.7.常值项清理中间过程"
   ]
  },
  {
   "cell_type": "code",
   "execution_count": 10,
   "metadata": {},
   "outputs": [
    {
     "data": {
      "text/plain": [
       "[('0', []), ('0', []), ('p3', ['p3']), ('p4', ['p4']), ('0', [])]"
      ]
     },
     "execution_count": 10,
     "metadata": {},
     "output_type": "execute_result"
    }
   ],
   "source": [
    "# p2=0\n",
    "# -> m0=0\n",
    "# -> p1=0\n",
    "vp.update_var('p2', 0, 0)\n",
    "vp.clear()\n",
    "[vp.get_expr(v) for v in ['p1', 'p2', 'p3', 'p4', 'm0']]"
   ]
  },
  {
   "cell_type": "markdown",
   "metadata": {},
   "source": [
    "#### 1.8.常值与自变量判断"
   ]
  },
  {
   "cell_type": "code",
   "execution_count": 11,
   "metadata": {},
   "outputs": [
    {
     "data": {
      "text/plain": [
       "[(True, False), (False, True)]"
      ]
     },
     "execution_count": 11,
     "metadata": {},
     "output_type": "execute_result"
    }
   ],
   "source": [
    "[(vp.v_dict[v].is_const, vp.v_dict[v].is_ind_var) for v in ['p2', 'p3']]"
   ]
  },
  {
   "cell_type": "markdown",
   "metadata": {
    "collapsed": true
   },
   "source": [
    "### 2.子句"
   ]
  },
  {
   "cell_type": "code",
   "execution_count": 12,
   "metadata": {
    "collapsed": true
   },
   "outputs": [],
   "source": [
    "from src.vqf_clauses_lib import VQFClausesA"
   ]
  },
  {
   "cell_type": "markdown",
   "metadata": {},
   "source": [
    "#### 2.1.生成子句集"
   ]
  },
  {
   "cell_type": "code",
   "execution_count": 13,
   "metadata": {
    "collapsed": true
   },
   "outputs": [],
   "source": [
    "m, p, q = 56153, 241, 233\n",
    "vc = VQFClausesA(m, [p, q])"
   ]
  },
  {
   "cell_type": "code",
   "execution_count": 14,
   "metadata": {
    "collapsed": true
   },
   "outputs": [
    {
     "name": "stdout",
     "output_type": "stream",
     "text": [
      "['p1', 'p2', 'p3', 'p4', 'p5', 'p6', 'p7', 'p8', 'p9', 'p10', 'p11', 'p12', 'p13', 'p14', 'p15', 'q1', 'q2', 'q3', 'q4', 'q5', 'q6', 'q7', 'z_1_2', 'z_2_3', 'z_2_4', 'z_3_4', 'z_3_5', 'z_4_5', 'z_4_6', 'z_5_6', 'z_5_7', 'z_5_8', 'z_6_7', 'z_6_8', 'z_6_9', 'z_7_8', 'z_7_9', 'z_7_10', 'z_8_9', 'z_8_10', 'z_8_11', 'z_9_10', 'z_9_11', 'z_9_12', 'z_10_11', 'z_10_12', 'z_10_13', 'z_11_12', 'z_11_13', 'z_11_14', 'z_12_13', 'z_12_14', 'z_12_15', 'z_13_14', 'z_13_15', 'z_13_16', 'z_14_15', 'z_14_16', 'z_14_17', 'z_15_16', 'z_15_17', 'z_15_18', 'z_16_17', 'z_16_18', 'z_16_19', 'z_17_18', 'z_17_19', 'z_17_20', 'z_18_19', 'z_18_20', 'z_18_21', 'z_19_20', 'z_19_21', 'z_20_21', 'z_20_22', 'z_21_22', 'z_21_23', 'z_22_23']\n"
     ]
    }
   ],
   "source": [
    "vc = VQFClausesA(m, None)\n",
    "print(vc.all_variables)"
   ]
  },
  {
   "cell_type": "markdown",
   "metadata": {},
   "source": [
    "#### 2.2.子句形式统一"
   ]
  },
  {
   "cell_type": "code",
   "execution_count": 15,
   "metadata": {},
   "outputs": [
    {
     "data": {
      "text/plain": [
       "24"
      ]
     },
     "execution_count": 15,
     "metadata": {},
     "output_type": "execute_result"
    }
   ],
   "source": [
    "vc.n_clauses"
   ]
  },
  {
   "cell_type": "markdown",
   "metadata": {},
   "source": [
    "子句集由$n_c$个子句组成: `list[list]`"
   ]
  },
  {
   "cell_type": "code",
   "execution_count": 16,
   "metadata": {},
   "outputs": [
    {
     "data": {
      "text/plain": [
       "[[{'p0', 'q0'}, (['p0', 'q0'], -1)],\n",
       " [{'p0', 'p1', 'q0', 'q1', 'z_1_2'},\n",
       "  (['p0', 'q1'], ['p1', 'q0'], 0, [-2, 'z_1_2'])]]"
      ]
     },
     "execution_count": 16,
     "metadata": {},
     "output_type": "execute_result"
    }
   ],
   "source": [
    "vc.clauses[0:2]"
   ]
  },
  {
   "cell_type": "markdown",
   "metadata": {},
   "source": [
    "每个子句由变量集和累加项组成: `list[set, tuple]`"
   ]
  },
  {
   "cell_type": "code",
   "execution_count": 17,
   "metadata": {},
   "outputs": [
    {
     "data": {
      "text/plain": [
       "[{'p0', 'p1', 'q0', 'q1', 'z_1_2'},\n",
       " (['p0', 'q1'], ['p1', 'q0'], 0, [-2, 'z_1_2'])]"
      ]
     },
     "execution_count": 17,
     "metadata": {},
     "output_type": "execute_result"
    }
   ],
   "source": [
    "vc.clauses[1]"
   ]
  },
  {
   "cell_type": "markdown",
   "metadata": {},
   "source": [
    "变量集由表达该子句所需的变量名组成: `set[str]`"
   ]
  },
  {
   "cell_type": "code",
   "execution_count": 18,
   "metadata": {},
   "outputs": [
    {
     "data": {
      "text/plain": [
       "{'p0', 'p1', 'q0', 'q1', 'z_1_2'}"
      ]
     },
     "execution_count": 18,
     "metadata": {},
     "output_type": "execute_result"
    }
   ],
   "source": [
    "vc.clauses[1][0]"
   ]
  },
  {
   "cell_type": "markdown",
   "metadata": {},
   "source": [
    "子句累加项由一系列数值、变量名、累乘项组成: `tuple[...]`"
   ]
  },
  {
   "cell_type": "code",
   "execution_count": 19,
   "metadata": {},
   "outputs": [
    {
     "data": {
      "text/plain": [
       "(['p0', 'q1'], ['p1', 'q0'], 0, [-2, 'z_1_2'])"
      ]
     },
     "execution_count": 19,
     "metadata": {},
     "output_type": "execute_result"
    }
   ],
   "source": [
    "vc.clauses[1][1]"
   ]
  },
  {
   "cell_type": "markdown",
   "metadata": {},
   "source": [
    "#### 2.3.生成子句表达式"
   ]
  },
  {
   "cell_type": "markdown",
   "metadata": {},
   "source": [
    "生成指定子句解析后的字符串表达式和表达式中包含的所有自变量"
   ]
  },
  {
   "cell_type": "markdown",
   "metadata": {},
   "source": [
    "便于应用经典预处理操作"
   ]
  },
  {
   "cell_type": "code",
   "execution_count": 20,
   "metadata": {},
   "outputs": [
    {
     "name": "stdout",
     "output_type": "stream",
     "text": [
      "('(1)*(1)+(-1)', [])\n",
      "('(1)*(q1)+(p1)*(1)+(0)+(-2)*(z_1_2)', ['z_1_2', 'p1', 'q1'])\n",
      "('(1)*(q2)+(p1)*(q1)+(p2)*(1)+(z_1_2)+(0)+(-2)*(z_2_3)+(-4)*(z_2_4)', ['q2', 'z_2_4', 'q1', 'p2', 'z_1_2', 'p1', 'z_2_3'])\n"
     ]
    }
   ],
   "source": [
    "for i in range(3):\n",
    "    print(vc.get_expr(i))"
   ]
  },
  {
   "cell_type": "markdown",
   "metadata": {},
   "source": [
    "#### 2.4.哈密顿量"
   ]
  },
  {
   "cell_type": "markdown",
   "metadata": {},
   "source": [
    "获取指定区间内子句的哈密顿量\n",
    "$H_{c_lc_r}=\\sum^{c_r}_{i=c_l} C^2_i$"
   ]
  },
  {
   "cell_type": "markdown",
   "metadata": {},
   "source": [
    "$(c_l=0, c_r=n_c)$即为整个子句集的哈密顿量"
   ]
  },
  {
   "cell_type": "code",
   "execution_count": 21,
   "metadata": {},
   "outputs": [
    {
     "data": {
      "text/plain": [
       "   9 [] +\n",
       "-3/4 [Z0 Z2] +\n",
       "-3/4 [Z1 Z2] +\n",
       "-5/4 [Z3] +\n",
       " 1/4 [Z0 Z1 Z3] +\n",
       " 1/4 [Z1 Z3] +\n",
       " 1/4 [Z0 Z3] +\n",
       " 1/2 [Z3 Z4] +\n",
       " 1/2 [Z2 Z3] +\n",
       "  -1 [Z3 Z5] +\n",
       "  -2 [Z3 Z6] +\n",
       "-1/2 [Z1] +\n",
       "-1/2 [Z0] +\n",
       "-5/4 [Z4] +\n",
       "-5/4 [Z2] +\n",
       " 5/2 [Z5] +\n",
       "   5 [Z6] +\n",
       " 1/4 [Z0 Z1 Z4] +\n",
       " 1/4 [Z0 Z1 Z2] +\n",
       "-1/2 [Z0 Z1 Z5] +\n",
       "  -1 [Z0 Z1 Z6] +\n",
       " 1/4 [Z1 Z4] +\n",
       "-1/2 [Z1 Z5] +\n",
       "  -1 [Z1 Z6] +\n",
       " 1/4 [Z0 Z4] +\n",
       "-1/2 [Z0 Z5] +\n",
       "  -1 [Z0 Z6] +\n",
       " 1/2 [Z2 Z4] +\n",
       "  -1 [Z4 Z5] +\n",
       "  -2 [Z4 Z6] +\n",
       "  -1 [Z2 Z5] +\n",
       "  -2 [Z2 Z6] +\n",
       "   4 [Z5 Z6]"
      ]
     },
     "execution_count": 21,
     "metadata": {},
     "output_type": "execute_result"
    }
   ],
   "source": [
    "c_l = 1\n",
    "c_r = 3\n",
    "ham, var_l = vc.get_ham(c_l, c_r)\n",
    "ham"
   ]
  },
  {
   "cell_type": "markdown",
   "metadata": {},
   "source": [
    "泡利算符Z0~Zn(此处n=6)按顺序对应子句自变量列表"
   ]
  },
  {
   "cell_type": "code",
   "execution_count": 22,
   "metadata": {},
   "outputs": [
    {
     "data": {
      "text/plain": [
       "['q1', 'p1', 'z_1_2', 'q2', 'p2', 'z_2_3', 'z_2_4']"
      ]
     },
     "execution_count": 22,
     "metadata": {},
     "output_type": "execute_result"
    }
   ],
   "source": [
    "var_l"
   ]
  },
  {
   "cell_type": "markdown",
   "metadata": {},
   "source": [
    "#### 2.5.生成子句集"
   ]
  },
  {
   "cell_type": "markdown",
   "metadata": {},
   "source": [
    "与1.3同"
   ]
  },
  {
   "cell_type": "code",
   "execution_count": null,
   "metadata": {
    "collapsed": true
   },
   "outputs": [],
   "source": [
    "vc.update_var(name, expr_form, value)"
   ]
  },
  {
   "cell_type": "markdown",
   "metadata": {},
   "source": [
    "#### 2.6.生成结果"
   ]
  },
  {
   "cell_type": "markdown",
   "metadata": {},
   "source": [
    "所有变量赋值为1后获取结果"
   ]
  },
  {
   "cell_type": "code",
   "execution_count": null,
   "metadata": {},
   "outputs": [
    {
     "data": {
      "text/plain": [
       "{'status': True, 'p': 255, 'q': 255, 'm': 56153, 'p_q_real': [241, 233]}"
      ]
     },
     "execution_count": 21,
     "metadata": {},
     "output_type": "execute_result"
    }
   ],
   "source": [
    "_ = [vc.update_var(k, 0, 1) for k in vc.all_variables]\n",
    "vc.get_result()"
   ]
  },
  {
   "cell_type": "markdown",
   "metadata": {},
   "source": [
    "检查当前p、q代入到每个子句后是否满足值为0"
   ]
  },
  {
   "cell_type": "code",
   "execution_count": null,
   "metadata": {},
   "outputs": [
    {
     "name": "stdout",
     "output_type": "stream",
     "text": [
      "0\n",
      "0\n",
      "-2\n",
      "-2\n",
      "0\n",
      "-6\n",
      "-6\n",
      "-4\n",
      "-5\n",
      "-6\n",
      "-6\n",
      "0\n",
      "-1\n",
      "-1\n",
      "0\n",
      "1\n"
     ]
    }
   ],
   "source": [
    "for i in range(vc.n_clauses):\n",
    "    expr, v = vc.get_expr(i)\n",
    "    if v:\n",
    "        print(expr)\n",
    "    else:\n",
    "        print(eval(expr))"
   ]
  },
  {
   "cell_type": "markdown",
   "metadata": {},
   "source": [
    "### 3.预处理"
   ]
  },
  {
   "cell_type": "code",
   "execution_count": null,
   "metadata": {
    "collapsed": true
   },
   "outputs": [],
   "source": []
  },
  {
   "cell_type": "markdown",
   "metadata": {},
   "source": [
    "#### 3.1."
   ]
  },
  {
   "cell_type": "code",
   "execution_count": null,
   "metadata": {
    "collapsed": true
   },
   "outputs": [],
   "source": []
  }
 ],
 "metadata": {
  "kernelspec": {
   "display_name": "base",
   "language": "python",
   "name": "python3"
  },
  "language_info": {
   "codemirror_mode": {
    "name": "ipython",
    "version": 3
   },
   "file_extension": ".py",
   "mimetype": "text/x-python",
   "name": "python",
   "nbconvert_exporter": "python",
   "pygments_lexer": "ipython3",
   "version": "3.9.7"
  }
 },
 "nbformat": 4,
 "nbformat_minor": 2
}
