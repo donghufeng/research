{
 "cells": [
  {
   "cell_type": "markdown",
   "id": "9eb3e7c0-c18a-4d68-8e01-62bacc584228",
   "metadata": {},
   "source": [
    "# 变分量子奇异值分解\n",
    "\n",
    "变分量子奇异值分解（Variational Quantum Singular Value Decomposition，VQSVD）是使用量子线路实现矩阵SVD分解，复现论文 [1] 内容。\n",
    "\n",
    "文中给出的 VASVD 算法流程如下：\n",
    "\n",
    "![](images/vqsvd_algorithm.png)\n",
    "\n",
    "其流程图如下：\n",
    "\n",
    "![](images/vqsvd_diagram.png)"
   ]
  },
  {
   "cell_type": "markdown",
   "id": "046c659b-dd06-432d-b94b-a2b5c6773998",
   "metadata": {},
   "source": [
    "将相关接口封装，其中 `decompose_matrix` 实现将输入矩阵分解成算法步骤1中 $M = \\sum_{k=1}^K c_k A_k$ 形式，`get_basis` 返回步骤3中的基（Computational basis），`reconstruct_by_vqsvd` 传入相关参数，重建矩阵。`VQSVDTrainer` 封装参数训练过程。下面对主体函数 `run` 进行讲解，更多细节可查看 `src/` 目录下源代码。"
   ]
  },
  {
   "cell_type": "code",
   "execution_count": 1,
   "id": "ac939ac5-ce64-422a-af47-c187dd0269dd",
   "metadata": {},
   "outputs": [],
   "source": [
    "import numpy as np\n",
    "from src.uitls import decompose_matrix, get_basis, reconstruct_by_vqsvd\n",
    "from src.vqsvd import VQSVDTrainer\n",
    "\n",
    "\n",
    "def run_demo(n_qubit, rank, ansatz_uv, in_mat, epoch=50, lr=1e-2, method='adam'):\n",
    "    \"\"\"Run QVSVD process with specific parameters.\n",
    "\n",
    "    Args:\n",
    "        n_qubit: number of qubit.\n",
    "        rank: rank T.\n",
    "        ansatz_uv: U and V ansatz circuits.\n",
    "        in_mat: the input matrix.\n",
    "        epoch: the epoch of training.\n",
    "        lr: learning rate of optimizer.\n",
    "\n",
    "    Return:\n",
    "        re_mat: the reconstructed matrix.\n",
    "    \"\"\"\n",
    "    # 分解矩阵\n",
    "    mat_item = decompose_matrix(n_qubit, in_mat)\n",
    "    # 变分线路U和V\n",
    "    ansatz_u, ansatz_v = ansatz_uv\n",
    "    # Algorithm 1中步骤2的正数q\n",
    "    q = np.arange(rank, 0, -1)\n",
    "    # 正交基底\n",
    "    basis = get_basis(n_qubit, rank)\n",
    "    # 封装的训练器\n",
    "    vqsvd = VQSVDTrainer(n_qubit, mat_item, rank, ansatz_u, ansatz_v, q, basis,\n",
    "                         lr=lr, method=method)\n",
    "    # 训练参数\n",
    "    vqsvd.train(epoch)\n",
    "    # 重建矩阵\n",
    "    re_mat = reconstruct_by_vqsvd(n_qubit, in_mat, basis, ansatz_u, ansatz_v,\n",
    "                                  weight=vqsvd.weight)\n",
    "    return re_mat"
   ]
  },
  {
   "cell_type": "markdown",
   "id": "1834d748-4b67-4571-9f76-82b442384660",
   "metadata": {},
   "source": [
    "下面以重建一个 `8 x 8` 的矩阵为例，说明函数使用。"
   ]
  },
  {
   "cell_type": "code",
   "execution_count": 11,
   "id": "6f979192-c108-44d6-8fe1-fe385e7bbdff",
   "metadata": {},
   "outputs": [
    {
     "name": "stderr",
     "output_type": "stream",
     "text": [
      "100%|██████████| 200/200 [01:53<00:00,  1.76it/s]\n"
     ]
    },
    {
     "data": {
      "image/png": "[encoded data removed]",
      "text/plain": [
       "<Figure size 720x216 with 3 Axes>"
      ]
     },
     "metadata": {
      "needs_background": "light"
     },
     "output_type": "display_data"
    }
   ],
   "source": [
    "import matplotlib.pyplot as plt\n",
    "from src.uitls import reconstruct_by_svd, get_ansatz\n",
    "\n",
    "\n",
    "def demo():\n",
    "    n_qubit = 3           # 量子比特数\n",
    "    depth = 20            # 线路深度\n",
    "    rank = 5              # 使用的秩数\n",
    "    max_epoch = 200       # 最大迭代次数\n",
    "    lr = 0.01             # 学习率\n",
    "    # 读取图片，大小为 8x8\n",
    "    in_mat = plt.imread('images/digit7_8x8.png')\n",
    "\n",
    "    # 使用经典 SVD 重建图片\n",
    "    re_mat_svd = reconstruct_by_svd(in_mat, rank)\n",
    "    # 使用 VQSVD 重建图片\n",
    "    ansatz_uv = get_ansatz(n_qubit, depth)\n",
    "    re_mat = run_demo(n_qubit, rank, ansatz_uv, in_mat,\n",
    "                      epoch=max_epoch, lr=lr)\n",
    "    # 绘图\n",
    "    plt.figure(figsize=(10, 3))\n",
    "    plt.subplot(1, 3, 1)\n",
    "    plt.imshow(in_mat, cmap='gray')\n",
    "    plt.title(\"Original #7\")\n",
    "    plt.subplot(1, 3, 2)\n",
    "    plt.imshow(re_mat_svd, cmap='gray')\n",
    "    plt.title(\"SVD Result\")\n",
    "    plt.subplot(1, 3, 3)\n",
    "    plt.imshow(re_mat, cmap='gray')\n",
    "    plt.title(\"VQSVD Result\")\n",
    "    plt.show()\n",
    "\n",
    "\n",
    "demo()"
   ]
  },
  {
   "cell_type": "markdown",
   "id": "a69566fb-97bf-480f-a544-ae6ae0432973",
   "metadata": {},
   "source": [
    "## 论文图片复现\n",
    "\n",
    "论文中其他图像复现代码如下："
   ]
  },
  {
   "cell_type": "code",
   "execution_count": null,
   "id": "7cfe913f-8799-4fa2-a723-8b4ee84506c9",
   "metadata": {},
   "outputs": [],
   "source": [
    "from src.demo import plot_figure4, plot_figure5, plot_figure7, plot_figure7_light\n",
    "\n",
    "\n",
    "# 复现论文图4\n",
    "\n",
    "plot_figure4()"
   ]
  },
  {
   "cell_type": "markdown",
   "id": "726d0c87-b5e0-47a7-9de8-5ba0123b3bed",
   "metadata": {},
   "source": [
    "- 运行 `plot_figure4()`，论文 Fig.4 复现结果如下：\n",
    "\n",
    "![](images/figure4_bak.png)\n",
    "\n"
   ]
  },
  {
   "cell_type": "markdown",
   "id": "fa164181-abe7-4c07-9911-ef1c9c741fb7",
   "metadata": {},
   "source": [
    "- 运行 `plot_figure5(n_qubit=3)`, 使用 VQSVD 重建 `8 x 8` 矩阵，在 8u32G cpu 耗时大约 6 分钟。如果运行 `plot_figure5(n_qubit=5)` 则重建 `32 x 32` 矩阵，此时可能比较耗时，在 8u32G cpu 耗时大约 3 个小时。运行 `plot_figure5(n_qubit=3)` 结果如下，可以看到此时 VQSVD 能很好重建原图像。\n",
    "\n",
    "![](images/figure5_8x8_bak.png)"
   ]
  },
  {
   "cell_type": "markdown",
   "id": "51268c42-c7bf-412f-95b5-fa6407b5731b",
   "metadata": {},
   "source": [
    "- 运行 `plot_figure7_light()`，复现结果如下图，可见相同参数数目下线路 (a) 效果最好。`plot_figure7_light` 采用 scipy 的 BFGS 优化器优化，`plot_figure7` 使用 mindspore 的 Adam 优化器优化，前者收敛速度更快。\n",
    "\n",
    "![](images/figure7_bak.png)\n"
   ]
  },
  {
   "cell_type": "markdown",
   "id": "756fdd5d-11fb-4846-a47f-2346a683b162",
   "metadata": {},
   "source": [
    "## 其他改进\n",
    "\n",
    "复现论文中 Figure.5 结果，图片大小为 `32x32` 时速度较慢，通过使用 BFGS 优化器加快收敛，另外通过获取量子态直接计算期望值，而不是通过将矩阵分解成哈密顿量再逐项计算，可以有效提高计算速度。需要说明的是，使用量子态直接计算期望值是仅在模拟器中演示算法总体可行性，现实中无法获得量子真实状态。通过改进，算法速度提高 6 倍左右，使用方法为 `plot_figure5_light`，其底层通过 `scipy.optimize.minimize` 封装，具体内容见函数 `utils.run_light`。"
   ]
  },
  {
   "cell_type": "code",
   "execution_count": null,
   "id": "22907fcd-e902-44b9-b40b-197662b326e3",
   "metadata": {},
   "outputs": [],
   "source": [
    "from src.demo import plot_figure5_light\n",
    "\n",
    "\n",
    "plot_figure5_light()"
   ]
  },
  {
   "cell_type": "markdown",
   "id": "57ce5832-2d30-43d2-8f4f-4ed02a5fdbab",
   "metadata": {},
   "source": [
    "复现结果如下，可见 VQSVD 成功重建图像。\n",
    "\n",
    "![](images/figure5_bak.png)"
   ]
  },
  {
   "cell_type": "markdown",
   "id": "e8adc560-6f34-4052-b7d4-03dae42bc14d",
   "metadata": {},
   "source": [
    "## 参考文献\n",
    "\n",
    "[1] Wang, X., Song, Z., & Wang, Y. (2021). Variational Quantum Singular Value Decomposition. Quantum, 5, 483."
   ]
  }
 ],
 "metadata": {
  "kernelspec": {
   "display_name": "MindSpore",
   "language": "python",
   "name": "mindspore"
  },
  "language_info": {
   "codemirror_mode": {
    "name": "ipython",
    "version": 3
   },
   "file_extension": ".py",
   "mimetype": "text/x-python",
   "name": "python",
   "nbconvert_exporter": "python",
   "pygments_lexer": "ipython3",
   "version": "3.7.10"
  }
 },
 "nbformat": 4,
 "nbformat_minor": 5
}
