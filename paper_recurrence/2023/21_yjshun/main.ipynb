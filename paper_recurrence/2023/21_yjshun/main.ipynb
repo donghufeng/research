{
 "cells": [
  {
   "attachments": {},
   "cell_type": "markdown",
   "metadata": {},
   "source": [
    "# Quantum Neural Network Classifiers: A Tutorial\n",
    "\n",
    "## 项目介绍\n",
    "\n",
    "该论文主要讨论了在量子神经网络的不同编码结构和编码策略在解决监督学习任务时的区别。文章对幅度编码和块编码在量子神经网络处理二分类问题时的表现进行了对比。作为测试基准，Fashion MNIST、MNIST、对称性保护拓扑态等数据集用来作为识别训练任务。本次论文复现要求：研究并理解文章内容,利用MindQuantum实现对Table 2中 对Fashion Mnist及MNIST的分类任务的结果。原文链接：https://scipost.org/SciPostPhysLectNotes.61\n",
    "\n",
    "## 复现过程\n",
    "\n",
    "### 数据预处理\n",
    "原文章主要讨论的是利用量子神经网络在二分类问题中的应用，具体任务设置为对Fashion MNIST中对靴子和T恤图片进行分类，对MNIST中的手写体“0”和“1”进行分类。初始数据为.mat格式，想要用于训练我们需要对其进行预处理"
   ]
  },
  {
   "cell_type": "code",
   "execution_count": 1,
   "metadata": {},
   "outputs": [],
   "source": [
    "import h5py \n",
    "import scipy.io\n",
    "import numpy as np\n",
    "\n",
    "train_num = 1000\n",
    "test_num = 200\n",
    "\n",
    "dataset = h5py.File('./Dataset/FashionMNIST_1_2_wk.mat')\n",
    "train_data = np.transpose(dataset['x_train'])\n",
    "train_label = np.transpose(dataset['y_train'])\n",
    "test_data = np.transpose(dataset['x_test'])\n",
    "test_label = np.transpose(dataset['y_test'])\n",
    "\n",
    "train_pixels = np.array(train_data[:,:train_num].tolist())[:,:,0].transpose() # [:,:,0]取实部\n",
    "test_pixels = np.array(test_data[:,:test_num].tolist())[:,:,0].transpose()\n",
    "train_index = train_label[:train_num,0].astype(int) # 0-> 靴子 1->T恤\n",
    "test_index = test_label[:test_num,0].astype(int)"
   ]
  },
  {
   "attachments": {},
   "cell_type": "markdown",
   "metadata": {},
   "source": [
    "train_pixels和test_pixels分别为训练和测试用的像素数据，train_index和test_index为训练和测试标签。训练样本和测试样本大小分别为1000和200.\n",
    "\n",
    "可以通过matplotlib.pyplot对样本进行可视化"
   ]
  },
  {
   "cell_type": "code",
   "execution_count": 2,
   "metadata": {
    "tags": []
   },
   "outputs": [
    {
     "name": "stdout",
     "output_type": "stream",
     "text": [
      "前2个训练集标签为 [0 1]\n"
     ]
    },
    {
     "data": {
      "image/png": "[encoded data removed]",
      "image/svg+xml": "<?xml version=\"1.0\" encoding=\"utf-8\" standalone=\"no\"?>\n<!DOCTYPE svg PUBLIC \"-//W3C//DTD SVG 1.1//EN\"\n  \"http://www.w3.org/Graphics/SVG/1.1/DTD/svg11.dtd\">\n<svg height=\"302.418125pt\" version=\"1.1\" viewBox=\"0 0 301.965 302.418125\" width=\"301.965pt\" xmlns=\"http://www.w3.org/2000/svg\" xmlns:xlink=\"http://www.w3.org/1999/xlink\">\n <metadata>\n  <rdf:RDF xmlns:cc=\"http://creativecommons.org/ns#\" xmlns:dc=\"http://purl.org/dc/elements/1.1/\" xmlns:rdf=\"http://www.w3.org/1999/02/22-rdf-syntax-ns#\">\n   <cc:Work>\n    <dc:type rdf:resource=\"http://purl.org/dc/dcmitype/StillImage\"/>\n    <dc:date>2022-12-25T08:44:15.781659</dc:date>\n    <dc:format>image/svg+xml</dc:format>\n    <dc:creator>\n     <cc:Agent>\n      <dc:title>Matplotlib v3.4.3, https://matplotlib.org/</dc:title>\n     </cc:Agent>\n    </dc:creator>\n   </cc:Work>\n  </rdf:RDF>\n </metadata>\n <defs>\n  <style type=\"text/css\">*{stroke-linecap:butt;stroke-linejoin:round;}</style>\n </defs>\n <g id=\"figure_1\">\n  <g id=\"patch_1\">\n   <path d=\"M -0 302.418125 \nL 301.965 302.418125 \nL 301.965 0 \nL -0 0 \nz\n\" style=\"fill:#ffffff;\"/>\n  </g>\n  <g id=\"axes_1\">\n   <g id=\"patch_2\">\n    <path d=\"M 26.925 291.718125 \nL 294.765 291.718125 \nL 294.765 23.878125 \nL 26.925 23.878125 \nz\n\" style=\"fill:#ffffff;\"/>\n   </g>\n   <g clip-path=\"url(#p3485fe66fd)\">\n    <image height=\"267.84\" id=\"imagef79d7dd91a\" transform=\"scale(1 -1)translate(0 -267.84)\" width=\"267.84\" x=\"26.925\" xlink:href=\"data:image/png;base64,\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\" y=\"-23.878125\"/>\n   </g>\n   <g id=\"matplotlib.axis_1\">\n    <g id=\"xtick_1\">\n     <g id=\"line2d_1\">\n      <defs>\n       <path d=\"M 0 0 \nL 0 3.5 \n\" id=\"mbab7f2a2f1\" style=\"stroke:#000000;stroke-width:0.8;\"/>\n      </defs>\n      <g>\n       <use style=\"stroke:#000000;stroke-width:0.8;\" x=\"35.295\" xlink:href=\"#mbab7f2a2f1\" y=\"291.718125\"/>\n      </g>\n     </g>\n     <g id=\"line2d_2\">\n      <defs>\n       <path d=\"M 0 0 \nL 0 -3.5 \n\" id=\"mea2002d317\" style=\"stroke:#000000;stroke-width:0.8;\"/>\n      </defs>\n      <g>\n       <use style=\"stroke:#000000;stroke-width:0.8;\" x=\"35.295\" xlink:href=\"#mea2002d317\" y=\"23.878125\"/>\n      </g>\n     </g>\n     <g id=\"text_1\">\n      <!-- 0 -->\n      <g transform=\"translate(32.11375 14.798438)scale(0.1 -0.1)\">\n       <defs>\n        <path d=\"M 2034 4250 \nQ 1547 4250 1301 3770 \nQ 1056 3291 1056 2328 \nQ 1056 1369 1301 889 \nQ 1547 409 2034 409 \nQ 2525 409 2770 889 \nQ 3016 1369 3016 2328 \nQ 3016 3291 2770 3770 \nQ 2525 4250 2034 4250 \nz\nM 2034 4750 \nQ 2819 4750 3233 4129 \nQ 3647 3509 3647 2328 \nQ 3647 1150 3233 529 \nQ 2819 -91 2034 -91 \nQ 1250 -91 836 529 \nQ 422 1150 422 2328 \nQ 422 3509 836 4129 \nQ 1250 4750 2034 4750 \nz\n\" id=\"DejaVuSans-30\" transform=\"scale(0.015625)\"/>\n       </defs>\n       <use xlink:href=\"#DejaVuSans-30\"/>\n      </g>\n     </g>\n    </g>\n    <g id=\"xtick_2\">\n     <g id=\"line2d_3\">\n      <g>\n       <use style=\"stroke:#000000;stroke-width:0.8;\" x=\"68.775\" xlink:href=\"#mbab7f2a2f1\" y=\"291.718125\"/>\n      </g>\n     </g>\n     <g id=\"line2d_4\">\n      <g>\n       <use style=\"stroke:#000000;stroke-width:0.8;\" x=\"68.775\" xlink:href=\"#mea2002d317\" y=\"23.878125\"/>\n      </g>\n     </g>\n     <g id=\"text_2\">\n      <!-- 2 -->\n      <g transform=\"translate(65.59375 14.798438)scale(0.1 -0.1)\">\n       <defs>\n        <path d=\"M 1228 531 \nL 3431 531 \nL 3431 0 \nL 469 0 \nL 469 531 \nQ 828 903 1448 1529 \nQ 2069 2156 2228 2338 \nQ 2531 2678 2651 2914 \nQ 2772 3150 2772 3378 \nQ 2772 3750 2511 3984 \nQ 2250 4219 1831 4219 \nQ 1534 4219 1204 4116 \nQ 875 4013 500 3803 \nL 500 4441 \nQ 881 4594 1212 4672 \nQ 1544 4750 1819 4750 \nQ 2544 4750 2975 4387 \nQ 3406 4025 3406 3419 \nQ 3406 3131 3298 2873 \nQ 3191 2616 2906 2266 \nQ 2828 2175 2409 1742 \nQ 1991 1309 1228 531 \nz\n\" id=\"DejaVuSans-32\" transform=\"scale(0.015625)\"/>\n       </defs>\n       <use xlink:href=\"#DejaVuSans-32\"/>\n      </g>\n     </g>\n    </g>\n    <g id=\"xtick_3\">\n     <g id=\"line2d_5\">\n      <g>\n       <use style=\"stroke:#000000;stroke-width:0.8;\" x=\"102.255\" xlink:href=\"#mbab7f2a2f1\" y=\"291.718125\"/>\n      </g>\n     </g>\n     <g id=\"line2d_6\">\n      <g>\n       <use style=\"stroke:#000000;stroke-width:0.8;\" x=\"102.255\" xlink:href=\"#mea2002d317\" y=\"23.878125\"/>\n      </g>\n     </g>\n     <g id=\"text_3\">\n      <!-- 4 -->\n      <g transform=\"translate(99.07375 14.798438)scale(0.1 -0.1)\">\n       <defs>\n        <path d=\"M 2419 4116 \nL 825 1625 \nL 2419 1625 \nL 2419 4116 \nz\nM 2253 4666 \nL 3047 4666 \nL 3047 1625 \nL 3713 1625 \nL 3713 1100 \nL 3047 1100 \nL 3047 0 \nL 2419 0 \nL 2419 1100 \nL 313 1100 \nL 313 1709 \nL 2253 4666 \nz\n\" id=\"DejaVuSans-34\" transform=\"scale(0.015625)\"/>\n       </defs>\n       <use xlink:href=\"#DejaVuSans-34\"/>\n      </g>\n     </g>\n    </g>\n    <g id=\"xtick_4\">\n     <g id=\"line2d_7\">\n      <g>\n       <use style=\"stroke:#000000;stroke-width:0.8;\" x=\"135.735\" xlink:href=\"#mbab7f2a2f1\" y=\"291.718125\"/>\n      </g>\n     </g>\n     <g id=\"line2d_8\">\n      <g>\n       <use style=\"stroke:#000000;stroke-width:0.8;\" x=\"135.735\" xlink:href=\"#mea2002d317\" y=\"23.878125\"/>\n      </g>\n     </g>\n     <g id=\"text_4\">\n      <!-- 6 -->\n      <g transform=\"translate(132.55375 14.798438)scale(0.1 -0.1)\">\n       <defs>\n        <path d=\"M 2113 2584 \nQ 1688 2584 1439 2293 \nQ 1191 2003 1191 1497 \nQ 1191 994 1439 701 \nQ 1688 409 2113 409 \nQ 2538 409 2786 701 \nQ 3034 994 3034 1497 \nQ 3034 2003 2786 2293 \nQ 2538 2584 2113 2584 \nz\nM 3366 4563 \nL 3366 3988 \nQ 3128 4100 2886 4159 \nQ 2644 4219 2406 4219 \nQ 1781 4219 1451 3797 \nQ 1122 3375 1075 2522 \nQ 1259 2794 1537 2939 \nQ 1816 3084 2150 3084 \nQ 2853 3084 3261 2657 \nQ 3669 2231 3669 1497 \nQ 3669 778 3244 343 \nQ 2819 -91 2113 -91 \nQ 1303 -91 875 529 \nQ 447 1150 447 2328 \nQ 447 3434 972 4092 \nQ 1497 4750 2381 4750 \nQ 2619 4750 2861 4703 \nQ 3103 4656 3366 4563 \nz\n\" id=\"DejaVuSans-36\" transform=\"scale(0.015625)\"/>\n       </defs>\n       <use xlink:href=\"#DejaVuSans-36\"/>\n      </g>\n     </g>\n    </g>\n    <g id=\"xtick_5\">\n     <g id=\"line2d_9\">\n      <g>\n       <use style=\"stroke:#000000;stroke-width:0.8;\" x=\"169.215\" xlink:href=\"#mbab7f2a2f1\" y=\"291.718125\"/>\n      </g>\n     </g>\n     <g id=\"line2d_10\">\n      <g>\n       <use style=\"stroke:#000000;stroke-width:0.8;\" x=\"169.215\" xlink:href=\"#mea2002d317\" y=\"23.878125\"/>\n      </g>\n     </g>\n     <g id=\"text_5\">\n      <!-- 8 -->\n      <g transform=\"translate(166.03375 14.798438)scale(0.1 -0.1)\">\n       <defs>\n        <path d=\"M 2034 2216 \nQ 1584 2216 1326 1975 \nQ 1069 1734 1069 1313 \nQ 1069 891 1326 650 \nQ 1584 409 2034 409 \nQ 2484 409 2743 651 \nQ 3003 894 3003 1313 \nQ 3003 1734 2745 1975 \nQ 2488 2216 2034 2216 \nz\nM 1403 2484 \nQ 997 2584 770 2862 \nQ 544 3141 544 3541 \nQ 544 4100 942 4425 \nQ 1341 4750 2034 4750 \nQ 2731 4750 3128 4425 \nQ 3525 4100 3525 3541 \nQ 3525 3141 3298 2862 \nQ 3072 2584 2669 2484 \nQ 3125 2378 3379 2068 \nQ 3634 1759 3634 1313 \nQ 3634 634 3220 271 \nQ 2806 -91 2034 -91 \nQ 1263 -91 848 271 \nQ 434 634 434 1313 \nQ 434 1759 690 2068 \nQ 947 2378 1403 2484 \nz\nM 1172 3481 \nQ 1172 3119 1398 2916 \nQ 1625 2713 2034 2713 \nQ 2441 2713 2670 2916 \nQ 2900 3119 2900 3481 \nQ 2900 3844 2670 4047 \nQ 2441 4250 2034 4250 \nQ 1625 4250 1398 4047 \nQ 1172 3844 1172 3481 \nz\n\" id=\"DejaVuSans-38\" transform=\"scale(0.015625)\"/>\n       </defs>\n       <use xlink:href=\"#DejaVuSans-38\"/>\n      </g>\n     </g>\n    </g>\n    <g id=\"xtick_6\">\n     <g id=\"line2d_11\">\n      <g>\n       <use style=\"stroke:#000000;stroke-width:0.8;\" x=\"202.695\" xlink:href=\"#mbab7f2a2f1\" y=\"291.718125\"/>\n      </g>\n     </g>\n     <g id=\"line2d_12\">\n      <g>\n       <use style=\"stroke:#000000;stroke-width:0.8;\" x=\"202.695\" xlink:href=\"#mea2002d317\" y=\"23.878125\"/>\n      </g>\n     </g>\n     <g id=\"text_6\">\n      <!-- 10 -->\n      <g transform=\"translate(196.3325 14.798438)scale(0.1 -0.1)\">\n       <defs>\n        <path d=\"M 794 531 \nL 1825 531 \nL 1825 4091 \nL 703 3866 \nL 703 4441 \nL 1819 4666 \nL 2450 4666 \nL 2450 531 \nL 3481 531 \nL 3481 0 \nL 794 0 \nL 794 531 \nz\n\" id=\"DejaVuSans-31\" transform=\"scale(0.015625)\"/>\n       </defs>\n       <use xlink:href=\"#DejaVuSans-31\"/>\n       <use x=\"63.623047\" xlink:href=\"#DejaVuSans-30\"/>\n      </g>\n     </g>\n    </g>\n    <g id=\"xtick_7\">\n     <g id=\"line2d_13\">\n      <g>\n       <use style=\"stroke:#000000;stroke-width:0.8;\" x=\"236.175\" xlink:href=\"#mbab7f2a2f1\" y=\"291.718125\"/>\n      </g>\n     </g>\n     <g id=\"line2d_14\">\n      <g>\n       <use style=\"stroke:#000000;stroke-width:0.8;\" x=\"236.175\" xlink:href=\"#mea2002d317\" y=\"23.878125\"/>\n      </g>\n     </g>\n     <g id=\"text_7\">\n      <!-- 12 -->\n      <g transform=\"translate(229.8125 14.798438)scale(0.1 -0.1)\">\n       <use xlink:href=\"#DejaVuSans-31\"/>\n       <use x=\"63.623047\" xlink:href=\"#DejaVuSans-32\"/>\n      </g>\n     </g>\n    </g>\n    <g id=\"xtick_8\">\n     <g id=\"line2d_15\">\n      <g>\n       <use style=\"stroke:#000000;stroke-width:0.8;\" x=\"269.655\" xlink:href=\"#mbab7f2a2f1\" y=\"291.718125\"/>\n      </g>\n     </g>\n     <g id=\"line2d_16\">\n      <g>\n       <use style=\"stroke:#000000;stroke-width:0.8;\" x=\"269.655\" xlink:href=\"#mea2002d317\" y=\"23.878125\"/>\n      </g>\n     </g>\n     <g id=\"text_8\">\n      <!-- 14 -->\n      <g transform=\"translate(263.2925 14.798438)scale(0.1 -0.1)\">\n       <use xlink:href=\"#DejaVuSans-31\"/>\n       <use x=\"63.623047\" xlink:href=\"#DejaVuSans-34\"/>\n      </g>\n     </g>\n    </g>\n   </g>\n   <g id=\"matplotlib.axis_2\">\n    <g id=\"ytick_1\">\n     <g id=\"line2d_17\">\n      <defs>\n       <path d=\"M 0 0 \nL -3.5 0 \n\" id=\"me667bb74db\" style=\"stroke:#000000;stroke-width:0.8;\"/>\n      </defs>\n      <g>\n       <use style=\"stroke:#000000;stroke-width:0.8;\" x=\"26.925\" xlink:href=\"#me667bb74db\" y=\"32.248125\"/>\n      </g>\n     </g>\n     <g id=\"text_9\">\n      <!-- 0 -->\n      <g transform=\"translate(13.5625 36.047344)scale(0.1 -0.1)\">\n       <use xlink:href=\"#DejaVuSans-30\"/>\n      </g>\n     </g>\n    </g>\n    <g id=\"ytick_2\">\n     <g id=\"line2d_18\">\n      <g>\n       <use style=\"stroke:#000000;stroke-width:0.8;\" x=\"26.925\" xlink:href=\"#me667bb74db\" y=\"65.728125\"/>\n      </g>\n     </g>\n     <g id=\"text_10\">\n      <!-- 2 -->\n      <g transform=\"translate(13.5625 69.527344)scale(0.1 -0.1)\">\n       <use xlink:href=\"#DejaVuSans-32\"/>\n      </g>\n     </g>\n    </g>\n    <g id=\"ytick_3\">\n     <g id=\"line2d_19\">\n      <g>\n       <use style=\"stroke:#000000;stroke-width:0.8;\" x=\"26.925\" xlink:href=\"#me667bb74db\" y=\"99.208125\"/>\n      </g>\n     </g>\n     <g id=\"text_11\">\n      <!-- 4 -->\n      <g transform=\"translate(13.5625 103.007344)scale(0.1 -0.1)\">\n       <use xlink:href=\"#DejaVuSans-34\"/>\n      </g>\n     </g>\n    </g>\n    <g id=\"ytick_4\">\n     <g id=\"line2d_20\">\n      <g>\n       <use style=\"stroke:#000000;stroke-width:0.8;\" x=\"26.925\" xlink:href=\"#me667bb74db\" y=\"132.688125\"/>\n      </g>\n     </g>\n     <g id=\"text_12\">\n      <!-- 6 -->\n      <g transform=\"translate(13.5625 136.487344)scale(0.1 -0.1)\">\n       <use xlink:href=\"#DejaVuSans-36\"/>\n      </g>\n     </g>\n    </g>\n    <g id=\"ytick_5\">\n     <g id=\"line2d_21\">\n      <g>\n       <use style=\"stroke:#000000;stroke-width:0.8;\" x=\"26.925\" xlink:href=\"#me667bb74db\" y=\"166.168125\"/>\n      </g>\n     </g>\n     <g id=\"text_13\">\n      <!-- 8 -->\n      <g transform=\"translate(13.5625 169.967344)scale(0.1 -0.1)\">\n       <use xlink:href=\"#DejaVuSans-38\"/>\n      </g>\n     </g>\n    </g>\n    <g id=\"ytick_6\">\n     <g id=\"line2d_22\">\n      <g>\n       <use style=\"stroke:#000000;stroke-width:0.8;\" x=\"26.925\" xlink:href=\"#me667bb74db\" y=\"199.648125\"/>\n      </g>\n     </g>\n     <g id=\"text_14\">\n      <!-- 10 -->\n      <g transform=\"translate(7.2 203.447344)scale(0.1 -0.1)\">\n       <use xlink:href=\"#DejaVuSans-31\"/>\n       <use x=\"63.623047\" xlink:href=\"#DejaVuSans-30\"/>\n      </g>\n     </g>\n    </g>\n    <g id=\"ytick_7\">\n     <g id=\"line2d_23\">\n      <g>\n       <use style=\"stroke:#000000;stroke-width:0.8;\" x=\"26.925\" xlink:href=\"#me667bb74db\" y=\"233.128125\"/>\n      </g>\n     </g>\n     <g id=\"text_15\">\n      <!-- 12 -->\n      <g transform=\"translate(7.2 236.927344)scale(0.1 -0.1)\">\n       <use xlink:href=\"#DejaVuSans-31\"/>\n       <use x=\"63.623047\" xlink:href=\"#DejaVuSans-32\"/>\n      </g>\n     </g>\n    </g>\n    <g id=\"ytick_8\">\n     <g id=\"line2d_24\">\n      <g>\n       <use style=\"stroke:#000000;stroke-width:0.8;\" x=\"26.925\" xlink:href=\"#me667bb74db\" y=\"266.608125\"/>\n      </g>\n     </g>\n     <g id=\"text_16\">\n      <!-- 14 -->\n      <g transform=\"translate(7.2 270.407344)scale(0.1 -0.1)\">\n       <use xlink:href=\"#DejaVuSans-31\"/>\n       <use x=\"63.623047\" xlink:href=\"#DejaVuSans-34\"/>\n      </g>\n     </g>\n    </g>\n   </g>\n   <g id=\"patch_3\">\n    <path d=\"M 26.925 291.718125 \nL 26.925 23.878125 \n\" style=\"fill:none;stroke:#000000;stroke-linecap:square;stroke-linejoin:miter;stroke-width:0.8;\"/>\n   </g>\n   <g id=\"patch_4\">\n    <path d=\"M 294.765 291.718125 \nL 294.765 23.878125 \n\" style=\"fill:none;stroke:#000000;stroke-linecap:square;stroke-linejoin:miter;stroke-width:0.8;\"/>\n   </g>\n   <g id=\"patch_5\">\n    <path d=\"M 26.925 291.718125 \nL 294.765 291.718125 \n\" style=\"fill:none;stroke:#000000;stroke-linecap:square;stroke-linejoin:miter;stroke-width:0.8;\"/>\n   </g>\n   <g id=\"patch_6\">\n    <path d=\"M 26.925 23.878125 \nL 294.765 23.878125 \n\" style=\"fill:none;stroke:#000000;stroke-linecap:square;stroke-linejoin:miter;stroke-width:0.8;\"/>\n   </g>\n  </g>\n </g>\n <defs>\n  <clipPath id=\"p3485fe66fd\">\n   <rect height=\"267.84\" width=\"267.84\" x=\"26.925\" y=\"23.878125\"/>\n  </clipPath>\n </defs>\n</svg>\n",
      "text/plain": [
       "<Figure size 480x480 with 1 Axes>"
      ]
     },
     "metadata": {},
     "output_type": "display_data"
    },
    {
     "data": {
      "image/png": "[encoded data removed]",
      "image/svg+xml": "<?xml version=\"1.0\" encoding=\"utf-8\" standalone=\"no\"?>\n<!DOCTYPE svg PUBLIC \"-//W3C//DTD SVG 1.1//EN\"\n  \"http://www.w3.org/Graphics/SVG/1.1/DTD/svg11.dtd\">\n<svg height=\"302.418125pt\" version=\"1.1\" viewBox=\"0 0 301.965 302.418125\" width=\"301.965pt\" xmlns=\"http://www.w3.org/2000/svg\" xmlns:xlink=\"http://www.w3.org/1999/xlink\">\n <metadata>\n  <rdf:RDF xmlns:cc=\"http://creativecommons.org/ns#\" xmlns:dc=\"http://purl.org/dc/elements/1.1/\" xmlns:rdf=\"http://www.w3.org/1999/02/22-rdf-syntax-ns#\">\n   <cc:Work>\n    <dc:type rdf:resource=\"http://purl.org/dc/dcmitype/StillImage\"/>\n    <dc:date>2022-12-25T08:44:15.979272</dc:date>\n    <dc:format>image/svg+xml</dc:format>\n    <dc:creator>\n     <cc:Agent>\n      <dc:title>Matplotlib v3.4.3, https://matplotlib.org/</dc:title>\n     </cc:Agent>\n    </dc:creator>\n   </cc:Work>\n  </rdf:RDF>\n </metadata>\n <defs>\n  <style type=\"text/css\">*{stroke-linecap:butt;stroke-linejoin:round;}</style>\n </defs>\n <g id=\"figure_1\">\n  <g id=\"patch_1\">\n   <path d=\"M -0 302.418125 \nL 301.965 302.418125 \nL 301.965 0 \nL -0 0 \nz\n\" style=\"fill:#ffffff;\"/>\n  </g>\n  <g id=\"axes_1\">\n   <g id=\"patch_2\">\n    <path d=\"M 26.925 291.718125 \nL 294.765 291.718125 \nL 294.765 23.878125 \nL 26.925 23.878125 \nz\n\" style=\"fill:#ffffff;\"/>\n   </g>\n   <g clip-path=\"url(#p1d3d7223af)\">\n    <image height=\"267.84\" id=\"imagea204ef1cd8\" transform=\"scale(1 -1)translate(0 -267.84)\" width=\"267.84\" x=\"26.925\" xlink:href=\"data:image/png;base64,\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\" y=\"-23.878125\"/>\n   </g>\n   <g id=\"matplotlib.axis_1\">\n    <g id=\"xtick_1\">\n     <g id=\"line2d_1\">\n      <defs>\n       <path d=\"M 0 0 \nL 0 3.5 \n\" id=\"m6a6f595af9\" style=\"stroke:#000000;stroke-width:0.8;\"/>\n      </defs>\n      <g>\n       <use style=\"stroke:#000000;stroke-width:0.8;\" x=\"35.295\" xlink:href=\"#m6a6f595af9\" y=\"291.718125\"/>\n      </g>\n     </g>\n     <g id=\"line2d_2\">\n      <defs>\n       <path d=\"M 0 0 \nL 0 -3.5 \n\" id=\"md86f1a7323\" style=\"stroke:#000000;stroke-width:0.8;\"/>\n      </defs>\n      <g>\n       <use style=\"stroke:#000000;stroke-width:0.8;\" x=\"35.295\" xlink:href=\"#md86f1a7323\" y=\"23.878125\"/>\n      </g>\n     </g>\n     <g id=\"text_1\">\n      <!-- 0 -->\n      <g transform=\"translate(32.11375 14.798438)scale(0.1 -0.1)\">\n       <defs>\n        <path d=\"M 2034 4250 \nQ 1547 4250 1301 3770 \nQ 1056 3291 1056 2328 \nQ 1056 1369 1301 889 \nQ 1547 409 2034 409 \nQ 2525 409 2770 889 \nQ 3016 1369 3016 2328 \nQ 3016 3291 2770 3770 \nQ 2525 4250 2034 4250 \nz\nM 2034 4750 \nQ 2819 4750 3233 4129 \nQ 3647 3509 3647 2328 \nQ 3647 1150 3233 529 \nQ 2819 -91 2034 -91 \nQ 1250 -91 836 529 \nQ 422 1150 422 2328 \nQ 422 3509 836 4129 \nQ 1250 4750 2034 4750 \nz\n\" id=\"DejaVuSans-30\" transform=\"scale(0.015625)\"/>\n       </defs>\n       <use xlink:href=\"#DejaVuSans-30\"/>\n      </g>\n     </g>\n    </g>\n    <g id=\"xtick_2\">\n     <g id=\"line2d_3\">\n      <g>\n       <use style=\"stroke:#000000;stroke-width:0.8;\" x=\"68.775\" xlink:href=\"#m6a6f595af9\" y=\"291.718125\"/>\n      </g>\n     </g>\n     <g id=\"line2d_4\">\n      <g>\n       <use style=\"stroke:#000000;stroke-width:0.8;\" x=\"68.775\" xlink:href=\"#md86f1a7323\" y=\"23.878125\"/>\n      </g>\n     </g>\n     <g id=\"text_2\">\n      <!-- 2 -->\n      <g transform=\"translate(65.59375 14.798438)scale(0.1 -0.1)\">\n       <defs>\n        <path d=\"M 1228 531 \nL 3431 531 \nL 3431 0 \nL 469 0 \nL 469 531 \nQ 828 903 1448 1529 \nQ 2069 2156 2228 2338 \nQ 2531 2678 2651 2914 \nQ 2772 3150 2772 3378 \nQ 2772 3750 2511 3984 \nQ 2250 4219 1831 4219 \nQ 1534 4219 1204 4116 \nQ 875 4013 500 3803 \nL 500 4441 \nQ 881 4594 1212 4672 \nQ 1544 4750 1819 4750 \nQ 2544 4750 2975 4387 \nQ 3406 4025 3406 3419 \nQ 3406 3131 3298 2873 \nQ 3191 2616 2906 2266 \nQ 2828 2175 2409 1742 \nQ 1991 1309 1228 531 \nz\n\" id=\"DejaVuSans-32\" transform=\"scale(0.015625)\"/>\n       </defs>\n       <use xlink:href=\"#DejaVuSans-32\"/>\n      </g>\n     </g>\n    </g>\n    <g id=\"xtick_3\">\n     <g id=\"line2d_5\">\n      <g>\n       <use style=\"stroke:#000000;stroke-width:0.8;\" x=\"102.255\" xlink:href=\"#m6a6f595af9\" y=\"291.718125\"/>\n      </g>\n     </g>\n     <g id=\"line2d_6\">\n      <g>\n       <use style=\"stroke:#000000;stroke-width:0.8;\" x=\"102.255\" xlink:href=\"#md86f1a7323\" y=\"23.878125\"/>\n      </g>\n     </g>\n     <g id=\"text_3\">\n      <!-- 4 -->\n      <g transform=\"translate(99.07375 14.798438)scale(0.1 -0.1)\">\n       <defs>\n        <path d=\"M 2419 4116 \nL 825 1625 \nL 2419 1625 \nL 2419 4116 \nz\nM 2253 4666 \nL 3047 4666 \nL 3047 1625 \nL 3713 1625 \nL 3713 1100 \nL 3047 1100 \nL 3047 0 \nL 2419 0 \nL 2419 1100 \nL 313 1100 \nL 313 1709 \nL 2253 4666 \nz\n\" id=\"DejaVuSans-34\" transform=\"scale(0.015625)\"/>\n       </defs>\n       <use xlink:href=\"#DejaVuSans-34\"/>\n      </g>\n     </g>\n    </g>\n    <g id=\"xtick_4\">\n     <g id=\"line2d_7\">\n      <g>\n       <use style=\"stroke:#000000;stroke-width:0.8;\" x=\"135.735\" xlink:href=\"#m6a6f595af9\" y=\"291.718125\"/>\n      </g>\n     </g>\n     <g id=\"line2d_8\">\n      <g>\n       <use style=\"stroke:#000000;stroke-width:0.8;\" x=\"135.735\" xlink:href=\"#md86f1a7323\" y=\"23.878125\"/>\n      </g>\n     </g>\n     <g id=\"text_4\">\n      <!-- 6 -->\n      <g transform=\"translate(132.55375 14.798438)scale(0.1 -0.1)\">\n       <defs>\n        <path d=\"M 2113 2584 \nQ 1688 2584 1439 2293 \nQ 1191 2003 1191 1497 \nQ 1191 994 1439 701 \nQ 1688 409 2113 409 \nQ 2538 409 2786 701 \nQ 3034 994 3034 1497 \nQ 3034 2003 2786 2293 \nQ 2538 2584 2113 2584 \nz\nM 3366 4563 \nL 3366 3988 \nQ 3128 4100 2886 4159 \nQ 2644 4219 2406 4219 \nQ 1781 4219 1451 3797 \nQ 1122 3375 1075 2522 \nQ 1259 2794 1537 2939 \nQ 1816 3084 2150 3084 \nQ 2853 3084 3261 2657 \nQ 3669 2231 3669 1497 \nQ 3669 778 3244 343 \nQ 2819 -91 2113 -91 \nQ 1303 -91 875 529 \nQ 447 1150 447 2328 \nQ 447 3434 972 4092 \nQ 1497 4750 2381 4750 \nQ 2619 4750 2861 4703 \nQ 3103 4656 3366 4563 \nz\n\" id=\"DejaVuSans-36\" transform=\"scale(0.015625)\"/>\n       </defs>\n       <use xlink:href=\"#DejaVuSans-36\"/>\n      </g>\n     </g>\n    </g>\n    <g id=\"xtick_5\">\n     <g id=\"line2d_9\">\n      <g>\n       <use style=\"stroke:#000000;stroke-width:0.8;\" x=\"169.215\" xlink:href=\"#m6a6f595af9\" y=\"291.718125\"/>\n      </g>\n     </g>\n     <g id=\"line2d_10\">\n      <g>\n       <use style=\"stroke:#000000;stroke-width:0.8;\" x=\"169.215\" xlink:href=\"#md86f1a7323\" y=\"23.878125\"/>\n      </g>\n     </g>\n     <g id=\"text_5\">\n      <!-- 8 -->\n      <g transform=\"translate(166.03375 14.798438)scale(0.1 -0.1)\">\n       <defs>\n        <path d=\"M 2034 2216 \nQ 1584 2216 1326 1975 \nQ 1069 1734 1069 1313 \nQ 1069 891 1326 650 \nQ 1584 409 2034 409 \nQ 2484 409 2743 651 \nQ 3003 894 3003 1313 \nQ 3003 1734 2745 1975 \nQ 2488 2216 2034 2216 \nz\nM 1403 2484 \nQ 997 2584 770 2862 \nQ 544 3141 544 3541 \nQ 544 4100 942 4425 \nQ 1341 4750 2034 4750 \nQ 2731 4750 3128 4425 \nQ 3525 4100 3525 3541 \nQ 3525 3141 3298 2862 \nQ 3072 2584 2669 2484 \nQ 3125 2378 3379 2068 \nQ 3634 1759 3634 1313 \nQ 3634 634 3220 271 \nQ 2806 -91 2034 -91 \nQ 1263 -91 848 271 \nQ 434 634 434 1313 \nQ 434 1759 690 2068 \nQ 947 2378 1403 2484 \nz\nM 1172 3481 \nQ 1172 3119 1398 2916 \nQ 1625 2713 2034 2713 \nQ 2441 2713 2670 2916 \nQ 2900 3119 2900 3481 \nQ 2900 3844 2670 4047 \nQ 2441 4250 2034 4250 \nQ 1625 4250 1398 4047 \nQ 1172 3844 1172 3481 \nz\n\" id=\"DejaVuSans-38\" transform=\"scale(0.015625)\"/>\n       </defs>\n       <use xlink:href=\"#DejaVuSans-38\"/>\n      </g>\n     </g>\n    </g>\n    <g id=\"xtick_6\">\n     <g id=\"line2d_11\">\n      <g>\n       <use style=\"stroke:#000000;stroke-width:0.8;\" x=\"202.695\" xlink:href=\"#m6a6f595af9\" y=\"291.718125\"/>\n      </g>\n     </g>\n     <g id=\"line2d_12\">\n      <g>\n       <use style=\"stroke:#000000;stroke-width:0.8;\" x=\"202.695\" xlink:href=\"#md86f1a7323\" y=\"23.878125\"/>\n      </g>\n     </g>\n     <g id=\"text_6\">\n      <!-- 10 -->\n      <g transform=\"translate(196.3325 14.798438)scale(0.1 -0.1)\">\n       <defs>\n        <path d=\"M 794 531 \nL 1825 531 \nL 1825 4091 \nL 703 3866 \nL 703 4441 \nL 1819 4666 \nL 2450 4666 \nL 2450 531 \nL 3481 531 \nL 3481 0 \nL 794 0 \nL 794 531 \nz\n\" id=\"DejaVuSans-31\" transform=\"scale(0.015625)\"/>\n       </defs>\n       <use xlink:href=\"#DejaVuSans-31\"/>\n       <use x=\"63.623047\" xlink:href=\"#DejaVuSans-30\"/>\n      </g>\n     </g>\n    </g>\n    <g id=\"xtick_7\">\n     <g id=\"line2d_13\">\n      <g>\n       <use style=\"stroke:#000000;stroke-width:0.8;\" x=\"236.175\" xlink:href=\"#m6a6f595af9\" y=\"291.718125\"/>\n      </g>\n     </g>\n     <g id=\"line2d_14\">\n      <g>\n       <use style=\"stroke:#000000;stroke-width:0.8;\" x=\"236.175\" xlink:href=\"#md86f1a7323\" y=\"23.878125\"/>\n      </g>\n     </g>\n     <g id=\"text_7\">\n      <!-- 12 -->\n      <g transform=\"translate(229.8125 14.798438)scale(0.1 -0.1)\">\n       <use xlink:href=\"#DejaVuSans-31\"/>\n       <use x=\"63.623047\" xlink:href=\"#DejaVuSans-32\"/>\n      </g>\n     </g>\n    </g>\n    <g id=\"xtick_8\">\n     <g id=\"line2d_15\">\n      <g>\n       <use style=\"stroke:#000000;stroke-width:0.8;\" x=\"269.655\" xlink:href=\"#m6a6f595af9\" y=\"291.718125\"/>\n      </g>\n     </g>\n     <g id=\"line2d_16\">\n      <g>\n       <use style=\"stroke:#000000;stroke-width:0.8;\" x=\"269.655\" xlink:href=\"#md86f1a7323\" y=\"23.878125\"/>\n      </g>\n     </g>\n     <g id=\"text_8\">\n      <!-- 14 -->\n      <g transform=\"translate(263.2925 14.798438)scale(0.1 -0.1)\">\n       <use xlink:href=\"#DejaVuSans-31\"/>\n       <use x=\"63.623047\" xlink:href=\"#DejaVuSans-34\"/>\n      </g>\n     </g>\n    </g>\n   </g>\n   <g id=\"matplotlib.axis_2\">\n    <g id=\"ytick_1\">\n     <g id=\"line2d_17\">\n      <defs>\n       <path d=\"M 0 0 \nL -3.5 0 \n\" id=\"m45663989f5\" style=\"stroke:#000000;stroke-width:0.8;\"/>\n      </defs>\n      <g>\n       <use style=\"stroke:#000000;stroke-width:0.8;\" x=\"26.925\" xlink:href=\"#m45663989f5\" y=\"32.248125\"/>\n      </g>\n     </g>\n     <g id=\"text_9\">\n      <!-- 0 -->\n      <g transform=\"translate(13.5625 36.047344)scale(0.1 -0.1)\">\n       <use xlink:href=\"#DejaVuSans-30\"/>\n      </g>\n     </g>\n    </g>\n    <g id=\"ytick_2\">\n     <g id=\"line2d_18\">\n      <g>\n       <use style=\"stroke:#000000;stroke-width:0.8;\" x=\"26.925\" xlink:href=\"#m45663989f5\" y=\"65.728125\"/>\n      </g>\n     </g>\n     <g id=\"text_10\">\n      <!-- 2 -->\n      <g transform=\"translate(13.5625 69.527344)scale(0.1 -0.1)\">\n       <use xlink:href=\"#DejaVuSans-32\"/>\n      </g>\n     </g>\n    </g>\n    <g id=\"ytick_3\">\n     <g id=\"line2d_19\">\n      <g>\n       <use style=\"stroke:#000000;stroke-width:0.8;\" x=\"26.925\" xlink:href=\"#m45663989f5\" y=\"99.208125\"/>\n      </g>\n     </g>\n     <g id=\"text_11\">\n      <!-- 4 -->\n      <g transform=\"translate(13.5625 103.007344)scale(0.1 -0.1)\">\n       <use xlink:href=\"#DejaVuSans-34\"/>\n      </g>\n     </g>\n    </g>\n    <g id=\"ytick_4\">\n     <g id=\"line2d_20\">\n      <g>\n       <use style=\"stroke:#000000;stroke-width:0.8;\" x=\"26.925\" xlink:href=\"#m45663989f5\" y=\"132.688125\"/>\n      </g>\n     </g>\n     <g id=\"text_12\">\n      <!-- 6 -->\n      <g transform=\"translate(13.5625 136.487344)scale(0.1 -0.1)\">\n       <use xlink:href=\"#DejaVuSans-36\"/>\n      </g>\n     </g>\n    </g>\n    <g id=\"ytick_5\">\n     <g id=\"line2d_21\">\n      <g>\n       <use style=\"stroke:#000000;stroke-width:0.8;\" x=\"26.925\" xlink:href=\"#m45663989f5\" y=\"166.168125\"/>\n      </g>\n     </g>\n     <g id=\"text_13\">\n      <!-- 8 -->\n      <g transform=\"translate(13.5625 169.967344)scale(0.1 -0.1)\">\n       <use xlink:href=\"#DejaVuSans-38\"/>\n      </g>\n     </g>\n    </g>\n    <g id=\"ytick_6\">\n     <g id=\"line2d_22\">\n      <g>\n       <use style=\"stroke:#000000;stroke-width:0.8;\" x=\"26.925\" xlink:href=\"#m45663989f5\" y=\"199.648125\"/>\n      </g>\n     </g>\n     <g id=\"text_14\">\n      <!-- 10 -->\n      <g transform=\"translate(7.2 203.447344)scale(0.1 -0.1)\">\n       <use xlink:href=\"#DejaVuSans-31\"/>\n       <use x=\"63.623047\" xlink:href=\"#DejaVuSans-30\"/>\n      </g>\n     </g>\n    </g>\n    <g id=\"ytick_7\">\n     <g id=\"line2d_23\">\n      <g>\n       <use style=\"stroke:#000000;stroke-width:0.8;\" x=\"26.925\" xlink:href=\"#m45663989f5\" y=\"233.128125\"/>\n      </g>\n     </g>\n     <g id=\"text_15\">\n      <!-- 12 -->\n      <g transform=\"translate(7.2 236.927344)scale(0.1 -0.1)\">\n       <use xlink:href=\"#DejaVuSans-31\"/>\n       <use x=\"63.623047\" xlink:href=\"#DejaVuSans-32\"/>\n      </g>\n     </g>\n    </g>\n    <g id=\"ytick_8\">\n     <g id=\"line2d_24\">\n      <g>\n       <use style=\"stroke:#000000;stroke-width:0.8;\" x=\"26.925\" xlink:href=\"#m45663989f5\" y=\"266.608125\"/>\n      </g>\n     </g>\n     <g id=\"text_16\">\n      <!-- 14 -->\n      <g transform=\"translate(7.2 270.407344)scale(0.1 -0.1)\">\n       <use xlink:href=\"#DejaVuSans-31\"/>\n       <use x=\"63.623047\" xlink:href=\"#DejaVuSans-34\"/>\n      </g>\n     </g>\n    </g>\n   </g>\n   <g id=\"patch_3\">\n    <path d=\"M 26.925 291.718125 \nL 26.925 23.878125 \n\" style=\"fill:none;stroke:#000000;stroke-linecap:square;stroke-linejoin:miter;stroke-width:0.8;\"/>\n   </g>\n   <g id=\"patch_4\">\n    <path d=\"M 294.765 291.718125 \nL 294.765 23.878125 \n\" style=\"fill:none;stroke:#000000;stroke-linecap:square;stroke-linejoin:miter;stroke-width:0.8;\"/>\n   </g>\n   <g id=\"patch_5\">\n    <path d=\"M 26.925 291.718125 \nL 294.765 291.718125 \n\" style=\"fill:none;stroke:#000000;stroke-linecap:square;stroke-linejoin:miter;stroke-width:0.8;\"/>\n   </g>\n   <g id=\"patch_6\">\n    <path d=\"M 26.925 23.878125 \nL 294.765 23.878125 \n\" style=\"fill:none;stroke:#000000;stroke-linecap:square;stroke-linejoin:miter;stroke-width:0.8;\"/>\n   </g>\n  </g>\n </g>\n <defs>\n  <clipPath id=\"p1d3d7223af\">\n   <rect height=\"267.84\" width=\"267.84\" x=\"26.925\" y=\"23.878125\"/>\n  </clipPath>\n </defs>\n</svg>\n",
      "text/plain": [
       "<Figure size 480x480 with 1 Axes>"
      ]
     },
     "metadata": {},
     "output_type": "display_data"
    }
   ],
   "source": [
    "import matplotlib.pyplot as plt\n",
    "from matplotlib import gridspec\n",
    "plt.matshow(np.reshape(train_pixels[0,:],[16,16]))\n",
    "plt.matshow(np.reshape(train_pixels[1,:],[16,16]))\n",
    "print(f'前2个训练集标签为 {train_index[:2]}')"
   ]
  },
  {
   "attachments": {},
   "cell_type": "markdown",
   "metadata": {},
   "source": [
    "目前训练数据为像素数据，不能作为输入态直接用于量子线路，需要用幅度编码将像素数据转换为线路参量数据.\n",
    "\n",
    "mindquantum提供的mindquantum.algorithm.library.amplitude_encoder编码器可以方便地实现这一过程。"
   ]
  },
  {
   "cell_type": "code",
   "execution_count": 3,
   "metadata": {},
   "outputs": [],
   "source": [
    "from mindquantum.algorithm.library import amplitude_encoder\n",
    "def amplitude_param(pixels):\n",
    "    param_rd = []\n",
    "    _, parameterResolver = amplitude_encoder(pixels, 8)   \n",
    "    for _, param in parameterResolver.items():\n",
    "        param_rd.append(param)\n",
    "    param_rd = np.array(param_rd)\n",
    "    return param_rd\n",
    "\n",
    "# 将幅度转为编码线路参数，幅度shape(256,)，参数shape(255,)\n",
    "train_param = np.array([amplitude_param(i) for i in train_pixels ])\n",
    "test_param = np.array([amplitude_param(i) for i in test_pixels ])"
   ]
  },
  {
   "attachments": {},
   "cell_type": "markdown",
   "metadata": {},
   "source": [
    "将参数数据和标签封装ms.dataset.NumpySlicesDataset用于训练，数据预处理环节完成。\n",
    "\n",
    "该过程在main.py中Main()类的data_preporcess方法实现。"
   ]
  },
  {
   "cell_type": "code",
   "execution_count": 4,
   "metadata": {},
   "outputs": [],
   "source": [
    "import mindspore as ms\n",
    "BATCH_SIZE = 100\n",
    "train_loader = ms.dataset.NumpySlicesDataset(\n",
    "    {'features': train_param, 'labels': train_index}, shuffle=True).batch(BATCH_SIZE) \n",
    "test_loader = ms.dataset.NumpySlicesDataset(\n",
    "    {'features': test_param, 'labels': test_index}).batch(BATCH_SIZE)  "
   ]
  },
  {
   "attachments": {},
   "cell_type": "markdown",
   "metadata": {},
   "source": [
    "### 量子线路搭建\n",
    "\n",
    "要实现数据分类需要定义含参ansatz线路。本次复现论文中提供三种ansatz，每个ansatz中包括参数层和纠缠层。\n",
    "\n",
    "一层参数层和一层纠缠层构成一个复合层(block)，复合层数越多说明ansatz线路越深。\n",
    "\n",
    "纠缠层有三种Ent1、Ent2、Ent3，所以三种ansatz对应的是三种纠缠层与参数层的组合。"
   ]
  },
  {
   "cell_type": "code",
   "execution_count": 5,
   "metadata": {},
   "outputs": [],
   "source": [
    "from mindquantum.core.circuit import Circuit\n",
    "import mindquantum.core.gates as Gate\n",
    "\n",
    "def Classifying_circuit(qubit_num, block_num, Ent_circ):\n",
    "    num = qubit_num\n",
    "    depth = block_num\n",
    "    circ = Circuit()\n",
    "    for i in range(depth):\n",
    "        circ = Para_circuit(circ, num)\n",
    "        if Ent_circ == 'Ent1':\n",
    "            circ = Ent1_circuit(circ, num)\n",
    "        elif Ent_circ == 'Ent2':\n",
    "            circ = Ent2_circuit(circ, num)\n",
    "        elif Ent_circ == 'Ent3':\n",
    "            circ = Ent3_circuit(circ, num)\n",
    "    return circ\n",
    "\n",
    "def Ent1_circuit(circuit,qubit_num):\n",
    "    for i in range(0,qubit_num-1,2):\n",
    "        circuit += Gate.Z.on(i+1,i)\n",
    "    for i in range(1,qubit_num-2,2):\n",
    "        circuit += Gate.Z.on(i+1,i)\n",
    "    return circuit\n",
    "\n",
    "def Ent2_circuit(circuit,qubit_num):\n",
    "    for i in range(0,qubit_num-1,2):\n",
    "        circuit += Gate.X.on(i+1,i)\n",
    "    for i in range(1,qubit_num-2,2):\n",
    "        circuit += Gate.X.on(i+1,i)\n",
    "    return circuit\n",
    "\n",
    "def Ent3_circuit(circuit,qubit_num):\n",
    "    circuit = Ent2_circuit(circuit,qubit_num)\n",
    "    circuit = Ent2_circuit(circuit,qubit_num)\n",
    "    return circuit\n",
    "\n",
    "def Para_circuit(circuit,qubit_num):\n",
    "    for i in range(qubit_num):\n",
    "        circuit += Gate.RX(f'Xtheta{i}').on(i)\n",
    "        circuit += Gate.RZ(f'Ztheta{i}').on(i)\n",
    "        circuit += Gate.RX(f'Xtheta2{i}').on(i)\n",
    "    return circuit"
   ]
  },
  {
   "attachments": {},
   "cell_type": "markdown",
   "metadata": {},
   "source": [
    "Classifying_circuit(qubit_num, block_num, Ent_circ)可以通过传入比特数、复合层层数、纠缠层名称来定义ansatz"
   ]
  },
  {
   "cell_type": "code",
   "execution_count": 6,
   "metadata": {},
   "outputs": [],
   "source": [
    "QUBIT_NUM = 8\n",
    "BLOCK_NUM = 2\n",
    "Ent = 'Ent1'\n",
    "ansatz = Classifying_circuit(QUBIT_NUM,BLOCK_NUM,Ent).as_ansatz()"
   ]
  },
  {
   "attachments": {},
   "cell_type": "markdown",
   "metadata": {},
   "source": [
    "传入初态和比特数定义编码层"
   ]
  },
  {
   "cell_type": "code",
   "execution_count": 7,
   "metadata": {},
   "outputs": [],
   "source": [
    "encoder = amplitude_encoder([0], QUBIT_NUM)[0].as_encoder()"
   ]
  },
  {
   "attachments": {},
   "cell_type": "markdown",
   "metadata": {},
   "source": [
    "随后通过Pauli-Z测量最后两个比特用于二分类，设置运行环境和全局种子后线路搭建完成。"
   ]
  },
  {
   "cell_type": "code",
   "execution_count": 8,
   "metadata": {},
   "outputs": [],
   "source": [
    "\n",
    "from mindquantum.framework import MQLayer\n",
    "from mindquantum.core.operators import Hamiltonian, QubitOperator \n",
    "from mindquantum.simulator import Simulator\n",
    "import mindspore as ms\n",
    "WORKER = 4\n",
    "ms.set_context(mode=ms.PYNATIVE_MODE, device_target=\"CPU\")\n",
    "ms.set_seed(1)  \n",
    "circ = encoder + ansatz\n",
    "meas = [Hamiltonian(QubitOperator(f'Z{i}')) for i in [QUBIT_NUM-2, QUBIT_NUM-1]] \n",
    "sim = Simulator('projectq', circ.n_qubits) \n",
    "grad_ops = sim.get_expectation_with_grad(meas,circ,parallel_worker=WORKER)\n",
    "Qnet = MQLayer(grad_ops)"
   ]
  },
  {
   "attachments": {},
   "cell_type": "markdown",
   "metadata": {},
   "source": [
    "### 模型训练"
   ]
  },
  {
   "cell_type": "code",
   "execution_count": 9,
   "metadata": {},
   "outputs": [],
   "source": [
    "class ForwardAndLoss(ms.nn.Cell):\n",
    "    def __init__(self, backbone, loss_fn):\n",
    "        super(ForwardAndLoss, self).__init__(auto_prefix=False)\n",
    "        self.backbone = backbone\n",
    "        self.loss_fn = loss_fn\n",
    "\n",
    "    def construct(self, data, label):\n",
    "        output = self.backbone(data)\n",
    "        return self.loss_fn(output, label)\n",
    "\n",
    "    def backbone_network(self):\n",
    "        return self.backbone\n",
    "\n",
    "\n",
    "class TrainOneStep(ms.nn.TrainOneStepCell):\n",
    "\n",
    "    def __init__(self, network, optimizer):\n",
    "        super(TrainOneStep, self).__init__(network, optimizer)\n",
    "        self.grad = ms.ops.GradOperation(get_by_list=True)\n",
    "\n",
    "    def construct(self, data, label):\n",
    "        weights = self.weights\n",
    "        loss = self.network(data, label)\n",
    "        grads = self.grad(self.network, weights)(data, label)\n",
    "        return loss, self.optimizer(grads)\n",
    "\n",
    "LR = 0.05\n",
    "loss = ms.nn.SoftmaxCrossEntropyWithLogits(sparse=True, reduction='mean') \n",
    "opt = ms.nn.Adam(Qnet.trainable_params(), learning_rate=LR) \n",
    "net_with_loss = ForwardAndLoss(Qnet, loss)\n",
    "train_one_step = TrainOneStep(net_with_loss, opt)"
   ]
  },
  {
   "attachments": {},
   "cell_type": "markdown",
   "metadata": {},
   "source": [
    "定义评价标准"
   ]
  },
  {
   "cell_type": "code",
   "execution_count": 10,
   "metadata": {},
   "outputs": [],
   "source": [
    "class EpochLoss(ms.nn.Metric):\n",
    "    def __init__(self):\n",
    "        super(EpochLoss, self).__init__()\n",
    "        self.clear()\n",
    "\n",
    "    def clear(self):\n",
    "        self.loss = 0\n",
    "        self.counter = 0\n",
    "\n",
    "    def update(self, *loss):\n",
    "        loss = loss[0].asnumpy()\n",
    "        self.loss += loss \n",
    "        self.counter += 1\n",
    "\n",
    "    def eval(self):\n",
    "        return self.loss / self.counter\n",
    "\n",
    "class EpochAcc(ms.nn.Metric):\n",
    "    def __init__(self):\n",
    "        super(EpochAcc, self).__init__()\n",
    "        self.clear()\n",
    "\n",
    "    def clear(self):\n",
    "        self.correct_num = 0\n",
    "        self.total_num = 0\n",
    "\n",
    "    def update(self, *inputs):\n",
    "        y_output = inputs[0].asnumpy()\n",
    "        y = inputs[1].asnumpy()\n",
    "        y_pred = np.zeros_like(y)\n",
    "        for i in range(y_pred.shape[0]):\n",
    "            yi = y_output[i]\n",
    "            if yi[0] >= yi[1]:\n",
    "                y_pred[i] = 0\n",
    "            else:\n",
    "                y_pred[i] = 1       \n",
    "        self.correct_num += np.sum(y == y_pred)\n",
    "        self.total_num += y.shape[0] \n",
    "\n",
    "    def eval(self):\n",
    "        return self.correct_num / self.total_num\n",
    "        \n",
    "acc_epoch = EpochAcc() \n",
    "loss_epoch = EpochLoss() "
   ]
  },
  {
   "attachments": {},
   "cell_type": "markdown",
   "metadata": {},
   "source": [
    "开始训练"
   ]
  },
  {
   "cell_type": "code",
   "execution_count": 11,
   "metadata": {
    "tags": []
   },
   "outputs": [
    {
     "name": "stderr",
     "output_type": "stream",
     "text": [
      "[WARNING] DEBUG(1567132,7f0a52da9740,python):2022-12-25-08:46:44.372.854 [mindspore/ccsrc/debug/debugger/debugger.cc:95] Debugger] Not enabling debugger. Debugger does not support CPU.\n",
      "epoch: 1, training loss: 0.4904683381319046, training acc: 0.91, testing loss: 0.4904680387540297, testing acc: 0.9109090909090909\n",
      "epoch: 2, training loss: 0.4697109252214432, training acc: 0.971, testing loss: 0.47019482200795953, testing acc: 0.9718181818181818\n",
      "epoch: 3, training loss: 0.466920006275177, training acc: 0.96, testing loss: 0.4679515145041726, testing acc: 0.9590909090909091\n",
      "epoch: 4, training loss: 0.46396085023880007, training acc: 0.967, testing loss: 0.4649971127510071, testing acc: 0.9663636363636363\n",
      "epoch: 5, training loss: 0.46229770183563235, training acc: 0.963, testing loss: 0.4634937969121066, testing acc: 0.9618181818181818\n",
      "epoch: 6, training loss: 0.46224265396595, training acc: 0.963, testing loss: 0.4634399657899683, testing acc: 0.9618181818181818\n",
      "epoch: 7, training loss: 0.4611324995756149, training acc: 0.968, testing loss: 0.46222870458256116, testing acc: 0.9681818181818181\n",
      "epoch: 8, training loss: 0.4610522836446762, training acc: 0.967, testing loss: 0.462179807099429, testing acc: 0.9672727272727273\n",
      "epoch: 9, training loss: 0.4605365514755249, training acc: 0.967, testing loss: 0.46167526190931146, testing acc: 0.9672727272727273\n",
      "epoch: 10, training loss: 0.4599092900753021, training acc: 0.968, testing loss: 0.4610563028942455, testing acc: 0.9681818181818181\n",
      "epoch: 11, training loss: 0.4589396595954895, training acc: 0.971, testing loss: 0.4600173993544145, testing acc: 0.9709090909090909\n",
      "epoch: 12, training loss: 0.457004714012146, training acc: 0.972, testing loss: 0.45800148898904974, testing acc: 0.9736363636363636\n",
      "epoch: 13, training loss: 0.4549057900905609, training acc: 0.973, testing loss: 0.4560599625110626, testing acc: 0.9745454545454545\n",
      "epoch: 14, training loss: 0.45488216280937194, training acc: 0.972, testing loss: 0.4560514173724435, testing acc: 0.9736363636363636\n",
      "epoch: 15, training loss: 0.45468678176403043, training acc: 0.973, testing loss: 0.4558338306166909, testing acc: 0.9745454545454545\n",
      "epoch: 16, training loss: 0.4546951502561569, training acc: 0.973, testing loss: 0.45583064447749744, testing acc: 0.9745454545454545\n",
      "epoch: 17, training loss: 0.45454378724098204, training acc: 0.973, testing loss: 0.4557001753286882, testing acc: 0.9745454545454545\n",
      "epoch: 18, training loss: 0.45450279116630554, training acc: 0.974, testing loss: 0.45564623041586444, testing acc: 0.9754545454545455\n",
      "epoch: 19, training loss: 0.454422202706337, training acc: 0.974, testing loss: 0.45557044581933454, testing acc: 0.9754545454545455\n",
      "epoch: 20, training loss: 0.45435803234577177, training acc: 0.974, testing loss: 0.45549836483868683, testing acc: 0.9754545454545455\n",
      "epoch: 21, training loss: 0.4543118834495544, training acc: 0.974, testing loss: 0.45544845949519763, testing acc: 0.9754545454545455\n",
      "epoch: 22, training loss: 0.454252091050148, training acc: 0.974, testing loss: 0.45538618618791754, testing acc: 0.9754545454545455\n",
      "epoch: 23, training loss: 0.4541937351226807, training acc: 0.974, testing loss: 0.455324414101514, testing acc: 0.9754545454545455\n",
      "epoch: 24, training loss: 0.45411764085292816, training acc: 0.974, testing loss: 0.4552430402148854, testing acc: 0.9754545454545455\n",
      "epoch: 25, training loss: 0.45402057766914367, training acc: 0.974, testing loss: 0.4551366540518674, testing acc: 0.9754545454545455\n",
      "epoch: 26, training loss: 0.45386765003204343, training acc: 0.974, testing loss: 0.45496629043058917, testing acc: 0.9754545454545455\n",
      "epoch: 27, training loss: 0.453591912984848, training acc: 0.974, testing loss: 0.4546495621854609, testing acc: 0.9754545454545455\n",
      "epoch: 28, training loss: 0.45309877395629883, training acc: 0.975, testing loss: 0.45408264615318994, testing acc: 0.9763636363636363\n",
      "epoch: 29, training loss: 0.4526224672794342, training acc: 0.977, testing loss: 0.4535564969886433, testing acc: 0.9781818181818182\n",
      "epoch: 30, training loss: 0.45246886312961576, training acc: 0.977, testing loss: 0.4533708014271476, testing acc: 0.9781818181818182\n"
     ]
    }
   ],
   "source": [
    "train_loss_epoch = []\n",
    "train_acc_epoch = []\n",
    "test_loss_epoch = []\n",
    "test_acc_epoch = []\n",
    "\n",
    "STEP_NUM = 30\n",
    "\n",
    "for epoch in range(STEP_NUM):\n",
    "    loss_epoch.clear() \n",
    "    acc_epoch.clear()\n",
    "    loss_epoch.clear()\n",
    "    acc_epoch.clear()\n",
    "\n",
    "    for data in train_loader: \n",
    "        train_one_step(data[0], data[1])   # 执行训练，并更新权重, data[0]参数，data[1]为标签\n",
    "        loss = net_with_loss(data[0], data[1])  \n",
    "        loss_epoch.update(loss) \n",
    "    train_loss = loss_epoch.eval() \n",
    "    train_loss_epoch.append(train_loss)\n",
    "\n",
    "    # training accuracy\n",
    "    for data in train_loader:\n",
    "        logits = Qnet(data[0]) # 向前传播得到预测值\n",
    "        acc_epoch.update(logits, data[1]) # 计算预测准确率\n",
    "    train_acc = acc_epoch.eval()\n",
    "    train_acc_epoch.append(train_acc)\n",
    "\n",
    "    # testing loss\n",
    "    for data in test_loader:\n",
    "        loss = net_with_loss(data[0], data[1])  # 计算损失值\n",
    "        loss_epoch.update(loss)\n",
    "    test_loss = loss_epoch.eval()\n",
    "    test_loss_epoch.append(test_loss)\n",
    "\n",
    "    # testing accuracy\n",
    "    for data in test_loader:\n",
    "        logits = Qnet(data[0])\n",
    "        acc_epoch.update(logits, data[1])\n",
    "    test_acc = acc_epoch.eval()\n",
    "    test_acc_epoch.append(test_acc)\n",
    "\n",
    "    print(f\"epoch: {epoch+1}, training loss: {train_loss}, training acc: {train_acc}, testing loss: {test_loss}, testing acc: {test_acc}\")"
   ]
  },
  {
   "attachments": {},
   "cell_type": "markdown",
   "metadata": {},
   "source": [
    "## 项目总结\n",
    "\n",
    "原文中所给出的ansatz线路对FashionMNIST数据集中的二分类问题解析能力明显优于MNIST数据集。\n",
    "\n",
    "在FashionMNIST分类中，基于控制Z门的纠缠层Ent1表现优于基于控制X门的Ent2和Ent3；而在MNIST分类中，Ent2和Ent3表现优于Ent1，此结论与原文规律吻合。"
   ]
  }
 ],
 "metadata": {
  "kernelspec": {
   "display_name": "Python 3",
   "language": "python",
   "name": "python3"
  },
  "language_info": {
   "name": "python",
   "version": "3.7.4"
  },
  "orig_nbformat": 4,
  "vscode": {
   "interpreter": {
    "hash": "d978e6baa1e26ab86251e765739ce2687cc7d01a83dd10a2a25d51a26c4053f6"
   }
  }
 },
 "nbformat": 4,
 "nbformat_minor": 2
}
