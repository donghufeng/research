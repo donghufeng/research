{
 "cells": [
  {
   "cell_type": "markdown",
   "metadata": {},
   "source": [
    "# 论文名：Universal quantum state preparation via revised greedy algorithm \n",
    "## 论文链接：https://arxiv.org/pdf/2108.03351.pdf \n",
    "\n",
    "## 项目介绍：\n",
    "\n",
    "   原论文提出一种改进版的贪心算法 (Revised Greedy Algorithm) 可以根据实际物理系统的硬件限制，设计最佳控制脉冲，以实现任意单或双量子比特态之间的相互制备。本项目基于 Mindquantum 量子计算框架对其算法和核心结果进行复现，对原代码进行优化整合，以实现在社区上更好的开源效果及算法推广 。\n",
    "\n",
    "## 论文介绍\n",
    "   ### 摘要：\n",
    "   \n",
    "   量子计算机需要具备对任意量子态的制备能力。比如，在运行量子算法之前需要先通过适当的控制将量子比特制备到基态（或者指定的其他任意叠加态）。控制脉冲的设计要遵守实际物理系统的硬件限制。比如，在半导体单-三重态编码的双量子点系统的控制中，唯一可控的变量是通过电压调制的两个电子之间的耦合强度，而磁场强度一直存在但很难改变。反映到布洛赫球表示上，即是量子态只有沿 $z$ 轴方向的旋转速度可调，而绕 $x$ 轴的旋转速度为非 0 的常值。常规的优化算法，如 GRAPE 和 CRAB 受控制脉冲初猜值的影响很大，运行效果不够稳定，且效率较低，而新兴的机器学习算法则需要过多的训练，计算成本很大。本文基于优化算法中常见的贪心算法 (Greedy Algorithm) 提出一个改进版本。计算结果表明，无论是在量子态制备的保真度、控制脉冲数量还是算法效率上，都要优于 GRAPE 和 CRAB 算法。相比机器学习，则完全不需要任何训练过程。\n",
    "   \n",
    "   ### 正文梗概： \n",
    "   \n",
    "   得益于量子干涉和量子叠加等量子特性，量子计算机能够解决一些在经典计算机上很难甚至根本无法解决的问题。在过去的几十年里，从单个电子自旋到拓扑系统，为实现量子计算，科学家提出了各种各样量子系统，并在实验中进行了证实。随着硬件系统的快速发展，对量子系统进行最优化控制的问题求解也迫在眉睫。\n",
    "   \n",
    "   在线路量子计算模型中，结合任意单量子比特门和任意一个双量子比特纠缠门，可以执行任意的逻辑操作。但任意单量子比特门的执行需要被编译成“原生门”才能在物理系统上执行。将任意单量子比特门根据底层硬件的特性进行优化编译是一个很重要的优化问题。单量子比特门的实行和量子态制备具有内在一致性，本文即以参数严重受限的半导体双量子点中单-三重态编码量子比特和超导线路模型量子比特的态制备最佳控制问题为例来介绍一种新的优化算法。\n",
    "   \n",
    "   动态规划是一种重要的优化思想，其将一个大而复杂的问题拆解成为多个小而简单的子问题并分别予以求解，众多子问题的解结合在一起即是所求问题的最终解。贪心算法是动态规划中常见的一种算法，其动作选择策略是直接选择子问题的最佳动作。但单纯采用贪心算法容易陷入局部最优，比如，在量子态制备问题中，假设目标态为位于布洛赫球北极的 $|0\\rangle$，而当量子态位于赤道上的叠加态上时，当前时刻的最佳动作可能是继续沿着赤道旋转，从而永远不能到达目标点。\n",
    "    \n",
    "   本文提出一种改进的贪心算法，其基本思想是当控制陷入局部最优时，采用不同的非最优动作，以期跳出局部最优，最终达到全局最优。这一思想是优化算法领域中常用的一种策略。关键点在于如何断定控制是否陷入了局部最优。本文采用保真度验证法：如果采用当前最佳动作导致的下一时刻的保真度低于上一时刻的保真度，即判定为陷入局部最优，进而采用非最优动作。\n",
    "   \n",
    "   算法为：\n",
    "   \n",
    "   （1）选定初态和目标态，并从初态开始，根据保真度执行当前时刻最佳动作；\n",
    "   \n",
    "   （2）根据下一时刻保真度判断是否陷入局部最优。\n",
    "   \n",
    "          1. 当控制未陷入局部最优时，采用常规的贪心算法——直接选择当前时刻最佳动作；\n",
    "         \n",
    "          2. 当控制陷入局部最优时，分别执行三种策略：\n",
    "          \n",
    "             1. 依然采用当前时刻最佳动作；\n",
    "             \n",
    "             2. 采用次优动作，以最小代价脱离局部最优；\n",
    "             \n",
    "             3. 采用最差动作，以最大程度远离局部最优点。\n",
    "             \n",
    "   （3）重复执行策略及动作，直到保真度达到要求或控制步数超过最大允许值。\n",
    "   \n",
    "   （4）选择最终保真度最高的策略所对应的控制方案。\n",
    " \n",
    "   \n"
   ]
  },
  {
   "cell_type": "markdown",
   "metadata": {},
   "source": [
    "安装所需依赖项"
   ]
  },
  {
   "cell_type": "code",
   "execution_count": null,
   "metadata": {},
   "outputs": [],
   "source": [
    "!pip install --upgrade pip\n",
    "!pip install https://ms-release.obs.cn-north-4.myhuaweicloud.com/1.5.0/MindSpore/cpu/x86_64/mindspore-1.5.0-cp37-cp37m-linux_x86_64.whl --trusted-host ms-release.obs.cn-north-4.myhuaweicloud.com -i https://pypi.tuna.tsinghua.edu.cn/simple\n",
    "!pip install https://hiq.huaweicloud.com/download/mindquantum/newest/linux/mindquantum-master-cp37-cp37m-linux_x86_64.whl -i https://pypi.tuna.tsinghua.edu.cn/simple\n",
    "!pip install scipy \n",
    "!pip install numpy\n",
    "!pip install matplotlib "
   ]
  },
  {
   "cell_type": "markdown",
   "metadata": {},
   "source": [
    "# 1. 复现半导体双量子点单-三重态编码量子比特系统的任意量子态制备任务\n",
    " \n",
    "环境准备：导入本项目所依赖模块"
   ]
  },
  {
   "cell_type": "code",
   "execution_count": 3,
   "metadata": {},
   "outputs": [],
   "source": [
    "from mindquantum import *\n",
    "import matplotlib.pyplot as plt\n",
    "from scipy.linalg import expm\n",
    "from time import *\n",
    "import numpy as np\n",
    "from src import USP_qd_single_qubit # 论文主程序"
   ]
  },
  {
   "cell_type": "markdown",
   "metadata": {},
   "source": [
    "设置图片显示格式"
   ]
  },
  {
   "cell_type": "code",
   "execution_count": 4,
   "metadata": {},
   "outputs": [],
   "source": [
    "%matplotlib inline"
   ]
  },
  {
   "cell_type": "markdown",
   "metadata": {},
   "source": [
    "设置 “随机数种子” "
   ]
  },
  {
   "cell_type": "code",
   "execution_count": null,
   "metadata": {},
   "outputs": [],
   "source": [
    "np.random.seed(1) # 设置随机数种子，使算法表现稳定"
   ]
  },
  {
   "cell_type": "markdown",
   "metadata": {},
   "source": [
    "设置 脉冲控制参数、泡利算符和动作空间"
   ]
  },
  {
   "cell_type": "code",
   "execution_count": null,
   "metadata": {},
   "outputs": [],
   "source": [
    "T = 2*np.pi # 最大演化时间\n",
    "dt = np.pi/5 # 时间步长\n",
    "step_max = T/dt # 最大控制脉冲数\n",
    "\n",
    "sx = X.matrix() # 定义泡利算符，根据 mindquantum 基本门的 matrix() 功能来得到矩阵形式  \n",
    "sy = Y.matrix() \n",
    "sz = Z.matrix()\n",
    "\n",
    "action_space = np.array([[0],[1],[2],[3]]) # 离散动作空间"
   ]
  },
  {
   "cell_type": "markdown",
   "metadata": {},
   "source": [
    "设置初始和目标量子态集合。两个点集相同，都有128个采样点，关于布洛赫球角度几乎均匀分布，目标是实现这128个点之间的相互制备，从而体现出普适特性。"
   ]
  },
  {
   "cell_type": "code",
   "execution_count": null,
   "metadata": {},
   "outputs": [],
   "source": [
    "theta_num = 6 # 除了 0 和 Pi 两个点之外，点的数量\n",
    "varphi_num = 21 # varphi 角度一圈上的点数\n",
    "#总点数为 theta_num * varphi_num + 2(布洛赫球两极) 此处共 128 个点\n",
    "\n",
    "theta = np.linspace(0,np.pi,theta_num+2,endpoint=True) \n",
    "varphi = np.linspace(0,np.pi*2,varphi_num,endpoint=False) \n",
    "\n",
    "def psi_set():\n",
    "    psi_set = []\n",
    "    for ii in range(1,theta_num+1):\n",
    "        for jj in range(varphi_num):\n",
    "            psi_set.append(np.array([np.cos(theta[ii]/2),np.sin(theta[ii]/2)*(np.cos(varphi[jj])+np.sin(varphi[jj])*(0+1j))]))\n",
    "            \n",
    "    psi_set.append(np.array([1,0])) # 最后再加上 |0> 和 |1> 两个态\n",
    "    psi_set.append(np.array([0,1]))\n",
    "    return psi_set\n",
    "\n",
    "target_set = psi_set() # 目标量子态集\n",
    "init_set = psi_set() # 初始量子态集"
   ]
  },
  {
   "cell_type": "markdown",
   "metadata": {},
   "source": [
    "在陷入局部最优时，根据下一时刻的保真度，采用上文提到的三种动作选择策略。\n",
    "\n",
    "半导体双量子点中单-三重态编码的单量子比特的哈密顿量定义为： $$H=J(t)\\sigma_z+h\\sigma_x,$$ 其中 $J(t)$ 即为动作值，而 $h$ 为固定值，此处设为 1，并将其作为动作的单位。将约化普朗克常数 $\\hbar$ 设为 1，并将 $1/\\hbar$ 作为时间标度。\n",
    "\n",
    "量子态的保真度定义为： $$F=|\\langle s_{next} | s_{target}\\rangle|^2.$$\n",
    "时间演化算符为：$$\\exp{(-iH\\mathrm{d}t)}.$$\n",
    "\n",
    "三种策略都返回各自对应的动作、下一时刻保真度、和下一时刻的量子态。"
   ]
  },
  {
   "cell_type": "markdown",
   "metadata": {},
   "source": [
    "先设置时间演化算符 和 作用该算符的线路 "
   ]
  },
  {
   "cell_type": "code",
   "execution_count": null,
   "metadata": {},
   "outputs": [],
   "source": [
    "def _matrix(coeff):\n",
    "    return expm(-1j*(coeff*sz+sx)*dt)\n",
    "\n",
    "def _diff_matrix(coeff):\n",
    "    return -1j*dt*_matrix(coeff)@sz\n",
    "\n",
    "Evo = gene_univ_parameterized_gate('U', _matrix, _diff_matrix) # 给定动作的时间演化算符\n",
    "circ = Circuit()+Evo('coeff').on(0) # 将时间演化算符作为量子门编到线路中\n",
    "ham = Hamiltonian(QubitOperator(\"\")) # 定义一个空的哈密顿量，用于后面求解两个量子态之间的保真度"
   ]
  },
  {
   "cell_type": "markdown",
   "metadata": {},
   "source": [
    "设置动作选择策略："
   ]
  },
  {
   "cell_type": "code",
   "execution_count": null,
   "metadata": {},
   "outputs": [],
   "source": [
    "# 动作选择策略 0：选择下一时刻量子态保真度更高所对应的那个动作\n",
    "def step0(sim, sim_target, F): # 这里 F 就没啥用了，只是为了和其他两种策略比齐\n",
    "    fid_ops = sim.get_expectation_with_grad(ham, # 单位算符，除了占位，啥用也没有。因为要计算的是两个量子态之间的保真度\n",
    "                                            circ, # 右线路，由时间演化算符所定义。用于根据当前时刻量子态计算下一时刻量子态\n",
    "                                            Circuit(), # 左线路，空的。保持目标态不变\n",
    "                                            sim_target, # 目标量子态\n",
    "                                            encoder_params_name=['coeff'], # 调入动作值\n",
    "                                            parallel_worker=1) # 并行核\n",
    "    \n",
    "    fid_list, _ = fid_ops(action_space) # np.array([[0],[1],[2],[3]]) 每一行作为一个样本\n",
    "    fid_list = np.squeeze(np.abs(fid_list)**2)\n",
    "    \n",
    "    best_action = np.argmax(fid_list)  \n",
    "    best_fid = fid_list[best_action]\n",
    "    \n",
    "    sim.apply_circuit(circ,pr=best_action)\n",
    "    psi_ = sim.get_qs()\n",
    "    \n",
    "    return best_action, best_fid, psi_\n",
    "\n",
    "#------------------------------------------------------------------------------------------------------------------------\n",
    "# 动作选择策略 1：要么选最优动作，要么选最差的动作\n",
    "def step1(sim, sim_target, F): # F 作为判断控制是否陷入局部最优，如果各动作中没有比 F 更高的保真度，就意味着陷入了局部最优\n",
    "    fid_ops = sim.get_expectation_with_grad(ham, # 单位算符，除了占位，啥用也没有。因为要计算的是两个量子态之间的保真度\n",
    "                                            circ, # 右线路，由时间演化算符所定义。用于根据当前时刻量子态计算下一时刻量子态\n",
    "                                            Circuit(), # 左线路，空的。保持目标态不变\n",
    "                                            sim_target, # 目标量子态\n",
    "                                            encoder_params_name=['coeff'], # 调入动作值\n",
    "                                            parallel_worker=1) # 并行核\n",
    "    \n",
    "\n",
    "    fid_list, _ = fid_ops(action_space) # np.array([[0],[1],[2],[3]]) 每一行作为一个样本\n",
    "    fid_list = np.squeeze(np.abs(fid_list)**2)\n",
    "    \n",
    "    if F < max(fid_list): # 如果没有陷入局部最优，就直接选择最大保真度对应的动作\n",
    "        best_action = np.argmax(fid_list)\n",
    "        best_fid = fid_list[best_action]\n",
    "        \n",
    "    else: # 否则选择最差的动作，以最大程度跳出局部最优\n",
    "        best_action = np.argmin(fid_list)\n",
    "        best_fid = fid_list[best_action]\n",
    "        \n",
    "    sim.apply_circuit(circ,pr=best_action)\n",
    "    psi_ = sim.get_qs()\n",
    "        \n",
    "    return best_action, best_fid, psi_\n",
    "\n",
    "#------------------------------------------------------------------------------------------------------------------------\n",
    "# 动作选择策略 2：要么选最优动作，要么选次优的动作\n",
    "def step2(sim, sim_target, F): # F 作为判断控制是否陷入局部最优，如果各动作中没有比 F 更高的保真度，就意味着陷入了局部最优\n",
    "    fid_ops = sim.get_expectation_with_grad(ham, # 单位算符，除了占位，啥用也没有。因为要计算的是两个量子态之间的保真度\n",
    "                                            circ, # 右线路，由时间演化算符所定义。用于根据当前时刻量子态计算下一时刻量子态\n",
    "                                            Circuit(), # 左线路，空的。保持目标态不变\n",
    "                                            sim_target, # 目标量子态\n",
    "                                            encoder_params_name=['coeff'], # 调入动作值\n",
    "                                            parallel_worker=1) # 并行核\n",
    "    \n",
    "    fid_list, _ = fid_ops(action_space) # np.array([[0],[1],[2],[3]]) 每一行作为一个样本\n",
    "    fid_list = np.squeeze(np.abs(fid_list)**2)\n",
    "    \n",
    "    if F < max(fid_list): # 如果没有陷入局部最优，就直接选择最大保真度对应的动作\n",
    "        best_action = np.argmax(fid_list)\n",
    "        best_fid = fid_list[best_action]\n",
    "        \n",
    "    else: # 否则选择最差的动作，以最小代价跳出局部最优\n",
    "        fid_list[np.argmax(fid_list)] = 0 # 将最大保真度故意赋值为 0\n",
    "        best_action = np.argmax(fid_list) # 那么再对保真度列表求一次最大值，就是实际上的次最大值了\n",
    "        best_fid = fid_list[best_action] \n",
    "    \n",
    "    sim.apply_circuit(circ,pr=best_action)\n",
    "    psi_ = sim.get_qs()\n",
    "        \n",
    "    return best_action, best_fid, psi_"
   ]
  },
  {
   "cell_type": "markdown",
   "metadata": {},
   "source": [
    "程序主函数：计算量子态相互制备的保真度。得到128个目标态的平均保真度，其中每个目标态由其他127个初态开始制备。"
   ]
  },
  {
   "cell_type": "code",
   "execution_count": null,
   "metadata": {},
   "outputs": [],
   "source": [
    "def job(target_set): # 输入为一个128个采样点的目标态集合。\n",
    "                     # 每个目标态target_psi都由初始态集中的初态制备\n",
    "\n",
    "    F_list = [] # 用于记录制备所有目标态的平均保真度\n",
    "    count = 0 # 用于监测程序执行进度，达到128时即完成\n",
    "    \n",
    "    sim = Simulator('projectq', 1) \n",
    "    sim_target = Simulator('projectq', 1)\n",
    "     \n",
    "    for target_psi in target_set:\n",
    "        print(count)\n",
    "        count += 1\n",
    "\n",
    "        sim_target.set_qs(target_psi) # 设置目标量子态\n",
    "        fids_list = [] # 用于记录所有初始态制备本目标态中目标态的保真度\n",
    "        \n",
    "        number = 0\n",
    "        for psi1 in init_set: # 对初始态集合中的每个初始态进行遍历执行\n",
    "            print(number)\n",
    "            number += 1\n",
    "            \n",
    "            sim.set_qs(psi1) # 设置当前时刻量子态\n",
    "            fid_ops = sim.get_expectation_with_grad(ham, # 单位算符，除了占位，啥用也没有。因为要计算的是两个量子态之间的保真度\n",
    "                                                    Circuit(), # 右线路，空的。保持当前量子态不变\n",
    "                                                    Circuit(), # 左线路，空的。保持目标态不变\n",
    "                                                    sim_target) # 目标量子态\n",
    "            fid, _ = fid_ops(np.array([])) # 调用函数\n",
    "            F = np.squeeze((np.abs(fid)**2)) # 先计算一下初始态的保真度，以便与下一时刻的保真度进行比较，以判断是否陷入局部最优\n",
    "        \n",
    "            fid_max = F # 每个策略分开执行\n",
    "            fid_max1 = F\n",
    "            fid_max2 = F\n",
    "            fid_max0 = F\n",
    "            \n",
    "            # 执行策略 1：选 最佳动作 或 次优动作\n",
    "            step_n = 0 # 计算控制脉冲数\n",
    "            while True: \n",
    "                action, F, psi_ = step1(sim, sim_target, F) # 采用策略 1 来确定动作、下一时刻的保真度 和 下一时刻量子态\n",
    "                fid_max1 = max(F,fid_max1) # 记录此策略下能达到的最大保真度，用于判定效果和截取控制脉冲序列。\n",
    "                psi = psi_ # 迭代量子态\n",
    "                step_n += 1\n",
    "                if fid_max1>0.999 or step_n>step_max: # 当保真度大于阈值0.999或总步数超过限制就终止循环\n",
    "                    break\n",
    "                \n",
    "            # 与上面类似的操作，执行的是策略 2：选最佳动作 或 最差动作   \n",
    "            step_n = 0 \n",
    "            sim.set_qs(psi1) # 设置当前时刻量子态\n",
    "            fid_ops = sim.get_expectation_with_grad(ham, Circuit(),  Circuit(), sim_target)\n",
    "            fid, _ = fid_ops(np.array([])) # 调用函数\n",
    "            F = np.squeeze((np.abs(fid)**2)) # 先计算一下初始态的保真度，以便与下一时刻的保真度进行比较，以判断是否陷入局部最优\n",
    "            \n",
    "            while True:\n",
    "                action, F, psi_ = step2(sim, sim_target, F)\n",
    "                fid_max2 = max(F,fid_max2)\n",
    "                psi = psi_\n",
    "                step_n += 1\n",
    "                if fid_max2>0.999 or step_n>step_max:\n",
    "                    break \n",
    "                    \n",
    "            # 与上面类似的操作，执行的是策略 0：只选选最佳动作  \n",
    "            step_n = 0\n",
    "            sim.set_qs(psi1) # 设置当前时刻量子态\n",
    "            fid_ops = sim.get_expectation_with_grad(ham, Circuit(),  Circuit(), sim_target)\n",
    "            fid, _ = fid_ops(np.array([])) # 调用函数\n",
    "            F = np.squeeze((np.abs(fid)**2)) # 先计算一下初始态的保真度，以便与下一时刻的保真度进行比较，以判断是否陷入局部最优\n",
    "            while True:\n",
    "                action, F, psi_ = step0(sim, sim_target, F)\n",
    "                fid_max0 = max(F,fid_max0)\n",
    "                psi = psi_\n",
    "                step_n += 1\n",
    "                if fid_max0>0.999 or step_n>step_max:\n",
    "                    break \n",
    "                \n",
    "            fid_max = max(fid_max1,fid_max2,fid_max0)  # 能达到最大保真度的策略即为最佳策略\n",
    "            fids_list.append(fid_max) # 将这个初始态能达到的最大保真度记录下来\n",
    "        F_list.append(np.mean(fids_list))\n",
    "        \n",
    "    return  F_list  # 返回所有态制备任务的平均保真度"
   ]
  },
  {
   "cell_type": "markdown",
   "metadata": {},
   "source": [
    "主程序部分：综合执行以上代码，得出并整理数据，画出并保存量子态制备平均保真度分布热图。"
   ]
  },
  {
   "cell_type": "code",
   "execution_count": null,
   "metadata": {},
   "outputs": [],
   "source": [
    "if __name__ == '__main__':\n",
    "    \n",
    "    time1 = time()\n",
    "    \n",
    "    F_list = job(target_set) # 执行函数 得到记录着目标态态制备任务的各自保真度的列表\n",
    "    \n",
    "    time2 = time()\n",
    "    print('time_cost is: ',time2-time1) # 得到程序运行的总时间\n",
    "    print('mean of the F_list is: ',np.mean(F_list))\n",
    "    print('F_list = ',F_list)\n",
    "        \n",
    "    # 对数据进行处理，画出热图\n",
    "    F_0 = F_list[-2]\n",
    "    F_1 = F_list[-1]\n",
    "    \n",
    "    del F_list[-1]\n",
    "    del F_list[-1]\n",
    "    \n",
    "    F_0_list = []\n",
    "    F_1_list = []\n",
    "    \n",
    "    for _ in range(varphi_num):\n",
    "        F_0_list.append(F_0)\n",
    "        \n",
    "    for _ in range(varphi_num):\n",
    "        F_1_list.append(F_1)\n",
    "        \n",
    "    F_list_plot = F_0_list + F_list + F_1_list\n",
    "    F_array_plot = np.array(F_list_plot)\n",
    "    F_array_plot = F_array_plot.reshape((theta_num+2,varphi_num))\n",
    "    \n",
    "    plt.figure(figsize=(12,12))\n",
    "    plt.title(r'State Preparing Fidelity Heat-map in Single-qubit $S-T_0$ DQDs')\n",
    "    plt.xlabel(r'$\\varphi/\\pi$')\n",
    "    plt.xticks(ticks=[0,5,10,15,20],labels=[0,0.5,1,1.5,2])\n",
    "    plt.ylabel(r'$\\theta/\\pi$')\n",
    "    plt.yticks(ticks=[0,1.4,2.8,4.2,5.6,7],labels=[1.0,0.8,0.6,0.4,0.2,0.0])\n",
    "    plt.imshow(F_array_plot) \n",
    "    plt.colorbar(shrink=0.32,aspect=10,label=r'$\\bar{F}$',ticks=[0.795,0.836,0.877,0.917,0.958,0.999])\n",
    "    plt.show() \n",
    "    plt.savefig('./src/dq_single_qubit_heat_map.png')"
   ]
  },
  {
   "cell_type": "markdown",
   "metadata": {},
   "source": [
    "运行总程序，输出平均保真度 F 和 总的运行时间，并将保真度分布热图保存到 src 文件夹中\n",
    "\n",
    "（图片名为：./src/dq_single_qubit_heat_map.png）。\n",
    "\n",
    "运行计数为完成目标态制备任务数，达到128时即完成全部计算任务。"
   ]
  },
  {
   "cell_type": "code",
   "execution_count": 5,
   "metadata": {},
   "outputs": [
    {
     "name": "stdout",
     "output_type": "stream",
     "text": [
      "0\n",
      "1\n",
      "2\n",
      "3\n",
      "4\n",
      "5\n",
      "6\n",
      "7\n",
      "8\n",
      "9\n",
      "10\n",
      "11\n",
      "12\n",
      "13\n",
      "14\n",
      "15\n",
      "16\n",
      "17\n",
      "18\n",
      "19\n",
      "20\n",
      "21\n",
      "22\n",
      "23\n",
      "24\n",
      "25\n",
      "26\n",
      "27\n",
      "28\n",
      "29\n",
      "30\n",
      "31\n",
      "32\n",
      "33\n",
      "34\n",
      "35\n",
      "36\n",
      "37\n",
      "38\n",
      "39\n",
      "40\n",
      "41\n",
      "42\n",
      "43\n",
      "44\n",
      "45\n",
      "46\n",
      "47\n",
      "48\n",
      "49\n",
      "50\n",
      "51\n",
      "52\n",
      "53\n",
      "54\n",
      "55\n",
      "56\n",
      "57\n",
      "58\n",
      "59\n",
      "60\n",
      "61\n",
      "62\n",
      "63\n",
      "64\n",
      "65\n",
      "66\n",
      "67\n",
      "68\n",
      "69\n",
      "70\n",
      "71\n",
      "72\n",
      "73\n",
      "74\n",
      "75\n",
      "76\n",
      "77\n",
      "78\n",
      "79\n",
      "80\n",
      "81\n",
      "82\n",
      "83\n",
      "84\n",
      "85\n",
      "86\n",
      "87\n",
      "88\n",
      "89\n",
      "90\n",
      "91\n",
      "92\n",
      "93\n",
      "94\n",
      "95\n",
      "96\n",
      "97\n",
      "98\n",
      "99\n",
      "100\n",
      "101\n",
      "102\n",
      "103\n",
      "104\n",
      "105\n",
      "106\n",
      "107\n",
      "108\n",
      "109\n",
      "110\n",
      "111\n",
      "112\n",
      "113\n",
      "114\n",
      "115\n",
      "116\n",
      "117\n",
      "118\n",
      "119\n",
      "120\n",
      "121\n",
      "122\n",
      "123\n",
      "124\n",
      "125\n",
      "126\n",
      "127\n",
      "time_cost is:  2722.6147162914276\n",
      "mean of the F_list is:  0.9728277634378075\n",
      "F_list =  [0.9985281367379363, 0.9990919567471838, 0.9970130622032513, 0.9958261601009429, 0.995223828407882, 0.9957531079642747, 0.9950831555787851, 0.9937914188533699, 0.9917651574449476, 0.9926446441823844, 0.9876565935823783, 0.9865262384614616, 0.9783146366483824, 0.9566958286943454, 0.9391167701117842, 0.9541436487769422, 0.9832260816801243, 0.9899602974099069, 0.9948565032237359, 0.9978374519026468, 0.9989014293704992, 0.9943256369365041, 0.9979653669858036, 0.9901920927270931, 0.9892809101862977, 0.9928472764689795, 0.9880798626634244, 0.9905812889685003, 0.9904179764917772, 0.9900879749474666, 0.9880456154489761, 0.991970397583727, 0.9932630121865897, 0.9868395876024771, 0.9680604079775849, 0.9430525313278038, 0.9139558179608778, 0.8618923217467201, 0.8029979413461303, 0.8053269286429409, 0.9916361446207601, 0.9952034312007517, 0.9970375835383347, 0.996259157034215, 0.996130281734738, 0.9919221775708045, 0.9832519916199165, 0.9723729718572467, 0.9751981038405089, 0.9749736825024158, 0.9752860845115601, 0.9752240182436843, 0.9797826837738742, 0.9946513474187313, 0.9910632663448913, 0.986849818183613, 0.97422714599839, 0.9525233746416194, 0.9191977280296342, 0.9148350255091815, 0.9213310363363945, 0.940226619042294, 0.9857038620026883, 0.9859197186188753, 0.9959315870218495, 0.9891550444574079, 0.9807275481116824, 0.9666055402996133, 0.9346810558183336, 0.9128285912634231, 0.9169013006319949, 0.9266809776411358, 0.954348321536516, 0.9956053580904622, 0.9971294953234219, 0.9964622571371105, 0.9946386444551144, 0.9887826030866218, 0.9783546636106607, 0.9712884158296023, 0.9751393366486035, 0.9769088474346235, 0.9735693073208886, 0.973059211168853, 0.9937676273926019, 0.9913519965898673, 0.9831122380223428, 0.9512837026973915, 0.9290987543112659, 0.8867135590581138, 0.8322626314084722, 0.7958825741307187, 0.865919514496858, 0.9942918752211858, 0.9958440803854676, 0.9978374716101991, 0.9948588234749784, 0.9886713083786716, 0.9917457822170559, 0.990658401055716, 0.9879311535948093, 0.9915138878255231, 0.9901828000227636, 0.9891243414340879, 0.99038792223256, 0.9879877630899396, 0.9849465441087157, 0.9695690881609691, 0.9439923616109784, 0.9478903606195146, 0.9720567656634507, 0.9915199658668412, 0.9938087432541696, 0.9968625424072276, 0.9977343667024151, 0.9986924760677102, 0.998595430558995, 0.9982528441398151, 0.9960215284563368, 0.9948666378924378, 0.995551029350639, 0.9950244042078176, 0.9951970616355128, 0.992056539984645, 0.9930621071793574, 0.9913598575586281, 0.9921063624582793, 0.9916140761584243]\n"
     ]
    },
    {
     "data": {
      "image/png": "[encoded data removed]",
      "text/plain": [
       "<Figure size 864x864 with 2 Axes>"
      ]
     },
     "metadata": {
      "needs_background": "light"
     },
     "output_type": "display_data"
    }
   ],
   "source": [
    "%run src/USP_qd_single_qubit.py "
   ]
  },
  {
   "cell_type": "markdown",
   "metadata": {},
   "source": [
    "以上显示的保真度分布热图，也就是原文中的 图2(a)。可见，在此模型下复现结果和原文中一致。"
   ]
  },
  {
   "cell_type": "markdown",
   "metadata": {},
   "source": [
    "# 2. 复现超导线路模型下，任意单量子比特态之间的互相制备\n",
    "\n",
    "因只是换了物理模型，主要代码内容和上个模型基本一致。为避免重复，仅对不同之处做以区分性说明。"
   ]
  },
  {
   "cell_type": "markdown",
   "metadata": {},
   "source": [
    "超导线路模型的哈密顿量为：$$H=-\\frac{\\hbar}{2}A_z\\sigma_z$$\n",
    "或 $$H=\\frac{\\hbar}{2}A(\\cos{\\phi}\\sigma_x+\\sin{\\phi\\sigma_y})$$\n",
    "\n"
   ]
  },
  {
   "cell_type": "markdown",
   "metadata": {},
   "source": [
    "由于物理限制，只能选择其中一项，分别对应于绕 $z$ 轴方向的旋转，和绕位于 $XY$ 平面内轴的旋转。当相位补偿 $\\phi=0$ 时，即为绕 $x$ 轴的旋转，而当 $\\phi=\\pi/2$ 时，对应绕 $y$ 轴的旋转。\n",
    "\n",
    "绕 $x$ 和 $y$ 轴的旋转方向可为正，也可为负，而绕 $z$ 轴旋转方向只能为正。\n",
    "\n",
    "所以定义的动作空间为："
   ]
  },
  {
   "cell_type": "code",
   "execution_count": null,
   "metadata": {},
   "outputs": [],
   "source": [
    "action_space = np.mat([[1,0,0], #可以选择的动作范围，各列的每项分别代表着 sigma x, y, z 前面的系数。\n",
    "                       [2,0,0], #每次执行的动作都是单独的绕 x, y, z 轴一定角度的旋转\n",
    "                       [0,1,0], # x, y 方向的值可以取负，但 z 方向的只能取正值\n",
    "                       [0,2,0],\n",
    "                       [0,0,1],\n",
    "                       [0,0,2],\n",
    "                       [-1,0,0],\n",
    "                       [-2,0,0],\n",
    "                       [0,-1,0],\n",
    "                       [0,-2,0]])"
   ]
  },
  {
   "cell_type": "markdown",
   "metadata": {},
   "source": [
    "在执行动作时，哈密顿量代码为："
   ]
  },
  {
   "cell_type": "code",
   "execution_count": null,
   "metadata": {},
   "outputs": [],
   "source": [
    "H = float(action_space[action,0])*sx/2 + float(action_space[action,1])*sy/2 - float(action_space[action,2])*sz/2"
   ]
  },
  {
   "cell_type": "markdown",
   "metadata": {},
   "source": [
    "依然可以按照上例方式执行程序：输出平均保真度 F 和 总的运行时间，并将保真度分布热图保存到 src 文件夹中\n",
    "\n",
    "（图片名为：./src/sj_single_qubit_heat_map.png）。\n",
    "\n",
    "运行计数为完成目标态制备任务数，达到128时即完成全部计算任务。"
   ]
  },
  {
   "cell_type": "code",
   "execution_count": 5,
   "metadata": {},
   "outputs": [
    {
     "name": "stdout",
     "output_type": "stream",
     "text": [
      "0\n",
      "1\n",
      "2\n",
      "3\n",
      "4\n",
      "5\n",
      "6\n",
      "7\n",
      "8\n",
      "9\n",
      "10\n",
      "11\n",
      "12\n",
      "13\n",
      "14\n",
      "15\n",
      "16\n",
      "17\n",
      "18\n",
      "19\n",
      "20\n",
      "21\n",
      "22\n",
      "23\n",
      "24\n",
      "25\n",
      "26\n",
      "27\n",
      "28\n",
      "29\n",
      "30\n",
      "31\n",
      "32\n",
      "33\n",
      "34\n",
      "35\n",
      "36\n",
      "37\n",
      "38\n",
      "39\n",
      "40\n",
      "41\n",
      "42\n",
      "43\n",
      "44\n",
      "45\n",
      "46\n",
      "47\n",
      "48\n",
      "49\n",
      "50\n",
      "51\n",
      "52\n",
      "53\n",
      "54\n",
      "55\n",
      "56\n",
      "57\n",
      "58\n",
      "59\n",
      "60\n",
      "61\n",
      "62\n",
      "63\n",
      "64\n",
      "65\n",
      "66\n",
      "67\n",
      "68\n",
      "69\n",
      "70\n",
      "71\n",
      "72\n",
      "73\n",
      "74\n",
      "75\n",
      "76\n",
      "77\n",
      "78\n",
      "79\n",
      "80\n",
      "81\n",
      "82\n",
      "83\n",
      "84\n",
      "85\n",
      "86\n",
      "87\n",
      "88\n",
      "89\n",
      "90\n",
      "91\n",
      "92\n",
      "93\n",
      "94\n",
      "95\n",
      "96\n",
      "97\n",
      "98\n",
      "99\n",
      "100\n",
      "101\n",
      "102\n",
      "103\n",
      "104\n",
      "105\n",
      "106\n",
      "107\n",
      "108\n",
      "109\n",
      "110\n",
      "111\n",
      "112\n",
      "113\n",
      "114\n",
      "115\n",
      "116\n",
      "117\n",
      "118\n",
      "119\n",
      "120\n",
      "121\n",
      "122\n",
      "123\n",
      "124\n",
      "125\n",
      "126\n",
      "127\n",
      "F_list =  [0.9992626016568953, 0.9995144844019341, 0.9995460533336444, 0.9994487703895798, 0.9994341030357903, 0.9994277361138151, 0.9995065968535353, 0.9995340631758373, 0.999530686497732, 0.999426204281705, 0.9993963640685807, 0.9994114725257038, 0.9995366303277333, 0.9993891174005956, 0.9994904903874451, 0.99942019569232, 0.9993321384538574, 0.9995540107497178, 0.9994607633414887, 0.9995125756924348, 0.9993758571776078, 0.9992989411366318, 0.9994344492569686, 0.9995358246179075, 0.9995188853013945, 0.9994997090832396, 0.9993183356366729, 0.9994400424435175, 0.9994868779795222, 0.999538155729168, 0.9995312501317175, 0.9993789657781853, 0.9994442339539455, 0.999454805456786, 0.999477453460133, 0.9994847719313813, 0.9994484890569231, 0.9994418498151303, 0.9995079291848901, 0.9994711079783858, 0.9995770571775666, 0.999485094422466, 0.9994551053468359, 0.9995230980837229, 0.9994664195841044, 0.9994094370995563, 0.9995110420974335, 0.9994362014931572, 0.9995731027656826, 0.9995489943208492, 0.9990514218806035, 0.9995147454366133, 0.9994823498684318, 0.9994760814110144, 0.999577758784197, 0.9990079323385279, 0.9994297317319802, 0.9994418324776185, 0.9994075732558478, 0.9995401661775851, 0.999299965417248, 0.9995206790708214, 0.9995324703488049, 0.9994551053468359, 0.9995230980837231, 0.9994664195841046, 0.9994094370995563, 0.9995110420974337, 0.9994362014931573, 0.9995731027656828, 0.9995489943208493, 0.9990514218806037, 0.9995147454366134, 0.9994823498684318, 0.9994760814110145, 0.9995777587841972, 0.9990079323385281, 0.9994297317319805, 0.9994418324776186, 0.9994075732558481, 0.9995401661775851, 0.9992999654172483, 0.9995206790708215, 0.9995324703488049, 0.9993013807849245, 0.9994344492569686, 0.9995358246179075, 0.9995188853013948, 0.9994997090832394, 0.9993183356366728, 0.9994400424435175, 0.9994868779795223, 0.999538155729168, 0.9995312501317176, 0.9993789657781854, 0.9994442339539458, 0.9994548054567862, 0.999477453460133, 0.9994847719313813, 0.9994484890569231, 0.9994418498151303, 0.9995079291848901, 0.9994711079783859, 0.9995770571775666, 0.999485094422466, 0.9992626016568954, 0.9995144844019339, 0.9995460533336447, 0.9994487703895798, 0.9994341030357902, 0.9994277361138151, 0.9995065968535355, 0.9995340631758372, 0.999530686497732, 0.999426204281705, 0.9993963640685808, 0.999411472525704, 0.9995366303277334, 0.9993891174005957, 0.9994904903874451, 0.9994201956923202, 0.9993321384538573, 0.9995540107497178, 0.9994607633414885, 0.9995125756924349, 0.9993758571776077, 0.9989475680203972, 0.9989423482986207]\n"
     ]
    },
    {
     "data": {
      "image/png": "[encoded data removed]",
      "text/plain": [
       "<Figure size 864x864 with 2 Axes>"
      ]
     },
     "metadata": {
      "needs_background": "light"
     },
     "output_type": "display_data"
    },
    {
     "name": "stdout",
     "output_type": "stream",
     "text": [
      "time_cost is:  1373.5808501243591\n"
     ]
    }
   ],
   "source": [
    "%run src/USP_sj_single_qubit.py"
   ]
  },
  {
   "cell_type": "markdown",
   "metadata": {},
   "source": [
    "以上显示的保真度分布热图，也就是原文中的 图2(b)。可见，在此模型下复现结果和原文中一致。"
   ]
  },
  {
   "cell_type": "markdown",
   "metadata": {},
   "source": [
    "## 论文算法潜在改进方向：\n",
    "\n",
    "该算法方案采用离散强度和持续时间脉冲控制，这便于在实验上实行，但也造成了量子态最大实现精度不够高的问题（在半导体单-三重态量子比特模型上量子态制备的平均保真度为 0.973）。在后期的改进中可以采用连续脉冲进行控制，以实现更高精度的态制备能力。\n",
    "\n",
    "## 项目总结\n",
    "\n",
    "此论文提出的方案可以实现在遵守物理模型限制下找到任意量子态之间相互制备的最佳含时控制方案，属于一类典型的动力学演化分析问题。本项目基于 MindQuantum 量子计算框架对其最核心的结果进行了复现，实现了量子计算中两个重要模型下的单量子比特控制优化任务。复现结果和原论文完美符合，例证了 MindQuantum 框架在量子计算领域中有很强的适用性：并非仅限于量子线路模型，在控制优化等需要动力学演化分析的问题中，该框架依然有着一定的用武之地。\n",
    "\n"
   ]
  }
 ],
 "metadata": {
  "kernelspec": {
   "display_name": "Python 3 (ipykernel)",
   "language": "python",
   "name": "python3"
  },
  "language_info": {
   "codemirror_mode": {
    "name": "ipython",
    "version": 3
   },
   "file_extension": ".py",
   "mimetype": "text/x-python",
   "name": "python",
   "nbconvert_exporter": "python",
   "pygments_lexer": "ipython3",
   "version": "3.7.11"
  }
 },
 "nbformat": 4,
 "nbformat_minor": 4
}
