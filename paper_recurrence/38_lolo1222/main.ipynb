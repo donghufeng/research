{
 "cells": [
  {
   "cell_type": "markdown",
   "metadata": {},
   "source": [
    "# 论文题目：Variational Quantum Singular Value Deposition(VQSVD)\n",
    "\n",
    "## 项目介绍\n",
    "\n",
    "### SVD\n",
    "\n",
    "**奇异值分解**(Singular Value Decomposition，简称**SVD**)是线性代数中一种重要的矩阵分解，它作为特征分解在任意维数矩阵上的推广，在机器学习领域中被广泛应用，常用于矩阵压缩、推荐系统以及自然语言处理等。\n",
    "\n",
    "**定义**：给定一个复数矩阵 $M \\in \\mathbb{C}^{m \\times n}$ ，则定义矩阵 $M$ 的**SVD**为： $M = UDV^\\dagger$ 。其中 $U$ 是 $m \\times m$ 的矩阵， $V$ 是 $n \\times n$ 的矩阵， $U, V$ 都是酉矩阵，即满足 $UU^\\dagger = I, VV^\\dagger = I$ 。$D$ 是 $m \\times n$ 的对角阵，主对角线上的的元素从大到小排列，每个元素都称为矩阵 $M$ 的奇异值。\n",
    "\n",
    "### VQSVD\n",
    "\n",
    "**变分量子奇异值分解**(Variational Quantum Singular Value Decomposition，简称**VQSVD**)将SVD转换成优化问题，并通过变分量子线路求解。\n",
    "\n",
    "论文将矩阵奇异值分解分成4个步骤求解：\n",
    "\n",
    "1. 输入待分解的矩阵 $M$ ，想压缩到的阶数 $T$ ，权重 $Weights$ ，测量基 $\\{ | \\psi_1\\rangle,\\cdots |\\psi_T\\rangle\\}$ ，参数化的酉矩阵 $U(\\theta)$ 和 $V(\\phi)$ （即ansatz）；\n",
    "2. 搭建量子神经网络估算奇异值 $m_j = \\text{Re}\\langle\\psi_j|U(\\theta)^{\\dagger} M V(\\phi)|\\psi_j\\rangle$ ，并最大化加权奇异值的和 $L(\\theta,\\phi) = \\sum_{j=1}^T q_j\\times \\text{Re} \\langle\\psi_j|U(\\theta)^{\\dagger} M V(\\phi)|\\psi_j\\rangle$ ，其中，加权是为了让计算出的奇异值从大到小排列；\n",
    "3. 读出最大化时参数值 $\\alpha^ \\star$ 和 $\\beta^\\star$ ，计算出 $U(\\alpha^\\star)$ 和 $V(\\beta^\\star)$\n",
    "4. 输出结果：奇异值 ${m_1, \\cdots, m_r}$ 和奇异矩阵 $U(\\alpha^\\star)$ 和 $V(\\beta^\\star)$\n",
    "\n",
    "![VQSVD steps](https://gitee.com/mindspore/mindquantum/raw/research/paper_recurrence/38_lolo1222/figure/QSVD.png)"
   ]
  },
  {
   "cell_type": "markdown",
   "metadata": {},
   "source": [
    "## 复现过程"
   ]
  },
  {
   "cell_type": "markdown",
   "metadata": {},
   "source": [
    "### 案例1：分解随机生成的8*8复数矩阵"
   ]
  },
  {
   "cell_type": "markdown",
   "metadata": {},
   "source": [
    "在导入MindQuantum之前设置模拟器使用的并行线程数。"
   ]
  },
  {
   "cell_type": "code",
   "execution_count": 1,
   "metadata": {},
   "outputs": [],
   "source": [
    "import os\n",
    "os.environ['OMP_NUM_THREADS'] = '1'"
   ]
  },
  {
   "cell_type": "markdown",
   "metadata": {},
   "source": [
    "需要使用的包："
   ]
  },
  {
   "cell_type": "code",
   "execution_count": 2,
   "metadata": {},
   "outputs": [],
   "source": [
    "import mindspore as ms\n",
    "from mindquantum import Simulator, MQAnsatzOnlyLayer, add_prefix\n",
    "from mindquantum import Hamiltonian, Circuit, RY, RZ, X\n",
    "\n",
    "import numpy as np\n",
    "from scipy.sparse import csr_matrix\n",
    "from scipy.linalg import norm\n",
    "from matplotlib import pyplot\n",
    "import tqdm"
   ]
  },
  {
   "cell_type": "markdown",
   "metadata": {},
   "source": [
    "定义常数并设置权重："
   ]
  },
  {
   "cell_type": "code",
   "execution_count": 3,
   "metadata": {},
   "outputs": [],
   "source": [
    "n_qubits = 3  # qbits number\n",
    "cir_depth = 20  # circuit depth\n",
    "N = 2**n_qubits\n",
    "rank = 8  # learning rank\n",
    "step = 3\n",
    "ITR = 200  # iterations\n",
    "LR = 0.02  # learning rate\n",
    "\n",
    "# Set equal learning weights\n",
    "if step == 0:\n",
    "    weight = ms.Tensor(np.ones(rank))\n",
    "else:\n",
    "    weight = ms.Tensor(np.arange(rank * step, 0, -step))"
   ]
  },
  {
   "cell_type": "markdown",
   "metadata": {},
   "source": [
    "随机生成一个8*8的复数矩阵M"
   ]
  },
  {
   "cell_type": "code",
   "execution_count": 4,
   "metadata": {},
   "outputs": [
    {
     "name": "stdout",
     "output_type": "stream",
     "text": [
      "Random matrix M is: \n",
      "[[6.+1.j 3.+9.j 7.+3.j 4.+7.j 6.+6.j 9.+8.j 2.+7.j 6.+4.j]\n",
      " [7.+1.j 4.+4.j 3.+7.j 7.+9.j 7.+8.j 2.+8.j 5.+0.j 4.+8.j]\n",
      " [1.+6.j 7.+8.j 5.+7.j 1.+0.j 4.+7.j 0.+7.j 9.+2.j 5.+0.j]\n",
      " [8.+7.j 0.+2.j 9.+2.j 2.+0.j 6.+4.j 3.+9.j 8.+6.j 2.+9.j]\n",
      " [4.+8.j 2.+6.j 6.+8.j 4.+7.j 8.+1.j 6.+0.j 1.+6.j 3.+6.j]\n",
      " [8.+7.j 1.+4.j 9.+2.j 8.+7.j 9.+5.j 4.+2.j 1.+0.j 3.+2.j]\n",
      " [6.+4.j 7.+2.j 2.+0.j 0.+4.j 3.+9.j 1.+6.j 7.+6.j 3.+8.j]\n",
      " [1.+9.j 5.+9.j 5.+2.j 9.+6.j 3.+0.j 5.+3.j 1.+3.j 9.+4.j]]\n"
     ]
    }
   ],
   "source": [
    "# Define random seed\n",
    "np.random.seed(42)\n",
    "\n",
    "\n",
    "def mat_generator():\n",
    "    '''\n",
    "    Generate a random complex matrix\n",
    "    '''\n",
    "    matrix = np.random.randint(\n",
    "        10, size=(N, N)) + 1j * np.random.randint(10, size=(N, N))\n",
    "    return matrix\n",
    "\n",
    "\n",
    "# Generate matrix M which will be decomposed\n",
    "M = mat_generator()\n",
    "\n",
    "# m_copy is generated to error analysis\n",
    "m_copy = np.copy(M)\n",
    "\n",
    "# Print M\n",
    "print('Random matrix M is: ')\n",
    "print(M)\n",
    "\n",
    "# Get SVD results\n",
    "U, D, v_dagger = np.linalg.svd(M, full_matrices=True)"
   ]
  },
  {
   "cell_type": "markdown",
   "metadata": {},
   "source": [
    "定义论文中使用的ansatz类："
   ]
  },
  {
   "cell_type": "code",
   "execution_count": 5,
   "metadata": {},
   "outputs": [],
   "source": [
    "class Ansatz:\n",
    "    '''\n",
    "    Define ansatz\n",
    "    '''\n",
    "\n",
    "    def __init__(self, n, depth):\n",
    "        self.circ = Circuit()\n",
    "        num = 0\n",
    "        for _ in range(depth):\n",
    "\n",
    "            for i in range(n):\n",
    "                self.circ += RY('theta' + str(num)).on(i)\n",
    "                num += 1\n",
    "\n",
    "            for i in range(n):\n",
    "                self.circ += RZ('theta' + str(num)).on(i)\n",
    "                num += 1\n",
    "\n",
    "            for i in range(n - 1):\n",
    "                self.circ += X.on(i + 1, i)\n",
    "\n",
    "            self.circ += X.on(0, n - 1)"
   ]
  },
  {
   "cell_type": "markdown",
   "metadata": {},
   "source": [
    "定义画出优化过程中的学习曲线的函数："
   ]
  },
  {
   "cell_type": "code",
   "execution_count": 6,
   "metadata": {},
   "outputs": [],
   "source": [
    "def loss_plot(loss):\n",
    "    '''\n",
    "    Plot loss over iteration\n",
    "    '''\n",
    "    pyplot.plot(list(range(1, len(loss) + 1)), loss)\n",
    "    pyplot.xlabel('iteration')\n",
    "    pyplot.ylabel('loss')\n",
    "    pyplot.title('Loss Over Iteration')\n",
    "    pyplot.suptitle('step = ' + str(step))\n",
    "    pyplot.show()"
   ]
  },
  {
   "cell_type": "markdown",
   "metadata": {},
   "source": [
    "定义不同测量基下的量子网络。\n",
    "\n",
    "`get_expectation_with_grad` 方法可以用来计算如下表达式的值和线路中参数的梯度。\n",
    "\n",
    "$$\n",
    "E(\\theta) = \\langle\\phi|U_l^{\\dagger}(\\theta) H U_r(\\theta)|\\psi\\rangle\n",
    "$$\n",
    "\n",
    "将待分解矩阵M嵌入哈密顿量H中，将 $U_l(\\theta)$ 设置成 $U(\\theta)$ ， $U_r(\\theta)$ 设置成 $V(\\phi)$ ，通过模拟器的`set_qs`设置模拟器的状态为给定的测量基，从而获取到该测量基下的测量结果，即对应位置的奇异值。再使用 `MQAnsatzOnlyLayer` 即搭建出基于给定测量基下的量子网络层，其输出为 $\\text{Re}\\langle\\psi_j|U(\\theta)^{\\dagger} M V(\\phi)|\\psi_j\\rangle$ 。"
   ]
  },
  {
   "cell_type": "code",
   "execution_count": 7,
   "metadata": {},
   "outputs": [],
   "source": [
    "def quantnet(qubits_num, hams, circ_right, circ_left=None, base=None):\n",
    "    '''\n",
    "    Generate quantum net using hams, circ_right and circ_left under given base\n",
    "    '''\n",
    "    sim = Simulator('projectq', qubits_num)\n",
    "\n",
    "    if base is None:\n",
    "        pass\n",
    "    else:\n",
    "        sim.set_qs(base)\n",
    "    grad_ops = sim.get_expectation_with_grad(hams, circ_right, circ_left)\n",
    "\n",
    "    ms.context.set_context(mode=ms.context.PYNATIVE_MODE, device_target=\"CPU\")\n",
    "\n",
    "    quantumnet = MQAnsatzOnlyLayer(grad_ops, 'ones')\n",
    "\n",
    "    return quantumnet"
   ]
  },
  {
   "cell_type": "markdown",
   "metadata": {},
   "source": [
    "实例化要使用到的ansatz：U_ansatz和V_ansatz"
   ]
  },
  {
   "cell_type": "code",
   "execution_count": 9,
   "metadata": {},
   "outputs": [
    {
     "data": {
      "text/html": [
       "<pre style=\"white-space:pre;overflow-x:auto;line-height:normal;font-family:Menlo,'DejaVu Sans Mono',consolas,'Courier New',monospace\"></pre>\n"
      ],
      "text/plain": []
     },
     "metadata": {},
     "output_type": "display_data"
    },
    {
     "data": {
      "text/html": [
       "<pre style=\"white-space: pre;\"><span style=\"color: #000080; text-decoration-color: #000080; font-weight: bold\">q0: ──</span><span style=\"color: #800080; text-decoration-color: #800080; font-weight: bold\">RY</span><span style=\"color: #000080; text-decoration-color: #000080; font-weight: bold\">(v_theta0)────</span><span style=\"color: #800080; text-decoration-color: #800080; font-weight: bold\">RZ</span><span style=\"color: #000080; text-decoration-color: #000080; font-weight: bold\">(v_theta3)────●─────────X────</span><span style=\"color: #800080; text-decoration-color: #800080; font-weight: bold\">RY</span><span style=\"color: #000080; text-decoration-color: #000080; font-weight: bold\">(v_theta6)─────</span><span style=\"color: #800080; text-decoration-color: #800080; font-weight: bold\">RZ</span><span style=\"color: #000080; text-decoration-color: #000080; font-weight: bold\">(v_theta9)────●─────────X────</span><span style=\"color: #800080; text-decoration-color: #800080; font-weight: bold\">RY</span><span style=\"color: #000080; text-decoration-color: #000080; font-weight: bold\">(v_theta12)────</span><span style=\"color: #800080; text-decoration-color: #800080; font-weight: bold\">RZ</span><span style=\"color: #000080; text-decoration-color: #000080; font-weight: bold\">(v_theta15)────●─────────X────</span><span style=\"color: #800080; text-decoration-color: #800080; font-weight: bold\">RY</span><span style=\"color: #000080; text-decoration-color: #000080; font-weight: bold\">(v_theta18)────</span><span style=\"color: #800080; text-decoration-color: #800080; font-weight: bold\">RZ</span><span style=\"color: #000080; text-decoration-color: #000080; font-weight: bold\">(v_theta21)────●─────────X────</span><span style=\"color: #800080; text-decoration-color: #800080; font-weight: bold\">RY</span><span style=\"color: #000080; text-decoration-color: #000080; font-weight: bold\">(v_theta24)────</span><span style=\"color: #800080; text-decoration-color: #800080; font-weight: bold\">RZ</span><span style=\"color: #000080; text-decoration-color: #000080; font-weight: bold\">(v_theta27)────●─────────X────</span><span style=\"color: #800080; text-decoration-color: #800080; font-weight: bold\">RY</span><span style=\"color: #000080; text-decoration-color: #000080; font-weight: bold\">(v_theta30)────</span><span style=\"color: #800080; text-decoration-color: #800080; font-weight: bold\">RZ</span><span style=\"color: #000080; text-decoration-color: #000080; font-weight: bold\">(v_theta33)────●─────────X────</span><span style=\"color: #800080; text-decoration-color: #800080; font-weight: bold\">RY</span><span style=\"color: #000080; text-decoration-color: #000080; font-weight: bold\">(v_theta36)────</span><span style=\"color: #800080; text-decoration-color: #800080; font-weight: bold\">RZ</span><span style=\"color: #000080; text-decoration-color: #000080; font-weight: bold\">(v_theta39)────●─────────X────</span><span style=\"color: #800080; text-decoration-color: #800080; font-weight: bold\">RY</span><span style=\"color: #000080; text-decoration-color: #000080; font-weight: bold\">(v_theta42)────</span><span style=\"color: #800080; text-decoration-color: #800080; font-weight: bold\">RZ</span><span style=\"color: #000080; text-decoration-color: #000080; font-weight: bold\">(v_theta45)────●─────────X────</span><span style=\"color: #800080; text-decoration-color: #800080; font-weight: bold\">RY</span><span style=\"color: #000080; text-decoration-color: #000080; font-weight: bold\">(v_theta48)────</span><span style=\"color: #800080; text-decoration-color: #800080; font-weight: bold\">RZ</span><span style=\"color: #000080; text-decoration-color: #000080; font-weight: bold\">(v_theta51)────●─────────X────</span><span style=\"color: #800080; text-decoration-color: #800080; font-weight: bold\">RY</span><span style=\"color: #000080; text-decoration-color: #000080; font-weight: bold\">(v_theta54)────</span><span style=\"color: #800080; text-decoration-color: #800080; font-weight: bold\">RZ</span><span style=\"color: #000080; text-decoration-color: #000080; font-weight: bold\">(v_theta57)────●─────────X────</span><span style=\"color: #800080; text-decoration-color: #800080; font-weight: bold\">RY</span><span style=\"color: #000080; text-decoration-color: #000080; font-weight: bold\">(v_theta60)────</span><span style=\"color: #800080; text-decoration-color: #800080; font-weight: bold\">RZ</span><span style=\"color: #000080; text-decoration-color: #000080; font-weight: bold\">(v_theta63)────●─────────X────</span><span style=\"color: #800080; text-decoration-color: #800080; font-weight: bold\">RY</span><span style=\"color: #000080; text-decoration-color: #000080; font-weight: bold\">(v_theta66)────</span><span style=\"color: #800080; text-decoration-color: #800080; font-weight: bold\">RZ</span><span style=\"color: #000080; text-decoration-color: #000080; font-weight: bold\">(v_theta69)────●─────────X────</span><span style=\"color: #800080; text-decoration-color: #800080; font-weight: bold\">RY</span><span style=\"color: #000080; text-decoration-color: #000080; font-weight: bold\">(v_theta72)────</span><span style=\"color: #800080; text-decoration-color: #800080; font-weight: bold\">RZ</span><span style=\"color: #000080; text-decoration-color: #000080; font-weight: bold\">(v_theta75)────●─────────X────</span><span style=\"color: #800080; text-decoration-color: #800080; font-weight: bold\">RY</span><span style=\"color: #000080; text-decoration-color: #000080; font-weight: bold\">(v_theta78)────</span><span style=\"color: #800080; text-decoration-color: #800080; font-weight: bold\">RZ</span><span style=\"color: #000080; text-decoration-color: #000080; font-weight: bold\">(v_theta81)────●─────────X────</span><span style=\"color: #800080; text-decoration-color: #800080; font-weight: bold\">RY</span><span style=\"color: #000080; text-decoration-color: #000080; font-weight: bold\">(v_theta84)────</span><span style=\"color: #800080; text-decoration-color: #800080; font-weight: bold\">RZ</span><span style=\"color: #000080; text-decoration-color: #000080; font-weight: bold\">(v_theta87)────●─────────X────</span><span style=\"color: #800080; text-decoration-color: #800080; font-weight: bold\">RY</span><span style=\"color: #000080; text-decoration-color: #000080; font-weight: bold\">(v_theta90)────</span><span style=\"color: #800080; text-decoration-color: #800080; font-weight: bold\">RZ</span><span style=\"color: #000080; text-decoration-color: #000080; font-weight: bold\">(v_theta93)────●─────────X────</span><span style=\"color: #800080; text-decoration-color: #800080; font-weight: bold\">RY</span><span style=\"color: #000080; text-decoration-color: #000080; font-weight: bold\">(v_theta96)────</span><span style=\"color: #800080; text-decoration-color: #800080; font-weight: bold\">RZ</span><span style=\"color: #000080; text-decoration-color: #000080; font-weight: bold\">(v_theta99)─────●─────────X────</span><span style=\"color: #800080; text-decoration-color: #800080; font-weight: bold\">RY</span><span style=\"color: #000080; text-decoration-color: #000080; font-weight: bold\">(v_theta102)────</span><span style=\"color: #800080; text-decoration-color: #800080; font-weight: bold\">RZ</span><span style=\"color: #000080; text-decoration-color: #000080; font-weight: bold\">(v_theta105)────●─────────X────</span><span style=\"color: #800080; text-decoration-color: #800080; font-weight: bold\">RY</span><span style=\"color: #000080; text-decoration-color: #000080; font-weight: bold\">(v_theta108)────</span><span style=\"color: #800080; text-decoration-color: #800080; font-weight: bold\">RZ</span><span style=\"color: #000080; text-decoration-color: #000080; font-weight: bold\">(v_theta111)────●─────────X────</span><span style=\"color: #800080; text-decoration-color: #800080; font-weight: bold\">RY</span><span style=\"color: #000080; text-decoration-color: #000080; font-weight: bold\">(v_theta114)────</span><span style=\"color: #800080; text-decoration-color: #800080; font-weight: bold\">RZ</span><span style=\"color: #000080; text-decoration-color: #000080; font-weight: bold\">(v_theta117)────●─────────X──</span>\n",
       "<span style=\"color: #000080; text-decoration-color: #000080; font-weight: bold\">                                      │         │                                     │         │                                      │         │                                      │         │                                      │         │                                      │         │                                      │         │                                      │         │                                      │         │                                      │         │                                      │         │                                      │         │                                      │         │                                      │         │                                      │         │                                      │         │                                       │         │                                        │         │                                        │         │                                        │         │</span>\n",
       "<span style=\"color: #000080; text-decoration-color: #000080; font-weight: bold\">q1: ──</span><span style=\"color: #800080; text-decoration-color: #800080; font-weight: bold\">RY</span><span style=\"color: #000080; text-decoration-color: #000080; font-weight: bold\">(v_theta1)────</span><span style=\"color: #800080; text-decoration-color: #800080; font-weight: bold\">RZ</span><span style=\"color: #000080; text-decoration-color: #000080; font-weight: bold\">(v_theta4)────X────●────┼────</span><span style=\"color: #800080; text-decoration-color: #800080; font-weight: bold\">RY</span><span style=\"color: #000080; text-decoration-color: #000080; font-weight: bold\">(v_theta7)────</span><span style=\"color: #800080; text-decoration-color: #800080; font-weight: bold\">RZ</span><span style=\"color: #000080; text-decoration-color: #000080; font-weight: bold\">(v_theta10)────X────●────┼────</span><span style=\"color: #800080; text-decoration-color: #800080; font-weight: bold\">RY</span><span style=\"color: #000080; text-decoration-color: #000080; font-weight: bold\">(v_theta13)────</span><span style=\"color: #800080; text-decoration-color: #800080; font-weight: bold\">RZ</span><span style=\"color: #000080; text-decoration-color: #000080; font-weight: bold\">(v_theta16)────X────●────┼────</span><span style=\"color: #800080; text-decoration-color: #800080; font-weight: bold\">RY</span><span style=\"color: #000080; text-decoration-color: #000080; font-weight: bold\">(v_theta19)────</span><span style=\"color: #800080; text-decoration-color: #800080; font-weight: bold\">RZ</span><span style=\"color: #000080; text-decoration-color: #000080; font-weight: bold\">(v_theta22)────X────●────┼────</span><span style=\"color: #800080; text-decoration-color: #800080; font-weight: bold\">RY</span><span style=\"color: #000080; text-decoration-color: #000080; font-weight: bold\">(v_theta25)────</span><span style=\"color: #800080; text-decoration-color: #800080; font-weight: bold\">RZ</span><span style=\"color: #000080; text-decoration-color: #000080; font-weight: bold\">(v_theta28)────X────●────┼────</span><span style=\"color: #800080; text-decoration-color: #800080; font-weight: bold\">RY</span><span style=\"color: #000080; text-decoration-color: #000080; font-weight: bold\">(v_theta31)────</span><span style=\"color: #800080; text-decoration-color: #800080; font-weight: bold\">RZ</span><span style=\"color: #000080; text-decoration-color: #000080; font-weight: bold\">(v_theta34)────X────●────┼────</span><span style=\"color: #800080; text-decoration-color: #800080; font-weight: bold\">RY</span><span style=\"color: #000080; text-decoration-color: #000080; font-weight: bold\">(v_theta37)────</span><span style=\"color: #800080; text-decoration-color: #800080; font-weight: bold\">RZ</span><span style=\"color: #000080; text-decoration-color: #000080; font-weight: bold\">(v_theta40)────X────●────┼────</span><span style=\"color: #800080; text-decoration-color: #800080; font-weight: bold\">RY</span><span style=\"color: #000080; text-decoration-color: #000080; font-weight: bold\">(v_theta43)────</span><span style=\"color: #800080; text-decoration-color: #800080; font-weight: bold\">RZ</span><span style=\"color: #000080; text-decoration-color: #000080; font-weight: bold\">(v_theta46)────X────●────┼────</span><span style=\"color: #800080; text-decoration-color: #800080; font-weight: bold\">RY</span><span style=\"color: #000080; text-decoration-color: #000080; font-weight: bold\">(v_theta49)────</span><span style=\"color: #800080; text-decoration-color: #800080; font-weight: bold\">RZ</span><span style=\"color: #000080; text-decoration-color: #000080; font-weight: bold\">(v_theta52)────X────●────┼────</span><span style=\"color: #800080; text-decoration-color: #800080; font-weight: bold\">RY</span><span style=\"color: #000080; text-decoration-color: #000080; font-weight: bold\">(v_theta55)────</span><span style=\"color: #800080; text-decoration-color: #800080; font-weight: bold\">RZ</span><span style=\"color: #000080; text-decoration-color: #000080; font-weight: bold\">(v_theta58)────X────●────┼────</span><span style=\"color: #800080; text-decoration-color: #800080; font-weight: bold\">RY</span><span style=\"color: #000080; text-decoration-color: #000080; font-weight: bold\">(v_theta61)────</span><span style=\"color: #800080; text-decoration-color: #800080; font-weight: bold\">RZ</span><span style=\"color: #000080; text-decoration-color: #000080; font-weight: bold\">(v_theta64)────X────●────┼────</span><span style=\"color: #800080; text-decoration-color: #800080; font-weight: bold\">RY</span><span style=\"color: #000080; text-decoration-color: #000080; font-weight: bold\">(v_theta67)────</span><span style=\"color: #800080; text-decoration-color: #800080; font-weight: bold\">RZ</span><span style=\"color: #000080; text-decoration-color: #000080; font-weight: bold\">(v_theta70)────X────●────┼────</span><span style=\"color: #800080; text-decoration-color: #800080; font-weight: bold\">RY</span><span style=\"color: #000080; text-decoration-color: #000080; font-weight: bold\">(v_theta73)────</span><span style=\"color: #800080; text-decoration-color: #800080; font-weight: bold\">RZ</span><span style=\"color: #000080; text-decoration-color: #000080; font-weight: bold\">(v_theta76)────X────●────┼────</span><span style=\"color: #800080; text-decoration-color: #800080; font-weight: bold\">RY</span><span style=\"color: #000080; text-decoration-color: #000080; font-weight: bold\">(v_theta79)────</span><span style=\"color: #800080; text-decoration-color: #800080; font-weight: bold\">RZ</span><span style=\"color: #000080; text-decoration-color: #000080; font-weight: bold\">(v_theta82)────X────●────┼────</span><span style=\"color: #800080; text-decoration-color: #800080; font-weight: bold\">RY</span><span style=\"color: #000080; text-decoration-color: #000080; font-weight: bold\">(v_theta85)────</span><span style=\"color: #800080; text-decoration-color: #800080; font-weight: bold\">RZ</span><span style=\"color: #000080; text-decoration-color: #000080; font-weight: bold\">(v_theta88)────X────●────┼────</span><span style=\"color: #800080; text-decoration-color: #800080; font-weight: bold\">RY</span><span style=\"color: #000080; text-decoration-color: #000080; font-weight: bold\">(v_theta91)────</span><span style=\"color: #800080; text-decoration-color: #800080; font-weight: bold\">RZ</span><span style=\"color: #000080; text-decoration-color: #000080; font-weight: bold\">(v_theta94)────X────●────┼────</span><span style=\"color: #800080; text-decoration-color: #800080; font-weight: bold\">RY</span><span style=\"color: #000080; text-decoration-color: #000080; font-weight: bold\">(v_theta97)────</span><span style=\"color: #800080; text-decoration-color: #800080; font-weight: bold\">RZ</span><span style=\"color: #000080; text-decoration-color: #000080; font-weight: bold\">(v_theta100)────X────●────┼────</span><span style=\"color: #800080; text-decoration-color: #800080; font-weight: bold\">RY</span><span style=\"color: #000080; text-decoration-color: #000080; font-weight: bold\">(v_theta103)────</span><span style=\"color: #800080; text-decoration-color: #800080; font-weight: bold\">RZ</span><span style=\"color: #000080; text-decoration-color: #000080; font-weight: bold\">(v_theta106)────X────●────┼────</span><span style=\"color: #800080; text-decoration-color: #800080; font-weight: bold\">RY</span><span style=\"color: #000080; text-decoration-color: #000080; font-weight: bold\">(v_theta109)────</span><span style=\"color: #800080; text-decoration-color: #800080; font-weight: bold\">RZ</span><span style=\"color: #000080; text-decoration-color: #000080; font-weight: bold\">(v_theta112)────X────●────┼────</span><span style=\"color: #800080; text-decoration-color: #800080; font-weight: bold\">RY</span><span style=\"color: #000080; text-decoration-color: #000080; font-weight: bold\">(v_theta115)────</span><span style=\"color: #800080; text-decoration-color: #800080; font-weight: bold\">RZ</span><span style=\"color: #000080; text-decoration-color: #000080; font-weight: bold\">(v_theta118)────X────●────┼──</span>\n",
       "<span style=\"color: #000080; text-decoration-color: #000080; font-weight: bold\">                                           │    │                                          │    │                                           │    │                                           │    │                                           │    │                                           │    │                                           │    │                                           │    │                                           │    │                                           │    │                                           │    │                                           │    │                                           │    │                                           │    │                                           │    │                                           │    │                                            │    │                                             │    │                                             │    │                                             │    │</span>\n",
       "<span style=\"color: #000080; text-decoration-color: #000080; font-weight: bold\">q2: ──</span><span style=\"color: #800080; text-decoration-color: #800080; font-weight: bold\">RY</span><span style=\"color: #000080; text-decoration-color: #000080; font-weight: bold\">(v_theta2)────</span><span style=\"color: #800080; text-decoration-color: #800080; font-weight: bold\">RZ</span><span style=\"color: #000080; text-decoration-color: #000080; font-weight: bold\">(v_theta5)─────────X────●────</span><span style=\"color: #800080; text-decoration-color: #800080; font-weight: bold\">RY</span><span style=\"color: #000080; text-decoration-color: #000080; font-weight: bold\">(v_theta8)────</span><span style=\"color: #800080; text-decoration-color: #800080; font-weight: bold\">RZ</span><span style=\"color: #000080; text-decoration-color: #000080; font-weight: bold\">(v_theta11)─────────X────●────</span><span style=\"color: #800080; text-decoration-color: #800080; font-weight: bold\">RY</span><span style=\"color: #000080; text-decoration-color: #000080; font-weight: bold\">(v_theta14)────</span><span style=\"color: #800080; text-decoration-color: #800080; font-weight: bold\">RZ</span><span style=\"color: #000080; text-decoration-color: #000080; font-weight: bold\">(v_theta17)─────────X────●────</span><span style=\"color: #800080; text-decoration-color: #800080; font-weight: bold\">RY</span><span style=\"color: #000080; text-decoration-color: #000080; font-weight: bold\">(v_theta20)────</span><span style=\"color: #800080; text-decoration-color: #800080; font-weight: bold\">RZ</span><span style=\"color: #000080; text-decoration-color: #000080; font-weight: bold\">(v_theta23)─────────X────●────</span><span style=\"color: #800080; text-decoration-color: #800080; font-weight: bold\">RY</span><span style=\"color: #000080; text-decoration-color: #000080; font-weight: bold\">(v_theta26)────</span><span style=\"color: #800080; text-decoration-color: #800080; font-weight: bold\">RZ</span><span style=\"color: #000080; text-decoration-color: #000080; font-weight: bold\">(v_theta29)─────────X────●────</span><span style=\"color: #800080; text-decoration-color: #800080; font-weight: bold\">RY</span><span style=\"color: #000080; text-decoration-color: #000080; font-weight: bold\">(v_theta32)────</span><span style=\"color: #800080; text-decoration-color: #800080; font-weight: bold\">RZ</span><span style=\"color: #000080; text-decoration-color: #000080; font-weight: bold\">(v_theta35)─────────X────●────</span><span style=\"color: #800080; text-decoration-color: #800080; font-weight: bold\">RY</span><span style=\"color: #000080; text-decoration-color: #000080; font-weight: bold\">(v_theta38)────</span><span style=\"color: #800080; text-decoration-color: #800080; font-weight: bold\">RZ</span><span style=\"color: #000080; text-decoration-color: #000080; font-weight: bold\">(v_theta41)─────────X────●────</span><span style=\"color: #800080; text-decoration-color: #800080; font-weight: bold\">RY</span><span style=\"color: #000080; text-decoration-color: #000080; font-weight: bold\">(v_theta44)────</span><span style=\"color: #800080; text-decoration-color: #800080; font-weight: bold\">RZ</span><span style=\"color: #000080; text-decoration-color: #000080; font-weight: bold\">(v_theta47)─────────X────●────</span><span style=\"color: #800080; text-decoration-color: #800080; font-weight: bold\">RY</span><span style=\"color: #000080; text-decoration-color: #000080; font-weight: bold\">(v_theta50)────</span><span style=\"color: #800080; text-decoration-color: #800080; font-weight: bold\">RZ</span><span style=\"color: #000080; text-decoration-color: #000080; font-weight: bold\">(v_theta53)─────────X────●────</span><span style=\"color: #800080; text-decoration-color: #800080; font-weight: bold\">RY</span><span style=\"color: #000080; text-decoration-color: #000080; font-weight: bold\">(v_theta56)────</span><span style=\"color: #800080; text-decoration-color: #800080; font-weight: bold\">RZ</span><span style=\"color: #000080; text-decoration-color: #000080; font-weight: bold\">(v_theta59)─────────X────●────</span><span style=\"color: #800080; text-decoration-color: #800080; font-weight: bold\">RY</span><span style=\"color: #000080; text-decoration-color: #000080; font-weight: bold\">(v_theta62)────</span><span style=\"color: #800080; text-decoration-color: #800080; font-weight: bold\">RZ</span><span style=\"color: #000080; text-decoration-color: #000080; font-weight: bold\">(v_theta65)─────────X────●────</span><span style=\"color: #800080; text-decoration-color: #800080; font-weight: bold\">RY</span><span style=\"color: #000080; text-decoration-color: #000080; font-weight: bold\">(v_theta68)────</span><span style=\"color: #800080; text-decoration-color: #800080; font-weight: bold\">RZ</span><span style=\"color: #000080; text-decoration-color: #000080; font-weight: bold\">(v_theta71)─────────X────●────</span><span style=\"color: #800080; text-decoration-color: #800080; font-weight: bold\">RY</span><span style=\"color: #000080; text-decoration-color: #000080; font-weight: bold\">(v_theta74)────</span><span style=\"color: #800080; text-decoration-color: #800080; font-weight: bold\">RZ</span><span style=\"color: #000080; text-decoration-color: #000080; font-weight: bold\">(v_theta77)─────────X────●────</span><span style=\"color: #800080; text-decoration-color: #800080; font-weight: bold\">RY</span><span style=\"color: #000080; text-decoration-color: #000080; font-weight: bold\">(v_theta80)────</span><span style=\"color: #800080; text-decoration-color: #800080; font-weight: bold\">RZ</span><span style=\"color: #000080; text-decoration-color: #000080; font-weight: bold\">(v_theta83)─────────X────●────</span><span style=\"color: #800080; text-decoration-color: #800080; font-weight: bold\">RY</span><span style=\"color: #000080; text-decoration-color: #000080; font-weight: bold\">(v_theta86)────</span><span style=\"color: #800080; text-decoration-color: #800080; font-weight: bold\">RZ</span><span style=\"color: #000080; text-decoration-color: #000080; font-weight: bold\">(v_theta89)─────────X────●────</span><span style=\"color: #800080; text-decoration-color: #800080; font-weight: bold\">RY</span><span style=\"color: #000080; text-decoration-color: #000080; font-weight: bold\">(v_theta92)────</span><span style=\"color: #800080; text-decoration-color: #800080; font-weight: bold\">RZ</span><span style=\"color: #000080; text-decoration-color: #000080; font-weight: bold\">(v_theta95)─────────X────●────</span><span style=\"color: #800080; text-decoration-color: #800080; font-weight: bold\">RY</span><span style=\"color: #000080; text-decoration-color: #000080; font-weight: bold\">(v_theta98)────</span><span style=\"color: #800080; text-decoration-color: #800080; font-weight: bold\">RZ</span><span style=\"color: #000080; text-decoration-color: #000080; font-weight: bold\">(v_theta101)─────────X────●────</span><span style=\"color: #800080; text-decoration-color: #800080; font-weight: bold\">RY</span><span style=\"color: #000080; text-decoration-color: #000080; font-weight: bold\">(v_theta104)────</span><span style=\"color: #800080; text-decoration-color: #800080; font-weight: bold\">RZ</span><span style=\"color: #000080; text-decoration-color: #000080; font-weight: bold\">(v_theta107)─────────X────●────</span><span style=\"color: #800080; text-decoration-color: #800080; font-weight: bold\">RY</span><span style=\"color: #000080; text-decoration-color: #000080; font-weight: bold\">(v_theta110)────</span><span style=\"color: #800080; text-decoration-color: #800080; font-weight: bold\">RZ</span><span style=\"color: #000080; text-decoration-color: #000080; font-weight: bold\">(v_theta113)─────────X────●────</span><span style=\"color: #800080; text-decoration-color: #800080; font-weight: bold\">RY</span><span style=\"color: #000080; text-decoration-color: #000080; font-weight: bold\">(v_theta116)────</span><span style=\"color: #800080; text-decoration-color: #800080; font-weight: bold\">RZ</span><span style=\"color: #000080; text-decoration-color: #000080; font-weight: bold\">(v_theta119)─────────X────●──</span>\n",
       "</pre>\n"
      ],
      "text/plain": [
       "q0: ──RY(v_theta0)────RZ(v_theta3)────●─────────X────RY(v_theta6)─────RZ(v_theta9)────●─────────X────RY(v_theta12)────RZ(v_theta15)────●─────────X────RY(v_theta18)────RZ(v_theta21)────●─────────X────RY(v_theta24)────RZ(v_theta27)────●─────────X────RY(v_theta30)────RZ(v_theta33)────●─────────X────RY(v_theta36)────RZ(v_theta39)────●─────────X────RY(v_theta42)────RZ(v_theta45)────●─────────X────RY(v_theta48)────RZ(v_theta51)────●─────────X────RY(v_theta54)────RZ(v_theta57)────●─────────X────RY(v_theta60)────RZ(v_theta63)────●─────────X────RY(v_theta66)────RZ(v_theta69)────●─────────X────RY(v_theta72)────RZ(v_theta75)────●─────────X────RY(v_theta78)────RZ(v_theta81)────●─────────X────RY(v_theta84)────RZ(v_theta87)────●─────────X────RY(v_theta90)────RZ(v_theta93)────●─────────X────RY(v_theta96)────RZ(v_theta99)─────●─────────X────RY(v_theta102)────RZ(v_theta105)────●─────────X────RY(v_theta108)────RZ(v_theta111)────●─────────X────RY(v_theta114)────RZ(v_theta117)────●─────────X──\n",
       "                                      │         │                                     │         │                                      │         │                                      │         │                                      │         │                                      │         │                                      │         │                                      │         │                                      │         │                                      │         │                                      │         │                                      │         │                                      │         │                                      │         │                                      │         │                                      │         │                                       │         │                                        │         │                                        │         │                                        │         │\n",
       "q1: ──RY(v_theta1)────RZ(v_theta4)────X────●────┼────RY(v_theta7)────RZ(v_theta10)────X────●────┼────RY(v_theta13)────RZ(v_theta16)────X────●────┼────RY(v_theta19)────RZ(v_theta22)────X────●────┼────RY(v_theta25)────RZ(v_theta28)────X────●────┼────RY(v_theta31)────RZ(v_theta34)────X────●────┼────RY(v_theta37)────RZ(v_theta40)────X────●────┼────RY(v_theta43)────RZ(v_theta46)────X────●────┼────RY(v_theta49)────RZ(v_theta52)────X────●────┼────RY(v_theta55)────RZ(v_theta58)────X────●────┼────RY(v_theta61)────RZ(v_theta64)────X────●────┼────RY(v_theta67)────RZ(v_theta70)────X────●────┼────RY(v_theta73)────RZ(v_theta76)────X────●────┼────RY(v_theta79)────RZ(v_theta82)────X────●────┼────RY(v_theta85)────RZ(v_theta88)────X────●────┼────RY(v_theta91)────RZ(v_theta94)────X────●────┼────RY(v_theta97)────RZ(v_theta100)────X────●────┼────RY(v_theta103)────RZ(v_theta106)────X────●────┼────RY(v_theta109)────RZ(v_theta112)────X────●────┼────RY(v_theta115)────RZ(v_theta118)────X────●────┼──\n",
       "                                           │    │                                          │    │                                           │    │                                           │    │                                           │    │                                           │    │                                           │    │                                           │    │                                           │    │                                           │    │                                           │    │                                           │    │                                           │    │                                           │    │                                           │    │                                           │    │                                            │    │                                             │    │                                             │    │                                             │    │\n",
       "q2: ──RY(v_theta2)────RZ(v_theta5)─────────X────●────RY(v_theta8)────RZ(v_theta11)─────────X────●────RY(v_theta14)────RZ(v_theta17)─────────X────●────RY(v_theta20)────RZ(v_theta23)─────────X────●────RY(v_theta26)────RZ(v_theta29)─────────X────●────RY(v_theta32)────RZ(v_theta35)─────────X────●────RY(v_theta38)────RZ(v_theta41)─────────X────●────RY(v_theta44)────RZ(v_theta47)─────────X────●────RY(v_theta50)────RZ(v_theta53)─────────X────●────RY(v_theta56)────RZ(v_theta59)─────────X────●────RY(v_theta62)────RZ(v_theta65)─────────X────●────RY(v_theta68)────RZ(v_theta71)─────────X────●────RY(v_theta74)────RZ(v_theta77)─────────X────●────RY(v_theta80)────RZ(v_theta83)─────────X────●────RY(v_theta86)────RZ(v_theta89)─────────X────●────RY(v_theta92)────RZ(v_theta95)─────────X────●────RY(v_theta98)────RZ(v_theta101)─────────X────●────RY(v_theta104)────RZ(v_theta107)─────────X────●────RY(v_theta110)────RZ(v_theta113)─────────X────●────RY(v_theta116)────RZ(v_theta119)─────────X────●──"
      ]
     },
     "execution_count": 9,
     "metadata": {},
     "output_type": "execute_result"
    }
   ],
   "source": [
    "# Define ansatz\n",
    "\n",
    "u_ansatz = add_prefix(Ansatz(n_qubits, cir_depth).circ, 'u')\n",
    "v_ansatz = add_prefix(Ansatz(n_qubits, cir_depth).circ, 'v')\n",
    "v_ansatz"
   ]
  },
  {
   "cell_type": "markdown",
   "metadata": {},
   "source": [
    "实例化量子网络层，将待分解的8*8矩阵M稀疏化后生成相应的哈密顿量H，使用计算基$\\{ |000\\rangle, |001\\rangle,\\cdots |111\\rangle\\}$利用量子神经网络计算奇异值 $m_j = \\text{Re}\\langle\\psi_j|U(\\theta)^{\\dagger} M V(\\phi)|\\psi_j\\rangle$ 。"
   ]
  },
  {
   "cell_type": "code",
   "execution_count": 8,
   "metadata": {},
   "outputs": [],
   "source": [
    "# Embed M matrix into Hamiltonian ham\n",
    "\n",
    "ham = Hamiltonian(csr_matrix(M))\n",
    "\n",
    "i_matrix = np.identity(N)\n",
    "quantum_models = dict()\n",
    "quantum_models['net_0'] = quantnet(n_qubits, ham, v_ansatz, u_ansatz,\n",
    "                                   i_matrix[0])\n",
    "for s in range(1, rank):\n",
    "    quantum_models[\"net_\" + str(s)] = quantnet(n_qubits, ham, v_ansatz,\n",
    "                                               u_ansatz, i_matrix[s])\n",
    "    quantum_models[\"net_\" + str(s)].weight = quantum_models['net_0'].weight\n"
   ]
  },
  {
   "cell_type": "markdown",
   "metadata": {},
   "source": [
    "结合**MindSpore**提供的经典学习框架构建出量子经典混合网络，实现对量子网络层加权求和，计算出 $L(\\theta,\\phi) = \\sum_{j=1}^T q_j\\times \\text{Re} \\langle\\psi_j|U(\\theta)^{\\dagger} M V(\\phi)|\\psi_j\\rangle$ 。"
   ]
  },
  {
   "cell_type": "code",
   "execution_count": 9,
   "metadata": {},
   "outputs": [],
   "source": [
    "class MyNet(ms.nn.Cell):\n",
    "    '''\n",
    "    define quantum-classic net\n",
    "    '''\n",
    "\n",
    "    def __init__(self):\n",
    "        super(MyNet, self).__init__()\n",
    "\n",
    "        self.build_block = ms.nn.CellList()\n",
    "        for j in range(rank):\n",
    "            self.build_block.append(quantum_models[\"net_\" + str(j)])\n",
    "\n",
    "    def construct(self):\n",
    "        x = self.build_block[0]() * weight[0]\n",
    "        k = 1\n",
    "\n",
    "        for layer in self.build_block[1:]:\n",
    "            x += layer() * weight[k]\n",
    "            k += 1\n",
    "\n",
    "        return -x"
   ]
  },
  {
   "cell_type": "markdown",
   "metadata": {},
   "source": [
    "实例化量子经典混合网络并调用**MindSpore**的API开始训练："
   ]
  },
  {
   "cell_type": "code",
   "execution_count": 10,
   "metadata": {},
   "outputs": [
    {
     "name": "stderr",
     "output_type": "stream",
     "text": [
      "100%|██████████| 200/200 [03:57<00:00,  1.19s/it]\n"
     ]
    }
   ],
   "source": [
    "# Define network\n",
    "net = MyNet()\n",
    "\n",
    "# Define optimizer\n",
    "opt = ms.nn.Adam(net.trainable_params(), learning_rate=LR)\n",
    "\n",
    "# Simple gradient descent\n",
    "train_net = ms.nn.TrainOneStepCell(net, opt)\n",
    "\n",
    "# Start to train net\n",
    "loss_list = list()\n",
    "for itr in tqdm.tqdm(range(ITR)):\n",
    "    res = train_net()\n",
    "    loss_list.append(res.asnumpy().tolist())"
   ]
  },
  {
   "cell_type": "markdown",
   "metadata": {},
   "source": [
    "读取训练出的结果，即奇异值："
   ]
  },
  {
   "cell_type": "code",
   "execution_count": 11,
   "metadata": {},
   "outputs": [],
   "source": [
    "singular_value = list()\n",
    "\n",
    "for _, qnet in quantum_models.items():\n",
    "    singular_value.append(qnet().asnumpy()[0])"
   ]
  },
  {
   "cell_type": "markdown",
   "metadata": {},
   "source": [
    "观察学习曲线以判断是否收敛："
   ]
  },
  {
   "cell_type": "code",
   "execution_count": 12,
   "metadata": {},
   "outputs": [
    {
     "data": {
      "image/png": "[encoded data removed]",
      "text/plain": [
       "<Figure size 432x288 with 1 Axes>"
      ]
     },
     "metadata": {
      "needs_background": "light"
     },
     "output_type": "display_data"
    }
   ],
   "source": [
    "loss_plot(loss_list)"
   ]
  },
  {
   "cell_type": "markdown",
   "metadata": {},
   "source": [
    "通过学习曲线我们可以发现损失函数已收敛。\n",
    "\n",
    "接下来打印出学习到的奇异值结果，并与经典比较："
   ]
  },
  {
   "cell_type": "code",
   "execution_count": 13,
   "metadata": {},
   "outputs": [
    {
     "name": "stdout",
     "output_type": "stream",
     "text": [
      "Predicted singular values from large to small: [54.83174, 19.169168, 14.88653, 11.093878, 10.533753, 7.648352, 5.5560594, -0.3320913]\n",
      "True singular values from large to small: [54.83484985 19.18141073 14.98866247 11.61419557 10.15927045  7.60223249\n",
      "  5.81040539  3.30116001]\n"
     ]
    }
   ],
   "source": [
    "print('Predicted singular values from large to small:', singular_value)\n",
    "print(\"True singular values from large to small:\", D)"
   ]
  },
  {
   "cell_type": "markdown",
   "metadata": {},
   "source": [
    "直观上我们可以看到使用量子经典混合网络学习出的奇异值与真实奇异值相差不大。\n",
    "\n",
    "接下来我们数值分析使用VQSVD进行矩阵压缩的误差。\n",
    "\n",
    "我们使用前 $T$ 个奇异值和前 $T$ 个左右奇异向量组合出新的矩阵 $M_{re}^{(T)}$ 来近似表示矩阵 $M$ :\n",
    "\n",
    "$$\n",
    "M_{re}^{(T)} = U^{(T)}D^{(T)}({V^{(T)}})^{ \\dagger}\n",
    "$$\n",
    "\n",
    "这样近似的误差为: $error = ||M - M_{re}^{(T)}||$ 。\n",
    "\n",
    "设矩阵 $M$ 的秩为 $r$ ，即奇异值个数为 $r$ ，则误差随着使用奇异值的数量变多会越来越小。经典的奇异值算法可以保证 $\\lim_{T\\rightarrow r} ||M - M_{re}^{(T)}||^2_F = 0$ 。"
   ]
  },
  {
   "cell_type": "markdown",
   "metadata": {},
   "source": [
    "\n",
    "其中矩阵间的距离我们使用 Frobenius-norm 来度量: \n",
    "\n",
    "$${||M|{|_F}} = $$\n",
    "\n",
    "$$\\sqrt{\\sum_{i,j} \\left|M_{ij}\\right|^2}$$"
   ]
  },
  {
   "cell_type": "markdown",
   "metadata": {},
   "source": [
    "为了测量误差，我们首先取出网络中的参数值并赋给U_ansatz和V_ansatz，以获得学习出的奇异矩阵："
   ]
  },
  {
   "cell_type": "code",
   "execution_count": 14,
   "metadata": {},
   "outputs": [],
   "source": [
    "# Get parameters value\n",
    "value = quantum_models['net_0'].weight.asnumpy()\n",
    "v_value = value[:120]\n",
    "u_value = value[120:]\n",
    "\n",
    "# Calculate U and V\n",
    "u_learned = u_ansatz.matrix(u_value)\n",
    "v_learned = v_ansatz.matrix(v_value)\n",
    "\n",
    "v_dagger_learned = np.conj(v_learned.T)\n",
    "d_learned = np.array(singular_value)"
   ]
  },
  {
   "cell_type": "markdown",
   "metadata": {},
   "source": [
    "我们将学习到的奇异值分解结果组装回去，与原矩阵计算 Frobenius-norm 误差以观察效果，并与经典奇异值分解的误差作比较："
   ]
  },
  {
   "cell_type": "code",
   "execution_count": 15,
   "metadata": {},
   "outputs": [
    {
     "data": {
      "image/png": "[encoded data removed]",
      "text/plain": [
       "<Figure size 432x288 with 1 Axes>"
      ]
     },
     "metadata": {
      "needs_background": "light"
     },
     "output_type": "display_data"
    }
   ],
   "source": [
    "err_subfull, err_local, err_svd = [], [], []\n",
    "U, D, v_dagger = np.linalg.svd(M, full_matrices=True)\n",
    "\n",
    "# Calculate Frobenius-norm error\n",
    "for t in range(rank):\n",
    "    lowrank_mat = np.matrix(U[:, :t]) * np.diag(D[:t]) * np.matrix(\n",
    "        v_dagger[:t, :])\n",
    "    recons_mat = np.matrix(u_learned[:, :t]) * np.diag(\n",
    "        d_learned[:t]) * np.matrix(v_dagger_learned[:t, :])\n",
    "    err_local.append(norm(lowrank_mat - recons_mat))\n",
    "    err_subfull.append(norm(m_copy - recons_mat))\n",
    "    err_svd.append(norm(m_copy - lowrank_mat))\n",
    "\n",
    "# Plot SVD error and VQSVD error\n",
    "fig, ax = pyplot.subplots()\n",
    "ax.plot(list(range(1, rank + 1)),\n",
    "        err_subfull,\n",
    "        \"o-.\",\n",
    "        label='Reconstruction via VQSVD')\n",
    "ax.plot(list(range(1, rank + 1)),\n",
    "        err_svd,\n",
    "        \"^--\",\n",
    "        label='Reconstruction via SVD')\n",
    "# ax.plot(list(range(1, rank + 1)), err_local, \"*--\", label='SVD V/S QSVD')\n",
    "pyplot.xlabel('Singular Value Used (Rank)', fontsize=14)\n",
    "pyplot.ylabel('Norm Distance', fontsize=14)\n",
    "leg = pyplot.legend(frameon=True)\n",
    "leg.get_frame().set_edgecolor('k')"
   ]
  },
  {
   "cell_type": "markdown",
   "metadata": {},
   "source": [
    "可以看到，使用量子神经网络分解出的奇异值结果误差与经典奇异值分解的误差十分接近。"
   ]
  },
  {
   "cell_type": "markdown",
   "metadata": {},
   "source": [
    "---\n",
    "## 案例2：图像压缩\n",
    "\n",
    "我们先引入图像处理的包，并导入提前准备好的图片。"
   ]
  },
  {
   "cell_type": "code",
   "execution_count": 16,
   "metadata": {},
   "outputs": [],
   "source": [
    "from PIL import Image\n",
    "\n",
    "# Open figure MNIST_32.jpg and get matrix form\n",
    "img = Image.open(r'.\\\\figure\\\\MNIST_32.png')\n",
    "imgmat = np.array(list(img.getdata(band=0)), float)\n",
    "imgmat.shape = (img.size[1], img.size[0])\n",
    "imgmat = np.matrix(imgmat) / 255"
   ]
  },
  {
   "cell_type": "markdown",
   "metadata": {},
   "source": [
    "### 使用经典SVD压缩图像的效果\n",
    "\n",
    "我们分别取前5、10、15个奇异值作图像压缩，观察结果。"
   ]
  },
  {
   "cell_type": "code",
   "execution_count": 17,
   "metadata": {},
   "outputs": [
    {
     "data": {
      "image/png": "[encoded data removed]",
      "text/plain": [
       "<Figure size 432x288 with 1 Axes>"
      ]
     },
     "metadata": {
      "needs_background": "light"
     },
     "output_type": "display_data"
    },
    {
     "data": {
      "image/png": "[encoded data removed]",
      "text/plain": [
       "<Figure size 432x288 with 1 Axes>"
      ]
     },
     "metadata": {
      "needs_background": "light"
     },
     "output_type": "display_data"
    },
    {
     "data": {
      "image/png": "[encoded data removed]",
      "text/plain": [
       "<Figure size 432x288 with 1 Axes>"
      ]
     },
     "metadata": {
      "needs_background": "light"
     },
     "output_type": "display_data"
    }
   ],
   "source": [
    "# Get SVD results and show it\n",
    "U, sigma, V = np.linalg.svd(imgmat)\n",
    "\n",
    "for t in range(5, 16, 5):\n",
    "    reconstimg = np.matrix(U[:, :t]) * np.diag(sigma[:t]) * np.matrix(V[:t, :])\n",
    "    pyplot.imshow(reconstimg, cmap='gray')\n",
    "    title = \"n = %s\" % t\n",
    "    pyplot.title(title)\n",
    "    pyplot.show()"
   ]
  },
  {
   "cell_type": "markdown",
   "metadata": {},
   "source": [
    "### 量子版本的分解效果：\n",
    "\n",
    "此处我们展示取前8个奇异值作图像压缩的过程及最终结果。"
   ]
  },
  {
   "cell_type": "code",
   "execution_count": 18,
   "metadata": {},
   "outputs": [],
   "source": [
    "# Set super parameters\n",
    "n_qubits = 5  # qbits number\n",
    "cir_depth = 40  # circuit depth\n",
    "N = 2**n_qubits\n",
    "rank = 8  # learning rank\n",
    "step = 2\n",
    "ITR = 200  # iterations\n",
    "LR = 0.02  # learning rate\n",
    "SEED = 14  # random seed\n",
    "\n",
    "# Set equal learning weights\n",
    "if step == 0:\n",
    "    weight = ms.Tensor(np.ones(rank))\n",
    "else:\n",
    "    weight = ms.Tensor(np.arange(rank * step, 0, -step))\n",
    "\n",
    "\n",
    "def mat_generator(image):\n",
    "    '''\n",
    "    Generate matrix by input image\n",
    "    '''\n",
    "    img_matrix = np.array(list(image.getdata(band=0)), float)\n",
    "    img_matrix.shape = (image.size[1], image.size[0])\n",
    "    img_np = np.matrix(img_matrix)\n",
    "    return img_np\n",
    "\n",
    "\n",
    "# Generate matrix M which will be decomposed\n",
    "M = mat_generator(img)\n",
    "\n",
    "# Get SVD results\n",
    "U, D, v_dagger = np.linalg.svd(M, full_matrices=True)"
   ]
  },
  {
   "cell_type": "markdown",
   "metadata": {},
   "source": [
    "定义论文中使用的ansatz类："
   ]
  },
  {
   "cell_type": "code",
   "execution_count": 19,
   "metadata": {},
   "outputs": [],
   "source": [
    "class Ansatz:\n",
    "    '''\n",
    "    Define ansatz\n",
    "    '''\n",
    "\n",
    "    def __init__(self, n, depth):\n",
    "        self.circ = Circuit()\n",
    "        num = 0\n",
    "        for _ in range(depth):\n",
    "\n",
    "            for i in range(n):\n",
    "                self.circ += RY('theta' + str(num)).on(i)\n",
    "                num += 1\n",
    "\n",
    "            for i in range(n - 1):\n",
    "                self.circ += X.on(i + 1, i)"
   ]
  },
  {
   "cell_type": "code",
   "execution_count": 20,
   "metadata": {},
   "outputs": [],
   "source": [
    "def quantnet(qubits_num, hams, circ_right, circ_left=None, base=None):\n",
    "    '''\n",
    "    Generate quantum net using hams, circ_right and circ_left under given base\n",
    "    '''\n",
    "    sim = Simulator('projectq', qubits_num)\n",
    "\n",
    "    if base is None:\n",
    "        pass\n",
    "    else:\n",
    "        sim.set_qs(base)\n",
    "    grad_ops = sim.get_expectation_with_grad(hams, circ_right, circ_left)\n",
    "\n",
    "    ms.context.set_context(mode=ms.context.PYNATIVE_MODE, device_target=\"CPU\")\n",
    "\n",
    "    quantumnet = MQAnsatzOnlyLayer(grad_ops, 'ones')\n",
    "\n",
    "    return quantumnet"
   ]
  },
  {
   "cell_type": "code",
   "execution_count": 21,
   "metadata": {},
   "outputs": [],
   "source": [
    "# Define ansatz\n",
    "u_ansatz = add_prefix(Ansatz(n_qubits, cir_depth).circ, 'u')\n",
    "v_ansatz = add_prefix(Ansatz(n_qubits, cir_depth).circ, 'v')"
   ]
  },
  {
   "cell_type": "code",
   "execution_count": 22,
   "metadata": {},
   "outputs": [],
   "source": [
    "# Embed M matrix into Hamiltonian ham\n",
    "ham = Hamiltonian(csr_matrix(M))\n",
    "\n",
    "i_matrix = np.identity(N)\n",
    "quantum_models = dict()\n",
    "quantum_models['net_0'] = quantnet(n_qubits, ham, v_ansatz, u_ansatz,\n",
    "                                   i_matrix[0])\n",
    "for s in range(1, rank):\n",
    "    quantum_models[\"net_\" + str(s)] = quantnet(n_qubits, ham, v_ansatz,\n",
    "                                               u_ansatz, i_matrix[s])\n",
    "    quantum_models[\"net_\" + str(s)].weight = quantum_models['net_0'].weight"
   ]
  },
  {
   "cell_type": "code",
   "execution_count": 23,
   "metadata": {},
   "outputs": [],
   "source": [
    "class MyNet(ms.nn.Cell):\n",
    "    '''\n",
    "    define quantum-classic net\n",
    "    '''\n",
    "\n",
    "    def __init__(self):\n",
    "        super(MyNet, self).__init__()\n",
    "\n",
    "        self.build_block = ms.nn.CellList()\n",
    "        for j in range(rank):\n",
    "            self.build_block.append(quantum_models[\"net_\" + str(j)])\n",
    "\n",
    "    def construct(self):\n",
    "        x = self.build_block[0]() * weight[0]\n",
    "        k = 1\n",
    "\n",
    "        for layer in self.build_block[1:]:\n",
    "            x += layer() * weight[k]\n",
    "            k += 1\n",
    "\n",
    "        return -x"
   ]
  },
  {
   "cell_type": "code",
   "execution_count": 24,
   "metadata": {},
   "outputs": [
    {
     "name": "stderr",
     "output_type": "stream",
     "text": [
      "100%|██████████| 200/200 [08:06<00:00,  2.43s/it]\n"
     ]
    }
   ],
   "source": [
    "# Define network\n",
    "net = MyNet()\n",
    "\n",
    "# Define optimizer\n",
    "opt = ms.nn.Adam(net.trainable_params(), learning_rate=LR)\n",
    "\n",
    "# Simple gradient descent\n",
    "train_net = ms.nn.TrainOneStepCell(net, opt)\n",
    "\n",
    "# Start to train net\n",
    "loss_list = list()\n",
    "for itr in tqdm.tqdm(range(ITR)):\n",
    "    res = train_net()\n",
    "    loss_list.append(res.asnumpy().tolist())"
   ]
  },
  {
   "cell_type": "code",
   "execution_count": 25,
   "metadata": {},
   "outputs": [],
   "source": [
    "# Get singular value results\n",
    "singular_value = list()\n",
    "\n",
    "for _, qnet in quantum_models.items():\n",
    "    singular_value.append(qnet().asnumpy()[0])"
   ]
  },
  {
   "cell_type": "code",
   "execution_count": 27,
   "metadata": {},
   "outputs": [],
   "source": [
    "# Get parameters value\n",
    "value = quantum_models['net_0'].weight.asnumpy()\n",
    "v_value = value[:200]\n",
    "u_value = value[200:]\n",
    "\n",
    "# Calculate U and V\n",
    "u_learned = u_ansatz.matrix(u_value)\n",
    "v_learned = v_ansatz.matrix(v_value)\n",
    "\n",
    "v_dagger_learned = np.conj(v_learned.T)\n",
    "d_learned = np.array(singular_value)"
   ]
  },
  {
   "cell_type": "markdown",
   "metadata": {},
   "source": [
    "将学习到的奇异值分解结果组装回去，并使用pyplot包的imshow直观展示，以观察图像压缩的结果："
   ]
  },
  {
   "cell_type": "code",
   "execution_count": 28,
   "metadata": {},
   "outputs": [
    {
     "data": {
      "text/plain": [
       "<matplotlib.image.AxesImage at 0x209ea43cd60>"
      ]
     },
     "execution_count": 28,
     "metadata": {},
     "output_type": "execute_result"
    },
    {
     "data": {
      "image/png": "[encoded data removed]",
      "text/plain": [
       "<Figure size 432x288 with 1 Axes>"
      ]
     },
     "metadata": {
      "needs_background": "light"
     },
     "output_type": "display_data"
    }
   ],
   "source": [
    "# Calculate recombined matrix mat\n",
    "mat = np.matrix(u_learned[:, :rank]) * np.diag(d_learned[:rank]) * np.matrix(\n",
    "    v_dagger_learned[:rank, :])\n",
    "\n",
    "# Show recombination result\n",
    "reconstimg = np.abs(mat)\n",
    "pyplot.imshow(reconstimg, cmap='gray')"
   ]
  },
  {
   "cell_type": "markdown",
   "metadata": {},
   "source": [
    "可以看到，图像压缩只取前8个奇异值作近似得到的结果仍具有较好的辨识度。"
   ]
  },
  {
   "cell_type": "markdown",
   "metadata": {},
   "source": [
    "## 项目总结\n",
    "\n",
    "本次复现我完成了量子版本的奇异值分解变分算法，成功应用算法分解随机8*8的复数矩阵、压缩矩阵分析误差并与经典奇异值分解算法结果相对比。\n",
    "\n",
    "虽然论文里理论上是使用变分量子神经网络来近似优化，但在实际代码中，原作者使用的是将量子网络转换成经典张量网络优化，又转换回了经典计算机上，并未利用到量子计算机的特性。\n",
    "\n",
    "考虑到**MindQuantum**是模拟真实物理上的量子计算机，基于测量给出结果，我学习了**MindQuantum**的用法后发现`get_expectation_with_grad` 方法可以用来计算如下表达式的值和线路中参数的梯度。\n",
    "\n",
    "$$\n",
    "E(\\theta) = \\langle\\phi|U_l^{\\dagger}(\\theta) H U_r(\\theta)|\\psi\\rangle\n",
    "$$\n",
    "\n",
    "我将待分解矩阵M嵌入哈密顿量H中，将 $U_l(\\theta)$ 设置成 $U(\\theta)$ ， $U_r(\\theta)$ 设置成 $V(\\psi)$ ，通过模拟器的`set_qs`设置模拟器的状态为我所取的测量基，从而获取到给定测量基下的测量结果，即对应位置的奇异值。再利用**MindQuantum**的 `MQAnsatzOnlyLayer` 搭建出基于各测量基下的量子网络层，并结合**MindSpore**提供的经典学习框架构建出量子经典混合网络，实现对量子网络层加权求和，从而构建出损失函数并进行优化。\n",
    "\n",
    "这种方法更符合量子计算的逻辑，更能发挥出量子ansatz的优势，从最终结果来看，这种方法的误差也要优于原作者转换成张量网络求解的方法。\n",
    "\n",
    "下面两图是量子奇异值分解(VQSVD)误差与经典奇异值分解误差(SVD)对比，其中第一图是使用新算法复现出的结果，第二题图是使用原算法画出的图，二者对比可以发现新算法的误差优于原算法。"
   ]
  },
  {
   "cell_type": "markdown",
   "metadata": {},
   "source": [
    "![error](https://gitee.com/mindspore/mindquantum/raw/research/paper_recurrence/38_lolo1222/figure/error.png)\n",
    "![error_baidu](https://gitee.com/mindspore/mindquantum/raw/research/paper_recurrence/38_lolo1222/figure/error_bd.png)"
   ]
  },
  {
   "cell_type": "markdown",
   "metadata": {},
   "source": [
    "下面两图是在案例二：图像压缩中运行出的结果，其中左图是使用新算法复现出的结果，右图是使用原算法画出的图，二者对比可以发现使用新算法压缩出的图片效果要优于原算法。\n",
    "\n",
    "![compress](https://gitee.com/mindspore/mindquantum/raw/research/paper_recurrence/38_lolo1222/figure/compress.png)\n",
    "![compress_baidu](https://gitee.com/mindspore/mindquantum/raw/research/paper_recurrence/38_lolo1222/figure/compress_bd.png)"
   ]
  },
  {
   "cell_type": "markdown",
   "metadata": {},
   "source": [
    "本论文展示出了变分量子线路的强大，它只需几个比特就可以完成指数级矩阵的运算，未来我们可以考虑基于变分量子线路，通过搭建量子经典混合神经网络求解量子奇异值转换的多项式参数，从而解决算法的精度问题。"
   ]
  },
  {
   "cell_type": "markdown",
   "metadata": {},
   "source": [
    "---\n",
    "## 参考文献\n",
    "\n",
    "[1] Wang, X., Song, Z., & Wang, Y. Variational Quantum Singular Value Decomposition. [Quantum, 5, 483 (2021).](https://quantum-journal.org/papers/q-2021-06-29-483/)"
   ]
  }
 ],
 "metadata": {
  "interpreter": {
   "hash": "d51bf15402528504f020d69b32256ebc0ad7848f405bf2065ebd576c716d1c47"
  },
  "kernelspec": {
   "display_name": "Python 3.9.7 ('py39')",
   "language": "python",
   "name": "python3"
  },
  "language_info": {
   "codemirror_mode": {
    "name": "ipython",
    "version": 3
   },
   "file_extension": ".py",
   "mimetype": "text/x-python",
   "name": "python",
   "nbconvert_exporter": "python",
   "pygments_lexer": "ipython3",
   "version": "3.8.8"
  },
  "orig_nbformat": 4
 },
 "nbformat": 4,
 "nbformat_minor": 2
}
