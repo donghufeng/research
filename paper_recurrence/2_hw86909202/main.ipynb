{
 "cells": [
  {
   "cell_type": "markdown",
   "metadata": {},
   "source": [
    "# 论文名：\n",
    "Qubit-ADAPT-VQE: An Adaptive Algorithm for Constructing Hardware-Efficient Ansätze on a Quantum Processor\n",
    "\n",
    "## 项目介绍\n",
    "\n",
    "使用Adapt-VQE的方法来计算H4分子与LiH分子体系的基态能量"
   ]
  },
  {
   "cell_type": "code",
   "execution_count": null,
   "metadata": {},
   "outputs": [],
   "source": [
    "## 安装最新版Minduantum，同时也需要安装pyscf量化计算软件包、openfermion 以及 openfermionpyscf\n",
    "## h5py的版本如果太新，程序可能会报错，需要将h5py的版本调低一些\n",
    "\n",
    "# pip install https://hiq.huaweicloud.com/download/mindquantum/newest/linux/mindquantum-master-cp37-cp37m-linux_x86_64.whl -i https://pypi.tuna.tsinghua.edu.cn/simple\n",
    "# pip install openfermionpyscf\n",
    "# pip install h5py==2.10.0 --force-reinstall"
   ]
  },
  {
   "cell_type": "markdown",
   "metadata": {},
   "source": [
    "## 复现过程\n",
    "\n",
    "请调用您的代码，按照步骤对论文进行复现，并输出复现结果。"
   ]
  },
  {
   "cell_type": "code",
   "execution_count": 15,
   "metadata": {},
   "outputs": [],
   "source": [
    "## 使用VQE量子算法，首先需要用Hartree-Fock方法计算出相应的分子轨道，同时计算FCI的结果，便于之后比较VQE与FCI间的误差，并将所有的计算结果保存下来\n",
    "from src.pyscf_cal_save import generate_H4, generate_LiH"
   ]
  },
  {
   "cell_type": "code",
   "execution_count": 16,
   "metadata": {},
   "outputs": [
    {
     "name": "stdout",
     "output_type": "stream",
     "text": [
      "0.5000 :\t -1.6531169519401159\n",
      "0.6000 :\t -1.9601936448939203\n",
      "0.7000 :\t -2.1069969150952832\n",
      "0.8000 :\t -2.1675605441340453\n",
      "0.9000 :\t -2.1803166143238610\n",
      "1.0000 :\t -2.1663874486347598\n",
      "1.1000 :\t -2.1379705268436227\n",
      "1.2000 :\t -2.1026084809554191\n",
      "1.3000 :\t -2.0652289632712861\n",
      "1.4000 :\t -2.0290704935919619\n",
      "1.5000 :\t -1.9961503255188096\n",
      "1.6000 :\t -1.9675603099203722\n",
      "1.7000 :\t -1.9436920386881200\n",
      "1.8000 :\t -1.9244306381367224\n",
      "1.9000 :\t -1.9093320600426347\n",
      "2.0000 :\t -1.8977806459898745\n",
      "2.1000 :\t -1.8891148747139386\n",
      "2.2000 :\t -1.8827126374318441\n",
      "2.3000 :\t -1.8780370449649078\n",
      "2.4000 :\t -1.8746515824858949\n"
     ]
    }
   ],
   "source": [
    "## 使用Hartree-Fock方法计算H4分子体系\n",
    "generate_H4()"
   ]
  },
  {
   "cell_type": "code",
   "execution_count": 17,
   "metadata": {},
   "outputs": [
    {
     "name": "stdout",
     "output_type": "stream",
     "text": [
      "1.0000 :\t -7.7844602800312339\n",
      "1.1000 :\t -7.8255369578024592\n",
      "1.2000 :\t -7.8524308531959148\n",
      "1.3000 :\t -7.8691399763520291\n",
      "1.4000 :\t -7.8784536522771536\n",
      "1.5000 :\t -7.8823622867987071\n",
      "1.6000 :\t -7.8823243788834958\n",
      "1.7000 :\t -7.8794335165642657\n",
      "1.8000 :\t -7.8745240249913167\n",
      "1.9000 :\t -7.8682407938537997\n",
      "2.0000 :\t -7.8610877724814960\n",
      "2.1000 :\t -7.8534629050566025\n",
      "2.2000 :\t -7.8456836231971891\n",
      "2.3000 :\t -7.8380050026292460\n",
      "2.4000 :\t -7.8306316244241110\n",
      "2.5000 :\t -7.8237238834677028\n",
      "2.6000 :\t -7.8173999274494488\n",
      "2.7000 :\t -7.8117353391248177\n",
      "2.8000 :\t -7.8067634025649637\n",
      "2.9000 :\t -7.8024784528429860\n"
     ]
    }
   ],
   "source": [
    "## 使用Hartree-Fock方法计算LiH分子体系\n",
    "generate_LiH()"
   ]
  },
  {
   "cell_type": "code",
   "execution_count": 18,
   "metadata": {},
   "outputs": [],
   "source": [
    "## src文件夹中的fermionic.py文件编写了基于fermionic算符的Adapt-VQE方法，qubit.py文件编写了基于qubit算符的Adapt-VQE方法\n",
    "## fermionic.py文件中又有fermionic_adapt_vqe_a与fermionic_adapt_vqe_b函数，两者都是基于fermionic算符的Adapt-VQE方法，区别在于\n",
    "## 在Adapt-VQE方法中，每一次迭代，都会在原有的量子线路上根据梯度计算结果加上一组量子逻辑门，并从新优化所有的线路参数\n",
    "## 有两种方式来实施线路参数初始化，一种是原有的线路的初始参数直接来自于上一步迭代的优化结果，新加入的线路的参数做随机初始化的处理(fermionic_adapt_vqe_a，qubit_adapt_vqe_a)\n",
    "## 另一种方式是将所有的参数都做随机初始化的处理(fermionic_adapt_vqe_b, qubit_adapt_vqe_b)\n",
    "\n",
    "from src.fermionic import fermionic_adapt_vqe_a, fermionic_adapt_vqe_b\n",
    "from src.qubit import qubit_adapt_vqe_a, qubit_adapt_vqe_b\n",
    "from openfermion.chem import MolecularData"
   ]
  },
  {
   "cell_type": "code",
   "execution_count": 19,
   "metadata": {},
   "outputs": [],
   "source": [
    "dist = 1.0\n",
    "geometry = [\n",
    "    [\"H\", [0.0, 0.0, 0.0]],\n",
    "    [\"H\", [dist, 0.0, 0.0]],\n",
    "    [\"H\", [dist * 2.0, 0.0, 0.0]],\n",
    "    [\"H\", [dist * 3.0, 0.0, 0.0]],\n",
    "]\n",
    "basis = \"sto3g\"\n",
    "spin = 0\n",
    "multiplicity = 2 * spin + 1\n",
    "description = '{:.3f}'.format(dist)\n",
    "H4_molecule = MolecularData(geometry, basis, multiplicity, description=description)"
   ]
  },
  {
   "cell_type": "code",
   "execution_count": 20,
   "metadata": {},
   "outputs": [
    {
     "name": "stdout",
     "output_type": "stream",
     "text": [
      "hf:-2.09854593699776.\n",
      "ccsd:-2.166379521666025.\n",
      "fci:-2.16638744863476.\n",
      "Step   0 energy  -2.1224998698357864\n",
      "Step   1 energy  -2.1330713343600438\n",
      "Step   2 energy  -2.1441832987968130\n",
      "Step   3 energy  -2.1510972180950723\n",
      "Step   4 energy  -2.1555370251484018\n",
      "Step   5 energy  -2.1586495363668003\n",
      "Step   6 energy  -2.1610687919447602\n",
      "Step   7 energy  -2.1639187250598639\n",
      "Step   8 energy  -2.1649684324797831\n",
      "Step   9 energy  -2.1662110751481629\n",
      "Step  10 energy  -2.1662292144345368\n",
      "Step  11 energy  -2.1662678688272585\n",
      "Step  12 energy  -2.1662803628126275\n",
      "Step  13 energy  -2.1663021762401451\n",
      "Step  14 energy  -2.1663829706613495\n",
      "Step  15 energy  -2.1663831172655934\n",
      "Step  16 energy  -2.1663840626897057\n",
      "Step  17 energy  -2.1663840627581221\n",
      "Iterative is convergence!\n",
      "Final energy :  -2.1663840627581221\n",
      "Final error :   0.0000033858766377\n"
     ]
    }
   ],
   "source": [
    "## 使用基于fermionic算符的Adapt-VQE方法计算H4分子体系的基态能，每一次的迭代过程中，原有的线路的初始参数来自于上一步的优化结果，新加入的线路的参数做随机初始化的处理\n",
    "H4_f_res_a = fermionic_adapt_vqe_a(H4_molecule)"
   ]
  },
  {
   "cell_type": "code",
   "execution_count": 21,
   "metadata": {},
   "outputs": [
    {
     "name": "stdout",
     "output_type": "stream",
     "text": [
      "hf:-2.09854593699776.\n",
      "ccsd:-2.166379521666025.\n",
      "fci:-2.16638744863476.\n",
      "Step   0 energy  -2.1224998698357784\n",
      "Step   1 energy  -2.1330713343600345\n",
      "Step   2 energy  -2.1441832987967970\n",
      "Step   3 energy  -2.1510972180953201\n",
      "Step   4 energy  -2.1555370251482389\n",
      "Step   5 energy  -2.1586495363670868\n",
      "Step   6 energy  -2.1610687919447265\n",
      "Step   7 energy  -2.1639187250602050\n",
      "Step   8 energy  -2.1649684324798018\n",
      "Step   9 energy  -2.1662110751481509\n",
      "Step  10 energy  -2.1662292144342854\n",
      "Step  11 energy  -2.1639103995311655\n",
      "Step  12 energy  -2.1663192752190565\n",
      "Step  13 energy  -2.1663387796431177\n",
      "Step  14 energy  -2.1639420577744648\n",
      "Step  15 energy  -2.1663405878174475\n",
      "Step  16 energy  -2.1663151638266065\n",
      "Step  17 energy  -2.1663843194835999\n",
      "Step  18 energy  -2.1663760010472433\n",
      "Step  19 energy  -2.1663874486330572\n",
      "Step  20 energy  -2.1663874486340720\n",
      "Iterative is convergence!\n",
      "Final energy :  -2.1663874486340720\n",
      "Final error :   0.0000000000006879\n"
     ]
    }
   ],
   "source": [
    "## 使用基于fermionic算符的Adapt-VQE方法计算H4分子体系的基态能，每一次的迭代过程中，所有的参数都做随机初始化的处理\n",
    "H4_f_res_b = fermionic_adapt_vqe_b(H4_molecule)"
   ]
  },
  {
   "cell_type": "code",
   "execution_count": 22,
   "metadata": {},
   "outputs": [
    {
     "name": "stdout",
     "output_type": "stream",
     "text": [
      "hf:-2.09854593699776.\n",
      "ccsd:-2.166379521666025.\n",
      "fci:-2.16638744863476.\n",
      "Step   0 energy  -2.1224998698357838\n",
      "Step   1 energy  -2.1330713343598586\n",
      "Step   2 energy  -2.1441832987968050\n",
      "Step   3 energy  -2.1510972180953019\n",
      "Step   4 energy  -2.1555370251483543\n",
      "Step   5 energy  -2.1586495363670890\n",
      "Step   6 energy  -2.1610687919447327\n",
      "Step   7 energy  -2.1639187250602601\n",
      "Step   8 energy  -2.1649684324796326\n",
      "Step   9 energy  -2.1662110751484165\n",
      "Step  10 energy  -2.1662378463563123\n",
      "Step  11 energy  -2.1662705817540155\n",
      "Step  12 energy  -2.1662891590043043\n",
      "Step  13 energy  -2.1663133988729220\n",
      "Step  14 energy  -2.1663133988731440\n",
      "Iterative is convergence!\n",
      "Final energy :  -2.1663133988731440\n",
      "Final error :   0.0000740497616158\n"
     ]
    }
   ],
   "source": [
    "## 使用基于qubit算符的Adapt-VQE方法计算H4分子体系的基态能，每一次的迭代过程中，原有的线路的初始参数来自于上一步的优化结果，新加入的线路的参数做随机初始化的处理\n",
    "H4_q_res_a = qubit_adapt_vqe_a(H4_molecule)"
   ]
  },
  {
   "cell_type": "code",
   "execution_count": 23,
   "metadata": {},
   "outputs": [
    {
     "name": "stdout",
     "output_type": "stream",
     "text": [
      "hf:-2.09854593699776.\n",
      "ccsd:-2.166379521666025.\n",
      "fci:-2.16638744863476.\n",
      "Step   0 energy  -2.1224998698357846\n",
      "Step   1 energy  -2.1330713343600496\n",
      "Step   2 energy  -2.1441832987968112\n",
      "Step   3 energy  -2.1510972180952561\n",
      "Step   4 energy  -2.1555370251484027\n",
      "Step   5 energy  -2.1586495363670894\n",
      "Step   6 energy  -2.1610687919447478\n",
      "Step   7 energy  -2.1639187250602561\n",
      "Step   8 energy  -2.1649684324795526\n",
      "Step   9 energy  -2.1662110751481514\n",
      "Step  10 energy  -2.1662378463564069\n",
      "Step  11 energy  -2.1662705817542438\n",
      "Step  12 energy  -2.1662891590039930\n",
      "Step  13 energy  -2.1639365628950120\n",
      "Step  14 energy  -2.1663125384488935\n",
      "Step  15 energy  -2.1647063359699001\n",
      "Step  16 energy  -2.1663308261551064\n",
      "Step  17 energy  -2.1663308261567482\n",
      "Iterative is convergence!\n",
      "Final energy :  -2.1663308261567482\n",
      "Final error :   0.0000566224780116\n"
     ]
    }
   ],
   "source": [
    "## 使用基于qubit算符的Adapt-VQE方法计算H4分子体系的基态能，每一次的迭代过程中，所有的参数都做随机初始化的处理\n",
    "H4_q_res_b = qubit_adapt_vqe_b(H4_molecule)"
   ]
  },
  {
   "cell_type": "code",
   "execution_count": 24,
   "metadata": {},
   "outputs": [],
   "source": [
    "import matplotlib. pyplot as plt\n",
    "import numpy as np\n",
    "import math"
   ]
  },
  {
   "cell_type": "code",
   "execution_count": 25,
   "metadata": {},
   "outputs": [
    {
     "data": {
      "image/png": "[encoded data removed]",
      "text/plain": [
       "<Figure size 432x288 with 1 Axes>"
      ]
     },
     "metadata": {
      "needs_background": "light"
     },
     "output_type": "display_data"
    }
   ],
   "source": [
    "## 画出基于fermionic算符的Adapt-VQE方法计算H4分子的迭代曲线\n",
    "x_a = np.arange(0, len(H4_f_res_a))\n",
    "y_a = np.array(H4_f_res_a)\n",
    "x_b = np.arange(0, len(H4_f_res_b))\n",
    "y_b = np.array(H4_f_res_b)\n",
    "plt.plot(x_a,y_a,'go-')\n",
    "plt.plot(x_b,y_b,'bo-')\n",
    "plt.yscale('log')\n",
    "plt.show()"
   ]
  },
  {
   "cell_type": "code",
   "execution_count": 26,
   "metadata": {},
   "outputs": [
    {
     "data": {
      "image/png": "[encoded data removed]",
      "text/plain": [
       "<Figure size 432x288 with 1 Axes>"
      ]
     },
     "metadata": {
      "needs_background": "light"
     },
     "output_type": "display_data"
    }
   ],
   "source": [
    "## 画出基于qubit算符的Adapt-VQE方法计算H4分子的迭代曲线\n",
    "x_a = np.arange(0, len(H4_q_res_a))\n",
    "y_a = np.array(H4_q_res_a)\n",
    "x_b = np.arange(0, len(H4_q_res_b))\n",
    "y_b = np.array(H4_q_res_b)\n",
    "plt.plot(x_a,y_a,'go-')\n",
    "plt.plot(x_b,y_b,'bo-')\n",
    "plt.yscale('log')\n",
    "plt.show()"
   ]
  },
  {
   "cell_type": "code",
   "execution_count": 27,
   "metadata": {},
   "outputs": [],
   "source": [
    "dist = 1.6\n",
    "geometry = [\n",
    "    [\"Li\", [0.0, 0.0, 0.0 * dist]],\n",
    "    [\"H\", [0.0, 0.0, 1.0 * dist]],\n",
    "]\n",
    "basis = \"sto3g\"\n",
    "spin = 0\n",
    "multiplicity = 2 * spin + 1\n",
    "description = '{:.3f}'.format(dist)\n",
    "LiH_molecule = MolecularData(geometry, basis, multiplicity, description=description)"
   ]
  },
  {
   "cell_type": "code",
   "execution_count": 28,
   "metadata": {},
   "outputs": [
    {
     "name": "stdout",
     "output_type": "stream",
     "text": [
      "hf:-7.861864769808648.\n",
      "ccsd:-7.882313821664146.\n",
      "fci:-7.882324378883496.\n",
      "Step   0 energy  -7.8764343058855149\n",
      "Step   1 energy  -7.8783444603634738\n",
      "Step   2 energy  -7.8801129920840429\n",
      "Step   3 energy  -7.8802006140961280\n",
      "Step   4 energy  -7.8807961383892637\n",
      "Step   5 energy  -7.8812818262848419\n",
      "Step   6 energy  -7.8817489934574470\n",
      "Step   7 energy  -7.8817650773575423\n",
      "Step   8 energy  -7.8817810450282542\n",
      "Step   9 energy  -7.8818017250745944\n",
      "Step  10 energy  -7.8818223965118674\n",
      "Step  11 energy  -7.8818425922791855\n",
      "Step  12 energy  -7.8818627829412344\n",
      "Step  13 energy  -7.8818699668843371\n",
      "Step  14 energy  -7.8820868601730112\n",
      "Step  15 energy  -7.8822599125311887\n",
      "Step  16 energy  -7.8822908413876238\n",
      "Step  17 energy  -7.8822936229471399\n",
      "Step  18 energy  -7.8822962630734610\n",
      "Step  19 energy  -7.8823078007212146\n",
      "Step  20 energy  -7.8823089758832801\n",
      "Step  21 energy  -7.8823101527005681\n",
      "Step  22 energy  -7.8823110220706427\n",
      "Step  23 energy  -7.8823118822956397\n",
      "Step  24 energy  -7.8823120656155172\n",
      "Step  25 energy  -7.8823122459573272\n",
      "Step  26 energy  -7.8823125656583386\n",
      "Step  27 energy  -7.8823128865625272\n",
      "Step  28 energy  -7.8823131133158562\n",
      "Step  29 energy  -7.8823133384840949\n",
      "Step  30 energy  -7.8823134418326388\n",
      "Step  31 energy  -7.8823135347180804\n",
      "Step  32 energy  -7.8823136337778816\n",
      "Step  33 energy  -7.8823137249083928\n",
      "Step  34 energy  -7.8823139003839833\n",
      "Step  35 energy  -7.8823157830855326\n",
      "Step  36 energy  -7.8823162758894449\n",
      "Step  37 energy  -7.8823182367292031\n",
      "Step  38 energy  -7.8823189349472047\n",
      "Step  39 energy  -7.8823167161837127\n",
      "Step  40 energy  -7.8823180618014188\n",
      "Step  41 energy  -7.8823196517151315\n",
      "Step  42 energy  -7.8823199461416937\n",
      "Step  43 energy  -7.8823202067934943\n",
      "Step  44 energy  -7.8823202099203140\n",
      "Step  45 energy  -7.8823203047775392\n",
      "Step  46 energy  -7.8823205545355250\n",
      "Step  47 energy  -7.8823222245686297\n",
      "Step  48 energy  -7.8823222582823469\n",
      "Step  49 energy  -7.8823223122304347\n",
      "Step  50 energy  -7.8823240572176632\n",
      "Step  51 energy  -7.8823240459955466\n",
      "Step  52 energy  -7.8823241401797022\n",
      "Step  53 energy  -7.8823242169430729\n",
      "Step  54 energy  -7.8823242616576330\n",
      "Step  55 energy  -7.8823242678420167\n",
      "Step  56 energy  -7.8823242758238230\n",
      "Step  57 energy  -7.8823242923935757\n",
      "Step  58 energy  -7.8823234418850285\n",
      "Step  59 energy  -7.8823240852787251\n",
      "Step  60 energy  -7.8823240910957697\n",
      "Step  61 energy  -7.8823240198117377\n",
      "Step  62 energy  -7.8823241428402246\n",
      "Step  63 energy  -7.8823241969458042\n",
      "Step  64 energy  -7.8823241941662534\n",
      "Step  65 energy  -7.8823243212419785\n",
      "Step  66 energy  -7.8823243558441716\n",
      "Step  67 energy  -7.8823243607365114\n",
      "Step  68 energy  -7.8823243649410513\n",
      "Step  69 energy  -7.8823243595562893\n",
      "Step  70 energy  -7.8823243711059465\n",
      "Step  71 energy  -7.8823243643884329\n",
      "Step  72 energy  -7.8823243609492470\n",
      "Step  73 energy  -7.8823243492558515\n",
      "Step  74 energy  -7.8823243567668619\n",
      "Step  75 energy  -7.8823243725745611\n",
      "Step  76 energy  -7.8823243528786060\n",
      "Step  77 energy  -7.8823243441045969\n",
      "Step  78 energy  -7.8823243547729680\n",
      "Step  79 energy  -7.8823243392281128\n",
      "Step  80 energy  -7.8823243214512493\n",
      "Step  81 energy  -7.8823243626977959\n",
      "Step  82 energy  -7.8823243408566848\n",
      "Step  83 energy  -7.8823243409436969\n",
      "Iterative is convergence!\n",
      "Final energy :  -7.8823243409436969\n",
      "Final error :   0.0000000379397989\n"
     ]
    }
   ],
   "source": [
    "## 使用基于fermionic算符的Adapt-VQE方法计算LiH分子体系的基态能，每一次的迭代过程中，原有的线路的初始参数来自于上一步的优化结果，新加入的线路的参数做随机初始化的处理\n",
    "LiH_f_res_a = fermionic_adapt_vqe_a(LiH_molecule)"
   ]
  },
  {
   "cell_type": "code",
   "execution_count": 29,
   "metadata": {},
   "outputs": [
    {
     "name": "stdout",
     "output_type": "stream",
     "text": [
      "hf:-7.861864769808648.\n",
      "ccsd:-7.882313821664146.\n",
      "fci:-7.882324378883496.\n",
      "Step   0 energy  -7.8764343058855113\n",
      "Step   1 energy  -7.8783444603634827\n",
      "Step   2 energy  -7.8801129920840065\n",
      "Step   3 energy  -7.8802006140961236\n",
      "Step   4 energy  -7.8807961383895222\n",
      "Step   5 energy  -7.8812818262848339\n",
      "Step   6 energy  -7.8817489934574487\n",
      "Step   7 energy  -7.8817650773574854\n",
      "Step   8 energy  -7.8817810450278882\n",
      "Step   9 energy  -7.1811646349256080\n",
      "Step  10 energy  -7.7557376120951487\n",
      "Step  11 energy  -7.7559097117527269\n",
      "Step  12 energy  -7.7560267688510365\n",
      "Step  13 energy  -7.7561186255553380\n",
      "Step  14 energy  -7.7533959721760599\n",
      "Step  15 energy  -7.8819717851896982\n",
      "Step  16 energy  -7.7261394454145833\n",
      "Step  17 energy  -7.7583643350004818\n",
      "Step  18 energy  -7.8818578985858023\n",
      "Step  19 energy  -7.8820539879866587\n",
      "Step  20 energy  -7.8799025833357677\n",
      "Step  21 energy  -7.8821463634857016\n",
      "Step  22 energy  -7.8822616357027160\n",
      "Step  23 energy  -7.8821840365888400\n",
      "Step  24 energy  -7.8663202204306328\n",
      "Step  25 energy  -7.8822652751565849\n",
      "Step  26 energy  -7.8822602213735911\n",
      "Step  27 energy  -7.8822816762372083\n",
      "Step  28 energy  -7.8820487772874648\n",
      "Step  29 energy  -7.8823016918356785\n",
      "Step  30 energy  -7.8818358548594567\n",
      "Step  31 energy  -7.7658767997332916\n",
      "Step  32 energy  -7.8821385462871971\n",
      "Step  33 energy  -7.8823093636098216\n",
      "Step  34 energy  -7.8817778610567464\n",
      "Step  35 energy  -7.8822844254042792\n",
      "Step  36 energy  -7.8823101951486070\n",
      "Step  37 energy  -7.8801606099143404\n",
      "Step  38 energy  -7.8823215525782189\n",
      "Step  39 energy  -7.8822829008408579\n",
      "Step  40 energy  -7.8823134704780138\n",
      "Step  41 energy  -7.8822944992281858\n",
      "Step  42 energy  -7.8822697137485935\n",
      "Step  43 energy  -7.8822673557292564\n",
      "Step  44 energy  -7.8823155976905799\n",
      "Step  45 energy  -7.8823185840844534\n",
      "Step  46 energy  -7.8823074185928137\n",
      "Step  47 energy  -7.8822988080900416\n",
      "Step  48 energy  -7.8823206991194370\n",
      "Step  49 energy  -7.8822110490641757\n",
      "Step  50 energy  -7.8822924432118722\n",
      "Step  51 energy  -7.8823201072089288\n",
      "Step  52 energy  -7.8823183312170499\n",
      "Step  53 energy  -7.8823214914582849\n",
      "Step  54 energy  -7.8823191864874458\n",
      "Step  55 energy  -7.8823192439354326\n",
      "Step  56 energy  -7.8823040300436187\n",
      "Step  57 energy  -7.8823143349755256\n",
      "Step  58 energy  -7.8823208888760554\n",
      "Step  59 energy  -7.8823173200762184\n",
      "Step  60 energy  -7.8823233961918531\n",
      "Step  61 energy  -7.8823235335852884\n",
      "Step  62 energy  -7.8823229155898655\n",
      "Step  63 energy  -7.8823238383088530\n",
      "Step  64 energy  -7.8823239474688425\n",
      "Step  65 energy  -7.8823237598250930\n",
      "Step  66 energy  -7.8823226991251403\n",
      "Step  67 energy  -7.8823238340145165\n",
      "Step  68 energy  -7.8823123883767110\n",
      "Step  69 energy  -7.8823242527630839\n",
      "Step  70 energy  -7.8823239204112721\n",
      "Step  71 energy  -7.8823243788834692\n",
      "Step  72 energy  -7.8823243788845909\n",
      "Iterative is convergence!\n",
      "Final energy :  -7.8823243788845909\n",
      "Final error :   0.0000000000010951\n"
     ]
    }
   ],
   "source": [
    "## 使用基于fermionic算符的Adapt-VQE方法计算LiH分子体系的基态能，每一次的迭代过程中，所有的参数都做随机初始化的处理\n",
    "LiH_f_res_b = fermionic_adapt_vqe_b(LiH_molecule)"
   ]
  },
  {
   "cell_type": "code",
   "execution_count": 30,
   "metadata": {},
   "outputs": [
    {
     "name": "stdout",
     "output_type": "stream",
     "text": [
      "hf:-7.861864769808648.\n",
      "ccsd:-7.882313821664146.\n",
      "fci:-7.882324378883496.\n",
      "Step   0 energy  -7.8764343058855113\n",
      "Step   1 energy  -7.8783444603634631\n",
      "Step   2 energy  -7.8801129920840483\n",
      "Step   3 energy  -7.8802006140961360\n",
      "Step   4 energy  -7.8807961383895710\n",
      "Step   5 energy  -7.8812818262849262\n",
      "Step   6 energy  -7.8817489934572951\n",
      "Step   7 energy  -7.8817650773575494\n",
      "Step   8 energy  -7.8817810450282870\n",
      "Step   9 energy  -7.8818017250745811\n",
      "Step  10 energy  -7.8818223965112146\n",
      "Step  11 energy  -7.8818425922791171\n",
      "Step  12 energy  -7.8818627829413774\n",
      "Step  13 energy  -7.8818699668848353\n",
      "Step  14 energy  -7.8820630320589213\n",
      "Step  15 energy  -7.8822822136047286\n",
      "Step  16 energy  -7.8823002957295012\n",
      "Step  17 energy  -7.8823032546451053\n",
      "Step  18 energy  -7.8823062146045739\n",
      "Step  19 energy  -7.8823075139879881\n",
      "Step  20 energy  -7.8823088107793460\n",
      "Step  21 energy  -7.8823096602494163\n",
      "Step  22 energy  -7.8823103774821455\n",
      "Step  23 energy  -7.8823123788896750\n",
      "Step  24 energy  -7.8823125700067713\n",
      "Step  25 energy  -7.8823127477999479\n",
      "Step  26 energy  -7.8823130807507962\n",
      "Step  27 energy  -7.8823134071459657\n",
      "Step  28 energy  -7.8823136079408771\n",
      "Step  29 energy  -7.8823138351669533\n",
      "Step  30 energy  -7.8823140097212683\n",
      "Step  31 energy  -7.8823141128283085\n",
      "Step  32 energy  -7.8823141970777488\n",
      "Step  33 energy  -7.8823142922395331\n",
      "Step  34 energy  -7.8823143105347393\n",
      "Step  35 energy  -7.8823143251375054\n",
      "Step  36 energy  -7.8823143270271920\n",
      "Step  37 energy  -7.8823143320754694\n",
      "Step  38 energy  -7.8823143402772304\n",
      "Step  39 energy  -7.8823143557932713\n",
      "Step  40 energy  -7.8823143576306975\n",
      "Step  41 energy  -7.8823143671897888\n",
      "Step  42 energy  -7.8823142439926679\n",
      "Step  43 energy  -7.8823142730928240\n",
      "Step  44 energy  -7.8823142933188821\n",
      "Step  45 energy  -7.8823142935373189\n",
      "Step  46 energy  -7.8823143118535537\n",
      "Step  47 energy  -7.8823143326971623\n",
      "Step  48 energy  -7.8823143606879507\n",
      "Step  49 energy  -7.8823144014573048\n",
      "Step  50 energy  -7.8823198685345330\n",
      "Step  51 energy  -7.8823202433939850\n",
      "Step  52 energy  -7.8823210044709393\n",
      "Step  53 energy  -7.8823210872622997\n",
      "Step  54 energy  -7.8823211461274116\n",
      "Step  55 energy  -7.8823211980833081\n",
      "Step  56 energy  -7.8823212115666879\n",
      "Step  57 energy  -7.8823214237793664\n",
      "Step  58 energy  -7.8823216131268037\n",
      "Step  59 energy  -7.8823216882243781\n",
      "Step  60 energy  -7.8823235616510221\n",
      "Step  61 energy  -7.8823237010424654\n",
      "Step  62 energy  -7.8823242437242165\n",
      "Step  63 energy  -7.8823211846781636\n",
      "Step  64 energy  -7.8823242861047662\n",
      "Step  65 energy  -7.8823242785294960\n",
      "Step  66 energy  -7.8823242777017040\n",
      "Step  67 energy  -7.8823242816838972\n",
      "Step  68 energy  -7.8823242699169755\n",
      "Step  69 energy  -7.8823240781605159\n",
      "Step  70 energy  -7.8823241449729862\n",
      "Step  71 energy  -7.8823243198307820\n",
      "Step  72 energy  -7.8823242681673937\n",
      "Step  73 energy  -7.8823242591446085\n",
      "Step  74 energy  -7.8823242644587035\n",
      "Step  75 energy  -7.8823242421188304\n",
      "Step  76 energy  -7.8823242890191683\n",
      "Step  77 energy  -7.8823241826510433\n",
      "Step  78 energy  -7.8823241891140068\n",
      "Step  79 energy  -7.8823241587723452\n",
      "Step  80 energy  -7.8823243096388946\n",
      "Step  81 energy  -7.8823242997494107\n",
      "Step  82 energy  -7.8823243025164951\n",
      "Step  83 energy  -7.8823242190963274\n",
      "Step  84 energy  -7.8823242176176755\n",
      "Step  85 energy  -7.8823242472685271\n",
      "Step  86 energy  -7.8823242423806992\n",
      "Step  87 energy  -7.8823242833909255\n",
      "Step  88 energy  -7.8823243060574555\n",
      "Step  89 energy  -7.8823243064490143\n",
      "Step  90 energy  -7.8823242742378081\n",
      "Step  91 energy  -7.8823242854960958\n",
      "Step  92 energy  -7.8823242780356226\n",
      "Step  93 energy  -7.8823241899733603\n",
      "Step  94 energy  -7.8823242510771907\n",
      "Step  95 energy  -7.8823242376452436\n",
      "Step  96 energy  -7.8823242291991109\n",
      "Step  97 energy  -7.8823241749841513\n",
      "Step  98 energy  -7.8823243217135461\n",
      "Step  99 energy  -7.8823243326433552\n",
      "Step 100 energy  -7.8823242638722588\n",
      "Step 101 energy  -7.8823243031322479\n",
      "Step 102 energy  -7.8823243377426930\n",
      "Step 103 energy  -7.8823243541493619\n",
      "Step 104 energy  -7.8823243434445818\n",
      "Step 105 energy  -7.8823243541379826\n",
      "Step 106 energy  -7.8823243587240039\n",
      "Step 107 energy  -7.8823243592575389\n",
      "Step 108 energy  -7.8823243528364406\n",
      "Step 109 energy  -7.8823243630860320\n",
      "Step 110 energy  -7.8823242934139239\n",
      "Step 111 energy  -7.8823243548381265\n",
      "Step 112 energy  -7.8823243495854598\n",
      "Step 113 energy  -7.8823243551981976\n",
      "Step 114 energy  -7.8823243405843000\n",
      "Step 115 energy  -7.8823243396962424\n",
      "Step 116 energy  -7.8823243480407514\n",
      "Step 117 energy  -7.8823243315192117\n",
      "Step 118 energy  -7.8823243179663836\n",
      "Step 119 energy  -7.8823243511239838\n",
      "Step 120 energy  -7.8823243586043077\n",
      "Step 121 energy  -7.8823243322448624\n",
      "Step 122 energy  -7.8823243779773735\n",
      "Step 123 energy  -7.8823243786755715\n",
      "Step 124 energy  -7.8823243753903016\n",
      "Step 125 energy  -7.8823243749533258\n",
      "Step 126 energy  -7.8823243755937744\n",
      "Step 127 energy  -7.8823243771993239\n",
      "Step 128 energy  -7.8823243734144235\n",
      "Step 129 energy  -7.8823243760780919\n",
      "Step 130 energy  -7.8823243762855553\n",
      "Step 131 energy  -7.8823243682614184\n",
      "Step 132 energy  -7.8823243656587954\n",
      "Step 133 energy  -7.8823243725199141\n",
      "Step 134 energy  -7.8823243742127582\n",
      "Step 135 energy  -7.8823243764911277\n",
      "Step 136 energy  -7.8823243663173610\n",
      "Step 137 energy  -7.8823243772606641\n",
      "Step 138 energy  -7.8823243730351766\n",
      "Step 139 energy  -7.8823243755768608\n",
      "Step 140 energy  -7.8823243788857251\n",
      "Step 141 energy  -7.8823243787420854\n",
      "Step 142 energy  -7.8823243788740438\n",
      "Step 143 energy  -7.8823243787880397\n",
      "Iterative is convergence!\n",
      "Final energy :  -7.8823243787880397\n",
      "Final error :   0.0000000000954561\n"
     ]
    }
   ],
   "source": [
    "## 使用基于qubit算符的Adapt-VQE方法计算LiH分子体系的基态能，每一次的迭代过程中，原有的线路的初始参数来自于上一步的优化结果，新加入的线路的参数做随机初始化的处理\n",
    "LiH_q_res_a = qubit_adapt_vqe_a(LiH_molecule)"
   ]
  },
  {
   "cell_type": "code",
   "execution_count": 31,
   "metadata": {},
   "outputs": [
    {
     "name": "stdout",
     "output_type": "stream",
     "text": [
      "hf:-7.861864769808648.\n",
      "ccsd:-7.882313821664146.\n",
      "fci:-7.882324378883496.\n",
      "Step   0 energy  -7.8764343058855335\n",
      "Step   1 energy  -7.8783444603634720\n",
      "Step   2 energy  -7.8801129920840491\n",
      "Step   3 energy  -7.8802006140961414\n",
      "Step   4 energy  -7.8807961383894964\n",
      "Step   5 energy  -7.8812818262849227\n",
      "Step   6 energy  -7.8817489934573244\n",
      "Step   7 energy  -7.8817650773575441\n",
      "Step   8 energy  -7.8817810450282551\n",
      "Step   9 energy  -7.8818017250745784\n",
      "Step  10 energy  -7.8818223965120140\n",
      "Step  11 energy  -7.8818425922794866\n",
      "Step  12 energy  -7.8818627829413197\n",
      "Step  13 energy  -7.8818699668848797\n",
      "Step  14 energy  -7.7544447389810731\n",
      "Step  15 energy  -7.7546155524594731\n",
      "Step  16 energy  -7.7547154154235454\n",
      "Step  17 energy  -7.8766462566075104\n",
      "Step  18 energy  -7.8821387205758757\n",
      "Step  19 energy  -7.8807740497950078\n",
      "Step  20 energy  -7.8818715396369008\n",
      "Step  21 energy  -7.8820614408026497\n",
      "Step  22 energy  -7.8822232945344615\n",
      "Step  23 energy  -7.8820296931935525\n",
      "Step  24 energy  -7.8821456898887234\n",
      "Step  25 energy  -7.8811700864232810\n",
      "Step  26 energy  -7.8822734715505627\n",
      "Step  27 energy  -7.8823087916825649\n",
      "Step  28 energy  -7.8812817945401283\n",
      "Step  29 energy  -7.8822929754543196\n",
      "Step  30 energy  -7.8822865400727160\n",
      "Step  31 energy  -7.8821810015023548\n",
      "Step  32 energy  -7.8822869321239546\n",
      "Step  33 energy  -7.8823072973822397\n",
      "Step  34 energy  -7.8822213645976218\n",
      "Step  35 energy  -7.8823107857979995\n",
      "Step  36 energy  -7.8822814767005953\n",
      "Step  37 energy  -7.8823112287416217\n",
      "Step  38 energy  -7.8823071995584550\n",
      "Step  39 energy  -7.8823123137512443\n",
      "Step  40 energy  -7.8822282340819436\n",
      "Step  41 energy  -7.8822970933835554\n",
      "Step  42 energy  -7.8821019011625335\n",
      "Step  43 energy  -7.8822904314724536\n",
      "Step  44 energy  -7.8823065843686981\n",
      "Step  45 energy  -7.8823114398245879\n",
      "Step  46 energy  -7.8823100928357182\n",
      "Step  47 energy  -7.8822925401315462\n",
      "Step  48 energy  -7.8823188562283368\n",
      "Step  49 energy  -7.8821712957122605\n",
      "Step  50 energy  -7.8823210599542941\n",
      "Step  51 energy  -7.8823150742768453\n",
      "Step  52 energy  -7.8823070220510187\n",
      "Step  53 energy  -7.8823140034998032\n",
      "Step  54 energy  -7.8823033142180252\n",
      "Step  55 energy  -7.8823204079587512\n",
      "Step  56 energy  -7.8823177901825714\n",
      "Step  57 energy  -7.8823229165826314\n",
      "Step  58 energy  -7.8823235776165408\n",
      "Step  59 energy  -7.8823217759092614\n",
      "Step  60 energy  -7.8823206239859456\n",
      "Step  61 energy  -7.8823229854457475\n",
      "Step  62 energy  -7.8823071582359798\n",
      "Step  63 energy  -7.8823231942817031\n",
      "Step  64 energy  -7.8823207661295456\n",
      "Step  65 energy  -7.8823239504317346\n",
      "Step  66 energy  -7.8823238191028686\n",
      "Step  67 energy  -7.8823242819509876\n",
      "Step  68 energy  -7.8823239013898450\n",
      "Step  69 energy  -7.8823243788824930\n",
      "Step  70 energy  -7.8823243788841841\n",
      "Iterative is convergence!\n",
      "Final energy :  -7.8823243788841841\n",
      "Final error :   0.0000000000006883\n"
     ]
    }
   ],
   "source": [
    "## 使用基于qubit算符的Adapt-VQE方法计算H4分子体系的基态能，每一次的迭代过程中，所有的参数都做随机初始化的处理\n",
    "LiH_q_res_b = qubit_adapt_vqe_b(LiH_molecule)"
   ]
  },
  {
   "cell_type": "code",
   "execution_count": 34,
   "metadata": {},
   "outputs": [
    {
     "data": {
      "image/png": "[encoded data removed]",
      "text/plain": [
       "<Figure size 432x288 with 1 Axes>"
      ]
     },
     "metadata": {
      "needs_background": "light"
     },
     "output_type": "display_data"
    }
   ],
   "source": [
    "## 画出基于fermionic算符的Adapt-VQE方法计算LiH分子的迭代曲线\n",
    "x_a = np.arange(0, len(LiH_f_res_a))\n",
    "y_a = np.array(LiH_f_res_a)\n",
    "x_b = np.arange(0, len(LiH_f_res_b))\n",
    "y_b = np.array(LiH_f_res_b)\n",
    "plt.plot(x_a,y_a,'go-')\n",
    "plt.plot(x_b,y_b,'bo-')\n",
    "plt.yscale('log')\n",
    "plt.show()"
   ]
  },
  {
   "cell_type": "code",
   "execution_count": 35,
   "metadata": {},
   "outputs": [
    {
     "data": {
      "image/png": "[encoded data removed]",
      "text/plain": [
       "<Figure size 432x288 with 1 Axes>"
      ]
     },
     "metadata": {
      "needs_background": "light"
     },
     "output_type": "display_data"
    }
   ],
   "source": [
    "## 画出基于qubit算符的Adapt-VQE方法计算LiH分子的迭代曲线\n",
    "x_a = np.arange(0, len(LiH_q_res_a))\n",
    "y_a = np.array(LiH_q_res_a)\n",
    "x_b = np.arange(0, len(LiH_q_res_b))\n",
    "y_b = np.array(LiH_q_res_b)\n",
    "plt.plot(x_a,y_a,'go-')\n",
    "plt.plot(x_b,y_b,'bo-')\n",
    "plt.yscale('log')\n",
    "plt.show()"
   ]
  },
  {
   "cell_type": "code",
   "execution_count": 46,
   "metadata": {},
   "outputs": [],
   "source": [
    "## 将计算结果保存至相应的文件中，并用origin画图，结果保存至 H4.jpg 和 LiH.jpg 中\n",
    "with open('H4_f_res_a.txt', 'w', buffering=1) as f:\n",
    "    for i,num_i in enumerate(H4_f_res_a):\n",
    "        f.write(\"%3d\\t%20.16f\\n\"%(i, num_i))"
   ]
  },
  {
   "cell_type": "code",
   "execution_count": 47,
   "metadata": {},
   "outputs": [],
   "source": [
    "with open('H4_f_res_b.txt', 'w', buffering=1) as f:\n",
    "    for i,num_i in enumerate(H4_f_res_b):\n",
    "        f.write(\"%3d\\t%20.16f\\n\"%(i, num_i))"
   ]
  },
  {
   "cell_type": "code",
   "execution_count": 48,
   "metadata": {},
   "outputs": [],
   "source": [
    "with open('H4_q_res_a.txt', 'w', buffering=1) as f:\n",
    "    for i,num_i in enumerate(H4_q_res_a):\n",
    "        f.write(\"%3d\\t%20.16f\\n\"%(i, num_i))"
   ]
  },
  {
   "cell_type": "code",
   "execution_count": 49,
   "metadata": {},
   "outputs": [],
   "source": [
    "with open('H4_q_res_b.txt', 'w', buffering=1) as f:\n",
    "    for i,num_i in enumerate(H4_q_res_b):\n",
    "        f.write(\"%3d\\t%20.16f\\n\"%(i, num_i))"
   ]
  },
  {
   "cell_type": "code",
   "execution_count": 50,
   "metadata": {},
   "outputs": [],
   "source": [
    "with open('LiH_f_res_a.txt', 'w', buffering=1) as f:\n",
    "    for i,num_i in enumerate(LiH_f_res_a):\n",
    "        f.write(\"%3d\\t%20.16f\\n\"%(i, num_i))"
   ]
  },
  {
   "cell_type": "code",
   "execution_count": 51,
   "metadata": {},
   "outputs": [],
   "source": [
    "with open('LiH_f_res_b.txt', 'w', buffering=1) as f:\n",
    "    for i,num_i in enumerate(LiH_f_res_b):\n",
    "        f.write(\"%3d\\t%20.16f\\n\"%(i, num_i))"
   ]
  },
  {
   "cell_type": "code",
   "execution_count": 52,
   "metadata": {},
   "outputs": [],
   "source": [
    "with open('LiH_q_res_a.txt', 'w', buffering=1) as f:\n",
    "    for i,num_i in enumerate(LiH_q_res_a):\n",
    "        f.write(\"%3d\\t%20.16f\\n\"%(i, num_i))"
   ]
  },
  {
   "cell_type": "code",
   "execution_count": 53,
   "metadata": {},
   "outputs": [],
   "source": [
    "with open('LiH_q_res_b.txt', 'w', buffering=1) as f:\n",
    "    for i,num_i in enumerate(LiH_q_res_b):\n",
    "        f.write(\"%3d\\t%20.16f\\n\"%(i, num_i))"
   ]
  },
  {
   "cell_type": "markdown",
   "metadata": {},
   "source": [
    "## 项目总结\n",
    "\n",
    "根据模拟的结果可知，对于LiH分子体系，使用基于qubit算符的Adapt-VQE方法能够以更浅的线路深度得到与fermionic-Adapt-VQE方法精度相当的结果，只是迭代过程可能会漫长一些"
   ]
  }
 ],
 "metadata": {
  "interpreter": {
   "hash": "293608e4f02af7af7497fd02adebfe52965d0fd254ec74e649283edb914c78b9"
  },
  "kernelspec": {
   "display_name": "Python 3.8.8 64-bit ('base': conda)",
   "language": "python",
   "name": "python3"
  },
  "language_info": {
   "codemirror_mode": {
    "name": "ipython",
    "version": 3
   },
   "file_extension": ".py",
   "mimetype": "text/x-python",
   "name": "python",
   "nbconvert_exporter": "python",
   "pygments_lexer": "ipython3",
   "version": "3.8.8"
  },
  "orig_nbformat": 4
 },
 "nbformat": 4,
 "nbformat_minor": 2
}
