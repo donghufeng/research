{
 "cells": [
  {
   "cell_type": "markdown",
   "metadata": {},
   "source": [
    "# Reachability Deficits in Quantum Approximate Optimization\n",
    "\n",
    "## 项目介绍\n",
    "\n",
    "命题逻辑的可满足性问题（SAT）是计算机科学中的核心问题。最大可满足问题（Max-SAT）是 SAT 问题的一个自然的扩展。对于给定的 CNF 公式， Max-SAT 问题的目标是找到一个赋值使其满足最多的析取子句。 Max-SAT 是一个重要的NP-难优化问题。由于人工智能、电路自动设计、统计物理、生物信息学等领域的许多问题都可以转化为 Max-SAT 问题，所以近十年来， Max-SAT 问题引起了越来越多的兴趣和关注。\n",
    "\n",
    "而量子近似优化算法（QAOA）也已迅速成为当代量子计算算法发展的基石。但尽管其应用范围不断扩大，却只有少数研究结果有助于理解该算法的最终局限性。本文发现，当给定近似精度时，与高密度的实例相比，低子句密度的实例所需的 QAOA 电路深度更少。若将临界的 QAOA 深度视为计算成本，电路深度的增加就类似于经典 MAX-SAT 求解器计算资源的需求增加，此时求解器的性能（最佳可能近似值）也会更好。不过，尽管增加深度可以获得更好的近似值，但若固定 QAOA 的深度，其性能（最佳可能近似值）对问题密度 α 的依赖性并不平凡。\n",
    "\n",
    "本实验以变量数 n=6 的 Max-SAT 为例，对于子句密度 α 从 0 至 10 ，随机各产生 100 组合取范式，调用 QAOA 进行优化，并将结果与实际答案计算误差并作图，很好地说明了目标结论。"
   ]
  },
  {
   "cell_type": "markdown",
   "metadata": {},
   "source": [
    "# 复现过程\n",
    "## 安装最新版Minduantum"
   ]
  },
  {
   "cell_type": "code",
   "execution_count": 1,
   "metadata": {},
   "outputs": [
    {
     "name": "stdout",
     "output_type": "stream",
     "text": [
      "Looking in indexes: https://pypi.tuna.tsinghua.edu.cn/simple\n",
      "Collecting mindquantum==master\n",
      "  Using cached https://hiq.huaweicloud.com/download/mindquantum/newest/linux/mindquantum-master-cp37-cp37m-linux_x86_64.whl (599 kB)\n",
      "Requirement already satisfied: sympy>=1.4 in /home/ma-user/anaconda3/envs/MindQuantum/lib/python3.7/site-packages (from mindquantum==master) (1.9)\n",
      "Requirement already satisfied: rich>=10.9.0 in /home/ma-user/anaconda3/envs/MindQuantum/lib/python3.7/site-packages (from mindquantum==master) (11.0.0)\n",
      "Requirement already satisfied: projectq>=0.5.1 in /home/ma-user/anaconda3/envs/MindQuantum/lib/python3.7/site-packages (from mindquantum==master) (0.6.1)\n",
      "Requirement already satisfied: matplotlib>=3.1.3 in /opt/conda/lib/python3.7/site-packages (from mindquantum==master) (3.5.0)\n",
      "Requirement already satisfied: scipy>=1.5.3 in /home/ma-user/anaconda3/envs/MindQuantum/lib/python3.7/site-packages (from mindquantum==master) (1.7.2)\n",
      "Requirement already satisfied: openfermion>=1.0.0 in /home/ma-user/anaconda3/envs/MindQuantum/lib/python3.7/site-packages (from mindquantum==master) (1.2.0)\n",
      "Requirement already satisfied: numpy>=1.17.0 in /home/ma-user/anaconda3/envs/MindQuantum/lib/python3.7/site-packages (from mindquantum==master) (1.21.4)\n",
      "Requirement already satisfied: pyparsing>=2.2.1 in /opt/conda/lib/python3.7/site-packages (from matplotlib>=3.1.3->mindquantum==master) (2.4.7)\n",
      "Requirement already satisfied: python-dateutil>=2.7 in /home/ma-user/anaconda3/envs/MindQuantum/lib/python3.7/site-packages (from matplotlib>=3.1.3->mindquantum==master) (2.8.2)\n",
      "Requirement already satisfied: setuptools-scm>=4 in /opt/conda/lib/python3.7/site-packages (from matplotlib>=3.1.3->mindquantum==master) (6.3.2)\n",
      "Requirement already satisfied: packaging>=20.0 in /opt/conda/lib/python3.7/site-packages (from matplotlib>=3.1.3->mindquantum==master) (21.2)\n",
      "Requirement already satisfied: kiwisolver>=1.0.1 in /opt/conda/lib/python3.7/site-packages (from matplotlib>=3.1.3->mindquantum==master) (1.3.2)\n",
      "Requirement already satisfied: cycler>=0.10 in /opt/conda/lib/python3.7/site-packages (from matplotlib>=3.1.3->mindquantum==master) (0.11.0)\n",
      "Requirement already satisfied: pillow>=6.2.0 in /home/ma-user/anaconda3/envs/MindQuantum/lib/python3.7/site-packages (from matplotlib>=3.1.3->mindquantum==master) (8.4.0)\n",
      "Requirement already satisfied: fonttools>=4.22.0 in /opt/conda/lib/python3.7/site-packages (from matplotlib>=3.1.3->mindquantum==master) (4.28.2)\n",
      "Requirement already satisfied: deprecation in /home/ma-user/anaconda3/envs/MindQuantum/lib/python3.7/site-packages (from openfermion>=1.0.0->mindquantum==master) (2.1.0)\n",
      "Requirement already satisfied: cirq-google~=0.12.0 in /home/ma-user/anaconda3/envs/MindQuantum/lib/python3.7/site-packages (from openfermion>=1.0.0->mindquantum==master) (0.12.0)\n",
      "Requirement already satisfied: pubchempy in /home/ma-user/anaconda3/envs/MindQuantum/lib/python3.7/site-packages (from openfermion>=1.0.0->mindquantum==master) (1.0.4)\n",
      "Requirement already satisfied: nbformat in /opt/conda/lib/python3.7/site-packages (from openfermion>=1.0.0->mindquantum==master) (5.1.3)\n",
      "Requirement already satisfied: networkx in /home/ma-user/anaconda3/envs/MindQuantum/lib/python3.7/site-packages (from openfermion>=1.0.0->mindquantum==master) (2.6.3)\n",
      "Requirement already satisfied: h5py>=2.8 in /home/ma-user/anaconda3/envs/MindQuantum/lib/python3.7/site-packages (from openfermion>=1.0.0->mindquantum==master) (3.6.0)\n",
      "Requirement already satisfied: cirq-core~=0.12.0 in /home/ma-user/anaconda3/envs/MindQuantum/lib/python3.7/site-packages (from openfermion>=1.0.0->mindquantum==master) (0.12.0)\n",
      "Requirement already satisfied: requests~=2.18 in /home/ma-user/modelarts/modelarts-sdk (from openfermion>=1.0.0->mindquantum==master) (2.26.0)\n",
      "Requirement already satisfied: typing-extensions in /home/ma-user/modelarts/modelarts-sdk (from cirq-core~=0.12.0->openfermion>=1.0.0->mindquantum==master) (4.0.1)\n",
      "Requirement already satisfied: sortedcontainers~=2.0 in /home/ma-user/anaconda3/envs/MindQuantum/lib/python3.7/site-packages (from cirq-core~=0.12.0->openfermion>=1.0.0->mindquantum==master) (2.4.0)\n",
      "Requirement already satisfied: tqdm in /home/ma-user/modelarts/modelarts-sdk (from cirq-core~=0.12.0->openfermion>=1.0.0->mindquantum==master) (4.62.3)\n",
      "Requirement already satisfied: pandas in /home/ma-user/modelarts/modelarts-sdk (from cirq-core~=0.12.0->openfermion>=1.0.0->mindquantum==master) (1.3.4)\n",
      "Requirement already satisfied: google-api-core[grpc]<2.0.0dev,>=1.14.0 in /home/ma-user/anaconda3/envs/MindQuantum/lib/python3.7/site-packages (from cirq-google~=0.12.0->openfermion>=1.0.0->mindquantum==master) (1.31.4)\n",
      "Requirement already satisfied: protobuf~=3.13.0 in /home/ma-user/anaconda3/envs/MindQuantum/lib/python3.7/site-packages (from cirq-google~=0.12.0->openfermion>=1.0.0->mindquantum==master) (3.13.0)\n",
      "Requirement already satisfied: six>=1.13.0 in /home/ma-user/anaconda3/envs/MindQuantum/lib/python3.7/site-packages (from google-api-core[grpc]<2.0.0dev,>=1.14.0->cirq-google~=0.12.0->openfermion>=1.0.0->mindquantum==master) (1.16.0)\n",
      "Requirement already satisfied: google-auth<2.0dev,>=1.25.0 in /home/ma-user/anaconda3/envs/MindQuantum/lib/python3.7/site-packages (from google-api-core[grpc]<2.0.0dev,>=1.14.0->cirq-google~=0.12.0->openfermion>=1.0.0->mindquantum==master) (1.35.0)\n",
      "Requirement already satisfied: setuptools>=40.3.0 in /home/ma-user/anaconda3/envs/MindQuantum/lib/python3.7/site-packages (from google-api-core[grpc]<2.0.0dev,>=1.14.0->cirq-google~=0.12.0->openfermion>=1.0.0->mindquantum==master) (58.0.4)\n",
      "Requirement already satisfied: pytz in /home/ma-user/modelarts/modelarts-sdk (from google-api-core[grpc]<2.0.0dev,>=1.14.0->cirq-google~=0.12.0->openfermion>=1.0.0->mindquantum==master) (2021.3)\n",
      "Requirement already satisfied: googleapis-common-protos<2.0dev,>=1.6.0 in /home/ma-user/anaconda3/envs/MindQuantum/lib/python3.7/site-packages (from google-api-core[grpc]<2.0.0dev,>=1.14.0->cirq-google~=0.12.0->openfermion>=1.0.0->mindquantum==master) (1.53.0)\n",
      "Requirement already satisfied: grpcio<2.0dev,>=1.29.0 in /home/ma-user/anaconda3/envs/MindQuantum/lib/python3.7/site-packages (from google-api-core[grpc]<2.0.0dev,>=1.14.0->cirq-google~=0.12.0->openfermion>=1.0.0->mindquantum==master) (1.42.0)\n",
      "Requirement already satisfied: cachetools<5.0,>=2.0.0 in /home/ma-user/anaconda3/envs/MindQuantum/lib/python3.7/site-packages (from google-auth<2.0dev,>=1.25.0->google-api-core[grpc]<2.0.0dev,>=1.14.0->cirq-google~=0.12.0->openfermion>=1.0.0->mindquantum==master) (4.2.4)\n",
      "Requirement already satisfied: rsa<5,>=3.1.4 in /home/ma-user/anaconda3/envs/MindQuantum/lib/python3.7/site-packages (from google-auth<2.0dev,>=1.25.0->google-api-core[grpc]<2.0.0dev,>=1.14.0->cirq-google~=0.12.0->openfermion>=1.0.0->mindquantum==master) (4.8)\n",
      "Requirement already satisfied: pyasn1-modules>=0.2.1 in /home/ma-user/anaconda3/envs/MindQuantum/lib/python3.7/site-packages (from google-auth<2.0dev,>=1.25.0->google-api-core[grpc]<2.0.0dev,>=1.14.0->cirq-google~=0.12.0->openfermion>=1.0.0->mindquantum==master) (0.2.8)\n",
      "Requirement already satisfied: cached-property in /home/ma-user/anaconda3/envs/MindQuantum/lib/python3.7/site-packages (from h5py>=2.8->openfermion>=1.0.0->mindquantum==master) (1.5.2)\n",
      "Requirement already satisfied: pyasn1<0.5.0,>=0.4.6 in /home/ma-user/anaconda3/envs/MindQuantum/lib/python3.7/site-packages (from pyasn1-modules>=0.2.1->google-auth<2.0dev,>=1.25.0->google-api-core[grpc]<2.0.0dev,>=1.14.0->cirq-google~=0.12.0->openfermion>=1.0.0->mindquantum==master) (0.4.8)\n",
      "Requirement already satisfied: idna<4,>=2.5 in /home/ma-user/modelarts/modelarts-sdk (from requests~=2.18->openfermion>=1.0.0->mindquantum==master) (3.3)\n",
      "Requirement already satisfied: certifi>=2017.4.17 in /home/ma-user/anaconda3/envs/MindQuantum/lib/python3.7/site-packages (from requests~=2.18->openfermion>=1.0.0->mindquantum==master) (2021.10.8)\n",
      "Requirement already satisfied: urllib3<1.27,>=1.21.1 in /home/ma-user/modelarts/modelarts-sdk (from requests~=2.18->openfermion>=1.0.0->mindquantum==master) (1.26.7)\n",
      "Requirement already satisfied: charset-normalizer~=2.0.0 in /home/ma-user/modelarts/modelarts-sdk (from requests~=2.18->openfermion>=1.0.0->mindquantum==master) (2.0.10)\n",
      "Requirement already satisfied: pygments<3.0.0,>=2.6.0 in /home/ma-user/anaconda3/envs/MindQuantum/lib/python3.7/site-packages (from rich>=10.9.0->mindquantum==master) (2.10.0)\n",
      "Requirement already satisfied: commonmark<0.10.0,>=0.9.0 in /home/ma-user/anaconda3/envs/MindQuantum/lib/python3.7/site-packages (from rich>=10.9.0->mindquantum==master) (0.9.1)\n",
      "Requirement already satisfied: colorama<0.5.0,>=0.4.0 in /home/ma-user/modelarts/common-algo-toolkit (from rich>=10.9.0->mindquantum==master) (0.4.4)\n",
      "Requirement already satisfied: tomli>=1.0.0 in /opt/conda/lib/python3.7/site-packages (from setuptools-scm>=4->matplotlib>=3.1.3->mindquantum==master) (1.2.2)\n",
      "Requirement already satisfied: mpmath>=0.19 in /home/ma-user/anaconda3/envs/MindQuantum/lib/python3.7/site-packages (from sympy>=1.4->mindquantum==master) (1.2.1)\n",
      "Requirement already satisfied: traitlets>=4.1 in /home/ma-user/anaconda3/envs/MindQuantum/lib/python3.7/site-packages (from nbformat->openfermion>=1.0.0->mindquantum==master) (5.1.1)\n",
      "Requirement already satisfied: jsonschema!=2.5.0,>=2.4 in /opt/conda/lib/python3.7/site-packages (from nbformat->openfermion>=1.0.0->mindquantum==master) (4.2.1)\n",
      "Requirement already satisfied: jupyter-core in /home/ma-user/anaconda3/envs/MindQuantum/lib/python3.7/site-packages (from nbformat->openfermion>=1.0.0->mindquantum==master) (4.9.1)\n",
      "Requirement already satisfied: ipython-genutils in /opt/conda/lib/python3.7/site-packages (from nbformat->openfermion>=1.0.0->mindquantum==master) (0.2.0)\n",
      "Requirement already satisfied: importlib-metadata in /home/ma-user/modelarts/modelarts-sdk (from jsonschema!=2.5.0,>=2.4->nbformat->openfermion>=1.0.0->mindquantum==master) (4.10.1)\n",
      "Requirement already satisfied: attrs>=17.4.0 in /opt/conda/lib/python3.7/site-packages (from jsonschema!=2.5.0,>=2.4->nbformat->openfermion>=1.0.0->mindquantum==master) (21.2.0)\n",
      "Requirement already satisfied: importlib-resources>=1.4.0 in /opt/conda/lib/python3.7/site-packages (from jsonschema!=2.5.0,>=2.4->nbformat->openfermion>=1.0.0->mindquantum==master) (5.4.0)\n",
      "Requirement already satisfied: pyrsistent!=0.17.0,!=0.17.1,!=0.17.2,>=0.14.0 in /opt/conda/lib/python3.7/site-packages (from jsonschema!=2.5.0,>=2.4->nbformat->openfermion>=1.0.0->mindquantum==master) (0.18.0)\n",
      "Requirement already satisfied: zipp>=3.1.0 in /home/ma-user/modelarts/modelarts-sdk (from importlib-resources>=1.4.0->jsonschema!=2.5.0,>=2.4->nbformat->openfermion>=1.0.0->mindquantum==master) (3.7.0)\n"
     ]
    }
   ],
   "source": [
    "!pip install https://hiq.huaweicloud.com/download/mindquantum/newest/linux/mindquantum-master-cp37-cp37m-linux_x86_64.whl -i https://pypi.tuna.tsinghua.edu.cn/simple"
   ]
  },
  {
   "cell_type": "markdown",
   "metadata": {},
   "source": [
    "\n",
    "## 导入相关依赖"
   ]
  },
  {
   "cell_type": "code",
   "execution_count": 1,
   "metadata": {},
   "outputs": [],
   "source": [
    "from mindquantum.core import Circuit, Hamiltonian, QubitOperator\n",
    "from mindquantum.core import UN, H, X, RZ, RX\n",
    "from mindquantum import ParameterResolver as PR\n",
    "from mindquantum.framework import MQAnsatzOnlyLayer\n",
    "from mindquantum.simulator import Simulator\n",
    "import mindspore as ms\n",
    "import mindspore.nn as nn\n",
    "import numpy as np\n",
    "import matplotlib.pyplot as plt\n",
    "import random"
   ]
  },
  {
   "cell_type": "markdown",
   "metadata": {},
   "source": [
    "## 随机生成合取范式\n",
    "\n",
    "对于合取范式中的 m 条析取子句，首先用`random.sample`从 n 个变量中随机选取 k 个（k-SAT问题），再对它们各随机一个 0 或 1 表示对应变量为假或真时不满足条件。当一个析取子句中全部变量均不满足时，意为这个析取子句未被满足，在后文中会产生 1 单位能量作为罚分 penalty 。"
   ]
  },
  {
   "cell_type": "code",
   "execution_count": 11,
   "metadata": {},
   "outputs": [],
   "source": [
    "def random_clauses(n,m,k=3):\n",
    "    s = []\n",
    "    for i in range(m):\n",
    "        l = random.sample(range(n), k)\n",
    "        for j in range(k):\n",
    "            t = random.randint(0, 1)\n",
    "            l[j] += t * n\n",
    "        s += [tuple(l)]\n",
    "    return s"
   ]
  },
  {
   "cell_type": "markdown",
   "metadata": {},
   "source": [
    "## 经典方法计算实际最小值\n",
    "\n",
    "由于哈密尔顿量为一个对角矩阵，因此只需统计对角线上最小值，即对于 n 个变量的 $2^n$ 种取值分别计算罚分 penalty，最小值即为最小的未被满足的子句个数。"
   ]
  },
  {
   "cell_type": "code",
   "execution_count": 33,
   "metadata": {},
   "outputs": [],
   "source": [
    "def calc_minV(n,s,output=False):\n",
    "    if output:\n",
    "        print(\"Perfect answers:\")\n",
    "    ans = len(s)\n",
    "    for cas in range(1<<n):\n",
    "        penalty = 0\n",
    "        for l in s:\n",
    "            satsfied = False\n",
    "            for x in l:\n",
    "                if x < n and cas & (1<<x) != 0 :\n",
    "                    satsfied = True\n",
    "                if x >= n and cas & (1<<(x-n)) == 0 :\n",
    "                    satsfied = True\n",
    "            if not satsfied :\n",
    "                penalty += 1\n",
    "        if penalty == 0 and output:\n",
    "            print(\"  {:0>6}\".format(str(bin(cas))[2:]))\n",
    "        ans = min(ans, penalty)\n",
    "    return ans"
   ]
  },
  {
   "cell_type": "markdown",
   "metadata": {},
   "source": [
    "## 搭建量子参数线路\n",
    "\n",
    "这里我们采用量子绝热近似算法，经过演化将量子态从 $X^{\\otimes n}$ 的本征态 $|+\\rangle ^{\\otimes n} $ 演化到合取范式对应哈密尔顿量的基态。\n",
    "\n",
    "深度为 p 的线路将有 2p 个参数待优化。"
   ]
  },
  {
   "cell_type": "code",
   "execution_count": 58,
   "metadata": {},
   "outputs": [],
   "source": [
    "def build_ansatz(n,s,p):\n",
    "    c = UN(H, n)                  # 将|0>生成均匀态\n",
    "    for i in range(p):\n",
    "        c += build_Ug(n, s, i)    # 搭建对应哈密顿量的含时演化线路\n",
    "        c += build_Ub(n, i)       # 搭建 X^n 的含时演化线路\n",
    "    return c"
   ]
  },
  {
   "cell_type": "markdown",
   "metadata": {},
   "source": [
    "### 搭建对应哈密顿量的含时演化线路："
   ]
  },
  {
   "cell_type": "code",
   "execution_count": 14,
   "metadata": {},
   "outputs": [],
   "source": [
    "def build_Ug(n,s,d,k=3):\n",
    "    gd = f'g{d}'\n",
    "    c = Circuit()\n",
    "    for l in s:\n",
    "        # 0 ~ n-1  means penalty on 0 (needed flipping)\n",
    "        # n ~ 2n-1 means penalty on 1\n",
    "        for x in l:\n",
    "            if x < n:\n",
    "                c += X.on(x)\n",
    "        ll = [x%n for x in l]\n",
    "        for j in range(k):\n",
    "            c += RZ(PR({gd: 0.5**j})).on(ll[k-1-j], ll[:k-1-j])\n",
    "        for x in l:\n",
    "            if x < n:\n",
    "                c += X.on(x)\n",
    "    return c"
   ]
  },
  {
   "cell_type": "markdown",
   "metadata": {},
   "source": [
    "### 搭建 $X^{\\otimes n}$ 的含时演化线路："
   ]
  },
  {
   "cell_type": "code",
   "execution_count": 15,
   "metadata": {},
   "outputs": [],
   "source": [
    "def build_Ub(n,d):\n",
    "    bd = f'b{d}'\n",
    "    c = Circuit()\n",
    "    for i in range(n):\n",
    "        c += RX(bd).on(i)\n",
    "    return c"
   ]
  },
  {
   "cell_type": "markdown",
   "metadata": {},
   "source": [
    "## 构建对应的哈密顿量"
   ]
  },
  {
   "cell_type": "code",
   "execution_count": 16,
   "metadata": {},
   "outputs": [],
   "source": [
    "def build_ham(n,s):\n",
    "    ham = QubitOperator()\n",
    "    for l in s:\n",
    "        mono = QubitOperator('')\n",
    "        for x in l:\n",
    "            mono *= (QubitOperator('') + QubitOperator(f'Z{x%n}', (-1)**(x//n))) / 2\n",
    "        ham += mono\n",
    "    return ham"
   ]
  },
  {
   "cell_type": "markdown",
   "metadata": {},
   "source": [
    "## 搭建待训练的神经网络\n",
    "由于该问题不需要编码层量子线路，我们这里使用MindQuantumAnsatzOnlyLayer作为待训练的量子神经网络，并采用Adam优化器。\n",
    "\n",
    "以下使用深度 p=15 ，变量数 n=6 ，析取子句数 m=25 时的情况作为演示实例，随机种子依复现要求设置为 42。"
   ]
  },
  {
   "cell_type": "code",
   "execution_count": 75,
   "metadata": {},
   "outputs": [
    {
     "name": "stdout",
     "output_type": "stream",
     "text": [
      "s= [(11, 0, 4), (7, 0, 4), (0, 1, 10), (1, 3, 8), (2, 11, 1), (6, 9, 11), (6, 3, 11), (5, 4, 2), (5, 1, 2), (9, 2, 11), (2, 1, 5), (7, 3, 10), (6, 7, 11), (0, 7, 8), (11, 3, 1), (11, 10, 8), (1, 5, 3), (1, 11, 9), (4, 3, 8), (11, 8, 0), (3, 0, 8), (5, 10, 1), (10, 11, 0), (0, 2, 4), (10, 0, 5)]\n",
      "Perfect answers:\n",
      "  001100\n",
      "  001101\n",
      "  001111\n",
      "  011011\n",
      "  011111\n"
     ]
    }
   ],
   "source": [
    "random.seed(42)\n",
    "p = 15\n",
    "n = 6\n",
    "m = 25\n",
    "s = random_clauses(n, m)\n",
    "print(\"s=\",s)\n",
    "minV = calc_minV(n, s, True)\n",
    "ham = Hamiltonian(build_ham(n, s))\n",
    "circ = build_ansatz(n, s, p)\n",
    "ms.context.set_context(mode=ms.context.PYNATIVE_MODE, device_target=\"CPU\")\n",
    "sim = Simulator('projectq', n)\n",
    "grad_ops = sim.get_expectation_with_grad(ham, circ)"
   ]
  },
  {
   "cell_type": "markdown",
   "metadata": {},
   "source": [
    "## 对神经网络进行训练\n",
    "\n",
    "### 使得训练次数与线路深度 p 成正比的训练方案："
   ]
  },
  {
   "cell_type": "code",
   "execution_count": 73,
   "metadata": {},
   "outputs": [
    {
     "name": "stdout",
     "output_type": "stream",
     "text": [
      "error = 3.1566641330718994\n",
      "error = 2.080200672149658\n",
      "error = 1.3777921199798584\n",
      "error = 0.8590614795684814\n",
      "error = 0.5004525780677795\n",
      "error = 0.43482935428619385\n",
      "error = 0.42817422747612\n",
      "error = 0.2734748423099518\n",
      "error = 0.2266005128622055\n",
      "error = 0.1721234917640686\n",
      "error = 0.08629684150218964\n",
      "error = 0.04006052017211914\n",
      "error = 0.04006052017211914\n",
      "error = 0.04006052017211914\n",
      "error = 0.04006052017211914\n",
      "error = 0.04006052017211914\n",
      "error = 0.04006052017211914\n",
      "\n",
      "The Best Parameters:\n",
      "(-0.0002232864960239241-0.0015385924873539366j)¦000000⟩\n",
      "(-0.001760756250127073-0.0011578729419808526j)¦000001⟩\n",
      "(-0.0027023932455990797+0.006073548315306058j)¦000010⟩\n",
      "(-0.007737590625670907-0.00014342224487586629j)¦000011⟩\n",
      "(-0.00471194647067541-0.004137040697864041j)¦000100⟩\n",
      "(0.015418069961809042+0.009980858374662817j)¦000101⟩\n",
      "(-0.0043835304422841555+0.0009736368769231503j)¦000110⟩\n",
      "(-0.02422012035870641+0.010923092959988398j)¦000111⟩\n",
      "(-0.0011582947633143876+0.0014200488977084403j)¦001000⟩\n",
      "(0.023896487921249532+0.014355300565091815j)¦001001⟩\n",
      "(0.0024061653796571083+0.007486215471297692j)¦001010⟩\n",
      "(-0.02648026551664026+0.017081637321030307j)¦001011⟩\n",
      "(-0.18821970668499385+0.06266715486167806j)¦001100⟩\n",
      "(-0.42349035350547876+0.08091277482145035j)¦001101⟩\n",
      "(-0.013628066692002727+0.03535609276120507j)¦001110⟩\n",
      "(-0.5613429493614893+0.142676774870642j)¦001111⟩\n",
      "(-0.0003240481757617187-0.0010323062645536457j)¦010000⟩\n",
      "(-0.001965098933521699-0.0006914636005880648j)¦010001⟩\n",
      "(0.0255994604027316-0.0001961469422330318j)¦010010⟩\n",
      "(0.02058029496028615-0.02127191597783048j)¦010011⟩\n",
      "(0.0006799740993496537+0.0003815903669710735j)¦010100⟩\n",
      "(0.0030312649961307947+0.01110084817091571j)¦010101⟩\n",
      "(-0.0027434392917287153+0.002222156121580357j)¦010110⟩\n",
      "(0.031160545256029914+0.013969493882751614j)¦010111⟩\n",
      "(0.0029421615969291628+0.00019227089486057464j)¦011000⟩\n",
      "(0.019841351919604178+0.01416750327024876j)¦011001⟩\n",
      "(0.013653217086818147-0.012902389469295387j)¦011010⟩\n",
      "(-0.25375801113644203+0.18267780544922899j)¦011011⟩\n",
      "(0.006721174273153935+0.0033305312552088556j)¦011100⟩\n",
      "(-0.013734703044429211+0.02316220152074938j)¦011101⟩\n",
      "(-0.02291064526821271+0.03343746601459138j)¦011110⟩\n",
      "(-0.5561064559883575+0.11846817368789576j)¦011111⟩\n",
      "(-0.001798796480354029-0.0012811517691447988j)¦100000⟩\n",
      "(-0.014582742551874295+0.015893176958240225j)¦100001⟩\n",
      "(0.0002345644529613945+0.008886699526032762j)¦100010⟩\n",
      "(0.021382214508057152-0.005465922359238421j)¦100011⟩\n",
      "(-0.00041808797822351823+0.0013182142505291491j)¦100100⟩\n",
      "(-0.0003719542334815781+0.0006576195654167824j)¦100101⟩\n",
      "(7.369920325302221e-05+0.0008438030397953024j)¦100110⟩\n",
      "(0.0007247971701436426+0.0012104001866541892j)¦100111⟩\n",
      "(0.00023533992822566234-0.0007863654703126802j)¦101000⟩\n",
      "(0.0022843831445855593-0.0012927862643658035j)¦101001⟩\n",
      "(0.00029226948725216055-0.0007950833326834631j)¦101010⟩\n",
      "(-5.35507466290395e-05+0.00873869394987172j)¦101011⟩\n",
      "(0.005678705486083472+0.004755311843776998j)¦101100⟩\n",
      "(-0.0043280906800509415+0.0438171506369721j)¦101101⟩\n",
      "(0.0034827216705576244-0.0025469189629688874j)¦101110⟩\n",
      "(-0.0022266726426365927+0.007287161165862926j)¦101111⟩\n",
      "(0.004263375101706925+0.00143357445330857j)¦110000⟩\n",
      "(-0.0148728196452101+0.014263092698018762j)¦110001⟩\n",
      "(0.04334210731247226+0.013546166258725989j)¦110010⟩\n",
      "(-0.007153507426169836-0.00038514962263070133j)¦110011⟩\n",
      "(-0.0004995213851549088+0.0001782255498259773j)¦110100⟩\n",
      "(-0.00035878913766759074-0.0007948384894700696j)¦110101⟩\n",
      "(0.00023210199344026093+0.0006358133722921475j)¦110110⟩\n",
      "(0.002061397545490532-0.0006850194483123975j)¦110111⟩\n",
      "(-0.0008703299577477309-0.00036789005503112273j)¦111000⟩\n",
      "(2.606600795843444e-05-0.0027988235253136517j)¦111001⟩\n",
      "(0.02993716034056753-0.004726400015543897j)¦111010⟩\n",
      "(0.010297612221177331+0.0074842756821404816j)¦111011⟩\n",
      "(-0.00021689296465534865-0.0009482974778705631j)¦111100⟩\n",
      "(-0.0026724828998558455+0.009601279290087937j)¦111101⟩\n",
      "(0.002816122338968517-0.002149819883186587j)¦111110⟩\n",
      "(0.014037444131890685+0.01912205744690598j)¦111111⟩\n"
     ]
    }
   ],
   "source": [
    "net = MQAnsatzOnlyLayer(grad_ops)\n",
    "opti = nn.Adam(net.trainable_params(), learning_rate=0.05)\n",
    "train_net = nn.TrainOneStepCell(net, opti)\n",
    "err = train_net().asnumpy()[0]\n",
    "for __ in range(p//2):\n",
    "    err = min(err, train_net().asnumpy()[0])\n",
    "    print(\"error =\", err-minV)\n",
    "err -= minV\n",
    "pr = dict(zip(circ.params_name, net.weight.asnumpy()))\n",
    "state = circ.get_qs(pr=pr, ket=True)\n",
    "print(\"\\nThe Best Parameters:\", state, sep='\\n')"
   ]
  },
  {
   "cell_type": "markdown",
   "metadata": {},
   "source": [
    "### 不断训练直至收敛的训练方案："
   ]
  },
  {
   "cell_type": "code",
   "execution_count": 76,
   "metadata": {},
   "outputs": [
    {
     "name": "stdout",
     "output_type": "stream",
     "text": [
      "error = 3.0997886657714844\n",
      "error = 1.7768073081970215\n",
      "error = 0.9579329490661621\n",
      "error = 0.7789285778999329\n",
      "error = 0.590986967086792\n",
      "error = 0.44651567935943604\n",
      "error = 0.5656439661979675\n",
      "error = 0.6658723950386047\n",
      "error = 0.5618870258331299\n",
      "error = 0.3691481649875641\n",
      "error = 0.2382146716117859\n",
      "error = 0.22947584092617035\n",
      "error = 0.2910366356372833\n",
      "error = 0.3402044177055359\n",
      "error = 0.3378738462924957\n",
      "error = 0.28799620270729065\n",
      "error = 0.21577765047550201\n",
      "error = 0.15298902988433838\n",
      "error = 0.12053071707487106\n",
      "error = 0.11361155658960342\n",
      "error = 0.11411259323358536\n",
      "error = 0.11461804062128067\n",
      "error = 0.11981812119483948\n",
      "error = 0.13148880004882812\n",
      "error = 0.14080172777175903\n",
      "error = 0.13648423552513123\n",
      "error = 0.11666066199541092\n",
      "error = 0.09055723994970322\n",
      "error = 0.070519357919693\n",
      "error = 0.0631847083568573\n",
      "error = 0.06675325334072113\n",
      "error = 0.0739181712269783\n",
      "error = 0.07665042579174042\n",
      "error = 0.07098031789064407\n",
      "error = 0.059435684233903885\n",
      "error = 0.04860007017850876\n",
      "error = 0.04365265741944313\n",
      "error = 0.04490301385521889\n",
      "error = 0.04882988706231117\n",
      "error = 0.051520053297281265\n",
      "error = 0.051085568964481354\n",
      "error = 0.04786325618624687\n",
      "error = 0.04335177317261696\n",
      "\n",
      "The Best Parameters:\n",
      "(0.0017354870794058063-0.0013199698982077996j)¦000000⟩\n",
      "(-0.0006627080849845541-0.0008887337351071276j)¦000001⟩\n",
      "(0.0019022004437233729-0.0014602708685467732j)¦000010⟩\n",
      "(0.03689616913133224-0.04297025495885184j)¦000011⟩\n",
      "(-0.00029803200237861564-0.014398359852950744j)¦000100⟩\n",
      "(-0.004572933149615395+0.006834088653783005j)¦000101⟩\n",
      "(0.00606239816006588-0.0021775110151062067j)¦000110⟩\n",
      "(-0.0012204955414373807-0.0499260694300496j)¦000111⟩\n",
      "(0.0024244446088277386-0.005725419254367156j)¦001000⟩\n",
      "(-0.003699478265809057+0.014040829289577991j)¦001001⟩\n",
      "(0.0017522522044328016+0.0019725225367410327j)¦001010⟩\n",
      "(-0.026278296253431706-0.004758679388090271j)¦001011⟩\n",
      "(-0.09007650428428544+0.07029531390134404j)¦001100⟩\n",
      "(-0.24196885792583234+0.2290307222551912j)¦001101⟩\n",
      "(-0.011511585598736851+0.023666961627332776j)¦001110⟩\n",
      "(-0.4591415611920057+0.2832128364535985j)¦001111⟩\n",
      "(0.0007630051774706907+0.0011416615761083598j)¦010000⟩\n",
      "(0.0004065236428610361+0.002306072673373885j)¦010001⟩\n",
      "(-0.008231982186929528-0.011619584863041457j)¦010010⟩\n",
      "(-0.0104872079373414-0.04419674851290612j)¦010011⟩\n",
      "(0.0008370294607968664+0.001240373415933997j)¦010100⟩\n",
      "(-0.00345317342065203+0.0038944777461130133j)¦010101⟩\n",
      "(0.013214579039771204+0.0014791740950616077j)¦010110⟩\n",
      "(-0.023568652233390615-0.042794719376313184j)¦010111⟩\n",
      "(-0.000961971730342817-0.0033518648996845924j)¦011000⟩\n",
      "(-0.01270982578345634+0.007702260656530146j)¦011001⟩\n",
      "(-0.0223503835906173+0.015706582199149714j)¦011010⟩\n",
      "(-0.3765800475688539+0.1322500613049421j)¦011011⟩\n",
      "(-0.012681087328585512+0.001456900902672161j)¦011100⟩\n",
      "(-0.06240867768578701+0.024218744656290855j)¦011101⟩\n",
      "(0.0013270298698329634+0.016656743543733137j)¦011110⟩\n",
      "(-0.4975868544920841+0.39036723995024236j)¦011111⟩\n",
      "(-0.0028452946470560515-0.0069418838690602155j)¦100000⟩\n",
      "(0.012001283815397185-0.006519314722902045j)¦100001⟩\n",
      "(0.010427705036401214-0.008515023162775167j)¦100010⟩\n",
      "(0.015731053457644216-0.04219996603136816j)¦100011⟩\n",
      "(0.0025828657565821313+0.0032721075242612358j)¦100100⟩\n",
      "(-0.002446607063726934-0.003923591031232971j)¦100101⟩\n",
      "(0.002201417716659535+0.00420361641093534j)¦100110⟩\n",
      "(-0.0005420873136185718-0.005106963768250029j)¦100111⟩\n",
      "(-0.0005214447057556571-0.00042828815229025157j)¦101000⟩\n",
      "(-0.009623487307626351+0.0014854062798603615j)¦101001⟩\n",
      "(0.0034709613713668325-0.0038106837208803216j)¦101010⟩\n",
      "(0.009843691922233512-0.0024263200627982267j)¦101011⟩\n",
      "(-0.0025256884951856923+0.005477568280532881j)¦101100⟩\n",
      "(-0.012232311533911931-0.015675949716787242j)¦101101⟩\n",
      "(-0.0032566353926123588+0.006862238116851999j)¦101110⟩\n",
      "(-0.0008270953974848252-0.027560066876610972j)¦101111⟩\n",
      "(0.0017269662481951382+0.003245042529738581j)¦110000⟩\n",
      "(0.011937492695289483+0.0016064546105293452j)¦110001⟩\n",
      "(-0.0019588126804822156-0.03338549880242911j)¦110010⟩\n",
      "(0.003999363745740911+0.00522030101539823j)¦110011⟩\n",
      "(-0.001116192233182167+0.0010507563493182394j)¦110100⟩\n",
      "(0.0013984582943753726-0.0014892026981285515j)¦110101⟩\n",
      "(0.0012626189635475528+0.0036527155336590162j)¦110110⟩\n",
      "(0.0010341530476391976+0.0030116140249293387j)¦110111⟩\n",
      "(-0.0032424290161800528-6.444231748266267e-05j)¦111000⟩\n",
      "(-0.0044235379996391995-0.0005799597557303381j)¦111001⟩\n",
      "(0.006399730331551241-0.03377298834279262j)¦111010⟩\n",
      "(0.004659195950796335+0.011627548980829693j)¦111011⟩\n",
      "(-0.001479157951887138+0.00200990206194356j)¦111100⟩\n",
      "(0.01058531549647264+0.01379314682650589j)¦111101⟩\n",
      "(-0.005983401807597686+0.0012159945614146964j)¦111110⟩\n",
      "(0.0027921255175355824+0.009383127241757766j)¦111111⟩\n"
     ]
    }
   ],
   "source": [
    "net = MQAnsatzOnlyLayer(grad_ops)\n",
    "opti = nn.Adam(net.trainable_params(), learning_rate=0.05)\n",
    "train_net = nn.TrainOneStepCell(net, opti)\n",
    "lst = train_net().asnumpy()[0]\n",
    "while True:\n",
    "    err = train_net().asnumpy()[0]\n",
    "    print(\"error =\", err-minV)\n",
    "    if lst > err and lst - err < 0.001 :\n",
    "        break\n",
    "    lst = min(lst, err)\n",
    "err -= minV\n",
    "pr = dict(zip(circ.params_name, net.weight.asnumpy()))\n",
    "state = circ.get_qs(pr=pr, ket=True)\n",
    "print(\"\\nThe Best Parameters:\", state, sep='\\n')"
   ]
  },
  {
   "cell_type": "markdown",
   "metadata": {},
   "source": [
    "## 对最终结果作图验证"
   ]
  },
  {
   "cell_type": "code",
   "execution_count": 68,
   "metadata": {},
   "outputs": [
    {
     "name": "stdout",
     "output_type": "stream",
     "text": [
      "\n",
      "The largest amplitude is on |011111>\n",
      "\n"
     ]
    },
    {
     "data": {
      "image/png": "[encoded data removed]",
      "text/plain": [
       "<Figure size 640x480 with 1 Axes>"
      ]
     },
     "metadata": {},
     "output_type": "display_data"
    }
   ],
   "source": [
    "import matplotlib.pyplot as plt\n",
    "def show_amp(amp):\n",
    "    n_qubits = int(np.log2(len(amp)))\n",
    "    labels = [bin(i)[2:].zfill(n_qubits) for i in range(len(amp))]\n",
    "    plt.bar(labels, amp)\n",
    "    plt.xticks(rotation=45)\n",
    "    plt.show()\n",
    "\n",
    "state = circ.get_qs(pr=pr)\n",
    "amp = np.abs(state)**2\n",
    "print(f\"\\nThe largest amplitude is on |{bin(np.argmax(amp))[2:]:0>6}>\\n\")\n",
    "show_amp(amp)"
   ]
  },
  {
   "cell_type": "markdown",
   "metadata": {},
   "source": [
    "# 统计结果\n",
    "\n",
    "原文章中其实并未提及其 QAOA 具体实现细节，因此在本次复现过程中，笔者尝试了四种迭代调用神经网络的方案：\n",
    "\n",
    "### 固定地调用一定次数\n",
    "\n",
    "由于更深的电路有更多的参数待优化，因此适合较浅电路的迭代次数并不适合较深电路，会导致较深电路由于未开始收敛而表现较差，没有研究意义。由于在笔者采样初期便发现了这一情况，故没有消耗算力将具体图像做出。\n",
    "\n"
   ]
  },
  {
   "cell_type": "markdown",
   "metadata": {},
   "source": [
    "### 调用次数与电路深度 p 正比例相关（`max_3_sat_p.py`）\n",
    "\n",
    "由于更深的电路有更多的参数待优化，因此应该也需要更多的迭代次数才能收敛。\n",
    "\n",
    "当调用次数为 $\\lceil \\frac{p}2 \\rceil$ 时，对每组 (p,n,m) 随机取样 100 次得到的误差棒图如下："
   ]
  },
  {
   "cell_type": "code",
   "execution_count": 1,
   "metadata": {},
   "outputs": [
    {
     "data": {
      "image/png": "[encoded data removed]",
      "text/plain": [
       "<Figure size 640x480 with 1 Axes>"
      ]
     },
     "metadata": {},
     "output_type": "display_data"
    }
   ],
   "source": [
    "from src.show import show_all_p\n",
    "show_all_p()"
   ]
  },
  {
   "cell_type": "markdown",
   "metadata": {},
   "source": [
    "本图是与论文原文最接近的一张图。\n",
    "\n",
    "可以看出，**随着子句密度的增加，三种电路深度的 QAOA 与标准答案的误差值均在增加，且与子句密度 α 的依赖关系并不平凡**。\n",
    "\n",
    "同时，在此图中也可以看出，**电路深度的增加有助于减少误差值，得到更接近实际最优值的答案**。\n",
    "\n",
    "\n",
    "### 调用次数与电路深度 p 和子句密度 α 均正相关（`max_3_sat_pa.py`）\n",
    "\n",
    "由于 α 表征了解决问题的难度，即 α 越大，在解空间中寻找最优解越难，因此笔者也尝试了将 α 考虑进迭代次数。\n",
    "\n",
    "当 α 取值从 0 到 10 变化时，希望其迭代次数在 $\\lceil \\frac p2 \\rceil$ 基础上乘以一个从 1 到 1.5 变化的因子，\n",
    "此时调用次数为 $ \\lceil \\frac p2 \\times (1+ \\frac{\\alpha}{20})\\rceil$ 。\n",
    "\n",
    "对每组 (p,n,m) 随机取样 100 次得到的误差棒图如下："
   ]
  },
  {
   "cell_type": "code",
   "execution_count": 1,
   "metadata": {},
   "outputs": [
    {
     "data": {
      "image/png": "[encoded data removed]",
      "text/plain": [
       "<Figure size 640x480 with 1 Axes>"
      ]
     },
     "metadata": {},
     "output_type": "display_data"
    }
   ],
   "source": [
    "from src.show import show_all_pa\n",
    "show_all_pa()"
   ]
  },
  {
   "cell_type": "markdown",
   "metadata": {},
   "source": [
    "在本图中，对于固定深度的 QAOA 电路，其误差值随子句密度的变化较前一种方案更为波动。\n",
    "\n",
    "但依然可以看出，**电路深度的增加有助于减少误差值，得到更接近实际最优值的答案**。"
   ]
  },
  {
   "cell_type": "markdown",
   "metadata": {},
   "source": [
    "### 不断训练直至收敛（`max_3_sat_conv.py`）\n",
    "\n",
    "如前文实例代码所示，此种方案通常需要较多的迭代次数，实在过于消耗算力（估计全部采样完成需要上百小时），因此没有具体对所有 (p,n,m) 均做 100 次采样。但就笔者对部分 m 的取值采样结果来看，电路深度对最佳可能近似值的影响非常小，猜测或许是由于该哈密顿算子作为对角矩阵所具有的线性性质导致。\n",
    "\n",
    "在此种方案下，**结果误差远小于原论文中误差**，并且能够全部小于 1。"
   ]
  },
  {
   "cell_type": "code",
   "execution_count": 2,
   "metadata": {},
   "outputs": [
    {
     "data": {
      "image/png": "[encoded data removed]",
      "text/plain": [
       "<Figure size 640x480 with 1 Axes>"
      ]
     },
     "metadata": {},
     "output_type": "display_data"
    }
   ],
   "source": [
    "from src.show import show_all_conv\n",
    "show_all_conv()"
   ]
  },
  {
   "cell_type": "markdown",
   "metadata": {},
   "source": [
    "# 总结\n",
    "\n",
    "本次复现中，不仅达到了与论文原图较为贴近的效果，还同时设计了多种迭代方案也得到了相近的结论。另外，笔者认为，由于我们的 Max-SAT 问题背景已经决定了**最优结果必为整数**，所以在此先验知识下，调用者完全可以采用 QAOA 优化得到的最优值向下取整作为实际答案。若采用`max_3_sat_conv.py`迭代直至收敛的方案，则在取样中 QAOA 优化得到的最优值与实际最优值之差**完全小于 1** ，即向下取整完全可以得到正确答案，相比原论文中误差可能大于 1 的情形，其优化效果是从量变到质变的。"
   ]
  }
 ],
 "metadata": {
  "kernelspec": {
   "display_name": "MindQuantum",
   "language": "python",
   "name": "mindquantum"
  },
  "language_info": {
   "codemirror_mode": {
    "name": "ipython",
    "version": 3
   },
   "file_extension": ".py",
   "mimetype": "text/x-python",
   "name": "python",
   "nbconvert_exporter": "python",
   "pygments_lexer": "ipython3",
   "version": "3.7.10"
  }
 },
 "nbformat": 4,
 "nbformat_minor": 4
}
