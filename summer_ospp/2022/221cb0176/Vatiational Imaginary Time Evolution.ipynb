{
    "cells": [
        {
            "cell_type": "markdown",
            "metadata": {},
            "source": [
                "### 2022 开源之夏MindSpore任务结项报告\n",
                "\n",
                "#### 1.项目基本信息\n",
                "+ 项目名称：基于昇思MindQuantum，实现量子虚时演化算法\n",
                "+ 项目编号：221cb0176\n",
                "+ 项目主导师：谢晴兴 <634436649@qq.com>\n",
                "+ 项目承接人：储贻达 <chu_yi_da@163.com>\n",
                "+ 项目难度：进阶\n",
                "+ 项目要求：1. 实现变分线路参数的量子虚时演化算法，用于求解分子体系的基态能 2. 探索其它形式的量子虚时演化算法 3. 实现相关功能，相关评估指标符合要求，代码合入社区\n",
                "+ 项目技术要求：深度学习，python，量子计算，MindSpore"
            ]
        },
        {
            "cell_type": "markdown",
            "metadata": {},
            "source": [
                "---"
            ]
        },
        {
            "cell_type": "markdown",
            "metadata": {},
            "source": [
                "#### 2.项目基本原理描述"
            ]
        },
        {
            "cell_type": "markdown",
            "metadata": {},
            "source": [
                "#### (1). 摘要"
            ]
        },
        {
            "cell_type": "markdown",
            "metadata": {},
            "source": [
                "Imaginary time evolution is a powerful tool for studying quantum systems. While it is possible to simulate with a classical computer,the time and memory requirements generally scale exponentially with the system size. Conversely, quantum computers can\n",
                "efficiently simulate quantum systems, but not non-unitary imaginary time evolution. So in this year's Open Source Promotion Plan, we think about wheter this imaginary time evolution algorithm can be accomplished by quantum computer. In fact, there have been some studies in this area that have given some solutions. For example, in this artical [Motta, Mario, et al.Nature Physics 16.2 (2020): 205-210], an algorithm is proposed to make this non-unitary evolution possible in quantum circuits, which is called the QITE(Qauntum Imaginary Time Evolution) algorithm. In addition to this, other methods are also proposed in another article [McArdle, Sam, et al.npj Quantum Information 5.1 (2019): 1-6.]. Different from the former approach, McArdle, Sam, et al. pointed out that a variational algorithm enables quantum circuits to simulate the process of imagnary time evolution, which is called the VITE(Variational quantum Imaginary Time Evolution) algorithm. And the effect of the algorithm on solving the ground state energy of the molecular system is shown in the article. In addition, we also found that the VITE algorithm is very suitable to be implemented with the Mindspore quantum[] library. Therefore, in this Open Source Promotion Plan project, we refer to the principle of this article, and think about how to use the MindSpore quantum library to complete this VITE algorithm and verify its effectiveness. And on this basis, the algorithm program is used to solve the ground state energy of some more complex molecular systems. Finally, we also explore the performance of this algorithm in the presence of quantum noise."
            ]
        },
        {
            "cell_type": "markdown",
            "metadata": {},
            "source": [
                "#### (2). 理论概述"
            ]
        },
        {
            "cell_type": "markdown",
            "metadata": {},
            "source": [
                "In a quantum many-body systems that are described by Hamiltonian $H$, if given an initial state $| \\psi \\rangle$, the normalised imaginary time evolution is defined by \n",
                "$$| \\psi (\\tau) \\rangle  = A(\\tau) e^{-H \\tau} | \\psi (0) \\rangle$$\n",
                "where the $A(\\tau) = 1/ \\sqrt{\\langle \\psi(0)| e^{-2H\\tau}| \\psi(0) \\rangle}$ is a normalisation factor. And when the initial state has a non-zero overlap with the ground state, the state at $\\tau \\to \\infty$ is the ground state of $H$. It is precisely because this principle that we can choose the appropriate initial state to obtain the ground state of a quantum system by imaginary time evolution."
            ]
        },
        {
            "cell_type": "markdown",
            "metadata": {},
            "source": [
                "In variational method, we can approximate the evolution state using a parametrised trial state $| \\phi (\\vec{\\theta}(\\tau)) \\rangle$, with $\\vec{\\theta}(\\tau) = ( \\theta_1(\\tau), \\theta_2(\\tau),\\ldots, \\theta_N(\\tau) )$. And using the quantum circuit, we can prepare the trial state $| \\phi (\\vec{\\theta}) \\rangle$ by applying a sequence of parametrised unitary gates,\n",
                "$$ V(\\vec{\\theta}) = U_N(\\theta_N) \\ldots U_k(\\theta_k) \\ldots U_1(\\theta_1) $$\n",
                "to the initial state $|\\bar{0} \\rangle$. We express this as $|\\phi(\\vec{\\theta}) \\rangle = V(\\vec{\\theta}) | \\bar{0} \\rangle$ and remark that $V(\\vec{\\theta})$ is also referred to as the ansatz."
            ]
        },
        {
            "cell_type": "markdown",
            "metadata": {},
            "source": [
                "And in this artical it's pointed that we can use the McLachlan's variational principle to simulate the imaginary time evolution of the trial state:\n",
                "$$ \\delta || \\left( \\partial/\\partial \\tau + H - E_{\\tau} \\right) | \\psi(\\tau) \\rangle || = 0$$\n",
                "where the $|| \\rho || = Tr \\left[ \\sqrt{\\rho \\rho^{\\dagger}} \\right]$ denotes the trace norm of a state and $E_{\\tau} = \\langle \\psi{\\tau} | H | \\psi{\\tau} \\rangle$. So we can use this variational principle by replacing the $| \\psi (\\tau) \\rangle$ with $| \\phi (\\tau) \\rangle = | \\phi (\\vec{\\theta}(\\tau))$."
            ]
        },
        {
            "cell_type": "markdown",
            "metadata": {},
            "source": [
                "So we can get\n",
                "$$ \n",
                "\\begin{align}\n",
                "|| \\partial/ \\partial \\tau + H - E_{\\tau} | \\psi(\\tau) \\rangle || \n",
                "& = \n",
                "\\left( (\\partial/\\partial \\tau + H - E_{\\tau}) | \\psi(\\tau) \\rangle \\right)^{\\dagger}\n",
                "\\left( (\\partial/\\partial \\tau + H - E_{\\tau}) | \\psi(\\tau) \\rangle \\right) \\\\ \n",
                "& = \n",
                "\\sum_{i,j} \\frac{\\partial \\langle \\phi (\\tau) |}{\\partial \\theta_i} \\frac{\\partial | \\phi (\\tau) \\rangle}{\\partial \\theta_j} \\dot{\\theta_i} \\dot{\\theta_j} + \\sum_{i} \\frac{\\partial \\langle \\phi(\\tau)|}{\\partial \\theta_i} \\left( H - E_{\\tau} \\right) | \\phi(\\tau)\\rangle \\dot{\\theta_i} \\\\\n",
                "& = \n",
                "\\sum_{i} \\langle \\phi(\\tau)| (H - E_\\tau) \\frac{\\partial | \\phi (\\tau)\\rangle}{\\partial \\theta_i} \\dot{\\theta_i} \n",
                "+ \\langle \\phi(\\tau)| \\left( H - E_\\tau \\right)^2 | \\phi(\\tau)\\rangle.\n",
                "\\end{align}\n",
                "$$\n",
                "Focusing on $\\dot{\\theta_i}$, we obtain \n",
                "$$ \n",
                "\\begin{align}\n",
                "\\frac{(\\partial || \\partial / \\partial \\tau + H - E_\\tau ) | \\phi(\\tau) \\rangle||}{\\partial \\dot{\\theta_i}}\n",
                "& = \\sum_{j} \\left( \\frac{\\partial \\langle \\phi(\\tau)|}{\\partial \\theta_i} \\frac{\\partial | \\phi (\\tau) \\rangle}{\\partial \\theta_j} + \\frac{\\partial \\langle \\phi (\\tau)|}{\\partial \\theta_j} \\frac{\\partial | \\phi (\\tau) \\rangle}{\\partial \\theta_i} \\right) \\dot{\\theta_j} \\\\\n",
                "& + \\frac{\\partial \\langle \\phi (\\tau)|}{\\partial \\theta_i} (H - E_\\tau)|\\phi(\\tau) \\rangle + \\langle \\phi (\\tau) | (H - E_\\tau) \\frac{\\partial \\phi (\\tau) \\rangle}{\\partial \\theta_i}\n",
                "\\end{align}\n",
                "$$\n",
                "Considering the normalisation condition for the trial state $| \\phi (\\tau) \\rangle$,\n",
                "$$ \\langle \\phi(\\tau)| \\phi(\\tau) \\rangle = 1,$$\n",
                "we have \n",
                "\n",
                "$$\n",
                "E_\\tau \\frac{\\partial \\langle \\phi(\\tau)|\\phi(\\tau)\\rangle}{\\partial \\theta_i}\n",
                "= E_\\tau \\left( \\frac{\\partial \\langle \\phi (\\tau) |}{\\partial \\theta_i} | \\phi(\\tau) \\rangle \n",
                "+ \\langle \\phi(\\tau)| \\frac{\\partial | \\phi (\\tau) \\rangle}{\\partial \\theta_i} \\right) = 0 \n",
                "$$\n",
                "and the derivative is simplified to\n",
                "$$\n",
                "\\frac{\\partial || (\\partial / \\partial \\tau + H - E_\\tau) | \\phi (\\tau) \\rangle ||}{\\partial \\dot{\\theta_i}}\n",
                "= \\sum_{j} A_{ij} \\dot{\\theta}_j - C_i.\n",
                "$$\n",
                "Where\n",
                "$$\n",
                "A_{ij} = \\Re \\left( \\frac{\\partial \\phi(\\tau)|}{\\partial \\theta_i} \\frac{\\partial | \\phi (\\tau) \\rangle}{\\partial \\theta_j}\\right),\n",
                "$$\n",
                "$$\n",
                "C_i = - \\Re \\left( \\frac{\\partial \\langle \\phi (\\tau)|}{\\partial \\theta_i} H | \\phi (\\tau) \\rangle \\right).\n",
                "$$"
            ]
        },
        {
            "cell_type": "markdown",
            "metadata": {},
            "source": [
                "McLachlan's variational principle requires\n",
                "$$\n",
                "\\frac{\\partial || (\\partial / \\partial \\tau + H - E_\\tau)| \\phi(\\tau) \\rangle||}{\\partial \\dot{\\theta}_j} = 0,\n",
                "$$\n",
                "which is equivalent to the differential equation of the parameters\n",
                "$$\n",
                "\\sum_j A_{ij} \\dot{\\theta}_j = C_i\n",
                "$$"
            ]
        },
        {
            "cell_type": "markdown",
            "metadata": {},
            "source": [
                "So far, we use the parameterized ansatz circuit to encode trial quantum state, with the help of the MaLachlan's variational principle, the imaginary time evolution of state can be transformed into the special parameter update method which given in the above formula."
            ]
        },
        {
            "cell_type": "markdown",
            "metadata": {},
            "source": [
                "#### (3).算法初步实现-基于MindSpore quantum"
            ]
        },
        {
            "cell_type": "markdown",
            "metadata": {},
            "source": [
                "Through the above analysis, we know that for a given quantum many-body system, the core part of implementation of the VITE algorithm is the calculation of the $A_ij$ matrix and $C_i$ vector. And the Mindquantum library of version 0.7.0 provides such a port mindquantum.core.circuit.partial_psi_partial_psi(circuit, backend) for Quantum Fisher Information calculation. But we found that this function is equal the calculation of $A_{ij}$ matrix, so it's convenient to get the A matrix. And we can follow the method and idea of this function to create a function to calculate the C vector."
            ]
        },
        {
            "cell_type": "code",
            "execution_count": null,
            "metadata": {},
            "outputs": [],
            "source": [
                "!pip install mindquantum==0.7.0"
            ]
        },
        {
            "cell_type": "code",
            "execution_count": 2,
            "metadata": {},
            "outputs": [],
            "source": [
                "from mindquantum.core.circuit import partial_psi_partial_psi\n",
                "from mindquantum.core.parameterresolver import ParameterResolver\n",
                "from mindquantum.utils.type_value_check import _check_and_generate_pr_type, _check_input_type"
            ]
        },
        {
            "cell_type": "code",
            "execution_count": 3,
            "metadata": {},
            "outputs": [],
            "source": [
                "def pr_converter(pr_map, origin: ParameterResolver):\n",
                "    \"\"\"Convert original parameters to redefined parameters.\"\"\"\n",
                "    part_a = {}\n",
                "    for k, v in pr_map.items():\n",
                "        part_a[k] = v.combination(origin).const\n",
                "    return ParameterResolver(part_a)\n",
                "\n",
                "\n",
                "def apply_gate(sim, gate, g_cpp, pr_cpp, diff):\n",
                "    \"\"\"Apply a gate.\"\"\"\n",
                "    if gate.parameterized:\n",
                "        sim.apply_gate(g_cpp, pr_cpp, diff)\n",
                "    else:\n",
                "        sim.apply_gate(g_cpp)"
            ]
        },
        {
            "cell_type": "code",
            "execution_count": 4,
            "metadata": {},
            "outputs": [],
            "source": [
                "def get_ci_matrix(circuit, backend='mqvector'):\n",
                "    \n",
                "    from mindquantum.simulator import Simulator, inner_product\n",
                "    \n",
                "    _check_input_type('circuit', Circuit, circuit)\n",
                "    circuit = circuit.remove_barrier()\n",
                "    if circuit.has_measure_gate:\n",
                "        raise ValueError(\"circuit can not has measure gate for calculate qfi similar value.\")\n",
                "    if circuit.is_noise_circuit:\n",
                "        raise ValueError(\"circuit can not be noise circuit for calculate qfi similar value.\")\n",
                "    if not circuit.params_name:\n",
                "        raise ValueError(\"circuit need a parameterized quantum circuit, but get non-parameterized one.\")\n",
                "\n",
                "    pure_circ = Circuit()\n",
                "    n_params = 0\n",
                "    jac = {}\n",
                "    pr_map = {}\n",
                "    for gate in circuit:\n",
                "        if gate.parameterized:\n",
                "            n_params += 1\n",
                "            new_p = f'p{n_params}'\n",
                "            pure_circ += gate(ParameterResolver(new_p)).on(gate.obj_qubits, gate.ctrl_qubits)\n",
                "            jac[new_p] = dict(gate.coeff.items())\n",
                "            pr_map[new_p] = gate.coeff\n",
                "        else:\n",
                "            pure_circ += gate\n",
                "    old_idx_map = {p: idx for idx, p in enumerate(circuit.params_name)}\n",
                "    new_idx_map = {p: idx for idx, p in enumerate(pure_circ.params_name)}\n",
                "    tmp = np.zeros((len(new_idx_map), len(old_idx_map)), np.complex128)\n",
                "    for new_p, matrix in jac.items():\n",
                "        for old_p, v in matrix.items():\n",
                "            tmp[new_idx_map[new_p], old_idx_map[old_p]] = v\n",
                "    jac = tmp\n",
                "    cpp_obj = pure_circ.get_cpp_obj()\n",
                "    c_len = len(pure_circ)\n",
                "    ket = Simulator(backend, pure_circ.n_qubits)\n",
                "    \n",
                "    def diff_ci_ops(pr, hamiltonian):\n",
                "        pr = _check_and_generate_pr_type(pr, circuit.params_name)\n",
                "        ket.reset()\n",
                "        pr_cpp = pr_converter(pr_map, pr).get_cpp_obj()\n",
                "        \n",
                "        part_b = np.zeros(len(new_idx_map), np.complex128)\n",
                "        \n",
                "        ket.apply_circuit(circuit, pr)\n",
                "        ket.apply_hamiltonian(hamiltonian)\n",
                "        bra = Simulator(backend, pure_circ.n_qubits)\n",
                "        \n",
                "        for i in range(c_len):\n",
                "            gate = pure_circ[i]\n",
                "            g_cpp = cpp_obj[i]\n",
                "            \n",
                "            if gate.parameterized:\n",
                "                idx_i = new_idx_map[gate.coeff.params_name[0]]\n",
                "                bra_tmp = bra.copy()\n",
                "                bra_tmp.sim.apply_gate(g_cpp, pr_cpp, True)\n",
                "                bra.sim.apply_gate(g_cpp, pr_cpp, False)\n",
                "                \n",
                "                for j in range(i + 1, c_len):\n",
                "                    gate_j = pure_circ[j]\n",
                "                    g_cpp_j = cpp_obj[j]\n",
                "                    \n",
                "                    if gate_j.parameterized:\n",
                "                        bra_tmp.sim.apply_gate(g_cpp_j, pr_cpp, False)\n",
                "                    else:\n",
                "                        bra_tmp.sim.apply_gate(g_cpp_j)\n",
                "                        \n",
                "                part_b[idx_i] = inner_product(bra_tmp, ket)\n",
                "                \n",
                "            else:\n",
                "                bra.sim.apply_gate(g_cpp)    \n",
                "            bra.flush()\n",
                "            \n",
                "            second_part = jac.T @ part_b\n",
                "            \n",
                "        return second_part\n",
                "   \n",
                "    return diff_ci_ops"
            ]
        },
        {
            "cell_type": "markdown",
            "metadata": {},
            "source": [
                "So we can use these two main functions to get the $A_{ij}$ and $C_i$. Then we need to calculate the inverse of $A_{ij}$ to update the parameters of ansatz circuit. But the $A_{ij}$ is not always an invertible matrix, so here we use the SVD decomposition to approximate the inverse matrix of $A_{ij}$ in this case."
            ]
        },
        {
            "cell_type": "code",
            "execution_count": 5,
            "metadata": {},
            "outputs": [],
            "source": [
                "def get_phi(param, ansatz):\n",
                "    bits = ansatz.n_qubits\n",
                "    sim = Simulator(\"projectq\", bits)\n",
                "    sim.apply_circuit(ansatz, param)\n",
                "\n",
                "    return sim\n",
                "\n",
                "def inverse_aij(aij):\n",
                "    rank = np.linalg.matrix_rank(aij)\n",
                "    if rank == len(aij):\n",
                "        aij_inv = np.linalg.inv(aij)\n",
                "    else:\n",
                "        U, s, Vh = np.linalg.svd(aij)\n",
                "        s[:rank] = 1 / s[:rank]\n",
                "        s[rank:] = 0\n",
                "\n",
                "        aij_inv = np.dot(np.dot(Vh.T, np.diag(s)), U.T)\n",
                "    return aij_inv"
            ]
        },
        {
            "cell_type": "markdown",
            "metadata": {},
            "source": [
                "So far, we complete the core function of this VITE algorithm. And then we need to verify the effeciveness of this algorithm."
            ]
        },
        {
            "cell_type": "markdown",
            "metadata": {},
            "source": [
                "#### (4). 初步验证算法有效性"
            ]
        },
        {
            "cell_type": "markdown",
            "metadata": {},
            "source": [
                "At first, we use the VITE method to find the groud-state energy of the $H_2$ molecules in their minimal spin-orbital bais set."
            ]
        },
        {
            "cell_type": "markdown",
            "metadata": {},
            "source": [
                "After some approximation, the qubit Hamiltonian of $H_2$ molecules can be representation by:\n",
                "$$\n",
                "H = g_0 I + g_1 Z_0 + g_2 Z_1 + g_3 Z_0Z_1 + g_4 Y_0Y_1 + g_5X_0X_1\n",
                "$$"
            ]
        },
        {
            "cell_type": "code",
            "execution_count": 40,
            "metadata": {},
            "outputs": [],
            "source": [
                "from mindquantum import *\n",
                "import numpy as np"
            ]
        },
        {
            "cell_type": "code",
            "execution_count": 41,
            "metadata": {},
            "outputs": [],
            "source": [
                "g0 = 0.2252\n",
                "g1 = 0.3435\n",
                "g2 = -0.4347\n",
                "g3 = 0.5716\n",
                "g4 = 0.0910\n",
                "g5 = 0.0910\n",
                "\n",
                "qubitoperator = (QubitOperator(\"Z0\", g1) + QubitOperator(\"Z1\", g2) \n",
                "            + QubitOperator(\"Z0 Z1\", g3) + QubitOperator(\"Y0 Y1\", g4)+ QubitOperator(\"X0 X1\", g5) + QubitOperator(\"\", g0))\n",
                "\n",
                "hamiltonian = Hamiltonian(qubitoperator)"
            ]
        },
        {
            "cell_type": "markdown",
            "metadata": {},
            "source": [
                "Through the diagonalization, the exactly groud-state energy is:"
            ]
        },
        {
            "cell_type": "code",
            "execution_count": 42,
            "metadata": {},
            "outputs": [
                {
                    "name": "stdout",
                    "output_type": "stream",
                    "text": [
                        "(-1.145599124123644+0j)\n"
                    ]
                }
            ],
            "source": [
                "x, y = np.linalg.eig(qubitoperator.matrix().toarray())\n",
                "print(min(x))"
            ]
        },
        {
            "cell_type": "markdown",
            "metadata": {},
            "source": [
                "And we make use of the universal ansatz:"
            ]
        },
        {
            "cell_type": "code",
            "execution_count": 43,
            "metadata": {},
            "outputs": [
                {
                    "data": {
                        "image/svg+xml": [
                            "<div class=\"nb-html-output output_area\"><svg xmlns=\"http://www.w3.org/2000/svg\" width=\"616.8\" height=\"140\" xmlns:xlink=\"http://www.w3.org/1999/xlink\">\n",
                            "<rect x=\"0\" y=\"0\" width=\"616.8\" height=\"140\" fill=\"#ffffff\" />\n",
                            "<text x=\"20.0\" y=\"40.0\" font-size=\"16px\" dominant-baseline=\"middle\" text-anchor=\"start\" font-family=\"Arial\" font-weight=\"normal\" fill=\"#252b3a\" >\n",
                            "q0:\n",
                            " </text>\n",
                            "<text x=\"20.0\" y=\"100.0\" font-size=\"16px\" dominant-baseline=\"middle\" text-anchor=\"start\" font-family=\"Arial\" font-weight=\"normal\" fill=\"#252b3a\" >\n",
                            "q1:\n",
                            " </text>\n",
                            "<line x1=\"48.8\" x2=\"596.8\" y1=\"40.0\" y2=\"40.0\" stroke=\"#adb0b8\" stroke-width=\"1\" />\n",
                            "<line x1=\"48.8\" x2=\"596.8\" y1=\"100.0\" y2=\"100.0\" stroke=\"#adb0b8\" stroke-width=\"1\" />\n",
                            "\n",
                            "<rect x=\"72.8\" y=\"20.0\" width=\"40.0\" height=\"40\" rx=\"4\" ry=\"4\" stroke=\"#ffffff\" stroke-width=\"0\" fill=\"#5e7ce0\" fill-opacity=\"1\" />\n",
                            "<text x=\"92.8\" y=\"40.0\" font-size=\"20px\" dominant-baseline=\"middle\" text-anchor=\"middle\" font-family=\"Arial\" font-weight=\"normal\" fill=\"#ffffff\" >\n",
                            "X\n",
                            " </text>\n",
                            "\n",
                            "\n",
                            "<rect x=\"72.8\" y=\"80.0\" width=\"40.0\" height=\"40\" rx=\"4\" ry=\"4\" stroke=\"#ffffff\" stroke-width=\"0\" fill=\"#5e7ce0\" fill-opacity=\"1\" />\n",
                            "<text x=\"92.8\" y=\"100.0\" font-size=\"20px\" dominant-baseline=\"middle\" text-anchor=\"middle\" font-family=\"Arial\" font-weight=\"normal\" fill=\"#ffffff\" >\n",
                            "X\n",
                            " </text>\n",
                            "\n",
                            "\n",
                            "<rect x=\"132.8\" y=\"20.0\" width=\"80.0\" height=\"40\" rx=\"4\" ry=\"4\" stroke=\"#ffffff\" stroke-width=\"0\" fill=\"#fac209\" fill-opacity=\"1\" />\n",
                            "<text x=\"172.8\" y=\"36.0\" font-size=\"20px\" dominant-baseline=\"middle\" text-anchor=\"middle\" font-family=\"Arial\" font-weight=\"normal\" fill=\"#ffffff\" >\n",
                            "RY\n",
                            " </text>\n",
                            "<text x=\"172.8\" y=\"52.0\" font-size=\"14.0px\" dominant-baseline=\"middle\" text-anchor=\"middle\" font-family=\"Arial\" font-weight=\"normal\" fill=\"#ffffff\" >\n",
                            "theta1\n",
                            " </text>\n",
                            "\n",
                            "\n",
                            "<rect x=\"232.8\" y=\"20.0\" width=\"80.0\" height=\"40\" rx=\"4\" ry=\"4\" stroke=\"#ffffff\" stroke-width=\"0\" fill=\"#fac209\" fill-opacity=\"1\" />\n",
                            "<text x=\"272.8\" y=\"36.0\" font-size=\"20px\" dominant-baseline=\"middle\" text-anchor=\"middle\" font-family=\"Arial\" font-weight=\"normal\" fill=\"#ffffff\" >\n",
                            "RZ\n",
                            " </text>\n",
                            "<text x=\"272.8\" y=\"52.0\" font-size=\"14.0px\" dominant-baseline=\"middle\" text-anchor=\"middle\" font-family=\"Arial\" font-weight=\"normal\" fill=\"#ffffff\" >\n",
                            "theta2\n",
                            " </text>\n",
                            "\n",
                            "\n",
                            "<rect x=\"132.8\" y=\"80.0\" width=\"80.0\" height=\"40\" rx=\"4\" ry=\"4\" stroke=\"#ffffff\" stroke-width=\"0\" fill=\"#fac209\" fill-opacity=\"1\" />\n",
                            "<text x=\"172.8\" y=\"96.0\" font-size=\"20px\" dominant-baseline=\"middle\" text-anchor=\"middle\" font-family=\"Arial\" font-weight=\"normal\" fill=\"#ffffff\" >\n",
                            "RY\n",
                            " </text>\n",
                            "<text x=\"172.8\" y=\"112.0\" font-size=\"14.0px\" dominant-baseline=\"middle\" text-anchor=\"middle\" font-family=\"Arial\" font-weight=\"normal\" fill=\"#ffffff\" >\n",
                            "theta3\n",
                            " </text>\n",
                            "\n",
                            "\n",
                            "<rect x=\"232.8\" y=\"80.0\" width=\"80.0\" height=\"40\" rx=\"4\" ry=\"4\" stroke=\"#ffffff\" stroke-width=\"0\" fill=\"#fac209\" fill-opacity=\"1\" />\n",
                            "<text x=\"272.8\" y=\"96.0\" font-size=\"20px\" dominant-baseline=\"middle\" text-anchor=\"middle\" font-family=\"Arial\" font-weight=\"normal\" fill=\"#ffffff\" >\n",
                            "RZ\n",
                            " </text>\n",
                            "<text x=\"272.8\" y=\"112.0\" font-size=\"14.0px\" dominant-baseline=\"middle\" text-anchor=\"middle\" font-family=\"Arial\" font-weight=\"normal\" fill=\"#ffffff\" >\n",
                            "theta4\n",
                            " </text>\n",
                            "\n",
                            "<circle cx=\"352.8\" cy=\"40.0\" r=\"4\" fill=\"#16acff\" />\n",
                            "<line x1=\"352.8\" x2=\"352.8\" y1=\"40.0\" y2=\"100.0\" stroke=\"#16acff\" stroke-width=\"3\" />\n",
                            "<rect x=\"332.8\" y=\"80.0\" width=\"40\" height=\"40\" rx=\"4\" ry=\"4\" stroke=\"#ffffff\" stroke-width=\"0\" fill=\"#16acff\" fill-opacity=\"1\" />\n",
                            "<line x1=\"338.8\" x2=\"366.8\" y1=\"100.0\" y2=\"100.0\" stroke=\"#ffffff\" stroke-width=\"4\" />\n",
                            "<line x1=\"352.8\" x2=\"352.8\" y1=\"86.0\" y2=\"114.0\" stroke=\"#ffffff\" stroke-width=\"4\" />\n",
                            "\n",
                            "<rect x=\"392.8\" y=\"20.0\" width=\"80.0\" height=\"40\" rx=\"4\" ry=\"4\" stroke=\"#ffffff\" stroke-width=\"0\" fill=\"#fac209\" fill-opacity=\"1\" />\n",
                            "<text x=\"432.8\" y=\"36.0\" font-size=\"20px\" dominant-baseline=\"middle\" text-anchor=\"middle\" font-family=\"Arial\" font-weight=\"normal\" fill=\"#ffffff\" >\n",
                            "RY\n",
                            " </text>\n",
                            "<text x=\"432.8\" y=\"52.0\" font-size=\"14.0px\" dominant-baseline=\"middle\" text-anchor=\"middle\" font-family=\"Arial\" font-weight=\"normal\" fill=\"#ffffff\" >\n",
                            "theta5\n",
                            " </text>\n",
                            "\n",
                            "\n",
                            "<rect x=\"492.8\" y=\"20.0\" width=\"80.0\" height=\"40\" rx=\"4\" ry=\"4\" stroke=\"#ffffff\" stroke-width=\"0\" fill=\"#fac209\" fill-opacity=\"1\" />\n",
                            "<text x=\"532.8\" y=\"36.0\" font-size=\"20px\" dominant-baseline=\"middle\" text-anchor=\"middle\" font-family=\"Arial\" font-weight=\"normal\" fill=\"#ffffff\" >\n",
                            "RZ\n",
                            " </text>\n",
                            "<text x=\"532.8\" y=\"52.0\" font-size=\"14.0px\" dominant-baseline=\"middle\" text-anchor=\"middle\" font-family=\"Arial\" font-weight=\"normal\" fill=\"#ffffff\" >\n",
                            "theta6\n",
                            " </text>\n",
                            "\n",
                            "\n",
                            "<rect x=\"392.8\" y=\"80.0\" width=\"80.0\" height=\"40\" rx=\"4\" ry=\"4\" stroke=\"#ffffff\" stroke-width=\"0\" fill=\"#fac209\" fill-opacity=\"1\" />\n",
                            "<text x=\"432.8\" y=\"96.0\" font-size=\"20px\" dominant-baseline=\"middle\" text-anchor=\"middle\" font-family=\"Arial\" font-weight=\"normal\" fill=\"#ffffff\" >\n",
                            "RY\n",
                            " </text>\n",
                            "<text x=\"432.8\" y=\"112.0\" font-size=\"14.0px\" dominant-baseline=\"middle\" text-anchor=\"middle\" font-family=\"Arial\" font-weight=\"normal\" fill=\"#ffffff\" >\n",
                            "theta7\n",
                            " </text>\n",
                            "\n",
                            "\n",
                            "<rect x=\"492.8\" y=\"80.0\" width=\"80.0\" height=\"40\" rx=\"4\" ry=\"4\" stroke=\"#ffffff\" stroke-width=\"0\" fill=\"#fac209\" fill-opacity=\"1\" />\n",
                            "<text x=\"532.8\" y=\"96.0\" font-size=\"20px\" dominant-baseline=\"middle\" text-anchor=\"middle\" font-family=\"Arial\" font-weight=\"normal\" fill=\"#ffffff\" >\n",
                            "RZ\n",
                            " </text>\n",
                            "<text x=\"532.8\" y=\"112.0\" font-size=\"14.0px\" dominant-baseline=\"middle\" text-anchor=\"middle\" font-family=\"Arial\" font-weight=\"normal\" fill=\"#ffffff\" >\n",
                            "theta8\n",
                            " </text>\n",
                            "\n",
                            "</svg></div>"
                        ],
                        "text/plain": [
                            "<mindquantum.io.display.circuit_svg_drawer.SVGCircuit at 0x7f0cc0ff5b90>"
                        ]
                    },
                    "execution_count": 43,
                    "metadata": {},
                    "output_type": "execute_result"
                }
            ],
            "source": [
                "ansatz = Circuit()\n",
                "ansatz += X.on(0)\n",
                "ansatz += X.on(1)\n",
                "ansatz += RY(\"theta1\").on(0)\n",
                "ansatz += RZ(\"theta2\").on(0)\n",
                "ansatz += RY(\"theta3\").on(1)\n",
                "ansatz += RZ(\"theta4\").on(1)\n",
                "ansatz += X.on(1, 0)\n",
                "ansatz += RY(\"theta5\").on(0)\n",
                "ansatz += RZ(\"theta6\").on(0)\n",
                "ansatz += RY(\"theta7\").on(1)\n",
                "ansatz += RZ(\"theta8\").on(1)\n",
                "ansatz.svg()"
            ]
        },
        {
            "cell_type": "markdown",
            "metadata": {},
            "source": [
                "Then we call the previous function to complete the demonstration of this VITE algorithm."
            ]
        },
        {
            "cell_type": "code",
            "execution_count": 44,
            "metadata": {},
            "outputs": [
                {
                    "name": "stdout",
                    "output_type": "stream",
                    "text": [
                        "The algorithm has finished running, and the energy is -1.1455991241236443\n"
                    ]
                }
            ],
            "source": [
                "circuit = ansatz\n",
                "param = np.ones(shape=(len(circuit.params_name)))\n",
                "aij_ops = partial_psi_partial_psi(circuit)\n",
                "ci_ops = get_ci_matrix(circuit)\n",
                "\n",
                "energy = []\n",
                "ith = 1\n",
                "sim = get_phi(param, circuit)\n",
                "energy.append(sim.get_expectation(hamiltonian).real)\n",
                "delta = 0.25\n",
                "while ith <100:\n",
                "    aij = np.real(aij_ops(param))\n",
                "    ci = -np.real(ci_ops(param, hamiltonian))\n",
                "    gradient = np.dot(inverse_aij(aij), ci)\n",
                "    param = param + delta * gradient\n",
                "\n",
                "    sim = get_phi(param, circuit)\n",
                "    energy.append(sim.get_expectation(hamiltonian).real)\n",
                "    ith += 1\n",
                "    energy_diff = energy[-1] - energy[-2]\n",
                "    #print(ith, energy[-1])\n",
                "    \n",
                "    if ith >= 20 and abs(energy_diff) <= 1e-5:\n",
                "        break\n",
                "        \n",
                "    if ith == 1:\n",
                "        pass\n",
                "    else:\n",
                "        if energy_diff < 0:\n",
                "            delta *= 1.05\n",
                "        else:\n",
                "            delta /= 2\n",
                "\n",
                "optimal_params = param\n",
                "energy_i = energy[-1].real\n",
                "print(\"The algorithm has finished running, and the energy is {}\".format(energy_i))"
            ]
        },
        {
            "cell_type": "code",
            "execution_count": 45,
            "metadata": {},
            "outputs": [],
            "source": [
                "import matplotlib.pyplot as plt\n",
                "%matplotlib inline"
            ]
        },
        {
            "cell_type": "code",
            "execution_count": 46,
            "metadata": {},
            "outputs": [
                {
                    "data": {
                        "text/plain": [
                            "<matplotlib.legend.Legend at 0x7f0c9ea5a9d0>"
                        ]
                    },
                    "execution_count": 46,
                    "metadata": {},
                    "output_type": "execute_result"
                },
                {
                    "data": {
                        "image/png": "[encoded data removed]",
                        "text/plain": [
                            "<Figure size 432x288 with 1 Axes>"
                        ]
                    },
                    "metadata": {
                        "needs_background": "light"
                    },
                    "output_type": "display_data"
                }
            ],
            "source": [
                "plt.plot(np.real(energy), label = \"VITE\")\n",
                "plt.plot([min(x).real] * len(energy), label = \"Fci Energy\")\n",
                "plt.xlabel(\"# of Iteration\")\n",
                "plt.ylabel(\"Energy of each iteration\")\n",
                "plt.legend()"
            ]
        },
        {
            "cell_type": "markdown",
            "metadata": {},
            "source": [
                "Eureka!"
            ]
        },
        {
            "cell_type": "markdown",
            "metadata": {},
            "source": [
                "#### (5). 进一步运用在更复杂的分子体系上"
            ]
        },
        {
            "cell_type": "code",
            "execution_count": 50,
            "metadata": {},
            "outputs": [],
            "source": [
                "import os \n",
                "#os.environ['KMP_DUPLICATE_LIB_OK']=\"True\"\n",
                "os.environ['OMP_NUM_THREADS'] = '4'\n",
                "import numpy as np\n",
                "from openfermion import MolecularData\n",
                "from openfermionpyscf import run_pyscf"
            ]
        },
        {
            "cell_type": "code",
            "execution_count": 51,
            "metadata": {},
            "outputs": [],
            "source": [
                "from openfermion import InteractionOperator\n",
                "from mindquantum.core.operators import PolynomialTensor, get_fermion_operator\n",
                "from mindquantum import Simulator, Hamiltonian, X, Circuit, FermionOperator, Transform, UCCAnsatz\n",
                "from mindquantum.framework import MQAnsatzOnlyLayer"
            ]
        },
        {
            "cell_type": "code",
            "execution_count": 52,
            "metadata": {},
            "outputs": [],
            "source": [
                "def geometry_lih(blens):\n",
                "    geom = []\n",
                "    for blen in blens:\n",
                "        geom.append([('Li', [0, 0, 0]), ('H', [0, 0, blen])])\n",
                "        \n",
                "    return geom\n",
                "\n",
                "def get_intagral_from_tensor(one_body_tensor, two_body_tensor):\n",
                "    n_qubits = one_body_tensor.shape[0]\n",
                "\n",
                "    one_body_integral = np.zeros(shape=(n_qubits // 2, n_qubits // 2))\n",
                "    two_body_integral = np.zeros(shape=(n_qubits // 2, n_qubits // 2, n_qubits // 2, n_qubits // 2))\n",
                "\n",
                "    for p in range(n_qubits // 2):\n",
                "        for q in range(n_qubits // 2):\n",
                "            one_body_integral[p, q] = one_body_tensor[2 * p, 2 * q]\n",
                "\n",
                "            for r in range(n_qubits // 2):\n",
                "                for s in range(n_qubits // 2):\n",
                "                    two_body_integral[p, q, r, s] = two_body_tensor[2 * p, 2 * q, 2 * r, 2 * s] * 2\n",
                "\n",
                "    return one_body_integral, two_body_integral\n",
                "\n",
                "\n",
                "def get_active_space_integral(one_body_integral,\n",
                "                              two_body_integral,\n",
                "                              occupied_indices,\n",
                "                              active_indices):\n",
                "    # Fix data type for a few edge cases\n",
                "    occupied_indices = [] if occupied_indices is None else occupied_indices\n",
                "    if (len(active_indices) < 1):\n",
                "        raise ValueError('Some active indices required for reduction.')\n",
                "\n",
                "    # Determine core constant\n",
                "    constant_adujust = 0.0\n",
                "    for i in occupied_indices:\n",
                "        # This part come from one_body interaction, if we remove the spin orbital,\n",
                "        # just add an energy shift for one_body hamiltonian.\n",
                "        constant_adujust += 2 * one_body_integral[i, i]\n",
                "\n",
                "        for j in occupied_indices:\n",
                "            # This part come from the two_body interaction, where the first item is energy shift\n",
                "            # the second item is because fermion operator anti-commute.\n",
                "            constant_adujust += (2 * two_body_integral[i, j, j, i] - two_body_integral[i, j, i, j])\n",
                "\n",
                "    # Modified one electron integrals\n",
                "    one_body_integral_new = np.copy(one_body_integral)\n",
                "    for u in active_indices:\n",
                "        for v in active_indices:\n",
                "            for i in occupied_indices:\n",
                "                # If we remove some spin orbital, some Hpqrs would become Hpq, another would be energy shift.\n",
                "                one_body_integral_new[u, v] += (2 * two_body_integral[i, u, v, i] - two_body_integral[i, u, i, v])\n",
                "\n",
                "    return (constant_adujust,\n",
                "            one_body_integral_new[np.ix_(active_indices, active_indices)],\n",
                "            two_body_integral[np.ix_(active_indices, active_indices,\n",
                "                                     active_indices, active_indices)])\n",
                "\n",
                "\n",
                "def get_tensor_from_integral(one_body_integral, two_body_integral):\n",
                "    n_qubits = 2 * one_body_integral.shape[0]\n",
                "\n",
                "    one_body_tensor = np.zeros(shape=(n_qubits, n_qubits))\n",
                "    two_body_tensor = np.zeros(shape=(n_qubits, n_qubits, n_qubits, n_qubits))\n",
                "\n",
                "    for p in range(n_qubits // 2):\n",
                "        for q in range(n_qubits // 2):\n",
                "            one_body_tensor[2 * p, 2 * q] = one_body_integral[p, q]\n",
                "            one_body_tensor[2 * p + 1, 2 * q + 1] = one_body_integral[p, q]\n",
                "\n",
                "            for r in range(n_qubits // 2):\n",
                "                for s in range(n_qubits // 2):\n",
                "                    # Mixed spin\n",
                "                    two_body_tensor[2 * p, 2 * q + 1, 2 * r + 1, 2 * s] = (two_body_integral[p, q, r, s] / 2.)\n",
                "                    two_body_tensor[2 * p + 1, 2 * q, 2 * r, 2 * s + 1] = (two_body_integral[p, q, r, s] / 2.)\n",
                "\n",
                "                    # Same spin\n",
                "                    two_body_tensor[2 * p, 2 * q, 2 * r, 2 * s] = (two_body_integral[p, q, r, s] / 2.)\n",
                "                    two_body_tensor[2 * p + 1, 2 * q + 1, 2 * r + 1, 2 * s + 1] = (two_body_integral[p, q, r, s] / 2.)\n",
                "\n",
                "    return one_body_tensor, two_body_tensor\n",
                "\n",
                "\n",
                "def remove_spin_orbital(ham_fermion, eigval_of_rdm, occupied_threshold, remove_threshold, check_orbital=False):\n",
                "    electron_num = ham_fermion.n_qubits // 2\n",
                "    if occupied_threshold <= remove_threshold:\n",
                "        raise ValueError(\"The occupied threshold should lager then remove threshold\")\n",
                "    if len(eigval_of_rdm) != electron_num:\n",
                "        raise ValueError(\"The length of eigval is not same as number of electron, please check the eigval\")\n",
                "\n",
                "    occupied_indices = []\n",
                "    active_indices = []\n",
                "    space_indices = [i for i in range(electron_num)]\n",
                "\n",
                "    occupied_space_orbital = list(np.where(eigval_of_rdm >= occupied_threshold)[0])\n",
                "    if len(occupied_space_orbital) > 0:\n",
                "        occupied_indices = [i for i in occupied_space_orbital]\n",
                "\n",
                "    remove_space_orbital = list(np.where(eigval_of_rdm <= remove_threshold)[0])\n",
                "    if len(remove_space_orbital) >= 0:\n",
                "        active_indices = set(space_indices) - (set(occupied_indices + remove_space_orbital))\n",
                "        active_indices = [i for i in active_indices]\n",
                "\n",
                "    # If the hamiltonian cannot be simplified, just return the original hamiltonian.\n",
                "    if len(occupied_space_orbital) == 0 and len(remove_space_orbital) == 0:\n",
                "        return ham_fermion, ([], [i for i in range(electron_num)])\n",
                "\n",
                "    constant = ham_fermion.constant\n",
                "    one_body_integral, two_body_integral = get_intagral_from_tensor(ham_fermion.one_body_tensor,\n",
                "                                                                    ham_fermion.two_body_tensor)\n",
                "    constant_adjustment, one_body_integral_new, two_body_integral_new = \\\n",
                "        get_active_space_integral(one_body_integral,\n",
                "                                  two_body_integral,\n",
                "                                  occupied_indices,\n",
                "                                  active_indices)\n",
                "    constant_new = constant + constant_adjustment\n",
                "    one_body_tensor, two_body_tensor = get_tensor_from_integral(one_body_integral_new, two_body_integral_new)\n",
                "    ham_fermion_new = InteractionOperator(constant_new, one_body_tensor, two_body_tensor)\n",
                "    if check_orbital:\n",
                "        return ham_fermion_new, (occupied_indices, active_indices)\n",
                "    else:\n",
                "        return ham_fermion_new"
            ]
        },
        {
            "cell_type": "code",
            "execution_count": 53,
            "metadata": {},
            "outputs": [],
            "source": [
                "class VQEoptimizer:\n",
                "    def __init__(self, max_threshold, min_threshold, molecule, seed=42, file=None):\n",
                "\n",
                "        self.molecule = molecule\n",
                "        self.max_threshold = max_threshold\n",
                "        self.min_threshold = min_threshold\n",
                "        self.backend = 'mqvector'\n",
                "        self.seed = seed\n",
                "        self.file = file\n",
                "\n",
                "        if molecule != None:\n",
                "            self.remove_orbital(self.max_threshold, self.min_threshold, molecule)\n",
                "            self.generate_circuit(molecule)\n",
                "\n",
                "    def remove_orbital(self, max_threshold, min_threshold, molecule=None):\n",
                "        if molecule == None:\n",
                "            molecule = self.molecule\n",
                "        \n",
                "        self.ham_fermion = molecule.get_molecular_hamiltonian()\n",
                "        # Rotation spin orbital\n",
                "        odm_cisd = molecule.fci_one_rdm\n",
                "        self.occupied_num_MO, eigvec = np.linalg.eig(odm_cisd)\n",
                "        Umatrix = np.kron(eigvec, np.eye(2))\n",
                "        self.ham_fermion.rotate_basis(Umatrix)\n",
                "\n",
                "        # Remove molecular orbital\n",
                "        self.remove_ham, self.indices = remove_spin_orbital(self.ham_fermion, self.occupied_num_MO, max_threshold, min_threshold, True)\n",
                "\n",
                "        # Get the fermion hamiltonian after rotation in openfermion\n",
                "        new_constant = self.remove_ham.constant\n",
                "        new_one_body_tensor = self.remove_ham.one_body_tensor\n",
                "        new_two_body_tensor = self.remove_ham.two_body_tensor\n",
                "\n",
                "        # Reconstruction fermion operator in mindquantum\n",
                "        poly_operator = PolynomialTensor({() : new_constant,\n",
                "                                          (1, 0) : new_one_body_tensor,\n",
                "                                          (1, 1, 0, 0) : new_two_body_tensor})\n",
                "        fermion_operator = get_fermion_operator(poly_operator)\n",
                "\n",
                "        # Get the pauli operator after jordan wigner\n",
                "        self.ham_pauli = Transform(fermion_operator).jordan_wigner()\n",
                "\n",
                "    def generate_circuit(self, molecule=None):\n",
                "        if molecule == None:\n",
                "            molecule = self.molecule\n",
                "        occupied_mo_new = self.occupied_num_MO[self.indices[1]]\n",
                "        occ_orb = np.where(occupied_mo_new > 1.0)[0]\n",
                "        vir_orb = np.delete(np.arange(len(occupied_mo_new)), occ_orb)\n",
                "\n",
                "        high_occupied_spin_indice = np.array([[2 * i, 2 * i + 1] for i in occ_orb]).reshape([-1])\n",
                "        high_occupied_spin_indice = [int(i) for i in high_occupied_spin_indice]\n",
                "\n",
                "        self.circuit = Circuit([X.on(i) for i in high_occupied_spin_indice])\n",
                "        self.n_qubits = len(occupied_mo_new) * 2\n",
                "\n",
                "        ansatz_circuit = UCCAnsatz(self.n_qubits,\n",
                "                                   molecule.n_electrons - len(self.indices[0]) * 2,\n",
                "                                   [int(i) for i in occ_orb],\n",
                "                                   [int(i) for i in vir_orb], trotter_step=1).circuit\n",
                "        self.circuit += ansatz_circuit\n",
                "\n",
                "    def optimize(self, learning_rate, eps, operator=None, circuit=None):\n",
                "        if operator == None:\n",
                "            operator = self.ham_pauli\n",
                "        if circuit == None:\n",
                "            circuit = self.circuit\n",
                "\n",
                "        self.simulator = Simulator(self.backend, circuit.n_qubits)\n",
                "\n",
                "        molecule_pqc = self.simulator.get_expectation_with_grad(Hamiltonian(operator.real), circuit)\n",
                "        molecule_pqcnet = MQAnsatzOnlyLayer(molecule_pqc, 'Zeros')\n",
                "        energy = []\n",
                "        initial_energy = molecule_pqcnet()\n",
                "        energy.append(initial_energy.asnumpy())\n",
                "        optimizer = ms.nn.Adagrad(molecule_pqcnet.trainable_params(), learning_rate=learning_rate)\n",
                "        train_pqcnet = ms.nn.TrainOneStepCell(molecule_pqcnet, optimizer)\n",
                "        energy_diff = eps * 1000\n",
                "        energy_last = initial_energy.asnumpy() + energy_diff\n",
                "        iter_idx = 0\n",
                "        while abs(energy_diff) > eps:\n",
                "            self.energy_i = train_pqcnet().asnumpy()\n",
                "            energy_diff = energy_last - self.energy_i\n",
                "            energy_last = self.energy_i\n",
                "            iter_idx += 1\n",
                "            energy.append(energy_last)\n",
                "\n",
                "        self.optimal_params = molecule_pqcnet.weight.asnumpy()\n",
                "        #print(\"The iterations is: {}, and the final convergent energy is: {}\".format(iter_idx, self.energy_i),file=file)\n",
                "        \n",
                "        return energy\n",
                "    \n",
                "    \n",
                "    def imag_time_evolution(self, operator=None, circuit=None):\n",
                "        if operator == None:\n",
                "            operator = self.ham_pauli.real\n",
                "        if circuit == None:\n",
                "            circuit = self.circuit\n",
                "\n",
                "        hamiltonian = Hamiltonian(operator)\n",
                "        param = np.ones(shape=(len(self.circuit.params_name)))\n",
                "\n",
                "        energy = []\n",
                "        ith = 1\n",
                "        sim = get_phi(param, circuit)\n",
                "        energy.append(sim.get_expectation(hamiltonian))\n",
                "        delta = 1000\n",
                "        while abs(delta) > 1e-5:\n",
                "            if ith <= 200:\n",
                "                delta = 1.65\n",
                "            elif ith > 200:\n",
                "                delta = 0.25\n",
                "\n",
                "            mat = get_phi_partial_mat(param, circuit)\n",
                "            aij = np.real(np.dot(np.conjugate(mat).T, mat))\n",
                "            ci = get_ci_vec(param, hamiltonian, circuit)\n",
                "            gradient = np.dot(inverse_aij(aij), ci)\n",
                "            param = param + delta * gradient\n",
                "\n",
                "            sim = get_phi(param, circuit)\n",
                "            energy.append(sim.get_expectation(hamiltonian))\n",
                "            delta = energy[-1] - energy[-2]\n",
                "            ith += 1\n",
                "\n",
                "        self.optimal_params = param\n",
                "        self.energy_i = energy[-1].real\n",
                "        print(energy)\n",
                "        return energy"
            ]
        },
        {
            "cell_type": "markdown",
            "metadata": {},
            "source": [
                "---"
            ]
        },
        {
            "cell_type": "code",
            "execution_count": 54,
            "metadata": {},
            "outputs": [
                {
                    "name": "stderr",
                    "output_type": "stream",
                    "text": [
                        "/home/ma-user/anaconda3/envs/MindQuantum/lib/python3.7/site-packages/mindquantum/algorithm/nisq/chem/uccsd0.py:348: UserWarning: [Note] Override n_qubits and n_electrons with manually set occ_orb and vir_orb. Handle with caution!\n",
                        "  \"[Note] Override n_qubits and n_electrons with manually set occ_orb and vir_orb. Handle with caution!\"\n"
                    ]
                }
            ],
            "source": [
                "geom = geometry_lih([3.0])[0]\n",
                "molecule = MolecularData(geom, 'sto3g', 1)\n",
                "molecule = run_pyscf(molecule, run_scf=1, run_ccsd=1, run_fci=1, run_cisd=1)\n",
                "max_threshold = 1.9995\n",
                "min_threshold = 8e-4\n",
                "vqe = VQEoptimizer(max_threshold=max_threshold, min_threshold=min_threshold, molecule=molecule)\n",
                "operator = vqe.ham_pauli\n",
                "circuit = vqe.circuit"
            ]
        },
        {
            "cell_type": "code",
            "execution_count": 55,
            "metadata": {},
            "outputs": [],
            "source": [
                "hamiltonian = Hamiltonian(operator.real)\n",
                "param = np.ones(shape=(len(circuit.params_name)))\n",
                "aij_ops = partial_psi_partial_psi(circuit)\n",
                "ci_ops = get_ci_matrix(circuit)\n",
                "\n",
                "energy = []\n",
                "ith = 1\n",
                "sim = get_phi(param, circuit)\n",
                "energy.append(sim.get_expectation(hamiltonian).real)\n",
                "delta = 0.50\n",
                "while ith < 100:\n",
                "    aij = np.real(aij_ops(param))\n",
                "    ci = -np.real(ci_ops(param, hamiltonian))\n",
                "    gradient = np.dot(inverse_aij(aij), ci)\n",
                "    param = param + delta * gradient\n",
                "\n",
                "    sim = get_phi(param, circuit)\n",
                "    energy.append(sim.get_expectation(hamiltonian).real)\n",
                "    ith += 1\n",
                "    energy_diff = energy[-1] - energy[-2]\n",
                "    #print(ith, energy[-1])\n",
                "    \n",
                "    if ith >= 25 and abs(energy_diff) < 1e-4:\n",
                "        break\n",
                "    \n",
                "    if ith == 1:\n",
                "        pass\n",
                "    else:\n",
                "        if energy_diff < 0:\n",
                "            delta *= 1.05\n",
                "        else:\n",
                "            delta /= 2\n",
                "\n",
                "optimal_params = param\n",
                "energy_i = energy[-1].real"
            ]
        },
        {
            "cell_type": "code",
            "execution_count": 38,
            "metadata": {},
            "outputs": [
                {
                    "data": {
                        "text/plain": [
                            "<matplotlib.legend.Legend at 0x7f0c9ea55d90>"
                        ]
                    },
                    "execution_count": 38,
                    "metadata": {},
                    "output_type": "execute_result"
                },
                {
                    "data": {
                        "image/png": "[encoded data removed]",
                        "text/plain": [
                            "<Figure size 432x288 with 1 Axes>"
                        ]
                    },
                    "metadata": {
                        "needs_background": "light"
                    },
                    "output_type": "display_data"
                }
            ],
            "source": [
                "plt.plot(np.real(energy), label = \"VITE\")\n",
                "plt.plot([molecule.fci_energy] * len(energy), label = \"Fci Energy\")\n",
                "plt.xlabel(\"# of Iteration\")\n",
                "plt.ylabel(\"Energy of each iteration\")\n",
                "plt.legend()"
            ]
        },
        {
            "cell_type": "markdown",
            "metadata": {},
            "source": [
                "Therefore, according to the results, even for more complex molecular systems, the VITE based on the Mindquatum library can still effectively calculate the groud-state energy! And so far, we have basically completed the basic goals required by the project. "
            ]
        },
        {
            "cell_type": "markdown",
            "metadata": {},
            "source": [
                "But we didn't stop there, we continued to think about whether quantum noise will have a huge impact on the convergence of the algorithm, because the inverse of the $A_{ij}$ matrix is required."
            ]
        },
        {
            "cell_type": "markdown",
            "metadata": {},
            "source": [
                "#### (6). 探究噪声对于算法的影响"
            ]
        },
        {
            "cell_type": "markdown",
            "metadata": {},
            "source": [
                "Here we first consider the impact of circuit noise on the algorithm implement. There is a kind of noise that affects the quantum circuit. After a certain quantum operation, the circuit is likely to be affected by an additional pauli gate, which is called a pauli channel. And if the X, Y, Z gates split equally, it is called a depolarization channel. This channel is often used to describe the noise generated by gate operation in real quantum hardware. And it's described by,\n",
                "$$\n",
                "\\epsilon_{DF}(\\rho) = (1-p)\\rho + \\frac{p}{3}(X\\rho X + Y\\rho Y + Z\\rho Z)\n",
                "$$\n",
                "But the problem we face is how to introduce the noise on the quantum circuit. Due to the characteristics of the Mindqauntum library, if we use the noise port provided by itself to simulate the noise, then the previous function cannot be used to obtain the gradient of quantum state. So this requires us to construct the noise-containing circuit and design an algorithm to simulate the effect. What we adopt is a method based on Monte Carlo idea to introduce random numbers to randomize a large number of samples, and then take the mean value, so as to approximate the real moise circuit. "
            ]
        },
        {
            "cell_type": "code",
            "execution_count": 13,
            "metadata": {},
            "outputs": [],
            "source": [
                "import copy\n",
                "def noise_circ(circ, p):\n",
                "    circ_copy = circ.copy()\n",
                "    circ1 = copy.deepcopy(circ)\n",
                "    j = 0\n",
                "    for i, gate in enumerate(circ_copy):\n",
                "        if isinstance(gate, BarrierGate):\n",
                "            j += 1\n",
                "        else:\n",
                "            if np.random.random() <= p:\n",
                "                random_num = np.random.random()\n",
                "                #print(random_num)\n",
                "                if random_num < 1/3:\n",
                "                    circ1.insert(i+j+1, X.on(gate.obj_qubits))\n",
                "                elif 1/3 <= random_num <= 2/3:\n",
                "                    circ1.insert(i+j+1, Y.on(gate.obj_qubits))\n",
                "                elif 2/3 <= random_num < 1:\n",
                "                    circ1.insert(i+j+1, Z.on(gate.obj_qubits))\n",
                "                else:\n",
                "                    raise ValueError('Check the random number')\n",
                "                j += 1\n",
                "    return circ1        "
            ]
        },
        {
            "cell_type": "code",
            "execution_count": 14,
            "metadata": {},
            "outputs": [],
            "source": [
                "def sampling_aij(circ, param, shots, p):\n",
                "    aij = 0\n",
                "    ci = 0\n",
                "    for i in range(shots):\n",
                "        sampling_circ = noise_circ(circ, p)\n",
                "        \n",
                "        aij_ops = partial_psi_partial_psi(sampling_circ)\n",
                "        aij += np.real(aij_ops(param))\n",
                "        \n",
                "        ci_ops = get_ci_matrix(sampling_circ)\n",
                "        ci -= np.real(ci_ops(param ,hamiltonian))\n",
                "        #print(i)\n",
                "    aij = aij / shots\n",
                "    ci = ci / shots\n",
                "    \n",
                "    return aij, ci"
            ]
        },
        {
            "cell_type": "code",
            "execution_count": 31,
            "metadata": {},
            "outputs": [],
            "source": [
                "def noise_VITE(circ, shots, p):\n",
                "    param = np.ones(shape=(len(circuit.params_name)))\n",
                "\n",
                "    energy_noise = []\n",
                "    ith = 1\n",
                "    sim = get_phi(param, circuit)\n",
                "    energy_noise.append(sim.get_expectation(hamiltonian).real)\n",
                "    delta = 0.25\n",
                "    while ith < 50:\n",
                "        aij, ci = sampling_aij(circuit, param, shots, p)\n",
                "        gradient = np.dot(inverse_aij(aij), ci)\n",
                "        param = param + delta * gradient\n",
                "\n",
                "        sim = get_phi(param, circuit)\n",
                "        energy_noise.append(sim.get_expectation(hamiltonian).real)\n",
                "        ith += 1\n",
                "        energy_diff = energy_noise[-1] - energy_noise[-2]\n",
                "        #print(ith, energy_noise[-1])\n",
                "\n",
                "        if ith >= 20 and abs(energy_diff) <= 1e-5:\n",
                "            break\n",
                "\n",
                "        if ith == 1:\n",
                "            pass\n",
                "        else:\n",
                "            if energy_diff < 0:\n",
                "                delta *= 1.05\n",
                "            else:\n",
                "                delta /= 2\n",
                "\n",
                "        optimal_params = param\n",
                "        energy_i = energy[-1].real\n",
                "        \n",
                "    return energy_noise, param"
            ]
        },
        {
            "cell_type": "code",
            "execution_count": 30,
            "metadata": {},
            "outputs": [
                {
                    "data": {
                        "text/plain": [
                            "<matplotlib.legend.Legend at 0x7f0cc0bafd50>"
                        ]
                    },
                    "execution_count": 30,
                    "metadata": {},
                    "output_type": "execute_result"
                },
                {
                    "data": {
                        "image/png": "[encoded data removed]",
                        "text/plain": [
                            "<Figure size 432x288 with 1 Axes>"
                        ]
                    },
                    "metadata": {
                        "needs_background": "light"
                    },
                    "output_type": "display_data"
                }
            ],
            "source": [
                "noise_1 = np.load(\"./data/H2_molecular_noise_0.1.npy\")\n",
                "noise_2 = np.load(\"./data/H2_molecular_noise_0.2.npy\")\n",
                "noise_3 = np.load(\"./data/H2_molecular_noise_0.3.npy\")\n",
                "\n",
                "plt.plot(np.array(energy), label = \"Non-noise VITE\")\n",
                "plt.plot([min(x).real] * 50, label = \"Fci Energy\")\n",
                "plt.plot(np.array(noise_1), label = \"Noise P=0.1\")\n",
                "plt.plot(np.array(noise_2), label = \"Noise P=0.2\")\n",
                "plt.plot(np.array(noise_3), label = \"Noise P=0.3\")\n",
                "plt.xlabel(\"# of Iteration\")\n",
                "plt.ylabel(\"Energy of each iteration\")\n",
                "plt.legend()"
            ]
        },
        {
            "cell_type": "markdown",
            "metadata": {},
            "source": [
                "As shown in the result figure, when the quantum circuit noise is introduced, the stability of the algorithm will be affected and its convergence speed will be greatly slowed down. Even when the noise gradually increases, we find that the algorithm will fail and cannot converge to the ground state energy. But this is only the effect of hydrogen molecules on a shallow circuit. So we thought about whether the effect of noise would be different for more complex molecules on deeper circuit. So next, we still select LiH molecule to explore the impact of noise on the VITE algorithm。"
            ]
        },
        {
            "cell_type": "code",
            "execution_count": 39,
            "metadata": {},
            "outputs": [
                {
                    "data": {
                        "text/plain": [
                            "<matplotlib.legend.Legend at 0x7f0c9e9aee50>"
                        ]
                    },
                    "execution_count": 39,
                    "metadata": {},
                    "output_type": "execute_result"
                },
                {
                    "data": {
                        "image/png": "[encoded data removed]",
                        "text/plain": [
                            "<Figure size 432x288 with 1 Axes>"
                        ]
                    },
                    "metadata": {
                        "needs_background": "light"
                    },
                    "output_type": "display_data"
                }
            ],
            "source": [
                "noise_1 = np.load(\"./data/LiH_molecular_noise_0.1.npy\")\n",
                "noise_2 = np.load(\"./data/LiH_molecular_noise_0.01.npy\")\n",
                "noise_3 = np.load(\"./data/LiH_molecular_noise_0.05.npy\")\n",
                "noise_4 = np.load(\"./data/LiH_molecular_noise_0.005.npy\")\n",
                "\n",
                "plt.plot(np.array(energy), label = \"Non-noise VITE\")\n",
                "plt.plot([molecule.fci_energy] * 50, label = \"Fci Energy\")\n",
                "plt.plot(np.array(noise_1), label = \"Noise P=0.1\")\n",
                "plt.plot(np.array(noise_2), label = \"Noise P=0.05\")\n",
                "plt.plot(np.array(noise_4), label = \"Noise P=0.01\")\n",
                "plt.plot(np.array(noise_3), label = \"Noise P=0.005\")\n",
                "\n",
                "plt.xlabel(\"# of Iteration\")\n",
                "plt.ylabel(\"Energy of each iteration\")\n",
                "plt.legend()"
            ]
        },
        {
            "cell_type": "markdown",
            "metadata": {},
            "source": [
                "The results in the figure once again verify our conjecture that for deeper lines, the implementation of the VITE algorithm will be more vulnerable to noise."
            ]
        },
        {
            "cell_type": "markdown",
            "metadata": {},
            "source": [
                "## 4.主要参考文献\n",
                "[1] McArdle, Sam, et al. \"Quantum computational chemistry.\" Reviews of Modern Physics 92.1 (2020): 015003.\n",
                "\n",
                "[2] McArdle, Sam, et al. \"Variational ansatz-based quantum simulation of imaginary time evolution.\" npj Quantum Information 5.1 (2019): 1-6.\n",
                "\n",
                "[3] Li, Ying, and Simon C. Benjamin. \"Efficient variational quantum simulator incorporating active error minimization.\" Physical Review X 7.2 (2017): 021050.\n",
                "\n",
                "[4] Motta, Mario, et al. \"Determining eigenstates and thermal states on a quantum computer using quantum imaginary time evolution.\" Nature Physics 16.2 (2020): 205-210.\n",
                "\n",
                "[5] Seeley, Jacob T., Martin J. Richard, and Peter J. Love. \"The Bravyi-Kitaev transformation for quantum computation of electronic structure.\" The Journal of chemical physics 137.22 (2012): 224109.\n",
                "\n",
                "[6] Li, Yifan, et al. \"Variational quantum simulation for quantum chemistry.\" Advanced Theory and Simulations 2.4 (2019): 1800182."
            ]
        },
        {
            "cell_type": "code",
            "execution_count": null,
            "metadata": {},
            "outputs": [],
            "source": []
        }
    ],
    "metadata": {
        "kernelspec": {
            "display_name": "Python 3",
            "language": "python",
            "name": "python3"
        },
        "language_info": {
            "codemirror_mode": {
                "name": "ipython",
                "version": 3
            },
            "file_extension": ".py",
            "mimetype": "text/x-python",
            "name": "python",
            "nbconvert_exporter": "python",
            "pygments_lexer": "ipython3",
            "version": "3.8.5"
        }
    },
    "nbformat": 4,
    "nbformat_minor": 5
}