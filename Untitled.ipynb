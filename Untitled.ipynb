{
 "metadata": {
  "language_info": {
   "codemirror_mode": {
    "name": "ipython",
    "version": 3
   },
   "file_extension": ".py",
   "mimetype": "text/x-python",
   "name": "python",
   "nbconvert_exporter": "python",
   "pygments_lexer": "ipython3",
   "version": "3.7.5-final"
  },
  "orig_nbformat": 2,
  "kernelspec": {
   "name": "python37564bit1b0b6a65a8b44d9b8e9536e8297a7256",
   "display_name": "Python 3.7.5 64-bit"
  }
 },
 "nbformat": 4,
 "nbformat_minor": 2,
 "cells": [
  {
   "source": [],
   "cell_type": "code",
   "metadata": {},
   "execution_count": null,
   "outputs": []
  },
  {
   "cell_type": "code",
   "execution_count": 5,
   "metadata": {
    "tags": []
   },
   "outputs": [
    {
     "output_type": "stream",
     "name": "stdout",
     "text": "Gate name: X\nGate name: Y\nGate name: Z\nGate name: H\n"
    },
    {
     "output_type": "execute_result",
     "data": {
      "text/plain": "array([[ 0.70710678,  0.70710678],\n       [ 0.70710678, -0.70710678]])"
     },
     "metadata": {},
     "execution_count": 5
    }
   ],
   "source": [
    "import numpy as np                                        #导入numpy库并简写为np  \n",
    "import mindquantum as mq                                  #导入mindquantum库并简写为mq  \n",
    "from mindquantum.core import X, Y, Z, H, RX, RY, RZ \n",
    "\n",
    "print('Gate name:', X)  \n",
    "X.matrix()\n",
    "\n",
    "print('Gate name:', Y)  \n",
    "Y.matrix()\n",
    "\n",
    "print('Gate name:', Z)  \n",
    "Z.matrix()\n",
    "\n",
    "print('Gate name:', H)  \n",
    "H.matrix()"
   ]
  },
  {
   "source": [
    "cnot = X.on(0, 1)                  #X门作用在第0位量子比特且受第1位量子比特控制  \n",
    "print(cnot)"
   ],
   "cell_type": "code",
   "metadata": {
    "tags": []
   },
   "execution_count": 6,
   "outputs": [
    {
     "output_type": "stream",
     "name": "stdout",
     "text": "X(0 <-: 1)\n"
    }
   ]
  },
  {
   "cell_type": "code",
   "execution_count": null,
   "metadata": {},
   "outputs": [],
   "source": []
  }
 ]
}