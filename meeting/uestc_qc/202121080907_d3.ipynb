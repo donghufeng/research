{
 "cells": [
  {
   "cell_type": "markdown",
   "metadata": {},
   "source": [
    "# Day 3\n",
    "$$\n",
    "|\\psi_{2}\\rangle=\\frac{1}{\\sqrt{2^n}}\\sum\\nolimits_{x}(-1)^{f(x)}|x\\rangle\\left[\\frac{|0\\rangle-|1\\rangle}{\\sqrt{2}}\\right]\n",
    "$$\n",
    "怎么证明上面的一系列 CNOT 能够实现平衡函数的某一情况下的oracle？"
   ]
  },
  {
   "cell_type": "code",
   "execution_count": null,
   "metadata": {
    "tags": []
   },
   "outputs": [],
   "source": [
    "from mindquantum import Simulator, Circuit, X, H, BarrierGate, Measure\n",
    "import numpy as np\n",
    "\n",
    "n = 2\n",
    "\n",
    "circ = Circuit()\n",
    "circ += X.on(n)\n",
    "circ += BarrierGate(show=False)\n",
    "for i in range(n+1):\n",
    "    circ += H.on(i)\n",
    "for i in range(n):\n",
    "    circ += X.on(n, i)\n",
    "circ += BarrierGate(show=False)\n",
    "for i in range(n):\n",
    "    circ += H.on(i)\n",
    "print(\"circuit:\\n{}\".format(circ))\n",
    "print()\n",
    "\n",
    "sim = Simulator('projectq', n+1)\n",
    "sim.apply_circuit(circ)\n",
    "\n",
    "for i in range(n+1):\n",
    "    circ += Measure().on(i)\n",
    "\n",
    "\n",
    "def measure(input):\n",
    "    s0 = np.zeros(2**(n+1))\n",
    "    s0[input] = 1\n",
    "    sim.set_qs(s0)\n",
    "    print(\"input: {}\\n{}\".format(sim.get_qs(True), sim.sampling(circ, shots=2000)))\n",
    "    print()\n",
    "\n",
    "\n",
    "for i in range(2**(n+1)):\n",
    "    measure(i)\n"
   ]
  },
  {
   "cell_type": "code",
   "execution_count": null,
   "metadata": {},
   "outputs": [],
   "source": []
  }
 ],
 "metadata": {
  "kernelspec": {
   "display_name": "Python 3.7.5 64-bit",
   "language": "python",
   "name": "python37564bit60fe9020596549199db5095a8ade436d"
  },
  "language_info": {
   "codemirror_mode": {
    "name": "ipython",
    "version": 3
   },
   "file_extension": ".py",
   "mimetype": "text/x-python",
   "name": "python",
   "nbconvert_exporter": "python",
   "pygments_lexer": "ipython3",
   "version": "3.7.5-final"
  },
  "orig_nbformat": 2,
  "vscode": {
   "interpreter": {
    "hash": "e7370f93d1d0cde622a1f8e1c04877d8463912d04d973331ad4851f04de6915a"
   }
  }
 },
 "nbformat": 4,
 "nbformat_minor": 2
}