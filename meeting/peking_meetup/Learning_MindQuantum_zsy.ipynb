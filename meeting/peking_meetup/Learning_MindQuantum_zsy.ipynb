{
 "metadata": {
  "language_info": {
   "codemirror_mode": {
    "name": "ipython",
    "version": 3
   },
   "file_extension": ".py",
   "mimetype": "text/x-python",
   "name": "python",
   "nbconvert_exporter": "python",
   "pygments_lexer": "ipython3",
   "version": "3.7.5-final"
  },
  "orig_nbformat": 2,
  "kernelspec": {
   "name": "python37564bit878688879b454e2caa562fabe2b4afa8",
   "display_name": "Python 3.7.5 64-bit"
  }
 },
 "nbformat": 4,
 "nbformat_minor": 2,
 "cells": [
  {
   "cell_type": "code",
   "execution_count": 5,
   "metadata": {},
   "outputs": [],
   "source": [
    "from mindquantum import *\n",
    "import numpy as np"
   ]
  },
  {
   "cell_type": "code",
   "execution_count": 24,
   "metadata": {},
   "outputs": [
    {
     "output_type": "display_data",
     "data": {
      "text/plain": "",
      "text/html": "<pre style=\"white-space:pre;overflow-x:auto;line-height:normal;font-family:Menlo,'DejaVu Sans Mono',consolas,'Courier New',monospace\"></pre>\n"
     },
     "metadata": {}
    },
    {
     "output_type": "execute_result",
     "data": {
      "text/plain": "q0: ───────X──\n           │\nq1: ──H────●──",
      "text/html": "<pre style=\"white-space: pre;\"><span style=\"color: #000080; text-decoration-color: #000080; font-weight: bold\">q0: ───────X──</span>\n<span style=\"color: #000080; text-decoration-color: #000080; font-weight: bold\">           │</span>\n<span style=\"color: #000080; text-decoration-color: #000080; font-weight: bold\">q1: ──H────●──</span>\n</pre>\n"
     },
     "metadata": {},
     "execution_count": 24
    }
   ],
   "source": [
    "circuit = Circuit()\n",
    "circuit += H.on(1)\n",
    "circuit += X.on(0, [1])\n",
    "circuit"
   ]
  },
  {
   "cell_type": "code",
   "execution_count": 84,
   "metadata": {},
   "outputs": [],
   "source": [
    "sim = Simulator('projectq', 3)"
   ]
  },
  {
   "cell_type": "code",
   "execution_count": 92,
   "metadata": {},
   "outputs": [
    {
     "output_type": "execute_result",
     "data": {
      "text/plain": "projectq simulator with 3 qubits.\nCurrent quantum state:\n√2/4¦000⟩\n√2/4¦001⟩\n-√2/4¦010⟩\n-√2/4¦011⟩\n√2/4¦100⟩\n√2/4¦101⟩\n-√2/4¦110⟩\n-√2/4¦111⟩"
     },
     "metadata": {},
     "execution_count": 92
    }
   ],
   "source": [
    "sim.reset()\n",
    "sim.apply_circuit(Circuit(X.on(1)))\n",
    "H_n = Circuit()\n",
    "for i in range(3):\n",
    "    H_n += H.on(i)\n",
    "\n",
    "sim.apply_circuit(H_n)\n",
    "sim\n",
    "# sim.apply_circuit(qft([0, 1, 2]))\n",
    "sim"
   ]
  },
  {
   "cell_type": "code",
   "execution_count": null,
   "metadata": {},
   "outputs": [],
   "source": []
  }
 ]
}