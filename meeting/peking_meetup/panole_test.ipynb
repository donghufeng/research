{
 "metadata": {
  "language_info": {
   "codemirror_mode": {
    "name": "ipython",
    "version": 3
   },
   "file_extension": ".py",
   "mimetype": "text/x-python",
   "name": "python",
   "nbconvert_exporter": "python",
   "pygments_lexer": "ipython3",
   "version": "3.7.5-final"
  },
  "orig_nbformat": 2,
  "kernelspec": {
   "name": "python37564bit034f20e7f3074864958ff0f60fc9c051",
   "display_name": "Python 3.7.5 64-bit"
  }
 },
 "nbformat": 4,
 "nbformat_minor": 2,
 "cells": [
  {
   "source": [
    "from mindquantum import qft\n",
    "qft(range(3))\n"
   ],
   "cell_type": "code",
   "metadata": {},
   "execution_count": 3,
   "outputs": [
    {
     "output_type": "display_data",
     "data": {
      "text/plain": "",
      "text/html": "<pre style=\"white-space:pre;overflow-x:auto;line-height:normal;font-family:Menlo,'DejaVu Sans Mono',consolas,'Courier New',monospace\"></pre>\n"
     },
     "metadata": {}
    },
    {
     "output_type": "execute_result",
     "data": {
      "text/plain": "q0: ──H────PS(π/2)────PS(π/4)─────────────────────────@──\n              │          │                            │\nq1: ──────────●──────────┼───────H────PS(π/2)─────────┼──\n                         │               │            │\nq2: ─────────────────────●───────────────●───────H────@──",
      "text/html": "<pre style=\"white-space: pre;\"><span style=\"color: #000080; text-decoration-color: #000080; font-weight: bold\">q0: ──H────</span><span style=\"color: #800080; text-decoration-color: #800080; font-weight: bold\">PS</span><span style=\"color: #000080; text-decoration-color: #000080; font-weight: bold\">(π/</span><span style=\"color: #008080; text-decoration-color: #008080; font-weight: bold\">2</span><span style=\"color: #000080; text-decoration-color: #000080; font-weight: bold\">)────</span><span style=\"color: #800080; text-decoration-color: #800080; font-weight: bold\">PS</span><span style=\"color: #000080; text-decoration-color: #000080; font-weight: bold\">(π/</span><span style=\"color: #008080; text-decoration-color: #008080; font-weight: bold\">4</span><span style=\"color: #000080; text-decoration-color: #000080; font-weight: bold\">)─────────────────────────@──</span>\n<span style=\"color: #000080; text-decoration-color: #000080; font-weight: bold\">              │          │                            │</span>\n<span style=\"color: #000080; text-decoration-color: #000080; font-weight: bold\">q1: ──────────●──────────┼───────H────</span><span style=\"color: #800080; text-decoration-color: #800080; font-weight: bold\">PS</span><span style=\"color: #000080; text-decoration-color: #000080; font-weight: bold\">(π/</span><span style=\"color: #008080; text-decoration-color: #008080; font-weight: bold\">2</span><span style=\"color: #000080; text-decoration-color: #000080; font-weight: bold\">)─────────┼──</span>\n<span style=\"color: #000080; text-decoration-color: #000080; font-weight: bold\">                         │               │            │</span>\n<span style=\"color: #000080; text-decoration-color: #000080; font-weight: bold\">q2: ─────────────────────●───────────────●───────H────@──</span>\n</pre>\n"
     },
     "metadata": {},
     "execution_count": 3
    }
   ]
  },
  {
   "cell_type": "code",
   "execution_count": null,
   "metadata": {},
   "outputs": [],
   "source": []
  }
 ]
}