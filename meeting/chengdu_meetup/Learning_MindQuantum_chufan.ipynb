{
 "metadata": {
  "language_info": {
   "codemirror_mode": {
    "name": "ipython",
    "version": 3
   },
   "file_extension": ".py",
   "mimetype": "text/x-python",
   "name": "python",
   "nbconvert_exporter": "python",
   "pygments_lexer": "ipython3",
   "version": "3.7.5-final"
  },
  "orig_nbformat": 2,
  "kernelspec": {
   "name": "python36964bit3c9c8547fb46424fb8e95bcae432db59",
   "display_name": "Python 3.6.9 64-bit"
  }
 },
 "nbformat": 4,
 "nbformat_minor": 2,
 "cells": [
  {
   "cell_type": "code",
   "execution_count": 2,
   "metadata": {},
   "outputs": [],
   "source": [
    "import os \n",
    "os.environ['OMP_NUM_THREADS'] = '1'"
   ]
  },
  {
   "cell_type": "code",
   "execution_count": 4,
   "metadata": {},
   "outputs": [],
   "source": [
    "from mindquantum import H, Hamiltonian, X, Z, RX, RY, RZ, Circuit\n",
    "import mindquantum as mq\n",
    "import numpy as np"
   ]
  },
  {
   "cell_type": "code",
   "execution_count": 8,
   "metadata": {},
   "outputs": [
    {
     "output_type": "execute_result",
     "data": {
      "text/plain": "array([[ 0.70710678,  0.70710678],\n       [ 0.70710678, -0.70710678]])"
     },
     "metadata": {},
     "execution_count": 8
    }
   ],
   "source": [
    "H.matrix()"
   ]
  },
  {
   "cell_type": "code",
   "execution_count": 9,
   "metadata": {},
   "outputs": [
    {
     "output_type": "display_data",
     "data": {
      "text/plain": "",
      "text/html": "<pre style=\"white-space:pre;overflow-x:auto;line-height:normal;font-family:Menlo,'DejaVu Sans Mono',consolas,'Courier New',monospace\"></pre>\n"
     },
     "metadata": {}
    },
    {
     "output_type": "execute_result",
     "data": {
      "text/plain": "q0: ──H────●──\n           │  \nq1: ───────X──",
      "text/html": "<pre style=\"white-space: pre;\"><span style=\"color: #000080; text-decoration-color: #000080; font-weight: bold\">q0: ──H────●──</span>\n<span style=\"color: #000080; text-decoration-color: #000080; font-weight: bold\">           │  </span>\n<span style=\"color: #000080; text-decoration-color: #000080; font-weight: bold\">q1: ───────X──</span>\n</pre>\n"
     },
     "metadata": {},
     "execution_count": 9
    }
   ],
   "source": [
    "circ = Circuit([H.on(0), X.on(1, 0)])\n",
    "circ"
   ]
  },
  {
   "cell_type": "code",
   "execution_count": 10,
   "metadata": {},
   "outputs": [
    {
     "output_type": "display_data",
     "data": {
      "text/plain": "",
      "text/html": "<pre style=\"white-space:pre;overflow-x:auto;line-height:normal;font-family:Menlo,'DejaVu Sans Mono',consolas,'Courier New',monospace\"></pre>\n"
     },
     "metadata": {}
    },
    {
     "output_type": "execute_result",
     "data": {
      "text/plain": "q0: ──H────●────H────PS(π/2)────PS(π/4)─────────────────────────@──\n           │            │          │                            │  \nq1: ───────X────────────●──────────┼───────H────PS(π/2)─────────┼──\n                                   │               │            │  \nq2: ───────────────────────────────●───────────────●───────H────@──",
      "text/html": "<pre style=\"white-space: pre;\"><span style=\"color: #000080; text-decoration-color: #000080; font-weight: bold\">q0: ──H────●────H────</span><span style=\"color: #800080; text-decoration-color: #800080; font-weight: bold\">PS</span><span style=\"color: #000080; text-decoration-color: #000080; font-weight: bold\">(π/</span><span style=\"color: #008080; text-decoration-color: #008080; font-weight: bold\">2</span><span style=\"color: #000080; text-decoration-color: #000080; font-weight: bold\">)────</span><span style=\"color: #800080; text-decoration-color: #800080; font-weight: bold\">PS</span><span style=\"color: #000080; text-decoration-color: #000080; font-weight: bold\">(π/</span><span style=\"color: #008080; text-decoration-color: #008080; font-weight: bold\">4</span><span style=\"color: #000080; text-decoration-color: #000080; font-weight: bold\">)─────────────────────────@──</span>\n<span style=\"color: #000080; text-decoration-color: #000080; font-weight: bold\">           │            │          │                            │  </span>\n<span style=\"color: #000080; text-decoration-color: #000080; font-weight: bold\">q1: ───────X────────────●──────────┼───────H────</span><span style=\"color: #800080; text-decoration-color: #800080; font-weight: bold\">PS</span><span style=\"color: #000080; text-decoration-color: #000080; font-weight: bold\">(π/</span><span style=\"color: #008080; text-decoration-color: #008080; font-weight: bold\">2</span><span style=\"color: #000080; text-decoration-color: #000080; font-weight: bold\">)─────────┼──</span>\n<span style=\"color: #000080; text-decoration-color: #000080; font-weight: bold\">                                   │               │            │  </span>\n<span style=\"color: #000080; text-decoration-color: #000080; font-weight: bold\">q2: ───────────────────────────────●───────────────●───────H────@──</span>\n</pre>\n"
     },
     "metadata": {},
     "execution_count": 10
    }
   ],
   "source": [
    "circ += mq.qft([0, 1, 2])\n",
    "circ"
   ]
  },
  {
   "cell_type": "code",
   "execution_count": 12,
   "metadata": {},
   "outputs": [],
   "source": [
    "circ += mq.ZZ('theta').on([0, 1])"
   ]
  },
  {
   "cell_type": "code",
   "execution_count": 13,
   "metadata": {},
   "outputs": [
    {
     "output_type": "display_data",
     "data": {
      "text/plain": "",
      "text/html": "<pre style=\"white-space:pre;overflow-x:auto;line-height:normal;font-family:Menlo,'DejaVu Sans Mono',consolas,'Courier New',monospace\"></pre>\n"
     },
     "metadata": {}
    },
    {
     "output_type": "execute_result",
     "data": {
      "text/plain": "q0: ──H────●────H────PS(π/2)────PS(π/4)─────────────────────────@────ZZ(theta)──\n           │            │          │                            │        │      \nq1: ───────X────────────●──────────┼───────H────PS(π/2)─────────┼────ZZ(theta)──\n                                   │               │            │               \nq2: ───────────────────────────────●───────────────●───────H────@───────────────",
      "text/html": "<pre style=\"white-space: pre;\"><span style=\"color: #000080; text-decoration-color: #000080; font-weight: bold\">q0: ──H────●────H────</span><span style=\"color: #800080; text-decoration-color: #800080; font-weight: bold\">PS</span><span style=\"color: #000080; text-decoration-color: #000080; font-weight: bold\">(π/</span><span style=\"color: #008080; text-decoration-color: #008080; font-weight: bold\">2</span><span style=\"color: #000080; text-decoration-color: #000080; font-weight: bold\">)────</span><span style=\"color: #800080; text-decoration-color: #800080; font-weight: bold\">PS</span><span style=\"color: #000080; text-decoration-color: #000080; font-weight: bold\">(π/</span><span style=\"color: #008080; text-decoration-color: #008080; font-weight: bold\">4</span><span style=\"color: #000080; text-decoration-color: #000080; font-weight: bold\">)─────────────────────────@────</span><span style=\"color: #800080; text-decoration-color: #800080; font-weight: bold\">ZZ</span><span style=\"color: #000080; text-decoration-color: #000080; font-weight: bold\">(theta)──</span>\n<span style=\"color: #000080; text-decoration-color: #000080; font-weight: bold\">           │            │          │                            │        │      </span>\n<span style=\"color: #000080; text-decoration-color: #000080; font-weight: bold\">q1: ───────X────────────●──────────┼───────H────</span><span style=\"color: #800080; text-decoration-color: #800080; font-weight: bold\">PS</span><span style=\"color: #000080; text-decoration-color: #000080; font-weight: bold\">(π/</span><span style=\"color: #008080; text-decoration-color: #008080; font-weight: bold\">2</span><span style=\"color: #000080; text-decoration-color: #000080; font-weight: bold\">)─────────┼────</span><span style=\"color: #800080; text-decoration-color: #800080; font-weight: bold\">ZZ</span><span style=\"color: #000080; text-decoration-color: #000080; font-weight: bold\">(theta)──</span>\n<span style=\"color: #000080; text-decoration-color: #000080; font-weight: bold\">                                   │               │            │               </span>\n<span style=\"color: #000080; text-decoration-color: #000080; font-weight: bold\">q2: ───────────────────────────────●───────────────●───────H────@───────────────</span>\n</pre>\n"
     },
     "metadata": {},
     "execution_count": 13
    }
   ],
   "source": [
    "circ"
   ]
  },
  {
   "cell_type": "code",
   "execution_count": 25,
   "metadata": {},
   "outputs": [],
   "source": [
    "sim = mq.Simulator('projectq', 3)"
   ]
  },
  {
   "cell_type": "code",
   "execution_count": 26,
   "metadata": {},
   "outputs": [
    {
     "output_type": "execute_result",
     "data": {
      "text/plain": "projectq simulator with 3 qubits.\nCurrent quantum state:\n1¦000⟩"
     },
     "metadata": {},
     "execution_count": 26
    }
   ],
   "source": [
    "circ = Circuit()\n",
    "for i in range(3):\n",
    "    circ += mq.H(i)\n",
    "\n",
    "circ += mq.qft(range(3))\n",
    "sim.apply_circuit(circ)\n",
    "sim"
   ]
  },
  {
   "cell_type": "code",
   "execution_count": 5,
   "metadata": {},
   "outputs": [],
   "source": [
    "enconder = Circuit()\n",
    "enconder += H.on(0)\n",
    "enconder += RX('alpha0').on(0)\n",
    "enconder += RY('alpha1').on(0)\n",
    "enconder += RZ('alpha2').on(0)"
   ]
  },
  {
   "cell_type": "code",
   "execution_count": 8,
   "metadata": {},
   "outputs": [
    {
     "output_type": "execute_result",
     "data": {
      "text/plain": "'(0.6203638230723639-0.1257539726032947j)¦0⟩\\n(0.7702994677056821+0.07728774449984671j)¦1⟩'"
     },
     "metadata": {},
     "execution_count": 8
    }
   ],
   "source": [
    "enconder.get_qs('projectq', {'alpha0': 0.1, 'alpha1': 0.2, 'alpha2': 0.3}, ket=True)"
   ]
  },
  {
   "cell_type": "code",
   "execution_count": 9,
   "metadata": {},
   "outputs": [],
   "source": [
    "ansatz = Circuit()\n",
    "ansatz += RX('theta0').on(0)\n",
    "ansatz += RY('theta1').on(0)"
   ]
  },
  {
   "cell_type": "code",
   "execution_count": 12,
   "metadata": {},
   "outputs": [
    {
     "output_type": "display_data",
     "data": {
      "text/plain": "",
      "text/html": "<pre style=\"white-space:pre;overflow-x:auto;line-height:normal;font-family:Menlo,'DejaVu Sans Mono',consolas,'Courier New',monospace\"></pre>\n"
     },
     "metadata": {}
    },
    {
     "output_type": "execute_result",
     "data": {
      "text/plain": "q0: ──H────RX(alpha0)────RY(alpha1)────RZ(alpha2)────RX(theta0)────RY(theta1)──",
      "text/html": "<pre style=\"white-space: pre;\"><span style=\"color: #000080; text-decoration-color: #000080; font-weight: bold\">q0: ──H────</span><span style=\"color: #800080; text-decoration-color: #800080; font-weight: bold\">RX</span><span style=\"color: #000080; text-decoration-color: #000080; font-weight: bold\">(alpha0)────</span><span style=\"color: #800080; text-decoration-color: #800080; font-weight: bold\">RY</span><span style=\"color: #000080; text-decoration-color: #000080; font-weight: bold\">(alpha1)────</span><span style=\"color: #800080; text-decoration-color: #800080; font-weight: bold\">RZ</span><span style=\"color: #000080; text-decoration-color: #000080; font-weight: bold\">(alpha2)────</span><span style=\"color: #800080; text-decoration-color: #800080; font-weight: bold\">RX</span><span style=\"color: #000080; text-decoration-color: #000080; font-weight: bold\">(theta0)────</span><span style=\"color: #800080; text-decoration-color: #800080; font-weight: bold\">RY</span><span style=\"color: #000080; text-decoration-color: #000080; font-weight: bold\">(theta1)──</span>\n</pre>\n"
     },
     "metadata": {},
     "execution_count": 12
    }
   ],
   "source": [
    "circ = enconder + ansatz\n",
    "circ"
   ]
  },
  {
   "cell_type": "code",
   "execution_count": 14,
   "metadata": {},
   "outputs": [
    {
     "output_type": "execute_result",
     "data": {
      "text/plain": "projectq simulator with 1 qubit.\nCurrent quantum state:\n1¦0⟩"
     },
     "metadata": {},
     "execution_count": 14
    }
   ],
   "source": [
    "sim = mq.Simulator('projectq', circ.n_qubits)\n",
    "sim"
   ]
  },
  {
   "cell_type": "code",
   "execution_count": 17,
   "metadata": {},
   "outputs": [],
   "source": [
    "ham = Hamiltonian(-mq.QubitOperator('Z0'))"
   ]
  },
  {
   "cell_type": "code",
   "execution_count": null,
   "metadata": {},
   "outputs": [],
   "source": []
  }
 ]
}