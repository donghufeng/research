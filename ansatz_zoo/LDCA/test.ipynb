{
 "cells": [
  {
   "cell_type": "code",
   "execution_count": 1,
   "metadata": {},
   "outputs": [
    {
     "name": "stdout",
     "output_type": "stream",
     "text": [
      "q0: ──XX(a)──\n",
      "        │\n",
      "q1: ──XX(a)──\n",
      "        │\n",
      "q2: ────●────\n"
     ]
    }
   ],
   "source": [
    "from mindquantum.core.gates import RX, XX\n",
    "from mindquantum.core.circuit import Circuit\n",
    "\n",
    "circ = Circuit()\n",
    "circ += XX('a').on([0, 1], 2)\n",
    "\n",
    "print(circ)"
   ]
  },
  {
   "cell_type": "markdown",
   "metadata": {},
   "source": [
    "$$\n",
    "\\begin{align*}\n",
    "R_{ij}^{\\sigma_a \\sigma_b} & = \n",
    "e^{-i\\theta \\sigma_a^i \\otimes \\sigma_b^j} \\\\\n",
    "& = \\cos(\\theta) I^i\\otimes I^j - i \\sin(\\theta) \\sigma_a^i\\otimes \\sigma_b^j\n",
    "\\end{align*}\n",
    "$$"
   ]
  },
  {
   "cell_type": "code",
   "execution_count": 2,
   "metadata": {},
   "outputs": [
    {
     "name": "stdout",
     "output_type": "stream",
     "text": [
      "q2: ─────H───────●───────────────────●───────H──────\n",
      "                 │                   │\n",
      "q5: ──RX(π/2)────X────RZ(4*alpha)────X────RX(7π/2)──\n"
     ]
    }
   ],
   "source": [
    "from mindquantum.core.operators import QubitOperator\n",
    "from mindquantum.core.operators import TimeEvolution\n",
    "from mindquantum.core.circuit import apply\n",
    "\n",
    "# X_i Y_j(alpha)\n",
    "\n",
    "a = QubitOperator(\"X0 Y1\", {\"alpha\": 2})\n",
    "u = TimeEvolution(a).circuit\n",
    "circ = apply(u, [2, 5])\n",
    "print(circ)"
   ]
  },
  {
   "cell_type": "code",
   "execution_count": 3,
   "metadata": {},
   "outputs": [],
   "source": [
    "def R_i_j_a_b(i: int, j: int, sigma1: str, sigma2: str, pr):\n",
    "    from mindquantum.core.operators import QubitOperator, TimeEvolution\n",
    "    from mindquantum.core.circuit import apply\n",
    "\n",
    "    if sigma1 not in \"XYZ\" or sigma2 not in \"XYZ\":\n",
    "        raise ValueError\n",
    "    op = QubitOperator(f\"{sigma1}0 {sigma2}1\", pr)\n",
    "    u = TimeEvolution(op).circuit\n",
    "    circ = apply(u, [i, j])\n",
    "    return circ"
   ]
  },
  {
   "cell_type": "code",
   "execution_count": 4,
   "metadata": {},
   "outputs": [],
   "source": [
    "def r_double_gate(i: int, j: int, name: str):\n",
    "    sign = 1\n",
    "    if name[0] == \"-\":\n",
    "        sign = -1\n",
    "        name = name[1:]\n",
    "    return R_i_j_a_b(i, j, name[0], name[1], {name : sign})"
   ]
  },
  {
   "cell_type": "markdown",
   "metadata": {},
   "source": [
    "## Bogoliubov Transformation\n",
    "\n",
    "![Bob](./imag/Bob.png)\n",
    "\n",
    "$$\n",
    "\\begin{align}\n",
    "R_{ij}^{-YX(k)} & = \n",
    "e^{-i\\theta_{ij}^{AA(k)}\\sigma_y^i \\otimes \\sigma_x^j} \\\\\n",
    "\n",
    "R_{ij}^{XY(k)} & = \n",
    "e^{i\\theta_{ij}^{BB(k)}\\sigma_x^i \\otimes \\sigma_y^j} \\\\\n",
    "\n",
    "R_{ij}^{-YY(k)} & = \n",
    "e^{-i\\theta_{ij}^{AB(k)}\\sigma_y^i \\otimes \\sigma_y^j} \\\\\n",
    "\n",
    "R_{ij}^{XX(k)} & = \n",
    "e^{i\\theta_{ij}^{BA(k)}\\sigma_x^i \\otimes \\sigma_x^j} \\\\\n",
    "\\end{align}\n",
    "$$\n"
   ]
  },
  {
   "cell_type": "code",
   "execution_count": 5,
   "metadata": {},
   "outputs": [],
   "source": [
    "def G_i_j_k(i: int, j: int, k: int):\n",
    "    from mindquantum.core.circuit import Circuit\n",
    "    circ = Circuit()\n",
    "    circ += r_double_gate(i, j, f\"-YX({k})\")\n",
    "    circ += r_double_gate(i, j, f\"XY({k})\")\n",
    "    circ += r_double_gate(i, j, f\"-YY({k})\")\n",
    "    circ += r_double_gate(i, j, f\"XX({k})\")\n",
    "    return circ"
   ]
  },
  {
   "cell_type": "code",
   "execution_count": 6,
   "metadata": {},
   "outputs": [],
   "source": [
    "def U_MG_k(n_qubits: int, k: int):\n",
    "    from mindquantum.core.circuit import Circuit\n",
    "    circ = Circuit()\n",
    "    for i in range(n_qubits // 2):\n",
    "        circ += G_i_j_k(2 * i, 2 * i + 1, k)\n",
    "    for i in range(n_qubits // 2 - 1):\n",
    "        circ += G_i_j_k(2 * i + 1, 2 * i + 2, k)\n",
    "    return circ"
   ]
  },
  {
   "cell_type": "code",
   "execution_count": 7,
   "metadata": {},
   "outputs": [],
   "source": [
    "def U_MG_NN(n_qubits: int):\n",
    "    from mindquantum.core.circuit import Circuit\n",
    "    circ = Circuit()\n",
    "    for k in range(n_qubits // 2):\n",
    "        circ += U_MG_k(n_qubits, k)\n",
    "    return circ"
   ]
  },
  {
   "cell_type": "code",
   "execution_count": 8,
   "metadata": {},
   "outputs": [],
   "source": [
    "def U_Bog(n_qubits: int):\n",
    "    from mindquantum.core.gates import RZ\n",
    "    from mindquantum.core.circuit import Circuit\n",
    "    circ = Circuit()\n",
    "    for i in range(n_qubits):\n",
    "        circ += RZ(f\"theta_{i}^AB\").on(i)\n",
    "    circ += U_MG_NN(n_qubits)\n",
    "    return circ"
   ]
  },
  {
   "cell_type": "markdown",
   "metadata": {},
   "source": [
    "## Low-depth Circuit Ansatz\n",
    "\n",
    "![LDCA](./imag/LDCA.png)\n",
    "\n",
    "\n",
    "$$\n",
    "\\begin{align*}\n",
    "R_{ij}^{-YX(k,l)} & = \n",
    "e^{-i\\theta_{ij}^{-YX(k,l)}\\sigma_y^i\\otimes \\sigma_x^j} \\\\\n",
    "\n",
    "R_{ij}^{XY(k,l)} & = \n",
    "e^{i\\theta_{ij}^{XY(k,l)}\\sigma_x^i\\otimes \\sigma_y^j} \\\\\n",
    "\n",
    "R_{ij}^{ZZ(k,l)} & = \n",
    "e^{i\\theta_{ij}^{ZZ(k,l)}\\sigma_z^i\\otimes \\sigma_z^j} \\\\\n",
    "\n",
    "R_{ij}^{-YY(k,l)} & = \n",
    "e^{-i\\theta_{ij}^{-YY(k,l)}\\sigma_y^i\\otimes \\sigma_y^j} \\\\\n",
    "\n",
    "R_{ij}^{XX(k,l)} & = \n",
    "e^{i\\theta_{ij}^{XX(k,l)}\\sigma_x^i\\otimes \\sigma_x^j} \\\\\n",
    "\\end{align*}\n",
    "$$"
   ]
  },
  {
   "cell_type": "code",
   "execution_count": 9,
   "metadata": {},
   "outputs": [],
   "source": [
    "def K_i_j_k_l(i: int, j: int, k: int, l: int):\n",
    "    from mindquantum.core.circuit import Circuit\n",
    "    circ = Circuit()\n",
    "    circ += r_double_gate(i, j, f\"-YX({k},{l})\")\n",
    "    circ += r_double_gate(i, j, f\"XY({k},{l})\")\n",
    "    circ += r_double_gate(i, j, f\"ZZ({k},{l})\")\n",
    "    circ += r_double_gate(i, j, f\"-YY({k},{l})\")\n",
    "    circ += r_double_gate(i, j, f\"XX({k},{l})\")\n",
    "    return circ"
   ]
  },
  {
   "cell_type": "code",
   "execution_count": 10,
   "metadata": {},
   "outputs": [],
   "source": [
    "def U_VarMG_k_l(n_qubits: int, k: int, l: int):\n",
    "    from mindquantum.core.circuit import Circuit\n",
    "    circ = Circuit()\n",
    "    for i in range(n_qubits // 2):\n",
    "        circ += K_i_j_k_l(2 * i, 2 * i + 1, k, l)\n",
    "    for i in range(n_qubits // 2 - 1):\n",
    "        circ += K_i_j_k_l(2 * i + 1, 2 * i + 2, k, l)\n",
    "    return circ"
   ]
  },
  {
   "cell_type": "code",
   "execution_count": 11,
   "metadata": {},
   "outputs": [],
   "source": [
    "def U_VarMG_l(n_qubits: int, l: int):\n",
    "    from mindquantum.core.circuit import Circuit\n",
    "    circ = Circuit()\n",
    "    for k in range(n_qubits // 2):\n",
    "        circ += U_VarMG_k_l(n_qubits, k, l)\n",
    "    return circ"
   ]
  },
  {
   "cell_type": "code",
   "execution_count": 12,
   "metadata": {},
   "outputs": [],
   "source": [
    "def U_VarMG(n_qubits: int, L: int):\n",
    "    from mindquantum.core.gates import RZ\n",
    "    from mindquantum.core.circuit import Circuit\n",
    "    circ = Circuit()\n",
    "    for i in range(n_qubits):\n",
    "        circ += RZ(f\"theta_{i}^Z\").on(i)\n",
    "    for l in range(L):\n",
    "        circ += U_VarMG_l(n_qubits, l)\n",
    "    return circ"
   ]
  },
  {
   "cell_type": "code",
   "execution_count": 13,
   "metadata": {},
   "outputs": [],
   "source": [
    "def LDCA(n_qubits: int, L: int):\n",
    "    from mindquantum.core.gates import X \n",
    "    from mindquantum.core.circuit import Circuit\n",
    "    circ = Circuit()\n",
    "    for i in range(n_qubits):\n",
    "        circ += X.on(i)\n",
    "    circ += U_VarMG(n_qubits, L)\n",
    "    circ += U_Bog(n_qubits).hermitian()\n",
    "    return circ"
   ]
  },
  {
   "cell_type": "code",
   "execution_count": 14,
   "metadata": {},
   "outputs": [
    {
     "name": "stdout",
     "output_type": "stream",
     "text": [
      "============================================================Circuit Summary============================================================\n",
      "|Total number of gates  : 4112.                                                                                                       |\n",
      "|Parameter gates        : 408.                                                                                                        |\n",
      "|with 72 parameters are : theta_0^Z, theta_1^Z, theta_2^Z, theta_3^Z, theta_4^Z, theta_5^Z, theta_6^Z, theta_7^Z, YX(0,0), XY(0,0)... |\n",
      "|Number qubit of circuit: 8                                                                                                           |\n",
      "=======================================================================================================================================\n"
     ]
    }
   ],
   "source": [
    "circ = LDCA(8, 2)\n",
    "circ.summary()"
   ]
  },
  {
   "cell_type": "code",
   "execution_count": 15,
   "metadata": {},
   "outputs": [
    {
     "name": "stdout",
     "output_type": "stream",
     "text": [
      "========================================================Circuit Summary========================================================\n",
      "|Total number of gates  : 888.                                                                                                |\n",
      "|Parameter gates        : 92.                                                                                                 |\n",
      "|with 36 parameters are : theta_0^Z, theta_1^Z, theta_2^Z, theta_3^Z, YX(0,0), XY(0,0), ZZ(0,0), YY(0,0), XX(0,0), YX(1,0)... |\n",
      "|Number qubit of circuit: 4                                                                                                   |\n",
      "===============================================================================================================================\n"
     ]
    }
   ],
   "source": [
    "circ = LDCA(4, 2)\n",
    "circ.summary()"
   ]
  }
 ],
 "metadata": {
  "kernelspec": {
   "display_name": "Python 3.7.5 64-bit ('3.7.5')",
   "language": "python",
   "name": "python3"
  },
  "language_info": {
   "codemirror_mode": {
    "name": "ipython",
    "version": 3
   },
   "file_extension": ".py",
   "mimetype": "text/x-python",
   "name": "python",
   "nbconvert_exporter": "python",
   "pygments_lexer": "ipython3",
   "version": "3.7.5"
  },
  "orig_nbformat": 4,
  "vscode": {
   "interpreter": {
    "hash": "fe23db6dbd04142dcf620a84033ad5fbdd1968100e6cb68cefa531a9613914d5"
   }
  }
 },
 "nbformat": 4,
 "nbformat_minor": 2
}
