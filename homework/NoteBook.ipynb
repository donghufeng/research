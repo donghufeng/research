{
 "metadata": {
  "language_info": {
   "codemirror_mode": {
    "name": "ipython",
    "version": 3
   },
   "file_extension": ".py",
   "mimetype": "text/x-python",
   "name": "python",
   "nbconvert_exporter": "python",
   "pygments_lexer": "ipython3",
   "version": "3.7.5-final"
  },
  "orig_nbformat": 2,
  "kernelspec": {
   "name": "python37564bite232031af43b4e5aa936fb4f3dfe6a47",
   "display_name": "Python 3.7.5 64-bit"
  }
 },
 "nbformat": 4,
 "nbformat_minor": 2,
 "cells": [
  {
   "cell_type": "code",
   "execution_count": 6,
   "metadata": {},
   "outputs": [],
   "source": [
    "import numpy as np                                    # 导入numpy库并简写为np\n",
    "from mindquantum.core import X, Y, Z, H, RX, RY, RZ   # 导入量子门H, X, Y, Z, RX, RY, RZ"
   ]
  },
  {
   "cell_type": "code",
   "execution_count": 7,
   "metadata": {
    "tags": []
   },
   "outputs": [
    {
     "output_type": "stream",
     "name": "stdout",
     "text": "Gate name: X\nGate name: Y\nGate name: Z\nGate name: H\nX(0 <-: 1)\nGate name: RX(theta)\nGate name: RY(theta)\nGate name: RZ(theta)\n"
    },
    {
     "output_type": "execute_result",
     "data": {
      "text/plain": "array([[-0.-1.j,  0.+0.j],\n       [ 0.+0.j, -0.+1.j]])"
     },
     "metadata": {},
     "execution_count": 7
    }
   ],
   "source": [
    "print('Gate name:', X)\n",
    "X.matrix()\n",
    "print('Gate name:', Y)\n",
    "Y.matrix()\n",
    "print('Gate name:', Z)\n",
    "Z.matrix()\n",
    "print('Gate name:', H)\n",
    "H.matrix()\n",
    "cnot = X.on(0, 1)   # X门作用在第0位量子比特且受第1位量子比特控制\n",
    "print(cnot)\n",
    "rx = RX('theta')\n",
    "print('Gate name:', rx)\n",
    "rx.matrix({'theta': 0})   # 赋予theta的值为0\n",
    "ry = RY('theta')\n",
    "print('Gate name:', ry)\n",
    "ry.matrix({'theta': np.pi/2})   # pi需要从np中导入，赋予theta的值为pi/2\n",
    "rz = RZ('theta')\n",
    "print('Gate name:', rz)\n",
    "np.round(rz.matrix({'theta': np.pi}))   # 赋予theta的值为pi，由于计算机中存在浮点数不精确的问题，因此通过函数np.round返回浮点数的四舍五入"
   ]
  },
  {
   "cell_type": "code",
   "execution_count": null,
   "metadata": {},
   "outputs": [],
   "source": [
    "from mindquantum.core import Circuit     # 导入Circuit模块，用于搭建量子线路\n",
    "\n",
    "encoder = Circuit()                      # 初始化量子线路\n",
    "encoder += H.on(0)                       # H门作用在第0位量子比特\n",
    "encoder += X.on(1, 0)                    # X门作用在第1位量子比特且受第0位量子比特控制\n",
    "encoder += RY('theta').on(2)             # RY(theta)门作用在第2位量子比特\n",
    "\n",
    "print(encoder)                           # 打印Encoder\n",
    "encoder.summary()                        # 总结Encoder量子线路"
   ]
  }
 ]
}